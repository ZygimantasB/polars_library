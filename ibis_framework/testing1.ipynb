{
 "cells": [
  {
   "cell_type": "code",
   "id": "initial_id",
   "metadata": {
    "collapsed": true,
    "ExecuteTime": {
     "end_time": "2024-12-28T07:51:15.281265Z",
     "start_time": "2024-12-28T07:51:15.278840Z"
    }
   },
   "source": [
    "import ibis\n",
    "import os"
   ],
   "outputs": [],
   "execution_count": 12
  },
  {
   "metadata": {
    "ExecuteTime": {
     "end_time": "2024-12-28T07:51:15.546693Z",
     "start_time": "2024-12-28T07:51:15.544178Z"
    }
   },
   "cell_type": "code",
   "outputs": [],
   "execution_count": 13,
   "source": "csv_path = r\"C:\\Users\\Zygim\\Downloads\\archive (12)\\invesment_in_building_construction.csv\"",
   "id": "df1b12bbc253eeea"
  },
  {
   "metadata": {
    "ExecuteTime": {
     "end_time": "2024-12-28T07:51:15.843533Z",
     "start_time": "2024-12-28T07:51:15.840334Z"
    }
   },
   "cell_type": "code",
   "source": "db_path = r\"C:\\Users\\Zygim\\Downloads\\archive (12)\\investment_data.duckdb\"",
   "id": "edc322c49527f7cf",
   "outputs": [],
   "execution_count": 14
  },
  {
   "metadata": {
    "ExecuteTime": {
     "end_time": "2024-12-28T07:45:48.428621Z",
     "start_time": "2024-12-28T07:45:48.413509Z"
    }
   },
   "cell_type": "code",
   "source": [
    "if not os.path.exists(db_path):\n",
    "    con = ibis.duckdb.connect(database=db_path)\n",
    "    print(f\"Created new DuckDB database at {db_path}\")\n",
    "else:\n",
    "    con = ibis.duckdb.connect(database=db_path)\n",
    "    print(f\"Connected to existing DuckDB database at {db_path}\")"
   ],
   "id": "b54339034cedc29e",
   "outputs": [],
   "execution_count": 5
  },
  {
   "metadata": {
    "ExecuteTime": {
     "end_time": "2024-12-28T07:47:12.027113Z",
     "start_time": "2024-12-28T07:47:12.024467Z"
    }
   },
   "cell_type": "code",
   "source": [
    "create_table_query = f\"\"\"\n",
    "    CREATE TABLE investment AS\n",
    "    SELECT * FROM read_csv_auto('{csv_path}')\n",
    "\"\"\""
   ],
   "id": "21bce35906eeb565",
   "outputs": [],
   "execution_count": 6
  },
  {
   "metadata": {
    "ExecuteTime": {
     "end_time": "2024-12-28T07:47:20.838190Z",
     "start_time": "2024-12-28T07:47:19.069687Z"
    }
   },
   "cell_type": "code",
   "source": "con.raw_sql(create_table_query)",
   "id": "6f85f47ba41280f7",
   "outputs": [
    {
     "data": {
      "text/plain": [
       "<duckdb.duckdb.DuckDBPyConnection at 0x229b10f1b70>"
      ]
     },
     "execution_count": 7,
     "metadata": {},
     "output_type": "execute_result"
    }
   ],
   "execution_count": 7
  },
  {
   "metadata": {
    "ExecuteTime": {
     "end_time": "2024-12-28T07:47:28.307048Z",
     "start_time": "2024-12-28T07:47:28.278671Z"
    }
   },
   "cell_type": "code",
   "source": "investment_table = con.table('investment')",
   "id": "e206091c9e699000",
   "outputs": [],
   "execution_count": 8
  },
  {
   "metadata": {
    "ExecuteTime": {
     "end_time": "2024-12-28T07:51:44.347229Z",
     "start_time": "2024-12-28T07:51:44.342224Z"
    }
   },
   "cell_type": "code",
   "source": "investment_table",
   "id": "5ee1ee5e137b92d0",
   "outputs": [
    {
     "data": {
      "text/plain": [
       "DatabaseTable: investment\n",
       "  REF_DATE          string\n",
       "  GEO               string\n",
       "  DGUID             string\n",
       "  Type of structure string\n",
       "  Type of work      string\n",
       "  Investment Value  string\n",
       "  UOM               string\n",
       "  UOM_ID            int64\n",
       "  SCALAR_FACTOR     string\n",
       "  SCALAR_ID         int64\n",
       "  VECTOR            string\n",
       "  COORDINATE        string\n",
       "  VALUE             int64\n",
       "  STATUS            string\n",
       "  SYMBOL            string\n",
       "  TERMINATED        string\n",
       "  DECIMALS          int64"
      ],
      "text/html": [
       "<pre style=\"white-space:pre;overflow-x:auto;line-height:normal;font-family:Menlo,'DejaVu Sans Mono',consolas,'Courier New',monospace\">DatabaseTable: investment\n",
       "  REF_DATE          string\n",
       "  GEO               string\n",
       "  DGUID             string\n",
       "  Type of structure string\n",
       "  Type of work      string\n",
       "  Investment Value  string\n",
       "  UOM               string\n",
       "  UOM_ID            int64\n",
       "  SCALAR_FACTOR     string\n",
       "  SCALAR_ID         int64\n",
       "  VECTOR            string\n",
       "  COORDINATE        string\n",
       "  VALUE             int64\n",
       "  STATUS            string\n",
       "  SYMBOL            string\n",
       "  TERMINATED        string\n",
       "  DECIMALS          int64\n",
       "</pre>\n"
      ]
     },
     "execution_count": 15,
     "metadata": {},
     "output_type": "execute_result"
    }
   ],
   "execution_count": 15
  },
  {
   "metadata": {
    "ExecuteTime": {
     "end_time": "2024-12-28T08:05:15.484394Z",
     "start_time": "2024-12-28T08:05:15.482279Z"
    }
   },
   "cell_type": "code",
   "source": "",
   "id": "70ea77d3250ffb67",
   "outputs": [],
   "execution_count": null
  }
 ],
 "metadata": {
  "kernelspec": {
   "display_name": "Python 3",
   "language": "python",
   "name": "python3"
  },
  "language_info": {
   "codemirror_mode": {
    "name": "ipython",
    "version": 2
   },
   "file_extension": ".py",
   "mimetype": "text/x-python",
   "name": "python",
   "nbconvert_exporter": "python",
   "pygments_lexer": "ipython2",
   "version": "2.7.6"
  }
 },
 "nbformat": 4,
 "nbformat_minor": 5
}
