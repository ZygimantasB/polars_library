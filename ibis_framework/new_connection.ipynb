{
 "cells": [
  {
   "cell_type": "code",
   "id": "initial_id",
   "metadata": {
    "collapsed": true,
    "ExecuteTime": {
     "end_time": "2024-12-27T21:33:17.850716Z",
     "start_time": "2024-12-27T21:33:17.612040Z"
    }
   },
   "source": "import ibis",
   "outputs": [],
   "execution_count": 1
  },
  {
   "metadata": {
    "ExecuteTime": {
     "end_time": "2024-12-27T21:33:17.857621Z",
     "start_time": "2024-12-27T21:33:17.854860Z"
    }
   },
   "cell_type": "code",
   "source": "duckdb_file = r\"C:\\Users\\Zygim\\Downloads\\archive (12)\\my_database.duckdb\"",
   "id": "8d55328da0a84365",
   "outputs": [],
   "execution_count": 2
  },
  {
   "metadata": {
    "ExecuteTime": {
     "end_time": "2024-12-27T21:33:20.091332Z",
     "start_time": "2024-12-27T21:33:19.998445Z"
    }
   },
   "cell_type": "code",
   "source": "con = ibis.connect(f\"duckdb://{duckdb_file}\")",
   "id": "622b38e7fa82f4bd",
   "outputs": [],
   "execution_count": 3
  },
  {
   "metadata": {},
   "cell_type": "code",
   "outputs": [],
   "execution_count": null,
   "source": "",
   "id": "1219b8499bfe5286"
  }
 ],
 "metadata": {
  "kernelspec": {
   "display_name": "Python 3",
   "language": "python",
   "name": "python3"
  },
  "language_info": {
   "codemirror_mode": {
    "name": "ipython",
    "version": 2
   },
   "file_extension": ".py",
   "mimetype": "text/x-python",
   "name": "python",
   "nbconvert_exporter": "python",
   "pygments_lexer": "ipython2",
   "version": "2.7.6"
  }
 },
 "nbformat": 4,
 "nbformat_minor": 5
}
