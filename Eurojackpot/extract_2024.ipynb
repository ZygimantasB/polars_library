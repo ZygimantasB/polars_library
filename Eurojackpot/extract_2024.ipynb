{
 "cells": [
  {
   "cell_type": "code",
   "id": "initial_id",
   "metadata": {
    "collapsed": true,
    "ExecuteTime": {
     "end_time": "2025-03-16T08:01:33.428528Z",
     "start_time": "2025-03-16T08:01:33.117389Z"
    }
   },
   "source": [
    "import requests\n",
    "import pandas as pd\n",
    "\n",
    "def extract_table_from_url(url):\n",
    "    \"\"\"\n",
    "    Extracts tables from a given URL and returns them as a list of pandas DataFrames.\n",
    "\n",
    "    Args:\n",
    "        url (str): The URL containing the table(s).\n",
    "\n",
    "    Returns:\n",
    "        list: A list of pandas DataFrames, or an empty list if no tables are found.\n",
    "    \"\"\"\n",
    "    try:\n",
    "        response = requests.get(url)\n",
    "        response.raise_for_status()  # Raise HTTPError for bad responses (4xx or 5xx)\n",
    "\n",
    "        # Use pandas to read HTML tables from the response content\n",
    "        tables = pd.read_html(response.text)\n",
    "\n",
    "        return tables\n",
    "\n",
    "    except requests.exceptions.RequestException as e:\n",
    "        print(f\"Error fetching URL: {e}\")\n",
    "        return []\n",
    "    except ValueError as e:\n",
    "        print(f\"Error parsing HTML tables: {e}\")\n",
    "        return []\n",
    "    except Exception as e:\n",
    "        print(f\"An unexpected error occurred: {e}\")\n",
    "        return []\n",
    "\n",
    "# Example usage with the provided URL\n",
    "url = \"https://www.euro-jackpot.net/results-archive-2024\"\n",
    "tables = extract_table_from_url(url)\n",
    "\n",
    "if tables:\n",
    "    for i, table in enumerate(tables):\n",
    "        print(f\"Table {i+1}:\")\n",
    "        print(table)\n",
    "        print(\"-\" * 50)\n",
    "else:\n",
    "    print(\"No tables found on the provided URL.\")"
   ],
   "outputs": [
    {
     "name": "stdout",
     "output_type": "stream",
     "text": [
      "Table 1:\n",
      "                    Result Date                     Numbers\n",
      "0    Tuesday 31st December 2024    2  21  26  34  49  7  12\n",
      "1     Friday 27th December 2024      1  9  25  27  37  6  8\n",
      "2    Tuesday 24th December 2024     9  15  28  36  39  6  7\n",
      "3     Friday 20th December 2024      1  3  10  32  44  1  8\n",
      "4    Tuesday 17th December 2024   11  14  18  35  42  4  11\n",
      "..                          ...                         ...\n",
      "100   Tuesday 16th January 2024     6  19  32  39  42  4  9\n",
      "101    Friday 12th January 2024     3  31  34  43  45  6  9\n",
      "102    Tuesday 9th January 2024    9  12  26  41  47  7  10\n",
      "103     Friday 5th January 2024   11  30  32  45  47  3  10\n",
      "104    Tuesday 2nd January 2024  19  26  36  48  49  10  11\n",
      "\n",
      "[105 rows x 2 columns]\n",
      "--------------------------------------------------\n"
     ]
    },
    {
     "name": "stderr",
     "output_type": "stream",
     "text": [
      "C:\\Users\\Zygim\\AppData\\Local\\Temp\\ipykernel_30528\\3052361349.py:19: FutureWarning: Passing literal html to 'read_html' is deprecated and will be removed in a future version. To read from a literal string, wrap it in a 'StringIO' object.\n",
      "  tables = pd.read_html(response.text)\n"
     ]
    }
   ],
   "execution_count": 1
  },
  {
   "metadata": {
    "ExecuteTime": {
     "end_time": "2025-03-16T08:01:34.332519Z",
     "start_time": "2025-03-16T08:01:34.324388Z"
    }
   },
   "cell_type": "code",
   "source": "table.to_csv('2024.csv')",
   "id": "17d723c5a60360db",
   "outputs": [],
   "execution_count": 2
  }
 ],
 "metadata": {
  "kernelspec": {
   "display_name": "Python 3",
   "language": "python",
   "name": "python3"
  },
  "language_info": {
   "codemirror_mode": {
    "name": "ipython",
    "version": 2
   },
   "file_extension": ".py",
   "mimetype": "text/x-python",
   "name": "python",
   "nbconvert_exporter": "python",
   "pygments_lexer": "ipython2",
   "version": "2.7.6"
  }
 },
 "nbformat": 4,
 "nbformat_minor": 5
}
