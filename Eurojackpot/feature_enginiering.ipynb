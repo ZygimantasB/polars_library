{
 "cells": [
  {
   "cell_type": "code",
   "id": "initial_id",
   "metadata": {
    "collapsed": true,
    "ExecuteTime": {
     "end_time": "2025-03-16T08:09:10.457277Z",
     "start_time": "2025-03-16T08:09:10.454766Z"
    }
   },
   "source": [
    "import polars as pl\n",
    "import re\n",
    "\n",
    "from glob import glob"
   ],
   "outputs": [],
   "execution_count": 15
  },
  {
   "metadata": {
    "ExecuteTime": {
     "end_time": "2025-03-16T08:05:18.499456Z",
     "start_time": "2025-03-16T08:05:18.495947Z"
    }
   },
   "cell_type": "code",
   "source": "df_paths = r'F:\\DataSpell\\polars_library\\Eurojackpot\\*.csv'",
   "id": "bd35560e7631f39e",
   "outputs": [],
   "execution_count": 8
  },
  {
   "metadata": {
    "ExecuteTime": {
     "end_time": "2025-03-16T08:05:00.737612Z",
     "start_time": "2025-03-16T08:05:00.734073Z"
    }
   },
   "cell_type": "code",
   "source": "file_paths = glob(df_paths)",
   "id": "c17894d9a4c3c5e3",
   "outputs": [],
   "execution_count": 5
  },
  {
   "metadata": {
    "ExecuteTime": {
     "end_time": "2025-03-16T08:05:19.702649Z",
     "start_time": "2025-03-16T08:05:19.697131Z"
    }
   },
   "cell_type": "code",
   "source": "df = pl.read_csv(df_paths)",
   "id": "d3089f0a0510ecbe",
   "outputs": [],
   "execution_count": 9
  },
  {
   "metadata": {
    "ExecuteTime": {
     "end_time": "2025-03-16T08:10:21.805802Z",
     "start_time": "2025-03-16T08:10:21.802782Z"
    }
   },
   "cell_type": "code",
   "source": [
    "def clean_date_string(date_string):\n",
    "    return re.sub(r'(\\d+)(st|nd|rd|th)', r'\\1', date_string)"
   ],
   "id": "21eae0dd00360f3e",
   "outputs": [],
   "execution_count": 17
  },
  {
   "metadata": {
    "ExecuteTime": {
     "end_time": "2025-03-16T08:11:20.161743Z",
     "start_time": "2025-03-16T08:11:20.156745Z"
    }
   },
   "cell_type": "code",
   "source": [
    "df = df.with_columns(\n",
    "    pl.col('Result Date').map_elements(\n",
    "        clean_date_string, pl.Utf8\n",
    "    ).str.strptime(\n",
    "        pl.Date, \"%A %d %B %Y\"\n",
    "    )\n",
    ")"
   ],
   "id": "57816f5751238182",
   "outputs": [],
   "execution_count": 20
  },
  {
   "metadata": {
    "ExecuteTime": {
     "end_time": "2025-03-16T08:19:54.021606Z",
     "start_time": "2025-03-16T08:19:54.017594Z"
    }
   },
   "cell_type": "code",
   "source": [
    "df = df.with_columns(\n",
    "    pl.col('Numbers').str.split_exact('  ', 7).struct.rename_fields(\n",
    "        ['First', 'Second', 'Third', 'Fourth', 'Fifth', 'Additional 1', 'Additional 2']\n",
    "    ).alias('Numbers')\n",
    ").unnest('Numbers')"
   ],
   "id": "25132c59049c1316",
   "outputs": [],
   "execution_count": 31
  },
  {
   "metadata": {
    "ExecuteTime": {
     "end_time": "2025-03-16T08:20:07.979233Z",
     "start_time": "2025-03-16T08:20:07.976352Z"
    }
   },
   "cell_type": "code",
   "source": "df = df.drop('')",
   "id": "584661b3a16d129",
   "outputs": [],
   "execution_count": 34
  },
  {
   "metadata": {
    "ExecuteTime": {
     "end_time": "2025-03-16T08:22:44.936360Z",
     "start_time": "2025-03-16T08:22:44.931340Z"
    }
   },
   "cell_type": "code",
   "source": [
    "df.select(\n",
    "    'First', 'Second', 'Third', 'Fourth', 'Fifth'\n",
    ").unpivot()['value'].value_counts(sort=True)"
   ],
   "id": "440e4c29f3baf8a0",
   "outputs": [
    {
     "data": {
      "text/plain": [
       "shape: (50, 2)\n",
       "┌───────┬───────┐\n",
       "│ value ┆ count │\n",
       "│ ---   ┆ ---   │\n",
       "│ str   ┆ u32   │\n",
       "╞═══════╪═══════╡\n",
       "│ 45    ┆ 22    │\n",
       "│ 30    ┆ 21    │\n",
       "│ 17    ┆ 18    │\n",
       "│ 11    ┆ 17    │\n",
       "│ 20    ┆ 17    │\n",
       "│ …     ┆ …     │\n",
       "│ 33    ┆ 8     │\n",
       "│ 40    ┆ 8     │\n",
       "│ 50    ┆ 8     │\n",
       "│ 6     ┆ 7     │\n",
       "│ 5     ┆ 4     │\n",
       "└───────┴───────┘"
      ],
      "text/html": [
       "<div><style>\n",
       ".dataframe > thead > tr,\n",
       ".dataframe > tbody > tr {\n",
       "  text-align: right;\n",
       "  white-space: pre-wrap;\n",
       "}\n",
       "</style>\n",
       "<small>shape: (50, 2)</small><table border=\"1\" class=\"dataframe\"><thead><tr><th>value</th><th>count</th></tr><tr><td>str</td><td>u32</td></tr></thead><tbody><tr><td>&quot;45&quot;</td><td>22</td></tr><tr><td>&quot;30&quot;</td><td>21</td></tr><tr><td>&quot;17&quot;</td><td>18</td></tr><tr><td>&quot;11&quot;</td><td>17</td></tr><tr><td>&quot;20&quot;</td><td>17</td></tr><tr><td>&hellip;</td><td>&hellip;</td></tr><tr><td>&quot;33&quot;</td><td>8</td></tr><tr><td>&quot;40&quot;</td><td>8</td></tr><tr><td>&quot;50&quot;</td><td>8</td></tr><tr><td>&quot;6&quot;</td><td>7</td></tr><tr><td>&quot;5&quot;</td><td>4</td></tr></tbody></table></div>"
      ]
     },
     "execution_count": 41,
     "metadata": {},
     "output_type": "execute_result"
    }
   ],
   "execution_count": 41
  },
  {
   "metadata": {
    "ExecuteTime": {
     "end_time": "2025-03-16T08:26:58.764316Z",
     "start_time": "2025-03-16T08:26:58.759801Z"
    }
   },
   "cell_type": "code",
   "source": [
    "df.select(\n",
    "    'Additional 1', 'Additional 2'\n",
    ").unpivot()['value'].value_counts(sort=True)"
   ],
   "id": "c29fd100a9d67d02",
   "outputs": [
    {
     "data": {
      "text/plain": [
       "shape: (12, 2)\n",
       "┌───────┬───────┐\n",
       "│ value ┆ count │\n",
       "│ ---   ┆ ---   │\n",
       "│ str   ┆ u32   │\n",
       "╞═══════╪═══════╡\n",
       "│ 10    ┆ 32    │\n",
       "│ 1     ┆ 30    │\n",
       "│ 3     ┆ 23    │\n",
       "│ 12    ┆ 23    │\n",
       "│ 4     ┆ 22    │\n",
       "│ …     ┆ …     │\n",
       "│ 7     ┆ 17    │\n",
       "│ 6     ┆ 17    │\n",
       "│ 9     ┆ 17    │\n",
       "│ 2     ┆ 15    │\n",
       "│ 8     ┆ 15    │\n",
       "└───────┴───────┘"
      ],
      "text/html": [
       "<div><style>\n",
       ".dataframe > thead > tr,\n",
       ".dataframe > tbody > tr {\n",
       "  text-align: right;\n",
       "  white-space: pre-wrap;\n",
       "}\n",
       "</style>\n",
       "<small>shape: (12, 2)</small><table border=\"1\" class=\"dataframe\"><thead><tr><th>value</th><th>count</th></tr><tr><td>str</td><td>u32</td></tr></thead><tbody><tr><td>&quot;10&quot;</td><td>32</td></tr><tr><td>&quot;1&quot;</td><td>30</td></tr><tr><td>&quot;3&quot;</td><td>23</td></tr><tr><td>&quot;12&quot;</td><td>23</td></tr><tr><td>&quot;4&quot;</td><td>22</td></tr><tr><td>&hellip;</td><td>&hellip;</td></tr><tr><td>&quot;7&quot;</td><td>17</td></tr><tr><td>&quot;6&quot;</td><td>17</td></tr><tr><td>&quot;9&quot;</td><td>17</td></tr><tr><td>&quot;2&quot;</td><td>15</td></tr><tr><td>&quot;8&quot;</td><td>15</td></tr></tbody></table></div>"
      ]
     },
     "execution_count": 44,
     "metadata": {},
     "output_type": "execute_result"
    }
   ],
   "execution_count": 44
  },
  {
   "metadata": {
    "ExecuteTime": {
     "end_time": "2025-03-16T08:30:03.917966Z",
     "start_time": "2025-03-16T08:30:03.897502Z"
    }
   },
   "cell_type": "code",
   "source": [
    "df.group_by(\n",
    "    'First', 'Second', 'Third', 'Fourth', 'Fifth'\n",
    ").len().sort(by='len', descending=True)"
   ],
   "id": "d7fc3acba8855fe9",
   "outputs": [
    {
     "data": {
      "text/plain": [
       "shape: (126, 6)\n",
       "┌───────┬────────┬───────┬────────┬───────┬─────┐\n",
       "│ First ┆ Second ┆ Third ┆ Fourth ┆ Fifth ┆ len │\n",
       "│ ---   ┆ ---    ┆ ---   ┆ ---    ┆ ---   ┆ --- │\n",
       "│ str   ┆ str    ┆ str   ┆ str    ┆ str   ┆ u32 │\n",
       "╞═══════╪════════╪═══════╪════════╪═══════╪═════╡\n",
       "│ 2     ┆ 3      ┆ 4     ┆ 21     ┆ 45    ┆ 1   │\n",
       "│ 12    ┆ 14     ┆ 18    ┆ 45     ┆ 50    ┆ 1   │\n",
       "│ 15    ┆ 17     ┆ 27    ┆ 33     ┆ 45    ┆ 1   │\n",
       "│ 4     ┆ 32     ┆ 36    ┆ 38     ┆ 47    ┆ 1   │\n",
       "│ 2     ┆ 4      ┆ 23    ┆ 30     ┆ 40    ┆ 1   │\n",
       "│ …     ┆ …      ┆ …     ┆ …      ┆ …     ┆ …   │\n",
       "│ 25    ┆ 28     ┆ 29    ┆ 31     ┆ 33    ┆ 1   │\n",
       "│ 3     ┆ 4      ┆ 13    ┆ 20     ┆ 21    ┆ 1   │\n",
       "│ 11    ┆ 30     ┆ 32    ┆ 45     ┆ 47    ┆ 1   │\n",
       "│ 3     ┆ 17     ┆ 22    ┆ 28     ┆ 40    ┆ 1   │\n",
       "│ 5     ┆ 14     ┆ 25    ┆ 26     ┆ 44    ┆ 1   │\n",
       "└───────┴────────┴───────┴────────┴───────┴─────┘"
      ],
      "text/html": [
       "<div><style>\n",
       ".dataframe > thead > tr,\n",
       ".dataframe > tbody > tr {\n",
       "  text-align: right;\n",
       "  white-space: pre-wrap;\n",
       "}\n",
       "</style>\n",
       "<small>shape: (126, 6)</small><table border=\"1\" class=\"dataframe\"><thead><tr><th>First</th><th>Second</th><th>Third</th><th>Fourth</th><th>Fifth</th><th>len</th></tr><tr><td>str</td><td>str</td><td>str</td><td>str</td><td>str</td><td>u32</td></tr></thead><tbody><tr><td>&quot;2&quot;</td><td>&quot;3&quot;</td><td>&quot;4&quot;</td><td>&quot;21&quot;</td><td>&quot;45&quot;</td><td>1</td></tr><tr><td>&quot;12&quot;</td><td>&quot;14&quot;</td><td>&quot;18&quot;</td><td>&quot;45&quot;</td><td>&quot;50&quot;</td><td>1</td></tr><tr><td>&quot;15&quot;</td><td>&quot;17&quot;</td><td>&quot;27&quot;</td><td>&quot;33&quot;</td><td>&quot;45&quot;</td><td>1</td></tr><tr><td>&quot;4&quot;</td><td>&quot;32&quot;</td><td>&quot;36&quot;</td><td>&quot;38&quot;</td><td>&quot;47&quot;</td><td>1</td></tr><tr><td>&quot;2&quot;</td><td>&quot;4&quot;</td><td>&quot;23&quot;</td><td>&quot;30&quot;</td><td>&quot;40&quot;</td><td>1</td></tr><tr><td>&hellip;</td><td>&hellip;</td><td>&hellip;</td><td>&hellip;</td><td>&hellip;</td><td>&hellip;</td></tr><tr><td>&quot;25&quot;</td><td>&quot;28&quot;</td><td>&quot;29&quot;</td><td>&quot;31&quot;</td><td>&quot;33&quot;</td><td>1</td></tr><tr><td>&quot;3&quot;</td><td>&quot;4&quot;</td><td>&quot;13&quot;</td><td>&quot;20&quot;</td><td>&quot;21&quot;</td><td>1</td></tr><tr><td>&quot;11&quot;</td><td>&quot;30&quot;</td><td>&quot;32&quot;</td><td>&quot;45&quot;</td><td>&quot;47&quot;</td><td>1</td></tr><tr><td>&quot;3&quot;</td><td>&quot;17&quot;</td><td>&quot;22&quot;</td><td>&quot;28&quot;</td><td>&quot;40&quot;</td><td>1</td></tr><tr><td>&quot;5&quot;</td><td>&quot;14&quot;</td><td>&quot;25&quot;</td><td>&quot;26&quot;</td><td>&quot;44&quot;</td><td>1</td></tr></tbody></table></div>"
      ]
     },
     "execution_count": 46,
     "metadata": {},
     "output_type": "execute_result"
    }
   ],
   "execution_count": 46
  },
  {
   "metadata": {
    "ExecuteTime": {
     "end_time": "2025-03-16T08:30:31.546558Z",
     "start_time": "2025-03-16T08:30:31.525695Z"
    }
   },
   "cell_type": "code",
   "source": [
    "df.group_by(\n",
    "    'Additional 1', 'Additional 2'\n",
    ").len().sort(by='len', descending=True)"
   ],
   "id": "614bf40ca1c4daf0",
   "outputs": [
    {
     "data": {
      "text/plain": [
       "shape: (59, 3)\n",
       "┌──────────────┬──────────────┬─────┐\n",
       "│ Additional 1 ┆ Additional 2 ┆ len │\n",
       "│ ---          ┆ ---          ┆ --- │\n",
       "│ str          ┆ str          ┆ u32 │\n",
       "╞══════════════╪══════════════╪═════╡\n",
       "│ 4            ┆ 10           ┆ 6   │\n",
       "│ 1            ┆ 3            ┆ 6   │\n",
       "│ 3            ┆ 10           ┆ 6   │\n",
       "│ 1            ┆ 11           ┆ 4   │\n",
       "│ 6            ┆ 12           ┆ 4   │\n",
       "│ …            ┆ …            ┆ …   │\n",
       "│ 4            ┆ 8            ┆ 1   │\n",
       "│ 5            ┆ 6            ┆ 1   │\n",
       "│ 1            ┆ 7            ┆ 1   │\n",
       "│ 2            ┆ 10           ┆ 1   │\n",
       "│ 2            ┆ 12           ┆ 1   │\n",
       "└──────────────┴──────────────┴─────┘"
      ],
      "text/html": [
       "<div><style>\n",
       ".dataframe > thead > tr,\n",
       ".dataframe > tbody > tr {\n",
       "  text-align: right;\n",
       "  white-space: pre-wrap;\n",
       "}\n",
       "</style>\n",
       "<small>shape: (59, 3)</small><table border=\"1\" class=\"dataframe\"><thead><tr><th>Additional 1</th><th>Additional 2</th><th>len</th></tr><tr><td>str</td><td>str</td><td>u32</td></tr></thead><tbody><tr><td>&quot;4&quot;</td><td>&quot;10&quot;</td><td>6</td></tr><tr><td>&quot;1&quot;</td><td>&quot;3&quot;</td><td>6</td></tr><tr><td>&quot;3&quot;</td><td>&quot;10&quot;</td><td>6</td></tr><tr><td>&quot;1&quot;</td><td>&quot;11&quot;</td><td>4</td></tr><tr><td>&quot;6&quot;</td><td>&quot;12&quot;</td><td>4</td></tr><tr><td>&hellip;</td><td>&hellip;</td><td>&hellip;</td></tr><tr><td>&quot;4&quot;</td><td>&quot;8&quot;</td><td>1</td></tr><tr><td>&quot;5&quot;</td><td>&quot;6&quot;</td><td>1</td></tr><tr><td>&quot;1&quot;</td><td>&quot;7&quot;</td><td>1</td></tr><tr><td>&quot;2&quot;</td><td>&quot;10&quot;</td><td>1</td></tr><tr><td>&quot;2&quot;</td><td>&quot;12&quot;</td><td>1</td></tr></tbody></table></div>"
      ]
     },
     "execution_count": 47,
     "metadata": {},
     "output_type": "execute_result"
    }
   ],
   "execution_count": 47
  },
  {
   "metadata": {},
   "cell_type": "code",
   "outputs": [],
   "execution_count": null,
   "source": "",
   "id": "5737e92f6ee26a3a"
  }
 ],
 "metadata": {
  "kernelspec": {
   "display_name": "Python 3",
   "language": "python",
   "name": "python3"
  },
  "language_info": {
   "codemirror_mode": {
    "name": "ipython",
    "version": 2
   },
   "file_extension": ".py",
   "mimetype": "text/x-python",
   "name": "python",
   "nbconvert_exporter": "python",
   "pygments_lexer": "ipython2",
   "version": "2.7.6"
  }
 },
 "nbformat": 4,
 "nbformat_minor": 5
}
