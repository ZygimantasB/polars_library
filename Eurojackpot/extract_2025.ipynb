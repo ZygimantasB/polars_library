{
 "cells": [
  {
   "cell_type": "code",
   "id": "initial_id",
   "metadata": {
    "collapsed": true,
    "ExecuteTime": {
     "end_time": "2025-03-16T08:01:16.510535Z",
     "start_time": "2025-03-16T08:01:16.284044Z"
    }
   },
   "source": [
    "import requests\n",
    "import pandas as pd\n",
    "\n",
    "def extract_table_from_url(url):\n",
    "    \"\"\"\n",
    "    Extracts tables from a given URL and returns them as a list of pandas DataFrames.\n",
    "\n",
    "    Args:\n",
    "        url (str): The URL containing the table(s).\n",
    "\n",
    "    Returns:\n",
    "        list: A list of pandas DataFrames, or an empty list if no tables are found.\n",
    "    \"\"\"\n",
    "    try:\n",
    "        response = requests.get(url)\n",
    "        response.raise_for_status()  # Raise HTTPError for bad responses (4xx or 5xx)\n",
    "\n",
    "        # Use pandas to read HTML tables from the response content\n",
    "        tables = pd.read_html(response.text)\n",
    "\n",
    "        return tables\n",
    "\n",
    "    except requests.exceptions.RequestException as e:\n",
    "        print(f\"Error fetching URL: {e}\")\n",
    "        return []\n",
    "    except ValueError as e:\n",
    "        print(f\"Error parsing HTML tables: {e}\")\n",
    "        return []\n",
    "    except Exception as e:\n",
    "        print(f\"An unexpected error occurred: {e}\")\n",
    "        return []\n",
    "\n",
    "# Example usage with the provided URL\n",
    "url = \"https://www.euro-jackpot.net/results-archive-2025\"\n",
    "tables = extract_table_from_url(url)\n",
    "\n",
    "if tables:\n",
    "    for i, table in enumerate(tables):\n",
    "        print(f\"Table {i+1}:\")\n",
    "        print(table)\n",
    "        print(\"-\" * 50)\n",
    "else:\n",
    "    print(\"No tables found on the provided URL.\")"
   ],
   "outputs": [
    {
     "name": "stdout",
     "output_type": "stream",
     "text": [
      "Table 1:\n",
      "                   Result Date                     Numbers\n",
      "0       Friday 14th March 2025    6  13  28  37  45  5  10\n",
      "1      Tuesday 11th March 2025   15  18  22  23  44  1  11\n",
      "2        Friday 7th March 2025     7  11  12  32  42  1  4\n",
      "3       Tuesday 4th March 2025    4  12  35  37  48  4  10\n",
      "4    Friday 28th February 2025     3  4  13  20  21  8  12\n",
      "5   Tuesday 25th February 2025   28  31  38  42  48  3  10\n",
      "6    Friday 21st February 2025  18  26  29  35  36  11  12\n",
      "7   Tuesday 18th February 2025      1  9  14  19  44  2  3\n",
      "8    Friday 14th February 2025   12  14  18  45  50  2  10\n",
      "9   Tuesday 11th February 2025    3  12  22  28  47  1  12\n",
      "10    Friday 7th February 2025    15  17  27  33  45  5  9\n",
      "11   Tuesday 4th February 2025    10  18  21  41  42  3  9\n",
      "12    Friday 31st January 2025    1  23  32  42  47  4  11\n",
      "13   Tuesday 28th January 2025     2  7  28  43  46  5  12\n",
      "14    Friday 24th January 2025      2  9  16  46  47  3  9\n",
      "15   Tuesday 21st January 2025     3  17  22  28  40  4  9\n",
      "16    Friday 17th January 2025      7  9  14  18  31  7  8\n",
      "17   Tuesday 14th January 2025    10  11  17  20  30  2  6\n",
      "18    Friday 10th January 2025   17  34  38  42  48  2  11\n",
      "19    Tuesday 7th January 2025     1  16  20  23  44  5  9\n",
      "20     Friday 3rd January 2025    1  20  21  27  29  8  10\n",
      "--------------------------------------------------\n"
     ]
    },
    {
     "name": "stderr",
     "output_type": "stream",
     "text": [
      "C:\\Users\\Zygim\\AppData\\Local\\Temp\\ipykernel_14036\\4040921514.py:19: FutureWarning: Passing literal html to 'read_html' is deprecated and will be removed in a future version. To read from a literal string, wrap it in a 'StringIO' object.\n",
      "  tables = pd.read_html(response.text)\n"
     ]
    }
   ],
   "execution_count": 7
  },
  {
   "metadata": {
    "ExecuteTime": {
     "end_time": "2025-03-16T08:01:25.037991Z",
     "start_time": "2025-03-16T08:01:25.031124Z"
    }
   },
   "cell_type": "code",
   "source": "table.to_csv('2025.csv')",
   "id": "8dd10ead074366d6",
   "outputs": [],
   "execution_count": 9
  }
 ],
 "metadata": {
  "kernelspec": {
   "display_name": "Python 3",
   "language": "python",
   "name": "python3"
  },
  "language_info": {
   "codemirror_mode": {
    "name": "ipython",
    "version": 2
   },
   "file_extension": ".py",
   "mimetype": "text/x-python",
   "name": "python",
   "nbconvert_exporter": "python",
   "pygments_lexer": "ipython2",
   "version": "2.7.6"
  }
 },
 "nbformat": 4,
 "nbformat_minor": 5
}
