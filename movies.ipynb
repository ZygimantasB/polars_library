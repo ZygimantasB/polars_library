{
 "cells": [
  {
   "metadata": {
    "ExecuteTime": {
     "end_time": "2025-03-15T20:17:53.250320Z",
     "start_time": "2025-03-15T20:17:36.635779Z"
    }
   },
   "cell_type": "code",
   "source": [
    "import os\n",
    "import polars as pl\n",
    "import subprocess\n",
    "from pathlib import Path\n",
    "\n",
    "root_dir = r\"G:\\Movies\"\n",
    "\n",
    "# Common movie file extensions\n",
    "movie_extensions = ['.mp4', '.mkv', '.avi', '.mov', '.wmv', '.flv', '.m4v', '.mpg', '.mpeg']\n",
    "\n",
    "def get_video_duration(file_path):\n",
    "    try:\n",
    "        cmd = [\n",
    "            'ffprobe',\n",
    "            '-v', 'error',\n",
    "            '-show_entries', 'format=duration',\n",
    "            '-of', 'default=noprint_wrappers=1:nokey=1',\n",
    "            file_path\n",
    "        ]\n",
    "\n",
    "        result = subprocess.run(cmd, stdout=subprocess.PIPE, stderr=subprocess.PIPE, text=True)\n",
    "        duration = float(result.stdout.strip())\n",
    "        return duration\n",
    "    except:\n",
    "        return None\n",
    "\n",
    "def format_duration(seconds):\n",
    "    if seconds is None:\n",
    "        return \"Unknown\"\n",
    "\n",
    "    hours = int(seconds // 3600)\n",
    "    minutes = int((seconds % 3600) // 60)\n",
    "    seconds = int(seconds % 60)\n",
    "\n",
    "    return f\"{hours:02d}:{minutes:02d}:{seconds:02d}\"\n",
    "\n",
    "def find_movies(root_dir):\n",
    "    movies = []\n",
    "\n",
    "    for dirpath, dirnames, filenames in os.walk(root_dir):\n",
    "        for filename in filenames:\n",
    "            if any(filename.lower().endswith(ext) for ext in movie_extensions):\n",
    "                full_path = os.path.join(dirpath, filename)\n",
    "\n",
    "                try:\n",
    "                    file_size_mb = os.path.getsize(full_path) / (1024 * 1024)\n",
    "                except:\n",
    "                    file_size_mb = 0\n",
    "\n",
    "                duration_seconds = get_video_duration(full_path)\n",
    "                duration_formatted = format_duration(duration_seconds)\n",
    "\n",
    "                movies.append({\n",
    "                    'filename': filename,\n",
    "                    'path': full_path,\n",
    "                    'size_mb': round(file_size_mb, 2),\n",
    "                    'duration': duration_formatted\n",
    "                })\n",
    "\n",
    "    return movies\n",
    "\n",
    "movies = find_movies(root_dir)\n",
    "\n",
    "df = pl.DataFrame(movies)\n",
    "\n",
    "df.head(5)"
   ],
   "id": "d6c7f19e9e9f38eb",
   "outputs": [
    {
     "data": {
      "text/plain": [
       "shape: (5, 4)\n",
       "┌─────────────────────────────────┬─────────────────────────────────┬──────────┬──────────┐\n",
       "│ filename                        ┆ path                            ┆ size_mb  ┆ duration │\n",
       "│ ---                             ┆ ---                             ┆ ---      ┆ ---      │\n",
       "│ str                             ┆ str                             ┆ f64      ┆ str      │\n",
       "╞═════════════════════════════════╪═════════════════════════════════╪══════════╪══════════╡\n",
       "│ Beauty and the Beast (2017) BD… ┆ G:\\Movies\\Animacija\\Beauty and… ┆ 14280.03 ┆ Unknown  │\n",
       "│ Beauty.and.the.Beast.1991.UHD.… ┆ G:\\Movies\\Animacija\\Beauty.and… ┆ 8066.74  ┆ Unknown  │\n",
       "│ Cars.3.2017.BDRip.1080p.LT.EN.… ┆ G:\\Movies\\Animacija\\Cars.3.201… ┆ 11540.08 ┆ Unknown  │\n",
       "│ Despicable.Me.4.2024.BDRip.108… ┆ G:\\Movies\\Animacija\\Despicable… ┆ 12622.75 ┆ Unknown  │\n",
       "│ Dragon Ball Super Broly (2018)… ┆ G:\\Movies\\Animacija\\Dragon Bal… ┆ 8333.56  ┆ Unknown  │\n",
       "└─────────────────────────────────┴─────────────────────────────────┴──────────┴──────────┘"
      ],
      "text/html": [
       "<div><style>\n",
       ".dataframe > thead > tr,\n",
       ".dataframe > tbody > tr {\n",
       "  text-align: right;\n",
       "  white-space: pre-wrap;\n",
       "}\n",
       "</style>\n",
       "<small>shape: (5, 4)</small><table border=\"1\" class=\"dataframe\"><thead><tr><th>filename</th><th>path</th><th>size_mb</th><th>duration</th></tr><tr><td>str</td><td>str</td><td>f64</td><td>str</td></tr></thead><tbody><tr><td>&quot;Beauty and the Beast (2017) BD…</td><td>&quot;G:\\Movies\\Animacija\\Beauty and…</td><td>14280.03</td><td>&quot;Unknown&quot;</td></tr><tr><td>&quot;Beauty.and.the.Beast.1991.UHD.…</td><td>&quot;G:\\Movies\\Animacija\\Beauty.and…</td><td>8066.74</td><td>&quot;Unknown&quot;</td></tr><tr><td>&quot;Cars.3.2017.BDRip.1080p.LT.EN.…</td><td>&quot;G:\\Movies\\Animacija\\Cars.3.201…</td><td>11540.08</td><td>&quot;Unknown&quot;</td></tr><tr><td>&quot;Despicable.Me.4.2024.BDRip.108…</td><td>&quot;G:\\Movies\\Animacija\\Despicable…</td><td>12622.75</td><td>&quot;Unknown&quot;</td></tr><tr><td>&quot;Dragon Ball Super Broly (2018)…</td><td>&quot;G:\\Movies\\Animacija\\Dragon Bal…</td><td>8333.56</td><td>&quot;Unknown&quot;</td></tr></tbody></table></div>"
      ]
     },
     "execution_count": 1,
     "metadata": {},
     "output_type": "execute_result"
    }
   ],
   "execution_count": 1
  },
  {
   "metadata": {
    "ExecuteTime": {
     "end_time": "2025-03-15T20:17:53.297299Z",
     "start_time": "2025-03-15T20:17:53.292297Z"
    }
   },
   "cell_type": "code",
   "source": "df",
   "id": "b05b7123cd577aa2",
   "outputs": [
    {
     "data": {
      "text/plain": [
       "shape: (1_565, 4)\n",
       "┌─────────────────────────────────┬─────────────────────────────────┬──────────┬──────────┐\n",
       "│ filename                        ┆ path                            ┆ size_mb  ┆ duration │\n",
       "│ ---                             ┆ ---                             ┆ ---      ┆ ---      │\n",
       "│ str                             ┆ str                             ┆ f64      ┆ str      │\n",
       "╞═════════════════════════════════╪═════════════════════════════════╪══════════╪══════════╡\n",
       "│ Beauty and the Beast (2017) BD… ┆ G:\\Movies\\Animacija\\Beauty and… ┆ 14280.03 ┆ Unknown  │\n",
       "│ Beauty.and.the.Beast.1991.UHD.… ┆ G:\\Movies\\Animacija\\Beauty.and… ┆ 8066.74  ┆ Unknown  │\n",
       "│ Cars.3.2017.BDRip.1080p.LT.EN.… ┆ G:\\Movies\\Animacija\\Cars.3.201… ┆ 11540.08 ┆ Unknown  │\n",
       "│ Despicable.Me.4.2024.BDRip.108… ┆ G:\\Movies\\Animacija\\Despicable… ┆ 12622.75 ┆ Unknown  │\n",
       "│ Dragon Ball Super Broly (2018)… ┆ G:\\Movies\\Animacija\\Dragon Bal… ┆ 8333.56  ┆ Unknown  │\n",
       "│ …                               ┆ …                               ┆ …        ┆ …        │\n",
       "│ 3.Fast.And.The.Furious.Tokyo.D… ┆ G:\\Movies\\Veiksmo\\The.Fast.and… ┆ 2706.39  ┆ Unknown  │\n",
       "│ 4.Fast.And.Furious.2009.BDRip-… ┆ G:\\Movies\\Veiksmo\\The.Fast.and… ┆ 2939.03  ┆ Unknown  │\n",
       "│ 5.Fast Five.2011.BDRip-AVC.LT.… ┆ G:\\Movies\\Veiksmo\\The.Fast.and… ┆ 3060.55  ┆ Unknown  │\n",
       "│ 6.Fast.And.Furious.6.2013.BDRi… ┆ G:\\Movies\\Veiksmo\\The.Fast.and… ┆ 3579.78  ┆ Unknown  │\n",
       "│ 7.Furious.7.2015.BDRip-AVC.LT.… ┆ G:\\Movies\\Veiksmo\\The.Fast.and… ┆ 3440.22  ┆ Unknown  │\n",
       "└─────────────────────────────────┴─────────────────────────────────┴──────────┴──────────┘"
      ],
      "text/html": [
       "<div><style>\n",
       ".dataframe > thead > tr,\n",
       ".dataframe > tbody > tr {\n",
       "  text-align: right;\n",
       "  white-space: pre-wrap;\n",
       "}\n",
       "</style>\n",
       "<small>shape: (1_565, 4)</small><table border=\"1\" class=\"dataframe\"><thead><tr><th>filename</th><th>path</th><th>size_mb</th><th>duration</th></tr><tr><td>str</td><td>str</td><td>f64</td><td>str</td></tr></thead><tbody><tr><td>&quot;Beauty and the Beast (2017) BD…</td><td>&quot;G:\\Movies\\Animacija\\Beauty and…</td><td>14280.03</td><td>&quot;Unknown&quot;</td></tr><tr><td>&quot;Beauty.and.the.Beast.1991.UHD.…</td><td>&quot;G:\\Movies\\Animacija\\Beauty.and…</td><td>8066.74</td><td>&quot;Unknown&quot;</td></tr><tr><td>&quot;Cars.3.2017.BDRip.1080p.LT.EN.…</td><td>&quot;G:\\Movies\\Animacija\\Cars.3.201…</td><td>11540.08</td><td>&quot;Unknown&quot;</td></tr><tr><td>&quot;Despicable.Me.4.2024.BDRip.108…</td><td>&quot;G:\\Movies\\Animacija\\Despicable…</td><td>12622.75</td><td>&quot;Unknown&quot;</td></tr><tr><td>&quot;Dragon Ball Super Broly (2018)…</td><td>&quot;G:\\Movies\\Animacija\\Dragon Bal…</td><td>8333.56</td><td>&quot;Unknown&quot;</td></tr><tr><td>&hellip;</td><td>&hellip;</td><td>&hellip;</td><td>&hellip;</td></tr><tr><td>&quot;3.Fast.And.The.Furious.Tokyo.D…</td><td>&quot;G:\\Movies\\Veiksmo\\The.Fast.and…</td><td>2706.39</td><td>&quot;Unknown&quot;</td></tr><tr><td>&quot;4.Fast.And.Furious.2009.BDRip-…</td><td>&quot;G:\\Movies\\Veiksmo\\The.Fast.and…</td><td>2939.03</td><td>&quot;Unknown&quot;</td></tr><tr><td>&quot;5.Fast Five.2011.BDRip-AVC.LT.…</td><td>&quot;G:\\Movies\\Veiksmo\\The.Fast.and…</td><td>3060.55</td><td>&quot;Unknown&quot;</td></tr><tr><td>&quot;6.Fast.And.Furious.6.2013.BDRi…</td><td>&quot;G:\\Movies\\Veiksmo\\The.Fast.and…</td><td>3579.78</td><td>&quot;Unknown&quot;</td></tr><tr><td>&quot;7.Furious.7.2015.BDRip-AVC.LT.…</td><td>&quot;G:\\Movies\\Veiksmo\\The.Fast.and…</td><td>3440.22</td><td>&quot;Unknown&quot;</td></tr></tbody></table></div>"
      ]
     },
     "execution_count": 2,
     "metadata": {},
     "output_type": "execute_result"
    }
   ],
   "execution_count": 2
  },
  {
   "metadata": {
    "ExecuteTime": {
     "end_time": "2025-03-15T20:17:53.349381Z",
     "start_time": "2025-03-15T20:17:53.341366Z"
    }
   },
   "cell_type": "code",
   "source": [
    "df.select(\n",
    "    pl.col('filename').sort()\n",
    ").group_by(\n",
    "    'filename'\n",
    ").len().sort('len').reverse()"
   ],
   "id": "3dea9b9bc206958c",
   "outputs": [
    {
     "data": {
      "text/plain": [
       "shape: (1_559, 2)\n",
       "┌─────────────────────────────────┬─────┐\n",
       "│ filename                        ┆ len │\n",
       "│ ---                             ┆ --- │\n",
       "│ str                             ┆ u32 │\n",
       "╞═════════════════════════════════╪═════╡\n",
       "│ DBGT - OP.mkv                   ┆ 4   │\n",
       "│ DBGT - ED2.mkv                  ┆ 2   │\n",
       "│ DBGT - ED3.mkv                  ┆ 2   │\n",
       "│ DBGT - ED1.mkv                  ┆ 2   │\n",
       "│ Dragon Ball Z - 080 - A Sudden… ┆ 1   │\n",
       "│ …                               ┆ …   │\n",
       "│ Marvels.Daredevil.2018.S03E11.… ┆ 1   │\n",
       "│ Kaleidoscope.S01E03.1080p.NF.W… ┆ 1   │\n",
       "│ Dragon Ball Z - 265 - Buu comm… ┆ 1   │\n",
       "│ WandaVision.S01E01.1080p.WEB-D… ┆ 1   │\n",
       "│ Rocky 2.1979.BDRip.x264.AC3.LT… ┆ 1   │\n",
       "└─────────────────────────────────┴─────┘"
      ],
      "text/html": [
       "<div><style>\n",
       ".dataframe > thead > tr,\n",
       ".dataframe > tbody > tr {\n",
       "  text-align: right;\n",
       "  white-space: pre-wrap;\n",
       "}\n",
       "</style>\n",
       "<small>shape: (1_559, 2)</small><table border=\"1\" class=\"dataframe\"><thead><tr><th>filename</th><th>len</th></tr><tr><td>str</td><td>u32</td></tr></thead><tbody><tr><td>&quot;DBGT - OP.mkv&quot;</td><td>4</td></tr><tr><td>&quot;DBGT - ED2.mkv&quot;</td><td>2</td></tr><tr><td>&quot;DBGT - ED3.mkv&quot;</td><td>2</td></tr><tr><td>&quot;DBGT - ED1.mkv&quot;</td><td>2</td></tr><tr><td>&quot;Dragon Ball Z - 080 - A Sudden…</td><td>1</td></tr><tr><td>&hellip;</td><td>&hellip;</td></tr><tr><td>&quot;Marvels.Daredevil.2018.S03E11.…</td><td>1</td></tr><tr><td>&quot;Kaleidoscope.S01E03.1080p.NF.W…</td><td>1</td></tr><tr><td>&quot;Dragon Ball Z - 265 - Buu comm…</td><td>1</td></tr><tr><td>&quot;WandaVision.S01E01.1080p.WEB-D…</td><td>1</td></tr><tr><td>&quot;Rocky 2.1979.BDRip.x264.AC3.LT…</td><td>1</td></tr></tbody></table></div>"
      ]
     },
     "execution_count": 3,
     "metadata": {},
     "output_type": "execute_result"
    }
   ],
   "execution_count": 3
  },
  {
   "metadata": {
    "ExecuteTime": {
     "end_time": "2025-03-15T20:17:53.521273Z",
     "start_time": "2025-03-15T20:17:53.515343Z"
    }
   },
   "cell_type": "code",
   "source": [
    "df.filter(\n",
    "    ~pl.col('path').str.contains('Animacija'),\n",
    "    ~pl.col('path').str.contains('Serials'),\n",
    ")['filename']"
   ],
   "id": "16a602a6bc9c11ef",
   "outputs": [
    {
     "data": {
      "text/plain": [
       "shape: (668,)\n",
       "Series: 'filename' [str]\n",
       "[\n",
       "\t\"arcane.s02e01.1080p.web.h264-s…\n",
       "\t\"arcane.s02e01.1080p.web.h264-s…\n",
       "\t\"arcane.s02e02.1080p.web.h264-s…\n",
       "\t\"arcane.s02e02.1080p.web.h264-s…\n",
       "\t\"arcane.s02e03.1080p.web.h264-s…\n",
       "\t…\n",
       "\t\"3.Fast.And.The.Furious.Tokyo.D…\n",
       "\t\"4.Fast.And.Furious.2009.BDRip-…\n",
       "\t\"5.Fast Five.2011.BDRip-AVC.LT.…\n",
       "\t\"6.Fast.And.Furious.6.2013.BDRi…\n",
       "\t\"7.Furious.7.2015.BDRip-AVC.LT.…\n",
       "]"
      ],
      "text/html": [
       "<div><style>\n",
       ".dataframe > thead > tr,\n",
       ".dataframe > tbody > tr {\n",
       "  text-align: right;\n",
       "  white-space: pre-wrap;\n",
       "}\n",
       "</style>\n",
       "<small>shape: (668,)</small><table border=\"1\" class=\"dataframe\"><thead><tr><th>filename</th></tr><tr><td>str</td></tr></thead><tbody><tr><td>&quot;arcane.s02e01.1080p.web.h264-s…</td></tr><tr><td>&quot;arcane.s02e01.1080p.web.h264-s…</td></tr><tr><td>&quot;arcane.s02e02.1080p.web.h264-s…</td></tr><tr><td>&quot;arcane.s02e02.1080p.web.h264-s…</td></tr><tr><td>&quot;arcane.s02e03.1080p.web.h264-s…</td></tr><tr><td>&hellip;</td></tr><tr><td>&quot;3.Fast.And.The.Furious.Tokyo.D…</td></tr><tr><td>&quot;4.Fast.And.Furious.2009.BDRip-…</td></tr><tr><td>&quot;5.Fast Five.2011.BDRip-AVC.LT.…</td></tr><tr><td>&quot;6.Fast.And.Furious.6.2013.BDRi…</td></tr><tr><td>&quot;7.Furious.7.2015.BDRip-AVC.LT.…</td></tr></tbody></table></div>"
      ]
     },
     "execution_count": 4,
     "metadata": {},
     "output_type": "execute_result"
    }
   ],
   "execution_count": 4
  },
  {
   "metadata": {
    "ExecuteTime": {
     "end_time": "2025-03-15T20:17:53.653168Z",
     "start_time": "2025-03-15T20:17:53.646719Z"
    }
   },
   "cell_type": "code",
   "source": [
    "df.filter(\n",
    "    pl.col('filename').str.contains('Andreas')\n",
    ")"
   ],
   "id": "211ffc81cb69cddb",
   "outputs": [
    {
     "data": {
      "text/plain": [
       "shape: (1, 4)\n",
       "┌─────────────────────────────────┬─────────────────────────────────┬─────────┬──────────┐\n",
       "│ filename                        ┆ path                            ┆ size_mb ┆ duration │\n",
       "│ ---                             ┆ ---                             ┆ ---     ┆ ---      │\n",
       "│ str                             ┆ str                             ┆ f64     ┆ str      │\n",
       "╞═════════════════════════════════╪═════════════════════════════════╪═════════╪══════════╡\n",
       "│ San.Andreas.2015.720p.WEBDL.x2… ┆ G:\\Movies\\Disasters\\San.Andrea… ┆ 3189.89 ┆ Unknown  │\n",
       "└─────────────────────────────────┴─────────────────────────────────┴─────────┴──────────┘"
      ],
      "text/html": [
       "<div><style>\n",
       ".dataframe > thead > tr,\n",
       ".dataframe > tbody > tr {\n",
       "  text-align: right;\n",
       "  white-space: pre-wrap;\n",
       "}\n",
       "</style>\n",
       "<small>shape: (1, 4)</small><table border=\"1\" class=\"dataframe\"><thead><tr><th>filename</th><th>path</th><th>size_mb</th><th>duration</th></tr><tr><td>str</td><td>str</td><td>f64</td><td>str</td></tr></thead><tbody><tr><td>&quot;San.Andreas.2015.720p.WEBDL.x2…</td><td>&quot;G:\\Movies\\Disasters\\San.Andrea…</td><td>3189.89</td><td>&quot;Unknown&quot;</td></tr></tbody></table></div>"
      ]
     },
     "execution_count": 5,
     "metadata": {},
     "output_type": "execute_result"
    }
   ],
   "execution_count": 5
  },
  {
   "metadata": {
    "ExecuteTime": {
     "end_time": "2025-03-15T20:19:27.470083Z",
     "start_time": "2025-03-15T20:19:27.464395Z"
    }
   },
   "cell_type": "code",
   "source": "df.sort('size_mb').reverse()",
   "id": "3f6f7219e9d9802d",
   "outputs": [
    {
     "data": {
      "text/plain": [
       "shape: (1_565, 4)\n",
       "┌─────────────────────────────────┬─────────────────────────────────┬──────────┬──────────┐\n",
       "│ filename                        ┆ path                            ┆ size_mb  ┆ duration │\n",
       "│ ---                             ┆ ---                             ┆ ---      ┆ ---      │\n",
       "│ str                             ┆ str                             ┆ f64      ┆ str      │\n",
       "╞═════════════════════════════════╪═════════════════════════════════╪══════════╪══════════╡\n",
       "│ Titanic 1997.1080p.BD-Remux.AV… ┆ G:\\Movies\\Veiksmo\\Titanic 1997… ┆ 51881.95 ┆ Unknown  │\n",
       "│ Godzilla.Vs.Kong.2021.BD-Remux… ┆ G:\\Movies\\Fantastika\\Godzilla.… ┆ 44848.62 ┆ Unknown  │\n",
       "│ The.Hateful.Eight.2015.BDRemux… ┆ G:\\Movies\\Veiksmo\\The.Hateful.… ┆ 40816.14 ┆ Unknown  │\n",
       "│ The.Day.After.Tomorrow.2004.BD… ┆ G:\\Movies\\Disasters\\The.Day.Af… ┆ 33448.19 ┆ Unknown  │\n",
       "│ The.Chronicles.Of.Narnia.The.L… ┆ G:\\Movies\\Fantastika\\The.Chron… ┆ 33244.98 ┆ Unknown  │\n",
       "│ …                               ┆ …                               ┆ …        ┆ …        │\n",
       "│ DBGT - ED1.mkv                  ┆ G:\\Movies\\Animacija\\Dragon.Bal… ┆ 24.22    ┆ Unknown  │\n",
       "│ DBGT - ED2.mkv                  ┆ G:\\Movies\\Animacija\\Dragon.Bal… ┆ 23.35    ┆ Unknown  │\n",
       "│ DBGT - ED2.mkv                  ┆ G:\\Movies\\Animacija\\Dragon.Bal… ┆ 23.35    ┆ Unknown  │\n",
       "│ DBGT - ED4.mkv                  ┆ G:\\Movies\\Animacija\\Dragon.Bal… ┆ 22.08    ┆ Unknown  │\n",
       "│ btgt-sample.avi                 ┆ G:\\Movies\\Siaubo\\Ir.Kalnai.Tur… ┆ 16.39    ┆ Unknown  │\n",
       "└─────────────────────────────────┴─────────────────────────────────┴──────────┴──────────┘"
      ],
      "text/html": [
       "<div><style>\n",
       ".dataframe > thead > tr,\n",
       ".dataframe > tbody > tr {\n",
       "  text-align: right;\n",
       "  white-space: pre-wrap;\n",
       "}\n",
       "</style>\n",
       "<small>shape: (1_565, 4)</small><table border=\"1\" class=\"dataframe\"><thead><tr><th>filename</th><th>path</th><th>size_mb</th><th>duration</th></tr><tr><td>str</td><td>str</td><td>f64</td><td>str</td></tr></thead><tbody><tr><td>&quot;Titanic 1997.1080p.BD-Remux.AV…</td><td>&quot;G:\\Movies\\Veiksmo\\Titanic 1997…</td><td>51881.95</td><td>&quot;Unknown&quot;</td></tr><tr><td>&quot;Godzilla.Vs.Kong.2021.BD-Remux…</td><td>&quot;G:\\Movies\\Fantastika\\Godzilla.…</td><td>44848.62</td><td>&quot;Unknown&quot;</td></tr><tr><td>&quot;The.Hateful.Eight.2015.BDRemux…</td><td>&quot;G:\\Movies\\Veiksmo\\The.Hateful.…</td><td>40816.14</td><td>&quot;Unknown&quot;</td></tr><tr><td>&quot;The.Day.After.Tomorrow.2004.BD…</td><td>&quot;G:\\Movies\\Disasters\\The.Day.Af…</td><td>33448.19</td><td>&quot;Unknown&quot;</td></tr><tr><td>&quot;The.Chronicles.Of.Narnia.The.L…</td><td>&quot;G:\\Movies\\Fantastika\\The.Chron…</td><td>33244.98</td><td>&quot;Unknown&quot;</td></tr><tr><td>&hellip;</td><td>&hellip;</td><td>&hellip;</td><td>&hellip;</td></tr><tr><td>&quot;DBGT - ED1.mkv&quot;</td><td>&quot;G:\\Movies\\Animacija\\Dragon.Bal…</td><td>24.22</td><td>&quot;Unknown&quot;</td></tr><tr><td>&quot;DBGT - ED2.mkv&quot;</td><td>&quot;G:\\Movies\\Animacija\\Dragon.Bal…</td><td>23.35</td><td>&quot;Unknown&quot;</td></tr><tr><td>&quot;DBGT - ED2.mkv&quot;</td><td>&quot;G:\\Movies\\Animacija\\Dragon.Bal…</td><td>23.35</td><td>&quot;Unknown&quot;</td></tr><tr><td>&quot;DBGT - ED4.mkv&quot;</td><td>&quot;G:\\Movies\\Animacija\\Dragon.Bal…</td><td>22.08</td><td>&quot;Unknown&quot;</td></tr><tr><td>&quot;btgt-sample.avi&quot;</td><td>&quot;G:\\Movies\\Siaubo\\Ir.Kalnai.Tur…</td><td>16.39</td><td>&quot;Unknown&quot;</td></tr></tbody></table></div>"
      ]
     },
     "execution_count": 10,
     "metadata": {},
     "output_type": "execute_result"
    }
   ],
   "execution_count": 10
  }
 ],
 "metadata": {
  "kernelspec": {
   "display_name": "Python 3",
   "language": "python",
   "name": "python3"
  },
  "language_info": {
   "codemirror_mode": {
    "name": "ipython",
    "version": 2
   },
   "file_extension": ".py",
   "mimetype": "text/x-python",
   "name": "python",
   "nbconvert_exporter": "python",
   "pygments_lexer": "ipython2",
   "version": "2.7.6"
  }
 },
 "nbformat": 4,
 "nbformat_minor": 5
}
