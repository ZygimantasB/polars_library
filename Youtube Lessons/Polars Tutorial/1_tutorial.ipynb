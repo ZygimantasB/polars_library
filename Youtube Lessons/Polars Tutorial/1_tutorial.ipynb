{
 "cells": [
  {
   "cell_type": "code",
   "id": "initial_id",
   "metadata": {
    "collapsed": true,
    "ExecuteTime": {
     "end_time": "2024-05-04T19:45:54.605627Z",
     "start_time": "2024-05-04T19:45:53.363782Z"
    }
   },
   "source": [
    "import polars as pl\n",
    "import pandas as pd\n",
    "# from pyspark.sql import SparkSession\n",
    "import matplotlib.pyplot as plt"
   ],
   "outputs": [],
   "execution_count": 2
  },
  {
   "metadata": {},
   "cell_type": "markdown",
   "source": "# Read 5GB  CSV file",
   "id": "1b12a69dffb80e01"
  },
  {
   "metadata": {
    "ExecuteTime": {
     "end_time": "2024-05-04T19:45:54.609808Z",
     "start_time": "2024-05-04T19:45:54.606632Z"
    }
   },
   "cell_type": "code",
   "source": "df_path = r'F:\\DataSpell\\Polars_library_learn\\Youtube Lessons\\Polars Tutorial\\data\\2019-Nov.csv'",
   "id": "20a025be5f3407d7",
   "outputs": [],
   "execution_count": 3
  },
  {
   "metadata": {
    "ExecuteTime": {
     "end_time": "2024-05-04T19:46:12.191897Z",
     "start_time": "2024-05-04T19:45:54.609808Z"
    }
   },
   "cell_type": "code",
   "source": [
    "%%time\n",
    "df = pl.read_csv(df_path)"
   ],
   "id": "e009d93ecdbe58b",
   "outputs": [
    {
     "name": "stdout",
     "output_type": "stream",
     "text": [
      "CPU times: total: 4.38 s\n",
      "Wall time: 17.6 s\n"
     ]
    }
   ],
   "execution_count": 4
  },
  {
   "metadata": {},
   "cell_type": "markdown",
   "source": "# Basic operations",
   "id": "6905bae93bf0a17a"
  },
  {
   "metadata": {
    "ExecuteTime": {
     "end_time": "2024-05-04T19:46:12.215911Z",
     "start_time": "2024-05-04T19:46:12.199904Z"
    }
   },
   "cell_type": "code",
   "source": "df.shape",
   "id": "4f196c118799b70e",
   "outputs": [
    {
     "data": {
      "text/plain": [
       "(67501979, 9)"
      ]
     },
     "execution_count": 5,
     "metadata": {},
     "output_type": "execute_result"
    }
   ],
   "execution_count": 5
  },
  {
   "metadata": {
    "ExecuteTime": {
     "end_time": "2024-05-04T19:46:12.222862Z",
     "start_time": "2024-05-04T19:46:12.216919Z"
    }
   },
   "cell_type": "code",
   "source": "# df.head().to_pandas()",
   "id": "a7213bffad668ab2",
   "outputs": [],
   "execution_count": 6
  },
  {
   "metadata": {
    "ExecuteTime": {
     "end_time": "2024-05-04T19:46:12.252574Z",
     "start_time": "2024-05-04T19:46:12.223869Z"
    }
   },
   "cell_type": "code",
   "source": "pl.DataFrame(df.dtypes)",
   "id": "82f3951dcf4cd693",
   "outputs": [
    {
     "data": {
      "text/plain": [
       "shape: (9, 1)\n",
       "┌──────────┐\n",
       "│ column_0 │\n",
       "│ ---      │\n",
       "│ object   │\n",
       "╞══════════╡\n",
       "│ String   │\n",
       "│ String   │\n",
       "│ Int64    │\n",
       "│ Int64    │\n",
       "│ String   │\n",
       "│ String   │\n",
       "│ Float64  │\n",
       "│ Int64    │\n",
       "│ String   │\n",
       "└──────────┘"
      ],
      "text/html": [
       "<div><style>\n",
       ".dataframe > thead > tr,\n",
       ".dataframe > tbody > tr {\n",
       "  text-align: right;\n",
       "  white-space: pre-wrap;\n",
       "}\n",
       "</style>\n",
       "<small>shape: (9, 1)</small><table border=\"1\" class=\"dataframe\"><thead><tr><th>column_0</th></tr><tr><td>object</td></tr></thead><tbody><tr><td>String</td></tr><tr><td>String</td></tr><tr><td>Int64</td></tr><tr><td>Int64</td></tr><tr><td>String</td></tr><tr><td>String</td></tr><tr><td>Float64</td></tr><tr><td>Int64</td></tr><tr><td>String</td></tr></tbody></table></div>"
      ]
     },
     "execution_count": 7,
     "metadata": {},
     "output_type": "execute_result"
    }
   ],
   "execution_count": 7
  },
  {
   "metadata": {
    "ExecuteTime": {
     "end_time": "2024-05-04T19:46:15.740267Z",
     "start_time": "2024-05-04T19:46:12.253584Z"
    }
   },
   "cell_type": "code",
   "source": "df.describe()",
   "id": "6f058ec0ab5cfd9a",
   "outputs": [
    {
     "data": {
      "text/plain": [
       "shape: (9, 10)\n",
       "┌───────────┬───────────┬───────────┬───────────┬───┬──────────┬───────────┬───────────┬───────────┐\n",
       "│ statistic ┆ event_tim ┆ event_typ ┆ product_i ┆ … ┆ brand    ┆ price     ┆ user_id   ┆ user_sess │\n",
       "│ ---       ┆ e         ┆ e         ┆ d         ┆   ┆ ---      ┆ ---       ┆ ---       ┆ ion       │\n",
       "│ str       ┆ ---       ┆ ---       ┆ ---       ┆   ┆ str      ┆ f64       ┆ f64       ┆ ---       │\n",
       "│           ┆ str       ┆ str       ┆ f64       ┆   ┆          ┆           ┆           ┆ str       │\n",
       "╞═══════════╪═══════════╪═══════════╪═══════════╪═══╪══════════╪═══════════╪═══════════╪═══════════╡\n",
       "│ count     ┆ 67501979  ┆ 67501979  ┆ 6.7501979 ┆ … ┆ 58283744 ┆ 6.7501979 ┆ 6.7501979 ┆ 67501969  │\n",
       "│           ┆           ┆           ┆ e7        ┆   ┆          ┆ e7        ┆ e7        ┆           │\n",
       "│ null_coun ┆ 0         ┆ 0         ┆ 0.0       ┆ … ┆ 9218235  ┆ 0.0       ┆ 0.0       ┆ 10        │\n",
       "│ t         ┆           ┆           ┆           ┆   ┆          ┆           ┆           ┆           │\n",
       "│ mean      ┆ null      ┆ null      ┆ 1.2514e7  ┆ … ┆ null     ┆ 292.45931 ┆ 5.3864e8  ┆ null      │\n",
       "│           ┆           ┆           ┆           ┆   ┆          ┆ 7         ┆           ┆           │\n",
       "│ std       ┆ null      ┆ null      ┆ 1.7257e7  ┆ … ┆ null     ┆ 355.6745  ┆ 2.2885e7  ┆ null      │\n",
       "│ min       ┆ 2019-11-0 ┆ cart      ┆ 1.000365e ┆ … ┆ a-case   ┆ 0.0       ┆ 1.0300217 ┆ 0000007c- │\n",
       "│           ┆ 1         ┆           ┆ 6         ┆   ┆          ┆           ┆ e7        ┆ adbf-4ed7 │\n",
       "│           ┆ 00:00:00  ┆           ┆           ┆   ┆          ┆           ┆           ┆ -af17-d1f │\n",
       "│           ┆ UTC       ┆           ┆           ┆   ┆          ┆           ┆           ┆ ef9…      │\n",
       "│ 25%       ┆ null      ┆ null      ┆ 1.305977e ┆ … ┆ null     ┆ 69.24     ┆ 5.1647624 ┆ null      │\n",
       "│           ┆           ┆           ┆ 6         ┆   ┆          ┆           ┆ 1e8       ┆           │\n",
       "│ 50%       ┆ null      ┆ null      ┆ 5.100568e ┆ … ┆ null     ┆ 165.77    ┆ 5.3505726 ┆ null      │\n",
       "│           ┆           ┆           ┆ 6         ┆   ┆          ┆           ┆ 4e8       ┆           │\n",
       "│ 75%       ┆ null      ┆ null      ┆ 1.7300752 ┆ … ┆ null     ┆ 360.34    ┆ 5.6107937 ┆ null      │\n",
       "│           ┆           ┆           ┆ e7        ┆   ┆          ┆           ┆ 9e8       ┆           │\n",
       "│ max       ┆ 2019-11-3 ┆ view      ┆ 1.0002855 ┆ … ┆ zyxel    ┆ 2574.07   ┆ 5.7996985 ┆ fffffde2- │\n",
       "│           ┆ 0         ┆           ┆ 4e8       ┆   ┆          ┆           ┆ 1e8       ┆ 4522-4b44 │\n",
       "│           ┆ 23:59:59  ┆           ┆           ┆   ┆          ┆           ┆           ┆ -8a32-510 │\n",
       "│           ┆ UTC       ┆           ┆           ┆   ┆          ┆           ┆           ┆ c55…      │\n",
       "└───────────┴───────────┴───────────┴───────────┴───┴──────────┴───────────┴───────────┴───────────┘"
      ],
      "text/html": [
       "<div><style>\n",
       ".dataframe > thead > tr,\n",
       ".dataframe > tbody > tr {\n",
       "  text-align: right;\n",
       "  white-space: pre-wrap;\n",
       "}\n",
       "</style>\n",
       "<small>shape: (9, 10)</small><table border=\"1\" class=\"dataframe\"><thead><tr><th>statistic</th><th>event_time</th><th>event_type</th><th>product_id</th><th>category_id</th><th>category_code</th><th>brand</th><th>price</th><th>user_id</th><th>user_session</th></tr><tr><td>str</td><td>str</td><td>str</td><td>f64</td><td>f64</td><td>str</td><td>str</td><td>f64</td><td>f64</td><td>str</td></tr></thead><tbody><tr><td>&quot;count&quot;</td><td>&quot;67501979&quot;</td><td>&quot;67501979&quot;</td><td>6.7501979e7</td><td>6.7501979e7</td><td>&quot;45603808&quot;</td><td>&quot;58283744&quot;</td><td>6.7501979e7</td><td>6.7501979e7</td><td>&quot;67501969&quot;</td></tr><tr><td>&quot;null_count&quot;</td><td>&quot;0&quot;</td><td>&quot;0&quot;</td><td>0.0</td><td>0.0</td><td>&quot;21898171&quot;</td><td>&quot;9218235&quot;</td><td>0.0</td><td>0.0</td><td>&quot;10&quot;</td></tr><tr><td>&quot;mean&quot;</td><td>null</td><td>null</td><td>1.2514e7</td><td>2.0579e18</td><td>null</td><td>null</td><td>292.459317</td><td>5.3864e8</td><td>null</td></tr><tr><td>&quot;std&quot;</td><td>null</td><td>null</td><td>1.7257e7</td><td>2.0125e16</td><td>null</td><td>null</td><td>355.6745</td><td>2.2885e7</td><td>null</td></tr><tr><td>&quot;min&quot;</td><td>&quot;2019-11-01 00:00:00 UTC&quot;</td><td>&quot;cart&quot;</td><td>1.000365e6</td><td>2.0530e18</td><td>&quot;accessories.bag&quot;</td><td>&quot;a-case&quot;</td><td>0.0</td><td>1.0300217e7</td><td>&quot;0000007c-adbf-4ed7-af17-d1fef9…</td></tr><tr><td>&quot;25%&quot;</td><td>null</td><td>null</td><td>1.305977e6</td><td>2.0530e18</td><td>null</td><td>null</td><td>69.24</td><td>5.16476241e8</td><td>null</td></tr><tr><td>&quot;50%&quot;</td><td>null</td><td>null</td><td>5.100568e6</td><td>2.0530e18</td><td>null</td><td>null</td><td>165.77</td><td>5.35057264e8</td><td>null</td></tr><tr><td>&quot;75%&quot;</td><td>null</td><td>null</td><td>1.7300752e7</td><td>2.0530e18</td><td>null</td><td>null</td><td>360.34</td><td>5.61079379e8</td><td>null</td></tr><tr><td>&quot;max&quot;</td><td>&quot;2019-11-30 23:59:59 UTC&quot;</td><td>&quot;view&quot;</td><td>1.00028554e8</td><td>2.1877e18</td><td>&quot;stationery.cartrige&quot;</td><td>&quot;zyxel&quot;</td><td>2574.07</td><td>5.79969851e8</td><td>&quot;fffffde2-4522-4b44-8a32-510c55…</td></tr></tbody></table></div>"
      ]
     },
     "execution_count": 8,
     "metadata": {},
     "output_type": "execute_result"
    }
   ],
   "execution_count": 8
  },
  {
   "metadata": {},
   "cell_type": "markdown",
   "source": "# Selecting and Filtering Data",
   "id": "1f064ab16a1de374"
  },
  {
   "metadata": {},
   "cell_type": "markdown",
   "source": [
    "## 1. Indexing with [ works but is an anti-pattern in polars\n",
    "There is no df.loc or df.iloc in polars"
   ],
   "id": "11585bb8b4db4443"
  },
  {
   "metadata": {
    "ExecuteTime": {
     "end_time": "2024-05-04T19:46:15.748544Z",
     "start_time": "2024-05-04T19:46:15.740267Z"
    }
   },
   "cell_type": "code",
   "source": "df[0,:]",
   "id": "78afb83f6ea59fae",
   "outputs": [
    {
     "data": {
      "text/plain": [
       "shape: (1, 9)\n",
       "┌────────────┬────────────┬────────────┬────────────┬───┬────────┬────────┬───────────┬────────────┐\n",
       "│ event_time ┆ event_type ┆ product_id ┆ category_i ┆ … ┆ brand  ┆ price  ┆ user_id   ┆ user_sessi │\n",
       "│ ---        ┆ ---        ┆ ---        ┆ d          ┆   ┆ ---    ┆ ---    ┆ ---       ┆ on         │\n",
       "│ str        ┆ str        ┆ i64        ┆ ---        ┆   ┆ str    ┆ f64    ┆ i64       ┆ ---        │\n",
       "│            ┆            ┆            ┆ i64        ┆   ┆        ┆        ┆           ┆ str        │\n",
       "╞════════════╪════════════╪════════════╪════════════╪═══╪════════╪════════╪═══════════╪════════════╡\n",
       "│ 2019-11-01 ┆ view       ┆ 1003461    ┆ 2053013555 ┆ … ┆ xiaomi ┆ 489.07 ┆ 520088904 ┆ 4d3b30da-a │\n",
       "│ 00:00:00   ┆            ┆            ┆ 631882655  ┆   ┆        ┆        ┆           ┆ 5e4-49df-b │\n",
       "│ UTC        ┆            ┆            ┆            ┆   ┆        ┆        ┆           ┆ 1a8-ba5943 │\n",
       "│            ┆            ┆            ┆            ┆   ┆        ┆        ┆           ┆ …          │\n",
       "└────────────┴────────────┴────────────┴────────────┴───┴────────┴────────┴───────────┴────────────┘"
      ],
      "text/html": [
       "<div><style>\n",
       ".dataframe > thead > tr,\n",
       ".dataframe > tbody > tr {\n",
       "  text-align: right;\n",
       "  white-space: pre-wrap;\n",
       "}\n",
       "</style>\n",
       "<small>shape: (1, 9)</small><table border=\"1\" class=\"dataframe\"><thead><tr><th>event_time</th><th>event_type</th><th>product_id</th><th>category_id</th><th>category_code</th><th>brand</th><th>price</th><th>user_id</th><th>user_session</th></tr><tr><td>str</td><td>str</td><td>i64</td><td>i64</td><td>str</td><td>str</td><td>f64</td><td>i64</td><td>str</td></tr></thead><tbody><tr><td>&quot;2019-11-01 00:00:00 UTC&quot;</td><td>&quot;view&quot;</td><td>1003461</td><td>2053013555631882655</td><td>&quot;electronics.smartphone&quot;</td><td>&quot;xiaomi&quot;</td><td>489.07</td><td>520088904</td><td>&quot;4d3b30da-a5e4-49df-b1a8-ba5943…</td></tr></tbody></table></div>"
      ]
     },
     "execution_count": 9,
     "metadata": {},
     "output_type": "execute_result"
    }
   ],
   "execution_count": 9
  },
  {
   "metadata": {
    "ExecuteTime": {
     "end_time": "2024-05-04T19:46:15.754913Z",
     "start_time": "2024-05-04T19:46:15.749549Z"
    }
   },
   "cell_type": "code",
   "source": "df.columns",
   "id": "e14284cc887f9fdb",
   "outputs": [
    {
     "data": {
      "text/plain": [
       "['event_time',\n",
       " 'event_type',\n",
       " 'product_id',\n",
       " 'category_id',\n",
       " 'category_code',\n",
       " 'brand',\n",
       " 'price',\n",
       " 'user_id',\n",
       " 'user_session']"
      ]
     },
     "execution_count": 10,
     "metadata": {},
     "output_type": "execute_result"
    }
   ],
   "execution_count": 10
  },
  {
   "metadata": {
    "ExecuteTime": {
     "end_time": "2024-05-04T19:46:15.779287Z",
     "start_time": "2024-05-04T19:46:15.774239Z"
    }
   },
   "cell_type": "code",
   "source": "df[['event_time', 'price']].head()",
   "id": "8ce07375ae1e19b3",
   "outputs": [
    {
     "data": {
      "text/plain": [
       "shape: (5, 2)\n",
       "┌─────────────────────────┬────────┐\n",
       "│ event_time              ┆ price  │\n",
       "│ ---                     ┆ ---    │\n",
       "│ str                     ┆ f64    │\n",
       "╞═════════════════════════╪════════╡\n",
       "│ 2019-11-01 00:00:00 UTC ┆ 489.07 │\n",
       "│ 2019-11-01 00:00:00 UTC ┆ 293.65 │\n",
       "│ 2019-11-01 00:00:01 UTC ┆ 28.31  │\n",
       "│ 2019-11-01 00:00:01 UTC ┆ 712.87 │\n",
       "│ 2019-11-01 00:00:01 UTC ┆ 183.27 │\n",
       "└─────────────────────────┴────────┘"
      ],
      "text/html": [
       "<div><style>\n",
       ".dataframe > thead > tr,\n",
       ".dataframe > tbody > tr {\n",
       "  text-align: right;\n",
       "  white-space: pre-wrap;\n",
       "}\n",
       "</style>\n",
       "<small>shape: (5, 2)</small><table border=\"1\" class=\"dataframe\"><thead><tr><th>event_time</th><th>price</th></tr><tr><td>str</td><td>f64</td></tr></thead><tbody><tr><td>&quot;2019-11-01 00:00:00 UTC&quot;</td><td>489.07</td></tr><tr><td>&quot;2019-11-01 00:00:00 UTC&quot;</td><td>293.65</td></tr><tr><td>&quot;2019-11-01 00:00:01 UTC&quot;</td><td>28.31</td></tr><tr><td>&quot;2019-11-01 00:00:01 UTC&quot;</td><td>712.87</td></tr><tr><td>&quot;2019-11-01 00:00:01 UTC&quot;</td><td>183.27</td></tr></tbody></table></div>"
      ]
     },
     "execution_count": 11,
     "metadata": {},
     "output_type": "execute_result"
    }
   ],
   "execution_count": 11
  },
  {
   "metadata": {
    "ExecuteTime": {
     "end_time": "2024-05-04T19:46:15.988438Z",
     "start_time": "2024-05-04T19:46:15.779287Z"
    }
   },
   "cell_type": "code",
   "source": "df.filter(pl.col('price')> 1000)",
   "id": "8ea30ff118661add",
   "outputs": [
    {
     "data": {
      "text/plain": [
       "shape: (3_301_021, 9)\n",
       "┌────────────┬────────────┬────────────┬────────────┬───┬───────┬─────────┬───────────┬────────────┐\n",
       "│ event_time ┆ event_type ┆ product_id ┆ category_i ┆ … ┆ brand ┆ price   ┆ user_id   ┆ user_sessi │\n",
       "│ ---        ┆ ---        ┆ ---        ┆ d          ┆   ┆ ---   ┆ ---     ┆ ---       ┆ on         │\n",
       "│ str        ┆ str        ┆ i64        ┆ ---        ┆   ┆ str   ┆ f64     ┆ i64       ┆ ---        │\n",
       "│            ┆            ┆            ┆ i64        ┆   ┆       ┆         ┆           ┆ str        │\n",
       "╞════════════╪════════════╪════════════╪════════════╪═══╪═══════╪═════════╪═══════════╪════════════╡\n",
       "│ 2019-11-01 ┆ view       ┆ 1004237    ┆ 2053013555 ┆ … ┆ apple ┆ 1091.33 ┆ 565404816 ┆ d9cf0ac4-c │\n",
       "│ 00:00:27   ┆            ┆            ┆ 631882655  ┆   ┆       ┆         ┆           ┆ 3ec-4e1f-8 │\n",
       "│ UTC        ┆            ┆            ┆            ┆   ┆       ┆         ┆           ┆ 3aa-326b1e │\n",
       "│            ┆            ┆            ┆            ┆   ┆       ┆         ┆           ┆ …          │\n",
       "│ 2019-11-01 ┆ view       ┆ 1005116    ┆ 2053013555 ┆ … ┆ apple ┆ 1013.86 ┆ 532647354 ┆ d2d3d2c6-6 │\n",
       "│ 00:00:40   ┆            ┆            ┆ 631882655  ┆   ┆       ┆         ┆           ┆ 31d-489e-9 │\n",
       "│ UTC        ┆            ┆            ┆            ┆   ┆       ┆         ┆           ┆ fb5-06f340 │\n",
       "│            ┆            ┆            ┆            ┆   ┆       ┆         ┆           ┆ …          │\n",
       "│ 2019-11-01 ┆ view       ┆ 1004241    ┆ 2053013555 ┆ … ┆ apple ┆ 1173.6  ┆ 565404816 ┆ d9cf0ac4-c │\n",
       "│ 00:00:41   ┆            ┆            ┆ 631882655  ┆   ┆       ┆         ┆           ┆ 3ec-4e1f-8 │\n",
       "│ UTC        ┆            ┆            ┆            ┆   ┆       ┆         ┆           ┆ 3aa-326b1e │\n",
       "│            ┆            ┆            ┆            ┆   ┆       ┆         ┆           ┆ …          │\n",
       "│ 2019-11-01 ┆ view       ┆ 1004237    ┆ 2053013555 ┆ … ┆ apple ┆ 1091.33 ┆ 519277091 ┆ 62fadce6-a │\n",
       "│ 00:00:41   ┆            ┆            ┆ 631882655  ┆   ┆       ┆         ┆           ┆ a4a-4dde-9 │\n",
       "│ UTC        ┆            ┆            ┆            ┆   ┆       ┆         ┆           ┆ 2fc-c04c22 │\n",
       "│            ┆            ┆            ┆            ┆   ┆       ┆         ┆           ┆ …          │\n",
       "│ 2019-11-01 ┆ view       ┆ 1307012    ┆ 2053013558 ┆ … ┆ apple ┆ 2342.15 ┆ 530857208 ┆ c69f9c63-7 │\n",
       "│ 00:00:51   ┆            ┆            ┆ 920217191  ┆   ┆       ┆         ┆           ┆ 098-426c-9 │\n",
       "│ UTC        ┆            ┆            ┆            ┆   ┆       ┆         ┆           ┆ 7d9-8cb94a │\n",
       "│            ┆            ┆            ┆            ┆   ┆       ┆         ┆           ┆ …          │\n",
       "│ …          ┆ …          ┆ …          ┆ …          ┆ … ┆ …     ┆ …       ┆ …         ┆ …          │\n",
       "│ 2019-11-30 ┆ view       ┆ 1005124    ┆ 2053013555 ┆ … ┆ apple ┆ 1436.56 ┆ 571072384 ┆ 8f414ee3-5 │\n",
       "│ 23:59:17   ┆            ┆            ┆ 631882655  ┆   ┆       ┆         ┆           ┆ bf5-48ce-a │\n",
       "│ UTC        ┆            ┆            ┆            ┆   ┆       ┆         ┆           ┆ 57c-f19a9b │\n",
       "│            ┆            ┆            ┆            ┆   ┆       ┆         ┆           ┆ …          │\n",
       "│ 2019-11-30 ┆ view       ┆ 1005105    ┆ 2053013555 ┆ … ┆ apple ┆ 1302.48 ┆ 556695836 ┆ ca5eefc5-1 │\n",
       "│ 23:59:29   ┆            ┆            ┆ 631882655  ┆   ┆       ┆         ┆           ┆ 1f9-450c-9 │\n",
       "│ UTC        ┆            ┆            ┆            ┆   ┆       ┆         ┆           ┆ 1ed-380285 │\n",
       "│            ┆            ┆            ┆            ┆   ┆       ┆         ┆           ┆ …          │\n",
       "│ 2019-11-30 ┆ view       ┆ 1005105    ┆ 2053013555 ┆ … ┆ apple ┆ 1302.48 ┆ 561181104 ┆ b2c61552-5 │\n",
       "│ 23:59:38   ┆            ┆            ┆ 631882655  ┆   ┆       ┆         ┆           ┆ 76c-4532-8 │\n",
       "│ UTC        ┆            ┆            ┆            ┆   ┆       ┆         ┆           ┆ d1e-ad2a0a │\n",
       "│            ┆            ┆            ┆            ┆   ┆       ┆         ┆           ┆ …          │\n",
       "│ 2019-11-30 ┆ view       ┆ 16800304   ┆ 2053013558 ┆ … ┆ aero  ┆ 1106.85 ┆ 579175262 ┆ b8ff34a9-4 │\n",
       "│ 23:59:55   ┆            ┆            ┆ 316237377  ┆   ┆       ┆         ┆           ┆ 1be-4497-b │\n",
       "│ UTC        ┆            ┆            ┆            ┆   ┆       ┆         ┆           ┆ 373-408c6e │\n",
       "│            ┆            ┆            ┆            ┆   ┆       ┆         ┆           ┆ …          │\n",
       "│ 2019-11-30 ┆ view       ┆ 1004233    ┆ 2053013555 ┆ … ┆ apple ┆ 1312.52 ┆ 579969851 ┆ 90aca71c-e │\n",
       "│ 23:59:59   ┆            ┆            ┆ 631882655  ┆   ┆       ┆         ┆           ┆ d8a-4670-8 │\n",
       "│ UTC        ┆            ┆            ┆            ┆   ┆       ┆         ┆           ┆ 66a-761eba │\n",
       "│            ┆            ┆            ┆            ┆   ┆       ┆         ┆           ┆ …          │\n",
       "└────────────┴────────────┴────────────┴────────────┴───┴───────┴─────────┴───────────┴────────────┘"
      ],
      "text/html": [
       "<div><style>\n",
       ".dataframe > thead > tr,\n",
       ".dataframe > tbody > tr {\n",
       "  text-align: right;\n",
       "  white-space: pre-wrap;\n",
       "}\n",
       "</style>\n",
       "<small>shape: (3_301_021, 9)</small><table border=\"1\" class=\"dataframe\"><thead><tr><th>event_time</th><th>event_type</th><th>product_id</th><th>category_id</th><th>category_code</th><th>brand</th><th>price</th><th>user_id</th><th>user_session</th></tr><tr><td>str</td><td>str</td><td>i64</td><td>i64</td><td>str</td><td>str</td><td>f64</td><td>i64</td><td>str</td></tr></thead><tbody><tr><td>&quot;2019-11-01 00:00:27 UTC&quot;</td><td>&quot;view&quot;</td><td>1004237</td><td>2053013555631882655</td><td>&quot;electronics.smartphone&quot;</td><td>&quot;apple&quot;</td><td>1091.33</td><td>565404816</td><td>&quot;d9cf0ac4-c3ec-4e1f-83aa-326b1e…</td></tr><tr><td>&quot;2019-11-01 00:00:40 UTC&quot;</td><td>&quot;view&quot;</td><td>1005116</td><td>2053013555631882655</td><td>&quot;electronics.smartphone&quot;</td><td>&quot;apple&quot;</td><td>1013.86</td><td>532647354</td><td>&quot;d2d3d2c6-631d-489e-9fb5-06f340…</td></tr><tr><td>&quot;2019-11-01 00:00:41 UTC&quot;</td><td>&quot;view&quot;</td><td>1004241</td><td>2053013555631882655</td><td>&quot;electronics.smartphone&quot;</td><td>&quot;apple&quot;</td><td>1173.6</td><td>565404816</td><td>&quot;d9cf0ac4-c3ec-4e1f-83aa-326b1e…</td></tr><tr><td>&quot;2019-11-01 00:00:41 UTC&quot;</td><td>&quot;view&quot;</td><td>1004237</td><td>2053013555631882655</td><td>&quot;electronics.smartphone&quot;</td><td>&quot;apple&quot;</td><td>1091.33</td><td>519277091</td><td>&quot;62fadce6-aa4a-4dde-92fc-c04c22…</td></tr><tr><td>&quot;2019-11-01 00:00:51 UTC&quot;</td><td>&quot;view&quot;</td><td>1307012</td><td>2053013558920217191</td><td>&quot;computers.notebook&quot;</td><td>&quot;apple&quot;</td><td>2342.15</td><td>530857208</td><td>&quot;c69f9c63-7098-426c-97d9-8cb94a…</td></tr><tr><td>&hellip;</td><td>&hellip;</td><td>&hellip;</td><td>&hellip;</td><td>&hellip;</td><td>&hellip;</td><td>&hellip;</td><td>&hellip;</td><td>&hellip;</td></tr><tr><td>&quot;2019-11-30 23:59:17 UTC&quot;</td><td>&quot;view&quot;</td><td>1005124</td><td>2053013555631882655</td><td>&quot;electronics.smartphone&quot;</td><td>&quot;apple&quot;</td><td>1436.56</td><td>571072384</td><td>&quot;8f414ee3-5bf5-48ce-a57c-f19a9b…</td></tr><tr><td>&quot;2019-11-30 23:59:29 UTC&quot;</td><td>&quot;view&quot;</td><td>1005105</td><td>2053013555631882655</td><td>&quot;electronics.smartphone&quot;</td><td>&quot;apple&quot;</td><td>1302.48</td><td>556695836</td><td>&quot;ca5eefc5-11f9-450c-91ed-380285…</td></tr><tr><td>&quot;2019-11-30 23:59:38 UTC&quot;</td><td>&quot;view&quot;</td><td>1005105</td><td>2053013555631882655</td><td>&quot;electronics.smartphone&quot;</td><td>&quot;apple&quot;</td><td>1302.48</td><td>561181104</td><td>&quot;b2c61552-576c-4532-8d1e-ad2a0a…</td></tr><tr><td>&quot;2019-11-30 23:59:55 UTC&quot;</td><td>&quot;view&quot;</td><td>16800304</td><td>2053013558316237377</td><td>&quot;furniture.kitchen.table&quot;</td><td>&quot;aero&quot;</td><td>1106.85</td><td>579175262</td><td>&quot;b8ff34a9-41be-4497-b373-408c6e…</td></tr><tr><td>&quot;2019-11-30 23:59:59 UTC&quot;</td><td>&quot;view&quot;</td><td>1004233</td><td>2053013555631882655</td><td>&quot;electronics.smartphone&quot;</td><td>&quot;apple&quot;</td><td>1312.52</td><td>579969851</td><td>&quot;90aca71c-ed8a-4670-866a-761eba…</td></tr></tbody></table></div>"
      ]
     },
     "execution_count": 12,
     "metadata": {},
     "output_type": "execute_result"
    }
   ],
   "execution_count": 12
  },
  {
   "metadata": {},
   "cell_type": "markdown",
   "source": "## 2. Select data with idiomatic polars",
   "id": "8a7c638d12264731"
  },
  {
   "metadata": {
    "ExecuteTime": {
     "end_time": "2024-05-04T19:46:17.492841Z",
     "start_time": "2024-05-04T19:46:15.988438Z"
    }
   },
   "cell_type": "code",
   "source": "df.sample(5)",
   "id": "bbc0bd27b41c05bd",
   "outputs": [
    {
     "data": {
      "text/plain": [
       "shape: (5, 9)\n",
       "┌────────────┬────────────┬────────────┬───────────┬───┬──────────┬────────┬───────────┬───────────┐\n",
       "│ event_time ┆ event_type ┆ product_id ┆ category_ ┆ … ┆ brand    ┆ price  ┆ user_id   ┆ user_sess │\n",
       "│ ---        ┆ ---        ┆ ---        ┆ id        ┆   ┆ ---      ┆ ---    ┆ ---       ┆ ion       │\n",
       "│ str        ┆ str        ┆ i64        ┆ ---       ┆   ┆ str      ┆ f64    ┆ i64       ┆ ---       │\n",
       "│            ┆            ┆            ┆ i64       ┆   ┆          ┆        ┆           ┆ str       │\n",
       "╞════════════╪════════════╪════════════╪═══════════╪═══╪══════════╪════════╪═══════════╪═══════════╡\n",
       "│ 2019-11-26 ┆ view       ┆ 12400438   ┆ 205301355 ┆ … ┆ makita   ┆ 622.8  ┆ 535057247 ┆ 1c6b3456- │\n",
       "│ 12:53:42   ┆            ┆            ┆ 625263968 ┆   ┆          ┆        ┆           ┆ 334d-eb5e │\n",
       "│ UTC        ┆            ┆            ┆ 7         ┆   ┆          ┆        ┆           ┆ -f2db-02b │\n",
       "│            ┆            ┆            ┆           ┆   ┆          ┆        ┆           ┆ d99…      │\n",
       "│ 2019-11-29 ┆ purchase   ┆ 21409356   ┆ 205301356 ┆ … ┆ null     ┆ 18.02  ┆ 578802815 ┆ cd8e37d5- │\n",
       "│ 09:06:57   ┆            ┆            ┆ 157940607 ┆   ┆          ┆        ┆           ┆ c15a-4cb4 │\n",
       "│ UTC        ┆            ┆            ┆ 3         ┆   ┆          ┆        ┆           ┆ -9c7d-637 │\n",
       "│            ┆            ┆            ┆           ┆   ┆          ┆        ┆           ┆ 83f…      │\n",
       "│ 2019-11-08 ┆ view       ┆ 1801631    ┆ 205301355 ┆ … ┆ artel    ┆ 334.11 ┆ 558361105 ┆ 1a4fae89- │\n",
       "│ 09:51:27   ┆            ┆            ┆ 441553442 ┆   ┆          ┆        ┆           ┆ 8edd-43ff │\n",
       "│ UTC        ┆            ┆            ┆ 7         ┆   ┆          ┆        ┆           ┆ -86cc-f94 │\n",
       "│            ┆            ┆            ┆           ┆   ┆          ┆        ┆           ┆ 225…      │\n",
       "│ 2019-11-20 ┆ view       ┆ 6301705    ┆ 205301355 ┆ … ┆ scarlett ┆ 15.86  ┆ 567683792 ┆ 0136f813- │\n",
       "│ 13:10:58   ┆            ┆            ┆ 483496485 ┆   ┆          ┆        ┆           ┆ d539-4071 │\n",
       "│ UTC        ┆            ┆            ┆ 3         ┆   ┆          ┆        ┆           ┆ -a9a6-cc2 │\n",
       "│            ┆            ┆            ┆           ┆   ┆          ┆        ┆           ┆ 7f7…      │\n",
       "│ 2019-11-26 ┆ view       ┆ 10400610   ┆ 205301355 ┆ … ┆ maisto   ┆ 28.29  ┆ 544660034 ┆ 952a4f1e- │\n",
       "│ 15:58:10   ┆            ┆            ┆ 325790644 ┆   ┆          ┆        ┆           ┆ 6597-4c35 │\n",
       "│ UTC        ┆            ┆            ┆ 7         ┆   ┆          ┆        ┆           ┆ -b2ad-920 │\n",
       "│            ┆            ┆            ┆           ┆   ┆          ┆        ┆           ┆ 9fa…      │\n",
       "└────────────┴────────────┴────────────┴───────────┴───┴──────────┴────────┴───────────┴───────────┘"
      ],
      "text/html": [
       "<div><style>\n",
       ".dataframe > thead > tr,\n",
       ".dataframe > tbody > tr {\n",
       "  text-align: right;\n",
       "  white-space: pre-wrap;\n",
       "}\n",
       "</style>\n",
       "<small>shape: (5, 9)</small><table border=\"1\" class=\"dataframe\"><thead><tr><th>event_time</th><th>event_type</th><th>product_id</th><th>category_id</th><th>category_code</th><th>brand</th><th>price</th><th>user_id</th><th>user_session</th></tr><tr><td>str</td><td>str</td><td>i64</td><td>i64</td><td>str</td><td>str</td><td>f64</td><td>i64</td><td>str</td></tr></thead><tbody><tr><td>&quot;2019-11-26 12:53:42 UTC&quot;</td><td>&quot;view&quot;</td><td>12400438</td><td>2053013556252639687</td><td>&quot;construction.tools.drill&quot;</td><td>&quot;makita&quot;</td><td>622.8</td><td>535057247</td><td>&quot;1c6b3456-334d-eb5e-f2db-02bd99…</td></tr><tr><td>&quot;2019-11-29 09:06:57 UTC&quot;</td><td>&quot;purchase&quot;</td><td>21409356</td><td>2053013561579406073</td><td>&quot;electronics.clocks&quot;</td><td>null</td><td>18.02</td><td>578802815</td><td>&quot;cd8e37d5-c15a-4cb4-9c7d-63783f…</td></tr><tr><td>&quot;2019-11-08 09:51:27 UTC&quot;</td><td>&quot;view&quot;</td><td>1801631</td><td>2053013554415534427</td><td>&quot;electronics.video.tv&quot;</td><td>&quot;artel&quot;</td><td>334.11</td><td>558361105</td><td>&quot;1a4fae89-8edd-43ff-86cc-f94225…</td></tr><tr><td>&quot;2019-11-20 13:10:58 UTC&quot;</td><td>&quot;view&quot;</td><td>6301705</td><td>2053013554834964853</td><td>&quot;appliances.kitchen.kettle&quot;</td><td>&quot;scarlett&quot;</td><td>15.86</td><td>567683792</td><td>&quot;0136f813-d539-4071-a9a6-cc27f7…</td></tr><tr><td>&quot;2019-11-26 15:58:10 UTC&quot;</td><td>&quot;view&quot;</td><td>10400610</td><td>2053013553257906447</td><td>&quot;kids.toys&quot;</td><td>&quot;maisto&quot;</td><td>28.29</td><td>544660034</td><td>&quot;952a4f1e-6597-4c35-b2ad-9209fa…</td></tr></tbody></table></div>"
      ]
     },
     "execution_count": 13,
     "metadata": {},
     "output_type": "execute_result"
    }
   ],
   "execution_count": 13
  },
  {
   "metadata": {
    "ExecuteTime": {
     "end_time": "2024-05-04T19:46:17.501875Z",
     "start_time": "2024-05-04T19:46:17.493847Z"
    }
   },
   "cell_type": "code",
   "source": "df.select(['brand', 'price'])",
   "id": "9310dd44d17e3f87",
   "outputs": [
    {
     "data": {
      "text/plain": [
       "shape: (67_501_979, 2)\n",
       "┌─────────┬─────────┐\n",
       "│ brand   ┆ price   │\n",
       "│ ---     ┆ ---     │\n",
       "│ str     ┆ f64     │\n",
       "╞═════════╪═════════╡\n",
       "│ xiaomi  ┆ 489.07  │\n",
       "│ janome  ┆ 293.65  │\n",
       "│ creed   ┆ 28.31   │\n",
       "│ lg      ┆ 712.87  │\n",
       "│ xiaomi  ┆ 183.27  │\n",
       "│ …       ┆ …       │\n",
       "│ null    ┆ 277.74  │\n",
       "│ baden   ┆ 62.81   │\n",
       "│ samsung ┆ 167.03  │\n",
       "│ samsung ┆ 566.27  │\n",
       "│ apple   ┆ 1312.52 │\n",
       "└─────────┴─────────┘"
      ],
      "text/html": [
       "<div><style>\n",
       ".dataframe > thead > tr,\n",
       ".dataframe > tbody > tr {\n",
       "  text-align: right;\n",
       "  white-space: pre-wrap;\n",
       "}\n",
       "</style>\n",
       "<small>shape: (67_501_979, 2)</small><table border=\"1\" class=\"dataframe\"><thead><tr><th>brand</th><th>price</th></tr><tr><td>str</td><td>f64</td></tr></thead><tbody><tr><td>&quot;xiaomi&quot;</td><td>489.07</td></tr><tr><td>&quot;janome&quot;</td><td>293.65</td></tr><tr><td>&quot;creed&quot;</td><td>28.31</td></tr><tr><td>&quot;lg&quot;</td><td>712.87</td></tr><tr><td>&quot;xiaomi&quot;</td><td>183.27</td></tr><tr><td>&hellip;</td><td>&hellip;</td></tr><tr><td>null</td><td>277.74</td></tr><tr><td>&quot;baden&quot;</td><td>62.81</td></tr><tr><td>&quot;samsung&quot;</td><td>167.03</td></tr><tr><td>&quot;samsung&quot;</td><td>566.27</td></tr><tr><td>&quot;apple&quot;</td><td>1312.52</td></tr></tbody></table></div>"
      ]
     },
     "execution_count": 14,
     "metadata": {},
     "output_type": "execute_result"
    }
   ],
   "execution_count": 14
  },
  {
   "metadata": {
    "ExecuteTime": {
     "end_time": "2024-05-04T19:46:17.609229Z",
     "start_time": "2024-05-04T19:46:17.501875Z"
    }
   },
   "cell_type": "code",
   "source": [
    "df.with_columns([\n",
    "    (pl.col('price') * 100).alias('price_100'),\n",
    "])"
   ],
   "id": "7b610dd230edf424",
   "outputs": [
    {
     "data": {
      "text/plain": [
       "shape: (67_501_979, 10)\n",
       "┌────────────┬───────────┬───────────┬───────────┬───┬─────────┬───────────┬───────────┬───────────┐\n",
       "│ event_time ┆ event_typ ┆ product_i ┆ category_ ┆ … ┆ price   ┆ user_id   ┆ user_sess ┆ price_100 │\n",
       "│ ---        ┆ e         ┆ d         ┆ id        ┆   ┆ ---     ┆ ---       ┆ ion       ┆ ---       │\n",
       "│ str        ┆ ---       ┆ ---       ┆ ---       ┆   ┆ f64     ┆ i64       ┆ ---       ┆ f64       │\n",
       "│            ┆ str       ┆ i64       ┆ i64       ┆   ┆         ┆           ┆ str       ┆           │\n",
       "╞════════════╪═══════════╪═══════════╪═══════════╪═══╪═════════╪═══════════╪═══════════╪═══════════╡\n",
       "│ 2019-11-01 ┆ view      ┆ 1003461   ┆ 205301355 ┆ … ┆ 489.07  ┆ 520088904 ┆ 4d3b30da- ┆ 48907.0   │\n",
       "│ 00:00:00   ┆           ┆           ┆ 563188265 ┆   ┆         ┆           ┆ a5e4-49df ┆           │\n",
       "│ UTC        ┆           ┆           ┆ 5         ┆   ┆         ┆           ┆ -b1a8-ba5 ┆           │\n",
       "│            ┆           ┆           ┆           ┆   ┆         ┆           ┆ 943…      ┆           │\n",
       "│ 2019-11-01 ┆ view      ┆ 5000088   ┆ 205301356 ┆ … ┆ 293.65  ┆ 530496790 ┆ 8e5f4f83- ┆ 29365.0   │\n",
       "│ 00:00:00   ┆           ┆           ┆ 610086603 ┆   ┆         ┆           ┆ 366c-4f70 ┆           │\n",
       "│ UTC        ┆           ┆           ┆ 5         ┆   ┆         ┆           ┆ -860e-ca7 ┆           │\n",
       "│            ┆           ┆           ┆           ┆   ┆         ┆           ┆ 417…      ┆           │\n",
       "│ 2019-11-01 ┆ view      ┆ 17302664  ┆ 205301355 ┆ … ┆ 28.31   ┆ 561587266 ┆ 755422e7- ┆ 2831.0    │\n",
       "│ 00:00:01   ┆           ┆           ┆ 385349765 ┆   ┆         ┆           ┆ 9040-477b ┆           │\n",
       "│ UTC        ┆           ┆           ┆ 5         ┆   ┆         ┆           ┆ -9bd2-6a6 ┆           │\n",
       "│            ┆           ┆           ┆           ┆   ┆         ┆           ┆ e8f…      ┆           │\n",
       "│ 2019-11-01 ┆ view      ┆ 3601530   ┆ 205301356 ┆ … ┆ 712.87  ┆ 518085591 ┆ 3bfb58cd- ┆ 71287.0   │\n",
       "│ 00:00:01   ┆           ┆           ┆ 381077592 ┆   ┆         ┆           ┆ 7892-48cc ┆           │\n",
       "│ UTC        ┆           ┆           ┆ 3         ┆   ┆         ┆           ┆ -8020-2f1 ┆           │\n",
       "│            ┆           ┆           ┆           ┆   ┆         ┆           ┆ 7e6…      ┆           │\n",
       "│ 2019-11-01 ┆ view      ┆ 1004775   ┆ 205301355 ┆ … ┆ 183.27  ┆ 558856683 ┆ 313628f1- ┆ 18327.0   │\n",
       "│ 00:00:01   ┆           ┆           ┆ 563188265 ┆   ┆         ┆           ┆ 68b8-460d ┆           │\n",
       "│ UTC        ┆           ┆           ┆ 5         ┆   ┆         ┆           ┆ -84f6-cec ┆           │\n",
       "│            ┆           ┆           ┆           ┆   ┆         ┆           ┆ 7a8…      ┆           │\n",
       "│ …          ┆ …         ┆ …         ┆ …         ┆ … ┆ …       ┆ …         ┆ …         ┆ …         │\n",
       "│ 2019-11-30 ┆ view      ┆ 15700137  ┆ 205301355 ┆ … ┆ 277.74  ┆ 532714000 ┆ 02b4131c- ┆ 27774.0   │\n",
       "│ 23:59:58   ┆           ┆           ┆ 973391221 ┆   ┆         ┆           ┆ 0112-4231 ┆           │\n",
       "│ UTC        ┆           ┆           ┆ 1         ┆   ┆         ┆           ┆ -aafa-cea ┆           │\n",
       "│            ┆           ┆           ┆           ┆   ┆         ┆           ┆ a08…      ┆           │\n",
       "│ 2019-11-30 ┆ view      ┆ 28719425  ┆ 205301356 ┆ … ┆ 62.81   ┆ 545223467 ┆ 734c5eef- ┆ 6281.0    │\n",
       "│ 23:59:58   ┆           ┆           ┆ 563949256 ┆   ┆         ┆           ┆ 0742-4f8b ┆           │\n",
       "│ UTC        ┆           ┆           ┆ 9         ┆   ┆         ┆           ┆ -9d22-48f ┆           │\n",
       "│            ┆           ┆           ┆           ┆   ┆         ┆           ┆ 75b…      ┆           │\n",
       "│ 2019-11-30 ┆ view      ┆ 1004833   ┆ 205301355 ┆ … ┆ 167.03  ┆ 557794415 ┆ 6fecf566- ┆ 16703.0   │\n",
       "│ 23:59:59   ┆           ┆           ┆ 563188265 ┆   ┆         ┆           ┆ ebb0-4e70 ┆           │\n",
       "│ UTC        ┆           ┆           ┆ 5         ┆   ┆         ┆           ┆ -a243-cdc ┆           │\n",
       "│            ┆           ┆           ┆           ┆   ┆         ┆           ┆ 13c…      ┆           │\n",
       "│ 2019-11-30 ┆ view      ┆ 2701706   ┆ 205301356 ┆ … ┆ 566.27  ┆ 531607492 ┆ 368ddc8b- ┆ 56627.0   │\n",
       "│ 23:59:59   ┆           ┆           ┆ 391143922 ┆   ┆         ┆           ┆ 5db9-40fb ┆           │\n",
       "│ UTC        ┆           ┆           ┆ 5         ┆   ┆         ┆           ┆ -b7ff-b65 ┆           │\n",
       "│            ┆           ┆           ┆           ┆   ┆         ┆           ┆ 82a…      ┆           │\n",
       "│ 2019-11-30 ┆ view      ┆ 1004233   ┆ 205301355 ┆ … ┆ 1312.52 ┆ 579969851 ┆ 90aca71c- ┆ 131252.0  │\n",
       "│ 23:59:59   ┆           ┆           ┆ 563188265 ┆   ┆         ┆           ┆ ed8a-4670 ┆           │\n",
       "│ UTC        ┆           ┆           ┆ 5         ┆   ┆         ┆           ┆ -866a-761 ┆           │\n",
       "│            ┆           ┆           ┆           ┆   ┆         ┆           ┆ eba…      ┆           │\n",
       "└────────────┴───────────┴───────────┴───────────┴───┴─────────┴───────────┴───────────┴───────────┘"
      ],
      "text/html": [
       "<div><style>\n",
       ".dataframe > thead > tr,\n",
       ".dataframe > tbody > tr {\n",
       "  text-align: right;\n",
       "  white-space: pre-wrap;\n",
       "}\n",
       "</style>\n",
       "<small>shape: (67_501_979, 10)</small><table border=\"1\" class=\"dataframe\"><thead><tr><th>event_time</th><th>event_type</th><th>product_id</th><th>category_id</th><th>category_code</th><th>brand</th><th>price</th><th>user_id</th><th>user_session</th><th>price_100</th></tr><tr><td>str</td><td>str</td><td>i64</td><td>i64</td><td>str</td><td>str</td><td>f64</td><td>i64</td><td>str</td><td>f64</td></tr></thead><tbody><tr><td>&quot;2019-11-01 00:00:00 UTC&quot;</td><td>&quot;view&quot;</td><td>1003461</td><td>2053013555631882655</td><td>&quot;electronics.smartphone&quot;</td><td>&quot;xiaomi&quot;</td><td>489.07</td><td>520088904</td><td>&quot;4d3b30da-a5e4-49df-b1a8-ba5943…</td><td>48907.0</td></tr><tr><td>&quot;2019-11-01 00:00:00 UTC&quot;</td><td>&quot;view&quot;</td><td>5000088</td><td>2053013566100866035</td><td>&quot;appliances.sewing_machine&quot;</td><td>&quot;janome&quot;</td><td>293.65</td><td>530496790</td><td>&quot;8e5f4f83-366c-4f70-860e-ca7417…</td><td>29365.0</td></tr><tr><td>&quot;2019-11-01 00:00:01 UTC&quot;</td><td>&quot;view&quot;</td><td>17302664</td><td>2053013553853497655</td><td>null</td><td>&quot;creed&quot;</td><td>28.31</td><td>561587266</td><td>&quot;755422e7-9040-477b-9bd2-6a6e8f…</td><td>2831.0</td></tr><tr><td>&quot;2019-11-01 00:00:01 UTC&quot;</td><td>&quot;view&quot;</td><td>3601530</td><td>2053013563810775923</td><td>&quot;appliances.kitchen.washer&quot;</td><td>&quot;lg&quot;</td><td>712.87</td><td>518085591</td><td>&quot;3bfb58cd-7892-48cc-8020-2f17e6…</td><td>71287.0</td></tr><tr><td>&quot;2019-11-01 00:00:01 UTC&quot;</td><td>&quot;view&quot;</td><td>1004775</td><td>2053013555631882655</td><td>&quot;electronics.smartphone&quot;</td><td>&quot;xiaomi&quot;</td><td>183.27</td><td>558856683</td><td>&quot;313628f1-68b8-460d-84f6-cec7a8…</td><td>18327.0</td></tr><tr><td>&hellip;</td><td>&hellip;</td><td>&hellip;</td><td>&hellip;</td><td>&hellip;</td><td>&hellip;</td><td>&hellip;</td><td>&hellip;</td><td>&hellip;</td><td>&hellip;</td></tr><tr><td>&quot;2019-11-30 23:59:58 UTC&quot;</td><td>&quot;view&quot;</td><td>15700137</td><td>2053013559733912211</td><td>null</td><td>null</td><td>277.74</td><td>532714000</td><td>&quot;02b4131c-0112-4231-aafa-ceaa08…</td><td>27774.0</td></tr><tr><td>&quot;2019-11-30 23:59:58 UTC&quot;</td><td>&quot;view&quot;</td><td>28719425</td><td>2053013565639492569</td><td>&quot;apparel.shoes&quot;</td><td>&quot;baden&quot;</td><td>62.81</td><td>545223467</td><td>&quot;734c5eef-0742-4f8b-9d22-48f75b…</td><td>6281.0</td></tr><tr><td>&quot;2019-11-30 23:59:59 UTC&quot;</td><td>&quot;view&quot;</td><td>1004833</td><td>2053013555631882655</td><td>&quot;electronics.smartphone&quot;</td><td>&quot;samsung&quot;</td><td>167.03</td><td>557794415</td><td>&quot;6fecf566-ebb0-4e70-a243-cdc13c…</td><td>16703.0</td></tr><tr><td>&quot;2019-11-30 23:59:59 UTC&quot;</td><td>&quot;view&quot;</td><td>2701706</td><td>2053013563911439225</td><td>&quot;appliances.kitchen.refrigerato…</td><td>&quot;samsung&quot;</td><td>566.27</td><td>531607492</td><td>&quot;368ddc8b-5db9-40fb-b7ff-b6582a…</td><td>56627.0</td></tr><tr><td>&quot;2019-11-30 23:59:59 UTC&quot;</td><td>&quot;view&quot;</td><td>1004233</td><td>2053013555631882655</td><td>&quot;electronics.smartphone&quot;</td><td>&quot;apple&quot;</td><td>1312.52</td><td>579969851</td><td>&quot;90aca71c-ed8a-4670-866a-761eba…</td><td>131252.0</td></tr></tbody></table></div>"
      ]
     },
     "execution_count": 15,
     "metadata": {},
     "output_type": "execute_result"
    }
   ],
   "execution_count": 15
  },
  {
   "metadata": {
    "ExecuteTime": {
     "end_time": "2024-05-04T19:46:17.776462Z",
     "start_time": "2024-05-04T19:46:17.610238Z"
    }
   },
   "cell_type": "code",
   "source": "df.filter(pl.col('price') > 1000)",
   "id": "a24772c6747abcb3",
   "outputs": [
    {
     "data": {
      "text/plain": [
       "shape: (3_301_021, 9)\n",
       "┌────────────┬────────────┬────────────┬────────────┬───┬───────┬─────────┬───────────┬────────────┐\n",
       "│ event_time ┆ event_type ┆ product_id ┆ category_i ┆ … ┆ brand ┆ price   ┆ user_id   ┆ user_sessi │\n",
       "│ ---        ┆ ---        ┆ ---        ┆ d          ┆   ┆ ---   ┆ ---     ┆ ---       ┆ on         │\n",
       "│ str        ┆ str        ┆ i64        ┆ ---        ┆   ┆ str   ┆ f64     ┆ i64       ┆ ---        │\n",
       "│            ┆            ┆            ┆ i64        ┆   ┆       ┆         ┆           ┆ str        │\n",
       "╞════════════╪════════════╪════════════╪════════════╪═══╪═══════╪═════════╪═══════════╪════════════╡\n",
       "│ 2019-11-01 ┆ view       ┆ 1004237    ┆ 2053013555 ┆ … ┆ apple ┆ 1091.33 ┆ 565404816 ┆ d9cf0ac4-c │\n",
       "│ 00:00:27   ┆            ┆            ┆ 631882655  ┆   ┆       ┆         ┆           ┆ 3ec-4e1f-8 │\n",
       "│ UTC        ┆            ┆            ┆            ┆   ┆       ┆         ┆           ┆ 3aa-326b1e │\n",
       "│            ┆            ┆            ┆            ┆   ┆       ┆         ┆           ┆ …          │\n",
       "│ 2019-11-01 ┆ view       ┆ 1005116    ┆ 2053013555 ┆ … ┆ apple ┆ 1013.86 ┆ 532647354 ┆ d2d3d2c6-6 │\n",
       "│ 00:00:40   ┆            ┆            ┆ 631882655  ┆   ┆       ┆         ┆           ┆ 31d-489e-9 │\n",
       "│ UTC        ┆            ┆            ┆            ┆   ┆       ┆         ┆           ┆ fb5-06f340 │\n",
       "│            ┆            ┆            ┆            ┆   ┆       ┆         ┆           ┆ …          │\n",
       "│ 2019-11-01 ┆ view       ┆ 1004241    ┆ 2053013555 ┆ … ┆ apple ┆ 1173.6  ┆ 565404816 ┆ d9cf0ac4-c │\n",
       "│ 00:00:41   ┆            ┆            ┆ 631882655  ┆   ┆       ┆         ┆           ┆ 3ec-4e1f-8 │\n",
       "│ UTC        ┆            ┆            ┆            ┆   ┆       ┆         ┆           ┆ 3aa-326b1e │\n",
       "│            ┆            ┆            ┆            ┆   ┆       ┆         ┆           ┆ …          │\n",
       "│ 2019-11-01 ┆ view       ┆ 1004237    ┆ 2053013555 ┆ … ┆ apple ┆ 1091.33 ┆ 519277091 ┆ 62fadce6-a │\n",
       "│ 00:00:41   ┆            ┆            ┆ 631882655  ┆   ┆       ┆         ┆           ┆ a4a-4dde-9 │\n",
       "│ UTC        ┆            ┆            ┆            ┆   ┆       ┆         ┆           ┆ 2fc-c04c22 │\n",
       "│            ┆            ┆            ┆            ┆   ┆       ┆         ┆           ┆ …          │\n",
       "│ 2019-11-01 ┆ view       ┆ 1307012    ┆ 2053013558 ┆ … ┆ apple ┆ 2342.15 ┆ 530857208 ┆ c69f9c63-7 │\n",
       "│ 00:00:51   ┆            ┆            ┆ 920217191  ┆   ┆       ┆         ┆           ┆ 098-426c-9 │\n",
       "│ UTC        ┆            ┆            ┆            ┆   ┆       ┆         ┆           ┆ 7d9-8cb94a │\n",
       "│            ┆            ┆            ┆            ┆   ┆       ┆         ┆           ┆ …          │\n",
       "│ …          ┆ …          ┆ …          ┆ …          ┆ … ┆ …     ┆ …       ┆ …         ┆ …          │\n",
       "│ 2019-11-30 ┆ view       ┆ 1005124    ┆ 2053013555 ┆ … ┆ apple ┆ 1436.56 ┆ 571072384 ┆ 8f414ee3-5 │\n",
       "│ 23:59:17   ┆            ┆            ┆ 631882655  ┆   ┆       ┆         ┆           ┆ bf5-48ce-a │\n",
       "│ UTC        ┆            ┆            ┆            ┆   ┆       ┆         ┆           ┆ 57c-f19a9b │\n",
       "│            ┆            ┆            ┆            ┆   ┆       ┆         ┆           ┆ …          │\n",
       "│ 2019-11-30 ┆ view       ┆ 1005105    ┆ 2053013555 ┆ … ┆ apple ┆ 1302.48 ┆ 556695836 ┆ ca5eefc5-1 │\n",
       "│ 23:59:29   ┆            ┆            ┆ 631882655  ┆   ┆       ┆         ┆           ┆ 1f9-450c-9 │\n",
       "│ UTC        ┆            ┆            ┆            ┆   ┆       ┆         ┆           ┆ 1ed-380285 │\n",
       "│            ┆            ┆            ┆            ┆   ┆       ┆         ┆           ┆ …          │\n",
       "│ 2019-11-30 ┆ view       ┆ 1005105    ┆ 2053013555 ┆ … ┆ apple ┆ 1302.48 ┆ 561181104 ┆ b2c61552-5 │\n",
       "│ 23:59:38   ┆            ┆            ┆ 631882655  ┆   ┆       ┆         ┆           ┆ 76c-4532-8 │\n",
       "│ UTC        ┆            ┆            ┆            ┆   ┆       ┆         ┆           ┆ d1e-ad2a0a │\n",
       "│            ┆            ┆            ┆            ┆   ┆       ┆         ┆           ┆ …          │\n",
       "│ 2019-11-30 ┆ view       ┆ 16800304   ┆ 2053013558 ┆ … ┆ aero  ┆ 1106.85 ┆ 579175262 ┆ b8ff34a9-4 │\n",
       "│ 23:59:55   ┆            ┆            ┆ 316237377  ┆   ┆       ┆         ┆           ┆ 1be-4497-b │\n",
       "│ UTC        ┆            ┆            ┆            ┆   ┆       ┆         ┆           ┆ 373-408c6e │\n",
       "│            ┆            ┆            ┆            ┆   ┆       ┆         ┆           ┆ …          │\n",
       "│ 2019-11-30 ┆ view       ┆ 1004233    ┆ 2053013555 ┆ … ┆ apple ┆ 1312.52 ┆ 579969851 ┆ 90aca71c-e │\n",
       "│ 23:59:59   ┆            ┆            ┆ 631882655  ┆   ┆       ┆         ┆           ┆ d8a-4670-8 │\n",
       "│ UTC        ┆            ┆            ┆            ┆   ┆       ┆         ┆           ┆ 66a-761eba │\n",
       "│            ┆            ┆            ┆            ┆   ┆       ┆         ┆           ┆ …          │\n",
       "└────────────┴────────────┴────────────┴────────────┴───┴───────┴─────────┴───────────┴────────────┘"
      ],
      "text/html": [
       "<div><style>\n",
       ".dataframe > thead > tr,\n",
       ".dataframe > tbody > tr {\n",
       "  text-align: right;\n",
       "  white-space: pre-wrap;\n",
       "}\n",
       "</style>\n",
       "<small>shape: (3_301_021, 9)</small><table border=\"1\" class=\"dataframe\"><thead><tr><th>event_time</th><th>event_type</th><th>product_id</th><th>category_id</th><th>category_code</th><th>brand</th><th>price</th><th>user_id</th><th>user_session</th></tr><tr><td>str</td><td>str</td><td>i64</td><td>i64</td><td>str</td><td>str</td><td>f64</td><td>i64</td><td>str</td></tr></thead><tbody><tr><td>&quot;2019-11-01 00:00:27 UTC&quot;</td><td>&quot;view&quot;</td><td>1004237</td><td>2053013555631882655</td><td>&quot;electronics.smartphone&quot;</td><td>&quot;apple&quot;</td><td>1091.33</td><td>565404816</td><td>&quot;d9cf0ac4-c3ec-4e1f-83aa-326b1e…</td></tr><tr><td>&quot;2019-11-01 00:00:40 UTC&quot;</td><td>&quot;view&quot;</td><td>1005116</td><td>2053013555631882655</td><td>&quot;electronics.smartphone&quot;</td><td>&quot;apple&quot;</td><td>1013.86</td><td>532647354</td><td>&quot;d2d3d2c6-631d-489e-9fb5-06f340…</td></tr><tr><td>&quot;2019-11-01 00:00:41 UTC&quot;</td><td>&quot;view&quot;</td><td>1004241</td><td>2053013555631882655</td><td>&quot;electronics.smartphone&quot;</td><td>&quot;apple&quot;</td><td>1173.6</td><td>565404816</td><td>&quot;d9cf0ac4-c3ec-4e1f-83aa-326b1e…</td></tr><tr><td>&quot;2019-11-01 00:00:41 UTC&quot;</td><td>&quot;view&quot;</td><td>1004237</td><td>2053013555631882655</td><td>&quot;electronics.smartphone&quot;</td><td>&quot;apple&quot;</td><td>1091.33</td><td>519277091</td><td>&quot;62fadce6-aa4a-4dde-92fc-c04c22…</td></tr><tr><td>&quot;2019-11-01 00:00:51 UTC&quot;</td><td>&quot;view&quot;</td><td>1307012</td><td>2053013558920217191</td><td>&quot;computers.notebook&quot;</td><td>&quot;apple&quot;</td><td>2342.15</td><td>530857208</td><td>&quot;c69f9c63-7098-426c-97d9-8cb94a…</td></tr><tr><td>&hellip;</td><td>&hellip;</td><td>&hellip;</td><td>&hellip;</td><td>&hellip;</td><td>&hellip;</td><td>&hellip;</td><td>&hellip;</td><td>&hellip;</td></tr><tr><td>&quot;2019-11-30 23:59:17 UTC&quot;</td><td>&quot;view&quot;</td><td>1005124</td><td>2053013555631882655</td><td>&quot;electronics.smartphone&quot;</td><td>&quot;apple&quot;</td><td>1436.56</td><td>571072384</td><td>&quot;8f414ee3-5bf5-48ce-a57c-f19a9b…</td></tr><tr><td>&quot;2019-11-30 23:59:29 UTC&quot;</td><td>&quot;view&quot;</td><td>1005105</td><td>2053013555631882655</td><td>&quot;electronics.smartphone&quot;</td><td>&quot;apple&quot;</td><td>1302.48</td><td>556695836</td><td>&quot;ca5eefc5-11f9-450c-91ed-380285…</td></tr><tr><td>&quot;2019-11-30 23:59:38 UTC&quot;</td><td>&quot;view&quot;</td><td>1005105</td><td>2053013555631882655</td><td>&quot;electronics.smartphone&quot;</td><td>&quot;apple&quot;</td><td>1302.48</td><td>561181104</td><td>&quot;b2c61552-576c-4532-8d1e-ad2a0a…</td></tr><tr><td>&quot;2019-11-30 23:59:55 UTC&quot;</td><td>&quot;view&quot;</td><td>16800304</td><td>2053013558316237377</td><td>&quot;furniture.kitchen.table&quot;</td><td>&quot;aero&quot;</td><td>1106.85</td><td>579175262</td><td>&quot;b8ff34a9-41be-4497-b373-408c6e…</td></tr><tr><td>&quot;2019-11-30 23:59:59 UTC&quot;</td><td>&quot;view&quot;</td><td>1004233</td><td>2053013555631882655</td><td>&quot;electronics.smartphone&quot;</td><td>&quot;apple&quot;</td><td>1312.52</td><td>579969851</td><td>&quot;90aca71c-ed8a-4670-866a-761eba…</td></tr></tbody></table></div>"
      ]
     },
     "execution_count": 16,
     "metadata": {},
     "output_type": "execute_result"
    }
   ],
   "execution_count": 16
  },
  {
   "metadata": {
    "ExecuteTime": {
     "end_time": "2024-05-04T19:46:19.313859Z",
     "start_time": "2024-05-04T19:46:17.777469Z"
    }
   },
   "cell_type": "code",
   "source": "df.filter(pl.col('brand').is_in(['apple', 'samsung', 'motorola']))",
   "id": "1549f672f52e17ae",
   "outputs": [
    {
     "data": {
      "text/plain": [
       "shape: (14_153_248, 9)\n",
       "┌────────────┬────────────┬────────────┬───────────┬───┬─────────┬─────────┬───────────┬───────────┐\n",
       "│ event_time ┆ event_type ┆ product_id ┆ category_ ┆ … ┆ brand   ┆ price   ┆ user_id   ┆ user_sess │\n",
       "│ ---        ┆ ---        ┆ ---        ┆ id        ┆   ┆ ---     ┆ ---     ┆ ---       ┆ ion       │\n",
       "│ str        ┆ str        ┆ i64        ┆ ---       ┆   ┆ str     ┆ f64     ┆ i64       ┆ ---       │\n",
       "│            ┆            ┆            ┆ i64       ┆   ┆         ┆         ┆           ┆ str       │\n",
       "╞════════════╪════════════╪════════════╪═══════════╪═══╪═════════╪═════════╪═══════════╪═══════════╡\n",
       "│ 2019-11-01 ┆ view       ┆ 1004258    ┆ 205301355 ┆ … ┆ apple   ┆ 732.07  ┆ 532647354 ┆ d2d3d2c6- │\n",
       "│ 00:00:02   ┆            ┆            ┆ 563188265 ┆   ┆         ┆         ┆           ┆ 631d-489e │\n",
       "│ UTC        ┆            ┆            ┆ 5         ┆   ┆         ┆         ┆           ┆ -9fb5-06f │\n",
       "│            ┆            ┆            ┆           ┆   ┆         ┆         ┆           ┆ 340…      │\n",
       "│ 2019-11-01 ┆ view       ┆ 4600658    ┆ 205301356 ┆ … ┆ samsung ┆ 411.83  ┆ 526595547 ┆ aab33a9a- │\n",
       "│ 00:00:05   ┆            ┆            ┆ 394499365 ┆   ┆         ┆         ┆           ┆ 29c3-4d50 │\n",
       "│ UTC        ┆            ┆            ┆ 9         ┆   ┆         ┆         ┆           ┆ -84c1-8a2 │\n",
       "│            ┆            ┆            ┆           ┆   ┆         ┆         ┆           ┆ bc9…      │\n",
       "│ 2019-11-01 ┆ view       ┆ 1005115    ┆ 205301355 ┆ … ┆ apple   ┆ 949.47  ┆ 562079864 ┆ 0fe64462- │\n",
       "│ 00:00:10   ┆            ┆            ┆ 563188265 ┆   ┆         ┆         ┆           ┆ 83eb-4131 │\n",
       "│ UTC        ┆            ┆            ┆ 5         ┆   ┆         ┆         ┆           ┆ -ab00-8e7 │\n",
       "│            ┆            ┆            ┆           ┆   ┆         ┆         ┆           ┆ 64d…      │\n",
       "│ 2019-11-01 ┆ view       ┆ 1002544    ┆ 205301355 ┆ … ┆ apple   ┆ 458.28  ┆ 549256216 ┆ dcbdc6e4- │\n",
       "│ 00:00:14   ┆            ┆            ┆ 563188265 ┆   ┆         ┆         ┆           ┆ cd49-4ee8 │\n",
       "│ UTC        ┆            ┆            ┆ 5         ┆   ┆         ┆         ┆           ┆ -95c5-e85 │\n",
       "│            ┆            ┆            ┆           ┆   ┆         ┆         ┆           ┆ f3c…      │\n",
       "│ 2019-11-01 ┆ cart       ┆ 1005014    ┆ 205301355 ┆ … ┆ samsung ┆ 503.09  ┆ 533326659 ┆ 6b928be2- │\n",
       "│ 00:00:14   ┆            ┆            ┆ 563188265 ┆   ┆         ┆         ┆           ┆ 2bce-4640 │\n",
       "│ UTC        ┆            ┆            ┆ 5         ┆   ┆         ┆         ┆           ┆ -8296-0ef │\n",
       "│            ┆            ┆            ┆           ┆   ┆         ┆         ┆           ┆ df2…      │\n",
       "│ …          ┆ …          ┆ …          ┆ …         ┆ … ┆ …       ┆ …       ┆ …         ┆ …         │\n",
       "│ 2019-11-30 ┆ view       ┆ 1005174    ┆ 205301355 ┆ … ┆ samsung ┆ 591.75  ┆ 579969525 ┆ 180a7f1f- │\n",
       "│ 23:59:54   ┆            ┆            ┆ 563188265 ┆   ┆         ┆         ┆           ┆ ed0c-485a │\n",
       "│ UTC        ┆            ┆            ┆ 5         ┆   ┆         ┆         ┆           ┆ -b145-a98 │\n",
       "│            ┆            ┆            ┆           ┆   ┆         ┆         ┆           ┆ 071…      │\n",
       "│ 2019-11-30 ┆ view       ┆ 1005118    ┆ 205301355 ┆ … ┆ apple   ┆ 925.47  ┆ 579969045 ┆ ee246970- │\n",
       "│ 23:59:54   ┆            ┆            ┆ 563188265 ┆   ┆         ┆         ┆           ┆ 62cb-4105 │\n",
       "│ UTC        ┆            ┆            ┆ 5         ┆   ┆         ┆         ┆           ┆ -a049-703 │\n",
       "│            ┆            ┆            ┆           ┆   ┆         ┆         ┆           ┆ cda…      │\n",
       "│ 2019-11-30 ┆ view       ┆ 1004833    ┆ 205301355 ┆ … ┆ samsung ┆ 167.03  ┆ 557794415 ┆ 6fecf566- │\n",
       "│ 23:59:59   ┆            ┆            ┆ 563188265 ┆   ┆         ┆         ┆           ┆ ebb0-4e70 │\n",
       "│ UTC        ┆            ┆            ┆ 5         ┆   ┆         ┆         ┆           ┆ -a243-cdc │\n",
       "│            ┆            ┆            ┆           ┆   ┆         ┆         ┆           ┆ 13c…      │\n",
       "│ 2019-11-30 ┆ view       ┆ 2701706    ┆ 205301356 ┆ … ┆ samsung ┆ 566.27  ┆ 531607492 ┆ 368ddc8b- │\n",
       "│ 23:59:59   ┆            ┆            ┆ 391143922 ┆   ┆         ┆         ┆           ┆ 5db9-40fb │\n",
       "│ UTC        ┆            ┆            ┆ 5         ┆   ┆         ┆         ┆           ┆ -b7ff-b65 │\n",
       "│            ┆            ┆            ┆           ┆   ┆         ┆         ┆           ┆ 82a…      │\n",
       "│ 2019-11-30 ┆ view       ┆ 1004233    ┆ 205301355 ┆ … ┆ apple   ┆ 1312.52 ┆ 579969851 ┆ 90aca71c- │\n",
       "│ 23:59:59   ┆            ┆            ┆ 563188265 ┆   ┆         ┆         ┆           ┆ ed8a-4670 │\n",
       "│ UTC        ┆            ┆            ┆ 5         ┆   ┆         ┆         ┆           ┆ -866a-761 │\n",
       "│            ┆            ┆            ┆           ┆   ┆         ┆         ┆           ┆ eba…      │\n",
       "└────────────┴────────────┴────────────┴───────────┴───┴─────────┴─────────┴───────────┴───────────┘"
      ],
      "text/html": [
       "<div><style>\n",
       ".dataframe > thead > tr,\n",
       ".dataframe > tbody > tr {\n",
       "  text-align: right;\n",
       "  white-space: pre-wrap;\n",
       "}\n",
       "</style>\n",
       "<small>shape: (14_153_248, 9)</small><table border=\"1\" class=\"dataframe\"><thead><tr><th>event_time</th><th>event_type</th><th>product_id</th><th>category_id</th><th>category_code</th><th>brand</th><th>price</th><th>user_id</th><th>user_session</th></tr><tr><td>str</td><td>str</td><td>i64</td><td>i64</td><td>str</td><td>str</td><td>f64</td><td>i64</td><td>str</td></tr></thead><tbody><tr><td>&quot;2019-11-01 00:00:02 UTC&quot;</td><td>&quot;view&quot;</td><td>1004258</td><td>2053013555631882655</td><td>&quot;electronics.smartphone&quot;</td><td>&quot;apple&quot;</td><td>732.07</td><td>532647354</td><td>&quot;d2d3d2c6-631d-489e-9fb5-06f340…</td></tr><tr><td>&quot;2019-11-01 00:00:05 UTC&quot;</td><td>&quot;view&quot;</td><td>4600658</td><td>2053013563944993659</td><td>&quot;appliances.kitchen.dishwasher&quot;</td><td>&quot;samsung&quot;</td><td>411.83</td><td>526595547</td><td>&quot;aab33a9a-29c3-4d50-84c1-8a2bc9…</td></tr><tr><td>&quot;2019-11-01 00:00:10 UTC&quot;</td><td>&quot;view&quot;</td><td>1005115</td><td>2053013555631882655</td><td>&quot;electronics.smartphone&quot;</td><td>&quot;apple&quot;</td><td>949.47</td><td>562079864</td><td>&quot;0fe64462-83eb-4131-ab00-8e764d…</td></tr><tr><td>&quot;2019-11-01 00:00:14 UTC&quot;</td><td>&quot;view&quot;</td><td>1002544</td><td>2053013555631882655</td><td>&quot;electronics.smartphone&quot;</td><td>&quot;apple&quot;</td><td>458.28</td><td>549256216</td><td>&quot;dcbdc6e4-cd49-4ee8-95c5-e85f3c…</td></tr><tr><td>&quot;2019-11-01 00:00:14 UTC&quot;</td><td>&quot;cart&quot;</td><td>1005014</td><td>2053013555631882655</td><td>&quot;electronics.smartphone&quot;</td><td>&quot;samsung&quot;</td><td>503.09</td><td>533326659</td><td>&quot;6b928be2-2bce-4640-8296-0efdf2…</td></tr><tr><td>&hellip;</td><td>&hellip;</td><td>&hellip;</td><td>&hellip;</td><td>&hellip;</td><td>&hellip;</td><td>&hellip;</td><td>&hellip;</td><td>&hellip;</td></tr><tr><td>&quot;2019-11-30 23:59:54 UTC&quot;</td><td>&quot;view&quot;</td><td>1005174</td><td>2053013555631882655</td><td>&quot;electronics.smartphone&quot;</td><td>&quot;samsung&quot;</td><td>591.75</td><td>579969525</td><td>&quot;180a7f1f-ed0c-485a-b145-a98071…</td></tr><tr><td>&quot;2019-11-30 23:59:54 UTC&quot;</td><td>&quot;view&quot;</td><td>1005118</td><td>2053013555631882655</td><td>&quot;electronics.smartphone&quot;</td><td>&quot;apple&quot;</td><td>925.47</td><td>579969045</td><td>&quot;ee246970-62cb-4105-a049-703cda…</td></tr><tr><td>&quot;2019-11-30 23:59:59 UTC&quot;</td><td>&quot;view&quot;</td><td>1004833</td><td>2053013555631882655</td><td>&quot;electronics.smartphone&quot;</td><td>&quot;samsung&quot;</td><td>167.03</td><td>557794415</td><td>&quot;6fecf566-ebb0-4e70-a243-cdc13c…</td></tr><tr><td>&quot;2019-11-30 23:59:59 UTC&quot;</td><td>&quot;view&quot;</td><td>2701706</td><td>2053013563911439225</td><td>&quot;appliances.kitchen.refrigerato…</td><td>&quot;samsung&quot;</td><td>566.27</td><td>531607492</td><td>&quot;368ddc8b-5db9-40fb-b7ff-b6582a…</td></tr><tr><td>&quot;2019-11-30 23:59:59 UTC&quot;</td><td>&quot;view&quot;</td><td>1004233</td><td>2053013555631882655</td><td>&quot;electronics.smartphone&quot;</td><td>&quot;apple&quot;</td><td>1312.52</td><td>579969851</td><td>&quot;90aca71c-ed8a-4670-866a-761eba…</td></tr></tbody></table></div>"
      ]
     },
     "execution_count": 17,
     "metadata": {},
     "output_type": "execute_result"
    }
   ],
   "execution_count": 17
  },
  {
   "metadata": {},
   "cell_type": "markdown",
   "source": "## Computation on the select context",
   "id": "b7afb96055cbc538"
  },
  {
   "metadata": {
    "ExecuteTime": {
     "end_time": "2024-05-04T19:46:21.739347Z",
     "start_time": "2024-05-04T19:46:19.314752Z"
    }
   },
   "cell_type": "code",
   "source": [
    "df.select([\n",
    "    pl.col('product_id').n_unique()\n",
    "])"
   ],
   "id": "86c14f03db9f1a18",
   "outputs": [
    {
     "data": {
      "text/plain": [
       "shape: (1, 1)\n",
       "┌────────────┐\n",
       "│ product_id │\n",
       "│ ---        │\n",
       "│ u32        │\n",
       "╞════════════╡\n",
       "│ 190662     │\n",
       "└────────────┘"
      ],
      "text/html": [
       "<div><style>\n",
       ".dataframe > thead > tr,\n",
       ".dataframe > tbody > tr {\n",
       "  text-align: right;\n",
       "  white-space: pre-wrap;\n",
       "}\n",
       "</style>\n",
       "<small>shape: (1, 1)</small><table border=\"1\" class=\"dataframe\"><thead><tr><th>product_id</th></tr><tr><td>u32</td></tr></thead><tbody><tr><td>190662</td></tr></tbody></table></div>"
      ]
     },
     "execution_count": 18,
     "metadata": {},
     "output_type": "execute_result"
    }
   ],
   "execution_count": 18
  },
  {
   "metadata": {
    "ExecuteTime": {
     "end_time": "2024-05-04T19:46:22.920159Z",
     "start_time": "2024-05-04T19:46:21.739347Z"
    }
   },
   "cell_type": "code",
   "source": [
    "df.select([\n",
    "    pl.col('price').min().alias('min_price'),\n",
    "    pl.col('price').max().alias('max_price'),\n",
    "    pl.col('price').median().alias('median_price'),\n",
    "    pl.col('price').mean().alias('mean_price'),\n",
    "    pl.col('price').std().alias('std_price')\n",
    "])"
   ],
   "id": "693800db00ae8f34",
   "outputs": [
    {
     "data": {
      "text/plain": [
       "shape: (1, 5)\n",
       "┌───────────┬───────────┬──────────────┬────────────┬───────────┐\n",
       "│ min_price ┆ max_price ┆ median_price ┆ mean_price ┆ std_price │\n",
       "│ ---       ┆ ---       ┆ ---          ┆ ---        ┆ ---       │\n",
       "│ f64       ┆ f64       ┆ f64          ┆ f64        ┆ f64       │\n",
       "╞═══════════╪═══════════╪══════════════╪════════════╪═══════════╡\n",
       "│ 0.0       ┆ 2574.07   ┆ 165.77       ┆ 292.459317 ┆ 355.6745  │\n",
       "└───────────┴───────────┴──────────────┴────────────┴───────────┘"
      ],
      "text/html": [
       "<div><style>\n",
       ".dataframe > thead > tr,\n",
       ".dataframe > tbody > tr {\n",
       "  text-align: right;\n",
       "  white-space: pre-wrap;\n",
       "}\n",
       "</style>\n",
       "<small>shape: (1, 5)</small><table border=\"1\" class=\"dataframe\"><thead><tr><th>min_price</th><th>max_price</th><th>median_price</th><th>mean_price</th><th>std_price</th></tr><tr><td>f64</td><td>f64</td><td>f64</td><td>f64</td><td>f64</td></tr></thead><tbody><tr><td>0.0</td><td>2574.07</td><td>165.77</td><td>292.459317</td><td>355.6745</td></tr></tbody></table></div>"
      ]
     },
     "execution_count": 19,
     "metadata": {},
     "output_type": "execute_result"
    }
   ],
   "execution_count": 19
  },
  {
   "metadata": {
    "ExecuteTime": {
     "end_time": "2024-05-04T19:46:22.925398Z",
     "start_time": "2024-05-04T19:46:22.920159Z"
    }
   },
   "cell_type": "code",
   "source": [
    "price = df.select([\n",
    "    pl.col('price')\n",
    "])"
   ],
   "id": "42d8e2fb06f6c374",
   "outputs": [],
   "execution_count": 20
  },
  {
   "metadata": {
    "ExecuteTime": {
     "end_time": "2024-05-04T19:46:23.287155Z",
     "start_time": "2024-05-04T19:46:22.926407Z"
    }
   },
   "cell_type": "code",
   "source": "price.sample(1_000)",
   "id": "c5e4ac05992500e0",
   "outputs": [
    {
     "data": {
      "text/plain": [
       "shape: (1_000, 1)\n",
       "┌─────────┐\n",
       "│ price   │\n",
       "│ ---     │\n",
       "│ f64     │\n",
       "╞═════════╡\n",
       "│ 205.67  │\n",
       "│ 69.5    │\n",
       "│ 1389.74 │\n",
       "│ 154.26  │\n",
       "│ 99.36   │\n",
       "│ …       │\n",
       "│ 185.31  │\n",
       "│ 715.33  │\n",
       "│ 888.03  │\n",
       "│ 496.8   │\n",
       "│ 499.37  │\n",
       "└─────────┘"
      ],
      "text/html": [
       "<div><style>\n",
       ".dataframe > thead > tr,\n",
       ".dataframe > tbody > tr {\n",
       "  text-align: right;\n",
       "  white-space: pre-wrap;\n",
       "}\n",
       "</style>\n",
       "<small>shape: (1_000, 1)</small><table border=\"1\" class=\"dataframe\"><thead><tr><th>price</th></tr><tr><td>f64</td></tr></thead><tbody><tr><td>205.67</td></tr><tr><td>69.5</td></tr><tr><td>1389.74</td></tr><tr><td>154.26</td></tr><tr><td>99.36</td></tr><tr><td>&hellip;</td></tr><tr><td>185.31</td></tr><tr><td>715.33</td></tr><tr><td>888.03</td></tr><tr><td>496.8</td></tr><tr><td>499.37</td></tr></tbody></table></div>"
      ]
     },
     "execution_count": 21,
     "metadata": {},
     "output_type": "execute_result"
    }
   ],
   "execution_count": 21
  },
  {
   "metadata": {
    "ExecuteTime": {
     "end_time": "2024-05-04T19:48:12.018444Z",
     "start_time": "2024-05-04T19:48:11.686228Z"
    }
   },
   "cell_type": "code",
   "source": "price.sample(10_000).to_pandas().hist(bins=30)",
   "id": "1d9d7a9bae131fd3",
   "outputs": [
    {
     "data": {
      "text/plain": [
       "array([[<Axes: title={'center': 'price'}>]], dtype=object)"
      ]
     },
     "execution_count": 23,
     "metadata": {},
     "output_type": "execute_result"
    },
    {
     "data": {
      "text/plain": [
       "<Figure size 640x480 with 1 Axes>"
      ],
      "image/png": "[encoded data removed]"
     },
     "metadata": {},
     "output_type": "display_data"
    }
   ],
   "execution_count": 23
  },
  {
   "metadata": {
    "ExecuteTime": {
     "end_time": "2024-05-04T19:50:03.572657Z",
     "start_time": "2024-05-04T19:50:01.083487Z"
    }
   },
   "cell_type": "code",
   "source": [
    "probs = [0, 0.25, 0.5, 0.75, 1]\n",
    "percentiles = [price.quantile(prob)[0, 0] for prob in probs]\n",
    "pd.DataFrame(dict(probs=probs, percentiles=percentiles))"
   ],
   "id": "1cf08ab8d233f312",
   "outputs": [
    {
     "data": {
      "text/plain": [
       "   probs  percentiles\n",
       "0   0.00         0.00\n",
       "1   0.25        69.24\n",
       "2   0.50       165.77\n",
       "3   0.75       360.34\n",
       "4   1.00      2574.07"
      ],
      "text/html": [
       "<div>\n",
       "<style scoped>\n",
       "    .dataframe tbody tr th:only-of-type {\n",
       "        vertical-align: middle;\n",
       "    }\n",
       "\n",
       "    .dataframe tbody tr th {\n",
       "        vertical-align: top;\n",
       "    }\n",
       "\n",
       "    .dataframe thead th {\n",
       "        text-align: right;\n",
       "    }\n",
       "</style>\n",
       "<table border=\"1\" class=\"dataframe\">\n",
       "  <thead>\n",
       "    <tr style=\"text-align: right;\">\n",
       "      <th></th>\n",
       "      <th>probs</th>\n",
       "      <th>percentiles</th>\n",
       "    </tr>\n",
       "  </thead>\n",
       "  <tbody>\n",
       "    <tr>\n",
       "      <th>0</th>\n",
       "      <td>0.00</td>\n",
       "      <td>0.00</td>\n",
       "    </tr>\n",
       "    <tr>\n",
       "      <th>1</th>\n",
       "      <td>0.25</td>\n",
       "      <td>69.24</td>\n",
       "    </tr>\n",
       "    <tr>\n",
       "      <th>2</th>\n",
       "      <td>0.50</td>\n",
       "      <td>165.77</td>\n",
       "    </tr>\n",
       "    <tr>\n",
       "      <th>3</th>\n",
       "      <td>0.75</td>\n",
       "      <td>360.34</td>\n",
       "    </tr>\n",
       "    <tr>\n",
       "      <th>4</th>\n",
       "      <td>1.00</td>\n",
       "      <td>2574.07</td>\n",
       "    </tr>\n",
       "  </tbody>\n",
       "</table>\n",
       "</div>"
      ]
     },
     "execution_count": 24,
     "metadata": {},
     "output_type": "execute_result"
    }
   ],
   "execution_count": 24
  }
 ],
 "metadata": {
  "kernelspec": {
   "display_name": "Python 3",
   "language": "python",
   "name": "python3"
  },
  "language_info": {
   "codemirror_mode": {
    "name": "ipython",
    "version": 2
   },
   "file_extension": ".py",
   "mimetype": "text/x-python",
   "name": "python",
   "nbconvert_exporter": "python",
   "pygments_lexer": "ipython2",
   "version": "2.7.6"
  }
 },
 "nbformat": 4,
 "nbformat_minor": 5
}
