{
 "cells": [
  {
   "metadata": {},
   "cell_type": "markdown",
   "source": "# https://www.youtube.com/watch?v=w26V2p9fC5A&list=PLo9Vi5B84_dfAuwJqNYG4XhZMrGTF3sBx&index=5",
   "id": "c5e69063f99bf54d"
  },
  {
   "cell_type": "code",
   "id": "initial_id",
   "metadata": {
    "collapsed": true,
    "ExecuteTime": {
     "end_time": "2024-05-15T19:02:11.786914Z",
     "start_time": "2024-05-15T19:02:11.782914Z"
    }
   },
   "source": [
    "import polars as pl\n",
    "import pandas as pd\n",
    "import numpy as np\n",
    "import pyarrow\n",
    "import datetime as dt\n",
    "\n",
    "import matplotlib.pyplot as plt\n",
    "import seaborn as sns"
   ],
   "outputs": [],
   "execution_count": 20
  },
  {
   "metadata": {
    "ExecuteTime": {
     "end_time": "2024-05-15T18:51:31.086678Z",
     "start_time": "2024-05-15T18:51:31.084240Z"
    }
   },
   "cell_type": "code",
   "source": "df_path = r'F:\\DataSpell\\Polars_library_learn\\Youtube Lessons\\Polars Tutorial\\data\\2019-Nov.parquet'",
   "id": "4617736653e7a383",
   "outputs": [],
   "execution_count": 2
  },
  {
   "metadata": {
    "ExecuteTime": {
     "end_time": "2024-05-15T18:51:47.341278Z",
     "start_time": "2024-05-15T18:51:31.087685Z"
    }
   },
   "cell_type": "code",
   "source": "df = pl.read_parquet(df_path)",
   "id": "142b6cd76067100f",
   "outputs": [],
   "execution_count": 3
  },
  {
   "metadata": {
    "ExecuteTime": {
     "end_time": "2024-05-15T18:52:00.830069Z",
     "start_time": "2024-05-15T18:52:00.810601Z"
    }
   },
   "cell_type": "code",
   "source": "df",
   "id": "38e197d0198323b9",
   "outputs": [
    {
     "data": {
      "text/plain": [
       "shape: (67_501_979, 9)\n",
       "┌────────────┬────────────┬────────────┬───────────┬───┬─────────┬─────────┬───────────┬───────────┐\n",
       "│ event_time ┆ event_type ┆ product_id ┆ category_ ┆ … ┆ brand   ┆ price   ┆ user_id   ┆ user_sess │\n",
       "│ ---        ┆ ---        ┆ ---        ┆ id        ┆   ┆ ---     ┆ ---     ┆ ---       ┆ ion       │\n",
       "│ str        ┆ str        ┆ i64        ┆ ---       ┆   ┆ str     ┆ f64     ┆ i64       ┆ ---       │\n",
       "│            ┆            ┆            ┆ i64       ┆   ┆         ┆         ┆           ┆ str       │\n",
       "╞════════════╪════════════╪════════════╪═══════════╪═══╪═════════╪═════════╪═══════════╪═══════════╡\n",
       "│ 2019-11-01 ┆ view       ┆ 1003461    ┆ 205301355 ┆ … ┆ xiaomi  ┆ 489.07  ┆ 520088904 ┆ 4d3b30da- │\n",
       "│ 00:00:00   ┆            ┆            ┆ 563188265 ┆   ┆         ┆         ┆           ┆ a5e4-49df │\n",
       "│ UTC        ┆            ┆            ┆ 5         ┆   ┆         ┆         ┆           ┆ -b1a8-ba5 │\n",
       "│            ┆            ┆            ┆           ┆   ┆         ┆         ┆           ┆ 943…      │\n",
       "│ 2019-11-01 ┆ view       ┆ 5000088    ┆ 205301356 ┆ … ┆ janome  ┆ 293.65  ┆ 530496790 ┆ 8e5f4f83- │\n",
       "│ 00:00:00   ┆            ┆            ┆ 610086603 ┆   ┆         ┆         ┆           ┆ 366c-4f70 │\n",
       "│ UTC        ┆            ┆            ┆ 5         ┆   ┆         ┆         ┆           ┆ -860e-ca7 │\n",
       "│            ┆            ┆            ┆           ┆   ┆         ┆         ┆           ┆ 417…      │\n",
       "│ 2019-11-01 ┆ view       ┆ 17302664   ┆ 205301355 ┆ … ┆ creed   ┆ 28.31   ┆ 561587266 ┆ 755422e7- │\n",
       "│ 00:00:01   ┆            ┆            ┆ 385349765 ┆   ┆         ┆         ┆           ┆ 9040-477b │\n",
       "│ UTC        ┆            ┆            ┆ 5         ┆   ┆         ┆         ┆           ┆ -9bd2-6a6 │\n",
       "│            ┆            ┆            ┆           ┆   ┆         ┆         ┆           ┆ e8f…      │\n",
       "│ 2019-11-01 ┆ view       ┆ 3601530    ┆ 205301356 ┆ … ┆ lg      ┆ 712.87  ┆ 518085591 ┆ 3bfb58cd- │\n",
       "│ 00:00:01   ┆            ┆            ┆ 381077592 ┆   ┆         ┆         ┆           ┆ 7892-48cc │\n",
       "│ UTC        ┆            ┆            ┆ 3         ┆   ┆         ┆         ┆           ┆ -8020-2f1 │\n",
       "│            ┆            ┆            ┆           ┆   ┆         ┆         ┆           ┆ 7e6…      │\n",
       "│ 2019-11-01 ┆ view       ┆ 1004775    ┆ 205301355 ┆ … ┆ xiaomi  ┆ 183.27  ┆ 558856683 ┆ 313628f1- │\n",
       "│ 00:00:01   ┆            ┆            ┆ 563188265 ┆   ┆         ┆         ┆           ┆ 68b8-460d │\n",
       "│ UTC        ┆            ┆            ┆ 5         ┆   ┆         ┆         ┆           ┆ -84f6-cec │\n",
       "│            ┆            ┆            ┆           ┆   ┆         ┆         ┆           ┆ 7a8…      │\n",
       "│ …          ┆ …          ┆ …          ┆ …         ┆ … ┆ …       ┆ …       ┆ …         ┆ …         │\n",
       "│ 2019-11-30 ┆ view       ┆ 15700137   ┆ 205301355 ┆ … ┆ null    ┆ 277.74  ┆ 532714000 ┆ 02b4131c- │\n",
       "│ 23:59:58   ┆            ┆            ┆ 973391221 ┆   ┆         ┆         ┆           ┆ 0112-4231 │\n",
       "│ UTC        ┆            ┆            ┆ 1         ┆   ┆         ┆         ┆           ┆ -aafa-cea │\n",
       "│            ┆            ┆            ┆           ┆   ┆         ┆         ┆           ┆ a08…      │\n",
       "│ 2019-11-30 ┆ view       ┆ 28719425   ┆ 205301356 ┆ … ┆ baden   ┆ 62.81   ┆ 545223467 ┆ 734c5eef- │\n",
       "│ 23:59:58   ┆            ┆            ┆ 563949256 ┆   ┆         ┆         ┆           ┆ 0742-4f8b │\n",
       "│ UTC        ┆            ┆            ┆ 9         ┆   ┆         ┆         ┆           ┆ -9d22-48f │\n",
       "│            ┆            ┆            ┆           ┆   ┆         ┆         ┆           ┆ 75b…      │\n",
       "│ 2019-11-30 ┆ view       ┆ 1004833    ┆ 205301355 ┆ … ┆ samsung ┆ 167.03  ┆ 557794415 ┆ 6fecf566- │\n",
       "│ 23:59:59   ┆            ┆            ┆ 563188265 ┆   ┆         ┆         ┆           ┆ ebb0-4e70 │\n",
       "│ UTC        ┆            ┆            ┆ 5         ┆   ┆         ┆         ┆           ┆ -a243-cdc │\n",
       "│            ┆            ┆            ┆           ┆   ┆         ┆         ┆           ┆ 13c…      │\n",
       "│ 2019-11-30 ┆ view       ┆ 2701706    ┆ 205301356 ┆ … ┆ samsung ┆ 566.27  ┆ 531607492 ┆ 368ddc8b- │\n",
       "│ 23:59:59   ┆            ┆            ┆ 391143922 ┆   ┆         ┆         ┆           ┆ 5db9-40fb │\n",
       "│ UTC        ┆            ┆            ┆ 5         ┆   ┆         ┆         ┆           ┆ -b7ff-b65 │\n",
       "│            ┆            ┆            ┆           ┆   ┆         ┆         ┆           ┆ 82a…      │\n",
       "│ 2019-11-30 ┆ view       ┆ 1004233    ┆ 205301355 ┆ … ┆ apple   ┆ 1312.52 ┆ 579969851 ┆ 90aca71c- │\n",
       "│ 23:59:59   ┆            ┆            ┆ 563188265 ┆   ┆         ┆         ┆           ┆ ed8a-4670 │\n",
       "│ UTC        ┆            ┆            ┆ 5         ┆   ┆         ┆         ┆           ┆ -866a-761 │\n",
       "│            ┆            ┆            ┆           ┆   ┆         ┆         ┆           ┆ eba…      │\n",
       "└────────────┴────────────┴────────────┴───────────┴───┴─────────┴─────────┴───────────┴───────────┘"
      ],
      "text/html": [
       "<div><style>\n",
       ".dataframe > thead > tr,\n",
       ".dataframe > tbody > tr {\n",
       "  text-align: right;\n",
       "  white-space: pre-wrap;\n",
       "}\n",
       "</style>\n",
       "<small>shape: (67_501_979, 9)</small><table border=\"1\" class=\"dataframe\"><thead><tr><th>event_time</th><th>event_type</th><th>product_id</th><th>category_id</th><th>category_code</th><th>brand</th><th>price</th><th>user_id</th><th>user_session</th></tr><tr><td>str</td><td>str</td><td>i64</td><td>i64</td><td>str</td><td>str</td><td>f64</td><td>i64</td><td>str</td></tr></thead><tbody><tr><td>&quot;2019-11-01 00:00:00 UTC&quot;</td><td>&quot;view&quot;</td><td>1003461</td><td>2053013555631882655</td><td>&quot;electronics.smartphone&quot;</td><td>&quot;xiaomi&quot;</td><td>489.07</td><td>520088904</td><td>&quot;4d3b30da-a5e4-49df-b1a8-ba5943…</td></tr><tr><td>&quot;2019-11-01 00:00:00 UTC&quot;</td><td>&quot;view&quot;</td><td>5000088</td><td>2053013566100866035</td><td>&quot;appliances.sewing_machine&quot;</td><td>&quot;janome&quot;</td><td>293.65</td><td>530496790</td><td>&quot;8e5f4f83-366c-4f70-860e-ca7417…</td></tr><tr><td>&quot;2019-11-01 00:00:01 UTC&quot;</td><td>&quot;view&quot;</td><td>17302664</td><td>2053013553853497655</td><td>null</td><td>&quot;creed&quot;</td><td>28.31</td><td>561587266</td><td>&quot;755422e7-9040-477b-9bd2-6a6e8f…</td></tr><tr><td>&quot;2019-11-01 00:00:01 UTC&quot;</td><td>&quot;view&quot;</td><td>3601530</td><td>2053013563810775923</td><td>&quot;appliances.kitchen.washer&quot;</td><td>&quot;lg&quot;</td><td>712.87</td><td>518085591</td><td>&quot;3bfb58cd-7892-48cc-8020-2f17e6…</td></tr><tr><td>&quot;2019-11-01 00:00:01 UTC&quot;</td><td>&quot;view&quot;</td><td>1004775</td><td>2053013555631882655</td><td>&quot;electronics.smartphone&quot;</td><td>&quot;xiaomi&quot;</td><td>183.27</td><td>558856683</td><td>&quot;313628f1-68b8-460d-84f6-cec7a8…</td></tr><tr><td>&hellip;</td><td>&hellip;</td><td>&hellip;</td><td>&hellip;</td><td>&hellip;</td><td>&hellip;</td><td>&hellip;</td><td>&hellip;</td><td>&hellip;</td></tr><tr><td>&quot;2019-11-30 23:59:58 UTC&quot;</td><td>&quot;view&quot;</td><td>15700137</td><td>2053013559733912211</td><td>null</td><td>null</td><td>277.74</td><td>532714000</td><td>&quot;02b4131c-0112-4231-aafa-ceaa08…</td></tr><tr><td>&quot;2019-11-30 23:59:58 UTC&quot;</td><td>&quot;view&quot;</td><td>28719425</td><td>2053013565639492569</td><td>&quot;apparel.shoes&quot;</td><td>&quot;baden&quot;</td><td>62.81</td><td>545223467</td><td>&quot;734c5eef-0742-4f8b-9d22-48f75b…</td></tr><tr><td>&quot;2019-11-30 23:59:59 UTC&quot;</td><td>&quot;view&quot;</td><td>1004833</td><td>2053013555631882655</td><td>&quot;electronics.smartphone&quot;</td><td>&quot;samsung&quot;</td><td>167.03</td><td>557794415</td><td>&quot;6fecf566-ebb0-4e70-a243-cdc13c…</td></tr><tr><td>&quot;2019-11-30 23:59:59 UTC&quot;</td><td>&quot;view&quot;</td><td>2701706</td><td>2053013563911439225</td><td>&quot;appliances.kitchen.refrigerato…</td><td>&quot;samsung&quot;</td><td>566.27</td><td>531607492</td><td>&quot;368ddc8b-5db9-40fb-b7ff-b6582a…</td></tr><tr><td>&quot;2019-11-30 23:59:59 UTC&quot;</td><td>&quot;view&quot;</td><td>1004233</td><td>2053013555631882655</td><td>&quot;electronics.smartphone&quot;</td><td>&quot;apple&quot;</td><td>1312.52</td><td>579969851</td><td>&quot;90aca71c-ed8a-4670-866a-761eba…</td></tr></tbody></table></div>"
      ]
     },
     "execution_count": 4,
     "metadata": {},
     "output_type": "execute_result"
    }
   ],
   "execution_count": 4
  },
  {
   "metadata": {
    "ExecuteTime": {
     "end_time": "2024-05-15T18:54:07.168502Z",
     "start_time": "2024-05-15T18:54:05.318968Z"
    }
   },
   "cell_type": "code",
   "source": [
    "df = df.with_columns(\n",
    "    pl.col('event_time').str.strptime(pl.Datetime, format='%Y-%m-%d %H:%M:%S %Z')\n",
    ")"
   ],
   "id": "f69c30bb9cb755b5",
   "outputs": [],
   "execution_count": 7
  },
  {
   "metadata": {
    "ExecuteTime": {
     "end_time": "2024-05-15T18:58:01.835852Z",
     "start_time": "2024-05-15T18:58:01.791722Z"
    }
   },
   "cell_type": "code",
   "source": "df.filter(pl.col('user_id') == 520088904).to_pandas().sample(5)",
   "id": "fbd9ef4ae745763f",
   "outputs": [
    {
     "data": {
      "text/plain": [
       "            event_time event_type  product_id          category_id  \\\n",
       "16 2019-11-01 00:44:03       view     1701474  2053013553031414015   \n",
       "19 2019-11-03 07:55:11       view     1480706  2053013561092866779   \n",
       "27 2019-11-13 03:16:09       view     4800675  2053013554658804075   \n",
       "41 2019-11-19 08:18:37       view     9101644  2053013552888807671   \n",
       "35 2019-11-16 06:46:29       view     4802351  2053013554658804075   \n",
       "\n",
       "                    category_code   brand   price    user_id  \\\n",
       "16  computers.peripherals.monitor    acer  227.03  520088904   \n",
       "19              computers.desktop  pulser  530.23  520088904   \n",
       "27    electronics.audio.headphone    sony   14.93  520088904   \n",
       "41    computers.peripherals.mouse     msi   16.96  520088904   \n",
       "35    electronics.audio.headphone  xiaomi   12.84  520088904   \n",
       "\n",
       "                            user_session  \n",
       "16  bbd7ce29-5406-4c52-b239-f0dd3b12427e  \n",
       "19  4a2763a0-a7ec-40e8-89f8-317b84f6658f  \n",
       "27  e9882787-2f34-4cbd-80b0-70a8d076971f  \n",
       "41  f443e47a-f346-47b5-82fb-6a2c40058d28  \n",
       "35  a5660afe-6e0c-4555-ba81-be21c587e2bb  "
      ],
      "text/html": [
       "<div>\n",
       "<style scoped>\n",
       "    .dataframe tbody tr th:only-of-type {\n",
       "        vertical-align: middle;\n",
       "    }\n",
       "\n",
       "    .dataframe tbody tr th {\n",
       "        vertical-align: top;\n",
       "    }\n",
       "\n",
       "    .dataframe thead th {\n",
       "        text-align: right;\n",
       "    }\n",
       "</style>\n",
       "<table border=\"1\" class=\"dataframe\">\n",
       "  <thead>\n",
       "    <tr style=\"text-align: right;\">\n",
       "      <th></th>\n",
       "      <th>event_time</th>\n",
       "      <th>event_type</th>\n",
       "      <th>product_id</th>\n",
       "      <th>category_id</th>\n",
       "      <th>category_code</th>\n",
       "      <th>brand</th>\n",
       "      <th>price</th>\n",
       "      <th>user_id</th>\n",
       "      <th>user_session</th>\n",
       "    </tr>\n",
       "  </thead>\n",
       "  <tbody>\n",
       "    <tr>\n",
       "      <th>16</th>\n",
       "      <td>2019-11-01 00:44:03</td>\n",
       "      <td>view</td>\n",
       "      <td>1701474</td>\n",
       "      <td>2053013553031414015</td>\n",
       "      <td>computers.peripherals.monitor</td>\n",
       "      <td>acer</td>\n",
       "      <td>227.03</td>\n",
       "      <td>520088904</td>\n",
       "      <td>bbd7ce29-5406-4c52-b239-f0dd3b12427e</td>\n",
       "    </tr>\n",
       "    <tr>\n",
       "      <th>19</th>\n",
       "      <td>2019-11-03 07:55:11</td>\n",
       "      <td>view</td>\n",
       "      <td>1480706</td>\n",
       "      <td>2053013561092866779</td>\n",
       "      <td>computers.desktop</td>\n",
       "      <td>pulser</td>\n",
       "      <td>530.23</td>\n",
       "      <td>520088904</td>\n",
       "      <td>4a2763a0-a7ec-40e8-89f8-317b84f6658f</td>\n",
       "    </tr>\n",
       "    <tr>\n",
       "      <th>27</th>\n",
       "      <td>2019-11-13 03:16:09</td>\n",
       "      <td>view</td>\n",
       "      <td>4800675</td>\n",
       "      <td>2053013554658804075</td>\n",
       "      <td>electronics.audio.headphone</td>\n",
       "      <td>sony</td>\n",
       "      <td>14.93</td>\n",
       "      <td>520088904</td>\n",
       "      <td>e9882787-2f34-4cbd-80b0-70a8d076971f</td>\n",
       "    </tr>\n",
       "    <tr>\n",
       "      <th>41</th>\n",
       "      <td>2019-11-19 08:18:37</td>\n",
       "      <td>view</td>\n",
       "      <td>9101644</td>\n",
       "      <td>2053013552888807671</td>\n",
       "      <td>computers.peripherals.mouse</td>\n",
       "      <td>msi</td>\n",
       "      <td>16.96</td>\n",
       "      <td>520088904</td>\n",
       "      <td>f443e47a-f346-47b5-82fb-6a2c40058d28</td>\n",
       "    </tr>\n",
       "    <tr>\n",
       "      <th>35</th>\n",
       "      <td>2019-11-16 06:46:29</td>\n",
       "      <td>view</td>\n",
       "      <td>4802351</td>\n",
       "      <td>2053013554658804075</td>\n",
       "      <td>electronics.audio.headphone</td>\n",
       "      <td>xiaomi</td>\n",
       "      <td>12.84</td>\n",
       "      <td>520088904</td>\n",
       "      <td>a5660afe-6e0c-4555-ba81-be21c587e2bb</td>\n",
       "    </tr>\n",
       "  </tbody>\n",
       "</table>\n",
       "</div>"
      ]
     },
     "execution_count": 10,
     "metadata": {},
     "output_type": "execute_result"
    }
   ],
   "execution_count": 10
  },
  {
   "metadata": {},
   "cell_type": "markdown",
   "source": "# 1. Keep rows with purchases only",
   "id": "db4d4c8ed02cb06e"
  },
  {
   "metadata": {
    "ExecuteTime": {
     "end_time": "2024-05-15T18:59:01.796844Z",
     "start_time": "2024-05-15T18:59:01.503190Z"
    }
   },
   "cell_type": "code",
   "source": "df_purchases = df.filter(pl.col('event_type') == 'purchase')",
   "id": "666029e911d27366",
   "outputs": [],
   "execution_count": 11
  },
  {
   "metadata": {
    "ExecuteTime": {
     "end_time": "2024-05-15T18:59:38.940610Z",
     "start_time": "2024-05-15T18:59:38.936252Z"
    }
   },
   "cell_type": "code",
   "source": "df_purchases.shape",
   "id": "3c7af9fa917c7071",
   "outputs": [
    {
     "data": {
      "text/plain": [
       "(916939, 9)"
      ]
     },
     "execution_count": 13,
     "metadata": {},
     "output_type": "execute_result"
    }
   ],
   "execution_count": 13
  },
  {
   "metadata": {},
   "cell_type": "markdown",
   "source": "# 2. Let`s compute RFM",
   "id": "c6b66b55653a20f1"
  },
  {
   "metadata": {
    "ExecuteTime": {
     "end_time": "2024-05-15T19:00:41.618546Z",
     "start_time": "2024-05-15T19:00:41.523277Z"
    }
   },
   "cell_type": "code",
   "source": [
    "df_purchases = df_purchases.select(\n",
    "  ['event_time', 'user_id', 'price']\n",
    ").unique()"
   ],
   "id": "3a23fb1fe14b36b6",
   "outputs": [],
   "execution_count": 15
  },
  {
   "metadata": {
    "ExecuteTime": {
     "end_time": "2024-05-15T19:00:45.013716Z",
     "start_time": "2024-05-15T19:00:45.008994Z"
    }
   },
   "cell_type": "code",
   "source": "df_purchases.shape",
   "id": "de3f4f6962028bba",
   "outputs": [
    {
     "data": {
      "text/plain": [
       "(916930, 3)"
      ]
     },
     "execution_count": 16,
     "metadata": {},
     "output_type": "execute_result"
    }
   ],
   "execution_count": 16
  },
  {
   "metadata": {
    "ExecuteTime": {
     "end_time": "2024-05-15T19:01:11.748320Z",
     "start_time": "2024-05-15T19:01:11.743474Z"
    }
   },
   "cell_type": "code",
   "source": "df_purchases",
   "id": "cf8d1cb92b16110b",
   "outputs": [
    {
     "data": {
      "text/plain": [
       "shape: (916_930, 3)\n",
       "┌─────────────────────┬───────────┬─────────┐\n",
       "│ event_time          ┆ user_id   ┆ price   │\n",
       "│ ---                 ┆ ---       ┆ ---     │\n",
       "│ datetime[μs]        ┆ i64       ┆ f64     │\n",
       "╞═════════════════════╪═══════════╪═════════╡\n",
       "│ 2019-11-17 13:08:00 ┆ 516272854 ┆ 177.07  │\n",
       "│ 2019-11-30 17:39:48 ┆ 571609631 ┆ 195.54  │\n",
       "│ 2019-11-27 10:49:58 ┆ 556031520 ┆ 125.85  │\n",
       "│ 2019-11-05 21:04:42 ┆ 550594573 ┆ 1422.31 │\n",
       "│ 2019-11-09 00:23:41 ┆ 522633425 ┆ 437.57  │\n",
       "│ …                   ┆ …         ┆ …       │\n",
       "│ 2019-11-14 15:17:49 ┆ 556716479 ┆ 159.33  │\n",
       "│ 2019-11-28 08:33:01 ┆ 518131448 ┆ 916.37  │\n",
       "│ 2019-11-16 14:01:16 ┆ 534087565 ┆ 617.75  │\n",
       "│ 2019-11-29 16:14:04 ┆ 574055245 ┆ 55.78   │\n",
       "│ 2019-11-16 09:17:16 ┆ 550847006 ┆ 175.55  │\n",
       "└─────────────────────┴───────────┴─────────┘"
      ],
      "text/html": [
       "<div><style>\n",
       ".dataframe > thead > tr,\n",
       ".dataframe > tbody > tr {\n",
       "  text-align: right;\n",
       "  white-space: pre-wrap;\n",
       "}\n",
       "</style>\n",
       "<small>shape: (916_930, 3)</small><table border=\"1\" class=\"dataframe\"><thead><tr><th>event_time</th><th>user_id</th><th>price</th></tr><tr><td>datetime[μs]</td><td>i64</td><td>f64</td></tr></thead><tbody><tr><td>2019-11-17 13:08:00</td><td>516272854</td><td>177.07</td></tr><tr><td>2019-11-30 17:39:48</td><td>571609631</td><td>195.54</td></tr><tr><td>2019-11-27 10:49:58</td><td>556031520</td><td>125.85</td></tr><tr><td>2019-11-05 21:04:42</td><td>550594573</td><td>1422.31</td></tr><tr><td>2019-11-09 00:23:41</td><td>522633425</td><td>437.57</td></tr><tr><td>&hellip;</td><td>&hellip;</td><td>&hellip;</td></tr><tr><td>2019-11-14 15:17:49</td><td>556716479</td><td>159.33</td></tr><tr><td>2019-11-28 08:33:01</td><td>518131448</td><td>916.37</td></tr><tr><td>2019-11-16 14:01:16</td><td>534087565</td><td>617.75</td></tr><tr><td>2019-11-29 16:14:04</td><td>574055245</td><td>55.78</td></tr><tr><td>2019-11-16 09:17:16</td><td>550847006</td><td>175.55</td></tr></tbody></table></div>"
      ]
     },
     "execution_count": 18,
     "metadata": {},
     "output_type": "execute_result"
    }
   ],
   "execution_count": 18
  },
  {
   "metadata": {},
   "cell_type": "markdown",
   "source": "# Compute time difference",
   "id": "ad164d2eea6fb9a8"
  },
  {
   "metadata": {
    "ExecuteTime": {
     "end_time": "2024-05-15T19:02:19.103778Z",
     "start_time": "2024-05-15T19:02:19.100849Z"
    }
   },
   "cell_type": "code",
   "source": "anchor_date = dt.datetime(2019, 11, 30)",
   "id": "d4226352714266f1",
   "outputs": [],
   "execution_count": 21
  },
  {
   "metadata": {
    "ExecuteTime": {
     "end_time": "2024-05-15T19:04:03.770999Z",
     "start_time": "2024-05-15T19:04:03.765382Z"
    }
   },
   "cell_type": "code",
   "source": [
    "df_purchases = df_purchases.with_columns(\n",
    "    (anchor_date - pl.col('event_time')).alias('date_diff') / (1e6 * 3600 * 24)\n",
    ")"
   ],
   "id": "67a387539385a14e",
   "outputs": [],
   "execution_count": 23
  },
  {
   "metadata": {
    "ExecuteTime": {
     "end_time": "2024-05-15T19:04:04.957232Z",
     "start_time": "2024-05-15T19:04:04.952602Z"
    }
   },
   "cell_type": "code",
   "source": "df_purchases",
   "id": "b14d4f4934ee512e",
   "outputs": [
    {
     "data": {
      "text/plain": [
       "shape: (916_930, 4)\n",
       "┌─────────────────────┬───────────┬─────────┬───────────┐\n",
       "│ event_time          ┆ user_id   ┆ price   ┆ date_diff │\n",
       "│ ---                 ┆ ---       ┆ ---     ┆ ---       │\n",
       "│ datetime[μs]        ┆ i64       ┆ f64     ┆ f64       │\n",
       "╞═════════════════════╪═══════════╪═════════╪═══════════╡\n",
       "│ 2019-11-17 13:08:00 ┆ 516272854 ┆ 177.07  ┆ 12.452778 │\n",
       "│ 2019-11-30 17:39:48 ┆ 571609631 ┆ 195.54  ┆ -0.735972 │\n",
       "│ 2019-11-27 10:49:58 ┆ 556031520 ┆ 125.85  ┆ 2.548634  │\n",
       "│ 2019-11-05 21:04:42 ┆ 550594573 ┆ 1422.31 ┆ 24.121736 │\n",
       "│ 2019-11-09 00:23:41 ┆ 522633425 ┆ 437.57  ┆ 20.983553 │\n",
       "│ …                   ┆ …         ┆ …       ┆ …         │\n",
       "│ 2019-11-14 15:17:49 ┆ 556716479 ┆ 159.33  ┆ 15.362627 │\n",
       "│ 2019-11-28 08:33:01 ┆ 518131448 ┆ 916.37  ┆ 1.643738  │\n",
       "│ 2019-11-16 14:01:16 ┆ 534087565 ┆ 617.75  ┆ 13.415787 │\n",
       "│ 2019-11-29 16:14:04 ┆ 574055245 ┆ 55.78   ┆ 0.323565  │\n",
       "│ 2019-11-16 09:17:16 ┆ 550847006 ┆ 175.55  ┆ 13.613009 │\n",
       "└─────────────────────┴───────────┴─────────┴───────────┘"
      ],
      "text/html": [
       "<div><style>\n",
       ".dataframe > thead > tr,\n",
       ".dataframe > tbody > tr {\n",
       "  text-align: right;\n",
       "  white-space: pre-wrap;\n",
       "}\n",
       "</style>\n",
       "<small>shape: (916_930, 4)</small><table border=\"1\" class=\"dataframe\"><thead><tr><th>event_time</th><th>user_id</th><th>price</th><th>date_diff</th></tr><tr><td>datetime[μs]</td><td>i64</td><td>f64</td><td>f64</td></tr></thead><tbody><tr><td>2019-11-17 13:08:00</td><td>516272854</td><td>177.07</td><td>12.452778</td></tr><tr><td>2019-11-30 17:39:48</td><td>571609631</td><td>195.54</td><td>-0.735972</td></tr><tr><td>2019-11-27 10:49:58</td><td>556031520</td><td>125.85</td><td>2.548634</td></tr><tr><td>2019-11-05 21:04:42</td><td>550594573</td><td>1422.31</td><td>24.121736</td></tr><tr><td>2019-11-09 00:23:41</td><td>522633425</td><td>437.57</td><td>20.983553</td></tr><tr><td>&hellip;</td><td>&hellip;</td><td>&hellip;</td><td>&hellip;</td></tr><tr><td>2019-11-14 15:17:49</td><td>556716479</td><td>159.33</td><td>15.362627</td></tr><tr><td>2019-11-28 08:33:01</td><td>518131448</td><td>916.37</td><td>1.643738</td></tr><tr><td>2019-11-16 14:01:16</td><td>534087565</td><td>617.75</td><td>13.415787</td></tr><tr><td>2019-11-29 16:14:04</td><td>574055245</td><td>55.78</td><td>0.323565</td></tr><tr><td>2019-11-16 09:17:16</td><td>550847006</td><td>175.55</td><td>13.613009</td></tr></tbody></table></div>"
      ]
     },
     "execution_count": 25,
     "metadata": {},
     "output_type": "execute_result"
    }
   ],
   "execution_count": 25
  },
  {
   "metadata": {
    "ExecuteTime": {
     "end_time": "2024-05-15T19:05:38.417746Z",
     "start_time": "2024-05-15T19:05:38.388588Z"
    }
   },
   "cell_type": "code",
   "source": [
    "df_agg = df_purchases.group_by('user_id').agg([\n",
    "  pl.col('date_diff').min().alias('recency'),\n",
    "  pl.len().alias('frequency'),\n",
    "  pl.col('price').sum().alias('monetary')\n",
    "]\n",
    ")"
   ],
   "id": "963fc15431489cf9",
   "outputs": [],
   "execution_count": 27
  },
  {
   "metadata": {
    "ExecuteTime": {
     "end_time": "2024-05-15T19:05:39.726042Z",
     "start_time": "2024-05-15T19:05:39.720981Z"
    }
   },
   "cell_type": "code",
   "source": "df_agg",
   "id": "81dbc08e9a4832c6",
   "outputs": [
    {
     "data": {
      "text/plain": [
       "shape: (441_638, 4)\n",
       "┌───────────┬───────────┬───────────┬──────────┐\n",
       "│ user_id   ┆ recency   ┆ frequency ┆ monetary │\n",
       "│ ---       ┆ ---       ┆ ---       ┆ ---      │\n",
       "│ i64       ┆ f64       ┆ u32       ┆ f64      │\n",
       "╞═══════════╪═══════════╪═══════════╪══════════╡\n",
       "│ 547116191 ┆ 16.772454 ┆ 1         ┆ 280.57   │\n",
       "│ 550956182 ┆ 17.428194 ┆ 1         ┆ 88.64    │\n",
       "│ 554831299 ┆ 15.71316  ┆ 2         ┆ 159.08   │\n",
       "│ 512424706 ┆ 12.291771 ┆ 11        ┆ 1442.26  │\n",
       "│ 542775483 ┆ 21.589734 ┆ 2         ┆ 856.68   │\n",
       "│ …         ┆ …         ┆ …         ┆ …        │\n",
       "│ 526642800 ┆ 0.611343  ┆ 2         ┆ 481.82   │\n",
       "│ 517444664 ┆ 22.334606 ┆ 1         ┆ 261.91   │\n",
       "│ 518449391 ┆ -0.228137 ┆ 2         ┆ 256.84   │\n",
       "│ 516437314 ┆ 3.080104  ┆ 1         ┆ 82.37    │\n",
       "│ 572607292 ┆ 12.357315 ┆ 1         ┆ 42.47    │\n",
       "└───────────┴───────────┴───────────┴──────────┘"
      ],
      "text/html": [
       "<div><style>\n",
       ".dataframe > thead > tr,\n",
       ".dataframe > tbody > tr {\n",
       "  text-align: right;\n",
       "  white-space: pre-wrap;\n",
       "}\n",
       "</style>\n",
       "<small>shape: (441_638, 4)</small><table border=\"1\" class=\"dataframe\"><thead><tr><th>user_id</th><th>recency</th><th>frequency</th><th>monetary</th></tr><tr><td>i64</td><td>f64</td><td>u32</td><td>f64</td></tr></thead><tbody><tr><td>547116191</td><td>16.772454</td><td>1</td><td>280.57</td></tr><tr><td>550956182</td><td>17.428194</td><td>1</td><td>88.64</td></tr><tr><td>554831299</td><td>15.71316</td><td>2</td><td>159.08</td></tr><tr><td>512424706</td><td>12.291771</td><td>11</td><td>1442.26</td></tr><tr><td>542775483</td><td>21.589734</td><td>2</td><td>856.68</td></tr><tr><td>&hellip;</td><td>&hellip;</td><td>&hellip;</td><td>&hellip;</td></tr><tr><td>526642800</td><td>0.611343</td><td>2</td><td>481.82</td></tr><tr><td>517444664</td><td>22.334606</td><td>1</td><td>261.91</td></tr><tr><td>518449391</td><td>-0.228137</td><td>2</td><td>256.84</td></tr><tr><td>516437314</td><td>3.080104</td><td>1</td><td>82.37</td></tr><tr><td>572607292</td><td>12.357315</td><td>1</td><td>42.47</td></tr></tbody></table></div>"
      ]
     },
     "execution_count": 28,
     "metadata": {},
     "output_type": "execute_result"
    }
   ],
   "execution_count": 28
  },
  {
   "metadata": {},
   "cell_type": "markdown",
   "source": "# 3. Convert to pandas for analysis and plotting",
   "id": "eb25edb584542caa"
  },
  {
   "metadata": {
    "ExecuteTime": {
     "end_time": "2024-05-15T19:07:34.641065Z",
     "start_time": "2024-05-15T19:07:34.631193Z"
    }
   },
   "cell_type": "code",
   "source": "df_agg = df_agg.to_pandas()",
   "id": "35b63b6b5646dd0e",
   "outputs": [],
   "execution_count": 29
  },
  {
   "metadata": {
    "ExecuteTime": {
     "end_time": "2024-05-15T19:10:42.792501Z",
     "start_time": "2024-05-15T19:10:42.760051Z"
    }
   },
   "cell_type": "code",
   "source": [
    "breaks = np.arange(0, 1.1, 0.1)\n",
    "num_vars = ['recency', 'frequency', 'monetary']\n",
    "df_agg[num_vars].quantile([0, 0.25, 0.5, 0.75, 1])"
   ],
   "id": "cc72c9621413d072",
   "outputs": [
    {
     "data": {
      "text/plain": [
       "        recency  frequency     monetary\n",
       "0.00  -0.999815        1.0       0.7700\n",
       "0.25   6.570278        1.0     108.6000\n",
       "0.50  12.492106        1.0     246.0400\n",
       "0.75  17.780564        2.0     616.9175\n",
       "1.00  28.999525      519.0  203986.0700"
      ],
      "text/html": [
       "<div>\n",
       "<style scoped>\n",
       "    .dataframe tbody tr th:only-of-type {\n",
       "        vertical-align: middle;\n",
       "    }\n",
       "\n",
       "    .dataframe tbody tr th {\n",
       "        vertical-align: top;\n",
       "    }\n",
       "\n",
       "    .dataframe thead th {\n",
       "        text-align: right;\n",
       "    }\n",
       "</style>\n",
       "<table border=\"1\" class=\"dataframe\">\n",
       "  <thead>\n",
       "    <tr style=\"text-align: right;\">\n",
       "      <th></th>\n",
       "      <th>recency</th>\n",
       "      <th>frequency</th>\n",
       "      <th>monetary</th>\n",
       "    </tr>\n",
       "  </thead>\n",
       "  <tbody>\n",
       "    <tr>\n",
       "      <th>0.00</th>\n",
       "      <td>-0.999815</td>\n",
       "      <td>1.0</td>\n",
       "      <td>0.7700</td>\n",
       "    </tr>\n",
       "    <tr>\n",
       "      <th>0.25</th>\n",
       "      <td>6.570278</td>\n",
       "      <td>1.0</td>\n",
       "      <td>108.6000</td>\n",
       "    </tr>\n",
       "    <tr>\n",
       "      <th>0.50</th>\n",
       "      <td>12.492106</td>\n",
       "      <td>1.0</td>\n",
       "      <td>246.0400</td>\n",
       "    </tr>\n",
       "    <tr>\n",
       "      <th>0.75</th>\n",
       "      <td>17.780564</td>\n",
       "      <td>2.0</td>\n",
       "      <td>616.9175</td>\n",
       "    </tr>\n",
       "    <tr>\n",
       "      <th>1.00</th>\n",
       "      <td>28.999525</td>\n",
       "      <td>519.0</td>\n",
       "      <td>203986.0700</td>\n",
       "    </tr>\n",
       "  </tbody>\n",
       "</table>\n",
       "</div>"
      ]
     },
     "execution_count": 31,
     "metadata": {},
     "output_type": "execute_result"
    }
   ],
   "execution_count": 31
  }
 ],
 "metadata": {
  "kernelspec": {
   "display_name": "Python 3",
   "language": "python",
   "name": "python3"
  },
  "language_info": {
   "codemirror_mode": {
    "name": "ipython",
    "version": 2
   },
   "file_extension": ".py",
   "mimetype": "text/x-python",
   "name": "python",
   "nbconvert_exporter": "python",
   "pygments_lexer": "ipython2",
   "version": "2.7.6"
  }
 },
 "nbformat": 4,
 "nbformat_minor": 5
}
