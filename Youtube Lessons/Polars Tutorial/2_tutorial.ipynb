{
 "cells": [
  {
   "metadata": {},
   "cell_type": "markdown",
   "source": "### https://www.youtube.com/watch?v=U2WnK0i_rOU&list=PLo9Vi5B84_dfAuwJqNYG4XhZMrGTF3sBx&index=3",
   "id": "b51fbd13fb905910"
  },
  {
   "cell_type": "code",
   "id": "initial_id",
   "metadata": {
    "collapsed": true,
    "ExecuteTime": {
     "end_time": "2024-05-13T18:21:31.069675Z",
     "start_time": "2024-05-13T18:21:30.506645Z"
    }
   },
   "source": [
    "import polars as pl\n",
    "import pandas as pd\n",
    "import numpy as np\n",
    "import pyarrow\n",
    "\n",
    "import matplotlib.pyplot as plt\n",
    "import seaborn as sns"
   ],
   "outputs": [],
   "execution_count": 2
  },
  {
   "metadata": {
    "ExecuteTime": {
     "end_time": "2024-05-13T18:21:54.709222Z",
     "start_time": "2024-05-13T18:21:31.070681Z"
    }
   },
   "cell_type": "code",
   "source": "df = pl.read_csv(r'F:\\DataSpell\\Polars_library_learn\\Youtube Lessons\\Polars Tutorial\\data\\2019-Nov.csv')",
   "id": "905f1c0c19d12059",
   "outputs": [],
   "execution_count": 3
  },
  {
   "metadata": {},
   "cell_type": "markdown",
   "source": "### How to update columns and intro to window functions",
   "id": "d7021c0967581907"
  },
  {
   "metadata": {
    "ExecuteTime": {
     "end_time": "2024-05-13T18:21:54.754814Z",
     "start_time": "2024-05-13T18:21:54.718652Z"
    }
   },
   "cell_type": "code",
   "source": "df ",
   "id": "27cd7ad7ea82c86d",
   "outputs": [
    {
     "data": {
      "text/plain": [
       "shape: (67_501_979, 9)\n",
       "┌────────────┬────────────┬────────────┬───────────┬───┬─────────┬─────────┬───────────┬───────────┐\n",
       "│ event_time ┆ event_type ┆ product_id ┆ category_ ┆ … ┆ brand   ┆ price   ┆ user_id   ┆ user_sess │\n",
       "│ ---        ┆ ---        ┆ ---        ┆ id        ┆   ┆ ---     ┆ ---     ┆ ---       ┆ ion       │\n",
       "│ str        ┆ str        ┆ i64        ┆ ---       ┆   ┆ str     ┆ f64     ┆ i64       ┆ ---       │\n",
       "│            ┆            ┆            ┆ i64       ┆   ┆         ┆         ┆           ┆ str       │\n",
       "╞════════════╪════════════╪════════════╪═══════════╪═══╪═════════╪═════════╪═══════════╪═══════════╡\n",
       "│ 2019-11-01 ┆ view       ┆ 1003461    ┆ 205301355 ┆ … ┆ xiaomi  ┆ 489.07  ┆ 520088904 ┆ 4d3b30da- │\n",
       "│ 00:00:00   ┆            ┆            ┆ 563188265 ┆   ┆         ┆         ┆           ┆ a5e4-49df │\n",
       "│ UTC        ┆            ┆            ┆ 5         ┆   ┆         ┆         ┆           ┆ -b1a8-ba5 │\n",
       "│            ┆            ┆            ┆           ┆   ┆         ┆         ┆           ┆ 943…      │\n",
       "│ 2019-11-01 ┆ view       ┆ 5000088    ┆ 205301356 ┆ … ┆ janome  ┆ 293.65  ┆ 530496790 ┆ 8e5f4f83- │\n",
       "│ 00:00:00   ┆            ┆            ┆ 610086603 ┆   ┆         ┆         ┆           ┆ 366c-4f70 │\n",
       "│ UTC        ┆            ┆            ┆ 5         ┆   ┆         ┆         ┆           ┆ -860e-ca7 │\n",
       "│            ┆            ┆            ┆           ┆   ┆         ┆         ┆           ┆ 417…      │\n",
       "│ 2019-11-01 ┆ view       ┆ 17302664   ┆ 205301355 ┆ … ┆ creed   ┆ 28.31   ┆ 561587266 ┆ 755422e7- │\n",
       "│ 00:00:01   ┆            ┆            ┆ 385349765 ┆   ┆         ┆         ┆           ┆ 9040-477b │\n",
       "│ UTC        ┆            ┆            ┆ 5         ┆   ┆         ┆         ┆           ┆ -9bd2-6a6 │\n",
       "│            ┆            ┆            ┆           ┆   ┆         ┆         ┆           ┆ e8f…      │\n",
       "│ 2019-11-01 ┆ view       ┆ 3601530    ┆ 205301356 ┆ … ┆ lg      ┆ 712.87  ┆ 518085591 ┆ 3bfb58cd- │\n",
       "│ 00:00:01   ┆            ┆            ┆ 381077592 ┆   ┆         ┆         ┆           ┆ 7892-48cc │\n",
       "│ UTC        ┆            ┆            ┆ 3         ┆   ┆         ┆         ┆           ┆ -8020-2f1 │\n",
       "│            ┆            ┆            ┆           ┆   ┆         ┆         ┆           ┆ 7e6…      │\n",
       "│ 2019-11-01 ┆ view       ┆ 1004775    ┆ 205301355 ┆ … ┆ xiaomi  ┆ 183.27  ┆ 558856683 ┆ 313628f1- │\n",
       "│ 00:00:01   ┆            ┆            ┆ 563188265 ┆   ┆         ┆         ┆           ┆ 68b8-460d │\n",
       "│ UTC        ┆            ┆            ┆ 5         ┆   ┆         ┆         ┆           ┆ -84f6-cec │\n",
       "│            ┆            ┆            ┆           ┆   ┆         ┆         ┆           ┆ 7a8…      │\n",
       "│ …          ┆ …          ┆ …          ┆ …         ┆ … ┆ …       ┆ …       ┆ …         ┆ …         │\n",
       "│ 2019-11-30 ┆ view       ┆ 15700137   ┆ 205301355 ┆ … ┆ null    ┆ 277.74  ┆ 532714000 ┆ 02b4131c- │\n",
       "│ 23:59:58   ┆            ┆            ┆ 973391221 ┆   ┆         ┆         ┆           ┆ 0112-4231 │\n",
       "│ UTC        ┆            ┆            ┆ 1         ┆   ┆         ┆         ┆           ┆ -aafa-cea │\n",
       "│            ┆            ┆            ┆           ┆   ┆         ┆         ┆           ┆ a08…      │\n",
       "│ 2019-11-30 ┆ view       ┆ 28719425   ┆ 205301356 ┆ … ┆ baden   ┆ 62.81   ┆ 545223467 ┆ 734c5eef- │\n",
       "│ 23:59:58   ┆            ┆            ┆ 563949256 ┆   ┆         ┆         ┆           ┆ 0742-4f8b │\n",
       "│ UTC        ┆            ┆            ┆ 9         ┆   ┆         ┆         ┆           ┆ -9d22-48f │\n",
       "│            ┆            ┆            ┆           ┆   ┆         ┆         ┆           ┆ 75b…      │\n",
       "│ 2019-11-30 ┆ view       ┆ 1004833    ┆ 205301355 ┆ … ┆ samsung ┆ 167.03  ┆ 557794415 ┆ 6fecf566- │\n",
       "│ 23:59:59   ┆            ┆            ┆ 563188265 ┆   ┆         ┆         ┆           ┆ ebb0-4e70 │\n",
       "│ UTC        ┆            ┆            ┆ 5         ┆   ┆         ┆         ┆           ┆ -a243-cdc │\n",
       "│            ┆            ┆            ┆           ┆   ┆         ┆         ┆           ┆ 13c…      │\n",
       "│ 2019-11-30 ┆ view       ┆ 2701706    ┆ 205301356 ┆ … ┆ samsung ┆ 566.27  ┆ 531607492 ┆ 368ddc8b- │\n",
       "│ 23:59:59   ┆            ┆            ┆ 391143922 ┆   ┆         ┆         ┆           ┆ 5db9-40fb │\n",
       "│ UTC        ┆            ┆            ┆ 5         ┆   ┆         ┆         ┆           ┆ -b7ff-b65 │\n",
       "│            ┆            ┆            ┆           ┆   ┆         ┆         ┆           ┆ 82a…      │\n",
       "│ 2019-11-30 ┆ view       ┆ 1004233    ┆ 205301355 ┆ … ┆ apple   ┆ 1312.52 ┆ 579969851 ┆ 90aca71c- │\n",
       "│ 23:59:59   ┆            ┆            ┆ 563188265 ┆   ┆         ┆         ┆           ┆ ed8a-4670 │\n",
       "│ UTC        ┆            ┆            ┆ 5         ┆   ┆         ┆         ┆           ┆ -866a-761 │\n",
       "│            ┆            ┆            ┆           ┆   ┆         ┆         ┆           ┆ eba…      │\n",
       "└────────────┴────────────┴────────────┴───────────┴───┴─────────┴─────────┴───────────┴───────────┘"
      ],
      "text/html": [
       "<div><style>\n",
       ".dataframe > thead > tr,\n",
       ".dataframe > tbody > tr {\n",
       "  text-align: right;\n",
       "  white-space: pre-wrap;\n",
       "}\n",
       "</style>\n",
       "<small>shape: (67_501_979, 9)</small><table border=\"1\" class=\"dataframe\"><thead><tr><th>event_time</th><th>event_type</th><th>product_id</th><th>category_id</th><th>category_code</th><th>brand</th><th>price</th><th>user_id</th><th>user_session</th></tr><tr><td>str</td><td>str</td><td>i64</td><td>i64</td><td>str</td><td>str</td><td>f64</td><td>i64</td><td>str</td></tr></thead><tbody><tr><td>&quot;2019-11-01 00:00:00 UTC&quot;</td><td>&quot;view&quot;</td><td>1003461</td><td>2053013555631882655</td><td>&quot;electronics.smartphone&quot;</td><td>&quot;xiaomi&quot;</td><td>489.07</td><td>520088904</td><td>&quot;4d3b30da-a5e4-49df-b1a8-ba5943…</td></tr><tr><td>&quot;2019-11-01 00:00:00 UTC&quot;</td><td>&quot;view&quot;</td><td>5000088</td><td>2053013566100866035</td><td>&quot;appliances.sewing_machine&quot;</td><td>&quot;janome&quot;</td><td>293.65</td><td>530496790</td><td>&quot;8e5f4f83-366c-4f70-860e-ca7417…</td></tr><tr><td>&quot;2019-11-01 00:00:01 UTC&quot;</td><td>&quot;view&quot;</td><td>17302664</td><td>2053013553853497655</td><td>null</td><td>&quot;creed&quot;</td><td>28.31</td><td>561587266</td><td>&quot;755422e7-9040-477b-9bd2-6a6e8f…</td></tr><tr><td>&quot;2019-11-01 00:00:01 UTC&quot;</td><td>&quot;view&quot;</td><td>3601530</td><td>2053013563810775923</td><td>&quot;appliances.kitchen.washer&quot;</td><td>&quot;lg&quot;</td><td>712.87</td><td>518085591</td><td>&quot;3bfb58cd-7892-48cc-8020-2f17e6…</td></tr><tr><td>&quot;2019-11-01 00:00:01 UTC&quot;</td><td>&quot;view&quot;</td><td>1004775</td><td>2053013555631882655</td><td>&quot;electronics.smartphone&quot;</td><td>&quot;xiaomi&quot;</td><td>183.27</td><td>558856683</td><td>&quot;313628f1-68b8-460d-84f6-cec7a8…</td></tr><tr><td>&hellip;</td><td>&hellip;</td><td>&hellip;</td><td>&hellip;</td><td>&hellip;</td><td>&hellip;</td><td>&hellip;</td><td>&hellip;</td><td>&hellip;</td></tr><tr><td>&quot;2019-11-30 23:59:58 UTC&quot;</td><td>&quot;view&quot;</td><td>15700137</td><td>2053013559733912211</td><td>null</td><td>null</td><td>277.74</td><td>532714000</td><td>&quot;02b4131c-0112-4231-aafa-ceaa08…</td></tr><tr><td>&quot;2019-11-30 23:59:58 UTC&quot;</td><td>&quot;view&quot;</td><td>28719425</td><td>2053013565639492569</td><td>&quot;apparel.shoes&quot;</td><td>&quot;baden&quot;</td><td>62.81</td><td>545223467</td><td>&quot;734c5eef-0742-4f8b-9d22-48f75b…</td></tr><tr><td>&quot;2019-11-30 23:59:59 UTC&quot;</td><td>&quot;view&quot;</td><td>1004833</td><td>2053013555631882655</td><td>&quot;electronics.smartphone&quot;</td><td>&quot;samsung&quot;</td><td>167.03</td><td>557794415</td><td>&quot;6fecf566-ebb0-4e70-a243-cdc13c…</td></tr><tr><td>&quot;2019-11-30 23:59:59 UTC&quot;</td><td>&quot;view&quot;</td><td>2701706</td><td>2053013563911439225</td><td>&quot;appliances.kitchen.refrigerato…</td><td>&quot;samsung&quot;</td><td>566.27</td><td>531607492</td><td>&quot;368ddc8b-5db9-40fb-b7ff-b6582a…</td></tr><tr><td>&quot;2019-11-30 23:59:59 UTC&quot;</td><td>&quot;view&quot;</td><td>1004233</td><td>2053013555631882655</td><td>&quot;electronics.smartphone&quot;</td><td>&quot;apple&quot;</td><td>1312.52</td><td>579969851</td><td>&quot;90aca71c-ed8a-4670-866a-761eba…</td></tr></tbody></table></div>"
      ]
     },
     "execution_count": 4,
     "metadata": {},
     "output_type": "execute_result"
    }
   ],
   "execution_count": 4
  },
  {
   "metadata": {
    "ExecuteTime": {
     "end_time": "2024-05-13T18:53:35.054769Z",
     "start_time": "2024-05-13T18:53:35.050992Z"
    }
   },
   "cell_type": "code",
   "source": "df_top = df",
   "id": "14054a5a7eca8278",
   "outputs": [],
   "execution_count": 22
  },
  {
   "metadata": {
    "ExecuteTime": {
     "end_time": "2024-05-13T18:53:35.869728Z",
     "start_time": "2024-05-13T18:53:35.865657Z"
    }
   },
   "cell_type": "code",
   "source": "df.shape",
   "id": "3e8972d11036d633",
   "outputs": [
    {
     "data": {
      "text/plain": [
       "(67501979, 9)"
      ]
     },
     "execution_count": 23,
     "metadata": {},
     "output_type": "execute_result"
    }
   ],
   "execution_count": 23
  },
  {
   "metadata": {},
   "cell_type": "markdown",
   "source": "# 1. Update value on one ir multiple columns",
   "id": "f896287688a31fc0"
  },
  {
   "metadata": {
    "ExecuteTime": {
     "end_time": "2024-05-13T18:53:38.357019Z",
     "start_time": "2024-05-13T18:53:37.255375Z"
    }
   },
   "cell_type": "code",
   "source": [
    "# Update a string column\n",
    "df_top.with_columns(\n",
    "    ('brand-' + pl.col(['brand'])).alias('brand')\n",
    ")"
   ],
   "id": "9ed1ad61883112d2",
   "outputs": [
    {
     "data": {
      "text/plain": [
       "shape: (67_501_979, 9)\n",
       "┌────────────┬───────────┬───────────┬───────────┬───┬───────────┬─────────┬───────────┬───────────┐\n",
       "│ event_time ┆ event_typ ┆ product_i ┆ category_ ┆ … ┆ brand     ┆ price   ┆ user_id   ┆ user_sess │\n",
       "│ ---        ┆ e         ┆ d         ┆ id        ┆   ┆ ---       ┆ ---     ┆ ---       ┆ ion       │\n",
       "│ str        ┆ ---       ┆ ---       ┆ ---       ┆   ┆ str       ┆ f64     ┆ i64       ┆ ---       │\n",
       "│            ┆ str       ┆ i64       ┆ i64       ┆   ┆           ┆         ┆           ┆ str       │\n",
       "╞════════════╪═══════════╪═══════════╪═══════════╪═══╪═══════════╪═════════╪═══════════╪═══════════╡\n",
       "│ 2019-11-01 ┆ view      ┆ 1003461   ┆ 205301355 ┆ … ┆ brand-xia ┆ 489.07  ┆ 520088904 ┆ 4d3b30da- │\n",
       "│ 00:00:00   ┆           ┆           ┆ 563188265 ┆   ┆ omi       ┆         ┆           ┆ a5e4-49df │\n",
       "│ UTC        ┆           ┆           ┆ 5         ┆   ┆           ┆         ┆           ┆ -b1a8-ba5 │\n",
       "│            ┆           ┆           ┆           ┆   ┆           ┆         ┆           ┆ 943…      │\n",
       "│ 2019-11-01 ┆ view      ┆ 5000088   ┆ 205301356 ┆ … ┆ brand-jan ┆ 293.65  ┆ 530496790 ┆ 8e5f4f83- │\n",
       "│ 00:00:00   ┆           ┆           ┆ 610086603 ┆   ┆ ome       ┆         ┆           ┆ 366c-4f70 │\n",
       "│ UTC        ┆           ┆           ┆ 5         ┆   ┆           ┆         ┆           ┆ -860e-ca7 │\n",
       "│            ┆           ┆           ┆           ┆   ┆           ┆         ┆           ┆ 417…      │\n",
       "│ 2019-11-01 ┆ view      ┆ 17302664  ┆ 205301355 ┆ … ┆ brand-cre ┆ 28.31   ┆ 561587266 ┆ 755422e7- │\n",
       "│ 00:00:01   ┆           ┆           ┆ 385349765 ┆   ┆ ed        ┆         ┆           ┆ 9040-477b │\n",
       "│ UTC        ┆           ┆           ┆ 5         ┆   ┆           ┆         ┆           ┆ -9bd2-6a6 │\n",
       "│            ┆           ┆           ┆           ┆   ┆           ┆         ┆           ┆ e8f…      │\n",
       "│ 2019-11-01 ┆ view      ┆ 3601530   ┆ 205301356 ┆ … ┆ brand-lg  ┆ 712.87  ┆ 518085591 ┆ 3bfb58cd- │\n",
       "│ 00:00:01   ┆           ┆           ┆ 381077592 ┆   ┆           ┆         ┆           ┆ 7892-48cc │\n",
       "│ UTC        ┆           ┆           ┆ 3         ┆   ┆           ┆         ┆           ┆ -8020-2f1 │\n",
       "│            ┆           ┆           ┆           ┆   ┆           ┆         ┆           ┆ 7e6…      │\n",
       "│ 2019-11-01 ┆ view      ┆ 1004775   ┆ 205301355 ┆ … ┆ brand-xia ┆ 183.27  ┆ 558856683 ┆ 313628f1- │\n",
       "│ 00:00:01   ┆           ┆           ┆ 563188265 ┆   ┆ omi       ┆         ┆           ┆ 68b8-460d │\n",
       "│ UTC        ┆           ┆           ┆ 5         ┆   ┆           ┆         ┆           ┆ -84f6-cec │\n",
       "│            ┆           ┆           ┆           ┆   ┆           ┆         ┆           ┆ 7a8…      │\n",
       "│ …          ┆ …         ┆ …         ┆ …         ┆ … ┆ …         ┆ …       ┆ …         ┆ …         │\n",
       "│ 2019-11-30 ┆ view      ┆ 15700137  ┆ 205301355 ┆ … ┆ null      ┆ 277.74  ┆ 532714000 ┆ 02b4131c- │\n",
       "│ 23:59:58   ┆           ┆           ┆ 973391221 ┆   ┆           ┆         ┆           ┆ 0112-4231 │\n",
       "│ UTC        ┆           ┆           ┆ 1         ┆   ┆           ┆         ┆           ┆ -aafa-cea │\n",
       "│            ┆           ┆           ┆           ┆   ┆           ┆         ┆           ┆ a08…      │\n",
       "│ 2019-11-30 ┆ view      ┆ 28719425  ┆ 205301356 ┆ … ┆ brand-bad ┆ 62.81   ┆ 545223467 ┆ 734c5eef- │\n",
       "│ 23:59:58   ┆           ┆           ┆ 563949256 ┆   ┆ en        ┆         ┆           ┆ 0742-4f8b │\n",
       "│ UTC        ┆           ┆           ┆ 9         ┆   ┆           ┆         ┆           ┆ -9d22-48f │\n",
       "│            ┆           ┆           ┆           ┆   ┆           ┆         ┆           ┆ 75b…      │\n",
       "│ 2019-11-30 ┆ view      ┆ 1004833   ┆ 205301355 ┆ … ┆ brand-sam ┆ 167.03  ┆ 557794415 ┆ 6fecf566- │\n",
       "│ 23:59:59   ┆           ┆           ┆ 563188265 ┆   ┆ sung      ┆         ┆           ┆ ebb0-4e70 │\n",
       "│ UTC        ┆           ┆           ┆ 5         ┆   ┆           ┆         ┆           ┆ -a243-cdc │\n",
       "│            ┆           ┆           ┆           ┆   ┆           ┆         ┆           ┆ 13c…      │\n",
       "│ 2019-11-30 ┆ view      ┆ 2701706   ┆ 205301356 ┆ … ┆ brand-sam ┆ 566.27  ┆ 531607492 ┆ 368ddc8b- │\n",
       "│ 23:59:59   ┆           ┆           ┆ 391143922 ┆   ┆ sung      ┆         ┆           ┆ 5db9-40fb │\n",
       "│ UTC        ┆           ┆           ┆ 5         ┆   ┆           ┆         ┆           ┆ -b7ff-b65 │\n",
       "│            ┆           ┆           ┆           ┆   ┆           ┆         ┆           ┆ 82a…      │\n",
       "│ 2019-11-30 ┆ view      ┆ 1004233   ┆ 205301355 ┆ … ┆ brand-app ┆ 1312.52 ┆ 579969851 ┆ 90aca71c- │\n",
       "│ 23:59:59   ┆           ┆           ┆ 563188265 ┆   ┆ le        ┆         ┆           ┆ ed8a-4670 │\n",
       "│ UTC        ┆           ┆           ┆ 5         ┆   ┆           ┆         ┆           ┆ -866a-761 │\n",
       "│            ┆           ┆           ┆           ┆   ┆           ┆         ┆           ┆ eba…      │\n",
       "└────────────┴───────────┴───────────┴───────────┴───┴───────────┴─────────┴───────────┴───────────┘"
      ],
      "text/html": [
       "<div><style>\n",
       ".dataframe > thead > tr,\n",
       ".dataframe > tbody > tr {\n",
       "  text-align: right;\n",
       "  white-space: pre-wrap;\n",
       "}\n",
       "</style>\n",
       "<small>shape: (67_501_979, 9)</small><table border=\"1\" class=\"dataframe\"><thead><tr><th>event_time</th><th>event_type</th><th>product_id</th><th>category_id</th><th>category_code</th><th>brand</th><th>price</th><th>user_id</th><th>user_session</th></tr><tr><td>str</td><td>str</td><td>i64</td><td>i64</td><td>str</td><td>str</td><td>f64</td><td>i64</td><td>str</td></tr></thead><tbody><tr><td>&quot;2019-11-01 00:00:00 UTC&quot;</td><td>&quot;view&quot;</td><td>1003461</td><td>2053013555631882655</td><td>&quot;electronics.smartphone&quot;</td><td>&quot;brand-xiaomi&quot;</td><td>489.07</td><td>520088904</td><td>&quot;4d3b30da-a5e4-49df-b1a8-ba5943…</td></tr><tr><td>&quot;2019-11-01 00:00:00 UTC&quot;</td><td>&quot;view&quot;</td><td>5000088</td><td>2053013566100866035</td><td>&quot;appliances.sewing_machine&quot;</td><td>&quot;brand-janome&quot;</td><td>293.65</td><td>530496790</td><td>&quot;8e5f4f83-366c-4f70-860e-ca7417…</td></tr><tr><td>&quot;2019-11-01 00:00:01 UTC&quot;</td><td>&quot;view&quot;</td><td>17302664</td><td>2053013553853497655</td><td>null</td><td>&quot;brand-creed&quot;</td><td>28.31</td><td>561587266</td><td>&quot;755422e7-9040-477b-9bd2-6a6e8f…</td></tr><tr><td>&quot;2019-11-01 00:00:01 UTC&quot;</td><td>&quot;view&quot;</td><td>3601530</td><td>2053013563810775923</td><td>&quot;appliances.kitchen.washer&quot;</td><td>&quot;brand-lg&quot;</td><td>712.87</td><td>518085591</td><td>&quot;3bfb58cd-7892-48cc-8020-2f17e6…</td></tr><tr><td>&quot;2019-11-01 00:00:01 UTC&quot;</td><td>&quot;view&quot;</td><td>1004775</td><td>2053013555631882655</td><td>&quot;electronics.smartphone&quot;</td><td>&quot;brand-xiaomi&quot;</td><td>183.27</td><td>558856683</td><td>&quot;313628f1-68b8-460d-84f6-cec7a8…</td></tr><tr><td>&hellip;</td><td>&hellip;</td><td>&hellip;</td><td>&hellip;</td><td>&hellip;</td><td>&hellip;</td><td>&hellip;</td><td>&hellip;</td><td>&hellip;</td></tr><tr><td>&quot;2019-11-30 23:59:58 UTC&quot;</td><td>&quot;view&quot;</td><td>15700137</td><td>2053013559733912211</td><td>null</td><td>null</td><td>277.74</td><td>532714000</td><td>&quot;02b4131c-0112-4231-aafa-ceaa08…</td></tr><tr><td>&quot;2019-11-30 23:59:58 UTC&quot;</td><td>&quot;view&quot;</td><td>28719425</td><td>2053013565639492569</td><td>&quot;apparel.shoes&quot;</td><td>&quot;brand-baden&quot;</td><td>62.81</td><td>545223467</td><td>&quot;734c5eef-0742-4f8b-9d22-48f75b…</td></tr><tr><td>&quot;2019-11-30 23:59:59 UTC&quot;</td><td>&quot;view&quot;</td><td>1004833</td><td>2053013555631882655</td><td>&quot;electronics.smartphone&quot;</td><td>&quot;brand-samsung&quot;</td><td>167.03</td><td>557794415</td><td>&quot;6fecf566-ebb0-4e70-a243-cdc13c…</td></tr><tr><td>&quot;2019-11-30 23:59:59 UTC&quot;</td><td>&quot;view&quot;</td><td>2701706</td><td>2053013563911439225</td><td>&quot;appliances.kitchen.refrigerato…</td><td>&quot;brand-samsung&quot;</td><td>566.27</td><td>531607492</td><td>&quot;368ddc8b-5db9-40fb-b7ff-b6582a…</td></tr><tr><td>&quot;2019-11-30 23:59:59 UTC&quot;</td><td>&quot;view&quot;</td><td>1004233</td><td>2053013555631882655</td><td>&quot;electronics.smartphone&quot;</td><td>&quot;brand-apple&quot;</td><td>1312.52</td><td>579969851</td><td>&quot;90aca71c-ed8a-4670-866a-761eba…</td></tr></tbody></table></div>"
      ]
     },
     "execution_count": 24,
     "metadata": {},
     "output_type": "execute_result"
    }
   ],
   "execution_count": 24
  },
  {
   "metadata": {
    "ExecuteTime": {
     "end_time": "2024-05-13T18:54:08.845118Z",
     "start_time": "2024-05-13T18:54:08.531840Z"
    }
   },
   "cell_type": "code",
   "source": [
    "# Update a numeric column\n",
    "df_top.with_columns([\n",
    "    ('brand-' + pl.col('brand')).alias('brand2'),\n",
    "    (pl.col('price') * 100).alias('price2')\n",
    "])"
   ],
   "id": "6051b7c5de084316",
   "outputs": [
    {
     "data": {
      "text/plain": [
       "shape: (67_501_979, 11)\n",
       "┌───────────┬───────────┬───────────┬───────────┬───┬───────────┬───────────┬───────────┬──────────┐\n",
       "│ event_tim ┆ event_typ ┆ product_i ┆ category_ ┆ … ┆ user_id   ┆ user_sess ┆ brand2    ┆ price2   │\n",
       "│ e         ┆ e         ┆ d         ┆ id        ┆   ┆ ---       ┆ ion       ┆ ---       ┆ ---      │\n",
       "│ ---       ┆ ---       ┆ ---       ┆ ---       ┆   ┆ i64       ┆ ---       ┆ str       ┆ f64      │\n",
       "│ str       ┆ str       ┆ i64       ┆ i64       ┆   ┆           ┆ str       ┆           ┆          │\n",
       "╞═══════════╪═══════════╪═══════════╪═══════════╪═══╪═══════════╪═══════════╪═══════════╪══════════╡\n",
       "│ 2019-11-0 ┆ view      ┆ 1003461   ┆ 205301355 ┆ … ┆ 520088904 ┆ 4d3b30da- ┆ brand-xia ┆ 48907.0  │\n",
       "│ 1         ┆           ┆           ┆ 563188265 ┆   ┆           ┆ a5e4-49df ┆ omi       ┆          │\n",
       "│ 00:00:00  ┆           ┆           ┆ 5         ┆   ┆           ┆ -b1a8-ba5 ┆           ┆          │\n",
       "│ UTC       ┆           ┆           ┆           ┆   ┆           ┆ 943…      ┆           ┆          │\n",
       "│ 2019-11-0 ┆ view      ┆ 5000088   ┆ 205301356 ┆ … ┆ 530496790 ┆ 8e5f4f83- ┆ brand-jan ┆ 29365.0  │\n",
       "│ 1         ┆           ┆           ┆ 610086603 ┆   ┆           ┆ 366c-4f70 ┆ ome       ┆          │\n",
       "│ 00:00:00  ┆           ┆           ┆ 5         ┆   ┆           ┆ -860e-ca7 ┆           ┆          │\n",
       "│ UTC       ┆           ┆           ┆           ┆   ┆           ┆ 417…      ┆           ┆          │\n",
       "│ 2019-11-0 ┆ view      ┆ 17302664  ┆ 205301355 ┆ … ┆ 561587266 ┆ 755422e7- ┆ brand-cre ┆ 2831.0   │\n",
       "│ 1         ┆           ┆           ┆ 385349765 ┆   ┆           ┆ 9040-477b ┆ ed        ┆          │\n",
       "│ 00:00:01  ┆           ┆           ┆ 5         ┆   ┆           ┆ -9bd2-6a6 ┆           ┆          │\n",
       "│ UTC       ┆           ┆           ┆           ┆   ┆           ┆ e8f…      ┆           ┆          │\n",
       "│ 2019-11-0 ┆ view      ┆ 3601530   ┆ 205301356 ┆ … ┆ 518085591 ┆ 3bfb58cd- ┆ brand-lg  ┆ 71287.0  │\n",
       "│ 1         ┆           ┆           ┆ 381077592 ┆   ┆           ┆ 7892-48cc ┆           ┆          │\n",
       "│ 00:00:01  ┆           ┆           ┆ 3         ┆   ┆           ┆ -8020-2f1 ┆           ┆          │\n",
       "│ UTC       ┆           ┆           ┆           ┆   ┆           ┆ 7e6…      ┆           ┆          │\n",
       "│ 2019-11-0 ┆ view      ┆ 1004775   ┆ 205301355 ┆ … ┆ 558856683 ┆ 313628f1- ┆ brand-xia ┆ 18327.0  │\n",
       "│ 1         ┆           ┆           ┆ 563188265 ┆   ┆           ┆ 68b8-460d ┆ omi       ┆          │\n",
       "│ 00:00:01  ┆           ┆           ┆ 5         ┆   ┆           ┆ -84f6-cec ┆           ┆          │\n",
       "│ UTC       ┆           ┆           ┆           ┆   ┆           ┆ 7a8…      ┆           ┆          │\n",
       "│ …         ┆ …         ┆ …         ┆ …         ┆ … ┆ …         ┆ …         ┆ …         ┆ …        │\n",
       "│ 2019-11-3 ┆ view      ┆ 15700137  ┆ 205301355 ┆ … ┆ 532714000 ┆ 02b4131c- ┆ null      ┆ 27774.0  │\n",
       "│ 0         ┆           ┆           ┆ 973391221 ┆   ┆           ┆ 0112-4231 ┆           ┆          │\n",
       "│ 23:59:58  ┆           ┆           ┆ 1         ┆   ┆           ┆ -aafa-cea ┆           ┆          │\n",
       "│ UTC       ┆           ┆           ┆           ┆   ┆           ┆ a08…      ┆           ┆          │\n",
       "│ 2019-11-3 ┆ view      ┆ 28719425  ┆ 205301356 ┆ … ┆ 545223467 ┆ 734c5eef- ┆ brand-bad ┆ 6281.0   │\n",
       "│ 0         ┆           ┆           ┆ 563949256 ┆   ┆           ┆ 0742-4f8b ┆ en        ┆          │\n",
       "│ 23:59:58  ┆           ┆           ┆ 9         ┆   ┆           ┆ -9d22-48f ┆           ┆          │\n",
       "│ UTC       ┆           ┆           ┆           ┆   ┆           ┆ 75b…      ┆           ┆          │\n",
       "│ 2019-11-3 ┆ view      ┆ 1004833   ┆ 205301355 ┆ … ┆ 557794415 ┆ 6fecf566- ┆ brand-sam ┆ 16703.0  │\n",
       "│ 0         ┆           ┆           ┆ 563188265 ┆   ┆           ┆ ebb0-4e70 ┆ sung      ┆          │\n",
       "│ 23:59:59  ┆           ┆           ┆ 5         ┆   ┆           ┆ -a243-cdc ┆           ┆          │\n",
       "│ UTC       ┆           ┆           ┆           ┆   ┆           ┆ 13c…      ┆           ┆          │\n",
       "│ 2019-11-3 ┆ view      ┆ 2701706   ┆ 205301356 ┆ … ┆ 531607492 ┆ 368ddc8b- ┆ brand-sam ┆ 56627.0  │\n",
       "│ 0         ┆           ┆           ┆ 391143922 ┆   ┆           ┆ 5db9-40fb ┆ sung      ┆          │\n",
       "│ 23:59:59  ┆           ┆           ┆ 5         ┆   ┆           ┆ -b7ff-b65 ┆           ┆          │\n",
       "│ UTC       ┆           ┆           ┆           ┆   ┆           ┆ 82a…      ┆           ┆          │\n",
       "│ 2019-11-3 ┆ view      ┆ 1004233   ┆ 205301355 ┆ … ┆ 579969851 ┆ 90aca71c- ┆ brand-app ┆ 131252.0 │\n",
       "│ 0         ┆           ┆           ┆ 563188265 ┆   ┆           ┆ ed8a-4670 ┆ le        ┆          │\n",
       "│ 23:59:59  ┆           ┆           ┆ 5         ┆   ┆           ┆ -866a-761 ┆           ┆          │\n",
       "│ UTC       ┆           ┆           ┆           ┆   ┆           ┆ eba…      ┆           ┆          │\n",
       "└───────────┴───────────┴───────────┴───────────┴───┴───────────┴───────────┴───────────┴──────────┘"
      ],
      "text/html": [
       "<div><style>\n",
       ".dataframe > thead > tr,\n",
       ".dataframe > tbody > tr {\n",
       "  text-align: right;\n",
       "  white-space: pre-wrap;\n",
       "}\n",
       "</style>\n",
       "<small>shape: (67_501_979, 11)</small><table border=\"1\" class=\"dataframe\"><thead><tr><th>event_time</th><th>event_type</th><th>product_id</th><th>category_id</th><th>category_code</th><th>brand</th><th>price</th><th>user_id</th><th>user_session</th><th>brand2</th><th>price2</th></tr><tr><td>str</td><td>str</td><td>i64</td><td>i64</td><td>str</td><td>str</td><td>f64</td><td>i64</td><td>str</td><td>str</td><td>f64</td></tr></thead><tbody><tr><td>&quot;2019-11-01 00:00:00 UTC&quot;</td><td>&quot;view&quot;</td><td>1003461</td><td>2053013555631882655</td><td>&quot;electronics.smartphone&quot;</td><td>&quot;xiaomi&quot;</td><td>489.07</td><td>520088904</td><td>&quot;4d3b30da-a5e4-49df-b1a8-ba5943…</td><td>&quot;brand-xiaomi&quot;</td><td>48907.0</td></tr><tr><td>&quot;2019-11-01 00:00:00 UTC&quot;</td><td>&quot;view&quot;</td><td>5000088</td><td>2053013566100866035</td><td>&quot;appliances.sewing_machine&quot;</td><td>&quot;janome&quot;</td><td>293.65</td><td>530496790</td><td>&quot;8e5f4f83-366c-4f70-860e-ca7417…</td><td>&quot;brand-janome&quot;</td><td>29365.0</td></tr><tr><td>&quot;2019-11-01 00:00:01 UTC&quot;</td><td>&quot;view&quot;</td><td>17302664</td><td>2053013553853497655</td><td>null</td><td>&quot;creed&quot;</td><td>28.31</td><td>561587266</td><td>&quot;755422e7-9040-477b-9bd2-6a6e8f…</td><td>&quot;brand-creed&quot;</td><td>2831.0</td></tr><tr><td>&quot;2019-11-01 00:00:01 UTC&quot;</td><td>&quot;view&quot;</td><td>3601530</td><td>2053013563810775923</td><td>&quot;appliances.kitchen.washer&quot;</td><td>&quot;lg&quot;</td><td>712.87</td><td>518085591</td><td>&quot;3bfb58cd-7892-48cc-8020-2f17e6…</td><td>&quot;brand-lg&quot;</td><td>71287.0</td></tr><tr><td>&quot;2019-11-01 00:00:01 UTC&quot;</td><td>&quot;view&quot;</td><td>1004775</td><td>2053013555631882655</td><td>&quot;electronics.smartphone&quot;</td><td>&quot;xiaomi&quot;</td><td>183.27</td><td>558856683</td><td>&quot;313628f1-68b8-460d-84f6-cec7a8…</td><td>&quot;brand-xiaomi&quot;</td><td>18327.0</td></tr><tr><td>&hellip;</td><td>&hellip;</td><td>&hellip;</td><td>&hellip;</td><td>&hellip;</td><td>&hellip;</td><td>&hellip;</td><td>&hellip;</td><td>&hellip;</td><td>&hellip;</td><td>&hellip;</td></tr><tr><td>&quot;2019-11-30 23:59:58 UTC&quot;</td><td>&quot;view&quot;</td><td>15700137</td><td>2053013559733912211</td><td>null</td><td>null</td><td>277.74</td><td>532714000</td><td>&quot;02b4131c-0112-4231-aafa-ceaa08…</td><td>null</td><td>27774.0</td></tr><tr><td>&quot;2019-11-30 23:59:58 UTC&quot;</td><td>&quot;view&quot;</td><td>28719425</td><td>2053013565639492569</td><td>&quot;apparel.shoes&quot;</td><td>&quot;baden&quot;</td><td>62.81</td><td>545223467</td><td>&quot;734c5eef-0742-4f8b-9d22-48f75b…</td><td>&quot;brand-baden&quot;</td><td>6281.0</td></tr><tr><td>&quot;2019-11-30 23:59:59 UTC&quot;</td><td>&quot;view&quot;</td><td>1004833</td><td>2053013555631882655</td><td>&quot;electronics.smartphone&quot;</td><td>&quot;samsung&quot;</td><td>167.03</td><td>557794415</td><td>&quot;6fecf566-ebb0-4e70-a243-cdc13c…</td><td>&quot;brand-samsung&quot;</td><td>16703.0</td></tr><tr><td>&quot;2019-11-30 23:59:59 UTC&quot;</td><td>&quot;view&quot;</td><td>2701706</td><td>2053013563911439225</td><td>&quot;appliances.kitchen.refrigerato…</td><td>&quot;samsung&quot;</td><td>566.27</td><td>531607492</td><td>&quot;368ddc8b-5db9-40fb-b7ff-b6582a…</td><td>&quot;brand-samsung&quot;</td><td>56627.0</td></tr><tr><td>&quot;2019-11-30 23:59:59 UTC&quot;</td><td>&quot;view&quot;</td><td>1004233</td><td>2053013555631882655</td><td>&quot;electronics.smartphone&quot;</td><td>&quot;apple&quot;</td><td>1312.52</td><td>579969851</td><td>&quot;90aca71c-ed8a-4670-866a-761eba…</td><td>&quot;brand-apple&quot;</td><td>131252.0</td></tr></tbody></table></div>"
      ]
     },
     "execution_count": 25,
     "metadata": {},
     "output_type": "execute_result"
    }
   ],
   "execution_count": 25
  },
  {
   "metadata": {
    "ExecuteTime": {
     "end_time": "2024-05-13T18:54:09.148451Z",
     "start_time": "2024-05-13T18:54:08.846127Z"
    }
   },
   "cell_type": "code",
   "source": [
    "df_top.select([\n",
    "    ('brand-' + pl.col('brand')).alias('brand2'),\n",
    "    (pl.col('price') * 100).alias('price2')\n",
    "])"
   ],
   "id": "dc5d87298909b8cf",
   "outputs": [
    {
     "data": {
      "text/plain": [
       "shape: (67_501_979, 2)\n",
       "┌───────────────┬──────────┐\n",
       "│ brand2        ┆ price2   │\n",
       "│ ---           ┆ ---      │\n",
       "│ str           ┆ f64      │\n",
       "╞═══════════════╪══════════╡\n",
       "│ brand-xiaomi  ┆ 48907.0  │\n",
       "│ brand-janome  ┆ 29365.0  │\n",
       "│ brand-creed   ┆ 2831.0   │\n",
       "│ brand-lg      ┆ 71287.0  │\n",
       "│ brand-xiaomi  ┆ 18327.0  │\n",
       "│ …             ┆ …        │\n",
       "│ null          ┆ 27774.0  │\n",
       "│ brand-baden   ┆ 6281.0   │\n",
       "│ brand-samsung ┆ 16703.0  │\n",
       "│ brand-samsung ┆ 56627.0  │\n",
       "│ brand-apple   ┆ 131252.0 │\n",
       "└───────────────┴──────────┘"
      ],
      "text/html": [
       "<div><style>\n",
       ".dataframe > thead > tr,\n",
       ".dataframe > tbody > tr {\n",
       "  text-align: right;\n",
       "  white-space: pre-wrap;\n",
       "}\n",
       "</style>\n",
       "<small>shape: (67_501_979, 2)</small><table border=\"1\" class=\"dataframe\"><thead><tr><th>brand2</th><th>price2</th></tr><tr><td>str</td><td>f64</td></tr></thead><tbody><tr><td>&quot;brand-xiaomi&quot;</td><td>48907.0</td></tr><tr><td>&quot;brand-janome&quot;</td><td>29365.0</td></tr><tr><td>&quot;brand-creed&quot;</td><td>2831.0</td></tr><tr><td>&quot;brand-lg&quot;</td><td>71287.0</td></tr><tr><td>&quot;brand-xiaomi&quot;</td><td>18327.0</td></tr><tr><td>&hellip;</td><td>&hellip;</td></tr><tr><td>null</td><td>27774.0</td></tr><tr><td>&quot;brand-baden&quot;</td><td>6281.0</td></tr><tr><td>&quot;brand-samsung&quot;</td><td>16703.0</td></tr><tr><td>&quot;brand-samsung&quot;</td><td>56627.0</td></tr><tr><td>&quot;brand-apple&quot;</td><td>131252.0</td></tr></tbody></table></div>"
      ]
     },
     "execution_count": 26,
     "metadata": {},
     "output_type": "execute_result"
    }
   ],
   "execution_count": 26
  },
  {
   "metadata": {
    "ExecuteTime": {
     "end_time": "2024-05-13T18:55:40.957806Z",
     "start_time": "2024-05-13T18:55:40.859476Z"
    }
   },
   "cell_type": "code",
   "source": [
    "# create a column with a constant (based on the mean)\n",
    "df_top.select([\n",
    "    pl.all(),\n",
    "    pl.col('price').mean().alias('price_avg')\n",
    "])"
   ],
   "id": "8244caf3ab220954",
   "outputs": [
    {
     "data": {
      "text/plain": [
       "shape: (67_501_979, 10)\n",
       "┌────────────┬───────────┬───────────┬───────────┬───┬─────────┬───────────┬───────────┬───────────┐\n",
       "│ event_time ┆ event_typ ┆ product_i ┆ category_ ┆ … ┆ price   ┆ user_id   ┆ user_sess ┆ price_avg │\n",
       "│ ---        ┆ e         ┆ d         ┆ id        ┆   ┆ ---     ┆ ---       ┆ ion       ┆ ---       │\n",
       "│ str        ┆ ---       ┆ ---       ┆ ---       ┆   ┆ f64     ┆ i64       ┆ ---       ┆ f64       │\n",
       "│            ┆ str       ┆ i64       ┆ i64       ┆   ┆         ┆           ┆ str       ┆           │\n",
       "╞════════════╪═══════════╪═══════════╪═══════════╪═══╪═════════╪═══════════╪═══════════╪═══════════╡\n",
       "│ 2019-11-01 ┆ view      ┆ 1003461   ┆ 205301355 ┆ … ┆ 489.07  ┆ 520088904 ┆ 4d3b30da- ┆ 292.45931 │\n",
       "│ 00:00:00   ┆           ┆           ┆ 563188265 ┆   ┆         ┆           ┆ a5e4-49df ┆ 7         │\n",
       "│ UTC        ┆           ┆           ┆ 5         ┆   ┆         ┆           ┆ -b1a8-ba5 ┆           │\n",
       "│            ┆           ┆           ┆           ┆   ┆         ┆           ┆ 943…      ┆           │\n",
       "│ 2019-11-01 ┆ view      ┆ 5000088   ┆ 205301356 ┆ … ┆ 293.65  ┆ 530496790 ┆ 8e5f4f83- ┆ 292.45931 │\n",
       "│ 00:00:00   ┆           ┆           ┆ 610086603 ┆   ┆         ┆           ┆ 366c-4f70 ┆ 7         │\n",
       "│ UTC        ┆           ┆           ┆ 5         ┆   ┆         ┆           ┆ -860e-ca7 ┆           │\n",
       "│            ┆           ┆           ┆           ┆   ┆         ┆           ┆ 417…      ┆           │\n",
       "│ 2019-11-01 ┆ view      ┆ 17302664  ┆ 205301355 ┆ … ┆ 28.31   ┆ 561587266 ┆ 755422e7- ┆ 292.45931 │\n",
       "│ 00:00:01   ┆           ┆           ┆ 385349765 ┆   ┆         ┆           ┆ 9040-477b ┆ 7         │\n",
       "│ UTC        ┆           ┆           ┆ 5         ┆   ┆         ┆           ┆ -9bd2-6a6 ┆           │\n",
       "│            ┆           ┆           ┆           ┆   ┆         ┆           ┆ e8f…      ┆           │\n",
       "│ 2019-11-01 ┆ view      ┆ 3601530   ┆ 205301356 ┆ … ┆ 712.87  ┆ 518085591 ┆ 3bfb58cd- ┆ 292.45931 │\n",
       "│ 00:00:01   ┆           ┆           ┆ 381077592 ┆   ┆         ┆           ┆ 7892-48cc ┆ 7         │\n",
       "│ UTC        ┆           ┆           ┆ 3         ┆   ┆         ┆           ┆ -8020-2f1 ┆           │\n",
       "│            ┆           ┆           ┆           ┆   ┆         ┆           ┆ 7e6…      ┆           │\n",
       "│ 2019-11-01 ┆ view      ┆ 1004775   ┆ 205301355 ┆ … ┆ 183.27  ┆ 558856683 ┆ 313628f1- ┆ 292.45931 │\n",
       "│ 00:00:01   ┆           ┆           ┆ 563188265 ┆   ┆         ┆           ┆ 68b8-460d ┆ 7         │\n",
       "│ UTC        ┆           ┆           ┆ 5         ┆   ┆         ┆           ┆ -84f6-cec ┆           │\n",
       "│            ┆           ┆           ┆           ┆   ┆         ┆           ┆ 7a8…      ┆           │\n",
       "│ …          ┆ …         ┆ …         ┆ …         ┆ … ┆ …       ┆ …         ┆ …         ┆ …         │\n",
       "│ 2019-11-30 ┆ view      ┆ 15700137  ┆ 205301355 ┆ … ┆ 277.74  ┆ 532714000 ┆ 02b4131c- ┆ 292.45931 │\n",
       "│ 23:59:58   ┆           ┆           ┆ 973391221 ┆   ┆         ┆           ┆ 0112-4231 ┆ 7         │\n",
       "│ UTC        ┆           ┆           ┆ 1         ┆   ┆         ┆           ┆ -aafa-cea ┆           │\n",
       "│            ┆           ┆           ┆           ┆   ┆         ┆           ┆ a08…      ┆           │\n",
       "│ 2019-11-30 ┆ view      ┆ 28719425  ┆ 205301356 ┆ … ┆ 62.81   ┆ 545223467 ┆ 734c5eef- ┆ 292.45931 │\n",
       "│ 23:59:58   ┆           ┆           ┆ 563949256 ┆   ┆         ┆           ┆ 0742-4f8b ┆ 7         │\n",
       "│ UTC        ┆           ┆           ┆ 9         ┆   ┆         ┆           ┆ -9d22-48f ┆           │\n",
       "│            ┆           ┆           ┆           ┆   ┆         ┆           ┆ 75b…      ┆           │\n",
       "│ 2019-11-30 ┆ view      ┆ 1004833   ┆ 205301355 ┆ … ┆ 167.03  ┆ 557794415 ┆ 6fecf566- ┆ 292.45931 │\n",
       "│ 23:59:59   ┆           ┆           ┆ 563188265 ┆   ┆         ┆           ┆ ebb0-4e70 ┆ 7         │\n",
       "│ UTC        ┆           ┆           ┆ 5         ┆   ┆         ┆           ┆ -a243-cdc ┆           │\n",
       "│            ┆           ┆           ┆           ┆   ┆         ┆           ┆ 13c…      ┆           │\n",
       "│ 2019-11-30 ┆ view      ┆ 2701706   ┆ 205301356 ┆ … ┆ 566.27  ┆ 531607492 ┆ 368ddc8b- ┆ 292.45931 │\n",
       "│ 23:59:59   ┆           ┆           ┆ 391143922 ┆   ┆         ┆           ┆ 5db9-40fb ┆ 7         │\n",
       "│ UTC        ┆           ┆           ┆ 5         ┆   ┆         ┆           ┆ -b7ff-b65 ┆           │\n",
       "│            ┆           ┆           ┆           ┆   ┆         ┆           ┆ 82a…      ┆           │\n",
       "│ 2019-11-30 ┆ view      ┆ 1004233   ┆ 205301355 ┆ … ┆ 1312.52 ┆ 579969851 ┆ 90aca71c- ┆ 292.45931 │\n",
       "│ 23:59:59   ┆           ┆           ┆ 563188265 ┆   ┆         ┆           ┆ ed8a-4670 ┆ 7         │\n",
       "│ UTC        ┆           ┆           ┆ 5         ┆   ┆         ┆           ┆ -866a-761 ┆           │\n",
       "│            ┆           ┆           ┆           ┆   ┆         ┆           ┆ eba…      ┆           │\n",
       "└────────────┴───────────┴───────────┴───────────┴───┴─────────┴───────────┴───────────┴───────────┘"
      ],
      "text/html": [
       "<div><style>\n",
       ".dataframe > thead > tr,\n",
       ".dataframe > tbody > tr {\n",
       "  text-align: right;\n",
       "  white-space: pre-wrap;\n",
       "}\n",
       "</style>\n",
       "<small>shape: (67_501_979, 10)</small><table border=\"1\" class=\"dataframe\"><thead><tr><th>event_time</th><th>event_type</th><th>product_id</th><th>category_id</th><th>category_code</th><th>brand</th><th>price</th><th>user_id</th><th>user_session</th><th>price_avg</th></tr><tr><td>str</td><td>str</td><td>i64</td><td>i64</td><td>str</td><td>str</td><td>f64</td><td>i64</td><td>str</td><td>f64</td></tr></thead><tbody><tr><td>&quot;2019-11-01 00:00:00 UTC&quot;</td><td>&quot;view&quot;</td><td>1003461</td><td>2053013555631882655</td><td>&quot;electronics.smartphone&quot;</td><td>&quot;xiaomi&quot;</td><td>489.07</td><td>520088904</td><td>&quot;4d3b30da-a5e4-49df-b1a8-ba5943…</td><td>292.459317</td></tr><tr><td>&quot;2019-11-01 00:00:00 UTC&quot;</td><td>&quot;view&quot;</td><td>5000088</td><td>2053013566100866035</td><td>&quot;appliances.sewing_machine&quot;</td><td>&quot;janome&quot;</td><td>293.65</td><td>530496790</td><td>&quot;8e5f4f83-366c-4f70-860e-ca7417…</td><td>292.459317</td></tr><tr><td>&quot;2019-11-01 00:00:01 UTC&quot;</td><td>&quot;view&quot;</td><td>17302664</td><td>2053013553853497655</td><td>null</td><td>&quot;creed&quot;</td><td>28.31</td><td>561587266</td><td>&quot;755422e7-9040-477b-9bd2-6a6e8f…</td><td>292.459317</td></tr><tr><td>&quot;2019-11-01 00:00:01 UTC&quot;</td><td>&quot;view&quot;</td><td>3601530</td><td>2053013563810775923</td><td>&quot;appliances.kitchen.washer&quot;</td><td>&quot;lg&quot;</td><td>712.87</td><td>518085591</td><td>&quot;3bfb58cd-7892-48cc-8020-2f17e6…</td><td>292.459317</td></tr><tr><td>&quot;2019-11-01 00:00:01 UTC&quot;</td><td>&quot;view&quot;</td><td>1004775</td><td>2053013555631882655</td><td>&quot;electronics.smartphone&quot;</td><td>&quot;xiaomi&quot;</td><td>183.27</td><td>558856683</td><td>&quot;313628f1-68b8-460d-84f6-cec7a8…</td><td>292.459317</td></tr><tr><td>&hellip;</td><td>&hellip;</td><td>&hellip;</td><td>&hellip;</td><td>&hellip;</td><td>&hellip;</td><td>&hellip;</td><td>&hellip;</td><td>&hellip;</td><td>&hellip;</td></tr><tr><td>&quot;2019-11-30 23:59:58 UTC&quot;</td><td>&quot;view&quot;</td><td>15700137</td><td>2053013559733912211</td><td>null</td><td>null</td><td>277.74</td><td>532714000</td><td>&quot;02b4131c-0112-4231-aafa-ceaa08…</td><td>292.459317</td></tr><tr><td>&quot;2019-11-30 23:59:58 UTC&quot;</td><td>&quot;view&quot;</td><td>28719425</td><td>2053013565639492569</td><td>&quot;apparel.shoes&quot;</td><td>&quot;baden&quot;</td><td>62.81</td><td>545223467</td><td>&quot;734c5eef-0742-4f8b-9d22-48f75b…</td><td>292.459317</td></tr><tr><td>&quot;2019-11-30 23:59:59 UTC&quot;</td><td>&quot;view&quot;</td><td>1004833</td><td>2053013555631882655</td><td>&quot;electronics.smartphone&quot;</td><td>&quot;samsung&quot;</td><td>167.03</td><td>557794415</td><td>&quot;6fecf566-ebb0-4e70-a243-cdc13c…</td><td>292.459317</td></tr><tr><td>&quot;2019-11-30 23:59:59 UTC&quot;</td><td>&quot;view&quot;</td><td>2701706</td><td>2053013563911439225</td><td>&quot;appliances.kitchen.refrigerato…</td><td>&quot;samsung&quot;</td><td>566.27</td><td>531607492</td><td>&quot;368ddc8b-5db9-40fb-b7ff-b6582a…</td><td>292.459317</td></tr><tr><td>&quot;2019-11-30 23:59:59 UTC&quot;</td><td>&quot;view&quot;</td><td>1004233</td><td>2053013555631882655</td><td>&quot;electronics.smartphone&quot;</td><td>&quot;apple&quot;</td><td>1312.52</td><td>579969851</td><td>&quot;90aca71c-ed8a-4670-866a-761eba…</td><td>292.459317</td></tr></tbody></table></div>"
      ]
     },
     "execution_count": 29,
     "metadata": {},
     "output_type": "execute_result"
    }
   ],
   "execution_count": 29
  },
  {
   "metadata": {},
   "cell_type": "markdown",
   "source": [
    "# 2. Update values based on window functions\n",
    "- In pandas this is done with transform.\n",
    "- The idea is we update values of a column BY a group and the new column has the same size of the original column.\n",
    "- The over() call defines the group we are interested in.  "
   ],
   "id": "7b0d7a5dc52ebf38"
  },
  {
   "metadata": {
    "ExecuteTime": {
     "end_time": "2024-05-13T19:04:06.108105Z",
     "start_time": "2024-05-13T19:04:06.102235Z"
    }
   },
   "cell_type": "code",
   "source": "df.head()",
   "id": "40d2e4136891c7ed",
   "outputs": [
    {
     "data": {
      "text/plain": [
       "shape: (5, 9)\n",
       "┌────────────┬────────────┬────────────┬────────────┬───┬────────┬────────┬───────────┬────────────┐\n",
       "│ event_time ┆ event_type ┆ product_id ┆ category_i ┆ … ┆ brand  ┆ price  ┆ user_id   ┆ user_sessi │\n",
       "│ ---        ┆ ---        ┆ ---        ┆ d          ┆   ┆ ---    ┆ ---    ┆ ---       ┆ on         │\n",
       "│ str        ┆ str        ┆ i64        ┆ ---        ┆   ┆ str    ┆ f64    ┆ i64       ┆ ---        │\n",
       "│            ┆            ┆            ┆ i64        ┆   ┆        ┆        ┆           ┆ str        │\n",
       "╞════════════╪════════════╪════════════╪════════════╪═══╪════════╪════════╪═══════════╪════════════╡\n",
       "│ 2019-11-01 ┆ view       ┆ 1003461    ┆ 2053013555 ┆ … ┆ xiaomi ┆ 489.07 ┆ 520088904 ┆ 4d3b30da-a │\n",
       "│ 00:00:00   ┆            ┆            ┆ 631882655  ┆   ┆        ┆        ┆           ┆ 5e4-49df-b │\n",
       "│ UTC        ┆            ┆            ┆            ┆   ┆        ┆        ┆           ┆ 1a8-ba5943 │\n",
       "│            ┆            ┆            ┆            ┆   ┆        ┆        ┆           ┆ …          │\n",
       "│ 2019-11-01 ┆ view       ┆ 5000088    ┆ 2053013566 ┆ … ┆ janome ┆ 293.65 ┆ 530496790 ┆ 8e5f4f83-3 │\n",
       "│ 00:00:00   ┆            ┆            ┆ 100866035  ┆   ┆        ┆        ┆           ┆ 66c-4f70-8 │\n",
       "│ UTC        ┆            ┆            ┆            ┆   ┆        ┆        ┆           ┆ 60e-ca7417 │\n",
       "│            ┆            ┆            ┆            ┆   ┆        ┆        ┆           ┆ …          │\n",
       "│ 2019-11-01 ┆ view       ┆ 17302664   ┆ 2053013553 ┆ … ┆ creed  ┆ 28.31  ┆ 561587266 ┆ 755422e7-9 │\n",
       "│ 00:00:01   ┆            ┆            ┆ 853497655  ┆   ┆        ┆        ┆           ┆ 040-477b-9 │\n",
       "│ UTC        ┆            ┆            ┆            ┆   ┆        ┆        ┆           ┆ bd2-6a6e8f │\n",
       "│            ┆            ┆            ┆            ┆   ┆        ┆        ┆           ┆ …          │\n",
       "│ 2019-11-01 ┆ view       ┆ 3601530    ┆ 2053013563 ┆ … ┆ lg     ┆ 712.87 ┆ 518085591 ┆ 3bfb58cd-7 │\n",
       "│ 00:00:01   ┆            ┆            ┆ 810775923  ┆   ┆        ┆        ┆           ┆ 892-48cc-8 │\n",
       "│ UTC        ┆            ┆            ┆            ┆   ┆        ┆        ┆           ┆ 020-2f17e6 │\n",
       "│            ┆            ┆            ┆            ┆   ┆        ┆        ┆           ┆ …          │\n",
       "│ 2019-11-01 ┆ view       ┆ 1004775    ┆ 2053013555 ┆ … ┆ xiaomi ┆ 183.27 ┆ 558856683 ┆ 313628f1-6 │\n",
       "│ 00:00:01   ┆            ┆            ┆ 631882655  ┆   ┆        ┆        ┆           ┆ 8b8-460d-8 │\n",
       "│ UTC        ┆            ┆            ┆            ┆   ┆        ┆        ┆           ┆ 4f6-cec7a8 │\n",
       "│            ┆            ┆            ┆            ┆   ┆        ┆        ┆           ┆ …          │\n",
       "└────────────┴────────────┴────────────┴────────────┴───┴────────┴────────┴───────────┴────────────┘"
      ],
      "text/html": [
       "<div><style>\n",
       ".dataframe > thead > tr,\n",
       ".dataframe > tbody > tr {\n",
       "  text-align: right;\n",
       "  white-space: pre-wrap;\n",
       "}\n",
       "</style>\n",
       "<small>shape: (5, 9)</small><table border=\"1\" class=\"dataframe\"><thead><tr><th>event_time</th><th>event_type</th><th>product_id</th><th>category_id</th><th>category_code</th><th>brand</th><th>price</th><th>user_id</th><th>user_session</th></tr><tr><td>str</td><td>str</td><td>i64</td><td>i64</td><td>str</td><td>str</td><td>f64</td><td>i64</td><td>str</td></tr></thead><tbody><tr><td>&quot;2019-11-01 00:00:00 UTC&quot;</td><td>&quot;view&quot;</td><td>1003461</td><td>2053013555631882655</td><td>&quot;electronics.smartphone&quot;</td><td>&quot;xiaomi&quot;</td><td>489.07</td><td>520088904</td><td>&quot;4d3b30da-a5e4-49df-b1a8-ba5943…</td></tr><tr><td>&quot;2019-11-01 00:00:00 UTC&quot;</td><td>&quot;view&quot;</td><td>5000088</td><td>2053013566100866035</td><td>&quot;appliances.sewing_machine&quot;</td><td>&quot;janome&quot;</td><td>293.65</td><td>530496790</td><td>&quot;8e5f4f83-366c-4f70-860e-ca7417…</td></tr><tr><td>&quot;2019-11-01 00:00:01 UTC&quot;</td><td>&quot;view&quot;</td><td>17302664</td><td>2053013553853497655</td><td>null</td><td>&quot;creed&quot;</td><td>28.31</td><td>561587266</td><td>&quot;755422e7-9040-477b-9bd2-6a6e8f…</td></tr><tr><td>&quot;2019-11-01 00:00:01 UTC&quot;</td><td>&quot;view&quot;</td><td>3601530</td><td>2053013563810775923</td><td>&quot;appliances.kitchen.washer&quot;</td><td>&quot;lg&quot;</td><td>712.87</td><td>518085591</td><td>&quot;3bfb58cd-7892-48cc-8020-2f17e6…</td></tr><tr><td>&quot;2019-11-01 00:00:01 UTC&quot;</td><td>&quot;view&quot;</td><td>1004775</td><td>2053013555631882655</td><td>&quot;electronics.smartphone&quot;</td><td>&quot;xiaomi&quot;</td><td>183.27</td><td>558856683</td><td>&quot;313628f1-68b8-460d-84f6-cec7a8…</td></tr></tbody></table></div>"
      ]
     },
     "execution_count": 32,
     "metadata": {},
     "output_type": "execute_result"
    }
   ],
   "execution_count": 32
  },
  {
   "metadata": {
    "ExecuteTime": {
     "end_time": "2024-05-13T19:08:58.600340Z",
     "start_time": "2024-05-13T19:08:55.428828Z"
    }
   },
   "cell_type": "code",
   "source": [
    "df.with_columns([\n",
    "    pl.col('price').mean().over('category_code').alias('price by category')\n",
    "])"
   ],
   "id": "cff68378ec1a2ae9",
   "outputs": [
    {
     "data": {
      "text/plain": [
       "shape: (67_501_979, 10)\n",
       "┌────────────┬───────────┬───────────┬───────────┬───┬─────────┬───────────┬───────────┬───────────┐\n",
       "│ event_time ┆ event_typ ┆ product_i ┆ category_ ┆ … ┆ price   ┆ user_id   ┆ user_sess ┆ price by  │\n",
       "│ ---        ┆ e         ┆ d         ┆ id        ┆   ┆ ---     ┆ ---       ┆ ion       ┆ category  │\n",
       "│ str        ┆ ---       ┆ ---       ┆ ---       ┆   ┆ f64     ┆ i64       ┆ ---       ┆ ---       │\n",
       "│            ┆ str       ┆ i64       ┆ i64       ┆   ┆         ┆           ┆ str       ┆ f64       │\n",
       "╞════════════╪═══════════╪═══════════╪═══════════╪═══╪═════════╪═══════════╪═══════════╪═══════════╡\n",
       "│ 2019-11-01 ┆ view      ┆ 1003461   ┆ 205301355 ┆ … ┆ 489.07  ┆ 520088904 ┆ 4d3b30da- ┆ 483.63780 │\n",
       "│ 00:00:00   ┆           ┆           ┆ 563188265 ┆   ┆         ┆           ┆ a5e4-49df ┆ 3         │\n",
       "│ UTC        ┆           ┆           ┆ 5         ┆   ┆         ┆           ┆ -b1a8-ba5 ┆           │\n",
       "│            ┆           ┆           ┆           ┆   ┆         ┆           ┆ 943…      ┆           │\n",
       "│ 2019-11-01 ┆ view      ┆ 5000088   ┆ 205301356 ┆ … ┆ 293.65  ┆ 530496790 ┆ 8e5f4f83- ┆ 244.51649 │\n",
       "│ 00:00:00   ┆           ┆           ┆ 610086603 ┆   ┆         ┆           ┆ 366c-4f70 ┆ 7         │\n",
       "│ UTC        ┆           ┆           ┆ 5         ┆   ┆         ┆           ┆ -860e-ca7 ┆           │\n",
       "│            ┆           ┆           ┆           ┆   ┆         ┆           ┆ 417…      ┆           │\n",
       "│ 2019-11-01 ┆ view      ┆ 17302664  ┆ 205301355 ┆ … ┆ 28.31   ┆ 561587266 ┆ 755422e7- ┆ 176.64639 │\n",
       "│ 00:00:01   ┆           ┆           ┆ 385349765 ┆   ┆         ┆           ┆ 9040-477b ┆           │\n",
       "│ UTC        ┆           ┆           ┆ 5         ┆   ┆         ┆           ┆ -9bd2-6a6 ┆           │\n",
       "│            ┆           ┆           ┆           ┆   ┆         ┆           ┆ e8f…      ┆           │\n",
       "│ 2019-11-01 ┆ view      ┆ 3601530   ┆ 205301356 ┆ … ┆ 712.87  ┆ 518085591 ┆ 3bfb58cd- ┆ 340.60116 │\n",
       "│ 00:00:01   ┆           ┆           ┆ 381077592 ┆   ┆         ┆           ┆ 7892-48cc ┆ 4         │\n",
       "│ UTC        ┆           ┆           ┆ 3         ┆   ┆         ┆           ┆ -8020-2f1 ┆           │\n",
       "│            ┆           ┆           ┆           ┆   ┆         ┆           ┆ 7e6…      ┆           │\n",
       "│ 2019-11-01 ┆ view      ┆ 1004775   ┆ 205301355 ┆ … ┆ 183.27  ┆ 558856683 ┆ 313628f1- ┆ 483.63780 │\n",
       "│ 00:00:01   ┆           ┆           ┆ 563188265 ┆   ┆         ┆           ┆ 68b8-460d ┆ 3         │\n",
       "│ UTC        ┆           ┆           ┆ 5         ┆   ┆         ┆           ┆ -84f6-cec ┆           │\n",
       "│            ┆           ┆           ┆           ┆   ┆         ┆           ┆ 7a8…      ┆           │\n",
       "│ …          ┆ …         ┆ …         ┆ …         ┆ … ┆ …       ┆ …         ┆ …         ┆ …         │\n",
       "│ 2019-11-30 ┆ view      ┆ 15700137  ┆ 205301355 ┆ … ┆ 277.74  ┆ 532714000 ┆ 02b4131c- ┆ 176.64639 │\n",
       "│ 23:59:58   ┆           ┆           ┆ 973391221 ┆   ┆         ┆           ┆ 0112-4231 ┆           │\n",
       "│ UTC        ┆           ┆           ┆ 1         ┆   ┆         ┆           ┆ -aafa-cea ┆           │\n",
       "│            ┆           ┆           ┆           ┆   ┆         ┆           ┆ a08…      ┆           │\n",
       "│ 2019-11-30 ┆ view      ┆ 28719425  ┆ 205301356 ┆ … ┆ 62.81   ┆ 545223467 ┆ 734c5eef- ┆ 89.073566 │\n",
       "│ 23:59:58   ┆           ┆           ┆ 563949256 ┆   ┆         ┆           ┆ 0742-4f8b ┆           │\n",
       "│ UTC        ┆           ┆           ┆ 9         ┆   ┆         ┆           ┆ -9d22-48f ┆           │\n",
       "│            ┆           ┆           ┆           ┆   ┆         ┆           ┆ 75b…      ┆           │\n",
       "│ 2019-11-30 ┆ view      ┆ 1004833   ┆ 205301355 ┆ … ┆ 167.03  ┆ 557794415 ┆ 6fecf566- ┆ 483.63780 │\n",
       "│ 23:59:59   ┆           ┆           ┆ 563188265 ┆   ┆         ┆           ┆ ebb0-4e70 ┆ 3         │\n",
       "│ UTC        ┆           ┆           ┆ 5         ┆   ┆         ┆           ┆ -a243-cdc ┆           │\n",
       "│            ┆           ┆           ┆           ┆   ┆         ┆           ┆ 13c…      ┆           │\n",
       "│ 2019-11-30 ┆ view      ┆ 2701706   ┆ 205301356 ┆ … ┆ 566.27  ┆ 531607492 ┆ 368ddc8b- ┆ 425.01643 │\n",
       "│ 23:59:59   ┆           ┆           ┆ 391143922 ┆   ┆         ┆           ┆ 5db9-40fb ┆ 8         │\n",
       "│ UTC        ┆           ┆           ┆ 5         ┆   ┆         ┆           ┆ -b7ff-b65 ┆           │\n",
       "│            ┆           ┆           ┆           ┆   ┆         ┆           ┆ 82a…      ┆           │\n",
       "│ 2019-11-30 ┆ view      ┆ 1004233   ┆ 205301355 ┆ … ┆ 1312.52 ┆ 579969851 ┆ 90aca71c- ┆ 483.63780 │\n",
       "│ 23:59:59   ┆           ┆           ┆ 563188265 ┆   ┆         ┆           ┆ ed8a-4670 ┆ 3         │\n",
       "│ UTC        ┆           ┆           ┆ 5         ┆   ┆         ┆           ┆ -866a-761 ┆           │\n",
       "│            ┆           ┆           ┆           ┆   ┆         ┆           ┆ eba…      ┆           │\n",
       "└────────────┴───────────┴───────────┴───────────┴───┴─────────┴───────────┴───────────┴───────────┘"
      ],
      "text/html": [
       "<div><style>\n",
       ".dataframe > thead > tr,\n",
       ".dataframe > tbody > tr {\n",
       "  text-align: right;\n",
       "  white-space: pre-wrap;\n",
       "}\n",
       "</style>\n",
       "<small>shape: (67_501_979, 10)</small><table border=\"1\" class=\"dataframe\"><thead><tr><th>event_time</th><th>event_type</th><th>product_id</th><th>category_id</th><th>category_code</th><th>brand</th><th>price</th><th>user_id</th><th>user_session</th><th>price by category</th></tr><tr><td>str</td><td>str</td><td>i64</td><td>i64</td><td>str</td><td>str</td><td>f64</td><td>i64</td><td>str</td><td>f64</td></tr></thead><tbody><tr><td>&quot;2019-11-01 00:00:00 UTC&quot;</td><td>&quot;view&quot;</td><td>1003461</td><td>2053013555631882655</td><td>&quot;electronics.smartphone&quot;</td><td>&quot;xiaomi&quot;</td><td>489.07</td><td>520088904</td><td>&quot;4d3b30da-a5e4-49df-b1a8-ba5943…</td><td>483.637803</td></tr><tr><td>&quot;2019-11-01 00:00:00 UTC&quot;</td><td>&quot;view&quot;</td><td>5000088</td><td>2053013566100866035</td><td>&quot;appliances.sewing_machine&quot;</td><td>&quot;janome&quot;</td><td>293.65</td><td>530496790</td><td>&quot;8e5f4f83-366c-4f70-860e-ca7417…</td><td>244.516497</td></tr><tr><td>&quot;2019-11-01 00:00:01 UTC&quot;</td><td>&quot;view&quot;</td><td>17302664</td><td>2053013553853497655</td><td>null</td><td>&quot;creed&quot;</td><td>28.31</td><td>561587266</td><td>&quot;755422e7-9040-477b-9bd2-6a6e8f…</td><td>176.64639</td></tr><tr><td>&quot;2019-11-01 00:00:01 UTC&quot;</td><td>&quot;view&quot;</td><td>3601530</td><td>2053013563810775923</td><td>&quot;appliances.kitchen.washer&quot;</td><td>&quot;lg&quot;</td><td>712.87</td><td>518085591</td><td>&quot;3bfb58cd-7892-48cc-8020-2f17e6…</td><td>340.601164</td></tr><tr><td>&quot;2019-11-01 00:00:01 UTC&quot;</td><td>&quot;view&quot;</td><td>1004775</td><td>2053013555631882655</td><td>&quot;electronics.smartphone&quot;</td><td>&quot;xiaomi&quot;</td><td>183.27</td><td>558856683</td><td>&quot;313628f1-68b8-460d-84f6-cec7a8…</td><td>483.637803</td></tr><tr><td>&hellip;</td><td>&hellip;</td><td>&hellip;</td><td>&hellip;</td><td>&hellip;</td><td>&hellip;</td><td>&hellip;</td><td>&hellip;</td><td>&hellip;</td><td>&hellip;</td></tr><tr><td>&quot;2019-11-30 23:59:58 UTC&quot;</td><td>&quot;view&quot;</td><td>15700137</td><td>2053013559733912211</td><td>null</td><td>null</td><td>277.74</td><td>532714000</td><td>&quot;02b4131c-0112-4231-aafa-ceaa08…</td><td>176.64639</td></tr><tr><td>&quot;2019-11-30 23:59:58 UTC&quot;</td><td>&quot;view&quot;</td><td>28719425</td><td>2053013565639492569</td><td>&quot;apparel.shoes&quot;</td><td>&quot;baden&quot;</td><td>62.81</td><td>545223467</td><td>&quot;734c5eef-0742-4f8b-9d22-48f75b…</td><td>89.073566</td></tr><tr><td>&quot;2019-11-30 23:59:59 UTC&quot;</td><td>&quot;view&quot;</td><td>1004833</td><td>2053013555631882655</td><td>&quot;electronics.smartphone&quot;</td><td>&quot;samsung&quot;</td><td>167.03</td><td>557794415</td><td>&quot;6fecf566-ebb0-4e70-a243-cdc13c…</td><td>483.637803</td></tr><tr><td>&quot;2019-11-30 23:59:59 UTC&quot;</td><td>&quot;view&quot;</td><td>2701706</td><td>2053013563911439225</td><td>&quot;appliances.kitchen.refrigerato…</td><td>&quot;samsung&quot;</td><td>566.27</td><td>531607492</td><td>&quot;368ddc8b-5db9-40fb-b7ff-b6582a…</td><td>425.016438</td></tr><tr><td>&quot;2019-11-30 23:59:59 UTC&quot;</td><td>&quot;view&quot;</td><td>1004233</td><td>2053013555631882655</td><td>&quot;electronics.smartphone&quot;</td><td>&quot;apple&quot;</td><td>1312.52</td><td>579969851</td><td>&quot;90aca71c-ed8a-4670-866a-761eba…</td><td>483.637803</td></tr></tbody></table></div>"
      ]
     },
     "execution_count": 35,
     "metadata": {},
     "output_type": "execute_result"
    }
   ],
   "execution_count": 35
  },
  {
   "metadata": {
    "ExecuteTime": {
     "end_time": "2024-05-13T19:02:58.116785Z",
     "start_time": "2024-05-13T19:02:50.400045Z"
    }
   },
   "cell_type": "code",
   "source": [
    "# not I can compute the difference between the price and the category averange.\n",
    "df_cat_window = df.select([\n",
    "    pl.col('category_code'),\n",
    "    pl.col('price'),\n",
    "    pl.col('price').mean().over('category_code').alias('price by category'),\n",
    "    (pl.col('price') / pl.col('price').mean().over('category_code') -1).alias('price_div_cat_average')\n",
    "])\n",
    "df_cat_window"
   ],
   "id": "fe8f0dafec7065e",
   "outputs": [
    {
     "data": {
      "text/plain": [
       "shape: (67_501_979, 4)\n",
       "┌─────────────────────────────────┬─────────┬───────────────────┬───────────────────────┐\n",
       "│ category_code                   ┆ price   ┆ price by category ┆ price_div_cat_average │\n",
       "│ ---                             ┆ ---     ┆ ---               ┆ ---                   │\n",
       "│ str                             ┆ f64     ┆ f64               ┆ f64                   │\n",
       "╞═════════════════════════════════╪═════════╪═══════════════════╪═══════════════════════╡\n",
       "│ electronics.smartphone          ┆ 489.07  ┆ 483.637803        ┆ 0.011232              │\n",
       "│ appliances.sewing_machine       ┆ 293.65  ┆ 244.516497        ┆ 0.200941              │\n",
       "│ null                            ┆ 28.31   ┆ 176.64639         ┆ -0.839736             │\n",
       "│ appliances.kitchen.washer       ┆ 712.87  ┆ 340.601164        ┆ 1.092976              │\n",
       "│ electronics.smartphone          ┆ 183.27  ┆ 483.637803        ┆ -0.621059             │\n",
       "│ …                               ┆ …       ┆ …                 ┆ …                     │\n",
       "│ null                            ┆ 277.74  ┆ 176.64639         ┆ 0.572294              │\n",
       "│ apparel.shoes                   ┆ 62.81   ┆ 89.073566         ┆ -0.294853             │\n",
       "│ electronics.smartphone          ┆ 167.03  ┆ 483.637803        ┆ -0.654638             │\n",
       "│ appliances.kitchen.refrigerato… ┆ 566.27  ┆ 425.016438        ┆ 0.332348              │\n",
       "│ electronics.smartphone          ┆ 1312.52 ┆ 483.637803        ┆ 1.713849              │\n",
       "└─────────────────────────────────┴─────────┴───────────────────┴───────────────────────┘"
      ],
      "text/html": [
       "<div><style>\n",
       ".dataframe > thead > tr,\n",
       ".dataframe > tbody > tr {\n",
       "  text-align: right;\n",
       "  white-space: pre-wrap;\n",
       "}\n",
       "</style>\n",
       "<small>shape: (67_501_979, 4)</small><table border=\"1\" class=\"dataframe\"><thead><tr><th>category_code</th><th>price</th><th>price by category</th><th>price_div_cat_average</th></tr><tr><td>str</td><td>f64</td><td>f64</td><td>f64</td></tr></thead><tbody><tr><td>&quot;electronics.smartphone&quot;</td><td>489.07</td><td>483.637803</td><td>0.011232</td></tr><tr><td>&quot;appliances.sewing_machine&quot;</td><td>293.65</td><td>244.516497</td><td>0.200941</td></tr><tr><td>null</td><td>28.31</td><td>176.64639</td><td>-0.839736</td></tr><tr><td>&quot;appliances.kitchen.washer&quot;</td><td>712.87</td><td>340.601164</td><td>1.092976</td></tr><tr><td>&quot;electronics.smartphone&quot;</td><td>183.27</td><td>483.637803</td><td>-0.621059</td></tr><tr><td>&hellip;</td><td>&hellip;</td><td>&hellip;</td><td>&hellip;</td></tr><tr><td>null</td><td>277.74</td><td>176.64639</td><td>0.572294</td></tr><tr><td>&quot;apparel.shoes&quot;</td><td>62.81</td><td>89.073566</td><td>-0.294853</td></tr><tr><td>&quot;electronics.smartphone&quot;</td><td>167.03</td><td>483.637803</td><td>-0.654638</td></tr><tr><td>&quot;appliances.kitchen.refrigerato…</td><td>566.27</td><td>425.016438</td><td>0.332348</td></tr><tr><td>&quot;electronics.smartphone&quot;</td><td>1312.52</td><td>483.637803</td><td>1.713849</td></tr></tbody></table></div>"
      ]
     },
     "execution_count": 31,
     "metadata": {},
     "output_type": "execute_result"
    }
   ],
   "execution_count": 31
  },
  {
   "metadata": {
    "ExecuteTime": {
     "end_time": "2024-05-13T19:19:59.493028Z",
     "start_time": "2024-05-13T19:19:51.382838Z"
    }
   },
   "cell_type": "code",
   "source": "df_cat_window_sample = df_cat_window.sample(1000000).to_pandas() ",
   "id": "9f88686f5bd94245",
   "outputs": [],
   "execution_count": 41
  },
  {
   "metadata": {
    "ExecuteTime": {
     "end_time": "2024-05-13T19:21:16.892632Z",
     "start_time": "2024-05-13T19:21:16.257265Z"
    }
   },
   "cell_type": "code",
   "source": "df_cat_window_sample['price_div_cat_average'].hist(bins=30, range=[0, 5])",
   "id": "586e505f0ff6af4d",
   "outputs": [
    {
     "data": {
      "text/plain": [
       "<Axes: >"
      ]
     },
     "execution_count": 42,
     "metadata": {},
     "output_type": "execute_result"
    },
    {
     "data": {
      "text/plain": [
       "<Figure size 640x480 with 1 Axes>"
      ],
      "image/png": "[encoded data removed]"
     },
     "metadata": {},
     "output_type": "display_data"
    }
   ],
   "execution_count": 42
  },
  {
   "metadata": {
    "ExecuteTime": {
     "end_time": "2024-05-13T19:24:07.944299Z",
     "start_time": "2024-05-13T19:24:07.915011Z"
    }
   },
   "cell_type": "code",
   "source": "df_cat_window_sample['price_div_cat_average'].quantile(np.arange(0, 1.1, 0.1))",
   "id": "cdb54e900a13d3d0",
   "outputs": [
    {
     "data": {
      "text/plain": [
       "0.0    -1.000000\n",
       "0.1    -0.800043\n",
       "0.2    -0.706079\n",
       "0.3    -0.597033\n",
       "0.4    -0.479132\n",
       "0.5    -0.334849\n",
       "0.6    -0.125066\n",
       "0.7     0.106510\n",
       "0.8     0.482433\n",
       "0.9     1.061857\n",
       "1.0    30.149060\n",
       "Name: price_div_cat_average, dtype: float64"
      ]
     },
     "execution_count": 44,
     "metadata": {},
     "output_type": "execute_result"
    }
   ],
   "execution_count": 44
  },
  {
   "metadata": {
    "ExecuteTime": {
     "end_time": "2024-05-13T19:24:50.146580Z",
     "start_time": "2024-05-13T19:24:50.137680Z"
    }
   },
   "cell_type": "code",
   "source": "df_cat_window_sample[df_cat_window_sample.price_div_cat_average > 10].sort_values('price_div_cat_average', ascending=False)",
   "id": "210d61ea6d661165",
   "outputs": [
    {
     "data": {
      "text/plain": [
       "                            category_code    price  price by category  \\\n",
       "940     appliances.environment.air_heater  1876.56          60.244515   \n",
       "879292  appliances.environment.air_heater  1740.91          60.244515   \n",
       "768116  appliances.environment.air_heater  1740.91          60.244515   \n",
       "559379  appliances.environment.air_heater  1740.91          60.244515   \n",
       "297730        computers.peripherals.mouse   893.55          34.095449   \n",
       "...                                   ...      ...                ...   \n",
       "943237      computers.peripherals.printer  2470.85         224.317950   \n",
       "542562      computers.peripherals.printer  2470.85         224.317950   \n",
       "24833       computers.peripherals.printer  2470.85         224.317950   \n",
       "117309      computers.peripherals.printer  2470.85         224.317950   \n",
       "471081      computers.peripherals.printer  2470.85         224.317950   \n",
       "\n",
       "        price_div_cat_average  \n",
       "940                 30.149060  \n",
       "879292              27.897402  \n",
       "768116              27.897402  \n",
       "559379              27.897402  \n",
       "297730              25.207310  \n",
       "...                       ...  \n",
       "943237              10.014946  \n",
       "542562              10.014946  \n",
       "24833               10.014946  \n",
       "117309              10.014946  \n",
       "471081              10.014946  \n",
       "\n",
       "[1625 rows x 4 columns]"
      ],
      "text/html": [
       "<div>\n",
       "<style scoped>\n",
       "    .dataframe tbody tr th:only-of-type {\n",
       "        vertical-align: middle;\n",
       "    }\n",
       "\n",
       "    .dataframe tbody tr th {\n",
       "        vertical-align: top;\n",
       "    }\n",
       "\n",
       "    .dataframe thead th {\n",
       "        text-align: right;\n",
       "    }\n",
       "</style>\n",
       "<table border=\"1\" class=\"dataframe\">\n",
       "  <thead>\n",
       "    <tr style=\"text-align: right;\">\n",
       "      <th></th>\n",
       "      <th>category_code</th>\n",
       "      <th>price</th>\n",
       "      <th>price by category</th>\n",
       "      <th>price_div_cat_average</th>\n",
       "    </tr>\n",
       "  </thead>\n",
       "  <tbody>\n",
       "    <tr>\n",
       "      <th>940</th>\n",
       "      <td>appliances.environment.air_heater</td>\n",
       "      <td>1876.56</td>\n",
       "      <td>60.244515</td>\n",
       "      <td>30.149060</td>\n",
       "    </tr>\n",
       "    <tr>\n",
       "      <th>879292</th>\n",
       "      <td>appliances.environment.air_heater</td>\n",
       "      <td>1740.91</td>\n",
       "      <td>60.244515</td>\n",
       "      <td>27.897402</td>\n",
       "    </tr>\n",
       "    <tr>\n",
       "      <th>768116</th>\n",
       "      <td>appliances.environment.air_heater</td>\n",
       "      <td>1740.91</td>\n",
       "      <td>60.244515</td>\n",
       "      <td>27.897402</td>\n",
       "    </tr>\n",
       "    <tr>\n",
       "      <th>559379</th>\n",
       "      <td>appliances.environment.air_heater</td>\n",
       "      <td>1740.91</td>\n",
       "      <td>60.244515</td>\n",
       "      <td>27.897402</td>\n",
       "    </tr>\n",
       "    <tr>\n",
       "      <th>297730</th>\n",
       "      <td>computers.peripherals.mouse</td>\n",
       "      <td>893.55</td>\n",
       "      <td>34.095449</td>\n",
       "      <td>25.207310</td>\n",
       "    </tr>\n",
       "    <tr>\n",
       "      <th>...</th>\n",
       "      <td>...</td>\n",
       "      <td>...</td>\n",
       "      <td>...</td>\n",
       "      <td>...</td>\n",
       "    </tr>\n",
       "    <tr>\n",
       "      <th>943237</th>\n",
       "      <td>computers.peripherals.printer</td>\n",
       "      <td>2470.85</td>\n",
       "      <td>224.317950</td>\n",
       "      <td>10.014946</td>\n",
       "    </tr>\n",
       "    <tr>\n",
       "      <th>542562</th>\n",
       "      <td>computers.peripherals.printer</td>\n",
       "      <td>2470.85</td>\n",
       "      <td>224.317950</td>\n",
       "      <td>10.014946</td>\n",
       "    </tr>\n",
       "    <tr>\n",
       "      <th>24833</th>\n",
       "      <td>computers.peripherals.printer</td>\n",
       "      <td>2470.85</td>\n",
       "      <td>224.317950</td>\n",
       "      <td>10.014946</td>\n",
       "    </tr>\n",
       "    <tr>\n",
       "      <th>117309</th>\n",
       "      <td>computers.peripherals.printer</td>\n",
       "      <td>2470.85</td>\n",
       "      <td>224.317950</td>\n",
       "      <td>10.014946</td>\n",
       "    </tr>\n",
       "    <tr>\n",
       "      <th>471081</th>\n",
       "      <td>computers.peripherals.printer</td>\n",
       "      <td>2470.85</td>\n",
       "      <td>224.317950</td>\n",
       "      <td>10.014946</td>\n",
       "    </tr>\n",
       "  </tbody>\n",
       "</table>\n",
       "<p>1625 rows × 4 columns</p>\n",
       "</div>"
      ]
     },
     "execution_count": 47,
     "metadata": {},
     "output_type": "execute_result"
    }
   ],
   "execution_count": 47
  }
 ],
 "metadata": {
  "kernelspec": {
   "display_name": "Python 3",
   "language": "python",
   "name": "python3"
  },
  "language_info": {
   "codemirror_mode": {
    "name": "ipython",
    "version": 2
   },
   "file_extension": ".py",
   "mimetype": "text/x-python",
   "name": "python",
   "nbconvert_exporter": "python",
   "pygments_lexer": "ipython2",
   "version": "2.7.6"
  }
 },
 "nbformat": 4,
 "nbformat_minor": 5
}
