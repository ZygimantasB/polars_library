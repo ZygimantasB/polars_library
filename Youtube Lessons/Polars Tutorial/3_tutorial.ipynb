{
 "cells": [
  {
   "metadata": {},
   "cell_type": "markdown",
   "source": "# https://www.youtube.com/watch?v=UbcKZKPXhDA&list=PLo9Vi5B84_dfAuwJqNYG4XhZMrGTF3sBx&index=4",
   "id": "72350aee8502f396"
  },
  {
   "metadata": {},
   "cell_type": "markdown",
   "source": "# Group-By in Polars",
   "id": "c4f00db0ba4fd9cc"
  },
  {
   "cell_type": "code",
   "id": "initial_id",
   "metadata": {
    "collapsed": true,
    "ExecuteTime": {
     "end_time": "2024-05-14T19:02:09.736944Z",
     "start_time": "2024-05-14T19:02:09.733632Z"
    }
   },
   "source": [
    "import polars as pl\n",
    "import pandas as pd\n",
    "import numpy as np\n",
    "import pyarrow\n",
    "\n",
    "import matplotlib.pyplot as plt\n",
    "import seaborn as sns"
   ],
   "outputs": [],
   "execution_count": 64
  },
  {
   "metadata": {
    "ExecuteTime": {
     "end_time": "2024-05-14T19:02:09.783606Z",
     "start_time": "2024-05-14T19:02:09.780102Z"
    }
   },
   "cell_type": "code",
   "source": "df_path = r'F:\\DataSpell\\Polars_library_learn\\Youtube Lessons\\Polars Tutorial\\data\\2019-Nov.parquet'",
   "id": "d7d64687fa4418cf",
   "outputs": [],
   "execution_count": 65
  },
  {
   "metadata": {
    "ExecuteTime": {
     "end_time": "2024-05-14T19:02:27.563665Z",
     "start_time": "2024-05-14T19:02:09.823250Z"
    }
   },
   "cell_type": "code",
   "source": "df = pl.read_parquet(df_path)",
   "id": "c6c71a7d1861deaf",
   "outputs": [],
   "execution_count": 66
  },
  {
   "metadata": {
    "ExecuteTime": {
     "end_time": "2024-05-14T19:02:30.204173Z",
     "start_time": "2024-05-14T19:02:27.572225Z"
    }
   },
   "cell_type": "code",
   "source": [
    "df.group_by('brand').agg([\n",
    "  pl.len()\n",
    "]).sort('len').reverse()"
   ],
   "id": "4e2d7ad7784fe56f",
   "outputs": [
    {
     "data": {
      "text/plain": [
       "shape: (4_202, 2)\n",
       "┌──────────┬─────────┐\n",
       "│ brand    ┆ len     │\n",
       "│ ---      ┆ ---     │\n",
       "│ str      ┆ u32     │\n",
       "╞══════════╪═════════╡\n",
       "│ null     ┆ 9218235 │\n",
       "│ samsung  ┆ 7889245 │\n",
       "│ apple    ┆ 6259379 │\n",
       "│ xiaomi   ┆ 4638062 │\n",
       "│ huawei   ┆ 1410126 │\n",
       "│ …        ┆ …       │\n",
       "│ mirex    ┆ 1       │\n",
       "│ zazu     ┆ 1       │\n",
       "│ dogrular ┆ 1       │\n",
       "│ slovo    ┆ 1       │\n",
       "│ arpenaz  ┆ 1       │\n",
       "└──────────┴─────────┘"
      ],
      "text/html": [
       "<div><style>\n",
       ".dataframe > thead > tr,\n",
       ".dataframe > tbody > tr {\n",
       "  text-align: right;\n",
       "  white-space: pre-wrap;\n",
       "}\n",
       "</style>\n",
       "<small>shape: (4_202, 2)</small><table border=\"1\" class=\"dataframe\"><thead><tr><th>brand</th><th>len</th></tr><tr><td>str</td><td>u32</td></tr></thead><tbody><tr><td>null</td><td>9218235</td></tr><tr><td>&quot;samsung&quot;</td><td>7889245</td></tr><tr><td>&quot;apple&quot;</td><td>6259379</td></tr><tr><td>&quot;xiaomi&quot;</td><td>4638062</td></tr><tr><td>&quot;huawei&quot;</td><td>1410126</td></tr><tr><td>&hellip;</td><td>&hellip;</td></tr><tr><td>&quot;mirex&quot;</td><td>1</td></tr><tr><td>&quot;zazu&quot;</td><td>1</td></tr><tr><td>&quot;dogrular&quot;</td><td>1</td></tr><tr><td>&quot;slovo&quot;</td><td>1</td></tr><tr><td>&quot;arpenaz&quot;</td><td>1</td></tr></tbody></table></div>"
      ]
     },
     "execution_count": 67,
     "metadata": {},
     "output_type": "execute_result"
    }
   ],
   "execution_count": 67
  },
  {
   "metadata": {
    "ExecuteTime": {
     "end_time": "2024-05-14T19:02:32.442909Z",
     "start_time": "2024-05-14T19:02:30.206182Z"
    }
   },
   "cell_type": "code",
   "source": [
    "df_count = df.group_by('brand').agg([\n",
    "  pl.len()\n",
    "]).to_pandas().sort_values('len', ascending=False)\n",
    "\n",
    "df_count"
   ],
   "id": "cabb36b14dbe91ff",
   "outputs": [
    {
     "data": {
      "text/plain": [
       "           brand      len\n",
       "1629        None  9218235\n",
       "3408     samsung  7889245\n",
       "3112       apple  6259379\n",
       "2117      xiaomi  4638062\n",
       "996       huawei  1410126\n",
       "...          ...      ...\n",
       "671      nordica        1\n",
       "1610      casato        1\n",
       "2749  individuum        1\n",
       "3268      reshin        1\n",
       "487      gssolid        1\n",
       "\n",
       "[4202 rows x 2 columns]"
      ],
      "text/html": [
       "<div>\n",
       "<style scoped>\n",
       "    .dataframe tbody tr th:only-of-type {\n",
       "        vertical-align: middle;\n",
       "    }\n",
       "\n",
       "    .dataframe tbody tr th {\n",
       "        vertical-align: top;\n",
       "    }\n",
       "\n",
       "    .dataframe thead th {\n",
       "        text-align: right;\n",
       "    }\n",
       "</style>\n",
       "<table border=\"1\" class=\"dataframe\">\n",
       "  <thead>\n",
       "    <tr style=\"text-align: right;\">\n",
       "      <th></th>\n",
       "      <th>brand</th>\n",
       "      <th>len</th>\n",
       "    </tr>\n",
       "  </thead>\n",
       "  <tbody>\n",
       "    <tr>\n",
       "      <th>1629</th>\n",
       "      <td>None</td>\n",
       "      <td>9218235</td>\n",
       "    </tr>\n",
       "    <tr>\n",
       "      <th>3408</th>\n",
       "      <td>samsung</td>\n",
       "      <td>7889245</td>\n",
       "    </tr>\n",
       "    <tr>\n",
       "      <th>3112</th>\n",
       "      <td>apple</td>\n",
       "      <td>6259379</td>\n",
       "    </tr>\n",
       "    <tr>\n",
       "      <th>2117</th>\n",
       "      <td>xiaomi</td>\n",
       "      <td>4638062</td>\n",
       "    </tr>\n",
       "    <tr>\n",
       "      <th>996</th>\n",
       "      <td>huawei</td>\n",
       "      <td>1410126</td>\n",
       "    </tr>\n",
       "    <tr>\n",
       "      <th>...</th>\n",
       "      <td>...</td>\n",
       "      <td>...</td>\n",
       "    </tr>\n",
       "    <tr>\n",
       "      <th>671</th>\n",
       "      <td>nordica</td>\n",
       "      <td>1</td>\n",
       "    </tr>\n",
       "    <tr>\n",
       "      <th>1610</th>\n",
       "      <td>casato</td>\n",
       "      <td>1</td>\n",
       "    </tr>\n",
       "    <tr>\n",
       "      <th>2749</th>\n",
       "      <td>individuum</td>\n",
       "      <td>1</td>\n",
       "    </tr>\n",
       "    <tr>\n",
       "      <th>3268</th>\n",
       "      <td>reshin</td>\n",
       "      <td>1</td>\n",
       "    </tr>\n",
       "    <tr>\n",
       "      <th>487</th>\n",
       "      <td>gssolid</td>\n",
       "      <td>1</td>\n",
       "    </tr>\n",
       "  </tbody>\n",
       "</table>\n",
       "<p>4202 rows × 2 columns</p>\n",
       "</div>"
      ]
     },
     "execution_count": 68,
     "metadata": {},
     "output_type": "execute_result"
    }
   ],
   "execution_count": 68
  },
  {
   "metadata": {
    "ExecuteTime": {
     "end_time": "2024-05-14T19:02:34.757653Z",
     "start_time": "2024-05-14T19:02:32.444926Z"
    }
   },
   "cell_type": "code",
   "source": [
    "(\n",
    "  df.group_by('brand').agg([\n",
    "    pl.len()\n",
    "  ])\n",
    "  .sort('len').reverse()\n",
    "  .with_columns([\n",
    "      (pl.col('len') / pl.col('len').sum()).alias('percentage')\n",
    "  ])\n",
    ")"
   ],
   "id": "10bcf4e113661dce",
   "outputs": [
    {
     "data": {
      "text/plain": [
       "shape: (4_202, 3)\n",
       "┌───────────┬─────────┬────────────┐\n",
       "│ brand     ┆ len     ┆ percentage │\n",
       "│ ---       ┆ ---     ┆ ---        │\n",
       "│ str       ┆ u32     ┆ f64        │\n",
       "╞═══════════╪═════════╪════════════╡\n",
       "│ null      ┆ 9218235 ┆ 0.136562   │\n",
       "│ samsung   ┆ 7889245 ┆ 0.116874   │\n",
       "│ apple     ┆ 6259379 ┆ 0.092729   │\n",
       "│ xiaomi    ┆ 4638062 ┆ 0.06871    │\n",
       "│ huawei    ┆ 1410126 ┆ 0.02089    │\n",
       "│ …         ┆ …       ┆ …          │\n",
       "│ invotone  ┆ 1       ┆ 1.4814e-8  │\n",
       "│ reshin    ┆ 1       ┆ 1.4814e-8  │\n",
       "│ emily     ┆ 1       ┆ 1.4814e-8  │\n",
       "│ interlink ┆ 1       ┆ 1.4814e-8  │\n",
       "│ evo       ┆ 1       ┆ 1.4814e-8  │\n",
       "└───────────┴─────────┴────────────┘"
      ],
      "text/html": [
       "<div><style>\n",
       ".dataframe > thead > tr,\n",
       ".dataframe > tbody > tr {\n",
       "  text-align: right;\n",
       "  white-space: pre-wrap;\n",
       "}\n",
       "</style>\n",
       "<small>shape: (4_202, 3)</small><table border=\"1\" class=\"dataframe\"><thead><tr><th>brand</th><th>len</th><th>percentage</th></tr><tr><td>str</td><td>u32</td><td>f64</td></tr></thead><tbody><tr><td>null</td><td>9218235</td><td>0.136562</td></tr><tr><td>&quot;samsung&quot;</td><td>7889245</td><td>0.116874</td></tr><tr><td>&quot;apple&quot;</td><td>6259379</td><td>0.092729</td></tr><tr><td>&quot;xiaomi&quot;</td><td>4638062</td><td>0.06871</td></tr><tr><td>&quot;huawei&quot;</td><td>1410126</td><td>0.02089</td></tr><tr><td>&hellip;</td><td>&hellip;</td><td>&hellip;</td></tr><tr><td>&quot;invotone&quot;</td><td>1</td><td>1.4814e-8</td></tr><tr><td>&quot;reshin&quot;</td><td>1</td><td>1.4814e-8</td></tr><tr><td>&quot;emily&quot;</td><td>1</td><td>1.4814e-8</td></tr><tr><td>&quot;interlink&quot;</td><td>1</td><td>1.4814e-8</td></tr><tr><td>&quot;evo&quot;</td><td>1</td><td>1.4814e-8</td></tr></tbody></table></div>"
      ]
     },
     "execution_count": 69,
     "metadata": {},
     "output_type": "execute_result"
    }
   ],
   "execution_count": 69
  },
  {
   "metadata": {
    "ExecuteTime": {
     "end_time": "2024-05-14T19:02:34.789380Z",
     "start_time": "2024-05-14T19:02:34.759659Z"
    }
   },
   "cell_type": "code",
   "source": "df.sample(5)",
   "id": "8d188b8945696c4",
   "outputs": [
    {
     "data": {
      "text/plain": [
       "shape: (5, 9)\n",
       "┌────────────┬────────────┬────────────┬───────────┬───┬──────────┬────────┬───────────┬───────────┐\n",
       "│ event_time ┆ event_type ┆ product_id ┆ category_ ┆ … ┆ brand    ┆ price  ┆ user_id   ┆ user_sess │\n",
       "│ ---        ┆ ---        ┆ ---        ┆ id        ┆   ┆ ---      ┆ ---    ┆ ---       ┆ ion       │\n",
       "│ str        ┆ str        ┆ i64        ┆ ---       ┆   ┆ str      ┆ f64    ┆ i64       ┆ ---       │\n",
       "│            ┆            ┆            ┆ i64       ┆   ┆          ┆        ┆           ┆ str       │\n",
       "╞════════════╪════════════╪════════════╪═══════════╪═══╪══════════╪════════╪═══════════╪═══════════╡\n",
       "│ 2019-11-09 ┆ view       ┆ 5700785    ┆ 205301355 ┆ … ┆ null     ┆ 272.83 ┆ 539617147 ┆ 45ecb36d- │\n",
       "│ 04:17:32   ┆            ┆            ┆ 397093817 ┆   ┆          ┆        ┆           ┆ c3d6-4b9a │\n",
       "│ UTC        ┆            ┆            ┆ 5         ┆   ┆          ┆        ┆           ┆ -9f97-40c │\n",
       "│            ┆            ┆            ┆           ┆   ┆          ┆        ┆           ┆ 2e1…      │\n",
       "│ 2019-11-25 ┆ view       ┆ 1005119    ┆ 205301355 ┆ … ┆ apple    ┆ 1003.6 ┆ 576364160 ┆ 86b3b570- │\n",
       "│ 08:27:32   ┆            ┆            ┆ 563188265 ┆   ┆          ┆        ┆           ┆ 116d-4185 │\n",
       "│ UTC        ┆            ┆            ┆ 5         ┆   ┆          ┆        ┆           ┆ -84c7-504 │\n",
       "│            ┆            ┆            ┆           ┆   ┆          ┆        ┆           ┆ 0bf…      │\n",
       "│ 2019-11-16 ┆ view       ┆ 1005105    ┆ 205301355 ┆ … ┆ apple    ┆ 1364.0 ┆ 516506587 ┆ 998f960b- │\n",
       "│ 05:33:02   ┆            ┆            ┆ 563188265 ┆   ┆          ┆        ┆           ┆ 6bbf-4399 │\n",
       "│ UTC        ┆            ┆            ┆ 5         ┆   ┆          ┆        ┆           ┆ -acbc-2f6 │\n",
       "│            ┆            ┆            ┆           ┆   ┆          ┆        ┆           ┆ 916…      │\n",
       "│ 2019-11-16 ┆ view       ┆ 12703015   ┆ 205301355 ┆ … ┆ cordiant ┆ 42.99  ┆ 572174557 ┆ eb1a8a44- │\n",
       "│ 13:12:12   ┆            ┆            ┆ 355989635 ┆   ┆          ┆        ┆           ┆ 7327-401b │\n",
       "│ UTC        ┆            ┆            ┆ 5         ┆   ┆          ┆        ┆           ┆ -a8ea-046 │\n",
       "│            ┆            ┆            ┆           ┆   ┆          ┆        ┆           ┆ 11e…      │\n",
       "│ 2019-11-05 ┆ view       ┆ 1802070    ┆ 205301355 ┆ … ┆ philips  ┆ 566.27 ┆ 514524841 ┆ d6aa2a75- │\n",
       "│ 07:59:35   ┆            ┆            ┆ 441553442 ┆   ┆          ┆        ┆           ┆ aacb-45dd │\n",
       "│ UTC        ┆            ┆            ┆ 7         ┆   ┆          ┆        ┆           ┆ -9825-b8f │\n",
       "│            ┆            ┆            ┆           ┆   ┆          ┆        ┆           ┆ e0b…      │\n",
       "└────────────┴────────────┴────────────┴───────────┴───┴──────────┴────────┴───────────┴───────────┘"
      ],
      "text/html": [
       "<div><style>\n",
       ".dataframe > thead > tr,\n",
       ".dataframe > tbody > tr {\n",
       "  text-align: right;\n",
       "  white-space: pre-wrap;\n",
       "}\n",
       "</style>\n",
       "<small>shape: (5, 9)</small><table border=\"1\" class=\"dataframe\"><thead><tr><th>event_time</th><th>event_type</th><th>product_id</th><th>category_id</th><th>category_code</th><th>brand</th><th>price</th><th>user_id</th><th>user_session</th></tr><tr><td>str</td><td>str</td><td>i64</td><td>i64</td><td>str</td><td>str</td><td>f64</td><td>i64</td><td>str</td></tr></thead><tbody><tr><td>&quot;2019-11-09 04:17:32 UTC&quot;</td><td>&quot;view&quot;</td><td>5700785</td><td>2053013553970938175</td><td>&quot;auto.accessories.player&quot;</td><td>null</td><td>272.83</td><td>539617147</td><td>&quot;45ecb36d-c3d6-4b9a-9f97-40c2e1…</td></tr><tr><td>&quot;2019-11-25 08:27:32 UTC&quot;</td><td>&quot;view&quot;</td><td>1005119</td><td>2053013555631882655</td><td>&quot;electronics.smartphone&quot;</td><td>&quot;apple&quot;</td><td>1003.6</td><td>576364160</td><td>&quot;86b3b570-116d-4185-84c7-5040bf…</td></tr><tr><td>&quot;2019-11-16 05:33:02 UTC&quot;</td><td>&quot;view&quot;</td><td>1005105</td><td>2053013555631882655</td><td>&quot;electronics.smartphone&quot;</td><td>&quot;apple&quot;</td><td>1364.0</td><td>516506587</td><td>&quot;998f960b-6bbf-4399-acbc-2f6916…</td></tr><tr><td>&quot;2019-11-16 13:12:12 UTC&quot;</td><td>&quot;view&quot;</td><td>12703015</td><td>2053013553559896355</td><td>null</td><td>&quot;cordiant&quot;</td><td>42.99</td><td>572174557</td><td>&quot;eb1a8a44-7327-401b-a8ea-04611e…</td></tr><tr><td>&quot;2019-11-05 07:59:35 UTC&quot;</td><td>&quot;view&quot;</td><td>1802070</td><td>2053013554415534427</td><td>&quot;electronics.video.tv&quot;</td><td>&quot;philips&quot;</td><td>566.27</td><td>514524841</td><td>&quot;d6aa2a75-aacb-45dd-9825-b8fe0b…</td></tr></tbody></table></div>"
      ]
     },
     "execution_count": 70,
     "metadata": {},
     "output_type": "execute_result"
    }
   ],
   "execution_count": 70
  },
  {
   "metadata": {
    "ExecuteTime": {
     "end_time": "2024-05-14T19:02:36.785080Z",
     "start_time": "2024-05-14T19:02:34.790388Z"
    }
   },
   "cell_type": "code",
   "source": "df['event_type'].value_counts()",
   "id": "95c65d644177cf7c",
   "outputs": [
    {
     "data": {
      "text/plain": [
       "shape: (3, 2)\n",
       "┌────────────┬──────────┐\n",
       "│ event_type ┆ count    │\n",
       "│ ---        ┆ ---      │\n",
       "│ str        ┆ u32      │\n",
       "╞════════════╪══════════╡\n",
       "│ cart       ┆ 3028930  │\n",
       "│ view       ┆ 63556110 │\n",
       "│ purchase   ┆ 916939   │\n",
       "└────────────┴──────────┘"
      ],
      "text/html": [
       "<div><style>\n",
       ".dataframe > thead > tr,\n",
       ".dataframe > tbody > tr {\n",
       "  text-align: right;\n",
       "  white-space: pre-wrap;\n",
       "}\n",
       "</style>\n",
       "<small>shape: (3, 2)</small><table border=\"1\" class=\"dataframe\"><thead><tr><th>event_type</th><th>count</th></tr><tr><td>str</td><td>u32</td></tr></thead><tbody><tr><td>&quot;cart&quot;</td><td>3028930</td></tr><tr><td>&quot;view&quot;</td><td>63556110</td></tr><tr><td>&quot;purchase&quot;</td><td>916939</td></tr></tbody></table></div>"
      ]
     },
     "execution_count": 71,
     "metadata": {},
     "output_type": "execute_result"
    }
   ],
   "execution_count": 71
  },
  {
   "metadata": {
    "ExecuteTime": {
     "end_time": "2024-05-14T19:02:37.250394Z",
     "start_time": "2024-05-14T19:02:36.785080Z"
    }
   },
   "cell_type": "code",
   "source": "df.group_by('event_type').agg(pl.len())",
   "id": "d27741719b332672",
   "outputs": [
    {
     "data": {
      "text/plain": [
       "shape: (3, 2)\n",
       "┌────────────┬──────────┐\n",
       "│ event_type ┆ len      │\n",
       "│ ---        ┆ ---      │\n",
       "│ str        ┆ u32      │\n",
       "╞════════════╪══════════╡\n",
       "│ purchase   ┆ 916939   │\n",
       "│ cart       ┆ 3028930  │\n",
       "│ view       ┆ 63556110 │\n",
       "└────────────┴──────────┘"
      ],
      "text/html": [
       "<div><style>\n",
       ".dataframe > thead > tr,\n",
       ".dataframe > tbody > tr {\n",
       "  text-align: right;\n",
       "  white-space: pre-wrap;\n",
       "}\n",
       "</style>\n",
       "<small>shape: (3, 2)</small><table border=\"1\" class=\"dataframe\"><thead><tr><th>event_type</th><th>len</th></tr><tr><td>str</td><td>u32</td></tr></thead><tbody><tr><td>&quot;purchase&quot;</td><td>916939</td></tr><tr><td>&quot;cart&quot;</td><td>3028930</td></tr><tr><td>&quot;view&quot;</td><td>63556110</td></tr></tbody></table></div>"
      ]
     },
     "execution_count": 72,
     "metadata": {},
     "output_type": "execute_result"
    }
   ],
   "execution_count": 72
  },
  {
   "metadata": {},
   "cell_type": "markdown",
   "source": "# 2. Group_by - pl.len (two groups",
   "id": "901d1a815e50dc8a"
  },
  {
   "metadata": {
    "ExecuteTime": {
     "end_time": "2024-05-14T19:02:39.787161Z",
     "start_time": "2024-05-14T19:02:37.251401Z"
    }
   },
   "cell_type": "code",
   "source": [
    "df_brand_event = df.group_by(['brand', 'event_type']).agg([\n",
    "  pl.len()\n",
    "  ]).sort('len').reverse()\n",
    "\n",
    "df_brand_event"
   ],
   "id": "99b7cea6d50a256f",
   "outputs": [
    {
     "data": {
      "text/plain": [
       "shape: (9_749, 3)\n",
       "┌────────────┬────────────┬─────────┐\n",
       "│ brand      ┆ event_type ┆ len     │\n",
       "│ ---        ┆ ---        ┆ ---     │\n",
       "│ str        ┆ str        ┆ u32     │\n",
       "╞════════════╪════════════╪═════════╡\n",
       "│ null       ┆ view       ┆ 8886720 │\n",
       "│ samsung    ┆ view       ┆ 7091998 │\n",
       "│ apple      ┆ view       ┆ 5603650 │\n",
       "│ xiaomi     ┆ view       ┆ 4309751 │\n",
       "│ huawei     ┆ view       ┆ 1312663 │\n",
       "│ …          ┆ …          ┆ …       │\n",
       "│ hercules   ┆ cart       ┆ 1       │\n",
       "│ smarttrike ┆ cart       ┆ 1       │\n",
       "│ teknetics  ┆ cart       ┆ 1       │\n",
       "│ indiana    ┆ cart       ┆ 1       │\n",
       "│ lioele     ┆ purchase   ┆ 1       │\n",
       "└────────────┴────────────┴─────────┘"
      ],
      "text/html": [
       "<div><style>\n",
       ".dataframe > thead > tr,\n",
       ".dataframe > tbody > tr {\n",
       "  text-align: right;\n",
       "  white-space: pre-wrap;\n",
       "}\n",
       "</style>\n",
       "<small>shape: (9_749, 3)</small><table border=\"1\" class=\"dataframe\"><thead><tr><th>brand</th><th>event_type</th><th>len</th></tr><tr><td>str</td><td>str</td><td>u32</td></tr></thead><tbody><tr><td>null</td><td>&quot;view&quot;</td><td>8886720</td></tr><tr><td>&quot;samsung&quot;</td><td>&quot;view&quot;</td><td>7091998</td></tr><tr><td>&quot;apple&quot;</td><td>&quot;view&quot;</td><td>5603650</td></tr><tr><td>&quot;xiaomi&quot;</td><td>&quot;view&quot;</td><td>4309751</td></tr><tr><td>&quot;huawei&quot;</td><td>&quot;view&quot;</td><td>1312663</td></tr><tr><td>&hellip;</td><td>&hellip;</td><td>&hellip;</td></tr><tr><td>&quot;hercules&quot;</td><td>&quot;cart&quot;</td><td>1</td></tr><tr><td>&quot;smarttrike&quot;</td><td>&quot;cart&quot;</td><td>1</td></tr><tr><td>&quot;teknetics&quot;</td><td>&quot;cart&quot;</td><td>1</td></tr><tr><td>&quot;indiana&quot;</td><td>&quot;cart&quot;</td><td>1</td></tr><tr><td>&quot;lioele&quot;</td><td>&quot;purchase&quot;</td><td>1</td></tr></tbody></table></div>"
      ]
     },
     "execution_count": 73,
     "metadata": {},
     "output_type": "execute_result"
    }
   ],
   "execution_count": 73
  },
  {
   "metadata": {
    "ExecuteTime": {
     "end_time": "2024-05-14T19:02:39.813905Z",
     "start_time": "2024-05-14T19:02:39.788167Z"
    }
   },
   "cell_type": "code",
   "source": [
    "# Convert from long to wide format\n",
    "\n",
    "df_brand_event_wide = df_brand_event.pivot(\n",
    "  values='len',\n",
    "  index='brand',\n",
    "  columns='event_type'\n",
    ")\n",
    "\n",
    "df_brand_event_wide"
   ],
   "id": "d10f2544be9a7a4b",
   "outputs": [
    {
     "data": {
      "text/plain": [
       "shape: (4_202, 4)\n",
       "┌──────────────┬─────────┬────────┬──────────┐\n",
       "│ brand        ┆ view    ┆ cart   ┆ purchase │\n",
       "│ ---          ┆ ---     ┆ ---    ┆ ---      │\n",
       "│ str          ┆ u32     ┆ u32    ┆ u32      │\n",
       "╞══════════════╪═════════╪════════╪══════════╡\n",
       "│ null         ┆ 8886720 ┆ 258242 ┆ 73273    │\n",
       "│ samsung      ┆ 7091998 ┆ 597220 ┆ 200027   │\n",
       "│ apple        ┆ 5603650 ┆ 489665 ┆ 166064   │\n",
       "│ xiaomi       ┆ 4309751 ┆ 260019 ┆ 68292    │\n",
       "│ huawei       ┆ 1312663 ┆ 73760  ┆ 23703    │\n",
       "│ …            ┆ …       ┆ …      ┆ …        │\n",
       "│ casato       ┆ 1       ┆ null   ┆ null     │\n",
       "│ della        ┆ 1       ┆ null   ┆ null     │\n",
       "│ build-a-bear ┆ 1       ┆ null   ┆ null     │\n",
       "│ grifon       ┆ 1       ┆ null   ┆ null     │\n",
       "│ elkitorg     ┆ 1       ┆ null   ┆ null     │\n",
       "└──────────────┴─────────┴────────┴──────────┘"
      ],
      "text/html": [
       "<div><style>\n",
       ".dataframe > thead > tr,\n",
       ".dataframe > tbody > tr {\n",
       "  text-align: right;\n",
       "  white-space: pre-wrap;\n",
       "}\n",
       "</style>\n",
       "<small>shape: (4_202, 4)</small><table border=\"1\" class=\"dataframe\"><thead><tr><th>brand</th><th>view</th><th>cart</th><th>purchase</th></tr><tr><td>str</td><td>u32</td><td>u32</td><td>u32</td></tr></thead><tbody><tr><td>null</td><td>8886720</td><td>258242</td><td>73273</td></tr><tr><td>&quot;samsung&quot;</td><td>7091998</td><td>597220</td><td>200027</td></tr><tr><td>&quot;apple&quot;</td><td>5603650</td><td>489665</td><td>166064</td></tr><tr><td>&quot;xiaomi&quot;</td><td>4309751</td><td>260019</td><td>68292</td></tr><tr><td>&quot;huawei&quot;</td><td>1312663</td><td>73760</td><td>23703</td></tr><tr><td>&hellip;</td><td>&hellip;</td><td>&hellip;</td><td>&hellip;</td></tr><tr><td>&quot;casato&quot;</td><td>1</td><td>null</td><td>null</td></tr><tr><td>&quot;della&quot;</td><td>1</td><td>null</td><td>null</td></tr><tr><td>&quot;build-a-bear&quot;</td><td>1</td><td>null</td><td>null</td></tr><tr><td>&quot;grifon&quot;</td><td>1</td><td>null</td><td>null</td></tr><tr><td>&quot;elkitorg&quot;</td><td>1</td><td>null</td><td>null</td></tr></tbody></table></div>"
      ]
     },
     "execution_count": 74,
     "metadata": {},
     "output_type": "execute_result"
    }
   ],
   "execution_count": 74
  },
  {
   "metadata": {
    "ExecuteTime": {
     "end_time": "2024-05-14T19:05:39.374744Z",
     "start_time": "2024-05-14T19:05:39.338626Z"
    }
   },
   "cell_type": "code",
   "source": [
    "# Pivot and sorting\n",
    "\n",
    "df_brand_event_wide = (\n",
    "  df_brand_event\n",
    "  .pivot(values='len', index='brand', columns='event_type')\n",
    "  .sort('purchase').reverse()\n",
    ")\n",
    "\n",
    "df_brand_event_wide"
   ],
   "id": "34d8155b35b15b64",
   "outputs": [
    {
     "data": {
      "text/plain": [
       "shape: (4_202, 4)\n",
       "┌──────────┬─────────┬────────┬──────────┐\n",
       "│ brand    ┆ view    ┆ cart   ┆ purchase │\n",
       "│ ---      ┆ ---     ┆ ---    ┆ ---      │\n",
       "│ str      ┆ u32     ┆ u32    ┆ u32      │\n",
       "╞══════════╪═════════╪════════╪══════════╡\n",
       "│ samsung  ┆ 7091998 ┆ 597220 ┆ 200027   │\n",
       "│ apple    ┆ 5603650 ┆ 489665 ┆ 166064   │\n",
       "│ null     ┆ 8886720 ┆ 258242 ┆ 73273    │\n",
       "│ xiaomi   ┆ 4309751 ┆ 260019 ┆ 68292    │\n",
       "│ huawei   ┆ 1312663 ┆ 73760  ┆ 23703    │\n",
       "│ …        ┆ …       ┆ …      ┆ …        │\n",
       "│ roblox   ┆ 1857    ┆ 16     ┆ null     │\n",
       "│ tec      ┆ 2118    ┆ 3      ┆ null     │\n",
       "│ wera     ┆ 4872    ┆ 14     ┆ null     │\n",
       "│ certina  ┆ 6723    ┆ 4      ┆ null     │\n",
       "│ gaissina ┆ 8104    ┆ 1      ┆ null     │\n",
       "└──────────┴─────────┴────────┴──────────┘"
      ],
      "text/html": [
       "<div><style>\n",
       ".dataframe > thead > tr,\n",
       ".dataframe > tbody > tr {\n",
       "  text-align: right;\n",
       "  white-space: pre-wrap;\n",
       "}\n",
       "</style>\n",
       "<small>shape: (4_202, 4)</small><table border=\"1\" class=\"dataframe\"><thead><tr><th>brand</th><th>view</th><th>cart</th><th>purchase</th></tr><tr><td>str</td><td>u32</td><td>u32</td><td>u32</td></tr></thead><tbody><tr><td>&quot;samsung&quot;</td><td>7091998</td><td>597220</td><td>200027</td></tr><tr><td>&quot;apple&quot;</td><td>5603650</td><td>489665</td><td>166064</td></tr><tr><td>null</td><td>8886720</td><td>258242</td><td>73273</td></tr><tr><td>&quot;xiaomi&quot;</td><td>4309751</td><td>260019</td><td>68292</td></tr><tr><td>&quot;huawei&quot;</td><td>1312663</td><td>73760</td><td>23703</td></tr><tr><td>&hellip;</td><td>&hellip;</td><td>&hellip;</td><td>&hellip;</td></tr><tr><td>&quot;roblox&quot;</td><td>1857</td><td>16</td><td>null</td></tr><tr><td>&quot;tec&quot;</td><td>2118</td><td>3</td><td>null</td></tr><tr><td>&quot;wera&quot;</td><td>4872</td><td>14</td><td>null</td></tr><tr><td>&quot;certina&quot;</td><td>6723</td><td>4</td><td>null</td></tr><tr><td>&quot;gaissina&quot;</td><td>8104</td><td>1</td><td>null</td></tr></tbody></table></div>"
      ]
     },
     "execution_count": 84,
     "metadata": {},
     "output_type": "execute_result"
    }
   ],
   "execution_count": 84
  },
  {
   "metadata": {
    "ExecuteTime": {
     "end_time": "2024-05-14T19:05:51.663214Z",
     "start_time": "2024-05-14T19:05:51.657270Z"
    }
   },
   "cell_type": "code",
   "source": [
    "# Keep original column and compute % values\n",
    "\n",
    "agg_performance = df_brand_event_wide.with_columns([\n",
    "    (pl.col('cart') / pl.col('view')).alias('cart_by_views'),\n",
    "    (pl.col('purchase') / pl.col('cart')).alias('buy_by_cart'),\n",
    "    (pl.col('purchase') / pl.col('view')).alias('buy_by_views')\n",
    "])\n",
    "\n",
    "agg_performance"
   ],
   "id": "122b9c5cf2265432",
   "outputs": [
    {
     "data": {
      "text/plain": [
       "shape: (4_202, 7)\n",
       "┌──────────┬─────────┬────────┬──────────┬───────────────┬─────────────┬──────────────┐\n",
       "│ brand    ┆ view    ┆ cart   ┆ purchase ┆ cart_by_views ┆ buy_by_cart ┆ buy_by_views │\n",
       "│ ---      ┆ ---     ┆ ---    ┆ ---      ┆ ---           ┆ ---         ┆ ---          │\n",
       "│ str      ┆ u32     ┆ u32    ┆ u32      ┆ f64           ┆ f64         ┆ f64          │\n",
       "╞══════════╪═════════╪════════╪══════════╪═══════════════╪═════════════╪══════════════╡\n",
       "│ samsung  ┆ 7091998 ┆ 597220 ┆ 200027   ┆ 0.08421       ┆ 0.33493     ┆ 0.028205     │\n",
       "│ apple    ┆ 5603650 ┆ 489665 ┆ 166064   ┆ 0.087383      ┆ 0.339138    ┆ 0.029635     │\n",
       "│ null     ┆ 8886720 ┆ 258242 ┆ 73273    ┆ 0.029059      ┆ 0.283738    ┆ 0.008245     │\n",
       "│ xiaomi   ┆ 4309751 ┆ 260019 ┆ 68292    ┆ 0.060333      ┆ 0.262642    ┆ 0.015846     │\n",
       "│ huawei   ┆ 1312663 ┆ 73760  ┆ 23703    ┆ 0.056191      ┆ 0.321353    ┆ 0.018057     │\n",
       "│ …        ┆ …       ┆ …      ┆ …        ┆ …             ┆ …           ┆ …            │\n",
       "│ roblox   ┆ 1857    ┆ 16     ┆ null     ┆ 0.008616      ┆ null        ┆ null         │\n",
       "│ tec      ┆ 2118    ┆ 3      ┆ null     ┆ 0.001416      ┆ null        ┆ null         │\n",
       "│ wera     ┆ 4872    ┆ 14     ┆ null     ┆ 0.002874      ┆ null        ┆ null         │\n",
       "│ certina  ┆ 6723    ┆ 4      ┆ null     ┆ 0.000595      ┆ null        ┆ null         │\n",
       "│ gaissina ┆ 8104    ┆ 1      ┆ null     ┆ 0.000123      ┆ null        ┆ null         │\n",
       "└──────────┴─────────┴────────┴──────────┴───────────────┴─────────────┴──────────────┘"
      ],
      "text/html": [
       "<div><style>\n",
       ".dataframe > thead > tr,\n",
       ".dataframe > tbody > tr {\n",
       "  text-align: right;\n",
       "  white-space: pre-wrap;\n",
       "}\n",
       "</style>\n",
       "<small>shape: (4_202, 7)</small><table border=\"1\" class=\"dataframe\"><thead><tr><th>brand</th><th>view</th><th>cart</th><th>purchase</th><th>cart_by_views</th><th>buy_by_cart</th><th>buy_by_views</th></tr><tr><td>str</td><td>u32</td><td>u32</td><td>u32</td><td>f64</td><td>f64</td><td>f64</td></tr></thead><tbody><tr><td>&quot;samsung&quot;</td><td>7091998</td><td>597220</td><td>200027</td><td>0.08421</td><td>0.33493</td><td>0.028205</td></tr><tr><td>&quot;apple&quot;</td><td>5603650</td><td>489665</td><td>166064</td><td>0.087383</td><td>0.339138</td><td>0.029635</td></tr><tr><td>null</td><td>8886720</td><td>258242</td><td>73273</td><td>0.029059</td><td>0.283738</td><td>0.008245</td></tr><tr><td>&quot;xiaomi&quot;</td><td>4309751</td><td>260019</td><td>68292</td><td>0.060333</td><td>0.262642</td><td>0.015846</td></tr><tr><td>&quot;huawei&quot;</td><td>1312663</td><td>73760</td><td>23703</td><td>0.056191</td><td>0.321353</td><td>0.018057</td></tr><tr><td>&hellip;</td><td>&hellip;</td><td>&hellip;</td><td>&hellip;</td><td>&hellip;</td><td>&hellip;</td><td>&hellip;</td></tr><tr><td>&quot;roblox&quot;</td><td>1857</td><td>16</td><td>null</td><td>0.008616</td><td>null</td><td>null</td></tr><tr><td>&quot;tec&quot;</td><td>2118</td><td>3</td><td>null</td><td>0.001416</td><td>null</td><td>null</td></tr><tr><td>&quot;wera&quot;</td><td>4872</td><td>14</td><td>null</td><td>0.002874</td><td>null</td><td>null</td></tr><tr><td>&quot;certina&quot;</td><td>6723</td><td>4</td><td>null</td><td>0.000595</td><td>null</td><td>null</td></tr><tr><td>&quot;gaissina&quot;</td><td>8104</td><td>1</td><td>null</td><td>0.000123</td><td>null</td><td>null</td></tr></tbody></table></div>"
      ]
     },
     "execution_count": 85,
     "metadata": {},
     "output_type": "execute_result"
    }
   ],
   "execution_count": 85
  },
  {
   "metadata": {
    "ExecuteTime": {
     "end_time": "2024-05-14T19:03:08.511254Z",
     "start_time": "2024-05-14T19:03:08.476934Z"
    }
   },
   "cell_type": "code",
   "source": [
    "agg_performance.filter(pl.col('buy_by_cart') < 1) \\\n",
    "    .select(['cart_by_views', 'buy_by_cart', 'buy_by_views']) \\\n",
    "    .to_pandas().quantile([0, 0.25, 0.5, 0.75, 0.99, 1])\n",
    " # .boxplot())"
   ],
   "id": "7c95f00c4c5d011a",
   "outputs": [
    {
     "data": {
      "text/plain": [
       "      cart_by_views  buy_by_cart  buy_by_views\n",
       "0.00       0.001115     0.026810      0.000353\n",
       "0.25       0.014640     0.210685      0.003704\n",
       "0.50       0.024419     0.279579      0.006616\n",
       "0.75       0.037220     0.343597      0.010874\n",
       "0.99       0.121112     0.750000      0.043861\n",
       "1.00       0.400000     0.900000      0.200000"
      ],
      "text/html": [
       "<div>\n",
       "<style scoped>\n",
       "    .dataframe tbody tr th:only-of-type {\n",
       "        vertical-align: middle;\n",
       "    }\n",
       "\n",
       "    .dataframe tbody tr th {\n",
       "        vertical-align: top;\n",
       "    }\n",
       "\n",
       "    .dataframe thead th {\n",
       "        text-align: right;\n",
       "    }\n",
       "</style>\n",
       "<table border=\"1\" class=\"dataframe\">\n",
       "  <thead>\n",
       "    <tr style=\"text-align: right;\">\n",
       "      <th></th>\n",
       "      <th>cart_by_views</th>\n",
       "      <th>buy_by_cart</th>\n",
       "      <th>buy_by_views</th>\n",
       "    </tr>\n",
       "  </thead>\n",
       "  <tbody>\n",
       "    <tr>\n",
       "      <th>0.00</th>\n",
       "      <td>0.001115</td>\n",
       "      <td>0.026810</td>\n",
       "      <td>0.000353</td>\n",
       "    </tr>\n",
       "    <tr>\n",
       "      <th>0.25</th>\n",
       "      <td>0.014640</td>\n",
       "      <td>0.210685</td>\n",
       "      <td>0.003704</td>\n",
       "    </tr>\n",
       "    <tr>\n",
       "      <th>0.50</th>\n",
       "      <td>0.024419</td>\n",
       "      <td>0.279579</td>\n",
       "      <td>0.006616</td>\n",
       "    </tr>\n",
       "    <tr>\n",
       "      <th>0.75</th>\n",
       "      <td>0.037220</td>\n",
       "      <td>0.343597</td>\n",
       "      <td>0.010874</td>\n",
       "    </tr>\n",
       "    <tr>\n",
       "      <th>0.99</th>\n",
       "      <td>0.121112</td>\n",
       "      <td>0.750000</td>\n",
       "      <td>0.043861</td>\n",
       "    </tr>\n",
       "    <tr>\n",
       "      <th>1.00</th>\n",
       "      <td>0.400000</td>\n",
       "      <td>0.900000</td>\n",
       "      <td>0.200000</td>\n",
       "    </tr>\n",
       "  </tbody>\n",
       "</table>\n",
       "</div>"
      ]
     },
     "execution_count": 78,
     "metadata": {},
     "output_type": "execute_result"
    }
   ],
   "execution_count": 78
  },
  {
   "metadata": {},
   "cell_type": "markdown",
   "source": "# 3. Group_by - UserId + 2 Groups",
   "id": "ea9cd9ce59931d3d"
  },
  {
   "metadata": {
    "ExecuteTime": {
     "end_time": "2024-05-14T19:03:17.052021Z",
     "start_time": "2024-05-14T19:03:11.759969Z"
    }
   },
   "cell_type": "code",
   "source": [
    "df_user_brand_event = df.group_by(['user_id', 'brand', 'event_type']).agg([pl.len()]).sort('len').reverse()\n",
    "\n",
    "df_user_brand_event"
   ],
   "id": "dae3ec6b2f6e9e6c",
   "outputs": [
    {
     "data": {
      "text/plain": [
       "shape: (17_798_395, 4)\n",
       "┌───────────┬───────────┬────────────┬──────┐\n",
       "│ user_id   ┆ brand     ┆ event_type ┆ len  │\n",
       "│ ---       ┆ ---       ┆ ---        ┆ ---  │\n",
       "│ i64       ┆ str       ┆ str        ┆ u32  │\n",
       "╞═══════════╪═══════════╪════════════╪══════╡\n",
       "│ 568778435 ┆ null      ┆ view       ┆ 5850 │\n",
       "│ 569335945 ┆ belecoo   ┆ view       ┆ 3651 │\n",
       "│ 512365995 ┆ samsung   ┆ view       ┆ 3619 │\n",
       "│ 569335945 ┆ wingoffly ┆ view       ┆ 3327 │\n",
       "│ 573277455 ┆ null      ┆ view       ┆ 2467 │\n",
       "│ …         ┆ …         ┆ …          ┆ …    │\n",
       "│ 516708803 ┆ nika      ┆ view       ┆ 1    │\n",
       "│ 542998789 ┆ elenberg  ┆ view       ┆ 1    │\n",
       "│ 570421579 ┆ lenovo    ┆ view       ┆ 1    │\n",
       "│ 565492053 ┆ huawei    ┆ view       ┆ 1    │\n",
       "│ 522216593 ┆ samsung   ┆ view       ┆ 1    │\n",
       "└───────────┴───────────┴────────────┴──────┘"
      ],
      "text/html": [
       "<div><style>\n",
       ".dataframe > thead > tr,\n",
       ".dataframe > tbody > tr {\n",
       "  text-align: right;\n",
       "  white-space: pre-wrap;\n",
       "}\n",
       "</style>\n",
       "<small>shape: (17_798_395, 4)</small><table border=\"1\" class=\"dataframe\"><thead><tr><th>user_id</th><th>brand</th><th>event_type</th><th>len</th></tr><tr><td>i64</td><td>str</td><td>str</td><td>u32</td></tr></thead><tbody><tr><td>568778435</td><td>null</td><td>&quot;view&quot;</td><td>5850</td></tr><tr><td>569335945</td><td>&quot;belecoo&quot;</td><td>&quot;view&quot;</td><td>3651</td></tr><tr><td>512365995</td><td>&quot;samsung&quot;</td><td>&quot;view&quot;</td><td>3619</td></tr><tr><td>569335945</td><td>&quot;wingoffly&quot;</td><td>&quot;view&quot;</td><td>3327</td></tr><tr><td>573277455</td><td>null</td><td>&quot;view&quot;</td><td>2467</td></tr><tr><td>&hellip;</td><td>&hellip;</td><td>&hellip;</td><td>&hellip;</td></tr><tr><td>516708803</td><td>&quot;nika&quot;</td><td>&quot;view&quot;</td><td>1</td></tr><tr><td>542998789</td><td>&quot;elenberg&quot;</td><td>&quot;view&quot;</td><td>1</td></tr><tr><td>570421579</td><td>&quot;lenovo&quot;</td><td>&quot;view&quot;</td><td>1</td></tr><tr><td>565492053</td><td>&quot;huawei&quot;</td><td>&quot;view&quot;</td><td>1</td></tr><tr><td>522216593</td><td>&quot;samsung&quot;</td><td>&quot;view&quot;</td><td>1</td></tr></tbody></table></div>"
      ]
     },
     "execution_count": 79,
     "metadata": {},
     "output_type": "execute_result"
    }
   ],
   "execution_count": 79
  },
  {
   "metadata": {
    "ExecuteTime": {
     "end_time": "2024-05-14T19:07:46.677968Z",
     "start_time": "2024-05-14T19:07:46.674558Z"
    }
   },
   "cell_type": "code",
   "source": [
    "# pivot and sort\n",
    "\n",
    "df_user_brand_event = df_brand_event_wide.with_columns([\n",
    "    pl.col('purchase').fill_null(strategy='zero'),\n",
    "    pl.col('view').fill_null(strategy='zero'),\n",
    "    pl.col('cart').fill_null(strategy='zero')\n",
    "])\n"
   ],
   "id": "56b1ff869ada770d",
   "outputs": [],
   "execution_count": 90
  },
  {
   "metadata": {
    "ExecuteTime": {
     "end_time": "2024-05-14T19:11:13.348184Z",
     "start_time": "2024-05-14T19:11:13.342651Z"
    }
   },
   "cell_type": "code",
   "source": [
    "df_user_brand_event = df_brand_event_wide.with_columns(\n",
    "    (pl.col('purchase') / pl.col('view')).alias('pct_buy_views'))\n",
    "\n",
    "df_user_brand_event"
   ],
   "id": "695cdc4895997f09",
   "outputs": [
    {
     "data": {
      "text/plain": [
       "shape: (4_202, 5)\n",
       "┌──────────┬─────────┬────────┬──────────┬───────────────┐\n",
       "│ brand    ┆ view    ┆ cart   ┆ purchase ┆ pct_buy_views │\n",
       "│ ---      ┆ ---     ┆ ---    ┆ ---      ┆ ---           │\n",
       "│ str      ┆ u32     ┆ u32    ┆ u32      ┆ f64           │\n",
       "╞══════════╪═════════╪════════╪══════════╪═══════════════╡\n",
       "│ samsung  ┆ 7091998 ┆ 597220 ┆ 200027   ┆ 0.028205      │\n",
       "│ apple    ┆ 5603650 ┆ 489665 ┆ 166064   ┆ 0.029635      │\n",
       "│ null     ┆ 8886720 ┆ 258242 ┆ 73273    ┆ 0.008245      │\n",
       "│ xiaomi   ┆ 4309751 ┆ 260019 ┆ 68292    ┆ 0.015846      │\n",
       "│ huawei   ┆ 1312663 ┆ 73760  ┆ 23703    ┆ 0.018057      │\n",
       "│ …        ┆ …       ┆ …      ┆ …        ┆ …             │\n",
       "│ roblox   ┆ 1857    ┆ 16     ┆ null     ┆ null          │\n",
       "│ tec      ┆ 2118    ┆ 3      ┆ null     ┆ null          │\n",
       "│ wera     ┆ 4872    ┆ 14     ┆ null     ┆ null          │\n",
       "│ certina  ┆ 6723    ┆ 4      ┆ null     ┆ null          │\n",
       "│ gaissina ┆ 8104    ┆ 1      ┆ null     ┆ null          │\n",
       "└──────────┴─────────┴────────┴──────────┴───────────────┘"
      ],
      "text/html": [
       "<div><style>\n",
       ".dataframe > thead > tr,\n",
       ".dataframe > tbody > tr {\n",
       "  text-align: right;\n",
       "  white-space: pre-wrap;\n",
       "}\n",
       "</style>\n",
       "<small>shape: (4_202, 5)</small><table border=\"1\" class=\"dataframe\"><thead><tr><th>brand</th><th>view</th><th>cart</th><th>purchase</th><th>pct_buy_views</th></tr><tr><td>str</td><td>u32</td><td>u32</td><td>u32</td><td>f64</td></tr></thead><tbody><tr><td>&quot;samsung&quot;</td><td>7091998</td><td>597220</td><td>200027</td><td>0.028205</td></tr><tr><td>&quot;apple&quot;</td><td>5603650</td><td>489665</td><td>166064</td><td>0.029635</td></tr><tr><td>null</td><td>8886720</td><td>258242</td><td>73273</td><td>0.008245</td></tr><tr><td>&quot;xiaomi&quot;</td><td>4309751</td><td>260019</td><td>68292</td><td>0.015846</td></tr><tr><td>&quot;huawei&quot;</td><td>1312663</td><td>73760</td><td>23703</td><td>0.018057</td></tr><tr><td>&hellip;</td><td>&hellip;</td><td>&hellip;</td><td>&hellip;</td><td>&hellip;</td></tr><tr><td>&quot;roblox&quot;</td><td>1857</td><td>16</td><td>null</td><td>null</td></tr><tr><td>&quot;tec&quot;</td><td>2118</td><td>3</td><td>null</td><td>null</td></tr><tr><td>&quot;wera&quot;</td><td>4872</td><td>14</td><td>null</td><td>null</td></tr><tr><td>&quot;certina&quot;</td><td>6723</td><td>4</td><td>null</td><td>null</td></tr><tr><td>&quot;gaissina&quot;</td><td>8104</td><td>1</td><td>null</td><td>null</td></tr></tbody></table></div>"
      ]
     },
     "execution_count": 94,
     "metadata": {},
     "output_type": "execute_result"
    }
   ],
   "execution_count": 94
  },
  {
   "metadata": {
    "ExecuteTime": {
     "end_time": "2024-05-14T19:11:18.323661Z",
     "start_time": "2024-05-14T19:11:18.318892Z"
    }
   },
   "cell_type": "code",
   "source": [
    "df_user_brand_event = df_user_brand_event.with_columns([\n",
    "  pl.when(pl.col('pct_buy_views').is_infinite())\n",
    "  .then(None)\n",
    "  .otherwise(pl.col('pct_buy_views')).alias('pct_buy_views')\n",
    "])\n",
    "\n",
    "df_user_brand_event"
   ],
   "id": "c5286dde9354e58b",
   "outputs": [
    {
     "data": {
      "text/plain": [
       "shape: (4_202, 5)\n",
       "┌──────────┬─────────┬────────┬──────────┬───────────────┐\n",
       "│ brand    ┆ view    ┆ cart   ┆ purchase ┆ pct_buy_views │\n",
       "│ ---      ┆ ---     ┆ ---    ┆ ---      ┆ ---           │\n",
       "│ str      ┆ u32     ┆ u32    ┆ u32      ┆ f64           │\n",
       "╞══════════╪═════════╪════════╪══════════╪═══════════════╡\n",
       "│ samsung  ┆ 7091998 ┆ 597220 ┆ 200027   ┆ 0.028205      │\n",
       "│ apple    ┆ 5603650 ┆ 489665 ┆ 166064   ┆ 0.029635      │\n",
       "│ null     ┆ 8886720 ┆ 258242 ┆ 73273    ┆ 0.008245      │\n",
       "│ xiaomi   ┆ 4309751 ┆ 260019 ┆ 68292    ┆ 0.015846      │\n",
       "│ huawei   ┆ 1312663 ┆ 73760  ┆ 23703    ┆ 0.018057      │\n",
       "│ …        ┆ …       ┆ …      ┆ …        ┆ …             │\n",
       "│ roblox   ┆ 1857    ┆ 16     ┆ null     ┆ null          │\n",
       "│ tec      ┆ 2118    ┆ 3      ┆ null     ┆ null          │\n",
       "│ wera     ┆ 4872    ┆ 14     ┆ null     ┆ null          │\n",
       "│ certina  ┆ 6723    ┆ 4      ┆ null     ┆ null          │\n",
       "│ gaissina ┆ 8104    ┆ 1      ┆ null     ┆ null          │\n",
       "└──────────┴─────────┴────────┴──────────┴───────────────┘"
      ],
      "text/html": [
       "<div><style>\n",
       ".dataframe > thead > tr,\n",
       ".dataframe > tbody > tr {\n",
       "  text-align: right;\n",
       "  white-space: pre-wrap;\n",
       "}\n",
       "</style>\n",
       "<small>shape: (4_202, 5)</small><table border=\"1\" class=\"dataframe\"><thead><tr><th>brand</th><th>view</th><th>cart</th><th>purchase</th><th>pct_buy_views</th></tr><tr><td>str</td><td>u32</td><td>u32</td><td>u32</td><td>f64</td></tr></thead><tbody><tr><td>&quot;samsung&quot;</td><td>7091998</td><td>597220</td><td>200027</td><td>0.028205</td></tr><tr><td>&quot;apple&quot;</td><td>5603650</td><td>489665</td><td>166064</td><td>0.029635</td></tr><tr><td>null</td><td>8886720</td><td>258242</td><td>73273</td><td>0.008245</td></tr><tr><td>&quot;xiaomi&quot;</td><td>4309751</td><td>260019</td><td>68292</td><td>0.015846</td></tr><tr><td>&quot;huawei&quot;</td><td>1312663</td><td>73760</td><td>23703</td><td>0.018057</td></tr><tr><td>&hellip;</td><td>&hellip;</td><td>&hellip;</td><td>&hellip;</td><td>&hellip;</td></tr><tr><td>&quot;roblox&quot;</td><td>1857</td><td>16</td><td>null</td><td>null</td></tr><tr><td>&quot;tec&quot;</td><td>2118</td><td>3</td><td>null</td><td>null</td></tr><tr><td>&quot;wera&quot;</td><td>4872</td><td>14</td><td>null</td><td>null</td></tr><tr><td>&quot;certina&quot;</td><td>6723</td><td>4</td><td>null</td><td>null</td></tr><tr><td>&quot;gaissina&quot;</td><td>8104</td><td>1</td><td>null</td><td>null</td></tr></tbody></table></div>"
      ]
     },
     "execution_count": 96,
     "metadata": {},
     "output_type": "execute_result"
    }
   ],
   "execution_count": 96
  },
  {
   "metadata": {},
   "cell_type": "code",
   "outputs": [],
   "execution_count": null,
   "source": "",
   "id": "7893ff415344d9de"
  }
 ],
 "metadata": {
  "kernelspec": {
   "display_name": "Python 3",
   "language": "python",
   "name": "python3"
  },
  "language_info": {
   "codemirror_mode": {
    "name": "ipython",
    "version": 2
   },
   "file_extension": ".py",
   "mimetype": "text/x-python",
   "name": "python",
   "nbconvert_exporter": "python",
   "pygments_lexer": "ipython2",
   "version": "2.7.6"
  }
 },
 "nbformat": 4,
 "nbformat_minor": 5
}
