{
 "cells": [
  {
   "metadata": {},
   "cell_type": "markdown",
   "source": "# https://www.youtube.com/watch?v=7xzmqFEMpJA&list=PLo9Vi5B84_dfAuwJqNYG4XhZMrGTF3sBx&index=6",
   "id": "fe2bffc5683125f4"
  },
  {
   "cell_type": "code",
   "id": "initial_id",
   "metadata": {
    "collapsed": true,
    "ExecuteTime": {
     "end_time": "2024-05-16T17:43:31.356839Z",
     "start_time": "2024-05-16T17:43:30.889105Z"
    }
   },
   "source": [
    "import polars as pl\n",
    "import numpy as np\n",
    "from pathlib import Path"
   ],
   "outputs": [],
   "execution_count": 1
  },
  {
   "metadata": {
    "ExecuteTime": {
     "end_time": "2024-05-16T17:44:04.245109Z",
     "start_time": "2024-05-16T17:44:04.241190Z"
    }
   },
   "cell_type": "code",
   "source": "# 1. Download the data  locally",
   "id": "7fd38bd35673308d",
   "outputs": [],
   "execution_count": 2
  },
  {
   "metadata": {
    "ExecuteTime": {
     "end_time": "2024-05-16T17:51:11.007989Z",
     "start_time": "2024-05-16T17:51:11.004909Z"
    }
   },
   "cell_type": "code",
   "source": "data_path = Path(r'F:\\DataSpell\\Polars_library_learn\\Youtube Lessons\\Polars Tutorial\\data\\2019-Nov.parquet')",
   "id": "994dd7348d20ebb7",
   "outputs": [],
   "execution_count": 10
  },
  {
   "metadata": {
    "ExecuteTime": {
     "end_time": "2024-05-16T17:51:22.250201Z",
     "start_time": "2024-05-16T17:51:11.436438Z"
    }
   },
   "cell_type": "code",
   "source": "df_sample = pl.read_parquet(data_path)",
   "id": "18501fc15c05771b",
   "outputs": [],
   "execution_count": 11
  },
  {
   "metadata": {
    "ExecuteTime": {
     "end_time": "2024-05-16T17:51:34.943232Z",
     "start_time": "2024-05-16T17:51:34.938769Z"
    }
   },
   "cell_type": "code",
   "source": "df_sample.shape",
   "id": "ec887b5cb55f9ef8",
   "outputs": [
    {
     "data": {
      "text/plain": [
       "(67501979, 9)"
      ]
     },
     "execution_count": 13,
     "metadata": {},
     "output_type": "execute_result"
    }
   ],
   "execution_count": 13
  },
  {
   "metadata": {},
   "cell_type": "code",
   "outputs": [],
   "execution_count": null,
   "source": "",
   "id": "cfd64a47ad8039ed"
  }
 ],
 "metadata": {
  "kernelspec": {
   "display_name": "Python 3",
   "language": "python",
   "name": "python3"
  },
  "language_info": {
   "codemirror_mode": {
    "name": "ipython",
    "version": 2
   },
   "file_extension": ".py",
   "mimetype": "text/x-python",
   "name": "python",
   "nbconvert_exporter": "python",
   "pygments_lexer": "ipython2",
   "version": "2.7.6"
  }
 },
 "nbformat": 4,
 "nbformat_minor": 5
}
