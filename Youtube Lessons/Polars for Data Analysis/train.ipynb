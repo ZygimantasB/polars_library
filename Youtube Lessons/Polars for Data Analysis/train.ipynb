{
 "cells": [
  {
   "metadata": {},
   "cell_type": "markdown",
   "source": "# https://www.youtube.com/watch?v=39jB8nJBrCI&list=PLxhYs0VkONL9h5zHZXNntPqLC1JVg9pxX&index=147",
   "id": "46949d8bca87222a"
  },
  {
   "cell_type": "code",
   "id": "initial_id",
   "metadata": {
    "collapsed": true,
    "ExecuteTime": {
     "end_time": "2024-09-16T18:13:42.644976Z",
     "start_time": "2024-09-16T18:13:42.464744Z"
    }
   },
   "source": [
    "import pandas as pd\n",
    "import polars as pl"
   ],
   "outputs": [],
   "execution_count": 1
  },
  {
   "metadata": {
    "ExecuteTime": {
     "end_time": "2024-09-16T18:22:41.296672Z",
     "start_time": "2024-09-16T18:22:41.284224Z"
    }
   },
   "cell_type": "code",
   "source": "df = pl.read_csv(r'F:\\DataSpell\\Polars_library_learn\\data\\Train.csv')",
   "id": "39ff4d37f5502d04",
   "outputs": [],
   "execution_count": 4
  },
  {
   "metadata": {
    "ExecuteTime": {
     "end_time": "2024-09-16T18:23:15.973265Z",
     "start_time": "2024-09-16T18:23:15.968467Z"
    }
   },
   "cell_type": "code",
   "source": "df.shape",
   "id": "c4ee7343207a638a",
   "outputs": [
    {
     "data": {
      "text/plain": [
       "(140160, 12)"
      ]
     },
     "execution_count": 5,
     "metadata": {},
     "output_type": "execute_result"
    }
   ],
   "execution_count": 5
  },
  {
   "metadata": {
    "ExecuteTime": {
     "end_time": "2024-09-16T18:23:19.814505Z",
     "start_time": "2024-09-16T18:23:19.772585Z"
    }
   },
   "cell_type": "code",
   "source": "df.describe()",
   "id": "a7fb0ccca9674d11",
   "outputs": [
    {
     "data": {
      "text/plain": [
       "shape: (9, 13)\n",
       "┌───────────┬───────────┬───────────┬──────────┬───┬───────────┬───────────┬───────────┬───────────┐\n",
       "│ statistic ┆           ┆ Time      ┆ Location ┆ … ┆ WD_10m    ┆ WD_100m   ┆ WG_10m    ┆ Power     │\n",
       "│ ---       ┆ ---       ┆ ---       ┆ ---      ┆   ┆ ---       ┆ ---       ┆ ---       ┆ ---       │\n",
       "│ str       ┆ f64       ┆ str       ┆ f64      ┆   ┆ f64       ┆ f64       ┆ f64       ┆ f64       │\n",
       "╞═══════════╪═══════════╪═══════════╪══════════╪═══╪═══════════╪═══════════╪═══════════╪═══════════╡\n",
       "│ count     ┆ 140160.0  ┆ 140160    ┆ 140160.0 ┆ … ┆ 140160.0  ┆ 140160.0  ┆ 140160.0  ┆ 140160.0  │\n",
       "│ null_coun ┆ 0.0       ┆ 0         ┆ 0.0      ┆ … ┆ 0.0       ┆ 0.0       ┆ 0.0       ┆ 0.0       │\n",
       "│ t         ┆           ┆           ┆          ┆   ┆           ┆           ┆           ┆           │\n",
       "│ mean      ┆ 17519.5   ┆ null      ┆ 2.5      ┆ … ┆ 200.68441 ┆ 200.64901 ┆ 8.027673  ┆ 0.312437  │\n",
       "│           ┆           ┆           ┆          ┆   ┆ 7         ┆           ┆           ┆           │\n",
       "│ std       ┆ 10115.212 ┆ null      ┆ 1.118038 ┆ … ┆ 100.07991 ┆ 101.10591 ┆ 3.626641  ┆ 0.253774  │\n",
       "│           ┆ 797       ┆           ┆          ┆   ┆ 7         ┆ 9         ┆           ┆           │\n",
       "│ min       ┆ 0.0       ┆ 01-01-201 ┆ 1.0      ┆ … ┆ 0.051683  ┆ -0.942685 ┆ 0.436515  ┆ -0.000004 │\n",
       "│           ┆           ┆ 4 00:00   ┆          ┆   ┆           ┆           ┆           ┆           │\n",
       "│ 25%       ┆ 8760.0    ┆ null      ┆ 2.0      ┆ … ┆ 128.05168 ┆ 127.05731 ┆ 5.236515  ┆ 0.099696  │\n",
       "│           ┆           ┆           ┆          ┆   ┆ 3         ┆ 5         ┆           ┆           │\n",
       "│ 50%       ┆ 17520.0   ┆ null      ┆ 3.0      ┆ … ┆ 211.05168 ┆ 211.05731 ┆ 7.636515  ┆ 0.246896  │\n",
       "│           ┆           ┆           ┆          ┆   ┆ 3         ┆ 5         ┆           ┆           │\n",
       "│ 75%       ┆ 26279.0   ┆ null      ┆ 3.0      ┆ … ┆ 287.05168 ┆ 289.05731 ┆ 10.236515 ┆ 0.486396  │\n",
       "│           ┆           ┆           ┆          ┆   ┆ 3         ┆ 5         ┆           ┆           │\n",
       "│ max       ┆ 35039.0   ┆ 31-12-201 ┆ 4.0      ┆ … ┆ 359.05168 ┆ 359.05731 ┆ 28.936515 ┆ 0.988796  │\n",
       "│           ┆           ┆ 6 23:00   ┆          ┆   ┆ 3         ┆ 5         ┆           ┆           │\n",
       "└───────────┴───────────┴───────────┴──────────┴───┴───────────┴───────────┴───────────┴───────────┘"
      ],
      "text/html": [
       "<div><style>\n",
       ".dataframe > thead > tr,\n",
       ".dataframe > tbody > tr {\n",
       "  text-align: right;\n",
       "  white-space: pre-wrap;\n",
       "}\n",
       "</style>\n",
       "<small>shape: (9, 13)</small><table border=\"1\" class=\"dataframe\"><thead><tr><th>statistic</th><th></th><th>Time</th><th>Location</th><th>Temp_2m</th><th>RelHum_2m</th><th>DP_2m</th><th>WS_10m</th><th>WS_100m</th><th>WD_10m</th><th>WD_100m</th><th>WG_10m</th><th>Power</th></tr><tr><td>str</td><td>f64</td><td>str</td><td>f64</td><td>f64</td><td>f64</td><td>f64</td><td>f64</td><td>f64</td><td>f64</td><td>f64</td><td>f64</td><td>f64</td></tr></thead><tbody><tr><td>&quot;count&quot;</td><td>140160.0</td><td>&quot;140160&quot;</td><td>140160.0</td><td>140160.0</td><td>140160.0</td><td>140160.0</td><td>140160.0</td><td>140160.0</td><td>140160.0</td><td>140160.0</td><td>140160.0</td><td>140160.0</td></tr><tr><td>&quot;null_count&quot;</td><td>0.0</td><td>&quot;0&quot;</td><td>0.0</td><td>0.0</td><td>0.0</td><td>0.0</td><td>0.0</td><td>0.0</td><td>0.0</td><td>0.0</td><td>0.0</td><td>0.0</td></tr><tr><td>&quot;mean&quot;</td><td>17519.5</td><td>null</td><td>2.5</td><td>45.912162</td><td>70.420512</td><td>35.867228</td><td>4.352948</td><td>6.924278</td><td>200.684417</td><td>200.64901</td><td>8.027673</td><td>0.312437</td></tr><tr><td>&quot;std&quot;</td><td>10115.212797</td><td>null</td><td>1.118038</td><td>21.930554</td><td>17.000203</td><td>20.97972</td><td>2.027149</td><td>3.056636</td><td>100.079917</td><td>101.105919</td><td>3.626641</td><td>0.253774</td></tr><tr><td>&quot;min&quot;</td><td>0.0</td><td>&quot;01-01-2014 00:00&quot;</td><td>1.0</td><td>-31.4204</td><td>8.664205</td><td>-36.627405</td><td>0.165389</td><td>0.007799</td><td>0.051683</td><td>-0.942685</td><td>0.436515</td><td>-0.000004</td></tr><tr><td>&quot;25%&quot;</td><td>8760.0</td><td>null</td><td>2.0</td><td>29.5796</td><td>57.664205</td><td>21.172595</td><td>2.815389</td><td>4.747799</td><td>128.051683</td><td>127.057315</td><td>5.236515</td><td>0.099696</td></tr><tr><td>&quot;50%&quot;</td><td>17520.0</td><td>null</td><td>3.0</td><td>45.8796</td><td>72.664205</td><td>35.672595</td><td>4.055389</td><td>6.717799</td><td>211.051683</td><td>211.057315</td><td>7.636515</td><td>0.246896</td></tr><tr><td>&quot;75%&quot;</td><td>26279.0</td><td>null</td><td>3.0</td><td>64.5796</td><td>84.664205</td><td>53.872595</td><td>5.575389</td><td>8.847799</td><td>287.051683</td><td>289.057315</td><td>10.236515</td><td>0.486396</td></tr><tr><td>&quot;max&quot;</td><td>35039.0</td><td>&quot;31-12-2016 23:00&quot;</td><td>4.0</td><td>94.4796</td><td>99.664205</td><td>78.272595</td><td>18.695389</td><td>24.597799</td><td>359.051683</td><td>359.057315</td><td>28.936515</td><td>0.988796</td></tr></tbody></table></div>"
      ]
     },
     "execution_count": 6,
     "metadata": {},
     "output_type": "execute_result"
    }
   ],
   "execution_count": 6
  },
  {
   "metadata": {
    "ExecuteTime": {
     "end_time": "2024-09-16T18:24:46.254078Z",
     "start_time": "2024-09-16T18:24:46.249335Z"
    }
   },
   "cell_type": "code",
   "source": "df.schema",
   "id": "e7a4c4e84864bd1f",
   "outputs": [
    {
     "data": {
      "text/plain": [
       "Schema([('', Int64),\n",
       "        ('Time', String),\n",
       "        ('Location', Int64),\n",
       "        ('Temp_2m', Float64),\n",
       "        ('RelHum_2m', Float64),\n",
       "        ('DP_2m', Float64),\n",
       "        ('WS_10m', Float64),\n",
       "        ('WS_100m', Float64),\n",
       "        ('WD_10m', Float64),\n",
       "        ('WD_100m', Float64),\n",
       "        ('WG_10m', Float64),\n",
       "        ('Power', Float64)])"
      ]
     },
     "execution_count": 8,
     "metadata": {},
     "output_type": "execute_result"
    }
   ],
   "execution_count": 8
  },
  {
   "metadata": {
    "ExecuteTime": {
     "end_time": "2024-09-16T18:26:07.509768Z",
     "start_time": "2024-09-16T18:26:07.505549Z"
    }
   },
   "cell_type": "code",
   "source": "df.select(pl.col('Power'))",
   "id": "ff1bb4ea2d8a686b",
   "outputs": [
    {
     "data": {
      "text/plain": [
       "shape: (140_160, 1)\n",
       "┌──────────┐\n",
       "│ Power    │\n",
       "│ ---      │\n",
       "│ f64      │\n",
       "╞══════════╡\n",
       "│ 0.163496 │\n",
       "│ 0.142396 │\n",
       "│ 0.121396 │\n",
       "│ 0.100296 │\n",
       "│ 0.079296 │\n",
       "│ …        │\n",
       "│ 0.288196 │\n",
       "│ 0.257896 │\n",
       "│ 0.227496 │\n",
       "│ 0.197196 │\n",
       "│ 0.166896 │\n",
       "└──────────┘"
      ],
      "text/html": [
       "<div><style>\n",
       ".dataframe > thead > tr,\n",
       ".dataframe > tbody > tr {\n",
       "  text-align: right;\n",
       "  white-space: pre-wrap;\n",
       "}\n",
       "</style>\n",
       "<small>shape: (140_160, 1)</small><table border=\"1\" class=\"dataframe\"><thead><tr><th>Power</th></tr><tr><td>f64</td></tr></thead><tbody><tr><td>0.163496</td></tr><tr><td>0.142396</td></tr><tr><td>0.121396</td></tr><tr><td>0.100296</td></tr><tr><td>0.079296</td></tr><tr><td>&hellip;</td></tr><tr><td>0.288196</td></tr><tr><td>0.257896</td></tr><tr><td>0.227496</td></tr><tr><td>0.197196</td></tr><tr><td>0.166896</td></tr></tbody></table></div>"
      ]
     },
     "execution_count": 12,
     "metadata": {},
     "output_type": "execute_result"
    }
   ],
   "execution_count": 12
  },
  {
   "metadata": {
    "ExecuteTime": {
     "end_time": "2024-09-16T18:26:22.305450Z",
     "start_time": "2024-09-16T18:26:22.300703Z"
    }
   },
   "cell_type": "code",
   "source": "df.head()",
   "id": "a980908d1a1b70da",
   "outputs": [
    {
     "data": {
      "text/plain": [
       "shape: (5, 12)\n",
       "┌─────┬──────────────────┬──────────┬─────────┬───┬────────────┬────────────┬──────────┬──────────┐\n",
       "│     ┆ Time             ┆ Location ┆ Temp_2m ┆ … ┆ WD_10m     ┆ WD_100m    ┆ WG_10m   ┆ Power    │\n",
       "│ --- ┆ ---              ┆ ---      ┆ ---     ┆   ┆ ---        ┆ ---        ┆ ---      ┆ ---      │\n",
       "│ i64 ┆ str              ┆ i64      ┆ f64     ┆   ┆ f64        ┆ f64        ┆ f64      ┆ f64      │\n",
       "╞═════╪══════════════════╪══════════╪═════════╪═══╪════════════╪════════════╪══════════╪══════════╡\n",
       "│ 0   ┆ 02-01-2013 00:00 ┆ 1        ┆ 28.2796 ┆ … ┆ 145.051683 ┆ 161.057315 ┆ 1.336515 ┆ 0.163496 │\n",
       "│ 1   ┆ 02-01-2013 01:00 ┆ 1        ┆ 28.1796 ┆ … ┆ 150.051683 ┆ 157.057315 ┆ 4.336515 ┆ 0.142396 │\n",
       "│ 2   ┆ 02-01-2013 02:00 ┆ 1        ┆ 26.5796 ┆ … ┆ 147.051683 ┆ 149.057315 ┆ 3.136515 ┆ 0.121396 │\n",
       "│ 3   ┆ 02-01-2013 03:00 ┆ 1        ┆ 27.1796 ┆ … ┆ 57.051683  ┆ 104.057315 ┆ 1.536515 ┆ 0.100296 │\n",
       "│ 4   ┆ 02-01-2013 04:00 ┆ 1        ┆ 27.0796 ┆ … ┆ 57.051683  ┆ 83.057315  ┆ 3.936515 ┆ 0.079296 │\n",
       "└─────┴──────────────────┴──────────┴─────────┴───┴────────────┴────────────┴──────────┴──────────┘"
      ],
      "text/html": [
       "<div><style>\n",
       ".dataframe > thead > tr,\n",
       ".dataframe > tbody > tr {\n",
       "  text-align: right;\n",
       "  white-space: pre-wrap;\n",
       "}\n",
       "</style>\n",
       "<small>shape: (5, 12)</small><table border=\"1\" class=\"dataframe\"><thead><tr><th></th><th>Time</th><th>Location</th><th>Temp_2m</th><th>RelHum_2m</th><th>DP_2m</th><th>WS_10m</th><th>WS_100m</th><th>WD_10m</th><th>WD_100m</th><th>WG_10m</th><th>Power</th></tr><tr><td>i64</td><td>str</td><td>i64</td><td>f64</td><td>f64</td><td>f64</td><td>f64</td><td>f64</td><td>f64</td><td>f64</td><td>f64</td><td>f64</td></tr></thead><tbody><tr><td>0</td><td>&quot;02-01-2013 00:00&quot;</td><td>1</td><td>28.2796</td><td>84.664205</td><td>24.072595</td><td>1.605389</td><td>1.267799</td><td>145.051683</td><td>161.057315</td><td>1.336515</td><td>0.163496</td></tr><tr><td>1</td><td>&quot;02-01-2013 01:00&quot;</td><td>1</td><td>28.1796</td><td>85.664205</td><td>24.272595</td><td>2.225389</td><td>3.997799</td><td>150.051683</td><td>157.057315</td><td>4.336515</td><td>0.142396</td></tr><tr><td>2</td><td>&quot;02-01-2013 02:00&quot;</td><td>1</td><td>26.5796</td><td>90.664205</td><td>24.072595</td><td>1.465389</td><td>2.787799</td><td>147.051683</td><td>149.057315</td><td>3.136515</td><td>0.121396</td></tr><tr><td>3</td><td>&quot;02-01-2013 03:00&quot;</td><td>1</td><td>27.1796</td><td>87.664205</td><td>23.872595</td><td>1.465389</td><td>2.697799</td><td>57.051683</td><td>104.057315</td><td>1.536515</td><td>0.100296</td></tr><tr><td>4</td><td>&quot;02-01-2013 04:00&quot;</td><td>1</td><td>27.0796</td><td>87.664205</td><td>23.672595</td><td>2.635389</td><td>4.437799</td><td>57.051683</td><td>83.057315</td><td>3.936515</td><td>0.079296</td></tr></tbody></table></div>"
      ]
     },
     "execution_count": 13,
     "metadata": {},
     "output_type": "execute_result"
    }
   ],
   "execution_count": 13
  },
  {
   "metadata": {
    "ExecuteTime": {
     "end_time": "2024-09-16T18:29:03.893928Z",
     "start_time": "2024-09-16T18:29:03.888812Z"
    }
   },
   "cell_type": "code",
   "source": "df.select(pl.col('Power'))",
   "id": "79c3167b48f301a3",
   "outputs": [
    {
     "data": {
      "text/plain": [
       "shape: (140_160, 1)\n",
       "┌──────────┐\n",
       "│ Power    │\n",
       "│ ---      │\n",
       "│ f64      │\n",
       "╞══════════╡\n",
       "│ 0.163496 │\n",
       "│ 0.142396 │\n",
       "│ 0.121396 │\n",
       "│ 0.100296 │\n",
       "│ 0.079296 │\n",
       "│ …        │\n",
       "│ 0.288196 │\n",
       "│ 0.257896 │\n",
       "│ 0.227496 │\n",
       "│ 0.197196 │\n",
       "│ 0.166896 │\n",
       "└──────────┘"
      ],
      "text/html": [
       "<div><style>\n",
       ".dataframe > thead > tr,\n",
       ".dataframe > tbody > tr {\n",
       "  text-align: right;\n",
       "  white-space: pre-wrap;\n",
       "}\n",
       "</style>\n",
       "<small>shape: (140_160, 1)</small><table border=\"1\" class=\"dataframe\"><thead><tr><th>Power</th></tr><tr><td>f64</td></tr></thead><tbody><tr><td>0.163496</td></tr><tr><td>0.142396</td></tr><tr><td>0.121396</td></tr><tr><td>0.100296</td></tr><tr><td>0.079296</td></tr><tr><td>&hellip;</td></tr><tr><td>0.288196</td></tr><tr><td>0.257896</td></tr><tr><td>0.227496</td></tr><tr><td>0.197196</td></tr><tr><td>0.166896</td></tr></tbody></table></div>"
      ]
     },
     "execution_count": 18,
     "metadata": {},
     "output_type": "execute_result"
    }
   ],
   "execution_count": 18
  },
  {
   "metadata": {
    "ExecuteTime": {
     "end_time": "2024-09-16T18:29:07.878193Z",
     "start_time": "2024-09-16T18:29:07.867222Z"
    }
   },
   "cell_type": "code",
   "source": "unique_values = df.select(pl.col('Power')).unique()",
   "id": "bb761dda2f9cad6a",
   "outputs": [],
   "execution_count": 19
  },
  {
   "metadata": {
    "ExecuteTime": {
     "end_time": "2024-09-16T18:29:48.815605Z",
     "start_time": "2024-09-16T18:29:48.810827Z"
    }
   },
   "cell_type": "code",
   "source": "unique_values",
   "id": "c0e2eee7c9973e47",
   "outputs": [
    {
     "data": {
      "text/plain": [
       "shape: (9_777, 1)\n",
       "┌──────────┐\n",
       "│ Power    │\n",
       "│ ---      │\n",
       "│ f64      │\n",
       "╞══════════╡\n",
       "│ 0.642296 │\n",
       "│ 0.308196 │\n",
       "│ 0.241296 │\n",
       "│ 0.497196 │\n",
       "│ 0.134796 │\n",
       "│ …        │\n",
       "│ 0.805096 │\n",
       "│ 0.314896 │\n",
       "│ 0.347896 │\n",
       "│ 0.028696 │\n",
       "│ 0.694396 │\n",
       "└──────────┘"
      ],
      "text/html": [
       "<div><style>\n",
       ".dataframe > thead > tr,\n",
       ".dataframe > tbody > tr {\n",
       "  text-align: right;\n",
       "  white-space: pre-wrap;\n",
       "}\n",
       "</style>\n",
       "<small>shape: (9_777, 1)</small><table border=\"1\" class=\"dataframe\"><thead><tr><th>Power</th></tr><tr><td>f64</td></tr></thead><tbody><tr><td>0.642296</td></tr><tr><td>0.308196</td></tr><tr><td>0.241296</td></tr><tr><td>0.497196</td></tr><tr><td>0.134796</td></tr><tr><td>&hellip;</td></tr><tr><td>0.805096</td></tr><tr><td>0.314896</td></tr><tr><td>0.347896</td></tr><tr><td>0.028696</td></tr><tr><td>0.694396</td></tr></tbody></table></div>"
      ]
     },
     "execution_count": 21,
     "metadata": {},
     "output_type": "execute_result"
    }
   ],
   "execution_count": 21
  },
  {
   "metadata": {
    "ExecuteTime": {
     "end_time": "2024-09-16T18:38:01.778910Z",
     "start_time": "2024-09-16T18:38:01.773826Z"
    }
   },
   "cell_type": "code",
   "source": "df.glimpse()",
   "id": "ed7709f44d86a058",
   "outputs": [
    {
     "name": "stdout",
     "output_type": "stream",
     "text": [
      "Rows: 140160\n",
      "Columns: 12\n",
      "$           <i64> 0, 1, 2, 3, 4, 5, 6, 7, 8, 9\n",
      "$ Time      <str> '02-01-2013 00:00', '02-01-2013 01:00', '02-01-2013 02:00', '02-01-2013 03:00', '02-01-2013 04:00', '02-01-2013 05:00', '02-01-2013 06:00', '02-01-2013 07:00', '02-01-2013 08:00', '02-01-2013 09:00'\n",
      "$ Location  <i64> 1, 1, 1, 1, 1, 1, 1, 1, 1, 1\n",
      "$ Temp_2m   <f64> 28.27960022, 28.17960022, 26.57960022, 27.17960022, 27.07960022, 27.37960022, 26.47960022, 28.17960022, 29.97960022, 33.77960022\n",
      "$ RelHum_2m <f64> 84.66420479, 85.66420479, 90.66420479, 87.66420479, 87.66420479, 89.66420479, 91.66420479, 90.66420479, 87.66420479, 81.66420479\n",
      "$ DP_2m     <f64> 24.07259522, 24.27259522, 24.07259522, 23.87259522, 23.67259522, 24.77259522, 24.47259522, 25.67259522, 26.57259522, 28.67259522\n",
      "$ WS_10m    <f64> 1.605389169, 2.225389169, 1.465389169, 1.465389169, 2.635389169, 2.895389169, 2.265389169, 3.265389169, 3.705389169, 3.605389169\n",
      "$ WS_100m   <f64> 1.267799417, 3.997799417, 2.787799417, 2.697799417, 4.437799417, 5.597799417, 5.827799417, 6.247799417, 6.897799417, 6.017799417\n",
      "$ WD_10m    <f64> 145.0516826, 150.0516826, 147.0516826, 57.05168257, 57.05168257, 65.05168257, 64.05168257, 68.05168257, 73.05168257, 81.05168257\n",
      "$ WD_100m   <f64> 161.0573147, 157.0573147, 149.0573147, 104.0573147, 83.0573147, 79.0573147, 77.0573147, 77.0573147, 80.0573147, 85.0573147\n",
      "$ WG_10m    <f64> 1.336515074, 4.336515074, 3.136515074, 1.536515074, 3.936515074, 4.436515074, 4.636515074, 4.736515074, 5.736515074, 6.436515074\n",
      "$ Power     <f64> 0.163495886, 0.142395886, 0.121395886, 0.100295886, 0.079295886, 0.077795886, 0.095895886, 0.114095886, 0.132195886, 0.150295886\n",
      "\n"
     ]
    }
   ],
   "execution_count": 41
  },
  {
   "metadata": {
    "ExecuteTime": {
     "end_time": "2024-09-16T18:39:42.810945Z",
     "start_time": "2024-09-16T18:39:42.794944Z"
    }
   },
   "cell_type": "code",
   "source": "df.unique(subset=['Time'])",
   "id": "6f0f8824bb2cc072",
   "outputs": [
    {
     "data": {
      "text/plain": [
       "shape: (35_040, 12)\n",
       "┌───────┬────────────┬──────────┬─────────┬───┬────────────┬────────────┬───────────┬──────────┐\n",
       "│       ┆ Time       ┆ Location ┆ Temp_2m ┆ … ┆ WD_10m     ┆ WD_100m    ┆ WG_10m    ┆ Power    │\n",
       "│ ---   ┆ ---        ┆ ---      ┆ ---     ┆   ┆ ---        ┆ ---        ┆ ---       ┆ ---      │\n",
       "│ i64   ┆ str        ┆ i64      ┆ f64     ┆   ┆ f64        ┆ f64        ┆ f64       ┆ f64      │\n",
       "╞═══════╪════════════╪══════════╪═════════╪═══╪════════════╪════════════╪═══════════╪══════════╡\n",
       "│ 34393 ┆ 05-12-2016 ┆ 1        ┆ 31.8796 ┆ … ┆ 308.051683 ┆ 319.057315 ┆ 8.136515  ┆ 0.308896 │\n",
       "│       ┆ 01:00      ┆          ┆         ┆   ┆            ┆            ┆           ┆          │\n",
       "│ 26882 ┆ 27-01-2016 ┆ 1        ┆ 28.1796 ┆ … ┆ 298.051683 ┆ 302.057315 ┆ 7.536515  ┆ 0.534396 │\n",
       "│       ┆ 02:00      ┆          ┆         ┆   ┆            ┆            ┆           ┆          │\n",
       "│ 27736 ┆ 02-03-2016 ┆ 1        ┆ 46.5796 ┆ … ┆ 282.051683 ┆ 279.057315 ┆ 7.036515  ┆ 0.034396 │\n",
       "│       ┆ 16:00      ┆          ┆         ┆   ┆            ┆            ┆           ┆          │\n",
       "│ 7640  ┆ 16-11-2013 ┆ 1        ┆ 36.8796 ┆ … ┆ 294.051683 ┆ 297.057315 ┆ 14.136515 ┆ 0.951896 │\n",
       "│       ┆ 08:00      ┆          ┆         ┆   ┆            ┆            ┆           ┆          │\n",
       "│ 9862  ┆ 16-02-2014 ┆ 1        ┆ 21.5796 ┆ … ┆ 240.051683 ┆ 251.057315 ┆ 5.336515  ┆ 0.515396 │\n",
       "│       ┆ 22:00      ┆          ┆         ┆   ┆            ┆            ┆           ┆          │\n",
       "│ …     ┆ …          ┆ …        ┆ …       ┆ … ┆ …          ┆ …          ┆ …         ┆ …        │\n",
       "│ 2415  ┆ 12-04-2013 ┆ 1        ┆ 53.6796 ┆ … ┆ 303.051683 ┆ 298.057315 ┆ 7.936515  ┆ 0.298296 │\n",
       "│       ┆ 15:00      ┆          ┆         ┆   ┆            ┆            ┆           ┆          │\n",
       "│ 17293 ┆ 23-12-2014 ┆ 1        ┆ 34.2796 ┆ … ┆ 244.051683 ┆ 245.057315 ┆ 6.636515  ┆ 0.082996 │\n",
       "│       ┆ 13:00      ┆          ┆         ┆   ┆            ┆            ┆           ┆          │\n",
       "│ 483   ┆ 22-01-2013 ┆ 1        ┆ 36.3796 ┆ … ┆ 159.051683 ┆ 199.057315 ┆ 3.536515  ┆ 0.049496 │\n",
       "│       ┆ 03:00      ┆          ┆         ┆   ┆            ┆            ┆           ┆          │\n",
       "│ 24374 ┆ 14-10-2015 ┆ 1        ┆ 48.3796 ┆ … ┆ 258.051683 ┆ 259.057315 ┆ 10.936515 ┆ 0.488696 │\n",
       "│       ┆ 14:00      ┆          ┆         ┆   ┆            ┆            ┆           ┆          │\n",
       "│ 34940 ┆ 27-12-2016 ┆ 1        ┆ 34.8796 ┆ … ┆ 177.051683 ┆ 179.057315 ┆ 8.536515  ┆ 0.975896 │\n",
       "│       ┆ 20:00      ┆          ┆         ┆   ┆            ┆            ┆           ┆          │\n",
       "└───────┴────────────┴──────────┴─────────┴───┴────────────┴────────────┴───────────┴──────────┘"
      ],
      "text/html": [
       "<div><style>\n",
       ".dataframe > thead > tr,\n",
       ".dataframe > tbody > tr {\n",
       "  text-align: right;\n",
       "  white-space: pre-wrap;\n",
       "}\n",
       "</style>\n",
       "<small>shape: (35_040, 12)</small><table border=\"1\" class=\"dataframe\"><thead><tr><th></th><th>Time</th><th>Location</th><th>Temp_2m</th><th>RelHum_2m</th><th>DP_2m</th><th>WS_10m</th><th>WS_100m</th><th>WD_10m</th><th>WD_100m</th><th>WG_10m</th><th>Power</th></tr><tr><td>i64</td><td>str</td><td>i64</td><td>f64</td><td>f64</td><td>f64</td><td>f64</td><td>f64</td><td>f64</td><td>f64</td><td>f64</td><td>f64</td></tr></thead><tbody><tr><td>34393</td><td>&quot;05-12-2016 01:00&quot;</td><td>1</td><td>31.8796</td><td>81.664205</td><td>26.772595</td><td>4.145389</td><td>7.097799</td><td>308.051683</td><td>319.057315</td><td>8.136515</td><td>0.308896</td></tr><tr><td>26882</td><td>&quot;27-01-2016 02:00&quot;</td><td>1</td><td>28.1796</td><td>89.664205</td><td>25.472595</td><td>4.055389</td><td>6.937799</td><td>298.051683</td><td>302.057315</td><td>7.536515</td><td>0.534396</td></tr><tr><td>27736</td><td>&quot;02-03-2016 16:00&quot;</td><td>1</td><td>46.5796</td><td>54.664205</td><td>31.272595</td><td>1.495389</td><td>2.337799</td><td>282.051683</td><td>279.057315</td><td>7.036515</td><td>0.034396</td></tr><tr><td>7640</td><td>&quot;16-11-2013 08:00&quot;</td><td>1</td><td>36.8796</td><td>83.664205</td><td>32.272595</td><td>7.005389</td><td>11.327799</td><td>294.051683</td><td>297.057315</td><td>14.136515</td><td>0.951896</td></tr><tr><td>9862</td><td>&quot;16-02-2014 22:00&quot;</td><td>1</td><td>21.5796</td><td>62.664205</td><td>10.772595</td><td>3.255389</td><td>6.207799</td><td>240.051683</td><td>251.057315</td><td>5.336515</td><td>0.515396</td></tr><tr><td>&hellip;</td><td>&hellip;</td><td>&hellip;</td><td>&hellip;</td><td>&hellip;</td><td>&hellip;</td><td>&hellip;</td><td>&hellip;</td><td>&hellip;</td><td>&hellip;</td><td>&hellip;</td><td>&hellip;</td></tr><tr><td>2415</td><td>&quot;12-04-2013 15:00&quot;</td><td>1</td><td>53.6796</td><td>32.664205</td><td>24.972595</td><td>2.685389</td><td>3.677799</td><td>303.051683</td><td>298.057315</td><td>7.936515</td><td>0.298296</td></tr><tr><td>17293</td><td>&quot;23-12-2014 13:00&quot;</td><td>1</td><td>34.2796</td><td>76.664205</td><td>27.572595</td><td>3.025389</td><td>3.947799</td><td>244.051683</td><td>245.057315</td><td>6.636515</td><td>0.082996</td></tr><tr><td>483</td><td>&quot;22-01-2013 03:00&quot;</td><td>1</td><td>36.3796</td><td>99.664205</td><td>36.172595</td><td>2.505389</td><td>3.297799</td><td>159.051683</td><td>199.057315</td><td>3.536515</td><td>0.049496</td></tr><tr><td>24374</td><td>&quot;14-10-2015 14:00&quot;</td><td>1</td><td>48.3796</td><td>44.664205</td><td>27.972595</td><td>5.265389</td><td>7.737799</td><td>258.051683</td><td>259.057315</td><td>10.936515</td><td>0.488696</td></tr><tr><td>34940</td><td>&quot;27-12-2016 20:00&quot;</td><td>1</td><td>34.8796</td><td>82.664205</td><td>29.872595</td><td>4.765389</td><td>8.807799</td><td>177.051683</td><td>179.057315</td><td>8.536515</td><td>0.975896</td></tr></tbody></table></div>"
      ]
     },
     "execution_count": 44,
     "metadata": {},
     "output_type": "execute_result"
    }
   ],
   "execution_count": 44
  },
  {
   "metadata": {
    "ExecuteTime": {
     "end_time": "2024-09-16T18:44:08.253651Z",
     "start_time": "2024-09-16T18:44:08.247319Z"
    }
   },
   "cell_type": "code",
   "source": "df.select(pl.col('Temp_2m').sort(descending=True))",
   "id": "27700cff0a30ca0d",
   "outputs": [
    {
     "data": {
      "text/plain": [
       "shape: (140_160, 1)\n",
       "┌──────────┐\n",
       "│ Temp_2m  │\n",
       "│ ---      │\n",
       "│ f64      │\n",
       "╞══════════╡\n",
       "│ 94.4796  │\n",
       "│ 94.3796  │\n",
       "│ 94.2796  │\n",
       "│ 94.1796  │\n",
       "│ 94.0796  │\n",
       "│ …        │\n",
       "│ -30.7204 │\n",
       "│ -30.7204 │\n",
       "│ -30.7204 │\n",
       "│ -31.0204 │\n",
       "│ -31.4204 │\n",
       "└──────────┘"
      ],
      "text/html": [
       "<div><style>\n",
       ".dataframe > thead > tr,\n",
       ".dataframe > tbody > tr {\n",
       "  text-align: right;\n",
       "  white-space: pre-wrap;\n",
       "}\n",
       "</style>\n",
       "<small>shape: (140_160, 1)</small><table border=\"1\" class=\"dataframe\"><thead><tr><th>Temp_2m</th></tr><tr><td>f64</td></tr></thead><tbody><tr><td>94.4796</td></tr><tr><td>94.3796</td></tr><tr><td>94.2796</td></tr><tr><td>94.1796</td></tr><tr><td>94.0796</td></tr><tr><td>&hellip;</td></tr><tr><td>-30.7204</td></tr><tr><td>-30.7204</td></tr><tr><td>-30.7204</td></tr><tr><td>-31.0204</td></tr><tr><td>-31.4204</td></tr></tbody></table></div>"
      ]
     },
     "execution_count": 47,
     "metadata": {},
     "output_type": "execute_result"
    }
   ],
   "execution_count": 47
  },
  {
   "metadata": {},
   "cell_type": "code",
   "outputs": [],
   "execution_count": null,
   "source": "",
   "id": "76c24ae0c67813d3"
  }
 ],
 "metadata": {
  "kernelspec": {
   "display_name": "Python 3",
   "language": "python",
   "name": "python3"
  },
  "language_info": {
   "codemirror_mode": {
    "name": "ipython",
    "version": 2
   },
   "file_extension": ".py",
   "mimetype": "text/x-python",
   "name": "python",
   "nbconvert_exporter": "python",
   "pygments_lexer": "ipython2",
   "version": "2.7.6"
  }
 },
 "nbformat": 4,
 "nbformat_minor": 5
}
