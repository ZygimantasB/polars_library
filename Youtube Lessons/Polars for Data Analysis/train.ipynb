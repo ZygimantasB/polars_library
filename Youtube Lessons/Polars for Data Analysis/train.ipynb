{
 "cells": [
  {
   "metadata": {},
   "cell_type": "markdown",
   "source": "# https://www.youtube.com/watch?v=39jB8nJBrCI&list=PLxhYs0VkONL9h5zHZXNntPqLC1JVg9pxX&index=147",
   "id": "46949d8bca87222a"
  },
  {
   "cell_type": "code",
   "id": "initial_id",
   "metadata": {
    "collapsed": true,
    "ExecuteTime": {
     "end_time": "2024-09-17T17:25:55.385733Z",
     "start_time": "2024-09-17T17:25:54.499325Z"
    }
   },
   "source": [
    "import pandas as pd\n",
    "import polars as pl"
   ],
   "outputs": [],
   "execution_count": 1
  },
  {
   "metadata": {
    "ExecuteTime": {
     "end_time": "2024-09-17T17:25:55.525695Z",
     "start_time": "2024-09-17T17:25:55.415532Z"
    }
   },
   "cell_type": "code",
   "source": "df = pl.read_csv(r'F:\\DataSpell\\Polars_library_learn\\data\\Train.csv')",
   "id": "39ff4d37f5502d04",
   "outputs": [],
   "execution_count": 2
  },
  {
   "metadata": {
    "ExecuteTime": {
     "end_time": "2024-09-17T17:25:55.738351Z",
     "start_time": "2024-09-17T17:25:55.733852Z"
    }
   },
   "cell_type": "code",
   "source": "df.shape",
   "id": "c4ee7343207a638a",
   "outputs": [
    {
     "data": {
      "text/plain": [
       "(140160, 12)"
      ]
     },
     "execution_count": 3,
     "metadata": {},
     "output_type": "execute_result"
    }
   ],
   "execution_count": 3
  },
  {
   "metadata": {
    "ExecuteTime": {
     "end_time": "2024-09-17T17:25:55.878209Z",
     "start_time": "2024-09-17T17:25:55.822710Z"
    }
   },
   "cell_type": "code",
   "source": "df.describe()",
   "id": "a7fb0ccca9674d11",
   "outputs": [
    {
     "data": {
      "text/plain": [
       "shape: (9, 13)\n",
       "┌───────────┬───────────┬───────────┬──────────┬───┬───────────┬───────────┬───────────┬───────────┐\n",
       "│ statistic ┆           ┆ Time      ┆ Location ┆ … ┆ WD_10m    ┆ WD_100m   ┆ WG_10m    ┆ Power     │\n",
       "│ ---       ┆ ---       ┆ ---       ┆ ---      ┆   ┆ ---       ┆ ---       ┆ ---       ┆ ---       │\n",
       "│ str       ┆ f64       ┆ str       ┆ f64      ┆   ┆ f64       ┆ f64       ┆ f64       ┆ f64       │\n",
       "╞═══════════╪═══════════╪═══════════╪══════════╪═══╪═══════════╪═══════════╪═══════════╪═══════════╡\n",
       "│ count     ┆ 140160.0  ┆ 140160    ┆ 140160.0 ┆ … ┆ 140160.0  ┆ 140160.0  ┆ 140160.0  ┆ 140160.0  │\n",
       "│ null_coun ┆ 0.0       ┆ 0         ┆ 0.0      ┆ … ┆ 0.0       ┆ 0.0       ┆ 0.0       ┆ 0.0       │\n",
       "│ t         ┆           ┆           ┆          ┆   ┆           ┆           ┆           ┆           │\n",
       "│ mean      ┆ 17519.5   ┆ null      ┆ 2.5      ┆ … ┆ 200.68441 ┆ 200.64901 ┆ 8.027673  ┆ 0.312437  │\n",
       "│           ┆           ┆           ┆          ┆   ┆ 7         ┆           ┆           ┆           │\n",
       "│ std       ┆ 10115.212 ┆ null      ┆ 1.118038 ┆ … ┆ 100.07991 ┆ 101.10591 ┆ 3.626641  ┆ 0.253774  │\n",
       "│           ┆ 797       ┆           ┆          ┆   ┆ 7         ┆ 9         ┆           ┆           │\n",
       "│ min       ┆ 0.0       ┆ 01-01-201 ┆ 1.0      ┆ … ┆ 0.051683  ┆ -0.942685 ┆ 0.436515  ┆ -0.000004 │\n",
       "│           ┆           ┆ 4 00:00   ┆          ┆   ┆           ┆           ┆           ┆           │\n",
       "│ 25%       ┆ 8760.0    ┆ null      ┆ 2.0      ┆ … ┆ 128.05168 ┆ 127.05731 ┆ 5.236515  ┆ 0.099696  │\n",
       "│           ┆           ┆           ┆          ┆   ┆ 3         ┆ 5         ┆           ┆           │\n",
       "│ 50%       ┆ 17520.0   ┆ null      ┆ 3.0      ┆ … ┆ 211.05168 ┆ 211.05731 ┆ 7.636515  ┆ 0.246896  │\n",
       "│           ┆           ┆           ┆          ┆   ┆ 3         ┆ 5         ┆           ┆           │\n",
       "│ 75%       ┆ 26279.0   ┆ null      ┆ 3.0      ┆ … ┆ 287.05168 ┆ 289.05731 ┆ 10.236515 ┆ 0.486396  │\n",
       "│           ┆           ┆           ┆          ┆   ┆ 3         ┆ 5         ┆           ┆           │\n",
       "│ max       ┆ 35039.0   ┆ 31-12-201 ┆ 4.0      ┆ … ┆ 359.05168 ┆ 359.05731 ┆ 28.936515 ┆ 0.988796  │\n",
       "│           ┆           ┆ 6 23:00   ┆          ┆   ┆ 3         ┆ 5         ┆           ┆           │\n",
       "└───────────┴───────────┴───────────┴──────────┴───┴───────────┴───────────┴───────────┴───────────┘"
      ],
      "text/html": [
       "<div><style>\n",
       ".dataframe > thead > tr,\n",
       ".dataframe > tbody > tr {\n",
       "  text-align: right;\n",
       "  white-space: pre-wrap;\n",
       "}\n",
       "</style>\n",
       "<small>shape: (9, 13)</small><table border=\"1\" class=\"dataframe\"><thead><tr><th>statistic</th><th></th><th>Time</th><th>Location</th><th>Temp_2m</th><th>RelHum_2m</th><th>DP_2m</th><th>WS_10m</th><th>WS_100m</th><th>WD_10m</th><th>WD_100m</th><th>WG_10m</th><th>Power</th></tr><tr><td>str</td><td>f64</td><td>str</td><td>f64</td><td>f64</td><td>f64</td><td>f64</td><td>f64</td><td>f64</td><td>f64</td><td>f64</td><td>f64</td><td>f64</td></tr></thead><tbody><tr><td>&quot;count&quot;</td><td>140160.0</td><td>&quot;140160&quot;</td><td>140160.0</td><td>140160.0</td><td>140160.0</td><td>140160.0</td><td>140160.0</td><td>140160.0</td><td>140160.0</td><td>140160.0</td><td>140160.0</td><td>140160.0</td></tr><tr><td>&quot;null_count&quot;</td><td>0.0</td><td>&quot;0&quot;</td><td>0.0</td><td>0.0</td><td>0.0</td><td>0.0</td><td>0.0</td><td>0.0</td><td>0.0</td><td>0.0</td><td>0.0</td><td>0.0</td></tr><tr><td>&quot;mean&quot;</td><td>17519.5</td><td>null</td><td>2.5</td><td>45.912162</td><td>70.420512</td><td>35.867228</td><td>4.352948</td><td>6.924278</td><td>200.684417</td><td>200.64901</td><td>8.027673</td><td>0.312437</td></tr><tr><td>&quot;std&quot;</td><td>10115.212797</td><td>null</td><td>1.118038</td><td>21.930554</td><td>17.000203</td><td>20.97972</td><td>2.027149</td><td>3.056636</td><td>100.079917</td><td>101.105919</td><td>3.626641</td><td>0.253774</td></tr><tr><td>&quot;min&quot;</td><td>0.0</td><td>&quot;01-01-2014 00:00&quot;</td><td>1.0</td><td>-31.4204</td><td>8.664205</td><td>-36.627405</td><td>0.165389</td><td>0.007799</td><td>0.051683</td><td>-0.942685</td><td>0.436515</td><td>-0.000004</td></tr><tr><td>&quot;25%&quot;</td><td>8760.0</td><td>null</td><td>2.0</td><td>29.5796</td><td>57.664205</td><td>21.172595</td><td>2.815389</td><td>4.747799</td><td>128.051683</td><td>127.057315</td><td>5.236515</td><td>0.099696</td></tr><tr><td>&quot;50%&quot;</td><td>17520.0</td><td>null</td><td>3.0</td><td>45.8796</td><td>72.664205</td><td>35.672595</td><td>4.055389</td><td>6.717799</td><td>211.051683</td><td>211.057315</td><td>7.636515</td><td>0.246896</td></tr><tr><td>&quot;75%&quot;</td><td>26279.0</td><td>null</td><td>3.0</td><td>64.5796</td><td>84.664205</td><td>53.872595</td><td>5.575389</td><td>8.847799</td><td>287.051683</td><td>289.057315</td><td>10.236515</td><td>0.486396</td></tr><tr><td>&quot;max&quot;</td><td>35039.0</td><td>&quot;31-12-2016 23:00&quot;</td><td>4.0</td><td>94.4796</td><td>99.664205</td><td>78.272595</td><td>18.695389</td><td>24.597799</td><td>359.051683</td><td>359.057315</td><td>28.936515</td><td>0.988796</td></tr></tbody></table></div>"
      ]
     },
     "execution_count": 4,
     "metadata": {},
     "output_type": "execute_result"
    }
   ],
   "execution_count": 4
  },
  {
   "metadata": {
    "ExecuteTime": {
     "end_time": "2024-09-17T17:25:55.987310Z",
     "start_time": "2024-09-17T17:25:55.982672Z"
    }
   },
   "cell_type": "code",
   "source": "df.schema",
   "id": "e7a4c4e84864bd1f",
   "outputs": [
    {
     "data": {
      "text/plain": [
       "Schema([('', Int64),\n",
       "        ('Time', String),\n",
       "        ('Location', Int64),\n",
       "        ('Temp_2m', Float64),\n",
       "        ('RelHum_2m', Float64),\n",
       "        ('DP_2m', Float64),\n",
       "        ('WS_10m', Float64),\n",
       "        ('WS_100m', Float64),\n",
       "        ('WD_10m', Float64),\n",
       "        ('WD_100m', Float64),\n",
       "        ('WG_10m', Float64),\n",
       "        ('Power', Float64)])"
      ]
     },
     "execution_count": 5,
     "metadata": {},
     "output_type": "execute_result"
    }
   ],
   "execution_count": 5
  },
  {
   "metadata": {
    "ExecuteTime": {
     "end_time": "2024-09-17T17:25:56.061415Z",
     "start_time": "2024-09-17T17:25:56.055901Z"
    }
   },
   "cell_type": "code",
   "source": "df.select(pl.col('Power'))",
   "id": "ff1bb4ea2d8a686b",
   "outputs": [
    {
     "data": {
      "text/plain": [
       "shape: (140_160, 1)\n",
       "┌──────────┐\n",
       "│ Power    │\n",
       "│ ---      │\n",
       "│ f64      │\n",
       "╞══════════╡\n",
       "│ 0.163496 │\n",
       "│ 0.142396 │\n",
       "│ 0.121396 │\n",
       "│ 0.100296 │\n",
       "│ 0.079296 │\n",
       "│ …        │\n",
       "│ 0.288196 │\n",
       "│ 0.257896 │\n",
       "│ 0.227496 │\n",
       "│ 0.197196 │\n",
       "│ 0.166896 │\n",
       "└──────────┘"
      ],
      "text/html": [
       "<div><style>\n",
       ".dataframe > thead > tr,\n",
       ".dataframe > tbody > tr {\n",
       "  text-align: right;\n",
       "  white-space: pre-wrap;\n",
       "}\n",
       "</style>\n",
       "<small>shape: (140_160, 1)</small><table border=\"1\" class=\"dataframe\"><thead><tr><th>Power</th></tr><tr><td>f64</td></tr></thead><tbody><tr><td>0.163496</td></tr><tr><td>0.142396</td></tr><tr><td>0.121396</td></tr><tr><td>0.100296</td></tr><tr><td>0.079296</td></tr><tr><td>&hellip;</td></tr><tr><td>0.288196</td></tr><tr><td>0.257896</td></tr><tr><td>0.227496</td></tr><tr><td>0.197196</td></tr><tr><td>0.166896</td></tr></tbody></table></div>"
      ]
     },
     "execution_count": 6,
     "metadata": {},
     "output_type": "execute_result"
    }
   ],
   "execution_count": 6
  },
  {
   "metadata": {
    "ExecuteTime": {
     "end_time": "2024-09-17T17:25:56.222391Z",
     "start_time": "2024-09-17T17:25:56.217831Z"
    }
   },
   "cell_type": "code",
   "source": "df.head()",
   "id": "a980908d1a1b70da",
   "outputs": [
    {
     "data": {
      "text/plain": [
       "shape: (5, 12)\n",
       "┌─────┬──────────────────┬──────────┬─────────┬───┬────────────┬────────────┬──────────┬──────────┐\n",
       "│     ┆ Time             ┆ Location ┆ Temp_2m ┆ … ┆ WD_10m     ┆ WD_100m    ┆ WG_10m   ┆ Power    │\n",
       "│ --- ┆ ---              ┆ ---      ┆ ---     ┆   ┆ ---        ┆ ---        ┆ ---      ┆ ---      │\n",
       "│ i64 ┆ str              ┆ i64      ┆ f64     ┆   ┆ f64        ┆ f64        ┆ f64      ┆ f64      │\n",
       "╞═════╪══════════════════╪══════════╪═════════╪═══╪════════════╪════════════╪══════════╪══════════╡\n",
       "│ 0   ┆ 02-01-2013 00:00 ┆ 1        ┆ 28.2796 ┆ … ┆ 145.051683 ┆ 161.057315 ┆ 1.336515 ┆ 0.163496 │\n",
       "│ 1   ┆ 02-01-2013 01:00 ┆ 1        ┆ 28.1796 ┆ … ┆ 150.051683 ┆ 157.057315 ┆ 4.336515 ┆ 0.142396 │\n",
       "│ 2   ┆ 02-01-2013 02:00 ┆ 1        ┆ 26.5796 ┆ … ┆ 147.051683 ┆ 149.057315 ┆ 3.136515 ┆ 0.121396 │\n",
       "│ 3   ┆ 02-01-2013 03:00 ┆ 1        ┆ 27.1796 ┆ … ┆ 57.051683  ┆ 104.057315 ┆ 1.536515 ┆ 0.100296 │\n",
       "│ 4   ┆ 02-01-2013 04:00 ┆ 1        ┆ 27.0796 ┆ … ┆ 57.051683  ┆ 83.057315  ┆ 3.936515 ┆ 0.079296 │\n",
       "└─────┴──────────────────┴──────────┴─────────┴───┴────────────┴────────────┴──────────┴──────────┘"
      ],
      "text/html": [
       "<div><style>\n",
       ".dataframe > thead > tr,\n",
       ".dataframe > tbody > tr {\n",
       "  text-align: right;\n",
       "  white-space: pre-wrap;\n",
       "}\n",
       "</style>\n",
       "<small>shape: (5, 12)</small><table border=\"1\" class=\"dataframe\"><thead><tr><th></th><th>Time</th><th>Location</th><th>Temp_2m</th><th>RelHum_2m</th><th>DP_2m</th><th>WS_10m</th><th>WS_100m</th><th>WD_10m</th><th>WD_100m</th><th>WG_10m</th><th>Power</th></tr><tr><td>i64</td><td>str</td><td>i64</td><td>f64</td><td>f64</td><td>f64</td><td>f64</td><td>f64</td><td>f64</td><td>f64</td><td>f64</td><td>f64</td></tr></thead><tbody><tr><td>0</td><td>&quot;02-01-2013 00:00&quot;</td><td>1</td><td>28.2796</td><td>84.664205</td><td>24.072595</td><td>1.605389</td><td>1.267799</td><td>145.051683</td><td>161.057315</td><td>1.336515</td><td>0.163496</td></tr><tr><td>1</td><td>&quot;02-01-2013 01:00&quot;</td><td>1</td><td>28.1796</td><td>85.664205</td><td>24.272595</td><td>2.225389</td><td>3.997799</td><td>150.051683</td><td>157.057315</td><td>4.336515</td><td>0.142396</td></tr><tr><td>2</td><td>&quot;02-01-2013 02:00&quot;</td><td>1</td><td>26.5796</td><td>90.664205</td><td>24.072595</td><td>1.465389</td><td>2.787799</td><td>147.051683</td><td>149.057315</td><td>3.136515</td><td>0.121396</td></tr><tr><td>3</td><td>&quot;02-01-2013 03:00&quot;</td><td>1</td><td>27.1796</td><td>87.664205</td><td>23.872595</td><td>1.465389</td><td>2.697799</td><td>57.051683</td><td>104.057315</td><td>1.536515</td><td>0.100296</td></tr><tr><td>4</td><td>&quot;02-01-2013 04:00&quot;</td><td>1</td><td>27.0796</td><td>87.664205</td><td>23.672595</td><td>2.635389</td><td>4.437799</td><td>57.051683</td><td>83.057315</td><td>3.936515</td><td>0.079296</td></tr></tbody></table></div>"
      ]
     },
     "execution_count": 7,
     "metadata": {},
     "output_type": "execute_result"
    }
   ],
   "execution_count": 7
  },
  {
   "metadata": {
    "ExecuteTime": {
     "end_time": "2024-09-17T17:25:56.735179Z",
     "start_time": "2024-09-17T17:25:56.730292Z"
    }
   },
   "cell_type": "code",
   "source": "df.select(pl.col('Power'))",
   "id": "79c3167b48f301a3",
   "outputs": [
    {
     "data": {
      "text/plain": [
       "shape: (140_160, 1)\n",
       "┌──────────┐\n",
       "│ Power    │\n",
       "│ ---      │\n",
       "│ f64      │\n",
       "╞══════════╡\n",
       "│ 0.163496 │\n",
       "│ 0.142396 │\n",
       "│ 0.121396 │\n",
       "│ 0.100296 │\n",
       "│ 0.079296 │\n",
       "│ …        │\n",
       "│ 0.288196 │\n",
       "│ 0.257896 │\n",
       "│ 0.227496 │\n",
       "│ 0.197196 │\n",
       "│ 0.166896 │\n",
       "└──────────┘"
      ],
      "text/html": [
       "<div><style>\n",
       ".dataframe > thead > tr,\n",
       ".dataframe > tbody > tr {\n",
       "  text-align: right;\n",
       "  white-space: pre-wrap;\n",
       "}\n",
       "</style>\n",
       "<small>shape: (140_160, 1)</small><table border=\"1\" class=\"dataframe\"><thead><tr><th>Power</th></tr><tr><td>f64</td></tr></thead><tbody><tr><td>0.163496</td></tr><tr><td>0.142396</td></tr><tr><td>0.121396</td></tr><tr><td>0.100296</td></tr><tr><td>0.079296</td></tr><tr><td>&hellip;</td></tr><tr><td>0.288196</td></tr><tr><td>0.257896</td></tr><tr><td>0.227496</td></tr><tr><td>0.197196</td></tr><tr><td>0.166896</td></tr></tbody></table></div>"
      ]
     },
     "execution_count": 8,
     "metadata": {},
     "output_type": "execute_result"
    }
   ],
   "execution_count": 8
  },
  {
   "metadata": {
    "ExecuteTime": {
     "end_time": "2024-09-17T17:25:56.794386Z",
     "start_time": "2024-09-17T17:25:56.782275Z"
    }
   },
   "cell_type": "code",
   "source": "unique_values = df.select(pl.col('Power')).unique()",
   "id": "bb761dda2f9cad6a",
   "outputs": [],
   "execution_count": 9
  },
  {
   "metadata": {
    "ExecuteTime": {
     "end_time": "2024-09-17T17:25:56.965892Z",
     "start_time": "2024-09-17T17:25:56.961762Z"
    }
   },
   "cell_type": "code",
   "source": "unique_values",
   "id": "c0e2eee7c9973e47",
   "outputs": [
    {
     "data": {
      "text/plain": [
       "shape: (9_777, 1)\n",
       "┌──────────┐\n",
       "│ Power    │\n",
       "│ ---      │\n",
       "│ f64      │\n",
       "╞══════════╡\n",
       "│ 0.891196 │\n",
       "│ 0.344296 │\n",
       "│ 0.843596 │\n",
       "│ 0.723396 │\n",
       "│ 0.302496 │\n",
       "│ …        │\n",
       "│ 0.305796 │\n",
       "│ 0.612896 │\n",
       "│ 0.787496 │\n",
       "│ 0.431596 │\n",
       "│ 0.136496 │\n",
       "└──────────┘"
      ],
      "text/html": [
       "<div><style>\n",
       ".dataframe > thead > tr,\n",
       ".dataframe > tbody > tr {\n",
       "  text-align: right;\n",
       "  white-space: pre-wrap;\n",
       "}\n",
       "</style>\n",
       "<small>shape: (9_777, 1)</small><table border=\"1\" class=\"dataframe\"><thead><tr><th>Power</th></tr><tr><td>f64</td></tr></thead><tbody><tr><td>0.891196</td></tr><tr><td>0.344296</td></tr><tr><td>0.843596</td></tr><tr><td>0.723396</td></tr><tr><td>0.302496</td></tr><tr><td>&hellip;</td></tr><tr><td>0.305796</td></tr><tr><td>0.612896</td></tr><tr><td>0.787496</td></tr><tr><td>0.431596</td></tr><tr><td>0.136496</td></tr></tbody></table></div>"
      ]
     },
     "execution_count": 10,
     "metadata": {},
     "output_type": "execute_result"
    }
   ],
   "execution_count": 10
  },
  {
   "metadata": {
    "ExecuteTime": {
     "end_time": "2024-09-17T17:25:57.096585Z",
     "start_time": "2024-09-17T17:25:57.092559Z"
    }
   },
   "cell_type": "code",
   "source": "df.glimpse()",
   "id": "ed7709f44d86a058",
   "outputs": [
    {
     "name": "stdout",
     "output_type": "stream",
     "text": [
      "Rows: 140160\n",
      "Columns: 12\n",
      "$           <i64> 0, 1, 2, 3, 4, 5, 6, 7, 8, 9\n",
      "$ Time      <str> '02-01-2013 00:00', '02-01-2013 01:00', '02-01-2013 02:00', '02-01-2013 03:00', '02-01-2013 04:00', '02-01-2013 05:00', '02-01-2013 06:00', '02-01-2013 07:00', '02-01-2013 08:00', '02-01-2013 09:00'\n",
      "$ Location  <i64> 1, 1, 1, 1, 1, 1, 1, 1, 1, 1\n",
      "$ Temp_2m   <f64> 28.27960022, 28.17960022, 26.57960022, 27.17960022, 27.07960022, 27.37960022, 26.47960022, 28.17960022, 29.97960022, 33.77960022\n",
      "$ RelHum_2m <f64> 84.66420479, 85.66420479, 90.66420479, 87.66420479, 87.66420479, 89.66420479, 91.66420479, 90.66420479, 87.66420479, 81.66420479\n",
      "$ DP_2m     <f64> 24.07259522, 24.27259522, 24.07259522, 23.87259522, 23.67259522, 24.77259522, 24.47259522, 25.67259522, 26.57259522, 28.67259522\n",
      "$ WS_10m    <f64> 1.605389169, 2.225389169, 1.465389169, 1.465389169, 2.635389169, 2.895389169, 2.265389169, 3.265389169, 3.705389169, 3.605389169\n",
      "$ WS_100m   <f64> 1.267799417, 3.997799417, 2.787799417, 2.697799417, 4.437799417, 5.597799417, 5.827799417, 6.247799417, 6.897799417, 6.017799417\n",
      "$ WD_10m    <f64> 145.0516826, 150.0516826, 147.0516826, 57.05168257, 57.05168257, 65.05168257, 64.05168257, 68.05168257, 73.05168257, 81.05168257\n",
      "$ WD_100m   <f64> 161.0573147, 157.0573147, 149.0573147, 104.0573147, 83.0573147, 79.0573147, 77.0573147, 77.0573147, 80.0573147, 85.0573147\n",
      "$ WG_10m    <f64> 1.336515074, 4.336515074, 3.136515074, 1.536515074, 3.936515074, 4.436515074, 4.636515074, 4.736515074, 5.736515074, 6.436515074\n",
      "$ Power     <f64> 0.163495886, 0.142395886, 0.121395886, 0.100295886, 0.079295886, 0.077795886, 0.095895886, 0.114095886, 0.132195886, 0.150295886\n",
      "\n"
     ]
    }
   ],
   "execution_count": 11
  },
  {
   "metadata": {
    "ExecuteTime": {
     "end_time": "2024-09-17T17:25:57.311065Z",
     "start_time": "2024-09-17T17:25:57.292354Z"
    }
   },
   "cell_type": "code",
   "source": "df.unique(subset=['Time'])",
   "id": "6f0f8824bb2cc072",
   "outputs": [
    {
     "data": {
      "text/plain": [
       "shape: (35_040, 12)\n",
       "┌───────┬────────────┬──────────┬─────────┬───┬────────────┬────────────┬───────────┬──────────┐\n",
       "│       ┆ Time       ┆ Location ┆ Temp_2m ┆ … ┆ WD_10m     ┆ WD_100m    ┆ WG_10m    ┆ Power    │\n",
       "│ ---   ┆ ---        ┆ ---      ┆ ---     ┆   ┆ ---        ┆ ---        ┆ ---       ┆ ---      │\n",
       "│ i64   ┆ str        ┆ i64      ┆ f64     ┆   ┆ f64        ┆ f64        ┆ f64       ┆ f64      │\n",
       "╞═══════╪════════════╪══════════╪═════════╪═══╪════════════╪════════════╪═══════════╪══════════╡\n",
       "│ 2389  ┆ 11-04-2013 ┆ 1        ┆ 64.2796 ┆ … ┆ 267.051683 ┆ 264.057315 ┆ 13.436515 ┆ 0.297496 │\n",
       "│       ┆ 13:00      ┆          ┆         ┆   ┆            ┆            ┆           ┆          │\n",
       "│ 31774 ┆ 17-08-2016 ┆ 1        ┆ 62.2796 ┆ … ┆ 320.051683 ┆ 347.057315 ┆ 3.136515  ┆ 0.114996 │\n",
       "│       ┆ 22:00      ┆          ┆         ┆   ┆            ┆            ┆           ┆          │\n",
       "│ 10163 ┆ 01-03-2014 ┆ 1        ┆ 34.2796 ┆ … ┆ 41.051683  ┆ 41.057315  ┆ 10.536515 ┆ 0.546496 │\n",
       "│       ┆ 11:00      ┆          ┆         ┆   ┆            ┆            ┆           ┆          │\n",
       "│ 10365 ┆ 09-03-2014 ┆ 1        ┆ 23.7796 ┆ … ┆ 298.051683 ┆ 313.057315 ┆ 4.836515  ┆ 0.178996 │\n",
       "│       ┆ 21:00      ┆          ┆         ┆   ┆            ┆            ┆           ┆          │\n",
       "│ 29899 ┆ 31-05-2016 ┆ 1        ┆ 56.0796 ┆ … ┆ 251.051683 ┆ 251.057315 ┆ 8.036515  ┆ 0.479196 │\n",
       "│       ┆ 19:00      ┆          ┆         ┆   ┆            ┆            ┆           ┆          │\n",
       "│ …     ┆ …          ┆ …        ┆ …       ┆ … ┆ …          ┆ …          ┆ …         ┆ …        │\n",
       "│ 2194  ┆ 03-04-2013 ┆ 1        ┆ 53.9796 ┆ … ┆ 118.051683 ┆ 120.057315 ┆ 11.736515 ┆ 0.767896 │\n",
       "│       ┆ 10:00      ┆          ┆         ┆   ┆            ┆            ┆           ┆          │\n",
       "│ 14866 ┆ 13-09-2014 ┆ 1        ┆ 71.4796 ┆ … ┆ 81.051683  ┆ 83.057315  ┆ 6.436515  ┆ 0.082896 │\n",
       "│       ┆ 10:00      ┆          ┆         ┆   ┆            ┆            ┆           ┆          │\n",
       "│ 15405 ┆ 05-10-2014 ┆ 1        ┆ 54.1796 ┆ … ┆ 153.051683 ┆ 155.057315 ┆ 6.036515  ┆ 0.357196 │\n",
       "│       ┆ 21:00      ┆          ┆         ┆   ┆            ┆            ┆           ┆          │\n",
       "│ 12613 ┆ 11-06-2014 ┆ 1        ┆ 73.6796 ┆ … ┆ 82.051683  ┆ 84.057315  ┆ 10.736515 ┆ 0.446696 │\n",
       "│       ┆ 13:00      ┆          ┆         ┆   ┆            ┆            ┆           ┆          │\n",
       "│ 21419 ┆ 13-06-2015 ┆ 1        ┆ 57.9796 ┆ … ┆ 336.051683 ┆ 341.057315 ┆ 8.936515  ┆ 0.228296 │\n",
       "│       ┆ 11:00      ┆          ┆         ┆   ┆            ┆            ┆           ┆          │\n",
       "└───────┴────────────┴──────────┴─────────┴───┴────────────┴────────────┴───────────┴──────────┘"
      ],
      "text/html": [
       "<div><style>\n",
       ".dataframe > thead > tr,\n",
       ".dataframe > tbody > tr {\n",
       "  text-align: right;\n",
       "  white-space: pre-wrap;\n",
       "}\n",
       "</style>\n",
       "<small>shape: (35_040, 12)</small><table border=\"1\" class=\"dataframe\"><thead><tr><th></th><th>Time</th><th>Location</th><th>Temp_2m</th><th>RelHum_2m</th><th>DP_2m</th><th>WS_10m</th><th>WS_100m</th><th>WD_10m</th><th>WD_100m</th><th>WG_10m</th><th>Power</th></tr><tr><td>i64</td><td>str</td><td>i64</td><td>f64</td><td>f64</td><td>f64</td><td>f64</td><td>f64</td><td>f64</td><td>f64</td><td>f64</td><td>f64</td></tr></thead><tbody><tr><td>2389</td><td>&quot;11-04-2013 13:00&quot;</td><td>1</td><td>64.2796</td><td>46.664205</td><td>43.572595</td><td>5.665389</td><td>7.627799</td><td>267.051683</td><td>264.057315</td><td>13.436515</td><td>0.297496</td></tr><tr><td>31774</td><td>&quot;17-08-2016 22:00&quot;</td><td>1</td><td>62.2796</td><td>93.664205</td><td>60.272595</td><td>2.085389</td><td>4.307799</td><td>320.051683</td><td>347.057315</td><td>3.136515</td><td>0.114996</td></tr><tr><td>10163</td><td>&quot;01-03-2014 11:00&quot;</td><td>1</td><td>34.2796</td><td>81.664205</td><td>29.072595</td><td>5.125389</td><td>7.377799</td><td>41.051683</td><td>41.057315</td><td>10.536515</td><td>0.546496</td></tr><tr><td>10365</td><td>&quot;09-03-2014 21:00&quot;</td><td>1</td><td>23.7796</td><td>83.664205</td><td>19.472595</td><td>2.445389</td><td>5.947799</td><td>298.051683</td><td>313.057315</td><td>4.836515</td><td>0.178996</td></tr><tr><td>29899</td><td>&quot;31-05-2016 19:00&quot;</td><td>1</td><td>56.0796</td><td>52.664205</td><td>39.072595</td><td>3.735389</td><td>7.377799</td><td>251.051683</td><td>251.057315</td><td>8.036515</td><td>0.479196</td></tr><tr><td>&hellip;</td><td>&hellip;</td><td>&hellip;</td><td>&hellip;</td><td>&hellip;</td><td>&hellip;</td><td>&hellip;</td><td>&hellip;</td><td>&hellip;</td><td>&hellip;</td><td>&hellip;</td><td>&hellip;</td></tr><tr><td>2194</td><td>&quot;03-04-2013 10:00&quot;</td><td>1</td><td>53.9796</td><td>46.664205</td><td>34.172595</td><td>5.675389</td><td>8.167799</td><td>118.051683</td><td>120.057315</td><td>11.736515</td><td>0.767896</td></tr><tr><td>14866</td><td>&quot;13-09-2014 10:00&quot;</td><td>1</td><td>71.4796</td><td>73.664205</td><td>62.372595</td><td>2.285389</td><td>2.927799</td><td>81.051683</td><td>83.057315</td><td>6.436515</td><td>0.082896</td></tr><tr><td>15405</td><td>&quot;05-10-2014 21:00&quot;</td><td>1</td><td>54.1796</td><td>94.664205</td><td>52.472595</td><td>3.165389</td><td>6.007799</td><td>153.051683</td><td>155.057315</td><td>6.036515</td><td>0.357196</td></tr><tr><td>12613</td><td>&quot;11-06-2014 13:00&quot;</td><td>1</td><td>73.6796</td><td>33.664205</td><td>43.572595</td><td>4.295389</td><td>5.727799</td><td>82.051683</td><td>84.057315</td><td>10.736515</td><td>0.446696</td></tr><tr><td>21419</td><td>&quot;13-06-2015 11:00&quot;</td><td>1</td><td>57.9796</td><td>77.664205</td><td>51.172595</td><td>4.195389</td><td>5.887799</td><td>336.051683</td><td>341.057315</td><td>8.936515</td><td>0.228296</td></tr></tbody></table></div>"
      ]
     },
     "execution_count": 12,
     "metadata": {},
     "output_type": "execute_result"
    }
   ],
   "execution_count": 12
  },
  {
   "metadata": {
    "ExecuteTime": {
     "end_time": "2024-09-17T17:25:57.407134Z",
     "start_time": "2024-09-17T17:25:57.401656Z"
    }
   },
   "cell_type": "code",
   "source": "df.select(pl.col('Temp_2m').sort(descending=True))",
   "id": "27700cff0a30ca0d",
   "outputs": [
    {
     "data": {
      "text/plain": [
       "shape: (140_160, 1)\n",
       "┌──────────┐\n",
       "│ Temp_2m  │\n",
       "│ ---      │\n",
       "│ f64      │\n",
       "╞══════════╡\n",
       "│ 94.4796  │\n",
       "│ 94.3796  │\n",
       "│ 94.2796  │\n",
       "│ 94.1796  │\n",
       "│ 94.0796  │\n",
       "│ …        │\n",
       "│ -30.7204 │\n",
       "│ -30.7204 │\n",
       "│ -30.7204 │\n",
       "│ -31.0204 │\n",
       "│ -31.4204 │\n",
       "└──────────┘"
      ],
      "text/html": [
       "<div><style>\n",
       ".dataframe > thead > tr,\n",
       ".dataframe > tbody > tr {\n",
       "  text-align: right;\n",
       "  white-space: pre-wrap;\n",
       "}\n",
       "</style>\n",
       "<small>shape: (140_160, 1)</small><table border=\"1\" class=\"dataframe\"><thead><tr><th>Temp_2m</th></tr><tr><td>f64</td></tr></thead><tbody><tr><td>94.4796</td></tr><tr><td>94.3796</td></tr><tr><td>94.2796</td></tr><tr><td>94.1796</td></tr><tr><td>94.0796</td></tr><tr><td>&hellip;</td></tr><tr><td>-30.7204</td></tr><tr><td>-30.7204</td></tr><tr><td>-30.7204</td></tr><tr><td>-31.0204</td></tr><tr><td>-31.4204</td></tr></tbody></table></div>"
      ]
     },
     "execution_count": 13,
     "metadata": {},
     "output_type": "execute_result"
    }
   ],
   "execution_count": 13
  },
  {
   "metadata": {
    "ExecuteTime": {
     "end_time": "2024-09-17T17:25:57.543761Z",
     "start_time": "2024-09-17T17:25:57.541808Z"
    }
   },
   "cell_type": "code",
   "source": "",
   "id": "76c24ae0c67813d3",
   "outputs": [],
   "execution_count": null
  }
 ],
 "metadata": {
  "kernelspec": {
   "display_name": "Python 3",
   "language": "python",
   "name": "python3"
  },
  "language_info": {
   "codemirror_mode": {
    "name": "ipython",
    "version": 2
   },
   "file_extension": ".py",
   "mimetype": "text/x-python",
   "name": "python",
   "nbconvert_exporter": "python",
   "pygments_lexer": "ipython2",
   "version": "2.7.6"
  }
 },
 "nbformat": 4,
 "nbformat_minor": 5
}
