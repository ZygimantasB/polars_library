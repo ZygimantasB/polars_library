{
 "cells": [
  {
   "metadata": {
    "ExecuteTime": {
     "end_time": "2025-01-17T16:22:01.947697Z",
     "start_time": "2025-01-17T16:22:01.944388Z"
    }
   },
   "cell_type": "code",
   "source": [
    "import polars as pl\n",
    "import glob"
   ],
   "id": "82014bdd4ca790e2",
   "outputs": [],
   "execution_count": 10
  },
  {
   "metadata": {
    "ExecuteTime": {
     "end_time": "2025-01-17T15:12:38.228366Z",
     "start_time": "2025-01-17T15:12:38.225769Z"
    }
   },
   "cell_type": "code",
   "source": [
    "df_path = r\"F:\\Datasets\\work\\Asseco\\Logai\\Gate\\gate.log-20241211\\gate.log-20240921\"\n",
    "df_path1 = r\"F:\\Datasets\\work\\Asseco\\Logai\\Gate\\gate.log-20241211\\gate.log-20240922\"\n",
    "df_path2 = r\"F:\\Datasets\\work\\Asseco\\Logai\\Gate\\gate.log-20241211\\gate.log-20240923\"\n",
    "df_path3 = r\"F:\\Datasets\\work\\Asseco\\Logai\\Gate\\gate.log-20241211\\gate.log-20240924\""
   ],
   "id": "4226a10edaa5963b",
   "outputs": [],
   "execution_count": 17
  },
  {
   "metadata": {
    "ExecuteTime": {
     "end_time": "2025-01-17T15:12:42.863Z",
     "start_time": "2025-01-17T15:12:42.859709Z"
    }
   },
   "cell_type": "code",
   "source": "files_path = glob.glob(df_path) + glob.glob(df_path1) + glob.glob(df_path2) + glob.glob(df_path3)",
   "id": "98907d948e335f1c",
   "outputs": [],
   "execution_count": 19
  },
  {
   "metadata": {
    "ExecuteTime": {
     "end_time": "2025-01-17T15:12:54.313867Z",
     "start_time": "2025-01-17T15:12:43.761558Z"
    }
   },
   "cell_type": "code",
   "source": [
    "data = []\n",
    "\n",
    "for file_path in files_path:\n",
    "    with open(file_path, \"r\", encoding='utf-8') as file:\n",
    "        data.extend(file.readlines())"
   ],
   "id": "764e8686a401049f",
   "outputs": [],
   "execution_count": 20
  },
  {
   "metadata": {
    "ExecuteTime": {
     "end_time": "2025-01-17T15:12:56.115406Z",
     "start_time": "2025-01-17T15:12:54.322642Z"
    }
   },
   "cell_type": "code",
   "source": [
    "pl.DataFrame({\n",
    "    'LogData': data\n",
    "})"
   ],
   "id": "45e89c4748a1f175",
   "outputs": [
    {
     "data": {
      "text/plain": [
       "shape: (6_225_109, 1)\n",
       "┌─────────────────────────────────┐\n",
       "│ LogData                         │\n",
       "│ ---                             │\n",
       "│ str                             │\n",
       "╞═════════════════════════════════╡\n",
       "│ Sep 20 03:40:25 gate.sintagma.… │\n",
       "│ Sep 20 03:40:25 gate.sintagma.… │\n",
       "│ Sep 20 03:40:25 gate.sintagma.… │\n",
       "│ Sep 20 03:40:25 gate.sintagma.… │\n",
       "│ Sep 20 03:40:25 gate.sintagma.… │\n",
       "│ …                               │\n",
       "│ Sep 24 03:47:07 gate.sintagma.… │\n",
       "│ Sep 24 03:47:07 gate.sintagma.… │\n",
       "│ Sep 24 03:47:07 gate.sintagma.… │\n",
       "│ Sep 24 03:47:07 gate.sintagma.… │\n",
       "│ Sep 24 03:47:07 gate.sintagma.… │\n",
       "└─────────────────────────────────┘"
      ],
      "text/html": [
       "<div><style>\n",
       ".dataframe > thead > tr,\n",
       ".dataframe > tbody > tr {\n",
       "  text-align: right;\n",
       "  white-space: pre-wrap;\n",
       "}\n",
       "</style>\n",
       "<small>shape: (6_225_109, 1)</small><table border=\"1\" class=\"dataframe\"><thead><tr><th>LogData</th></tr><tr><td>str</td></tr></thead><tbody><tr><td>&quot;Sep 20 03:40:25 gate.sintagma.…</td></tr><tr><td>&quot;Sep 20 03:40:25 gate.sintagma.…</td></tr><tr><td>&quot;Sep 20 03:40:25 gate.sintagma.…</td></tr><tr><td>&quot;Sep 20 03:40:25 gate.sintagma.…</td></tr><tr><td>&quot;Sep 20 03:40:25 gate.sintagma.…</td></tr><tr><td>&hellip;</td></tr><tr><td>&quot;Sep 24 03:47:07 gate.sintagma.…</td></tr><tr><td>&quot;Sep 24 03:47:07 gate.sintagma.…</td></tr><tr><td>&quot;Sep 24 03:47:07 gate.sintagma.…</td></tr><tr><td>&quot;Sep 24 03:47:07 gate.sintagma.…</td></tr><tr><td>&quot;Sep 24 03:47:07 gate.sintagma.…</td></tr></tbody></table></div>"
      ]
     },
     "execution_count": 21,
     "metadata": {},
     "output_type": "execute_result"
    }
   ],
   "execution_count": 21
  },
  {
   "metadata": {},
   "cell_type": "code",
   "outputs": [],
   "execution_count": null,
   "source": "",
   "id": "20392bf92ab7fe56"
  }
 ],
 "metadata": {
  "kernelspec": {
   "display_name": "Python 3",
   "language": "python",
   "name": "python3"
  },
  "language_info": {
   "codemirror_mode": {
    "name": "ipython",
    "version": 2
   },
   "file_extension": ".py",
   "mimetype": "text/x-python",
   "name": "python",
   "nbconvert_exporter": "python",
   "pygments_lexer": "ipython2",
   "version": "2.7.6"
  }
 },
 "nbformat": 4,
 "nbformat_minor": 5
}
