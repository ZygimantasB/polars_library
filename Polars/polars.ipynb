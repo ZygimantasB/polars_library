{
 "cells": [
  {
   "cell_type": "code",
   "id": "initial_id",
   "metadata": {
    "collapsed": true,
    "ExecuteTime": {
     "end_time": "2024-08-26T15:42:19.826133Z",
     "start_time": "2024-08-26T15:42:19.822628Z"
    }
   },
   "source": [
    "import polars as pl\n",
    "import numpy as np\n",
    "\n",
    "import ipaddress\n",
    "\n",
    "from pathlib import Path"
   ],
   "outputs": [],
   "execution_count": 73
  },
  {
   "metadata": {
    "ExecuteTime": {
     "end_time": "2024-08-26T15:42:19.852168Z",
     "start_time": "2024-08-26T15:42:19.848690Z"
    }
   },
   "cell_type": "code",
   "source": "df_path = Path.cwd() / '..' / 'data' / 'random_ip_addresses.csv'",
   "id": "b4cbfd6d613cca68",
   "outputs": [],
   "execution_count": 74
  },
  {
   "metadata": {
    "ExecuteTime": {
     "end_time": "2024-08-26T15:42:19.862457Z",
     "start_time": "2024-08-26T15:42:19.859102Z"
    }
   },
   "cell_type": "code",
   "source": "df = pl.read_csv(df_path)",
   "id": "94b90ac8b81a6a72",
   "outputs": [],
   "execution_count": 75
  },
  {
   "metadata": {
    "ExecuteTime": {
     "end_time": "2024-08-26T15:42:19.874075Z",
     "start_time": "2024-08-26T15:42:19.869382Z"
    }
   },
   "cell_type": "code",
   "source": "df",
   "id": "6b5438965c28446e",
   "outputs": [
    {
     "data": {
      "text/plain": [
       "shape: (106, 1)\n",
       "┌────────────────┐\n",
       "│ IP Address     │\n",
       "│ ---            │\n",
       "│ str            │\n",
       "╞════════════════╡\n",
       "│ 253.152.48.147 │\n",
       "│ 190.95.77.203  │\n",
       "│ 255.204.206.41 │\n",
       "│ 186.136.15.0   │\n",
       "│ 114.92.137.173 │\n",
       "│ …              │\n",
       "│ moo.com        │\n",
       "│ helloo.com     │\n",
       "│ testing.com    │\n",
       "│ omg.com        │\n",
       "│ angel.com      │\n",
       "└────────────────┘"
      ],
      "text/html": [
       "<div><style>\n",
       ".dataframe > thead > tr,\n",
       ".dataframe > tbody > tr {\n",
       "  text-align: right;\n",
       "  white-space: pre-wrap;\n",
       "}\n",
       "</style>\n",
       "<small>shape: (106, 1)</small><table border=\"1\" class=\"dataframe\"><thead><tr><th>IP Address</th></tr><tr><td>str</td></tr></thead><tbody><tr><td>&quot;253.152.48.147&quot;</td></tr><tr><td>&quot;190.95.77.203&quot;</td></tr><tr><td>&quot;255.204.206.41&quot;</td></tr><tr><td>&quot;186.136.15.0&quot;</td></tr><tr><td>&quot;114.92.137.173&quot;</td></tr><tr><td>&hellip;</td></tr><tr><td>&quot;moo.com&quot;</td></tr><tr><td>&quot;helloo.com&quot;</td></tr><tr><td>&quot;testing.com&quot;</td></tr><tr><td>&quot;omg.com&quot;</td></tr><tr><td>&quot;angel.com&quot;</td></tr></tbody></table></div>"
      ]
     },
     "execution_count": 76,
     "metadata": {},
     "output_type": "execute_result"
    }
   ],
   "execution_count": 76
  },
  {
   "metadata": {
    "ExecuteTime": {
     "end_time": "2024-08-26T15:42:19.898927Z",
     "start_time": "2024-08-26T15:42:19.896046Z"
    }
   },
   "cell_type": "code",
   "source": [
    "def determine_ip_type(ip):\n",
    "    try:\n",
    "        ip_obj = ipaddress.ip_address(ip)\n",
    "        if ip_obj.is_private:\n",
    "            return 'Private'\n",
    "        else:\n",
    "            return 'Public'\n",
    "    except ValueError:\n",
    "        return 'Not an IP Address'"
   ],
   "id": "156ed3eb87706d92",
   "outputs": [],
   "execution_count": 77
  },
  {
   "metadata": {
    "ExecuteTime": {
     "end_time": "2024-08-26T15:48:27.556167Z",
     "start_time": "2024-08-26T15:48:27.551677Z"
    }
   },
   "cell_type": "code",
   "source": "determinate_ip_type = df.select(pl.col('IP Address').map_elements(determine_ip_type, return_dtype=pl.Utf8))",
   "id": "da0fb9fa0eca55a4",
   "outputs": [],
   "execution_count": 85
  },
  {
   "metadata": {
    "ExecuteTime": {
     "end_time": "2024-08-26T15:48:27.990805Z",
     "start_time": "2024-08-26T15:48:27.985806Z"
    }
   },
   "cell_type": "code",
   "source": [
    "df = df.with_columns(\n",
    "    pl.col('IP Address').map_elements(determine_ip_type, return_dtype=pl.Utf8).alias('IP_Type')\n",
    ")"
   ],
   "id": "d7b4ccabaffa38ee",
   "outputs": [],
   "execution_count": 86
  },
  {
   "metadata": {
    "ExecuteTime": {
     "end_time": "2024-08-26T15:42:55.154328Z",
     "start_time": "2024-08-26T15:42:55.149359Z"
    }
   },
   "cell_type": "code",
   "source": "df.filter(pl.col('IP_Type') == \"Not an IP Address\")",
   "id": "d8b27e5f3488ea04",
   "outputs": [
    {
     "data": {
      "text/plain": [
       "shape: (6, 2)\n",
       "┌─────────────┬───────────────────┐\n",
       "│ IP Address  ┆ IP_Type           │\n",
       "│ ---         ┆ ---               │\n",
       "│ str         ┆ str               │\n",
       "╞═════════════╪═══════════════════╡\n",
       "│ localhost   ┆ Not an IP Address │\n",
       "│ moo.com     ┆ Not an IP Address │\n",
       "│ helloo.com  ┆ Not an IP Address │\n",
       "│ testing.com ┆ Not an IP Address │\n",
       "│ omg.com     ┆ Not an IP Address │\n",
       "│ angel.com   ┆ Not an IP Address │\n",
       "└─────────────┴───────────────────┘"
      ],
      "text/html": [
       "<div><style>\n",
       ".dataframe > thead > tr,\n",
       ".dataframe > tbody > tr {\n",
       "  text-align: right;\n",
       "  white-space: pre-wrap;\n",
       "}\n",
       "</style>\n",
       "<small>shape: (6, 2)</small><table border=\"1\" class=\"dataframe\"><thead><tr><th>IP Address</th><th>IP_Type</th></tr><tr><td>str</td><td>str</td></tr></thead><tbody><tr><td>&quot;localhost&quot;</td><td>&quot;Not an IP Address&quot;</td></tr><tr><td>&quot;moo.com&quot;</td><td>&quot;Not an IP Address&quot;</td></tr><tr><td>&quot;helloo.com&quot;</td><td>&quot;Not an IP Address&quot;</td></tr><tr><td>&quot;testing.com&quot;</td><td>&quot;Not an IP Address&quot;</td></tr><tr><td>&quot;omg.com&quot;</td><td>&quot;Not an IP Address&quot;</td></tr><tr><td>&quot;angel.com&quot;</td><td>&quot;Not an IP Address&quot;</td></tr></tbody></table></div>"
      ]
     },
     "execution_count": 82,
     "metadata": {},
     "output_type": "execute_result"
    }
   ],
   "execution_count": 82
  },
  {
   "metadata": {},
   "cell_type": "code",
   "outputs": [],
   "execution_count": null,
   "source": "",
   "id": "bc8c4c7feab741a1"
  }
 ],
 "metadata": {
  "kernelspec": {
   "display_name": "Python 3",
   "language": "python",
   "name": "python3"
  },
  "language_info": {
   "codemirror_mode": {
    "name": "ipython",
    "version": 2
   },
   "file_extension": ".py",
   "mimetype": "text/x-python",
   "name": "python",
   "nbconvert_exporter": "python",
   "pygments_lexer": "ipython2",
   "version": "2.7.6"
  }
 },
 "nbformat": 4,
 "nbformat_minor": 5
}
