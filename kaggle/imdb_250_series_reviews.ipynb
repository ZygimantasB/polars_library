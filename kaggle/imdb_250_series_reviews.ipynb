{
 "cells": [
  {
   "cell_type": "code",
   "id": "initial_id",
   "metadata": {
    "collapsed": true,
    "ExecuteTime": {
     "end_time": "2024-11-29T19:30:38.312130Z",
     "start_time": "2024-11-29T19:30:38.128786Z"
    }
   },
   "source": "import polars as pl",
   "outputs": [],
   "execution_count": 1
  },
  {
   "metadata": {
    "ExecuteTime": {
     "end_time": "2024-11-29T19:30:38.323938Z",
     "start_time": "2024-11-29T19:30:38.320652Z"
    }
   },
   "cell_type": "code",
   "source": "imdb_250_path = r\"C:\\Users\\Zygim\\Downloads\\archive (7)\\imdb_250_series_reviews.csv\"",
   "id": "23ab24d486b36e70",
   "outputs": [],
   "execution_count": 2
  },
  {
   "metadata": {
    "ExecuteTime": {
     "end_time": "2024-11-29T19:30:38.332087Z",
     "start_time": "2024-11-29T19:30:38.327944Z"
    }
   },
   "cell_type": "code",
   "source": "imdb_250_df_lazy = pl.scan_csv(imdb_250_path).lazy()",
   "id": "16617b20ba597f5f",
   "outputs": [],
   "execution_count": 3
  },
  {
   "metadata": {
    "ExecuteTime": {
     "end_time": "2024-11-29T19:30:38.485886Z",
     "start_time": "2024-11-29T19:30:38.415110Z"
    }
   },
   "cell_type": "code",
   "source": "imdb_250_df = imdb_250_df_lazy.collect()",
   "id": "f94f9c7c64983c4e",
   "outputs": [],
   "execution_count": 4
  },
  {
   "metadata": {
    "ExecuteTime": {
     "end_time": "2024-11-29T19:30:38.507784Z",
     "start_time": "2024-11-29T19:30:38.500262Z"
    }
   },
   "cell_type": "code",
   "source": "imdb_250_df",
   "id": "ab80d0f8001479ba",
   "outputs": [
    {
     "data": {
      "text/plain": [
       "shape: (116_747, 5)\n",
       "┌───────────────────────┬────────┬───────────────────────┬──────────────────┬──────────────────────┐\n",
       "│ series                ┆ rating ┆ review_title          ┆ review_date      ┆ review               │\n",
       "│ ---                   ┆ ---    ┆ ---                   ┆ ---              ┆ ---                  │\n",
       "│ str                   ┆ i64    ┆ str                   ┆ str              ┆ str                  │\n",
       "╞═══════════════════════╪════════╪═══════════════════════╪══════════════════╪══════════════════════╡\n",
       "│ Taboo                 ┆ 9      ┆ Excellent Series      ┆ 13 April 2020    ┆ Dark and mysterious  │\n",
       "│                       ┆        ┆                       ┆                  ┆ while wond…          │\n",
       "│ Star Wars: The Clone  ┆ 9      ┆ A Fantastic Final     ┆ 23 December 2021 ┆ After many years and │\n",
       "│ Wars                  ┆        ┆ Season                ┆                  ┆ a big bui…           │\n",
       "│ How to Get Away with  ┆ 1      ┆ Don't get arrested in ┆ Oct 15, 2024     ┆ I don't know if this │\n",
       "│ Murder                ┆        ┆ the USA               ┆                  ┆ is deadly…           │\n",
       "│ Suits                 ┆ 2      ┆ I think they          ┆ 16 January 2018  ┆ A friend of mine is  │\n",
       "│                       ┆        ┆ delibrately kille…    ┆                  ┆ a fan of t…          │\n",
       "│ Dark                  ┆ 1      ┆ I wish I could get my ┆ 1 July 2020      ┆ Damn this thing      │\n",
       "│                       ┆        ┆ time bac…             ┆                  ┆ moves so slow.…      │\n",
       "│ …                     ┆ …      ┆ …                     ┆ …                ┆ …                    │\n",
       "│ Ojing-eo geim         ┆ 8      ┆ General Review +      ┆ 25 October 2021  ┆ *(Spoiler Alert)*    │\n",
       "│                       ┆        ┆ Message               ┆                  ┆ Squid Game, …        │\n",
       "│ The Blacklist         ┆ 1      ┆ Intolerable           ┆ Feb 5, 2020      ┆ Omg. How are people  │\n",
       "│                       ┆        ┆                       ┆                  ┆ rating thi…          │\n",
       "│ Generation Kill       ┆ 1      ┆ If This is Reality,   ┆ Jul 21, 2008     ┆ Boring intro to the  │\n",
       "│                       ┆        ┆ Give Me Fi…           ┆                  ┆ characters…          │\n",
       "│ Game of Thrones       ┆ 1      ┆ brutality and         ┆ 19 February 2022 ┆ A ridiculous series  │\n",
       "│                       ┆        ┆ eroticism             ┆                  ┆ of brutali…          │\n",
       "│ The Last of Us        ┆ 7      ┆ Mediocre survival     ┆ 27 February 2023 ┆ It doesn't deserve   │\n",
       "│                       ┆        ┆ drama                 ┆                  ┆ to be among…         │\n",
       "└───────────────────────┴────────┴───────────────────────┴──────────────────┴──────────────────────┘"
      ],
      "text/html": [
       "<div><style>\n",
       ".dataframe > thead > tr,\n",
       ".dataframe > tbody > tr {\n",
       "  text-align: right;\n",
       "  white-space: pre-wrap;\n",
       "}\n",
       "</style>\n",
       "<small>shape: (116_747, 5)</small><table border=\"1\" class=\"dataframe\"><thead><tr><th>series</th><th>rating</th><th>review_title</th><th>review_date</th><th>review</th></tr><tr><td>str</td><td>i64</td><td>str</td><td>str</td><td>str</td></tr></thead><tbody><tr><td>&quot;Taboo&quot;</td><td>9</td><td>&quot;Excellent Series&quot;</td><td>&quot;13 April 2020&quot;</td><td>&quot;Dark and mysterious while wond…</td></tr><tr><td>&quot;Star Wars: The Clone Wars&quot;</td><td>9</td><td>&quot;A Fantastic Final Season&quot;</td><td>&quot;23 December 2021&quot;</td><td>&quot;After many years and a big bui…</td></tr><tr><td>&quot;How to Get Away with Murder&quot;</td><td>1</td><td>&quot;Don&#x27;t get arrested in the USA&quot;</td><td>&quot;Oct 15, 2024&quot;</td><td>&quot;I don&#x27;t know if this is deadly…</td></tr><tr><td>&quot;Suits&quot;</td><td>2</td><td>&quot;I think they delibrately kille…</td><td>&quot;16 January 2018&quot;</td><td>&quot;A friend of mine is a fan of t…</td></tr><tr><td>&quot;Dark&quot;</td><td>1</td><td>&quot;I wish I could get my time bac…</td><td>&quot;1 July 2020&quot;</td><td>&quot;Damn this thing moves so slow.…</td></tr><tr><td>&hellip;</td><td>&hellip;</td><td>&hellip;</td><td>&hellip;</td><td>&hellip;</td></tr><tr><td>&quot;Ojing-eo geim&quot;</td><td>8</td><td>&quot;General Review + Message&quot;</td><td>&quot;25 October 2021&quot;</td><td>&quot;*(Spoiler Alert)* Squid Game, …</td></tr><tr><td>&quot;The Blacklist&quot;</td><td>1</td><td>&quot;Intolerable&quot;</td><td>&quot;Feb 5, 2020&quot;</td><td>&quot;Omg. How are people rating thi…</td></tr><tr><td>&quot;Generation Kill&quot;</td><td>1</td><td>&quot;If This is Reality, Give Me Fi…</td><td>&quot;Jul 21, 2008&quot;</td><td>&quot;Boring intro to the characters…</td></tr><tr><td>&quot;Game of Thrones&quot;</td><td>1</td><td>&quot;brutality and eroticism&quot;</td><td>&quot;19 February 2022&quot;</td><td>&quot;A ridiculous series of brutali…</td></tr><tr><td>&quot;The Last of Us&quot;</td><td>7</td><td>&quot;Mediocre survival drama&quot;</td><td>&quot;27 February 2023&quot;</td><td>&quot;It doesn&#x27;t deserve to be among…</td></tr></tbody></table></div>"
      ]
     },
     "execution_count": 5,
     "metadata": {},
     "output_type": "execute_result"
    }
   ],
   "execution_count": 5
  },
  {
   "metadata": {
    "ExecuteTime": {
     "end_time": "2024-11-29T19:30:38.574961Z",
     "start_time": "2024-11-29T19:30:38.557454Z"
    }
   },
   "cell_type": "code",
   "source": [
    "imdb_250_df = imdb_250_df.with_columns(\n",
    "    pl.col(\"review_date\")\n",
    "    .str.strptime(pl.Date, format=\"%d %B %Y\", strict=False)\n",
    "    .fill_null(\n",
    "        pl.col(\"review_date\").str.strptime(pl.Date, format=\"%b %d, %Y\", strict=False)\n",
    "    )\n",
    "    .fill_null(\n",
    "        pl.col(\"review_date\").str.strptime(pl.Date, format=\"%d %b %Y\", strict=False)\n",
    "    )\n",
    "    .alias(\"parsed_date\")\n",
    ")"
   ],
   "id": "4259bc285f54e0e",
   "outputs": [],
   "execution_count": 6
  },
  {
   "metadata": {
    "ExecuteTime": {
     "end_time": "2024-11-29T19:30:38.889865Z",
     "start_time": "2024-11-29T19:30:38.616516Z"
    }
   },
   "cell_type": "code",
   "source": [
    "imdb_250_df.with_columns(\n",
    "    pl.col('rating')\n",
    ").sort('rating').reverse()"
   ],
   "id": "64d47ba5ddbde3c2",
   "outputs": [
    {
     "data": {
      "text/plain": [
       "shape: (116_747, 6)\n",
       "┌──────────────────┬────────┬──────────────────┬──────────────────┬──────────────────┬─────────────┐\n",
       "│ series           ┆ rating ┆ review_title     ┆ review_date      ┆ review           ┆ parsed_date │\n",
       "│ ---              ┆ ---    ┆ ---              ┆ ---              ┆ ---              ┆ ---         │\n",
       "│ str              ┆ i64    ┆ str              ┆ str              ┆ str              ┆ date        │\n",
       "╞══════════════════╪════════╪══════════════════╪══════════════════╪══════════════════╪═════════════╡\n",
       "│ Naruto           ┆ 10     ┆ The best work    ┆ 7 August 2020    ┆ The best anime   ┆ 2020-08-07  │\n",
       "│                  ┆        ┆ ever             ┆                  ┆ and work anc ev… ┆             │\n",
       "│ Steins;Gate      ┆ 10     ┆ Beautiful        ┆ 22 February 2020 ┆ If you haven't   ┆ 2020-02-22  │\n",
       "│                  ┆        ┆ Character Driven ┆                  ┆ watched Steins;… ┆             │\n",
       "│                  ┆        ┆ Mas…             ┆                  ┆                  ┆             │\n",
       "│ Breaking Bad     ┆ 10     ┆ BrBa is a        ┆ 2 June 2024      ┆ There are plenty ┆ 2024-06-02  │\n",
       "│                  ┆        ┆ perfectly        ┆                  ┆ of people rat…   ┆             │\n",
       "│                  ┆        ┆ written an…      ┆                  ┆                  ┆             │\n",
       "│ Loki             ┆ 10     ┆ Wow!             ┆ 26 January 2022  ┆ It was Amazing   ┆ 2022-01-26  │\n",
       "│                  ┆        ┆                  ┆                  ┆ RIde!The last e… ┆             │\n",
       "│ Watchmen         ┆ 10     ┆ Don't miss it.   ┆ Dec 25, 2019     ┆ If you like      ┆ 2019-12-25  │\n",
       "│                  ┆        ┆                  ┆                  ┆ unusual shows    ┆             │\n",
       "│                  ┆        ┆                  ┆                  ┆ that…            ┆             │\n",
       "│ …                ┆ …      ┆ …                ┆ …                ┆ …                ┆ …           │\n",
       "│ Anne             ┆ 1      ┆ The kids are not ┆ 10 July 2020     ┆ If you want to   ┆ 2020-07-10  │\n",
       "│                  ┆        ┆ allright.        ┆                  ┆ get a lesson on… ┆             │\n",
       "│ Succession       ┆ 1      ┆ Why the f word   ┆ 26 August 2019   ┆ The writing is   ┆ 2019-08-26  │\n",
       "│                  ┆        ┆ every other wor… ┆                  ┆ absolutely awfu… ┆             │\n",
       "│ The Last Kingdom ┆ 1      ┆ Idiotic          ┆ 27 April 2020    ┆ This is the      ┆ 2020-04-27  │\n",
       "│                  ┆        ┆                  ┆                  ┆ dumbest thing    ┆             │\n",
       "│                  ┆        ┆                  ┆                  ┆ i've…            ┆             │\n",
       "│ Dark             ┆ 1      ┆ I wish I could   ┆ 1 July 2020      ┆ Damn this thing  ┆ 2020-07-01  │\n",
       "│                  ┆        ┆ get my time bac… ┆                  ┆ moves so slow.…  ┆             │\n",
       "│ How to Get Away  ┆ 1      ┆ Don't get        ┆ Oct 15, 2024     ┆ I don't know if  ┆ 2024-10-15  │\n",
       "│ with Murder      ┆        ┆ arrested in the  ┆                  ┆ this is deadly…  ┆             │\n",
       "│                  ┆        ┆ USA              ┆                  ┆                  ┆             │\n",
       "└──────────────────┴────────┴──────────────────┴──────────────────┴──────────────────┴─────────────┘"
      ],
      "text/html": [
       "<div><style>\n",
       ".dataframe > thead > tr,\n",
       ".dataframe > tbody > tr {\n",
       "  text-align: right;\n",
       "  white-space: pre-wrap;\n",
       "}\n",
       "</style>\n",
       "<small>shape: (116_747, 6)</small><table border=\"1\" class=\"dataframe\"><thead><tr><th>series</th><th>rating</th><th>review_title</th><th>review_date</th><th>review</th><th>parsed_date</th></tr><tr><td>str</td><td>i64</td><td>str</td><td>str</td><td>str</td><td>date</td></tr></thead><tbody><tr><td>&quot;Naruto&quot;</td><td>10</td><td>&quot;The best work ever&quot;</td><td>&quot;7 August 2020&quot;</td><td>&quot;The best anime and work anc ev…</td><td>2020-08-07</td></tr><tr><td>&quot;Steins;Gate&quot;</td><td>10</td><td>&quot;Beautiful Character Driven Mas…</td><td>&quot;22 February 2020&quot;</td><td>&quot;If you haven&#x27;t watched Steins;…</td><td>2020-02-22</td></tr><tr><td>&quot;Breaking Bad&quot;</td><td>10</td><td>&quot;BrBa is a perfectly written an…</td><td>&quot;2 June 2024&quot;</td><td>&quot;There are plenty of people rat…</td><td>2024-06-02</td></tr><tr><td>&quot;Loki&quot;</td><td>10</td><td>&quot;Wow!&quot;</td><td>&quot;26 January 2022&quot;</td><td>&quot;It was Amazing RIde!The last e…</td><td>2022-01-26</td></tr><tr><td>&quot;Watchmen&quot;</td><td>10</td><td>&quot;Don&#x27;t miss it.&quot;</td><td>&quot;Dec 25, 2019&quot;</td><td>&quot;If you like unusual shows that…</td><td>2019-12-25</td></tr><tr><td>&hellip;</td><td>&hellip;</td><td>&hellip;</td><td>&hellip;</td><td>&hellip;</td><td>&hellip;</td></tr><tr><td>&quot;Anne&quot;</td><td>1</td><td>&quot;The kids are not allright.&quot;</td><td>&quot;10 July 2020&quot;</td><td>&quot;If you want to get a lesson on…</td><td>2020-07-10</td></tr><tr><td>&quot;Succession&quot;</td><td>1</td><td>&quot;Why the f word every other wor…</td><td>&quot;26 August 2019&quot;</td><td>&quot;The writing is absolutely awfu…</td><td>2019-08-26</td></tr><tr><td>&quot;The Last Kingdom&quot;</td><td>1</td><td>&quot;Idiotic&quot;</td><td>&quot;27 April 2020&quot;</td><td>&quot;This is the dumbest thing i&#x27;ve…</td><td>2020-04-27</td></tr><tr><td>&quot;Dark&quot;</td><td>1</td><td>&quot;I wish I could get my time bac…</td><td>&quot;1 July 2020&quot;</td><td>&quot;Damn this thing moves so slow.…</td><td>2020-07-01</td></tr><tr><td>&quot;How to Get Away with Murder&quot;</td><td>1</td><td>&quot;Don&#x27;t get arrested in the USA&quot;</td><td>&quot;Oct 15, 2024&quot;</td><td>&quot;I don&#x27;t know if this is deadly…</td><td>2024-10-15</td></tr></tbody></table></div>"
      ]
     },
     "execution_count": 7,
     "metadata": {},
     "output_type": "execute_result"
    }
   ],
   "execution_count": 7
  }
 ],
 "metadata": {
  "kernelspec": {
   "display_name": "Python 3",
   "language": "python",
   "name": "python3"
  },
  "language_info": {
   "codemirror_mode": {
    "name": "ipython",
    "version": 2
   },
   "file_extension": ".py",
   "mimetype": "text/x-python",
   "name": "python",
   "nbconvert_exporter": "python",
   "pygments_lexer": "ipython2",
   "version": "2.7.6"
  }
 },
 "nbformat": 4,
 "nbformat_minor": 5
}
