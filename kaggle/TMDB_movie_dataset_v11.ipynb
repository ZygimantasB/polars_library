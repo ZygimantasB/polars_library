{
 "cells": [
  {
   "cell_type": "code",
   "id": "initial_id",
   "metadata": {
    "collapsed": true,
    "ExecuteTime": {
     "end_time": "2025-10-01T10:02:31.131100Z",
     "start_time": "2025-10-01T10:02:29.149988Z"
    }
   },
   "source": [
    "import polars as pl\n",
    "import polars.selectors as cs\n",
    "\n",
    "import altair as alt\n",
    "import plotly.express as px\n",
    "import seaborn as sns\n",
    "import matplotlib.pyplot as plt\n",
    "\n",
    "import datetime as dt"
   ],
   "outputs": [],
   "execution_count": 1
  },
  {
   "metadata": {
    "ExecuteTime": {
     "end_time": "2025-10-01T10:02:38.217416Z",
     "start_time": "2025-10-01T10:02:38.213188Z"
    }
   },
   "cell_type": "code",
   "source": "df_path = r\"C:\\Users\\_____\\Downloads\\archive (3)\\TMDB_movie_dataset_v11.csv\"",
   "id": "9521c4735885f67e",
   "outputs": [],
   "execution_count": 2
  },
  {
   "metadata": {
    "ExecuteTime": {
     "end_time": "2025-10-01T10:02:46.660275Z",
     "start_time": "2025-10-01T10:02:46.418226Z"
    }
   },
   "cell_type": "code",
   "source": "df = pl.read_csv(df_path)",
   "id": "b8bc371702517c41",
   "outputs": [],
   "execution_count": 3
  },
  {
   "metadata": {
    "ExecuteTime": {
     "end_time": "2025-10-01T10:02:48.511825Z",
     "start_time": "2025-10-01T10:02:48.499510Z"
    }
   },
   "cell_type": "code",
   "source": "df",
   "id": "14ac3a95ffbc17a",
   "outputs": [
    {
     "data": {
      "text/plain": [
       "shape: (1_296_423, 24)\n",
       "┌─────────┬────────────┬───────────┬───────────┬───┬───────────┬───────────┬───────────┬───────────┐\n",
       "│ id      ┆ title      ┆ vote_aver ┆ vote_coun ┆ … ┆ productio ┆ productio ┆ spoken_la ┆ keywords  │\n",
       "│ ---     ┆ ---        ┆ age       ┆ t         ┆   ┆ n_compani ┆ n_countri ┆ nguages   ┆ ---       │\n",
       "│ i64     ┆ str        ┆ ---       ┆ ---       ┆   ┆ es        ┆ es        ┆ ---       ┆ str       │\n",
       "│         ┆            ┆ f64       ┆ i64       ┆   ┆ ---       ┆ ---       ┆ str       ┆           │\n",
       "│         ┆            ┆           ┆           ┆   ┆ str       ┆ str       ┆           ┆           │\n",
       "╞═════════╪════════════╪═══════════╪═══════════╪═══╪═══════════╪═══════════╪═══════════╪═══════════╡\n",
       "│ 27205   ┆ Inception  ┆ 8.364     ┆ 34495     ┆ … ┆ Legendary ┆ United    ┆ English,  ┆ rescue,   │\n",
       "│         ┆            ┆           ┆           ┆   ┆ Pictures, ┆ Kingdom,  ┆ French,   ┆ mission,  │\n",
       "│         ┆            ┆           ┆           ┆   ┆ Syncopy,  ┆ United    ┆ Japanese, ┆ dream,    │\n",
       "│         ┆            ┆           ┆           ┆   ┆ W…        ┆ States …  ┆ Swa…      ┆ airpla…   │\n",
       "│ 157336  ┆ Interstell ┆ 8.417     ┆ 32571     ┆ … ┆ Legendary ┆ United    ┆ English   ┆ rescue,   │\n",
       "│         ┆ ar         ┆           ┆           ┆   ┆ Pictures, ┆ Kingdom,  ┆           ┆ future,   │\n",
       "│         ┆            ┆           ┆           ┆   ┆ Syncopy,  ┆ United    ┆           ┆ spacecraf │\n",
       "│         ┆            ┆           ┆           ┆   ┆ L…        ┆ States …  ┆           ┆ t, ra…    │\n",
       "│ 155     ┆ The Dark   ┆ 8.512     ┆ 30619     ┆ … ┆ DC        ┆ United    ┆ English,  ┆ joker,    │\n",
       "│         ┆ Knight     ┆           ┆           ┆   ┆ Comics,   ┆ Kingdom,  ┆ Mandarin  ┆ sadism,   │\n",
       "│         ┆            ┆           ┆           ┆   ┆ Legendary ┆ United    ┆           ┆ chaos,    │\n",
       "│         ┆            ┆           ┆           ┆   ┆ Pictures, ┆ States …  ┆           ┆ secret i… │\n",
       "│         ┆            ┆           ┆           ┆   ┆ …         ┆           ┆           ┆           │\n",
       "│ 19995   ┆ Avatar     ┆ 7.573     ┆ 29815     ┆ … ┆ Dune Ente ┆ United    ┆ English,  ┆ future,   │\n",
       "│         ┆            ┆           ┆           ┆   ┆ rtainment ┆ States of ┆ Spanish   ┆ society,  │\n",
       "│         ┆            ┆           ┆           ┆   ┆ , Lightst ┆ America,  ┆           ┆ culture   │\n",
       "│         ┆            ┆           ┆           ┆   ┆ orm…      ┆ Unit…     ┆           ┆ clash…    │\n",
       "│ 24428   ┆ The        ┆ 7.71      ┆ 29166     ┆ … ┆ Marvel    ┆ United    ┆ English,  ┆ new york  │\n",
       "│         ┆ Avengers   ┆           ┆           ┆   ┆ Studios   ┆ States of ┆ Hindi,    ┆ city, sup │\n",
       "│         ┆            ┆           ┆           ┆   ┆           ┆ America   ┆ Russian   ┆ erhero,   │\n",
       "│         ┆            ┆           ┆           ┆   ┆           ┆           ┆           ┆ shie…     │\n",
       "│ …       ┆ …          ┆ …         ┆ …         ┆ … ┆ …         ┆ …         ┆ …         ┆ …         │\n",
       "│ 811069  ┆ Crimen en  ┆ 0.0       ┆ 0         ┆ … ┆ Cinematog ┆ Argentina ┆ Spanish   ┆           │\n",
       "│         ┆ el hotel   ┆           ┆           ┆   ┆ ráfica    ┆           ┆           ┆           │\n",
       "│         ┆ alojamient ┆           ┆           ┆   ┆ Sudameric ┆           ┆           ┆           │\n",
       "│         ┆ o          ┆           ┆           ┆   ┆ ana d…    ┆           ┆           ┆           │\n",
       "│ 811070  ┆ ¿Los       ┆ 0.0       ┆ 0         ┆ … ┆ Cinematog ┆           ┆ Spanish   ┆           │\n",
       "│         ┆ piolas no  ┆           ┆           ┆   ┆ ráfica    ┆           ┆           ┆           │\n",
       "│         ┆ se casan…? ┆           ┆           ┆   ┆ Victoria  ┆           ┆           ┆           │\n",
       "│ 811071  ┆ Satan in   ┆ 0.0       ┆ 0         ┆ … ┆ Solar     ┆           ┆ Finnish   ┆ short     │\n",
       "│         ┆ the House  ┆           ┆           ┆   ┆ Films     ┆           ┆           ┆ film      │\n",
       "│ 811075  ┆ Apparition ┆ 0.0       ┆ 0         ┆ … ┆ Arde Cine ┆ France    ┆ French    ┆           │\n",
       "│ 1555013 ┆ Kalte      ┆ 0.0       ┆ 0         ┆ … ┆           ┆ Germany   ┆ German    ┆           │\n",
       "│         ┆ Heimat -   ┆           ┆           ┆   ┆           ┆           ┆           ┆           │\n",
       "│         ┆ Fluchtgesc ┆           ┆           ┆   ┆           ┆           ┆           ┆           │\n",
       "│         ┆ hicht…     ┆           ┆           ┆   ┆           ┆           ┆           ┆           │\n",
       "└─────────┴────────────┴───────────┴───────────┴───┴───────────┴───────────┴───────────┴───────────┘"
      ],
      "text/html": [
       "<div><style>\n",
       ".dataframe > thead > tr,\n",
       ".dataframe > tbody > tr {\n",
       "  text-align: right;\n",
       "  white-space: pre-wrap;\n",
       "}\n",
       "</style>\n",
       "<small>shape: (1_296_423, 24)</small><table border=\"1\" class=\"dataframe\"><thead><tr><th>id</th><th>title</th><th>vote_average</th><th>vote_count</th><th>status</th><th>release_date</th><th>revenue</th><th>runtime</th><th>adult</th><th>backdrop_path</th><th>budget</th><th>homepage</th><th>imdb_id</th><th>original_language</th><th>original_title</th><th>overview</th><th>popularity</th><th>poster_path</th><th>tagline</th><th>genres</th><th>production_companies</th><th>production_countries</th><th>spoken_languages</th><th>keywords</th></tr><tr><td>i64</td><td>str</td><td>f64</td><td>i64</td><td>str</td><td>str</td><td>i64</td><td>i64</td><td>bool</td><td>str</td><td>i64</td><td>str</td><td>str</td><td>str</td><td>str</td><td>str</td><td>f64</td><td>str</td><td>str</td><td>str</td><td>str</td><td>str</td><td>str</td><td>str</td></tr></thead><tbody><tr><td>27205</td><td>&quot;Inception&quot;</td><td>8.364</td><td>34495</td><td>&quot;Released&quot;</td><td>&quot;2010-07-15&quot;</td><td>825532764</td><td>148</td><td>false</td><td>&quot;/8ZTVqvKDQ8emSGUEMjsS4yHAwrp.j…</td><td>160000000</td><td>&quot;https://www.warnerbros.com/mov…</td><td>&quot;tt1375666&quot;</td><td>&quot;en&quot;</td><td>&quot;Inception&quot;</td><td>&quot;Cobb, a skilled thief who comm…</td><td>83.952</td><td>&quot;/oYuLEt3zVCKq57qu2F8dT7NIa6f.j…</td><td>&quot;Your mind is the scene of the …</td><td>&quot;Action, Science Fiction, Adven…</td><td>&quot;Legendary Pictures, Syncopy, W…</td><td>&quot;United Kingdom, United States …</td><td>&quot;English, French, Japanese, Swa…</td><td>&quot;rescue, mission, dream, airpla…</td></tr><tr><td>157336</td><td>&quot;Interstellar&quot;</td><td>8.417</td><td>32571</td><td>&quot;Released&quot;</td><td>&quot;2014-11-05&quot;</td><td>701729206</td><td>169</td><td>false</td><td>&quot;/pbrkL804c8yAv3zBZR4QPEafpAR.j…</td><td>165000000</td><td>&quot;http://www.interstellarmovie.n…</td><td>&quot;tt0816692&quot;</td><td>&quot;en&quot;</td><td>&quot;Interstellar&quot;</td><td>&quot;The adventures of a group of e…</td><td>140.241</td><td>&quot;/gEU2QniE6E77NI6lCU6MxlNBvIx.j…</td><td>&quot;Mankind was born on Earth. It …</td><td>&quot;Adventure, Drama, Science Fict…</td><td>&quot;Legendary Pictures, Syncopy, L…</td><td>&quot;United Kingdom, United States …</td><td>&quot;English&quot;</td><td>&quot;rescue, future, spacecraft, ra…</td></tr><tr><td>155</td><td>&quot;The Dark Knight&quot;</td><td>8.512</td><td>30619</td><td>&quot;Released&quot;</td><td>&quot;2008-07-16&quot;</td><td>1004558444</td><td>152</td><td>false</td><td>&quot;/nMKdUUepR0i5zn0y1T4CsSB5chy.j…</td><td>185000000</td><td>&quot;https://www.warnerbros.com/mov…</td><td>&quot;tt0468569&quot;</td><td>&quot;en&quot;</td><td>&quot;The Dark Knight&quot;</td><td>&quot;Batman raises the stakes in hi…</td><td>130.643</td><td>&quot;/qJ2tW6WMUDux911r6m7haRef0WH.j…</td><td>&quot;Welcome to a world without rul…</td><td>&quot;Drama, Action, Crime, Thriller&quot;</td><td>&quot;DC Comics, Legendary Pictures,…</td><td>&quot;United Kingdom, United States …</td><td>&quot;English, Mandarin&quot;</td><td>&quot;joker, sadism, chaos, secret i…</td></tr><tr><td>19995</td><td>&quot;Avatar&quot;</td><td>7.573</td><td>29815</td><td>&quot;Released&quot;</td><td>&quot;2009-12-15&quot;</td><td>2923706026</td><td>162</td><td>false</td><td>&quot;/vL5LR6WdxWPjLPFRLe133jXWsh5.j…</td><td>237000000</td><td>&quot;https://www.avatar.com/movies/…</td><td>&quot;tt0499549&quot;</td><td>&quot;en&quot;</td><td>&quot;Avatar&quot;</td><td>&quot;In the 22nd century, a paraple…</td><td>79.932</td><td>&quot;/kyeqWdyUXW608qlYkRqosgbbJyK.j…</td><td>&quot;Enter the world of Pandora.&quot;</td><td>&quot;Action, Adventure, Fantasy, Sc…</td><td>&quot;Dune Entertainment, Lightstorm…</td><td>&quot;United States of America, Unit…</td><td>&quot;English, Spanish&quot;</td><td>&quot;future, society, culture clash…</td></tr><tr><td>24428</td><td>&quot;The Avengers&quot;</td><td>7.71</td><td>29166</td><td>&quot;Released&quot;</td><td>&quot;2012-04-25&quot;</td><td>1518815515</td><td>143</td><td>false</td><td>&quot;/9BBTo63ANSmhC4e6r62OJFuK2GL.j…</td><td>220000000</td><td>&quot;https://www.marvel.com/movies/…</td><td>&quot;tt0848228&quot;</td><td>&quot;en&quot;</td><td>&quot;The Avengers&quot;</td><td>&quot;When an unexpected enemy emerg…</td><td>98.082</td><td>&quot;/RYMX2wcKCBAr24UyPD7xwmjaTn.jp…</td><td>&quot;Some assembly required.&quot;</td><td>&quot;Science Fiction, Action, Adven…</td><td>&quot;Marvel Studios&quot;</td><td>&quot;United States of America&quot;</td><td>&quot;English, Hindi, Russian&quot;</td><td>&quot;new york city, superhero, shie…</td></tr><tr><td>&hellip;</td><td>&hellip;</td><td>&hellip;</td><td>&hellip;</td><td>&hellip;</td><td>&hellip;</td><td>&hellip;</td><td>&hellip;</td><td>&hellip;</td><td>&hellip;</td><td>&hellip;</td><td>&hellip;</td><td>&hellip;</td><td>&hellip;</td><td>&hellip;</td><td>&hellip;</td><td>&hellip;</td><td>&hellip;</td><td>&hellip;</td><td>&hellip;</td><td>&hellip;</td><td>&hellip;</td><td>&hellip;</td><td>&hellip;</td></tr><tr><td>811069</td><td>&quot;Crimen en el hotel alojamiento&quot;</td><td>0.0</td><td>0</td><td>&quot;Released&quot;</td><td>&quot;1974-03-14&quot;</td><td>0</td><td>80</td><td>false</td><td>&quot;&quot;</td><td>0</td><td>&quot;&quot;</td><td>&quot;tt0188526&quot;</td><td>&quot;es&quot;</td><td>&quot;Crimen en el hotel alojamiento&quot;</td><td>&quot;An assault will create a whole…</td><td>0.6</td><td>&quot;/aBE1qc85U5ethBLT3KC4C3eIcsE.j…</td><td>&quot;&quot;</td><td>&quot;Comedy&quot;</td><td>&quot;Cinematográfica Sudamericana d…</td><td>&quot;Argentina&quot;</td><td>&quot;Spanish&quot;</td><td>&quot;&quot;</td></tr><tr><td>811070</td><td>&quot;¿Los piolas no se casan…?&quot;</td><td>0.0</td><td>0</td><td>&quot;Released&quot;</td><td>&quot;1981-05-14&quot;</td><td>0</td><td>92</td><td>false</td><td>&quot;/xYedy9bkILyloSyGqsM0M4WOPiL.j…</td><td>0</td><td>&quot;&quot;</td><td>&quot;tt0182548&quot;</td><td>&quot;es&quot;</td><td>&quot;¿Los piolas no se casan…?&quot;</td><td>&quot;The story revolves around Bebe…</td><td>0.6</td><td>&quot;/rbXSEwihVPSbyFHFyRT124temHc.j…</td><td>&quot;&quot;</td><td>&quot;Comedy&quot;</td><td>&quot;Cinematográfica Victoria&quot;</td><td>&quot;&quot;</td><td>&quot;Spanish&quot;</td><td>&quot;&quot;</td></tr><tr><td>811071</td><td>&quot;Satan in the House&quot;</td><td>0.0</td><td>0</td><td>&quot;Released&quot;</td><td>&quot;1999-11-18&quot;</td><td>0</td><td>30</td><td>false</td><td>&quot;&quot;</td><td>0</td><td>&quot;&quot;</td><td>&quot;tt1034465&quot;</td><td>&quot;fi&quot;</td><td>&quot;Talossa on Saatana&quot;</td><td>&quot;Woman unexpectedly meets Satan…</td><td>1.091</td><td>&quot;/jILPIkmXLarIbz0mw7byviNI6iY.j…</td><td>&quot;&quot;</td><td>&quot;&quot;</td><td>&quot;Solar Films&quot;</td><td>&quot;&quot;</td><td>&quot;Finnish&quot;</td><td>&quot;short film&quot;</td></tr><tr><td>811075</td><td>&quot;Apparition&quot;</td><td>0.0</td><td>0</td><td>&quot;Released&quot;</td><td>&quot;2016-04-15&quot;</td><td>0</td><td>12</td><td>false</td><td>&quot;&quot;</td><td>0</td><td>&quot;&quot;</td><td>&quot;tt8298212&quot;</td><td>&quot;fr&quot;</td><td>&quot;L’apparition&quot;</td><td>&quot;A lonely bank clark discovers …</td><td>0.6</td><td>&quot;/uL4WFHhVy4Z4PlE2WPRHCqHyV2j.j…</td><td>&quot;&quot;</td><td>&quot;Drama, Comedy&quot;</td><td>&quot;Arde Cine&quot;</td><td>&quot;France&quot;</td><td>&quot;French&quot;</td><td>&quot;&quot;</td></tr><tr><td>1555013</td><td>&quot;Kalte Heimat - Fluchtgeschicht…</td><td>0.0</td><td>0</td><td>&quot;Released&quot;</td><td>&quot;2018-03-11&quot;</td><td>0</td><td>0</td><td>false</td><td>&quot;None&quot;</td><td>0</td><td>&quot;&quot;</td><td>&quot;None&quot;</td><td>&quot;de&quot;</td><td>&quot;Kalte Heimat - Fluchtgeschicht…</td><td>&quot;&quot;</td><td>0.0071</td><td>&quot;None&quot;</td><td>&quot;&quot;</td><td>&quot;Documentary&quot;</td><td>&quot;&quot;</td><td>&quot;Germany&quot;</td><td>&quot;German&quot;</td><td>&quot;&quot;</td></tr></tbody></table></div>"
      ]
     },
     "execution_count": 4,
     "metadata": {},
     "output_type": "execute_result"
    }
   ],
   "execution_count": 4
  },
  {
   "metadata": {
    "ExecuteTime": {
     "end_time": "2025-10-01T11:51:31.831361Z",
     "start_time": "2025-10-01T11:51:31.813364Z"
    }
   },
   "cell_type": "code",
   "source": [
    "df.with_columns(\n",
    "    pl.col('vote_average').sort(descending=True)\n",
    ")"
   ],
   "id": "7bcc5a1099d12555",
   "outputs": [
    {
     "data": {
      "text/plain": [
       "shape: (1_296_423, 24)\n",
       "┌─────────┬────────────┬───────────┬───────────┬───┬───────────┬───────────┬───────────┬───────────┐\n",
       "│ id      ┆ title      ┆ vote_aver ┆ vote_coun ┆ … ┆ productio ┆ productio ┆ spoken_la ┆ keywords  │\n",
       "│ ---     ┆ ---        ┆ age       ┆ t         ┆   ┆ n_compani ┆ n_countri ┆ nguages   ┆ ---       │\n",
       "│ i64     ┆ str        ┆ ---       ┆ ---       ┆   ┆ es        ┆ es        ┆ ---       ┆ str       │\n",
       "│         ┆            ┆ f64       ┆ i64       ┆   ┆ ---       ┆ ---       ┆ str       ┆           │\n",
       "│         ┆            ┆           ┆           ┆   ┆ str       ┆ str       ┆           ┆           │\n",
       "╞═════════╪════════════╪═══════════╪═══════════╪═══╪═══════════╪═══════════╪═══════════╪═══════════╡\n",
       "│ 27205   ┆ Inception  ┆ 10.0      ┆ 34495     ┆ … ┆ Legendary ┆ United    ┆ English,  ┆ rescue,   │\n",
       "│         ┆            ┆           ┆           ┆   ┆ Pictures, ┆ Kingdom,  ┆ French,   ┆ mission,  │\n",
       "│         ┆            ┆           ┆           ┆   ┆ Syncopy,  ┆ United    ┆ Japanese, ┆ dream,    │\n",
       "│         ┆            ┆           ┆           ┆   ┆ W…        ┆ States …  ┆ Swa…      ┆ airpla…   │\n",
       "│ 157336  ┆ Interstell ┆ 10.0      ┆ 32571     ┆ … ┆ Legendary ┆ United    ┆ English   ┆ rescue,   │\n",
       "│         ┆ ar         ┆           ┆           ┆   ┆ Pictures, ┆ Kingdom,  ┆           ┆ future,   │\n",
       "│         ┆            ┆           ┆           ┆   ┆ Syncopy,  ┆ United    ┆           ┆ spacecraf │\n",
       "│         ┆            ┆           ┆           ┆   ┆ L…        ┆ States …  ┆           ┆ t, ra…    │\n",
       "│ 155     ┆ The Dark   ┆ 10.0      ┆ 30619     ┆ … ┆ DC        ┆ United    ┆ English,  ┆ joker,    │\n",
       "│         ┆ Knight     ┆           ┆           ┆   ┆ Comics,   ┆ Kingdom,  ┆ Mandarin  ┆ sadism,   │\n",
       "│         ┆            ┆           ┆           ┆   ┆ Legendary ┆ United    ┆           ┆ chaos,    │\n",
       "│         ┆            ┆           ┆           ┆   ┆ Pictures, ┆ States …  ┆           ┆ secret i… │\n",
       "│         ┆            ┆           ┆           ┆   ┆ …         ┆           ┆           ┆           │\n",
       "│ 19995   ┆ Avatar     ┆ 10.0      ┆ 29815     ┆ … ┆ Dune Ente ┆ United    ┆ English,  ┆ future,   │\n",
       "│         ┆            ┆           ┆           ┆   ┆ rtainment ┆ States of ┆ Spanish   ┆ society,  │\n",
       "│         ┆            ┆           ┆           ┆   ┆ , Lightst ┆ America,  ┆           ┆ culture   │\n",
       "│         ┆            ┆           ┆           ┆   ┆ orm…      ┆ Unit…     ┆           ┆ clash…    │\n",
       "│ 24428   ┆ The        ┆ 10.0      ┆ 29166     ┆ … ┆ Marvel    ┆ United    ┆ English,  ┆ new york  │\n",
       "│         ┆ Avengers   ┆           ┆           ┆   ┆ Studios   ┆ States of ┆ Hindi,    ┆ city, sup │\n",
       "│         ┆            ┆           ┆           ┆   ┆           ┆ America   ┆ Russian   ┆ erhero,   │\n",
       "│         ┆            ┆           ┆           ┆   ┆           ┆           ┆           ┆ shie…     │\n",
       "│ …       ┆ …          ┆ …         ┆ …         ┆ … ┆ …         ┆ …         ┆ …         ┆ …         │\n",
       "│ 811069  ┆ Crimen en  ┆ 0.0       ┆ 0         ┆ … ┆ Cinematog ┆ Argentina ┆ Spanish   ┆           │\n",
       "│         ┆ el hotel   ┆           ┆           ┆   ┆ ráfica    ┆           ┆           ┆           │\n",
       "│         ┆ alojamient ┆           ┆           ┆   ┆ Sudameric ┆           ┆           ┆           │\n",
       "│         ┆ o          ┆           ┆           ┆   ┆ ana d…    ┆           ┆           ┆           │\n",
       "│ 811070  ┆ ¿Los       ┆ 0.0       ┆ 0         ┆ … ┆ Cinematog ┆           ┆ Spanish   ┆           │\n",
       "│         ┆ piolas no  ┆           ┆           ┆   ┆ ráfica    ┆           ┆           ┆           │\n",
       "│         ┆ se casan…? ┆           ┆           ┆   ┆ Victoria  ┆           ┆           ┆           │\n",
       "│ 811071  ┆ Satan in   ┆ 0.0       ┆ 0         ┆ … ┆ Solar     ┆           ┆ Finnish   ┆ short     │\n",
       "│         ┆ the House  ┆           ┆           ┆   ┆ Films     ┆           ┆           ┆ film      │\n",
       "│ 811075  ┆ Apparition ┆ 0.0       ┆ 0         ┆ … ┆ Arde Cine ┆ France    ┆ French    ┆           │\n",
       "│ 1555013 ┆ Kalte      ┆ 0.0       ┆ 0         ┆ … ┆           ┆ Germany   ┆ German    ┆           │\n",
       "│         ┆ Heimat -   ┆           ┆           ┆   ┆           ┆           ┆           ┆           │\n",
       "│         ┆ Fluchtgesc ┆           ┆           ┆   ┆           ┆           ┆           ┆           │\n",
       "│         ┆ hicht…     ┆           ┆           ┆   ┆           ┆           ┆           ┆           │\n",
       "└─────────┴────────────┴───────────┴───────────┴───┴───────────┴───────────┴───────────┴───────────┘"
      ],
      "text/html": [
       "<div><style>\n",
       ".dataframe > thead > tr,\n",
       ".dataframe > tbody > tr {\n",
       "  text-align: right;\n",
       "  white-space: pre-wrap;\n",
       "}\n",
       "</style>\n",
       "<small>shape: (1_296_423, 24)</small><table border=\"1\" class=\"dataframe\"><thead><tr><th>id</th><th>title</th><th>vote_average</th><th>vote_count</th><th>status</th><th>release_date</th><th>revenue</th><th>runtime</th><th>adult</th><th>backdrop_path</th><th>budget</th><th>homepage</th><th>imdb_id</th><th>original_language</th><th>original_title</th><th>overview</th><th>popularity</th><th>poster_path</th><th>tagline</th><th>genres</th><th>production_companies</th><th>production_countries</th><th>spoken_languages</th><th>keywords</th></tr><tr><td>i64</td><td>str</td><td>f64</td><td>i64</td><td>str</td><td>str</td><td>i64</td><td>i64</td><td>bool</td><td>str</td><td>i64</td><td>str</td><td>str</td><td>str</td><td>str</td><td>str</td><td>f64</td><td>str</td><td>str</td><td>str</td><td>str</td><td>str</td><td>str</td><td>str</td></tr></thead><tbody><tr><td>27205</td><td>&quot;Inception&quot;</td><td>10.0</td><td>34495</td><td>&quot;Released&quot;</td><td>&quot;2010-07-15&quot;</td><td>825532764</td><td>148</td><td>false</td><td>&quot;/8ZTVqvKDQ8emSGUEMjsS4yHAwrp.j…</td><td>160000000</td><td>&quot;https://www.warnerbros.com/mov…</td><td>&quot;tt1375666&quot;</td><td>&quot;en&quot;</td><td>&quot;Inception&quot;</td><td>&quot;Cobb, a skilled thief who comm…</td><td>83.952</td><td>&quot;/oYuLEt3zVCKq57qu2F8dT7NIa6f.j…</td><td>&quot;Your mind is the scene of the …</td><td>&quot;Action, Science Fiction, Adven…</td><td>&quot;Legendary Pictures, Syncopy, W…</td><td>&quot;United Kingdom, United States …</td><td>&quot;English, French, Japanese, Swa…</td><td>&quot;rescue, mission, dream, airpla…</td></tr><tr><td>157336</td><td>&quot;Interstellar&quot;</td><td>10.0</td><td>32571</td><td>&quot;Released&quot;</td><td>&quot;2014-11-05&quot;</td><td>701729206</td><td>169</td><td>false</td><td>&quot;/pbrkL804c8yAv3zBZR4QPEafpAR.j…</td><td>165000000</td><td>&quot;http://www.interstellarmovie.n…</td><td>&quot;tt0816692&quot;</td><td>&quot;en&quot;</td><td>&quot;Interstellar&quot;</td><td>&quot;The adventures of a group of e…</td><td>140.241</td><td>&quot;/gEU2QniE6E77NI6lCU6MxlNBvIx.j…</td><td>&quot;Mankind was born on Earth. It …</td><td>&quot;Adventure, Drama, Science Fict…</td><td>&quot;Legendary Pictures, Syncopy, L…</td><td>&quot;United Kingdom, United States …</td><td>&quot;English&quot;</td><td>&quot;rescue, future, spacecraft, ra…</td></tr><tr><td>155</td><td>&quot;The Dark Knight&quot;</td><td>10.0</td><td>30619</td><td>&quot;Released&quot;</td><td>&quot;2008-07-16&quot;</td><td>1004558444</td><td>152</td><td>false</td><td>&quot;/nMKdUUepR0i5zn0y1T4CsSB5chy.j…</td><td>185000000</td><td>&quot;https://www.warnerbros.com/mov…</td><td>&quot;tt0468569&quot;</td><td>&quot;en&quot;</td><td>&quot;The Dark Knight&quot;</td><td>&quot;Batman raises the stakes in hi…</td><td>130.643</td><td>&quot;/qJ2tW6WMUDux911r6m7haRef0WH.j…</td><td>&quot;Welcome to a world without rul…</td><td>&quot;Drama, Action, Crime, Thriller&quot;</td><td>&quot;DC Comics, Legendary Pictures,…</td><td>&quot;United Kingdom, United States …</td><td>&quot;English, Mandarin&quot;</td><td>&quot;joker, sadism, chaos, secret i…</td></tr><tr><td>19995</td><td>&quot;Avatar&quot;</td><td>10.0</td><td>29815</td><td>&quot;Released&quot;</td><td>&quot;2009-12-15&quot;</td><td>2923706026</td><td>162</td><td>false</td><td>&quot;/vL5LR6WdxWPjLPFRLe133jXWsh5.j…</td><td>237000000</td><td>&quot;https://www.avatar.com/movies/…</td><td>&quot;tt0499549&quot;</td><td>&quot;en&quot;</td><td>&quot;Avatar&quot;</td><td>&quot;In the 22nd century, a paraple…</td><td>79.932</td><td>&quot;/kyeqWdyUXW608qlYkRqosgbbJyK.j…</td><td>&quot;Enter the world of Pandora.&quot;</td><td>&quot;Action, Adventure, Fantasy, Sc…</td><td>&quot;Dune Entertainment, Lightstorm…</td><td>&quot;United States of America, Unit…</td><td>&quot;English, Spanish&quot;</td><td>&quot;future, society, culture clash…</td></tr><tr><td>24428</td><td>&quot;The Avengers&quot;</td><td>10.0</td><td>29166</td><td>&quot;Released&quot;</td><td>&quot;2012-04-25&quot;</td><td>1518815515</td><td>143</td><td>false</td><td>&quot;/9BBTo63ANSmhC4e6r62OJFuK2GL.j…</td><td>220000000</td><td>&quot;https://www.marvel.com/movies/…</td><td>&quot;tt0848228&quot;</td><td>&quot;en&quot;</td><td>&quot;The Avengers&quot;</td><td>&quot;When an unexpected enemy emerg…</td><td>98.082</td><td>&quot;/RYMX2wcKCBAr24UyPD7xwmjaTn.jp…</td><td>&quot;Some assembly required.&quot;</td><td>&quot;Science Fiction, Action, Adven…</td><td>&quot;Marvel Studios&quot;</td><td>&quot;United States of America&quot;</td><td>&quot;English, Hindi, Russian&quot;</td><td>&quot;new york city, superhero, shie…</td></tr><tr><td>&hellip;</td><td>&hellip;</td><td>&hellip;</td><td>&hellip;</td><td>&hellip;</td><td>&hellip;</td><td>&hellip;</td><td>&hellip;</td><td>&hellip;</td><td>&hellip;</td><td>&hellip;</td><td>&hellip;</td><td>&hellip;</td><td>&hellip;</td><td>&hellip;</td><td>&hellip;</td><td>&hellip;</td><td>&hellip;</td><td>&hellip;</td><td>&hellip;</td><td>&hellip;</td><td>&hellip;</td><td>&hellip;</td><td>&hellip;</td></tr><tr><td>811069</td><td>&quot;Crimen en el hotel alojamiento&quot;</td><td>0.0</td><td>0</td><td>&quot;Released&quot;</td><td>&quot;1974-03-14&quot;</td><td>0</td><td>80</td><td>false</td><td>&quot;&quot;</td><td>0</td><td>&quot;&quot;</td><td>&quot;tt0188526&quot;</td><td>&quot;es&quot;</td><td>&quot;Crimen en el hotel alojamiento&quot;</td><td>&quot;An assault will create a whole…</td><td>0.6</td><td>&quot;/aBE1qc85U5ethBLT3KC4C3eIcsE.j…</td><td>&quot;&quot;</td><td>&quot;Comedy&quot;</td><td>&quot;Cinematográfica Sudamericana d…</td><td>&quot;Argentina&quot;</td><td>&quot;Spanish&quot;</td><td>&quot;&quot;</td></tr><tr><td>811070</td><td>&quot;¿Los piolas no se casan…?&quot;</td><td>0.0</td><td>0</td><td>&quot;Released&quot;</td><td>&quot;1981-05-14&quot;</td><td>0</td><td>92</td><td>false</td><td>&quot;/xYedy9bkILyloSyGqsM0M4WOPiL.j…</td><td>0</td><td>&quot;&quot;</td><td>&quot;tt0182548&quot;</td><td>&quot;es&quot;</td><td>&quot;¿Los piolas no se casan…?&quot;</td><td>&quot;The story revolves around Bebe…</td><td>0.6</td><td>&quot;/rbXSEwihVPSbyFHFyRT124temHc.j…</td><td>&quot;&quot;</td><td>&quot;Comedy&quot;</td><td>&quot;Cinematográfica Victoria&quot;</td><td>&quot;&quot;</td><td>&quot;Spanish&quot;</td><td>&quot;&quot;</td></tr><tr><td>811071</td><td>&quot;Satan in the House&quot;</td><td>0.0</td><td>0</td><td>&quot;Released&quot;</td><td>&quot;1999-11-18&quot;</td><td>0</td><td>30</td><td>false</td><td>&quot;&quot;</td><td>0</td><td>&quot;&quot;</td><td>&quot;tt1034465&quot;</td><td>&quot;fi&quot;</td><td>&quot;Talossa on Saatana&quot;</td><td>&quot;Woman unexpectedly meets Satan…</td><td>1.091</td><td>&quot;/jILPIkmXLarIbz0mw7byviNI6iY.j…</td><td>&quot;&quot;</td><td>&quot;&quot;</td><td>&quot;Solar Films&quot;</td><td>&quot;&quot;</td><td>&quot;Finnish&quot;</td><td>&quot;short film&quot;</td></tr><tr><td>811075</td><td>&quot;Apparition&quot;</td><td>0.0</td><td>0</td><td>&quot;Released&quot;</td><td>&quot;2016-04-15&quot;</td><td>0</td><td>12</td><td>false</td><td>&quot;&quot;</td><td>0</td><td>&quot;&quot;</td><td>&quot;tt8298212&quot;</td><td>&quot;fr&quot;</td><td>&quot;L’apparition&quot;</td><td>&quot;A lonely bank clark discovers …</td><td>0.6</td><td>&quot;/uL4WFHhVy4Z4PlE2WPRHCqHyV2j.j…</td><td>&quot;&quot;</td><td>&quot;Drama, Comedy&quot;</td><td>&quot;Arde Cine&quot;</td><td>&quot;France&quot;</td><td>&quot;French&quot;</td><td>&quot;&quot;</td></tr><tr><td>1555013</td><td>&quot;Kalte Heimat - Fluchtgeschicht…</td><td>0.0</td><td>0</td><td>&quot;Released&quot;</td><td>&quot;2018-03-11&quot;</td><td>0</td><td>0</td><td>false</td><td>&quot;None&quot;</td><td>0</td><td>&quot;&quot;</td><td>&quot;None&quot;</td><td>&quot;de&quot;</td><td>&quot;Kalte Heimat - Fluchtgeschicht…</td><td>&quot;&quot;</td><td>0.0071</td><td>&quot;None&quot;</td><td>&quot;&quot;</td><td>&quot;Documentary&quot;</td><td>&quot;&quot;</td><td>&quot;Germany&quot;</td><td>&quot;German&quot;</td><td>&quot;&quot;</td></tr></tbody></table></div>"
      ]
     },
     "execution_count": 5,
     "metadata": {},
     "output_type": "execute_result"
    }
   ],
   "execution_count": 5
  },
  {
   "metadata": {
    "ExecuteTime": {
     "end_time": "2025-10-01T11:52:44.522090Z",
     "start_time": "2025-10-01T11:52:44.495638Z"
    }
   },
   "cell_type": "code",
   "source": [
    "df.filter(\n",
    "    pl.col('budget') > 200000000\n",
    ")"
   ],
   "id": "e10d574fcee51426",
   "outputs": [
    {
     "data": {
      "text/plain": [
       "shape: (97, 24)\n",
       "┌─────────┬────────────┬───────────┬───────────┬───┬───────────┬───────────┬───────────┬───────────┐\n",
       "│ id      ┆ title      ┆ vote_aver ┆ vote_coun ┆ … ┆ productio ┆ productio ┆ spoken_la ┆ keywords  │\n",
       "│ ---     ┆ ---        ┆ age       ┆ t         ┆   ┆ n_compani ┆ n_countri ┆ nguages   ┆ ---       │\n",
       "│ i64     ┆ str        ┆ ---       ┆ ---       ┆   ┆ es        ┆ es        ┆ ---       ┆ str       │\n",
       "│         ┆            ┆ f64       ┆ i64       ┆   ┆ ---       ┆ ---       ┆ str       ┆           │\n",
       "│         ┆            ┆           ┆           ┆   ┆ str       ┆ str       ┆           ┆           │\n",
       "╞═════════╪════════════╪═══════════╪═══════════╪═══╪═══════════╪═══════════╪═══════════╪═══════════╡\n",
       "│ 19995   ┆ Avatar     ┆ 7.573     ┆ 29815     ┆ … ┆ Dune Ente ┆ United    ┆ English,  ┆ future,   │\n",
       "│         ┆            ┆           ┆           ┆   ┆ rtainment ┆ States of ┆ Spanish   ┆ society,  │\n",
       "│         ┆            ┆           ┆           ┆   ┆ , Lightst ┆ America,  ┆           ┆ culture   │\n",
       "│         ┆            ┆           ┆           ┆   ┆ orm…      ┆ Unit…     ┆           ┆ clash…    │\n",
       "│ 24428   ┆ The        ┆ 7.71      ┆ 29166     ┆ … ┆ Marvel    ┆ United    ┆ English,  ┆ new york  │\n",
       "│         ┆ Avengers   ┆           ┆           ┆   ┆ Studios   ┆ States of ┆ Hindi,    ┆ city, sup │\n",
       "│         ┆            ┆           ┆           ┆   ┆           ┆ America   ┆ Russian   ┆ erhero,   │\n",
       "│         ┆            ┆           ┆           ┆   ┆           ┆           ┆           ┆ shie…     │\n",
       "│ 299536  ┆ Avengers:  ┆ 8.255     ┆ 27713     ┆ … ┆ Marvel    ┆ United    ┆ English,  ┆ sacrifice │\n",
       "│         ┆ Infinity   ┆           ┆           ┆   ┆ Studios   ┆ States of ┆ Xhosa     ┆ , magic,  │\n",
       "│         ┆ War        ┆           ┆           ┆   ┆           ┆ America   ┆           ┆ superhero │\n",
       "│         ┆            ┆           ┆           ┆   ┆           ┆           ┆           ┆ , b…      │\n",
       "│ 299534  ┆ Avengers:  ┆ 8.263     ┆ 23857     ┆ … ┆ Marvel    ┆ United    ┆ English,  ┆ superhero │\n",
       "│         ┆ Endgame    ┆           ┆           ┆   ┆ Studios   ┆ States of ┆ Japanese, ┆ , time    │\n",
       "│         ┆            ┆           ┆           ┆   ┆           ┆ America   ┆ Xhosa     ┆ travel,   │\n",
       "│         ┆            ┆           ┆           ┆   ┆           ┆           ┆           ┆ space …   │\n",
       "│ 99861   ┆ Avengers:  ┆ 7.276     ┆ 21754     ┆ … ┆ Marvel    ┆ United    ┆ English   ┆ artificia │\n",
       "│         ┆ Age of     ┆           ┆           ┆   ┆ Studios   ┆ States of ┆           ┆ l intelli │\n",
       "│         ┆ Ultron     ┆           ┆           ┆   ┆           ┆ America   ┆           ┆ gence     │\n",
       "│         ┆            ┆           ┆           ┆   ┆           ┆           ┆           ┆ (a.i.)…   │\n",
       "│ …       ┆ …          ┆ …         ┆ …         ┆ … ┆ …         ┆ …         ┆ …         ┆ …         │\n",
       "│ 614946  ┆ Just Cause ┆ 0.0       ┆ 0         ┆ … ┆ Constanti ┆ Germany,  ┆ English   ┆           │\n",
       "│         ┆            ┆           ┆           ┆   ┆ n Film,   ┆ United    ┆           ┆           │\n",
       "│         ┆            ┆           ┆           ┆   ┆ Prime     ┆ States of ┆           ┆           │\n",
       "│         ┆            ┆           ┆           ┆   ┆ Univers…  ┆ Amer…     ┆           ┆           │\n",
       "│ 83533   ┆ Avatar 3   ┆ 0.0       ┆ 0         ┆ … ┆ Lightstor ┆ United    ┆ English   ┆ sequel    │\n",
       "│         ┆            ┆           ┆           ┆   ┆ m Enterta ┆ States of ┆           ┆           │\n",
       "│         ┆            ┆           ┆           ┆   ┆ inment,   ┆ America   ┆           ┆           │\n",
       "│         ┆            ┆           ┆           ┆   ┆ 20th…     ┆           ┆           ┆           │\n",
       "│ 216527  ┆ Avatar 4   ┆ 0.0       ┆ 0         ┆ … ┆ Lightstor ┆ United    ┆ English   ┆ sequel    │\n",
       "│         ┆            ┆           ┆           ┆   ┆ m Enterta ┆ States of ┆           ┆           │\n",
       "│         ┆            ┆           ┆           ┆   ┆ inment,   ┆ America   ┆           ┆           │\n",
       "│         ┆            ┆           ┆           ┆   ┆ 20th…     ┆           ┆           ┆           │\n",
       "│ 393209  ┆ Avatar 5   ┆ 0.0       ┆ 0         ┆ … ┆ Lightstor ┆ United    ┆ English   ┆ sequel    │\n",
       "│         ┆            ┆           ┆           ┆   ┆ m Enterta ┆ States of ┆           ┆           │\n",
       "│         ┆            ┆           ┆           ┆   ┆ inment,   ┆ America   ┆           ┆           │\n",
       "│         ┆            ┆           ┆           ┆   ┆ 20th…     ┆           ┆           ┆           │\n",
       "│ 1022208 ┆ Крик 4     ┆ 0.0       ┆ 0         ┆ … ┆           ┆           ┆           ┆           │\n",
       "└─────────┴────────────┴───────────┴───────────┴───┴───────────┴───────────┴───────────┴───────────┘"
      ],
      "text/html": [
       "<div><style>\n",
       ".dataframe > thead > tr,\n",
       ".dataframe > tbody > tr {\n",
       "  text-align: right;\n",
       "  white-space: pre-wrap;\n",
       "}\n",
       "</style>\n",
       "<small>shape: (97, 24)</small><table border=\"1\" class=\"dataframe\"><thead><tr><th>id</th><th>title</th><th>vote_average</th><th>vote_count</th><th>status</th><th>release_date</th><th>revenue</th><th>runtime</th><th>adult</th><th>backdrop_path</th><th>budget</th><th>homepage</th><th>imdb_id</th><th>original_language</th><th>original_title</th><th>overview</th><th>popularity</th><th>poster_path</th><th>tagline</th><th>genres</th><th>production_companies</th><th>production_countries</th><th>spoken_languages</th><th>keywords</th></tr><tr><td>i64</td><td>str</td><td>f64</td><td>i64</td><td>str</td><td>str</td><td>i64</td><td>i64</td><td>bool</td><td>str</td><td>i64</td><td>str</td><td>str</td><td>str</td><td>str</td><td>str</td><td>f64</td><td>str</td><td>str</td><td>str</td><td>str</td><td>str</td><td>str</td><td>str</td></tr></thead><tbody><tr><td>19995</td><td>&quot;Avatar&quot;</td><td>7.573</td><td>29815</td><td>&quot;Released&quot;</td><td>&quot;2009-12-15&quot;</td><td>2923706026</td><td>162</td><td>false</td><td>&quot;/vL5LR6WdxWPjLPFRLe133jXWsh5.j…</td><td>237000000</td><td>&quot;https://www.avatar.com/movies/…</td><td>&quot;tt0499549&quot;</td><td>&quot;en&quot;</td><td>&quot;Avatar&quot;</td><td>&quot;In the 22nd century, a paraple…</td><td>79.932</td><td>&quot;/kyeqWdyUXW608qlYkRqosgbbJyK.j…</td><td>&quot;Enter the world of Pandora.&quot;</td><td>&quot;Action, Adventure, Fantasy, Sc…</td><td>&quot;Dune Entertainment, Lightstorm…</td><td>&quot;United States of America, Unit…</td><td>&quot;English, Spanish&quot;</td><td>&quot;future, society, culture clash…</td></tr><tr><td>24428</td><td>&quot;The Avengers&quot;</td><td>7.71</td><td>29166</td><td>&quot;Released&quot;</td><td>&quot;2012-04-25&quot;</td><td>1518815515</td><td>143</td><td>false</td><td>&quot;/9BBTo63ANSmhC4e6r62OJFuK2GL.j…</td><td>220000000</td><td>&quot;https://www.marvel.com/movies/…</td><td>&quot;tt0848228&quot;</td><td>&quot;en&quot;</td><td>&quot;The Avengers&quot;</td><td>&quot;When an unexpected enemy emerg…</td><td>98.082</td><td>&quot;/RYMX2wcKCBAr24UyPD7xwmjaTn.jp…</td><td>&quot;Some assembly required.&quot;</td><td>&quot;Science Fiction, Action, Adven…</td><td>&quot;Marvel Studios&quot;</td><td>&quot;United States of America&quot;</td><td>&quot;English, Hindi, Russian&quot;</td><td>&quot;new york city, superhero, shie…</td></tr><tr><td>299536</td><td>&quot;Avengers: Infinity War&quot;</td><td>8.255</td><td>27713</td><td>&quot;Released&quot;</td><td>&quot;2018-04-25&quot;</td><td>2052415039</td><td>149</td><td>false</td><td>&quot;/mDfJG3LC3Dqb67AZ52x3Z0jU0uB.j…</td><td>300000000</td><td>&quot;https://www.marvel.com/movies/…</td><td>&quot;tt4154756&quot;</td><td>&quot;en&quot;</td><td>&quot;Avengers: Infinity War&quot;</td><td>&quot;As the Avengers and their alli…</td><td>154.34</td><td>&quot;/7WsyChQLEftFiDOVTGkv3hFpyyt.j…</td><td>&quot;An entire universe. Once and f…</td><td>&quot;Adventure, Action, Science Fic…</td><td>&quot;Marvel Studios&quot;</td><td>&quot;United States of America&quot;</td><td>&quot;English, Xhosa&quot;</td><td>&quot;sacrifice, magic, superhero, b…</td></tr><tr><td>299534</td><td>&quot;Avengers: Endgame&quot;</td><td>8.263</td><td>23857</td><td>&quot;Released&quot;</td><td>&quot;2019-04-24&quot;</td><td>2800000000</td><td>181</td><td>false</td><td>&quot;/7RyHsO4yDXtBv1zUU3mTpHeQ0d5.j…</td><td>356000000</td><td>&quot;https://www.marvel.com/movies/…</td><td>&quot;tt4154796&quot;</td><td>&quot;en&quot;</td><td>&quot;Avengers: Endgame&quot;</td><td>&quot;After the devastating events o…</td><td>91.756</td><td>&quot;/or06FN3Dka5tukK1e9sl16pB3iy.j…</td><td>&quot;Avenge the fallen.&quot;</td><td>&quot;Adventure, Science Fiction, Ac…</td><td>&quot;Marvel Studios&quot;</td><td>&quot;United States of America&quot;</td><td>&quot;English, Japanese, Xhosa&quot;</td><td>&quot;superhero, time travel, space …</td></tr><tr><td>99861</td><td>&quot;Avengers: Age of Ultron&quot;</td><td>7.276</td><td>21754</td><td>&quot;Released&quot;</td><td>&quot;2015-04-22&quot;</td><td>1405403694</td><td>141</td><td>false</td><td>&quot;/6YwkGolwdOMNpbTOmLjoehlVWs5.j…</td><td>365000000</td><td>&quot;http://marvel.com/movies/movie…</td><td>&quot;tt2395427&quot;</td><td>&quot;en&quot;</td><td>&quot;Avengers: Age of Ultron&quot;</td><td>&quot;When Tony Stark tries to jumps…</td><td>96.565</td><td>&quot;/4ssDuvEDkSArWEdyBl2X5EHvYKU.j…</td><td>&quot;A new age has come.&quot;</td><td>&quot;Action, Adventure, Science Fic…</td><td>&quot;Marvel Studios&quot;</td><td>&quot;United States of America&quot;</td><td>&quot;English&quot;</td><td>&quot;artificial intelligence (a.i.)…</td></tr><tr><td>&hellip;</td><td>&hellip;</td><td>&hellip;</td><td>&hellip;</td><td>&hellip;</td><td>&hellip;</td><td>&hellip;</td><td>&hellip;</td><td>&hellip;</td><td>&hellip;</td><td>&hellip;</td><td>&hellip;</td><td>&hellip;</td><td>&hellip;</td><td>&hellip;</td><td>&hellip;</td><td>&hellip;</td><td>&hellip;</td><td>&hellip;</td><td>&hellip;</td><td>&hellip;</td><td>&hellip;</td><td>&hellip;</td><td>&hellip;</td></tr><tr><td>614946</td><td>&quot;Just Cause&quot;</td><td>0.0</td><td>0</td><td>&quot;Planned&quot;</td><td>&quot;&quot;</td><td>0</td><td>0</td><td>false</td><td>&quot;&quot;</td><td>245000000</td><td>&quot;&quot;</td><td>&quot;tt1489905&quot;</td><td>&quot;en&quot;</td><td>&quot;Just Cause&quot;</td><td>&quot;The story of a deadly CIA blac…</td><td>0.6</td><td>&quot;&quot;</td><td>&quot;&quot;</td><td>&quot;Action, Adventure&quot;</td><td>&quot;Constantin Film, Prime Univers…</td><td>&quot;Germany, United States of Amer…</td><td>&quot;English&quot;</td><td>&quot;&quot;</td></tr><tr><td>83533</td><td>&quot;Avatar 3&quot;</td><td>0.0</td><td>0</td><td>&quot;Post Production&quot;</td><td>&quot;2025-12-17&quot;</td><td>0</td><td>0</td><td>false</td><td>&quot;&quot;</td><td>500000000</td><td>&quot;https://www.avatar.com/movies&quot;</td><td>&quot;tt1757678&quot;</td><td>&quot;en&quot;</td><td>&quot;Avatar 3&quot;</td><td>&quot;The third entry in the Avatar …</td><td>14.635</td><td>&quot;/eZXoA5BjUxm1fdAKb3lPvbDY2L8.j…</td><td>&quot;&quot;</td><td>&quot;Action, Science Fiction, Adven…</td><td>&quot;Lightstorm Entertainment, 20th…</td><td>&quot;United States of America&quot;</td><td>&quot;English&quot;</td><td>&quot;sequel&quot;</td></tr><tr><td>216527</td><td>&quot;Avatar 4&quot;</td><td>0.0</td><td>0</td><td>&quot;In Production&quot;</td><td>&quot;2029-12-20&quot;</td><td>0</td><td>0</td><td>false</td><td>&quot;&quot;</td><td>500000000</td><td>&quot;https://www.avatar.com/movies&quot;</td><td>&quot;tt3095356&quot;</td><td>&quot;en&quot;</td><td>&quot;Avatar 4&quot;</td><td>&quot;&quot;</td><td>7.284</td><td>&quot;/xGcd3ob2DWC3TmlVhnJg1RLyTGi.j…</td><td>&quot;&quot;</td><td>&quot;Action, Science Fiction, Adven…</td><td>&quot;Lightstorm Entertainment, 20th…</td><td>&quot;United States of America&quot;</td><td>&quot;English&quot;</td><td>&quot;sequel&quot;</td></tr><tr><td>393209</td><td>&quot;Avatar 5&quot;</td><td>0.0</td><td>0</td><td>&quot;In Production&quot;</td><td>&quot;2031-12-18&quot;</td><td>0</td><td>0</td><td>false</td><td>&quot;&quot;</td><td>600000000</td><td>&quot;https://www.avatar.com/movies&quot;</td><td>&quot;tt5637536&quot;</td><td>&quot;en&quot;</td><td>&quot;Avatar 5&quot;</td><td>&quot;&quot;</td><td>9.629</td><td>&quot;/vAvLQOyFoire5x8AmRNfvgkvrMZ.j…</td><td>&quot;&quot;</td><td>&quot;Action, Adventure, Science Fic…</td><td>&quot;Lightstorm Entertainment, 20th…</td><td>&quot;United States of America&quot;</td><td>&quot;English&quot;</td><td>&quot;sequel&quot;</td></tr><tr><td>1022208</td><td>&quot;Крик 4&quot;</td><td>0.0</td><td>0</td><td>&quot;Released&quot;</td><td>&quot;2022-09-08&quot;</td><td>546546755</td><td>0</td><td>true</td><td>&quot;&quot;</td><td>645654654</td><td>&quot;&quot;</td><td>&quot;&quot;</td><td>&quot;ru&quot;</td><td>&quot;Крик 4&quot;</td><td>&quot;&quot;</td><td>0.6</td><td>&quot;&quot;</td><td>&quot;&quot;</td><td>&quot;Horror&quot;</td><td>&quot;&quot;</td><td>&quot;&quot;</td><td>&quot;&quot;</td><td>&quot;&quot;</td></tr></tbody></table></div>"
      ]
     },
     "execution_count": 6,
     "metadata": {},
     "output_type": "execute_result"
    }
   ],
   "execution_count": 6
  },
  {
   "metadata": {
    "ExecuteTime": {
     "end_time": "2025-10-01T11:54:31.625391Z",
     "start_time": "2025-10-01T11:54:31.515417Z"
    }
   },
   "cell_type": "code",
   "source": [
    "df.select(\n",
    "    pl.col('title').unique() # 1296423\n",
    ")"
   ],
   "id": "8a00e5b11b0cd64b",
   "outputs": [
    {
     "data": {
      "text/plain": [
       "shape: (1_105_370, 1)\n",
       "┌─────────────────────────────────┐\n",
       "│ title                           │\n",
       "│ ---                             │\n",
       "│ str                             │\n",
       "╞═════════════════════════════════╡\n",
       "│ Sore Eyes for Infinity          │\n",
       "│ Meetings. Episode 1             │\n",
       "│ Green Tea Girls 2               │\n",
       "│ Evliya Çelebi ve Ölümsüzlük Su… │\n",
       "│ Reprieve                        │\n",
       "│ …                               │\n",
       "│ To Us                           │\n",
       "│ Avions de chasse : une technol… │\n",
       "│ Ceberruh                        │\n",
       "│ Social Distortion - Live Area … │\n",
       "│ Arohi                           │\n",
       "└─────────────────────────────────┘"
      ],
      "text/html": [
       "<div><style>\n",
       ".dataframe > thead > tr,\n",
       ".dataframe > tbody > tr {\n",
       "  text-align: right;\n",
       "  white-space: pre-wrap;\n",
       "}\n",
       "</style>\n",
       "<small>shape: (1_105_370, 1)</small><table border=\"1\" class=\"dataframe\"><thead><tr><th>title</th></tr><tr><td>str</td></tr></thead><tbody><tr><td>&quot;Sore Eyes for Infinity&quot;</td></tr><tr><td>&quot;Meetings. Episode 1&quot;</td></tr><tr><td>&quot;Green Tea Girls 2&quot;</td></tr><tr><td>&quot;Evliya Çelebi ve Ölümsüzlük Su…</td></tr><tr><td>&quot;Reprieve&quot;</td></tr><tr><td>&hellip;</td></tr><tr><td>&quot;To Us&quot;</td></tr><tr><td>&quot;Avions de chasse : une technol…</td></tr><tr><td>&quot;Ceberruh&quot;</td></tr><tr><td>&quot;Social Distortion - Live Area …</td></tr><tr><td>&quot;Arohi&quot;</td></tr></tbody></table></div>"
      ]
     },
     "execution_count": 10,
     "metadata": {},
     "output_type": "execute_result"
    }
   ],
   "execution_count": 10
  },
  {
   "metadata": {
    "ExecuteTime": {
     "end_time": "2025-10-01T12:31:59.622602Z",
     "start_time": "2025-10-01T12:31:59.453882Z"
    }
   },
   "cell_type": "code",
   "source": [
    "df.select(\n",
    "    pl.col('title'), pl.col('release_date')\n",
    ").group_by(\n",
    "    'title', 'release_date'\n",
    ").len().sort(by='len', descending=True).filter(\n",
    "    pl.col('release_date') != ''\n",
    ")"
   ],
   "id": "1d7e4bcd6f33afa4",
   "outputs": [
    {
     "data": {
      "text/plain": [
       "shape: (1_037_077, 3)\n",
       "┌─────────────────────────────────┬──────────────┬─────┐\n",
       "│ title                           ┆ release_date ┆ len │\n",
       "│ ---                             ┆ ---          ┆ --- │\n",
       "│ str                             ┆ str          ┆ u32 │\n",
       "╞═════════════════════════════════╪══════════════╪═════╡\n",
       "│ Die Hart 2: Die Harter          ┆ 2024-05-30   ┆ 23  │\n",
       "│ Emesis Blue                     ┆ 2023-02-20   ┆ 17  │\n",
       "│ Kickassia                       ┆ 2010-10-17   ┆ 12  │\n",
       "│ Die Hart: Die Harter            ┆ 2024-05-30   ┆ 11  │\n",
       "│ Spider-Man: Lotus               ┆ 2023-08-05   ┆ 9   │\n",
       "│ …                               ┆ …            ┆ …   │\n",
       "│ Raw Thugs                       ┆ 2005-09-06   ┆ 1   │\n",
       "│ The Cat Empire Live at the Bow… ┆ 2009-02-20   ┆ 1   │\n",
       "│ Freelance                       ┆ 2024-01-01   ┆ 1   │\n",
       "│ The Wet Dream                   ┆ 2006-02-04   ┆ 1   │\n",
       "│ A Sip with Vodka: A Russian Gu… ┆ 2020-01-06   ┆ 1   │\n",
       "└─────────────────────────────────┴──────────────┴─────┘"
      ],
      "text/html": [
       "<div><style>\n",
       ".dataframe > thead > tr,\n",
       ".dataframe > tbody > tr {\n",
       "  text-align: right;\n",
       "  white-space: pre-wrap;\n",
       "}\n",
       "</style>\n",
       "<small>shape: (1_037_077, 3)</small><table border=\"1\" class=\"dataframe\"><thead><tr><th>title</th><th>release_date</th><th>len</th></tr><tr><td>str</td><td>str</td><td>u32</td></tr></thead><tbody><tr><td>&quot;Die Hart 2: Die Harter&quot;</td><td>&quot;2024-05-30&quot;</td><td>23</td></tr><tr><td>&quot;Emesis Blue&quot;</td><td>&quot;2023-02-20&quot;</td><td>17</td></tr><tr><td>&quot;Kickassia&quot;</td><td>&quot;2010-10-17&quot;</td><td>12</td></tr><tr><td>&quot;Die Hart: Die Harter&quot;</td><td>&quot;2024-05-30&quot;</td><td>11</td></tr><tr><td>&quot;Spider-Man: Lotus&quot;</td><td>&quot;2023-08-05&quot;</td><td>9</td></tr><tr><td>&hellip;</td><td>&hellip;</td><td>&hellip;</td></tr><tr><td>&quot;Raw Thugs&quot;</td><td>&quot;2005-09-06&quot;</td><td>1</td></tr><tr><td>&quot;The Cat Empire Live at the Bow…</td><td>&quot;2009-02-20&quot;</td><td>1</td></tr><tr><td>&quot;Freelance&quot;</td><td>&quot;2024-01-01&quot;</td><td>1</td></tr><tr><td>&quot;The Wet Dream&quot;</td><td>&quot;2006-02-04&quot;</td><td>1</td></tr><tr><td>&quot;A Sip with Vodka: A Russian Gu…</td><td>&quot;2020-01-06&quot;</td><td>1</td></tr></tbody></table></div>"
      ]
     },
     "execution_count": 22,
     "metadata": {},
     "output_type": "execute_result"
    }
   ],
   "execution_count": 22
  },
  {
   "metadata": {
    "ExecuteTime": {
     "end_time": "2025-10-01T12:34:09.800403Z",
     "start_time": "2025-10-01T12:34:09.779950Z"
    }
   },
   "cell_type": "code",
   "source": [
    "df.filter(\n",
    "    pl.col('title') == \"RED\"\n",
    ")"
   ],
   "id": "9100e71562f4f40d",
   "outputs": [
    {
     "data": {
      "text/plain": [
       "shape: (12, 24)\n",
       "┌─────────┬───────┬────────────┬────────────┬───┬────────────┬────────────┬────────────┬───────────┐\n",
       "│ id      ┆ title ┆ vote_avera ┆ vote_count ┆ … ┆ production ┆ production ┆ spoken_lan ┆ keywords  │\n",
       "│ ---     ┆ ---   ┆ ge         ┆ ---        ┆   ┆ _companies ┆ _countries ┆ guages     ┆ ---       │\n",
       "│ i64     ┆ str   ┆ ---        ┆ i64        ┆   ┆ ---        ┆ ---        ┆ ---        ┆ str       │\n",
       "│         ┆       ┆ f64        ┆            ┆   ┆ str        ┆ str        ┆ str        ┆           │\n",
       "╞═════════╪═══════╪════════════╪════════════╪═══╪════════════╪════════════╪════════════╪═══════════╡\n",
       "│ 39514   ┆ RED   ┆ 6.685      ┆ 6282       ┆ … ┆ di Bonaven ┆ Canada,    ┆ English,   ┆ assassin, │\n",
       "│         ┆       ┆            ┆            ┆   ┆ tura       ┆ United     ┆ Russian    ┆ cia, unde │\n",
       "│         ┆       ┆            ┆            ┆   ┆ Pictures,  ┆ States of  ┆            ┆ rcover    │\n",
       "│         ┆       ┆            ┆            ┆   ┆ DC Co…     ┆ Ameri…     ┆            ┆ agen…     │\n",
       "│ 980848  ┆ RED   ┆ 5.8        ┆ 19         ┆ … ┆            ┆            ┆ Assamese   ┆           │\n",
       "│ 1070136 ┆ RED   ┆ 5.167      ┆ 18         ┆ … ┆ Jo Jo Prod ┆ United     ┆ English    ┆           │\n",
       "│         ┆       ┆            ┆            ┆   ┆ uctions    ┆ States of  ┆            ┆           │\n",
       "│         ┆       ┆            ┆            ┆   ┆            ┆ America    ┆            ┆           │\n",
       "│ 860964  ┆ RED   ┆ 3.6        ┆ 10         ┆ … ┆            ┆            ┆            ┆           │\n",
       "│ 629524  ┆ RED   ┆ 5.9        ┆ 10         ┆ … ┆            ┆ Australia  ┆            ┆           │\n",
       "│ …       ┆ …     ┆ …          ┆ …          ┆ … ┆ …          ┆ …          ┆ …          ┆ …         │\n",
       "│ 1477253 ┆ RED   ┆ 0.0        ┆ 0          ┆ … ┆            ┆            ┆            ┆           │\n",
       "│ 1499767 ┆ RED   ┆ 0.0        ┆ 0          ┆ … ┆ KR6 Produc ┆            ┆ English    ┆           │\n",
       "│         ┆       ┆            ┆            ┆   ┆ tions      ┆            ┆            ┆           │\n",
       "│ 1489606 ┆ RED   ┆ 0.0        ┆ 0          ┆ … ┆            ┆            ┆            ┆           │\n",
       "│ 1329680 ┆ RED   ┆ 0.0        ┆ 0          ┆ … ┆            ┆            ┆            ┆           │\n",
       "│ 1387341 ┆ RED   ┆ 0.0        ┆ 0          ┆ … ┆            ┆            ┆            ┆           │\n",
       "└─────────┴───────┴────────────┴────────────┴───┴────────────┴────────────┴────────────┴───────────┘"
      ],
      "text/html": [
       "<div><style>\n",
       ".dataframe > thead > tr,\n",
       ".dataframe > tbody > tr {\n",
       "  text-align: right;\n",
       "  white-space: pre-wrap;\n",
       "}\n",
       "</style>\n",
       "<small>shape: (12, 24)</small><table border=\"1\" class=\"dataframe\"><thead><tr><th>id</th><th>title</th><th>vote_average</th><th>vote_count</th><th>status</th><th>release_date</th><th>revenue</th><th>runtime</th><th>adult</th><th>backdrop_path</th><th>budget</th><th>homepage</th><th>imdb_id</th><th>original_language</th><th>original_title</th><th>overview</th><th>popularity</th><th>poster_path</th><th>tagline</th><th>genres</th><th>production_companies</th><th>production_countries</th><th>spoken_languages</th><th>keywords</th></tr><tr><td>i64</td><td>str</td><td>f64</td><td>i64</td><td>str</td><td>str</td><td>i64</td><td>i64</td><td>bool</td><td>str</td><td>i64</td><td>str</td><td>str</td><td>str</td><td>str</td><td>str</td><td>f64</td><td>str</td><td>str</td><td>str</td><td>str</td><td>str</td><td>str</td><td>str</td></tr></thead><tbody><tr><td>39514</td><td>&quot;RED&quot;</td><td>6.685</td><td>6282</td><td>&quot;Released&quot;</td><td>&quot;2010-10-13&quot;</td><td>199000000</td><td>111</td><td>false</td><td>&quot;/5tqBeCUaNHptScH3rBixjE5z2NV.j…</td><td>58000000</td><td>&quot;&quot;</td><td>&quot;tt1245526&quot;</td><td>&quot;en&quot;</td><td>&quot;RED&quot;</td><td>&quot;After surviving an assault fro…</td><td>25.561</td><td>&quot;/8eeK3OB5PeSRQD7BpZcGZKkehG.jp…</td><td>&quot;Still armed. Still dangerous. …</td><td>&quot;Action, Adventure, Comedy, Cri…</td><td>&quot;di Bonaventura Pictures, DC Co…</td><td>&quot;Canada, United States of Ameri…</td><td>&quot;English, Russian&quot;</td><td>&quot;assassin, cia, undercover agen…</td></tr><tr><td>980848</td><td>&quot;RED&quot;</td><td>5.8</td><td>19</td><td>&quot;Released&quot;</td><td>&quot;&quot;</td><td>500</td><td>10</td><td>false</td><td>&quot;&quot;</td><td>1000</td><td>&quot;&quot;</td><td>&quot;&quot;</td><td>&quot;as&quot;</td><td>&quot;RED&quot;</td><td>&quot;SUMMARY:-&nbsp;&nbsp;A girl wakes up ear…</td><td>1.266</td><td>&quot;&quot;</td><td>&quot;RED&quot;</td><td>&quot;&quot;</td><td>&quot;&quot;</td><td>&quot;&quot;</td><td>&quot;Assamese&quot;</td><td>&quot;&quot;</td></tr><tr><td>1070136</td><td>&quot;RED&quot;</td><td>5.167</td><td>18</td><td>&quot;Released&quot;</td><td>&quot;2009-09-12&quot;</td><td>0</td><td>43</td><td>false</td><td>&quot;&quot;</td><td>0</td><td>&quot;&quot;</td><td>&quot;&quot;</td><td>&quot;en&quot;</td><td>&quot;RED&quot;</td><td>&quot;Set in the Cold War era of the…</td><td>1.844</td><td>&quot;/pcTNuXYE5RQ708GtZE6YhbRFN55.j…</td><td>&quot;&quot;</td><td>&quot;Drama, History, Thriller&quot;</td><td>&quot;Jo Jo Productions&quot;</td><td>&quot;United States of America&quot;</td><td>&quot;English&quot;</td><td>&quot;&quot;</td></tr><tr><td>860964</td><td>&quot;RED&quot;</td><td>3.6</td><td>10</td><td>&quot;Released&quot;</td><td>&quot;&quot;</td><td>0</td><td>0</td><td>false</td><td>&quot;&quot;</td><td>0</td><td>&quot;&quot;</td><td>&quot;&quot;</td><td>&quot;es&quot;</td><td>&quot;RED&quot;</td><td>&quot;&quot;</td><td>0.6</td><td>&quot;/5pkRM9wLjeedUEo84z87TfERknK.j…</td><td>&quot;&quot;</td><td>&quot;&quot;</td><td>&quot;&quot;</td><td>&quot;&quot;</td><td>&quot;&quot;</td><td>&quot;&quot;</td></tr><tr><td>629524</td><td>&quot;RED&quot;</td><td>5.9</td><td>10</td><td>&quot;Released&quot;</td><td>&quot;&quot;</td><td>0</td><td>3</td><td>false</td><td>&quot;&quot;</td><td>0</td><td>&quot;&quot;</td><td>&quot;&quot;</td><td>&quot;en&quot;</td><td>&quot;RED&quot;</td><td>&quot;He was at the bay when his wor…</td><td>0.6</td><td>&quot;/gGH97LgVnfhZT9n6k9veaNgCdWL.j…</td><td>&quot;&quot;</td><td>&quot;Mystery&quot;</td><td>&quot;&quot;</td><td>&quot;Australia&quot;</td><td>&quot;&quot;</td><td>&quot;&quot;</td></tr><tr><td>&hellip;</td><td>&hellip;</td><td>&hellip;</td><td>&hellip;</td><td>&hellip;</td><td>&hellip;</td><td>&hellip;</td><td>&hellip;</td><td>&hellip;</td><td>&hellip;</td><td>&hellip;</td><td>&hellip;</td><td>&hellip;</td><td>&hellip;</td><td>&hellip;</td><td>&hellip;</td><td>&hellip;</td><td>&hellip;</td><td>&hellip;</td><td>&hellip;</td><td>&hellip;</td><td>&hellip;</td><td>&hellip;</td><td>&hellip;</td></tr><tr><td>1477253</td><td>&quot;RED&quot;</td><td>0.0</td><td>0</td><td>&quot;Released&quot;</td><td>&quot;&quot;</td><td>0</td><td>13</td><td>false</td><td>&quot;&quot;</td><td>0</td><td>&quot;&quot;</td><td>&quot;&quot;</td><td>&quot;en&quot;</td><td>&quot;RED&quot;</td><td>&quot;Iranian short film&quot;</td><td>0.0071</td><td>&quot;&quot;</td><td>&quot;RED&quot;</td><td>&quot;&quot;</td><td>&quot;&quot;</td><td>&quot;&quot;</td><td>&quot;&quot;</td><td>&quot;&quot;</td></tr><tr><td>1499767</td><td>&quot;RED&quot;</td><td>0.0</td><td>0</td><td>&quot;Released&quot;</td><td>&quot;2025-06-21&quot;</td><td>0</td><td>4</td><td>false</td><td>&quot;/cepfAVo3KgfFjVK1JiWvMhbqu76.j…</td><td>0</td><td>&quot;http://www.kr6productions.co.z…</td><td>&quot;&quot;</td><td>&quot;en&quot;</td><td>&quot;RED&quot;</td><td>&quot;Before Blou Klip, and before S…</td><td>0.0214</td><td>&quot;/zoIAwYbQ6sRs8IUaZZdX9q33j4R.j…</td><td>&quot;Does he have your attention no…</td><td>&quot;Crime, Action&quot;</td><td>&quot;KR6 Productions&quot;</td><td>&quot;&quot;</td><td>&quot;English&quot;</td><td>&quot;&quot;</td></tr><tr><td>1489606</td><td>&quot;RED&quot;</td><td>0.0</td><td>0</td><td>&quot;Released&quot;</td><td>&quot;2023-05-31&quot;</td><td>0</td><td>10</td><td>false</td><td>&quot;&quot;</td><td>0</td><td>&quot;&quot;</td><td>&quot;tt27773706&quot;</td><td>&quot;en&quot;</td><td>&quot;RED&quot;</td><td>&quot;Three people are interviewed b…</td><td>0.0214</td><td>&quot;/csy3cTErYFzAY7iP9qAiyD6F8rJ.j…</td><td>&quot;How did you know him?&quot;</td><td>&quot;&quot;</td><td>&quot;&quot;</td><td>&quot;&quot;</td><td>&quot;&quot;</td><td>&quot;&quot;</td></tr><tr><td>1329680</td><td>&quot;RED&quot;</td><td>0.0</td><td>0</td><td>&quot;Released&quot;</td><td>&quot;&quot;</td><td>0</td><td>195</td><td>false</td><td>&quot;&quot;</td><td>0</td><td>&quot;&quot;</td><td>&quot;tt32288244&quot;</td><td>&quot;en&quot;</td><td>&quot;RED&quot;</td><td>&quot;The television adaptation of R…</td><td>0.0</td><td>&quot;/7c8ZG1ybKmSRMrYDdn61nj01QIk.j…</td><td>&quot;&quot;</td><td>&quot;&quot;</td><td>&quot;&quot;</td><td>&quot;&quot;</td><td>&quot;&quot;</td><td>&quot;&quot;</td></tr><tr><td>1387341</td><td>&quot;RED&quot;</td><td>0.0</td><td>0</td><td>&quot;Released&quot;</td><td>&quot;&quot;</td><td>0</td><td>8</td><td>false</td><td>&quot;&quot;</td><td>0</td><td>&quot;&quot;</td><td>&quot;&quot;</td><td>&quot;en&quot;</td><td>&quot;RED&quot;</td><td>&quot;A modern version of the Little…</td><td>0.6</td><td>&quot;&quot;</td><td>&quot;&quot;</td><td>&quot;&quot;</td><td>&quot;&quot;</td><td>&quot;&quot;</td><td>&quot;&quot;</td><td>&quot;&quot;</td></tr></tbody></table></div>"
      ]
     },
     "execution_count": 26,
     "metadata": {},
     "output_type": "execute_result"
    }
   ],
   "execution_count": 26
  },
  {
   "metadata": {
    "ExecuteTime": {
     "end_time": "2025-10-01T12:36:10.212907Z",
     "start_time": "2025-10-01T12:36:10.189411Z"
    }
   },
   "cell_type": "code",
   "source": [
    "df.filter(\n",
    "    pl.col('vote_count') > 5\n",
    ")"
   ],
   "id": "c5c51b2d4866c5ec",
   "outputs": [
    {
     "data": {
      "text/plain": [
       "shape: (110_913, 24)\n",
       "┌─────────┬────────────┬───────────┬───────────┬───┬───────────┬───────────┬───────────┬───────────┐\n",
       "│ id      ┆ title      ┆ vote_aver ┆ vote_coun ┆ … ┆ productio ┆ productio ┆ spoken_la ┆ keywords  │\n",
       "│ ---     ┆ ---        ┆ age       ┆ t         ┆   ┆ n_compani ┆ n_countri ┆ nguages   ┆ ---       │\n",
       "│ i64     ┆ str        ┆ ---       ┆ ---       ┆   ┆ es        ┆ es        ┆ ---       ┆ str       │\n",
       "│         ┆            ┆ f64       ┆ i64       ┆   ┆ ---       ┆ ---       ┆ str       ┆           │\n",
       "│         ┆            ┆           ┆           ┆   ┆ str       ┆ str       ┆           ┆           │\n",
       "╞═════════╪════════════╪═══════════╪═══════════╪═══╪═══════════╪═══════════╪═══════════╪═══════════╡\n",
       "│ 27205   ┆ Inception  ┆ 8.364     ┆ 34495     ┆ … ┆ Legendary ┆ United    ┆ English,  ┆ rescue,   │\n",
       "│         ┆            ┆           ┆           ┆   ┆ Pictures, ┆ Kingdom,  ┆ French,   ┆ mission,  │\n",
       "│         ┆            ┆           ┆           ┆   ┆ Syncopy,  ┆ United    ┆ Japanese, ┆ dream,    │\n",
       "│         ┆            ┆           ┆           ┆   ┆ W…        ┆ States …  ┆ Swa…      ┆ airpla…   │\n",
       "│ 157336  ┆ Interstell ┆ 8.417     ┆ 32571     ┆ … ┆ Legendary ┆ United    ┆ English   ┆ rescue,   │\n",
       "│         ┆ ar         ┆           ┆           ┆   ┆ Pictures, ┆ Kingdom,  ┆           ┆ future,   │\n",
       "│         ┆            ┆           ┆           ┆   ┆ Syncopy,  ┆ United    ┆           ┆ spacecraf │\n",
       "│         ┆            ┆           ┆           ┆   ┆ L…        ┆ States …  ┆           ┆ t, ra…    │\n",
       "│ 155     ┆ The Dark   ┆ 8.512     ┆ 30619     ┆ … ┆ DC        ┆ United    ┆ English,  ┆ joker,    │\n",
       "│         ┆ Knight     ┆           ┆           ┆   ┆ Comics,   ┆ Kingdom,  ┆ Mandarin  ┆ sadism,   │\n",
       "│         ┆            ┆           ┆           ┆   ┆ Legendary ┆ United    ┆           ┆ chaos,    │\n",
       "│         ┆            ┆           ┆           ┆   ┆ Pictures, ┆ States …  ┆           ┆ secret i… │\n",
       "│         ┆            ┆           ┆           ┆   ┆ …         ┆           ┆           ┆           │\n",
       "│ 19995   ┆ Avatar     ┆ 7.573     ┆ 29815     ┆ … ┆ Dune Ente ┆ United    ┆ English,  ┆ future,   │\n",
       "│         ┆            ┆           ┆           ┆   ┆ rtainment ┆ States of ┆ Spanish   ┆ society,  │\n",
       "│         ┆            ┆           ┆           ┆   ┆ , Lightst ┆ America,  ┆           ┆ culture   │\n",
       "│         ┆            ┆           ┆           ┆   ┆ orm…      ┆ Unit…     ┆           ┆ clash…    │\n",
       "│ 24428   ┆ The        ┆ 7.71      ┆ 29166     ┆ … ┆ Marvel    ┆ United    ┆ English,  ┆ new york  │\n",
       "│         ┆ Avengers   ┆           ┆           ┆   ┆ Studios   ┆ States of ┆ Hindi,    ┆ city, sup │\n",
       "│         ┆            ┆           ┆           ┆   ┆           ┆ America   ┆ Russian   ┆ erhero,   │\n",
       "│         ┆            ┆           ┆           ┆   ┆           ┆           ┆           ┆ shie…     │\n",
       "│ …       ┆ …          ┆ …         ┆ …         ┆ … ┆ …         ┆ …         ┆ …         ┆ …         │\n",
       "│ 409100  ┆ The        ┆ 6.2       ┆ 6         ┆ … ┆ Les films ┆ France,   ┆ English   ┆ satire,   │\n",
       "│         ┆ Hunchback  ┆           ┆           ┆   ┆ du        ┆ Portugal  ┆           ┆ short     │\n",
       "│         ┆            ┆           ┆           ┆   ┆ Bélier, A ┆           ┆           ┆ film      │\n",
       "│         ┆            ┆           ┆           ┆   ┆ Mutual …  ┆           ┆           ┆           │\n",
       "│ 161991  ┆ Isle of    ┆ 4.5       ┆ 6         ┆ … ┆ PRC,      ┆ United    ┆ English   ┆ captain,  │\n",
       "│         ┆ Forgotten  ┆           ┆           ┆   ┆ Atlantis  ┆ States of ┆           ┆ south     │\n",
       "│         ┆ Sins       ┆           ┆           ┆   ┆ Pictures  ┆ America   ┆           ┆ seas,     │\n",
       "│         ┆            ┆           ┆           ┆   ┆           ┆           ┆           ┆ monsoon   │\n",
       "│ 66272   ┆ Padikkadav ┆ 7.2       ┆ 6         ┆ … ┆ Sri       ┆ India     ┆ Tamil     ┆           │\n",
       "│         ┆ an         ┆           ┆           ┆   ┆ Easwari   ┆           ┆           ┆           │\n",
       "│         ┆            ┆           ┆           ┆   ┆ Productio ┆           ┆           ┆           │\n",
       "│         ┆            ┆           ┆           ┆   ┆ ns, Sri   ┆           ┆           ┆           │\n",
       "│         ┆            ┆           ┆           ┆   ┆ E…        ┆           ┆           ┆           │\n",
       "│ 1123702 ┆ Louis      ┆ 5.0       ┆ 6         ┆ … ┆           ┆           ┆           ┆           │\n",
       "│         ┆ C.K.: Back ┆           ┆           ┆   ┆           ┆           ┆           ┆           │\n",
       "│         ┆ to the     ┆           ┆           ┆   ┆           ┆           ┆           ┆           │\n",
       "│         ┆ Garden     ┆           ┆           ┆   ┆           ┆           ┆           ┆           │\n",
       "│ 143508  ┆ Killer     ┆ 4.5       ┆ 6         ┆ … ┆           ┆           ┆ Spanish,  ┆           │\n",
       "│         ┆ Instinct   ┆           ┆           ┆   ┆           ┆           ┆ English   ┆           │\n",
       "└─────────┴────────────┴───────────┴───────────┴───┴───────────┴───────────┴───────────┴───────────┘"
      ],
      "text/html": [
       "<div><style>\n",
       ".dataframe > thead > tr,\n",
       ".dataframe > tbody > tr {\n",
       "  text-align: right;\n",
       "  white-space: pre-wrap;\n",
       "}\n",
       "</style>\n",
       "<small>shape: (110_913, 24)</small><table border=\"1\" class=\"dataframe\"><thead><tr><th>id</th><th>title</th><th>vote_average</th><th>vote_count</th><th>status</th><th>release_date</th><th>revenue</th><th>runtime</th><th>adult</th><th>backdrop_path</th><th>budget</th><th>homepage</th><th>imdb_id</th><th>original_language</th><th>original_title</th><th>overview</th><th>popularity</th><th>poster_path</th><th>tagline</th><th>genres</th><th>production_companies</th><th>production_countries</th><th>spoken_languages</th><th>keywords</th></tr><tr><td>i64</td><td>str</td><td>f64</td><td>i64</td><td>str</td><td>str</td><td>i64</td><td>i64</td><td>bool</td><td>str</td><td>i64</td><td>str</td><td>str</td><td>str</td><td>str</td><td>str</td><td>f64</td><td>str</td><td>str</td><td>str</td><td>str</td><td>str</td><td>str</td><td>str</td></tr></thead><tbody><tr><td>27205</td><td>&quot;Inception&quot;</td><td>8.364</td><td>34495</td><td>&quot;Released&quot;</td><td>&quot;2010-07-15&quot;</td><td>825532764</td><td>148</td><td>false</td><td>&quot;/8ZTVqvKDQ8emSGUEMjsS4yHAwrp.j…</td><td>160000000</td><td>&quot;https://www.warnerbros.com/mov…</td><td>&quot;tt1375666&quot;</td><td>&quot;en&quot;</td><td>&quot;Inception&quot;</td><td>&quot;Cobb, a skilled thief who comm…</td><td>83.952</td><td>&quot;/oYuLEt3zVCKq57qu2F8dT7NIa6f.j…</td><td>&quot;Your mind is the scene of the …</td><td>&quot;Action, Science Fiction, Adven…</td><td>&quot;Legendary Pictures, Syncopy, W…</td><td>&quot;United Kingdom, United States …</td><td>&quot;English, French, Japanese, Swa…</td><td>&quot;rescue, mission, dream, airpla…</td></tr><tr><td>157336</td><td>&quot;Interstellar&quot;</td><td>8.417</td><td>32571</td><td>&quot;Released&quot;</td><td>&quot;2014-11-05&quot;</td><td>701729206</td><td>169</td><td>false</td><td>&quot;/pbrkL804c8yAv3zBZR4QPEafpAR.j…</td><td>165000000</td><td>&quot;http://www.interstellarmovie.n…</td><td>&quot;tt0816692&quot;</td><td>&quot;en&quot;</td><td>&quot;Interstellar&quot;</td><td>&quot;The adventures of a group of e…</td><td>140.241</td><td>&quot;/gEU2QniE6E77NI6lCU6MxlNBvIx.j…</td><td>&quot;Mankind was born on Earth. It …</td><td>&quot;Adventure, Drama, Science Fict…</td><td>&quot;Legendary Pictures, Syncopy, L…</td><td>&quot;United Kingdom, United States …</td><td>&quot;English&quot;</td><td>&quot;rescue, future, spacecraft, ra…</td></tr><tr><td>155</td><td>&quot;The Dark Knight&quot;</td><td>8.512</td><td>30619</td><td>&quot;Released&quot;</td><td>&quot;2008-07-16&quot;</td><td>1004558444</td><td>152</td><td>false</td><td>&quot;/nMKdUUepR0i5zn0y1T4CsSB5chy.j…</td><td>185000000</td><td>&quot;https://www.warnerbros.com/mov…</td><td>&quot;tt0468569&quot;</td><td>&quot;en&quot;</td><td>&quot;The Dark Knight&quot;</td><td>&quot;Batman raises the stakes in hi…</td><td>130.643</td><td>&quot;/qJ2tW6WMUDux911r6m7haRef0WH.j…</td><td>&quot;Welcome to a world without rul…</td><td>&quot;Drama, Action, Crime, Thriller&quot;</td><td>&quot;DC Comics, Legendary Pictures,…</td><td>&quot;United Kingdom, United States …</td><td>&quot;English, Mandarin&quot;</td><td>&quot;joker, sadism, chaos, secret i…</td></tr><tr><td>19995</td><td>&quot;Avatar&quot;</td><td>7.573</td><td>29815</td><td>&quot;Released&quot;</td><td>&quot;2009-12-15&quot;</td><td>2923706026</td><td>162</td><td>false</td><td>&quot;/vL5LR6WdxWPjLPFRLe133jXWsh5.j…</td><td>237000000</td><td>&quot;https://www.avatar.com/movies/…</td><td>&quot;tt0499549&quot;</td><td>&quot;en&quot;</td><td>&quot;Avatar&quot;</td><td>&quot;In the 22nd century, a paraple…</td><td>79.932</td><td>&quot;/kyeqWdyUXW608qlYkRqosgbbJyK.j…</td><td>&quot;Enter the world of Pandora.&quot;</td><td>&quot;Action, Adventure, Fantasy, Sc…</td><td>&quot;Dune Entertainment, Lightstorm…</td><td>&quot;United States of America, Unit…</td><td>&quot;English, Spanish&quot;</td><td>&quot;future, society, culture clash…</td></tr><tr><td>24428</td><td>&quot;The Avengers&quot;</td><td>7.71</td><td>29166</td><td>&quot;Released&quot;</td><td>&quot;2012-04-25&quot;</td><td>1518815515</td><td>143</td><td>false</td><td>&quot;/9BBTo63ANSmhC4e6r62OJFuK2GL.j…</td><td>220000000</td><td>&quot;https://www.marvel.com/movies/…</td><td>&quot;tt0848228&quot;</td><td>&quot;en&quot;</td><td>&quot;The Avengers&quot;</td><td>&quot;When an unexpected enemy emerg…</td><td>98.082</td><td>&quot;/RYMX2wcKCBAr24UyPD7xwmjaTn.jp…</td><td>&quot;Some assembly required.&quot;</td><td>&quot;Science Fiction, Action, Adven…</td><td>&quot;Marvel Studios&quot;</td><td>&quot;United States of America&quot;</td><td>&quot;English, Hindi, Russian&quot;</td><td>&quot;new york city, superhero, shie…</td></tr><tr><td>&hellip;</td><td>&hellip;</td><td>&hellip;</td><td>&hellip;</td><td>&hellip;</td><td>&hellip;</td><td>&hellip;</td><td>&hellip;</td><td>&hellip;</td><td>&hellip;</td><td>&hellip;</td><td>&hellip;</td><td>&hellip;</td><td>&hellip;</td><td>&hellip;</td><td>&hellip;</td><td>&hellip;</td><td>&hellip;</td><td>&hellip;</td><td>&hellip;</td><td>&hellip;</td><td>&hellip;</td><td>&hellip;</td><td>&hellip;</td></tr><tr><td>409100</td><td>&quot;The Hunchback&quot;</td><td>6.2</td><td>6</td><td>&quot;Released&quot;</td><td>&quot;2016-04-27&quot;</td><td>0</td><td>30</td><td>false</td><td>&quot;/edXuF4SHomCG23ebc8MojdkxaEo.j…</td><td>0</td><td>&quot;&quot;</td><td>&quot;tt5647246&quot;</td><td>&quot;en&quot;</td><td>&quot;O Corcunda&quot;</td><td>&quot;A delirious sci-fi riff on the…</td><td>0.793</td><td>&quot;/kxNohBUyjSPveOfZ1hjThcviELD.j…</td><td>&quot;&quot;</td><td>&quot;Comedy, Science Fiction&quot;</td><td>&quot;Les films du Bélier, A Mutual …</td><td>&quot;France, Portugal&quot;</td><td>&quot;English&quot;</td><td>&quot;satire, short film&quot;</td></tr><tr><td>161991</td><td>&quot;Isle of Forgotten Sins&quot;</td><td>4.5</td><td>6</td><td>&quot;Released&quot;</td><td>&quot;1943-08-15&quot;</td><td>0</td><td>82</td><td>false</td><td>&quot;/9YRmURYabPwGok9kAWbC4XiWGZz.j…</td><td>0</td><td>&quot;&quot;</td><td>&quot;tt0036046&quot;</td><td>&quot;en&quot;</td><td>&quot;Isle of Forgotten Sins&quot;</td><td>&quot;An evil sea captain and the fo…</td><td>1.556</td><td>&quot;/za3tQoLD9ns38vKYXkGEVaPpWJQ.j…</td><td>&quot;Tidal wave of torrid romance a…</td><td>&quot;Action, Adventure, Drama&quot;</td><td>&quot;PRC, Atlantis Pictures&quot;</td><td>&quot;United States of America&quot;</td><td>&quot;English&quot;</td><td>&quot;captain, south seas, monsoon&quot;</td></tr><tr><td>66272</td><td>&quot;Padikkadavan&quot;</td><td>7.2</td><td>6</td><td>&quot;Released&quot;</td><td>&quot;1985-11-11&quot;</td><td>0</td><td>132</td><td>false</td><td>&quot;&quot;</td><td>0</td><td>&quot;&quot;</td><td>&quot;tt0316369&quot;</td><td>&quot;ta&quot;</td><td>&quot;படிக்காதவன்&quot;</td><td>&quot;Two brothers are ousted from t…</td><td>1.854</td><td>&quot;/dN1xxrf272Tl6GuS9jx0VRiWbWr.j…</td><td>&quot;&quot;</td><td>&quot;Drama, Action&quot;</td><td>&quot;Sri Easwari Productions, Sri E…</td><td>&quot;India&quot;</td><td>&quot;Tamil&quot;</td><td>&quot;&quot;</td></tr><tr><td>1123702</td><td>&quot;Louis C.K.: Back to the Garden&quot;</td><td>5.0</td><td>6</td><td>&quot;Released&quot;</td><td>&quot;2023-01-28&quot;</td><td>0</td><td>70</td><td>false</td><td>&quot;&quot;</td><td>0</td><td>&quot;&quot;</td><td>&quot;tt26598133&quot;</td><td>&quot;en&quot;</td><td>&quot;Louis C.K.: Back to the Garden&quot;</td><td>&quot;Louis C.K. recorded live on Ja…</td><td>0.892</td><td>&quot;/7B5FpkZq4YVQ6yYdVpG1txeZe7A.j…</td><td>&quot;Louis C.K. recorded live on Ja…</td><td>&quot;Comedy&quot;</td><td>&quot;&quot;</td><td>&quot;&quot;</td><td>&quot;&quot;</td><td>&quot;&quot;</td></tr><tr><td>143508</td><td>&quot;Killer Instinct&quot;</td><td>4.5</td><td>6</td><td>&quot;Released&quot;</td><td>&quot;2001-01-20&quot;</td><td>0</td><td>88</td><td>false</td><td>&quot;&quot;</td><td>0</td><td>&quot;&quot;</td><td>&quot;tt0246000&quot;</td><td>&quot;en&quot;</td><td>&quot;Killer Instinct&quot;</td><td>&quot;A series of unsolved crimes fr…</td><td>2.81</td><td>&quot;/gcBcbbFdyD6w3O2ABPX7O9Ha4pB.j…</td><td>&quot;Welcome to the Asylum. You Don…</td><td>&quot;Horror&quot;</td><td>&quot;&quot;</td><td>&quot;&quot;</td><td>&quot;Spanish, English&quot;</td><td>&quot;&quot;</td></tr></tbody></table></div>"
      ]
     },
     "execution_count": 35,
     "metadata": {},
     "output_type": "execute_result"
    }
   ],
   "execution_count": 35
  },
  {
   "metadata": {
    "ExecuteTime": {
     "end_time": "2025-10-01T12:44:07.312740Z",
     "start_time": "2025-10-01T12:44:07.294738Z"
    }
   },
   "cell_type": "code",
   "source": [
    "df.filter(\n",
    "    pl.col('vote_count').is_between(0, 1)\n",
    ")"
   ],
   "id": "b982182c25efec78",
   "outputs": [
    {
     "data": {
      "text/plain": [
       "shape: (1_071_642, 24)\n",
       "┌─────────┬────────────┬───────────┬───────────┬───┬───────────┬───────────┬───────────┬───────────┐\n",
       "│ id      ┆ title      ┆ vote_aver ┆ vote_coun ┆ … ┆ productio ┆ productio ┆ spoken_la ┆ keywords  │\n",
       "│ ---     ┆ ---        ┆ age       ┆ t         ┆   ┆ n_compani ┆ n_countri ┆ nguages   ┆ ---       │\n",
       "│ i64     ┆ str        ┆ ---       ┆ ---       ┆   ┆ es        ┆ es        ┆ ---       ┆ str       │\n",
       "│         ┆            ┆ f64       ┆ i64       ┆   ┆ ---       ┆ ---       ┆ str       ┆           │\n",
       "│         ┆            ┆           ┆           ┆   ┆ str       ┆ str       ┆           ┆           │\n",
       "╞═════════╪════════════╪═══════════╪═══════════╪═══╪═══════════╪═══════════╪═══════════╪═══════════╡\n",
       "│ 623616  ┆ Miljoonali ┆ 6.0       ┆ 1         ┆ … ┆ Kurkvaara ┆ Finland   ┆ Finnish   ┆           │\n",
       "│         ┆ iga        ┆           ┆           ┆   ┆ -Filmi    ┆           ┆           ┆           │\n",
       "│ 532521  ┆ Subte:     ┆ 6.0       ┆ 1         ┆ … ┆           ┆ Argentina ┆ Spanish   ┆           │\n",
       "│         ┆ Polska     ┆           ┆           ┆   ┆           ┆           ┆           ┆           │\n",
       "│ 863159  ┆ Faces      ┆ 7.0       ┆ 1         ┆ … ┆ Porn Pros ┆ United    ┆ English   ┆           │\n",
       "│         ┆ Covered 8  ┆           ┆           ┆   ┆           ┆ States of ┆           ┆           │\n",
       "│         ┆            ┆           ┆           ┆   ┆           ┆ America   ┆           ┆           │\n",
       "│ 601110  ┆ A Father's ┆ 10.0      ┆ 1         ┆ … ┆           ┆ Japan     ┆ Japanese  ┆           │\n",
       "│         ┆ Love That  ┆           ┆           ┆   ┆           ┆           ┆           ┆           │\n",
       "│         ┆ Went Too … ┆           ┆           ┆   ┆           ┆           ┆           ┆           │\n",
       "│ 412504  ┆ A Slide    ┆ 5.0       ┆ 1         ┆ … ┆ Filmové   ┆ Czechoslo ┆ Czech     ┆           │\n",
       "│         ┆            ┆           ┆           ┆   ┆ studio    ┆ vakia     ┆           ┆           │\n",
       "│         ┆            ┆           ┆           ┆   ┆ Gottwaldo ┆           ┆           ┆           │\n",
       "│         ┆            ┆           ┆           ┆   ┆ v         ┆           ┆           ┆           │\n",
       "│ …       ┆ …          ┆ …         ┆ …         ┆ … ┆ …         ┆ …         ┆ …         ┆ …         │\n",
       "│ 811069  ┆ Crimen en  ┆ 0.0       ┆ 0         ┆ … ┆ Cinematog ┆ Argentina ┆ Spanish   ┆           │\n",
       "│         ┆ el hotel   ┆           ┆           ┆   ┆ ráfica    ┆           ┆           ┆           │\n",
       "│         ┆ alojamient ┆           ┆           ┆   ┆ Sudameric ┆           ┆           ┆           │\n",
       "│         ┆ o          ┆           ┆           ┆   ┆ ana d…    ┆           ┆           ┆           │\n",
       "│ 811070  ┆ ¿Los       ┆ 0.0       ┆ 0         ┆ … ┆ Cinematog ┆           ┆ Spanish   ┆           │\n",
       "│         ┆ piolas no  ┆           ┆           ┆   ┆ ráfica    ┆           ┆           ┆           │\n",
       "│         ┆ se casan…? ┆           ┆           ┆   ┆ Victoria  ┆           ┆           ┆           │\n",
       "│ 811071  ┆ Satan in   ┆ 0.0       ┆ 0         ┆ … ┆ Solar     ┆           ┆ Finnish   ┆ short     │\n",
       "│         ┆ the House  ┆           ┆           ┆   ┆ Films     ┆           ┆           ┆ film      │\n",
       "│ 811075  ┆ Apparition ┆ 0.0       ┆ 0         ┆ … ┆ Arde Cine ┆ France    ┆ French    ┆           │\n",
       "│ 1555013 ┆ Kalte      ┆ 0.0       ┆ 0         ┆ … ┆           ┆ Germany   ┆ German    ┆           │\n",
       "│         ┆ Heimat -   ┆           ┆           ┆   ┆           ┆           ┆           ┆           │\n",
       "│         ┆ Fluchtgesc ┆           ┆           ┆   ┆           ┆           ┆           ┆           │\n",
       "│         ┆ hicht…     ┆           ┆           ┆   ┆           ┆           ┆           ┆           │\n",
       "└─────────┴────────────┴───────────┴───────────┴───┴───────────┴───────────┴───────────┴───────────┘"
      ],
      "text/html": [
       "<div><style>\n",
       ".dataframe > thead > tr,\n",
       ".dataframe > tbody > tr {\n",
       "  text-align: right;\n",
       "  white-space: pre-wrap;\n",
       "}\n",
       "</style>\n",
       "<small>shape: (1_071_642, 24)</small><table border=\"1\" class=\"dataframe\"><thead><tr><th>id</th><th>title</th><th>vote_average</th><th>vote_count</th><th>status</th><th>release_date</th><th>revenue</th><th>runtime</th><th>adult</th><th>backdrop_path</th><th>budget</th><th>homepage</th><th>imdb_id</th><th>original_language</th><th>original_title</th><th>overview</th><th>popularity</th><th>poster_path</th><th>tagline</th><th>genres</th><th>production_companies</th><th>production_countries</th><th>spoken_languages</th><th>keywords</th></tr><tr><td>i64</td><td>str</td><td>f64</td><td>i64</td><td>str</td><td>str</td><td>i64</td><td>i64</td><td>bool</td><td>str</td><td>i64</td><td>str</td><td>str</td><td>str</td><td>str</td><td>str</td><td>f64</td><td>str</td><td>str</td><td>str</td><td>str</td><td>str</td><td>str</td><td>str</td></tr></thead><tbody><tr><td>623616</td><td>&quot;Miljoonaliiga&quot;</td><td>6.0</td><td>1</td><td>&quot;Released&quot;</td><td>&quot;1968-11-15&quot;</td><td>0</td><td>95</td><td>false</td><td>&quot;&quot;</td><td>0</td><td>&quot;&quot;</td><td>&quot;tt0137955&quot;</td><td>&quot;fi&quot;</td><td>&quot;Miljoonaliiga&quot;</td><td>&quot;Reiska who has moved to Helsin…</td><td>0.6</td><td>&quot;/4YyR1otNnNiHD5tUjYZZHezavkt.j…</td><td>&quot;&quot;</td><td>&quot;Drama, Crime&quot;</td><td>&quot;Kurkvaara-Filmi&quot;</td><td>&quot;Finland&quot;</td><td>&quot;Finnish&quot;</td><td>&quot;&quot;</td></tr><tr><td>532521</td><td>&quot;Subte: Polska&quot;</td><td>6.0</td><td>1</td><td>&quot;Released&quot;</td><td>&quot;2016-03-10&quot;</td><td>0</td><td>98</td><td>false</td><td>&quot;&quot;</td><td>0</td><td>&quot;&quot;</td><td>&quot;tt5160202&quot;</td><td>&quot;es&quot;</td><td>&quot;Subte: Polska&quot;</td><td>&quot;As a young man, Tadeusz left b…</td><td>0.6</td><td>&quot;/uyKK0lgd3XfdlIlBDrlZxgPhuqb.j…</td><td>&quot;&quot;</td><td>&quot;Drama&quot;</td><td>&quot;&quot;</td><td>&quot;Argentina&quot;</td><td>&quot;Spanish&quot;</td><td>&quot;&quot;</td></tr><tr><td>863159</td><td>&quot;Faces Covered 8&quot;</td><td>7.0</td><td>1</td><td>&quot;Released&quot;</td><td>&quot;2018-08-06&quot;</td><td>0</td><td>119</td><td>true</td><td>&quot;/uAtAxuWc9zar2yeczs1rle7YDZX.j…</td><td>0</td><td>&quot;&quot;</td><td>&quot;&quot;</td><td>&quot;en&quot;</td><td>&quot;Faces Covered 8&quot;</td><td>&quot;&quot;</td><td>0.6</td><td>&quot;/dHE4gUoh1YQpPV0WabKLaM1kjFf.j…</td><td>&quot;&quot;</td><td>&quot;&quot;</td><td>&quot;Porn Pros&quot;</td><td>&quot;United States of America&quot;</td><td>&quot;English&quot;</td><td>&quot;&quot;</td></tr><tr><td>601110</td><td>&quot;A Father&#x27;s Love That Went Too …</td><td>10.0</td><td>1</td><td>&quot;Released&quot;</td><td>&quot;2013-05-08&quot;</td><td>0</td><td>135</td><td>true</td><td>&quot;/gnEopjMp2l0NI8vRtM47pkSdqP.jp…</td><td>0</td><td>&quot;&quot;</td><td>&quot;&quot;</td><td>&quot;ja&quot;</td><td>&quot;度を越えた父親の愛情 近親相姦レ●プ 娘は自分を襲った覆面男…</td><td>&quot;The destination where my fathe…</td><td>0.6</td><td>&quot;/if4vcG7eoDVhNKgYO1IUTtMtSiz.j…</td><td>&quot;&quot;</td><td>&quot;Drama&quot;</td><td>&quot;&quot;</td><td>&quot;Japan&quot;</td><td>&quot;Japanese&quot;</td><td>&quot;&quot;</td></tr><tr><td>412504</td><td>&quot;A Slide&quot;</td><td>5.0</td><td>1</td><td>&quot;Released&quot;</td><td>&quot;1989-12-23&quot;</td><td>0</td><td>70</td><td>false</td><td>&quot;&quot;</td><td>0</td><td>&quot;&quot;</td><td>&quot;tt0267034&quot;</td><td>&quot;cs&quot;</td><td>&quot;Tobogan&quot;</td><td>&quot;A group of boys are spending s…</td><td>1.4</td><td>&quot;/uo1P12NYPj4BUcaDeLsnz7jMdJx.j…</td><td>&quot;&quot;</td><td>&quot;Adventure, Family&quot;</td><td>&quot;Filmové studio Gottwaldov&quot;</td><td>&quot;Czechoslovakia&quot;</td><td>&quot;Czech&quot;</td><td>&quot;&quot;</td></tr><tr><td>&hellip;</td><td>&hellip;</td><td>&hellip;</td><td>&hellip;</td><td>&hellip;</td><td>&hellip;</td><td>&hellip;</td><td>&hellip;</td><td>&hellip;</td><td>&hellip;</td><td>&hellip;</td><td>&hellip;</td><td>&hellip;</td><td>&hellip;</td><td>&hellip;</td><td>&hellip;</td><td>&hellip;</td><td>&hellip;</td><td>&hellip;</td><td>&hellip;</td><td>&hellip;</td><td>&hellip;</td><td>&hellip;</td><td>&hellip;</td></tr><tr><td>811069</td><td>&quot;Crimen en el hotel alojamiento&quot;</td><td>0.0</td><td>0</td><td>&quot;Released&quot;</td><td>&quot;1974-03-14&quot;</td><td>0</td><td>80</td><td>false</td><td>&quot;&quot;</td><td>0</td><td>&quot;&quot;</td><td>&quot;tt0188526&quot;</td><td>&quot;es&quot;</td><td>&quot;Crimen en el hotel alojamiento&quot;</td><td>&quot;An assault will create a whole…</td><td>0.6</td><td>&quot;/aBE1qc85U5ethBLT3KC4C3eIcsE.j…</td><td>&quot;&quot;</td><td>&quot;Comedy&quot;</td><td>&quot;Cinematográfica Sudamericana d…</td><td>&quot;Argentina&quot;</td><td>&quot;Spanish&quot;</td><td>&quot;&quot;</td></tr><tr><td>811070</td><td>&quot;¿Los piolas no se casan…?&quot;</td><td>0.0</td><td>0</td><td>&quot;Released&quot;</td><td>&quot;1981-05-14&quot;</td><td>0</td><td>92</td><td>false</td><td>&quot;/xYedy9bkILyloSyGqsM0M4WOPiL.j…</td><td>0</td><td>&quot;&quot;</td><td>&quot;tt0182548&quot;</td><td>&quot;es&quot;</td><td>&quot;¿Los piolas no se casan…?&quot;</td><td>&quot;The story revolves around Bebe…</td><td>0.6</td><td>&quot;/rbXSEwihVPSbyFHFyRT124temHc.j…</td><td>&quot;&quot;</td><td>&quot;Comedy&quot;</td><td>&quot;Cinematográfica Victoria&quot;</td><td>&quot;&quot;</td><td>&quot;Spanish&quot;</td><td>&quot;&quot;</td></tr><tr><td>811071</td><td>&quot;Satan in the House&quot;</td><td>0.0</td><td>0</td><td>&quot;Released&quot;</td><td>&quot;1999-11-18&quot;</td><td>0</td><td>30</td><td>false</td><td>&quot;&quot;</td><td>0</td><td>&quot;&quot;</td><td>&quot;tt1034465&quot;</td><td>&quot;fi&quot;</td><td>&quot;Talossa on Saatana&quot;</td><td>&quot;Woman unexpectedly meets Satan…</td><td>1.091</td><td>&quot;/jILPIkmXLarIbz0mw7byviNI6iY.j…</td><td>&quot;&quot;</td><td>&quot;&quot;</td><td>&quot;Solar Films&quot;</td><td>&quot;&quot;</td><td>&quot;Finnish&quot;</td><td>&quot;short film&quot;</td></tr><tr><td>811075</td><td>&quot;Apparition&quot;</td><td>0.0</td><td>0</td><td>&quot;Released&quot;</td><td>&quot;2016-04-15&quot;</td><td>0</td><td>12</td><td>false</td><td>&quot;&quot;</td><td>0</td><td>&quot;&quot;</td><td>&quot;tt8298212&quot;</td><td>&quot;fr&quot;</td><td>&quot;L’apparition&quot;</td><td>&quot;A lonely bank clark discovers …</td><td>0.6</td><td>&quot;/uL4WFHhVy4Z4PlE2WPRHCqHyV2j.j…</td><td>&quot;&quot;</td><td>&quot;Drama, Comedy&quot;</td><td>&quot;Arde Cine&quot;</td><td>&quot;France&quot;</td><td>&quot;French&quot;</td><td>&quot;&quot;</td></tr><tr><td>1555013</td><td>&quot;Kalte Heimat - Fluchtgeschicht…</td><td>0.0</td><td>0</td><td>&quot;Released&quot;</td><td>&quot;2018-03-11&quot;</td><td>0</td><td>0</td><td>false</td><td>&quot;None&quot;</td><td>0</td><td>&quot;&quot;</td><td>&quot;None&quot;</td><td>&quot;de&quot;</td><td>&quot;Kalte Heimat - Fluchtgeschicht…</td><td>&quot;&quot;</td><td>0.0071</td><td>&quot;None&quot;</td><td>&quot;&quot;</td><td>&quot;Documentary&quot;</td><td>&quot;&quot;</td><td>&quot;Germany&quot;</td><td>&quot;German&quot;</td><td>&quot;&quot;</td></tr></tbody></table></div>"
      ]
     },
     "execution_count": 45,
     "metadata": {},
     "output_type": "execute_result"
    }
   ],
   "execution_count": 45
  },
  {
   "metadata": {
    "ExecuteTime": {
     "end_time": "2025-10-01T12:49:37.155524Z",
     "start_time": "2025-10-01T12:49:37.141432Z"
    }
   },
   "cell_type": "code",
   "source": "print(f'Data with at least one vote and more: {len(df) - len(df.filter(pl.col(\"vote_count\") == 0))}')",
   "id": "43c7d40de001f421",
   "outputs": [
    {
     "name": "stdout",
     "output_type": "stream",
     "text": [
      "Data with at least one vote and more: 355217\n"
     ]
    }
   ],
   "execution_count": 61
  },
  {
   "metadata": {},
   "cell_type": "code",
   "outputs": [],
   "execution_count": null,
   "source": "",
   "id": "543997340148a9ca"
  }
 ],
 "metadata": {
  "kernelspec": {
   "display_name": "Python 3",
   "language": "python",
   "name": "python3"
  },
  "language_info": {
   "codemirror_mode": {
    "name": "ipython",
    "version": 2
   },
   "file_extension": ".py",
   "mimetype": "text/x-python",
   "name": "python",
   "nbconvert_exporter": "python",
   "pygments_lexer": "ipython2",
   "version": "2.7.6"
  }
 },
 "nbformat": 4,
 "nbformat_minor": 5
}
