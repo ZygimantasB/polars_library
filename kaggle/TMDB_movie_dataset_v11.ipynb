{
 "cells": [
  {
   "cell_type": "code",
   "id": "initial_id",
   "metadata": {
    "collapsed": true,
    "ExecuteTime": {
     "end_time": "2025-10-01T10:02:31.131100Z",
     "start_time": "2025-10-01T10:02:29.149988Z"
    }
   },
   "source": [
    "import polars as pl\n",
    "import polars.selectors as cs\n",
    "\n",
    "import altair as alt\n",
    "import plotly.express as px\n",
    "import seaborn as sns\n",
    "import matplotlib.pyplot as plt\n",
    "\n",
    "import datetime as dt"
   ],
   "outputs": [],
   "execution_count": 1
  },
  {
   "metadata": {
    "ExecuteTime": {
     "end_time": "2025-10-01T10:02:38.217416Z",
     "start_time": "2025-10-01T10:02:38.213188Z"
    }
   },
   "cell_type": "code",
   "source": "df_path = r\"C:\\Users\\v034\\Downloads\\archive (3)\\TMDB_movie_dataset_v11.csv\"",
   "id": "9521c4735885f67e",
   "outputs": [],
   "execution_count": 2
  },
  {
   "metadata": {
    "ExecuteTime": {
     "end_time": "2025-10-01T10:02:46.660275Z",
     "start_time": "2025-10-01T10:02:46.418226Z"
    }
   },
   "cell_type": "code",
   "source": "df = pl.read_csv(df_path)",
   "id": "b8bc371702517c41",
   "outputs": [],
   "execution_count": 3
  },
  {
   "metadata": {
    "ExecuteTime": {
     "end_time": "2025-10-01T10:02:48.511825Z",
     "start_time": "2025-10-01T10:02:48.499510Z"
    }
   },
   "cell_type": "code",
   "source": "df",
   "id": "14ac3a95ffbc17a",
   "outputs": [
    {
     "data": {
      "text/plain": [
       "shape: (1_296_423, 24)\n",
       "┌─────────┬────────────┬───────────┬───────────┬───┬───────────┬───────────┬───────────┬───────────┐\n",
       "│ id      ┆ title      ┆ vote_aver ┆ vote_coun ┆ … ┆ productio ┆ productio ┆ spoken_la ┆ keywords  │\n",
       "│ ---     ┆ ---        ┆ age       ┆ t         ┆   ┆ n_compani ┆ n_countri ┆ nguages   ┆ ---       │\n",
       "│ i64     ┆ str        ┆ ---       ┆ ---       ┆   ┆ es        ┆ es        ┆ ---       ┆ str       │\n",
       "│         ┆            ┆ f64       ┆ i64       ┆   ┆ ---       ┆ ---       ┆ str       ┆           │\n",
       "│         ┆            ┆           ┆           ┆   ┆ str       ┆ str       ┆           ┆           │\n",
       "╞═════════╪════════════╪═══════════╪═══════════╪═══╪═══════════╪═══════════╪═══════════╪═══════════╡\n",
       "│ 27205   ┆ Inception  ┆ 8.364     ┆ 34495     ┆ … ┆ Legendary ┆ United    ┆ English,  ┆ rescue,   │\n",
       "│         ┆            ┆           ┆           ┆   ┆ Pictures, ┆ Kingdom,  ┆ French,   ┆ mission,  │\n",
       "│         ┆            ┆           ┆           ┆   ┆ Syncopy,  ┆ United    ┆ Japanese, ┆ dream,    │\n",
       "│         ┆            ┆           ┆           ┆   ┆ W…        ┆ States …  ┆ Swa…      ┆ airpla…   │\n",
       "│ 157336  ┆ Interstell ┆ 8.417     ┆ 32571     ┆ … ┆ Legendary ┆ United    ┆ English   ┆ rescue,   │\n",
       "│         ┆ ar         ┆           ┆           ┆   ┆ Pictures, ┆ Kingdom,  ┆           ┆ future,   │\n",
       "│         ┆            ┆           ┆           ┆   ┆ Syncopy,  ┆ United    ┆           ┆ spacecraf │\n",
       "│         ┆            ┆           ┆           ┆   ┆ L…        ┆ States …  ┆           ┆ t, ra…    │\n",
       "│ 155     ┆ The Dark   ┆ 8.512     ┆ 30619     ┆ … ┆ DC        ┆ United    ┆ English,  ┆ joker,    │\n",
       "│         ┆ Knight     ┆           ┆           ┆   ┆ Comics,   ┆ Kingdom,  ┆ Mandarin  ┆ sadism,   │\n",
       "│         ┆            ┆           ┆           ┆   ┆ Legendary ┆ United    ┆           ┆ chaos,    │\n",
       "│         ┆            ┆           ┆           ┆   ┆ Pictures, ┆ States …  ┆           ┆ secret i… │\n",
       "│         ┆            ┆           ┆           ┆   ┆ …         ┆           ┆           ┆           │\n",
       "│ 19995   ┆ Avatar     ┆ 7.573     ┆ 29815     ┆ … ┆ Dune Ente ┆ United    ┆ English,  ┆ future,   │\n",
       "│         ┆            ┆           ┆           ┆   ┆ rtainment ┆ States of ┆ Spanish   ┆ society,  │\n",
       "│         ┆            ┆           ┆           ┆   ┆ , Lightst ┆ America,  ┆           ┆ culture   │\n",
       "│         ┆            ┆           ┆           ┆   ┆ orm…      ┆ Unit…     ┆           ┆ clash…    │\n",
       "│ 24428   ┆ The        ┆ 7.71      ┆ 29166     ┆ … ┆ Marvel    ┆ United    ┆ English,  ┆ new york  │\n",
       "│         ┆ Avengers   ┆           ┆           ┆   ┆ Studios   ┆ States of ┆ Hindi,    ┆ city, sup │\n",
       "│         ┆            ┆           ┆           ┆   ┆           ┆ America   ┆ Russian   ┆ erhero,   │\n",
       "│         ┆            ┆           ┆           ┆   ┆           ┆           ┆           ┆ shie…     │\n",
       "│ …       ┆ …          ┆ …         ┆ …         ┆ … ┆ …         ┆ …         ┆ …         ┆ …         │\n",
       "│ 811069  ┆ Crimen en  ┆ 0.0       ┆ 0         ┆ … ┆ Cinematog ┆ Argentina ┆ Spanish   ┆           │\n",
       "│         ┆ el hotel   ┆           ┆           ┆   ┆ ráfica    ┆           ┆           ┆           │\n",
       "│         ┆ alojamient ┆           ┆           ┆   ┆ Sudameric ┆           ┆           ┆           │\n",
       "│         ┆ o          ┆           ┆           ┆   ┆ ana d…    ┆           ┆           ┆           │\n",
       "│ 811070  ┆ ¿Los       ┆ 0.0       ┆ 0         ┆ … ┆ Cinematog ┆           ┆ Spanish   ┆           │\n",
       "│         ┆ piolas no  ┆           ┆           ┆   ┆ ráfica    ┆           ┆           ┆           │\n",
       "│         ┆ se casan…? ┆           ┆           ┆   ┆ Victoria  ┆           ┆           ┆           │\n",
       "│ 811071  ┆ Satan in   ┆ 0.0       ┆ 0         ┆ … ┆ Solar     ┆           ┆ Finnish   ┆ short     │\n",
       "│         ┆ the House  ┆           ┆           ┆   ┆ Films     ┆           ┆           ┆ film      │\n",
       "│ 811075  ┆ Apparition ┆ 0.0       ┆ 0         ┆ … ┆ Arde Cine ┆ France    ┆ French    ┆           │\n",
       "│ 1555013 ┆ Kalte      ┆ 0.0       ┆ 0         ┆ … ┆           ┆ Germany   ┆ German    ┆           │\n",
       "│         ┆ Heimat -   ┆           ┆           ┆   ┆           ┆           ┆           ┆           │\n",
       "│         ┆ Fluchtgesc ┆           ┆           ┆   ┆           ┆           ┆           ┆           │\n",
       "│         ┆ hicht…     ┆           ┆           ┆   ┆           ┆           ┆           ┆           │\n",
       "└─────────┴────────────┴───────────┴───────────┴───┴───────────┴───────────┴───────────┴───────────┘"
      ],
      "text/html": [
       "<div><style>\n",
       ".dataframe > thead > tr,\n",
       ".dataframe > tbody > tr {\n",
       "  text-align: right;\n",
       "  white-space: pre-wrap;\n",
       "}\n",
       "</style>\n",
       "<small>shape: (1_296_423, 24)</small><table border=\"1\" class=\"dataframe\"><thead><tr><th>id</th><th>title</th><th>vote_average</th><th>vote_count</th><th>status</th><th>release_date</th><th>revenue</th><th>runtime</th><th>adult</th><th>backdrop_path</th><th>budget</th><th>homepage</th><th>imdb_id</th><th>original_language</th><th>original_title</th><th>overview</th><th>popularity</th><th>poster_path</th><th>tagline</th><th>genres</th><th>production_companies</th><th>production_countries</th><th>spoken_languages</th><th>keywords</th></tr><tr><td>i64</td><td>str</td><td>f64</td><td>i64</td><td>str</td><td>str</td><td>i64</td><td>i64</td><td>bool</td><td>str</td><td>i64</td><td>str</td><td>str</td><td>str</td><td>str</td><td>str</td><td>f64</td><td>str</td><td>str</td><td>str</td><td>str</td><td>str</td><td>str</td><td>str</td></tr></thead><tbody><tr><td>27205</td><td>&quot;Inception&quot;</td><td>8.364</td><td>34495</td><td>&quot;Released&quot;</td><td>&quot;2010-07-15&quot;</td><td>825532764</td><td>148</td><td>false</td><td>&quot;/8ZTVqvKDQ8emSGUEMjsS4yHAwrp.j…</td><td>160000000</td><td>&quot;https://www.warnerbros.com/mov…</td><td>&quot;tt1375666&quot;</td><td>&quot;en&quot;</td><td>&quot;Inception&quot;</td><td>&quot;Cobb, a skilled thief who comm…</td><td>83.952</td><td>&quot;/oYuLEt3zVCKq57qu2F8dT7NIa6f.j…</td><td>&quot;Your mind is the scene of the …</td><td>&quot;Action, Science Fiction, Adven…</td><td>&quot;Legendary Pictures, Syncopy, W…</td><td>&quot;United Kingdom, United States …</td><td>&quot;English, French, Japanese, Swa…</td><td>&quot;rescue, mission, dream, airpla…</td></tr><tr><td>157336</td><td>&quot;Interstellar&quot;</td><td>8.417</td><td>32571</td><td>&quot;Released&quot;</td><td>&quot;2014-11-05&quot;</td><td>701729206</td><td>169</td><td>false</td><td>&quot;/pbrkL804c8yAv3zBZR4QPEafpAR.j…</td><td>165000000</td><td>&quot;http://www.interstellarmovie.n…</td><td>&quot;tt0816692&quot;</td><td>&quot;en&quot;</td><td>&quot;Interstellar&quot;</td><td>&quot;The adventures of a group of e…</td><td>140.241</td><td>&quot;/gEU2QniE6E77NI6lCU6MxlNBvIx.j…</td><td>&quot;Mankind was born on Earth. It …</td><td>&quot;Adventure, Drama, Science Fict…</td><td>&quot;Legendary Pictures, Syncopy, L…</td><td>&quot;United Kingdom, United States …</td><td>&quot;English&quot;</td><td>&quot;rescue, future, spacecraft, ra…</td></tr><tr><td>155</td><td>&quot;The Dark Knight&quot;</td><td>8.512</td><td>30619</td><td>&quot;Released&quot;</td><td>&quot;2008-07-16&quot;</td><td>1004558444</td><td>152</td><td>false</td><td>&quot;/nMKdUUepR0i5zn0y1T4CsSB5chy.j…</td><td>185000000</td><td>&quot;https://www.warnerbros.com/mov…</td><td>&quot;tt0468569&quot;</td><td>&quot;en&quot;</td><td>&quot;The Dark Knight&quot;</td><td>&quot;Batman raises the stakes in hi…</td><td>130.643</td><td>&quot;/qJ2tW6WMUDux911r6m7haRef0WH.j…</td><td>&quot;Welcome to a world without rul…</td><td>&quot;Drama, Action, Crime, Thriller&quot;</td><td>&quot;DC Comics, Legendary Pictures,…</td><td>&quot;United Kingdom, United States …</td><td>&quot;English, Mandarin&quot;</td><td>&quot;joker, sadism, chaos, secret i…</td></tr><tr><td>19995</td><td>&quot;Avatar&quot;</td><td>7.573</td><td>29815</td><td>&quot;Released&quot;</td><td>&quot;2009-12-15&quot;</td><td>2923706026</td><td>162</td><td>false</td><td>&quot;/vL5LR6WdxWPjLPFRLe133jXWsh5.j…</td><td>237000000</td><td>&quot;https://www.avatar.com/movies/…</td><td>&quot;tt0499549&quot;</td><td>&quot;en&quot;</td><td>&quot;Avatar&quot;</td><td>&quot;In the 22nd century, a paraple…</td><td>79.932</td><td>&quot;/kyeqWdyUXW608qlYkRqosgbbJyK.j…</td><td>&quot;Enter the world of Pandora.&quot;</td><td>&quot;Action, Adventure, Fantasy, Sc…</td><td>&quot;Dune Entertainment, Lightstorm…</td><td>&quot;United States of America, Unit…</td><td>&quot;English, Spanish&quot;</td><td>&quot;future, society, culture clash…</td></tr><tr><td>24428</td><td>&quot;The Avengers&quot;</td><td>7.71</td><td>29166</td><td>&quot;Released&quot;</td><td>&quot;2012-04-25&quot;</td><td>1518815515</td><td>143</td><td>false</td><td>&quot;/9BBTo63ANSmhC4e6r62OJFuK2GL.j…</td><td>220000000</td><td>&quot;https://www.marvel.com/movies/…</td><td>&quot;tt0848228&quot;</td><td>&quot;en&quot;</td><td>&quot;The Avengers&quot;</td><td>&quot;When an unexpected enemy emerg…</td><td>98.082</td><td>&quot;/RYMX2wcKCBAr24UyPD7xwmjaTn.jp…</td><td>&quot;Some assembly required.&quot;</td><td>&quot;Science Fiction, Action, Adven…</td><td>&quot;Marvel Studios&quot;</td><td>&quot;United States of America&quot;</td><td>&quot;English, Hindi, Russian&quot;</td><td>&quot;new york city, superhero, shie…</td></tr><tr><td>&hellip;</td><td>&hellip;</td><td>&hellip;</td><td>&hellip;</td><td>&hellip;</td><td>&hellip;</td><td>&hellip;</td><td>&hellip;</td><td>&hellip;</td><td>&hellip;</td><td>&hellip;</td><td>&hellip;</td><td>&hellip;</td><td>&hellip;</td><td>&hellip;</td><td>&hellip;</td><td>&hellip;</td><td>&hellip;</td><td>&hellip;</td><td>&hellip;</td><td>&hellip;</td><td>&hellip;</td><td>&hellip;</td><td>&hellip;</td></tr><tr><td>811069</td><td>&quot;Crimen en el hotel alojamiento&quot;</td><td>0.0</td><td>0</td><td>&quot;Released&quot;</td><td>&quot;1974-03-14&quot;</td><td>0</td><td>80</td><td>false</td><td>&quot;&quot;</td><td>0</td><td>&quot;&quot;</td><td>&quot;tt0188526&quot;</td><td>&quot;es&quot;</td><td>&quot;Crimen en el hotel alojamiento&quot;</td><td>&quot;An assault will create a whole…</td><td>0.6</td><td>&quot;/aBE1qc85U5ethBLT3KC4C3eIcsE.j…</td><td>&quot;&quot;</td><td>&quot;Comedy&quot;</td><td>&quot;Cinematográfica Sudamericana d…</td><td>&quot;Argentina&quot;</td><td>&quot;Spanish&quot;</td><td>&quot;&quot;</td></tr><tr><td>811070</td><td>&quot;¿Los piolas no se casan…?&quot;</td><td>0.0</td><td>0</td><td>&quot;Released&quot;</td><td>&quot;1981-05-14&quot;</td><td>0</td><td>92</td><td>false</td><td>&quot;/xYedy9bkILyloSyGqsM0M4WOPiL.j…</td><td>0</td><td>&quot;&quot;</td><td>&quot;tt0182548&quot;</td><td>&quot;es&quot;</td><td>&quot;¿Los piolas no se casan…?&quot;</td><td>&quot;The story revolves around Bebe…</td><td>0.6</td><td>&quot;/rbXSEwihVPSbyFHFyRT124temHc.j…</td><td>&quot;&quot;</td><td>&quot;Comedy&quot;</td><td>&quot;Cinematográfica Victoria&quot;</td><td>&quot;&quot;</td><td>&quot;Spanish&quot;</td><td>&quot;&quot;</td></tr><tr><td>811071</td><td>&quot;Satan in the House&quot;</td><td>0.0</td><td>0</td><td>&quot;Released&quot;</td><td>&quot;1999-11-18&quot;</td><td>0</td><td>30</td><td>false</td><td>&quot;&quot;</td><td>0</td><td>&quot;&quot;</td><td>&quot;tt1034465&quot;</td><td>&quot;fi&quot;</td><td>&quot;Talossa on Saatana&quot;</td><td>&quot;Woman unexpectedly meets Satan…</td><td>1.091</td><td>&quot;/jILPIkmXLarIbz0mw7byviNI6iY.j…</td><td>&quot;&quot;</td><td>&quot;&quot;</td><td>&quot;Solar Films&quot;</td><td>&quot;&quot;</td><td>&quot;Finnish&quot;</td><td>&quot;short film&quot;</td></tr><tr><td>811075</td><td>&quot;Apparition&quot;</td><td>0.0</td><td>0</td><td>&quot;Released&quot;</td><td>&quot;2016-04-15&quot;</td><td>0</td><td>12</td><td>false</td><td>&quot;&quot;</td><td>0</td><td>&quot;&quot;</td><td>&quot;tt8298212&quot;</td><td>&quot;fr&quot;</td><td>&quot;L’apparition&quot;</td><td>&quot;A lonely bank clark discovers …</td><td>0.6</td><td>&quot;/uL4WFHhVy4Z4PlE2WPRHCqHyV2j.j…</td><td>&quot;&quot;</td><td>&quot;Drama, Comedy&quot;</td><td>&quot;Arde Cine&quot;</td><td>&quot;France&quot;</td><td>&quot;French&quot;</td><td>&quot;&quot;</td></tr><tr><td>1555013</td><td>&quot;Kalte Heimat - Fluchtgeschicht…</td><td>0.0</td><td>0</td><td>&quot;Released&quot;</td><td>&quot;2018-03-11&quot;</td><td>0</td><td>0</td><td>false</td><td>&quot;None&quot;</td><td>0</td><td>&quot;&quot;</td><td>&quot;None&quot;</td><td>&quot;de&quot;</td><td>&quot;Kalte Heimat - Fluchtgeschicht…</td><td>&quot;&quot;</td><td>0.0071</td><td>&quot;None&quot;</td><td>&quot;&quot;</td><td>&quot;Documentary&quot;</td><td>&quot;&quot;</td><td>&quot;Germany&quot;</td><td>&quot;German&quot;</td><td>&quot;&quot;</td></tr></tbody></table></div>"
      ]
     },
     "execution_count": 4,
     "metadata": {},
     "output_type": "execute_result"
    }
   ],
   "execution_count": 4
  },
  {
   "metadata": {},
   "cell_type": "code",
   "outputs": [],
   "execution_count": null,
   "source": "",
   "id": "7bcc5a1099d12555"
  }
 ],
 "metadata": {
  "kernelspec": {
   "display_name": "Python 3",
   "language": "python",
   "name": "python3"
  },
  "language_info": {
   "codemirror_mode": {
    "name": "ipython",
    "version": 2
   },
   "file_extension": ".py",
   "mimetype": "text/x-python",
   "name": "python",
   "nbconvert_exporter": "python",
   "pygments_lexer": "ipython2",
   "version": "2.7.6"
  }
 },
 "nbformat": 4,
 "nbformat_minor": 5
}
