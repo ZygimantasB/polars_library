{
 "cells": [
  {
   "cell_type": "code",
   "id": "initial_id",
   "metadata": {
    "collapsed": true,
    "ExecuteTime": {
     "end_time": "2025-02-28T18:14:42.262416Z",
     "start_time": "2025-02-28T18:14:39.814798Z"
    }
   },
   "source": [
    "import polars as pl\n",
    "import seaborn as sns\n",
    "import matplotlib.pyplot as plt\n",
    "import plotly.express as px\n",
    "import hvplot.polars\n",
    "import altair as alt\n",
    "import polars.selectors as cs"
   ],
   "outputs": [
    {
     "data": {
      "text/html": [
       "<script type=\"esms-options\">{\"shimMode\": true}</script><style>*[data-root-id],\n",
       "*[data-root-id] > * {\n",
       "  box-sizing: border-box;\n",
       "  font-family: var(--jp-ui-font-family);\n",
       "  font-size: var(--jp-ui-font-size1);\n",
       "  color: var(--vscode-editor-foreground, var(--jp-ui-font-color1));\n",
       "}\n",
       "\n",
       "/* Override VSCode background color */\n",
       ".cell-output-ipywidget-background:has(\n",
       "    > .cell-output-ipywidget-background > .lm-Widget > *[data-root-id]\n",
       "  ),\n",
       ".cell-output-ipywidget-background:has(> .lm-Widget > *[data-root-id]) {\n",
       "  background-color: transparent !important;\n",
       "}\n",
       "</style>"
      ]
     },
     "metadata": {},
     "output_type": "display_data"
    },
    {
     "data": {
      "application/javascript": "(function(root) {\n  function now() {\n    return new Date();\n  }\n\n  const force = true;\n  const py_version = '3.6.3'.replace('rc', '-rc.').replace('.dev', '-dev.');\n  const reloading = false;\n  const Bokeh = root.Bokeh;\n\n  // Set a timeout for this load but only if we are not already initializing\n  if (typeof (root._bokeh_timeout) === \"undefined\" || (force || !root._bokeh_is_initializing)) {\n    root._bokeh_timeout = Date.now() + 5000;\n    root._bokeh_failed_load = false;\n  }\n\n  function run_callbacks() {\n    try {\n      root._bokeh_onload_callbacks.forEach(function(callback) {\n        if (callback != null)\n          callback();\n      });\n    } finally {\n      delete root._bokeh_onload_callbacks;\n    }\n    console.debug(\"Bokeh: all callbacks have finished\");\n  }\n\n  function load_libs(css_urls, js_urls, js_modules, js_exports, callback) {\n    if (css_urls == null) css_urls = [];\n    if (js_urls == null) js_urls = [];\n    if (js_modules == null) js_modules = [];\n    if (js_exports == null) js_exports = {};\n\n    root._bokeh_onload_callbacks.push(callback);\n\n    if (root._bokeh_is_loading > 0) {\n      // Don't load bokeh if it is still initializing\n      console.debug(\"Bokeh: BokehJS is being loaded, scheduling callback at\", now());\n      return null;\n    } else if (js_urls.length === 0 && js_modules.length === 0 && Object.keys(js_exports).length === 0) {\n      // There is nothing to load\n      run_callbacks();\n      return null;\n    }\n\n    function on_load() {\n      root._bokeh_is_loading--;\n      if (root._bokeh_is_loading === 0) {\n        console.debug(\"Bokeh: all BokehJS libraries/stylesheets loaded\");\n        run_callbacks()\n      }\n    }\n    window._bokeh_on_load = on_load\n\n    function on_error(e) {\n      const src_el = e.srcElement\n      console.error(\"failed to load \" + (src_el.href || src_el.src));\n    }\n\n    const skip = [];\n    if (window.requirejs) {\n      window.requirejs.config({'packages': {}, 'paths': {}, 'shim': {}});\n      root._bokeh_is_loading = css_urls.length + 0;\n    } else {\n      root._bokeh_is_loading = css_urls.length + js_urls.length + js_modules.length + Object.keys(js_exports).length;\n    }\n\n    const existing_stylesheets = []\n    const links = document.getElementsByTagName('link')\n    for (let i = 0; i < links.length; i++) {\n      const link = links[i]\n      if (link.href != null) {\n        existing_stylesheets.push(link.href)\n      }\n    }\n    for (let i = 0; i < css_urls.length; i++) {\n      const url = css_urls[i];\n      const escaped = encodeURI(url)\n      if (existing_stylesheets.indexOf(escaped) !== -1) {\n        on_load()\n        continue;\n      }\n      const element = document.createElement(\"link\");\n      element.onload = on_load;\n      element.onerror = on_error;\n      element.rel = \"stylesheet\";\n      element.type = \"text/css\";\n      element.href = url;\n      console.debug(\"Bokeh: injecting link tag for BokehJS stylesheet: \", url);\n      document.body.appendChild(element);\n    }    var existing_scripts = []\n    const scripts = document.getElementsByTagName('script')\n    for (let i = 0; i < scripts.length; i++) {\n      var script = scripts[i]\n      if (script.src != null) {\n        existing_scripts.push(script.src)\n      }\n    }\n    for (let i = 0; i < js_urls.length; i++) {\n      const url = js_urls[i];\n      const escaped = encodeURI(url)\n      if (skip.indexOf(escaped) !== -1 || existing_scripts.indexOf(escaped) !== -1) {\n        if (!window.requirejs) {\n          on_load();\n        }\n        continue;\n      }\n      const element = document.createElement('script');\n      element.onload = on_load;\n      element.onerror = on_error;\n      element.async = false;\n      element.src = url;\n      console.debug(\"Bokeh: injecting script tag for BokehJS library: \", url);\n      document.head.appendChild(element);\n    }\n    for (let i = 0; i < js_modules.length; i++) {\n      const url = js_modules[i];\n      const escaped = encodeURI(url)\n      if (skip.indexOf(escaped) !== -1 || existing_scripts.indexOf(escaped) !== -1) {\n        if (!window.requirejs) {\n          on_load();\n        }\n        continue;\n      }\n      var element = document.createElement('script');\n      element.onload = on_load;\n      element.onerror = on_error;\n      element.async = false;\n      element.src = url;\n      element.type = \"module\";\n      console.debug(\"Bokeh: injecting script tag for BokehJS library: \", url);\n      document.head.appendChild(element);\n    }\n    for (const name in js_exports) {\n      const url = js_exports[name];\n      const escaped = encodeURI(url)\n      if (skip.indexOf(escaped) >= 0 || root[name] != null) {\n        if (!window.requirejs) {\n          on_load();\n        }\n        continue;\n      }\n      var element = document.createElement('script');\n      element.onerror = on_error;\n      element.async = false;\n      element.type = \"module\";\n      console.debug(\"Bokeh: injecting script tag for BokehJS library: \", url);\n      element.textContent = `\n      import ${name} from \"${url}\"\n      window.${name} = ${name}\n      window._bokeh_on_load()\n      `\n      document.head.appendChild(element);\n    }\n    if (!js_urls.length && !js_modules.length) {\n      on_load()\n    }\n  };\n\n  function inject_raw_css(css) {\n    const element = document.createElement(\"style\");\n    element.appendChild(document.createTextNode(css));\n    document.body.appendChild(element);\n  }\n\n  const js_urls = [\"https://cdn.holoviz.org/panel/1.6.1/dist/bundled/reactiveesm/es-module-shims@^1.10.0/dist/es-module-shims.min.js\", \"https://cdn.bokeh.org/bokeh/release/bokeh-3.6.3.min.js\", \"https://cdn.bokeh.org/bokeh/release/bokeh-gl-3.6.3.min.js\", \"https://cdn.bokeh.org/bokeh/release/bokeh-widgets-3.6.3.min.js\", \"https://cdn.bokeh.org/bokeh/release/bokeh-tables-3.6.3.min.js\", \"https://cdn.holoviz.org/panel/1.6.1/dist/panel.min.js\"];\n  const js_modules = [];\n  const js_exports = {};\n  const css_urls = [];\n  const inline_js = [    function(Bokeh) {\n      Bokeh.set_log_level(\"info\");\n    },\nfunction(Bokeh) {} // ensure no trailing comma for IE\n  ];\n\n  function run_inline_js() {\n    if ((root.Bokeh !== undefined) || (force === true)) {\n      for (let i = 0; i < inline_js.length; i++) {\n        try {\n          inline_js[i].call(root, root.Bokeh);\n        } catch(e) {\n          if (!reloading) {\n            throw e;\n          }\n        }\n      }\n      // Cache old bokeh versions\n      if (Bokeh != undefined && !reloading) {\n        var NewBokeh = root.Bokeh;\n        if (Bokeh.versions === undefined) {\n          Bokeh.versions = new Map();\n        }\n        if (NewBokeh.version !== Bokeh.version) {\n          Bokeh.versions.set(NewBokeh.version, NewBokeh)\n        }\n        root.Bokeh = Bokeh;\n      }\n    } else if (Date.now() < root._bokeh_timeout) {\n      setTimeout(run_inline_js, 100);\n    } else if (!root._bokeh_failed_load) {\n      console.log(\"Bokeh: BokehJS failed to load within specified timeout.\");\n      root._bokeh_failed_load = true;\n    }\n    root._bokeh_is_initializing = false\n  }\n\n  function load_or_wait() {\n    // Implement a backoff loop that tries to ensure we do not load multiple\n    // versions of Bokeh and its dependencies at the same time.\n    // In recent versions we use the root._bokeh_is_initializing flag\n    // to determine whether there is an ongoing attempt to initialize\n    // bokeh, however for backward compatibility we also try to ensure\n    // that we do not start loading a newer (Panel>=1.0 and Bokeh>3) version\n    // before older versions are fully initialized.\n    if (root._bokeh_is_initializing && Date.now() > root._bokeh_timeout) {\n      // If the timeout and bokeh was not successfully loaded we reset\n      // everything and try loading again\n      root._bokeh_timeout = Date.now() + 5000;\n      root._bokeh_is_initializing = false;\n      root._bokeh_onload_callbacks = undefined;\n      root._bokeh_is_loading = 0\n      console.log(\"Bokeh: BokehJS was loaded multiple times but one version failed to initialize.\");\n      load_or_wait();\n    } else if (root._bokeh_is_initializing || (typeof root._bokeh_is_initializing === \"undefined\" && root._bokeh_onload_callbacks !== undefined)) {\n      setTimeout(load_or_wait, 100);\n    } else {\n      root._bokeh_is_initializing = true\n      root._bokeh_onload_callbacks = []\n      const bokeh_loaded = root.Bokeh != null && (root.Bokeh.version === py_version || (root.Bokeh.versions !== undefined && root.Bokeh.versions.has(py_version)));\n      if (!reloading && !bokeh_loaded) {\n        if (root.Bokeh) {\n          root.Bokeh = undefined;\n        }\n        console.debug(\"Bokeh: BokehJS not loaded, scheduling load and callback at\", now());\n      }\n      load_libs(css_urls, js_urls, js_modules, js_exports, function() {\n        console.debug(\"Bokeh: BokehJS plotting callback run at\", now());\n        run_inline_js();\n      });\n    }\n  }\n  // Give older versions of the autoload script a head-start to ensure\n  // they initialize before we start loading newer version.\n  setTimeout(load_or_wait, 100)\n}(window));",
      "application/vnd.holoviews_load.v0+json": "(function(root) {\n  function now() {\n    return new Date();\n  }\n\n  const force = true;\n  const py_version = '3.6.3'.replace('rc', '-rc.').replace('.dev', '-dev.');\n  const reloading = false;\n  const Bokeh = root.Bokeh;\n\n  // Set a timeout for this load but only if we are not already initializing\n  if (typeof (root._bokeh_timeout) === \"undefined\" || (force || !root._bokeh_is_initializing)) {\n    root._bokeh_timeout = Date.now() + 5000;\n    root._bokeh_failed_load = false;\n  }\n\n  function run_callbacks() {\n    try {\n      root._bokeh_onload_callbacks.forEach(function(callback) {\n        if (callback != null)\n          callback();\n      });\n    } finally {\n      delete root._bokeh_onload_callbacks;\n    }\n    console.debug(\"Bokeh: all callbacks have finished\");\n  }\n\n  function load_libs(css_urls, js_urls, js_modules, js_exports, callback) {\n    if (css_urls == null) css_urls = [];\n    if (js_urls == null) js_urls = [];\n    if (js_modules == null) js_modules = [];\n    if (js_exports == null) js_exports = {};\n\n    root._bokeh_onload_callbacks.push(callback);\n\n    if (root._bokeh_is_loading > 0) {\n      // Don't load bokeh if it is still initializing\n      console.debug(\"Bokeh: BokehJS is being loaded, scheduling callback at\", now());\n      return null;\n    } else if (js_urls.length === 0 && js_modules.length === 0 && Object.keys(js_exports).length === 0) {\n      // There is nothing to load\n      run_callbacks();\n      return null;\n    }\n\n    function on_load() {\n      root._bokeh_is_loading--;\n      if (root._bokeh_is_loading === 0) {\n        console.debug(\"Bokeh: all BokehJS libraries/stylesheets loaded\");\n        run_callbacks()\n      }\n    }\n    window._bokeh_on_load = on_load\n\n    function on_error(e) {\n      const src_el = e.srcElement\n      console.error(\"failed to load \" + (src_el.href || src_el.src));\n    }\n\n    const skip = [];\n    if (window.requirejs) {\n      window.requirejs.config({'packages': {}, 'paths': {}, 'shim': {}});\n      root._bokeh_is_loading = css_urls.length + 0;\n    } else {\n      root._bokeh_is_loading = css_urls.length + js_urls.length + js_modules.length + Object.keys(js_exports).length;\n    }\n\n    const existing_stylesheets = []\n    const links = document.getElementsByTagName('link')\n    for (let i = 0; i < links.length; i++) {\n      const link = links[i]\n      if (link.href != null) {\n        existing_stylesheets.push(link.href)\n      }\n    }\n    for (let i = 0; i < css_urls.length; i++) {\n      const url = css_urls[i];\n      const escaped = encodeURI(url)\n      if (existing_stylesheets.indexOf(escaped) !== -1) {\n        on_load()\n        continue;\n      }\n      const element = document.createElement(\"link\");\n      element.onload = on_load;\n      element.onerror = on_error;\n      element.rel = \"stylesheet\";\n      element.type = \"text/css\";\n      element.href = url;\n      console.debug(\"Bokeh: injecting link tag for BokehJS stylesheet: \", url);\n      document.body.appendChild(element);\n    }    var existing_scripts = []\n    const scripts = document.getElementsByTagName('script')\n    for (let i = 0; i < scripts.length; i++) {\n      var script = scripts[i]\n      if (script.src != null) {\n        existing_scripts.push(script.src)\n      }\n    }\n    for (let i = 0; i < js_urls.length; i++) {\n      const url = js_urls[i];\n      const escaped = encodeURI(url)\n      if (skip.indexOf(escaped) !== -1 || existing_scripts.indexOf(escaped) !== -1) {\n        if (!window.requirejs) {\n          on_load();\n        }\n        continue;\n      }\n      const element = document.createElement('script');\n      element.onload = on_load;\n      element.onerror = on_error;\n      element.async = false;\n      element.src = url;\n      console.debug(\"Bokeh: injecting script tag for BokehJS library: \", url);\n      document.head.appendChild(element);\n    }\n    for (let i = 0; i < js_modules.length; i++) {\n      const url = js_modules[i];\n      const escaped = encodeURI(url)\n      if (skip.indexOf(escaped) !== -1 || existing_scripts.indexOf(escaped) !== -1) {\n        if (!window.requirejs) {\n          on_load();\n        }\n        continue;\n      }\n      var element = document.createElement('script');\n      element.onload = on_load;\n      element.onerror = on_error;\n      element.async = false;\n      element.src = url;\n      element.type = \"module\";\n      console.debug(\"Bokeh: injecting script tag for BokehJS library: \", url);\n      document.head.appendChild(element);\n    }\n    for (const name in js_exports) {\n      const url = js_exports[name];\n      const escaped = encodeURI(url)\n      if (skip.indexOf(escaped) >= 0 || root[name] != null) {\n        if (!window.requirejs) {\n          on_load();\n        }\n        continue;\n      }\n      var element = document.createElement('script');\n      element.onerror = on_error;\n      element.async = false;\n      element.type = \"module\";\n      console.debug(\"Bokeh: injecting script tag for BokehJS library: \", url);\n      element.textContent = `\n      import ${name} from \"${url}\"\n      window.${name} = ${name}\n      window._bokeh_on_load()\n      `\n      document.head.appendChild(element);\n    }\n    if (!js_urls.length && !js_modules.length) {\n      on_load()\n    }\n  };\n\n  function inject_raw_css(css) {\n    const element = document.createElement(\"style\");\n    element.appendChild(document.createTextNode(css));\n    document.body.appendChild(element);\n  }\n\n  const js_urls = [\"https://cdn.holoviz.org/panel/1.6.1/dist/bundled/reactiveesm/es-module-shims@^1.10.0/dist/es-module-shims.min.js\", \"https://cdn.bokeh.org/bokeh/release/bokeh-3.6.3.min.js\", \"https://cdn.bokeh.org/bokeh/release/bokeh-gl-3.6.3.min.js\", \"https://cdn.bokeh.org/bokeh/release/bokeh-widgets-3.6.3.min.js\", \"https://cdn.bokeh.org/bokeh/release/bokeh-tables-3.6.3.min.js\", \"https://cdn.holoviz.org/panel/1.6.1/dist/panel.min.js\"];\n  const js_modules = [];\n  const js_exports = {};\n  const css_urls = [];\n  const inline_js = [    function(Bokeh) {\n      Bokeh.set_log_level(\"info\");\n    },\nfunction(Bokeh) {} // ensure no trailing comma for IE\n  ];\n\n  function run_inline_js() {\n    if ((root.Bokeh !== undefined) || (force === true)) {\n      for (let i = 0; i < inline_js.length; i++) {\n        try {\n          inline_js[i].call(root, root.Bokeh);\n        } catch(e) {\n          if (!reloading) {\n            throw e;\n          }\n        }\n      }\n      // Cache old bokeh versions\n      if (Bokeh != undefined && !reloading) {\n        var NewBokeh = root.Bokeh;\n        if (Bokeh.versions === undefined) {\n          Bokeh.versions = new Map();\n        }\n        if (NewBokeh.version !== Bokeh.version) {\n          Bokeh.versions.set(NewBokeh.version, NewBokeh)\n        }\n        root.Bokeh = Bokeh;\n      }\n    } else if (Date.now() < root._bokeh_timeout) {\n      setTimeout(run_inline_js, 100);\n    } else if (!root._bokeh_failed_load) {\n      console.log(\"Bokeh: BokehJS failed to load within specified timeout.\");\n      root._bokeh_failed_load = true;\n    }\n    root._bokeh_is_initializing = false\n  }\n\n  function load_or_wait() {\n    // Implement a backoff loop that tries to ensure we do not load multiple\n    // versions of Bokeh and its dependencies at the same time.\n    // In recent versions we use the root._bokeh_is_initializing flag\n    // to determine whether there is an ongoing attempt to initialize\n    // bokeh, however for backward compatibility we also try to ensure\n    // that we do not start loading a newer (Panel>=1.0 and Bokeh>3) version\n    // before older versions are fully initialized.\n    if (root._bokeh_is_initializing && Date.now() > root._bokeh_timeout) {\n      // If the timeout and bokeh was not successfully loaded we reset\n      // everything and try loading again\n      root._bokeh_timeout = Date.now() + 5000;\n      root._bokeh_is_initializing = false;\n      root._bokeh_onload_callbacks = undefined;\n      root._bokeh_is_loading = 0\n      console.log(\"Bokeh: BokehJS was loaded multiple times but one version failed to initialize.\");\n      load_or_wait();\n    } else if (root._bokeh_is_initializing || (typeof root._bokeh_is_initializing === \"undefined\" && root._bokeh_onload_callbacks !== undefined)) {\n      setTimeout(load_or_wait, 100);\n    } else {\n      root._bokeh_is_initializing = true\n      root._bokeh_onload_callbacks = []\n      const bokeh_loaded = root.Bokeh != null && (root.Bokeh.version === py_version || (root.Bokeh.versions !== undefined && root.Bokeh.versions.has(py_version)));\n      if (!reloading && !bokeh_loaded) {\n        if (root.Bokeh) {\n          root.Bokeh = undefined;\n        }\n        console.debug(\"Bokeh: BokehJS not loaded, scheduling load and callback at\", now());\n      }\n      load_libs(css_urls, js_urls, js_modules, js_exports, function() {\n        console.debug(\"Bokeh: BokehJS plotting callback run at\", now());\n        run_inline_js();\n      });\n    }\n  }\n  // Give older versions of the autoload script a head-start to ensure\n  // they initialize before we start loading newer version.\n  setTimeout(load_or_wait, 100)\n}(window));"
     },
     "metadata": {},
     "output_type": "display_data"
    },
    {
     "data": {
      "application/vnd.holoviews_load.v0+json": "\nif ((window.PyViz === undefined) || (window.PyViz instanceof HTMLElement)) {\n  window.PyViz = {comms: {}, comm_status:{}, kernels:{}, receivers: {}, plot_index: []}\n}\n\n\n    function JupyterCommManager() {\n    }\n\n    JupyterCommManager.prototype.register_target = function(plot_id, comm_id, msg_handler) {\n      if (window.comm_manager || ((window.Jupyter !== undefined) && (Jupyter.notebook.kernel != null))) {\n        var comm_manager = window.comm_manager || Jupyter.notebook.kernel.comm_manager;\n        comm_manager.register_target(comm_id, function(comm) {\n          comm.on_msg(msg_handler);\n        });\n      } else if ((plot_id in window.PyViz.kernels) && (window.PyViz.kernels[plot_id])) {\n        window.PyViz.kernels[plot_id].registerCommTarget(comm_id, function(comm) {\n          comm.onMsg = msg_handler;\n        });\n      } else if (typeof google != 'undefined' && google.colab.kernel != null) {\n        google.colab.kernel.comms.registerTarget(comm_id, (comm) => {\n          var messages = comm.messages[Symbol.asyncIterator]();\n          function processIteratorResult(result) {\n            var message = result.value;\n            console.log(message)\n            var content = {data: message.data, comm_id};\n            var buffers = []\n            for (var buffer of message.buffers || []) {\n              buffers.push(new DataView(buffer))\n            }\n            var metadata = message.metadata || {};\n            var msg = {content, buffers, metadata}\n            msg_handler(msg);\n            return messages.next().then(processIteratorResult);\n          }\n          return messages.next().then(processIteratorResult);\n        })\n      }\n    }\n\n    JupyterCommManager.prototype.get_client_comm = function(plot_id, comm_id, msg_handler) {\n      if (comm_id in window.PyViz.comms) {\n        return window.PyViz.comms[comm_id];\n      } else if (window.comm_manager || ((window.Jupyter !== undefined) && (Jupyter.notebook.kernel != null))) {\n        var comm_manager = window.comm_manager || Jupyter.notebook.kernel.comm_manager;\n        var comm = comm_manager.new_comm(comm_id, {}, {}, {}, comm_id);\n        if (msg_handler) {\n          comm.on_msg(msg_handler);\n        }\n      } else if ((plot_id in window.PyViz.kernels) && (window.PyViz.kernels[plot_id])) {\n        var comm = window.PyViz.kernels[plot_id].connectToComm(comm_id);\n        comm.open();\n        if (msg_handler) {\n          comm.onMsg = msg_handler;\n        }\n      } else if (typeof google != 'undefined' && google.colab.kernel != null) {\n        var comm_promise = google.colab.kernel.comms.open(comm_id)\n        comm_promise.then((comm) => {\n          window.PyViz.comms[comm_id] = comm;\n          if (msg_handler) {\n            var messages = comm.messages[Symbol.asyncIterator]();\n            function processIteratorResult(result) {\n              var message = result.value;\n              var content = {data: message.data};\n              var metadata = message.metadata || {comm_id};\n              var msg = {content, metadata}\n              msg_handler(msg);\n              return messages.next().then(processIteratorResult);\n            }\n            return messages.next().then(processIteratorResult);\n          }\n        })\n        var sendClosure = (data, metadata, buffers, disposeOnDone) => {\n          return comm_promise.then((comm) => {\n            comm.send(data, metadata, buffers, disposeOnDone);\n          });\n        };\n        var comm = {\n          send: sendClosure\n        };\n      }\n      window.PyViz.comms[comm_id] = comm;\n      return comm;\n    }\n    window.PyViz.comm_manager = new JupyterCommManager();\n    \n\n\nvar JS_MIME_TYPE = 'application/javascript';\nvar HTML_MIME_TYPE = 'text/html';\nvar EXEC_MIME_TYPE = 'application/vnd.holoviews_exec.v0+json';\nvar CLASS_NAME = 'output';\n\n/**\n * Render data to the DOM node\n */\nfunction render(props, node) {\n  var div = document.createElement(\"div\");\n  var script = document.createElement(\"script\");\n  node.appendChild(div);\n  node.appendChild(script);\n}\n\n/**\n * Handle when a new output is added\n */\nfunction handle_add_output(event, handle) {\n  var output_area = handle.output_area;\n  var output = handle.output;\n  if ((output.data == undefined) || (!output.data.hasOwnProperty(EXEC_MIME_TYPE))) {\n    return\n  }\n  var id = output.metadata[EXEC_MIME_TYPE][\"id\"];\n  var toinsert = output_area.element.find(\".\" + CLASS_NAME.split(' ')[0]);\n  if (id !== undefined) {\n    var nchildren = toinsert.length;\n    var html_node = toinsert[nchildren-1].children[0];\n    html_node.innerHTML = output.data[HTML_MIME_TYPE];\n    var scripts = [];\n    var nodelist = html_node.querySelectorAll(\"script\");\n    for (var i in nodelist) {\n      if (nodelist.hasOwnProperty(i)) {\n        scripts.push(nodelist[i])\n      }\n    }\n\n    scripts.forEach( function (oldScript) {\n      var newScript = document.createElement(\"script\");\n      var attrs = [];\n      var nodemap = oldScript.attributes;\n      for (var j in nodemap) {\n        if (nodemap.hasOwnProperty(j)) {\n          attrs.push(nodemap[j])\n        }\n      }\n      attrs.forEach(function(attr) { newScript.setAttribute(attr.name, attr.value) });\n      newScript.appendChild(document.createTextNode(oldScript.innerHTML));\n      oldScript.parentNode.replaceChild(newScript, oldScript);\n    });\n    if (JS_MIME_TYPE in output.data) {\n      toinsert[nchildren-1].children[1].textContent = output.data[JS_MIME_TYPE];\n    }\n    output_area._hv_plot_id = id;\n    if ((window.Bokeh !== undefined) && (id in Bokeh.index)) {\n      window.PyViz.plot_index[id] = Bokeh.index[id];\n    } else {\n      window.PyViz.plot_index[id] = null;\n    }\n  } else if (output.metadata[EXEC_MIME_TYPE][\"server_id\"] !== undefined) {\n    var bk_div = document.createElement(\"div\");\n    bk_div.innerHTML = output.data[HTML_MIME_TYPE];\n    var script_attrs = bk_div.children[0].attributes;\n    for (var i = 0; i < script_attrs.length; i++) {\n      toinsert[toinsert.length - 1].childNodes[1].setAttribute(script_attrs[i].name, script_attrs[i].value);\n    }\n    // store reference to server id on output_area\n    output_area._bokeh_server_id = output.metadata[EXEC_MIME_TYPE][\"server_id\"];\n  }\n}\n\n/**\n * Handle when an output is cleared or removed\n */\nfunction handle_clear_output(event, handle) {\n  var id = handle.cell.output_area._hv_plot_id;\n  var server_id = handle.cell.output_area._bokeh_server_id;\n  if (((id === undefined) || !(id in PyViz.plot_index)) && (server_id !== undefined)) { return; }\n  var comm = window.PyViz.comm_manager.get_client_comm(\"hv-extension-comm\", \"hv-extension-comm\", function () {});\n  if (server_id !== null) {\n    comm.send({event_type: 'server_delete', 'id': server_id});\n    return;\n  } else if (comm !== null) {\n    comm.send({event_type: 'delete', 'id': id});\n  }\n  delete PyViz.plot_index[id];\n  if ((window.Bokeh !== undefined) & (id in window.Bokeh.index)) {\n    var doc = window.Bokeh.index[id].model.document\n    doc.clear();\n    const i = window.Bokeh.documents.indexOf(doc);\n    if (i > -1) {\n      window.Bokeh.documents.splice(i, 1);\n    }\n  }\n}\n\n/**\n * Handle kernel restart event\n */\nfunction handle_kernel_cleanup(event, handle) {\n  delete PyViz.comms[\"hv-extension-comm\"];\n  window.PyViz.plot_index = {}\n}\n\n/**\n * Handle update_display_data messages\n */\nfunction handle_update_output(event, handle) {\n  handle_clear_output(event, {cell: {output_area: handle.output_area}})\n  handle_add_output(event, handle)\n}\n\nfunction register_renderer(events, OutputArea) {\n  function append_mime(data, metadata, element) {\n    // create a DOM node to render to\n    var toinsert = this.create_output_subarea(\n    metadata,\n    CLASS_NAME,\n    EXEC_MIME_TYPE\n    );\n    this.keyboard_manager.register_events(toinsert);\n    // Render to node\n    var props = {data: data, metadata: metadata[EXEC_MIME_TYPE]};\n    render(props, toinsert[0]);\n    element.append(toinsert);\n    return toinsert\n  }\n\n  events.on('output_added.OutputArea', handle_add_output);\n  events.on('output_updated.OutputArea', handle_update_output);\n  events.on('clear_output.CodeCell', handle_clear_output);\n  events.on('delete.Cell', handle_clear_output);\n  events.on('kernel_ready.Kernel', handle_kernel_cleanup);\n\n  OutputArea.prototype.register_mime_type(EXEC_MIME_TYPE, append_mime, {\n    safe: true,\n    index: 0\n  });\n}\n\nif (window.Jupyter !== undefined) {\n  try {\n    var events = require('base/js/events');\n    var OutputArea = require('notebook/js/outputarea').OutputArea;\n    if (OutputArea.prototype.mime_types().indexOf(EXEC_MIME_TYPE) == -1) {\n      register_renderer(events, OutputArea);\n    }\n  } catch(err) {\n  }\n}\n",
      "application/javascript": "\nif ((window.PyViz === undefined) || (window.PyViz instanceof HTMLElement)) {\n  window.PyViz = {comms: {}, comm_status:{}, kernels:{}, receivers: {}, plot_index: []}\n}\n\n\n    function JupyterCommManager() {\n    }\n\n    JupyterCommManager.prototype.register_target = function(plot_id, comm_id, msg_handler) {\n      if (window.comm_manager || ((window.Jupyter !== undefined) && (Jupyter.notebook.kernel != null))) {\n        var comm_manager = window.comm_manager || Jupyter.notebook.kernel.comm_manager;\n        comm_manager.register_target(comm_id, function(comm) {\n          comm.on_msg(msg_handler);\n        });\n      } else if ((plot_id in window.PyViz.kernels) && (window.PyViz.kernels[plot_id])) {\n        window.PyViz.kernels[plot_id].registerCommTarget(comm_id, function(comm) {\n          comm.onMsg = msg_handler;\n        });\n      } else if (typeof google != 'undefined' && google.colab.kernel != null) {\n        google.colab.kernel.comms.registerTarget(comm_id, (comm) => {\n          var messages = comm.messages[Symbol.asyncIterator]();\n          function processIteratorResult(result) {\n            var message = result.value;\n            console.log(message)\n            var content = {data: message.data, comm_id};\n            var buffers = []\n            for (var buffer of message.buffers || []) {\n              buffers.push(new DataView(buffer))\n            }\n            var metadata = message.metadata || {};\n            var msg = {content, buffers, metadata}\n            msg_handler(msg);\n            return messages.next().then(processIteratorResult);\n          }\n          return messages.next().then(processIteratorResult);\n        })\n      }\n    }\n\n    JupyterCommManager.prototype.get_client_comm = function(plot_id, comm_id, msg_handler) {\n      if (comm_id in window.PyViz.comms) {\n        return window.PyViz.comms[comm_id];\n      } else if (window.comm_manager || ((window.Jupyter !== undefined) && (Jupyter.notebook.kernel != null))) {\n        var comm_manager = window.comm_manager || Jupyter.notebook.kernel.comm_manager;\n        var comm = comm_manager.new_comm(comm_id, {}, {}, {}, comm_id);\n        if (msg_handler) {\n          comm.on_msg(msg_handler);\n        }\n      } else if ((plot_id in window.PyViz.kernels) && (window.PyViz.kernels[plot_id])) {\n        var comm = window.PyViz.kernels[plot_id].connectToComm(comm_id);\n        comm.open();\n        if (msg_handler) {\n          comm.onMsg = msg_handler;\n        }\n      } else if (typeof google != 'undefined' && google.colab.kernel != null) {\n        var comm_promise = google.colab.kernel.comms.open(comm_id)\n        comm_promise.then((comm) => {\n          window.PyViz.comms[comm_id] = comm;\n          if (msg_handler) {\n            var messages = comm.messages[Symbol.asyncIterator]();\n            function processIteratorResult(result) {\n              var message = result.value;\n              var content = {data: message.data};\n              var metadata = message.metadata || {comm_id};\n              var msg = {content, metadata}\n              msg_handler(msg);\n              return messages.next().then(processIteratorResult);\n            }\n            return messages.next().then(processIteratorResult);\n          }\n        })\n        var sendClosure = (data, metadata, buffers, disposeOnDone) => {\n          return comm_promise.then((comm) => {\n            comm.send(data, metadata, buffers, disposeOnDone);\n          });\n        };\n        var comm = {\n          send: sendClosure\n        };\n      }\n      window.PyViz.comms[comm_id] = comm;\n      return comm;\n    }\n    window.PyViz.comm_manager = new JupyterCommManager();\n    \n\n\nvar JS_MIME_TYPE = 'application/javascript';\nvar HTML_MIME_TYPE = 'text/html';\nvar EXEC_MIME_TYPE = 'application/vnd.holoviews_exec.v0+json';\nvar CLASS_NAME = 'output';\n\n/**\n * Render data to the DOM node\n */\nfunction render(props, node) {\n  var div = document.createElement(\"div\");\n  var script = document.createElement(\"script\");\n  node.appendChild(div);\n  node.appendChild(script);\n}\n\n/**\n * Handle when a new output is added\n */\nfunction handle_add_output(event, handle) {\n  var output_area = handle.output_area;\n  var output = handle.output;\n  if ((output.data == undefined) || (!output.data.hasOwnProperty(EXEC_MIME_TYPE))) {\n    return\n  }\n  var id = output.metadata[EXEC_MIME_TYPE][\"id\"];\n  var toinsert = output_area.element.find(\".\" + CLASS_NAME.split(' ')[0]);\n  if (id !== undefined) {\n    var nchildren = toinsert.length;\n    var html_node = toinsert[nchildren-1].children[0];\n    html_node.innerHTML = output.data[HTML_MIME_TYPE];\n    var scripts = [];\n    var nodelist = html_node.querySelectorAll(\"script\");\n    for (var i in nodelist) {\n      if (nodelist.hasOwnProperty(i)) {\n        scripts.push(nodelist[i])\n      }\n    }\n\n    scripts.forEach( function (oldScript) {\n      var newScript = document.createElement(\"script\");\n      var attrs = [];\n      var nodemap = oldScript.attributes;\n      for (var j in nodemap) {\n        if (nodemap.hasOwnProperty(j)) {\n          attrs.push(nodemap[j])\n        }\n      }\n      attrs.forEach(function(attr) { newScript.setAttribute(attr.name, attr.value) });\n      newScript.appendChild(document.createTextNode(oldScript.innerHTML));\n      oldScript.parentNode.replaceChild(newScript, oldScript);\n    });\n    if (JS_MIME_TYPE in output.data) {\n      toinsert[nchildren-1].children[1].textContent = output.data[JS_MIME_TYPE];\n    }\n    output_area._hv_plot_id = id;\n    if ((window.Bokeh !== undefined) && (id in Bokeh.index)) {\n      window.PyViz.plot_index[id] = Bokeh.index[id];\n    } else {\n      window.PyViz.plot_index[id] = null;\n    }\n  } else if (output.metadata[EXEC_MIME_TYPE][\"server_id\"] !== undefined) {\n    var bk_div = document.createElement(\"div\");\n    bk_div.innerHTML = output.data[HTML_MIME_TYPE];\n    var script_attrs = bk_div.children[0].attributes;\n    for (var i = 0; i < script_attrs.length; i++) {\n      toinsert[toinsert.length - 1].childNodes[1].setAttribute(script_attrs[i].name, script_attrs[i].value);\n    }\n    // store reference to server id on output_area\n    output_area._bokeh_server_id = output.metadata[EXEC_MIME_TYPE][\"server_id\"];\n  }\n}\n\n/**\n * Handle when an output is cleared or removed\n */\nfunction handle_clear_output(event, handle) {\n  var id = handle.cell.output_area._hv_plot_id;\n  var server_id = handle.cell.output_area._bokeh_server_id;\n  if (((id === undefined) || !(id in PyViz.plot_index)) && (server_id !== undefined)) { return; }\n  var comm = window.PyViz.comm_manager.get_client_comm(\"hv-extension-comm\", \"hv-extension-comm\", function () {});\n  if (server_id !== null) {\n    comm.send({event_type: 'server_delete', 'id': server_id});\n    return;\n  } else if (comm !== null) {\n    comm.send({event_type: 'delete', 'id': id});\n  }\n  delete PyViz.plot_index[id];\n  if ((window.Bokeh !== undefined) & (id in window.Bokeh.index)) {\n    var doc = window.Bokeh.index[id].model.document\n    doc.clear();\n    const i = window.Bokeh.documents.indexOf(doc);\n    if (i > -1) {\n      window.Bokeh.documents.splice(i, 1);\n    }\n  }\n}\n\n/**\n * Handle kernel restart event\n */\nfunction handle_kernel_cleanup(event, handle) {\n  delete PyViz.comms[\"hv-extension-comm\"];\n  window.PyViz.plot_index = {}\n}\n\n/**\n * Handle update_display_data messages\n */\nfunction handle_update_output(event, handle) {\n  handle_clear_output(event, {cell: {output_area: handle.output_area}})\n  handle_add_output(event, handle)\n}\n\nfunction register_renderer(events, OutputArea) {\n  function append_mime(data, metadata, element) {\n    // create a DOM node to render to\n    var toinsert = this.create_output_subarea(\n    metadata,\n    CLASS_NAME,\n    EXEC_MIME_TYPE\n    );\n    this.keyboard_manager.register_events(toinsert);\n    // Render to node\n    var props = {data: data, metadata: metadata[EXEC_MIME_TYPE]};\n    render(props, toinsert[0]);\n    element.append(toinsert);\n    return toinsert\n  }\n\n  events.on('output_added.OutputArea', handle_add_output);\n  events.on('output_updated.OutputArea', handle_update_output);\n  events.on('clear_output.CodeCell', handle_clear_output);\n  events.on('delete.Cell', handle_clear_output);\n  events.on('kernel_ready.Kernel', handle_kernel_cleanup);\n\n  OutputArea.prototype.register_mime_type(EXEC_MIME_TYPE, append_mime, {\n    safe: true,\n    index: 0\n  });\n}\n\nif (window.Jupyter !== undefined) {\n  try {\n    var events = require('base/js/events');\n    var OutputArea = require('notebook/js/outputarea').OutputArea;\n    if (OutputArea.prototype.mime_types().indexOf(EXEC_MIME_TYPE) == -1) {\n      register_renderer(events, OutputArea);\n    }\n  } catch(err) {\n  }\n}\n"
     },
     "metadata": {},
     "output_type": "display_data"
    },
    {
     "data": {
      "text/html": [
       "<div id='7dea83d6-8008-4b6f-a03c-ff57a508c84e'>\n",
       "  <div id=\"a896ce31-6333-489e-bfa2-5ea1c506b8cc\" data-root-id=\"7dea83d6-8008-4b6f-a03c-ff57a508c84e\" style=\"display: contents;\"></div>\n",
       "</div>\n",
       "<script type=\"application/javascript\">(function(root) {\n",
       "  var docs_json = {\"8250f07b-f3fd-4e88-8a96-3a4310c717d9\":{\"version\":\"3.6.3\",\"title\":\"Bokeh Application\",\"roots\":[{\"type\":\"object\",\"name\":\"panel.models.browser.BrowserInfo\",\"id\":\"7dea83d6-8008-4b6f-a03c-ff57a508c84e\"},{\"type\":\"object\",\"name\":\"panel.models.comm_manager.CommManager\",\"id\":\"096f69a2-d011-4deb-8849-a40c55bd6cbf\",\"attributes\":{\"plot_id\":\"7dea83d6-8008-4b6f-a03c-ff57a508c84e\",\"comm_id\":\"a402b4addc0d4ecfa33908cb1f7d096f\",\"client_comm_id\":\"47df481363094655a5a95d0ac7692a4f\"}}],\"defs\":[{\"type\":\"model\",\"name\":\"ReactiveHTML1\"},{\"type\":\"model\",\"name\":\"FlexBox1\",\"properties\":[{\"name\":\"align_content\",\"kind\":\"Any\",\"default\":\"flex-start\"},{\"name\":\"align_items\",\"kind\":\"Any\",\"default\":\"flex-start\"},{\"name\":\"flex_direction\",\"kind\":\"Any\",\"default\":\"row\"},{\"name\":\"flex_wrap\",\"kind\":\"Any\",\"default\":\"wrap\"},{\"name\":\"gap\",\"kind\":\"Any\",\"default\":\"\"},{\"name\":\"justify_content\",\"kind\":\"Any\",\"default\":\"flex-start\"}]},{\"type\":\"model\",\"name\":\"FloatPanel1\",\"properties\":[{\"name\":\"config\",\"kind\":\"Any\",\"default\":{\"type\":\"map\"}},{\"name\":\"contained\",\"kind\":\"Any\",\"default\":true},{\"name\":\"position\",\"kind\":\"Any\",\"default\":\"right-top\"},{\"name\":\"offsetx\",\"kind\":\"Any\",\"default\":null},{\"name\":\"offsety\",\"kind\":\"Any\",\"default\":null},{\"name\":\"theme\",\"kind\":\"Any\",\"default\":\"primary\"},{\"name\":\"status\",\"kind\":\"Any\",\"default\":\"normalized\"}]},{\"type\":\"model\",\"name\":\"GridStack1\",\"properties\":[{\"name\":\"mode\",\"kind\":\"Any\",\"default\":\"warn\"},{\"name\":\"ncols\",\"kind\":\"Any\",\"default\":null},{\"name\":\"nrows\",\"kind\":\"Any\",\"default\":null},{\"name\":\"allow_resize\",\"kind\":\"Any\",\"default\":true},{\"name\":\"allow_drag\",\"kind\":\"Any\",\"default\":true},{\"name\":\"state\",\"kind\":\"Any\",\"default\":[]}]},{\"type\":\"model\",\"name\":\"drag1\",\"properties\":[{\"name\":\"slider_width\",\"kind\":\"Any\",\"default\":5},{\"name\":\"slider_color\",\"kind\":\"Any\",\"default\":\"black\"},{\"name\":\"value\",\"kind\":\"Any\",\"default\":50}]},{\"type\":\"model\",\"name\":\"click1\",\"properties\":[{\"name\":\"terminal_output\",\"kind\":\"Any\",\"default\":\"\"},{\"name\":\"debug_name\",\"kind\":\"Any\",\"default\":\"\"},{\"name\":\"clears\",\"kind\":\"Any\",\"default\":0}]},{\"type\":\"model\",\"name\":\"FastWrapper1\",\"properties\":[{\"name\":\"object\",\"kind\":\"Any\",\"default\":null},{\"name\":\"style\",\"kind\":\"Any\",\"default\":null}]},{\"type\":\"model\",\"name\":\"NotificationAreaBase1\",\"properties\":[{\"name\":\"js_events\",\"kind\":\"Any\",\"default\":{\"type\":\"map\"}},{\"name\":\"position\",\"kind\":\"Any\",\"default\":\"bottom-right\"},{\"name\":\"_clear\",\"kind\":\"Any\",\"default\":0}]},{\"type\":\"model\",\"name\":\"NotificationArea1\",\"properties\":[{\"name\":\"js_events\",\"kind\":\"Any\",\"default\":{\"type\":\"map\"}},{\"name\":\"notifications\",\"kind\":\"Any\",\"default\":[]},{\"name\":\"position\",\"kind\":\"Any\",\"default\":\"bottom-right\"},{\"name\":\"_clear\",\"kind\":\"Any\",\"default\":0},{\"name\":\"types\",\"kind\":\"Any\",\"default\":[{\"type\":\"map\",\"entries\":[[\"type\",\"warning\"],[\"background\",\"#ffc107\"],[\"icon\",{\"type\":\"map\",\"entries\":[[\"className\",\"fas fa-exclamation-triangle\"],[\"tagName\",\"i\"],[\"color\",\"white\"]]}]]},{\"type\":\"map\",\"entries\":[[\"type\",\"info\"],[\"background\",\"#007bff\"],[\"icon\",{\"type\":\"map\",\"entries\":[[\"className\",\"fas fa-info-circle\"],[\"tagName\",\"i\"],[\"color\",\"white\"]]}]]}]}]},{\"type\":\"model\",\"name\":\"Notification\",\"properties\":[{\"name\":\"background\",\"kind\":\"Any\",\"default\":null},{\"name\":\"duration\",\"kind\":\"Any\",\"default\":3000},{\"name\":\"icon\",\"kind\":\"Any\",\"default\":null},{\"name\":\"message\",\"kind\":\"Any\",\"default\":\"\"},{\"name\":\"notification_type\",\"kind\":\"Any\",\"default\":null},{\"name\":\"_rendered\",\"kind\":\"Any\",\"default\":false},{\"name\":\"_destroyed\",\"kind\":\"Any\",\"default\":false}]},{\"type\":\"model\",\"name\":\"TemplateActions1\",\"properties\":[{\"name\":\"open_modal\",\"kind\":\"Any\",\"default\":0},{\"name\":\"close_modal\",\"kind\":\"Any\",\"default\":0}]},{\"type\":\"model\",\"name\":\"BootstrapTemplateActions1\",\"properties\":[{\"name\":\"open_modal\",\"kind\":\"Any\",\"default\":0},{\"name\":\"close_modal\",\"kind\":\"Any\",\"default\":0}]},{\"type\":\"model\",\"name\":\"TemplateEditor1\",\"properties\":[{\"name\":\"layout\",\"kind\":\"Any\",\"default\":[]}]},{\"type\":\"model\",\"name\":\"MaterialTemplateActions1\",\"properties\":[{\"name\":\"open_modal\",\"kind\":\"Any\",\"default\":0},{\"name\":\"close_modal\",\"kind\":\"Any\",\"default\":0}]},{\"type\":\"model\",\"name\":\"ReactiveESM1\",\"properties\":[{\"name\":\"esm_constants\",\"kind\":\"Any\",\"default\":{\"type\":\"map\"}}]},{\"type\":\"model\",\"name\":\"JSComponent1\",\"properties\":[{\"name\":\"esm_constants\",\"kind\":\"Any\",\"default\":{\"type\":\"map\"}}]},{\"type\":\"model\",\"name\":\"ReactComponent1\",\"properties\":[{\"name\":\"esm_constants\",\"kind\":\"Any\",\"default\":{\"type\":\"map\"}}]},{\"type\":\"model\",\"name\":\"AnyWidgetComponent1\",\"properties\":[{\"name\":\"esm_constants\",\"kind\":\"Any\",\"default\":{\"type\":\"map\"}}]},{\"type\":\"model\",\"name\":\"request_value1\",\"properties\":[{\"name\":\"fill\",\"kind\":\"Any\",\"default\":\"none\"},{\"name\":\"_synced\",\"kind\":\"Any\",\"default\":null},{\"name\":\"_request_sync\",\"kind\":\"Any\",\"default\":0}]}]}};\n",
       "  var render_items = [{\"docid\":\"8250f07b-f3fd-4e88-8a96-3a4310c717d9\",\"roots\":{\"7dea83d6-8008-4b6f-a03c-ff57a508c84e\":\"a896ce31-6333-489e-bfa2-5ea1c506b8cc\"},\"root_ids\":[\"7dea83d6-8008-4b6f-a03c-ff57a508c84e\"]}];\n",
       "  var docs = Object.values(docs_json)\n",
       "  if (!docs) {\n",
       "    return\n",
       "  }\n",
       "  const py_version = docs[0].version.replace('rc', '-rc.').replace('.dev', '-dev.')\n",
       "  async function embed_document(root) {\n",
       "    var Bokeh = get_bokeh(root)\n",
       "    await Bokeh.embed.embed_items_notebook(docs_json, render_items);\n",
       "    for (const render_item of render_items) {\n",
       "      for (const root_id of render_item.root_ids) {\n",
       "\tconst id_el = document.getElementById(root_id)\n",
       "\tif (id_el.children.length && id_el.children[0].hasAttribute('data-root-id')) {\n",
       "\t  const root_el = id_el.children[0]\n",
       "\t  root_el.id = root_el.id + '-rendered'\n",
       "\t  for (const child of root_el.children) {\n",
       "            // Ensure JupyterLab does not capture keyboard shortcuts\n",
       "            // see: https://jupyterlab.readthedocs.io/en/4.1.x/extension/notebook.html#keyboard-interaction-model\n",
       "\t    child.setAttribute('data-lm-suppress-shortcuts', 'true')\n",
       "\t  }\n",
       "\t}\n",
       "      }\n",
       "    }\n",
       "  }\n",
       "  function get_bokeh(root) {\n",
       "    if (root.Bokeh === undefined) {\n",
       "      return null\n",
       "    } else if (root.Bokeh.version !== py_version) {\n",
       "      if (root.Bokeh.versions === undefined || !root.Bokeh.versions.has(py_version)) {\n",
       "\treturn null\n",
       "      }\n",
       "      return root.Bokeh.versions.get(py_version);\n",
       "    } else if (root.Bokeh.version === py_version) {\n",
       "      return root.Bokeh\n",
       "    }\n",
       "    return null\n",
       "  }\n",
       "  function is_loaded(root) {\n",
       "    var Bokeh = get_bokeh(root)\n",
       "    return (Bokeh != null && Bokeh.Panel !== undefined)\n",
       "  }\n",
       "  if (is_loaded(root)) {\n",
       "    embed_document(root);\n",
       "  } else {\n",
       "    var attempts = 0;\n",
       "    var timer = setInterval(function(root) {\n",
       "      if (is_loaded(root)) {\n",
       "        clearInterval(timer);\n",
       "        embed_document(root);\n",
       "      } else if (document.readyState == \"complete\") {\n",
       "        attempts++;\n",
       "        if (attempts > 200) {\n",
       "          clearInterval(timer);\n",
       "\t  var Bokeh = get_bokeh(root)\n",
       "\t  if (Bokeh == null || Bokeh.Panel == null) {\n",
       "            console.warn(\"Panel: ERROR: Unable to run Panel code because Bokeh or Panel library is missing\");\n",
       "\t  } else {\n",
       "\t    console.warn(\"Panel: WARNING: Attempting to render but not all required libraries could be resolved.\")\n",
       "\t    embed_document(root)\n",
       "\t  }\n",
       "        }\n",
       "      }\n",
       "    }, 25, root)\n",
       "  }\n",
       "})(window);</script>"
      ],
      "application/vnd.holoviews_exec.v0+json": ""
     },
     "metadata": {
      "application/vnd.holoviews_exec.v0+json": {
       "id": "7dea83d6-8008-4b6f-a03c-ff57a508c84e"
      }
     },
     "output_type": "display_data"
    }
   ],
   "execution_count": 2
  },
  {
   "metadata": {
    "ExecuteTime": {
     "end_time": "2025-02-28T18:14:43.681740Z",
     "start_time": "2025-02-28T18:14:43.677723Z"
    }
   },
   "cell_type": "code",
   "source": "print(pl.__version__)",
   "id": "6b13168090194afa",
   "outputs": [
    {
     "name": "stdout",
     "output_type": "stream",
     "text": [
      "1.22.0\n"
     ]
    }
   ],
   "execution_count": 3
  },
  {
   "metadata": {
    "jupyter": {
     "is_executing": true
    }
   },
   "cell_type": "code",
   "source": "df_path = r\"F:\\Datasets\\txt_files\\access.log\"",
   "id": "32d5071bb8dab888",
   "outputs": [],
   "execution_count": null
  },
  {
   "metadata": {
    "ExecuteTime": {
     "end_time": "2025-02-27T20:55:50.484484Z",
     "start_time": "2025-02-27T20:55:39.409864Z"
    }
   },
   "cell_type": "code",
   "source": [
    "df_lazy = pl.read_csv(\n",
    "    df_path,\n",
    "    separator=\"\\0\",\n",
    "    has_header=False,\n",
    "    ignore_errors=False,\n",
    "    infer_schema_length=None,\n",
    "    new_columns=[\"LogData\"]\n",
    ").lazy()\n"
   ],
   "id": "7307d23acee8008f",
   "outputs": [],
   "execution_count": 4
  },
  {
   "metadata": {
    "ExecuteTime": {
     "end_time": "2025-02-27T20:55:50.500126Z",
     "start_time": "2025-02-27T20:55:50.488243Z"
    }
   },
   "cell_type": "code",
   "source": [
    "df_lazy = df_lazy.with_columns(\n",
    "    pl.col('LogData').str.extract(r'((\\d{1,3}\\.){3}\\d{1,3})').alias('IP'),\n",
    "    pl.col(\"LogData\").str.extract(r\"(\\d{2}/\\w{3}/\\d{4}:\\d{2}:\\d{2}:\\d{2} [+-]\\d{4})\").alias(\"Date\"),\n",
    "    pl.col('LogData').str.extract(r\"(GET|POST|PUT|DELETE|HEAD|OPTIONS|PATCH)\\s+([^\\s]+)\\s+([^\\s]+)\").alias('Request'),\n",
    "    pl.col(\"LogData\").str.extract(r'HTTP/1.1\"\\s(\\d+)').alias(\"Status_Code\"),\n",
    "    pl.col(\"LogData\").str.extract(r'HTTP/1.1\"\\s\\d+\\s(\\d+)').alias(\"Response_Size\"),\n",
    "    pl.col(\"LogData\").str.extract(r'\"([^\"]*)\"\\s*$').alias(\"Referer\"),\n",
    "    pl.col(\"LogData\").str.extract(r'\"([^\"]*)\"\\s+\"[^\"]*\"\\s*$').alias(\"User_Agent\"),\n",
    ")"
   ],
   "id": "1c9bbc2540b96c7e",
   "outputs": [],
   "execution_count": 5
  },
  {
   "metadata": {
    "ExecuteTime": {
     "end_time": "2025-02-27T20:55:50.519811Z",
     "start_time": "2025-02-27T20:55:50.506131Z"
    }
   },
   "cell_type": "code",
   "source": [
    "df_lazy = df_lazy.with_columns(\n",
    "    pl.col(\"Date\").str.strptime(pl.Datetime, \"%d/%b/%Y:%H:%M:%S %z\"),\n",
    "    pl.col(\"Status_Code\").cast(pl.UInt16),\n",
    "    pl.col(\"Response_Size\").cast(pl.UInt32)\n",
    ")"
   ],
   "id": "8fd21c45ec1eb659",
   "outputs": [],
   "execution_count": 6
  },
  {
   "metadata": {},
   "cell_type": "code",
   "outputs": [],
   "execution_count": null,
   "source": "pl.scan_csv(df_path)",
   "id": "c3c7a187571c590e"
  },
  {
   "metadata": {
    "ExecuteTime": {
     "end_time": "2025-02-23T14:05:48.875079Z",
     "start_time": "2025-02-23T14:05:46.770368Z"
    }
   },
   "cell_type": "code",
   "source": "df = df_lazy.collect()",
   "id": "cef178576de7da33",
   "outputs": [],
   "execution_count": 8
  },
  {
   "metadata": {
    "ExecuteTime": {
     "end_time": "2025-02-23T14:06:10.674649Z",
     "start_time": "2025-02-23T14:06:10.670298Z"
    }
   },
   "cell_type": "code",
   "source": "df.estimated_size('gb')",
   "id": "e4da16b96403594f",
   "outputs": [
    {
     "data": {
      "text/plain": [
       "1.3641958562657237"
      ]
     },
     "execution_count": 11,
     "metadata": {},
     "output_type": "execute_result"
    }
   ],
   "execution_count": 11
  },
  {
   "metadata": {
    "ExecuteTime": {
     "end_time": "2025-02-23T14:12:09.587345Z",
     "start_time": "2025-02-23T14:12:09.581076Z"
    }
   },
   "cell_type": "code",
   "source": "df",
   "id": "33a208ab271e4058",
   "outputs": [
    {
     "data": {
      "text/plain": [
       "shape: (10_365_152, 7)\n",
       "┌────────────────┬───────────────┬─────────┬─────────────┬───────────────┬─────────┬───────────────┐\n",
       "│ IP             ┆ Date          ┆ Request ┆ Status_Code ┆ Response_Size ┆ Referer ┆ User_Agent    │\n",
       "│ ---            ┆ ---           ┆ ---     ┆ ---         ┆ ---           ┆ ---     ┆ ---           │\n",
       "│ str            ┆ datetime[μs,  ┆ str     ┆ u16         ┆ u32           ┆ str     ┆ str           │\n",
       "│                ┆ UTC]          ┆         ┆             ┆               ┆         ┆               │\n",
       "╞════════════════╪═══════════════╪═════════╪═════════════╪═══════════════╪═════════╪═══════════════╡\n",
       "│ 54.36.149.41   ┆ 2019-01-22    ┆ GET     ┆ 200         ┆ 30577         ┆ -       ┆ Mozilla/5.0   │\n",
       "│                ┆ 00:26:14 UTC  ┆         ┆             ┆               ┆         ┆ (compatible;  │\n",
       "│                ┆               ┆         ┆             ┆               ┆         ┆ Ahref…        │\n",
       "│ 31.56.96.51    ┆ 2019-01-22    ┆ GET     ┆ 200         ┆ 5667          ┆ -       ┆ Mozilla/5.0   │\n",
       "│                ┆ 00:26:16 UTC  ┆         ┆             ┆               ┆         ┆ (Linux;       │\n",
       "│                ┆               ┆         ┆             ┆               ┆         ┆ Android 6.…   │\n",
       "│ 31.56.96.51    ┆ 2019-01-22    ┆ GET     ┆ 200         ┆ 5379          ┆ -       ┆ Mozilla/5.0   │\n",
       "│                ┆ 00:26:16 UTC  ┆         ┆             ┆               ┆         ┆ (Linux;       │\n",
       "│                ┆               ┆         ┆             ┆               ┆         ┆ Android 6.…   │\n",
       "│ 40.77.167.129  ┆ 2019-01-22    ┆ GET     ┆ 200         ┆ 1696          ┆ -       ┆ Mozilla/5.0   │\n",
       "│                ┆ 00:26:17 UTC  ┆         ┆             ┆               ┆         ┆ (compatible;  │\n",
       "│                ┆               ┆         ┆             ┆               ┆         ┆ bingb…        │\n",
       "│ 91.99.72.15    ┆ 2019-01-22    ┆ GET     ┆ 200         ┆ 41483         ┆ -       ┆ Mozilla/5.0   │\n",
       "│                ┆ 00:26:17 UTC  ┆         ┆             ┆               ┆         ┆ (Windows NT   │\n",
       "│                ┆               ┆         ┆             ┆               ┆         ┆ 6.2; W…       │\n",
       "│ …              ┆ …             ┆ …       ┆ …           ┆ …             ┆ …       ┆ …             │\n",
       "│ 188.229.21.56  ┆ 2019-01-26    ┆ GET     ┆ 302         ┆ 0             ┆ -       ┆ Mozilla/5.0   │\n",
       "│                ┆ 16:59:13 UTC  ┆         ┆             ┆               ┆         ┆ (Linux;       │\n",
       "│                ┆               ┆         ┆             ┆               ┆         ┆ Android 7.…   │\n",
       "│ 5.127.220.71   ┆ 2019-01-26    ┆ GET     ┆ 404         ┆ 32420         ┆ -       ┆ MobileSafari/ │\n",
       "│                ┆ 16:59:13 UTC  ┆         ┆             ┆               ┆         ┆ 604.1         │\n",
       "│                ┆               ┆         ┆             ┆               ┆         ┆ CFNetwork/9…  │\n",
       "│ 5.213.7.50     ┆ 2019-01-26    ┆ GET     ┆ 200         ┆ 20959         ┆ -       ┆ Mozilla/5.0   │\n",
       "│                ┆ 16:59:13 UTC  ┆         ┆             ┆               ┆         ┆ (iPhone; CPU  │\n",
       "│                ┆               ┆         ┆             ┆               ┆         ┆ iPhon…        │\n",
       "│ 109.125.169.52 ┆ 2019-01-26    ┆ GET     ┆ 200         ┆ 5             ┆ -       ┆ Mozilla/5.0   │\n",
       "│                ┆ 16:59:13 UTC  ┆         ┆             ┆               ┆         ┆ (Windows NT   │\n",
       "│                ┆               ┆         ┆             ┆               ┆         ┆ 6.1; r…       │\n",
       "│ 37.129.59.160  ┆ 2019-01-26    ┆ GET     ┆ 200         ┆ 17299         ┆ -       ┆ Mozilla/5.0   │\n",
       "│                ┆ 16:59:13 UTC  ┆         ┆             ┆               ┆         ┆ (Linux;       │\n",
       "│                ┆               ┆         ┆             ┆               ┆         ┆ Android 6.…   │\n",
       "└────────────────┴───────────────┴─────────┴─────────────┴───────────────┴─────────┴───────────────┘"
      ],
      "text/html": [
       "<div><style>\n",
       ".dataframe > thead > tr,\n",
       ".dataframe > tbody > tr {\n",
       "  text-align: right;\n",
       "  white-space: pre-wrap;\n",
       "}\n",
       "</style>\n",
       "<small>shape: (10_365_152, 7)</small><table border=\"1\" class=\"dataframe\"><thead><tr><th>IP</th><th>Date</th><th>Request</th><th>Status_Code</th><th>Response_Size</th><th>Referer</th><th>User_Agent</th></tr><tr><td>str</td><td>datetime[μs, UTC]</td><td>str</td><td>u16</td><td>u32</td><td>str</td><td>str</td></tr></thead><tbody><tr><td>&quot;54.36.149.41&quot;</td><td>2019-01-22 00:26:14 UTC</td><td>&quot;GET&quot;</td><td>200</td><td>30577</td><td>&quot;-&quot;</td><td>&quot;Mozilla/5.0 (compatible; Ahref…</td></tr><tr><td>&quot;31.56.96.51&quot;</td><td>2019-01-22 00:26:16 UTC</td><td>&quot;GET&quot;</td><td>200</td><td>5667</td><td>&quot;-&quot;</td><td>&quot;Mozilla/5.0 (Linux; Android 6.…</td></tr><tr><td>&quot;31.56.96.51&quot;</td><td>2019-01-22 00:26:16 UTC</td><td>&quot;GET&quot;</td><td>200</td><td>5379</td><td>&quot;-&quot;</td><td>&quot;Mozilla/5.0 (Linux; Android 6.…</td></tr><tr><td>&quot;40.77.167.129&quot;</td><td>2019-01-22 00:26:17 UTC</td><td>&quot;GET&quot;</td><td>200</td><td>1696</td><td>&quot;-&quot;</td><td>&quot;Mozilla/5.0 (compatible; bingb…</td></tr><tr><td>&quot;91.99.72.15&quot;</td><td>2019-01-22 00:26:17 UTC</td><td>&quot;GET&quot;</td><td>200</td><td>41483</td><td>&quot;-&quot;</td><td>&quot;Mozilla/5.0 (Windows NT 6.2; W…</td></tr><tr><td>&hellip;</td><td>&hellip;</td><td>&hellip;</td><td>&hellip;</td><td>&hellip;</td><td>&hellip;</td><td>&hellip;</td></tr><tr><td>&quot;188.229.21.56&quot;</td><td>2019-01-26 16:59:13 UTC</td><td>&quot;GET&quot;</td><td>302</td><td>0</td><td>&quot;-&quot;</td><td>&quot;Mozilla/5.0 (Linux; Android 7.…</td></tr><tr><td>&quot;5.127.220.71&quot;</td><td>2019-01-26 16:59:13 UTC</td><td>&quot;GET&quot;</td><td>404</td><td>32420</td><td>&quot;-&quot;</td><td>&quot;MobileSafari/604.1 CFNetwork/9…</td></tr><tr><td>&quot;5.213.7.50&quot;</td><td>2019-01-26 16:59:13 UTC</td><td>&quot;GET&quot;</td><td>200</td><td>20959</td><td>&quot;-&quot;</td><td>&quot;Mozilla/5.0 (iPhone; CPU iPhon…</td></tr><tr><td>&quot;109.125.169.52&quot;</td><td>2019-01-26 16:59:13 UTC</td><td>&quot;GET&quot;</td><td>200</td><td>5</td><td>&quot;-&quot;</td><td>&quot;Mozilla/5.0 (Windows NT 6.1; r…</td></tr><tr><td>&quot;37.129.59.160&quot;</td><td>2019-01-26 16:59:13 UTC</td><td>&quot;GET&quot;</td><td>200</td><td>17299</td><td>&quot;-&quot;</td><td>&quot;Mozilla/5.0 (Linux; Android 6.…</td></tr></tbody></table></div>"
      ]
     },
     "execution_count": 12,
     "metadata": {},
     "output_type": "execute_result"
    }
   ],
   "execution_count": 12
  },
  {
   "metadata": {
    "ExecuteTime": {
     "end_time": "2025-02-23T14:15:08.876908Z",
     "start_time": "2025-02-23T14:15:08.841407Z"
    }
   },
   "cell_type": "code",
   "source": [
    "df.with_columns(\n",
    "    pl.col('Date').dt.weekday().alias('Weekday')\n",
    ")"
   ],
   "id": "442145ed926f80cc",
   "outputs": [
    {
     "data": {
      "text/plain": [
       "shape: (10_365_152, 8)\n",
       "┌─────────────┬─────────────┬─────────┬─────────────┬─────────────┬─────────┬────────────┬─────────┐\n",
       "│ IP          ┆ Date        ┆ Request ┆ Status_Code ┆ Response_Si ┆ Referer ┆ User_Agent ┆ Weekday │\n",
       "│ ---         ┆ ---         ┆ ---     ┆ ---         ┆ ze          ┆ ---     ┆ ---        ┆ ---     │\n",
       "│ str         ┆ datetime[μs ┆ str     ┆ u16         ┆ ---         ┆ str     ┆ str        ┆ i8      │\n",
       "│             ┆ , UTC]      ┆         ┆             ┆ u32         ┆         ┆            ┆         │\n",
       "╞═════════════╪═════════════╪═════════╪═════════════╪═════════════╪═════════╪════════════╪═════════╡\n",
       "│ 54.36.149.4 ┆ 2019-01-22  ┆ GET     ┆ 200         ┆ 30577       ┆ -       ┆ Mozilla/5. ┆ 2       │\n",
       "│ 1           ┆ 00:26:14    ┆         ┆             ┆             ┆         ┆ 0 (compati ┆         │\n",
       "│             ┆ UTC         ┆         ┆             ┆             ┆         ┆ ble;       ┆         │\n",
       "│             ┆             ┆         ┆             ┆             ┆         ┆ Ahref…     ┆         │\n",
       "│ 31.56.96.51 ┆ 2019-01-22  ┆ GET     ┆ 200         ┆ 5667        ┆ -       ┆ Mozilla/5. ┆ 2       │\n",
       "│             ┆ 00:26:16    ┆         ┆             ┆             ┆         ┆ 0 (Linux;  ┆         │\n",
       "│             ┆ UTC         ┆         ┆             ┆             ┆         ┆ Android    ┆         │\n",
       "│             ┆             ┆         ┆             ┆             ┆         ┆ 6.…        ┆         │\n",
       "│ 31.56.96.51 ┆ 2019-01-22  ┆ GET     ┆ 200         ┆ 5379        ┆ -       ┆ Mozilla/5. ┆ 2       │\n",
       "│             ┆ 00:26:16    ┆         ┆             ┆             ┆         ┆ 0 (Linux;  ┆         │\n",
       "│             ┆ UTC         ┆         ┆             ┆             ┆         ┆ Android    ┆         │\n",
       "│             ┆             ┆         ┆             ┆             ┆         ┆ 6.…        ┆         │\n",
       "│ 40.77.167.1 ┆ 2019-01-22  ┆ GET     ┆ 200         ┆ 1696        ┆ -       ┆ Mozilla/5. ┆ 2       │\n",
       "│ 29          ┆ 00:26:17    ┆         ┆             ┆             ┆         ┆ 0 (compati ┆         │\n",
       "│             ┆ UTC         ┆         ┆             ┆             ┆         ┆ ble;       ┆         │\n",
       "│             ┆             ┆         ┆             ┆             ┆         ┆ bingb…     ┆         │\n",
       "│ 91.99.72.15 ┆ 2019-01-22  ┆ GET     ┆ 200         ┆ 41483       ┆ -       ┆ Mozilla/5. ┆ 2       │\n",
       "│             ┆ 00:26:17    ┆         ┆             ┆             ┆         ┆ 0 (Windows ┆         │\n",
       "│             ┆ UTC         ┆         ┆             ┆             ┆         ┆ NT 6.2; W… ┆         │\n",
       "│ …           ┆ …           ┆ …       ┆ …           ┆ …           ┆ …       ┆ …          ┆ …       │\n",
       "│ 188.229.21. ┆ 2019-01-26  ┆ GET     ┆ 302         ┆ 0           ┆ -       ┆ Mozilla/5. ┆ 6       │\n",
       "│ 56          ┆ 16:59:13    ┆         ┆             ┆             ┆         ┆ 0 (Linux;  ┆         │\n",
       "│             ┆ UTC         ┆         ┆             ┆             ┆         ┆ Android    ┆         │\n",
       "│             ┆             ┆         ┆             ┆             ┆         ┆ 7.…        ┆         │\n",
       "│ 5.127.220.7 ┆ 2019-01-26  ┆ GET     ┆ 404         ┆ 32420       ┆ -       ┆ MobileSafa ┆ 6       │\n",
       "│ 1           ┆ 16:59:13    ┆         ┆             ┆             ┆         ┆ ri/604.1   ┆         │\n",
       "│             ┆ UTC         ┆         ┆             ┆             ┆         ┆ CFNetwork/ ┆         │\n",
       "│             ┆             ┆         ┆             ┆             ┆         ┆ 9…         ┆         │\n",
       "│ 5.213.7.50  ┆ 2019-01-26  ┆ GET     ┆ 200         ┆ 20959       ┆ -       ┆ Mozilla/5. ┆ 6       │\n",
       "│             ┆ 16:59:13    ┆         ┆             ┆             ┆         ┆ 0 (iPhone; ┆         │\n",
       "│             ┆ UTC         ┆         ┆             ┆             ┆         ┆ CPU iPhon… ┆         │\n",
       "│ 109.125.169 ┆ 2019-01-26  ┆ GET     ┆ 200         ┆ 5           ┆ -       ┆ Mozilla/5. ┆ 6       │\n",
       "│ .52         ┆ 16:59:13    ┆         ┆             ┆             ┆         ┆ 0 (Windows ┆         │\n",
       "│             ┆ UTC         ┆         ┆             ┆             ┆         ┆ NT 6.1; r… ┆         │\n",
       "│ 37.129.59.1 ┆ 2019-01-26  ┆ GET     ┆ 200         ┆ 17299       ┆ -       ┆ Mozilla/5. ┆ 6       │\n",
       "│ 60          ┆ 16:59:13    ┆         ┆             ┆             ┆         ┆ 0 (Linux;  ┆         │\n",
       "│             ┆ UTC         ┆         ┆             ┆             ┆         ┆ Android    ┆         │\n",
       "│             ┆             ┆         ┆             ┆             ┆         ┆ 6.…        ┆         │\n",
       "└─────────────┴─────────────┴─────────┴─────────────┴─────────────┴─────────┴────────────┴─────────┘"
      ],
      "text/html": [
       "<div><style>\n",
       ".dataframe > thead > tr,\n",
       ".dataframe > tbody > tr {\n",
       "  text-align: right;\n",
       "  white-space: pre-wrap;\n",
       "}\n",
       "</style>\n",
       "<small>shape: (10_365_152, 8)</small><table border=\"1\" class=\"dataframe\"><thead><tr><th>IP</th><th>Date</th><th>Request</th><th>Status_Code</th><th>Response_Size</th><th>Referer</th><th>User_Agent</th><th>Weekday</th></tr><tr><td>str</td><td>datetime[μs, UTC]</td><td>str</td><td>u16</td><td>u32</td><td>str</td><td>str</td><td>i8</td></tr></thead><tbody><tr><td>&quot;54.36.149.41&quot;</td><td>2019-01-22 00:26:14 UTC</td><td>&quot;GET&quot;</td><td>200</td><td>30577</td><td>&quot;-&quot;</td><td>&quot;Mozilla/5.0 (compatible; Ahref…</td><td>2</td></tr><tr><td>&quot;31.56.96.51&quot;</td><td>2019-01-22 00:26:16 UTC</td><td>&quot;GET&quot;</td><td>200</td><td>5667</td><td>&quot;-&quot;</td><td>&quot;Mozilla/5.0 (Linux; Android 6.…</td><td>2</td></tr><tr><td>&quot;31.56.96.51&quot;</td><td>2019-01-22 00:26:16 UTC</td><td>&quot;GET&quot;</td><td>200</td><td>5379</td><td>&quot;-&quot;</td><td>&quot;Mozilla/5.0 (Linux; Android 6.…</td><td>2</td></tr><tr><td>&quot;40.77.167.129&quot;</td><td>2019-01-22 00:26:17 UTC</td><td>&quot;GET&quot;</td><td>200</td><td>1696</td><td>&quot;-&quot;</td><td>&quot;Mozilla/5.0 (compatible; bingb…</td><td>2</td></tr><tr><td>&quot;91.99.72.15&quot;</td><td>2019-01-22 00:26:17 UTC</td><td>&quot;GET&quot;</td><td>200</td><td>41483</td><td>&quot;-&quot;</td><td>&quot;Mozilla/5.0 (Windows NT 6.2; W…</td><td>2</td></tr><tr><td>&hellip;</td><td>&hellip;</td><td>&hellip;</td><td>&hellip;</td><td>&hellip;</td><td>&hellip;</td><td>&hellip;</td><td>&hellip;</td></tr><tr><td>&quot;188.229.21.56&quot;</td><td>2019-01-26 16:59:13 UTC</td><td>&quot;GET&quot;</td><td>302</td><td>0</td><td>&quot;-&quot;</td><td>&quot;Mozilla/5.0 (Linux; Android 7.…</td><td>6</td></tr><tr><td>&quot;5.127.220.71&quot;</td><td>2019-01-26 16:59:13 UTC</td><td>&quot;GET&quot;</td><td>404</td><td>32420</td><td>&quot;-&quot;</td><td>&quot;MobileSafari/604.1 CFNetwork/9…</td><td>6</td></tr><tr><td>&quot;5.213.7.50&quot;</td><td>2019-01-26 16:59:13 UTC</td><td>&quot;GET&quot;</td><td>200</td><td>20959</td><td>&quot;-&quot;</td><td>&quot;Mozilla/5.0 (iPhone; CPU iPhon…</td><td>6</td></tr><tr><td>&quot;109.125.169.52&quot;</td><td>2019-01-26 16:59:13 UTC</td><td>&quot;GET&quot;</td><td>200</td><td>5</td><td>&quot;-&quot;</td><td>&quot;Mozilla/5.0 (Windows NT 6.1; r…</td><td>6</td></tr><tr><td>&quot;37.129.59.160&quot;</td><td>2019-01-26 16:59:13 UTC</td><td>&quot;GET&quot;</td><td>200</td><td>17299</td><td>&quot;-&quot;</td><td>&quot;Mozilla/5.0 (Linux; Android 6.…</td><td>6</td></tr></tbody></table></div>"
      ]
     },
     "execution_count": 22,
     "metadata": {},
     "output_type": "execute_result"
    }
   ],
   "execution_count": 22
  },
  {
   "metadata": {
    "ExecuteTime": {
     "end_time": "2025-02-23T14:15:47.739973Z",
     "start_time": "2025-02-23T14:15:47.735071Z"
    }
   },
   "cell_type": "code",
   "source": [
    "pl.date_range(\n",
    "    start=\"2000-01-01\",\n",
    "    end=\"2021-12-31\",\n",
    "    interval=\"1d\"\n",
    ")"
   ],
   "id": "52646829ef114f33",
   "outputs": [
    {
     "data": {
      "text/plain": [
       "<Expr ['col(\"2000-01-01\").date_range([…'] at 0x26F0897F0B0>"
      ],
      "text/html": [
       "col(\"2000-01-01\").date_range([col(\"2021-12-31\")])"
      ]
     },
     "execution_count": 24,
     "metadata": {},
     "output_type": "execute_result"
    }
   ],
   "execution_count": 24
  },
  {
   "metadata": {
    "ExecuteTime": {
     "end_time": "2025-02-23T14:22:08.954543Z",
     "start_time": "2025-02-23T14:22:08.836590Z"
    }
   },
   "cell_type": "code",
   "source": [
    "df.group_by_dynamic(\n",
    "    pl.col('Date').sort(), every='10m'\n",
    ").agg(\n",
    "    pl.sum('Response_Size').alias('Total_Response_Size')\n",
    ")"
   ],
   "id": "e9626da645b24e6c",
   "outputs": [
    {
     "data": {
      "text/plain": [
       "shape: (676, 2)\n",
       "┌─────────────────────────┬─────────────────────┐\n",
       "│ Date                    ┆ Total_Response_Size │\n",
       "│ ---                     ┆ ---                 │\n",
       "│ datetime[μs, UTC]       ┆ u32                 │\n",
       "╞═════════════════════════╪═════════════════════╡\n",
       "│ 2019-01-22 00:20:00 UTC ┆ 23748087            │\n",
       "│ 2019-01-22 00:30:00 UTC ┆ 49627795            │\n",
       "│ 2019-01-22 00:40:00 UTC ┆ 52008606            │\n",
       "│ 2019-01-22 00:50:00 UTC ┆ 45376413            │\n",
       "│ 2019-01-22 01:00:00 UTC ┆ 54409278            │\n",
       "│ …                       ┆ …                   │\n",
       "│ 2019-01-26 16:10:00 UTC ┆ 325179136           │\n",
       "│ 2019-01-26 16:20:00 UTC ┆ 284297733           │\n",
       "│ 2019-01-26 16:30:00 UTC ┆ 261076904           │\n",
       "│ 2019-01-26 16:40:00 UTC ┆ 260260542           │\n",
       "│ 2019-01-26 16:50:00 UTC ┆ 220236388           │\n",
       "└─────────────────────────┴─────────────────────┘"
      ],
      "text/html": [
       "<div><style>\n",
       ".dataframe > thead > tr,\n",
       ".dataframe > tbody > tr {\n",
       "  text-align: right;\n",
       "  white-space: pre-wrap;\n",
       "}\n",
       "</style>\n",
       "<small>shape: (676, 2)</small><table border=\"1\" class=\"dataframe\"><thead><tr><th>Date</th><th>Total_Response_Size</th></tr><tr><td>datetime[μs, UTC]</td><td>u32</td></tr></thead><tbody><tr><td>2019-01-22 00:20:00 UTC</td><td>23748087</td></tr><tr><td>2019-01-22 00:30:00 UTC</td><td>49627795</td></tr><tr><td>2019-01-22 00:40:00 UTC</td><td>52008606</td></tr><tr><td>2019-01-22 00:50:00 UTC</td><td>45376413</td></tr><tr><td>2019-01-22 01:00:00 UTC</td><td>54409278</td></tr><tr><td>&hellip;</td><td>&hellip;</td></tr><tr><td>2019-01-26 16:10:00 UTC</td><td>325179136</td></tr><tr><td>2019-01-26 16:20:00 UTC</td><td>284297733</td></tr><tr><td>2019-01-26 16:30:00 UTC</td><td>261076904</td></tr><tr><td>2019-01-26 16:40:00 UTC</td><td>260260542</td></tr><tr><td>2019-01-26 16:50:00 UTC</td><td>220236388</td></tr></tbody></table></div>"
      ]
     },
     "execution_count": 33,
     "metadata": {},
     "output_type": "execute_result"
    }
   ],
   "execution_count": 33
  },
  {
   "metadata": {
    "ExecuteTime": {
     "end_time": "2025-02-23T14:38:48.783701Z",
     "start_time": "2025-02-23T14:38:48.719431Z"
    }
   },
   "cell_type": "code",
   "source": [
    "df.with_columns(\n",
    "    rolling_sum=pl.col('Response_Size')\n",
    "    .rolling_sum(\n",
    "        window_size=1,\n",
    "    ).alias('Rolling_Sum')\n",
    ")"
   ],
   "id": "6bd60d69a9299d1",
   "outputs": [
    {
     "data": {
      "text/plain": [
       "shape: (10_365_152, 8)\n",
       "┌─────────────┬────────────┬─────────┬────────────┬────────────┬─────────┬────────────┬────────────┐\n",
       "│ IP          ┆ Date       ┆ Request ┆ Status_Cod ┆ Response_S ┆ Referer ┆ User_Agent ┆ rolling_su │\n",
       "│ ---         ┆ ---        ┆ ---     ┆ e          ┆ ize        ┆ ---     ┆ ---        ┆ m          │\n",
       "│ str         ┆ datetime[μ ┆ str     ┆ ---        ┆ ---        ┆ str     ┆ str        ┆ ---        │\n",
       "│             ┆ s, UTC]    ┆         ┆ u16        ┆ u32        ┆         ┆            ┆ u32        │\n",
       "╞═════════════╪════════════╪═════════╪════════════╪════════════╪═════════╪════════════╪════════════╡\n",
       "│ 54.36.149.4 ┆ 2019-01-22 ┆ GET     ┆ 200        ┆ 30577      ┆ -       ┆ Mozilla/5. ┆ 30577      │\n",
       "│ 1           ┆ 00:26:14   ┆         ┆            ┆            ┆         ┆ 0 (compati ┆            │\n",
       "│             ┆ UTC        ┆         ┆            ┆            ┆         ┆ ble;       ┆            │\n",
       "│             ┆            ┆         ┆            ┆            ┆         ┆ Ahref…     ┆            │\n",
       "│ 31.56.96.51 ┆ 2019-01-22 ┆ GET     ┆ 200        ┆ 5667       ┆ -       ┆ Mozilla/5. ┆ 5667       │\n",
       "│             ┆ 00:26:16   ┆         ┆            ┆            ┆         ┆ 0 (Linux;  ┆            │\n",
       "│             ┆ UTC        ┆         ┆            ┆            ┆         ┆ Android    ┆            │\n",
       "│             ┆            ┆         ┆            ┆            ┆         ┆ 6.…        ┆            │\n",
       "│ 31.56.96.51 ┆ 2019-01-22 ┆ GET     ┆ 200        ┆ 5379       ┆ -       ┆ Mozilla/5. ┆ 5379       │\n",
       "│             ┆ 00:26:16   ┆         ┆            ┆            ┆         ┆ 0 (Linux;  ┆            │\n",
       "│             ┆ UTC        ┆         ┆            ┆            ┆         ┆ Android    ┆            │\n",
       "│             ┆            ┆         ┆            ┆            ┆         ┆ 6.…        ┆            │\n",
       "│ 40.77.167.1 ┆ 2019-01-22 ┆ GET     ┆ 200        ┆ 1696       ┆ -       ┆ Mozilla/5. ┆ 1696       │\n",
       "│ 29          ┆ 00:26:17   ┆         ┆            ┆            ┆         ┆ 0 (compati ┆            │\n",
       "│             ┆ UTC        ┆         ┆            ┆            ┆         ┆ ble;       ┆            │\n",
       "│             ┆            ┆         ┆            ┆            ┆         ┆ bingb…     ┆            │\n",
       "│ 91.99.72.15 ┆ 2019-01-22 ┆ GET     ┆ 200        ┆ 41483      ┆ -       ┆ Mozilla/5. ┆ 41483      │\n",
       "│             ┆ 00:26:17   ┆         ┆            ┆            ┆         ┆ 0 (Windows ┆            │\n",
       "│             ┆ UTC        ┆         ┆            ┆            ┆         ┆ NT 6.2; W… ┆            │\n",
       "│ …           ┆ …          ┆ …       ┆ …          ┆ …          ┆ …       ┆ …          ┆ …          │\n",
       "│ 188.229.21. ┆ 2019-01-26 ┆ GET     ┆ 302        ┆ 0          ┆ -       ┆ Mozilla/5. ┆ 0          │\n",
       "│ 56          ┆ 16:59:13   ┆         ┆            ┆            ┆         ┆ 0 (Linux;  ┆            │\n",
       "│             ┆ UTC        ┆         ┆            ┆            ┆         ┆ Android    ┆            │\n",
       "│             ┆            ┆         ┆            ┆            ┆         ┆ 7.…        ┆            │\n",
       "│ 5.127.220.7 ┆ 2019-01-26 ┆ GET     ┆ 404        ┆ 32420      ┆ -       ┆ MobileSafa ┆ 32420      │\n",
       "│ 1           ┆ 16:59:13   ┆         ┆            ┆            ┆         ┆ ri/604.1   ┆            │\n",
       "│             ┆ UTC        ┆         ┆            ┆            ┆         ┆ CFNetwork/ ┆            │\n",
       "│             ┆            ┆         ┆            ┆            ┆         ┆ 9…         ┆            │\n",
       "│ 5.213.7.50  ┆ 2019-01-26 ┆ GET     ┆ 200        ┆ 20959      ┆ -       ┆ Mozilla/5. ┆ 20959      │\n",
       "│             ┆ 16:59:13   ┆         ┆            ┆            ┆         ┆ 0 (iPhone; ┆            │\n",
       "│             ┆ UTC        ┆         ┆            ┆            ┆         ┆ CPU iPhon… ┆            │\n",
       "│ 109.125.169 ┆ 2019-01-26 ┆ GET     ┆ 200        ┆ 5          ┆ -       ┆ Mozilla/5. ┆ 5          │\n",
       "│ .52         ┆ 16:59:13   ┆         ┆            ┆            ┆         ┆ 0 (Windows ┆            │\n",
       "│             ┆ UTC        ┆         ┆            ┆            ┆         ┆ NT 6.1; r… ┆            │\n",
       "│ 37.129.59.1 ┆ 2019-01-26 ┆ GET     ┆ 200        ┆ 17299      ┆ -       ┆ Mozilla/5. ┆ 17299      │\n",
       "│ 60          ┆ 16:59:13   ┆         ┆            ┆            ┆         ┆ 0 (Linux;  ┆            │\n",
       "│             ┆ UTC        ┆         ┆            ┆            ┆         ┆ Android    ┆            │\n",
       "│             ┆            ┆         ┆            ┆            ┆         ┆ 6.…        ┆            │\n",
       "└─────────────┴────────────┴─────────┴────────────┴────────────┴─────────┴────────────┴────────────┘"
      ],
      "text/html": [
       "<div><style>\n",
       ".dataframe > thead > tr,\n",
       ".dataframe > tbody > tr {\n",
       "  text-align: right;\n",
       "  white-space: pre-wrap;\n",
       "}\n",
       "</style>\n",
       "<small>shape: (10_365_152, 8)</small><table border=\"1\" class=\"dataframe\"><thead><tr><th>IP</th><th>Date</th><th>Request</th><th>Status_Code</th><th>Response_Size</th><th>Referer</th><th>User_Agent</th><th>rolling_sum</th></tr><tr><td>str</td><td>datetime[μs, UTC]</td><td>str</td><td>u16</td><td>u32</td><td>str</td><td>str</td><td>u32</td></tr></thead><tbody><tr><td>&quot;54.36.149.41&quot;</td><td>2019-01-22 00:26:14 UTC</td><td>&quot;GET&quot;</td><td>200</td><td>30577</td><td>&quot;-&quot;</td><td>&quot;Mozilla/5.0 (compatible; Ahref…</td><td>30577</td></tr><tr><td>&quot;31.56.96.51&quot;</td><td>2019-01-22 00:26:16 UTC</td><td>&quot;GET&quot;</td><td>200</td><td>5667</td><td>&quot;-&quot;</td><td>&quot;Mozilla/5.0 (Linux; Android 6.…</td><td>5667</td></tr><tr><td>&quot;31.56.96.51&quot;</td><td>2019-01-22 00:26:16 UTC</td><td>&quot;GET&quot;</td><td>200</td><td>5379</td><td>&quot;-&quot;</td><td>&quot;Mozilla/5.0 (Linux; Android 6.…</td><td>5379</td></tr><tr><td>&quot;40.77.167.129&quot;</td><td>2019-01-22 00:26:17 UTC</td><td>&quot;GET&quot;</td><td>200</td><td>1696</td><td>&quot;-&quot;</td><td>&quot;Mozilla/5.0 (compatible; bingb…</td><td>1696</td></tr><tr><td>&quot;91.99.72.15&quot;</td><td>2019-01-22 00:26:17 UTC</td><td>&quot;GET&quot;</td><td>200</td><td>41483</td><td>&quot;-&quot;</td><td>&quot;Mozilla/5.0 (Windows NT 6.2; W…</td><td>41483</td></tr><tr><td>&hellip;</td><td>&hellip;</td><td>&hellip;</td><td>&hellip;</td><td>&hellip;</td><td>&hellip;</td><td>&hellip;</td><td>&hellip;</td></tr><tr><td>&quot;188.229.21.56&quot;</td><td>2019-01-26 16:59:13 UTC</td><td>&quot;GET&quot;</td><td>302</td><td>0</td><td>&quot;-&quot;</td><td>&quot;Mozilla/5.0 (Linux; Android 7.…</td><td>0</td></tr><tr><td>&quot;5.127.220.71&quot;</td><td>2019-01-26 16:59:13 UTC</td><td>&quot;GET&quot;</td><td>404</td><td>32420</td><td>&quot;-&quot;</td><td>&quot;MobileSafari/604.1 CFNetwork/9…</td><td>32420</td></tr><tr><td>&quot;5.213.7.50&quot;</td><td>2019-01-26 16:59:13 UTC</td><td>&quot;GET&quot;</td><td>200</td><td>20959</td><td>&quot;-&quot;</td><td>&quot;Mozilla/5.0 (iPhone; CPU iPhon…</td><td>20959</td></tr><tr><td>&quot;109.125.169.52&quot;</td><td>2019-01-26 16:59:13 UTC</td><td>&quot;GET&quot;</td><td>200</td><td>5</td><td>&quot;-&quot;</td><td>&quot;Mozilla/5.0 (Windows NT 6.1; r…</td><td>5</td></tr><tr><td>&quot;37.129.59.160&quot;</td><td>2019-01-26 16:59:13 UTC</td><td>&quot;GET&quot;</td><td>200</td><td>17299</td><td>&quot;-&quot;</td><td>&quot;Mozilla/5.0 (Linux; Android 6.…</td><td>17299</td></tr></tbody></table></div>"
      ]
     },
     "execution_count": 51,
     "metadata": {},
     "output_type": "execute_result"
    }
   ],
   "execution_count": 51
  },
  {
   "metadata": {
    "ExecuteTime": {
     "end_time": "2025-02-23T14:47:17.522117Z",
     "start_time": "2025-02-23T14:47:17.518119Z"
    }
   },
   "cell_type": "code",
   "source": "df['Status_Code'].dtype",
   "id": "a3a47355a5260118",
   "outputs": [
    {
     "data": {
      "text/plain": [
       "UInt16"
      ]
     },
     "execution_count": 68,
     "metadata": {},
     "output_type": "execute_result"
    }
   ],
   "execution_count": 68
  },
  {
   "metadata": {
    "ExecuteTime": {
     "end_time": "2025-02-23T14:50:51.358844Z",
     "start_time": "2025-02-23T14:50:51.015705Z"
    }
   },
   "cell_type": "code",
   "source": [
    "df_sorted = df.sort('Status_Code')\n",
    "\n",
    "df_sorted.select(\n",
    "    pl.col('Request').search_sorted(\"POST\").alias('GET'),\n",
    "    pl.col('Status_Code').search_sorted(404).alias('Status_404'),\n",
    "    pl.col('Status_Code').search_sorted(200).alias('Status_200')\n",
    ")"
   ],
   "id": "ee8e54242aa0f976",
   "outputs": [
    {
     "data": {
      "text/plain": [
       "shape: (1, 3)\n",
       "┌──────────┬────────────┬────────────┐\n",
       "│ GET      ┆ Status_404 ┆ Status_200 │\n",
       "│ ---      ┆ ---        ┆ ---        │\n",
       "│ u32      ┆ u32        ┆ u32        │\n",
       "╞══════════╪════════════╪════════════╡\n",
       "│ 10364993 ┆ 10194011   ┆ 1012       │\n",
       "└──────────┴────────────┴────────────┘"
      ],
      "text/html": [
       "<div><style>\n",
       ".dataframe > thead > tr,\n",
       ".dataframe > tbody > tr {\n",
       "  text-align: right;\n",
       "  white-space: pre-wrap;\n",
       "}\n",
       "</style>\n",
       "<small>shape: (1, 3)</small><table border=\"1\" class=\"dataframe\"><thead><tr><th>GET</th><th>Status_404</th><th>Status_200</th></tr><tr><td>u32</td><td>u32</td><td>u32</td></tr></thead><tbody><tr><td>10364993</td><td>10194011</td><td>1012</td></tr></tbody></table></div>"
      ]
     },
     "execution_count": 74,
     "metadata": {},
     "output_type": "execute_result"
    }
   ],
   "execution_count": 74
  },
  {
   "metadata": {
    "ExecuteTime": {
     "end_time": "2025-02-23T14:54:26.966825Z",
     "start_time": "2025-02-23T14:54:26.963323Z"
    }
   },
   "cell_type": "code",
   "source": "df_sorted.row(10194010)",
   "id": "e2467656d394f17c",
   "outputs": [
    {
     "data": {
      "text/plain": [
       "('206.189.101.79',\n",
       " datetime.datetime(2019, 1, 26, 16, 58, 18, tzinfo=zoneinfo.ZoneInfo(key='UTC')),\n",
       " 'GET',\n",
       " 403,\n",
       " 189,\n",
       " '-',\n",
       " 'Mozilla/5.0 (Linux; Android 7.1.1; SAMSUNG SM-J250F Build/NMF26X) AppleWebKit/537.36 (KHTML, like Gecko) SamsungBrowser/8.2 Chrome/63.0.3239.111 Mobile Safari/537.36')"
      ]
     },
     "execution_count": 84,
     "metadata": {},
     "output_type": "execute_result"
    }
   ],
   "execution_count": 84
  },
  {
   "metadata": {
    "ExecuteTime": {
     "end_time": "2025-02-23T14:53:59.588683Z",
     "start_time": "2025-02-23T14:53:59.584181Z"
    }
   },
   "cell_type": "code",
   "source": "df_sorted",
   "id": "51bfd13c4b1006c1",
   "outputs": [
    {
     "data": {
      "text/plain": [
       "shape: (10_365_152, 7)\n",
       "┌────────────────┬───────────────┬─────────┬─────────────┬───────────────┬─────────┬───────────────┐\n",
       "│ IP             ┆ Date          ┆ Request ┆ Status_Code ┆ Response_Size ┆ Referer ┆ User_Agent    │\n",
       "│ ---            ┆ ---           ┆ ---     ┆ ---         ┆ ---           ┆ ---     ┆ ---           │\n",
       "│ str            ┆ datetime[μs,  ┆ str     ┆ u16         ┆ u32           ┆ str     ┆ str           │\n",
       "│                ┆ UTC]          ┆         ┆             ┆               ┆         ┆               │\n",
       "╞════════════════╪═══════════════╪═════════╪═════════════╪═══════════════╪═════════╪═══════════════╡\n",
       "│ 188.25.76.139  ┆ 2019-01-22    ┆ GET     ┆ null        ┆ null          ┆ -       ┆ Mozilla/5.0   │\n",
       "│                ┆ 00:29:19 UTC  ┆         ┆             ┆               ┆         ┆ (compatible;  │\n",
       "│                ┆               ┆         ┆             ┆               ┆         ┆ MSIE …        │\n",
       "│ 93.113.124.199 ┆ 2019-01-22    ┆ GET     ┆ null        ┆ null          ┆ -       ┆ \\x22nlpprojec │\n",
       "│                ┆ 00:30:06 UTC  ┆         ┆             ┆               ┆         ┆ t.info        │\n",
       "│                ┆               ┆         ┆             ┆               ┆         ┆ research\\x…   │\n",
       "│ 208.80.194.31  ┆ 2019-01-22    ┆ GET     ┆ null        ┆ null          ┆ -       ┆ Mozilla/5.0   │\n",
       "│                ┆ 00:42:55 UTC  ┆         ┆             ┆               ┆         ┆ (Windows NT   │\n",
       "│                ┆               ┆         ┆             ┆               ┆         ┆ 5.1) G…       │\n",
       "│ 208.80.194.31  ┆ 2019-01-22    ┆ GET     ┆ null        ┆ null          ┆ -       ┆ Mozilla/5.0   │\n",
       "│                ┆ 00:42:57 UTC  ┆         ┆             ┆               ┆         ┆ (Windows NT   │\n",
       "│                ┆               ┆         ┆             ┆               ┆         ┆ 5.1) G…       │\n",
       "│ 207.241.231.16 ┆ 2019-01-22    ┆ GET     ┆ null        ┆ null          ┆ -       ┆ Mozilla/5.0   │\n",
       "│ 5              ┆ 00:55:10 UTC  ┆         ┆             ┆               ┆         ┆ (compatible;  │\n",
       "│                ┆               ┆         ┆             ┆               ┆         ┆ archi…        │\n",
       "│ …              ┆ …             ┆ …       ┆ …           ┆ …             ┆ …       ┆ …             │\n",
       "│ 66.249.66.91   ┆ 2019-01-26    ┆ GET     ┆ 504         ┆ 570           ┆ -       ┆ Mozilla/5.0   │\n",
       "│                ┆ 13:41:36 UTC  ┆         ┆             ┆               ┆         ┆ (compatible;  │\n",
       "│                ┆               ┆         ┆             ┆               ┆         ┆ Googl…        │\n",
       "│ 66.249.66.91   ┆ 2019-01-26    ┆ GET     ┆ 504         ┆ 570           ┆ -       ┆ Mozilla/5.0   │\n",
       "│                ┆ 14:07:41 UTC  ┆         ┆             ┆               ┆         ┆ (compatible;  │\n",
       "│                ┆               ┆         ┆             ┆               ┆         ┆ Googl…        │\n",
       "│ 66.249.66.91   ┆ 2019-01-26    ┆ GET     ┆ 504         ┆ 570           ┆ -       ┆ Mozilla/5.0   │\n",
       "│                ┆ 14:09:13 UTC  ┆         ┆             ┆               ┆         ┆ (compatible;  │\n",
       "│                ┆               ┆         ┆             ┆               ┆         ┆ Googl…        │\n",
       "│ 66.249.66.93   ┆ 2019-01-26    ┆ GET     ┆ 504         ┆ 570           ┆ -       ┆ Mozilla/5.0   │\n",
       "│                ┆ 14:31:14 UTC  ┆         ┆             ┆               ┆         ┆ (compatible;  │\n",
       "│                ┆               ┆         ┆             ┆               ┆         ┆ Googl…        │\n",
       "│ 66.249.66.92   ┆ 2019-01-26    ┆ GET     ┆ 504         ┆ 570           ┆ -       ┆ Mozilla/5.0   │\n",
       "│                ┆ 15:19:16 UTC  ┆         ┆             ┆               ┆         ┆ (compatible;  │\n",
       "│                ┆               ┆         ┆             ┆               ┆         ┆ Googl…        │\n",
       "└────────────────┴───────────────┴─────────┴─────────────┴───────────────┴─────────┴───────────────┘"
      ],
      "text/html": [
       "<div><style>\n",
       ".dataframe > thead > tr,\n",
       ".dataframe > tbody > tr {\n",
       "  text-align: right;\n",
       "  white-space: pre-wrap;\n",
       "}\n",
       "</style>\n",
       "<small>shape: (10_365_152, 7)</small><table border=\"1\" class=\"dataframe\"><thead><tr><th>IP</th><th>Date</th><th>Request</th><th>Status_Code</th><th>Response_Size</th><th>Referer</th><th>User_Agent</th></tr><tr><td>str</td><td>datetime[μs, UTC]</td><td>str</td><td>u16</td><td>u32</td><td>str</td><td>str</td></tr></thead><tbody><tr><td>&quot;188.25.76.139&quot;</td><td>2019-01-22 00:29:19 UTC</td><td>&quot;GET&quot;</td><td>null</td><td>null</td><td>&quot;-&quot;</td><td>&quot;Mozilla/5.0 (compatible; MSIE …</td></tr><tr><td>&quot;93.113.124.199&quot;</td><td>2019-01-22 00:30:06 UTC</td><td>&quot;GET&quot;</td><td>null</td><td>null</td><td>&quot;-&quot;</td><td>&quot;\\x22nlpproject.info research\\x…</td></tr><tr><td>&quot;208.80.194.31&quot;</td><td>2019-01-22 00:42:55 UTC</td><td>&quot;GET&quot;</td><td>null</td><td>null</td><td>&quot;-&quot;</td><td>&quot;Mozilla/5.0 (Windows NT 5.1) G…</td></tr><tr><td>&quot;208.80.194.31&quot;</td><td>2019-01-22 00:42:57 UTC</td><td>&quot;GET&quot;</td><td>null</td><td>null</td><td>&quot;-&quot;</td><td>&quot;Mozilla/5.0 (Windows NT 5.1) G…</td></tr><tr><td>&quot;207.241.231.165&quot;</td><td>2019-01-22 00:55:10 UTC</td><td>&quot;GET&quot;</td><td>null</td><td>null</td><td>&quot;-&quot;</td><td>&quot;Mozilla/5.0 (compatible; archi…</td></tr><tr><td>&hellip;</td><td>&hellip;</td><td>&hellip;</td><td>&hellip;</td><td>&hellip;</td><td>&hellip;</td><td>&hellip;</td></tr><tr><td>&quot;66.249.66.91&quot;</td><td>2019-01-26 13:41:36 UTC</td><td>&quot;GET&quot;</td><td>504</td><td>570</td><td>&quot;-&quot;</td><td>&quot;Mozilla/5.0 (compatible; Googl…</td></tr><tr><td>&quot;66.249.66.91&quot;</td><td>2019-01-26 14:07:41 UTC</td><td>&quot;GET&quot;</td><td>504</td><td>570</td><td>&quot;-&quot;</td><td>&quot;Mozilla/5.0 (compatible; Googl…</td></tr><tr><td>&quot;66.249.66.91&quot;</td><td>2019-01-26 14:09:13 UTC</td><td>&quot;GET&quot;</td><td>504</td><td>570</td><td>&quot;-&quot;</td><td>&quot;Mozilla/5.0 (compatible; Googl…</td></tr><tr><td>&quot;66.249.66.93&quot;</td><td>2019-01-26 14:31:14 UTC</td><td>&quot;GET&quot;</td><td>504</td><td>570</td><td>&quot;-&quot;</td><td>&quot;Mozilla/5.0 (compatible; Googl…</td></tr><tr><td>&quot;66.249.66.92&quot;</td><td>2019-01-26 15:19:16 UTC</td><td>&quot;GET&quot;</td><td>504</td><td>570</td><td>&quot;-&quot;</td><td>&quot;Mozilla/5.0 (compatible; Googl…</td></tr></tbody></table></div>"
      ]
     },
     "execution_count": 82,
     "metadata": {},
     "output_type": "execute_result"
    }
   ],
   "execution_count": 82
  },
  {
   "metadata": {
    "ExecuteTime": {
     "end_time": "2025-02-23T15:00:39.525199Z",
     "start_time": "2025-02-23T15:00:39.455724Z"
    }
   },
   "cell_type": "code",
   "source": [
    "df.select(\n",
    "    pl.col('Status_Code').value_counts().struct.rename_fields(\n",
    "        ['Status_Code', 'Count']\n",
    "    ).alias('Split')\n",
    ").unnest('Split')"
   ],
   "id": "537b314fb591ce30",
   "outputs": [
    {
     "data": {
      "text/plain": [
       "shape: (16, 2)\n",
       "┌─────────────┬────────┐\n",
       "│ Status_Code ┆ Count  │\n",
       "│ ---         ┆ ---    │\n",
       "│ u16         ┆ u32    │\n",
       "╞═════════════╪════════╡\n",
       "│ 304         ┆ 340228 │\n",
       "│ 499         ┆ 50852  │\n",
       "│ 504         ┆ 103    │\n",
       "│ 401         ┆ 323    │\n",
       "│ 400         ┆ 525    │\n",
       "│ …           ┆ …      │\n",
       "│ 404         ┆ 105004 │\n",
       "│ 301         ┆ 67121  │\n",
       "│ 500         ┆ 14266  │\n",
       "│ 408         ┆ 112    │\n",
       "│ null        ┆ 1012   │\n",
       "└─────────────┴────────┘"
      ],
      "text/html": [
       "<div><style>\n",
       ".dataframe > thead > tr,\n",
       ".dataframe > tbody > tr {\n",
       "  text-align: right;\n",
       "  white-space: pre-wrap;\n",
       "}\n",
       "</style>\n",
       "<small>shape: (16, 2)</small><table border=\"1\" class=\"dataframe\"><thead><tr><th>Status_Code</th><th>Count</th></tr><tr><td>u16</td><td>u32</td></tr></thead><tbody><tr><td>304</td><td>340228</td></tr><tr><td>499</td><td>50852</td></tr><tr><td>504</td><td>103</td></tr><tr><td>401</td><td>323</td></tr><tr><td>400</td><td>525</td></tr><tr><td>&hellip;</td><td>&hellip;</td></tr><tr><td>404</td><td>105004</td></tr><tr><td>301</td><td>67121</td></tr><tr><td>500</td><td>14266</td></tr><tr><td>408</td><td>112</td></tr><tr><td>null</td><td>1012</td></tr></tbody></table></div>"
      ]
     },
     "execution_count": 91,
     "metadata": {},
     "output_type": "execute_result"
    }
   ],
   "execution_count": 91
  },
  {
   "metadata": {
    "ExecuteTime": {
     "end_time": "2025-02-23T15:03:24.370836Z",
     "start_time": "2025-02-23T15:03:24.292491Z"
    }
   },
   "cell_type": "code",
   "source": [
    "df.select(\n",
    "    pl.col('Status_Code').unique_counts()\n",
    ")"
   ],
   "id": "49b7c48c8bb00094",
   "outputs": [
    {
     "data": {
      "text/plain": [
       "shape: (16, 1)\n",
       "┌─────────────┐\n",
       "│ Status_Code │\n",
       "│ ---         │\n",
       "│ u32         │\n",
       "╞═════════════╡\n",
       "│ 9579390     │\n",
       "│ 105004      │\n",
       "│ 199784      │\n",
       "│ 67121       │\n",
       "│ 340228      │\n",
       "│ …           │\n",
       "│ 103         │\n",
       "│ 112         │\n",
       "│ 323         │\n",
       "│ 6           │\n",
       "│ 3           │\n",
       "└─────────────┘"
      ],
      "text/html": [
       "<div><style>\n",
       ".dataframe > thead > tr,\n",
       ".dataframe > tbody > tr {\n",
       "  text-align: right;\n",
       "  white-space: pre-wrap;\n",
       "}\n",
       "</style>\n",
       "<small>shape: (16, 1)</small><table border=\"1\" class=\"dataframe\"><thead><tr><th>Status_Code</th></tr><tr><td>u32</td></tr></thead><tbody><tr><td>9579390</td></tr><tr><td>105004</td></tr><tr><td>199784</td></tr><tr><td>67121</td></tr><tr><td>340228</td></tr><tr><td>&hellip;</td></tr><tr><td>103</td></tr><tr><td>112</td></tr><tr><td>323</td></tr><tr><td>6</td></tr><tr><td>3</td></tr></tbody></table></div>"
      ]
     },
     "execution_count": 102,
     "metadata": {},
     "output_type": "execute_result"
    }
   ],
   "execution_count": 102
  },
  {
   "metadata": {
    "ExecuteTime": {
     "end_time": "2025-02-23T15:05:55.796550Z",
     "start_time": "2025-02-23T15:05:55.786313Z"
    }
   },
   "cell_type": "code",
   "source": [
    "df.with_columns(\n",
    "    all=pl.all_horizontal([pl.col('Status_Code').is_null(), pl.col('Response_Size').is_null()]).alias('All_Null'),\n",
    ")"
   ],
   "id": "e411f1b80f509ada",
   "outputs": [
    {
     "data": {
      "text/plain": [
       "shape: (10_365_152, 8)\n",
       "┌──────────────┬─────────────┬─────────┬─────────────┬─────────────┬─────────┬─────────────┬───────┐\n",
       "│ IP           ┆ Date        ┆ Request ┆ Status_Code ┆ Response_Si ┆ Referer ┆ User_Agent  ┆ all   │\n",
       "│ ---          ┆ ---         ┆ ---     ┆ ---         ┆ ze          ┆ ---     ┆ ---         ┆ ---   │\n",
       "│ str          ┆ datetime[μs ┆ str     ┆ u16         ┆ ---         ┆ str     ┆ str         ┆ bool  │\n",
       "│              ┆ , UTC]      ┆         ┆             ┆ u32         ┆         ┆             ┆       │\n",
       "╞══════════════╪═════════════╪═════════╪═════════════╪═════════════╪═════════╪═════════════╪═══════╡\n",
       "│ 54.36.149.41 ┆ 2019-01-22  ┆ GET     ┆ 200         ┆ 30577       ┆ -       ┆ Mozilla/5.0 ┆ false │\n",
       "│              ┆ 00:26:14    ┆         ┆             ┆             ┆         ┆ (compatible ┆       │\n",
       "│              ┆ UTC         ┆         ┆             ┆             ┆         ┆ ; Ahref…    ┆       │\n",
       "│ 31.56.96.51  ┆ 2019-01-22  ┆ GET     ┆ 200         ┆ 5667        ┆ -       ┆ Mozilla/5.0 ┆ false │\n",
       "│              ┆ 00:26:16    ┆         ┆             ┆             ┆         ┆ (Linux;     ┆       │\n",
       "│              ┆ UTC         ┆         ┆             ┆             ┆         ┆ Android 6.… ┆       │\n",
       "│ 31.56.96.51  ┆ 2019-01-22  ┆ GET     ┆ 200         ┆ 5379        ┆ -       ┆ Mozilla/5.0 ┆ false │\n",
       "│              ┆ 00:26:16    ┆         ┆             ┆             ┆         ┆ (Linux;     ┆       │\n",
       "│              ┆ UTC         ┆         ┆             ┆             ┆         ┆ Android 6.… ┆       │\n",
       "│ 40.77.167.12 ┆ 2019-01-22  ┆ GET     ┆ 200         ┆ 1696        ┆ -       ┆ Mozilla/5.0 ┆ false │\n",
       "│ 9            ┆ 00:26:17    ┆         ┆             ┆             ┆         ┆ (compatible ┆       │\n",
       "│              ┆ UTC         ┆         ┆             ┆             ┆         ┆ ; bingb…    ┆       │\n",
       "│ 91.99.72.15  ┆ 2019-01-22  ┆ GET     ┆ 200         ┆ 41483       ┆ -       ┆ Mozilla/5.0 ┆ false │\n",
       "│              ┆ 00:26:17    ┆         ┆             ┆             ┆         ┆ (Windows NT ┆       │\n",
       "│              ┆ UTC         ┆         ┆             ┆             ┆         ┆ 6.2; W…     ┆       │\n",
       "│ …            ┆ …           ┆ …       ┆ …           ┆ …           ┆ …       ┆ …           ┆ …     │\n",
       "│ 188.229.21.5 ┆ 2019-01-26  ┆ GET     ┆ 302         ┆ 0           ┆ -       ┆ Mozilla/5.0 ┆ false │\n",
       "│ 6            ┆ 16:59:13    ┆         ┆             ┆             ┆         ┆ (Linux;     ┆       │\n",
       "│              ┆ UTC         ┆         ┆             ┆             ┆         ┆ Android 7.… ┆       │\n",
       "│ 5.127.220.71 ┆ 2019-01-26  ┆ GET     ┆ 404         ┆ 32420       ┆ -       ┆ MobileSafar ┆ false │\n",
       "│              ┆ 16:59:13    ┆         ┆             ┆             ┆         ┆ i/604.1 CFN ┆       │\n",
       "│              ┆ UTC         ┆         ┆             ┆             ┆         ┆ etwork/9…   ┆       │\n",
       "│ 5.213.7.50   ┆ 2019-01-26  ┆ GET     ┆ 200         ┆ 20959       ┆ -       ┆ Mozilla/5.0 ┆ false │\n",
       "│              ┆ 16:59:13    ┆         ┆             ┆             ┆         ┆ (iPhone;    ┆       │\n",
       "│              ┆ UTC         ┆         ┆             ┆             ┆         ┆ CPU iPhon…  ┆       │\n",
       "│ 109.125.169. ┆ 2019-01-26  ┆ GET     ┆ 200         ┆ 5           ┆ -       ┆ Mozilla/5.0 ┆ false │\n",
       "│ 52           ┆ 16:59:13    ┆         ┆             ┆             ┆         ┆ (Windows NT ┆       │\n",
       "│              ┆ UTC         ┆         ┆             ┆             ┆         ┆ 6.1; r…     ┆       │\n",
       "│ 37.129.59.16 ┆ 2019-01-26  ┆ GET     ┆ 200         ┆ 17299       ┆ -       ┆ Mozilla/5.0 ┆ false │\n",
       "│ 0            ┆ 16:59:13    ┆         ┆             ┆             ┆         ┆ (Linux;     ┆       │\n",
       "│              ┆ UTC         ┆         ┆             ┆             ┆         ┆ Android 6.… ┆       │\n",
       "└──────────────┴─────────────┴─────────┴─────────────┴─────────────┴─────────┴─────────────┴───────┘"
      ],
      "text/html": [
       "<div><style>\n",
       ".dataframe > thead > tr,\n",
       ".dataframe > tbody > tr {\n",
       "  text-align: right;\n",
       "  white-space: pre-wrap;\n",
       "}\n",
       "</style>\n",
       "<small>shape: (10_365_152, 8)</small><table border=\"1\" class=\"dataframe\"><thead><tr><th>IP</th><th>Date</th><th>Request</th><th>Status_Code</th><th>Response_Size</th><th>Referer</th><th>User_Agent</th><th>all</th></tr><tr><td>str</td><td>datetime[μs, UTC]</td><td>str</td><td>u16</td><td>u32</td><td>str</td><td>str</td><td>bool</td></tr></thead><tbody><tr><td>&quot;54.36.149.41&quot;</td><td>2019-01-22 00:26:14 UTC</td><td>&quot;GET&quot;</td><td>200</td><td>30577</td><td>&quot;-&quot;</td><td>&quot;Mozilla/5.0 (compatible; Ahref…</td><td>false</td></tr><tr><td>&quot;31.56.96.51&quot;</td><td>2019-01-22 00:26:16 UTC</td><td>&quot;GET&quot;</td><td>200</td><td>5667</td><td>&quot;-&quot;</td><td>&quot;Mozilla/5.0 (Linux; Android 6.…</td><td>false</td></tr><tr><td>&quot;31.56.96.51&quot;</td><td>2019-01-22 00:26:16 UTC</td><td>&quot;GET&quot;</td><td>200</td><td>5379</td><td>&quot;-&quot;</td><td>&quot;Mozilla/5.0 (Linux; Android 6.…</td><td>false</td></tr><tr><td>&quot;40.77.167.129&quot;</td><td>2019-01-22 00:26:17 UTC</td><td>&quot;GET&quot;</td><td>200</td><td>1696</td><td>&quot;-&quot;</td><td>&quot;Mozilla/5.0 (compatible; bingb…</td><td>false</td></tr><tr><td>&quot;91.99.72.15&quot;</td><td>2019-01-22 00:26:17 UTC</td><td>&quot;GET&quot;</td><td>200</td><td>41483</td><td>&quot;-&quot;</td><td>&quot;Mozilla/5.0 (Windows NT 6.2; W…</td><td>false</td></tr><tr><td>&hellip;</td><td>&hellip;</td><td>&hellip;</td><td>&hellip;</td><td>&hellip;</td><td>&hellip;</td><td>&hellip;</td><td>&hellip;</td></tr><tr><td>&quot;188.229.21.56&quot;</td><td>2019-01-26 16:59:13 UTC</td><td>&quot;GET&quot;</td><td>302</td><td>0</td><td>&quot;-&quot;</td><td>&quot;Mozilla/5.0 (Linux; Android 7.…</td><td>false</td></tr><tr><td>&quot;5.127.220.71&quot;</td><td>2019-01-26 16:59:13 UTC</td><td>&quot;GET&quot;</td><td>404</td><td>32420</td><td>&quot;-&quot;</td><td>&quot;MobileSafari/604.1 CFNetwork/9…</td><td>false</td></tr><tr><td>&quot;5.213.7.50&quot;</td><td>2019-01-26 16:59:13 UTC</td><td>&quot;GET&quot;</td><td>200</td><td>20959</td><td>&quot;-&quot;</td><td>&quot;Mozilla/5.0 (iPhone; CPU iPhon…</td><td>false</td></tr><tr><td>&quot;109.125.169.52&quot;</td><td>2019-01-26 16:59:13 UTC</td><td>&quot;GET&quot;</td><td>200</td><td>5</td><td>&quot;-&quot;</td><td>&quot;Mozilla/5.0 (Windows NT 6.1; r…</td><td>false</td></tr><tr><td>&quot;37.129.59.160&quot;</td><td>2019-01-26 16:59:13 UTC</td><td>&quot;GET&quot;</td><td>200</td><td>17299</td><td>&quot;-&quot;</td><td>&quot;Mozilla/5.0 (Linux; Android 6.…</td><td>false</td></tr></tbody></table></div>"
      ]
     },
     "execution_count": 107,
     "metadata": {},
     "output_type": "execute_result"
    }
   ],
   "execution_count": 107
  },
  {
   "metadata": {
    "ExecuteTime": {
     "end_time": "2025-02-23T15:14:21.624530Z",
     "start_time": "2025-02-23T15:14:21.607666Z"
    }
   },
   "cell_type": "code",
   "source": [
    "df.with_columns(\n",
    "    pl.business_day_count(\n",
    "        pl.col('Date').min().dt.date(),\n",
    "        pl.col('Date').max().dt.date()\n",
    "    ).alias('Business_Day_Count'),\n",
    ")"
   ],
   "id": "684d3d4a2100850f",
   "outputs": [
    {
     "data": {
      "text/plain": [
       "shape: (10_365_152, 8)\n",
       "┌─────────────┬────────────┬─────────┬────────────┬────────────┬─────────┬────────────┬────────────┐\n",
       "│ IP          ┆ Date       ┆ Request ┆ Status_Cod ┆ Response_S ┆ Referer ┆ User_Agent ┆ Business_D │\n",
       "│ ---         ┆ ---        ┆ ---     ┆ e          ┆ ize        ┆ ---     ┆ ---        ┆ ay_Count   │\n",
       "│ str         ┆ datetime[μ ┆ str     ┆ ---        ┆ ---        ┆ str     ┆ str        ┆ ---        │\n",
       "│             ┆ s, UTC]    ┆         ┆ u16        ┆ u32        ┆         ┆            ┆ i32        │\n",
       "╞═════════════╪════════════╪═════════╪════════════╪════════════╪═════════╪════════════╪════════════╡\n",
       "│ 54.36.149.4 ┆ 2019-01-22 ┆ GET     ┆ 200        ┆ 30577      ┆ -       ┆ Mozilla/5. ┆ 4          │\n",
       "│ 1           ┆ 00:26:14   ┆         ┆            ┆            ┆         ┆ 0 (compati ┆            │\n",
       "│             ┆ UTC        ┆         ┆            ┆            ┆         ┆ ble;       ┆            │\n",
       "│             ┆            ┆         ┆            ┆            ┆         ┆ Ahref…     ┆            │\n",
       "│ 31.56.96.51 ┆ 2019-01-22 ┆ GET     ┆ 200        ┆ 5667       ┆ -       ┆ Mozilla/5. ┆ 4          │\n",
       "│             ┆ 00:26:16   ┆         ┆            ┆            ┆         ┆ 0 (Linux;  ┆            │\n",
       "│             ┆ UTC        ┆         ┆            ┆            ┆         ┆ Android    ┆            │\n",
       "│             ┆            ┆         ┆            ┆            ┆         ┆ 6.…        ┆            │\n",
       "│ 31.56.96.51 ┆ 2019-01-22 ┆ GET     ┆ 200        ┆ 5379       ┆ -       ┆ Mozilla/5. ┆ 4          │\n",
       "│             ┆ 00:26:16   ┆         ┆            ┆            ┆         ┆ 0 (Linux;  ┆            │\n",
       "│             ┆ UTC        ┆         ┆            ┆            ┆         ┆ Android    ┆            │\n",
       "│             ┆            ┆         ┆            ┆            ┆         ┆ 6.…        ┆            │\n",
       "│ 40.77.167.1 ┆ 2019-01-22 ┆ GET     ┆ 200        ┆ 1696       ┆ -       ┆ Mozilla/5. ┆ 4          │\n",
       "│ 29          ┆ 00:26:17   ┆         ┆            ┆            ┆         ┆ 0 (compati ┆            │\n",
       "│             ┆ UTC        ┆         ┆            ┆            ┆         ┆ ble;       ┆            │\n",
       "│             ┆            ┆         ┆            ┆            ┆         ┆ bingb…     ┆            │\n",
       "│ 91.99.72.15 ┆ 2019-01-22 ┆ GET     ┆ 200        ┆ 41483      ┆ -       ┆ Mozilla/5. ┆ 4          │\n",
       "│             ┆ 00:26:17   ┆         ┆            ┆            ┆         ┆ 0 (Windows ┆            │\n",
       "│             ┆ UTC        ┆         ┆            ┆            ┆         ┆ NT 6.2; W… ┆            │\n",
       "│ …           ┆ …          ┆ …       ┆ …          ┆ …          ┆ …       ┆ …          ┆ …          │\n",
       "│ 188.229.21. ┆ 2019-01-26 ┆ GET     ┆ 302        ┆ 0          ┆ -       ┆ Mozilla/5. ┆ 4          │\n",
       "│ 56          ┆ 16:59:13   ┆         ┆            ┆            ┆         ┆ 0 (Linux;  ┆            │\n",
       "│             ┆ UTC        ┆         ┆            ┆            ┆         ┆ Android    ┆            │\n",
       "│             ┆            ┆         ┆            ┆            ┆         ┆ 7.…        ┆            │\n",
       "│ 5.127.220.7 ┆ 2019-01-26 ┆ GET     ┆ 404        ┆ 32420      ┆ -       ┆ MobileSafa ┆ 4          │\n",
       "│ 1           ┆ 16:59:13   ┆         ┆            ┆            ┆         ┆ ri/604.1   ┆            │\n",
       "│             ┆ UTC        ┆         ┆            ┆            ┆         ┆ CFNetwork/ ┆            │\n",
       "│             ┆            ┆         ┆            ┆            ┆         ┆ 9…         ┆            │\n",
       "│ 5.213.7.50  ┆ 2019-01-26 ┆ GET     ┆ 200        ┆ 20959      ┆ -       ┆ Mozilla/5. ┆ 4          │\n",
       "│             ┆ 16:59:13   ┆         ┆            ┆            ┆         ┆ 0 (iPhone; ┆            │\n",
       "│             ┆ UTC        ┆         ┆            ┆            ┆         ┆ CPU iPhon… ┆            │\n",
       "│ 109.125.169 ┆ 2019-01-26 ┆ GET     ┆ 200        ┆ 5          ┆ -       ┆ Mozilla/5. ┆ 4          │\n",
       "│ .52         ┆ 16:59:13   ┆         ┆            ┆            ┆         ┆ 0 (Windows ┆            │\n",
       "│             ┆ UTC        ┆         ┆            ┆            ┆         ┆ NT 6.1; r… ┆            │\n",
       "│ 37.129.59.1 ┆ 2019-01-26 ┆ GET     ┆ 200        ┆ 17299      ┆ -       ┆ Mozilla/5. ┆ 4          │\n",
       "│ 60          ┆ 16:59:13   ┆         ┆            ┆            ┆         ┆ 0 (Linux;  ┆            │\n",
       "│             ┆ UTC        ┆         ┆            ┆            ┆         ┆ Android    ┆            │\n",
       "│             ┆            ┆         ┆            ┆            ┆         ┆ 6.…        ┆            │\n",
       "└─────────────┴────────────┴─────────┴────────────┴────────────┴─────────┴────────────┴────────────┘"
      ],
      "text/html": [
       "<div><style>\n",
       ".dataframe > thead > tr,\n",
       ".dataframe > tbody > tr {\n",
       "  text-align: right;\n",
       "  white-space: pre-wrap;\n",
       "}\n",
       "</style>\n",
       "<small>shape: (10_365_152, 8)</small><table border=\"1\" class=\"dataframe\"><thead><tr><th>IP</th><th>Date</th><th>Request</th><th>Status_Code</th><th>Response_Size</th><th>Referer</th><th>User_Agent</th><th>Business_Day_Count</th></tr><tr><td>str</td><td>datetime[μs, UTC]</td><td>str</td><td>u16</td><td>u32</td><td>str</td><td>str</td><td>i32</td></tr></thead><tbody><tr><td>&quot;54.36.149.41&quot;</td><td>2019-01-22 00:26:14 UTC</td><td>&quot;GET&quot;</td><td>200</td><td>30577</td><td>&quot;-&quot;</td><td>&quot;Mozilla/5.0 (compatible; Ahref…</td><td>4</td></tr><tr><td>&quot;31.56.96.51&quot;</td><td>2019-01-22 00:26:16 UTC</td><td>&quot;GET&quot;</td><td>200</td><td>5667</td><td>&quot;-&quot;</td><td>&quot;Mozilla/5.0 (Linux; Android 6.…</td><td>4</td></tr><tr><td>&quot;31.56.96.51&quot;</td><td>2019-01-22 00:26:16 UTC</td><td>&quot;GET&quot;</td><td>200</td><td>5379</td><td>&quot;-&quot;</td><td>&quot;Mozilla/5.0 (Linux; Android 6.…</td><td>4</td></tr><tr><td>&quot;40.77.167.129&quot;</td><td>2019-01-22 00:26:17 UTC</td><td>&quot;GET&quot;</td><td>200</td><td>1696</td><td>&quot;-&quot;</td><td>&quot;Mozilla/5.0 (compatible; bingb…</td><td>4</td></tr><tr><td>&quot;91.99.72.15&quot;</td><td>2019-01-22 00:26:17 UTC</td><td>&quot;GET&quot;</td><td>200</td><td>41483</td><td>&quot;-&quot;</td><td>&quot;Mozilla/5.0 (Windows NT 6.2; W…</td><td>4</td></tr><tr><td>&hellip;</td><td>&hellip;</td><td>&hellip;</td><td>&hellip;</td><td>&hellip;</td><td>&hellip;</td><td>&hellip;</td><td>&hellip;</td></tr><tr><td>&quot;188.229.21.56&quot;</td><td>2019-01-26 16:59:13 UTC</td><td>&quot;GET&quot;</td><td>302</td><td>0</td><td>&quot;-&quot;</td><td>&quot;Mozilla/5.0 (Linux; Android 7.…</td><td>4</td></tr><tr><td>&quot;5.127.220.71&quot;</td><td>2019-01-26 16:59:13 UTC</td><td>&quot;GET&quot;</td><td>404</td><td>32420</td><td>&quot;-&quot;</td><td>&quot;MobileSafari/604.1 CFNetwork/9…</td><td>4</td></tr><tr><td>&quot;5.213.7.50&quot;</td><td>2019-01-26 16:59:13 UTC</td><td>&quot;GET&quot;</td><td>200</td><td>20959</td><td>&quot;-&quot;</td><td>&quot;Mozilla/5.0 (iPhone; CPU iPhon…</td><td>4</td></tr><tr><td>&quot;109.125.169.52&quot;</td><td>2019-01-26 16:59:13 UTC</td><td>&quot;GET&quot;</td><td>200</td><td>5</td><td>&quot;-&quot;</td><td>&quot;Mozilla/5.0 (Windows NT 6.1; r…</td><td>4</td></tr><tr><td>&quot;37.129.59.160&quot;</td><td>2019-01-26 16:59:13 UTC</td><td>&quot;GET&quot;</td><td>200</td><td>17299</td><td>&quot;-&quot;</td><td>&quot;Mozilla/5.0 (Linux; Android 6.…</td><td>4</td></tr></tbody></table></div>"
      ]
     },
     "execution_count": 117,
     "metadata": {},
     "output_type": "execute_result"
    }
   ],
   "execution_count": 117
  },
  {
   "metadata": {
    "ExecuteTime": {
     "end_time": "2025-02-23T15:21:24.023201Z",
     "start_time": "2025-02-23T15:21:23.969841Z"
    }
   },
   "cell_type": "code",
   "source": [
    "df.select(\n",
    "    pl.implode('Request', 'Status_Code')\n",
    ")"
   ],
   "id": "ed9981194689e880",
   "outputs": [
    {
     "data": {
      "text/plain": [
       "shape: (1, 2)\n",
       "┌─────────────────────────┬───────────────────┐\n",
       "│ Request                 ┆ Status_Code       │\n",
       "│ ---                     ┆ ---               │\n",
       "│ list[str]               ┆ list[u16]         │\n",
       "╞═════════════════════════╪═══════════════════╡\n",
       "│ [\"GET\", \"GET\", … \"GET\"] ┆ [200, 200, … 200] │\n",
       "└─────────────────────────┴───────────────────┘"
      ],
      "text/html": [
       "<div><style>\n",
       ".dataframe > thead > tr,\n",
       ".dataframe > tbody > tr {\n",
       "  text-align: right;\n",
       "  white-space: pre-wrap;\n",
       "}\n",
       "</style>\n",
       "<small>shape: (1, 2)</small><table border=\"1\" class=\"dataframe\"><thead><tr><th>Request</th><th>Status_Code</th></tr><tr><td>list[str]</td><td>list[u16]</td></tr></thead><tbody><tr><td>[&quot;GET&quot;, &quot;GET&quot;, … &quot;GET&quot;]</td><td>[200, 200, … 200]</td></tr></tbody></table></div>"
      ]
     },
     "execution_count": 120,
     "metadata": {},
     "output_type": "execute_result"
    }
   ],
   "execution_count": 120
  },
  {
   "metadata": {
    "ExecuteTime": {
     "end_time": "2025-02-23T15:24:51.422726Z",
     "start_time": "2025-02-23T15:24:51.409894Z"
    }
   },
   "cell_type": "code",
   "source": [
    "df.select(\n",
    "    pl.int_ranges(0, 10).alias('Int_Ranges')\n",
    ")"
   ],
   "id": "f750a28f4df32c18",
   "outputs": [
    {
     "data": {
      "text/plain": [
       "shape: (1, 1)\n",
       "┌─────────────┐\n",
       "│ Int_Ranges  │\n",
       "│ ---         │\n",
       "│ list[i64]   │\n",
       "╞═════════════╡\n",
       "│ [0, 1, … 9] │\n",
       "└─────────────┘"
      ],
      "text/html": [
       "<div><style>\n",
       ".dataframe > thead > tr,\n",
       ".dataframe > tbody > tr {\n",
       "  text-align: right;\n",
       "  white-space: pre-wrap;\n",
       "}\n",
       "</style>\n",
       "<small>shape: (1, 1)</small><table border=\"1\" class=\"dataframe\"><thead><tr><th>Int_Ranges</th></tr><tr><td>list[i64]</td></tr></thead><tbody><tr><td>[0, 1, … 9]</td></tr></tbody></table></div>"
      ]
     },
     "execution_count": 123,
     "metadata": {},
     "output_type": "execute_result"
    }
   ],
   "execution_count": 123
  },
  {
   "metadata": {
    "ExecuteTime": {
     "end_time": "2025-02-23T15:29:53.623195Z",
     "start_time": "2025-02-23T15:29:53.619163Z"
    }
   },
   "cell_type": "code",
   "source": [
    "df.select(\n",
    "    pl.nth(3)\n",
    ")"
   ],
   "id": "488442654e85d11e",
   "outputs": [
    {
     "data": {
      "text/plain": [
       "shape: (10_365_152, 1)\n",
       "┌─────────────┐\n",
       "│ Status_Code │\n",
       "│ ---         │\n",
       "│ u16         │\n",
       "╞═════════════╡\n",
       "│ 200         │\n",
       "│ 200         │\n",
       "│ 200         │\n",
       "│ 200         │\n",
       "│ 200         │\n",
       "│ …           │\n",
       "│ 302         │\n",
       "│ 404         │\n",
       "│ 200         │\n",
       "│ 200         │\n",
       "│ 200         │\n",
       "└─────────────┘"
      ],
      "text/html": [
       "<div><style>\n",
       ".dataframe > thead > tr,\n",
       ".dataframe > tbody > tr {\n",
       "  text-align: right;\n",
       "  white-space: pre-wrap;\n",
       "}\n",
       "</style>\n",
       "<small>shape: (10_365_152, 1)</small><table border=\"1\" class=\"dataframe\"><thead><tr><th>Status_Code</th></tr><tr><td>u16</td></tr></thead><tbody><tr><td>200</td></tr><tr><td>200</td></tr><tr><td>200</td></tr><tr><td>200</td></tr><tr><td>200</td></tr><tr><td>&hellip;</td></tr><tr><td>302</td></tr><tr><td>404</td></tr><tr><td>200</td></tr><tr><td>200</td></tr><tr><td>200</td></tr></tbody></table></div>"
      ]
     },
     "execution_count": 127,
     "metadata": {},
     "output_type": "execute_result"
    }
   ],
   "execution_count": 127
  },
  {
   "metadata": {},
   "cell_type": "code",
   "outputs": [],
   "execution_count": null,
   "source": "",
   "id": "5586ba58da2a0d9"
  }
 ],
 "metadata": {
  "kernelspec": {
   "display_name": "Python 3",
   "language": "python",
   "name": "python3"
  },
  "language_info": {
   "codemirror_mode": {
    "name": "ipython",
    "version": 2
   },
   "file_extension": ".py",
   "mimetype": "text/x-python",
   "name": "python",
   "nbconvert_exporter": "python",
   "pygments_lexer": "ipython2",
   "version": "2.7.6"
  }
 },
 "nbformat": 4,
 "nbformat_minor": 5
}
