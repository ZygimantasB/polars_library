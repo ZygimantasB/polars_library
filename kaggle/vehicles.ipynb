{
 "cells": [
  {
   "cell_type": "code",
   "id": "initial_id",
   "metadata": {
    "collapsed": true,
    "ExecuteTime": {
     "end_time": "2025-01-04T18:52:38.857581Z",
     "start_time": "2025-01-04T18:52:37.104242Z"
    }
   },
   "source": [
    "import numpy as np\n",
    "import polars as pl\n",
    "import polars.selectors as cs\n",
    "import matplotlib.pyplot as plt\n",
    "import seaborn as sns\n",
    "import plotly.express as px\n",
    "import plotly.graph_objects as go\n",
    "import great_tables as tg\n",
    "import altair as alt\n",
    "import datetime as dt"
   ],
   "outputs": [],
   "execution_count": 1
  },
  {
   "metadata": {
    "ExecuteTime": {
     "end_time": "2025-01-04T18:53:08.307149Z",
     "start_time": "2025-01-04T18:53:08.304682Z"
    }
   },
   "cell_type": "code",
   "source": "df_path = r\"F:\\Datasets\\CSV datasets\\vehicles.csv\"",
   "id": "be85d8ce11dbc526",
   "outputs": [],
   "execution_count": 2
  },
  {
   "metadata": {
    "ExecuteTime": {
     "end_time": "2025-01-04T18:53:26.454846Z",
     "start_time": "2025-01-04T18:53:26.428181Z"
    }
   },
   "cell_type": "code",
   "source": "df_lazy = pl.scan_csv(df_path).lazy()",
   "id": "d7d97f79b129296c",
   "outputs": [],
   "execution_count": 3
  },
  {
   "metadata": {
    "ExecuteTime": {
     "end_time": "2025-01-04T18:53:44.014217Z",
     "start_time": "2025-01-04T18:53:43.351859Z"
    }
   },
   "cell_type": "code",
   "source": "df = df_lazy.collect()",
   "id": "d512480d564bb40d",
   "outputs": [],
   "execution_count": 4
  },
  {
   "metadata": {
    "ExecuteTime": {
     "end_time": "2025-01-04T18:53:45.057296Z",
     "start_time": "2025-01-04T18:53:45.034062Z"
    }
   },
   "cell_type": "code",
   "source": "df",
   "id": "a286d2ead9e14900",
   "outputs": [
    {
     "data": {
      "text/plain": [
       "shape: (426_880, 26)\n",
       "┌────────────┬────────────┬────────────┬───────────┬───┬───────┬───────────┬───────────┬───────────┐\n",
       "│ id         ┆ url        ┆ region     ┆ region_ur ┆ … ┆ state ┆ lat       ┆ long      ┆ posting_d │\n",
       "│ ---        ┆ ---        ┆ ---        ┆ l         ┆   ┆ ---   ┆ ---       ┆ ---       ┆ ate       │\n",
       "│ i64        ┆ str        ┆ str        ┆ ---       ┆   ┆ str   ┆ f64       ┆ f64       ┆ ---       │\n",
       "│            ┆            ┆            ┆ str       ┆   ┆       ┆           ┆           ┆ str       │\n",
       "╞════════════╪════════════╪════════════╪═══════════╪═══╪═══════╪═══════════╪═══════════╪═══════════╡\n",
       "│ 7222695916 ┆ https://pr ┆ prescott   ┆ https://p ┆ … ┆ az    ┆ null      ┆ null      ┆ null      │\n",
       "│            ┆ escott.cra ┆            ┆ rescott.c ┆   ┆       ┆           ┆           ┆           │\n",
       "│            ┆ igslist.or ┆            ┆ raigslist ┆   ┆       ┆           ┆           ┆           │\n",
       "│            ┆ …          ┆            ┆ .or…      ┆   ┆       ┆           ┆           ┆           │\n",
       "│ 7218891961 ┆ https://fa ┆ fayettevil ┆ https://f ┆ … ┆ ar    ┆ null      ┆ null      ┆ null      │\n",
       "│            ┆ yar.craigs ┆ le         ┆ ayar.crai ┆   ┆       ┆           ┆           ┆           │\n",
       "│            ┆ list.org/c ┆            ┆ gslist.or ┆   ┆       ┆           ┆           ┆           │\n",
       "│            ┆ …          ┆            ┆ g         ┆   ┆       ┆           ┆           ┆           │\n",
       "│ 7221797935 ┆ https://ke ┆ florida    ┆ https://k ┆ … ┆ fl    ┆ null      ┆ null      ┆ null      │\n",
       "│            ┆ ys.craigsl ┆ keys       ┆ eys.craig ┆   ┆       ┆           ┆           ┆           │\n",
       "│            ┆ ist.org/ct ┆            ┆ slist.org ┆   ┆       ┆           ┆           ┆           │\n",
       "│            ┆ …          ┆            ┆           ┆   ┆       ┆           ┆           ┆           │\n",
       "│ 7222270760 ┆ https://wo ┆ worcester  ┆ https://w ┆ … ┆ ma    ┆ null      ┆ null      ┆ null      │\n",
       "│            ┆ rcester.cr ┆ / central  ┆ orcester. ┆   ┆       ┆           ┆           ┆           │\n",
       "│            ┆ aigslist.o ┆ MA         ┆ craigslis ┆   ┆       ┆           ┆           ┆           │\n",
       "│            ┆ …          ┆            ┆ t.o…      ┆   ┆       ┆           ┆           ┆           │\n",
       "│ 7210384030 ┆ https://gr ┆ greensboro ┆ https://g ┆ … ┆ nc    ┆ null      ┆ null      ┆ null      │\n",
       "│            ┆ eensboro.c ┆            ┆ reensboro ┆   ┆       ┆           ┆           ┆           │\n",
       "│            ┆ raigslist. ┆            ┆ .craigsli ┆   ┆       ┆           ┆           ┆           │\n",
       "│            ┆ …          ┆            ┆ st.…      ┆   ┆       ┆           ┆           ┆           │\n",
       "│ …          ┆ …          ┆ …          ┆ …         ┆ … ┆ …     ┆ …         ┆ …         ┆ …         │\n",
       "│ 7301591192 ┆ https://wy ┆ wyoming    ┆ https://w ┆ … ┆ wy    ┆ 33.7865   ┆ -84.4454  ┆ 2021-04-0 │\n",
       "│            ┆ oming.crai ┆            ┆ yoming.cr ┆   ┆       ┆           ┆           ┆ 4T03:21:3 │\n",
       "│            ┆ gslist.org ┆            ┆ aigslist. ┆   ┆       ┆           ┆           ┆ 1-0600    │\n",
       "│            ┆ …          ┆            ┆ org       ┆   ┆       ┆           ┆           ┆           │\n",
       "│ 7301591187 ┆ https://wy ┆ wyoming    ┆ https://w ┆ … ┆ wy    ┆ 33.7865   ┆ -84.4454  ┆ 2021-04-0 │\n",
       "│            ┆ oming.crai ┆            ┆ yoming.cr ┆   ┆       ┆           ┆           ┆ 4T03:21:2 │\n",
       "│            ┆ gslist.org ┆            ┆ aigslist. ┆   ┆       ┆           ┆           ┆ 9-0600    │\n",
       "│            ┆ …          ┆            ┆ org       ┆   ┆       ┆           ┆           ┆           │\n",
       "│ 7301591147 ┆ https://wy ┆ wyoming    ┆ https://w ┆ … ┆ wy    ┆ 33.779214 ┆ -84.41181 ┆ 2021-04-0 │\n",
       "│            ┆ oming.crai ┆            ┆ yoming.cr ┆   ┆       ┆           ┆ 1         ┆ 4T03:21:1 │\n",
       "│            ┆ gslist.org ┆            ┆ aigslist. ┆   ┆       ┆           ┆           ┆ 7-0600    │\n",
       "│            ┆ …          ┆            ┆ org       ┆   ┆       ┆           ┆           ┆           │\n",
       "│ 7301591140 ┆ https://wy ┆ wyoming    ┆ https://w ┆ … ┆ wy    ┆ 33.7865   ┆ -84.4454  ┆ 2021-04-0 │\n",
       "│            ┆ oming.crai ┆            ┆ yoming.cr ┆   ┆       ┆           ┆           ┆ 4T03:21:1 │\n",
       "│            ┆ gslist.org ┆            ┆ aigslist. ┆   ┆       ┆           ┆           ┆ 1-0600    │\n",
       "│            ┆ …          ┆            ┆ org       ┆   ┆       ┆           ┆           ┆           │\n",
       "│ 7301591129 ┆ https://wy ┆ wyoming    ┆ https://w ┆ … ┆ wy    ┆ 33.779214 ┆ -84.41181 ┆ 2021-04-0 │\n",
       "│            ┆ oming.crai ┆            ┆ yoming.cr ┆   ┆       ┆           ┆ 1         ┆ 4T03:21:0 │\n",
       "│            ┆ gslist.org ┆            ┆ aigslist. ┆   ┆       ┆           ┆           ┆ 7-0600    │\n",
       "│            ┆ …          ┆            ┆ org       ┆   ┆       ┆           ┆           ┆           │\n",
       "└────────────┴────────────┴────────────┴───────────┴───┴───────┴───────────┴───────────┴───────────┘"
      ],
      "text/html": [
       "<div><style>\n",
       ".dataframe > thead > tr,\n",
       ".dataframe > tbody > tr {\n",
       "  text-align: right;\n",
       "  white-space: pre-wrap;\n",
       "}\n",
       "</style>\n",
       "<small>shape: (426_880, 26)</small><table border=\"1\" class=\"dataframe\"><thead><tr><th>id</th><th>url</th><th>region</th><th>region_url</th><th>price</th><th>year</th><th>manufacturer</th><th>model</th><th>condition</th><th>cylinders</th><th>fuel</th><th>odometer</th><th>title_status</th><th>transmission</th><th>VIN</th><th>drive</th><th>size</th><th>type</th><th>paint_color</th><th>image_url</th><th>description</th><th>county</th><th>state</th><th>lat</th><th>long</th><th>posting_date</th></tr><tr><td>i64</td><td>str</td><td>str</td><td>str</td><td>i64</td><td>i64</td><td>str</td><td>str</td><td>str</td><td>str</td><td>str</td><td>i64</td><td>str</td><td>str</td><td>str</td><td>str</td><td>str</td><td>str</td><td>str</td><td>str</td><td>str</td><td>str</td><td>str</td><td>f64</td><td>f64</td><td>str</td></tr></thead><tbody><tr><td>7222695916</td><td>&quot;https://prescott.craigslist.or…</td><td>&quot;prescott&quot;</td><td>&quot;https://prescott.craigslist.or…</td><td>6000</td><td>null</td><td>null</td><td>null</td><td>null</td><td>null</td><td>null</td><td>null</td><td>null</td><td>null</td><td>null</td><td>null</td><td>null</td><td>null</td><td>null</td><td>null</td><td>null</td><td>null</td><td>&quot;az&quot;</td><td>null</td><td>null</td><td>null</td></tr><tr><td>7218891961</td><td>&quot;https://fayar.craigslist.org/c…</td><td>&quot;fayetteville&quot;</td><td>&quot;https://fayar.craigslist.org&quot;</td><td>11900</td><td>null</td><td>null</td><td>null</td><td>null</td><td>null</td><td>null</td><td>null</td><td>null</td><td>null</td><td>null</td><td>null</td><td>null</td><td>null</td><td>null</td><td>null</td><td>null</td><td>null</td><td>&quot;ar&quot;</td><td>null</td><td>null</td><td>null</td></tr><tr><td>7221797935</td><td>&quot;https://keys.craigslist.org/ct…</td><td>&quot;florida keys&quot;</td><td>&quot;https://keys.craigslist.org&quot;</td><td>21000</td><td>null</td><td>null</td><td>null</td><td>null</td><td>null</td><td>null</td><td>null</td><td>null</td><td>null</td><td>null</td><td>null</td><td>null</td><td>null</td><td>null</td><td>null</td><td>null</td><td>null</td><td>&quot;fl&quot;</td><td>null</td><td>null</td><td>null</td></tr><tr><td>7222270760</td><td>&quot;https://worcester.craigslist.o…</td><td>&quot;worcester / central MA&quot;</td><td>&quot;https://worcester.craigslist.o…</td><td>1500</td><td>null</td><td>null</td><td>null</td><td>null</td><td>null</td><td>null</td><td>null</td><td>null</td><td>null</td><td>null</td><td>null</td><td>null</td><td>null</td><td>null</td><td>null</td><td>null</td><td>null</td><td>&quot;ma&quot;</td><td>null</td><td>null</td><td>null</td></tr><tr><td>7210384030</td><td>&quot;https://greensboro.craigslist.…</td><td>&quot;greensboro&quot;</td><td>&quot;https://greensboro.craigslist.…</td><td>4900</td><td>null</td><td>null</td><td>null</td><td>null</td><td>null</td><td>null</td><td>null</td><td>null</td><td>null</td><td>null</td><td>null</td><td>null</td><td>null</td><td>null</td><td>null</td><td>null</td><td>null</td><td>&quot;nc&quot;</td><td>null</td><td>null</td><td>null</td></tr><tr><td>&hellip;</td><td>&hellip;</td><td>&hellip;</td><td>&hellip;</td><td>&hellip;</td><td>&hellip;</td><td>&hellip;</td><td>&hellip;</td><td>&hellip;</td><td>&hellip;</td><td>&hellip;</td><td>&hellip;</td><td>&hellip;</td><td>&hellip;</td><td>&hellip;</td><td>&hellip;</td><td>&hellip;</td><td>&hellip;</td><td>&hellip;</td><td>&hellip;</td><td>&hellip;</td><td>&hellip;</td><td>&hellip;</td><td>&hellip;</td><td>&hellip;</td><td>&hellip;</td></tr><tr><td>7301591192</td><td>&quot;https://wyoming.craigslist.org…</td><td>&quot;wyoming&quot;</td><td>&quot;https://wyoming.craigslist.org&quot;</td><td>23590</td><td>2019</td><td>&quot;nissan&quot;</td><td>&quot;maxima s sedan 4d&quot;</td><td>&quot;good&quot;</td><td>&quot;6 cylinders&quot;</td><td>&quot;gas&quot;</td><td>32226</td><td>&quot;clean&quot;</td><td>&quot;other&quot;</td><td>&quot;1N4AA6AV6KC367801&quot;</td><td>&quot;fwd&quot;</td><td>null</td><td>&quot;sedan&quot;</td><td>null</td><td>&quot;https://images.craigslist.org/…</td><td>&quot;Carvana is the safer way to bu…</td><td>null</td><td>&quot;wy&quot;</td><td>33.7865</td><td>-84.4454</td><td>&quot;2021-04-04T03:21:31-0600&quot;</td></tr><tr><td>7301591187</td><td>&quot;https://wyoming.craigslist.org…</td><td>&quot;wyoming&quot;</td><td>&quot;https://wyoming.craigslist.org&quot;</td><td>30590</td><td>2020</td><td>&quot;volvo&quot;</td><td>&quot;s60 t5 momentum sedan 4d&quot;</td><td>&quot;good&quot;</td><td>null</td><td>&quot;gas&quot;</td><td>12029</td><td>&quot;clean&quot;</td><td>&quot;other&quot;</td><td>&quot;7JR102FKXLG042696&quot;</td><td>&quot;fwd&quot;</td><td>null</td><td>&quot;sedan&quot;</td><td>&quot;red&quot;</td><td>&quot;https://images.craigslist.org/…</td><td>&quot;Carvana is the safer way to bu…</td><td>null</td><td>&quot;wy&quot;</td><td>33.7865</td><td>-84.4454</td><td>&quot;2021-04-04T03:21:29-0600&quot;</td></tr><tr><td>7301591147</td><td>&quot;https://wyoming.craigslist.org…</td><td>&quot;wyoming&quot;</td><td>&quot;https://wyoming.craigslist.org&quot;</td><td>34990</td><td>2020</td><td>&quot;cadillac&quot;</td><td>&quot;xt4 sport suv 4d&quot;</td><td>&quot;good&quot;</td><td>null</td><td>&quot;diesel&quot;</td><td>4174</td><td>&quot;clean&quot;</td><td>&quot;other&quot;</td><td>&quot;1GYFZFR46LF088296&quot;</td><td>null</td><td>null</td><td>&quot;hatchback&quot;</td><td>&quot;white&quot;</td><td>&quot;https://images.craigslist.org/…</td><td>&quot;Carvana is the safer way to bu…</td><td>null</td><td>&quot;wy&quot;</td><td>33.779214</td><td>-84.411811</td><td>&quot;2021-04-04T03:21:17-0600&quot;</td></tr><tr><td>7301591140</td><td>&quot;https://wyoming.craigslist.org…</td><td>&quot;wyoming&quot;</td><td>&quot;https://wyoming.craigslist.org&quot;</td><td>28990</td><td>2018</td><td>&quot;lexus&quot;</td><td>&quot;es 350 sedan 4d&quot;</td><td>&quot;good&quot;</td><td>&quot;6 cylinders&quot;</td><td>&quot;gas&quot;</td><td>30112</td><td>&quot;clean&quot;</td><td>&quot;other&quot;</td><td>&quot;58ABK1GG4JU103853&quot;</td><td>&quot;fwd&quot;</td><td>null</td><td>&quot;sedan&quot;</td><td>&quot;silver&quot;</td><td>&quot;https://images.craigslist.org/…</td><td>&quot;Carvana is the safer way to bu…</td><td>null</td><td>&quot;wy&quot;</td><td>33.7865</td><td>-84.4454</td><td>&quot;2021-04-04T03:21:11-0600&quot;</td></tr><tr><td>7301591129</td><td>&quot;https://wyoming.craigslist.org…</td><td>&quot;wyoming&quot;</td><td>&quot;https://wyoming.craigslist.org&quot;</td><td>30590</td><td>2019</td><td>&quot;bmw&quot;</td><td>&quot;4 series 430i gran coupe&quot;</td><td>&quot;good&quot;</td><td>null</td><td>&quot;gas&quot;</td><td>22716</td><td>&quot;clean&quot;</td><td>&quot;other&quot;</td><td>&quot;WBA4J1C58KBM14708&quot;</td><td>&quot;rwd&quot;</td><td>null</td><td>&quot;coupe&quot;</td><td>null</td><td>&quot;https://images.craigslist.org/…</td><td>&quot;Carvana is the safer way to bu…</td><td>null</td><td>&quot;wy&quot;</td><td>33.779214</td><td>-84.411811</td><td>&quot;2021-04-04T03:21:07-0600&quot;</td></tr></tbody></table></div>"
      ]
     },
     "execution_count": 5,
     "metadata": {},
     "output_type": "execute_result"
    }
   ],
   "execution_count": 5
  },
  {
   "metadata": {
    "ExecuteTime": {
     "end_time": "2025-01-04T18:54:00.082421Z",
     "start_time": "2025-01-04T18:54:00.077922Z"
    }
   },
   "cell_type": "code",
   "source": "df.null_count()",
   "id": "e2137a9eca5059d3",
   "outputs": [
    {
     "data": {
      "text/plain": [
       "shape: (1, 26)\n",
       "┌─────┬─────┬────────┬────────────┬───┬───────┬──────┬──────┬──────────────┐\n",
       "│ id  ┆ url ┆ region ┆ region_url ┆ … ┆ state ┆ lat  ┆ long ┆ posting_date │\n",
       "│ --- ┆ --- ┆ ---    ┆ ---        ┆   ┆ ---   ┆ ---  ┆ ---  ┆ ---          │\n",
       "│ u32 ┆ u32 ┆ u32    ┆ u32        ┆   ┆ u32   ┆ u32  ┆ u32  ┆ u32          │\n",
       "╞═════╪═════╪════════╪════════════╪═══╪═══════╪══════╪══════╪══════════════╡\n",
       "│ 0   ┆ 0   ┆ 0      ┆ 0          ┆ … ┆ 0     ┆ 6549 ┆ 6549 ┆ 68           │\n",
       "└─────┴─────┴────────┴────────────┴───┴───────┴──────┴──────┴──────────────┘"
      ],
      "text/html": [
       "<div><style>\n",
       ".dataframe > thead > tr,\n",
       ".dataframe > tbody > tr {\n",
       "  text-align: right;\n",
       "  white-space: pre-wrap;\n",
       "}\n",
       "</style>\n",
       "<small>shape: (1, 26)</small><table border=\"1\" class=\"dataframe\"><thead><tr><th>id</th><th>url</th><th>region</th><th>region_url</th><th>price</th><th>year</th><th>manufacturer</th><th>model</th><th>condition</th><th>cylinders</th><th>fuel</th><th>odometer</th><th>title_status</th><th>transmission</th><th>VIN</th><th>drive</th><th>size</th><th>type</th><th>paint_color</th><th>image_url</th><th>description</th><th>county</th><th>state</th><th>lat</th><th>long</th><th>posting_date</th></tr><tr><td>u32</td><td>u32</td><td>u32</td><td>u32</td><td>u32</td><td>u32</td><td>u32</td><td>u32</td><td>u32</td><td>u32</td><td>u32</td><td>u32</td><td>u32</td><td>u32</td><td>u32</td><td>u32</td><td>u32</td><td>u32</td><td>u32</td><td>u32</td><td>u32</td><td>u32</td><td>u32</td><td>u32</td><td>u32</td><td>u32</td></tr></thead><tbody><tr><td>0</td><td>0</td><td>0</td><td>0</td><td>0</td><td>1205</td><td>17646</td><td>5276</td><td>174104</td><td>177678</td><td>3013</td><td>4400</td><td>8242</td><td>2556</td><td>161042</td><td>130567</td><td>306361</td><td>92858</td><td>130203</td><td>68</td><td>69</td><td>426880</td><td>0</td><td>6549</td><td>6549</td><td>68</td></tr></tbody></table></div>"
      ]
     },
     "execution_count": 6,
     "metadata": {},
     "output_type": "execute_result"
    }
   ],
   "execution_count": 6
  },
  {
   "metadata": {
    "ExecuteTime": {
     "end_time": "2025-01-04T18:54:13.469392Z",
     "start_time": "2025-01-04T18:54:13.465525Z"
    }
   },
   "cell_type": "code",
   "source": "df.estimated_size('mb')",
   "id": "664d6be25468c1af",
   "outputs": [
    {
     "data": {
      "text/plain": [
       "1372.2455654144287"
      ]
     },
     "execution_count": 7,
     "metadata": {},
     "output_type": "execute_result"
    }
   ],
   "execution_count": 7
  },
  {
   "metadata": {
    "ExecuteTime": {
     "end_time": "2025-01-04T19:43:57.249317Z",
     "start_time": "2025-01-04T19:43:57.243702Z"
    }
   },
   "cell_type": "code",
   "source": "df",
   "id": "eb2224ed421c7a77",
   "outputs": [
    {
     "data": {
      "text/plain": [
       "shape: (426_880, 26)\n",
       "┌────────────┬────────────┬────────────┬───────────┬───┬───────┬───────────┬───────────┬───────────┐\n",
       "│ id         ┆ url        ┆ region     ┆ region_ur ┆ … ┆ state ┆ lat       ┆ long      ┆ posting_d │\n",
       "│ ---        ┆ ---        ┆ ---        ┆ l         ┆   ┆ ---   ┆ ---       ┆ ---       ┆ ate       │\n",
       "│ i64        ┆ str        ┆ str        ┆ ---       ┆   ┆ str   ┆ f64       ┆ f64       ┆ ---       │\n",
       "│            ┆            ┆            ┆ str       ┆   ┆       ┆           ┆           ┆ str       │\n",
       "╞════════════╪════════════╪════════════╪═══════════╪═══╪═══════╪═══════════╪═══════════╪═══════════╡\n",
       "│ 7222695916 ┆ https://pr ┆ prescott   ┆ https://p ┆ … ┆ az    ┆ null      ┆ null      ┆ null      │\n",
       "│            ┆ escott.cra ┆            ┆ rescott.c ┆   ┆       ┆           ┆           ┆           │\n",
       "│            ┆ igslist.or ┆            ┆ raigslist ┆   ┆       ┆           ┆           ┆           │\n",
       "│            ┆ …          ┆            ┆ .or…      ┆   ┆       ┆           ┆           ┆           │\n",
       "│ 7218891961 ┆ https://fa ┆ fayettevil ┆ https://f ┆ … ┆ ar    ┆ null      ┆ null      ┆ null      │\n",
       "│            ┆ yar.craigs ┆ le         ┆ ayar.crai ┆   ┆       ┆           ┆           ┆           │\n",
       "│            ┆ list.org/c ┆            ┆ gslist.or ┆   ┆       ┆           ┆           ┆           │\n",
       "│            ┆ …          ┆            ┆ g         ┆   ┆       ┆           ┆           ┆           │\n",
       "│ 7221797935 ┆ https://ke ┆ florida    ┆ https://k ┆ … ┆ fl    ┆ null      ┆ null      ┆ null      │\n",
       "│            ┆ ys.craigsl ┆ keys       ┆ eys.craig ┆   ┆       ┆           ┆           ┆           │\n",
       "│            ┆ ist.org/ct ┆            ┆ slist.org ┆   ┆       ┆           ┆           ┆           │\n",
       "│            ┆ …          ┆            ┆           ┆   ┆       ┆           ┆           ┆           │\n",
       "│ 7222270760 ┆ https://wo ┆ worcester  ┆ https://w ┆ … ┆ ma    ┆ null      ┆ null      ┆ null      │\n",
       "│            ┆ rcester.cr ┆ / central  ┆ orcester. ┆   ┆       ┆           ┆           ┆           │\n",
       "│            ┆ aigslist.o ┆ MA         ┆ craigslis ┆   ┆       ┆           ┆           ┆           │\n",
       "│            ┆ …          ┆            ┆ t.o…      ┆   ┆       ┆           ┆           ┆           │\n",
       "│ 7210384030 ┆ https://gr ┆ greensboro ┆ https://g ┆ … ┆ nc    ┆ null      ┆ null      ┆ null      │\n",
       "│            ┆ eensboro.c ┆            ┆ reensboro ┆   ┆       ┆           ┆           ┆           │\n",
       "│            ┆ raigslist. ┆            ┆ .craigsli ┆   ┆       ┆           ┆           ┆           │\n",
       "│            ┆ …          ┆            ┆ st.…      ┆   ┆       ┆           ┆           ┆           │\n",
       "│ …          ┆ …          ┆ …          ┆ …         ┆ … ┆ …     ┆ …         ┆ …         ┆ …         │\n",
       "│ 7301591192 ┆ https://wy ┆ wyoming    ┆ https://w ┆ … ┆ wy    ┆ 33.7865   ┆ -84.4454  ┆ 2021-04-0 │\n",
       "│            ┆ oming.crai ┆            ┆ yoming.cr ┆   ┆       ┆           ┆           ┆ 4T03:21:3 │\n",
       "│            ┆ gslist.org ┆            ┆ aigslist. ┆   ┆       ┆           ┆           ┆ 1-0600    │\n",
       "│            ┆ …          ┆            ┆ org       ┆   ┆       ┆           ┆           ┆           │\n",
       "│ 7301591187 ┆ https://wy ┆ wyoming    ┆ https://w ┆ … ┆ wy    ┆ 33.7865   ┆ -84.4454  ┆ 2021-04-0 │\n",
       "│            ┆ oming.crai ┆            ┆ yoming.cr ┆   ┆       ┆           ┆           ┆ 4T03:21:2 │\n",
       "│            ┆ gslist.org ┆            ┆ aigslist. ┆   ┆       ┆           ┆           ┆ 9-0600    │\n",
       "│            ┆ …          ┆            ┆ org       ┆   ┆       ┆           ┆           ┆           │\n",
       "│ 7301591147 ┆ https://wy ┆ wyoming    ┆ https://w ┆ … ┆ wy    ┆ 33.779214 ┆ -84.41181 ┆ 2021-04-0 │\n",
       "│            ┆ oming.crai ┆            ┆ yoming.cr ┆   ┆       ┆           ┆ 1         ┆ 4T03:21:1 │\n",
       "│            ┆ gslist.org ┆            ┆ aigslist. ┆   ┆       ┆           ┆           ┆ 7-0600    │\n",
       "│            ┆ …          ┆            ┆ org       ┆   ┆       ┆           ┆           ┆           │\n",
       "│ 7301591140 ┆ https://wy ┆ wyoming    ┆ https://w ┆ … ┆ wy    ┆ 33.7865   ┆ -84.4454  ┆ 2021-04-0 │\n",
       "│            ┆ oming.crai ┆            ┆ yoming.cr ┆   ┆       ┆           ┆           ┆ 4T03:21:1 │\n",
       "│            ┆ gslist.org ┆            ┆ aigslist. ┆   ┆       ┆           ┆           ┆ 1-0600    │\n",
       "│            ┆ …          ┆            ┆ org       ┆   ┆       ┆           ┆           ┆           │\n",
       "│ 7301591129 ┆ https://wy ┆ wyoming    ┆ https://w ┆ … ┆ wy    ┆ 33.779214 ┆ -84.41181 ┆ 2021-04-0 │\n",
       "│            ┆ oming.crai ┆            ┆ yoming.cr ┆   ┆       ┆           ┆ 1         ┆ 4T03:21:0 │\n",
       "│            ┆ gslist.org ┆            ┆ aigslist. ┆   ┆       ┆           ┆           ┆ 7-0600    │\n",
       "│            ┆ …          ┆            ┆ org       ┆   ┆       ┆           ┆           ┆           │\n",
       "└────────────┴────────────┴────────────┴───────────┴───┴───────┴───────────┴───────────┴───────────┘"
      ],
      "text/html": [
       "<div><style>\n",
       ".dataframe > thead > tr,\n",
       ".dataframe > tbody > tr {\n",
       "  text-align: right;\n",
       "  white-space: pre-wrap;\n",
       "}\n",
       "</style>\n",
       "<small>shape: (426_880, 26)</small><table border=\"1\" class=\"dataframe\"><thead><tr><th>id</th><th>url</th><th>region</th><th>region_url</th><th>price</th><th>year</th><th>manufacturer</th><th>model</th><th>condition</th><th>cylinders</th><th>fuel</th><th>odometer</th><th>title_status</th><th>transmission</th><th>VIN</th><th>drive</th><th>size</th><th>type</th><th>paint_color</th><th>image_url</th><th>description</th><th>county</th><th>state</th><th>lat</th><th>long</th><th>posting_date</th></tr><tr><td>i64</td><td>str</td><td>str</td><td>str</td><td>i64</td><td>i64</td><td>str</td><td>str</td><td>str</td><td>str</td><td>str</td><td>i64</td><td>str</td><td>str</td><td>str</td><td>str</td><td>str</td><td>str</td><td>str</td><td>str</td><td>str</td><td>str</td><td>str</td><td>f64</td><td>f64</td><td>str</td></tr></thead><tbody><tr><td>7222695916</td><td>&quot;https://prescott.craigslist.or…</td><td>&quot;prescott&quot;</td><td>&quot;https://prescott.craigslist.or…</td><td>6000</td><td>null</td><td>null</td><td>null</td><td>null</td><td>null</td><td>null</td><td>null</td><td>null</td><td>null</td><td>null</td><td>null</td><td>null</td><td>null</td><td>null</td><td>null</td><td>null</td><td>null</td><td>&quot;az&quot;</td><td>null</td><td>null</td><td>null</td></tr><tr><td>7218891961</td><td>&quot;https://fayar.craigslist.org/c…</td><td>&quot;fayetteville&quot;</td><td>&quot;https://fayar.craigslist.org&quot;</td><td>11900</td><td>null</td><td>null</td><td>null</td><td>null</td><td>null</td><td>null</td><td>null</td><td>null</td><td>null</td><td>null</td><td>null</td><td>null</td><td>null</td><td>null</td><td>null</td><td>null</td><td>null</td><td>&quot;ar&quot;</td><td>null</td><td>null</td><td>null</td></tr><tr><td>7221797935</td><td>&quot;https://keys.craigslist.org/ct…</td><td>&quot;florida keys&quot;</td><td>&quot;https://keys.craigslist.org&quot;</td><td>21000</td><td>null</td><td>null</td><td>null</td><td>null</td><td>null</td><td>null</td><td>null</td><td>null</td><td>null</td><td>null</td><td>null</td><td>null</td><td>null</td><td>null</td><td>null</td><td>null</td><td>null</td><td>&quot;fl&quot;</td><td>null</td><td>null</td><td>null</td></tr><tr><td>7222270760</td><td>&quot;https://worcester.craigslist.o…</td><td>&quot;worcester / central MA&quot;</td><td>&quot;https://worcester.craigslist.o…</td><td>1500</td><td>null</td><td>null</td><td>null</td><td>null</td><td>null</td><td>null</td><td>null</td><td>null</td><td>null</td><td>null</td><td>null</td><td>null</td><td>null</td><td>null</td><td>null</td><td>null</td><td>null</td><td>&quot;ma&quot;</td><td>null</td><td>null</td><td>null</td></tr><tr><td>7210384030</td><td>&quot;https://greensboro.craigslist.…</td><td>&quot;greensboro&quot;</td><td>&quot;https://greensboro.craigslist.…</td><td>4900</td><td>null</td><td>null</td><td>null</td><td>null</td><td>null</td><td>null</td><td>null</td><td>null</td><td>null</td><td>null</td><td>null</td><td>null</td><td>null</td><td>null</td><td>null</td><td>null</td><td>null</td><td>&quot;nc&quot;</td><td>null</td><td>null</td><td>null</td></tr><tr><td>&hellip;</td><td>&hellip;</td><td>&hellip;</td><td>&hellip;</td><td>&hellip;</td><td>&hellip;</td><td>&hellip;</td><td>&hellip;</td><td>&hellip;</td><td>&hellip;</td><td>&hellip;</td><td>&hellip;</td><td>&hellip;</td><td>&hellip;</td><td>&hellip;</td><td>&hellip;</td><td>&hellip;</td><td>&hellip;</td><td>&hellip;</td><td>&hellip;</td><td>&hellip;</td><td>&hellip;</td><td>&hellip;</td><td>&hellip;</td><td>&hellip;</td><td>&hellip;</td></tr><tr><td>7301591192</td><td>&quot;https://wyoming.craigslist.org…</td><td>&quot;wyoming&quot;</td><td>&quot;https://wyoming.craigslist.org&quot;</td><td>23590</td><td>2019</td><td>&quot;nissan&quot;</td><td>&quot;maxima s sedan 4d&quot;</td><td>&quot;good&quot;</td><td>&quot;6 cylinders&quot;</td><td>&quot;gas&quot;</td><td>32226</td><td>&quot;clean&quot;</td><td>&quot;other&quot;</td><td>&quot;1N4AA6AV6KC367801&quot;</td><td>&quot;fwd&quot;</td><td>null</td><td>&quot;sedan&quot;</td><td>null</td><td>&quot;https://images.craigslist.org/…</td><td>&quot;Carvana is the safer way to bu…</td><td>null</td><td>&quot;wy&quot;</td><td>33.7865</td><td>-84.4454</td><td>&quot;2021-04-04T03:21:31-0600&quot;</td></tr><tr><td>7301591187</td><td>&quot;https://wyoming.craigslist.org…</td><td>&quot;wyoming&quot;</td><td>&quot;https://wyoming.craigslist.org&quot;</td><td>30590</td><td>2020</td><td>&quot;volvo&quot;</td><td>&quot;s60 t5 momentum sedan 4d&quot;</td><td>&quot;good&quot;</td><td>null</td><td>&quot;gas&quot;</td><td>12029</td><td>&quot;clean&quot;</td><td>&quot;other&quot;</td><td>&quot;7JR102FKXLG042696&quot;</td><td>&quot;fwd&quot;</td><td>null</td><td>&quot;sedan&quot;</td><td>&quot;red&quot;</td><td>&quot;https://images.craigslist.org/…</td><td>&quot;Carvana is the safer way to bu…</td><td>null</td><td>&quot;wy&quot;</td><td>33.7865</td><td>-84.4454</td><td>&quot;2021-04-04T03:21:29-0600&quot;</td></tr><tr><td>7301591147</td><td>&quot;https://wyoming.craigslist.org…</td><td>&quot;wyoming&quot;</td><td>&quot;https://wyoming.craigslist.org&quot;</td><td>34990</td><td>2020</td><td>&quot;cadillac&quot;</td><td>&quot;xt4 sport suv 4d&quot;</td><td>&quot;good&quot;</td><td>null</td><td>&quot;diesel&quot;</td><td>4174</td><td>&quot;clean&quot;</td><td>&quot;other&quot;</td><td>&quot;1GYFZFR46LF088296&quot;</td><td>null</td><td>null</td><td>&quot;hatchback&quot;</td><td>&quot;white&quot;</td><td>&quot;https://images.craigslist.org/…</td><td>&quot;Carvana is the safer way to bu…</td><td>null</td><td>&quot;wy&quot;</td><td>33.779214</td><td>-84.411811</td><td>&quot;2021-04-04T03:21:17-0600&quot;</td></tr><tr><td>7301591140</td><td>&quot;https://wyoming.craigslist.org…</td><td>&quot;wyoming&quot;</td><td>&quot;https://wyoming.craigslist.org&quot;</td><td>28990</td><td>2018</td><td>&quot;lexus&quot;</td><td>&quot;es 350 sedan 4d&quot;</td><td>&quot;good&quot;</td><td>&quot;6 cylinders&quot;</td><td>&quot;gas&quot;</td><td>30112</td><td>&quot;clean&quot;</td><td>&quot;other&quot;</td><td>&quot;58ABK1GG4JU103853&quot;</td><td>&quot;fwd&quot;</td><td>null</td><td>&quot;sedan&quot;</td><td>&quot;silver&quot;</td><td>&quot;https://images.craigslist.org/…</td><td>&quot;Carvana is the safer way to bu…</td><td>null</td><td>&quot;wy&quot;</td><td>33.7865</td><td>-84.4454</td><td>&quot;2021-04-04T03:21:11-0600&quot;</td></tr><tr><td>7301591129</td><td>&quot;https://wyoming.craigslist.org…</td><td>&quot;wyoming&quot;</td><td>&quot;https://wyoming.craigslist.org&quot;</td><td>30590</td><td>2019</td><td>&quot;bmw&quot;</td><td>&quot;4 series 430i gran coupe&quot;</td><td>&quot;good&quot;</td><td>null</td><td>&quot;gas&quot;</td><td>22716</td><td>&quot;clean&quot;</td><td>&quot;other&quot;</td><td>&quot;WBA4J1C58KBM14708&quot;</td><td>&quot;rwd&quot;</td><td>null</td><td>&quot;coupe&quot;</td><td>null</td><td>&quot;https://images.craigslist.org/…</td><td>&quot;Carvana is the safer way to bu…</td><td>null</td><td>&quot;wy&quot;</td><td>33.779214</td><td>-84.411811</td><td>&quot;2021-04-04T03:21:07-0600&quot;</td></tr></tbody></table></div>"
      ]
     },
     "execution_count": 57,
     "metadata": {},
     "output_type": "execute_result"
    }
   ],
   "execution_count": 57
  },
  {
   "metadata": {
    "ExecuteTime": {
     "end_time": "2025-01-04T18:58:42.401006Z",
     "start_time": "2025-01-04T18:58:42.396985Z"
    }
   },
   "cell_type": "code",
   "source": "df['price'].min(), df['price'].max()",
   "id": "3dafbad67619b444",
   "outputs": [
    {
     "data": {
      "text/plain": [
       "(0, 3736928711)"
      ]
     },
     "execution_count": 13,
     "metadata": {},
     "output_type": "execute_result"
    }
   ],
   "execution_count": 13
  },
  {
   "metadata": {
    "ExecuteTime": {
     "end_time": "2025-01-04T19:44:07.345831Z",
     "start_time": "2025-01-04T19:44:07.322233Z"
    }
   },
   "cell_type": "code",
   "source": [
    "df = df.with_columns(\n",
    "    pl.col('price').cast(pl.UInt32),\n",
    "    pl.col('year').cast(pl.UInt16),\n",
    "    pl.col('odometer').cast(pl.UInt32),\n",
    "    pl.col('state').str.to_uppercase(),\n",
    "    pl.col(\"posting_date\").str.to_datetime(\"%Y-%m-%dT%H:%M:%S%z\").alias(\"posting_date_parsed\")\n",
    ")"
   ],
   "id": "5e5e5a65aea4558c",
   "outputs": [],
   "execution_count": 58
  },
  {
   "metadata": {
    "ExecuteTime": {
     "end_time": "2025-01-04T19:44:09.300101Z",
     "start_time": "2025-01-04T19:44:09.293830Z"
    }
   },
   "cell_type": "code",
   "source": "df",
   "id": "78b0f549a67180b2",
   "outputs": [
    {
     "data": {
      "text/plain": [
       "shape: (426_880, 27)\n",
       "┌───────────┬───────────┬───────────┬───────────┬───┬───────────┬───────────┬───────────┬──────────┐\n",
       "│ id        ┆ url       ┆ region    ┆ region_ur ┆ … ┆ lat       ┆ long      ┆ posting_d ┆ posting_ │\n",
       "│ ---       ┆ ---       ┆ ---       ┆ l         ┆   ┆ ---       ┆ ---       ┆ ate       ┆ date_par │\n",
       "│ i64       ┆ str       ┆ str       ┆ ---       ┆   ┆ f64       ┆ f64       ┆ ---       ┆ sed      │\n",
       "│           ┆           ┆           ┆ str       ┆   ┆           ┆           ┆ str       ┆ ---      │\n",
       "│           ┆           ┆           ┆           ┆   ┆           ┆           ┆           ┆ datetime │\n",
       "│           ┆           ┆           ┆           ┆   ┆           ┆           ┆           ┆ [μs,     │\n",
       "│           ┆           ┆           ┆           ┆   ┆           ┆           ┆           ┆ UTC]     │\n",
       "╞═══════════╪═══════════╪═══════════╪═══════════╪═══╪═══════════╪═══════════╪═══════════╪══════════╡\n",
       "│ 722269591 ┆ https://p ┆ prescott  ┆ https://p ┆ … ┆ null      ┆ null      ┆ null      ┆ null     │\n",
       "│ 6         ┆ rescott.c ┆           ┆ rescott.c ┆   ┆           ┆           ┆           ┆          │\n",
       "│           ┆ raigslist ┆           ┆ raigslist ┆   ┆           ┆           ┆           ┆          │\n",
       "│           ┆ .or…      ┆           ┆ .or…      ┆   ┆           ┆           ┆           ┆          │\n",
       "│ 721889196 ┆ https://f ┆ fayettevi ┆ https://f ┆ … ┆ null      ┆ null      ┆ null      ┆ null     │\n",
       "│ 1         ┆ ayar.crai ┆ lle       ┆ ayar.crai ┆   ┆           ┆           ┆           ┆          │\n",
       "│           ┆ gslist.or ┆           ┆ gslist.or ┆   ┆           ┆           ┆           ┆          │\n",
       "│           ┆ g/c…      ┆           ┆ g         ┆   ┆           ┆           ┆           ┆          │\n",
       "│ 722179793 ┆ https://k ┆ florida   ┆ https://k ┆ … ┆ null      ┆ null      ┆ null      ┆ null     │\n",
       "│ 5         ┆ eys.craig ┆ keys      ┆ eys.craig ┆   ┆           ┆           ┆           ┆          │\n",
       "│           ┆ slist.org ┆           ┆ slist.org ┆   ┆           ┆           ┆           ┆          │\n",
       "│           ┆ /ct…      ┆           ┆           ┆   ┆           ┆           ┆           ┆          │\n",
       "│ 722227076 ┆ https://w ┆ worcester ┆ https://w ┆ … ┆ null      ┆ null      ┆ null      ┆ null     │\n",
       "│ 0         ┆ orcester. ┆ / central ┆ orcester. ┆   ┆           ┆           ┆           ┆          │\n",
       "│           ┆ craigslis ┆ MA        ┆ craigslis ┆   ┆           ┆           ┆           ┆          │\n",
       "│           ┆ t.o…      ┆           ┆ t.o…      ┆   ┆           ┆           ┆           ┆          │\n",
       "│ 721038403 ┆ https://g ┆ greensbor ┆ https://g ┆ … ┆ null      ┆ null      ┆ null      ┆ null     │\n",
       "│ 0         ┆ reensboro ┆ o         ┆ reensboro ┆   ┆           ┆           ┆           ┆          │\n",
       "│           ┆ .craigsli ┆           ┆ .craigsli ┆   ┆           ┆           ┆           ┆          │\n",
       "│           ┆ st.…      ┆           ┆ st.…      ┆   ┆           ┆           ┆           ┆          │\n",
       "│ …         ┆ …         ┆ …         ┆ …         ┆ … ┆ …         ┆ …         ┆ …         ┆ …        │\n",
       "│ 730159119 ┆ https://w ┆ wyoming   ┆ https://w ┆ … ┆ 33.7865   ┆ -84.4454  ┆ 2021-04-0 ┆ 2021-04- │\n",
       "│ 2         ┆ yoming.cr ┆           ┆ yoming.cr ┆   ┆           ┆           ┆ 4T03:21:3 ┆ 04       │\n",
       "│           ┆ aigslist. ┆           ┆ aigslist. ┆   ┆           ┆           ┆ 1-0600    ┆ 09:21:31 │\n",
       "│           ┆ org…      ┆           ┆ org       ┆   ┆           ┆           ┆           ┆ UTC      │\n",
       "│ 730159118 ┆ https://w ┆ wyoming   ┆ https://w ┆ … ┆ 33.7865   ┆ -84.4454  ┆ 2021-04-0 ┆ 2021-04- │\n",
       "│ 7         ┆ yoming.cr ┆           ┆ yoming.cr ┆   ┆           ┆           ┆ 4T03:21:2 ┆ 04       │\n",
       "│           ┆ aigslist. ┆           ┆ aigslist. ┆   ┆           ┆           ┆ 9-0600    ┆ 09:21:29 │\n",
       "│           ┆ org…      ┆           ┆ org       ┆   ┆           ┆           ┆           ┆ UTC      │\n",
       "│ 730159114 ┆ https://w ┆ wyoming   ┆ https://w ┆ … ┆ 33.779214 ┆ -84.41181 ┆ 2021-04-0 ┆ 2021-04- │\n",
       "│ 7         ┆ yoming.cr ┆           ┆ yoming.cr ┆   ┆           ┆ 1         ┆ 4T03:21:1 ┆ 04       │\n",
       "│           ┆ aigslist. ┆           ┆ aigslist. ┆   ┆           ┆           ┆ 7-0600    ┆ 09:21:17 │\n",
       "│           ┆ org…      ┆           ┆ org       ┆   ┆           ┆           ┆           ┆ UTC      │\n",
       "│ 730159114 ┆ https://w ┆ wyoming   ┆ https://w ┆ … ┆ 33.7865   ┆ -84.4454  ┆ 2021-04-0 ┆ 2021-04- │\n",
       "│ 0         ┆ yoming.cr ┆           ┆ yoming.cr ┆   ┆           ┆           ┆ 4T03:21:1 ┆ 04       │\n",
       "│           ┆ aigslist. ┆           ┆ aigslist. ┆   ┆           ┆           ┆ 1-0600    ┆ 09:21:11 │\n",
       "│           ┆ org…      ┆           ┆ org       ┆   ┆           ┆           ┆           ┆ UTC      │\n",
       "│ 730159112 ┆ https://w ┆ wyoming   ┆ https://w ┆ … ┆ 33.779214 ┆ -84.41181 ┆ 2021-04-0 ┆ 2021-04- │\n",
       "│ 9         ┆ yoming.cr ┆           ┆ yoming.cr ┆   ┆           ┆ 1         ┆ 4T03:21:0 ┆ 04       │\n",
       "│           ┆ aigslist. ┆           ┆ aigslist. ┆   ┆           ┆           ┆ 7-0600    ┆ 09:21:07 │\n",
       "│           ┆ org…      ┆           ┆ org       ┆   ┆           ┆           ┆           ┆ UTC      │\n",
       "└───────────┴───────────┴───────────┴───────────┴───┴───────────┴───────────┴───────────┴──────────┘"
      ],
      "text/html": [
       "<div><style>\n",
       ".dataframe > thead > tr,\n",
       ".dataframe > tbody > tr {\n",
       "  text-align: right;\n",
       "  white-space: pre-wrap;\n",
       "}\n",
       "</style>\n",
       "<small>shape: (426_880, 27)</small><table border=\"1\" class=\"dataframe\"><thead><tr><th>id</th><th>url</th><th>region</th><th>region_url</th><th>price</th><th>year</th><th>manufacturer</th><th>model</th><th>condition</th><th>cylinders</th><th>fuel</th><th>odometer</th><th>title_status</th><th>transmission</th><th>VIN</th><th>drive</th><th>size</th><th>type</th><th>paint_color</th><th>image_url</th><th>description</th><th>county</th><th>state</th><th>lat</th><th>long</th><th>posting_date</th><th>posting_date_parsed</th></tr><tr><td>i64</td><td>str</td><td>str</td><td>str</td><td>u32</td><td>u16</td><td>str</td><td>str</td><td>str</td><td>str</td><td>str</td><td>u32</td><td>str</td><td>str</td><td>str</td><td>str</td><td>str</td><td>str</td><td>str</td><td>str</td><td>str</td><td>str</td><td>str</td><td>f64</td><td>f64</td><td>str</td><td>datetime[μs, UTC]</td></tr></thead><tbody><tr><td>7222695916</td><td>&quot;https://prescott.craigslist.or…</td><td>&quot;prescott&quot;</td><td>&quot;https://prescott.craigslist.or…</td><td>6000</td><td>null</td><td>null</td><td>null</td><td>null</td><td>null</td><td>null</td><td>null</td><td>null</td><td>null</td><td>null</td><td>null</td><td>null</td><td>null</td><td>null</td><td>null</td><td>null</td><td>null</td><td>&quot;AZ&quot;</td><td>null</td><td>null</td><td>null</td><td>null</td></tr><tr><td>7218891961</td><td>&quot;https://fayar.craigslist.org/c…</td><td>&quot;fayetteville&quot;</td><td>&quot;https://fayar.craigslist.org&quot;</td><td>11900</td><td>null</td><td>null</td><td>null</td><td>null</td><td>null</td><td>null</td><td>null</td><td>null</td><td>null</td><td>null</td><td>null</td><td>null</td><td>null</td><td>null</td><td>null</td><td>null</td><td>null</td><td>&quot;AR&quot;</td><td>null</td><td>null</td><td>null</td><td>null</td></tr><tr><td>7221797935</td><td>&quot;https://keys.craigslist.org/ct…</td><td>&quot;florida keys&quot;</td><td>&quot;https://keys.craigslist.org&quot;</td><td>21000</td><td>null</td><td>null</td><td>null</td><td>null</td><td>null</td><td>null</td><td>null</td><td>null</td><td>null</td><td>null</td><td>null</td><td>null</td><td>null</td><td>null</td><td>null</td><td>null</td><td>null</td><td>&quot;FL&quot;</td><td>null</td><td>null</td><td>null</td><td>null</td></tr><tr><td>7222270760</td><td>&quot;https://worcester.craigslist.o…</td><td>&quot;worcester / central MA&quot;</td><td>&quot;https://worcester.craigslist.o…</td><td>1500</td><td>null</td><td>null</td><td>null</td><td>null</td><td>null</td><td>null</td><td>null</td><td>null</td><td>null</td><td>null</td><td>null</td><td>null</td><td>null</td><td>null</td><td>null</td><td>null</td><td>null</td><td>&quot;MA&quot;</td><td>null</td><td>null</td><td>null</td><td>null</td></tr><tr><td>7210384030</td><td>&quot;https://greensboro.craigslist.…</td><td>&quot;greensboro&quot;</td><td>&quot;https://greensboro.craigslist.…</td><td>4900</td><td>null</td><td>null</td><td>null</td><td>null</td><td>null</td><td>null</td><td>null</td><td>null</td><td>null</td><td>null</td><td>null</td><td>null</td><td>null</td><td>null</td><td>null</td><td>null</td><td>null</td><td>&quot;NC&quot;</td><td>null</td><td>null</td><td>null</td><td>null</td></tr><tr><td>&hellip;</td><td>&hellip;</td><td>&hellip;</td><td>&hellip;</td><td>&hellip;</td><td>&hellip;</td><td>&hellip;</td><td>&hellip;</td><td>&hellip;</td><td>&hellip;</td><td>&hellip;</td><td>&hellip;</td><td>&hellip;</td><td>&hellip;</td><td>&hellip;</td><td>&hellip;</td><td>&hellip;</td><td>&hellip;</td><td>&hellip;</td><td>&hellip;</td><td>&hellip;</td><td>&hellip;</td><td>&hellip;</td><td>&hellip;</td><td>&hellip;</td><td>&hellip;</td><td>&hellip;</td></tr><tr><td>7301591192</td><td>&quot;https://wyoming.craigslist.org…</td><td>&quot;wyoming&quot;</td><td>&quot;https://wyoming.craigslist.org&quot;</td><td>23590</td><td>2019</td><td>&quot;nissan&quot;</td><td>&quot;maxima s sedan 4d&quot;</td><td>&quot;good&quot;</td><td>&quot;6 cylinders&quot;</td><td>&quot;gas&quot;</td><td>32226</td><td>&quot;clean&quot;</td><td>&quot;other&quot;</td><td>&quot;1N4AA6AV6KC367801&quot;</td><td>&quot;fwd&quot;</td><td>null</td><td>&quot;sedan&quot;</td><td>null</td><td>&quot;https://images.craigslist.org/…</td><td>&quot;Carvana is the safer way to bu…</td><td>null</td><td>&quot;WY&quot;</td><td>33.7865</td><td>-84.4454</td><td>&quot;2021-04-04T03:21:31-0600&quot;</td><td>2021-04-04 09:21:31 UTC</td></tr><tr><td>7301591187</td><td>&quot;https://wyoming.craigslist.org…</td><td>&quot;wyoming&quot;</td><td>&quot;https://wyoming.craigslist.org&quot;</td><td>30590</td><td>2020</td><td>&quot;volvo&quot;</td><td>&quot;s60 t5 momentum sedan 4d&quot;</td><td>&quot;good&quot;</td><td>null</td><td>&quot;gas&quot;</td><td>12029</td><td>&quot;clean&quot;</td><td>&quot;other&quot;</td><td>&quot;7JR102FKXLG042696&quot;</td><td>&quot;fwd&quot;</td><td>null</td><td>&quot;sedan&quot;</td><td>&quot;red&quot;</td><td>&quot;https://images.craigslist.org/…</td><td>&quot;Carvana is the safer way to bu…</td><td>null</td><td>&quot;WY&quot;</td><td>33.7865</td><td>-84.4454</td><td>&quot;2021-04-04T03:21:29-0600&quot;</td><td>2021-04-04 09:21:29 UTC</td></tr><tr><td>7301591147</td><td>&quot;https://wyoming.craigslist.org…</td><td>&quot;wyoming&quot;</td><td>&quot;https://wyoming.craigslist.org&quot;</td><td>34990</td><td>2020</td><td>&quot;cadillac&quot;</td><td>&quot;xt4 sport suv 4d&quot;</td><td>&quot;good&quot;</td><td>null</td><td>&quot;diesel&quot;</td><td>4174</td><td>&quot;clean&quot;</td><td>&quot;other&quot;</td><td>&quot;1GYFZFR46LF088296&quot;</td><td>null</td><td>null</td><td>&quot;hatchback&quot;</td><td>&quot;white&quot;</td><td>&quot;https://images.craigslist.org/…</td><td>&quot;Carvana is the safer way to bu…</td><td>null</td><td>&quot;WY&quot;</td><td>33.779214</td><td>-84.411811</td><td>&quot;2021-04-04T03:21:17-0600&quot;</td><td>2021-04-04 09:21:17 UTC</td></tr><tr><td>7301591140</td><td>&quot;https://wyoming.craigslist.org…</td><td>&quot;wyoming&quot;</td><td>&quot;https://wyoming.craigslist.org&quot;</td><td>28990</td><td>2018</td><td>&quot;lexus&quot;</td><td>&quot;es 350 sedan 4d&quot;</td><td>&quot;good&quot;</td><td>&quot;6 cylinders&quot;</td><td>&quot;gas&quot;</td><td>30112</td><td>&quot;clean&quot;</td><td>&quot;other&quot;</td><td>&quot;58ABK1GG4JU103853&quot;</td><td>&quot;fwd&quot;</td><td>null</td><td>&quot;sedan&quot;</td><td>&quot;silver&quot;</td><td>&quot;https://images.craigslist.org/…</td><td>&quot;Carvana is the safer way to bu…</td><td>null</td><td>&quot;WY&quot;</td><td>33.7865</td><td>-84.4454</td><td>&quot;2021-04-04T03:21:11-0600&quot;</td><td>2021-04-04 09:21:11 UTC</td></tr><tr><td>7301591129</td><td>&quot;https://wyoming.craigslist.org…</td><td>&quot;wyoming&quot;</td><td>&quot;https://wyoming.craigslist.org&quot;</td><td>30590</td><td>2019</td><td>&quot;bmw&quot;</td><td>&quot;4 series 430i gran coupe&quot;</td><td>&quot;good&quot;</td><td>null</td><td>&quot;gas&quot;</td><td>22716</td><td>&quot;clean&quot;</td><td>&quot;other&quot;</td><td>&quot;WBA4J1C58KBM14708&quot;</td><td>&quot;rwd&quot;</td><td>null</td><td>&quot;coupe&quot;</td><td>null</td><td>&quot;https://images.craigslist.org/…</td><td>&quot;Carvana is the safer way to bu…</td><td>null</td><td>&quot;WY&quot;</td><td>33.779214</td><td>-84.411811</td><td>&quot;2021-04-04T03:21:07-0600&quot;</td><td>2021-04-04 09:21:07 UTC</td></tr></tbody></table></div>"
      ]
     },
     "execution_count": 59,
     "metadata": {},
     "output_type": "execute_result"
    }
   ],
   "execution_count": 59
  },
  {
   "metadata": {
    "ExecuteTime": {
     "end_time": "2025-01-04T19:47:12.931125Z",
     "start_time": "2025-01-04T19:47:12.770945Z"
    }
   },
   "cell_type": "code",
   "source": [
    "df.group_by(\n",
    "    pl.col('year')\n",
    ").agg(\n",
    "    pl.sum('price').alias('total_price')\n",
    ").sort('total_price', descending=True)"
   ],
   "id": "1df944ebed29f48e",
   "outputs": [
    {
     "data": {
      "text/plain": [
       "shape: (115, 2)\n",
       "┌──────┬─────────────┐\n",
       "│ year ┆ total_price │\n",
       "│ ---  ┆ ---         │\n",
       "│ u16  ┆ u32         │\n",
       "╞══════╪═════════════╡\n",
       "│ 2007 ┆ 3884270120  │\n",
       "│ 2021 ┆ 3205980526  │\n",
       "│ 1960 ┆ 1977669489  │\n",
       "│ 2000 ┆ 1780830813  │\n",
       "│ 2020 ┆ 1773442102  │\n",
       "│ …    ┆ …           │\n",
       "│ 1901 ┆ 5099        │\n",
       "│ 1915 ┆ 5000        │\n",
       "│ 1905 ┆ 3990        │\n",
       "│ 1909 ┆ 750         │\n",
       "│ 1903 ┆ 0           │\n",
       "└──────┴─────────────┘"
      ],
      "text/html": [
       "<div><style>\n",
       ".dataframe > thead > tr,\n",
       ".dataframe > tbody > tr {\n",
       "  text-align: right;\n",
       "  white-space: pre-wrap;\n",
       "}\n",
       "</style>\n",
       "<small>shape: (115, 2)</small><table border=\"1\" class=\"dataframe\"><thead><tr><th>year</th><th>total_price</th></tr><tr><td>u16</td><td>u32</td></tr></thead><tbody><tr><td>2007</td><td>3884270120</td></tr><tr><td>2021</td><td>3205980526</td></tr><tr><td>1960</td><td>1977669489</td></tr><tr><td>2000</td><td>1780830813</td></tr><tr><td>2020</td><td>1773442102</td></tr><tr><td>&hellip;</td><td>&hellip;</td></tr><tr><td>1901</td><td>5099</td></tr><tr><td>1915</td><td>5000</td></tr><tr><td>1905</td><td>3990</td></tr><tr><td>1909</td><td>750</td></tr><tr><td>1903</td><td>0</td></tr></tbody></table></div>"
      ]
     },
     "execution_count": 61,
     "metadata": {},
     "output_type": "execute_result"
    }
   ],
   "execution_count": 61
  },
  {
   "metadata": {
    "ExecuteTime": {
     "end_time": "2025-01-04T19:51:05.154975Z",
     "start_time": "2025-01-04T19:51:04.935014Z"
    }
   },
   "cell_type": "code",
   "source": [
    "df.group_by(\n",
    "    pl.col('manufacturer', 'year', 'model')\n",
    ").agg(\n",
    "    pl.sum('price').alias('total_price'),\n",
    "    pl.count('manufacturer').alias('model_count'),\n",
    ").sort('total_price', descending=True)"
   ],
   "id": "78f2f1c794e0f1da",
   "outputs": [
    {
     "data": {
      "text/plain": [
       "shape: (65_815, 5)\n",
       "┌───────────────┬──────┬─────────────────────┬─────────────┬─────────────┐\n",
       "│ manufacturer  ┆ year ┆ model               ┆ total_price ┆ model_count │\n",
       "│ ---           ┆ ---  ┆ ---                 ┆ ---         ┆ ---         │\n",
       "│ str           ┆ u16  ┆ str                 ┆ u32         ┆ u32         │\n",
       "╞═══════════════╪══════╪═════════════════════╪═════════════╪═════════════╡\n",
       "│ toyota        ┆ 2007 ┆ tundra              ┆ 3738176137  ┆ 85          │\n",
       "│ toyota        ┆ 1999 ┆ 4runner             ┆ 3737148611  ┆ 25          │\n",
       "│ mercedes-benz ┆ 2000 ┆ benz e320           ┆ 3024972826  ┆ 7           │\n",
       "│ mercedes-benz ┆ 2000 ┆ benz s430           ┆ 3024961777  ┆ 6           │\n",
       "│ chevrolet     ┆ 2021 ┆ null                ┆ 3009548744  ┆ 2           │\n",
       "│ …             ┆ …    ┆ …                   ┆ …           ┆ …           │\n",
       "│ null          ┆ 2010 ┆ LARGE SELECTION     ┆ 0           ┆ 0           │\n",
       "│ null          ┆ 2007 ┆ fo                  ┆ 0           ┆ 0           │\n",
       "│ dodge         ┆ 2006 ┆ durango sxt 4x4     ┆ 0           ┆ 1           │\n",
       "│ saturn        ┆ 2008 ┆ vue ex              ┆ 0           ┆ 1           │\n",
       "│ ford          ┆ 2010 ┆ fusion hybrid sedan ┆ 0           ┆ 1           │\n",
       "└───────────────┴──────┴─────────────────────┴─────────────┴─────────────┘"
      ],
      "text/html": [
       "<div><style>\n",
       ".dataframe > thead > tr,\n",
       ".dataframe > tbody > tr {\n",
       "  text-align: right;\n",
       "  white-space: pre-wrap;\n",
       "}\n",
       "</style>\n",
       "<small>shape: (65_815, 5)</small><table border=\"1\" class=\"dataframe\"><thead><tr><th>manufacturer</th><th>year</th><th>model</th><th>total_price</th><th>model_count</th></tr><tr><td>str</td><td>u16</td><td>str</td><td>u32</td><td>u32</td></tr></thead><tbody><tr><td>&quot;toyota&quot;</td><td>2007</td><td>&quot;tundra&quot;</td><td>3738176137</td><td>85</td></tr><tr><td>&quot;toyota&quot;</td><td>1999</td><td>&quot;4runner&quot;</td><td>3737148611</td><td>25</td></tr><tr><td>&quot;mercedes-benz&quot;</td><td>2000</td><td>&quot;benz e320&quot;</td><td>3024972826</td><td>7</td></tr><tr><td>&quot;mercedes-benz&quot;</td><td>2000</td><td>&quot;benz s430&quot;</td><td>3024961777</td><td>6</td></tr><tr><td>&quot;chevrolet&quot;</td><td>2021</td><td>null</td><td>3009548744</td><td>2</td></tr><tr><td>&hellip;</td><td>&hellip;</td><td>&hellip;</td><td>&hellip;</td><td>&hellip;</td></tr><tr><td>null</td><td>2010</td><td>&quot;LARGE SELECTION&quot;</td><td>0</td><td>0</td></tr><tr><td>null</td><td>2007</td><td>&quot;fo&quot;</td><td>0</td><td>0</td></tr><tr><td>&quot;dodge&quot;</td><td>2006</td><td>&quot;durango sxt 4x4&quot;</td><td>0</td><td>1</td></tr><tr><td>&quot;saturn&quot;</td><td>2008</td><td>&quot;vue ex&quot;</td><td>0</td><td>1</td></tr><tr><td>&quot;ford&quot;</td><td>2010</td><td>&quot;fusion hybrid sedan&quot;</td><td>0</td><td>1</td></tr></tbody></table></div>"
      ]
     },
     "execution_count": 67,
     "metadata": {},
     "output_type": "execute_result"
    }
   ],
   "execution_count": 67
  },
  {
   "metadata": {
    "ExecuteTime": {
     "end_time": "2025-01-04T20:41:33.793598Z",
     "start_time": "2025-01-04T20:41:33.746620Z"
    }
   },
   "cell_type": "code",
   "source": "df.filter(pl.col('price') == pl.col('price').max())",
   "id": "88f0dc728d9820cf",
   "outputs": [
    {
     "data": {
      "text/plain": [
       "shape: (2, 27)\n",
       "┌───────────┬───────────┬───────────┬───────────┬───┬───────────┬───────────┬───────────┬──────────┐\n",
       "│ id        ┆ url       ┆ region    ┆ region_ur ┆ … ┆ lat       ┆ long      ┆ posting_d ┆ posting_ │\n",
       "│ ---       ┆ ---       ┆ ---       ┆ l         ┆   ┆ ---       ┆ ---       ┆ ate       ┆ date_par │\n",
       "│ i64       ┆ str       ┆ str       ┆ ---       ┆   ┆ f64       ┆ f64       ┆ ---       ┆ sed      │\n",
       "│           ┆           ┆           ┆ str       ┆   ┆           ┆           ┆ str       ┆ ---      │\n",
       "│           ┆           ┆           ┆           ┆   ┆           ┆           ┆           ┆ datetime │\n",
       "│           ┆           ┆           ┆           ┆   ┆           ┆           ┆           ┆ [μs,     │\n",
       "│           ┆           ┆           ┆           ┆   ┆           ┆           ┆           ┆ UTC]     │\n",
       "╞═══════════╪═══════════╪═══════════╪═══════════╪═══╪═══════════╪═══════════╪═══════════╪══════════╡\n",
       "│ 730805603 ┆ https://e ┆ eugene    ┆ https://e ┆ … ┆ 44.066092 ┆ -124.0375 ┆ 2021-04-1 ┆ 2021-04- │\n",
       "│ 1         ┆ ugene.cra ┆           ┆ ugene.cra ┆   ┆           ┆ 61        ┆ 6T18:16:1 ┆ 17       │\n",
       "│           ┆ igslist.o ┆           ┆ igslist.o ┆   ┆           ┆           ┆ 2-0700    ┆ 01:16:12 │\n",
       "│           ┆ rg/…      ┆           ┆ rg        ┆   ┆           ┆           ┆           ┆ UTC      │\n",
       "│ 730244500 ┆ https://k ┆ knoxville ┆ https://k ┆ … ┆ 36.081    ┆ -83.5673  ┆ 2021-04-0 ┆ 2021-04- │\n",
       "│ 2         ┆ noxville. ┆           ┆ noxville. ┆   ┆           ┆           ┆ 5T23:15:4 ┆ 06       │\n",
       "│           ┆ craigslis ┆           ┆ craigslis ┆   ┆           ┆           ┆ 8-0400    ┆ 03:15:48 │\n",
       "│           ┆ t.o…      ┆           ┆ t.o…      ┆   ┆           ┆           ┆           ┆ UTC      │\n",
       "└───────────┴───────────┴───────────┴───────────┴───┴───────────┴───────────┴───────────┴──────────┘"
      ],
      "text/html": [
       "<div><style>\n",
       ".dataframe > thead > tr,\n",
       ".dataframe > tbody > tr {\n",
       "  text-align: right;\n",
       "  white-space: pre-wrap;\n",
       "}\n",
       "</style>\n",
       "<small>shape: (2, 27)</small><table border=\"1\" class=\"dataframe\"><thead><tr><th>id</th><th>url</th><th>region</th><th>region_url</th><th>price</th><th>year</th><th>manufacturer</th><th>model</th><th>condition</th><th>cylinders</th><th>fuel</th><th>odometer</th><th>title_status</th><th>transmission</th><th>VIN</th><th>drive</th><th>size</th><th>type</th><th>paint_color</th><th>image_url</th><th>description</th><th>county</th><th>state</th><th>lat</th><th>long</th><th>posting_date</th><th>posting_date_parsed</th></tr><tr><td>i64</td><td>str</td><td>str</td><td>str</td><td>u32</td><td>u16</td><td>str</td><td>str</td><td>str</td><td>str</td><td>str</td><td>u32</td><td>str</td><td>str</td><td>str</td><td>str</td><td>str</td><td>str</td><td>str</td><td>str</td><td>str</td><td>str</td><td>str</td><td>f64</td><td>f64</td><td>str</td><td>datetime[μs, UTC]</td></tr></thead><tbody><tr><td>7308056031</td><td>&quot;https://eugene.craigslist.org/…</td><td>&quot;eugene&quot;</td><td>&quot;https://eugene.craigslist.org&quot;</td><td>3736928711</td><td>2007</td><td>&quot;toyota&quot;</td><td>&quot;tundra&quot;</td><td>&quot;excellent&quot;</td><td>&quot;8 cylinders&quot;</td><td>&quot;gas&quot;</td><td>164000</td><td>&quot;clean&quot;</td><td>&quot;automatic&quot;</td><td>null</td><td>&quot;4wd&quot;</td><td>&quot;full-size&quot;</td><td>&quot;pickup&quot;</td><td>&quot;silver&quot;</td><td>&quot;https://images.craigslist.org/…</td><td>&quot;Selling my 2007 Toyota Tundra …</td><td>null</td><td>&quot;OR&quot;</td><td>44.066092</td><td>-124.037561</td><td>&quot;2021-04-16T18:16:12-0700&quot;</td><td>2021-04-17 01:16:12 UTC</td></tr><tr><td>7302445002</td><td>&quot;https://knoxville.craigslist.o…</td><td>&quot;knoxville&quot;</td><td>&quot;https://knoxville.craigslist.o…</td><td>3736928711</td><td>1999</td><td>&quot;toyota&quot;</td><td>&quot;4runner&quot;</td><td>&quot;fair&quot;</td><td>&quot;6 cylinders&quot;</td><td>&quot;gas&quot;</td><td>211000</td><td>&quot;clean&quot;</td><td>&quot;automatic&quot;</td><td>null</td><td>&quot;4wd&quot;</td><td>&quot;mid-size&quot;</td><td>null</td><td>&quot;green&quot;</td><td>&quot;https://images.craigslist.org/…</td><td>&quot;99 four runner 211,000 miles r…</td><td>null</td><td>&quot;TN&quot;</td><td>36.081</td><td>-83.5673</td><td>&quot;2021-04-05T23:15:48-0400&quot;</td><td>2021-04-06 03:15:48 UTC</td></tr></tbody></table></div>"
      ]
     },
     "execution_count": 69,
     "metadata": {},
     "output_type": "execute_result"
    }
   ],
   "execution_count": 69
  }
 ],
 "metadata": {
  "kernelspec": {
   "display_name": "Python 3",
   "language": "python",
   "name": "python3"
  },
  "language_info": {
   "codemirror_mode": {
    "name": "ipython",
    "version": 2
   },
   "file_extension": ".py",
   "mimetype": "text/x-python",
   "name": "python",
   "nbconvert_exporter": "python",
   "pygments_lexer": "ipython2",
   "version": "2.7.6"
  }
 },
 "nbformat": 4,
 "nbformat_minor": 5
}
