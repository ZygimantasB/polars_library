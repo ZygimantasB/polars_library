{
 "cells": [
  {
   "metadata": {},
   "cell_type": "markdown",
   "source": "## This is a deep inside how Gen AI technologies like ChatGPT are perceived by students",
   "id": "fef92824a430289a"
  },
  {
   "cell_type": "code",
   "id": "initial_id",
   "metadata": {
    "collapsed": true,
    "ExecuteTime": {
     "end_time": "2024-09-17T18:43:36.876474Z",
     "start_time": "2024-09-17T18:43:36.872969Z"
    }
   },
   "source": [
    "import polars as pl\n",
    "import pandas as pd\n",
    "import numpy as np\n",
    "import matplotlib.pyplot as plt\n",
    "import seaborn as sns\n",
    "import plotly.express as px"
   ],
   "outputs": [],
   "execution_count": 41
  },
  {
   "metadata": {
    "ExecuteTime": {
     "end_time": "2024-09-17T18:43:36.911265Z",
     "start_time": "2024-09-17T18:43:36.907669Z"
    }
   },
   "cell_type": "code",
   "source": "file_path = r'F:\\DataSpell\\Polars_library_learn\\data\\AI_Chatbots_Students_Attitude_Dataset_EN.csv'",
   "id": "77b90558f4b3d8d0",
   "outputs": [],
   "execution_count": 42
  },
  {
   "metadata": {
    "ExecuteTime": {
     "end_time": "2024-09-17T18:43:36.932709Z",
     "start_time": "2024-09-17T18:43:36.926023Z"
    }
   },
   "cell_type": "code",
   "source": "data = pd.read_csv(file_path, encoding='ISO-8859-1', on_bad_lines='skip', delimiter=';')",
   "id": "aca5efc1c6d129ae",
   "outputs": [],
   "execution_count": 43
  },
  {
   "metadata": {
    "ExecuteTime": {
     "end_time": "2024-09-17T18:43:36.999244Z",
     "start_time": "2024-09-17T18:43:36.987801Z"
    }
   },
   "cell_type": "code",
   "source": "data",
   "id": "18938d000aaf7564",
   "outputs": [
    {
     "data": {
      "text/plain": [
       "              Timestamp        Q1                                 Q2      Q3  \\\n",
       "0    5.14.2023 21:22:19    Master   International Economic Relations  Female   \n",
       "1     5.15.2023 8:45:52  Bachelor  International Economic Relations   Female   \n",
       "2     5.15.2023 9:54:15  Bachelor   International Economic Relations  Female   \n",
       "3    5.15.2023 15:17:41  Bachelor   International Economic Relations  Female   \n",
       "4    5.15.2023 15:19:02  Bachelor   International Economic Relations  Female   \n",
       "..                  ...       ...                                ...     ...   \n",
       "126  5.26.2023 15:44:55  Bachelor   International Economic Relations  Female   \n",
       "127  5.26.2023 21:43:23  Bachelor                           Finance   Female   \n",
       "128  5.27.2023 10:28:36  Bachelor                          Marketing  Female   \n",
       "129   5.28.2023 0:51:54  Bachelor              Public Administration    Male   \n",
       "130  5.31.2023 17:42:52  Bachelor                            Finance  Female   \n",
       "\n",
       "             Q4      Q5.1     Q5.2            Q5.3               Q5.4  \\\n",
       "0         Îften     Agree    Agree  Strongly Agree     Strongly Agree   \n",
       "1     Sometimes  Disagree    Agree        Disagree  Strongly Disagree   \n",
       "2        Rarely   Neutral  Neutral         Neutral           Disagree   \n",
       "3        Rarely     Agree    Agree           Agree           Disagree   \n",
       "4     Sometimes     Agree    Agree         Neutral           Disagree   \n",
       "..          ...       ...      ...             ...                ...   \n",
       "126       Îften     Agree  Neutral           Agree              Agree   \n",
       "127       Never   Neutral  Neutral        Disagree           Disagree   \n",
       "128  Very often     Agree    Agree         Neutral            Neutral   \n",
       "129       Îften     Agree    Agree           Agree              Agree   \n",
       "130      Rarely   Neutral  Neutral         Neutral            Neutral   \n",
       "\n",
       "        Q5.5  ...            Q8.2            Q8.3      Q8.4            Q8.5  \\\n",
       "0      Agree  ...  Strongly Agree  Strongly Agree     Agree  Strongly Agree   \n",
       "1    Neutral  ...           Agree           Agree  Disagree         Neutral   \n",
       "2    Neutral  ...           Agree           Agree   Neutral         Neutral   \n",
       "3      Agree  ...           Agree           Agree     Agree           Agree   \n",
       "4      Agree  ...           Agree           Agree   Neutral         Neutral   \n",
       "..       ...  ...             ...             ...       ...             ...   \n",
       "126    Agree  ...           Agree           Agree  Disagree         Neutral   \n",
       "127  Neutral  ...           Agree           Agree     Agree           Agree   \n",
       "128  Neutral  ...  Strongly Agree  Strongly Agree     Agree           Agree   \n",
       "129  Neutral  ...           Agree           Agree     Agree           Agree   \n",
       "130  Neutral  ...         Neutral         Neutral   Neutral         Neutral   \n",
       "\n",
       "         Q9.1            Q9.2            Q9.3      Q9.4      Q9.5  \\\n",
       "0       Agree  Strongly Agree  Strongly Agree     Agree     Agree   \n",
       "1     Neutral           Agree         Neutral  Disagree  Disagree   \n",
       "2     Neutral         Neutral        Disagree  Disagree   Neutral   \n",
       "3       Agree           Agree         Neutral     Agree     Agree   \n",
       "4     Neutral         Neutral         Neutral   Neutral   Neutral   \n",
       "..        ...             ...             ...       ...       ...   \n",
       "126   Neutral           Agree         Neutral     Agree     Agree   \n",
       "127     Agree           Agree           Agree     Agree     Agree   \n",
       "128  Disagree           Agree         Neutral     Agree     Agree   \n",
       "129  Disagree         Neutral         Neutral   Neutral   Neutral   \n",
       "130   Neutral         Neutral         Neutral   Neutral   Neutral   \n",
       "\n",
       "                                                   Q10  \n",
       "0                                                  NaN  \n",
       "1                                                  NaN  \n",
       "2                                                  NaN  \n",
       "3                                                  NaN  \n",
       "4                                                  NaN  \n",
       "..                                                 ...  \n",
       "126  ChtGPT helps me a lot in preparing for assignm...  \n",
       "127                                                NaN  \n",
       "128                                                NaN  \n",
       "129                                                NaN  \n",
       "130                                   I don't have any  \n",
       "\n",
       "[131 rows x 34 columns]"
      ],
      "text/html": [
       "<div>\n",
       "<style scoped>\n",
       "    .dataframe tbody tr th:only-of-type {\n",
       "        vertical-align: middle;\n",
       "    }\n",
       "\n",
       "    .dataframe tbody tr th {\n",
       "        vertical-align: top;\n",
       "    }\n",
       "\n",
       "    .dataframe thead th {\n",
       "        text-align: right;\n",
       "    }\n",
       "</style>\n",
       "<table border=\"1\" class=\"dataframe\">\n",
       "  <thead>\n",
       "    <tr style=\"text-align: right;\">\n",
       "      <th></th>\n",
       "      <th>Timestamp</th>\n",
       "      <th>Q1</th>\n",
       "      <th>Q2</th>\n",
       "      <th>Q3</th>\n",
       "      <th>Q4</th>\n",
       "      <th>Q5.1</th>\n",
       "      <th>Q5.2</th>\n",
       "      <th>Q5.3</th>\n",
       "      <th>Q5.4</th>\n",
       "      <th>Q5.5</th>\n",
       "      <th>...</th>\n",
       "      <th>Q8.2</th>\n",
       "      <th>Q8.3</th>\n",
       "      <th>Q8.4</th>\n",
       "      <th>Q8.5</th>\n",
       "      <th>Q9.1</th>\n",
       "      <th>Q9.2</th>\n",
       "      <th>Q9.3</th>\n",
       "      <th>Q9.4</th>\n",
       "      <th>Q9.5</th>\n",
       "      <th>Q10</th>\n",
       "    </tr>\n",
       "  </thead>\n",
       "  <tbody>\n",
       "    <tr>\n",
       "      <th>0</th>\n",
       "      <td>5.14.2023 21:22:19</td>\n",
       "      <td>Master</td>\n",
       "      <td>International Economic Relations</td>\n",
       "      <td>Female</td>\n",
       "      <td>Îften</td>\n",
       "      <td>Agree</td>\n",
       "      <td>Agree</td>\n",
       "      <td>Strongly Agree</td>\n",
       "      <td>Strongly Agree</td>\n",
       "      <td>Agree</td>\n",
       "      <td>...</td>\n",
       "      <td>Strongly Agree</td>\n",
       "      <td>Strongly Agree</td>\n",
       "      <td>Agree</td>\n",
       "      <td>Strongly Agree</td>\n",
       "      <td>Agree</td>\n",
       "      <td>Strongly Agree</td>\n",
       "      <td>Strongly Agree</td>\n",
       "      <td>Agree</td>\n",
       "      <td>Agree</td>\n",
       "      <td>NaN</td>\n",
       "    </tr>\n",
       "    <tr>\n",
       "      <th>1</th>\n",
       "      <td>5.15.2023 8:45:52</td>\n",
       "      <td>Bachelor</td>\n",
       "      <td>International Economic Relations</td>\n",
       "      <td>Female</td>\n",
       "      <td>Sometimes</td>\n",
       "      <td>Disagree</td>\n",
       "      <td>Agree</td>\n",
       "      <td>Disagree</td>\n",
       "      <td>Strongly Disagree</td>\n",
       "      <td>Neutral</td>\n",
       "      <td>...</td>\n",
       "      <td>Agree</td>\n",
       "      <td>Agree</td>\n",
       "      <td>Disagree</td>\n",
       "      <td>Neutral</td>\n",
       "      <td>Neutral</td>\n",
       "      <td>Agree</td>\n",
       "      <td>Neutral</td>\n",
       "      <td>Disagree</td>\n",
       "      <td>Disagree</td>\n",
       "      <td>NaN</td>\n",
       "    </tr>\n",
       "    <tr>\n",
       "      <th>2</th>\n",
       "      <td>5.15.2023 9:54:15</td>\n",
       "      <td>Bachelor</td>\n",
       "      <td>International Economic Relations</td>\n",
       "      <td>Female</td>\n",
       "      <td>Rarely</td>\n",
       "      <td>Neutral</td>\n",
       "      <td>Neutral</td>\n",
       "      <td>Neutral</td>\n",
       "      <td>Disagree</td>\n",
       "      <td>Neutral</td>\n",
       "      <td>...</td>\n",
       "      <td>Agree</td>\n",
       "      <td>Agree</td>\n",
       "      <td>Neutral</td>\n",
       "      <td>Neutral</td>\n",
       "      <td>Neutral</td>\n",
       "      <td>Neutral</td>\n",
       "      <td>Disagree</td>\n",
       "      <td>Disagree</td>\n",
       "      <td>Neutral</td>\n",
       "      <td>NaN</td>\n",
       "    </tr>\n",
       "    <tr>\n",
       "      <th>3</th>\n",
       "      <td>5.15.2023 15:17:41</td>\n",
       "      <td>Bachelor</td>\n",
       "      <td>International Economic Relations</td>\n",
       "      <td>Female</td>\n",
       "      <td>Rarely</td>\n",
       "      <td>Agree</td>\n",
       "      <td>Agree</td>\n",
       "      <td>Agree</td>\n",
       "      <td>Disagree</td>\n",
       "      <td>Agree</td>\n",
       "      <td>...</td>\n",
       "      <td>Agree</td>\n",
       "      <td>Agree</td>\n",
       "      <td>Agree</td>\n",
       "      <td>Agree</td>\n",
       "      <td>Agree</td>\n",
       "      <td>Agree</td>\n",
       "      <td>Neutral</td>\n",
       "      <td>Agree</td>\n",
       "      <td>Agree</td>\n",
       "      <td>NaN</td>\n",
       "    </tr>\n",
       "    <tr>\n",
       "      <th>4</th>\n",
       "      <td>5.15.2023 15:19:02</td>\n",
       "      <td>Bachelor</td>\n",
       "      <td>International Economic Relations</td>\n",
       "      <td>Female</td>\n",
       "      <td>Sometimes</td>\n",
       "      <td>Agree</td>\n",
       "      <td>Agree</td>\n",
       "      <td>Neutral</td>\n",
       "      <td>Disagree</td>\n",
       "      <td>Agree</td>\n",
       "      <td>...</td>\n",
       "      <td>Agree</td>\n",
       "      <td>Agree</td>\n",
       "      <td>Neutral</td>\n",
       "      <td>Neutral</td>\n",
       "      <td>Neutral</td>\n",
       "      <td>Neutral</td>\n",
       "      <td>Neutral</td>\n",
       "      <td>Neutral</td>\n",
       "      <td>Neutral</td>\n",
       "      <td>NaN</td>\n",
       "    </tr>\n",
       "    <tr>\n",
       "      <th>...</th>\n",
       "      <td>...</td>\n",
       "      <td>...</td>\n",
       "      <td>...</td>\n",
       "      <td>...</td>\n",
       "      <td>...</td>\n",
       "      <td>...</td>\n",
       "      <td>...</td>\n",
       "      <td>...</td>\n",
       "      <td>...</td>\n",
       "      <td>...</td>\n",
       "      <td>...</td>\n",
       "      <td>...</td>\n",
       "      <td>...</td>\n",
       "      <td>...</td>\n",
       "      <td>...</td>\n",
       "      <td>...</td>\n",
       "      <td>...</td>\n",
       "      <td>...</td>\n",
       "      <td>...</td>\n",
       "      <td>...</td>\n",
       "      <td>...</td>\n",
       "    </tr>\n",
       "    <tr>\n",
       "      <th>126</th>\n",
       "      <td>5.26.2023 15:44:55</td>\n",
       "      <td>Bachelor</td>\n",
       "      <td>International Economic Relations</td>\n",
       "      <td>Female</td>\n",
       "      <td>Îften</td>\n",
       "      <td>Agree</td>\n",
       "      <td>Neutral</td>\n",
       "      <td>Agree</td>\n",
       "      <td>Agree</td>\n",
       "      <td>Agree</td>\n",
       "      <td>...</td>\n",
       "      <td>Agree</td>\n",
       "      <td>Agree</td>\n",
       "      <td>Disagree</td>\n",
       "      <td>Neutral</td>\n",
       "      <td>Neutral</td>\n",
       "      <td>Agree</td>\n",
       "      <td>Neutral</td>\n",
       "      <td>Agree</td>\n",
       "      <td>Agree</td>\n",
       "      <td>ChtGPT helps me a lot in preparing for assignm...</td>\n",
       "    </tr>\n",
       "    <tr>\n",
       "      <th>127</th>\n",
       "      <td>5.26.2023 21:43:23</td>\n",
       "      <td>Bachelor</td>\n",
       "      <td>Finance</td>\n",
       "      <td>Female</td>\n",
       "      <td>Never</td>\n",
       "      <td>Neutral</td>\n",
       "      <td>Neutral</td>\n",
       "      <td>Disagree</td>\n",
       "      <td>Disagree</td>\n",
       "      <td>Neutral</td>\n",
       "      <td>...</td>\n",
       "      <td>Agree</td>\n",
       "      <td>Agree</td>\n",
       "      <td>Agree</td>\n",
       "      <td>Agree</td>\n",
       "      <td>Agree</td>\n",
       "      <td>Agree</td>\n",
       "      <td>Agree</td>\n",
       "      <td>Agree</td>\n",
       "      <td>Agree</td>\n",
       "      <td>NaN</td>\n",
       "    </tr>\n",
       "    <tr>\n",
       "      <th>128</th>\n",
       "      <td>5.27.2023 10:28:36</td>\n",
       "      <td>Bachelor</td>\n",
       "      <td>Marketing</td>\n",
       "      <td>Female</td>\n",
       "      <td>Very often</td>\n",
       "      <td>Agree</td>\n",
       "      <td>Agree</td>\n",
       "      <td>Neutral</td>\n",
       "      <td>Neutral</td>\n",
       "      <td>Neutral</td>\n",
       "      <td>...</td>\n",
       "      <td>Strongly Agree</td>\n",
       "      <td>Strongly Agree</td>\n",
       "      <td>Agree</td>\n",
       "      <td>Agree</td>\n",
       "      <td>Disagree</td>\n",
       "      <td>Agree</td>\n",
       "      <td>Neutral</td>\n",
       "      <td>Agree</td>\n",
       "      <td>Agree</td>\n",
       "      <td>NaN</td>\n",
       "    </tr>\n",
       "    <tr>\n",
       "      <th>129</th>\n",
       "      <td>5.28.2023 0:51:54</td>\n",
       "      <td>Bachelor</td>\n",
       "      <td>Public Administration</td>\n",
       "      <td>Male</td>\n",
       "      <td>Îften</td>\n",
       "      <td>Agree</td>\n",
       "      <td>Agree</td>\n",
       "      <td>Agree</td>\n",
       "      <td>Agree</td>\n",
       "      <td>Neutral</td>\n",
       "      <td>...</td>\n",
       "      <td>Agree</td>\n",
       "      <td>Agree</td>\n",
       "      <td>Agree</td>\n",
       "      <td>Agree</td>\n",
       "      <td>Disagree</td>\n",
       "      <td>Neutral</td>\n",
       "      <td>Neutral</td>\n",
       "      <td>Neutral</td>\n",
       "      <td>Neutral</td>\n",
       "      <td>NaN</td>\n",
       "    </tr>\n",
       "    <tr>\n",
       "      <th>130</th>\n",
       "      <td>5.31.2023 17:42:52</td>\n",
       "      <td>Bachelor</td>\n",
       "      <td>Finance</td>\n",
       "      <td>Female</td>\n",
       "      <td>Rarely</td>\n",
       "      <td>Neutral</td>\n",
       "      <td>Neutral</td>\n",
       "      <td>Neutral</td>\n",
       "      <td>Neutral</td>\n",
       "      <td>Neutral</td>\n",
       "      <td>...</td>\n",
       "      <td>Neutral</td>\n",
       "      <td>Neutral</td>\n",
       "      <td>Neutral</td>\n",
       "      <td>Neutral</td>\n",
       "      <td>Neutral</td>\n",
       "      <td>Neutral</td>\n",
       "      <td>Neutral</td>\n",
       "      <td>Neutral</td>\n",
       "      <td>Neutral</td>\n",
       "      <td>I don't have any</td>\n",
       "    </tr>\n",
       "  </tbody>\n",
       "</table>\n",
       "<p>131 rows × 34 columns</p>\n",
       "</div>"
      ]
     },
     "execution_count": 44,
     "metadata": {},
     "output_type": "execute_result"
    }
   ],
   "execution_count": 44
  },
  {
   "metadata": {
    "ExecuteTime": {
     "end_time": "2024-09-17T18:43:37.048733Z",
     "start_time": "2024-09-17T18:43:37.036637Z"
    }
   },
   "cell_type": "code",
   "source": [
    "# Convert to parquet\n",
    "data.to_parquet(r'F:\\DataSpell\\Polars_library_learn\\data\\AI_Chatbots_Students_Attitude_Dataset_EN.parquet')\n"
   ],
   "id": "dac443921078ba83",
   "outputs": [],
   "execution_count": 45
  },
  {
   "metadata": {
    "ExecuteTime": {
     "end_time": "2024-09-17T18:43:37.101324Z",
     "start_time": "2024-09-17T18:43:37.097388Z"
    }
   },
   "cell_type": "code",
   "source": "pl_data = pl.read_parquet(r'F:\\DataSpell\\Polars_library_learn\\data\\AI_Chatbots_Students_Attitude_Dataset_EN.parquet')",
   "id": "b1bf5bdc5e55392f",
   "outputs": [],
   "execution_count": 46
  },
  {
   "metadata": {
    "ExecuteTime": {
     "end_time": "2024-09-17T18:43:37.189922Z",
     "start_time": "2024-09-17T18:43:37.183416Z"
    }
   },
   "cell_type": "code",
   "source": "pl_data",
   "id": "abace0cf7674462b",
   "outputs": [
    {
     "data": {
      "text/plain": [
       "shape: (131, 34)\n",
       "┌─────────────┬──────────┬────────────┬────────┬───┬────────────┬──────────┬──────────┬────────────┐\n",
       "│ Timestamp   ┆ Q1       ┆ Q2         ┆ Q3     ┆ … ┆ Q9.3       ┆ Q9.4     ┆ Q9.5     ┆ Q10        │\n",
       "│ ---         ┆ ---      ┆ ---        ┆ ---    ┆   ┆ ---        ┆ ---      ┆ ---      ┆ ---        │\n",
       "│ str         ┆ str      ┆ str        ┆ str    ┆   ┆ str        ┆ str      ┆ str      ┆ str        │\n",
       "╞═════════════╪══════════╪════════════╪════════╪═══╪════════════╪══════════╪══════════╪════════════╡\n",
       "│ 5.14.2023   ┆ Master   ┆ Internatio ┆ Female ┆ … ┆ Strongly   ┆ Agree    ┆ Agree    ┆ null       │\n",
       "│ 21:22:19    ┆          ┆ nal        ┆        ┆   ┆ Agree      ┆          ┆          ┆            │\n",
       "│             ┆          ┆ Economic   ┆        ┆   ┆            ┆          ┆          ┆            │\n",
       "│             ┆          ┆ Relatio…   ┆        ┆   ┆            ┆          ┆          ┆            │\n",
       "│ 5.15.2023   ┆ Bachelor ┆ Internatio ┆ Female ┆ … ┆ Neutral    ┆ Disagree ┆ Disagree ┆ null       │\n",
       "│ 8:45:52     ┆          ┆ nal        ┆        ┆   ┆            ┆          ┆          ┆            │\n",
       "│             ┆          ┆ Economic   ┆        ┆   ┆            ┆          ┆          ┆            │\n",
       "│             ┆          ┆ Relatio…   ┆        ┆   ┆            ┆          ┆          ┆            │\n",
       "│ 5.15.2023   ┆ Bachelor ┆ Internatio ┆ Female ┆ … ┆ Disagree   ┆ Disagree ┆ Neutral  ┆ null       │\n",
       "│ 9:54:15     ┆          ┆ nal        ┆        ┆   ┆            ┆          ┆          ┆            │\n",
       "│             ┆          ┆ Economic   ┆        ┆   ┆            ┆          ┆          ┆            │\n",
       "│             ┆          ┆ Relatio…   ┆        ┆   ┆            ┆          ┆          ┆            │\n",
       "│ 5.15.2023   ┆ Bachelor ┆ Internatio ┆ Female ┆ … ┆ Neutral    ┆ Agree    ┆ Agree    ┆ null       │\n",
       "│ 15:17:41    ┆          ┆ nal        ┆        ┆   ┆            ┆          ┆          ┆            │\n",
       "│             ┆          ┆ Economic   ┆        ┆   ┆            ┆          ┆          ┆            │\n",
       "│             ┆          ┆ Relatio…   ┆        ┆   ┆            ┆          ┆          ┆            │\n",
       "│ 5.15.2023   ┆ Bachelor ┆ Internatio ┆ Female ┆ … ┆ Neutral    ┆ Neutral  ┆ Neutral  ┆ null       │\n",
       "│ 15:19:02    ┆          ┆ nal        ┆        ┆   ┆            ┆          ┆          ┆            │\n",
       "│             ┆          ┆ Economic   ┆        ┆   ┆            ┆          ┆          ┆            │\n",
       "│             ┆          ┆ Relatio…   ┆        ┆   ┆            ┆          ┆          ┆            │\n",
       "│ …           ┆ …        ┆ …          ┆ …      ┆ … ┆ …          ┆ …        ┆ …        ┆ …          │\n",
       "│ 5.26.2023   ┆ Bachelor ┆ Internatio ┆ Female ┆ … ┆ Neutral    ┆ Agree    ┆ Agree    ┆ ChtGPT     │\n",
       "│ 15:44:55    ┆          ┆ nal        ┆        ┆   ┆            ┆          ┆          ┆ helps me a │\n",
       "│             ┆          ┆ Economic   ┆        ┆   ┆            ┆          ┆          ┆ lot in     │\n",
       "│             ┆          ┆ Relatio…   ┆        ┆   ┆            ┆          ┆          ┆ prepa…     │\n",
       "│ 5.26.2023   ┆ Bachelor ┆ Finance    ┆ Female ┆ … ┆ Agree      ┆ Agree    ┆ Agree    ┆ null       │\n",
       "│ 21:43:23    ┆          ┆            ┆        ┆   ┆            ┆          ┆          ┆            │\n",
       "│ 5.27.2023   ┆ Bachelor ┆ Marketing  ┆ Female ┆ … ┆ Neutral    ┆ Agree    ┆ Agree    ┆ null       │\n",
       "│ 10:28:36    ┆          ┆            ┆        ┆   ┆            ┆          ┆          ┆            │\n",
       "│ 5.28.2023   ┆ Bachelor ┆ Public Adm ┆ Male   ┆ … ┆ Neutral    ┆ Neutral  ┆ Neutral  ┆ null       │\n",
       "│ 0:51:54     ┆          ┆ inistratio ┆        ┆   ┆            ┆          ┆          ┆            │\n",
       "│             ┆          ┆ n          ┆        ┆   ┆            ┆          ┆          ┆            │\n",
       "│ 5.31.2023   ┆ Bachelor ┆ Finance    ┆ Female ┆ … ┆ Neutral    ┆ Neutral  ┆ Neutral  ┆ I don't    │\n",
       "│ 17:42:52    ┆          ┆            ┆        ┆   ┆            ┆          ┆          ┆ have any   │\n",
       "└─────────────┴──────────┴────────────┴────────┴───┴────────────┴──────────┴──────────┴────────────┘"
      ],
      "text/html": [
       "<div><style>\n",
       ".dataframe > thead > tr,\n",
       ".dataframe > tbody > tr {\n",
       "  text-align: right;\n",
       "  white-space: pre-wrap;\n",
       "}\n",
       "</style>\n",
       "<small>shape: (131, 34)</small><table border=\"1\" class=\"dataframe\"><thead><tr><th>Timestamp</th><th>Q1</th><th>Q2</th><th>Q3</th><th>Q4</th><th>Q5.1</th><th>Q5.2</th><th>Q5.3</th><th>Q5.4</th><th>Q5.5</th><th>Q5.6</th><th>Q6.1</th><th>Q6.2</th><th>Q6.3</th><th>Q6.4</th><th>Q6.5</th><th>Q6.6</th><th>Q6.7</th><th>Q6.8</th><th>Q7.1</th><th>Q7.2</th><th>Q7.3</th><th>Q7.4</th><th>Q8.1</th><th>Q8.2</th><th>Q8.3</th><th>Q8.4</th><th>Q8.5</th><th>Q9.1</th><th>Q9.2</th><th>Q9.3</th><th>Q9.4</th><th>Q9.5</th><th>Q10</th></tr><tr><td>str</td><td>str</td><td>str</td><td>str</td><td>str</td><td>str</td><td>str</td><td>str</td><td>str</td><td>str</td><td>str</td><td>str</td><td>str</td><td>str</td><td>str</td><td>str</td><td>str</td><td>str</td><td>str</td><td>str</td><td>str</td><td>str</td><td>str</td><td>str</td><td>str</td><td>str</td><td>str</td><td>str</td><td>str</td><td>str</td><td>str</td><td>str</td><td>str</td><td>str</td></tr></thead><tbody><tr><td>&quot;5.14.2023 21:22:19&quot;</td><td>&quot;Master&quot;</td><td>&quot;International Economic Relatio…</td><td>&quot;Female&quot;</td><td>&quot;Îften&quot;</td><td>&quot;Agree&quot;</td><td>&quot;Agree&quot;</td><td>&quot;Strongly Agree&quot;</td><td>&quot;Strongly Agree&quot;</td><td>&quot;Agree&quot;</td><td>&quot;Neutral&quot;</td><td>&quot;Agree&quot;</td><td>&quot;Strongly Agree&quot;</td><td>&quot;Neutral&quot;</td><td>&quot;Agree&quot;</td><td>&quot;Strongly Agree&quot;</td><td>&quot;Strongly Agree&quot;</td><td>&quot;Strongly Agree&quot;</td><td>&quot;Disagree&quot;</td><td>&quot;Neutral&quot;</td><td>&quot;Disagree&quot;</td><td>&quot;Agree&quot;</td><td>&quot;Strongly Agree&quot;</td><td>&quot;Agree&quot;</td><td>&quot;Strongly Agree&quot;</td><td>&quot;Strongly Agree&quot;</td><td>&quot;Agree&quot;</td><td>&quot;Strongly Agree&quot;</td><td>&quot;Agree&quot;</td><td>&quot;Strongly Agree&quot;</td><td>&quot;Strongly Agree&quot;</td><td>&quot;Agree&quot;</td><td>&quot;Agree&quot;</td><td>null</td></tr><tr><td>&quot;5.15.2023 8:45:52&quot;</td><td>&quot;Bachelor&quot;</td><td>&quot;International Economic Relatio…</td><td>&quot;Female&quot;</td><td>&quot;Sometimes&quot;</td><td>&quot;Disagree&quot;</td><td>&quot;Agree&quot;</td><td>&quot;Disagree&quot;</td><td>&quot;Strongly Disagree&quot;</td><td>&quot;Neutral&quot;</td><td>&quot;Agree&quot;</td><td>&quot;Strongly Agree&quot;</td><td>&quot;Neutral&quot;</td><td>&quot;Agree&quot;</td><td>&quot;Strongly Agree&quot;</td><td>&quot;Strongly Agree&quot;</td><td>&quot;Agree&quot;</td><td>&quot;Strongly Agree&quot;</td><td>&quot;Agree&quot;</td><td>&quot;Neutral&quot;</td><td>&quot;Neutral&quot;</td><td>&quot;Disagree&quot;</td><td>&quot;Strongly Disagree&quot;</td><td>&quot;Agree&quot;</td><td>&quot;Agree&quot;</td><td>&quot;Agree&quot;</td><td>&quot;Disagree&quot;</td><td>&quot;Neutral&quot;</td><td>&quot;Neutral&quot;</td><td>&quot;Agree&quot;</td><td>&quot;Neutral&quot;</td><td>&quot;Disagree&quot;</td><td>&quot;Disagree&quot;</td><td>null</td></tr><tr><td>&quot;5.15.2023 9:54:15&quot;</td><td>&quot;Bachelor&quot;</td><td>&quot;International Economic Relatio…</td><td>&quot;Female&quot;</td><td>&quot;Rarely&quot;</td><td>&quot;Neutral&quot;</td><td>&quot;Neutral&quot;</td><td>&quot;Neutral&quot;</td><td>&quot;Disagree&quot;</td><td>&quot;Neutral&quot;</td><td>&quot;Agree&quot;</td><td>&quot;Neutral&quot;</td><td>&quot;Neutral&quot;</td><td>&quot;Agree&quot;</td><td>&quot;Agree&quot;</td><td>&quot;Disagree&quot;</td><td>&quot;Agree&quot;</td><td>&quot;Agree&quot;</td><td>&quot;Agree&quot;</td><td>&quot;Disagree&quot;</td><td>&quot;Disagree&quot;</td><td>&quot;Disagree&quot;</td><td>&quot;Strongly Disagree&quot;</td><td>&quot;Agree&quot;</td><td>&quot;Agree&quot;</td><td>&quot;Agree&quot;</td><td>&quot;Neutral&quot;</td><td>&quot;Neutral&quot;</td><td>&quot;Neutral&quot;</td><td>&quot;Neutral&quot;</td><td>&quot;Disagree&quot;</td><td>&quot;Disagree&quot;</td><td>&quot;Neutral&quot;</td><td>null</td></tr><tr><td>&quot;5.15.2023 15:17:41&quot;</td><td>&quot;Bachelor&quot;</td><td>&quot;International Economic Relatio…</td><td>&quot;Female&quot;</td><td>&quot;Rarely&quot;</td><td>&quot;Agree&quot;</td><td>&quot;Agree&quot;</td><td>&quot;Agree&quot;</td><td>&quot;Disagree&quot;</td><td>&quot;Agree&quot;</td><td>&quot;Agree&quot;</td><td>&quot;Strongly Agree&quot;</td><td>&quot;Neutral&quot;</td><td>&quot;Agree&quot;</td><td>&quot;Strongly Agree&quot;</td><td>&quot;Neutral&quot;</td><td>&quot;Agree&quot;</td><td>&quot;Strongly Agree&quot;</td><td>&quot;Agree&quot;</td><td>&quot;Agree&quot;</td><td>&quot;Agree&quot;</td><td>&quot;Disagree&quot;</td><td>&quot;Agree&quot;</td><td>&quot;Agree&quot;</td><td>&quot;Agree&quot;</td><td>&quot;Agree&quot;</td><td>&quot;Agree&quot;</td><td>&quot;Agree&quot;</td><td>&quot;Agree&quot;</td><td>&quot;Agree&quot;</td><td>&quot;Neutral&quot;</td><td>&quot;Agree&quot;</td><td>&quot;Agree&quot;</td><td>null</td></tr><tr><td>&quot;5.15.2023 15:19:02&quot;</td><td>&quot;Bachelor&quot;</td><td>&quot;International Economic Relatio…</td><td>&quot;Female&quot;</td><td>&quot;Sometimes&quot;</td><td>&quot;Agree&quot;</td><td>&quot;Agree&quot;</td><td>&quot;Neutral&quot;</td><td>&quot;Disagree&quot;</td><td>&quot;Agree&quot;</td><td>&quot;Agree&quot;</td><td>&quot;Agree&quot;</td><td>&quot;Agree&quot;</td><td>&quot;Agree&quot;</td><td>&quot;Agree&quot;</td><td>&quot;Neutral&quot;</td><td>&quot;Neutral&quot;</td><td>&quot;Agree&quot;</td><td>&quot;Agree&quot;</td><td>&quot;Neutral&quot;</td><td>&quot;Disagree&quot;</td><td>&quot;Agree&quot;</td><td>&quot;Neutral&quot;</td><td>&quot;Neutral&quot;</td><td>&quot;Agree&quot;</td><td>&quot;Agree&quot;</td><td>&quot;Neutral&quot;</td><td>&quot;Neutral&quot;</td><td>&quot;Neutral&quot;</td><td>&quot;Neutral&quot;</td><td>&quot;Neutral&quot;</td><td>&quot;Neutral&quot;</td><td>&quot;Neutral&quot;</td><td>null</td></tr><tr><td>&hellip;</td><td>&hellip;</td><td>&hellip;</td><td>&hellip;</td><td>&hellip;</td><td>&hellip;</td><td>&hellip;</td><td>&hellip;</td><td>&hellip;</td><td>&hellip;</td><td>&hellip;</td><td>&hellip;</td><td>&hellip;</td><td>&hellip;</td><td>&hellip;</td><td>&hellip;</td><td>&hellip;</td><td>&hellip;</td><td>&hellip;</td><td>&hellip;</td><td>&hellip;</td><td>&hellip;</td><td>&hellip;</td><td>&hellip;</td><td>&hellip;</td><td>&hellip;</td><td>&hellip;</td><td>&hellip;</td><td>&hellip;</td><td>&hellip;</td><td>&hellip;</td><td>&hellip;</td><td>&hellip;</td><td>&hellip;</td></tr><tr><td>&quot;5.26.2023 15:44:55&quot;</td><td>&quot;Bachelor&quot;</td><td>&quot;International Economic Relatio…</td><td>&quot;Female&quot;</td><td>&quot;Îften&quot;</td><td>&quot;Agree&quot;</td><td>&quot;Neutral&quot;</td><td>&quot;Agree&quot;</td><td>&quot;Agree&quot;</td><td>&quot;Agree&quot;</td><td>&quot;Agree&quot;</td><td>&quot;Agree&quot;</td><td>&quot;Agree&quot;</td><td>&quot;Agree&quot;</td><td>&quot;Agree&quot;</td><td>&quot;Agree&quot;</td><td>&quot;Agree&quot;</td><td>&quot;Disagree&quot;</td><td>&quot;Agree&quot;</td><td>&quot;Disagree&quot;</td><td>&quot;Neutral&quot;</td><td>&quot;Neutral&quot;</td><td>&quot;Agree&quot;</td><td>&quot;Agree&quot;</td><td>&quot;Agree&quot;</td><td>&quot;Agree&quot;</td><td>&quot;Disagree&quot;</td><td>&quot;Neutral&quot;</td><td>&quot;Neutral&quot;</td><td>&quot;Agree&quot;</td><td>&quot;Neutral&quot;</td><td>&quot;Agree&quot;</td><td>&quot;Agree&quot;</td><td>&quot;ChtGPT helps me a lot in prepa…</td></tr><tr><td>&quot;5.26.2023 21:43:23&quot;</td><td>&quot;Bachelor&quot;</td><td>&quot;Finance &quot;</td><td>&quot;Female&quot;</td><td>&quot;Never&quot;</td><td>&quot;Neutral&quot;</td><td>&quot;Neutral&quot;</td><td>&quot;Disagree&quot;</td><td>&quot;Disagree&quot;</td><td>&quot;Neutral&quot;</td><td>&quot;Disagree&quot;</td><td>&quot;Agree&quot;</td><td>&quot;Agree&quot;</td><td>&quot;Agree&quot;</td><td>&quot;Agree&quot;</td><td>&quot;Agree&quot;</td><td>&quot;Agree&quot;</td><td>&quot;Agree&quot;</td><td>&quot;Agree&quot;</td><td>&quot;Disagree&quot;</td><td>&quot;Disagree&quot;</td><td>&quot;Disagree&quot;</td><td>&quot;Disagree&quot;</td><td>&quot;Agree&quot;</td><td>&quot;Agree&quot;</td><td>&quot;Agree&quot;</td><td>&quot;Agree&quot;</td><td>&quot;Agree&quot;</td><td>&quot;Agree&quot;</td><td>&quot;Agree&quot;</td><td>&quot;Agree&quot;</td><td>&quot;Agree&quot;</td><td>&quot;Agree&quot;</td><td>null</td></tr><tr><td>&quot;5.27.2023 10:28:36&quot;</td><td>&quot;Bachelor&quot;</td><td>&quot;Marketing&quot;</td><td>&quot;Female&quot;</td><td>&quot;Very often&quot;</td><td>&quot;Agree&quot;</td><td>&quot;Agree&quot;</td><td>&quot;Neutral&quot;</td><td>&quot;Neutral&quot;</td><td>&quot;Neutral&quot;</td><td>&quot;Neutral&quot;</td><td>&quot;Strongly Agree&quot;</td><td>&quot;Strongly Agree&quot;</td><td>&quot;Strongly Agree&quot;</td><td>&quot;Strongly Agree&quot;</td><td>&quot;Agree&quot;</td><td>&quot;Strongly Agree&quot;</td><td>&quot;Strongly Agree&quot;</td><td>&quot;Strongly Agree&quot;</td><td>&quot;Disagree&quot;</td><td>&quot;Disagree&quot;</td><td>&quot;Disagree&quot;</td><td>&quot;Disagree&quot;</td><td>&quot;Strongly Agree&quot;</td><td>&quot;Strongly Agree&quot;</td><td>&quot;Strongly Agree&quot;</td><td>&quot;Agree&quot;</td><td>&quot;Agree&quot;</td><td>&quot;Disagree&quot;</td><td>&quot;Agree&quot;</td><td>&quot;Neutral&quot;</td><td>&quot;Agree&quot;</td><td>&quot;Agree&quot;</td><td>null</td></tr><tr><td>&quot;5.28.2023 0:51:54&quot;</td><td>&quot;Bachelor&quot;</td><td>&quot;Public Administration&quot;</td><td>&quot;Male&quot;</td><td>&quot;Îften&quot;</td><td>&quot;Agree&quot;</td><td>&quot;Agree&quot;</td><td>&quot;Agree&quot;</td><td>&quot;Agree&quot;</td><td>&quot;Neutral&quot;</td><td>&quot;Neutral&quot;</td><td>&quot;Agree&quot;</td><td>&quot;Neutral&quot;</td><td>&quot;Agree&quot;</td><td>&quot;Strongly Agree&quot;</td><td>&quot;Agree&quot;</td><td>&quot;Neutral&quot;</td><td>&quot;Strongly Agree&quot;</td><td>&quot;Strongly Agree&quot;</td><td>&quot;Disagree&quot;</td><td>&quot;Strongly Agree&quot;</td><td>&quot;Neutral&quot;</td><td>&quot;Strongly Agree&quot;</td><td>&quot;Strongly Agree&quot;</td><td>&quot;Agree&quot;</td><td>&quot;Agree&quot;</td><td>&quot;Agree&quot;</td><td>&quot;Agree&quot;</td><td>&quot;Disagree&quot;</td><td>&quot;Neutral&quot;</td><td>&quot;Neutral&quot;</td><td>&quot;Neutral&quot;</td><td>&quot;Neutral&quot;</td><td>null</td></tr><tr><td>&quot;5.31.2023 17:42:52&quot;</td><td>&quot;Bachelor&quot;</td><td>&quot;Finance&quot;</td><td>&quot;Female&quot;</td><td>&quot;Rarely&quot;</td><td>&quot;Neutral&quot;</td><td>&quot;Neutral&quot;</td><td>&quot;Neutral&quot;</td><td>&quot;Neutral&quot;</td><td>&quot;Neutral&quot;</td><td>&quot;Neutral&quot;</td><td>&quot;Neutral&quot;</td><td>&quot;Neutral&quot;</td><td>&quot;Neutral&quot;</td><td>&quot;Neutral&quot;</td><td>&quot;Neutral&quot;</td><td>&quot;Neutral&quot;</td><td>&quot;Neutral&quot;</td><td>&quot;Neutral&quot;</td><td>&quot;Neutral&quot;</td><td>&quot;Neutral&quot;</td><td>&quot;Neutral&quot;</td><td>&quot;Neutral&quot;</td><td>&quot;Neutral&quot;</td><td>&quot;Neutral&quot;</td><td>&quot;Neutral&quot;</td><td>&quot;Neutral&quot;</td><td>&quot;Neutral&quot;</td><td>&quot;Neutral&quot;</td><td>&quot;Neutral&quot;</td><td>&quot;Neutral&quot;</td><td>&quot;Neutral&quot;</td><td>&quot;Neutral&quot;</td><td>&quot;I don&#x27;t have any&quot;</td></tr></tbody></table></div>"
      ]
     },
     "execution_count": 47,
     "metadata": {},
     "output_type": "execute_result"
    }
   ],
   "execution_count": 47
  },
  {
   "metadata": {
    "ExecuteTime": {
     "end_time": "2024-09-17T18:43:37.423951Z",
     "start_time": "2024-09-17T18:43:37.416296Z"
    }
   },
   "cell_type": "code",
   "source": [
    "pl_data = pl_data.with_columns(\n",
    "    # pl.col('Timestamp').str.strptime(pl.Datetime, '%m.%d.%Y %H:%M:%S').alias('Timestamp'),\n",
    "    pl.col('Q2').str.strip_chars_end(' ').str.strip_chars_start(' ').alias('Q2'),\n",
    "    pl.col('Q4').str.replace(\"Îften\", \"Often\").alias('Q4'),\n",
    "    pl.col('Q10').fill_null('No answer').alias('Q10'),\n",
    ")\n",
    "pl_data"
   ],
   "id": "90f82b620c61f641",
   "outputs": [
    {
     "data": {
      "text/plain": [
       "shape: (131, 34)\n",
       "┌─────────────┬──────────┬────────────┬────────┬───┬────────────┬──────────┬──────────┬────────────┐\n",
       "│ Timestamp   ┆ Q1       ┆ Q2         ┆ Q3     ┆ … ┆ Q9.3       ┆ Q9.4     ┆ Q9.5     ┆ Q10        │\n",
       "│ ---         ┆ ---      ┆ ---        ┆ ---    ┆   ┆ ---        ┆ ---      ┆ ---      ┆ ---        │\n",
       "│ str         ┆ str      ┆ str        ┆ str    ┆   ┆ str        ┆ str      ┆ str      ┆ str        │\n",
       "╞═════════════╪══════════╪════════════╪════════╪═══╪════════════╪══════════╪══════════╪════════════╡\n",
       "│ 5.14.2023   ┆ Master   ┆ Internatio ┆ Female ┆ … ┆ Strongly   ┆ Agree    ┆ Agree    ┆ No answer  │\n",
       "│ 21:22:19    ┆          ┆ nal        ┆        ┆   ┆ Agree      ┆          ┆          ┆            │\n",
       "│             ┆          ┆ Economic   ┆        ┆   ┆            ┆          ┆          ┆            │\n",
       "│             ┆          ┆ Relatio…   ┆        ┆   ┆            ┆          ┆          ┆            │\n",
       "│ 5.15.2023   ┆ Bachelor ┆ Internatio ┆ Female ┆ … ┆ Neutral    ┆ Disagree ┆ Disagree ┆ No answer  │\n",
       "│ 8:45:52     ┆          ┆ nal        ┆        ┆   ┆            ┆          ┆          ┆            │\n",
       "│             ┆          ┆ Economic   ┆        ┆   ┆            ┆          ┆          ┆            │\n",
       "│             ┆          ┆ Relatio…   ┆        ┆   ┆            ┆          ┆          ┆            │\n",
       "│ 5.15.2023   ┆ Bachelor ┆ Internatio ┆ Female ┆ … ┆ Disagree   ┆ Disagree ┆ Neutral  ┆ No answer  │\n",
       "│ 9:54:15     ┆          ┆ nal        ┆        ┆   ┆            ┆          ┆          ┆            │\n",
       "│             ┆          ┆ Economic   ┆        ┆   ┆            ┆          ┆          ┆            │\n",
       "│             ┆          ┆ Relatio…   ┆        ┆   ┆            ┆          ┆          ┆            │\n",
       "│ 5.15.2023   ┆ Bachelor ┆ Internatio ┆ Female ┆ … ┆ Neutral    ┆ Agree    ┆ Agree    ┆ No answer  │\n",
       "│ 15:17:41    ┆          ┆ nal        ┆        ┆   ┆            ┆          ┆          ┆            │\n",
       "│             ┆          ┆ Economic   ┆        ┆   ┆            ┆          ┆          ┆            │\n",
       "│             ┆          ┆ Relatio…   ┆        ┆   ┆            ┆          ┆          ┆            │\n",
       "│ 5.15.2023   ┆ Bachelor ┆ Internatio ┆ Female ┆ … ┆ Neutral    ┆ Neutral  ┆ Neutral  ┆ No answer  │\n",
       "│ 15:19:02    ┆          ┆ nal        ┆        ┆   ┆            ┆          ┆          ┆            │\n",
       "│             ┆          ┆ Economic   ┆        ┆   ┆            ┆          ┆          ┆            │\n",
       "│             ┆          ┆ Relatio…   ┆        ┆   ┆            ┆          ┆          ┆            │\n",
       "│ …           ┆ …        ┆ …          ┆ …      ┆ … ┆ …          ┆ …        ┆ …        ┆ …          │\n",
       "│ 5.26.2023   ┆ Bachelor ┆ Internatio ┆ Female ┆ … ┆ Neutral    ┆ Agree    ┆ Agree    ┆ ChtGPT     │\n",
       "│ 15:44:55    ┆          ┆ nal        ┆        ┆   ┆            ┆          ┆          ┆ helps me a │\n",
       "│             ┆          ┆ Economic   ┆        ┆   ┆            ┆          ┆          ┆ lot in     │\n",
       "│             ┆          ┆ Relatio…   ┆        ┆   ┆            ┆          ┆          ┆ prepa…     │\n",
       "│ 5.26.2023   ┆ Bachelor ┆ Finance    ┆ Female ┆ … ┆ Agree      ┆ Agree    ┆ Agree    ┆ No answer  │\n",
       "│ 21:43:23    ┆          ┆            ┆        ┆   ┆            ┆          ┆          ┆            │\n",
       "│ 5.27.2023   ┆ Bachelor ┆ Marketing  ┆ Female ┆ … ┆ Neutral    ┆ Agree    ┆ Agree    ┆ No answer  │\n",
       "│ 10:28:36    ┆          ┆            ┆        ┆   ┆            ┆          ┆          ┆            │\n",
       "│ 5.28.2023   ┆ Bachelor ┆ Public Adm ┆ Male   ┆ … ┆ Neutral    ┆ Neutral  ┆ Neutral  ┆ No answer  │\n",
       "│ 0:51:54     ┆          ┆ inistratio ┆        ┆   ┆            ┆          ┆          ┆            │\n",
       "│             ┆          ┆ n          ┆        ┆   ┆            ┆          ┆          ┆            │\n",
       "│ 5.31.2023   ┆ Bachelor ┆ Finance    ┆ Female ┆ … ┆ Neutral    ┆ Neutral  ┆ Neutral  ┆ I don't    │\n",
       "│ 17:42:52    ┆          ┆            ┆        ┆   ┆            ┆          ┆          ┆ have any   │\n",
       "└─────────────┴──────────┴────────────┴────────┴───┴────────────┴──────────┴──────────┴────────────┘"
      ],
      "text/html": [
       "<div><style>\n",
       ".dataframe > thead > tr,\n",
       ".dataframe > tbody > tr {\n",
       "  text-align: right;\n",
       "  white-space: pre-wrap;\n",
       "}\n",
       "</style>\n",
       "<small>shape: (131, 34)</small><table border=\"1\" class=\"dataframe\"><thead><tr><th>Timestamp</th><th>Q1</th><th>Q2</th><th>Q3</th><th>Q4</th><th>Q5.1</th><th>Q5.2</th><th>Q5.3</th><th>Q5.4</th><th>Q5.5</th><th>Q5.6</th><th>Q6.1</th><th>Q6.2</th><th>Q6.3</th><th>Q6.4</th><th>Q6.5</th><th>Q6.6</th><th>Q6.7</th><th>Q6.8</th><th>Q7.1</th><th>Q7.2</th><th>Q7.3</th><th>Q7.4</th><th>Q8.1</th><th>Q8.2</th><th>Q8.3</th><th>Q8.4</th><th>Q8.5</th><th>Q9.1</th><th>Q9.2</th><th>Q9.3</th><th>Q9.4</th><th>Q9.5</th><th>Q10</th></tr><tr><td>str</td><td>str</td><td>str</td><td>str</td><td>str</td><td>str</td><td>str</td><td>str</td><td>str</td><td>str</td><td>str</td><td>str</td><td>str</td><td>str</td><td>str</td><td>str</td><td>str</td><td>str</td><td>str</td><td>str</td><td>str</td><td>str</td><td>str</td><td>str</td><td>str</td><td>str</td><td>str</td><td>str</td><td>str</td><td>str</td><td>str</td><td>str</td><td>str</td><td>str</td></tr></thead><tbody><tr><td>&quot;5.14.2023 21:22:19&quot;</td><td>&quot;Master&quot;</td><td>&quot;International Economic Relatio…</td><td>&quot;Female&quot;</td><td>&quot;Often&quot;</td><td>&quot;Agree&quot;</td><td>&quot;Agree&quot;</td><td>&quot;Strongly Agree&quot;</td><td>&quot;Strongly Agree&quot;</td><td>&quot;Agree&quot;</td><td>&quot;Neutral&quot;</td><td>&quot;Agree&quot;</td><td>&quot;Strongly Agree&quot;</td><td>&quot;Neutral&quot;</td><td>&quot;Agree&quot;</td><td>&quot;Strongly Agree&quot;</td><td>&quot;Strongly Agree&quot;</td><td>&quot;Strongly Agree&quot;</td><td>&quot;Disagree&quot;</td><td>&quot;Neutral&quot;</td><td>&quot;Disagree&quot;</td><td>&quot;Agree&quot;</td><td>&quot;Strongly Agree&quot;</td><td>&quot;Agree&quot;</td><td>&quot;Strongly Agree&quot;</td><td>&quot;Strongly Agree&quot;</td><td>&quot;Agree&quot;</td><td>&quot;Strongly Agree&quot;</td><td>&quot;Agree&quot;</td><td>&quot;Strongly Agree&quot;</td><td>&quot;Strongly Agree&quot;</td><td>&quot;Agree&quot;</td><td>&quot;Agree&quot;</td><td>&quot;No answer&quot;</td></tr><tr><td>&quot;5.15.2023 8:45:52&quot;</td><td>&quot;Bachelor&quot;</td><td>&quot;International Economic Relatio…</td><td>&quot;Female&quot;</td><td>&quot;Sometimes&quot;</td><td>&quot;Disagree&quot;</td><td>&quot;Agree&quot;</td><td>&quot;Disagree&quot;</td><td>&quot;Strongly Disagree&quot;</td><td>&quot;Neutral&quot;</td><td>&quot;Agree&quot;</td><td>&quot;Strongly Agree&quot;</td><td>&quot;Neutral&quot;</td><td>&quot;Agree&quot;</td><td>&quot;Strongly Agree&quot;</td><td>&quot;Strongly Agree&quot;</td><td>&quot;Agree&quot;</td><td>&quot;Strongly Agree&quot;</td><td>&quot;Agree&quot;</td><td>&quot;Neutral&quot;</td><td>&quot;Neutral&quot;</td><td>&quot;Disagree&quot;</td><td>&quot;Strongly Disagree&quot;</td><td>&quot;Agree&quot;</td><td>&quot;Agree&quot;</td><td>&quot;Agree&quot;</td><td>&quot;Disagree&quot;</td><td>&quot;Neutral&quot;</td><td>&quot;Neutral&quot;</td><td>&quot;Agree&quot;</td><td>&quot;Neutral&quot;</td><td>&quot;Disagree&quot;</td><td>&quot;Disagree&quot;</td><td>&quot;No answer&quot;</td></tr><tr><td>&quot;5.15.2023 9:54:15&quot;</td><td>&quot;Bachelor&quot;</td><td>&quot;International Economic Relatio…</td><td>&quot;Female&quot;</td><td>&quot;Rarely&quot;</td><td>&quot;Neutral&quot;</td><td>&quot;Neutral&quot;</td><td>&quot;Neutral&quot;</td><td>&quot;Disagree&quot;</td><td>&quot;Neutral&quot;</td><td>&quot;Agree&quot;</td><td>&quot;Neutral&quot;</td><td>&quot;Neutral&quot;</td><td>&quot;Agree&quot;</td><td>&quot;Agree&quot;</td><td>&quot;Disagree&quot;</td><td>&quot;Agree&quot;</td><td>&quot;Agree&quot;</td><td>&quot;Agree&quot;</td><td>&quot;Disagree&quot;</td><td>&quot;Disagree&quot;</td><td>&quot;Disagree&quot;</td><td>&quot;Strongly Disagree&quot;</td><td>&quot;Agree&quot;</td><td>&quot;Agree&quot;</td><td>&quot;Agree&quot;</td><td>&quot;Neutral&quot;</td><td>&quot;Neutral&quot;</td><td>&quot;Neutral&quot;</td><td>&quot;Neutral&quot;</td><td>&quot;Disagree&quot;</td><td>&quot;Disagree&quot;</td><td>&quot;Neutral&quot;</td><td>&quot;No answer&quot;</td></tr><tr><td>&quot;5.15.2023 15:17:41&quot;</td><td>&quot;Bachelor&quot;</td><td>&quot;International Economic Relatio…</td><td>&quot;Female&quot;</td><td>&quot;Rarely&quot;</td><td>&quot;Agree&quot;</td><td>&quot;Agree&quot;</td><td>&quot;Agree&quot;</td><td>&quot;Disagree&quot;</td><td>&quot;Agree&quot;</td><td>&quot;Agree&quot;</td><td>&quot;Strongly Agree&quot;</td><td>&quot;Neutral&quot;</td><td>&quot;Agree&quot;</td><td>&quot;Strongly Agree&quot;</td><td>&quot;Neutral&quot;</td><td>&quot;Agree&quot;</td><td>&quot;Strongly Agree&quot;</td><td>&quot;Agree&quot;</td><td>&quot;Agree&quot;</td><td>&quot;Agree&quot;</td><td>&quot;Disagree&quot;</td><td>&quot;Agree&quot;</td><td>&quot;Agree&quot;</td><td>&quot;Agree&quot;</td><td>&quot;Agree&quot;</td><td>&quot;Agree&quot;</td><td>&quot;Agree&quot;</td><td>&quot;Agree&quot;</td><td>&quot;Agree&quot;</td><td>&quot;Neutral&quot;</td><td>&quot;Agree&quot;</td><td>&quot;Agree&quot;</td><td>&quot;No answer&quot;</td></tr><tr><td>&quot;5.15.2023 15:19:02&quot;</td><td>&quot;Bachelor&quot;</td><td>&quot;International Economic Relatio…</td><td>&quot;Female&quot;</td><td>&quot;Sometimes&quot;</td><td>&quot;Agree&quot;</td><td>&quot;Agree&quot;</td><td>&quot;Neutral&quot;</td><td>&quot;Disagree&quot;</td><td>&quot;Agree&quot;</td><td>&quot;Agree&quot;</td><td>&quot;Agree&quot;</td><td>&quot;Agree&quot;</td><td>&quot;Agree&quot;</td><td>&quot;Agree&quot;</td><td>&quot;Neutral&quot;</td><td>&quot;Neutral&quot;</td><td>&quot;Agree&quot;</td><td>&quot;Agree&quot;</td><td>&quot;Neutral&quot;</td><td>&quot;Disagree&quot;</td><td>&quot;Agree&quot;</td><td>&quot;Neutral&quot;</td><td>&quot;Neutral&quot;</td><td>&quot;Agree&quot;</td><td>&quot;Agree&quot;</td><td>&quot;Neutral&quot;</td><td>&quot;Neutral&quot;</td><td>&quot;Neutral&quot;</td><td>&quot;Neutral&quot;</td><td>&quot;Neutral&quot;</td><td>&quot;Neutral&quot;</td><td>&quot;Neutral&quot;</td><td>&quot;No answer&quot;</td></tr><tr><td>&hellip;</td><td>&hellip;</td><td>&hellip;</td><td>&hellip;</td><td>&hellip;</td><td>&hellip;</td><td>&hellip;</td><td>&hellip;</td><td>&hellip;</td><td>&hellip;</td><td>&hellip;</td><td>&hellip;</td><td>&hellip;</td><td>&hellip;</td><td>&hellip;</td><td>&hellip;</td><td>&hellip;</td><td>&hellip;</td><td>&hellip;</td><td>&hellip;</td><td>&hellip;</td><td>&hellip;</td><td>&hellip;</td><td>&hellip;</td><td>&hellip;</td><td>&hellip;</td><td>&hellip;</td><td>&hellip;</td><td>&hellip;</td><td>&hellip;</td><td>&hellip;</td><td>&hellip;</td><td>&hellip;</td><td>&hellip;</td></tr><tr><td>&quot;5.26.2023 15:44:55&quot;</td><td>&quot;Bachelor&quot;</td><td>&quot;International Economic Relatio…</td><td>&quot;Female&quot;</td><td>&quot;Often&quot;</td><td>&quot;Agree&quot;</td><td>&quot;Neutral&quot;</td><td>&quot;Agree&quot;</td><td>&quot;Agree&quot;</td><td>&quot;Agree&quot;</td><td>&quot;Agree&quot;</td><td>&quot;Agree&quot;</td><td>&quot;Agree&quot;</td><td>&quot;Agree&quot;</td><td>&quot;Agree&quot;</td><td>&quot;Agree&quot;</td><td>&quot;Agree&quot;</td><td>&quot;Disagree&quot;</td><td>&quot;Agree&quot;</td><td>&quot;Disagree&quot;</td><td>&quot;Neutral&quot;</td><td>&quot;Neutral&quot;</td><td>&quot;Agree&quot;</td><td>&quot;Agree&quot;</td><td>&quot;Agree&quot;</td><td>&quot;Agree&quot;</td><td>&quot;Disagree&quot;</td><td>&quot;Neutral&quot;</td><td>&quot;Neutral&quot;</td><td>&quot;Agree&quot;</td><td>&quot;Neutral&quot;</td><td>&quot;Agree&quot;</td><td>&quot;Agree&quot;</td><td>&quot;ChtGPT helps me a lot in prepa…</td></tr><tr><td>&quot;5.26.2023 21:43:23&quot;</td><td>&quot;Bachelor&quot;</td><td>&quot;Finance&quot;</td><td>&quot;Female&quot;</td><td>&quot;Never&quot;</td><td>&quot;Neutral&quot;</td><td>&quot;Neutral&quot;</td><td>&quot;Disagree&quot;</td><td>&quot;Disagree&quot;</td><td>&quot;Neutral&quot;</td><td>&quot;Disagree&quot;</td><td>&quot;Agree&quot;</td><td>&quot;Agree&quot;</td><td>&quot;Agree&quot;</td><td>&quot;Agree&quot;</td><td>&quot;Agree&quot;</td><td>&quot;Agree&quot;</td><td>&quot;Agree&quot;</td><td>&quot;Agree&quot;</td><td>&quot;Disagree&quot;</td><td>&quot;Disagree&quot;</td><td>&quot;Disagree&quot;</td><td>&quot;Disagree&quot;</td><td>&quot;Agree&quot;</td><td>&quot;Agree&quot;</td><td>&quot;Agree&quot;</td><td>&quot;Agree&quot;</td><td>&quot;Agree&quot;</td><td>&quot;Agree&quot;</td><td>&quot;Agree&quot;</td><td>&quot;Agree&quot;</td><td>&quot;Agree&quot;</td><td>&quot;Agree&quot;</td><td>&quot;No answer&quot;</td></tr><tr><td>&quot;5.27.2023 10:28:36&quot;</td><td>&quot;Bachelor&quot;</td><td>&quot;Marketing&quot;</td><td>&quot;Female&quot;</td><td>&quot;Very often&quot;</td><td>&quot;Agree&quot;</td><td>&quot;Agree&quot;</td><td>&quot;Neutral&quot;</td><td>&quot;Neutral&quot;</td><td>&quot;Neutral&quot;</td><td>&quot;Neutral&quot;</td><td>&quot;Strongly Agree&quot;</td><td>&quot;Strongly Agree&quot;</td><td>&quot;Strongly Agree&quot;</td><td>&quot;Strongly Agree&quot;</td><td>&quot;Agree&quot;</td><td>&quot;Strongly Agree&quot;</td><td>&quot;Strongly Agree&quot;</td><td>&quot;Strongly Agree&quot;</td><td>&quot;Disagree&quot;</td><td>&quot;Disagree&quot;</td><td>&quot;Disagree&quot;</td><td>&quot;Disagree&quot;</td><td>&quot;Strongly Agree&quot;</td><td>&quot;Strongly Agree&quot;</td><td>&quot;Strongly Agree&quot;</td><td>&quot;Agree&quot;</td><td>&quot;Agree&quot;</td><td>&quot;Disagree&quot;</td><td>&quot;Agree&quot;</td><td>&quot;Neutral&quot;</td><td>&quot;Agree&quot;</td><td>&quot;Agree&quot;</td><td>&quot;No answer&quot;</td></tr><tr><td>&quot;5.28.2023 0:51:54&quot;</td><td>&quot;Bachelor&quot;</td><td>&quot;Public Administration&quot;</td><td>&quot;Male&quot;</td><td>&quot;Often&quot;</td><td>&quot;Agree&quot;</td><td>&quot;Agree&quot;</td><td>&quot;Agree&quot;</td><td>&quot;Agree&quot;</td><td>&quot;Neutral&quot;</td><td>&quot;Neutral&quot;</td><td>&quot;Agree&quot;</td><td>&quot;Neutral&quot;</td><td>&quot;Agree&quot;</td><td>&quot;Strongly Agree&quot;</td><td>&quot;Agree&quot;</td><td>&quot;Neutral&quot;</td><td>&quot;Strongly Agree&quot;</td><td>&quot;Strongly Agree&quot;</td><td>&quot;Disagree&quot;</td><td>&quot;Strongly Agree&quot;</td><td>&quot;Neutral&quot;</td><td>&quot;Strongly Agree&quot;</td><td>&quot;Strongly Agree&quot;</td><td>&quot;Agree&quot;</td><td>&quot;Agree&quot;</td><td>&quot;Agree&quot;</td><td>&quot;Agree&quot;</td><td>&quot;Disagree&quot;</td><td>&quot;Neutral&quot;</td><td>&quot;Neutral&quot;</td><td>&quot;Neutral&quot;</td><td>&quot;Neutral&quot;</td><td>&quot;No answer&quot;</td></tr><tr><td>&quot;5.31.2023 17:42:52&quot;</td><td>&quot;Bachelor&quot;</td><td>&quot;Finance&quot;</td><td>&quot;Female&quot;</td><td>&quot;Rarely&quot;</td><td>&quot;Neutral&quot;</td><td>&quot;Neutral&quot;</td><td>&quot;Neutral&quot;</td><td>&quot;Neutral&quot;</td><td>&quot;Neutral&quot;</td><td>&quot;Neutral&quot;</td><td>&quot;Neutral&quot;</td><td>&quot;Neutral&quot;</td><td>&quot;Neutral&quot;</td><td>&quot;Neutral&quot;</td><td>&quot;Neutral&quot;</td><td>&quot;Neutral&quot;</td><td>&quot;Neutral&quot;</td><td>&quot;Neutral&quot;</td><td>&quot;Neutral&quot;</td><td>&quot;Neutral&quot;</td><td>&quot;Neutral&quot;</td><td>&quot;Neutral&quot;</td><td>&quot;Neutral&quot;</td><td>&quot;Neutral&quot;</td><td>&quot;Neutral&quot;</td><td>&quot;Neutral&quot;</td><td>&quot;Neutral&quot;</td><td>&quot;Neutral&quot;</td><td>&quot;Neutral&quot;</td><td>&quot;Neutral&quot;</td><td>&quot;Neutral&quot;</td><td>&quot;Neutral&quot;</td><td>&quot;I don&#x27;t have any&quot;</td></tr></tbody></table></div>"
      ]
     },
     "execution_count": 48,
     "metadata": {},
     "output_type": "execute_result"
    }
   ],
   "execution_count": 48
  },
  {
   "metadata": {
    "ExecuteTime": {
     "end_time": "2024-09-17T18:43:37.553908Z",
     "start_time": "2024-09-17T18:43:37.550200Z"
    }
   },
   "cell_type": "code",
   "source": [
    "# pl_data = pl_data.rename(\n",
    "#     {\n",
    "#       'Timestamp': 'Date',\n",
    "#       'Q1': 'What is your academic level?',\n",
    "#       'Q2': 'What is your major?',\n",
    "#       'Q3': 'What is your gender?',\n",
    "#       'Q4': 'Have you ever used generative AI technologies like ChatGPT?',\n",
    "#       'Q5.1': 'I understand generative AI technologies like ChatGPT have limitations in their ability to handle '\n",
    "#               'complex tasks.',\n",
    "#       'Q5.2': 'I understand generative AI technologies like ChatGPT can generate output that is factually inaccurate',\n",
    "#       'Q5.3': 'I understand generative AI technologies like ChatGPT can generate output that is out of context or '\n",
    "#               'inappropriate',\n",
    "#       'Q5.4': 'I understand generative AI technologies like ChatGPT can exhibit biases and unfairness in their output',\n",
    "#       'Q5.5': 'I understand generative AI technologies like ChatGPT may rely too heavily on statistics, which can '\n",
    "#               'limit their usefulness in certain contexts',\n",
    "#       'Q5.6': 'I understand generative AI technologies like ChatGPT have limited emotional intelligence and empathy, '\n",
    "#               'which can lead to output that is insensitive or inappropriate',\n",
    "#       'Q6.1': 'I envision integrating generative AI technologies like ChatGPT into my teaching and learning practices'\n",
    "#               ' in the future',\n",
    "#       'Q6.2': 'Students must learn how to use generative AI technologies well for their careers',\n",
    "#       'Q6.3': 'I believe generative AI technologies such as ChatGPT can improve my digital competence',\n",
    "#       'Q6.4': 'I believe generative AI technologies such as ChatGPT can help me save time',\n",
    "#       'Q6.5': 'I believe AI technologies such as ChatGPT can provide me with unique insights and perspectives that I '\n",
    "#               'may not have thought of myself',\n",
    "#       'Q6.6': 'I think AI technologies such as ChatGPT can provide me with personalized and immediate feedback and '\n",
    "#               'suggestions for my assignments',\n",
    "#       'Q6.7': 'I think AI technologies such as ChatGPT is a great tool as it is available 24/7',\n",
    "#       'Q6.8': 'I think AI technologies such as ChatGPT is a great tool for student support services due to anonymity',\n",
    "#       'Q7.1': 'Using generative AI technologies such as ChatGPT to complete assignments undermines the value of '\n",
    "#               'university education',\n",
    "#       'Q7.2': 'Generative AI technologies such as ChatGPT will limit my opportunities to interact with others and '\n",
    "#               'socialize while completing coursework',\n",
    "#       'Q7.3': 'Generative AI technologies such as ChatGPT will hinder my development of generic or transferable '\n",
    "#               'skills such as teamwork, problem-solving and leadership skills',\n",
    "#       'Q7.4': 'I can become over-reliant on generative AI technologies',\n",
    "#       'Q8.1': 'Personalized and immediate learning support',\n",
    "#       'Q8.2': 'Writing and brainstorming support',\n",
    "#       'Q8.3': 'Research and analysis support',\n",
    "#       'Q8.4': 'Visual and audio multi-media support',\n",
    "#       'Q8.5': 'Administrative support',\n",
    "#       'Q9.1': 'Accuracy and transparency',\n",
    "#       'Q9.2': 'Privacy and ethical issues',\n",
    "#       'Q9.3': 'Holistic competencies',\n",
    "#       'Q9.4': 'Career prospects',\n",
    "#       'Q9.5': 'Human values',\n",
    "#       'Q10': 'Has ChatGPT transformed your perception of artificial intelligence and intelligent chatbots? What '\n",
    "#              'advantages does it offer you as a student? Are there any disadvantages or limitations you have '\n",
    "#              'experienced'\n",
    "#      }\n",
    "# )"
   ],
   "id": "e01dca75d9e44c87",
   "outputs": [],
   "execution_count": 49
  },
  {
   "metadata": {
    "ExecuteTime": {
     "end_time": "2024-09-17T18:43:37.903345Z",
     "start_time": "2024-09-17T18:43:37.898704Z"
    }
   },
   "cell_type": "code",
   "source": "print(sns.palettes.SEABORN_PALETTES)",
   "id": "7fb45d589cdd8a68",
   "outputs": [
    {
     "name": "stdout",
     "output_type": "stream",
     "text": [
      "{'deep': ['#4C72B0', '#DD8452', '#55A868', '#C44E52', '#8172B3', '#937860', '#DA8BC3', '#8C8C8C', '#CCB974', '#64B5CD'], 'deep6': ['#4C72B0', '#55A868', '#C44E52', '#8172B3', '#CCB974', '#64B5CD'], 'muted': ['#4878D0', '#EE854A', '#6ACC64', '#D65F5F', '#956CB4', '#8C613C', '#DC7EC0', '#797979', '#D5BB67', '#82C6E2'], 'muted6': ['#4878D0', '#6ACC64', '#D65F5F', '#956CB4', '#D5BB67', '#82C6E2'], 'pastel': ['#A1C9F4', '#FFB482', '#8DE5A1', '#FF9F9B', '#D0BBFF', '#DEBB9B', '#FAB0E4', '#CFCFCF', '#FFFEA3', '#B9F2F0'], 'pastel6': ['#A1C9F4', '#8DE5A1', '#FF9F9B', '#D0BBFF', '#FFFEA3', '#B9F2F0'], 'bright': ['#023EFF', '#FF7C00', '#1AC938', '#E8000B', '#8B2BE2', '#9F4800', '#F14CC1', '#A3A3A3', '#FFC400', '#00D7FF'], 'bright6': ['#023EFF', '#1AC938', '#E8000B', '#8B2BE2', '#FFC400', '#00D7FF'], 'dark': ['#001C7F', '#B1400D', '#12711C', '#8C0800', '#591E71', '#592F0D', '#A23582', '#3C3C3C', '#B8850A', '#006374'], 'dark6': ['#001C7F', '#12711C', '#8C0800', '#591E71', '#B8850A', '#006374'], 'colorblind': ['#0173B2', '#DE8F05', '#029E73', '#D55E00', '#CC78BC', '#CA9161', '#FBAFE4', '#949494', '#ECE133', '#56B4E9'], 'colorblind6': ['#0173B2', '#029E73', '#D55E00', '#CC78BC', '#ECE133', '#56B4E9']}\n"
     ]
    }
   ],
   "execution_count": 50
  },
  {
   "metadata": {
    "ExecuteTime": {
     "end_time": "2024-09-17T18:43:38.291307Z",
     "start_time": "2024-09-17T18:43:38.216035Z"
    }
   },
   "cell_type": "code",
   "source": [
    "academic_level = pl_data['Q1'].value_counts()\n",
    "academic_level_pandas = academic_level.to_pandas()\n",
    "\n",
    "plt.figure(figsize=(9, 7))\n",
    "\n",
    "plt.pie(\n",
    "    academic_level_pandas['count'], \n",
    "    labels=academic_level_pandas['Q1'], \n",
    "    autopct='%1.1f%%',\n",
    "    colors=sns.color_palette('deep6'),\n",
    "    pctdistance=.8,\n",
    "    textprops={'fontsize': 12},\n",
    "    normalize=True,\n",
    ")\n",
    "\n",
    "legend_label = [\n",
    "    f'{academic_level_pandas[\"Q1\"][number]}: {academic_level_pandas[\"count\"][number]}'\n",
    "    for number in range(len(academic_level_pandas))\n",
    "]\n",
    "\n",
    "plt.title('What is your academic level?', fontsize=20)\n",
    "plt.legend(legend_label, loc='upper right', bbox_to_anchor=(1.5, 1), fontsize=13)"
   ],
   "id": "5b3a9ba619e1e48c",
   "outputs": [
    {
     "data": {
      "text/plain": [
       "<matplotlib.legend.Legend at 0x1675ae12cc0>"
      ]
     },
     "execution_count": 51,
     "metadata": {},
     "output_type": "execute_result"
    },
    {
     "data": {
      "text/plain": [
       "<Figure size 900x700 with 1 Axes>"
      ],
      "image/png": "[encoded data removed]"
     },
     "metadata": {},
     "output_type": "display_data"
    }
   ],
   "execution_count": 51
  },
  {
   "metadata": {
    "ExecuteTime": {
     "end_time": "2024-09-17T18:43:38.438538Z",
     "start_time": "2024-09-17T18:43:38.413783Z"
    }
   },
   "cell_type": "code",
   "source": [
    "q2_count = pl_data['Q2'].value_counts()\n",
    "\n",
    "q2_count = q2_count.group_by(\n",
    "    'Q2'\n",
    ").agg(\n",
    "    pl.col('count').sum().alias('count')\n",
    ").filter(\n",
    "    pl.col('Q2') != \"Ìåíèäæìúíò íà òóðèñòè÷åñêèÿ áèçíåñ\",\n",
    ").sort('Q2')\n",
    "\n",
    "\n",
    "fig = px.pie(\n",
    "    q2_count,\n",
    "    values='count',\n",
    "    names='Q2',\n",
    "    title='What is your major?',\n",
    "    hover_data=['count'],\n",
    "    labels={'count': 'Count'},\n",
    ")\n",
    "\n",
    "fig.update_traces(\n",
    "    textposition='inside',\n",
    "    textinfo='percent+label',\n",
    ")\n",
    "fig.update_layout(width=1000, height=900)\n",
    "\n",
    "fig.show()"
   ],
   "id": "bc29b58f001a1cbc",
   "outputs": [
    {
     "data": {
      "application/vnd.plotly.v1+json": {
       "data": [
        {
         "customdata": [
          [
           26
          ],
          [
           1
          ],
          [
           6
          ],
          [
           2
          ],
          [
           14
          ],
          [
           24
          ],
          [
           1
          ],
          [
           15
          ],
          [
           6
          ],
          [
           31
          ],
          [
           4
          ]
         ],
         "domain": {
          "x": [
           0.0,
           1.0
          ],
          "y": [
           0.0,
           1.0
          ]
         },
         "hovertemplate": "Q2=%{label}<br>Count=%{customdata[0]}<extra></extra>",
         "labels": [
          "Accounting",
          "Accounting and Analysis",
          "Business Management",
          "Economics",
          "Economics and Business",
          "Finance",
          "Geography, Technologies and Entrepreneurship",
          "International Economic Relations",
          "Management in Tourism",
          "Marketing",
          "Public Administration"
         ],
         "legendgroup": "",
         "name": "",
         "showlegend": true,
         "values": [
          26,
          1,
          6,
          2,
          14,
          24,
          1,
          15,
          6,
          31,
          4
         ],
         "type": "pie",
         "textinfo": "percent+label",
         "textposition": "inside"
        }
       ],
       "layout": {
        "template": {
         "data": {
          "histogram2dcontour": [
           {
            "type": "histogram2dcontour",
            "colorbar": {
             "outlinewidth": 0,
             "ticks": ""
            },
            "colorscale": [
             [
              0.0,
              "#0d0887"
             ],
             [
              0.1111111111111111,
              "#46039f"
             ],
             [
              0.2222222222222222,
              "#7201a8"
             ],
             [
              0.3333333333333333,
              "#9c179e"
             ],
             [
              0.4444444444444444,
              "#bd3786"
             ],
             [
              0.5555555555555556,
              "#d8576b"
             ],
             [
              0.6666666666666666,
              "#ed7953"
             ],
             [
              0.7777777777777778,
              "#fb9f3a"
             ],
             [
              0.8888888888888888,
              "#fdca26"
             ],
             [
              1.0,
              "#f0f921"
             ]
            ]
           }
          ],
          "choropleth": [
           {
            "type": "choropleth",
            "colorbar": {
             "outlinewidth": 0,
             "ticks": ""
            }
           }
          ],
          "histogram2d": [
           {
            "type": "histogram2d",
            "colorbar": {
             "outlinewidth": 0,
             "ticks": ""
            },
            "colorscale": [
             [
              0.0,
              "#0d0887"
             ],
             [
              0.1111111111111111,
              "#46039f"
             ],
             [
              0.2222222222222222,
              "#7201a8"
             ],
             [
              0.3333333333333333,
              "#9c179e"
             ],
             [
              0.4444444444444444,
              "#bd3786"
             ],
             [
              0.5555555555555556,
              "#d8576b"
             ],
             [
              0.6666666666666666,
              "#ed7953"
             ],
             [
              0.7777777777777778,
              "#fb9f3a"
             ],
             [
              0.8888888888888888,
              "#fdca26"
             ],
             [
              1.0,
              "#f0f921"
             ]
            ]
           }
          ],
          "heatmap": [
           {
            "type": "heatmap",
            "colorbar": {
             "outlinewidth": 0,
             "ticks": ""
            },
            "colorscale": [
             [
              0.0,
              "#0d0887"
             ],
             [
              0.1111111111111111,
              "#46039f"
             ],
             [
              0.2222222222222222,
              "#7201a8"
             ],
             [
              0.3333333333333333,
              "#9c179e"
             ],
             [
              0.4444444444444444,
              "#bd3786"
             ],
             [
              0.5555555555555556,
              "#d8576b"
             ],
             [
              0.6666666666666666,
              "#ed7953"
             ],
             [
              0.7777777777777778,
              "#fb9f3a"
             ],
             [
              0.8888888888888888,
              "#fdca26"
             ],
             [
              1.0,
              "#f0f921"
             ]
            ]
           }
          ],
          "heatmapgl": [
           {
            "type": "heatmapgl",
            "colorbar": {
             "outlinewidth": 0,
             "ticks": ""
            },
            "colorscale": [
             [
              0.0,
              "#0d0887"
             ],
             [
              0.1111111111111111,
              "#46039f"
             ],
             [
              0.2222222222222222,
              "#7201a8"
             ],
             [
              0.3333333333333333,
              "#9c179e"
             ],
             [
              0.4444444444444444,
              "#bd3786"
             ],
             [
              0.5555555555555556,
              "#d8576b"
             ],
             [
              0.6666666666666666,
              "#ed7953"
             ],
             [
              0.7777777777777778,
              "#fb9f3a"
             ],
             [
              0.8888888888888888,
              "#fdca26"
             ],
             [
              1.0,
              "#f0f921"
             ]
            ]
           }
          ],
          "contourcarpet": [
           {
            "type": "contourcarpet",
            "colorbar": {
             "outlinewidth": 0,
             "ticks": ""
            }
           }
          ],
          "contour": [
           {
            "type": "contour",
            "colorbar": {
             "outlinewidth": 0,
             "ticks": ""
            },
            "colorscale": [
             [
              0.0,
              "#0d0887"
             ],
             [
              0.1111111111111111,
              "#46039f"
             ],
             [
              0.2222222222222222,
              "#7201a8"
             ],
             [
              0.3333333333333333,
              "#9c179e"
             ],
             [
              0.4444444444444444,
              "#bd3786"
             ],
             [
              0.5555555555555556,
              "#d8576b"
             ],
             [
              0.6666666666666666,
              "#ed7953"
             ],
             [
              0.7777777777777778,
              "#fb9f3a"
             ],
             [
              0.8888888888888888,
              "#fdca26"
             ],
             [
              1.0,
              "#f0f921"
             ]
            ]
           }
          ],
          "surface": [
           {
            "type": "surface",
            "colorbar": {
             "outlinewidth": 0,
             "ticks": ""
            },
            "colorscale": [
             [
              0.0,
              "#0d0887"
             ],
             [
              0.1111111111111111,
              "#46039f"
             ],
             [
              0.2222222222222222,
              "#7201a8"
             ],
             [
              0.3333333333333333,
              "#9c179e"
             ],
             [
              0.4444444444444444,
              "#bd3786"
             ],
             [
              0.5555555555555556,
              "#d8576b"
             ],
             [
              0.6666666666666666,
              "#ed7953"
             ],
             [
              0.7777777777777778,
              "#fb9f3a"
             ],
             [
              0.8888888888888888,
              "#fdca26"
             ],
             [
              1.0,
              "#f0f921"
             ]
            ]
           }
          ],
          "mesh3d": [
           {
            "type": "mesh3d",
            "colorbar": {
             "outlinewidth": 0,
             "ticks": ""
            }
           }
          ],
          "scatter": [
           {
            "marker": {
             "line": {
              "color": "#283442"
             }
            },
            "type": "scatter"
           }
          ],
          "parcoords": [
           {
            "type": "parcoords",
            "line": {
             "colorbar": {
              "outlinewidth": 0,
              "ticks": ""
             }
            }
           }
          ],
          "scatterpolargl": [
           {
            "type": "scatterpolargl",
            "marker": {
             "colorbar": {
              "outlinewidth": 0,
              "ticks": ""
             }
            }
           }
          ],
          "bar": [
           {
            "error_x": {
             "color": "#f2f5fa"
            },
            "error_y": {
             "color": "#f2f5fa"
            },
            "marker": {
             "line": {
              "color": "rgb(17,17,17)",
              "width": 0.5
             },
             "pattern": {
              "fillmode": "overlay",
              "size": 10,
              "solidity": 0.2
             }
            },
            "type": "bar"
           }
          ],
          "scattergeo": [
           {
            "type": "scattergeo",
            "marker": {
             "colorbar": {
              "outlinewidth": 0,
              "ticks": ""
             }
            }
           }
          ],
          "scatterpolar": [
           {
            "type": "scatterpolar",
            "marker": {
             "colorbar": {
              "outlinewidth": 0,
              "ticks": ""
             }
            }
           }
          ],
          "histogram": [
           {
            "marker": {
             "pattern": {
              "fillmode": "overlay",
              "size": 10,
              "solidity": 0.2
             }
            },
            "type": "histogram"
           }
          ],
          "scattergl": [
           {
            "marker": {
             "line": {
              "color": "#283442"
             }
            },
            "type": "scattergl"
           }
          ],
          "scatter3d": [
           {
            "type": "scatter3d",
            "line": {
             "colorbar": {
              "outlinewidth": 0,
              "ticks": ""
             }
            },
            "marker": {
             "colorbar": {
              "outlinewidth": 0,
              "ticks": ""
             }
            }
           }
          ],
          "scattermapbox": [
           {
            "type": "scattermapbox",
            "marker": {
             "colorbar": {
              "outlinewidth": 0,
              "ticks": ""
             }
            }
           }
          ],
          "scatterternary": [
           {
            "type": "scatterternary",
            "marker": {
             "colorbar": {
              "outlinewidth": 0,
              "ticks": ""
             }
            }
           }
          ],
          "scattercarpet": [
           {
            "type": "scattercarpet",
            "marker": {
             "colorbar": {
              "outlinewidth": 0,
              "ticks": ""
             }
            }
           }
          ],
          "carpet": [
           {
            "aaxis": {
             "endlinecolor": "#A2B1C6",
             "gridcolor": "#506784",
             "linecolor": "#506784",
             "minorgridcolor": "#506784",
             "startlinecolor": "#A2B1C6"
            },
            "baxis": {
             "endlinecolor": "#A2B1C6",
             "gridcolor": "#506784",
             "linecolor": "#506784",
             "minorgridcolor": "#506784",
             "startlinecolor": "#A2B1C6"
            },
            "type": "carpet"
           }
          ],
          "table": [
           {
            "cells": {
             "fill": {
              "color": "#506784"
             },
             "line": {
              "color": "rgb(17,17,17)"
             }
            },
            "header": {
             "fill": {
              "color": "#2a3f5f"
             },
             "line": {
              "color": "rgb(17,17,17)"
             }
            },
            "type": "table"
           }
          ],
          "barpolar": [
           {
            "marker": {
             "line": {
              "color": "rgb(17,17,17)",
              "width": 0.5
             },
             "pattern": {
              "fillmode": "overlay",
              "size": 10,
              "solidity": 0.2
             }
            },
            "type": "barpolar"
           }
          ],
          "pie": [
           {
            "automargin": true,
            "type": "pie"
           }
          ]
         },
         "layout": {
          "autotypenumbers": "strict",
          "colorway": [
           "#636efa",
           "#EF553B",
           "#00cc96",
           "#ab63fa",
           "#FFA15A",
           "#19d3f3",
           "#FF6692",
           "#B6E880",
           "#FF97FF",
           "#FECB52"
          ],
          "font": {
           "color": "#f2f5fa"
          },
          "hovermode": "closest",
          "hoverlabel": {
           "align": "left"
          },
          "paper_bgcolor": "rgb(17,17,17)",
          "plot_bgcolor": "rgb(17,17,17)",
          "polar": {
           "bgcolor": "rgb(17,17,17)",
           "angularaxis": {
            "gridcolor": "#506784",
            "linecolor": "#506784",
            "ticks": ""
           },
           "radialaxis": {
            "gridcolor": "#506784",
            "linecolor": "#506784",
            "ticks": ""
           }
          },
          "ternary": {
           "bgcolor": "rgb(17,17,17)",
           "aaxis": {
            "gridcolor": "#506784",
            "linecolor": "#506784",
            "ticks": ""
           },
           "baxis": {
            "gridcolor": "#506784",
            "linecolor": "#506784",
            "ticks": ""
           },
           "caxis": {
            "gridcolor": "#506784",
            "linecolor": "#506784",
            "ticks": ""
           }
          },
          "coloraxis": {
           "colorbar": {
            "outlinewidth": 0,
            "ticks": ""
           }
          },
          "colorscale": {
           "sequential": [
            [
             0.0,
             "#0d0887"
            ],
            [
             0.1111111111111111,
             "#46039f"
            ],
            [
             0.2222222222222222,
             "#7201a8"
            ],
            [
             0.3333333333333333,
             "#9c179e"
            ],
            [
             0.4444444444444444,
             "#bd3786"
            ],
            [
             0.5555555555555556,
             "#d8576b"
            ],
            [
             0.6666666666666666,
             "#ed7953"
            ],
            [
             0.7777777777777778,
             "#fb9f3a"
            ],
            [
             0.8888888888888888,
             "#fdca26"
            ],
            [
             1.0,
             "#f0f921"
            ]
           ],
           "sequentialminus": [
            [
             0.0,
             "#0d0887"
            ],
            [
             0.1111111111111111,
             "#46039f"
            ],
            [
             0.2222222222222222,
             "#7201a8"
            ],
            [
             0.3333333333333333,
             "#9c179e"
            ],
            [
             0.4444444444444444,
             "#bd3786"
            ],
            [
             0.5555555555555556,
             "#d8576b"
            ],
            [
             0.6666666666666666,
             "#ed7953"
            ],
            [
             0.7777777777777778,
             "#fb9f3a"
            ],
            [
             0.8888888888888888,
             "#fdca26"
            ],
            [
             1.0,
             "#f0f921"
            ]
           ],
           "diverging": [
            [
             0,
             "#8e0152"
            ],
            [
             0.1,
             "#c51b7d"
            ],
            [
             0.2,
             "#de77ae"
            ],
            [
             0.3,
             "#f1b6da"
            ],
            [
             0.4,
             "#fde0ef"
            ],
            [
             0.5,
             "#f7f7f7"
            ],
            [
             0.6,
             "#e6f5d0"
            ],
            [
             0.7,
             "#b8e186"
            ],
            [
             0.8,
             "#7fbc41"
            ],
            [
             0.9,
             "#4d9221"
            ],
            [
             1,
             "#276419"
            ]
           ]
          },
          "xaxis": {
           "gridcolor": "#283442",
           "linecolor": "#506784",
           "ticks": "",
           "title": {
            "standoff": 15
           },
           "zerolinecolor": "#283442",
           "automargin": true,
           "zerolinewidth": 2
          },
          "yaxis": {
           "gridcolor": "#283442",
           "linecolor": "#506784",
           "ticks": "",
           "title": {
            "standoff": 15
           },
           "zerolinecolor": "#283442",
           "automargin": true,
           "zerolinewidth": 2
          },
          "scene": {
           "xaxis": {
            "backgroundcolor": "rgb(17,17,17)",
            "gridcolor": "#506784",
            "linecolor": "#506784",
            "showbackground": true,
            "ticks": "",
            "zerolinecolor": "#C8D4E3",
            "gridwidth": 2
           },
           "yaxis": {
            "backgroundcolor": "rgb(17,17,17)",
            "gridcolor": "#506784",
            "linecolor": "#506784",
            "showbackground": true,
            "ticks": "",
            "zerolinecolor": "#C8D4E3",
            "gridwidth": 2
           },
           "zaxis": {
            "backgroundcolor": "rgb(17,17,17)",
            "gridcolor": "#506784",
            "linecolor": "#506784",
            "showbackground": true,
            "ticks": "",
            "zerolinecolor": "#C8D4E3",
            "gridwidth": 2
           }
          },
          "shapedefaults": {
           "line": {
            "color": "#f2f5fa"
           }
          },
          "annotationdefaults": {
           "arrowcolor": "#f2f5fa",
           "arrowhead": 0,
           "arrowwidth": 1
          },
          "geo": {
           "bgcolor": "rgb(17,17,17)",
           "landcolor": "rgb(17,17,17)",
           "subunitcolor": "#506784",
           "showland": true,
           "showlakes": true,
           "lakecolor": "rgb(17,17,17)"
          },
          "title": {
           "x": 0.05
          },
          "updatemenudefaults": {
           "bgcolor": "#506784",
           "borderwidth": 0
          },
          "sliderdefaults": {
           "bgcolor": "#C8D4E3",
           "borderwidth": 1,
           "bordercolor": "rgb(17,17,17)",
           "tickwidth": 0
          },
          "mapbox": {
           "style": "dark"
          }
         }
        },
        "legend": {
         "tracegroupgap": 0
        },
        "title": {
         "text": "What is your major?"
        },
        "width": 1000,
        "height": 900
       },
       "config": {
        "plotlyServerURL": "https://plot.ly"
       }
      },
      "text/html": [
       "<div>                            <div id=\"47ae1a59-bd81-47d3-9936-16f9d03dd34d\" class=\"plotly-graph-div\" style=\"height:900px; width:1000px;\"></div>            <script type=\"text/javascript\">                require([\"plotly\"], function(Plotly) {                    window.PLOTLYENV=window.PLOTLYENV || {};                                    if (document.getElementById(\"47ae1a59-bd81-47d3-9936-16f9d03dd34d\")) {                    Plotly.newPlot(                        \"47ae1a59-bd81-47d3-9936-16f9d03dd34d\",                        [{\"customdata\":[[26],[1],[6],[2],[14],[24],[1],[15],[6],[31],[4]],\"domain\":{\"x\":[0.0,1.0],\"y\":[0.0,1.0]},\"hovertemplate\":\"Q2=%{label}\\u003cbr\\u003eCount=%{customdata[0]}\\u003cextra\\u003e\\u003c\\u002fextra\\u003e\",\"labels\":[\"Accounting\",\"Accounting and Analysis\",\"Business Management\",\"Economics\",\"Economics and Business\",\"Finance\",\"Geography, Technologies and Entrepreneurship\",\"International Economic Relations\",\"Management in Tourism\",\"Marketing\",\"Public Administration\"],\"legendgroup\":\"\",\"name\":\"\",\"showlegend\":true,\"values\":[26,1,6,2,14,24,1,15,6,31,4],\"type\":\"pie\",\"textinfo\":\"percent+label\",\"textposition\":\"inside\"}],                        {\"template\":{\"data\":{\"histogram2dcontour\":[{\"type\":\"histogram2dcontour\",\"colorbar\":{\"outlinewidth\":0,\"ticks\":\"\"},\"colorscale\":[[0.0,\"#0d0887\"],[0.1111111111111111,\"#46039f\"],[0.2222222222222222,\"#7201a8\"],[0.3333333333333333,\"#9c179e\"],[0.4444444444444444,\"#bd3786\"],[0.5555555555555556,\"#d8576b\"],[0.6666666666666666,\"#ed7953\"],[0.7777777777777778,\"#fb9f3a\"],[0.8888888888888888,\"#fdca26\"],[1.0,\"#f0f921\"]]}],\"choropleth\":[{\"type\":\"choropleth\",\"colorbar\":{\"outlinewidth\":0,\"ticks\":\"\"}}],\"histogram2d\":[{\"type\":\"histogram2d\",\"colorbar\":{\"outlinewidth\":0,\"ticks\":\"\"},\"colorscale\":[[0.0,\"#0d0887\"],[0.1111111111111111,\"#46039f\"],[0.2222222222222222,\"#7201a8\"],[0.3333333333333333,\"#9c179e\"],[0.4444444444444444,\"#bd3786\"],[0.5555555555555556,\"#d8576b\"],[0.6666666666666666,\"#ed7953\"],[0.7777777777777778,\"#fb9f3a\"],[0.8888888888888888,\"#fdca26\"],[1.0,\"#f0f921\"]]}],\"heatmap\":[{\"type\":\"heatmap\",\"colorbar\":{\"outlinewidth\":0,\"ticks\":\"\"},\"colorscale\":[[0.0,\"#0d0887\"],[0.1111111111111111,\"#46039f\"],[0.2222222222222222,\"#7201a8\"],[0.3333333333333333,\"#9c179e\"],[0.4444444444444444,\"#bd3786\"],[0.5555555555555556,\"#d8576b\"],[0.6666666666666666,\"#ed7953\"],[0.7777777777777778,\"#fb9f3a\"],[0.8888888888888888,\"#fdca26\"],[1.0,\"#f0f921\"]]}],\"heatmapgl\":[{\"type\":\"heatmapgl\",\"colorbar\":{\"outlinewidth\":0,\"ticks\":\"\"},\"colorscale\":[[0.0,\"#0d0887\"],[0.1111111111111111,\"#46039f\"],[0.2222222222222222,\"#7201a8\"],[0.3333333333333333,\"#9c179e\"],[0.4444444444444444,\"#bd3786\"],[0.5555555555555556,\"#d8576b\"],[0.6666666666666666,\"#ed7953\"],[0.7777777777777778,\"#fb9f3a\"],[0.8888888888888888,\"#fdca26\"],[1.0,\"#f0f921\"]]}],\"contourcarpet\":[{\"type\":\"contourcarpet\",\"colorbar\":{\"outlinewidth\":0,\"ticks\":\"\"}}],\"contour\":[{\"type\":\"contour\",\"colorbar\":{\"outlinewidth\":0,\"ticks\":\"\"},\"colorscale\":[[0.0,\"#0d0887\"],[0.1111111111111111,\"#46039f\"],[0.2222222222222222,\"#7201a8\"],[0.3333333333333333,\"#9c179e\"],[0.4444444444444444,\"#bd3786\"],[0.5555555555555556,\"#d8576b\"],[0.6666666666666666,\"#ed7953\"],[0.7777777777777778,\"#fb9f3a\"],[0.8888888888888888,\"#fdca26\"],[1.0,\"#f0f921\"]]}],\"surface\":[{\"type\":\"surface\",\"colorbar\":{\"outlinewidth\":0,\"ticks\":\"\"},\"colorscale\":[[0.0,\"#0d0887\"],[0.1111111111111111,\"#46039f\"],[0.2222222222222222,\"#7201a8\"],[0.3333333333333333,\"#9c179e\"],[0.4444444444444444,\"#bd3786\"],[0.5555555555555556,\"#d8576b\"],[0.6666666666666666,\"#ed7953\"],[0.7777777777777778,\"#fb9f3a\"],[0.8888888888888888,\"#fdca26\"],[1.0,\"#f0f921\"]]}],\"mesh3d\":[{\"type\":\"mesh3d\",\"colorbar\":{\"outlinewidth\":0,\"ticks\":\"\"}}],\"scatter\":[{\"marker\":{\"line\":{\"color\":\"#283442\"}},\"type\":\"scatter\"}],\"parcoords\":[{\"type\":\"parcoords\",\"line\":{\"colorbar\":{\"outlinewidth\":0,\"ticks\":\"\"}}}],\"scatterpolargl\":[{\"type\":\"scatterpolargl\",\"marker\":{\"colorbar\":{\"outlinewidth\":0,\"ticks\":\"\"}}}],\"bar\":[{\"error_x\":{\"color\":\"#f2f5fa\"},\"error_y\":{\"color\":\"#f2f5fa\"},\"marker\":{\"line\":{\"color\":\"rgb(17,17,17)\",\"width\":0.5},\"pattern\":{\"fillmode\":\"overlay\",\"size\":10,\"solidity\":0.2}},\"type\":\"bar\"}],\"scattergeo\":[{\"type\":\"scattergeo\",\"marker\":{\"colorbar\":{\"outlinewidth\":0,\"ticks\":\"\"}}}],\"scatterpolar\":[{\"type\":\"scatterpolar\",\"marker\":{\"colorbar\":{\"outlinewidth\":0,\"ticks\":\"\"}}}],\"histogram\":[{\"marker\":{\"pattern\":{\"fillmode\":\"overlay\",\"size\":10,\"solidity\":0.2}},\"type\":\"histogram\"}],\"scattergl\":[{\"marker\":{\"line\":{\"color\":\"#283442\"}},\"type\":\"scattergl\"}],\"scatter3d\":[{\"type\":\"scatter3d\",\"line\":{\"colorbar\":{\"outlinewidth\":0,\"ticks\":\"\"}},\"marker\":{\"colorbar\":{\"outlinewidth\":0,\"ticks\":\"\"}}}],\"scattermapbox\":[{\"type\":\"scattermapbox\",\"marker\":{\"colorbar\":{\"outlinewidth\":0,\"ticks\":\"\"}}}],\"scatterternary\":[{\"type\":\"scatterternary\",\"marker\":{\"colorbar\":{\"outlinewidth\":0,\"ticks\":\"\"}}}],\"scattercarpet\":[{\"type\":\"scattercarpet\",\"marker\":{\"colorbar\":{\"outlinewidth\":0,\"ticks\":\"\"}}}],\"carpet\":[{\"aaxis\":{\"endlinecolor\":\"#A2B1C6\",\"gridcolor\":\"#506784\",\"linecolor\":\"#506784\",\"minorgridcolor\":\"#506784\",\"startlinecolor\":\"#A2B1C6\"},\"baxis\":{\"endlinecolor\":\"#A2B1C6\",\"gridcolor\":\"#506784\",\"linecolor\":\"#506784\",\"minorgridcolor\":\"#506784\",\"startlinecolor\":\"#A2B1C6\"},\"type\":\"carpet\"}],\"table\":[{\"cells\":{\"fill\":{\"color\":\"#506784\"},\"line\":{\"color\":\"rgb(17,17,17)\"}},\"header\":{\"fill\":{\"color\":\"#2a3f5f\"},\"line\":{\"color\":\"rgb(17,17,17)\"}},\"type\":\"table\"}],\"barpolar\":[{\"marker\":{\"line\":{\"color\":\"rgb(17,17,17)\",\"width\":0.5},\"pattern\":{\"fillmode\":\"overlay\",\"size\":10,\"solidity\":0.2}},\"type\":\"barpolar\"}],\"pie\":[{\"automargin\":true,\"type\":\"pie\"}]},\"layout\":{\"autotypenumbers\":\"strict\",\"colorway\":[\"#636efa\",\"#EF553B\",\"#00cc96\",\"#ab63fa\",\"#FFA15A\",\"#19d3f3\",\"#FF6692\",\"#B6E880\",\"#FF97FF\",\"#FECB52\"],\"font\":{\"color\":\"#f2f5fa\"},\"hovermode\":\"closest\",\"hoverlabel\":{\"align\":\"left\"},\"paper_bgcolor\":\"rgb(17,17,17)\",\"plot_bgcolor\":\"rgb(17,17,17)\",\"polar\":{\"bgcolor\":\"rgb(17,17,17)\",\"angularaxis\":{\"gridcolor\":\"#506784\",\"linecolor\":\"#506784\",\"ticks\":\"\"},\"radialaxis\":{\"gridcolor\":\"#506784\",\"linecolor\":\"#506784\",\"ticks\":\"\"}},\"ternary\":{\"bgcolor\":\"rgb(17,17,17)\",\"aaxis\":{\"gridcolor\":\"#506784\",\"linecolor\":\"#506784\",\"ticks\":\"\"},\"baxis\":{\"gridcolor\":\"#506784\",\"linecolor\":\"#506784\",\"ticks\":\"\"},\"caxis\":{\"gridcolor\":\"#506784\",\"linecolor\":\"#506784\",\"ticks\":\"\"}},\"coloraxis\":{\"colorbar\":{\"outlinewidth\":0,\"ticks\":\"\"}},\"colorscale\":{\"sequential\":[[0.0,\"#0d0887\"],[0.1111111111111111,\"#46039f\"],[0.2222222222222222,\"#7201a8\"],[0.3333333333333333,\"#9c179e\"],[0.4444444444444444,\"#bd3786\"],[0.5555555555555556,\"#d8576b\"],[0.6666666666666666,\"#ed7953\"],[0.7777777777777778,\"#fb9f3a\"],[0.8888888888888888,\"#fdca26\"],[1.0,\"#f0f921\"]],\"sequentialminus\":[[0.0,\"#0d0887\"],[0.1111111111111111,\"#46039f\"],[0.2222222222222222,\"#7201a8\"],[0.3333333333333333,\"#9c179e\"],[0.4444444444444444,\"#bd3786\"],[0.5555555555555556,\"#d8576b\"],[0.6666666666666666,\"#ed7953\"],[0.7777777777777778,\"#fb9f3a\"],[0.8888888888888888,\"#fdca26\"],[1.0,\"#f0f921\"]],\"diverging\":[[0,\"#8e0152\"],[0.1,\"#c51b7d\"],[0.2,\"#de77ae\"],[0.3,\"#f1b6da\"],[0.4,\"#fde0ef\"],[0.5,\"#f7f7f7\"],[0.6,\"#e6f5d0\"],[0.7,\"#b8e186\"],[0.8,\"#7fbc41\"],[0.9,\"#4d9221\"],[1,\"#276419\"]]},\"xaxis\":{\"gridcolor\":\"#283442\",\"linecolor\":\"#506784\",\"ticks\":\"\",\"title\":{\"standoff\":15},\"zerolinecolor\":\"#283442\",\"automargin\":true,\"zerolinewidth\":2},\"yaxis\":{\"gridcolor\":\"#283442\",\"linecolor\":\"#506784\",\"ticks\":\"\",\"title\":{\"standoff\":15},\"zerolinecolor\":\"#283442\",\"automargin\":true,\"zerolinewidth\":2},\"scene\":{\"xaxis\":{\"backgroundcolor\":\"rgb(17,17,17)\",\"gridcolor\":\"#506784\",\"linecolor\":\"#506784\",\"showbackground\":true,\"ticks\":\"\",\"zerolinecolor\":\"#C8D4E3\",\"gridwidth\":2},\"yaxis\":{\"backgroundcolor\":\"rgb(17,17,17)\",\"gridcolor\":\"#506784\",\"linecolor\":\"#506784\",\"showbackground\":true,\"ticks\":\"\",\"zerolinecolor\":\"#C8D4E3\",\"gridwidth\":2},\"zaxis\":{\"backgroundcolor\":\"rgb(17,17,17)\",\"gridcolor\":\"#506784\",\"linecolor\":\"#506784\",\"showbackground\":true,\"ticks\":\"\",\"zerolinecolor\":\"#C8D4E3\",\"gridwidth\":2}},\"shapedefaults\":{\"line\":{\"color\":\"#f2f5fa\"}},\"annotationdefaults\":{\"arrowcolor\":\"#f2f5fa\",\"arrowhead\":0,\"arrowwidth\":1},\"geo\":{\"bgcolor\":\"rgb(17,17,17)\",\"landcolor\":\"rgb(17,17,17)\",\"subunitcolor\":\"#506784\",\"showland\":true,\"showlakes\":true,\"lakecolor\":\"rgb(17,17,17)\"},\"title\":{\"x\":0.05},\"updatemenudefaults\":{\"bgcolor\":\"#506784\",\"borderwidth\":0},\"sliderdefaults\":{\"bgcolor\":\"#C8D4E3\",\"borderwidth\":1,\"bordercolor\":\"rgb(17,17,17)\",\"tickwidth\":0},\"mapbox\":{\"style\":\"dark\"}}},\"legend\":{\"tracegroupgap\":0},\"title\":{\"text\":\"What is your major?\"},\"width\":1000,\"height\":900},                        {\"responsive\": true}                    ).then(function(){\n",
       "                            \n",
       "var gd = document.getElementById('47ae1a59-bd81-47d3-9936-16f9d03dd34d');\n",
       "var x = new MutationObserver(function (mutations, observer) {{\n",
       "        var display = window.getComputedStyle(gd).display;\n",
       "        if (!display || display === 'none') {{\n",
       "            console.log([gd, 'removed!']);\n",
       "            Plotly.purge(gd);\n",
       "            observer.disconnect();\n",
       "        }}\n",
       "}});\n",
       "\n",
       "// Listen for the removal of the full notebook cells\n",
       "var notebookContainer = gd.closest('#notebook-container');\n",
       "if (notebookContainer) {{\n",
       "    x.observe(notebookContainer, {childList: true});\n",
       "}}\n",
       "\n",
       "// Listen for the clearing of the current output cell\n",
       "var outputEl = gd.closest('.output');\n",
       "if (outputEl) {{\n",
       "    x.observe(outputEl, {childList: true});\n",
       "}}\n",
       "\n",
       "                        })                };                });            </script>        </div>"
      ]
     },
     "metadata": {},
     "output_type": "display_data"
    }
   ],
   "execution_count": 52
  },
  {
   "metadata": {
    "ExecuteTime": {
     "end_time": "2024-09-17T18:43:38.540061Z",
     "start_time": "2024-09-17T18:43:38.534061Z"
    }
   },
   "cell_type": "code",
   "source": [
    "q2_count.filter(\n",
    "    q2_count['Q2'] != \"Ìåíèäæìúíò íà òóðèñòè÷åñêèÿ áèçíåñ\",\n",
    ").sort('Q2')"
   ],
   "id": "f1e298a0d84e3c4e",
   "outputs": [
    {
     "data": {
      "text/plain": [
       "shape: (11, 2)\n",
       "┌─────────────────────────────────┬───────┐\n",
       "│ Q2                              ┆ count │\n",
       "│ ---                             ┆ ---   │\n",
       "│ str                             ┆ u32   │\n",
       "╞═════════════════════════════════╪═══════╡\n",
       "│ Accounting                      ┆ 26    │\n",
       "│ Accounting and Analysis         ┆ 1     │\n",
       "│ Business Management             ┆ 6     │\n",
       "│ Economics                       ┆ 2     │\n",
       "│ Economics and Business          ┆ 14    │\n",
       "│ …                               ┆ …     │\n",
       "│ Geography, Technologies and En… ┆ 1     │\n",
       "│ International Economic Relatio… ┆ 15    │\n",
       "│ Management in Tourism           ┆ 6     │\n",
       "│ Marketing                       ┆ 31    │\n",
       "│ Public Administration           ┆ 4     │\n",
       "└─────────────────────────────────┴───────┘"
      ],
      "text/html": [
       "<div><style>\n",
       ".dataframe > thead > tr,\n",
       ".dataframe > tbody > tr {\n",
       "  text-align: right;\n",
       "  white-space: pre-wrap;\n",
       "}\n",
       "</style>\n",
       "<small>shape: (11, 2)</small><table border=\"1\" class=\"dataframe\"><thead><tr><th>Q2</th><th>count</th></tr><tr><td>str</td><td>u32</td></tr></thead><tbody><tr><td>&quot;Accounting&quot;</td><td>26</td></tr><tr><td>&quot;Accounting and Analysis&quot;</td><td>1</td></tr><tr><td>&quot;Business Management&quot;</td><td>6</td></tr><tr><td>&quot;Economics&quot;</td><td>2</td></tr><tr><td>&quot;Economics and Business&quot;</td><td>14</td></tr><tr><td>&hellip;</td><td>&hellip;</td></tr><tr><td>&quot;Geography, Technologies and En…</td><td>1</td></tr><tr><td>&quot;International Economic Relatio…</td><td>15</td></tr><tr><td>&quot;Management in Tourism&quot;</td><td>6</td></tr><tr><td>&quot;Marketing&quot;</td><td>31</td></tr><tr><td>&quot;Public Administration&quot;</td><td>4</td></tr></tbody></table></div>"
      ]
     },
     "execution_count": 53,
     "metadata": {},
     "output_type": "execute_result"
    }
   ],
   "execution_count": 53
  },
  {
   "metadata": {
    "ExecuteTime": {
     "end_time": "2024-09-17T18:43:38.633529Z",
     "start_time": "2024-09-17T18:43:38.611725Z"
    }
   },
   "cell_type": "code",
   "source": [
    "gender = pl_data['Q3'].value_counts()\n",
    "\n",
    "fig = px.pie(\n",
    "    gender,\n",
    "    values='count',\n",
    "    names='Q3',\n",
    "    color_discrete_sequence=px.colors.sequential.RdBu,\n",
    "    title='Gender distribution, Question 3',        \n",
    ")\n",
    "\n",
    "fig.update_traces(\n",
    "    textposition='inside',\n",
    "    textinfo='percent+label',\n",
    ")\n",
    "\n",
    "fig.update_layout(\n",
    "    width=800,\n",
    "    height=800,\n",
    ")\n",
    "\n",
    "fig.show()"
   ],
   "id": "7d8aa73774701f80",
   "outputs": [
    {
     "data": {
      "application/vnd.plotly.v1+json": {
       "data": [
        {
         "domain": {
          "x": [
           0.0,
           1.0
          ],
          "y": [
           0.0,
           1.0
          ]
         },
         "hovertemplate": "Q3=%{label}<br>count=%{value}<extra></extra>",
         "labels": [
          "Female",
          "Male"
         ],
         "legendgroup": "",
         "name": "",
         "showlegend": true,
         "values": [
          109,
          22
         ],
         "type": "pie",
         "textinfo": "percent+label",
         "textposition": "inside"
        }
       ],
       "layout": {
        "template": {
         "data": {
          "histogram2dcontour": [
           {
            "type": "histogram2dcontour",
            "colorbar": {
             "outlinewidth": 0,
             "ticks": ""
            },
            "colorscale": [
             [
              0.0,
              "#0d0887"
             ],
             [
              0.1111111111111111,
              "#46039f"
             ],
             [
              0.2222222222222222,
              "#7201a8"
             ],
             [
              0.3333333333333333,
              "#9c179e"
             ],
             [
              0.4444444444444444,
              "#bd3786"
             ],
             [
              0.5555555555555556,
              "#d8576b"
             ],
             [
              0.6666666666666666,
              "#ed7953"
             ],
             [
              0.7777777777777778,
              "#fb9f3a"
             ],
             [
              0.8888888888888888,
              "#fdca26"
             ],
             [
              1.0,
              "#f0f921"
             ]
            ]
           }
          ],
          "choropleth": [
           {
            "type": "choropleth",
            "colorbar": {
             "outlinewidth": 0,
             "ticks": ""
            }
           }
          ],
          "histogram2d": [
           {
            "type": "histogram2d",
            "colorbar": {
             "outlinewidth": 0,
             "ticks": ""
            },
            "colorscale": [
             [
              0.0,
              "#0d0887"
             ],
             [
              0.1111111111111111,
              "#46039f"
             ],
             [
              0.2222222222222222,
              "#7201a8"
             ],
             [
              0.3333333333333333,
              "#9c179e"
             ],
             [
              0.4444444444444444,
              "#bd3786"
             ],
             [
              0.5555555555555556,
              "#d8576b"
             ],
             [
              0.6666666666666666,
              "#ed7953"
             ],
             [
              0.7777777777777778,
              "#fb9f3a"
             ],
             [
              0.8888888888888888,
              "#fdca26"
             ],
             [
              1.0,
              "#f0f921"
             ]
            ]
           }
          ],
          "heatmap": [
           {
            "type": "heatmap",
            "colorbar": {
             "outlinewidth": 0,
             "ticks": ""
            },
            "colorscale": [
             [
              0.0,
              "#0d0887"
             ],
             [
              0.1111111111111111,
              "#46039f"
             ],
             [
              0.2222222222222222,
              "#7201a8"
             ],
             [
              0.3333333333333333,
              "#9c179e"
             ],
             [
              0.4444444444444444,
              "#bd3786"
             ],
             [
              0.5555555555555556,
              "#d8576b"
             ],
             [
              0.6666666666666666,
              "#ed7953"
             ],
             [
              0.7777777777777778,
              "#fb9f3a"
             ],
             [
              0.8888888888888888,
              "#fdca26"
             ],
             [
              1.0,
              "#f0f921"
             ]
            ]
           }
          ],
          "heatmapgl": [
           {
            "type": "heatmapgl",
            "colorbar": {
             "outlinewidth": 0,
             "ticks": ""
            },
            "colorscale": [
             [
              0.0,
              "#0d0887"
             ],
             [
              0.1111111111111111,
              "#46039f"
             ],
             [
              0.2222222222222222,
              "#7201a8"
             ],
             [
              0.3333333333333333,
              "#9c179e"
             ],
             [
              0.4444444444444444,
              "#bd3786"
             ],
             [
              0.5555555555555556,
              "#d8576b"
             ],
             [
              0.6666666666666666,
              "#ed7953"
             ],
             [
              0.7777777777777778,
              "#fb9f3a"
             ],
             [
              0.8888888888888888,
              "#fdca26"
             ],
             [
              1.0,
              "#f0f921"
             ]
            ]
           }
          ],
          "contourcarpet": [
           {
            "type": "contourcarpet",
            "colorbar": {
             "outlinewidth": 0,
             "ticks": ""
            }
           }
          ],
          "contour": [
           {
            "type": "contour",
            "colorbar": {
             "outlinewidth": 0,
             "ticks": ""
            },
            "colorscale": [
             [
              0.0,
              "#0d0887"
             ],
             [
              0.1111111111111111,
              "#46039f"
             ],
             [
              0.2222222222222222,
              "#7201a8"
             ],
             [
              0.3333333333333333,
              "#9c179e"
             ],
             [
              0.4444444444444444,
              "#bd3786"
             ],
             [
              0.5555555555555556,
              "#d8576b"
             ],
             [
              0.6666666666666666,
              "#ed7953"
             ],
             [
              0.7777777777777778,
              "#fb9f3a"
             ],
             [
              0.8888888888888888,
              "#fdca26"
             ],
             [
              1.0,
              "#f0f921"
             ]
            ]
           }
          ],
          "surface": [
           {
            "type": "surface",
            "colorbar": {
             "outlinewidth": 0,
             "ticks": ""
            },
            "colorscale": [
             [
              0.0,
              "#0d0887"
             ],
             [
              0.1111111111111111,
              "#46039f"
             ],
             [
              0.2222222222222222,
              "#7201a8"
             ],
             [
              0.3333333333333333,
              "#9c179e"
             ],
             [
              0.4444444444444444,
              "#bd3786"
             ],
             [
              0.5555555555555556,
              "#d8576b"
             ],
             [
              0.6666666666666666,
              "#ed7953"
             ],
             [
              0.7777777777777778,
              "#fb9f3a"
             ],
             [
              0.8888888888888888,
              "#fdca26"
             ],
             [
              1.0,
              "#f0f921"
             ]
            ]
           }
          ],
          "mesh3d": [
           {
            "type": "mesh3d",
            "colorbar": {
             "outlinewidth": 0,
             "ticks": ""
            }
           }
          ],
          "scatter": [
           {
            "marker": {
             "line": {
              "color": "#283442"
             }
            },
            "type": "scatter"
           }
          ],
          "parcoords": [
           {
            "type": "parcoords",
            "line": {
             "colorbar": {
              "outlinewidth": 0,
              "ticks": ""
             }
            }
           }
          ],
          "scatterpolargl": [
           {
            "type": "scatterpolargl",
            "marker": {
             "colorbar": {
              "outlinewidth": 0,
              "ticks": ""
             }
            }
           }
          ],
          "bar": [
           {
            "error_x": {
             "color": "#f2f5fa"
            },
            "error_y": {
             "color": "#f2f5fa"
            },
            "marker": {
             "line": {
              "color": "rgb(17,17,17)",
              "width": 0.5
             },
             "pattern": {
              "fillmode": "overlay",
              "size": 10,
              "solidity": 0.2
             }
            },
            "type": "bar"
           }
          ],
          "scattergeo": [
           {
            "type": "scattergeo",
            "marker": {
             "colorbar": {
              "outlinewidth": 0,
              "ticks": ""
             }
            }
           }
          ],
          "scatterpolar": [
           {
            "type": "scatterpolar",
            "marker": {
             "colorbar": {
              "outlinewidth": 0,
              "ticks": ""
             }
            }
           }
          ],
          "histogram": [
           {
            "marker": {
             "pattern": {
              "fillmode": "overlay",
              "size": 10,
              "solidity": 0.2
             }
            },
            "type": "histogram"
           }
          ],
          "scattergl": [
           {
            "marker": {
             "line": {
              "color": "#283442"
             }
            },
            "type": "scattergl"
           }
          ],
          "scatter3d": [
           {
            "type": "scatter3d",
            "line": {
             "colorbar": {
              "outlinewidth": 0,
              "ticks": ""
             }
            },
            "marker": {
             "colorbar": {
              "outlinewidth": 0,
              "ticks": ""
             }
            }
           }
          ],
          "scattermapbox": [
           {
            "type": "scattermapbox",
            "marker": {
             "colorbar": {
              "outlinewidth": 0,
              "ticks": ""
             }
            }
           }
          ],
          "scatterternary": [
           {
            "type": "scatterternary",
            "marker": {
             "colorbar": {
              "outlinewidth": 0,
              "ticks": ""
             }
            }
           }
          ],
          "scattercarpet": [
           {
            "type": "scattercarpet",
            "marker": {
             "colorbar": {
              "outlinewidth": 0,
              "ticks": ""
             }
            }
           }
          ],
          "carpet": [
           {
            "aaxis": {
             "endlinecolor": "#A2B1C6",
             "gridcolor": "#506784",
             "linecolor": "#506784",
             "minorgridcolor": "#506784",
             "startlinecolor": "#A2B1C6"
            },
            "baxis": {
             "endlinecolor": "#A2B1C6",
             "gridcolor": "#506784",
             "linecolor": "#506784",
             "minorgridcolor": "#506784",
             "startlinecolor": "#A2B1C6"
            },
            "type": "carpet"
           }
          ],
          "table": [
           {
            "cells": {
             "fill": {
              "color": "#506784"
             },
             "line": {
              "color": "rgb(17,17,17)"
             }
            },
            "header": {
             "fill": {
              "color": "#2a3f5f"
             },
             "line": {
              "color": "rgb(17,17,17)"
             }
            },
            "type": "table"
           }
          ],
          "barpolar": [
           {
            "marker": {
             "line": {
              "color": "rgb(17,17,17)",
              "width": 0.5
             },
             "pattern": {
              "fillmode": "overlay",
              "size": 10,
              "solidity": 0.2
             }
            },
            "type": "barpolar"
           }
          ],
          "pie": [
           {
            "automargin": true,
            "type": "pie"
           }
          ]
         },
         "layout": {
          "autotypenumbers": "strict",
          "colorway": [
           "#636efa",
           "#EF553B",
           "#00cc96",
           "#ab63fa",
           "#FFA15A",
           "#19d3f3",
           "#FF6692",
           "#B6E880",
           "#FF97FF",
           "#FECB52"
          ],
          "font": {
           "color": "#f2f5fa"
          },
          "hovermode": "closest",
          "hoverlabel": {
           "align": "left"
          },
          "paper_bgcolor": "rgb(17,17,17)",
          "plot_bgcolor": "rgb(17,17,17)",
          "polar": {
           "bgcolor": "rgb(17,17,17)",
           "angularaxis": {
            "gridcolor": "#506784",
            "linecolor": "#506784",
            "ticks": ""
           },
           "radialaxis": {
            "gridcolor": "#506784",
            "linecolor": "#506784",
            "ticks": ""
           }
          },
          "ternary": {
           "bgcolor": "rgb(17,17,17)",
           "aaxis": {
            "gridcolor": "#506784",
            "linecolor": "#506784",
            "ticks": ""
           },
           "baxis": {
            "gridcolor": "#506784",
            "linecolor": "#506784",
            "ticks": ""
           },
           "caxis": {
            "gridcolor": "#506784",
            "linecolor": "#506784",
            "ticks": ""
           }
          },
          "coloraxis": {
           "colorbar": {
            "outlinewidth": 0,
            "ticks": ""
           }
          },
          "colorscale": {
           "sequential": [
            [
             0.0,
             "#0d0887"
            ],
            [
             0.1111111111111111,
             "#46039f"
            ],
            [
             0.2222222222222222,
             "#7201a8"
            ],
            [
             0.3333333333333333,
             "#9c179e"
            ],
            [
             0.4444444444444444,
             "#bd3786"
            ],
            [
             0.5555555555555556,
             "#d8576b"
            ],
            [
             0.6666666666666666,
             "#ed7953"
            ],
            [
             0.7777777777777778,
             "#fb9f3a"
            ],
            [
             0.8888888888888888,
             "#fdca26"
            ],
            [
             1.0,
             "#f0f921"
            ]
           ],
           "sequentialminus": [
            [
             0.0,
             "#0d0887"
            ],
            [
             0.1111111111111111,
             "#46039f"
            ],
            [
             0.2222222222222222,
             "#7201a8"
            ],
            [
             0.3333333333333333,
             "#9c179e"
            ],
            [
             0.4444444444444444,
             "#bd3786"
            ],
            [
             0.5555555555555556,
             "#d8576b"
            ],
            [
             0.6666666666666666,
             "#ed7953"
            ],
            [
             0.7777777777777778,
             "#fb9f3a"
            ],
            [
             0.8888888888888888,
             "#fdca26"
            ],
            [
             1.0,
             "#f0f921"
            ]
           ],
           "diverging": [
            [
             0,
             "#8e0152"
            ],
            [
             0.1,
             "#c51b7d"
            ],
            [
             0.2,
             "#de77ae"
            ],
            [
             0.3,
             "#f1b6da"
            ],
            [
             0.4,
             "#fde0ef"
            ],
            [
             0.5,
             "#f7f7f7"
            ],
            [
             0.6,
             "#e6f5d0"
            ],
            [
             0.7,
             "#b8e186"
            ],
            [
             0.8,
             "#7fbc41"
            ],
            [
             0.9,
             "#4d9221"
            ],
            [
             1,
             "#276419"
            ]
           ]
          },
          "xaxis": {
           "gridcolor": "#283442",
           "linecolor": "#506784",
           "ticks": "",
           "title": {
            "standoff": 15
           },
           "zerolinecolor": "#283442",
           "automargin": true,
           "zerolinewidth": 2
          },
          "yaxis": {
           "gridcolor": "#283442",
           "linecolor": "#506784",
           "ticks": "",
           "title": {
            "standoff": 15
           },
           "zerolinecolor": "#283442",
           "automargin": true,
           "zerolinewidth": 2
          },
          "scene": {
           "xaxis": {
            "backgroundcolor": "rgb(17,17,17)",
            "gridcolor": "#506784",
            "linecolor": "#506784",
            "showbackground": true,
            "ticks": "",
            "zerolinecolor": "#C8D4E3",
            "gridwidth": 2
           },
           "yaxis": {
            "backgroundcolor": "rgb(17,17,17)",
            "gridcolor": "#506784",
            "linecolor": "#506784",
            "showbackground": true,
            "ticks": "",
            "zerolinecolor": "#C8D4E3",
            "gridwidth": 2
           },
           "zaxis": {
            "backgroundcolor": "rgb(17,17,17)",
            "gridcolor": "#506784",
            "linecolor": "#506784",
            "showbackground": true,
            "ticks": "",
            "zerolinecolor": "#C8D4E3",
            "gridwidth": 2
           }
          },
          "shapedefaults": {
           "line": {
            "color": "#f2f5fa"
           }
          },
          "annotationdefaults": {
           "arrowcolor": "#f2f5fa",
           "arrowhead": 0,
           "arrowwidth": 1
          },
          "geo": {
           "bgcolor": "rgb(17,17,17)",
           "landcolor": "rgb(17,17,17)",
           "subunitcolor": "#506784",
           "showland": true,
           "showlakes": true,
           "lakecolor": "rgb(17,17,17)"
          },
          "title": {
           "x": 0.05
          },
          "updatemenudefaults": {
           "bgcolor": "#506784",
           "borderwidth": 0
          },
          "sliderdefaults": {
           "bgcolor": "#C8D4E3",
           "borderwidth": 1,
           "bordercolor": "rgb(17,17,17)",
           "tickwidth": 0
          },
          "mapbox": {
           "style": "dark"
          }
         }
        },
        "legend": {
         "tracegroupgap": 0
        },
        "title": {
         "text": "Gender distribution, Question 3"
        },
        "piecolorway": [
         "rgb(103,0,31)",
         "rgb(178,24,43)",
         "rgb(214,96,77)",
         "rgb(244,165,130)",
         "rgb(253,219,199)",
         "rgb(247,247,247)",
         "rgb(209,229,240)",
         "rgb(146,197,222)",
         "rgb(67,147,195)",
         "rgb(33,102,172)",
         "rgb(5,48,97)"
        ],
        "width": 800,
        "height": 800
       },
       "config": {
        "plotlyServerURL": "https://plot.ly"
       }
      },
      "text/html": [
       "<div>                            <div id=\"89027a7e-4eca-4c11-b20d-9d0213921a1a\" class=\"plotly-graph-div\" style=\"height:800px; width:800px;\"></div>            <script type=\"text/javascript\">                require([\"plotly\"], function(Plotly) {                    window.PLOTLYENV=window.PLOTLYENV || {};                                    if (document.getElementById(\"89027a7e-4eca-4c11-b20d-9d0213921a1a\")) {                    Plotly.newPlot(                        \"89027a7e-4eca-4c11-b20d-9d0213921a1a\",                        [{\"domain\":{\"x\":[0.0,1.0],\"y\":[0.0,1.0]},\"hovertemplate\":\"Q3=%{label}\\u003cbr\\u003ecount=%{value}\\u003cextra\\u003e\\u003c\\u002fextra\\u003e\",\"labels\":[\"Female\",\"Male\"],\"legendgroup\":\"\",\"name\":\"\",\"showlegend\":true,\"values\":[109,22],\"type\":\"pie\",\"textinfo\":\"percent+label\",\"textposition\":\"inside\"}],                        {\"template\":{\"data\":{\"histogram2dcontour\":[{\"type\":\"histogram2dcontour\",\"colorbar\":{\"outlinewidth\":0,\"ticks\":\"\"},\"colorscale\":[[0.0,\"#0d0887\"],[0.1111111111111111,\"#46039f\"],[0.2222222222222222,\"#7201a8\"],[0.3333333333333333,\"#9c179e\"],[0.4444444444444444,\"#bd3786\"],[0.5555555555555556,\"#d8576b\"],[0.6666666666666666,\"#ed7953\"],[0.7777777777777778,\"#fb9f3a\"],[0.8888888888888888,\"#fdca26\"],[1.0,\"#f0f921\"]]}],\"choropleth\":[{\"type\":\"choropleth\",\"colorbar\":{\"outlinewidth\":0,\"ticks\":\"\"}}],\"histogram2d\":[{\"type\":\"histogram2d\",\"colorbar\":{\"outlinewidth\":0,\"ticks\":\"\"},\"colorscale\":[[0.0,\"#0d0887\"],[0.1111111111111111,\"#46039f\"],[0.2222222222222222,\"#7201a8\"],[0.3333333333333333,\"#9c179e\"],[0.4444444444444444,\"#bd3786\"],[0.5555555555555556,\"#d8576b\"],[0.6666666666666666,\"#ed7953\"],[0.7777777777777778,\"#fb9f3a\"],[0.8888888888888888,\"#fdca26\"],[1.0,\"#f0f921\"]]}],\"heatmap\":[{\"type\":\"heatmap\",\"colorbar\":{\"outlinewidth\":0,\"ticks\":\"\"},\"colorscale\":[[0.0,\"#0d0887\"],[0.1111111111111111,\"#46039f\"],[0.2222222222222222,\"#7201a8\"],[0.3333333333333333,\"#9c179e\"],[0.4444444444444444,\"#bd3786\"],[0.5555555555555556,\"#d8576b\"],[0.6666666666666666,\"#ed7953\"],[0.7777777777777778,\"#fb9f3a\"],[0.8888888888888888,\"#fdca26\"],[1.0,\"#f0f921\"]]}],\"heatmapgl\":[{\"type\":\"heatmapgl\",\"colorbar\":{\"outlinewidth\":0,\"ticks\":\"\"},\"colorscale\":[[0.0,\"#0d0887\"],[0.1111111111111111,\"#46039f\"],[0.2222222222222222,\"#7201a8\"],[0.3333333333333333,\"#9c179e\"],[0.4444444444444444,\"#bd3786\"],[0.5555555555555556,\"#d8576b\"],[0.6666666666666666,\"#ed7953\"],[0.7777777777777778,\"#fb9f3a\"],[0.8888888888888888,\"#fdca26\"],[1.0,\"#f0f921\"]]}],\"contourcarpet\":[{\"type\":\"contourcarpet\",\"colorbar\":{\"outlinewidth\":0,\"ticks\":\"\"}}],\"contour\":[{\"type\":\"contour\",\"colorbar\":{\"outlinewidth\":0,\"ticks\":\"\"},\"colorscale\":[[0.0,\"#0d0887\"],[0.1111111111111111,\"#46039f\"],[0.2222222222222222,\"#7201a8\"],[0.3333333333333333,\"#9c179e\"],[0.4444444444444444,\"#bd3786\"],[0.5555555555555556,\"#d8576b\"],[0.6666666666666666,\"#ed7953\"],[0.7777777777777778,\"#fb9f3a\"],[0.8888888888888888,\"#fdca26\"],[1.0,\"#f0f921\"]]}],\"surface\":[{\"type\":\"surface\",\"colorbar\":{\"outlinewidth\":0,\"ticks\":\"\"},\"colorscale\":[[0.0,\"#0d0887\"],[0.1111111111111111,\"#46039f\"],[0.2222222222222222,\"#7201a8\"],[0.3333333333333333,\"#9c179e\"],[0.4444444444444444,\"#bd3786\"],[0.5555555555555556,\"#d8576b\"],[0.6666666666666666,\"#ed7953\"],[0.7777777777777778,\"#fb9f3a\"],[0.8888888888888888,\"#fdca26\"],[1.0,\"#f0f921\"]]}],\"mesh3d\":[{\"type\":\"mesh3d\",\"colorbar\":{\"outlinewidth\":0,\"ticks\":\"\"}}],\"scatter\":[{\"marker\":{\"line\":{\"color\":\"#283442\"}},\"type\":\"scatter\"}],\"parcoords\":[{\"type\":\"parcoords\",\"line\":{\"colorbar\":{\"outlinewidth\":0,\"ticks\":\"\"}}}],\"scatterpolargl\":[{\"type\":\"scatterpolargl\",\"marker\":{\"colorbar\":{\"outlinewidth\":0,\"ticks\":\"\"}}}],\"bar\":[{\"error_x\":{\"color\":\"#f2f5fa\"},\"error_y\":{\"color\":\"#f2f5fa\"},\"marker\":{\"line\":{\"color\":\"rgb(17,17,17)\",\"width\":0.5},\"pattern\":{\"fillmode\":\"overlay\",\"size\":10,\"solidity\":0.2}},\"type\":\"bar\"}],\"scattergeo\":[{\"type\":\"scattergeo\",\"marker\":{\"colorbar\":{\"outlinewidth\":0,\"ticks\":\"\"}}}],\"scatterpolar\":[{\"type\":\"scatterpolar\",\"marker\":{\"colorbar\":{\"outlinewidth\":0,\"ticks\":\"\"}}}],\"histogram\":[{\"marker\":{\"pattern\":{\"fillmode\":\"overlay\",\"size\":10,\"solidity\":0.2}},\"type\":\"histogram\"}],\"scattergl\":[{\"marker\":{\"line\":{\"color\":\"#283442\"}},\"type\":\"scattergl\"}],\"scatter3d\":[{\"type\":\"scatter3d\",\"line\":{\"colorbar\":{\"outlinewidth\":0,\"ticks\":\"\"}},\"marker\":{\"colorbar\":{\"outlinewidth\":0,\"ticks\":\"\"}}}],\"scattermapbox\":[{\"type\":\"scattermapbox\",\"marker\":{\"colorbar\":{\"outlinewidth\":0,\"ticks\":\"\"}}}],\"scatterternary\":[{\"type\":\"scatterternary\",\"marker\":{\"colorbar\":{\"outlinewidth\":0,\"ticks\":\"\"}}}],\"scattercarpet\":[{\"type\":\"scattercarpet\",\"marker\":{\"colorbar\":{\"outlinewidth\":0,\"ticks\":\"\"}}}],\"carpet\":[{\"aaxis\":{\"endlinecolor\":\"#A2B1C6\",\"gridcolor\":\"#506784\",\"linecolor\":\"#506784\",\"minorgridcolor\":\"#506784\",\"startlinecolor\":\"#A2B1C6\"},\"baxis\":{\"endlinecolor\":\"#A2B1C6\",\"gridcolor\":\"#506784\",\"linecolor\":\"#506784\",\"minorgridcolor\":\"#506784\",\"startlinecolor\":\"#A2B1C6\"},\"type\":\"carpet\"}],\"table\":[{\"cells\":{\"fill\":{\"color\":\"#506784\"},\"line\":{\"color\":\"rgb(17,17,17)\"}},\"header\":{\"fill\":{\"color\":\"#2a3f5f\"},\"line\":{\"color\":\"rgb(17,17,17)\"}},\"type\":\"table\"}],\"barpolar\":[{\"marker\":{\"line\":{\"color\":\"rgb(17,17,17)\",\"width\":0.5},\"pattern\":{\"fillmode\":\"overlay\",\"size\":10,\"solidity\":0.2}},\"type\":\"barpolar\"}],\"pie\":[{\"automargin\":true,\"type\":\"pie\"}]},\"layout\":{\"autotypenumbers\":\"strict\",\"colorway\":[\"#636efa\",\"#EF553B\",\"#00cc96\",\"#ab63fa\",\"#FFA15A\",\"#19d3f3\",\"#FF6692\",\"#B6E880\",\"#FF97FF\",\"#FECB52\"],\"font\":{\"color\":\"#f2f5fa\"},\"hovermode\":\"closest\",\"hoverlabel\":{\"align\":\"left\"},\"paper_bgcolor\":\"rgb(17,17,17)\",\"plot_bgcolor\":\"rgb(17,17,17)\",\"polar\":{\"bgcolor\":\"rgb(17,17,17)\",\"angularaxis\":{\"gridcolor\":\"#506784\",\"linecolor\":\"#506784\",\"ticks\":\"\"},\"radialaxis\":{\"gridcolor\":\"#506784\",\"linecolor\":\"#506784\",\"ticks\":\"\"}},\"ternary\":{\"bgcolor\":\"rgb(17,17,17)\",\"aaxis\":{\"gridcolor\":\"#506784\",\"linecolor\":\"#506784\",\"ticks\":\"\"},\"baxis\":{\"gridcolor\":\"#506784\",\"linecolor\":\"#506784\",\"ticks\":\"\"},\"caxis\":{\"gridcolor\":\"#506784\",\"linecolor\":\"#506784\",\"ticks\":\"\"}},\"coloraxis\":{\"colorbar\":{\"outlinewidth\":0,\"ticks\":\"\"}},\"colorscale\":{\"sequential\":[[0.0,\"#0d0887\"],[0.1111111111111111,\"#46039f\"],[0.2222222222222222,\"#7201a8\"],[0.3333333333333333,\"#9c179e\"],[0.4444444444444444,\"#bd3786\"],[0.5555555555555556,\"#d8576b\"],[0.6666666666666666,\"#ed7953\"],[0.7777777777777778,\"#fb9f3a\"],[0.8888888888888888,\"#fdca26\"],[1.0,\"#f0f921\"]],\"sequentialminus\":[[0.0,\"#0d0887\"],[0.1111111111111111,\"#46039f\"],[0.2222222222222222,\"#7201a8\"],[0.3333333333333333,\"#9c179e\"],[0.4444444444444444,\"#bd3786\"],[0.5555555555555556,\"#d8576b\"],[0.6666666666666666,\"#ed7953\"],[0.7777777777777778,\"#fb9f3a\"],[0.8888888888888888,\"#fdca26\"],[1.0,\"#f0f921\"]],\"diverging\":[[0,\"#8e0152\"],[0.1,\"#c51b7d\"],[0.2,\"#de77ae\"],[0.3,\"#f1b6da\"],[0.4,\"#fde0ef\"],[0.5,\"#f7f7f7\"],[0.6,\"#e6f5d0\"],[0.7,\"#b8e186\"],[0.8,\"#7fbc41\"],[0.9,\"#4d9221\"],[1,\"#276419\"]]},\"xaxis\":{\"gridcolor\":\"#283442\",\"linecolor\":\"#506784\",\"ticks\":\"\",\"title\":{\"standoff\":15},\"zerolinecolor\":\"#283442\",\"automargin\":true,\"zerolinewidth\":2},\"yaxis\":{\"gridcolor\":\"#283442\",\"linecolor\":\"#506784\",\"ticks\":\"\",\"title\":{\"standoff\":15},\"zerolinecolor\":\"#283442\",\"automargin\":true,\"zerolinewidth\":2},\"scene\":{\"xaxis\":{\"backgroundcolor\":\"rgb(17,17,17)\",\"gridcolor\":\"#506784\",\"linecolor\":\"#506784\",\"showbackground\":true,\"ticks\":\"\",\"zerolinecolor\":\"#C8D4E3\",\"gridwidth\":2},\"yaxis\":{\"backgroundcolor\":\"rgb(17,17,17)\",\"gridcolor\":\"#506784\",\"linecolor\":\"#506784\",\"showbackground\":true,\"ticks\":\"\",\"zerolinecolor\":\"#C8D4E3\",\"gridwidth\":2},\"zaxis\":{\"backgroundcolor\":\"rgb(17,17,17)\",\"gridcolor\":\"#506784\",\"linecolor\":\"#506784\",\"showbackground\":true,\"ticks\":\"\",\"zerolinecolor\":\"#C8D4E3\",\"gridwidth\":2}},\"shapedefaults\":{\"line\":{\"color\":\"#f2f5fa\"}},\"annotationdefaults\":{\"arrowcolor\":\"#f2f5fa\",\"arrowhead\":0,\"arrowwidth\":1},\"geo\":{\"bgcolor\":\"rgb(17,17,17)\",\"landcolor\":\"rgb(17,17,17)\",\"subunitcolor\":\"#506784\",\"showland\":true,\"showlakes\":true,\"lakecolor\":\"rgb(17,17,17)\"},\"title\":{\"x\":0.05},\"updatemenudefaults\":{\"bgcolor\":\"#506784\",\"borderwidth\":0},\"sliderdefaults\":{\"bgcolor\":\"#C8D4E3\",\"borderwidth\":1,\"bordercolor\":\"rgb(17,17,17)\",\"tickwidth\":0},\"mapbox\":{\"style\":\"dark\"}}},\"legend\":{\"tracegroupgap\":0},\"title\":{\"text\":\"Gender distribution, Question 3\"},\"piecolorway\":[\"rgb(103,0,31)\",\"rgb(178,24,43)\",\"rgb(214,96,77)\",\"rgb(244,165,130)\",\"rgb(253,219,199)\",\"rgb(247,247,247)\",\"rgb(209,229,240)\",\"rgb(146,197,222)\",\"rgb(67,147,195)\",\"rgb(33,102,172)\",\"rgb(5,48,97)\"],\"width\":800,\"height\":800},                        {\"responsive\": true}                    ).then(function(){\n",
       "                            \n",
       "var gd = document.getElementById('89027a7e-4eca-4c11-b20d-9d0213921a1a');\n",
       "var x = new MutationObserver(function (mutations, observer) {{\n",
       "        var display = window.getComputedStyle(gd).display;\n",
       "        if (!display || display === 'none') {{\n",
       "            console.log([gd, 'removed!']);\n",
       "            Plotly.purge(gd);\n",
       "            observer.disconnect();\n",
       "        }}\n",
       "}});\n",
       "\n",
       "// Listen for the removal of the full notebook cells\n",
       "var notebookContainer = gd.closest('#notebook-container');\n",
       "if (notebookContainer) {{\n",
       "    x.observe(notebookContainer, {childList: true});\n",
       "}}\n",
       "\n",
       "// Listen for the clearing of the current output cell\n",
       "var outputEl = gd.closest('.output');\n",
       "if (outputEl) {{\n",
       "    x.observe(outputEl, {childList: true});\n",
       "}}\n",
       "\n",
       "                        })                };                });            </script>        </div>"
      ]
     },
     "metadata": {},
     "output_type": "display_data"
    }
   ],
   "execution_count": 54
  },
  {
   "metadata": {
    "ExecuteTime": {
     "end_time": "2024-09-17T18:43:38.706682Z",
     "start_time": "2024-09-17T18:43:38.681978Z"
    }
   },
   "cell_type": "code",
   "source": [
    "chatgpt_usage = pl_data['Q4'].value_counts()\n",
    "\n",
    "fig = px.pie(\n",
    "    chatgpt_usage,\n",
    "    values='count',\n",
    "    names='Q4',\n",
    ")\n",
    "\n",
    "fig.update_traces(\n",
    "    textposition='inside',\n",
    "    textinfo='percent+label',\n",
    ")\n",
    "\n",
    "fig.update_layout(\n",
    "    width=800,\n",
    "    height=800,\n",
    ")\n",
    "fig.show()"
   ],
   "id": "396625994bf2f7e7",
   "outputs": [
    {
     "data": {
      "application/vnd.plotly.v1+json": {
       "data": [
        {
         "domain": {
          "x": [
           0.0,
           1.0
          ],
          "y": [
           0.0,
           1.0
          ]
         },
         "hovertemplate": "Q4=%{label}<br>count=%{value}<extra></extra>",
         "labels": [
          "Very often",
          "Often",
          "Sometimes",
          "Never",
          "Rarely"
         ],
         "legendgroup": "",
         "name": "",
         "showlegend": true,
         "values": [
          6,
          24,
          53,
          14,
          34
         ],
         "type": "pie",
         "textinfo": "percent+label",
         "textposition": "inside"
        }
       ],
       "layout": {
        "template": {
         "data": {
          "histogram2dcontour": [
           {
            "type": "histogram2dcontour",
            "colorbar": {
             "outlinewidth": 0,
             "ticks": ""
            },
            "colorscale": [
             [
              0.0,
              "#0d0887"
             ],
             [
              0.1111111111111111,
              "#46039f"
             ],
             [
              0.2222222222222222,
              "#7201a8"
             ],
             [
              0.3333333333333333,
              "#9c179e"
             ],
             [
              0.4444444444444444,
              "#bd3786"
             ],
             [
              0.5555555555555556,
              "#d8576b"
             ],
             [
              0.6666666666666666,
              "#ed7953"
             ],
             [
              0.7777777777777778,
              "#fb9f3a"
             ],
             [
              0.8888888888888888,
              "#fdca26"
             ],
             [
              1.0,
              "#f0f921"
             ]
            ]
           }
          ],
          "choropleth": [
           {
            "type": "choropleth",
            "colorbar": {
             "outlinewidth": 0,
             "ticks": ""
            }
           }
          ],
          "histogram2d": [
           {
            "type": "histogram2d",
            "colorbar": {
             "outlinewidth": 0,
             "ticks": ""
            },
            "colorscale": [
             [
              0.0,
              "#0d0887"
             ],
             [
              0.1111111111111111,
              "#46039f"
             ],
             [
              0.2222222222222222,
              "#7201a8"
             ],
             [
              0.3333333333333333,
              "#9c179e"
             ],
             [
              0.4444444444444444,
              "#bd3786"
             ],
             [
              0.5555555555555556,
              "#d8576b"
             ],
             [
              0.6666666666666666,
              "#ed7953"
             ],
             [
              0.7777777777777778,
              "#fb9f3a"
             ],
             [
              0.8888888888888888,
              "#fdca26"
             ],
             [
              1.0,
              "#f0f921"
             ]
            ]
           }
          ],
          "heatmap": [
           {
            "type": "heatmap",
            "colorbar": {
             "outlinewidth": 0,
             "ticks": ""
            },
            "colorscale": [
             [
              0.0,
              "#0d0887"
             ],
             [
              0.1111111111111111,
              "#46039f"
             ],
             [
              0.2222222222222222,
              "#7201a8"
             ],
             [
              0.3333333333333333,
              "#9c179e"
             ],
             [
              0.4444444444444444,
              "#bd3786"
             ],
             [
              0.5555555555555556,
              "#d8576b"
             ],
             [
              0.6666666666666666,
              "#ed7953"
             ],
             [
              0.7777777777777778,
              "#fb9f3a"
             ],
             [
              0.8888888888888888,
              "#fdca26"
             ],
             [
              1.0,
              "#f0f921"
             ]
            ]
           }
          ],
          "heatmapgl": [
           {
            "type": "heatmapgl",
            "colorbar": {
             "outlinewidth": 0,
             "ticks": ""
            },
            "colorscale": [
             [
              0.0,
              "#0d0887"
             ],
             [
              0.1111111111111111,
              "#46039f"
             ],
             [
              0.2222222222222222,
              "#7201a8"
             ],
             [
              0.3333333333333333,
              "#9c179e"
             ],
             [
              0.4444444444444444,
              "#bd3786"
             ],
             [
              0.5555555555555556,
              "#d8576b"
             ],
             [
              0.6666666666666666,
              "#ed7953"
             ],
             [
              0.7777777777777778,
              "#fb9f3a"
             ],
             [
              0.8888888888888888,
              "#fdca26"
             ],
             [
              1.0,
              "#f0f921"
             ]
            ]
           }
          ],
          "contourcarpet": [
           {
            "type": "contourcarpet",
            "colorbar": {
             "outlinewidth": 0,
             "ticks": ""
            }
           }
          ],
          "contour": [
           {
            "type": "contour",
            "colorbar": {
             "outlinewidth": 0,
             "ticks": ""
            },
            "colorscale": [
             [
              0.0,
              "#0d0887"
             ],
             [
              0.1111111111111111,
              "#46039f"
             ],
             [
              0.2222222222222222,
              "#7201a8"
             ],
             [
              0.3333333333333333,
              "#9c179e"
             ],
             [
              0.4444444444444444,
              "#bd3786"
             ],
             [
              0.5555555555555556,
              "#d8576b"
             ],
             [
              0.6666666666666666,
              "#ed7953"
             ],
             [
              0.7777777777777778,
              "#fb9f3a"
             ],
             [
              0.8888888888888888,
              "#fdca26"
             ],
             [
              1.0,
              "#f0f921"
             ]
            ]
           }
          ],
          "surface": [
           {
            "type": "surface",
            "colorbar": {
             "outlinewidth": 0,
             "ticks": ""
            },
            "colorscale": [
             [
              0.0,
              "#0d0887"
             ],
             [
              0.1111111111111111,
              "#46039f"
             ],
             [
              0.2222222222222222,
              "#7201a8"
             ],
             [
              0.3333333333333333,
              "#9c179e"
             ],
             [
              0.4444444444444444,
              "#bd3786"
             ],
             [
              0.5555555555555556,
              "#d8576b"
             ],
             [
              0.6666666666666666,
              "#ed7953"
             ],
             [
              0.7777777777777778,
              "#fb9f3a"
             ],
             [
              0.8888888888888888,
              "#fdca26"
             ],
             [
              1.0,
              "#f0f921"
             ]
            ]
           }
          ],
          "mesh3d": [
           {
            "type": "mesh3d",
            "colorbar": {
             "outlinewidth": 0,
             "ticks": ""
            }
           }
          ],
          "scatter": [
           {
            "marker": {
             "line": {
              "color": "#283442"
             }
            },
            "type": "scatter"
           }
          ],
          "parcoords": [
           {
            "type": "parcoords",
            "line": {
             "colorbar": {
              "outlinewidth": 0,
              "ticks": ""
             }
            }
           }
          ],
          "scatterpolargl": [
           {
            "type": "scatterpolargl",
            "marker": {
             "colorbar": {
              "outlinewidth": 0,
              "ticks": ""
             }
            }
           }
          ],
          "bar": [
           {
            "error_x": {
             "color": "#f2f5fa"
            },
            "error_y": {
             "color": "#f2f5fa"
            },
            "marker": {
             "line": {
              "color": "rgb(17,17,17)",
              "width": 0.5
             },
             "pattern": {
              "fillmode": "overlay",
              "size": 10,
              "solidity": 0.2
             }
            },
            "type": "bar"
           }
          ],
          "scattergeo": [
           {
            "type": "scattergeo",
            "marker": {
             "colorbar": {
              "outlinewidth": 0,
              "ticks": ""
             }
            }
           }
          ],
          "scatterpolar": [
           {
            "type": "scatterpolar",
            "marker": {
             "colorbar": {
              "outlinewidth": 0,
              "ticks": ""
             }
            }
           }
          ],
          "histogram": [
           {
            "marker": {
             "pattern": {
              "fillmode": "overlay",
              "size": 10,
              "solidity": 0.2
             }
            },
            "type": "histogram"
           }
          ],
          "scattergl": [
           {
            "marker": {
             "line": {
              "color": "#283442"
             }
            },
            "type": "scattergl"
           }
          ],
          "scatter3d": [
           {
            "type": "scatter3d",
            "line": {
             "colorbar": {
              "outlinewidth": 0,
              "ticks": ""
             }
            },
            "marker": {
             "colorbar": {
              "outlinewidth": 0,
              "ticks": ""
             }
            }
           }
          ],
          "scattermapbox": [
           {
            "type": "scattermapbox",
            "marker": {
             "colorbar": {
              "outlinewidth": 0,
              "ticks": ""
             }
            }
           }
          ],
          "scatterternary": [
           {
            "type": "scatterternary",
            "marker": {
             "colorbar": {
              "outlinewidth": 0,
              "ticks": ""
             }
            }
           }
          ],
          "scattercarpet": [
           {
            "type": "scattercarpet",
            "marker": {
             "colorbar": {
              "outlinewidth": 0,
              "ticks": ""
             }
            }
           }
          ],
          "carpet": [
           {
            "aaxis": {
             "endlinecolor": "#A2B1C6",
             "gridcolor": "#506784",
             "linecolor": "#506784",
             "minorgridcolor": "#506784",
             "startlinecolor": "#A2B1C6"
            },
            "baxis": {
             "endlinecolor": "#A2B1C6",
             "gridcolor": "#506784",
             "linecolor": "#506784",
             "minorgridcolor": "#506784",
             "startlinecolor": "#A2B1C6"
            },
            "type": "carpet"
           }
          ],
          "table": [
           {
            "cells": {
             "fill": {
              "color": "#506784"
             },
             "line": {
              "color": "rgb(17,17,17)"
             }
            },
            "header": {
             "fill": {
              "color": "#2a3f5f"
             },
             "line": {
              "color": "rgb(17,17,17)"
             }
            },
            "type": "table"
           }
          ],
          "barpolar": [
           {
            "marker": {
             "line": {
              "color": "rgb(17,17,17)",
              "width": 0.5
             },
             "pattern": {
              "fillmode": "overlay",
              "size": 10,
              "solidity": 0.2
             }
            },
            "type": "barpolar"
           }
          ],
          "pie": [
           {
            "automargin": true,
            "type": "pie"
           }
          ]
         },
         "layout": {
          "autotypenumbers": "strict",
          "colorway": [
           "#636efa",
           "#EF553B",
           "#00cc96",
           "#ab63fa",
           "#FFA15A",
           "#19d3f3",
           "#FF6692",
           "#B6E880",
           "#FF97FF",
           "#FECB52"
          ],
          "font": {
           "color": "#f2f5fa"
          },
          "hovermode": "closest",
          "hoverlabel": {
           "align": "left"
          },
          "paper_bgcolor": "rgb(17,17,17)",
          "plot_bgcolor": "rgb(17,17,17)",
          "polar": {
           "bgcolor": "rgb(17,17,17)",
           "angularaxis": {
            "gridcolor": "#506784",
            "linecolor": "#506784",
            "ticks": ""
           },
           "radialaxis": {
            "gridcolor": "#506784",
            "linecolor": "#506784",
            "ticks": ""
           }
          },
          "ternary": {
           "bgcolor": "rgb(17,17,17)",
           "aaxis": {
            "gridcolor": "#506784",
            "linecolor": "#506784",
            "ticks": ""
           },
           "baxis": {
            "gridcolor": "#506784",
            "linecolor": "#506784",
            "ticks": ""
           },
           "caxis": {
            "gridcolor": "#506784",
            "linecolor": "#506784",
            "ticks": ""
           }
          },
          "coloraxis": {
           "colorbar": {
            "outlinewidth": 0,
            "ticks": ""
           }
          },
          "colorscale": {
           "sequential": [
            [
             0.0,
             "#0d0887"
            ],
            [
             0.1111111111111111,
             "#46039f"
            ],
            [
             0.2222222222222222,
             "#7201a8"
            ],
            [
             0.3333333333333333,
             "#9c179e"
            ],
            [
             0.4444444444444444,
             "#bd3786"
            ],
            [
             0.5555555555555556,
             "#d8576b"
            ],
            [
             0.6666666666666666,
             "#ed7953"
            ],
            [
             0.7777777777777778,
             "#fb9f3a"
            ],
            [
             0.8888888888888888,
             "#fdca26"
            ],
            [
             1.0,
             "#f0f921"
            ]
           ],
           "sequentialminus": [
            [
             0.0,
             "#0d0887"
            ],
            [
             0.1111111111111111,
             "#46039f"
            ],
            [
             0.2222222222222222,
             "#7201a8"
            ],
            [
             0.3333333333333333,
             "#9c179e"
            ],
            [
             0.4444444444444444,
             "#bd3786"
            ],
            [
             0.5555555555555556,
             "#d8576b"
            ],
            [
             0.6666666666666666,
             "#ed7953"
            ],
            [
             0.7777777777777778,
             "#fb9f3a"
            ],
            [
             0.8888888888888888,
             "#fdca26"
            ],
            [
             1.0,
             "#f0f921"
            ]
           ],
           "diverging": [
            [
             0,
             "#8e0152"
            ],
            [
             0.1,
             "#c51b7d"
            ],
            [
             0.2,
             "#de77ae"
            ],
            [
             0.3,
             "#f1b6da"
            ],
            [
             0.4,
             "#fde0ef"
            ],
            [
             0.5,
             "#f7f7f7"
            ],
            [
             0.6,
             "#e6f5d0"
            ],
            [
             0.7,
             "#b8e186"
            ],
            [
             0.8,
             "#7fbc41"
            ],
            [
             0.9,
             "#4d9221"
            ],
            [
             1,
             "#276419"
            ]
           ]
          },
          "xaxis": {
           "gridcolor": "#283442",
           "linecolor": "#506784",
           "ticks": "",
           "title": {
            "standoff": 15
           },
           "zerolinecolor": "#283442",
           "automargin": true,
           "zerolinewidth": 2
          },
          "yaxis": {
           "gridcolor": "#283442",
           "linecolor": "#506784",
           "ticks": "",
           "title": {
            "standoff": 15
           },
           "zerolinecolor": "#283442",
           "automargin": true,
           "zerolinewidth": 2
          },
          "scene": {
           "xaxis": {
            "backgroundcolor": "rgb(17,17,17)",
            "gridcolor": "#506784",
            "linecolor": "#506784",
            "showbackground": true,
            "ticks": "",
            "zerolinecolor": "#C8D4E3",
            "gridwidth": 2
           },
           "yaxis": {
            "backgroundcolor": "rgb(17,17,17)",
            "gridcolor": "#506784",
            "linecolor": "#506784",
            "showbackground": true,
            "ticks": "",
            "zerolinecolor": "#C8D4E3",
            "gridwidth": 2
           },
           "zaxis": {
            "backgroundcolor": "rgb(17,17,17)",
            "gridcolor": "#506784",
            "linecolor": "#506784",
            "showbackground": true,
            "ticks": "",
            "zerolinecolor": "#C8D4E3",
            "gridwidth": 2
           }
          },
          "shapedefaults": {
           "line": {
            "color": "#f2f5fa"
           }
          },
          "annotationdefaults": {
           "arrowcolor": "#f2f5fa",
           "arrowhead": 0,
           "arrowwidth": 1
          },
          "geo": {
           "bgcolor": "rgb(17,17,17)",
           "landcolor": "rgb(17,17,17)",
           "subunitcolor": "#506784",
           "showland": true,
           "showlakes": true,
           "lakecolor": "rgb(17,17,17)"
          },
          "title": {
           "x": 0.05
          },
          "updatemenudefaults": {
           "bgcolor": "#506784",
           "borderwidth": 0
          },
          "sliderdefaults": {
           "bgcolor": "#C8D4E3",
           "borderwidth": 1,
           "bordercolor": "rgb(17,17,17)",
           "tickwidth": 0
          },
          "mapbox": {
           "style": "dark"
          }
         }
        },
        "legend": {
         "tracegroupgap": 0
        },
        "margin": {
         "t": 60
        },
        "width": 800,
        "height": 800
       },
       "config": {
        "plotlyServerURL": "https://plot.ly"
       }
      },
      "text/html": [
       "<div>                            <div id=\"70691d41-eca9-49ab-8259-52b88f704a52\" class=\"plotly-graph-div\" style=\"height:800px; width:800px;\"></div>            <script type=\"text/javascript\">                require([\"plotly\"], function(Plotly) {                    window.PLOTLYENV=window.PLOTLYENV || {};                                    if (document.getElementById(\"70691d41-eca9-49ab-8259-52b88f704a52\")) {                    Plotly.newPlot(                        \"70691d41-eca9-49ab-8259-52b88f704a52\",                        [{\"domain\":{\"x\":[0.0,1.0],\"y\":[0.0,1.0]},\"hovertemplate\":\"Q4=%{label}\\u003cbr\\u003ecount=%{value}\\u003cextra\\u003e\\u003c\\u002fextra\\u003e\",\"labels\":[\"Very often\",\"Often\",\"Sometimes\",\"Never\",\"Rarely\"],\"legendgroup\":\"\",\"name\":\"\",\"showlegend\":true,\"values\":[6,24,53,14,34],\"type\":\"pie\",\"textinfo\":\"percent+label\",\"textposition\":\"inside\"}],                        {\"template\":{\"data\":{\"histogram2dcontour\":[{\"type\":\"histogram2dcontour\",\"colorbar\":{\"outlinewidth\":0,\"ticks\":\"\"},\"colorscale\":[[0.0,\"#0d0887\"],[0.1111111111111111,\"#46039f\"],[0.2222222222222222,\"#7201a8\"],[0.3333333333333333,\"#9c179e\"],[0.4444444444444444,\"#bd3786\"],[0.5555555555555556,\"#d8576b\"],[0.6666666666666666,\"#ed7953\"],[0.7777777777777778,\"#fb9f3a\"],[0.8888888888888888,\"#fdca26\"],[1.0,\"#f0f921\"]]}],\"choropleth\":[{\"type\":\"choropleth\",\"colorbar\":{\"outlinewidth\":0,\"ticks\":\"\"}}],\"histogram2d\":[{\"type\":\"histogram2d\",\"colorbar\":{\"outlinewidth\":0,\"ticks\":\"\"},\"colorscale\":[[0.0,\"#0d0887\"],[0.1111111111111111,\"#46039f\"],[0.2222222222222222,\"#7201a8\"],[0.3333333333333333,\"#9c179e\"],[0.4444444444444444,\"#bd3786\"],[0.5555555555555556,\"#d8576b\"],[0.6666666666666666,\"#ed7953\"],[0.7777777777777778,\"#fb9f3a\"],[0.8888888888888888,\"#fdca26\"],[1.0,\"#f0f921\"]]}],\"heatmap\":[{\"type\":\"heatmap\",\"colorbar\":{\"outlinewidth\":0,\"ticks\":\"\"},\"colorscale\":[[0.0,\"#0d0887\"],[0.1111111111111111,\"#46039f\"],[0.2222222222222222,\"#7201a8\"],[0.3333333333333333,\"#9c179e\"],[0.4444444444444444,\"#bd3786\"],[0.5555555555555556,\"#d8576b\"],[0.6666666666666666,\"#ed7953\"],[0.7777777777777778,\"#fb9f3a\"],[0.8888888888888888,\"#fdca26\"],[1.0,\"#f0f921\"]]}],\"heatmapgl\":[{\"type\":\"heatmapgl\",\"colorbar\":{\"outlinewidth\":0,\"ticks\":\"\"},\"colorscale\":[[0.0,\"#0d0887\"],[0.1111111111111111,\"#46039f\"],[0.2222222222222222,\"#7201a8\"],[0.3333333333333333,\"#9c179e\"],[0.4444444444444444,\"#bd3786\"],[0.5555555555555556,\"#d8576b\"],[0.6666666666666666,\"#ed7953\"],[0.7777777777777778,\"#fb9f3a\"],[0.8888888888888888,\"#fdca26\"],[1.0,\"#f0f921\"]]}],\"contourcarpet\":[{\"type\":\"contourcarpet\",\"colorbar\":{\"outlinewidth\":0,\"ticks\":\"\"}}],\"contour\":[{\"type\":\"contour\",\"colorbar\":{\"outlinewidth\":0,\"ticks\":\"\"},\"colorscale\":[[0.0,\"#0d0887\"],[0.1111111111111111,\"#46039f\"],[0.2222222222222222,\"#7201a8\"],[0.3333333333333333,\"#9c179e\"],[0.4444444444444444,\"#bd3786\"],[0.5555555555555556,\"#d8576b\"],[0.6666666666666666,\"#ed7953\"],[0.7777777777777778,\"#fb9f3a\"],[0.8888888888888888,\"#fdca26\"],[1.0,\"#f0f921\"]]}],\"surface\":[{\"type\":\"surface\",\"colorbar\":{\"outlinewidth\":0,\"ticks\":\"\"},\"colorscale\":[[0.0,\"#0d0887\"],[0.1111111111111111,\"#46039f\"],[0.2222222222222222,\"#7201a8\"],[0.3333333333333333,\"#9c179e\"],[0.4444444444444444,\"#bd3786\"],[0.5555555555555556,\"#d8576b\"],[0.6666666666666666,\"#ed7953\"],[0.7777777777777778,\"#fb9f3a\"],[0.8888888888888888,\"#fdca26\"],[1.0,\"#f0f921\"]]}],\"mesh3d\":[{\"type\":\"mesh3d\",\"colorbar\":{\"outlinewidth\":0,\"ticks\":\"\"}}],\"scatter\":[{\"marker\":{\"line\":{\"color\":\"#283442\"}},\"type\":\"scatter\"}],\"parcoords\":[{\"type\":\"parcoords\",\"line\":{\"colorbar\":{\"outlinewidth\":0,\"ticks\":\"\"}}}],\"scatterpolargl\":[{\"type\":\"scatterpolargl\",\"marker\":{\"colorbar\":{\"outlinewidth\":0,\"ticks\":\"\"}}}],\"bar\":[{\"error_x\":{\"color\":\"#f2f5fa\"},\"error_y\":{\"color\":\"#f2f5fa\"},\"marker\":{\"line\":{\"color\":\"rgb(17,17,17)\",\"width\":0.5},\"pattern\":{\"fillmode\":\"overlay\",\"size\":10,\"solidity\":0.2}},\"type\":\"bar\"}],\"scattergeo\":[{\"type\":\"scattergeo\",\"marker\":{\"colorbar\":{\"outlinewidth\":0,\"ticks\":\"\"}}}],\"scatterpolar\":[{\"type\":\"scatterpolar\",\"marker\":{\"colorbar\":{\"outlinewidth\":0,\"ticks\":\"\"}}}],\"histogram\":[{\"marker\":{\"pattern\":{\"fillmode\":\"overlay\",\"size\":10,\"solidity\":0.2}},\"type\":\"histogram\"}],\"scattergl\":[{\"marker\":{\"line\":{\"color\":\"#283442\"}},\"type\":\"scattergl\"}],\"scatter3d\":[{\"type\":\"scatter3d\",\"line\":{\"colorbar\":{\"outlinewidth\":0,\"ticks\":\"\"}},\"marker\":{\"colorbar\":{\"outlinewidth\":0,\"ticks\":\"\"}}}],\"scattermapbox\":[{\"type\":\"scattermapbox\",\"marker\":{\"colorbar\":{\"outlinewidth\":0,\"ticks\":\"\"}}}],\"scatterternary\":[{\"type\":\"scatterternary\",\"marker\":{\"colorbar\":{\"outlinewidth\":0,\"ticks\":\"\"}}}],\"scattercarpet\":[{\"type\":\"scattercarpet\",\"marker\":{\"colorbar\":{\"outlinewidth\":0,\"ticks\":\"\"}}}],\"carpet\":[{\"aaxis\":{\"endlinecolor\":\"#A2B1C6\",\"gridcolor\":\"#506784\",\"linecolor\":\"#506784\",\"minorgridcolor\":\"#506784\",\"startlinecolor\":\"#A2B1C6\"},\"baxis\":{\"endlinecolor\":\"#A2B1C6\",\"gridcolor\":\"#506784\",\"linecolor\":\"#506784\",\"minorgridcolor\":\"#506784\",\"startlinecolor\":\"#A2B1C6\"},\"type\":\"carpet\"}],\"table\":[{\"cells\":{\"fill\":{\"color\":\"#506784\"},\"line\":{\"color\":\"rgb(17,17,17)\"}},\"header\":{\"fill\":{\"color\":\"#2a3f5f\"},\"line\":{\"color\":\"rgb(17,17,17)\"}},\"type\":\"table\"}],\"barpolar\":[{\"marker\":{\"line\":{\"color\":\"rgb(17,17,17)\",\"width\":0.5},\"pattern\":{\"fillmode\":\"overlay\",\"size\":10,\"solidity\":0.2}},\"type\":\"barpolar\"}],\"pie\":[{\"automargin\":true,\"type\":\"pie\"}]},\"layout\":{\"autotypenumbers\":\"strict\",\"colorway\":[\"#636efa\",\"#EF553B\",\"#00cc96\",\"#ab63fa\",\"#FFA15A\",\"#19d3f3\",\"#FF6692\",\"#B6E880\",\"#FF97FF\",\"#FECB52\"],\"font\":{\"color\":\"#f2f5fa\"},\"hovermode\":\"closest\",\"hoverlabel\":{\"align\":\"left\"},\"paper_bgcolor\":\"rgb(17,17,17)\",\"plot_bgcolor\":\"rgb(17,17,17)\",\"polar\":{\"bgcolor\":\"rgb(17,17,17)\",\"angularaxis\":{\"gridcolor\":\"#506784\",\"linecolor\":\"#506784\",\"ticks\":\"\"},\"radialaxis\":{\"gridcolor\":\"#506784\",\"linecolor\":\"#506784\",\"ticks\":\"\"}},\"ternary\":{\"bgcolor\":\"rgb(17,17,17)\",\"aaxis\":{\"gridcolor\":\"#506784\",\"linecolor\":\"#506784\",\"ticks\":\"\"},\"baxis\":{\"gridcolor\":\"#506784\",\"linecolor\":\"#506784\",\"ticks\":\"\"},\"caxis\":{\"gridcolor\":\"#506784\",\"linecolor\":\"#506784\",\"ticks\":\"\"}},\"coloraxis\":{\"colorbar\":{\"outlinewidth\":0,\"ticks\":\"\"}},\"colorscale\":{\"sequential\":[[0.0,\"#0d0887\"],[0.1111111111111111,\"#46039f\"],[0.2222222222222222,\"#7201a8\"],[0.3333333333333333,\"#9c179e\"],[0.4444444444444444,\"#bd3786\"],[0.5555555555555556,\"#d8576b\"],[0.6666666666666666,\"#ed7953\"],[0.7777777777777778,\"#fb9f3a\"],[0.8888888888888888,\"#fdca26\"],[1.0,\"#f0f921\"]],\"sequentialminus\":[[0.0,\"#0d0887\"],[0.1111111111111111,\"#46039f\"],[0.2222222222222222,\"#7201a8\"],[0.3333333333333333,\"#9c179e\"],[0.4444444444444444,\"#bd3786\"],[0.5555555555555556,\"#d8576b\"],[0.6666666666666666,\"#ed7953\"],[0.7777777777777778,\"#fb9f3a\"],[0.8888888888888888,\"#fdca26\"],[1.0,\"#f0f921\"]],\"diverging\":[[0,\"#8e0152\"],[0.1,\"#c51b7d\"],[0.2,\"#de77ae\"],[0.3,\"#f1b6da\"],[0.4,\"#fde0ef\"],[0.5,\"#f7f7f7\"],[0.6,\"#e6f5d0\"],[0.7,\"#b8e186\"],[0.8,\"#7fbc41\"],[0.9,\"#4d9221\"],[1,\"#276419\"]]},\"xaxis\":{\"gridcolor\":\"#283442\",\"linecolor\":\"#506784\",\"ticks\":\"\",\"title\":{\"standoff\":15},\"zerolinecolor\":\"#283442\",\"automargin\":true,\"zerolinewidth\":2},\"yaxis\":{\"gridcolor\":\"#283442\",\"linecolor\":\"#506784\",\"ticks\":\"\",\"title\":{\"standoff\":15},\"zerolinecolor\":\"#283442\",\"automargin\":true,\"zerolinewidth\":2},\"scene\":{\"xaxis\":{\"backgroundcolor\":\"rgb(17,17,17)\",\"gridcolor\":\"#506784\",\"linecolor\":\"#506784\",\"showbackground\":true,\"ticks\":\"\",\"zerolinecolor\":\"#C8D4E3\",\"gridwidth\":2},\"yaxis\":{\"backgroundcolor\":\"rgb(17,17,17)\",\"gridcolor\":\"#506784\",\"linecolor\":\"#506784\",\"showbackground\":true,\"ticks\":\"\",\"zerolinecolor\":\"#C8D4E3\",\"gridwidth\":2},\"zaxis\":{\"backgroundcolor\":\"rgb(17,17,17)\",\"gridcolor\":\"#506784\",\"linecolor\":\"#506784\",\"showbackground\":true,\"ticks\":\"\",\"zerolinecolor\":\"#C8D4E3\",\"gridwidth\":2}},\"shapedefaults\":{\"line\":{\"color\":\"#f2f5fa\"}},\"annotationdefaults\":{\"arrowcolor\":\"#f2f5fa\",\"arrowhead\":0,\"arrowwidth\":1},\"geo\":{\"bgcolor\":\"rgb(17,17,17)\",\"landcolor\":\"rgb(17,17,17)\",\"subunitcolor\":\"#506784\",\"showland\":true,\"showlakes\":true,\"lakecolor\":\"rgb(17,17,17)\"},\"title\":{\"x\":0.05},\"updatemenudefaults\":{\"bgcolor\":\"#506784\",\"borderwidth\":0},\"sliderdefaults\":{\"bgcolor\":\"#C8D4E3\",\"borderwidth\":1,\"bordercolor\":\"rgb(17,17,17)\",\"tickwidth\":0},\"mapbox\":{\"style\":\"dark\"}}},\"legend\":{\"tracegroupgap\":0},\"margin\":{\"t\":60},\"width\":800,\"height\":800},                        {\"responsive\": true}                    ).then(function(){\n",
       "                            \n",
       "var gd = document.getElementById('70691d41-eca9-49ab-8259-52b88f704a52');\n",
       "var x = new MutationObserver(function (mutations, observer) {{\n",
       "        var display = window.getComputedStyle(gd).display;\n",
       "        if (!display || display === 'none') {{\n",
       "            console.log([gd, 'removed!']);\n",
       "            Plotly.purge(gd);\n",
       "            observer.disconnect();\n",
       "        }}\n",
       "}});\n",
       "\n",
       "// Listen for the removal of the full notebook cells\n",
       "var notebookContainer = gd.closest('#notebook-container');\n",
       "if (notebookContainer) {{\n",
       "    x.observe(notebookContainer, {childList: true});\n",
       "}}\n",
       "\n",
       "// Listen for the clearing of the current output cell\n",
       "var outputEl = gd.closest('.output');\n",
       "if (outputEl) {{\n",
       "    x.observe(outputEl, {childList: true});\n",
       "}}\n",
       "\n",
       "                        })                };                });            </script>        </div>"
      ]
     },
     "metadata": {},
     "output_type": "display_data"
    }
   ],
   "execution_count": 55
  },
  {
   "metadata": {
    "ExecuteTime": {
     "end_time": "2024-09-17T18:43:38.909163Z",
     "start_time": "2024-09-17T18:43:38.884959Z"
    }
   },
   "cell_type": "code",
   "source": [
    "gender_usage = pl_data.select(\n",
    "    pl.col(['Q3', 'Q4'])\n",
    ").group_by(\n",
    "    ['Q3', 'Q4']\n",
    ").agg(\n",
    "    pl.count('Q4').alias('Count')\n",
    ")\n",
    "\n",
    "fig = px.pie(\n",
    "    gender_usage,\n",
    "    values='Count',\n",
    "    names='Q4',\n",
    "    color='Q3',\n",
    "    title='Gender distribution, Question 3, ChatGPT usage',\n",
    "    labels={'Q4': 'Usage'},\n",
    "    hover_data=['Count'],\n",
    ")\n",
    "\n",
    "fig.update_traces(\n",
    "    textinfo='percent+label',\n",
    "    texttemplate='%{label}: %{value} (%{percent})',\n",
    ")\n",
    "\n",
    "fig.update_layout(\n",
    "    width=800,\n",
    "    height=800,\n",
    ")\n",
    "\n",
    "fig.show()"
   ],
   "id": "6a131480cfd62e62",
   "outputs": [
    {
     "data": {
      "application/vnd.plotly.v1+json": {
       "data": [
        {
         "customdata": [
          [
           13,
           "Female"
          ],
          [
           10,
           "Male"
          ],
          [
           5,
           "Female"
          ],
          [
           18,
           "Female"
          ],
          [
           1,
           "Male"
          ],
          [
           30,
           "Female"
          ],
          [
           6,
           "Male"
          ],
          [
           1,
           "Male"
          ],
          [
           43,
           "Female"
          ],
          [
           4,
           "Male"
          ]
         ],
         "domain": {
          "x": [
           0.0,
           1.0
          ],
          "y": [
           0.0,
           1.0
          ]
         },
         "hovertemplate": "Usage=%{label}<br>Count=%{customdata[0]}<br>Q3=%{customdata[1]}<extra></extra>",
         "labels": [
          "Never",
          "Sometimes",
          "Very often",
          "Often",
          "Never",
          "Rarely",
          "Often",
          "Very often",
          "Sometimes",
          "Rarely"
         ],
         "legendgroup": "",
         "marker": {
          "colors": [
           "#636efa",
           "#EF553B",
           "#636efa",
           "#636efa",
           "#EF553B",
           "#636efa",
           "#EF553B",
           "#EF553B",
           "#636efa",
           "#EF553B"
          ]
         },
         "name": "",
         "showlegend": true,
         "values": [
          13,
          10,
          5,
          18,
          1,
          30,
          6,
          1,
          43,
          4
         ],
         "type": "pie",
         "textinfo": "percent+label",
         "texttemplate": "%{label}: %{value} (%{percent})"
        }
       ],
       "layout": {
        "template": {
         "data": {
          "histogram2dcontour": [
           {
            "type": "histogram2dcontour",
            "colorbar": {
             "outlinewidth": 0,
             "ticks": ""
            },
            "colorscale": [
             [
              0.0,
              "#0d0887"
             ],
             [
              0.1111111111111111,
              "#46039f"
             ],
             [
              0.2222222222222222,
              "#7201a8"
             ],
             [
              0.3333333333333333,
              "#9c179e"
             ],
             [
              0.4444444444444444,
              "#bd3786"
             ],
             [
              0.5555555555555556,
              "#d8576b"
             ],
             [
              0.6666666666666666,
              "#ed7953"
             ],
             [
              0.7777777777777778,
              "#fb9f3a"
             ],
             [
              0.8888888888888888,
              "#fdca26"
             ],
             [
              1.0,
              "#f0f921"
             ]
            ]
           }
          ],
          "choropleth": [
           {
            "type": "choropleth",
            "colorbar": {
             "outlinewidth": 0,
             "ticks": ""
            }
           }
          ],
          "histogram2d": [
           {
            "type": "histogram2d",
            "colorbar": {
             "outlinewidth": 0,
             "ticks": ""
            },
            "colorscale": [
             [
              0.0,
              "#0d0887"
             ],
             [
              0.1111111111111111,
              "#46039f"
             ],
             [
              0.2222222222222222,
              "#7201a8"
             ],
             [
              0.3333333333333333,
              "#9c179e"
             ],
             [
              0.4444444444444444,
              "#bd3786"
             ],
             [
              0.5555555555555556,
              "#d8576b"
             ],
             [
              0.6666666666666666,
              "#ed7953"
             ],
             [
              0.7777777777777778,
              "#fb9f3a"
             ],
             [
              0.8888888888888888,
              "#fdca26"
             ],
             [
              1.0,
              "#f0f921"
             ]
            ]
           }
          ],
          "heatmap": [
           {
            "type": "heatmap",
            "colorbar": {
             "outlinewidth": 0,
             "ticks": ""
            },
            "colorscale": [
             [
              0.0,
              "#0d0887"
             ],
             [
              0.1111111111111111,
              "#46039f"
             ],
             [
              0.2222222222222222,
              "#7201a8"
             ],
             [
              0.3333333333333333,
              "#9c179e"
             ],
             [
              0.4444444444444444,
              "#bd3786"
             ],
             [
              0.5555555555555556,
              "#d8576b"
             ],
             [
              0.6666666666666666,
              "#ed7953"
             ],
             [
              0.7777777777777778,
              "#fb9f3a"
             ],
             [
              0.8888888888888888,
              "#fdca26"
             ],
             [
              1.0,
              "#f0f921"
             ]
            ]
           }
          ],
          "heatmapgl": [
           {
            "type": "heatmapgl",
            "colorbar": {
             "outlinewidth": 0,
             "ticks": ""
            },
            "colorscale": [
             [
              0.0,
              "#0d0887"
             ],
             [
              0.1111111111111111,
              "#46039f"
             ],
             [
              0.2222222222222222,
              "#7201a8"
             ],
             [
              0.3333333333333333,
              "#9c179e"
             ],
             [
              0.4444444444444444,
              "#bd3786"
             ],
             [
              0.5555555555555556,
              "#d8576b"
             ],
             [
              0.6666666666666666,
              "#ed7953"
             ],
             [
              0.7777777777777778,
              "#fb9f3a"
             ],
             [
              0.8888888888888888,
              "#fdca26"
             ],
             [
              1.0,
              "#f0f921"
             ]
            ]
           }
          ],
          "contourcarpet": [
           {
            "type": "contourcarpet",
            "colorbar": {
             "outlinewidth": 0,
             "ticks": ""
            }
           }
          ],
          "contour": [
           {
            "type": "contour",
            "colorbar": {
             "outlinewidth": 0,
             "ticks": ""
            },
            "colorscale": [
             [
              0.0,
              "#0d0887"
             ],
             [
              0.1111111111111111,
              "#46039f"
             ],
             [
              0.2222222222222222,
              "#7201a8"
             ],
             [
              0.3333333333333333,
              "#9c179e"
             ],
             [
              0.4444444444444444,
              "#bd3786"
             ],
             [
              0.5555555555555556,
              "#d8576b"
             ],
             [
              0.6666666666666666,
              "#ed7953"
             ],
             [
              0.7777777777777778,
              "#fb9f3a"
             ],
             [
              0.8888888888888888,
              "#fdca26"
             ],
             [
              1.0,
              "#f0f921"
             ]
            ]
           }
          ],
          "surface": [
           {
            "type": "surface",
            "colorbar": {
             "outlinewidth": 0,
             "ticks": ""
            },
            "colorscale": [
             [
              0.0,
              "#0d0887"
             ],
             [
              0.1111111111111111,
              "#46039f"
             ],
             [
              0.2222222222222222,
              "#7201a8"
             ],
             [
              0.3333333333333333,
              "#9c179e"
             ],
             [
              0.4444444444444444,
              "#bd3786"
             ],
             [
              0.5555555555555556,
              "#d8576b"
             ],
             [
              0.6666666666666666,
              "#ed7953"
             ],
             [
              0.7777777777777778,
              "#fb9f3a"
             ],
             [
              0.8888888888888888,
              "#fdca26"
             ],
             [
              1.0,
              "#f0f921"
             ]
            ]
           }
          ],
          "mesh3d": [
           {
            "type": "mesh3d",
            "colorbar": {
             "outlinewidth": 0,
             "ticks": ""
            }
           }
          ],
          "scatter": [
           {
            "marker": {
             "line": {
              "color": "#283442"
             }
            },
            "type": "scatter"
           }
          ],
          "parcoords": [
           {
            "type": "parcoords",
            "line": {
             "colorbar": {
              "outlinewidth": 0,
              "ticks": ""
             }
            }
           }
          ],
          "scatterpolargl": [
           {
            "type": "scatterpolargl",
            "marker": {
             "colorbar": {
              "outlinewidth": 0,
              "ticks": ""
             }
            }
           }
          ],
          "bar": [
           {
            "error_x": {
             "color": "#f2f5fa"
            },
            "error_y": {
             "color": "#f2f5fa"
            },
            "marker": {
             "line": {
              "color": "rgb(17,17,17)",
              "width": 0.5
             },
             "pattern": {
              "fillmode": "overlay",
              "size": 10,
              "solidity": 0.2
             }
            },
            "type": "bar"
           }
          ],
          "scattergeo": [
           {
            "type": "scattergeo",
            "marker": {
             "colorbar": {
              "outlinewidth": 0,
              "ticks": ""
             }
            }
           }
          ],
          "scatterpolar": [
           {
            "type": "scatterpolar",
            "marker": {
             "colorbar": {
              "outlinewidth": 0,
              "ticks": ""
             }
            }
           }
          ],
          "histogram": [
           {
            "marker": {
             "pattern": {
              "fillmode": "overlay",
              "size": 10,
              "solidity": 0.2
             }
            },
            "type": "histogram"
           }
          ],
          "scattergl": [
           {
            "marker": {
             "line": {
              "color": "#283442"
             }
            },
            "type": "scattergl"
           }
          ],
          "scatter3d": [
           {
            "type": "scatter3d",
            "line": {
             "colorbar": {
              "outlinewidth": 0,
              "ticks": ""
             }
            },
            "marker": {
             "colorbar": {
              "outlinewidth": 0,
              "ticks": ""
             }
            }
           }
          ],
          "scattermapbox": [
           {
            "type": "scattermapbox",
            "marker": {
             "colorbar": {
              "outlinewidth": 0,
              "ticks": ""
             }
            }
           }
          ],
          "scatterternary": [
           {
            "type": "scatterternary",
            "marker": {
             "colorbar": {
              "outlinewidth": 0,
              "ticks": ""
             }
            }
           }
          ],
          "scattercarpet": [
           {
            "type": "scattercarpet",
            "marker": {
             "colorbar": {
              "outlinewidth": 0,
              "ticks": ""
             }
            }
           }
          ],
          "carpet": [
           {
            "aaxis": {
             "endlinecolor": "#A2B1C6",
             "gridcolor": "#506784",
             "linecolor": "#506784",
             "minorgridcolor": "#506784",
             "startlinecolor": "#A2B1C6"
            },
            "baxis": {
             "endlinecolor": "#A2B1C6",
             "gridcolor": "#506784",
             "linecolor": "#506784",
             "minorgridcolor": "#506784",
             "startlinecolor": "#A2B1C6"
            },
            "type": "carpet"
           }
          ],
          "table": [
           {
            "cells": {
             "fill": {
              "color": "#506784"
             },
             "line": {
              "color": "rgb(17,17,17)"
             }
            },
            "header": {
             "fill": {
              "color": "#2a3f5f"
             },
             "line": {
              "color": "rgb(17,17,17)"
             }
            },
            "type": "table"
           }
          ],
          "barpolar": [
           {
            "marker": {
             "line": {
              "color": "rgb(17,17,17)",
              "width": 0.5
             },
             "pattern": {
              "fillmode": "overlay",
              "size": 10,
              "solidity": 0.2
             }
            },
            "type": "barpolar"
           }
          ],
          "pie": [
           {
            "automargin": true,
            "type": "pie"
           }
          ]
         },
         "layout": {
          "autotypenumbers": "strict",
          "colorway": [
           "#636efa",
           "#EF553B",
           "#00cc96",
           "#ab63fa",
           "#FFA15A",
           "#19d3f3",
           "#FF6692",
           "#B6E880",
           "#FF97FF",
           "#FECB52"
          ],
          "font": {
           "color": "#f2f5fa"
          },
          "hovermode": "closest",
          "hoverlabel": {
           "align": "left"
          },
          "paper_bgcolor": "rgb(17,17,17)",
          "plot_bgcolor": "rgb(17,17,17)",
          "polar": {
           "bgcolor": "rgb(17,17,17)",
           "angularaxis": {
            "gridcolor": "#506784",
            "linecolor": "#506784",
            "ticks": ""
           },
           "radialaxis": {
            "gridcolor": "#506784",
            "linecolor": "#506784",
            "ticks": ""
           }
          },
          "ternary": {
           "bgcolor": "rgb(17,17,17)",
           "aaxis": {
            "gridcolor": "#506784",
            "linecolor": "#506784",
            "ticks": ""
           },
           "baxis": {
            "gridcolor": "#506784",
            "linecolor": "#506784",
            "ticks": ""
           },
           "caxis": {
            "gridcolor": "#506784",
            "linecolor": "#506784",
            "ticks": ""
           }
          },
          "coloraxis": {
           "colorbar": {
            "outlinewidth": 0,
            "ticks": ""
           }
          },
          "colorscale": {
           "sequential": [
            [
             0.0,
             "#0d0887"
            ],
            [
             0.1111111111111111,
             "#46039f"
            ],
            [
             0.2222222222222222,
             "#7201a8"
            ],
            [
             0.3333333333333333,
             "#9c179e"
            ],
            [
             0.4444444444444444,
             "#bd3786"
            ],
            [
             0.5555555555555556,
             "#d8576b"
            ],
            [
             0.6666666666666666,
             "#ed7953"
            ],
            [
             0.7777777777777778,
             "#fb9f3a"
            ],
            [
             0.8888888888888888,
             "#fdca26"
            ],
            [
             1.0,
             "#f0f921"
            ]
           ],
           "sequentialminus": [
            [
             0.0,
             "#0d0887"
            ],
            [
             0.1111111111111111,
             "#46039f"
            ],
            [
             0.2222222222222222,
             "#7201a8"
            ],
            [
             0.3333333333333333,
             "#9c179e"
            ],
            [
             0.4444444444444444,
             "#bd3786"
            ],
            [
             0.5555555555555556,
             "#d8576b"
            ],
            [
             0.6666666666666666,
             "#ed7953"
            ],
            [
             0.7777777777777778,
             "#fb9f3a"
            ],
            [
             0.8888888888888888,
             "#fdca26"
            ],
            [
             1.0,
             "#f0f921"
            ]
           ],
           "diverging": [
            [
             0,
             "#8e0152"
            ],
            [
             0.1,
             "#c51b7d"
            ],
            [
             0.2,
             "#de77ae"
            ],
            [
             0.3,
             "#f1b6da"
            ],
            [
             0.4,
             "#fde0ef"
            ],
            [
             0.5,
             "#f7f7f7"
            ],
            [
             0.6,
             "#e6f5d0"
            ],
            [
             0.7,
             "#b8e186"
            ],
            [
             0.8,
             "#7fbc41"
            ],
            [
             0.9,
             "#4d9221"
            ],
            [
             1,
             "#276419"
            ]
           ]
          },
          "xaxis": {
           "gridcolor": "#283442",
           "linecolor": "#506784",
           "ticks": "",
           "title": {
            "standoff": 15
           },
           "zerolinecolor": "#283442",
           "automargin": true,
           "zerolinewidth": 2
          },
          "yaxis": {
           "gridcolor": "#283442",
           "linecolor": "#506784",
           "ticks": "",
           "title": {
            "standoff": 15
           },
           "zerolinecolor": "#283442",
           "automargin": true,
           "zerolinewidth": 2
          },
          "scene": {
           "xaxis": {
            "backgroundcolor": "rgb(17,17,17)",
            "gridcolor": "#506784",
            "linecolor": "#506784",
            "showbackground": true,
            "ticks": "",
            "zerolinecolor": "#C8D4E3",
            "gridwidth": 2
           },
           "yaxis": {
            "backgroundcolor": "rgb(17,17,17)",
            "gridcolor": "#506784",
            "linecolor": "#506784",
            "showbackground": true,
            "ticks": "",
            "zerolinecolor": "#C8D4E3",
            "gridwidth": 2
           },
           "zaxis": {
            "backgroundcolor": "rgb(17,17,17)",
            "gridcolor": "#506784",
            "linecolor": "#506784",
            "showbackground": true,
            "ticks": "",
            "zerolinecolor": "#C8D4E3",
            "gridwidth": 2
           }
          },
          "shapedefaults": {
           "line": {
            "color": "#f2f5fa"
           }
          },
          "annotationdefaults": {
           "arrowcolor": "#f2f5fa",
           "arrowhead": 0,
           "arrowwidth": 1
          },
          "geo": {
           "bgcolor": "rgb(17,17,17)",
           "landcolor": "rgb(17,17,17)",
           "subunitcolor": "#506784",
           "showland": true,
           "showlakes": true,
           "lakecolor": "rgb(17,17,17)"
          },
          "title": {
           "x": 0.05
          },
          "updatemenudefaults": {
           "bgcolor": "#506784",
           "borderwidth": 0
          },
          "sliderdefaults": {
           "bgcolor": "#C8D4E3",
           "borderwidth": 1,
           "bordercolor": "rgb(17,17,17)",
           "tickwidth": 0
          },
          "mapbox": {
           "style": "dark"
          }
         }
        },
        "legend": {
         "tracegroupgap": 0
        },
        "title": {
         "text": "Gender distribution, Question 3, ChatGPT usage"
        },
        "width": 800,
        "height": 800
       },
       "config": {
        "plotlyServerURL": "https://plot.ly"
       }
      },
      "text/html": [
       "<div>                            <div id=\"b457a25a-96dc-4b0f-a2c6-4d33f675887b\" class=\"plotly-graph-div\" style=\"height:800px; width:800px;\"></div>            <script type=\"text/javascript\">                require([\"plotly\"], function(Plotly) {                    window.PLOTLYENV=window.PLOTLYENV || {};                                    if (document.getElementById(\"b457a25a-96dc-4b0f-a2c6-4d33f675887b\")) {                    Plotly.newPlot(                        \"b457a25a-96dc-4b0f-a2c6-4d33f675887b\",                        [{\"customdata\":[[13,\"Female\"],[10,\"Male\"],[5,\"Female\"],[18,\"Female\"],[1,\"Male\"],[30,\"Female\"],[6,\"Male\"],[1,\"Male\"],[43,\"Female\"],[4,\"Male\"]],\"domain\":{\"x\":[0.0,1.0],\"y\":[0.0,1.0]},\"hovertemplate\":\"Usage=%{label}\\u003cbr\\u003eCount=%{customdata[0]}\\u003cbr\\u003eQ3=%{customdata[1]}\\u003cextra\\u003e\\u003c\\u002fextra\\u003e\",\"labels\":[\"Never\",\"Sometimes\",\"Very often\",\"Often\",\"Never\",\"Rarely\",\"Often\",\"Very often\",\"Sometimes\",\"Rarely\"],\"legendgroup\":\"\",\"marker\":{\"colors\":[\"#636efa\",\"#EF553B\",\"#636efa\",\"#636efa\",\"#EF553B\",\"#636efa\",\"#EF553B\",\"#EF553B\",\"#636efa\",\"#EF553B\"]},\"name\":\"\",\"showlegend\":true,\"values\":[13,10,5,18,1,30,6,1,43,4],\"type\":\"pie\",\"textinfo\":\"percent+label\",\"texttemplate\":\"%{label}: %{value} (%{percent})\"}],                        {\"template\":{\"data\":{\"histogram2dcontour\":[{\"type\":\"histogram2dcontour\",\"colorbar\":{\"outlinewidth\":0,\"ticks\":\"\"},\"colorscale\":[[0.0,\"#0d0887\"],[0.1111111111111111,\"#46039f\"],[0.2222222222222222,\"#7201a8\"],[0.3333333333333333,\"#9c179e\"],[0.4444444444444444,\"#bd3786\"],[0.5555555555555556,\"#d8576b\"],[0.6666666666666666,\"#ed7953\"],[0.7777777777777778,\"#fb9f3a\"],[0.8888888888888888,\"#fdca26\"],[1.0,\"#f0f921\"]]}],\"choropleth\":[{\"type\":\"choropleth\",\"colorbar\":{\"outlinewidth\":0,\"ticks\":\"\"}}],\"histogram2d\":[{\"type\":\"histogram2d\",\"colorbar\":{\"outlinewidth\":0,\"ticks\":\"\"},\"colorscale\":[[0.0,\"#0d0887\"],[0.1111111111111111,\"#46039f\"],[0.2222222222222222,\"#7201a8\"],[0.3333333333333333,\"#9c179e\"],[0.4444444444444444,\"#bd3786\"],[0.5555555555555556,\"#d8576b\"],[0.6666666666666666,\"#ed7953\"],[0.7777777777777778,\"#fb9f3a\"],[0.8888888888888888,\"#fdca26\"],[1.0,\"#f0f921\"]]}],\"heatmap\":[{\"type\":\"heatmap\",\"colorbar\":{\"outlinewidth\":0,\"ticks\":\"\"},\"colorscale\":[[0.0,\"#0d0887\"],[0.1111111111111111,\"#46039f\"],[0.2222222222222222,\"#7201a8\"],[0.3333333333333333,\"#9c179e\"],[0.4444444444444444,\"#bd3786\"],[0.5555555555555556,\"#d8576b\"],[0.6666666666666666,\"#ed7953\"],[0.7777777777777778,\"#fb9f3a\"],[0.8888888888888888,\"#fdca26\"],[1.0,\"#f0f921\"]]}],\"heatmapgl\":[{\"type\":\"heatmapgl\",\"colorbar\":{\"outlinewidth\":0,\"ticks\":\"\"},\"colorscale\":[[0.0,\"#0d0887\"],[0.1111111111111111,\"#46039f\"],[0.2222222222222222,\"#7201a8\"],[0.3333333333333333,\"#9c179e\"],[0.4444444444444444,\"#bd3786\"],[0.5555555555555556,\"#d8576b\"],[0.6666666666666666,\"#ed7953\"],[0.7777777777777778,\"#fb9f3a\"],[0.8888888888888888,\"#fdca26\"],[1.0,\"#f0f921\"]]}],\"contourcarpet\":[{\"type\":\"contourcarpet\",\"colorbar\":{\"outlinewidth\":0,\"ticks\":\"\"}}],\"contour\":[{\"type\":\"contour\",\"colorbar\":{\"outlinewidth\":0,\"ticks\":\"\"},\"colorscale\":[[0.0,\"#0d0887\"],[0.1111111111111111,\"#46039f\"],[0.2222222222222222,\"#7201a8\"],[0.3333333333333333,\"#9c179e\"],[0.4444444444444444,\"#bd3786\"],[0.5555555555555556,\"#d8576b\"],[0.6666666666666666,\"#ed7953\"],[0.7777777777777778,\"#fb9f3a\"],[0.8888888888888888,\"#fdca26\"],[1.0,\"#f0f921\"]]}],\"surface\":[{\"type\":\"surface\",\"colorbar\":{\"outlinewidth\":0,\"ticks\":\"\"},\"colorscale\":[[0.0,\"#0d0887\"],[0.1111111111111111,\"#46039f\"],[0.2222222222222222,\"#7201a8\"],[0.3333333333333333,\"#9c179e\"],[0.4444444444444444,\"#bd3786\"],[0.5555555555555556,\"#d8576b\"],[0.6666666666666666,\"#ed7953\"],[0.7777777777777778,\"#fb9f3a\"],[0.8888888888888888,\"#fdca26\"],[1.0,\"#f0f921\"]]}],\"mesh3d\":[{\"type\":\"mesh3d\",\"colorbar\":{\"outlinewidth\":0,\"ticks\":\"\"}}],\"scatter\":[{\"marker\":{\"line\":{\"color\":\"#283442\"}},\"type\":\"scatter\"}],\"parcoords\":[{\"type\":\"parcoords\",\"line\":{\"colorbar\":{\"outlinewidth\":0,\"ticks\":\"\"}}}],\"scatterpolargl\":[{\"type\":\"scatterpolargl\",\"marker\":{\"colorbar\":{\"outlinewidth\":0,\"ticks\":\"\"}}}],\"bar\":[{\"error_x\":{\"color\":\"#f2f5fa\"},\"error_y\":{\"color\":\"#f2f5fa\"},\"marker\":{\"line\":{\"color\":\"rgb(17,17,17)\",\"width\":0.5},\"pattern\":{\"fillmode\":\"overlay\",\"size\":10,\"solidity\":0.2}},\"type\":\"bar\"}],\"scattergeo\":[{\"type\":\"scattergeo\",\"marker\":{\"colorbar\":{\"outlinewidth\":0,\"ticks\":\"\"}}}],\"scatterpolar\":[{\"type\":\"scatterpolar\",\"marker\":{\"colorbar\":{\"outlinewidth\":0,\"ticks\":\"\"}}}],\"histogram\":[{\"marker\":{\"pattern\":{\"fillmode\":\"overlay\",\"size\":10,\"solidity\":0.2}},\"type\":\"histogram\"}],\"scattergl\":[{\"marker\":{\"line\":{\"color\":\"#283442\"}},\"type\":\"scattergl\"}],\"scatter3d\":[{\"type\":\"scatter3d\",\"line\":{\"colorbar\":{\"outlinewidth\":0,\"ticks\":\"\"}},\"marker\":{\"colorbar\":{\"outlinewidth\":0,\"ticks\":\"\"}}}],\"scattermapbox\":[{\"type\":\"scattermapbox\",\"marker\":{\"colorbar\":{\"outlinewidth\":0,\"ticks\":\"\"}}}],\"scatterternary\":[{\"type\":\"scatterternary\",\"marker\":{\"colorbar\":{\"outlinewidth\":0,\"ticks\":\"\"}}}],\"scattercarpet\":[{\"type\":\"scattercarpet\",\"marker\":{\"colorbar\":{\"outlinewidth\":0,\"ticks\":\"\"}}}],\"carpet\":[{\"aaxis\":{\"endlinecolor\":\"#A2B1C6\",\"gridcolor\":\"#506784\",\"linecolor\":\"#506784\",\"minorgridcolor\":\"#506784\",\"startlinecolor\":\"#A2B1C6\"},\"baxis\":{\"endlinecolor\":\"#A2B1C6\",\"gridcolor\":\"#506784\",\"linecolor\":\"#506784\",\"minorgridcolor\":\"#506784\",\"startlinecolor\":\"#A2B1C6\"},\"type\":\"carpet\"}],\"table\":[{\"cells\":{\"fill\":{\"color\":\"#506784\"},\"line\":{\"color\":\"rgb(17,17,17)\"}},\"header\":{\"fill\":{\"color\":\"#2a3f5f\"},\"line\":{\"color\":\"rgb(17,17,17)\"}},\"type\":\"table\"}],\"barpolar\":[{\"marker\":{\"line\":{\"color\":\"rgb(17,17,17)\",\"width\":0.5},\"pattern\":{\"fillmode\":\"overlay\",\"size\":10,\"solidity\":0.2}},\"type\":\"barpolar\"}],\"pie\":[{\"automargin\":true,\"type\":\"pie\"}]},\"layout\":{\"autotypenumbers\":\"strict\",\"colorway\":[\"#636efa\",\"#EF553B\",\"#00cc96\",\"#ab63fa\",\"#FFA15A\",\"#19d3f3\",\"#FF6692\",\"#B6E880\",\"#FF97FF\",\"#FECB52\"],\"font\":{\"color\":\"#f2f5fa\"},\"hovermode\":\"closest\",\"hoverlabel\":{\"align\":\"left\"},\"paper_bgcolor\":\"rgb(17,17,17)\",\"plot_bgcolor\":\"rgb(17,17,17)\",\"polar\":{\"bgcolor\":\"rgb(17,17,17)\",\"angularaxis\":{\"gridcolor\":\"#506784\",\"linecolor\":\"#506784\",\"ticks\":\"\"},\"radialaxis\":{\"gridcolor\":\"#506784\",\"linecolor\":\"#506784\",\"ticks\":\"\"}},\"ternary\":{\"bgcolor\":\"rgb(17,17,17)\",\"aaxis\":{\"gridcolor\":\"#506784\",\"linecolor\":\"#506784\",\"ticks\":\"\"},\"baxis\":{\"gridcolor\":\"#506784\",\"linecolor\":\"#506784\",\"ticks\":\"\"},\"caxis\":{\"gridcolor\":\"#506784\",\"linecolor\":\"#506784\",\"ticks\":\"\"}},\"coloraxis\":{\"colorbar\":{\"outlinewidth\":0,\"ticks\":\"\"}},\"colorscale\":{\"sequential\":[[0.0,\"#0d0887\"],[0.1111111111111111,\"#46039f\"],[0.2222222222222222,\"#7201a8\"],[0.3333333333333333,\"#9c179e\"],[0.4444444444444444,\"#bd3786\"],[0.5555555555555556,\"#d8576b\"],[0.6666666666666666,\"#ed7953\"],[0.7777777777777778,\"#fb9f3a\"],[0.8888888888888888,\"#fdca26\"],[1.0,\"#f0f921\"]],\"sequentialminus\":[[0.0,\"#0d0887\"],[0.1111111111111111,\"#46039f\"],[0.2222222222222222,\"#7201a8\"],[0.3333333333333333,\"#9c179e\"],[0.4444444444444444,\"#bd3786\"],[0.5555555555555556,\"#d8576b\"],[0.6666666666666666,\"#ed7953\"],[0.7777777777777778,\"#fb9f3a\"],[0.8888888888888888,\"#fdca26\"],[1.0,\"#f0f921\"]],\"diverging\":[[0,\"#8e0152\"],[0.1,\"#c51b7d\"],[0.2,\"#de77ae\"],[0.3,\"#f1b6da\"],[0.4,\"#fde0ef\"],[0.5,\"#f7f7f7\"],[0.6,\"#e6f5d0\"],[0.7,\"#b8e186\"],[0.8,\"#7fbc41\"],[0.9,\"#4d9221\"],[1,\"#276419\"]]},\"xaxis\":{\"gridcolor\":\"#283442\",\"linecolor\":\"#506784\",\"ticks\":\"\",\"title\":{\"standoff\":15},\"zerolinecolor\":\"#283442\",\"automargin\":true,\"zerolinewidth\":2},\"yaxis\":{\"gridcolor\":\"#283442\",\"linecolor\":\"#506784\",\"ticks\":\"\",\"title\":{\"standoff\":15},\"zerolinecolor\":\"#283442\",\"automargin\":true,\"zerolinewidth\":2},\"scene\":{\"xaxis\":{\"backgroundcolor\":\"rgb(17,17,17)\",\"gridcolor\":\"#506784\",\"linecolor\":\"#506784\",\"showbackground\":true,\"ticks\":\"\",\"zerolinecolor\":\"#C8D4E3\",\"gridwidth\":2},\"yaxis\":{\"backgroundcolor\":\"rgb(17,17,17)\",\"gridcolor\":\"#506784\",\"linecolor\":\"#506784\",\"showbackground\":true,\"ticks\":\"\",\"zerolinecolor\":\"#C8D4E3\",\"gridwidth\":2},\"zaxis\":{\"backgroundcolor\":\"rgb(17,17,17)\",\"gridcolor\":\"#506784\",\"linecolor\":\"#506784\",\"showbackground\":true,\"ticks\":\"\",\"zerolinecolor\":\"#C8D4E3\",\"gridwidth\":2}},\"shapedefaults\":{\"line\":{\"color\":\"#f2f5fa\"}},\"annotationdefaults\":{\"arrowcolor\":\"#f2f5fa\",\"arrowhead\":0,\"arrowwidth\":1},\"geo\":{\"bgcolor\":\"rgb(17,17,17)\",\"landcolor\":\"rgb(17,17,17)\",\"subunitcolor\":\"#506784\",\"showland\":true,\"showlakes\":true,\"lakecolor\":\"rgb(17,17,17)\"},\"title\":{\"x\":0.05},\"updatemenudefaults\":{\"bgcolor\":\"#506784\",\"borderwidth\":0},\"sliderdefaults\":{\"bgcolor\":\"#C8D4E3\",\"borderwidth\":1,\"bordercolor\":\"rgb(17,17,17)\",\"tickwidth\":0},\"mapbox\":{\"style\":\"dark\"}}},\"legend\":{\"tracegroupgap\":0},\"title\":{\"text\":\"Gender distribution, Question 3, ChatGPT usage\"},\"width\":800,\"height\":800},                        {\"responsive\": true}                    ).then(function(){\n",
       "                            \n",
       "var gd = document.getElementById('b457a25a-96dc-4b0f-a2c6-4d33f675887b');\n",
       "var x = new MutationObserver(function (mutations, observer) {{\n",
       "        var display = window.getComputedStyle(gd).display;\n",
       "        if (!display || display === 'none') {{\n",
       "            console.log([gd, 'removed!']);\n",
       "            Plotly.purge(gd);\n",
       "            observer.disconnect();\n",
       "        }}\n",
       "}});\n",
       "\n",
       "// Listen for the removal of the full notebook cells\n",
       "var notebookContainer = gd.closest('#notebook-container');\n",
       "if (notebookContainer) {{\n",
       "    x.observe(notebookContainer, {childList: true});\n",
       "}}\n",
       "\n",
       "// Listen for the clearing of the current output cell\n",
       "var outputEl = gd.closest('.output');\n",
       "if (outputEl) {{\n",
       "    x.observe(outputEl, {childList: true});\n",
       "}}\n",
       "\n",
       "                        })                };                });            </script>        </div>"
      ]
     },
     "metadata": {},
     "output_type": "display_data"
    }
   ],
   "execution_count": 56
  },
  {
   "metadata": {
    "ExecuteTime": {
     "end_time": "2024-09-17T18:43:39.081165Z",
     "start_time": "2024-09-17T18:43:39.013072Z"
    }
   },
   "cell_type": "code",
   "source": [
    "fig = px.histogram(\n",
    "    pl_data,\n",
    "    x='Q4',\n",
    "    color='Q3',\n",
    "    title='Distribution of Usage (Q4) by Gender (Q3) and ChatGPT usage',\n",
    "    labels={'Q4': 'Usage', 'Q3': 'Gender'},\n",
    "    marginal= 'box',\n",
    "    hover_data=pl_data.columns,\n",
    ")\n",
    "\n",
    "fig.update_layout(\n",
    "    width=1200,\n",
    "    height=800,\n",
    ")\n",
    "\n",
    "fig.show()"
   ],
   "id": "a3808b7b238ac168",
   "outputs": [
    {
     "data": {
      "application/vnd.plotly.v1+json": {
       "data": [
        {
         "alignmentgroup": "True",
         "bingroup": "x",
         "hovertemplate": "Gender=Female<br>Usage=%{x}<br>count=%{y}<extra></extra>",
         "legendgroup": "Female",
         "marker": {
          "color": "#636efa",
          "pattern": {
           "shape": ""
          }
         },
         "name": "Female",
         "offsetgroup": "Female",
         "orientation": "v",
         "showlegend": true,
         "x": [
          "Often",
          "Sometimes",
          "Rarely",
          "Rarely",
          "Sometimes",
          "Often",
          "Rarely",
          "Sometimes",
          "Rarely",
          "Rarely",
          "Sometimes",
          "Very often",
          "Rarely",
          "Never",
          "Rarely",
          "Sometimes",
          "Often",
          "Sometimes",
          "Rarely",
          "Sometimes",
          "Often",
          "Sometimes",
          "Sometimes",
          "Sometimes",
          "Sometimes",
          "Never",
          "Rarely",
          "Rarely",
          "Sometimes",
          "Often",
          "Rarely",
          "Sometimes",
          "Rarely",
          "Sometimes",
          "Sometimes",
          "Never",
          "Often",
          "Often",
          "Rarely",
          "Sometimes",
          "Sometimes",
          "Sometimes",
          "Often",
          "Very often",
          "Rarely",
          "Sometimes",
          "Rarely",
          "Very often",
          "Rarely",
          "Often",
          "Sometimes",
          "Sometimes",
          "Rarely",
          "Sometimes",
          "Sometimes",
          "Sometimes",
          "Often",
          "Sometimes",
          "Sometimes",
          "Often",
          "Rarely",
          "Never",
          "Sometimes",
          "Never",
          "Often",
          "Rarely",
          "Never",
          "Never",
          "Never",
          "Sometimes",
          "Never",
          "Sometimes",
          "Never",
          "Sometimes",
          "Rarely",
          "Sometimes",
          "Often",
          "Sometimes",
          "Often",
          "Rarely",
          "Rarely",
          "Rarely",
          "Never",
          "Rarely",
          "Never",
          "Rarely",
          "Sometimes",
          "Sometimes",
          "Sometimes",
          "Sometimes",
          "Sometimes",
          "Sometimes",
          "Often",
          "Rarely",
          "Rarely",
          "Sometimes",
          "Rarely",
          "Sometimes",
          "Sometimes",
          "Very often",
          "Often",
          "Often",
          "Sometimes",
          "Rarely",
          "Sometimes",
          "Often",
          "Never",
          "Very often",
          "Rarely"
         ],
         "xaxis": "x",
         "yaxis": "y",
         "type": "histogram"
        },
        {
         "alignmentgroup": "True",
         "customdata": [
          [
           "5.14.2023 21:22:19",
           "Master",
           "International Economic Relations",
           "Female",
           "Agree",
           "Agree",
           "Strongly Agree",
           "Strongly Agree",
           "Agree",
           "Neutral",
           "Agree",
           "Strongly Agree",
           "Neutral",
           "Agree",
           "Strongly Agree",
           "Strongly Agree",
           "Strongly Agree",
           "Disagree",
           "Neutral",
           "Disagree",
           "Agree",
           "Strongly Agree",
           "Agree",
           "Strongly Agree",
           "Strongly Agree",
           "Agree",
           "Strongly Agree",
           "Agree",
           "Strongly Agree",
           "Strongly Agree",
           "Agree",
           "Agree",
           "No answer"
          ],
          [
           "5.15.2023 8:45:52",
           "Bachelor",
           "International Economic Relations",
           "Female",
           "Disagree",
           "Agree",
           "Disagree",
           "Strongly Disagree",
           "Neutral",
           "Agree",
           "Strongly Agree",
           "Neutral",
           "Agree",
           "Strongly Agree",
           "Strongly Agree",
           "Agree",
           "Strongly Agree",
           "Agree",
           "Neutral",
           "Neutral",
           "Disagree",
           "Strongly Disagree",
           "Agree",
           "Agree",
           "Agree",
           "Disagree",
           "Neutral",
           "Neutral",
           "Agree",
           "Neutral",
           "Disagree",
           "Disagree",
           "No answer"
          ],
          [
           "5.15.2023 9:54:15",
           "Bachelor",
           "International Economic Relations",
           "Female",
           "Neutral",
           "Neutral",
           "Neutral",
           "Disagree",
           "Neutral",
           "Agree",
           "Neutral",
           "Neutral",
           "Agree",
           "Agree",
           "Disagree",
           "Agree",
           "Agree",
           "Agree",
           "Disagree",
           "Disagree",
           "Disagree",
           "Strongly Disagree",
           "Agree",
           "Agree",
           "Agree",
           "Neutral",
           "Neutral",
           "Neutral",
           "Neutral",
           "Disagree",
           "Disagree",
           "Neutral",
           "No answer"
          ],
          [
           "5.15.2023 15:17:41",
           "Bachelor",
           "International Economic Relations",
           "Female",
           "Agree",
           "Agree",
           "Agree",
           "Disagree",
           "Agree",
           "Agree",
           "Strongly Agree",
           "Neutral",
           "Agree",
           "Strongly Agree",
           "Neutral",
           "Agree",
           "Strongly Agree",
           "Agree",
           "Agree",
           "Agree",
           "Disagree",
           "Agree",
           "Agree",
           "Agree",
           "Agree",
           "Agree",
           "Agree",
           "Agree",
           "Agree",
           "Neutral",
           "Agree",
           "Agree",
           "No answer"
          ],
          [
           "5.15.2023 15:19:02",
           "Bachelor",
           "International Economic Relations",
           "Female",
           "Agree",
           "Agree",
           "Neutral",
           "Disagree",
           "Agree",
           "Agree",
           "Agree",
           "Agree",
           "Agree",
           "Agree",
           "Neutral",
           "Neutral",
           "Agree",
           "Agree",
           "Neutral",
           "Disagree",
           "Agree",
           "Neutral",
           "Neutral",
           "Agree",
           "Agree",
           "Neutral",
           "Neutral",
           "Neutral",
           "Neutral",
           "Neutral",
           "Neutral",
           "Neutral",
           "No answer"
          ],
          [
           "5.16.2023 9:04:40",
           "Bachelor",
           "Marketing",
           "Female",
           "Agree",
           "Disagree",
           "Neutral",
           "Strongly Disagree",
           "Neutral",
           "Agree",
           "Agree",
           "Neutral",
           "Neutral",
           "Strongly Agree",
           "Neutral",
           "Neutral",
           "Strongly Agree",
           "Agree",
           "Neutral",
           "Neutral",
           "Neutral",
           "Agree",
           "Agree",
           "Agree",
           "Agree",
           "Disagree",
           "Neutral",
           "Neutral",
           "Agree",
           "Neutral",
           "Neutral",
           "Neutral",
           "No answer"
          ],
          [
           "5.16.2023 9:06:29",
           "Bachelor",
           "Marketing",
           "Female",
           "Disagree",
           "Agree",
           "Agree",
           "Neutral",
           "Disagree",
           "Neutral",
           "Strongly Agree",
           "Agree",
           "Neutral",
           "Strongly Agree",
           "Agree",
           "Agree",
           "Strongly Agree",
           "Neutral",
           "Strongly Agree",
           "Neutral",
           "Neutral",
           "Strongly Agree",
           "Disagree",
           "Agree",
           "Strongly Agree",
           "Neutral",
           "Agree",
           "Agree",
           "Agree",
           "Neutral",
           "Agree",
           "Agree",
           "No answer"
          ],
          [
           "5.16.2023 9:07:08",
           "Bachelor",
           "Marketing",
           "Female",
           "Agree",
           "Agree",
           "Agree",
           "Neutral",
           "Neutral",
           "Agree",
           "Agree",
           "Agree",
           "Agree",
           "Strongly Agree",
           "Agree",
           "Agree",
           "Agree",
           "Agree",
           "Neutral",
           "Agree",
           "Neutral",
           "Neutral",
           "Agree",
           "Agree",
           "Agree",
           "Agree",
           "Neutral",
           "Neutral",
           "Neutral",
           "Neutral",
           "Agree",
           "Neutral",
           "No answer"
          ],
          [
           "5.16.2023 9:07:47",
           "Bachelor",
           "Marketing",
           "Female",
           "Agree",
           "Agree",
           "Agree",
           "Disagree",
           "Neutral",
           "Neutral",
           "Agree",
           "Agree",
           "Agree",
           "Agree",
           "Agree",
           "Agree",
           "Agree",
           "Agree",
           "Neutral",
           "Neutral",
           "Agree",
           "Disagree",
           "Agree",
           "Agree",
           "Agree",
           "Neutral",
           "Neutral",
           "Agree",
           "Agree",
           "Neutral",
           "Neutral",
           "Agree",
           "ChatGPT doesn't change my attitude towards AI at all since I hardly use it."
          ],
          [
           "5.16.2023 9:08:03",
           "Bachelor",
           "Marketing",
           "Female",
           "Neutral",
           "Disagree",
           "Neutral",
           "Agree",
           "Disagree",
           "Strongly Agree",
           "Agree",
           "Neutral",
           "Strongly Agree",
           "Disagree",
           "Neutral",
           "Strongly Disagree",
           "Strongly Agree",
           "Neutral",
           "Strongly Disagree",
           "Disagree",
           "Strongly Agree",
           "Agree",
           "Agree",
           "Disagree",
           "Neutral",
           "Neutral",
           "Neutral",
           "Neutral",
           "Agree",
           "Agree",
           "Neutral",
           "Neutral",
           "No answer"
          ],
          [
           "5.16.2023 9:09:12",
           "Bachelor",
           "Marketing",
           "Female",
           "Neutral",
           "Neutral",
           "Agree",
           "Neutral",
           "Agree",
           "Strongly Agree",
           "Agree",
           "Agree",
           "Neutral",
           "Strongly Agree",
           "Neutral",
           "Agree",
           "Agree",
           "Agree",
           "Agree",
           "Agree",
           "Strongly Agree",
           "Agree",
           "Agree",
           "Agree",
           "Agree",
           "Neutral",
           "Neutral",
           "Neutral",
           "Disagree",
           "Neutral",
           "Neutral",
           "Disagree",
           "No answer"
          ],
          [
           "5.16.2023 9:10:35",
           "Bachelor",
           "Marketing",
           "Female",
           "Disagree",
           "Disagree",
           "Disagree",
           "Disagree",
           "Neutral",
           "Neutral",
           "Agree",
           "Agree",
           "Agree",
           "Strongly Agree",
           "Strongly Agree",
           "Agree",
           "Strongly Agree",
           "Strongly Agree",
           "Neutral",
           "Neutral",
           "Neutral",
           "Neutral",
           "Agree",
           "Agree",
           "Agree",
           "Agree",
           "Agree",
           "Agree",
           "Agree",
           "Agree",
           "Agree",
           "Agree",
           "This is the first time I have come across such technology and I dare to say that the work is greatly facilitated. Most importantly, it helps in the development of the student and the acquisition of knowledge that is useful in learning. I would rate ChatGPT as the best option for getting information. My opinion of artificial intelligence has changed in a positive direction. It was my pleasure to participate in this experiment.\nGreetings Diana"
          ],
          [
           "5.16.2023 9:11:05",
           "Bachelor",
           "Marketing",
           "Female",
           "Agree",
           "Agree",
           "Neutral",
           "Neutral",
           "Agree",
           "Neutral",
           "Agree",
           "Agree",
           "Agree",
           "Agree",
           "Neutral",
           "Agree",
           "Agree",
           "Agree",
           "Agree",
           "Agree",
           "Neutral",
           "Agree",
           "Agree",
           "Agree",
           "Agree",
           "Agree",
           "Agree",
           "Neutral",
           "Neutral",
           "Agree",
           "Disagree",
           "Disagree",
           "Òhey help a lot and I use them from time to time."
          ],
          [
           "5.16.2023 9:11:20",
           "Bachelor",
           "Marketing",
           "Female",
           "Agree",
           "Agree",
           "Neutral",
           "Disagree",
           "Disagree",
           "Disagree",
           "Agree",
           "Agree",
           "Agree",
           "Agree",
           "Agree",
           "Neutral",
           "Agree",
           "Agree",
           "Agree",
           "Agree",
           "Agree",
           "Agree",
           "Agree",
           "Disagree",
           "Agree",
           "Neutral",
           "Neutral",
           "Neutral",
           "Neutral",
           "Neutral",
           "Neutral",
           "Neutral",
           "No answer"
          ],
          [
           "5.16.2023 9:11:53",
           "Bachelor",
           "Marketing",
           "Female",
           "Neutral",
           "Agree",
           "Agree",
           "Disagree",
           "Agree",
           "Agree",
           "Agree",
           "Agree",
           "Agree",
           "Strongly Agree",
           "Neutral",
           "Agree",
           "Strongly Agree",
           "Agree",
           "Agree",
           "Agree",
           "Agree",
           "Disagree",
           "Agree",
           "Agree",
           "Agree",
           "Agree",
           "Agree",
           "Agree",
           "Agree",
           "Agree",
           "Agree",
           "Agree",
           "No answer"
          ],
          [
           "5.16.2023 9:12:06",
           "Bachelor",
           "Marketing",
           "Female",
           "Agree",
           "Neutral",
           "Disagree",
           "Disagree",
           "Agree",
           "Neutral",
           "Agree",
           "Disagree",
           "Neutral",
           "Agree",
           "Agree",
           "Agree",
           "Agree",
           "Agree",
           "Disagree",
           "Disagree",
           "Disagree",
           "Neutral",
           "Agree",
           "Agree",
           "Disagree",
           "Disagree",
           "Neutral",
           "Agree",
           "Agree",
           "Neutral",
           "Neutral",
           "Agree",
           "As a mature person, I would not abuse the excessive use of ChatGpt. Personally, I only use it when I'm not entirely sure about a question and want to see how reliable the information given by the AI is by comparing it to other sources. It's helped me quite a few times, I think it's comprehensive, and I like the option of being able to present one piece of information in several different ways with different words. I'm glad I have this opportunity to use it and I think it would be useful in education for the future, but not professionally because there everyone has to apply what they already know. Greetings Miglena"
          ],
          [
           "5.16.2023 9:12:12",
           "Bachelor",
           "Marketing",
           "Female",
           "Neutral",
           "Disagree",
           "Agree",
           "Disagree",
           "Agree",
           "Agree",
           "Strongly Agree",
           "Strongly Agree",
           "Neutral",
           "Strongly Agree",
           "Agree",
           "Agree",
           "Agree",
           "Agree",
           "Agree",
           "Agree",
           "Agree",
           "Strongly Agree",
           "Agree",
           "Agree",
           "Agree",
           "Disagree",
           "Agree",
           "Agree",
           "Agree",
           "Agree",
           "Agree",
           "Agree",
           "No answer"
          ],
          [
           "5.16.2023 9:13:39",
           "Bachelor",
           "Marketing",
           "Female",
           "Strongly Agree",
           "Strongly Agree",
           "Strongly Agree",
           "Strongly Disagree",
           "Agree",
           "Agree",
           "Strongly Agree",
           "Strongly Agree",
           "Agree",
           "Agree",
           "Agree",
           "Neutral",
           "Strongly Agree",
           "Strongly Agree",
           "Strongly Agree",
           "Strongly Agree",
           "Strongly Agree",
           "Neutral",
           "Agree",
           "Agree",
           "Agree",
           "Strongly Disagree",
           "Neutral",
           "Disagree",
           "Strongly Agree",
           "Agree",
           "Neutral",
           "Neutral",
           "In a large percentage of cases where I've used the chatbot it gave me wrong or inaccurate answers. I can't trust this artificial intelligence and I always have to check the information it gives me through other sources as well. I don't think it's sophisticated and useful enough to be used in our university studies. I would trust the internet more."
          ],
          [
           "5.16.2023 9:14:47",
           "Bachelor",
           "Marketing",
           "Female",
           "Neutral",
           "Disagree",
           "Agree",
           "Disagree",
           "Agree",
           "Neutral",
           "Agree",
           "Agree",
           "Agree",
           "Agree",
           "Neutral",
           "Agree",
           "Agree",
           "Neutral",
           "Neutral",
           "Neutral",
           "Neutral",
           "Strongly Disagree",
           "Neutral",
           "Agree",
           "Agree",
           "Neutral",
           "Neutral",
           "Neutral",
           "Agree",
           "Neutral",
           "Agree",
           "Neutral",
           "Extremely helpful and informative tool."
          ],
          [
           "5.16.2023 9:18:36",
           "Bachelor",
           "Marketing",
           "Female",
           "Neutral",
           "Agree",
           "Agree",
           "Neutral",
           "Disagree",
           "Agree",
           "Strongly Agree",
           "Neutral",
           "Agree",
           "Strongly Agree",
           "Agree",
           "Agree",
           "Strongly Agree",
           "Strongly Agree",
           "Neutral",
           "Agree",
           "Agree",
           "Agree",
           "Neutral",
           "Agree",
           "Agree",
           "Agree",
           "Agree",
           "Neutral",
           "Agree",
           "Neutral",
           "Neutral",
           "Neutral",
           "With ChatGPT it's much easier and more fun. Now you can do homework or any task in a short time. Instead of spending hours searching the Internet for information, ChatGPT can answer a few questions and you're done."
          ],
          [
           "5.16.2023 10:32:38",
           "Bachelor",
           "Accounting",
           "Female",
           "Neutral",
           "Agree",
           "Strongly Agree",
           "Neutral",
           "Agree",
           "Strongly Agree",
           "Agree",
           "Neutral",
           "Neutral",
           "Agree",
           "Agree",
           "Strongly Agree",
           "Strongly Agree",
           "Strongly Agree",
           "Agree",
           "Neutral",
           "Neutral",
           "Neutral",
           "Agree",
           "Agree",
           "Strongly Agree",
           "Disagree",
           "Neutral",
           "Agree",
           "Neutral",
           "Neutral",
           "Neutral",
           "Neutral",
           "No answer"
          ],
          [
           "5.16.2023 10:33:37",
           "Bachelor",
           "Accounting",
           "Female",
           "Strongly Disagree",
           "Strongly Agree",
           "Strongly Agree",
           "Neutral",
           "Agree",
           "Strongly Agree",
           "Strongly Agree",
           "Strongly Agree",
           "Agree",
           "Agree",
           "Strongly Agree",
           "Strongly Agree",
           "Strongly Agree",
           "Agree",
           "Neutral",
           "Agree",
           "Agree",
           "Strongly Disagree",
           "Strongly Agree",
           "Neutral",
           "Agree",
           "Strongly Agree",
           "Disagree",
           "Strongly Agree",
           "Strongly Disagree",
           "Neutral",
           "Strongly Disagree",
           "Disagree",
           "This changed my attitude towards artificial intelligence, but in my opinion there is more to develop, as many of the answers are inaccurate in their translation into Bulgarian for example. The bot would help in our higher education process, greatly optimizing our time searching and finding information."
          ],
          [
           "5.16.2023 10:34:34",
           "Bachelor",
           "Accounting",
           "Female",
           "Agree",
           "Agree",
           "Neutral",
           "Disagree",
           "Agree",
           "Neutral",
           "Neutral",
           "Disagree",
           "Disagree",
           "Agree",
           "Neutral",
           "Agree",
           "Agree",
           "Agree",
           "Agree",
           "Agree",
           "Agree",
           "Disagree",
           "Disagree",
           "Neutral",
           "Disagree",
           "Disagree",
           "Neutral",
           "Disagree",
           "Neutral",
           "Neutral",
           "Disagree",
           "Neutral",
           "No answer"
          ],
          [
           "5.16.2023 10:35:01",
           "Bachelor",
           "Accounting",
           "Female",
           "Agree",
           "Agree",
           "Agree",
           "Neutral",
           "Neutral",
           "Neutral",
           "Disagree",
           "Neutral",
           "Neutral",
           "Neutral",
           "Neutral",
           "Neutral",
           "Neutral",
           "Neutral",
           "Neutral",
           "Neutral",
           "Neutral",
           "Neutral",
           "Neutral",
           "Neutral",
           "Neutral",
           "Neutral",
           "Neutral",
           "Neutral",
           "Neutral",
           "Neutral",
           "Neutral",
           "Neutral",
           "No answer"
          ],
          [
           "5.16.2023 10:36:10",
           "Bachelor",
           "Accounting",
           "Female",
           "Agree",
           "Neutral",
           "Disagree",
           "Neutral",
           "Agree",
           "Disagree",
           "Agree",
           "Agree",
           "Strongly Agree",
           "Strongly Agree",
           "Neutral",
           "Agree",
           "Agree",
           "Agree",
           "Disagree",
           "Disagree",
           "Disagree",
           "Strongly Disagree",
           "Agree",
           "Agree",
           "Strongly Agree",
           "Agree",
           "Agree",
           "Neutral",
           "Agree",
           "Neutral",
           "Agree",
           "Agree",
           "No answer"
          ],
          [
           "5.16.2023 10:37:22",
           "Bachelor",
           "Accounting",
           "Female",
           "Agree",
           "Agree",
           "Agree",
           "Disagree",
           "Agree",
           "Agree",
           "Agree",
           "Agree",
           "Agree",
           "Agree",
           "Agree",
           "Agree",
           "Agree",
           "Agree",
           "Disagree",
           "Disagree",
           "Disagree",
           "Disagree",
           "Agree",
           "Agree",
           "Agree",
           "Agree",
           "Agree",
           "Agree",
           "Disagree",
           "Agree",
           "Agree",
           "Disagree",
           "No answer"
          ],
          [
           "5.16.2023 10:38:48",
           "Bachelor",
           "Accounting",
           "Female",
           "Disagree",
           "Strongly Agree",
           "Strongly Agree",
           "Strongly Disagree",
           "Disagree",
           "Disagree",
           "Strongly Agree",
           "Strongly Agree",
           "Strongly Agree",
           "Strongly Agree",
           "Agree",
           "Neutral",
           "Strongly Agree",
           "Agree",
           "Neutral",
           "Disagree",
           "Disagree",
           "Agree",
           "Strongly Agree",
           "Strongly Agree",
           "Strongly Agree",
           "Neutral",
           "Neutral",
           "Agree",
           "Agree",
           "Agree",
           "Strongly Agree",
           "Strongly Agree",
           "No answer"
          ],
          [
           "5.16.2023 10:39:54",
           "Bachelor",
           "Accounting",
           "Female",
           "Disagree",
           "Agree",
           "Agree",
           "Neutral",
           "Strongly Agree",
           "Strongly Disagree",
           "Agree",
           "Agree",
           "Agree",
           "Agree",
           "Neutral",
           "Neutral",
           "Neutral",
           "Strongly Agree",
           "Strongly Disagree",
           "Strongly Disagree",
           "Strongly Disagree",
           "Strongly Disagree",
           "Agree",
           "Neutral",
           "Agree",
           "Agree",
           "Agree",
           "Neutral",
           "Agree",
           "Neutral",
           "Neutral",
           "Neutral",
           "Artificial intelligence proves to be of great help in difficult tasks and in most cases answers the questions with good accuracy. The quality of the answers is good, but only in English."
          ],
          [
           "5.16.2023 10:40:42",
           "Bachelor",
           "Accounting",
           "Female",
           "Disagree",
           "Agree",
           "Agree",
           "Disagree",
           "Disagree",
           "Agree",
           "Agree",
           "Agree",
           "Agree",
           "Agree",
           "Agree",
           "Agree",
           "Agree",
           "Agree",
           "Agree",
           "Agree",
           "Agree",
           "Agree",
           "Agree",
           "Agree",
           "Agree",
           "Agree",
           "Agree",
           "Agree",
           "Agree",
           "Agree",
           "Agree",
           "Agree",
           "Yes, chatgpt changed my attitude towards AI, because of the correct answers."
          ],
          [
           "5.16.2023 10:40:51",
           "Bachelor",
           "Accounting",
           "Female",
           "Agree",
           "Neutral",
           "Neutral",
           "Disagree",
           "Neutral",
           "Neutral",
           "Agree",
           "Strongly Agree",
           "Agree",
           "Strongly Agree",
           "Agree",
           "Agree",
           "Strongly Agree",
           "Agree",
           "Disagree",
           "Agree",
           "Strongly Agree",
           "Strongly Agree",
           "Strongly Agree",
           "Agree",
           "Strongly Agree",
           "Neutral",
           "Neutral",
           "Neutral",
           "Neutral",
           "Agree",
           "Strongly Agree",
           "Neutral",
           "No answer"
          ],
          [
           "5.16.2023 10:41:04",
           "Bachelor",
           "Accounting",
           "Female",
           "Neutral",
           "Agree",
           "Disagree",
           "Strongly Disagree",
           "Neutral",
           "Neutral",
           "Strongly Agree",
           "Agree",
           "Agree",
           "Agree",
           "Agree",
           "Neutral",
           "Agree",
           "Disagree",
           "Disagree",
           "Strongly Disagree",
           "Strongly Disagree",
           "Agree",
           "Agree",
           "Strongly Agree",
           "Disagree",
           "Neutral",
           "Neutral",
           "Disagree",
           "Neutral",
           "Disagree",
           "Strongly Disagree",
           "Strongly Disagree",
           "No answer"
          ],
          [
           "5.16.2023 10:42:42",
           "Bachelor",
           "Accounting",
           "Female",
           "Agree",
           "Disagree",
           "Disagree",
           "Disagree",
           "Agree",
           "Disagree",
           "Agree",
           "Neutral",
           "Neutral",
           "Agree",
           "Agree",
           "Agree",
           "Agree",
           "Agree",
           "Disagree",
           "Disagree",
           "Disagree",
           "Strongly Disagree",
           "Agree",
           "Neutral",
           "Disagree",
           "Disagree",
           "Disagree",
           "Agree",
           "Agree",
           "Neutral",
           "Neutral",
           "Neutral",
           "My opinion is that it should be as accessible to people as possible. A person must express himself in a way that the chatbot understands him, and then he will become more and more accessible."
          ],
          [
           "5.16.2023 10:43:09",
           "Bachelor",
           "Accounting",
           "Female",
           "Strongly Agree",
           "Strongly Agree",
           "Agree",
           "Disagree",
           "Neutral",
           "Neutral",
           "Strongly Agree",
           "Strongly Disagree",
           "Strongly Disagree",
           "Agree",
           "Agree",
           "Disagree",
           "Disagree",
           "Disagree",
           "Strongly Agree",
           "Strongly Agree",
           "Strongly Agree",
           "Disagree",
           "Neutral",
           "Strongly Disagree",
           "Strongly Disagree",
           "Strongly Disagree",
           "Strongly Disagree",
           "Disagree",
           "Strongly Disagree",
           "Strongly Disagree",
           "Strongly Disagree",
           "Strongly Disagree",
           "No answer"
          ],
          [
           "5.16.2023 10:43:18",
           "Bachelor",
           "Accounting",
           "Female",
           "Neutral",
           "Agree",
           "Agree",
           "Disagree",
           "Neutral",
           "Disagree",
           "Agree",
           "Agree",
           "Neutral",
           "Agree",
           "Strongly Agree",
           "Agree",
           "Strongly Agree",
           "Agree",
           "Disagree",
           "Agree",
           "Strongly Agree",
           "Strongly Disagree",
           "Agree",
           "Agree",
           "Agree",
           "Neutral",
           "Neutral",
           "Disagree",
           "Disagree",
           "Neutral",
           "Agree",
           "Neutral",
           "In my opinion, chatbots are useful and facilitate work on various issues, but they should not be overused all the time, because then we will not understand what needs to be done."
          ],
          [
           "5.16.2023 10:43:31",
           "Bachelor",
           "Accounting",
           "Female",
           "Neutral",
           "Disagree",
           "Agree",
           "Strongly Disagree",
           "Neutral",
           "Disagree",
           "Agree",
           "Agree",
           "Neutral",
           "Strongly Agree",
           "Agree",
           "Strongly Agree",
           "Agree",
           "Agree",
           "Neutral",
           "Neutral",
           "Agree",
           "Strongly Disagree",
           "Agree",
           "Strongly Agree",
           "Neutral",
           "Disagree",
           "Strongly Disagree",
           "Agree",
           "Strongly Agree",
           "Neutral",
           "Disagree",
           "Neutral",
           "."
          ],
          [
           "5.16.2023 10:45:34",
           "Bachelor",
           "Accounting",
           "Female",
           "Agree",
           "Agree",
           "Agree",
           "Agree",
           "Agree",
           "Strongly Agree",
           "Agree",
           "Agree",
           "Agree",
           "Agree",
           "Agree",
           "Neutral",
           "Agree",
           "Agree",
           "Disagree",
           "Strongly Agree",
           "Agree",
           "Agree",
           "Agree",
           "Agree",
           "Agree",
           "Agree",
           "Agree",
           "Neutral",
           "Neutral",
           "Neutral",
           "Agree",
           "Disagree",
           "It should be used wisely"
          ],
          [
           "5.16.2023 10:50:27",
           "Bachelor",
           "Accounting",
           "Female",
           "Agree",
           "Disagree",
           "Agree",
           "Disagree",
           "Strongly Disagree",
           "Strongly Disagree",
           "Agree",
           "Agree",
           "Strongly Agree",
           "Strongly Agree",
           "Agree",
           "Agree",
           "Disagree",
           "Agree",
           "Strongly Disagree",
           "Disagree",
           "Disagree",
           "Disagree",
           "Strongly Agree",
           "Strongly Agree",
           "Agree",
           "Disagree",
           "Neutral",
           "Agree",
           "Strongly Agree",
           "Agree",
           "Agree",
           "Neutral",
           "It makes work easier, but some colleagues would abuse and rely only on it for assigned tasks."
          ],
          [
           "5.16.2023 10:55:30",
           "Bachelor",
           "Accounting",
           "Female",
           "Strongly Agree",
           "Agree",
           "Agree",
           "Disagree",
           "Agree",
           "Agree",
           "Strongly Agree",
           "Agree",
           "Neutral",
           "Strongly Agree",
           "Strongly Agree",
           "Agree",
           "Strongly Agree",
           "Neutral",
           "Neutral",
           "Disagree",
           "Agree",
           "Agree",
           "Strongly Agree",
           "Strongly Agree",
           "Strongly Agree",
           "Neutral",
           "Agree",
           "Neutral",
           "Disagree",
           "Agree",
           "Agree",
           "Neutral",
           "I think the use of generative artificial intelligence in education is a good new beginning in the application of modern technology and would be of great benefit to students and teachers."
          ],
          [
           "5.16.2023 11:02:48",
           "Bachelor",
           "Accounting",
           "Female",
           "Disagree",
           "Agree",
           "Strongly Agree",
           "Strongly Disagree",
           "Disagree",
           "Agree",
           "Agree",
           "Strongly Agree",
           "Neutral",
           "Agree",
           "Strongly Agree",
           "Neutral",
           "Agree",
           "Agree",
           "Disagree",
           "Agree",
           "Agree",
           "Agree",
           "Agree",
           "Agree",
           "Agree",
           "Neutral",
           "Neutral",
           "Agree",
           "Disagree",
           "Neutral",
           "Neutral",
           "Strongly Disagree",
           "ChatGPT itself helps me a lot, mainly because it sifts out important information that I would otherwise search for a long time on the Internet."
          ],
          [
           "5.16.2023 11:47:36",
           "Bachelor",
           "Accounting",
           "Female",
           "Neutral",
           "Neutral",
           "Disagree",
           "Agree",
           "Strongly Disagree",
           "Strongly Disagree",
           "Agree",
           "Agree",
           "Agree",
           "Agree",
           "Agree",
           "Agree",
           "Agree",
           "Agree",
           "Disagree",
           "Disagree",
           "Disagree",
           "Disagree",
           "Agree",
           "Agree",
           "Agree",
           "Agree",
           "Agree",
           "Agree",
           "Agree",
           "Agree",
           "Agree",
           "Agree",
           "No answer"
          ],
          [
           "5.16.2023 11:54:26",
           "Bachelor",
           "Finance",
           "Female",
           "Disagree",
           "Agree",
           "Neutral",
           "Neutral",
           "Agree",
           "Agree",
           "Neutral",
           "Disagree",
           "Agree",
           "Agree",
           "Strongly Agree",
           "Strongly Agree",
           "Strongly Agree",
           "Strongly Agree",
           "Strongly Agree",
           "Strongly Agree",
           "Strongly Agree",
           "Strongly Agree",
           "Agree",
           "Agree",
           "Agree",
           "Agree",
           "Agree",
           "Neutral",
           "Neutral",
           "Neutral",
           "Disagree",
           "Neutral",
           "No answer"
          ],
          [
           "5.16.2023 11:55:21",
           "Bachelor",
           "Finance",
           "Female",
           "Disagree",
           "Neutral",
           "Agree",
           "Disagree",
           "Neutral",
           "Agree",
           "Agree",
           "Agree",
           "Agree",
           "Strongly Agree",
           "Neutral",
           "Disagree",
           "Neutral",
           "Strongly Agree",
           "Disagree",
           "Disagree",
           "Disagree",
           "Agree",
           "Neutral",
           "Agree",
           "Agree",
           "Agree",
           "Agree",
           "Agree",
           "Agree",
           "Agree",
           "Agree",
           "Agree",
           "I'm all for using ChatGPT."
          ],
          [
           "5.16.2023 11:57:08",
           "Bachelor",
           "Finance",
           "Female",
           "Agree",
           "Neutral",
           "Agree",
           "Disagree",
           "Strongly Agree",
           "Strongly Agree",
           "Agree",
           "Agree",
           "Strongly Agree",
           "Strongly Agree",
           "Agree",
           "Strongly Agree",
           "Strongly Agree",
           "Strongly Agree",
           "Disagree",
           "Strongly Disagree",
           "Strongly Disagree",
           "Strongly Disagree",
           "Strongly Agree",
           "Agree",
           "Agree",
           "Neutral",
           "Agree",
           "Neutral",
           "Agree",
           "Neutral",
           "Disagree",
           "Disagree",
           "Generative AI technologies can be very useful for learning new things, solving different problems and answering questions. He can even give advice on a problem, even if it is a personal problem.\n"
          ],
          [
           "5.16.2023 12:01:02",
           "Bachelor",
           "Finance",
           "Female",
           "Disagree",
           "Neutral",
           "Agree",
           "Disagree",
           "Strongly Disagree",
           "Strongly Agree",
           "Strongly Agree",
           "Strongly Agree",
           "Strongly Agree",
           "Strongly Agree",
           "Strongly Agree",
           "Strongly Agree",
           "Strongly Agree",
           "Strongly Agree",
           "Neutral",
           "Strongly Agree",
           "Strongly Agree",
           "Strongly Agree",
           "Strongly Agree",
           "Strongly Agree",
           "Strongly Agree",
           "Agree",
           "Strongly Agree",
           "Agree",
           "Neutral",
           "Neutral",
           "Strongly Agree",
           "Agree",
           "+"
          ],
          [
           "5.16.2023 12:02:24",
           "Bachelor",
           "Finance",
           "Female",
           "Agree",
           "Agree",
           "Neutral",
           "Disagree",
           "Agree",
           "Neutral",
           "Agree",
           "Agree",
           "Agree",
           "Agree",
           "Strongly Agree",
           "Agree",
           "Strongly Agree",
           "Strongly Agree",
           "Disagree",
           "Disagree",
           "Disagree",
           "Neutral",
           "Strongly Agree",
           "Strongly Agree",
           "Agree",
           "Disagree",
           "Disagree",
           "Agree",
           "Agree",
           "Neutral",
           "Neutral",
           "Disagree",
           "No answer"
          ],
          [
           "5.16.2023 12:03:56",
           "Bachelor",
           "Finance",
           "Female",
           "Agree",
           "Agree",
           "Agree",
           "Agree",
           "Agree",
           "Agree",
           "Neutral",
           "Agree",
           "Agree",
           "Agree",
           "Agree",
           "Agree",
           "Agree",
           "Agree",
           "Agree",
           "Agree",
           "Agree",
           "Agree",
           "Agree",
           "Agree",
           "Agree",
           "Disagree",
           "Agree",
           "Disagree",
           "Agree",
           "Agree",
           "Agree",
           "Agree",
           "."
          ],
          [
           "5.16.2023 12:04:27",
           "Bachelor",
           "Finance",
           "Female",
           "Agree",
           "Agree",
           "Agree",
           "Neutral",
           "Agree",
           "Neutral",
           "Disagree",
           "Agree",
           "Agree",
           "Strongly Agree",
           "Strongly Agree",
           "Agree",
           "Agree",
           "Agree",
           "Disagree",
           "Disagree",
           "Neutral",
           "Agree",
           "Agree",
           "Neutral",
           "Neutral",
           "Neutral",
           "Agree",
           "Agree",
           "Agree",
           "Neutral",
           "Neutral",
           "Neutral",
           "No answer"
          ],
          [
           "5.16.2023 12:07:58",
           "Bachelor",
           "Finance",
           "Female",
           "Agree",
           "Neutral",
           "Neutral",
           "Strongly Disagree",
           "Neutral",
           "Strongly Agree",
           "Strongly Agree",
           "Strongly Agree",
           "Strongly Agree",
           "Strongly Agree",
           "Strongly Agree",
           "Strongly Agree",
           "Strongly Agree",
           "Strongly Agree",
           "Neutral",
           "Agree",
           "Agree",
           "Disagree",
           "Strongly Agree",
           "Strongly Agree",
           "Strongly Agree",
           "Strongly Disagree",
           "Neutral",
           "Strongly Agree",
           "Strongly Agree",
           "Strongly Agree",
           "Strongly Agree",
           "Strongly Disagree",
           "It helps me in learning and has changed my attitude towards this technology in a positive direction."
          ],
          [
           "5.16.2023 12:08:12",
           "Bachelor",
           "Finance",
           "Female",
           "Neutral",
           "Agree",
           "Agree",
           "Neutral",
           "Agree",
           "Agree",
           "Neutral",
           "Disagree",
           "Disagree",
           "Neutral",
           "Agree",
           "Neutral",
           "Neutral",
           "Agree",
           "Neutral",
           "Strongly Agree",
           "Agree",
           "Disagree",
           "Neutral",
           "Disagree",
           "Disagree",
           "Disagree",
           "Disagree",
           "Neutral",
           "Disagree",
           "Disagree",
           "Disagree",
           "Disagree",
           "Limits students"
          ],
          [
           "5.16.2023 12:13:50",
           "Bachelor",
           "Finance",
           "Female",
           "Neutral",
           "Disagree",
           "Strongly Disagree",
           "Disagree",
           "Agree",
           "Agree",
           "Agree",
           "Strongly Agree",
           "Agree",
           "Strongly Agree",
           "Disagree",
           "Agree",
           "Agree",
           "Agree",
           "Agree",
           "Neutral",
           "Disagree",
           "Agree",
           "Disagree",
           "Neutral",
           "Strongly Agree",
           "Neutral",
           "Disagree",
           "Disagree",
           "Agree",
           "Neutral",
           "Agree",
           "Agree",
           "In aid of training, it gives us additional information on a specific issue, saves time and additional searches"
          ],
          [
           "5.16.2023 12:15:29",
           "Bachelor",
           "Finance",
           "Female",
           "Strongly Agree",
           "Agree",
           "Neutral",
           "Strongly Disagree",
           "Agree",
           "Strongly Agree",
           "Strongly Agree",
           "Disagree",
           "Strongly Agree",
           "Strongly Agree",
           "Agree",
           "Neutral",
           "Strongly Agree",
           "Agree",
           "Neutral",
           "Disagree",
           "Neutral",
           "Strongly Agree",
           "Agree",
           "Strongly Agree",
           "Strongly Agree",
           "Neutral",
           "Neutral",
           "Disagree",
           "Strongly Disagree",
           "Neutral",
           "Agree",
           "Strongly Agree",
           "No"
          ],
          [
           "5.16.2023 12:15:54",
           "Bachelor",
           "Finance",
           "Female",
           "Neutral",
           "Strongly Disagree",
           "Disagree",
           "Neutral",
           "Neutral",
           "Agree",
           "Agree",
           "Agree",
           "Agree",
           "Agree",
           "Strongly Agree",
           "Agree",
           "Strongly Agree",
           "Strongly Agree",
           "Strongly Agree",
           "Strongly Agree",
           "Agree",
           "Agree",
           "Agree",
           "Agree",
           "Agree",
           "Agree",
           "Agree",
           "Strongly Agree",
           "Disagree",
           "Neutral",
           "Neutral",
           "Strongly Disagree",
           "To me, the AI is well thought out to help students with their assignments. It saves time and gives extensive information."
          ],
          [
           "5.16.2023 12:23:31",
           "Bachelor",
           "Finance",
           "Female",
           "Neutral",
           "Strongly Agree",
           "Neutral",
           "Strongly Disagree",
           "Agree",
           "Neutral",
           "Agree",
           "Neutral",
           "Agree",
           "Strongly Agree",
           "Agree",
           "Agree",
           "Agree",
           "Agree",
           "Neutral",
           "Agree",
           "Neutral",
           "Disagree",
           "Agree",
           "Agree",
           "Neutral",
           "Strongly Disagree",
           "Strongly Disagree",
           "Neutral",
           "Neutral",
           "Neutral",
           "Agree",
           "Neutral",
           "I have no recommendations and no objective opinion, since I have only used this chatbot once for a task, I prefer to look for the information myself."
          ],
          [
           "5.16.2023 12:24:32",
           "Bachelor",
           "Finance",
           "Female",
           "Disagree",
           "Neutral",
           "Neutral",
           "Strongly Disagree",
           "Strongly Disagree",
           "Neutral",
           "Strongly Agree",
           "Strongly Agree",
           "Strongly Agree",
           "Strongly Agree",
           "Strongly Agree",
           "Strongly Agree",
           "Strongly Agree",
           "Strongly Agree",
           "Strongly Agree",
           "Strongly Agree",
           "Neutral",
           "Strongly Disagree",
           "Strongly Agree",
           "Agree",
           "Strongly Agree",
           "Strongly Agree",
           "Strongly Agree",
           "Strongly Agree",
           "Strongly Agree",
           "Strongly Agree",
           "Strongly Agree",
           "Strongly Agree",
           "No answer"
          ],
          [
           "5.16.2023 12:28:28",
           "Bachelor",
           "Finance",
           "Female",
           "Neutral",
           "Agree",
           "Neutral",
           "Strongly Disagree",
           "Disagree",
           "Neutral",
           "Strongly Agree",
           "Strongly Agree",
           "Strongly Agree",
           "Strongly Agree",
           "Strongly Agree",
           "Agree",
           "Strongly Agree",
           "Strongly Agree",
           "Neutral",
           "Disagree",
           "Neutral",
           "Neutral",
           "Strongly Agree",
           "Strongly Agree",
           "Strongly Agree",
           "Disagree",
           "Neutral",
           "Strongly Agree",
           "Agree",
           "Neutral",
           "Agree",
           "Neutral",
           "I haven't\n"
          ],
          [
           "5.16.2023 12:30:33",
           "Bachelor",
           "Finance",
           "Female",
           "Neutral",
           "Disagree",
           "Neutral",
           "Disagree",
           "Disagree",
           "Disagree",
           "Agree",
           "Agree",
           "Agree",
           "Agree",
           "Agree",
           "Agree",
           "Agree",
           "Agree",
           "Agree",
           "Agree",
           "Agree",
           "Agree",
           "Agree",
           "Agree",
           "Agree",
           "Agree",
           "Agree",
           "Neutral",
           "Neutral",
           "Neutral",
           "Neutral",
           "Neutral",
           "I don't have"
          ],
          [
           "5.16.2023 12:42:04",
           "Bachelor",
           "Finance",
           "Female",
           "Agree",
           "Strongly Agree",
           "Strongly Agree",
           "Agree",
           "Agree",
           "Agree",
           "Agree",
           "Agree",
           "Agree",
           "Agree",
           "Agree",
           "Agree",
           "Agree",
           "Agree",
           "Neutral",
           "Agree",
           "Disagree",
           "Neutral",
           "Agree",
           "Agree",
           "Agree",
           "Agree",
           "Agree",
           "Agree",
           "Agree",
           "Agree",
           "Agree",
           "Agree",
           "No answer"
          ],
          [
           "5.16.2023 14:17:47",
           "Bachelor",
           "Marketing",
           "Female",
           "Agree",
           "Neutral",
           "Disagree",
           "Neutral",
           "Agree",
           "Disagree",
           "Agree",
           "Agree",
           "Agree",
           "Agree",
           "Agree",
           "Agree",
           "Agree",
           "Neutral",
           "Disagree",
           "Disagree",
           "Disagree",
           "Disagree",
           "Agree",
           "Agree",
           "Agree",
           "Agree",
           "Agree",
           "Agree",
           "Agree",
           "Neutral",
           "Disagree",
           "Agree",
           "My suggestion is the following: chatbots should solve much more complex tasks."
          ],
          [
           "5.16.2023 17:46:52",
           "Bachelor",
           "Marketing",
           "Female",
           "Strongly Agree",
           "Agree",
           "Neutral",
           "Strongly Disagree",
           "Agree",
           "Strongly Disagree",
           "Strongly Agree",
           "Neutral",
           "Disagree",
           "Strongly Agree",
           "Agree",
           "Neutral",
           "Agree",
           "Strongly Agree",
           "Neutral",
           "Strongly Agree",
           "Agree",
           "Strongly Disagree",
           "Strongly Agree",
           "Strongly Agree",
           "Strongly Agree",
           "Strongly Agree",
           "Strongly Agree",
           "Disagree",
           "Agree",
           "Neutral",
           "Disagree",
           "Disagree",
           "No answer"
          ],
          [
           "5.17.2023 8:14:37",
           "Master",
           "Accounting and Analysis",
           "Female",
           "Neutral",
           "Agree",
           "Agree",
           "Neutral",
           "Agree",
           "Agree",
           "Strongly Agree",
           "Strongly Agree",
           "Agree",
           "Strongly Agree",
           "Agree",
           "Agree",
           "Strongly Agree",
           "Neutral",
           "Neutral",
           "Disagree",
           "Disagree",
           "Neutral",
           "Agree",
           "Agree",
           "Agree",
           "Agree",
           "Neutral",
           "Neutral",
           "Neutral",
           "Neutral",
           "Neutral",
           "Neutral",
           "Learners need to be supported and guided in acquiring the skills to make the most of the opportunities and assistance provided by artificial intelligence."
          ],
          [
           "5.17.2023 13:48:07",
           "Bachelor",
           "Business Management",
           "Female",
           "Neutral",
           "Agree",
           "Agree",
           "Agree",
           "Strongly Agree",
           "Strongly Agree",
           "Agree",
           "Disagree",
           "Agree",
           "Agree",
           "Neutral",
           "Agree",
           "Agree",
           "Agree",
           "Agree",
           "Strongly Agree",
           "Strongly Agree",
           "Strongly Agree",
           "Agree",
           "Agree",
           "Agree",
           "Agree",
           "Agree",
           "Neutral",
           "Neutral",
           "Neutral",
           "Neutral",
           "Neutral",
           "No answer"
          ],
          [
           "5.17.2023 13:49:20",
           "Bachelor",
           "Management in Tourism",
           "Female",
           "Neutral",
           "Neutral",
           "Disagree",
           "Neutral",
           "Neutral",
           "Neutral",
           "Agree",
           "Neutral",
           "Neutral",
           "Strongly Agree",
           "Agree",
           "Agree",
           "Agree",
           "Agree",
           "Neutral",
           "Neutral",
           "Agree",
           "Neutral",
           "Agree",
           "Agree",
           "Agree",
           "Agree",
           "Agree",
           "Neutral",
           "Neutral",
           "Neutral",
           "Neutral",
           "Neutral",
           "No answer"
          ],
          [
           "5.17.2023 13:50:24",
           "Bachelor",
           "Public Administration",
           "Female",
           "Disagree",
           "Disagree",
           "Disagree",
           "Disagree",
           "Agree",
           "Neutral",
           "Agree",
           "Agree",
           "Agree",
           "Strongly Agree",
           "Agree",
           "Agree",
           "Strongly Agree",
           "Strongly Agree",
           "Agree",
           "Agree",
           "Agree",
           "Agree",
           "Agree",
           "Agree",
           "Agree",
           "Agree",
           "Agree",
           "Agree",
           "Agree",
           "Agree",
           "Agree",
           "Agree",
           "No answer"
          ],
          [
           "5.17.2023 13:50:35",
           "Bachelor",
           "Management in Tourism",
           "Female",
           "Neutral",
           "Neutral",
           "Neutral",
           "Disagree",
           "Neutral",
           "Agree",
           "Agree",
           "Agree",
           "Neutral",
           "Agree",
           "Agree",
           "Agree",
           "Agree",
           "Agree",
           "Neutral",
           "Strongly Disagree",
           "Disagree",
           "Disagree",
           "Neutral",
           "Agree",
           "Neutral",
           "Agree",
           "Agree",
           "Agree",
           "Agree",
           "Neutral",
           "Neutral",
           "Neutral",
           "No answer"
          ],
          [
           "5.17.2023 13:51:09",
           "Bachelor",
           "Management in Tourism",
           "Female",
           "Disagree",
           "Agree",
           "Neutral",
           "Neutral",
           "Neutral",
           "Agree",
           "Agree",
           "Agree",
           "Agree",
           "Strongly Agree",
           "Agree",
           "Agree",
           "Strongly Agree",
           "Agree",
           "Neutral",
           "Agree",
           "Strongly Agree",
           "Strongly Agree",
           "Strongly Agree",
           "Strongly Agree",
           "Strongly Agree",
           "Neutral",
           "Agree",
           "Neutral",
           "Neutral",
           "Neutral",
           "Neutral",
           "Neutral",
           "No answer"
          ],
          [
           "5.17.2023 13:51:46",
           "Bachelor",
           "Business Management",
           "Female",
           "Neutral",
           "Neutral",
           "Disagree",
           "Disagree",
           "Disagree",
           "Strongly Agree",
           "Strongly Agree",
           "Strongly Agree",
           "Strongly Agree",
           "Strongly Agree",
           "Strongly Agree",
           "Agree",
           "Strongly Agree",
           "Agree",
           "Disagree",
           "Neutral",
           "Agree",
           "Agree",
           "Agree",
           "Agree",
           "Agree",
           "Agree",
           "Agree",
           "Agree",
           "Agree",
           "Neutral",
           "Agree",
           "Neutral",
           "No answer"
          ],
          [
           "5.17.2023 13:52:41",
           "Bachelor",
           "Business Management",
           "Female",
           "Agree",
           "Agree",
           "Agree",
           "Neutral",
           "Neutral",
           "Neutral",
           "Neutral",
           "Neutral",
           "Neutral",
           "Agree",
           "Neutral",
           "Neutral",
           "Agree",
           "Neutral",
           "Agree",
           "Agree",
           "Disagree",
           "Agree",
           "Agree",
           "Agree",
           "Agree",
           "Neutral",
           "Agree",
           "Neutral",
           "Neutral",
           "Neutral",
           "Neutral",
           "Neutral",
           "No answer"
          ],
          [
           "5.17.2023 13:53:34",
           "Bachelor",
           "Management in Tourism",
           "Female",
           "Agree",
           "Agree",
           "Neutral",
           "Neutral",
           "Neutral",
           "Neutral",
           "Disagree",
           "Disagree",
           "Disagree",
           "Agree",
           "Disagree",
           "Neutral",
           "Neutral",
           "Neutral",
           "Neutral",
           "Agree",
           "Disagree",
           "Disagree",
           "Neutral",
           "Neutral",
           "Neutral",
           "Neutral",
           "Neutral",
           "Neutral",
           "Neutral",
           "Neutral",
           "Neutral",
           "Neutral",
           "I do not agree."
          ],
          [
           "5.17.2023 13:56:34",
           "Bachelor",
           "Management in Tourism",
           "Female",
           "Agree",
           "Neutral",
           "Neutral",
           "Neutral",
           "Agree",
           "Agree",
           "Agree",
           "Neutral",
           "Agree",
           "Agree",
           "Neutral",
           "Agree",
           "Agree",
           "Neutral",
           "Agree",
           "Neutral",
           "Agree",
           "Agree",
           "Agree",
           "Neutral",
           "Agree",
           "Agree",
           "Agree",
           "Agree",
           "Agree",
           "Neutral",
           "Neutral",
           "Agree",
           "No answer"
          ],
          [
           "5.17.2023 14:15:28",
           "Bachelor",
           "Management in Tourism",
           "Female",
           "Agree",
           "Strongly Agree",
           "Agree",
           "Neutral",
           "Agree",
           "Strongly Agree",
           "Agree",
           "Agree",
           "Strongly Agree",
           "Strongly Agree",
           "Agree",
           "Agree",
           "Strongly Agree",
           "Agree",
           "Agree",
           "Agree",
           "Strongly Agree",
           "Agree",
           "Agree",
           "Agree",
           "Agree",
           "Neutral",
           "Neutral",
           "Neutral",
           "Agree",
           "Neutral",
           "Neutral",
           "Neutral",
           "No answer"
          ],
          [
           "5.17.2023 15:19:38",
           "Bachelor",
           "Geography, Technologies and Entrepreneurship",
           "Female",
           "Neutral",
           "Neutral",
           "Neutral",
           "Disagree",
           "Agree",
           "Agree",
           "Agree",
           "Disagree",
           "Agree",
           "Agree",
           "Agree",
           "Agree",
           "Strongly Agree",
           "Neutral",
           "Strongly Agree",
           "Strongly Agree",
           "Strongly Agree",
           "Agree",
           "Disagree",
           "Agree",
           "Agree",
           "Agree",
           "Disagree",
           "Neutral",
           "Agree",
           "Neutral",
           "Strongly Disagree",
           "Disagree",
           "No answer"
          ],
          [
           "5.17.2023 18:14:28",
           "Bachelor",
           "International Economic Relations",
           "Female",
           "Neutral",
           "Disagree",
           "Neutral",
           "Disagree",
           "Strongly Disagree",
           "Strongly Disagree",
           "Agree",
           "Neutral",
           "Strongly Agree",
           "Agree",
           "Agree",
           "Agree",
           "Agree",
           "Neutral",
           "Strongly Agree",
           "Strongly Agree",
           "Strongly Agree",
           "Strongly Agree",
           "Neutral",
           "Neutral",
           "Agree",
           "Neutral",
           "Agree",
           "Disagree",
           "Disagree",
           "Neutral",
           "Agree",
           "Strongly Agree",
           "No answer"
          ],
          [
           "5.18.2023 9:28:40",
           "Bachelor",
           "Business Management",
           "Female",
           "Neutral",
           "Disagree",
           "Neutral",
           "Agree",
           "Agree",
           "Strongly Agree",
           "Agree",
           "Agree",
           "Neutral",
           "Strongly Agree",
           "Agree",
           "Strongly Agree",
           "Strongly Agree",
           "Agree",
           "Strongly Agree",
           "Strongly Agree",
           "Strongly Agree",
           "Agree",
           "Agree",
           "Agree",
           "Neutral",
           "Neutral",
           "Neutral",
           "Neutral",
           "Neutral",
           "Neutral",
           "Agree",
           "Agree",
           "I haven't used ChatGPT, but more and more of my peers are sharing that they use chat for homework on issues that require a personal position. I think intelligence is a good opportunity for ideas because it provides interesting and different answers, but it will reduce teamwork and thinking about questions."
          ],
          [
           "5.18.2023 9:31:03",
           "Bachelor",
           "Business Management",
           "Female",
           "Neutral",
           "Agree",
           "Agree",
           "Neutral",
           "Agree",
           "Agree",
           "Strongly Agree",
           "Neutral",
           "Disagree",
           "Strongly Agree",
           "Disagree",
           "Neutral",
           "Agree",
           "Agree",
           "Strongly Agree",
           "Disagree",
           "Disagree",
           "Strongly Agree",
           "Agree",
           "Agree",
           "Agree",
           "Agree",
           "Agree",
           "Agree",
           "Agree",
           "Agree",
           "Agree",
           "Agree",
           "No answer"
          ],
          [
           "5.18.2023 13:36:05",
           "Bachelor",
           "Economics and Business",
           "Female",
           "Disagree",
           "Disagree",
           "Disagree",
           "Disagree",
           "Disagree",
           "Disagree",
           "Strongly Agree",
           "Agree",
           "Agree",
           "Strongly Agree",
           "Agree",
           "Agree",
           "Agree",
           "Agree",
           "Agree",
           "Disagree",
           "Agree",
           "Strongly Disagree",
           "Strongly Disagree",
           "Strongly Agree",
           "Strongly Agree",
           "Neutral",
           "Neutral",
           "Strongly Agree",
           "Agree",
           "Agree",
           "Agree",
           "Agree",
           "ChatGPT helps with question answering and I have no complaints about its work. My opinion on artificial intelligence is extremely good."
          ],
          [
           "5.18.2023 13:37:26",
           "Bachelor",
           "Economics and Business",
           "Female",
           "Neutral",
           "Disagree",
           "Neutral",
           "Strongly Disagree",
           "Neutral",
           "Disagree",
           "Neutral",
           "Agree",
           "Neutral",
           "Strongly Agree",
           "Agree",
           "Agree",
           "Strongly Agree",
           "Agree",
           "Agree",
           "Strongly Agree",
           "Strongly Agree",
           "Disagree",
           "Neutral",
           "Neutral",
           "Agree",
           "Neutral",
           "Neutral",
           "Agree",
           "Agree",
           "Neutral",
           "Neutral",
           "Neutral",
           "Artificial intelligence helps us save a lot of time, however it hinders our development and limits our teamwork"
          ],
          [
           "5.18.2023 13:37:49",
           "Bachelor",
           "Economics and Business",
           "Female",
           "Agree",
           "Disagree",
           "Neutral",
           "Strongly Disagree",
           "Neutral",
           "Strongly Agree",
           "Agree",
           "Strongly Disagree",
           "Neutral",
           "Strongly Agree",
           "Neutral",
           "Neutral",
           "Strongly Agree",
           "Agree",
           "Strongly Agree",
           "Neutral",
           "Strongly Agree",
           "Strongly Agree",
           "Strongly Disagree",
           "Agree",
           "Agree",
           "Neutral",
           "Neutral",
           "Neutral",
           "Neutral",
           "Neutral",
           "Neutral",
           "Neutral",
           "They can be used for gathering information and contributing to research, but not as a means of overall preparation for the performance of set tasks"
          ],
          [
           "5.18.2023 13:41:05",
           "Bachelor",
           "Economics and Business",
           "Female",
           "Strongly Disagree",
           "Disagree",
           "Disagree",
           "Disagree",
           "Neutral",
           "Agree",
           "Agree",
           "Agree",
           "Agree",
           "Agree",
           "Agree",
           "Agree",
           "Agree",
           "Agree",
           "Neutral",
           "Agree",
           "Neutral",
           "Agree",
           "Agree",
           "Agree",
           "Agree",
           "Agree",
           "Agree",
           "Agree",
           "Agree",
           "Agree",
           "Neutral",
           "Neutral",
           "The chatbot helped me with various assignments throughout the semester. It generates different answers, which is a big plus for the development of tasks of different topics. I don't trust the chatbot 100% though and am checking other sources. It would be useful to integrate it into the learning environment, but not to rely on it completely."
          ],
          [
           "5.18.2023 13:41:25",
           "Bachelor",
           "Economics and Business",
           "Female",
           "Agree",
           "Strongly Disagree",
           "Strongly Disagree",
           "Strongly Disagree",
           "Disagree",
           "Strongly Disagree",
           "Strongly Agree",
           "Agree",
           "Neutral",
           "Strongly Agree",
           "Strongly Agree",
           "Agree",
           "Strongly Agree",
           "Strongly Agree",
           "Neutral",
           "Agree",
           "Strongly Agree",
           "Strongly Disagree",
           "Strongly Agree",
           "Strongly Disagree",
           "Strongly Agree",
           "Neutral",
           "Neutral",
           "Agree",
           "Strongly Agree",
           "Neutral",
           "Strongly Disagree",
           "Neutral",
           "I am in favor of learning with artificial intelligence because it helps us learn many new and interesting things in addition to what we learn at university. Accessibility makes it even easier because you can refer to it at any time. As an improvement, I would add a function to take photos and display images and graphics on the given topic and thus, to be able to have a visual presentation of the topic, if necessary."
          ],
          [
           "5.18.2023 13:49:43",
           "Bachelor",
           "Economics and Business",
           "Female",
           "Agree",
           "Disagree",
           "Agree",
           "Agree",
           "Neutral",
           "Agree",
           "Agree",
           "Neutral",
           "Agree",
           "Strongly Agree",
           "Agree",
           "Strongly Agree",
           "Strongly Agree",
           "Strongly Agree",
           "Agree",
           "Strongly Agree",
           "Agree",
           "Strongly Agree",
           "Agree",
           "Agree",
           "Agree",
           "Agree",
           "Neutral",
           "Neutral",
           "Agree",
           "Agree",
           "Neutral",
           "Disagree",
           "The technologies of generative artificial intelligence can be both positive and negative. The positive sides are: saving time for solving assigned questions and tasks; generating interesting and non-standard answers; facilitating both teachers and students in terms of the learning process The negative sides are: excessive use of this type of software stunts the students' capacity and does not stimulate them to use their mental abilities, the option of getting ready-made solutions and opinions will affect the productivity and motivation of the students.  In conclusion, I will say that integrating artificial intelligence into the learning process will be useful from a teaching point of view, but in my opinion, students should not be given complete freedom to complete their practical tasks entirely with this artificial intelligence."
          ],
          [
           "5.18.2023 13:56:24",
           "Bachelor",
           "Economics and Business",
           "Female",
           "Agree",
           "Disagree",
           "Neutral",
           "Strongly Disagree",
           "Neutral",
           "Agree",
           "Strongly Agree",
           "Strongly Agree",
           "Neutral",
           "Strongly Agree",
           "Strongly Agree",
           "Strongly Agree",
           "Strongly Agree",
           "Neutral",
           "Neutral",
           "Neutral",
           "Agree",
           "Strongly Agree",
           "Neutral",
           "Agree",
           "Agree",
           "Neutral",
           "Disagree",
           "Agree",
           "Neutral",
           "Neutral",
           "Disagree",
           "Strongly Disagree",
           "My opinion on generative artificial intelligence is neither positive nor negative, as I do not consider myself a competent person to comment on it. What I can say as a student is that most colleagues use it to avoid wasting their efforts on coursework or assigned homework or to copy tests. It certainly has benefits and saves time when looking for information, but its use should not be a trend. It may take some time for the benefits of generative artificial intelligence to be established and integrated into learning."
          ],
          [
           "5.18.2023 14:37:28",
           "Bachelor",
           "Economics and Business",
           "Female",
           "Disagree",
           "Neutral",
           "Agree",
           "Disagree",
           "Neutral",
           "Strongly Agree",
           "Agree",
           "Agree",
           "Neutral",
           "Agree",
           "Neutral",
           "Agree",
           "Agree",
           "Agree",
           "Neutral",
           "Agree",
           "Neutral",
           "Disagree",
           "Agree",
           "Agree",
           "Agree",
           "Agree",
           "Neutral",
           "Neutral",
           "Agree",
           "Neutral",
           "Agree",
           "Disagree",
           "I have no recommendations."
          ],
          [
           "5.18.2023 16:10:57",
           "Bachelor",
           "Ìåíèäæìúíò íà òóðèñòè÷åñêèÿ áèçíåñ",
           "Female",
           "Agree",
           "Neutral",
           "Agree",
           "Neutral",
           "Agree",
           "Agree",
           "Agree",
           "Disagree",
           "Disagree",
           "Agree",
           "Agree",
           "Disagree",
           "Agree",
           "Disagree",
           "Agree",
           "Agree",
           "Agree",
           "Agree",
           "Disagree",
           "Disagree",
           "Agree",
           "Agree",
           "Agree",
           "Disagree",
           "Disagree",
           "Disagree",
           "Disagree",
           "Disagree",
           "No answer"
          ],
          [
           "5.19.2023 17:09:07",
           "Bachelor",
           "Business Management",
           "Female",
           "Neutral",
           "Neutral",
           "Disagree",
           "Strongly Disagree",
           "Neutral",
           "Strongly Disagree",
           "Agree",
           "Strongly Agree",
           "Agree",
           "Agree",
           "Strongly Agree",
           "Agree",
           "Agree",
           "Agree",
           "Neutral",
           "Agree",
           "Agree",
           "Agree",
           "Agree",
           "Agree",
           "Agree",
           "Agree",
           "Agree",
           "Agree",
           "Agree",
           "Agree",
           "Agree",
           "Agree",
           "No answer"
          ],
          [
           "5.19.2023 18:11:41",
           "Bachelor",
           "Marketing",
           "Female",
           "Strongly Disagree",
           "Agree",
           "Disagree",
           "Disagree",
           "Agree",
           "Agree",
           "Agree",
           "Agree",
           "Agree",
           "Agree",
           "Neutral",
           "Agree",
           "Agree",
           "Agree",
           "Strongly Agree",
           "Agree",
           "Agree",
           "Strongly Agree",
           "Strongly Agree",
           "Strongly Agree",
           "Strongly Agree",
           "Strongly Agree",
           "Strongly Agree",
           "Agree",
           "Strongly Agree",
           "Neutral",
           "Agree",
           "Strongly Agree",
           "No answer"
          ],
          [
           "5.19.2023 22:30:07",
           "Bachelor",
           "Marketing",
           "Female",
           "Neutral",
           "Neutral",
           "Neutral",
           "Agree",
           "Disagree",
           "Disagree",
           "Neutral",
           "Agree",
           "Neutral",
           "Neutral",
           "Disagree",
           "Agree",
           "Agree",
           "Neutral",
           "Neutral",
           "Neutral",
           "Neutral",
           "Neutral",
           "Agree",
           "Agree",
           "Disagree",
           "Neutral",
           "Agree",
           "Neutral",
           "Agree",
           "Disagree",
           "Disagree",
           "Agree",
           "No answer"
          ],
          [
           "5.19.2023 22:44:50",
           "Bachelor",
           "Economics and Business",
           "Female",
           "Agree",
           "Agree",
           "Agree",
           "Agree",
           "Agree",
           "Agree",
           "Agree",
           "Agree",
           "Agree",
           "Agree",
           "Agree",
           "Agree",
           "Agree",
           "Agree",
           "Agree",
           "Agree",
           "Agree",
           "Agree",
           "Agree",
           "Agree",
           "Agree",
           "Agree",
           "Agree",
           "Agree",
           "Agree",
           "Agree",
           "Agree",
           "Agree",
           "Yes, ChatGPT showed me that in the near future artificial intelligence will develop even more."
          ],
          [
           "5.19.2023 22:47:22",
           "Bachelor",
           "Economics and Business",
           "Female",
           "Agree",
           "Agree",
           "Agree",
           "Agree",
           "Agree",
           "Agree",
           "Agree",
           "Agree",
           "Agree",
           "Agree",
           "Agree",
           "Agree",
           "Agree",
           "Agree",
           "Agree",
           "Agree",
           "Agree",
           "Agree",
           "Agree",
           "Agree",
           "Agree",
           "Agree",
           "Agree",
           "Agree",
           "Agree",
           "Agree",
           "Agree",
           "Agree",
           "In this kind of artificial intelligence, I saw potential for development in the future."
          ],
          [
           "5.21.2023 0:05:28",
           "Bachelor",
           "Accounting",
           "Female",
           "Agree",
           "Disagree",
           "Agree",
           "Disagree",
           "Disagree",
           "Disagree",
           "Disagree",
           "Disagree",
           "Disagree",
           "Disagree",
           "Disagree",
           "Disagree",
           "Disagree",
           "Disagree",
           "Agree",
           "Agree",
           "Agree",
           "Agree",
           "Disagree",
           "Disagree",
           "Disagree",
           "Neutral",
           "Neutral",
           "Neutral",
           "Neutral",
           "Neutral",
           "Neutral",
           "Neutral",
           "No answer"
          ],
          [
           "5.21.2023 8:19:31",
           "Bachelor",
           "Accounting",
           "Female",
           "Strongly Disagree",
           "Strongly Disagree",
           "Strongly Disagree",
           "Agree",
           "Strongly Disagree",
           "Disagree",
           "Disagree",
           "Strongly Disagree",
           "Strongly Disagree",
           "Disagree",
           "Strongly Disagree",
           "Disagree",
           "Strongly Disagree",
           "Agree",
           "Strongly Disagree",
           "Disagree",
           "Strongly Agree",
           "Agree",
           "Agree",
           "Strongly Agree",
           "Strongly Agree",
           "Strongly Agree",
           "Agree",
           "Neutral",
           "Disagree",
           "Agree",
           "Neutral",
           "Agree",
           "No answer"
          ],
          [
           "5.21.2023 9:57:56",
           "Bachelor",
           "Accounting",
           "Female",
           "Neutral",
           "Agree",
           "Agree",
           "Agree",
           "Agree",
           "Agree",
           "Strongly Agree",
           "Agree",
           "Neutral",
           "Agree",
           "Agree",
           "Agree",
           "Strongly Agree",
           "Strongly Agree",
           "Agree",
           "Strongly Agree",
           "Strongly Agree",
           "Agree",
           "Agree",
           "Agree",
           "Agree",
           "Neutral",
           "Neutral",
           "Neutral",
           "Agree",
           "Neutral",
           "Neutral",
           "Neutral",
           "No answer"
          ],
          [
           "5.21.2023 16:37:21",
           "Bachelor",
           "International Economic Relations",
           "Female",
           "Neutral",
           "Agree",
           "Neutral",
           "Strongly Disagree",
           "Neutral",
           "Neutral",
           "Strongly Agree",
           "Agree",
           "Strongly Agree",
           "Strongly Agree",
           "Strongly Agree",
           "Agree",
           "Strongly Agree",
           "Strongly Agree",
           "Strongly Disagree",
           "Strongly Disagree",
           "Strongly Disagree",
           "Strongly Disagree",
           "Strongly Agree",
           "Strongly Agree",
           "Strongly Agree",
           "Strongly Agree",
           "Strongly Agree",
           "Agree",
           "Strongly Agree",
           "Agree",
           "Agree",
           "Neutral",
           "No answer"
          ],
          [
           "5.21.2023 19:01:12",
           "Bachelor",
           "Accounting",
           "Female",
           "Agree",
           "Strongly Agree",
           "Agree",
           "Disagree",
           "Strongly Agree",
           "Agree",
           "Strongly Agree",
           "Strongly Agree",
           "Agree",
           "Strongly Agree",
           "Strongly Agree",
           "Strongly Agree",
           "Strongly Agree",
           "Neutral",
           "Neutral",
           "Disagree",
           "Disagree",
           "Agree",
           "Agree",
           "Strongly Agree",
           "Strongly Agree",
           "Neutral",
           "Agree",
           "Agree",
           "Disagree",
           "Neutral",
           "Agree",
           "Neutral",
           "In my opinion, generative artificial intelligence would be very useful for both students and teachers. I myself have used ChatGTP to search for information on some tasks, because it manages to sift the most important things from the Internet."
          ],
          [
           "5.21.2023 19:22:13",
           "Bachelor",
           "Finance",
           "Female",
           "Agree",
           "Agree",
           "Agree",
           "Agree",
           "Agree",
           "Strongly Agree",
           "Neutral",
           "Disagree",
           "Neutral",
           "Agree",
           "Agree",
           "Agree",
           "Agree",
           "Neutral",
           "Neutral",
           "Neutral",
           "Agree",
           "Strongly Disagree",
           "Agree",
           "Agree",
           "Agree",
           "Neutral",
           "Neutral",
           "Agree",
           "Agree",
           "Neutral",
           "Disagree",
           "Disagree",
           "No answer"
          ],
          [
           "5.22.2023 11:39:22",
           "Bachelor",
           "Public Administration",
           "Female",
           "Agree",
           "Strongly Agree",
           "Agree",
           "Neutral",
           "Agree",
           "Neutral",
           "Agree",
           "Agree",
           "Agree",
           "Agree",
           "Agree",
           "Neutral",
           "Agree",
           "Agree",
           "Agree",
           "Agree",
           "Agree",
           "Strongly Agree",
           "Neutral",
           "Agree",
           "Agree",
           "Neutral",
           "Neutral",
           "Neutral",
           "Neutral",
           "Neutral",
           "Agree",
           "Neutral",
           "."
          ],
          [
           "5.22.2023 11:55:44",
           "Bachelor",
           "Marketing",
           "Female",
           "Neutral",
           "Agree",
           "Agree",
           "Agree",
           "Agree",
           "Agree",
           "Agree",
           "Strongly Agree",
           "Strongly Agree",
           "Strongly Agree",
           "Agree",
           "Agree",
           "Agree",
           "Agree",
           "Disagree",
           "Strongly Disagree",
           "Strongly Disagree",
           "Strongly Disagree",
           "Agree",
           "Agree",
           "Agree",
           "Agree",
           "Neutral",
           "Neutral",
           "Agree",
           "Neutral",
           "Agree",
           "Neutral",
           "No answer"
          ],
          [
           "5.23.2023 9:01:15",
           "Bachelor",
           "Marketing",
           "Female",
           "Neutral",
           "Agree",
           "Agree",
           "Agree",
           "Neutral",
           "Neutral",
           "Agree",
           "Agree",
           "Agree",
           "Agree",
           "Agree",
           "Neutral",
           "Agree",
           "Agree",
           "Neutral",
           "Agree",
           "Agree",
           "Agree",
           "Agree",
           "Agree",
           "Agree",
           "Agree",
           "Neutral",
           "Agree",
           "Neutral",
           "Neutral",
           "Disagree",
           "Neutral",
           "More ways to solve more complex problems must be invented"
          ],
          [
           "5.23.2023 9:44:53",
           "Bachelor",
           "Marketing",
           "Female",
           "Disagree",
           "Neutral",
           "Neutral",
           "Disagree",
           "Disagree",
           "Agree",
           "Agree",
           "Agree",
           "Neutral",
           "Agree",
           "Neutral",
           "Agree",
           "Agree",
           "Agree",
           "Agree",
           "Neutral",
           "Disagree",
           "Neutral",
           "Agree",
           "Agree",
           "Agree",
           "Disagree",
           "Disagree",
           "Neutral",
           "Agree",
           "Neutral",
           "Disagree",
           "Disagree",
           "No answer"
          ],
          [
           "5.23.2023 10:08:24",
           "Bachelor",
           "Marketing",
           "Female",
           "Neutral",
           "Agree",
           "Neutral",
           "Neutral",
           "Neutral",
           "Neutral",
           "Strongly Agree",
           "Neutral",
           "Agree",
           "Agree",
           "Strongly Agree",
           "Disagree",
           "Strongly Agree",
           "Strongly Agree",
           "Strongly Agree",
           "Strongly Agree",
           "Strongly Agree",
           "Strongly Agree",
           "Agree",
           "Agree",
           "Agree",
           "Strongly Disagree",
           "Agree",
           "Agree",
           "Agree",
           "Neutral",
           "Neutral",
           "Disagree",
           "No answer"
          ],
          [
           "5.24.2023 23:58:12",
           "Bachelor",
           "Marketing",
           "Female",
           "Neutral",
           "Neutral",
           "Disagree",
           "Disagree",
           "Disagree",
           "Agree",
           "Agree",
           "Neutral",
           "Neutral",
           "Strongly Agree",
           "Strongly Agree",
           "Neutral",
           "Neutral",
           "Disagree",
           "Agree",
           "Agree",
           "Agree",
           "Agree",
           "Agree",
           "Neutral",
           "Neutral",
           "Agree",
           "Neutral",
           "Strongly Agree",
           "Strongly Agree",
           "Agree",
           "Neutral",
           "Strongly Disagree",
           "No answer"
          ],
          [
           "5.25.2023 0:10:46",
           "Bachelor",
           "International Economic Relations",
           "Female",
           "Strongly Disagree",
           "Strongly Disagree",
           "Disagree",
           "Strongly Disagree",
           "Strongly Disagree",
           "Strongly Disagree",
           "Strongly Agree",
           "Strongly Agree",
           "Strongly Agree",
           "Strongly Agree",
           "Strongly Agree",
           "Strongly Agree",
           "Strongly Agree",
           "Strongly Agree",
           "Strongly Disagree",
           "Strongly Disagree",
           "Strongly Disagree",
           "Strongly Disagree",
           "Strongly Agree",
           "Strongly Agree",
           "Strongly Agree",
           "Strongly Agree",
           "Strongly Agree",
           "Strongly Disagree",
           "Strongly Disagree",
           "Strongly Disagree",
           "Strongly Disagree",
           "Strongly Disagree",
           "In my opinion, artificial intelligence should increasingly enter the education of adolescents!"
          ],
          [
           "5.25.2023 0:47:18",
           "Bachelor",
           "Marketing",
           "Female",
           "Agree",
           "Agree",
           "Strongly Disagree",
           "Strongly Disagree",
           "Disagree",
           "Disagree",
           "Strongly Agree",
           "Strongly Agree",
           "Strongly Agree",
           "Strongly Agree",
           "Neutral",
           "Neutral",
           "Strongly Agree",
           "Strongly Agree",
           "Strongly Agree",
           "Disagree",
           "Disagree",
           "Strongly Disagree",
           "Strongly Agree",
           "Strongly Agree",
           "Strongly Agree",
           "Agree",
           "Strongly Agree",
           "Disagree",
           "Strongly Agree",
           "Neutral",
           "Agree",
           "Strongly Disagree",
           "No answer"
          ],
          [
           "5.26.2023 0:09:45",
           "Bachelor",
           "Finance",
           "Female",
           "Neutral",
           "Neutral",
           "Neutral",
           "Neutral",
           "Neutral",
           "Neutral",
           "Strongly Agree",
           "Strongly Agree",
           "Strongly Agree",
           "Strongly Agree",
           "Strongly Agree",
           "Strongly Agree",
           "Strongly Agree",
           "Strongly Agree",
           "Agree",
           "Strongly Agree",
           "Agree",
           "Strongly Agree",
           "Agree",
           "Strongly Agree",
           "Agree",
           "Strongly Agree",
           "Strongly Agree",
           "Agree",
           "Agree",
           "Strongly Agree",
           "Agree",
           "Strongly Agree",
           "No answer"
          ],
          [
           "5.26.2023 10:39:24",
           "Bachelor",
           "International Economic Relations",
           "Female",
           "Agree",
           "Agree",
           "Agree",
           "Agree",
           "Agree",
           "Agree",
           "Neutral",
           "Strongly Agree",
           "Agree",
           "Agree",
           "Agree",
           "Agree",
           "Agree",
           "Agree",
           "Agree",
           "Strongly Agree",
           "Agree",
           "Agree",
           "Disagree",
           "Neutral",
           "Neutral",
           "Neutral",
           "Neutral",
           "Neutral",
           "Agree",
           "Agree",
           "Agree",
           "Neutral",
           "No answer"
          ],
          [
           "5.26.2023 13:18:12",
           "Bachelor",
           "International Economic Relations",
           "Female",
           "Agree",
           "Neutral",
           "Disagree",
           "Disagree",
           "Disagree",
           "Disagree",
           "Agree",
           "Agree",
           "Agree",
           "Agree",
           "Agree",
           "Agree",
           "Agree",
           "Agree",
           "Neutral",
           "Agree",
           "Agree",
           "Neutral",
           "Agree",
           "Agree",
           "Agree",
           "Agree",
           "Agree",
           "Agree",
           "Agree",
           "Neutral",
           "Agree",
           "Agree",
           "No answer"
          ],
          [
           "5.26.2023 15:44:55",
           "Bachelor",
           "International Economic Relations",
           "Female",
           "Agree",
           "Neutral",
           "Agree",
           "Agree",
           "Agree",
           "Agree",
           "Agree",
           "Agree",
           "Agree",
           "Agree",
           "Agree",
           "Agree",
           "Disagree",
           "Agree",
           "Disagree",
           "Neutral",
           "Neutral",
           "Agree",
           "Agree",
           "Agree",
           "Agree",
           "Disagree",
           "Neutral",
           "Neutral",
           "Agree",
           "Neutral",
           "Agree",
           "Agree",
           "ChtGPT helps me a lot in preparing for assignments and exams. I think it gives personalized answers. Perhaps it wants more improvements in his emotional competence. But I don't think its use should be overdone.0"
          ],
          [
           "5.26.2023 21:43:23",
           "Bachelor",
           "Finance",
           "Female",
           "Neutral",
           "Neutral",
           "Disagree",
           "Disagree",
           "Neutral",
           "Disagree",
           "Agree",
           "Agree",
           "Agree",
           "Agree",
           "Agree",
           "Agree",
           "Agree",
           "Agree",
           "Disagree",
           "Disagree",
           "Disagree",
           "Disagree",
           "Agree",
           "Agree",
           "Agree",
           "Agree",
           "Agree",
           "Agree",
           "Agree",
           "Agree",
           "Agree",
           "Agree",
           "No answer"
          ],
          [
           "5.27.2023 10:28:36",
           "Bachelor",
           "Marketing",
           "Female",
           "Agree",
           "Agree",
           "Neutral",
           "Neutral",
           "Neutral",
           "Neutral",
           "Strongly Agree",
           "Strongly Agree",
           "Strongly Agree",
           "Strongly Agree",
           "Agree",
           "Strongly Agree",
           "Strongly Agree",
           "Strongly Agree",
           "Disagree",
           "Disagree",
           "Disagree",
           "Disagree",
           "Strongly Agree",
           "Strongly Agree",
           "Strongly Agree",
           "Agree",
           "Agree",
           "Disagree",
           "Agree",
           "Neutral",
           "Agree",
           "Agree",
           "No answer"
          ],
          [
           "5.31.2023 17:42:52",
           "Bachelor",
           "Finance",
           "Female",
           "Neutral",
           "Neutral",
           "Neutral",
           "Neutral",
           "Neutral",
           "Neutral",
           "Neutral",
           "Neutral",
           "Neutral",
           "Neutral",
           "Neutral",
           "Neutral",
           "Neutral",
           "Neutral",
           "Neutral",
           "Neutral",
           "Neutral",
           "Neutral",
           "Neutral",
           "Neutral",
           "Neutral",
           "Neutral",
           "Neutral",
           "Neutral",
           "Neutral",
           "Neutral",
           "Neutral",
           "Neutral",
           "I don't have any"
          ]
         ],
         "hovertemplate": "Gender=%{customdata[3]}<br>Usage=%{x}<br>Timestamp=%{customdata[0]}<br>Q1=%{customdata[1]}<br>Q2=%{customdata[2]}<br>Q5.1=%{customdata[4]}<br>Q5.2=%{customdata[5]}<br>Q5.3=%{customdata[6]}<br>Q5.4=%{customdata[7]}<br>Q5.5=%{customdata[8]}<br>Q5.6=%{customdata[9]}<br>Q6.1=%{customdata[10]}<br>Q6.2=%{customdata[11]}<br>Q6.3=%{customdata[12]}<br>Q6.4=%{customdata[13]}<br>Q6.5=%{customdata[14]}<br>Q6.6=%{customdata[15]}<br>Q6.7=%{customdata[16]}<br>Q6.8=%{customdata[17]}<br>Q7.1=%{customdata[18]}<br>Q7.2=%{customdata[19]}<br>Q7.3=%{customdata[20]}<br>Q7.4=%{customdata[21]}<br>Q8.1=%{customdata[22]}<br>Q8.2=%{customdata[23]}<br>Q8.3=%{customdata[24]}<br>Q8.4=%{customdata[25]}<br>Q8.5=%{customdata[26]}<br>Q9.1=%{customdata[27]}<br>Q9.2=%{customdata[28]}<br>Q9.3=%{customdata[29]}<br>Q9.4=%{customdata[30]}<br>Q9.5=%{customdata[31]}<br>Q10=%{customdata[32]}<extra></extra>",
         "legendgroup": "Female",
         "marker": {
          "color": "#636efa"
         },
         "name": "Female",
         "notched": true,
         "offsetgroup": "Female",
         "showlegend": false,
         "x": [
          "Often",
          "Sometimes",
          "Rarely",
          "Rarely",
          "Sometimes",
          "Often",
          "Rarely",
          "Sometimes",
          "Rarely",
          "Rarely",
          "Sometimes",
          "Very often",
          "Rarely",
          "Never",
          "Rarely",
          "Sometimes",
          "Often",
          "Sometimes",
          "Rarely",
          "Sometimes",
          "Often",
          "Sometimes",
          "Sometimes",
          "Sometimes",
          "Sometimes",
          "Never",
          "Rarely",
          "Rarely",
          "Sometimes",
          "Often",
          "Rarely",
          "Sometimes",
          "Rarely",
          "Sometimes",
          "Sometimes",
          "Never",
          "Often",
          "Often",
          "Rarely",
          "Sometimes",
          "Sometimes",
          "Sometimes",
          "Often",
          "Very often",
          "Rarely",
          "Sometimes",
          "Rarely",
          "Very often",
          "Rarely",
          "Often",
          "Sometimes",
          "Sometimes",
          "Rarely",
          "Sometimes",
          "Sometimes",
          "Sometimes",
          "Often",
          "Sometimes",
          "Sometimes",
          "Often",
          "Rarely",
          "Never",
          "Sometimes",
          "Never",
          "Often",
          "Rarely",
          "Never",
          "Never",
          "Never",
          "Sometimes",
          "Never",
          "Sometimes",
          "Never",
          "Sometimes",
          "Rarely",
          "Sometimes",
          "Often",
          "Sometimes",
          "Often",
          "Rarely",
          "Rarely",
          "Rarely",
          "Never",
          "Rarely",
          "Never",
          "Rarely",
          "Sometimes",
          "Sometimes",
          "Sometimes",
          "Sometimes",
          "Sometimes",
          "Sometimes",
          "Often",
          "Rarely",
          "Rarely",
          "Sometimes",
          "Rarely",
          "Sometimes",
          "Sometimes",
          "Very often",
          "Often",
          "Often",
          "Sometimes",
          "Rarely",
          "Sometimes",
          "Often",
          "Never",
          "Very often",
          "Rarely"
         ],
         "xaxis": "x2",
         "yaxis": "y2",
         "type": "box"
        },
        {
         "alignmentgroup": "True",
         "bingroup": "x",
         "hovertemplate": "Gender=Male<br>Usage=%{x}<br>count=%{y}<extra></extra>",
         "legendgroup": "Male",
         "marker": {
          "color": "#EF553B",
          "pattern": {
           "shape": ""
          }
         },
         "name": "Male",
         "offsetgroup": "Male",
         "orientation": "v",
         "showlegend": true,
         "x": [
          "Rarely",
          "Sometimes",
          "Rarely",
          "Sometimes",
          "Sometimes",
          "Very often",
          "Sometimes",
          "Never",
          "Often",
          "Sometimes",
          "Often",
          "Sometimes",
          "Sometimes",
          "Often",
          "Sometimes",
          "Often",
          "Rarely",
          "Rarely",
          "Often",
          "Sometimes",
          "Sometimes",
          "Often"
         ],
         "xaxis": "x",
         "yaxis": "y",
         "type": "histogram"
        },
        {
         "alignmentgroup": "True",
         "customdata": [
          [
           "5.15.2023 15:23:54",
           "Bachelor",
           "International Economic Relations",
           "Male",
           "Strongly Agree",
           "Agree",
           "Agree",
           "Disagree",
           "Agree",
           "Strongly Agree",
           "Agree",
           "Agree",
           "Neutral",
           "Agree",
           "Disagree",
           "Strongly Agree",
           "Agree",
           "Neutral",
           "Strongly Agree",
           "Neutral",
           "Disagree",
           "Strongly Disagree",
           "Strongly Agree",
           "Agree",
           "Neutral",
           "Disagree",
           "Strongly Disagree",
           "Neutral",
           "Agree",
           "Neutral",
           "Strongly Disagree",
           "Disagree",
           "AI should not be overused by either students or teachers. Assessments should be based on knowledge and skills. They should be done person to person."
          ],
          [
           "5.15.2023 15:24:12",
           "Bachelor",
           "International Economic Relations",
           "Male",
           "Neutral",
           "Agree",
           "Agree",
           "Neutral",
           "Neutral",
           "Strongly Agree",
           "Agree",
           "Agree",
           "Neutral",
           "Strongly Agree",
           "Neutral",
           "Strongly Agree",
           "Agree",
           "Neutral",
           "Agree",
           "Disagree",
           "Disagree",
           "Agree",
           "Agree",
           "Agree",
           "Agree",
           "Neutral",
           "Neutral",
           "Agree",
           "Neutral",
           "Neutral",
           "Agree",
           "Neutral",
           "I like them."
          ],
          [
           "5.15.2023 19:17:51",
           "Master",
           "Economics",
           "Male",
           "Disagree",
           "Agree",
           "Agree",
           "Neutral",
           "Disagree",
           "Strongly Disagree",
           "Strongly Agree",
           "Strongly Agree",
           "Strongly Agree",
           "Strongly Agree",
           "Strongly Agree",
           "Strongly Agree",
           "Strongly Agree",
           "Strongly Agree",
           "Strongly Disagree",
           "Strongly Disagree",
           "Strongly Disagree",
           "Agree",
           "Neutral",
           "Agree",
           "Agree",
           "Agree",
           "Neutral",
           "Agree",
           "Neutral",
           "Neutral",
           "Agree",
           "Neutral",
           "A specialized course could be created to prepare students to use of generative artificial intelligence."
          ],
          [
           "5.15.2023 19:26:12",
           "Bachelor",
           "Economics",
           "Male",
           "Neutral",
           "Agree",
           "Agree",
           "Neutral",
           "Neutral",
           "Strongly Agree",
           "Strongly Agree",
           "Strongly Agree",
           "Strongly Agree",
           "Strongly Agree",
           "Agree",
           "Agree",
           "Strongly Agree",
           "Neutral",
           "Disagree",
           "Disagree",
           "Disagree",
           "Neutral",
           "Neutral",
           "Agree",
           "Agree",
           "Neutral",
           "Neutral",
           "Agree",
           "Neutral",
           "Neutral",
           "Neutral",
           "Disagree",
           "Educators should familiarize more students with the capabilities of generative artificial intelligence in education."
          ],
          [
           "5.16.2023 9:08:31",
           "Bachelor",
           "Marketing",
           "Male",
           "Neutral",
           "Agree",
           "Agree",
           "Disagree",
           "Neutral",
           "Neutral",
           "Neutral",
           "Strongly Agree",
           "Disagree",
           "Agree",
           "Neutral",
           "Agree",
           "Agree",
           "Agree",
           "Disagree",
           "Neutral",
           "Neutral",
           "Agree",
           "Agree",
           "Disagree",
           "Neutral",
           "Disagree",
           "Disagree",
           "Agree",
           "Neutral",
           "Disagree",
           "Disagree",
           "Agree",
           "No answer"
          ],
          [
           "5.16.2023 9:12:48",
           "Bachelor",
           "Marketing",
           "Male",
           "Strongly Agree",
           "Strongly Agree",
           "Strongly Agree",
           "Neutral",
           "Disagree",
           "Agree",
           "Agree",
           "Strongly Agree",
           "Agree",
           "Strongly Agree",
           "Neutral",
           "Agree",
           "Agree",
           "Agree",
           "Disagree",
           "Disagree",
           "Disagree",
           "Agree",
           "Agree",
           "Agree",
           "Agree",
           "Disagree",
           "Neutral",
           "Agree",
           "Disagree",
           "Disagree",
           "Agree",
           "Neutral",
           "No answer"
          ],
          [
           "5.16.2023 9:12:52",
           "Bachelor",
           "Marketing",
           "Male",
           "Agree",
           "Neutral",
           "Disagree",
           "Disagree",
           "Disagree",
           "Neutral",
           "Agree",
           "Agree",
           "Agree",
           "Agree",
           "Neutral",
           "Agree",
           "Agree",
           "Agree",
           "Neutral",
           "Agree",
           "Agree",
           "Disagree",
           "Agree",
           "Agree",
           "Strongly Agree",
           "Agree",
           "Agree",
           "Agree",
           "Agree",
           "Agree",
           "Agree",
           "Neutral",
           "Generative artificial intelligence technologies are definitely of great benefit to higher education because they support the work of students during their studies. ChatGPT is certainly changing the attitude towards artificial intelligence and intelligent chatbots."
          ],
          [
           "5.16.2023 9:16:31",
           "Bachelor",
           "Marketing",
           "Male",
           "Agree",
           "Agree",
           "Disagree",
           "Disagree",
           "Disagree",
           "Agree",
           "Agree",
           "Strongly Agree",
           "Neutral",
           "Strongly Agree",
           "Neutral",
           "Agree",
           "Agree",
           "Agree",
           "Agree",
           "Agree",
           "Agree",
           "Agree",
           "Agree",
           "Strongly Agree",
           "Neutral",
           "Disagree",
           "Agree",
           "Agree",
           "Agree",
           "Agree",
           "Agree",
           "Agree",
           "No answer"
          ],
          [
           "5.16.2023 10:36:30",
           "Bachelor",
           "Accounting",
           "Male",
           "Strongly Agree",
           "Neutral",
           "Agree",
           "Agree",
           "Agree",
           "Agree",
           "Agree",
           "Agree",
           "Strongly Agree",
           "Strongly Agree",
           "Strongly Agree",
           "Strongly Agree",
           "Strongly Agree",
           "Strongly Agree",
           "Strongly Agree",
           "Strongly Agree",
           "Strongly Agree",
           "Strongly Disagree",
           "Agree",
           "Strongly Agree",
           "Strongly Agree",
           "Strongly Agree",
           "Strongly Agree",
           "Agree",
           "Agree",
           "Agree",
           "Strongly Agree",
           "Strongly Agree",
           "No answer"
          ],
          [
           "5.16.2023 10:38:58",
           "Bachelor",
           "Accounting",
           "Male",
           "Disagree",
           "Disagree",
           "Agree",
           "Agree",
           "Neutral",
           "Disagree",
           "Strongly Agree",
           "Strongly Agree",
           "Strongly Agree",
           "Strongly Agree",
           "Strongly Agree",
           "Agree",
           "Strongly Agree",
           "Strongly Agree",
           "Agree",
           "Agree",
           "Neutral",
           "Agree",
           "Strongly Agree",
           "Agree",
           "Strongly Agree",
           "Neutral",
           "Neutral",
           "Neutral",
           "Agree",
           "Agree",
           "Disagree",
           "Neutral",
           "AI is useful for searching for additional information and helping students prepare projects in less time, but there is still a fine line that learners must cross. They should definitely not become dependent on the use of artificial intelligence in the learning process because it will adversely affect their individual skills."
          ],
          [
           "5.16.2023 12:14:35",
           "Bachelor",
           "Finance",
           "Male",
           "Neutral",
           "Agree",
           "Disagree",
           "Neutral",
           "Agree",
           "Agree",
           "Agree",
           "Agree",
           "Agree",
           "Strongly Agree",
           "Agree",
           "Agree",
           "Strongly Agree",
           "Agree",
           "Neutral",
           "Disagree",
           "Disagree",
           "Disagree",
           "Strongly Agree",
           "Strongly Agree",
           "Agree",
           "Strongly Agree",
           "Neutral",
           "Agree",
           "Agree",
           "Neutral",
           "Agree",
           "Neutral",
           "Artificial intelligence helps to find information faster, which makes us more expeditious in our work."
          ],
          [
           "5.16.2023 12:17:31",
           "Bachelor",
           "Finance",
           "Male",
           "Neutral",
           "Agree",
           "Agree",
           "Neutral",
           "Disagree",
           "Agree",
           "Agree",
           "Agree",
           "Agree",
           "Strongly Agree",
           "Agree",
           "Agree",
           "Agree",
           "Agree",
           "Disagree",
           "Neutral",
           "Disagree",
           "Agree",
           "Agree",
           "Agree",
           "Agree",
           "Agree",
           "Neutral",
           "Agree",
           "Neutral",
           "Neutral",
           "Agree",
           "Neutral",
           "In my personal opinion, ChatGPT currently offers a wide range of application features that I can take advantage of not only as a student, but also as a person seeking information on a given issue. I believe that over time ChatGPT will get more and more integration in education, but I don't think that for now it can replace the work of the lecturer in teaching and assessment (perhaps assessment will be possible in the near future). I definitely plan to use chatbots more often to find answers to some of my homework as well as information I need in life and practice."
          ],
          [
           "5.16.2023 12:21:48",
           "Bachelor",
           "Finance",
           "Male",
           "Disagree",
           "Strongly Agree",
           "Agree",
           "Strongly Disagree",
           "Neutral",
           "Agree",
           "Agree",
           "Neutral",
           "Agree",
           "Strongly Agree",
           "Agree",
           "Agree",
           "Agree",
           "Agree",
           "Neutral",
           "Agree",
           "Strongly Agree",
           "Disagree",
           "Agree",
           "Agree",
           "Agree",
           "Neutral",
           "Neutral",
           "Neutral",
           "Agree",
           "Neutral",
           "Strongly Disagree",
           "Disagree",
           "My opinion is that ChatGPT is useful for searching information and provides a good opportunity for students to find the information they need easier and faster. In my opinion, it can also be applied in the learning process, such as searching for information during class or through tasks for students to complete at home with the permitted use of generative artificial intelligence."
          ],
          [
           "5.16.2023 15:00:12",
           "Bachelor",
           "International Economic Relations",
           "Male",
           "Strongly Agree",
           "Strongly Agree",
           "Strongly Agree",
           "Strongly Disagree",
           "Agree",
           "Strongly Disagree",
           "Neutral",
           "Strongly Agree",
           "Agree",
           "Agree",
           "Strongly Agree",
           "Agree",
           "Strongly Agree",
           "Strongly Agree",
           "Neutral",
           "Agree",
           "Strongly Agree",
           "Agree",
           "Strongly Agree",
           "Strongly Agree",
           "Strongly Agree",
           "Neutral",
           "Neutral",
           "Disagree",
           "Disagree",
           "Disagree",
           "Agree",
           "Neutral",
           "No answer"
          ],
          [
           "5.18.2023 13:38:32",
           "Bachelor",
           "Economics and Business",
           "Male",
           "Neutral",
           "Neutral",
           "Neutral",
           "Neutral",
           "Neutral",
           "Neutral",
           "Neutral",
           "Neutral",
           "Neutral",
           "Neutral",
           "Neutral",
           "Neutral",
           "Neutral",
           "Neutral",
           "Neutral",
           "Neutral",
           "Neutral",
           "Neutral",
           "Neutral",
           "Neutral",
           "Neutral",
           "Neutral",
           "Neutral",
           "Neutral",
           "Neutral",
           "Neutral",
           "Neutral",
           "Neutral",
           "I agree! I have no recommendations. ChatGPT didn't change my attitude towards artificial intelligence and intelligent chatbots :) <3"
          ],
          [
           "5.18.2023 13:38:53",
           "Bachelor",
           "Economics and Business",
           "Male",
           "Disagree",
           "Agree",
           "Agree",
           "Agree",
           "Agree",
           "Agree",
           "Agree",
           "Neutral",
           "Agree",
           "Agree",
           "Agree",
           "Agree",
           "Agree",
           "Agree",
           "Agree",
           "Neutral",
           "Agree",
           "Disagree",
           "Agree",
           "Agree",
           "Agree",
           "Neutral",
           "Neutral",
           "Agree",
           "Agree",
           "Agree",
           "Agree",
           "Agree",
           "yes the chatbot assists with any information"
          ],
          [
           "5.18.2023 13:43:32",
           "Bachelor",
           "Economics and Business",
           "Male",
           "Neutral",
           "Neutral",
           "Disagree",
           "Strongly Disagree",
           "Agree",
           "Disagree",
           "Agree",
           "Disagree",
           "Neutral",
           "Strongly Agree",
           "Strongly Disagree",
           "Strongly Agree",
           "Neutral",
           "Strongly Agree",
           "Agree",
           "Disagree",
           "Agree",
           "Strongly Agree",
           "Strongly Disagree",
           "Neutral",
           "Strongly Disagree",
           "Strongly Disagree",
           "Neutral",
           "Agree",
           "Agree",
           "Neutral",
           "Agree",
           "Strongly Disagree",
           "ChatGPT has changed my ideas but to a large extent. However, it is paid and we as students cannot use its full capacity. It can improve the work of students and teachers in emergency cases providing lessons and even transmitted them in an understandable way. After that, we have to learn, well, we just have to rely on it. Both students and teachers still have ways to improve, but they would definitely improve the learning process by showing steps and even solutions to tasks that even the teachers don't know and by interesting way keeping learners' attention and possibly improving their success."
          ],
          [
           "5.21.2023 16:21:58",
           "Bachelor",
           "International Economic Relations",
           "Male",
           "Neutral",
           "Disagree",
           "Neutral",
           "Agree",
           "Neutral",
           "Agree",
           "Strongly Agree",
           "Agree",
           "Neutral",
           "Neutral",
           "Agree",
           "Neutral",
           "Agree",
           "Neutral",
           "Neutral",
           "Neutral",
           "Disagree",
           "Neutral",
           "Agree",
           "Neutral",
           "Disagree",
           "Neutral",
           "Neutral",
           "Strongly Disagree",
           "Disagree",
           "Disagree",
           "Neutral",
           "Agree",
           " "
          ],
          [
           "5.21.2023 23:07:20",
           "Bachelor",
           "Marketing",
           "Male",
           "Neutral",
           "Agree",
           "Agree",
           "Disagree",
           "Neutral",
           "Disagree",
           "Disagree",
           "Agree",
           "Neutral",
           "Agree",
           "Neutral",
           "Strongly Agree",
           "Strongly Agree",
           "Agree",
           "Agree",
           "Disagree",
           "Disagree",
           "Agree",
           "Agree",
           "Agree",
           "Agree",
           "Disagree",
           "Disagree",
           "Agree",
           "Disagree",
           "Disagree",
           "Neutral",
           "Disagree",
           "No answer"
          ],
          [
           "5.22.2023 18:13:33",
           "Bachelor",
           "Economics and Business",
           "Male",
           "Disagree",
           "Agree",
           "Agree",
           "Strongly Disagree",
           "Neutral",
           "Disagree",
           "Agree",
           "Agree",
           "Agree",
           "Agree",
           "Agree",
           "Agree",
           "Agree",
           "Agree",
           "Agree",
           "Agree",
           "Agree",
           "Agree",
           "Agree",
           "Agree",
           "Agree",
           "Agree",
           "Agree",
           "Agree",
           "Agree",
           "Agree",
           "Agree",
           "Agree",
           "I believe they have educational benefits, but should be used sparingly by all. ChatGPT has certainly changed my attitude towards artificial intelligence in a positive way"
          ],
          [
           "5.22.2023 22:31:13",
           "Bachelor",
           "Public Administration",
           "Male",
           "Disagree",
           "Disagree",
           "Disagree",
           "Neutral",
           "Neutral",
           "Agree",
           "Neutral",
           "Agree",
           "Neutral",
           "Strongly Agree",
           "Agree",
           "Agree",
           "Strongly Agree",
           "Agree",
           "Disagree",
           "Neutral",
           "Strongly Disagree",
           "Disagree",
           "Agree",
           "Agree",
           "Agree",
           "Neutral",
           "Neutral",
           "Agree",
           "Neutral",
           "Neutral",
           "Neutral",
           "Disagree",
           "No answer"
          ],
          [
           "5.28.2023 0:51:54",
           "Bachelor",
           "Public Administration",
           "Male",
           "Agree",
           "Agree",
           "Agree",
           "Agree",
           "Neutral",
           "Neutral",
           "Agree",
           "Neutral",
           "Agree",
           "Strongly Agree",
           "Agree",
           "Neutral",
           "Strongly Agree",
           "Strongly Agree",
           "Disagree",
           "Strongly Agree",
           "Neutral",
           "Strongly Agree",
           "Strongly Agree",
           "Agree",
           "Agree",
           "Agree",
           "Agree",
           "Disagree",
           "Neutral",
           "Neutral",
           "Neutral",
           "Neutral",
           "No answer"
          ]
         ],
         "hovertemplate": "Gender=%{customdata[3]}<br>Usage=%{x}<br>Timestamp=%{customdata[0]}<br>Q1=%{customdata[1]}<br>Q2=%{customdata[2]}<br>Q5.1=%{customdata[4]}<br>Q5.2=%{customdata[5]}<br>Q5.3=%{customdata[6]}<br>Q5.4=%{customdata[7]}<br>Q5.5=%{customdata[8]}<br>Q5.6=%{customdata[9]}<br>Q6.1=%{customdata[10]}<br>Q6.2=%{customdata[11]}<br>Q6.3=%{customdata[12]}<br>Q6.4=%{customdata[13]}<br>Q6.5=%{customdata[14]}<br>Q6.6=%{customdata[15]}<br>Q6.7=%{customdata[16]}<br>Q6.8=%{customdata[17]}<br>Q7.1=%{customdata[18]}<br>Q7.2=%{customdata[19]}<br>Q7.3=%{customdata[20]}<br>Q7.4=%{customdata[21]}<br>Q8.1=%{customdata[22]}<br>Q8.2=%{customdata[23]}<br>Q8.3=%{customdata[24]}<br>Q8.4=%{customdata[25]}<br>Q8.5=%{customdata[26]}<br>Q9.1=%{customdata[27]}<br>Q9.2=%{customdata[28]}<br>Q9.3=%{customdata[29]}<br>Q9.4=%{customdata[30]}<br>Q9.5=%{customdata[31]}<br>Q10=%{customdata[32]}<extra></extra>",
         "legendgroup": "Male",
         "marker": {
          "color": "#EF553B"
         },
         "name": "Male",
         "notched": true,
         "offsetgroup": "Male",
         "showlegend": false,
         "x": [
          "Rarely",
          "Sometimes",
          "Rarely",
          "Sometimes",
          "Sometimes",
          "Very often",
          "Sometimes",
          "Never",
          "Often",
          "Sometimes",
          "Often",
          "Sometimes",
          "Sometimes",
          "Often",
          "Sometimes",
          "Often",
          "Rarely",
          "Rarely",
          "Often",
          "Sometimes",
          "Sometimes",
          "Often"
         ],
         "xaxis": "x2",
         "yaxis": "y2",
         "type": "box"
        }
       ],
       "layout": {
        "template": {
         "data": {
          "histogram2dcontour": [
           {
            "type": "histogram2dcontour",
            "colorbar": {
             "outlinewidth": 0,
             "ticks": ""
            },
            "colorscale": [
             [
              0.0,
              "#0d0887"
             ],
             [
              0.1111111111111111,
              "#46039f"
             ],
             [
              0.2222222222222222,
              "#7201a8"
             ],
             [
              0.3333333333333333,
              "#9c179e"
             ],
             [
              0.4444444444444444,
              "#bd3786"
             ],
             [
              0.5555555555555556,
              "#d8576b"
             ],
             [
              0.6666666666666666,
              "#ed7953"
             ],
             [
              0.7777777777777778,
              "#fb9f3a"
             ],
             [
              0.8888888888888888,
              "#fdca26"
             ],
             [
              1.0,
              "#f0f921"
             ]
            ]
           }
          ],
          "choropleth": [
           {
            "type": "choropleth",
            "colorbar": {
             "outlinewidth": 0,
             "ticks": ""
            }
           }
          ],
          "histogram2d": [
           {
            "type": "histogram2d",
            "colorbar": {
             "outlinewidth": 0,
             "ticks": ""
            },
            "colorscale": [
             [
              0.0,
              "#0d0887"
             ],
             [
              0.1111111111111111,
              "#46039f"
             ],
             [
              0.2222222222222222,
              "#7201a8"
             ],
             [
              0.3333333333333333,
              "#9c179e"
             ],
             [
              0.4444444444444444,
              "#bd3786"
             ],
             [
              0.5555555555555556,
              "#d8576b"
             ],
             [
              0.6666666666666666,
              "#ed7953"
             ],
             [
              0.7777777777777778,
              "#fb9f3a"
             ],
             [
              0.8888888888888888,
              "#fdca26"
             ],
             [
              1.0,
              "#f0f921"
             ]
            ]
           }
          ],
          "heatmap": [
           {
            "type": "heatmap",
            "colorbar": {
             "outlinewidth": 0,
             "ticks": ""
            },
            "colorscale": [
             [
              0.0,
              "#0d0887"
             ],
             [
              0.1111111111111111,
              "#46039f"
             ],
             [
              0.2222222222222222,
              "#7201a8"
             ],
             [
              0.3333333333333333,
              "#9c179e"
             ],
             [
              0.4444444444444444,
              "#bd3786"
             ],
             [
              0.5555555555555556,
              "#d8576b"
             ],
             [
              0.6666666666666666,
              "#ed7953"
             ],
             [
              0.7777777777777778,
              "#fb9f3a"
             ],
             [
              0.8888888888888888,
              "#fdca26"
             ],
             [
              1.0,
              "#f0f921"
             ]
            ]
           }
          ],
          "heatmapgl": [
           {
            "type": "heatmapgl",
            "colorbar": {
             "outlinewidth": 0,
             "ticks": ""
            },
            "colorscale": [
             [
              0.0,
              "#0d0887"
             ],
             [
              0.1111111111111111,
              "#46039f"
             ],
             [
              0.2222222222222222,
              "#7201a8"
             ],
             [
              0.3333333333333333,
              "#9c179e"
             ],
             [
              0.4444444444444444,
              "#bd3786"
             ],
             [
              0.5555555555555556,
              "#d8576b"
             ],
             [
              0.6666666666666666,
              "#ed7953"
             ],
             [
              0.7777777777777778,
              "#fb9f3a"
             ],
             [
              0.8888888888888888,
              "#fdca26"
             ],
             [
              1.0,
              "#f0f921"
             ]
            ]
           }
          ],
          "contourcarpet": [
           {
            "type": "contourcarpet",
            "colorbar": {
             "outlinewidth": 0,
             "ticks": ""
            }
           }
          ],
          "contour": [
           {
            "type": "contour",
            "colorbar": {
             "outlinewidth": 0,
             "ticks": ""
            },
            "colorscale": [
             [
              0.0,
              "#0d0887"
             ],
             [
              0.1111111111111111,
              "#46039f"
             ],
             [
              0.2222222222222222,
              "#7201a8"
             ],
             [
              0.3333333333333333,
              "#9c179e"
             ],
             [
              0.4444444444444444,
              "#bd3786"
             ],
             [
              0.5555555555555556,
              "#d8576b"
             ],
             [
              0.6666666666666666,
              "#ed7953"
             ],
             [
              0.7777777777777778,
              "#fb9f3a"
             ],
             [
              0.8888888888888888,
              "#fdca26"
             ],
             [
              1.0,
              "#f0f921"
             ]
            ]
           }
          ],
          "surface": [
           {
            "type": "surface",
            "colorbar": {
             "outlinewidth": 0,
             "ticks": ""
            },
            "colorscale": [
             [
              0.0,
              "#0d0887"
             ],
             [
              0.1111111111111111,
              "#46039f"
             ],
             [
              0.2222222222222222,
              "#7201a8"
             ],
             [
              0.3333333333333333,
              "#9c179e"
             ],
             [
              0.4444444444444444,
              "#bd3786"
             ],
             [
              0.5555555555555556,
              "#d8576b"
             ],
             [
              0.6666666666666666,
              "#ed7953"
             ],
             [
              0.7777777777777778,
              "#fb9f3a"
             ],
             [
              0.8888888888888888,
              "#fdca26"
             ],
             [
              1.0,
              "#f0f921"
             ]
            ]
           }
          ],
          "mesh3d": [
           {
            "type": "mesh3d",
            "colorbar": {
             "outlinewidth": 0,
             "ticks": ""
            }
           }
          ],
          "scatter": [
           {
            "marker": {
             "line": {
              "color": "#283442"
             }
            },
            "type": "scatter"
           }
          ],
          "parcoords": [
           {
            "type": "parcoords",
            "line": {
             "colorbar": {
              "outlinewidth": 0,
              "ticks": ""
             }
            }
           }
          ],
          "scatterpolargl": [
           {
            "type": "scatterpolargl",
            "marker": {
             "colorbar": {
              "outlinewidth": 0,
              "ticks": ""
             }
            }
           }
          ],
          "bar": [
           {
            "error_x": {
             "color": "#f2f5fa"
            },
            "error_y": {
             "color": "#f2f5fa"
            },
            "marker": {
             "line": {
              "color": "rgb(17,17,17)",
              "width": 0.5
             },
             "pattern": {
              "fillmode": "overlay",
              "size": 10,
              "solidity": 0.2
             }
            },
            "type": "bar"
           }
          ],
          "scattergeo": [
           {
            "type": "scattergeo",
            "marker": {
             "colorbar": {
              "outlinewidth": 0,
              "ticks": ""
             }
            }
           }
          ],
          "scatterpolar": [
           {
            "type": "scatterpolar",
            "marker": {
             "colorbar": {
              "outlinewidth": 0,
              "ticks": ""
             }
            }
           }
          ],
          "histogram": [
           {
            "marker": {
             "pattern": {
              "fillmode": "overlay",
              "size": 10,
              "solidity": 0.2
             }
            },
            "type": "histogram"
           }
          ],
          "scattergl": [
           {
            "marker": {
             "line": {
              "color": "#283442"
             }
            },
            "type": "scattergl"
           }
          ],
          "scatter3d": [
           {
            "type": "scatter3d",
            "line": {
             "colorbar": {
              "outlinewidth": 0,
              "ticks": ""
             }
            },
            "marker": {
             "colorbar": {
              "outlinewidth": 0,
              "ticks": ""
             }
            }
           }
          ],
          "scattermapbox": [
           {
            "type": "scattermapbox",
            "marker": {
             "colorbar": {
              "outlinewidth": 0,
              "ticks": ""
             }
            }
           }
          ],
          "scatterternary": [
           {
            "type": "scatterternary",
            "marker": {
             "colorbar": {
              "outlinewidth": 0,
              "ticks": ""
             }
            }
           }
          ],
          "scattercarpet": [
           {
            "type": "scattercarpet",
            "marker": {
             "colorbar": {
              "outlinewidth": 0,
              "ticks": ""
             }
            }
           }
          ],
          "carpet": [
           {
            "aaxis": {
             "endlinecolor": "#A2B1C6",
             "gridcolor": "#506784",
             "linecolor": "#506784",
             "minorgridcolor": "#506784",
             "startlinecolor": "#A2B1C6"
            },
            "baxis": {
             "endlinecolor": "#A2B1C6",
             "gridcolor": "#506784",
             "linecolor": "#506784",
             "minorgridcolor": "#506784",
             "startlinecolor": "#A2B1C6"
            },
            "type": "carpet"
           }
          ],
          "table": [
           {
            "cells": {
             "fill": {
              "color": "#506784"
             },
             "line": {
              "color": "rgb(17,17,17)"
             }
            },
            "header": {
             "fill": {
              "color": "#2a3f5f"
             },
             "line": {
              "color": "rgb(17,17,17)"
             }
            },
            "type": "table"
           }
          ],
          "barpolar": [
           {
            "marker": {
             "line": {
              "color": "rgb(17,17,17)",
              "width": 0.5
             },
             "pattern": {
              "fillmode": "overlay",
              "size": 10,
              "solidity": 0.2
             }
            },
            "type": "barpolar"
           }
          ],
          "pie": [
           {
            "automargin": true,
            "type": "pie"
           }
          ]
         },
         "layout": {
          "autotypenumbers": "strict",
          "colorway": [
           "#636efa",
           "#EF553B",
           "#00cc96",
           "#ab63fa",
           "#FFA15A",
           "#19d3f3",
           "#FF6692",
           "#B6E880",
           "#FF97FF",
           "#FECB52"
          ],
          "font": {
           "color": "#f2f5fa"
          },
          "hovermode": "closest",
          "hoverlabel": {
           "align": "left"
          },
          "paper_bgcolor": "rgb(17,17,17)",
          "plot_bgcolor": "rgb(17,17,17)",
          "polar": {
           "bgcolor": "rgb(17,17,17)",
           "angularaxis": {
            "gridcolor": "#506784",
            "linecolor": "#506784",
            "ticks": ""
           },
           "radialaxis": {
            "gridcolor": "#506784",
            "linecolor": "#506784",
            "ticks": ""
           }
          },
          "ternary": {
           "bgcolor": "rgb(17,17,17)",
           "aaxis": {
            "gridcolor": "#506784",
            "linecolor": "#506784",
            "ticks": ""
           },
           "baxis": {
            "gridcolor": "#506784",
            "linecolor": "#506784",
            "ticks": ""
           },
           "caxis": {
            "gridcolor": "#506784",
            "linecolor": "#506784",
            "ticks": ""
           }
          },
          "coloraxis": {
           "colorbar": {
            "outlinewidth": 0,
            "ticks": ""
           }
          },
          "colorscale": {
           "sequential": [
            [
             0.0,
             "#0d0887"
            ],
            [
             0.1111111111111111,
             "#46039f"
            ],
            [
             0.2222222222222222,
             "#7201a8"
            ],
            [
             0.3333333333333333,
             "#9c179e"
            ],
            [
             0.4444444444444444,
             "#bd3786"
            ],
            [
             0.5555555555555556,
             "#d8576b"
            ],
            [
             0.6666666666666666,
             "#ed7953"
            ],
            [
             0.7777777777777778,
             "#fb9f3a"
            ],
            [
             0.8888888888888888,
             "#fdca26"
            ],
            [
             1.0,
             "#f0f921"
            ]
           ],
           "sequentialminus": [
            [
             0.0,
             "#0d0887"
            ],
            [
             0.1111111111111111,
             "#46039f"
            ],
            [
             0.2222222222222222,
             "#7201a8"
            ],
            [
             0.3333333333333333,
             "#9c179e"
            ],
            [
             0.4444444444444444,
             "#bd3786"
            ],
            [
             0.5555555555555556,
             "#d8576b"
            ],
            [
             0.6666666666666666,
             "#ed7953"
            ],
            [
             0.7777777777777778,
             "#fb9f3a"
            ],
            [
             0.8888888888888888,
             "#fdca26"
            ],
            [
             1.0,
             "#f0f921"
            ]
           ],
           "diverging": [
            [
             0,
             "#8e0152"
            ],
            [
             0.1,
             "#c51b7d"
            ],
            [
             0.2,
             "#de77ae"
            ],
            [
             0.3,
             "#f1b6da"
            ],
            [
             0.4,
             "#fde0ef"
            ],
            [
             0.5,
             "#f7f7f7"
            ],
            [
             0.6,
             "#e6f5d0"
            ],
            [
             0.7,
             "#b8e186"
            ],
            [
             0.8,
             "#7fbc41"
            ],
            [
             0.9,
             "#4d9221"
            ],
            [
             1,
             "#276419"
            ]
           ]
          },
          "xaxis": {
           "gridcolor": "#283442",
           "linecolor": "#506784",
           "ticks": "",
           "title": {
            "standoff": 15
           },
           "zerolinecolor": "#283442",
           "automargin": true,
           "zerolinewidth": 2
          },
          "yaxis": {
           "gridcolor": "#283442",
           "linecolor": "#506784",
           "ticks": "",
           "title": {
            "standoff": 15
           },
           "zerolinecolor": "#283442",
           "automargin": true,
           "zerolinewidth": 2
          },
          "scene": {
           "xaxis": {
            "backgroundcolor": "rgb(17,17,17)",
            "gridcolor": "#506784",
            "linecolor": "#506784",
            "showbackground": true,
            "ticks": "",
            "zerolinecolor": "#C8D4E3",
            "gridwidth": 2
           },
           "yaxis": {
            "backgroundcolor": "rgb(17,17,17)",
            "gridcolor": "#506784",
            "linecolor": "#506784",
            "showbackground": true,
            "ticks": "",
            "zerolinecolor": "#C8D4E3",
            "gridwidth": 2
           },
           "zaxis": {
            "backgroundcolor": "rgb(17,17,17)",
            "gridcolor": "#506784",
            "linecolor": "#506784",
            "showbackground": true,
            "ticks": "",
            "zerolinecolor": "#C8D4E3",
            "gridwidth": 2
           }
          },
          "shapedefaults": {
           "line": {
            "color": "#f2f5fa"
           }
          },
          "annotationdefaults": {
           "arrowcolor": "#f2f5fa",
           "arrowhead": 0,
           "arrowwidth": 1
          },
          "geo": {
           "bgcolor": "rgb(17,17,17)",
           "landcolor": "rgb(17,17,17)",
           "subunitcolor": "#506784",
           "showland": true,
           "showlakes": true,
           "lakecolor": "rgb(17,17,17)"
          },
          "title": {
           "x": 0.05
          },
          "updatemenudefaults": {
           "bgcolor": "#506784",
           "borderwidth": 0
          },
          "sliderdefaults": {
           "bgcolor": "#C8D4E3",
           "borderwidth": 1,
           "bordercolor": "rgb(17,17,17)",
           "tickwidth": 0
          },
          "mapbox": {
           "style": "dark"
          }
         }
        },
        "xaxis": {
         "anchor": "y",
         "domain": [
          0.0,
          1.0
         ],
         "title": {
          "text": "Usage"
         }
        },
        "yaxis": {
         "anchor": "x",
         "domain": [
          0.0,
          0.7326
         ],
         "title": {
          "text": "count"
         }
        },
        "xaxis2": {
         "anchor": "y2",
         "domain": [
          0.0,
          1.0
         ],
         "matches": "x",
         "showticklabels": false,
         "showgrid": true
        },
        "yaxis2": {
         "anchor": "x2",
         "domain": [
          0.7426,
          1.0
         ],
         "matches": "y2",
         "showticklabels": false,
         "showline": false,
         "ticks": "",
         "showgrid": false
        },
        "legend": {
         "title": {
          "text": "Gender"
         },
         "tracegroupgap": 0
        },
        "title": {
         "text": "Distribution of Usage (Q4) by Gender (Q3) and ChatGPT usage"
        },
        "barmode": "relative",
        "width": 1200,
        "height": 800
       },
       "config": {
        "plotlyServerURL": "https://plot.ly"
       }
      },
      "text/html": [
       "<div>                            <div id=\"e1c85619-af00-47c5-baca-a303ce629bed\" class=\"plotly-graph-div\" style=\"height:800px; width:1200px;\"></div>            <script type=\"text/javascript\">                require([\"plotly\"], function(Plotly) {                    window.PLOTLYENV=window.PLOTLYENV || {};                                    if (document.getElementById(\"e1c85619-af00-47c5-baca-a303ce629bed\")) {                    Plotly.newPlot(                        \"e1c85619-af00-47c5-baca-a303ce629bed\",                        [{\"alignmentgroup\":\"True\",\"bingroup\":\"x\",\"hovertemplate\":\"Gender=Female\\u003cbr\\u003eUsage=%{x}\\u003cbr\\u003ecount=%{y}\\u003cextra\\u003e\\u003c\\u002fextra\\u003e\",\"legendgroup\":\"Female\",\"marker\":{\"color\":\"#636efa\",\"pattern\":{\"shape\":\"\"}},\"name\":\"Female\",\"offsetgroup\":\"Female\",\"orientation\":\"v\",\"showlegend\":true,\"x\":[\"Often\",\"Sometimes\",\"Rarely\",\"Rarely\",\"Sometimes\",\"Often\",\"Rarely\",\"Sometimes\",\"Rarely\",\"Rarely\",\"Sometimes\",\"Very often\",\"Rarely\",\"Never\",\"Rarely\",\"Sometimes\",\"Often\",\"Sometimes\",\"Rarely\",\"Sometimes\",\"Often\",\"Sometimes\",\"Sometimes\",\"Sometimes\",\"Sometimes\",\"Never\",\"Rarely\",\"Rarely\",\"Sometimes\",\"Often\",\"Rarely\",\"Sometimes\",\"Rarely\",\"Sometimes\",\"Sometimes\",\"Never\",\"Often\",\"Often\",\"Rarely\",\"Sometimes\",\"Sometimes\",\"Sometimes\",\"Often\",\"Very often\",\"Rarely\",\"Sometimes\",\"Rarely\",\"Very often\",\"Rarely\",\"Often\",\"Sometimes\",\"Sometimes\",\"Rarely\",\"Sometimes\",\"Sometimes\",\"Sometimes\",\"Often\",\"Sometimes\",\"Sometimes\",\"Often\",\"Rarely\",\"Never\",\"Sometimes\",\"Never\",\"Often\",\"Rarely\",\"Never\",\"Never\",\"Never\",\"Sometimes\",\"Never\",\"Sometimes\",\"Never\",\"Sometimes\",\"Rarely\",\"Sometimes\",\"Often\",\"Sometimes\",\"Often\",\"Rarely\",\"Rarely\",\"Rarely\",\"Never\",\"Rarely\",\"Never\",\"Rarely\",\"Sometimes\",\"Sometimes\",\"Sometimes\",\"Sometimes\",\"Sometimes\",\"Sometimes\",\"Often\",\"Rarely\",\"Rarely\",\"Sometimes\",\"Rarely\",\"Sometimes\",\"Sometimes\",\"Very often\",\"Often\",\"Often\",\"Sometimes\",\"Rarely\",\"Sometimes\",\"Often\",\"Never\",\"Very often\",\"Rarely\"],\"xaxis\":\"x\",\"yaxis\":\"y\",\"type\":\"histogram\"},{\"alignmentgroup\":\"True\",\"customdata\":[[\"5.14.2023 21:22:19\",\"Master\",\"International Economic Relations\",\"Female\",\"Agree\",\"Agree\",\"Strongly Agree\",\"Strongly Agree\",\"Agree\",\"Neutral\",\"Agree\",\"Strongly Agree\",\"Neutral\",\"Agree\",\"Strongly Agree\",\"Strongly Agree\",\"Strongly Agree\",\"Disagree\",\"Neutral\",\"Disagree\",\"Agree\",\"Strongly Agree\",\"Agree\",\"Strongly Agree\",\"Strongly Agree\",\"Agree\",\"Strongly Agree\",\"Agree\",\"Strongly Agree\",\"Strongly Agree\",\"Agree\",\"Agree\",\"No answer\"],[\"5.15.2023 8:45:52\",\"Bachelor\",\"International Economic Relations\",\"Female\",\"Disagree\",\"Agree\",\"Disagree\",\"Strongly Disagree\",\"Neutral\",\"Agree\",\"Strongly Agree\",\"Neutral\",\"Agree\",\"Strongly Agree\",\"Strongly Agree\",\"Agree\",\"Strongly Agree\",\"Agree\",\"Neutral\",\"Neutral\",\"Disagree\",\"Strongly Disagree\",\"Agree\",\"Agree\",\"Agree\",\"Disagree\",\"Neutral\",\"Neutral\",\"Agree\",\"Neutral\",\"Disagree\",\"Disagree\",\"No answer\"],[\"5.15.2023 9:54:15\",\"Bachelor\",\"International Economic Relations\",\"Female\",\"Neutral\",\"Neutral\",\"Neutral\",\"Disagree\",\"Neutral\",\"Agree\",\"Neutral\",\"Neutral\",\"Agree\",\"Agree\",\"Disagree\",\"Agree\",\"Agree\",\"Agree\",\"Disagree\",\"Disagree\",\"Disagree\",\"Strongly Disagree\",\"Agree\",\"Agree\",\"Agree\",\"Neutral\",\"Neutral\",\"Neutral\",\"Neutral\",\"Disagree\",\"Disagree\",\"Neutral\",\"No answer\"],[\"5.15.2023 15:17:41\",\"Bachelor\",\"International Economic Relations\",\"Female\",\"Agree\",\"Agree\",\"Agree\",\"Disagree\",\"Agree\",\"Agree\",\"Strongly Agree\",\"Neutral\",\"Agree\",\"Strongly Agree\",\"Neutral\",\"Agree\",\"Strongly Agree\",\"Agree\",\"Agree\",\"Agree\",\"Disagree\",\"Agree\",\"Agree\",\"Agree\",\"Agree\",\"Agree\",\"Agree\",\"Agree\",\"Agree\",\"Neutral\",\"Agree\",\"Agree\",\"No answer\"],[\"5.15.2023 15:19:02\",\"Bachelor\",\"International Economic Relations\",\"Female\",\"Agree\",\"Agree\",\"Neutral\",\"Disagree\",\"Agree\",\"Agree\",\"Agree\",\"Agree\",\"Agree\",\"Agree\",\"Neutral\",\"Neutral\",\"Agree\",\"Agree\",\"Neutral\",\"Disagree\",\"Agree\",\"Neutral\",\"Neutral\",\"Agree\",\"Agree\",\"Neutral\",\"Neutral\",\"Neutral\",\"Neutral\",\"Neutral\",\"Neutral\",\"Neutral\",\"No answer\"],[\"5.16.2023 9:04:40\",\"Bachelor\",\"Marketing\",\"Female\",\"Agree\",\"Disagree\",\"Neutral\",\"Strongly Disagree\",\"Neutral\",\"Agree\",\"Agree\",\"Neutral\",\"Neutral\",\"Strongly Agree\",\"Neutral\",\"Neutral\",\"Strongly Agree\",\"Agree\",\"Neutral\",\"Neutral\",\"Neutral\",\"Agree\",\"Agree\",\"Agree\",\"Agree\",\"Disagree\",\"Neutral\",\"Neutral\",\"Agree\",\"Neutral\",\"Neutral\",\"Neutral\",\"No answer\"],[\"5.16.2023 9:06:29\",\"Bachelor\",\"Marketing\",\"Female\",\"Disagree\",\"Agree\",\"Agree\",\"Neutral\",\"Disagree\",\"Neutral\",\"Strongly Agree\",\"Agree\",\"Neutral\",\"Strongly Agree\",\"Agree\",\"Agree\",\"Strongly Agree\",\"Neutral\",\"Strongly Agree\",\"Neutral\",\"Neutral\",\"Strongly Agree\",\"Disagree\",\"Agree\",\"Strongly Agree\",\"Neutral\",\"Agree\",\"Agree\",\"Agree\",\"Neutral\",\"Agree\",\"Agree\",\"No answer\"],[\"5.16.2023 9:07:08\",\"Bachelor\",\"Marketing\",\"Female\",\"Agree\",\"Agree\",\"Agree\",\"Neutral\",\"Neutral\",\"Agree\",\"Agree\",\"Agree\",\"Agree\",\"Strongly Agree\",\"Agree\",\"Agree\",\"Agree\",\"Agree\",\"Neutral\",\"Agree\",\"Neutral\",\"Neutral\",\"Agree\",\"Agree\",\"Agree\",\"Agree\",\"Neutral\",\"Neutral\",\"Neutral\",\"Neutral\",\"Agree\",\"Neutral\",\"No answer\"],[\"5.16.2023 9:07:47\",\"Bachelor\",\"Marketing\",\"Female\",\"Agree\",\"Agree\",\"Agree\",\"Disagree\",\"Neutral\",\"Neutral\",\"Agree\",\"Agree\",\"Agree\",\"Agree\",\"Agree\",\"Agree\",\"Agree\",\"Agree\",\"Neutral\",\"Neutral\",\"Agree\",\"Disagree\",\"Agree\",\"Agree\",\"Agree\",\"Neutral\",\"Neutral\",\"Agree\",\"Agree\",\"Neutral\",\"Neutral\",\"Agree\",\"ChatGPT doesn't change my attitude towards AI at all since I hardly use it.\"],[\"5.16.2023 9:08:03\",\"Bachelor\",\"Marketing\",\"Female\",\"Neutral\",\"Disagree\",\"Neutral\",\"Agree\",\"Disagree\",\"Strongly Agree\",\"Agree\",\"Neutral\",\"Strongly Agree\",\"Disagree\",\"Neutral\",\"Strongly Disagree\",\"Strongly Agree\",\"Neutral\",\"Strongly Disagree\",\"Disagree\",\"Strongly Agree\",\"Agree\",\"Agree\",\"Disagree\",\"Neutral\",\"Neutral\",\"Neutral\",\"Neutral\",\"Agree\",\"Agree\",\"Neutral\",\"Neutral\",\"No answer\"],[\"5.16.2023 9:09:12\",\"Bachelor\",\"Marketing\",\"Female\",\"Neutral\",\"Neutral\",\"Agree\",\"Neutral\",\"Agree\",\"Strongly Agree\",\"Agree\",\"Agree\",\"Neutral\",\"Strongly Agree\",\"Neutral\",\"Agree\",\"Agree\",\"Agree\",\"Agree\",\"Agree\",\"Strongly Agree\",\"Agree\",\"Agree\",\"Agree\",\"Agree\",\"Neutral\",\"Neutral\",\"Neutral\",\"Disagree\",\"Neutral\",\"Neutral\",\"Disagree\",\"No answer\"],[\"5.16.2023 9:10:35\",\"Bachelor\",\"Marketing\",\"Female\",\"Disagree\",\"Disagree\",\"Disagree\",\"Disagree\",\"Neutral\",\"Neutral\",\"Agree\",\"Agree\",\"Agree\",\"Strongly Agree\",\"Strongly Agree\",\"Agree\",\"Strongly Agree\",\"Strongly Agree\",\"Neutral\",\"Neutral\",\"Neutral\",\"Neutral\",\"Agree\",\"Agree\",\"Agree\",\"Agree\",\"Agree\",\"Agree\",\"Agree\",\"Agree\",\"Agree\",\"Agree\",\"This is the first time I have come across such technology and I dare to say that the work is greatly facilitated. Most importantly, it helps in the development of the student and the acquisition of knowledge that is useful in learning. I would rate ChatGPT as the best option for getting information. My opinion of artificial intelligence has changed in a positive direction. It was my pleasure to participate in this experiment.\\nGreetings Diana\"],[\"5.16.2023 9:11:05\",\"Bachelor\",\"Marketing\",\"Female\",\"Agree\",\"Agree\",\"Neutral\",\"Neutral\",\"Agree\",\"Neutral\",\"Agree\",\"Agree\",\"Agree\",\"Agree\",\"Neutral\",\"Agree\",\"Agree\",\"Agree\",\"Agree\",\"Agree\",\"Neutral\",\"Agree\",\"Agree\",\"Agree\",\"Agree\",\"Agree\",\"Agree\",\"Neutral\",\"Neutral\",\"Agree\",\"Disagree\",\"Disagree\",\"\\u00d2hey help a lot and I use them from time to time.\"],[\"5.16.2023 9:11:20\",\"Bachelor\",\"Marketing\",\"Female\",\"Agree\",\"Agree\",\"Neutral\",\"Disagree\",\"Disagree\",\"Disagree\",\"Agree\",\"Agree\",\"Agree\",\"Agree\",\"Agree\",\"Neutral\",\"Agree\",\"Agree\",\"Agree\",\"Agree\",\"Agree\",\"Agree\",\"Agree\",\"Disagree\",\"Agree\",\"Neutral\",\"Neutral\",\"Neutral\",\"Neutral\",\"Neutral\",\"Neutral\",\"Neutral\",\"No answer\"],[\"5.16.2023 9:11:53\",\"Bachelor\",\"Marketing\",\"Female\",\"Neutral\",\"Agree\",\"Agree\",\"Disagree\",\"Agree\",\"Agree\",\"Agree\",\"Agree\",\"Agree\",\"Strongly Agree\",\"Neutral\",\"Agree\",\"Strongly Agree\",\"Agree\",\"Agree\",\"Agree\",\"Agree\",\"Disagree\",\"Agree\",\"Agree\",\"Agree\",\"Agree\",\"Agree\",\"Agree\",\"Agree\",\"Agree\",\"Agree\",\"Agree\",\"No answer\"],[\"5.16.2023 9:12:06\",\"Bachelor\",\"Marketing\",\"Female\",\"Agree\",\"Neutral\",\"Disagree\",\"Disagree\",\"Agree\",\"Neutral\",\"Agree\",\"Disagree\",\"Neutral\",\"Agree\",\"Agree\",\"Agree\",\"Agree\",\"Agree\",\"Disagree\",\"Disagree\",\"Disagree\",\"Neutral\",\"Agree\",\"Agree\",\"Disagree\",\"Disagree\",\"Neutral\",\"Agree\",\"Agree\",\"Neutral\",\"Neutral\",\"Agree\",\"As a mature person, I would not abuse the excessive use of ChatGpt. Personally, I only use it when I'm not entirely sure about a question and want to see how reliable the information given by the AI is by comparing it to other sources. It's helped me quite a few times, I think it's comprehensive, and I like the option of being able to present one piece of information in several different ways with different words. I'm glad I have this opportunity to use it and I think it would be useful in education for the future, but not professionally because there everyone has to apply what they already know. Greetings Miglena\"],[\"5.16.2023 9:12:12\",\"Bachelor\",\"Marketing\",\"Female\",\"Neutral\",\"Disagree\",\"Agree\",\"Disagree\",\"Agree\",\"Agree\",\"Strongly Agree\",\"Strongly Agree\",\"Neutral\",\"Strongly Agree\",\"Agree\",\"Agree\",\"Agree\",\"Agree\",\"Agree\",\"Agree\",\"Agree\",\"Strongly Agree\",\"Agree\",\"Agree\",\"Agree\",\"Disagree\",\"Agree\",\"Agree\",\"Agree\",\"Agree\",\"Agree\",\"Agree\",\"No answer\"],[\"5.16.2023 9:13:39\",\"Bachelor\",\"Marketing\",\"Female\",\"Strongly Agree\",\"Strongly Agree\",\"Strongly Agree\",\"Strongly Disagree\",\"Agree\",\"Agree\",\"Strongly Agree\",\"Strongly Agree\",\"Agree\",\"Agree\",\"Agree\",\"Neutral\",\"Strongly Agree\",\"Strongly Agree\",\"Strongly Agree\",\"Strongly Agree\",\"Strongly Agree\",\"Neutral\",\"Agree\",\"Agree\",\"Agree\",\"Strongly Disagree\",\"Neutral\",\"Disagree\",\"Strongly Agree\",\"Agree\",\"Neutral\",\"Neutral\",\"In a large percentage of cases where I've used the chatbot it gave me wrong or inaccurate answers. I can't trust this artificial intelligence and I always have to check the information it gives me through other sources as well. I don't think it's sophisticated and useful enough to be used in our university studies. I would trust the internet more.\"],[\"5.16.2023 9:14:47\",\"Bachelor\",\"Marketing\",\"Female\",\"Neutral\",\"Disagree\",\"Agree\",\"Disagree\",\"Agree\",\"Neutral\",\"Agree\",\"Agree\",\"Agree\",\"Agree\",\"Neutral\",\"Agree\",\"Agree\",\"Neutral\",\"Neutral\",\"Neutral\",\"Neutral\",\"Strongly Disagree\",\"Neutral\",\"Agree\",\"Agree\",\"Neutral\",\"Neutral\",\"Neutral\",\"Agree\",\"Neutral\",\"Agree\",\"Neutral\",\"Extremely helpful and informative tool.\"],[\"5.16.2023 9:18:36\",\"Bachelor\",\"Marketing\",\"Female\",\"Neutral\",\"Agree\",\"Agree\",\"Neutral\",\"Disagree\",\"Agree\",\"Strongly Agree\",\"Neutral\",\"Agree\",\"Strongly Agree\",\"Agree\",\"Agree\",\"Strongly Agree\",\"Strongly Agree\",\"Neutral\",\"Agree\",\"Agree\",\"Agree\",\"Neutral\",\"Agree\",\"Agree\",\"Agree\",\"Agree\",\"Neutral\",\"Agree\",\"Neutral\",\"Neutral\",\"Neutral\",\"With ChatGPT it's much easier and more fun. Now you can do homework or any task in a short time. Instead of spending hours searching the Internet for information, ChatGPT can answer a few questions and you're done.\"],[\"5.16.2023 10:32:38\",\"Bachelor\",\"Accounting\",\"Female\",\"Neutral\",\"Agree\",\"Strongly Agree\",\"Neutral\",\"Agree\",\"Strongly Agree\",\"Agree\",\"Neutral\",\"Neutral\",\"Agree\",\"Agree\",\"Strongly Agree\",\"Strongly Agree\",\"Strongly Agree\",\"Agree\",\"Neutral\",\"Neutral\",\"Neutral\",\"Agree\",\"Agree\",\"Strongly Agree\",\"Disagree\",\"Neutral\",\"Agree\",\"Neutral\",\"Neutral\",\"Neutral\",\"Neutral\",\"No answer\"],[\"5.16.2023 10:33:37\",\"Bachelor\",\"Accounting\",\"Female\",\"Strongly Disagree\",\"Strongly Agree\",\"Strongly Agree\",\"Neutral\",\"Agree\",\"Strongly Agree\",\"Strongly Agree\",\"Strongly Agree\",\"Agree\",\"Agree\",\"Strongly Agree\",\"Strongly Agree\",\"Strongly Agree\",\"Agree\",\"Neutral\",\"Agree\",\"Agree\",\"Strongly Disagree\",\"Strongly Agree\",\"Neutral\",\"Agree\",\"Strongly Agree\",\"Disagree\",\"Strongly Agree\",\"Strongly Disagree\",\"Neutral\",\"Strongly Disagree\",\"Disagree\",\"This changed my attitude towards artificial intelligence, but in my opinion there is more to develop, as many of the answers are inaccurate in their translation into Bulgarian for example. The bot would help in our higher education process, greatly optimizing our time searching and finding information.\"],[\"5.16.2023 10:34:34\",\"Bachelor\",\"Accounting\",\"Female\",\"Agree\",\"Agree\",\"Neutral\",\"Disagree\",\"Agree\",\"Neutral\",\"Neutral\",\"Disagree\",\"Disagree\",\"Agree\",\"Neutral\",\"Agree\",\"Agree\",\"Agree\",\"Agree\",\"Agree\",\"Agree\",\"Disagree\",\"Disagree\",\"Neutral\",\"Disagree\",\"Disagree\",\"Neutral\",\"Disagree\",\"Neutral\",\"Neutral\",\"Disagree\",\"Neutral\",\"No answer\"],[\"5.16.2023 10:35:01\",\"Bachelor\",\"Accounting\",\"Female\",\"Agree\",\"Agree\",\"Agree\",\"Neutral\",\"Neutral\",\"Neutral\",\"Disagree\",\"Neutral\",\"Neutral\",\"Neutral\",\"Neutral\",\"Neutral\",\"Neutral\",\"Neutral\",\"Neutral\",\"Neutral\",\"Neutral\",\"Neutral\",\"Neutral\",\"Neutral\",\"Neutral\",\"Neutral\",\"Neutral\",\"Neutral\",\"Neutral\",\"Neutral\",\"Neutral\",\"Neutral\",\"No answer\"],[\"5.16.2023 10:36:10\",\"Bachelor\",\"Accounting\",\"Female\",\"Agree\",\"Neutral\",\"Disagree\",\"Neutral\",\"Agree\",\"Disagree\",\"Agree\",\"Agree\",\"Strongly Agree\",\"Strongly Agree\",\"Neutral\",\"Agree\",\"Agree\",\"Agree\",\"Disagree\",\"Disagree\",\"Disagree\",\"Strongly Disagree\",\"Agree\",\"Agree\",\"Strongly Agree\",\"Agree\",\"Agree\",\"Neutral\",\"Agree\",\"Neutral\",\"Agree\",\"Agree\",\"No answer\"],[\"5.16.2023 10:37:22\",\"Bachelor\",\"Accounting\",\"Female\",\"Agree\",\"Agree\",\"Agree\",\"Disagree\",\"Agree\",\"Agree\",\"Agree\",\"Agree\",\"Agree\",\"Agree\",\"Agree\",\"Agree\",\"Agree\",\"Agree\",\"Disagree\",\"Disagree\",\"Disagree\",\"Disagree\",\"Agree\",\"Agree\",\"Agree\",\"Agree\",\"Agree\",\"Agree\",\"Disagree\",\"Agree\",\"Agree\",\"Disagree\",\"No answer\"],[\"5.16.2023 10:38:48\",\"Bachelor\",\"Accounting\",\"Female\",\"Disagree\",\"Strongly Agree\",\"Strongly Agree\",\"Strongly Disagree\",\"Disagree\",\"Disagree\",\"Strongly Agree\",\"Strongly Agree\",\"Strongly Agree\",\"Strongly Agree\",\"Agree\",\"Neutral\",\"Strongly Agree\",\"Agree\",\"Neutral\",\"Disagree\",\"Disagree\",\"Agree\",\"Strongly Agree\",\"Strongly Agree\",\"Strongly Agree\",\"Neutral\",\"Neutral\",\"Agree\",\"Agree\",\"Agree\",\"Strongly Agree\",\"Strongly Agree\",\"No answer\"],[\"5.16.2023 10:39:54\",\"Bachelor\",\"Accounting\",\"Female\",\"Disagree\",\"Agree\",\"Agree\",\"Neutral\",\"Strongly Agree\",\"Strongly Disagree\",\"Agree\",\"Agree\",\"Agree\",\"Agree\",\"Neutral\",\"Neutral\",\"Neutral\",\"Strongly Agree\",\"Strongly Disagree\",\"Strongly Disagree\",\"Strongly Disagree\",\"Strongly Disagree\",\"Agree\",\"Neutral\",\"Agree\",\"Agree\",\"Agree\",\"Neutral\",\"Agree\",\"Neutral\",\"Neutral\",\"Neutral\",\"Artificial intelligence proves to be of great help in difficult tasks and in most cases answers the questions with good accuracy. The quality of the answers is good, but only in English.\"],[\"5.16.2023 10:40:42\",\"Bachelor\",\"Accounting\",\"Female\",\"Disagree\",\"Agree\",\"Agree\",\"Disagree\",\"Disagree\",\"Agree\",\"Agree\",\"Agree\",\"Agree\",\"Agree\",\"Agree\",\"Agree\",\"Agree\",\"Agree\",\"Agree\",\"Agree\",\"Agree\",\"Agree\",\"Agree\",\"Agree\",\"Agree\",\"Agree\",\"Agree\",\"Agree\",\"Agree\",\"Agree\",\"Agree\",\"Agree\",\"Yes, chatgpt changed my attitude towards AI, because of the correct answers.\"],[\"5.16.2023 10:40:51\",\"Bachelor\",\"Accounting\",\"Female\",\"Agree\",\"Neutral\",\"Neutral\",\"Disagree\",\"Neutral\",\"Neutral\",\"Agree\",\"Strongly Agree\",\"Agree\",\"Strongly Agree\",\"Agree\",\"Agree\",\"Strongly Agree\",\"Agree\",\"Disagree\",\"Agree\",\"Strongly Agree\",\"Strongly Agree\",\"Strongly Agree\",\"Agree\",\"Strongly Agree\",\"Neutral\",\"Neutral\",\"Neutral\",\"Neutral\",\"Agree\",\"Strongly Agree\",\"Neutral\",\"No answer\"],[\"5.16.2023 10:41:04\",\"Bachelor\",\"Accounting\",\"Female\",\"Neutral\",\"Agree\",\"Disagree\",\"Strongly Disagree\",\"Neutral\",\"Neutral\",\"Strongly Agree\",\"Agree\",\"Agree\",\"Agree\",\"Agree\",\"Neutral\",\"Agree\",\"Disagree\",\"Disagree\",\"Strongly Disagree\",\"Strongly Disagree\",\"Agree\",\"Agree\",\"Strongly Agree\",\"Disagree\",\"Neutral\",\"Neutral\",\"Disagree\",\"Neutral\",\"Disagree\",\"Strongly Disagree\",\"Strongly Disagree\",\"No answer\"],[\"5.16.2023 10:42:42\",\"Bachelor\",\"Accounting\",\"Female\",\"Agree\",\"Disagree\",\"Disagree\",\"Disagree\",\"Agree\",\"Disagree\",\"Agree\",\"Neutral\",\"Neutral\",\"Agree\",\"Agree\",\"Agree\",\"Agree\",\"Agree\",\"Disagree\",\"Disagree\",\"Disagree\",\"Strongly Disagree\",\"Agree\",\"Neutral\",\"Disagree\",\"Disagree\",\"Disagree\",\"Agree\",\"Agree\",\"Neutral\",\"Neutral\",\"Neutral\",\"My opinion is that it should be as accessible to people as possible. A person must express himself in a way that the chatbot understands him, and then he will become more and more accessible.\"],[\"5.16.2023 10:43:09\",\"Bachelor\",\"Accounting\",\"Female\",\"Strongly Agree\",\"Strongly Agree\",\"Agree\",\"Disagree\",\"Neutral\",\"Neutral\",\"Strongly Agree\",\"Strongly Disagree\",\"Strongly Disagree\",\"Agree\",\"Agree\",\"Disagree\",\"Disagree\",\"Disagree\",\"Strongly Agree\",\"Strongly Agree\",\"Strongly Agree\",\"Disagree\",\"Neutral\",\"Strongly Disagree\",\"Strongly Disagree\",\"Strongly Disagree\",\"Strongly Disagree\",\"Disagree\",\"Strongly Disagree\",\"Strongly Disagree\",\"Strongly Disagree\",\"Strongly Disagree\",\"No answer\"],[\"5.16.2023 10:43:18\",\"Bachelor\",\"Accounting\",\"Female\",\"Neutral\",\"Agree\",\"Agree\",\"Disagree\",\"Neutral\",\"Disagree\",\"Agree\",\"Agree\",\"Neutral\",\"Agree\",\"Strongly Agree\",\"Agree\",\"Strongly Agree\",\"Agree\",\"Disagree\",\"Agree\",\"Strongly Agree\",\"Strongly Disagree\",\"Agree\",\"Agree\",\"Agree\",\"Neutral\",\"Neutral\",\"Disagree\",\"Disagree\",\"Neutral\",\"Agree\",\"Neutral\",\"In my opinion, chatbots are useful and facilitate work on various issues, but they should not be overused all the time, because then we will not understand what needs to be done.\"],[\"5.16.2023 10:43:31\",\"Bachelor\",\"Accounting\",\"Female\",\"Neutral\",\"Disagree\",\"Agree\",\"Strongly Disagree\",\"Neutral\",\"Disagree\",\"Agree\",\"Agree\",\"Neutral\",\"Strongly Agree\",\"Agree\",\"Strongly Agree\",\"Agree\",\"Agree\",\"Neutral\",\"Neutral\",\"Agree\",\"Strongly Disagree\",\"Agree\",\"Strongly Agree\",\"Neutral\",\"Disagree\",\"Strongly Disagree\",\"Agree\",\"Strongly Agree\",\"Neutral\",\"Disagree\",\"Neutral\",\".\"],[\"5.16.2023 10:45:34\",\"Bachelor\",\"Accounting\",\"Female\",\"Agree\",\"Agree\",\"Agree\",\"Agree\",\"Agree\",\"Strongly Agree\",\"Agree\",\"Agree\",\"Agree\",\"Agree\",\"Agree\",\"Neutral\",\"Agree\",\"Agree\",\"Disagree\",\"Strongly Agree\",\"Agree\",\"Agree\",\"Agree\",\"Agree\",\"Agree\",\"Agree\",\"Agree\",\"Neutral\",\"Neutral\",\"Neutral\",\"Agree\",\"Disagree\",\"It should be used wisely\"],[\"5.16.2023 10:50:27\",\"Bachelor\",\"Accounting\",\"Female\",\"Agree\",\"Disagree\",\"Agree\",\"Disagree\",\"Strongly Disagree\",\"Strongly Disagree\",\"Agree\",\"Agree\",\"Strongly Agree\",\"Strongly Agree\",\"Agree\",\"Agree\",\"Disagree\",\"Agree\",\"Strongly Disagree\",\"Disagree\",\"Disagree\",\"Disagree\",\"Strongly Agree\",\"Strongly Agree\",\"Agree\",\"Disagree\",\"Neutral\",\"Agree\",\"Strongly Agree\",\"Agree\",\"Agree\",\"Neutral\",\"It makes work easier, but some colleagues would abuse and rely only on it for assigned tasks.\"],[\"5.16.2023 10:55:30\",\"Bachelor\",\"Accounting\",\"Female\",\"Strongly Agree\",\"Agree\",\"Agree\",\"Disagree\",\"Agree\",\"Agree\",\"Strongly Agree\",\"Agree\",\"Neutral\",\"Strongly Agree\",\"Strongly Agree\",\"Agree\",\"Strongly Agree\",\"Neutral\",\"Neutral\",\"Disagree\",\"Agree\",\"Agree\",\"Strongly Agree\",\"Strongly Agree\",\"Strongly Agree\",\"Neutral\",\"Agree\",\"Neutral\",\"Disagree\",\"Agree\",\"Agree\",\"Neutral\",\"I think the use of generative artificial intelligence in education is a good new beginning in the application of modern technology and would be of great benefit to students and teachers.\"],[\"5.16.2023 11:02:48\",\"Bachelor\",\"Accounting\",\"Female\",\"Disagree\",\"Agree\",\"Strongly Agree\",\"Strongly Disagree\",\"Disagree\",\"Agree\",\"Agree\",\"Strongly Agree\",\"Neutral\",\"Agree\",\"Strongly Agree\",\"Neutral\",\"Agree\",\"Agree\",\"Disagree\",\"Agree\",\"Agree\",\"Agree\",\"Agree\",\"Agree\",\"Agree\",\"Neutral\",\"Neutral\",\"Agree\",\"Disagree\",\"Neutral\",\"Neutral\",\"Strongly Disagree\",\"ChatGPT itself helps me a lot, mainly because it sifts out important information that I would otherwise search for a long time on the Internet.\"],[\"5.16.2023 11:47:36\",\"Bachelor\",\"Accounting\",\"Female\",\"Neutral\",\"Neutral\",\"Disagree\",\"Agree\",\"Strongly Disagree\",\"Strongly Disagree\",\"Agree\",\"Agree\",\"Agree\",\"Agree\",\"Agree\",\"Agree\",\"Agree\",\"Agree\",\"Disagree\",\"Disagree\",\"Disagree\",\"Disagree\",\"Agree\",\"Agree\",\"Agree\",\"Agree\",\"Agree\",\"Agree\",\"Agree\",\"Agree\",\"Agree\",\"Agree\",\"No answer\"],[\"5.16.2023 11:54:26\",\"Bachelor\",\"Finance\",\"Female\",\"Disagree\",\"Agree\",\"Neutral\",\"Neutral\",\"Agree\",\"Agree\",\"Neutral\",\"Disagree\",\"Agree\",\"Agree\",\"Strongly Agree\",\"Strongly Agree\",\"Strongly Agree\",\"Strongly Agree\",\"Strongly Agree\",\"Strongly Agree\",\"Strongly Agree\",\"Strongly Agree\",\"Agree\",\"Agree\",\"Agree\",\"Agree\",\"Agree\",\"Neutral\",\"Neutral\",\"Neutral\",\"Disagree\",\"Neutral\",\"No answer\"],[\"5.16.2023 11:55:21\",\"Bachelor\",\"Finance\",\"Female\",\"Disagree\",\"Neutral\",\"Agree\",\"Disagree\",\"Neutral\",\"Agree\",\"Agree\",\"Agree\",\"Agree\",\"Strongly Agree\",\"Neutral\",\"Disagree\",\"Neutral\",\"Strongly Agree\",\"Disagree\",\"Disagree\",\"Disagree\",\"Agree\",\"Neutral\",\"Agree\",\"Agree\",\"Agree\",\"Agree\",\"Agree\",\"Agree\",\"Agree\",\"Agree\",\"Agree\",\"I'm all for using ChatGPT.\"],[\"5.16.2023 11:57:08\",\"Bachelor\",\"Finance\",\"Female\",\"Agree\",\"Neutral\",\"Agree\",\"Disagree\",\"Strongly Agree\",\"Strongly Agree\",\"Agree\",\"Agree\",\"Strongly Agree\",\"Strongly Agree\",\"Agree\",\"Strongly Agree\",\"Strongly Agree\",\"Strongly Agree\",\"Disagree\",\"Strongly Disagree\",\"Strongly Disagree\",\"Strongly Disagree\",\"Strongly Agree\",\"Agree\",\"Agree\",\"Neutral\",\"Agree\",\"Neutral\",\"Agree\",\"Neutral\",\"Disagree\",\"Disagree\",\"Generative AI technologies can be very useful for learning new things, solving different problems and answering questions. He can even give advice on a problem, even if it is a personal problem.\\n\"],[\"5.16.2023 12:01:02\",\"Bachelor\",\"Finance\",\"Female\",\"Disagree\",\"Neutral\",\"Agree\",\"Disagree\",\"Strongly Disagree\",\"Strongly Agree\",\"Strongly Agree\",\"Strongly Agree\",\"Strongly Agree\",\"Strongly Agree\",\"Strongly Agree\",\"Strongly Agree\",\"Strongly Agree\",\"Strongly Agree\",\"Neutral\",\"Strongly Agree\",\"Strongly Agree\",\"Strongly Agree\",\"Strongly Agree\",\"Strongly Agree\",\"Strongly Agree\",\"Agree\",\"Strongly Agree\",\"Agree\",\"Neutral\",\"Neutral\",\"Strongly Agree\",\"Agree\",\"+\"],[\"5.16.2023 12:02:24\",\"Bachelor\",\"Finance\",\"Female\",\"Agree\",\"Agree\",\"Neutral\",\"Disagree\",\"Agree\",\"Neutral\",\"Agree\",\"Agree\",\"Agree\",\"Agree\",\"Strongly Agree\",\"Agree\",\"Strongly Agree\",\"Strongly Agree\",\"Disagree\",\"Disagree\",\"Disagree\",\"Neutral\",\"Strongly Agree\",\"Strongly Agree\",\"Agree\",\"Disagree\",\"Disagree\",\"Agree\",\"Agree\",\"Neutral\",\"Neutral\",\"Disagree\",\"No answer\"],[\"5.16.2023 12:03:56\",\"Bachelor\",\"Finance\",\"Female\",\"Agree\",\"Agree\",\"Agree\",\"Agree\",\"Agree\",\"Agree\",\"Neutral\",\"Agree\",\"Agree\",\"Agree\",\"Agree\",\"Agree\",\"Agree\",\"Agree\",\"Agree\",\"Agree\",\"Agree\",\"Agree\",\"Agree\",\"Agree\",\"Agree\",\"Disagree\",\"Agree\",\"Disagree\",\"Agree\",\"Agree\",\"Agree\",\"Agree\",\".\"],[\"5.16.2023 12:04:27\",\"Bachelor\",\"Finance\",\"Female\",\"Agree\",\"Agree\",\"Agree\",\"Neutral\",\"Agree\",\"Neutral\",\"Disagree\",\"Agree\",\"Agree\",\"Strongly Agree\",\"Strongly Agree\",\"Agree\",\"Agree\",\"Agree\",\"Disagree\",\"Disagree\",\"Neutral\",\"Agree\",\"Agree\",\"Neutral\",\"Neutral\",\"Neutral\",\"Agree\",\"Agree\",\"Agree\",\"Neutral\",\"Neutral\",\"Neutral\",\"No answer\"],[\"5.16.2023 12:07:58\",\"Bachelor\",\"Finance\",\"Female\",\"Agree\",\"Neutral\",\"Neutral\",\"Strongly Disagree\",\"Neutral\",\"Strongly Agree\",\"Strongly Agree\",\"Strongly Agree\",\"Strongly Agree\",\"Strongly Agree\",\"Strongly Agree\",\"Strongly Agree\",\"Strongly Agree\",\"Strongly Agree\",\"Neutral\",\"Agree\",\"Agree\",\"Disagree\",\"Strongly Agree\",\"Strongly Agree\",\"Strongly Agree\",\"Strongly Disagree\",\"Neutral\",\"Strongly Agree\",\"Strongly Agree\",\"Strongly Agree\",\"Strongly Agree\",\"Strongly Disagree\",\"It helps me in learning and has changed my attitude towards this technology in a positive direction.\"],[\"5.16.2023 12:08:12\",\"Bachelor\",\"Finance\",\"Female\",\"Neutral\",\"Agree\",\"Agree\",\"Neutral\",\"Agree\",\"Agree\",\"Neutral\",\"Disagree\",\"Disagree\",\"Neutral\",\"Agree\",\"Neutral\",\"Neutral\",\"Agree\",\"Neutral\",\"Strongly Agree\",\"Agree\",\"Disagree\",\"Neutral\",\"Disagree\",\"Disagree\",\"Disagree\",\"Disagree\",\"Neutral\",\"Disagree\",\"Disagree\",\"Disagree\",\"Disagree\",\"Limits students\"],[\"5.16.2023 12:13:50\",\"Bachelor\",\"Finance\",\"Female\",\"Neutral\",\"Disagree\",\"Strongly Disagree\",\"Disagree\",\"Agree\",\"Agree\",\"Agree\",\"Strongly Agree\",\"Agree\",\"Strongly Agree\",\"Disagree\",\"Agree\",\"Agree\",\"Agree\",\"Agree\",\"Neutral\",\"Disagree\",\"Agree\",\"Disagree\",\"Neutral\",\"Strongly Agree\",\"Neutral\",\"Disagree\",\"Disagree\",\"Agree\",\"Neutral\",\"Agree\",\"Agree\",\"In aid of training, it gives us additional information on a specific issue, saves time and additional searches\"],[\"5.16.2023 12:15:29\",\"Bachelor\",\"Finance\",\"Female\",\"Strongly Agree\",\"Agree\",\"Neutral\",\"Strongly Disagree\",\"Agree\",\"Strongly Agree\",\"Strongly Agree\",\"Disagree\",\"Strongly Agree\",\"Strongly Agree\",\"Agree\",\"Neutral\",\"Strongly Agree\",\"Agree\",\"Neutral\",\"Disagree\",\"Neutral\",\"Strongly Agree\",\"Agree\",\"Strongly Agree\",\"Strongly Agree\",\"Neutral\",\"Neutral\",\"Disagree\",\"Strongly Disagree\",\"Neutral\",\"Agree\",\"Strongly Agree\",\"No\"],[\"5.16.2023 12:15:54\",\"Bachelor\",\"Finance\",\"Female\",\"Neutral\",\"Strongly Disagree\",\"Disagree\",\"Neutral\",\"Neutral\",\"Agree\",\"Agree\",\"Agree\",\"Agree\",\"Agree\",\"Strongly Agree\",\"Agree\",\"Strongly Agree\",\"Strongly Agree\",\"Strongly Agree\",\"Strongly Agree\",\"Agree\",\"Agree\",\"Agree\",\"Agree\",\"Agree\",\"Agree\",\"Agree\",\"Strongly Agree\",\"Disagree\",\"Neutral\",\"Neutral\",\"Strongly Disagree\",\"To me, the AI is well thought out to help students with their assignments. It saves time and gives extensive information.\"],[\"5.16.2023 12:23:31\",\"Bachelor\",\"Finance\",\"Female\",\"Neutral\",\"Strongly Agree\",\"Neutral\",\"Strongly Disagree\",\"Agree\",\"Neutral\",\"Agree\",\"Neutral\",\"Agree\",\"Strongly Agree\",\"Agree\",\"Agree\",\"Agree\",\"Agree\",\"Neutral\",\"Agree\",\"Neutral\",\"Disagree\",\"Agree\",\"Agree\",\"Neutral\",\"Strongly Disagree\",\"Strongly Disagree\",\"Neutral\",\"Neutral\",\"Neutral\",\"Agree\",\"Neutral\",\"I have no recommendations and no objective opinion, since I have only used this chatbot once for a task, I prefer to look for the information myself.\"],[\"5.16.2023 12:24:32\",\"Bachelor\",\"Finance\",\"Female\",\"Disagree\",\"Neutral\",\"Neutral\",\"Strongly Disagree\",\"Strongly Disagree\",\"Neutral\",\"Strongly Agree\",\"Strongly Agree\",\"Strongly Agree\",\"Strongly Agree\",\"Strongly Agree\",\"Strongly Agree\",\"Strongly Agree\",\"Strongly Agree\",\"Strongly Agree\",\"Strongly Agree\",\"Neutral\",\"Strongly Disagree\",\"Strongly Agree\",\"Agree\",\"Strongly Agree\",\"Strongly Agree\",\"Strongly Agree\",\"Strongly Agree\",\"Strongly Agree\",\"Strongly Agree\",\"Strongly Agree\",\"Strongly Agree\",\"No answer\"],[\"5.16.2023 12:28:28\",\"Bachelor\",\"Finance\",\"Female\",\"Neutral\",\"Agree\",\"Neutral\",\"Strongly Disagree\",\"Disagree\",\"Neutral\",\"Strongly Agree\",\"Strongly Agree\",\"Strongly Agree\",\"Strongly Agree\",\"Strongly Agree\",\"Agree\",\"Strongly Agree\",\"Strongly Agree\",\"Neutral\",\"Disagree\",\"Neutral\",\"Neutral\",\"Strongly Agree\",\"Strongly Agree\",\"Strongly Agree\",\"Disagree\",\"Neutral\",\"Strongly Agree\",\"Agree\",\"Neutral\",\"Agree\",\"Neutral\",\"I haven't\\n\"],[\"5.16.2023 12:30:33\",\"Bachelor\",\"Finance\",\"Female\",\"Neutral\",\"Disagree\",\"Neutral\",\"Disagree\",\"Disagree\",\"Disagree\",\"Agree\",\"Agree\",\"Agree\",\"Agree\",\"Agree\",\"Agree\",\"Agree\",\"Agree\",\"Agree\",\"Agree\",\"Agree\",\"Agree\",\"Agree\",\"Agree\",\"Agree\",\"Agree\",\"Agree\",\"Neutral\",\"Neutral\",\"Neutral\",\"Neutral\",\"Neutral\",\"I don't have\"],[\"5.16.2023 12:42:04\",\"Bachelor\",\"Finance\",\"Female\",\"Agree\",\"Strongly Agree\",\"Strongly Agree\",\"Agree\",\"Agree\",\"Agree\",\"Agree\",\"Agree\",\"Agree\",\"Agree\",\"Agree\",\"Agree\",\"Agree\",\"Agree\",\"Neutral\",\"Agree\",\"Disagree\",\"Neutral\",\"Agree\",\"Agree\",\"Agree\",\"Agree\",\"Agree\",\"Agree\",\"Agree\",\"Agree\",\"Agree\",\"Agree\",\"No answer\"],[\"5.16.2023 14:17:47\",\"Bachelor\",\"Marketing\",\"Female\",\"Agree\",\"Neutral\",\"Disagree\",\"Neutral\",\"Agree\",\"Disagree\",\"Agree\",\"Agree\",\"Agree\",\"Agree\",\"Agree\",\"Agree\",\"Agree\",\"Neutral\",\"Disagree\",\"Disagree\",\"Disagree\",\"Disagree\",\"Agree\",\"Agree\",\"Agree\",\"Agree\",\"Agree\",\"Agree\",\"Agree\",\"Neutral\",\"Disagree\",\"Agree\",\"My suggestion is the following: chatbots should solve much more complex tasks.\"],[\"5.16.2023 17:46:52\",\"Bachelor\",\"Marketing\",\"Female\",\"Strongly Agree\",\"Agree\",\"Neutral\",\"Strongly Disagree\",\"Agree\",\"Strongly Disagree\",\"Strongly Agree\",\"Neutral\",\"Disagree\",\"Strongly Agree\",\"Agree\",\"Neutral\",\"Agree\",\"Strongly Agree\",\"Neutral\",\"Strongly Agree\",\"Agree\",\"Strongly Disagree\",\"Strongly Agree\",\"Strongly Agree\",\"Strongly Agree\",\"Strongly Agree\",\"Strongly Agree\",\"Disagree\",\"Agree\",\"Neutral\",\"Disagree\",\"Disagree\",\"No answer\"],[\"5.17.2023 8:14:37\",\"Master\",\"Accounting and Analysis\",\"Female\",\"Neutral\",\"Agree\",\"Agree\",\"Neutral\",\"Agree\",\"Agree\",\"Strongly Agree\",\"Strongly Agree\",\"Agree\",\"Strongly Agree\",\"Agree\",\"Agree\",\"Strongly Agree\",\"Neutral\",\"Neutral\",\"Disagree\",\"Disagree\",\"Neutral\",\"Agree\",\"Agree\",\"Agree\",\"Agree\",\"Neutral\",\"Neutral\",\"Neutral\",\"Neutral\",\"Neutral\",\"Neutral\",\"Learners need to be supported and guided in acquiring the skills to make the most of the opportunities and assistance provided by artificial intelligence.\"],[\"5.17.2023 13:48:07\",\"Bachelor\",\"Business Management\",\"Female\",\"Neutral\",\"Agree\",\"Agree\",\"Agree\",\"Strongly Agree\",\"Strongly Agree\",\"Agree\",\"Disagree\",\"Agree\",\"Agree\",\"Neutral\",\"Agree\",\"Agree\",\"Agree\",\"Agree\",\"Strongly Agree\",\"Strongly Agree\",\"Strongly Agree\",\"Agree\",\"Agree\",\"Agree\",\"Agree\",\"Agree\",\"Neutral\",\"Neutral\",\"Neutral\",\"Neutral\",\"Neutral\",\"No answer\"],[\"5.17.2023 13:49:20\",\"Bachelor\",\"Management in Tourism\",\"Female\",\"Neutral\",\"Neutral\",\"Disagree\",\"Neutral\",\"Neutral\",\"Neutral\",\"Agree\",\"Neutral\",\"Neutral\",\"Strongly Agree\",\"Agree\",\"Agree\",\"Agree\",\"Agree\",\"Neutral\",\"Neutral\",\"Agree\",\"Neutral\",\"Agree\",\"Agree\",\"Agree\",\"Agree\",\"Agree\",\"Neutral\",\"Neutral\",\"Neutral\",\"Neutral\",\"Neutral\",\"No answer\"],[\"5.17.2023 13:50:24\",\"Bachelor\",\"Public Administration\",\"Female\",\"Disagree\",\"Disagree\",\"Disagree\",\"Disagree\",\"Agree\",\"Neutral\",\"Agree\",\"Agree\",\"Agree\",\"Strongly Agree\",\"Agree\",\"Agree\",\"Strongly Agree\",\"Strongly Agree\",\"Agree\",\"Agree\",\"Agree\",\"Agree\",\"Agree\",\"Agree\",\"Agree\",\"Agree\",\"Agree\",\"Agree\",\"Agree\",\"Agree\",\"Agree\",\"Agree\",\"No answer\"],[\"5.17.2023 13:50:35\",\"Bachelor\",\"Management in Tourism\",\"Female\",\"Neutral\",\"Neutral\",\"Neutral\",\"Disagree\",\"Neutral\",\"Agree\",\"Agree\",\"Agree\",\"Neutral\",\"Agree\",\"Agree\",\"Agree\",\"Agree\",\"Agree\",\"Neutral\",\"Strongly Disagree\",\"Disagree\",\"Disagree\",\"Neutral\",\"Agree\",\"Neutral\",\"Agree\",\"Agree\",\"Agree\",\"Agree\",\"Neutral\",\"Neutral\",\"Neutral\",\"No answer\"],[\"5.17.2023 13:51:09\",\"Bachelor\",\"Management in Tourism\",\"Female\",\"Disagree\",\"Agree\",\"Neutral\",\"Neutral\",\"Neutral\",\"Agree\",\"Agree\",\"Agree\",\"Agree\",\"Strongly Agree\",\"Agree\",\"Agree\",\"Strongly Agree\",\"Agree\",\"Neutral\",\"Agree\",\"Strongly Agree\",\"Strongly Agree\",\"Strongly Agree\",\"Strongly Agree\",\"Strongly Agree\",\"Neutral\",\"Agree\",\"Neutral\",\"Neutral\",\"Neutral\",\"Neutral\",\"Neutral\",\"No answer\"],[\"5.17.2023 13:51:46\",\"Bachelor\",\"Business Management\",\"Female\",\"Neutral\",\"Neutral\",\"Disagree\",\"Disagree\",\"Disagree\",\"Strongly Agree\",\"Strongly Agree\",\"Strongly Agree\",\"Strongly Agree\",\"Strongly Agree\",\"Strongly Agree\",\"Agree\",\"Strongly Agree\",\"Agree\",\"Disagree\",\"Neutral\",\"Agree\",\"Agree\",\"Agree\",\"Agree\",\"Agree\",\"Agree\",\"Agree\",\"Agree\",\"Agree\",\"Neutral\",\"Agree\",\"Neutral\",\"No answer\"],[\"5.17.2023 13:52:41\",\"Bachelor\",\"Business Management\",\"Female\",\"Agree\",\"Agree\",\"Agree\",\"Neutral\",\"Neutral\",\"Neutral\",\"Neutral\",\"Neutral\",\"Neutral\",\"Agree\",\"Neutral\",\"Neutral\",\"Agree\",\"Neutral\",\"Agree\",\"Agree\",\"Disagree\",\"Agree\",\"Agree\",\"Agree\",\"Agree\",\"Neutral\",\"Agree\",\"Neutral\",\"Neutral\",\"Neutral\",\"Neutral\",\"Neutral\",\"No answer\"],[\"5.17.2023 13:53:34\",\"Bachelor\",\"Management in Tourism\",\"Female\",\"Agree\",\"Agree\",\"Neutral\",\"Neutral\",\"Neutral\",\"Neutral\",\"Disagree\",\"Disagree\",\"Disagree\",\"Agree\",\"Disagree\",\"Neutral\",\"Neutral\",\"Neutral\",\"Neutral\",\"Agree\",\"Disagree\",\"Disagree\",\"Neutral\",\"Neutral\",\"Neutral\",\"Neutral\",\"Neutral\",\"Neutral\",\"Neutral\",\"Neutral\",\"Neutral\",\"Neutral\",\"I do not agree.\"],[\"5.17.2023 13:56:34\",\"Bachelor\",\"Management in Tourism\",\"Female\",\"Agree\",\"Neutral\",\"Neutral\",\"Neutral\",\"Agree\",\"Agree\",\"Agree\",\"Neutral\",\"Agree\",\"Agree\",\"Neutral\",\"Agree\",\"Agree\",\"Neutral\",\"Agree\",\"Neutral\",\"Agree\",\"Agree\",\"Agree\",\"Neutral\",\"Agree\",\"Agree\",\"Agree\",\"Agree\",\"Agree\",\"Neutral\",\"Neutral\",\"Agree\",\"No answer\"],[\"5.17.2023 14:15:28\",\"Bachelor\",\"Management in Tourism\",\"Female\",\"Agree\",\"Strongly Agree\",\"Agree\",\"Neutral\",\"Agree\",\"Strongly Agree\",\"Agree\",\"Agree\",\"Strongly Agree\",\"Strongly Agree\",\"Agree\",\"Agree\",\"Strongly Agree\",\"Agree\",\"Agree\",\"Agree\",\"Strongly Agree\",\"Agree\",\"Agree\",\"Agree\",\"Agree\",\"Neutral\",\"Neutral\",\"Neutral\",\"Agree\",\"Neutral\",\"Neutral\",\"Neutral\",\"No answer\"],[\"5.17.2023 15:19:38\",\"Bachelor\",\"Geography, Technologies and Entrepreneurship\",\"Female\",\"Neutral\",\"Neutral\",\"Neutral\",\"Disagree\",\"Agree\",\"Agree\",\"Agree\",\"Disagree\",\"Agree\",\"Agree\",\"Agree\",\"Agree\",\"Strongly Agree\",\"Neutral\",\"Strongly Agree\",\"Strongly Agree\",\"Strongly Agree\",\"Agree\",\"Disagree\",\"Agree\",\"Agree\",\"Agree\",\"Disagree\",\"Neutral\",\"Agree\",\"Neutral\",\"Strongly Disagree\",\"Disagree\",\"No answer\"],[\"5.17.2023 18:14:28\",\"Bachelor\",\"International Economic Relations\",\"Female\",\"Neutral\",\"Disagree\",\"Neutral\",\"Disagree\",\"Strongly Disagree\",\"Strongly Disagree\",\"Agree\",\"Neutral\",\"Strongly Agree\",\"Agree\",\"Agree\",\"Agree\",\"Agree\",\"Neutral\",\"Strongly Agree\",\"Strongly Agree\",\"Strongly Agree\",\"Strongly Agree\",\"Neutral\",\"Neutral\",\"Agree\",\"Neutral\",\"Agree\",\"Disagree\",\"Disagree\",\"Neutral\",\"Agree\",\"Strongly Agree\",\"No answer\"],[\"5.18.2023 9:28:40\",\"Bachelor\",\"Business Management\",\"Female\",\"Neutral\",\"Disagree\",\"Neutral\",\"Agree\",\"Agree\",\"Strongly Agree\",\"Agree\",\"Agree\",\"Neutral\",\"Strongly Agree\",\"Agree\",\"Strongly Agree\",\"Strongly Agree\",\"Agree\",\"Strongly Agree\",\"Strongly Agree\",\"Strongly Agree\",\"Agree\",\"Agree\",\"Agree\",\"Neutral\",\"Neutral\",\"Neutral\",\"Neutral\",\"Neutral\",\"Neutral\",\"Agree\",\"Agree\",\"I haven't used ChatGPT, but more and more of my peers are sharing that they use chat for homework on issues that require a personal position. I think intelligence is a good opportunity for ideas because it provides interesting and different answers, but it will reduce teamwork and thinking about questions.\"],[\"5.18.2023 9:31:03\",\"Bachelor\",\"Business Management\",\"Female\",\"Neutral\",\"Agree\",\"Agree\",\"Neutral\",\"Agree\",\"Agree\",\"Strongly Agree\",\"Neutral\",\"Disagree\",\"Strongly Agree\",\"Disagree\",\"Neutral\",\"Agree\",\"Agree\",\"Strongly Agree\",\"Disagree\",\"Disagree\",\"Strongly Agree\",\"Agree\",\"Agree\",\"Agree\",\"Agree\",\"Agree\",\"Agree\",\"Agree\",\"Agree\",\"Agree\",\"Agree\",\"No answer\"],[\"5.18.2023 13:36:05\",\"Bachelor\",\"Economics and Business\",\"Female\",\"Disagree\",\"Disagree\",\"Disagree\",\"Disagree\",\"Disagree\",\"Disagree\",\"Strongly Agree\",\"Agree\",\"Agree\",\"Strongly Agree\",\"Agree\",\"Agree\",\"Agree\",\"Agree\",\"Agree\",\"Disagree\",\"Agree\",\"Strongly Disagree\",\"Strongly Disagree\",\"Strongly Agree\",\"Strongly Agree\",\"Neutral\",\"Neutral\",\"Strongly Agree\",\"Agree\",\"Agree\",\"Agree\",\"Agree\",\"ChatGPT helps with question answering and I have no complaints about its work. My opinion on artificial intelligence is extremely good.\"],[\"5.18.2023 13:37:26\",\"Bachelor\",\"Economics and Business\",\"Female\",\"Neutral\",\"Disagree\",\"Neutral\",\"Strongly Disagree\",\"Neutral\",\"Disagree\",\"Neutral\",\"Agree\",\"Neutral\",\"Strongly Agree\",\"Agree\",\"Agree\",\"Strongly Agree\",\"Agree\",\"Agree\",\"Strongly Agree\",\"Strongly Agree\",\"Disagree\",\"Neutral\",\"Neutral\",\"Agree\",\"Neutral\",\"Neutral\",\"Agree\",\"Agree\",\"Neutral\",\"Neutral\",\"Neutral\",\"Artificial intelligence helps us save a lot of time, however it hinders our development and limits our teamwork\"],[\"5.18.2023 13:37:49\",\"Bachelor\",\"Economics and Business\",\"Female\",\"Agree\",\"Disagree\",\"Neutral\",\"Strongly Disagree\",\"Neutral\",\"Strongly Agree\",\"Agree\",\"Strongly Disagree\",\"Neutral\",\"Strongly Agree\",\"Neutral\",\"Neutral\",\"Strongly Agree\",\"Agree\",\"Strongly Agree\",\"Neutral\",\"Strongly Agree\",\"Strongly Agree\",\"Strongly Disagree\",\"Agree\",\"Agree\",\"Neutral\",\"Neutral\",\"Neutral\",\"Neutral\",\"Neutral\",\"Neutral\",\"Neutral\",\"They can be used for gathering information and contributing to research, but not as a means of overall preparation for the performance of set tasks\"],[\"5.18.2023 13:41:05\",\"Bachelor\",\"Economics and Business\",\"Female\",\"Strongly Disagree\",\"Disagree\",\"Disagree\",\"Disagree\",\"Neutral\",\"Agree\",\"Agree\",\"Agree\",\"Agree\",\"Agree\",\"Agree\",\"Agree\",\"Agree\",\"Agree\",\"Neutral\",\"Agree\",\"Neutral\",\"Agree\",\"Agree\",\"Agree\",\"Agree\",\"Agree\",\"Agree\",\"Agree\",\"Agree\",\"Agree\",\"Neutral\",\"Neutral\",\"The chatbot helped me with various assignments throughout the semester. It generates different answers, which is a big plus for the development of tasks of different topics. I don't trust the chatbot 100% though and am checking other sources. It would be useful to integrate it into the learning environment, but not to rely on it completely.\"],[\"5.18.2023 13:41:25\",\"Bachelor\",\"Economics and Business\",\"Female\",\"Agree\",\"Strongly Disagree\",\"Strongly Disagree\",\"Strongly Disagree\",\"Disagree\",\"Strongly Disagree\",\"Strongly Agree\",\"Agree\",\"Neutral\",\"Strongly Agree\",\"Strongly Agree\",\"Agree\",\"Strongly Agree\",\"Strongly Agree\",\"Neutral\",\"Agree\",\"Strongly Agree\",\"Strongly Disagree\",\"Strongly Agree\",\"Strongly Disagree\",\"Strongly Agree\",\"Neutral\",\"Neutral\",\"Agree\",\"Strongly Agree\",\"Neutral\",\"Strongly Disagree\",\"Neutral\",\"I am in favor of learning with artificial intelligence because it helps us learn many new and interesting things in addition to what we learn at university. Accessibility makes it even easier because you can refer to it at any time. As an improvement, I would add a function to take photos and display images and graphics on the given topic and thus, to be able to have a visual presentation of the topic, if necessary.\"],[\"5.18.2023 13:49:43\",\"Bachelor\",\"Economics and Business\",\"Female\",\"Agree\",\"Disagree\",\"Agree\",\"Agree\",\"Neutral\",\"Agree\",\"Agree\",\"Neutral\",\"Agree\",\"Strongly Agree\",\"Agree\",\"Strongly Agree\",\"Strongly Agree\",\"Strongly Agree\",\"Agree\",\"Strongly Agree\",\"Agree\",\"Strongly Agree\",\"Agree\",\"Agree\",\"Agree\",\"Agree\",\"Neutral\",\"Neutral\",\"Agree\",\"Agree\",\"Neutral\",\"Disagree\",\"The technologies of generative artificial intelligence can be both positive and negative. The positive sides are: saving time for solving assigned questions and tasks; generating interesting and non-standard answers; facilitating both teachers and students in terms of the learning process The negative sides are: excessive use of this type of software stunts the students' capacity and does not stimulate them to use their mental abilities, the option of getting ready-made solutions and opinions will affect the productivity and motivation of the students.  In conclusion, I will say that integrating artificial intelligence into the learning process will be useful from a teaching point of view, but in my opinion, students should not be given complete freedom to complete their practical tasks entirely with this artificial intelligence.\"],[\"5.18.2023 13:56:24\",\"Bachelor\",\"Economics and Business\",\"Female\",\"Agree\",\"Disagree\",\"Neutral\",\"Strongly Disagree\",\"Neutral\",\"Agree\",\"Strongly Agree\",\"Strongly Agree\",\"Neutral\",\"Strongly Agree\",\"Strongly Agree\",\"Strongly Agree\",\"Strongly Agree\",\"Neutral\",\"Neutral\",\"Neutral\",\"Agree\",\"Strongly Agree\",\"Neutral\",\"Agree\",\"Agree\",\"Neutral\",\"Disagree\",\"Agree\",\"Neutral\",\"Neutral\",\"Disagree\",\"Strongly Disagree\",\"My opinion on generative artificial intelligence is neither positive nor negative, as I do not consider myself a competent person to comment on it. What I can say as a student is that most colleagues use it to avoid wasting their efforts on coursework or assigned homework or to copy tests. It certainly has benefits and saves time when looking for information, but its use should not be a trend. It may take some time for the benefits of generative artificial intelligence to be established and integrated into learning.\"],[\"5.18.2023 14:37:28\",\"Bachelor\",\"Economics and Business\",\"Female\",\"Disagree\",\"Neutral\",\"Agree\",\"Disagree\",\"Neutral\",\"Strongly Agree\",\"Agree\",\"Agree\",\"Neutral\",\"Agree\",\"Neutral\",\"Agree\",\"Agree\",\"Agree\",\"Neutral\",\"Agree\",\"Neutral\",\"Disagree\",\"Agree\",\"Agree\",\"Agree\",\"Agree\",\"Neutral\",\"Neutral\",\"Agree\",\"Neutral\",\"Agree\",\"Disagree\",\"I have no recommendations.\"],[\"5.18.2023 16:10:57\",\"Bachelor\",\"\\u00cc\\u00e5\\u00ed\\u00e8\\u00e4\\u00e6\\u00ec\\u00fa\\u00ed\\u00f2 \\u00ed\\u00e0 \\u00f2\\u00f3\\u00f0\\u00e8\\u00f1\\u00f2\\u00e8\\u00f7\\u00e5\\u00f1\\u00ea\\u00e8\\u00ff \\u00e1\\u00e8\\u00e7\\u00ed\\u00e5\\u00f1\",\"Female\",\"Agree\",\"Neutral\",\"Agree\",\"Neutral\",\"Agree\",\"Agree\",\"Agree\",\"Disagree\",\"Disagree\",\"Agree\",\"Agree\",\"Disagree\",\"Agree\",\"Disagree\",\"Agree\",\"Agree\",\"Agree\",\"Agree\",\"Disagree\",\"Disagree\",\"Agree\",\"Agree\",\"Agree\",\"Disagree\",\"Disagree\",\"Disagree\",\"Disagree\",\"Disagree\",\"No answer\"],[\"5.19.2023 17:09:07\",\"Bachelor\",\"Business Management\",\"Female\",\"Neutral\",\"Neutral\",\"Disagree\",\"Strongly Disagree\",\"Neutral\",\"Strongly Disagree\",\"Agree\",\"Strongly Agree\",\"Agree\",\"Agree\",\"Strongly Agree\",\"Agree\",\"Agree\",\"Agree\",\"Neutral\",\"Agree\",\"Agree\",\"Agree\",\"Agree\",\"Agree\",\"Agree\",\"Agree\",\"Agree\",\"Agree\",\"Agree\",\"Agree\",\"Agree\",\"Agree\",\"No answer\"],[\"5.19.2023 18:11:41\",\"Bachelor\",\"Marketing\",\"Female\",\"Strongly Disagree\",\"Agree\",\"Disagree\",\"Disagree\",\"Agree\",\"Agree\",\"Agree\",\"Agree\",\"Agree\",\"Agree\",\"Neutral\",\"Agree\",\"Agree\",\"Agree\",\"Strongly Agree\",\"Agree\",\"Agree\",\"Strongly Agree\",\"Strongly Agree\",\"Strongly Agree\",\"Strongly Agree\",\"Strongly Agree\",\"Strongly Agree\",\"Agree\",\"Strongly Agree\",\"Neutral\",\"Agree\",\"Strongly Agree\",\"No answer\"],[\"5.19.2023 22:30:07\",\"Bachelor\",\"Marketing\",\"Female\",\"Neutral\",\"Neutral\",\"Neutral\",\"Agree\",\"Disagree\",\"Disagree\",\"Neutral\",\"Agree\",\"Neutral\",\"Neutral\",\"Disagree\",\"Agree\",\"Agree\",\"Neutral\",\"Neutral\",\"Neutral\",\"Neutral\",\"Neutral\",\"Agree\",\"Agree\",\"Disagree\",\"Neutral\",\"Agree\",\"Neutral\",\"Agree\",\"Disagree\",\"Disagree\",\"Agree\",\"No answer\"],[\"5.19.2023 22:44:50\",\"Bachelor\",\"Economics and Business\",\"Female\",\"Agree\",\"Agree\",\"Agree\",\"Agree\",\"Agree\",\"Agree\",\"Agree\",\"Agree\",\"Agree\",\"Agree\",\"Agree\",\"Agree\",\"Agree\",\"Agree\",\"Agree\",\"Agree\",\"Agree\",\"Agree\",\"Agree\",\"Agree\",\"Agree\",\"Agree\",\"Agree\",\"Agree\",\"Agree\",\"Agree\",\"Agree\",\"Agree\",\"Yes, ChatGPT showed me that in the near future artificial intelligence will develop even more.\"],[\"5.19.2023 22:47:22\",\"Bachelor\",\"Economics and Business\",\"Female\",\"Agree\",\"Agree\",\"Agree\",\"Agree\",\"Agree\",\"Agree\",\"Agree\",\"Agree\",\"Agree\",\"Agree\",\"Agree\",\"Agree\",\"Agree\",\"Agree\",\"Agree\",\"Agree\",\"Agree\",\"Agree\",\"Agree\",\"Agree\",\"Agree\",\"Agree\",\"Agree\",\"Agree\",\"Agree\",\"Agree\",\"Agree\",\"Agree\",\"In this kind of artificial intelligence, I saw potential for development in the future.\"],[\"5.21.2023 0:05:28\",\"Bachelor\",\"Accounting\",\"Female\",\"Agree\",\"Disagree\",\"Agree\",\"Disagree\",\"Disagree\",\"Disagree\",\"Disagree\",\"Disagree\",\"Disagree\",\"Disagree\",\"Disagree\",\"Disagree\",\"Disagree\",\"Disagree\",\"Agree\",\"Agree\",\"Agree\",\"Agree\",\"Disagree\",\"Disagree\",\"Disagree\",\"Neutral\",\"Neutral\",\"Neutral\",\"Neutral\",\"Neutral\",\"Neutral\",\"Neutral\",\"No answer\"],[\"5.21.2023 8:19:31\",\"Bachelor\",\"Accounting\",\"Female\",\"Strongly Disagree\",\"Strongly Disagree\",\"Strongly Disagree\",\"Agree\",\"Strongly Disagree\",\"Disagree\",\"Disagree\",\"Strongly Disagree\",\"Strongly Disagree\",\"Disagree\",\"Strongly Disagree\",\"Disagree\",\"Strongly Disagree\",\"Agree\",\"Strongly Disagree\",\"Disagree\",\"Strongly Agree\",\"Agree\",\"Agree\",\"Strongly Agree\",\"Strongly Agree\",\"Strongly Agree\",\"Agree\",\"Neutral\",\"Disagree\",\"Agree\",\"Neutral\",\"Agree\",\"No answer\"],[\"5.21.2023 9:57:56\",\"Bachelor\",\"Accounting\",\"Female\",\"Neutral\",\"Agree\",\"Agree\",\"Agree\",\"Agree\",\"Agree\",\"Strongly Agree\",\"Agree\",\"Neutral\",\"Agree\",\"Agree\",\"Agree\",\"Strongly Agree\",\"Strongly Agree\",\"Agree\",\"Strongly Agree\",\"Strongly Agree\",\"Agree\",\"Agree\",\"Agree\",\"Agree\",\"Neutral\",\"Neutral\",\"Neutral\",\"Agree\",\"Neutral\",\"Neutral\",\"Neutral\",\"No answer\"],[\"5.21.2023 16:37:21\",\"Bachelor\",\"International Economic Relations\",\"Female\",\"Neutral\",\"Agree\",\"Neutral\",\"Strongly Disagree\",\"Neutral\",\"Neutral\",\"Strongly Agree\",\"Agree\",\"Strongly Agree\",\"Strongly Agree\",\"Strongly Agree\",\"Agree\",\"Strongly Agree\",\"Strongly Agree\",\"Strongly Disagree\",\"Strongly Disagree\",\"Strongly Disagree\",\"Strongly Disagree\",\"Strongly Agree\",\"Strongly Agree\",\"Strongly Agree\",\"Strongly Agree\",\"Strongly Agree\",\"Agree\",\"Strongly Agree\",\"Agree\",\"Agree\",\"Neutral\",\"No answer\"],[\"5.21.2023 19:01:12\",\"Bachelor\",\"Accounting\",\"Female\",\"Agree\",\"Strongly Agree\",\"Agree\",\"Disagree\",\"Strongly Agree\",\"Agree\",\"Strongly Agree\",\"Strongly Agree\",\"Agree\",\"Strongly Agree\",\"Strongly Agree\",\"Strongly Agree\",\"Strongly Agree\",\"Neutral\",\"Neutral\",\"Disagree\",\"Disagree\",\"Agree\",\"Agree\",\"Strongly Agree\",\"Strongly Agree\",\"Neutral\",\"Agree\",\"Agree\",\"Disagree\",\"Neutral\",\"Agree\",\"Neutral\",\"In my opinion, generative artificial intelligence would be very useful for both students and teachers. I myself have used ChatGTP to search for information on some tasks, because it manages to sift the most important things from the Internet.\"],[\"5.21.2023 19:22:13\",\"Bachelor\",\"Finance\",\"Female\",\"Agree\",\"Agree\",\"Agree\",\"Agree\",\"Agree\",\"Strongly Agree\",\"Neutral\",\"Disagree\",\"Neutral\",\"Agree\",\"Agree\",\"Agree\",\"Agree\",\"Neutral\",\"Neutral\",\"Neutral\",\"Agree\",\"Strongly Disagree\",\"Agree\",\"Agree\",\"Agree\",\"Neutral\",\"Neutral\",\"Agree\",\"Agree\",\"Neutral\",\"Disagree\",\"Disagree\",\"No answer\"],[\"5.22.2023 11:39:22\",\"Bachelor\",\"Public Administration\",\"Female\",\"Agree\",\"Strongly Agree\",\"Agree\",\"Neutral\",\"Agree\",\"Neutral\",\"Agree\",\"Agree\",\"Agree\",\"Agree\",\"Agree\",\"Neutral\",\"Agree\",\"Agree\",\"Agree\",\"Agree\",\"Agree\",\"Strongly Agree\",\"Neutral\",\"Agree\",\"Agree\",\"Neutral\",\"Neutral\",\"Neutral\",\"Neutral\",\"Neutral\",\"Agree\",\"Neutral\",\".\"],[\"5.22.2023 11:55:44\",\"Bachelor\",\"Marketing\",\"Female\",\"Neutral\",\"Agree\",\"Agree\",\"Agree\",\"Agree\",\"Agree\",\"Agree\",\"Strongly Agree\",\"Strongly Agree\",\"Strongly Agree\",\"Agree\",\"Agree\",\"Agree\",\"Agree\",\"Disagree\",\"Strongly Disagree\",\"Strongly Disagree\",\"Strongly Disagree\",\"Agree\",\"Agree\",\"Agree\",\"Agree\",\"Neutral\",\"Neutral\",\"Agree\",\"Neutral\",\"Agree\",\"Neutral\",\"No answer\"],[\"5.23.2023 9:01:15\",\"Bachelor\",\"Marketing\",\"Female\",\"Neutral\",\"Agree\",\"Agree\",\"Agree\",\"Neutral\",\"Neutral\",\"Agree\",\"Agree\",\"Agree\",\"Agree\",\"Agree\",\"Neutral\",\"Agree\",\"Agree\",\"Neutral\",\"Agree\",\"Agree\",\"Agree\",\"Agree\",\"Agree\",\"Agree\",\"Agree\",\"Neutral\",\"Agree\",\"Neutral\",\"Neutral\",\"Disagree\",\"Neutral\",\"More ways to solve more complex problems must be invented\"],[\"5.23.2023 9:44:53\",\"Bachelor\",\"Marketing\",\"Female\",\"Disagree\",\"Neutral\",\"Neutral\",\"Disagree\",\"Disagree\",\"Agree\",\"Agree\",\"Agree\",\"Neutral\",\"Agree\",\"Neutral\",\"Agree\",\"Agree\",\"Agree\",\"Agree\",\"Neutral\",\"Disagree\",\"Neutral\",\"Agree\",\"Agree\",\"Agree\",\"Disagree\",\"Disagree\",\"Neutral\",\"Agree\",\"Neutral\",\"Disagree\",\"Disagree\",\"No answer\"],[\"5.23.2023 10:08:24\",\"Bachelor\",\"Marketing\",\"Female\",\"Neutral\",\"Agree\",\"Neutral\",\"Neutral\",\"Neutral\",\"Neutral\",\"Strongly Agree\",\"Neutral\",\"Agree\",\"Agree\",\"Strongly Agree\",\"Disagree\",\"Strongly Agree\",\"Strongly Agree\",\"Strongly Agree\",\"Strongly Agree\",\"Strongly Agree\",\"Strongly Agree\",\"Agree\",\"Agree\",\"Agree\",\"Strongly Disagree\",\"Agree\",\"Agree\",\"Agree\",\"Neutral\",\"Neutral\",\"Disagree\",\"No answer\"],[\"5.24.2023 23:58:12\",\"Bachelor\",\"Marketing\",\"Female\",\"Neutral\",\"Neutral\",\"Disagree\",\"Disagree\",\"Disagree\",\"Agree\",\"Agree\",\"Neutral\",\"Neutral\",\"Strongly Agree\",\"Strongly Agree\",\"Neutral\",\"Neutral\",\"Disagree\",\"Agree\",\"Agree\",\"Agree\",\"Agree\",\"Agree\",\"Neutral\",\"Neutral\",\"Agree\",\"Neutral\",\"Strongly Agree\",\"Strongly Agree\",\"Agree\",\"Neutral\",\"Strongly Disagree\",\"No answer\"],[\"5.25.2023 0:10:46\",\"Bachelor\",\"International Economic Relations\",\"Female\",\"Strongly Disagree\",\"Strongly Disagree\",\"Disagree\",\"Strongly Disagree\",\"Strongly Disagree\",\"Strongly Disagree\",\"Strongly Agree\",\"Strongly Agree\",\"Strongly Agree\",\"Strongly Agree\",\"Strongly Agree\",\"Strongly Agree\",\"Strongly Agree\",\"Strongly Agree\",\"Strongly Disagree\",\"Strongly Disagree\",\"Strongly Disagree\",\"Strongly Disagree\",\"Strongly Agree\",\"Strongly Agree\",\"Strongly Agree\",\"Strongly Agree\",\"Strongly Agree\",\"Strongly Disagree\",\"Strongly Disagree\",\"Strongly Disagree\",\"Strongly Disagree\",\"Strongly Disagree\",\"In my opinion, artificial intelligence should increasingly enter the education of adolescents!\"],[\"5.25.2023 0:47:18\",\"Bachelor\",\"Marketing\",\"Female\",\"Agree\",\"Agree\",\"Strongly Disagree\",\"Strongly Disagree\",\"Disagree\",\"Disagree\",\"Strongly Agree\",\"Strongly Agree\",\"Strongly Agree\",\"Strongly Agree\",\"Neutral\",\"Neutral\",\"Strongly Agree\",\"Strongly Agree\",\"Strongly Agree\",\"Disagree\",\"Disagree\",\"Strongly Disagree\",\"Strongly Agree\",\"Strongly Agree\",\"Strongly Agree\",\"Agree\",\"Strongly Agree\",\"Disagree\",\"Strongly Agree\",\"Neutral\",\"Agree\",\"Strongly Disagree\",\"No answer\"],[\"5.26.2023 0:09:45\",\"Bachelor\",\"Finance\",\"Female\",\"Neutral\",\"Neutral\",\"Neutral\",\"Neutral\",\"Neutral\",\"Neutral\",\"Strongly Agree\",\"Strongly Agree\",\"Strongly Agree\",\"Strongly Agree\",\"Strongly Agree\",\"Strongly Agree\",\"Strongly Agree\",\"Strongly Agree\",\"Agree\",\"Strongly Agree\",\"Agree\",\"Strongly Agree\",\"Agree\",\"Strongly Agree\",\"Agree\",\"Strongly Agree\",\"Strongly Agree\",\"Agree\",\"Agree\",\"Strongly Agree\",\"Agree\",\"Strongly Agree\",\"No answer\"],[\"5.26.2023 10:39:24\",\"Bachelor\",\"International Economic Relations\",\"Female\",\"Agree\",\"Agree\",\"Agree\",\"Agree\",\"Agree\",\"Agree\",\"Neutral\",\"Strongly Agree\",\"Agree\",\"Agree\",\"Agree\",\"Agree\",\"Agree\",\"Agree\",\"Agree\",\"Strongly Agree\",\"Agree\",\"Agree\",\"Disagree\",\"Neutral\",\"Neutral\",\"Neutral\",\"Neutral\",\"Neutral\",\"Agree\",\"Agree\",\"Agree\",\"Neutral\",\"No answer\"],[\"5.26.2023 13:18:12\",\"Bachelor\",\"International Economic Relations\",\"Female\",\"Agree\",\"Neutral\",\"Disagree\",\"Disagree\",\"Disagree\",\"Disagree\",\"Agree\",\"Agree\",\"Agree\",\"Agree\",\"Agree\",\"Agree\",\"Agree\",\"Agree\",\"Neutral\",\"Agree\",\"Agree\",\"Neutral\",\"Agree\",\"Agree\",\"Agree\",\"Agree\",\"Agree\",\"Agree\",\"Agree\",\"Neutral\",\"Agree\",\"Agree\",\"No answer\"],[\"5.26.2023 15:44:55\",\"Bachelor\",\"International Economic Relations\",\"Female\",\"Agree\",\"Neutral\",\"Agree\",\"Agree\",\"Agree\",\"Agree\",\"Agree\",\"Agree\",\"Agree\",\"Agree\",\"Agree\",\"Agree\",\"Disagree\",\"Agree\",\"Disagree\",\"Neutral\",\"Neutral\",\"Agree\",\"Agree\",\"Agree\",\"Agree\",\"Disagree\",\"Neutral\",\"Neutral\",\"Agree\",\"Neutral\",\"Agree\",\"Agree\",\"ChtGPT helps me a lot in preparing for assignments and exams. I think it gives personalized answers. Perhaps it wants more improvements in his emotional competence. But I don't think its use should be overdone.0\"],[\"5.26.2023 21:43:23\",\"Bachelor\",\"Finance\",\"Female\",\"Neutral\",\"Neutral\",\"Disagree\",\"Disagree\",\"Neutral\",\"Disagree\",\"Agree\",\"Agree\",\"Agree\",\"Agree\",\"Agree\",\"Agree\",\"Agree\",\"Agree\",\"Disagree\",\"Disagree\",\"Disagree\",\"Disagree\",\"Agree\",\"Agree\",\"Agree\",\"Agree\",\"Agree\",\"Agree\",\"Agree\",\"Agree\",\"Agree\",\"Agree\",\"No answer\"],[\"5.27.2023 10:28:36\",\"Bachelor\",\"Marketing\",\"Female\",\"Agree\",\"Agree\",\"Neutral\",\"Neutral\",\"Neutral\",\"Neutral\",\"Strongly Agree\",\"Strongly Agree\",\"Strongly Agree\",\"Strongly Agree\",\"Agree\",\"Strongly Agree\",\"Strongly Agree\",\"Strongly Agree\",\"Disagree\",\"Disagree\",\"Disagree\",\"Disagree\",\"Strongly Agree\",\"Strongly Agree\",\"Strongly Agree\",\"Agree\",\"Agree\",\"Disagree\",\"Agree\",\"Neutral\",\"Agree\",\"Agree\",\"No answer\"],[\"5.31.2023 17:42:52\",\"Bachelor\",\"Finance\",\"Female\",\"Neutral\",\"Neutral\",\"Neutral\",\"Neutral\",\"Neutral\",\"Neutral\",\"Neutral\",\"Neutral\",\"Neutral\",\"Neutral\",\"Neutral\",\"Neutral\",\"Neutral\",\"Neutral\",\"Neutral\",\"Neutral\",\"Neutral\",\"Neutral\",\"Neutral\",\"Neutral\",\"Neutral\",\"Neutral\",\"Neutral\",\"Neutral\",\"Neutral\",\"Neutral\",\"Neutral\",\"Neutral\",\"I don't have any\"]],\"hovertemplate\":\"Gender=%{customdata[3]}\\u003cbr\\u003eUsage=%{x}\\u003cbr\\u003eTimestamp=%{customdata[0]}\\u003cbr\\u003eQ1=%{customdata[1]}\\u003cbr\\u003eQ2=%{customdata[2]}\\u003cbr\\u003eQ5.1=%{customdata[4]}\\u003cbr\\u003eQ5.2=%{customdata[5]}\\u003cbr\\u003eQ5.3=%{customdata[6]}\\u003cbr\\u003eQ5.4=%{customdata[7]}\\u003cbr\\u003eQ5.5=%{customdata[8]}\\u003cbr\\u003eQ5.6=%{customdata[9]}\\u003cbr\\u003eQ6.1=%{customdata[10]}\\u003cbr\\u003eQ6.2=%{customdata[11]}\\u003cbr\\u003eQ6.3=%{customdata[12]}\\u003cbr\\u003eQ6.4=%{customdata[13]}\\u003cbr\\u003eQ6.5=%{customdata[14]}\\u003cbr\\u003eQ6.6=%{customdata[15]}\\u003cbr\\u003eQ6.7=%{customdata[16]}\\u003cbr\\u003eQ6.8=%{customdata[17]}\\u003cbr\\u003eQ7.1=%{customdata[18]}\\u003cbr\\u003eQ7.2=%{customdata[19]}\\u003cbr\\u003eQ7.3=%{customdata[20]}\\u003cbr\\u003eQ7.4=%{customdata[21]}\\u003cbr\\u003eQ8.1=%{customdata[22]}\\u003cbr\\u003eQ8.2=%{customdata[23]}\\u003cbr\\u003eQ8.3=%{customdata[24]}\\u003cbr\\u003eQ8.4=%{customdata[25]}\\u003cbr\\u003eQ8.5=%{customdata[26]}\\u003cbr\\u003eQ9.1=%{customdata[27]}\\u003cbr\\u003eQ9.2=%{customdata[28]}\\u003cbr\\u003eQ9.3=%{customdata[29]}\\u003cbr\\u003eQ9.4=%{customdata[30]}\\u003cbr\\u003eQ9.5=%{customdata[31]}\\u003cbr\\u003eQ10=%{customdata[32]}\\u003cextra\\u003e\\u003c\\u002fextra\\u003e\",\"legendgroup\":\"Female\",\"marker\":{\"color\":\"#636efa\"},\"name\":\"Female\",\"notched\":true,\"offsetgroup\":\"Female\",\"showlegend\":false,\"x\":[\"Often\",\"Sometimes\",\"Rarely\",\"Rarely\",\"Sometimes\",\"Often\",\"Rarely\",\"Sometimes\",\"Rarely\",\"Rarely\",\"Sometimes\",\"Very often\",\"Rarely\",\"Never\",\"Rarely\",\"Sometimes\",\"Often\",\"Sometimes\",\"Rarely\",\"Sometimes\",\"Often\",\"Sometimes\",\"Sometimes\",\"Sometimes\",\"Sometimes\",\"Never\",\"Rarely\",\"Rarely\",\"Sometimes\",\"Often\",\"Rarely\",\"Sometimes\",\"Rarely\",\"Sometimes\",\"Sometimes\",\"Never\",\"Often\",\"Often\",\"Rarely\",\"Sometimes\",\"Sometimes\",\"Sometimes\",\"Often\",\"Very often\",\"Rarely\",\"Sometimes\",\"Rarely\",\"Very often\",\"Rarely\",\"Often\",\"Sometimes\",\"Sometimes\",\"Rarely\",\"Sometimes\",\"Sometimes\",\"Sometimes\",\"Often\",\"Sometimes\",\"Sometimes\",\"Often\",\"Rarely\",\"Never\",\"Sometimes\",\"Never\",\"Often\",\"Rarely\",\"Never\",\"Never\",\"Never\",\"Sometimes\",\"Never\",\"Sometimes\",\"Never\",\"Sometimes\",\"Rarely\",\"Sometimes\",\"Often\",\"Sometimes\",\"Often\",\"Rarely\",\"Rarely\",\"Rarely\",\"Never\",\"Rarely\",\"Never\",\"Rarely\",\"Sometimes\",\"Sometimes\",\"Sometimes\",\"Sometimes\",\"Sometimes\",\"Sometimes\",\"Often\",\"Rarely\",\"Rarely\",\"Sometimes\",\"Rarely\",\"Sometimes\",\"Sometimes\",\"Very often\",\"Often\",\"Often\",\"Sometimes\",\"Rarely\",\"Sometimes\",\"Often\",\"Never\",\"Very often\",\"Rarely\"],\"xaxis\":\"x2\",\"yaxis\":\"y2\",\"type\":\"box\"},{\"alignmentgroup\":\"True\",\"bingroup\":\"x\",\"hovertemplate\":\"Gender=Male\\u003cbr\\u003eUsage=%{x}\\u003cbr\\u003ecount=%{y}\\u003cextra\\u003e\\u003c\\u002fextra\\u003e\",\"legendgroup\":\"Male\",\"marker\":{\"color\":\"#EF553B\",\"pattern\":{\"shape\":\"\"}},\"name\":\"Male\",\"offsetgroup\":\"Male\",\"orientation\":\"v\",\"showlegend\":true,\"x\":[\"Rarely\",\"Sometimes\",\"Rarely\",\"Sometimes\",\"Sometimes\",\"Very often\",\"Sometimes\",\"Never\",\"Often\",\"Sometimes\",\"Often\",\"Sometimes\",\"Sometimes\",\"Often\",\"Sometimes\",\"Often\",\"Rarely\",\"Rarely\",\"Often\",\"Sometimes\",\"Sometimes\",\"Often\"],\"xaxis\":\"x\",\"yaxis\":\"y\",\"type\":\"histogram\"},{\"alignmentgroup\":\"True\",\"customdata\":[[\"5.15.2023 15:23:54\",\"Bachelor\",\"International Economic Relations\",\"Male\",\"Strongly Agree\",\"Agree\",\"Agree\",\"Disagree\",\"Agree\",\"Strongly Agree\",\"Agree\",\"Agree\",\"Neutral\",\"Agree\",\"Disagree\",\"Strongly Agree\",\"Agree\",\"Neutral\",\"Strongly Agree\",\"Neutral\",\"Disagree\",\"Strongly Disagree\",\"Strongly Agree\",\"Agree\",\"Neutral\",\"Disagree\",\"Strongly Disagree\",\"Neutral\",\"Agree\",\"Neutral\",\"Strongly Disagree\",\"Disagree\",\"AI should not be overused by either students or teachers. Assessments should be based on knowledge and skills. They should be done person to person.\"],[\"5.15.2023 15:24:12\",\"Bachelor\",\"International Economic Relations\",\"Male\",\"Neutral\",\"Agree\",\"Agree\",\"Neutral\",\"Neutral\",\"Strongly Agree\",\"Agree\",\"Agree\",\"Neutral\",\"Strongly Agree\",\"Neutral\",\"Strongly Agree\",\"Agree\",\"Neutral\",\"Agree\",\"Disagree\",\"Disagree\",\"Agree\",\"Agree\",\"Agree\",\"Agree\",\"Neutral\",\"Neutral\",\"Agree\",\"Neutral\",\"Neutral\",\"Agree\",\"Neutral\",\"I like them.\"],[\"5.15.2023 19:17:51\",\"Master\",\"Economics\",\"Male\",\"Disagree\",\"Agree\",\"Agree\",\"Neutral\",\"Disagree\",\"Strongly Disagree\",\"Strongly Agree\",\"Strongly Agree\",\"Strongly Agree\",\"Strongly Agree\",\"Strongly Agree\",\"Strongly Agree\",\"Strongly Agree\",\"Strongly Agree\",\"Strongly Disagree\",\"Strongly Disagree\",\"Strongly Disagree\",\"Agree\",\"Neutral\",\"Agree\",\"Agree\",\"Agree\",\"Neutral\",\"Agree\",\"Neutral\",\"Neutral\",\"Agree\",\"Neutral\",\"A specialized course could be created to prepare students to use of generative artificial intelligence.\"],[\"5.15.2023 19:26:12\",\"Bachelor\",\"Economics\",\"Male\",\"Neutral\",\"Agree\",\"Agree\",\"Neutral\",\"Neutral\",\"Strongly Agree\",\"Strongly Agree\",\"Strongly Agree\",\"Strongly Agree\",\"Strongly Agree\",\"Agree\",\"Agree\",\"Strongly Agree\",\"Neutral\",\"Disagree\",\"Disagree\",\"Disagree\",\"Neutral\",\"Neutral\",\"Agree\",\"Agree\",\"Neutral\",\"Neutral\",\"Agree\",\"Neutral\",\"Neutral\",\"Neutral\",\"Disagree\",\"Educators should familiarize more students with the capabilities of generative artificial intelligence in education.\"],[\"5.16.2023 9:08:31\",\"Bachelor\",\"Marketing\",\"Male\",\"Neutral\",\"Agree\",\"Agree\",\"Disagree\",\"Neutral\",\"Neutral\",\"Neutral\",\"Strongly Agree\",\"Disagree\",\"Agree\",\"Neutral\",\"Agree\",\"Agree\",\"Agree\",\"Disagree\",\"Neutral\",\"Neutral\",\"Agree\",\"Agree\",\"Disagree\",\"Neutral\",\"Disagree\",\"Disagree\",\"Agree\",\"Neutral\",\"Disagree\",\"Disagree\",\"Agree\",\"No answer\"],[\"5.16.2023 9:12:48\",\"Bachelor\",\"Marketing\",\"Male\",\"Strongly Agree\",\"Strongly Agree\",\"Strongly Agree\",\"Neutral\",\"Disagree\",\"Agree\",\"Agree\",\"Strongly Agree\",\"Agree\",\"Strongly Agree\",\"Neutral\",\"Agree\",\"Agree\",\"Agree\",\"Disagree\",\"Disagree\",\"Disagree\",\"Agree\",\"Agree\",\"Agree\",\"Agree\",\"Disagree\",\"Neutral\",\"Agree\",\"Disagree\",\"Disagree\",\"Agree\",\"Neutral\",\"No answer\"],[\"5.16.2023 9:12:52\",\"Bachelor\",\"Marketing\",\"Male\",\"Agree\",\"Neutral\",\"Disagree\",\"Disagree\",\"Disagree\",\"Neutral\",\"Agree\",\"Agree\",\"Agree\",\"Agree\",\"Neutral\",\"Agree\",\"Agree\",\"Agree\",\"Neutral\",\"Agree\",\"Agree\",\"Disagree\",\"Agree\",\"Agree\",\"Strongly Agree\",\"Agree\",\"Agree\",\"Agree\",\"Agree\",\"Agree\",\"Agree\",\"Neutral\",\"Generative artificial intelligence technologies are definitely of great benefit to higher education because they support the work of students during their studies. ChatGPT is certainly changing the attitude towards artificial intelligence and intelligent chatbots.\"],[\"5.16.2023 9:16:31\",\"Bachelor\",\"Marketing\",\"Male\",\"Agree\",\"Agree\",\"Disagree\",\"Disagree\",\"Disagree\",\"Agree\",\"Agree\",\"Strongly Agree\",\"Neutral\",\"Strongly Agree\",\"Neutral\",\"Agree\",\"Agree\",\"Agree\",\"Agree\",\"Agree\",\"Agree\",\"Agree\",\"Agree\",\"Strongly Agree\",\"Neutral\",\"Disagree\",\"Agree\",\"Agree\",\"Agree\",\"Agree\",\"Agree\",\"Agree\",\"No answer\"],[\"5.16.2023 10:36:30\",\"Bachelor\",\"Accounting\",\"Male\",\"Strongly Agree\",\"Neutral\",\"Agree\",\"Agree\",\"Agree\",\"Agree\",\"Agree\",\"Agree\",\"Strongly Agree\",\"Strongly Agree\",\"Strongly Agree\",\"Strongly Agree\",\"Strongly Agree\",\"Strongly Agree\",\"Strongly Agree\",\"Strongly Agree\",\"Strongly Agree\",\"Strongly Disagree\",\"Agree\",\"Strongly Agree\",\"Strongly Agree\",\"Strongly Agree\",\"Strongly Agree\",\"Agree\",\"Agree\",\"Agree\",\"Strongly Agree\",\"Strongly Agree\",\"No answer\"],[\"5.16.2023 10:38:58\",\"Bachelor\",\"Accounting\",\"Male\",\"Disagree\",\"Disagree\",\"Agree\",\"Agree\",\"Neutral\",\"Disagree\",\"Strongly Agree\",\"Strongly Agree\",\"Strongly Agree\",\"Strongly Agree\",\"Strongly Agree\",\"Agree\",\"Strongly Agree\",\"Strongly Agree\",\"Agree\",\"Agree\",\"Neutral\",\"Agree\",\"Strongly Agree\",\"Agree\",\"Strongly Agree\",\"Neutral\",\"Neutral\",\"Neutral\",\"Agree\",\"Agree\",\"Disagree\",\"Neutral\",\"AI is useful for searching for additional information and helping students prepare projects in less time, but there is still a fine line that learners must cross. They should definitely not become dependent on the use of artificial intelligence in the learning process because it will adversely affect their individual skills.\"],[\"5.16.2023 12:14:35\",\"Bachelor\",\"Finance\",\"Male\",\"Neutral\",\"Agree\",\"Disagree\",\"Neutral\",\"Agree\",\"Agree\",\"Agree\",\"Agree\",\"Agree\",\"Strongly Agree\",\"Agree\",\"Agree\",\"Strongly Agree\",\"Agree\",\"Neutral\",\"Disagree\",\"Disagree\",\"Disagree\",\"Strongly Agree\",\"Strongly Agree\",\"Agree\",\"Strongly Agree\",\"Neutral\",\"Agree\",\"Agree\",\"Neutral\",\"Agree\",\"Neutral\",\"Artificial intelligence helps to find information faster, which makes us more expeditious in our work.\"],[\"5.16.2023 12:17:31\",\"Bachelor\",\"Finance\",\"Male\",\"Neutral\",\"Agree\",\"Agree\",\"Neutral\",\"Disagree\",\"Agree\",\"Agree\",\"Agree\",\"Agree\",\"Strongly Agree\",\"Agree\",\"Agree\",\"Agree\",\"Agree\",\"Disagree\",\"Neutral\",\"Disagree\",\"Agree\",\"Agree\",\"Agree\",\"Agree\",\"Agree\",\"Neutral\",\"Agree\",\"Neutral\",\"Neutral\",\"Agree\",\"Neutral\",\"In my personal opinion, ChatGPT currently offers a wide range of application features that I can take advantage of not only as a student, but also as a person seeking information on a given issue. I believe that over time ChatGPT will get more and more integration in education, but I don't think that for now it can replace the work of the lecturer in teaching and assessment (perhaps assessment will be possible in the near future). I definitely plan to use chatbots more often to find answers to some of my homework as well as information I need in life and practice.\"],[\"5.16.2023 12:21:48\",\"Bachelor\",\"Finance\",\"Male\",\"Disagree\",\"Strongly Agree\",\"Agree\",\"Strongly Disagree\",\"Neutral\",\"Agree\",\"Agree\",\"Neutral\",\"Agree\",\"Strongly Agree\",\"Agree\",\"Agree\",\"Agree\",\"Agree\",\"Neutral\",\"Agree\",\"Strongly Agree\",\"Disagree\",\"Agree\",\"Agree\",\"Agree\",\"Neutral\",\"Neutral\",\"Neutral\",\"Agree\",\"Neutral\",\"Strongly Disagree\",\"Disagree\",\"My opinion is that ChatGPT is useful for searching information and provides a good opportunity for students to find the information they need easier and faster. In my opinion, it can also be applied in the learning process, such as searching for information during class or through tasks for students to complete at home with the permitted use of generative artificial intelligence.\"],[\"5.16.2023 15:00:12\",\"Bachelor\",\"International Economic Relations\",\"Male\",\"Strongly Agree\",\"Strongly Agree\",\"Strongly Agree\",\"Strongly Disagree\",\"Agree\",\"Strongly Disagree\",\"Neutral\",\"Strongly Agree\",\"Agree\",\"Agree\",\"Strongly Agree\",\"Agree\",\"Strongly Agree\",\"Strongly Agree\",\"Neutral\",\"Agree\",\"Strongly Agree\",\"Agree\",\"Strongly Agree\",\"Strongly Agree\",\"Strongly Agree\",\"Neutral\",\"Neutral\",\"Disagree\",\"Disagree\",\"Disagree\",\"Agree\",\"Neutral\",\"No answer\"],[\"5.18.2023 13:38:32\",\"Bachelor\",\"Economics and Business\",\"Male\",\"Neutral\",\"Neutral\",\"Neutral\",\"Neutral\",\"Neutral\",\"Neutral\",\"Neutral\",\"Neutral\",\"Neutral\",\"Neutral\",\"Neutral\",\"Neutral\",\"Neutral\",\"Neutral\",\"Neutral\",\"Neutral\",\"Neutral\",\"Neutral\",\"Neutral\",\"Neutral\",\"Neutral\",\"Neutral\",\"Neutral\",\"Neutral\",\"Neutral\",\"Neutral\",\"Neutral\",\"Neutral\",\"I agree! I have no recommendations. ChatGPT didn't change my attitude towards artificial intelligence and intelligent chatbots :) \\u003c3\"],[\"5.18.2023 13:38:53\",\"Bachelor\",\"Economics and Business\",\"Male\",\"Disagree\",\"Agree\",\"Agree\",\"Agree\",\"Agree\",\"Agree\",\"Agree\",\"Neutral\",\"Agree\",\"Agree\",\"Agree\",\"Agree\",\"Agree\",\"Agree\",\"Agree\",\"Neutral\",\"Agree\",\"Disagree\",\"Agree\",\"Agree\",\"Agree\",\"Neutral\",\"Neutral\",\"Agree\",\"Agree\",\"Agree\",\"Agree\",\"Agree\",\"yes the chatbot assists with any information\"],[\"5.18.2023 13:43:32\",\"Bachelor\",\"Economics and Business\",\"Male\",\"Neutral\",\"Neutral\",\"Disagree\",\"Strongly Disagree\",\"Agree\",\"Disagree\",\"Agree\",\"Disagree\",\"Neutral\",\"Strongly Agree\",\"Strongly Disagree\",\"Strongly Agree\",\"Neutral\",\"Strongly Agree\",\"Agree\",\"Disagree\",\"Agree\",\"Strongly Agree\",\"Strongly Disagree\",\"Neutral\",\"Strongly Disagree\",\"Strongly Disagree\",\"Neutral\",\"Agree\",\"Agree\",\"Neutral\",\"Agree\",\"Strongly Disagree\",\"ChatGPT has changed my ideas but to a large extent. However, it is paid and we as students cannot use its full capacity. It can improve the work of students and teachers in emergency cases providing lessons and even transmitted them in an understandable way. After that, we have to learn, well, we just have to rely on it. Both students and teachers still have ways to improve, but they would definitely improve the learning process by showing steps and even solutions to tasks that even the teachers don't know and by interesting way keeping learners' attention and possibly improving their success.\"],[\"5.21.2023 16:21:58\",\"Bachelor\",\"International Economic Relations\",\"Male\",\"Neutral\",\"Disagree\",\"Neutral\",\"Agree\",\"Neutral\",\"Agree\",\"Strongly Agree\",\"Agree\",\"Neutral\",\"Neutral\",\"Agree\",\"Neutral\",\"Agree\",\"Neutral\",\"Neutral\",\"Neutral\",\"Disagree\",\"Neutral\",\"Agree\",\"Neutral\",\"Disagree\",\"Neutral\",\"Neutral\",\"Strongly Disagree\",\"Disagree\",\"Disagree\",\"Neutral\",\"Agree\",\" \"],[\"5.21.2023 23:07:20\",\"Bachelor\",\"Marketing\",\"Male\",\"Neutral\",\"Agree\",\"Agree\",\"Disagree\",\"Neutral\",\"Disagree\",\"Disagree\",\"Agree\",\"Neutral\",\"Agree\",\"Neutral\",\"Strongly Agree\",\"Strongly Agree\",\"Agree\",\"Agree\",\"Disagree\",\"Disagree\",\"Agree\",\"Agree\",\"Agree\",\"Agree\",\"Disagree\",\"Disagree\",\"Agree\",\"Disagree\",\"Disagree\",\"Neutral\",\"Disagree\",\"No answer\"],[\"5.22.2023 18:13:33\",\"Bachelor\",\"Economics and Business\",\"Male\",\"Disagree\",\"Agree\",\"Agree\",\"Strongly Disagree\",\"Neutral\",\"Disagree\",\"Agree\",\"Agree\",\"Agree\",\"Agree\",\"Agree\",\"Agree\",\"Agree\",\"Agree\",\"Agree\",\"Agree\",\"Agree\",\"Agree\",\"Agree\",\"Agree\",\"Agree\",\"Agree\",\"Agree\",\"Agree\",\"Agree\",\"Agree\",\"Agree\",\"Agree\",\"I believe they have educational benefits, but should be used sparingly by all. ChatGPT has certainly changed my attitude towards artificial intelligence in a positive way\"],[\"5.22.2023 22:31:13\",\"Bachelor\",\"Public Administration\",\"Male\",\"Disagree\",\"Disagree\",\"Disagree\",\"Neutral\",\"Neutral\",\"Agree\",\"Neutral\",\"Agree\",\"Neutral\",\"Strongly Agree\",\"Agree\",\"Agree\",\"Strongly Agree\",\"Agree\",\"Disagree\",\"Neutral\",\"Strongly Disagree\",\"Disagree\",\"Agree\",\"Agree\",\"Agree\",\"Neutral\",\"Neutral\",\"Agree\",\"Neutral\",\"Neutral\",\"Neutral\",\"Disagree\",\"No answer\"],[\"5.28.2023 0:51:54\",\"Bachelor\",\"Public Administration\",\"Male\",\"Agree\",\"Agree\",\"Agree\",\"Agree\",\"Neutral\",\"Neutral\",\"Agree\",\"Neutral\",\"Agree\",\"Strongly Agree\",\"Agree\",\"Neutral\",\"Strongly Agree\",\"Strongly Agree\",\"Disagree\",\"Strongly Agree\",\"Neutral\",\"Strongly Agree\",\"Strongly Agree\",\"Agree\",\"Agree\",\"Agree\",\"Agree\",\"Disagree\",\"Neutral\",\"Neutral\",\"Neutral\",\"Neutral\",\"No answer\"]],\"hovertemplate\":\"Gender=%{customdata[3]}\\u003cbr\\u003eUsage=%{x}\\u003cbr\\u003eTimestamp=%{customdata[0]}\\u003cbr\\u003eQ1=%{customdata[1]}\\u003cbr\\u003eQ2=%{customdata[2]}\\u003cbr\\u003eQ5.1=%{customdata[4]}\\u003cbr\\u003eQ5.2=%{customdata[5]}\\u003cbr\\u003eQ5.3=%{customdata[6]}\\u003cbr\\u003eQ5.4=%{customdata[7]}\\u003cbr\\u003eQ5.5=%{customdata[8]}\\u003cbr\\u003eQ5.6=%{customdata[9]}\\u003cbr\\u003eQ6.1=%{customdata[10]}\\u003cbr\\u003eQ6.2=%{customdata[11]}\\u003cbr\\u003eQ6.3=%{customdata[12]}\\u003cbr\\u003eQ6.4=%{customdata[13]}\\u003cbr\\u003eQ6.5=%{customdata[14]}\\u003cbr\\u003eQ6.6=%{customdata[15]}\\u003cbr\\u003eQ6.7=%{customdata[16]}\\u003cbr\\u003eQ6.8=%{customdata[17]}\\u003cbr\\u003eQ7.1=%{customdata[18]}\\u003cbr\\u003eQ7.2=%{customdata[19]}\\u003cbr\\u003eQ7.3=%{customdata[20]}\\u003cbr\\u003eQ7.4=%{customdata[21]}\\u003cbr\\u003eQ8.1=%{customdata[22]}\\u003cbr\\u003eQ8.2=%{customdata[23]}\\u003cbr\\u003eQ8.3=%{customdata[24]}\\u003cbr\\u003eQ8.4=%{customdata[25]}\\u003cbr\\u003eQ8.5=%{customdata[26]}\\u003cbr\\u003eQ9.1=%{customdata[27]}\\u003cbr\\u003eQ9.2=%{customdata[28]}\\u003cbr\\u003eQ9.3=%{customdata[29]}\\u003cbr\\u003eQ9.4=%{customdata[30]}\\u003cbr\\u003eQ9.5=%{customdata[31]}\\u003cbr\\u003eQ10=%{customdata[32]}\\u003cextra\\u003e\\u003c\\u002fextra\\u003e\",\"legendgroup\":\"Male\",\"marker\":{\"color\":\"#EF553B\"},\"name\":\"Male\",\"notched\":true,\"offsetgroup\":\"Male\",\"showlegend\":false,\"x\":[\"Rarely\",\"Sometimes\",\"Rarely\",\"Sometimes\",\"Sometimes\",\"Very often\",\"Sometimes\",\"Never\",\"Often\",\"Sometimes\",\"Often\",\"Sometimes\",\"Sometimes\",\"Often\",\"Sometimes\",\"Often\",\"Rarely\",\"Rarely\",\"Often\",\"Sometimes\",\"Sometimes\",\"Often\"],\"xaxis\":\"x2\",\"yaxis\":\"y2\",\"type\":\"box\"}],                        {\"template\":{\"data\":{\"histogram2dcontour\":[{\"type\":\"histogram2dcontour\",\"colorbar\":{\"outlinewidth\":0,\"ticks\":\"\"},\"colorscale\":[[0.0,\"#0d0887\"],[0.1111111111111111,\"#46039f\"],[0.2222222222222222,\"#7201a8\"],[0.3333333333333333,\"#9c179e\"],[0.4444444444444444,\"#bd3786\"],[0.5555555555555556,\"#d8576b\"],[0.6666666666666666,\"#ed7953\"],[0.7777777777777778,\"#fb9f3a\"],[0.8888888888888888,\"#fdca26\"],[1.0,\"#f0f921\"]]}],\"choropleth\":[{\"type\":\"choropleth\",\"colorbar\":{\"outlinewidth\":0,\"ticks\":\"\"}}],\"histogram2d\":[{\"type\":\"histogram2d\",\"colorbar\":{\"outlinewidth\":0,\"ticks\":\"\"},\"colorscale\":[[0.0,\"#0d0887\"],[0.1111111111111111,\"#46039f\"],[0.2222222222222222,\"#7201a8\"],[0.3333333333333333,\"#9c179e\"],[0.4444444444444444,\"#bd3786\"],[0.5555555555555556,\"#d8576b\"],[0.6666666666666666,\"#ed7953\"],[0.7777777777777778,\"#fb9f3a\"],[0.8888888888888888,\"#fdca26\"],[1.0,\"#f0f921\"]]}],\"heatmap\":[{\"type\":\"heatmap\",\"colorbar\":{\"outlinewidth\":0,\"ticks\":\"\"},\"colorscale\":[[0.0,\"#0d0887\"],[0.1111111111111111,\"#46039f\"],[0.2222222222222222,\"#7201a8\"],[0.3333333333333333,\"#9c179e\"],[0.4444444444444444,\"#bd3786\"],[0.5555555555555556,\"#d8576b\"],[0.6666666666666666,\"#ed7953\"],[0.7777777777777778,\"#fb9f3a\"],[0.8888888888888888,\"#fdca26\"],[1.0,\"#f0f921\"]]}],\"heatmapgl\":[{\"type\":\"heatmapgl\",\"colorbar\":{\"outlinewidth\":0,\"ticks\":\"\"},\"colorscale\":[[0.0,\"#0d0887\"],[0.1111111111111111,\"#46039f\"],[0.2222222222222222,\"#7201a8\"],[0.3333333333333333,\"#9c179e\"],[0.4444444444444444,\"#bd3786\"],[0.5555555555555556,\"#d8576b\"],[0.6666666666666666,\"#ed7953\"],[0.7777777777777778,\"#fb9f3a\"],[0.8888888888888888,\"#fdca26\"],[1.0,\"#f0f921\"]]}],\"contourcarpet\":[{\"type\":\"contourcarpet\",\"colorbar\":{\"outlinewidth\":0,\"ticks\":\"\"}}],\"contour\":[{\"type\":\"contour\",\"colorbar\":{\"outlinewidth\":0,\"ticks\":\"\"},\"colorscale\":[[0.0,\"#0d0887\"],[0.1111111111111111,\"#46039f\"],[0.2222222222222222,\"#7201a8\"],[0.3333333333333333,\"#9c179e\"],[0.4444444444444444,\"#bd3786\"],[0.5555555555555556,\"#d8576b\"],[0.6666666666666666,\"#ed7953\"],[0.7777777777777778,\"#fb9f3a\"],[0.8888888888888888,\"#fdca26\"],[1.0,\"#f0f921\"]]}],\"surface\":[{\"type\":\"surface\",\"colorbar\":{\"outlinewidth\":0,\"ticks\":\"\"},\"colorscale\":[[0.0,\"#0d0887\"],[0.1111111111111111,\"#46039f\"],[0.2222222222222222,\"#7201a8\"],[0.3333333333333333,\"#9c179e\"],[0.4444444444444444,\"#bd3786\"],[0.5555555555555556,\"#d8576b\"],[0.6666666666666666,\"#ed7953\"],[0.7777777777777778,\"#fb9f3a\"],[0.8888888888888888,\"#fdca26\"],[1.0,\"#f0f921\"]]}],\"mesh3d\":[{\"type\":\"mesh3d\",\"colorbar\":{\"outlinewidth\":0,\"ticks\":\"\"}}],\"scatter\":[{\"marker\":{\"line\":{\"color\":\"#283442\"}},\"type\":\"scatter\"}],\"parcoords\":[{\"type\":\"parcoords\",\"line\":{\"colorbar\":{\"outlinewidth\":0,\"ticks\":\"\"}}}],\"scatterpolargl\":[{\"type\":\"scatterpolargl\",\"marker\":{\"colorbar\":{\"outlinewidth\":0,\"ticks\":\"\"}}}],\"bar\":[{\"error_x\":{\"color\":\"#f2f5fa\"},\"error_y\":{\"color\":\"#f2f5fa\"},\"marker\":{\"line\":{\"color\":\"rgb(17,17,17)\",\"width\":0.5},\"pattern\":{\"fillmode\":\"overlay\",\"size\":10,\"solidity\":0.2}},\"type\":\"bar\"}],\"scattergeo\":[{\"type\":\"scattergeo\",\"marker\":{\"colorbar\":{\"outlinewidth\":0,\"ticks\":\"\"}}}],\"scatterpolar\":[{\"type\":\"scatterpolar\",\"marker\":{\"colorbar\":{\"outlinewidth\":0,\"ticks\":\"\"}}}],\"histogram\":[{\"marker\":{\"pattern\":{\"fillmode\":\"overlay\",\"size\":10,\"solidity\":0.2}},\"type\":\"histogram\"}],\"scattergl\":[{\"marker\":{\"line\":{\"color\":\"#283442\"}},\"type\":\"scattergl\"}],\"scatter3d\":[{\"type\":\"scatter3d\",\"line\":{\"colorbar\":{\"outlinewidth\":0,\"ticks\":\"\"}},\"marker\":{\"colorbar\":{\"outlinewidth\":0,\"ticks\":\"\"}}}],\"scattermapbox\":[{\"type\":\"scattermapbox\",\"marker\":{\"colorbar\":{\"outlinewidth\":0,\"ticks\":\"\"}}}],\"scatterternary\":[{\"type\":\"scatterternary\",\"marker\":{\"colorbar\":{\"outlinewidth\":0,\"ticks\":\"\"}}}],\"scattercarpet\":[{\"type\":\"scattercarpet\",\"marker\":{\"colorbar\":{\"outlinewidth\":0,\"ticks\":\"\"}}}],\"carpet\":[{\"aaxis\":{\"endlinecolor\":\"#A2B1C6\",\"gridcolor\":\"#506784\",\"linecolor\":\"#506784\",\"minorgridcolor\":\"#506784\",\"startlinecolor\":\"#A2B1C6\"},\"baxis\":{\"endlinecolor\":\"#A2B1C6\",\"gridcolor\":\"#506784\",\"linecolor\":\"#506784\",\"minorgridcolor\":\"#506784\",\"startlinecolor\":\"#A2B1C6\"},\"type\":\"carpet\"}],\"table\":[{\"cells\":{\"fill\":{\"color\":\"#506784\"},\"line\":{\"color\":\"rgb(17,17,17)\"}},\"header\":{\"fill\":{\"color\":\"#2a3f5f\"},\"line\":{\"color\":\"rgb(17,17,17)\"}},\"type\":\"table\"}],\"barpolar\":[{\"marker\":{\"line\":{\"color\":\"rgb(17,17,17)\",\"width\":0.5},\"pattern\":{\"fillmode\":\"overlay\",\"size\":10,\"solidity\":0.2}},\"type\":\"barpolar\"}],\"pie\":[{\"automargin\":true,\"type\":\"pie\"}]},\"layout\":{\"autotypenumbers\":\"strict\",\"colorway\":[\"#636efa\",\"#EF553B\",\"#00cc96\",\"#ab63fa\",\"#FFA15A\",\"#19d3f3\",\"#FF6692\",\"#B6E880\",\"#FF97FF\",\"#FECB52\"],\"font\":{\"color\":\"#f2f5fa\"},\"hovermode\":\"closest\",\"hoverlabel\":{\"align\":\"left\"},\"paper_bgcolor\":\"rgb(17,17,17)\",\"plot_bgcolor\":\"rgb(17,17,17)\",\"polar\":{\"bgcolor\":\"rgb(17,17,17)\",\"angularaxis\":{\"gridcolor\":\"#506784\",\"linecolor\":\"#506784\",\"ticks\":\"\"},\"radialaxis\":{\"gridcolor\":\"#506784\",\"linecolor\":\"#506784\",\"ticks\":\"\"}},\"ternary\":{\"bgcolor\":\"rgb(17,17,17)\",\"aaxis\":{\"gridcolor\":\"#506784\",\"linecolor\":\"#506784\",\"ticks\":\"\"},\"baxis\":{\"gridcolor\":\"#506784\",\"linecolor\":\"#506784\",\"ticks\":\"\"},\"caxis\":{\"gridcolor\":\"#506784\",\"linecolor\":\"#506784\",\"ticks\":\"\"}},\"coloraxis\":{\"colorbar\":{\"outlinewidth\":0,\"ticks\":\"\"}},\"colorscale\":{\"sequential\":[[0.0,\"#0d0887\"],[0.1111111111111111,\"#46039f\"],[0.2222222222222222,\"#7201a8\"],[0.3333333333333333,\"#9c179e\"],[0.4444444444444444,\"#bd3786\"],[0.5555555555555556,\"#d8576b\"],[0.6666666666666666,\"#ed7953\"],[0.7777777777777778,\"#fb9f3a\"],[0.8888888888888888,\"#fdca26\"],[1.0,\"#f0f921\"]],\"sequentialminus\":[[0.0,\"#0d0887\"],[0.1111111111111111,\"#46039f\"],[0.2222222222222222,\"#7201a8\"],[0.3333333333333333,\"#9c179e\"],[0.4444444444444444,\"#bd3786\"],[0.5555555555555556,\"#d8576b\"],[0.6666666666666666,\"#ed7953\"],[0.7777777777777778,\"#fb9f3a\"],[0.8888888888888888,\"#fdca26\"],[1.0,\"#f0f921\"]],\"diverging\":[[0,\"#8e0152\"],[0.1,\"#c51b7d\"],[0.2,\"#de77ae\"],[0.3,\"#f1b6da\"],[0.4,\"#fde0ef\"],[0.5,\"#f7f7f7\"],[0.6,\"#e6f5d0\"],[0.7,\"#b8e186\"],[0.8,\"#7fbc41\"],[0.9,\"#4d9221\"],[1,\"#276419\"]]},\"xaxis\":{\"gridcolor\":\"#283442\",\"linecolor\":\"#506784\",\"ticks\":\"\",\"title\":{\"standoff\":15},\"zerolinecolor\":\"#283442\",\"automargin\":true,\"zerolinewidth\":2},\"yaxis\":{\"gridcolor\":\"#283442\",\"linecolor\":\"#506784\",\"ticks\":\"\",\"title\":{\"standoff\":15},\"zerolinecolor\":\"#283442\",\"automargin\":true,\"zerolinewidth\":2},\"scene\":{\"xaxis\":{\"backgroundcolor\":\"rgb(17,17,17)\",\"gridcolor\":\"#506784\",\"linecolor\":\"#506784\",\"showbackground\":true,\"ticks\":\"\",\"zerolinecolor\":\"#C8D4E3\",\"gridwidth\":2},\"yaxis\":{\"backgroundcolor\":\"rgb(17,17,17)\",\"gridcolor\":\"#506784\",\"linecolor\":\"#506784\",\"showbackground\":true,\"ticks\":\"\",\"zerolinecolor\":\"#C8D4E3\",\"gridwidth\":2},\"zaxis\":{\"backgroundcolor\":\"rgb(17,17,17)\",\"gridcolor\":\"#506784\",\"linecolor\":\"#506784\",\"showbackground\":true,\"ticks\":\"\",\"zerolinecolor\":\"#C8D4E3\",\"gridwidth\":2}},\"shapedefaults\":{\"line\":{\"color\":\"#f2f5fa\"}},\"annotationdefaults\":{\"arrowcolor\":\"#f2f5fa\",\"arrowhead\":0,\"arrowwidth\":1},\"geo\":{\"bgcolor\":\"rgb(17,17,17)\",\"landcolor\":\"rgb(17,17,17)\",\"subunitcolor\":\"#506784\",\"showland\":true,\"showlakes\":true,\"lakecolor\":\"rgb(17,17,17)\"},\"title\":{\"x\":0.05},\"updatemenudefaults\":{\"bgcolor\":\"#506784\",\"borderwidth\":0},\"sliderdefaults\":{\"bgcolor\":\"#C8D4E3\",\"borderwidth\":1,\"bordercolor\":\"rgb(17,17,17)\",\"tickwidth\":0},\"mapbox\":{\"style\":\"dark\"}}},\"xaxis\":{\"anchor\":\"y\",\"domain\":[0.0,1.0],\"title\":{\"text\":\"Usage\"}},\"yaxis\":{\"anchor\":\"x\",\"domain\":[0.0,0.7326],\"title\":{\"text\":\"count\"}},\"xaxis2\":{\"anchor\":\"y2\",\"domain\":[0.0,1.0],\"matches\":\"x\",\"showticklabels\":false,\"showgrid\":true},\"yaxis2\":{\"anchor\":\"x2\",\"domain\":[0.7426,1.0],\"matches\":\"y2\",\"showticklabels\":false,\"showline\":false,\"ticks\":\"\",\"showgrid\":false},\"legend\":{\"title\":{\"text\":\"Gender\"},\"tracegroupgap\":0},\"title\":{\"text\":\"Distribution of Usage (Q4) by Gender (Q3) and ChatGPT usage\"},\"barmode\":\"relative\",\"width\":1200,\"height\":800},                        {\"responsive\": true}                    ).then(function(){\n",
       "                            \n",
       "var gd = document.getElementById('e1c85619-af00-47c5-baca-a303ce629bed');\n",
       "var x = new MutationObserver(function (mutations, observer) {{\n",
       "        var display = window.getComputedStyle(gd).display;\n",
       "        if (!display || display === 'none') {{\n",
       "            console.log([gd, 'removed!']);\n",
       "            Plotly.purge(gd);\n",
       "            observer.disconnect();\n",
       "        }}\n",
       "}});\n",
       "\n",
       "// Listen for the removal of the full notebook cells\n",
       "var notebookContainer = gd.closest('#notebook-container');\n",
       "if (notebookContainer) {{\n",
       "    x.observe(notebookContainer, {childList: true});\n",
       "}}\n",
       "\n",
       "// Listen for the clearing of the current output cell\n",
       "var outputEl = gd.closest('.output');\n",
       "if (outputEl) {{\n",
       "    x.observe(outputEl, {childList: true});\n",
       "}}\n",
       "\n",
       "                        })                };                });            </script>        </div>"
      ]
     },
     "metadata": {},
     "output_type": "display_data"
    }
   ],
   "execution_count": 57
  },
  {
   "metadata": {
    "ExecuteTime": {
     "end_time": "2024-09-17T18:43:39.143892Z",
     "start_time": "2024-09-17T18:43:39.108201Z"
    }
   },
   "cell_type": "code",
   "source": [
    "total_count = gender_usage.group_by('Q3').agg(\n",
    "    pl.sum('Count').alias('Total')\n",
    ")\n",
    "\n",
    "gender_usage_normalized = gender_usage.join(total_count, on='Q3')\n",
    "\n",
    "gender_usage_normalized = gender_usage_normalized.with_columns(\n",
    "    (pl.col('Count') / pl.col('Total') * 100).alias('Percentage')\n",
    ")\n",
    "\n",
    "fig = px.bar(\n",
    "    gender_usage_normalized,\n",
    "    x='Q4',\n",
    "    y='Percentage',\n",
    "    color='Q3',\n",
    "    barmode='group',\n",
    "    title='Normalized Usage Distribution by Gender',\n",
    "    labels={'Q4': 'Usage', 'Percentage': 'Percentage (%)', 'Q3': 'Gender'},\n",
    "    text='Percentage',\n",
    ")\n",
    "\n",
    "fig.update_traces(\n",
    "    textposition='outside',\n",
    "    texttemplate='%{text:.2f}%',\n",
    ")\n",
    "\n",
    "fig.show()"
   ],
   "id": "133e071e33a487e",
   "outputs": [
    {
     "data": {
      "application/vnd.plotly.v1+json": {
       "data": [
        {
         "alignmentgroup": "True",
         "hovertemplate": "Gender=Female<br>Usage=%{x}<br>Percentage (%)=%{text}<extra></extra>",
         "legendgroup": "Female",
         "marker": {
          "color": "#636efa",
          "pattern": {
           "shape": ""
          }
         },
         "name": "Female",
         "offsetgroup": "Female",
         "orientation": "v",
         "showlegend": true,
         "text": [
          11.926605504587156,
          4.587155963302752,
          16.51376146788991,
          27.522935779816514,
          39.44954128440367
         ],
         "textposition": "outside",
         "x": [
          "Never",
          "Very often",
          "Often",
          "Rarely",
          "Sometimes"
         ],
         "xaxis": "x",
         "y": [
          11.926605504587156,
          4.587155963302752,
          16.51376146788991,
          27.522935779816514,
          39.44954128440367
         ],
         "yaxis": "y",
         "type": "bar",
         "texttemplate": "%{text:.2f}%"
        },
        {
         "alignmentgroup": "True",
         "hovertemplate": "Gender=Male<br>Usage=%{x}<br>Percentage (%)=%{text}<extra></extra>",
         "legendgroup": "Male",
         "marker": {
          "color": "#EF553B",
          "pattern": {
           "shape": ""
          }
         },
         "name": "Male",
         "offsetgroup": "Male",
         "orientation": "v",
         "showlegend": true,
         "text": [
          45.45454545454545,
          4.545454545454546,
          27.27272727272727,
          4.545454545454546,
          18.181818181818183
         ],
         "textposition": "outside",
         "x": [
          "Sometimes",
          "Never",
          "Often",
          "Very often",
          "Rarely"
         ],
         "xaxis": "x",
         "y": [
          45.45454545454545,
          4.545454545454546,
          27.27272727272727,
          4.545454545454546,
          18.181818181818183
         ],
         "yaxis": "y",
         "type": "bar",
         "texttemplate": "%{text:.2f}%"
        }
       ],
       "layout": {
        "template": {
         "data": {
          "histogram2dcontour": [
           {
            "type": "histogram2dcontour",
            "colorbar": {
             "outlinewidth": 0,
             "ticks": ""
            },
            "colorscale": [
             [
              0.0,
              "#0d0887"
             ],
             [
              0.1111111111111111,
              "#46039f"
             ],
             [
              0.2222222222222222,
              "#7201a8"
             ],
             [
              0.3333333333333333,
              "#9c179e"
             ],
             [
              0.4444444444444444,
              "#bd3786"
             ],
             [
              0.5555555555555556,
              "#d8576b"
             ],
             [
              0.6666666666666666,
              "#ed7953"
             ],
             [
              0.7777777777777778,
              "#fb9f3a"
             ],
             [
              0.8888888888888888,
              "#fdca26"
             ],
             [
              1.0,
              "#f0f921"
             ]
            ]
           }
          ],
          "choropleth": [
           {
            "type": "choropleth",
            "colorbar": {
             "outlinewidth": 0,
             "ticks": ""
            }
           }
          ],
          "histogram2d": [
           {
            "type": "histogram2d",
            "colorbar": {
             "outlinewidth": 0,
             "ticks": ""
            },
            "colorscale": [
             [
              0.0,
              "#0d0887"
             ],
             [
              0.1111111111111111,
              "#46039f"
             ],
             [
              0.2222222222222222,
              "#7201a8"
             ],
             [
              0.3333333333333333,
              "#9c179e"
             ],
             [
              0.4444444444444444,
              "#bd3786"
             ],
             [
              0.5555555555555556,
              "#d8576b"
             ],
             [
              0.6666666666666666,
              "#ed7953"
             ],
             [
              0.7777777777777778,
              "#fb9f3a"
             ],
             [
              0.8888888888888888,
              "#fdca26"
             ],
             [
              1.0,
              "#f0f921"
             ]
            ]
           }
          ],
          "heatmap": [
           {
            "type": "heatmap",
            "colorbar": {
             "outlinewidth": 0,
             "ticks": ""
            },
            "colorscale": [
             [
              0.0,
              "#0d0887"
             ],
             [
              0.1111111111111111,
              "#46039f"
             ],
             [
              0.2222222222222222,
              "#7201a8"
             ],
             [
              0.3333333333333333,
              "#9c179e"
             ],
             [
              0.4444444444444444,
              "#bd3786"
             ],
             [
              0.5555555555555556,
              "#d8576b"
             ],
             [
              0.6666666666666666,
              "#ed7953"
             ],
             [
              0.7777777777777778,
              "#fb9f3a"
             ],
             [
              0.8888888888888888,
              "#fdca26"
             ],
             [
              1.0,
              "#f0f921"
             ]
            ]
           }
          ],
          "heatmapgl": [
           {
            "type": "heatmapgl",
            "colorbar": {
             "outlinewidth": 0,
             "ticks": ""
            },
            "colorscale": [
             [
              0.0,
              "#0d0887"
             ],
             [
              0.1111111111111111,
              "#46039f"
             ],
             [
              0.2222222222222222,
              "#7201a8"
             ],
             [
              0.3333333333333333,
              "#9c179e"
             ],
             [
              0.4444444444444444,
              "#bd3786"
             ],
             [
              0.5555555555555556,
              "#d8576b"
             ],
             [
              0.6666666666666666,
              "#ed7953"
             ],
             [
              0.7777777777777778,
              "#fb9f3a"
             ],
             [
              0.8888888888888888,
              "#fdca26"
             ],
             [
              1.0,
              "#f0f921"
             ]
            ]
           }
          ],
          "contourcarpet": [
           {
            "type": "contourcarpet",
            "colorbar": {
             "outlinewidth": 0,
             "ticks": ""
            }
           }
          ],
          "contour": [
           {
            "type": "contour",
            "colorbar": {
             "outlinewidth": 0,
             "ticks": ""
            },
            "colorscale": [
             [
              0.0,
              "#0d0887"
             ],
             [
              0.1111111111111111,
              "#46039f"
             ],
             [
              0.2222222222222222,
              "#7201a8"
             ],
             [
              0.3333333333333333,
              "#9c179e"
             ],
             [
              0.4444444444444444,
              "#bd3786"
             ],
             [
              0.5555555555555556,
              "#d8576b"
             ],
             [
              0.6666666666666666,
              "#ed7953"
             ],
             [
              0.7777777777777778,
              "#fb9f3a"
             ],
             [
              0.8888888888888888,
              "#fdca26"
             ],
             [
              1.0,
              "#f0f921"
             ]
            ]
           }
          ],
          "surface": [
           {
            "type": "surface",
            "colorbar": {
             "outlinewidth": 0,
             "ticks": ""
            },
            "colorscale": [
             [
              0.0,
              "#0d0887"
             ],
             [
              0.1111111111111111,
              "#46039f"
             ],
             [
              0.2222222222222222,
              "#7201a8"
             ],
             [
              0.3333333333333333,
              "#9c179e"
             ],
             [
              0.4444444444444444,
              "#bd3786"
             ],
             [
              0.5555555555555556,
              "#d8576b"
             ],
             [
              0.6666666666666666,
              "#ed7953"
             ],
             [
              0.7777777777777778,
              "#fb9f3a"
             ],
             [
              0.8888888888888888,
              "#fdca26"
             ],
             [
              1.0,
              "#f0f921"
             ]
            ]
           }
          ],
          "mesh3d": [
           {
            "type": "mesh3d",
            "colorbar": {
             "outlinewidth": 0,
             "ticks": ""
            }
           }
          ],
          "scatter": [
           {
            "marker": {
             "line": {
              "color": "#283442"
             }
            },
            "type": "scatter"
           }
          ],
          "parcoords": [
           {
            "type": "parcoords",
            "line": {
             "colorbar": {
              "outlinewidth": 0,
              "ticks": ""
             }
            }
           }
          ],
          "scatterpolargl": [
           {
            "type": "scatterpolargl",
            "marker": {
             "colorbar": {
              "outlinewidth": 0,
              "ticks": ""
             }
            }
           }
          ],
          "bar": [
           {
            "error_x": {
             "color": "#f2f5fa"
            },
            "error_y": {
             "color": "#f2f5fa"
            },
            "marker": {
             "line": {
              "color": "rgb(17,17,17)",
              "width": 0.5
             },
             "pattern": {
              "fillmode": "overlay",
              "size": 10,
              "solidity": 0.2
             }
            },
            "type": "bar"
           }
          ],
          "scattergeo": [
           {
            "type": "scattergeo",
            "marker": {
             "colorbar": {
              "outlinewidth": 0,
              "ticks": ""
             }
            }
           }
          ],
          "scatterpolar": [
           {
            "type": "scatterpolar",
            "marker": {
             "colorbar": {
              "outlinewidth": 0,
              "ticks": ""
             }
            }
           }
          ],
          "histogram": [
           {
            "marker": {
             "pattern": {
              "fillmode": "overlay",
              "size": 10,
              "solidity": 0.2
             }
            },
            "type": "histogram"
           }
          ],
          "scattergl": [
           {
            "marker": {
             "line": {
              "color": "#283442"
             }
            },
            "type": "scattergl"
           }
          ],
          "scatter3d": [
           {
            "type": "scatter3d",
            "line": {
             "colorbar": {
              "outlinewidth": 0,
              "ticks": ""
             }
            },
            "marker": {
             "colorbar": {
              "outlinewidth": 0,
              "ticks": ""
             }
            }
           }
          ],
          "scattermapbox": [
           {
            "type": "scattermapbox",
            "marker": {
             "colorbar": {
              "outlinewidth": 0,
              "ticks": ""
             }
            }
           }
          ],
          "scatterternary": [
           {
            "type": "scatterternary",
            "marker": {
             "colorbar": {
              "outlinewidth": 0,
              "ticks": ""
             }
            }
           }
          ],
          "scattercarpet": [
           {
            "type": "scattercarpet",
            "marker": {
             "colorbar": {
              "outlinewidth": 0,
              "ticks": ""
             }
            }
           }
          ],
          "carpet": [
           {
            "aaxis": {
             "endlinecolor": "#A2B1C6",
             "gridcolor": "#506784",
             "linecolor": "#506784",
             "minorgridcolor": "#506784",
             "startlinecolor": "#A2B1C6"
            },
            "baxis": {
             "endlinecolor": "#A2B1C6",
             "gridcolor": "#506784",
             "linecolor": "#506784",
             "minorgridcolor": "#506784",
             "startlinecolor": "#A2B1C6"
            },
            "type": "carpet"
           }
          ],
          "table": [
           {
            "cells": {
             "fill": {
              "color": "#506784"
             },
             "line": {
              "color": "rgb(17,17,17)"
             }
            },
            "header": {
             "fill": {
              "color": "#2a3f5f"
             },
             "line": {
              "color": "rgb(17,17,17)"
             }
            },
            "type": "table"
           }
          ],
          "barpolar": [
           {
            "marker": {
             "line": {
              "color": "rgb(17,17,17)",
              "width": 0.5
             },
             "pattern": {
              "fillmode": "overlay",
              "size": 10,
              "solidity": 0.2
             }
            },
            "type": "barpolar"
           }
          ],
          "pie": [
           {
            "automargin": true,
            "type": "pie"
           }
          ]
         },
         "layout": {
          "autotypenumbers": "strict",
          "colorway": [
           "#636efa",
           "#EF553B",
           "#00cc96",
           "#ab63fa",
           "#FFA15A",
           "#19d3f3",
           "#FF6692",
           "#B6E880",
           "#FF97FF",
           "#FECB52"
          ],
          "font": {
           "color": "#f2f5fa"
          },
          "hovermode": "closest",
          "hoverlabel": {
           "align": "left"
          },
          "paper_bgcolor": "rgb(17,17,17)",
          "plot_bgcolor": "rgb(17,17,17)",
          "polar": {
           "bgcolor": "rgb(17,17,17)",
           "angularaxis": {
            "gridcolor": "#506784",
            "linecolor": "#506784",
            "ticks": ""
           },
           "radialaxis": {
            "gridcolor": "#506784",
            "linecolor": "#506784",
            "ticks": ""
           }
          },
          "ternary": {
           "bgcolor": "rgb(17,17,17)",
           "aaxis": {
            "gridcolor": "#506784",
            "linecolor": "#506784",
            "ticks": ""
           },
           "baxis": {
            "gridcolor": "#506784",
            "linecolor": "#506784",
            "ticks": ""
           },
           "caxis": {
            "gridcolor": "#506784",
            "linecolor": "#506784",
            "ticks": ""
           }
          },
          "coloraxis": {
           "colorbar": {
            "outlinewidth": 0,
            "ticks": ""
           }
          },
          "colorscale": {
           "sequential": [
            [
             0.0,
             "#0d0887"
            ],
            [
             0.1111111111111111,
             "#46039f"
            ],
            [
             0.2222222222222222,
             "#7201a8"
            ],
            [
             0.3333333333333333,
             "#9c179e"
            ],
            [
             0.4444444444444444,
             "#bd3786"
            ],
            [
             0.5555555555555556,
             "#d8576b"
            ],
            [
             0.6666666666666666,
             "#ed7953"
            ],
            [
             0.7777777777777778,
             "#fb9f3a"
            ],
            [
             0.8888888888888888,
             "#fdca26"
            ],
            [
             1.0,
             "#f0f921"
            ]
           ],
           "sequentialminus": [
            [
             0.0,
             "#0d0887"
            ],
            [
             0.1111111111111111,
             "#46039f"
            ],
            [
             0.2222222222222222,
             "#7201a8"
            ],
            [
             0.3333333333333333,
             "#9c179e"
            ],
            [
             0.4444444444444444,
             "#bd3786"
            ],
            [
             0.5555555555555556,
             "#d8576b"
            ],
            [
             0.6666666666666666,
             "#ed7953"
            ],
            [
             0.7777777777777778,
             "#fb9f3a"
            ],
            [
             0.8888888888888888,
             "#fdca26"
            ],
            [
             1.0,
             "#f0f921"
            ]
           ],
           "diverging": [
            [
             0,
             "#8e0152"
            ],
            [
             0.1,
             "#c51b7d"
            ],
            [
             0.2,
             "#de77ae"
            ],
            [
             0.3,
             "#f1b6da"
            ],
            [
             0.4,
             "#fde0ef"
            ],
            [
             0.5,
             "#f7f7f7"
            ],
            [
             0.6,
             "#e6f5d0"
            ],
            [
             0.7,
             "#b8e186"
            ],
            [
             0.8,
             "#7fbc41"
            ],
            [
             0.9,
             "#4d9221"
            ],
            [
             1,
             "#276419"
            ]
           ]
          },
          "xaxis": {
           "gridcolor": "#283442",
           "linecolor": "#506784",
           "ticks": "",
           "title": {
            "standoff": 15
           },
           "zerolinecolor": "#283442",
           "automargin": true,
           "zerolinewidth": 2
          },
          "yaxis": {
           "gridcolor": "#283442",
           "linecolor": "#506784",
           "ticks": "",
           "title": {
            "standoff": 15
           },
           "zerolinecolor": "#283442",
           "automargin": true,
           "zerolinewidth": 2
          },
          "scene": {
           "xaxis": {
            "backgroundcolor": "rgb(17,17,17)",
            "gridcolor": "#506784",
            "linecolor": "#506784",
            "showbackground": true,
            "ticks": "",
            "zerolinecolor": "#C8D4E3",
            "gridwidth": 2
           },
           "yaxis": {
            "backgroundcolor": "rgb(17,17,17)",
            "gridcolor": "#506784",
            "linecolor": "#506784",
            "showbackground": true,
            "ticks": "",
            "zerolinecolor": "#C8D4E3",
            "gridwidth": 2
           },
           "zaxis": {
            "backgroundcolor": "rgb(17,17,17)",
            "gridcolor": "#506784",
            "linecolor": "#506784",
            "showbackground": true,
            "ticks": "",
            "zerolinecolor": "#C8D4E3",
            "gridwidth": 2
           }
          },
          "shapedefaults": {
           "line": {
            "color": "#f2f5fa"
           }
          },
          "annotationdefaults": {
           "arrowcolor": "#f2f5fa",
           "arrowhead": 0,
           "arrowwidth": 1
          },
          "geo": {
           "bgcolor": "rgb(17,17,17)",
           "landcolor": "rgb(17,17,17)",
           "subunitcolor": "#506784",
           "showland": true,
           "showlakes": true,
           "lakecolor": "rgb(17,17,17)"
          },
          "title": {
           "x": 0.05
          },
          "updatemenudefaults": {
           "bgcolor": "#506784",
           "borderwidth": 0
          },
          "sliderdefaults": {
           "bgcolor": "#C8D4E3",
           "borderwidth": 1,
           "bordercolor": "rgb(17,17,17)",
           "tickwidth": 0
          },
          "mapbox": {
           "style": "dark"
          }
         }
        },
        "xaxis": {
         "anchor": "y",
         "domain": [
          0.0,
          1.0
         ],
         "title": {
          "text": "Usage"
         }
        },
        "yaxis": {
         "anchor": "x",
         "domain": [
          0.0,
          1.0
         ],
         "title": {
          "text": "Percentage (%)"
         }
        },
        "legend": {
         "title": {
          "text": "Gender"
         },
         "tracegroupgap": 0
        },
        "title": {
         "text": "Normalized Usage Distribution by Gender"
        },
        "barmode": "group"
       },
       "config": {
        "plotlyServerURL": "https://plot.ly"
       }
      },
      "text/html": [
       "<div>                            <div id=\"6cf3cb01-4a9b-4475-8812-df5c939a96cd\" class=\"plotly-graph-div\" style=\"height:525px; width:100%;\"></div>            <script type=\"text/javascript\">                require([\"plotly\"], function(Plotly) {                    window.PLOTLYENV=window.PLOTLYENV || {};                                    if (document.getElementById(\"6cf3cb01-4a9b-4475-8812-df5c939a96cd\")) {                    Plotly.newPlot(                        \"6cf3cb01-4a9b-4475-8812-df5c939a96cd\",                        [{\"alignmentgroup\":\"True\",\"hovertemplate\":\"Gender=Female\\u003cbr\\u003eUsage=%{x}\\u003cbr\\u003ePercentage (%)=%{text}\\u003cextra\\u003e\\u003c\\u002fextra\\u003e\",\"legendgroup\":\"Female\",\"marker\":{\"color\":\"#636efa\",\"pattern\":{\"shape\":\"\"}},\"name\":\"Female\",\"offsetgroup\":\"Female\",\"orientation\":\"v\",\"showlegend\":true,\"text\":[11.926605504587156,4.587155963302752,16.51376146788991,27.522935779816514,39.44954128440367],\"textposition\":\"outside\",\"x\":[\"Never\",\"Very often\",\"Often\",\"Rarely\",\"Sometimes\"],\"xaxis\":\"x\",\"y\":[11.926605504587156,4.587155963302752,16.51376146788991,27.522935779816514,39.44954128440367],\"yaxis\":\"y\",\"type\":\"bar\",\"texttemplate\":\"%{text:.2f}%\"},{\"alignmentgroup\":\"True\",\"hovertemplate\":\"Gender=Male\\u003cbr\\u003eUsage=%{x}\\u003cbr\\u003ePercentage (%)=%{text}\\u003cextra\\u003e\\u003c\\u002fextra\\u003e\",\"legendgroup\":\"Male\",\"marker\":{\"color\":\"#EF553B\",\"pattern\":{\"shape\":\"\"}},\"name\":\"Male\",\"offsetgroup\":\"Male\",\"orientation\":\"v\",\"showlegend\":true,\"text\":[45.45454545454545,4.545454545454546,27.27272727272727,4.545454545454546,18.181818181818183],\"textposition\":\"outside\",\"x\":[\"Sometimes\",\"Never\",\"Often\",\"Very often\",\"Rarely\"],\"xaxis\":\"x\",\"y\":[45.45454545454545,4.545454545454546,27.27272727272727,4.545454545454546,18.181818181818183],\"yaxis\":\"y\",\"type\":\"bar\",\"texttemplate\":\"%{text:.2f}%\"}],                        {\"template\":{\"data\":{\"histogram2dcontour\":[{\"type\":\"histogram2dcontour\",\"colorbar\":{\"outlinewidth\":0,\"ticks\":\"\"},\"colorscale\":[[0.0,\"#0d0887\"],[0.1111111111111111,\"#46039f\"],[0.2222222222222222,\"#7201a8\"],[0.3333333333333333,\"#9c179e\"],[0.4444444444444444,\"#bd3786\"],[0.5555555555555556,\"#d8576b\"],[0.6666666666666666,\"#ed7953\"],[0.7777777777777778,\"#fb9f3a\"],[0.8888888888888888,\"#fdca26\"],[1.0,\"#f0f921\"]]}],\"choropleth\":[{\"type\":\"choropleth\",\"colorbar\":{\"outlinewidth\":0,\"ticks\":\"\"}}],\"histogram2d\":[{\"type\":\"histogram2d\",\"colorbar\":{\"outlinewidth\":0,\"ticks\":\"\"},\"colorscale\":[[0.0,\"#0d0887\"],[0.1111111111111111,\"#46039f\"],[0.2222222222222222,\"#7201a8\"],[0.3333333333333333,\"#9c179e\"],[0.4444444444444444,\"#bd3786\"],[0.5555555555555556,\"#d8576b\"],[0.6666666666666666,\"#ed7953\"],[0.7777777777777778,\"#fb9f3a\"],[0.8888888888888888,\"#fdca26\"],[1.0,\"#f0f921\"]]}],\"heatmap\":[{\"type\":\"heatmap\",\"colorbar\":{\"outlinewidth\":0,\"ticks\":\"\"},\"colorscale\":[[0.0,\"#0d0887\"],[0.1111111111111111,\"#46039f\"],[0.2222222222222222,\"#7201a8\"],[0.3333333333333333,\"#9c179e\"],[0.4444444444444444,\"#bd3786\"],[0.5555555555555556,\"#d8576b\"],[0.6666666666666666,\"#ed7953\"],[0.7777777777777778,\"#fb9f3a\"],[0.8888888888888888,\"#fdca26\"],[1.0,\"#f0f921\"]]}],\"heatmapgl\":[{\"type\":\"heatmapgl\",\"colorbar\":{\"outlinewidth\":0,\"ticks\":\"\"},\"colorscale\":[[0.0,\"#0d0887\"],[0.1111111111111111,\"#46039f\"],[0.2222222222222222,\"#7201a8\"],[0.3333333333333333,\"#9c179e\"],[0.4444444444444444,\"#bd3786\"],[0.5555555555555556,\"#d8576b\"],[0.6666666666666666,\"#ed7953\"],[0.7777777777777778,\"#fb9f3a\"],[0.8888888888888888,\"#fdca26\"],[1.0,\"#f0f921\"]]}],\"contourcarpet\":[{\"type\":\"contourcarpet\",\"colorbar\":{\"outlinewidth\":0,\"ticks\":\"\"}}],\"contour\":[{\"type\":\"contour\",\"colorbar\":{\"outlinewidth\":0,\"ticks\":\"\"},\"colorscale\":[[0.0,\"#0d0887\"],[0.1111111111111111,\"#46039f\"],[0.2222222222222222,\"#7201a8\"],[0.3333333333333333,\"#9c179e\"],[0.4444444444444444,\"#bd3786\"],[0.5555555555555556,\"#d8576b\"],[0.6666666666666666,\"#ed7953\"],[0.7777777777777778,\"#fb9f3a\"],[0.8888888888888888,\"#fdca26\"],[1.0,\"#f0f921\"]]}],\"surface\":[{\"type\":\"surface\",\"colorbar\":{\"outlinewidth\":0,\"ticks\":\"\"},\"colorscale\":[[0.0,\"#0d0887\"],[0.1111111111111111,\"#46039f\"],[0.2222222222222222,\"#7201a8\"],[0.3333333333333333,\"#9c179e\"],[0.4444444444444444,\"#bd3786\"],[0.5555555555555556,\"#d8576b\"],[0.6666666666666666,\"#ed7953\"],[0.7777777777777778,\"#fb9f3a\"],[0.8888888888888888,\"#fdca26\"],[1.0,\"#f0f921\"]]}],\"mesh3d\":[{\"type\":\"mesh3d\",\"colorbar\":{\"outlinewidth\":0,\"ticks\":\"\"}}],\"scatter\":[{\"marker\":{\"line\":{\"color\":\"#283442\"}},\"type\":\"scatter\"}],\"parcoords\":[{\"type\":\"parcoords\",\"line\":{\"colorbar\":{\"outlinewidth\":0,\"ticks\":\"\"}}}],\"scatterpolargl\":[{\"type\":\"scatterpolargl\",\"marker\":{\"colorbar\":{\"outlinewidth\":0,\"ticks\":\"\"}}}],\"bar\":[{\"error_x\":{\"color\":\"#f2f5fa\"},\"error_y\":{\"color\":\"#f2f5fa\"},\"marker\":{\"line\":{\"color\":\"rgb(17,17,17)\",\"width\":0.5},\"pattern\":{\"fillmode\":\"overlay\",\"size\":10,\"solidity\":0.2}},\"type\":\"bar\"}],\"scattergeo\":[{\"type\":\"scattergeo\",\"marker\":{\"colorbar\":{\"outlinewidth\":0,\"ticks\":\"\"}}}],\"scatterpolar\":[{\"type\":\"scatterpolar\",\"marker\":{\"colorbar\":{\"outlinewidth\":0,\"ticks\":\"\"}}}],\"histogram\":[{\"marker\":{\"pattern\":{\"fillmode\":\"overlay\",\"size\":10,\"solidity\":0.2}},\"type\":\"histogram\"}],\"scattergl\":[{\"marker\":{\"line\":{\"color\":\"#283442\"}},\"type\":\"scattergl\"}],\"scatter3d\":[{\"type\":\"scatter3d\",\"line\":{\"colorbar\":{\"outlinewidth\":0,\"ticks\":\"\"}},\"marker\":{\"colorbar\":{\"outlinewidth\":0,\"ticks\":\"\"}}}],\"scattermapbox\":[{\"type\":\"scattermapbox\",\"marker\":{\"colorbar\":{\"outlinewidth\":0,\"ticks\":\"\"}}}],\"scatterternary\":[{\"type\":\"scatterternary\",\"marker\":{\"colorbar\":{\"outlinewidth\":0,\"ticks\":\"\"}}}],\"scattercarpet\":[{\"type\":\"scattercarpet\",\"marker\":{\"colorbar\":{\"outlinewidth\":0,\"ticks\":\"\"}}}],\"carpet\":[{\"aaxis\":{\"endlinecolor\":\"#A2B1C6\",\"gridcolor\":\"#506784\",\"linecolor\":\"#506784\",\"minorgridcolor\":\"#506784\",\"startlinecolor\":\"#A2B1C6\"},\"baxis\":{\"endlinecolor\":\"#A2B1C6\",\"gridcolor\":\"#506784\",\"linecolor\":\"#506784\",\"minorgridcolor\":\"#506784\",\"startlinecolor\":\"#A2B1C6\"},\"type\":\"carpet\"}],\"table\":[{\"cells\":{\"fill\":{\"color\":\"#506784\"},\"line\":{\"color\":\"rgb(17,17,17)\"}},\"header\":{\"fill\":{\"color\":\"#2a3f5f\"},\"line\":{\"color\":\"rgb(17,17,17)\"}},\"type\":\"table\"}],\"barpolar\":[{\"marker\":{\"line\":{\"color\":\"rgb(17,17,17)\",\"width\":0.5},\"pattern\":{\"fillmode\":\"overlay\",\"size\":10,\"solidity\":0.2}},\"type\":\"barpolar\"}],\"pie\":[{\"automargin\":true,\"type\":\"pie\"}]},\"layout\":{\"autotypenumbers\":\"strict\",\"colorway\":[\"#636efa\",\"#EF553B\",\"#00cc96\",\"#ab63fa\",\"#FFA15A\",\"#19d3f3\",\"#FF6692\",\"#B6E880\",\"#FF97FF\",\"#FECB52\"],\"font\":{\"color\":\"#f2f5fa\"},\"hovermode\":\"closest\",\"hoverlabel\":{\"align\":\"left\"},\"paper_bgcolor\":\"rgb(17,17,17)\",\"plot_bgcolor\":\"rgb(17,17,17)\",\"polar\":{\"bgcolor\":\"rgb(17,17,17)\",\"angularaxis\":{\"gridcolor\":\"#506784\",\"linecolor\":\"#506784\",\"ticks\":\"\"},\"radialaxis\":{\"gridcolor\":\"#506784\",\"linecolor\":\"#506784\",\"ticks\":\"\"}},\"ternary\":{\"bgcolor\":\"rgb(17,17,17)\",\"aaxis\":{\"gridcolor\":\"#506784\",\"linecolor\":\"#506784\",\"ticks\":\"\"},\"baxis\":{\"gridcolor\":\"#506784\",\"linecolor\":\"#506784\",\"ticks\":\"\"},\"caxis\":{\"gridcolor\":\"#506784\",\"linecolor\":\"#506784\",\"ticks\":\"\"}},\"coloraxis\":{\"colorbar\":{\"outlinewidth\":0,\"ticks\":\"\"}},\"colorscale\":{\"sequential\":[[0.0,\"#0d0887\"],[0.1111111111111111,\"#46039f\"],[0.2222222222222222,\"#7201a8\"],[0.3333333333333333,\"#9c179e\"],[0.4444444444444444,\"#bd3786\"],[0.5555555555555556,\"#d8576b\"],[0.6666666666666666,\"#ed7953\"],[0.7777777777777778,\"#fb9f3a\"],[0.8888888888888888,\"#fdca26\"],[1.0,\"#f0f921\"]],\"sequentialminus\":[[0.0,\"#0d0887\"],[0.1111111111111111,\"#46039f\"],[0.2222222222222222,\"#7201a8\"],[0.3333333333333333,\"#9c179e\"],[0.4444444444444444,\"#bd3786\"],[0.5555555555555556,\"#d8576b\"],[0.6666666666666666,\"#ed7953\"],[0.7777777777777778,\"#fb9f3a\"],[0.8888888888888888,\"#fdca26\"],[1.0,\"#f0f921\"]],\"diverging\":[[0,\"#8e0152\"],[0.1,\"#c51b7d\"],[0.2,\"#de77ae\"],[0.3,\"#f1b6da\"],[0.4,\"#fde0ef\"],[0.5,\"#f7f7f7\"],[0.6,\"#e6f5d0\"],[0.7,\"#b8e186\"],[0.8,\"#7fbc41\"],[0.9,\"#4d9221\"],[1,\"#276419\"]]},\"xaxis\":{\"gridcolor\":\"#283442\",\"linecolor\":\"#506784\",\"ticks\":\"\",\"title\":{\"standoff\":15},\"zerolinecolor\":\"#283442\",\"automargin\":true,\"zerolinewidth\":2},\"yaxis\":{\"gridcolor\":\"#283442\",\"linecolor\":\"#506784\",\"ticks\":\"\",\"title\":{\"standoff\":15},\"zerolinecolor\":\"#283442\",\"automargin\":true,\"zerolinewidth\":2},\"scene\":{\"xaxis\":{\"backgroundcolor\":\"rgb(17,17,17)\",\"gridcolor\":\"#506784\",\"linecolor\":\"#506784\",\"showbackground\":true,\"ticks\":\"\",\"zerolinecolor\":\"#C8D4E3\",\"gridwidth\":2},\"yaxis\":{\"backgroundcolor\":\"rgb(17,17,17)\",\"gridcolor\":\"#506784\",\"linecolor\":\"#506784\",\"showbackground\":true,\"ticks\":\"\",\"zerolinecolor\":\"#C8D4E3\",\"gridwidth\":2},\"zaxis\":{\"backgroundcolor\":\"rgb(17,17,17)\",\"gridcolor\":\"#506784\",\"linecolor\":\"#506784\",\"showbackground\":true,\"ticks\":\"\",\"zerolinecolor\":\"#C8D4E3\",\"gridwidth\":2}},\"shapedefaults\":{\"line\":{\"color\":\"#f2f5fa\"}},\"annotationdefaults\":{\"arrowcolor\":\"#f2f5fa\",\"arrowhead\":0,\"arrowwidth\":1},\"geo\":{\"bgcolor\":\"rgb(17,17,17)\",\"landcolor\":\"rgb(17,17,17)\",\"subunitcolor\":\"#506784\",\"showland\":true,\"showlakes\":true,\"lakecolor\":\"rgb(17,17,17)\"},\"title\":{\"x\":0.05},\"updatemenudefaults\":{\"bgcolor\":\"#506784\",\"borderwidth\":0},\"sliderdefaults\":{\"bgcolor\":\"#C8D4E3\",\"borderwidth\":1,\"bordercolor\":\"rgb(17,17,17)\",\"tickwidth\":0},\"mapbox\":{\"style\":\"dark\"}}},\"xaxis\":{\"anchor\":\"y\",\"domain\":[0.0,1.0],\"title\":{\"text\":\"Usage\"}},\"yaxis\":{\"anchor\":\"x\",\"domain\":[0.0,1.0],\"title\":{\"text\":\"Percentage (%)\"}},\"legend\":{\"title\":{\"text\":\"Gender\"},\"tracegroupgap\":0},\"title\":{\"text\":\"Normalized Usage Distribution by Gender\"},\"barmode\":\"group\"},                        {\"responsive\": true}                    ).then(function(){\n",
       "                            \n",
       "var gd = document.getElementById('6cf3cb01-4a9b-4475-8812-df5c939a96cd');\n",
       "var x = new MutationObserver(function (mutations, observer) {{\n",
       "        var display = window.getComputedStyle(gd).display;\n",
       "        if (!display || display === 'none') {{\n",
       "            console.log([gd, 'removed!']);\n",
       "            Plotly.purge(gd);\n",
       "            observer.disconnect();\n",
       "        }}\n",
       "}});\n",
       "\n",
       "// Listen for the removal of the full notebook cells\n",
       "var notebookContainer = gd.closest('#notebook-container');\n",
       "if (notebookContainer) {{\n",
       "    x.observe(notebookContainer, {childList: true});\n",
       "}}\n",
       "\n",
       "// Listen for the clearing of the current output cell\n",
       "var outputEl = gd.closest('.output');\n",
       "if (outputEl) {{\n",
       "    x.observe(outputEl, {childList: true});\n",
       "}}\n",
       "\n",
       "                        })                };                });            </script>        </div>"
      ]
     },
     "metadata": {},
     "output_type": "display_data"
    }
   ],
   "execution_count": 58
  },
  {
   "metadata": {
    "ExecuteTime": {
     "end_time": "2024-09-17T18:43:39.193483Z",
     "start_time": "2024-09-17T18:43:39.159186Z"
    }
   },
   "cell_type": "code",
   "source": [
    "major_gender = pl_data.select(\n",
    "    pl.col(['Q3', 'Q2'])\n",
    ").group_by(\n",
    "    ['Q3', 'Q2']\n",
    ").agg(\n",
    "    pl.count('Q2').alias('Count')\n",
    ")\n",
    "\n",
    "fig = px.bar(\n",
    "    major_gender,\n",
    "    x='Q2',\n",
    "    y='Count',\n",
    "    color='Q3',\n",
    "    title='Major distribution by Gender',\n",
    "    labels={'Q2': 'Major', 'Count': 'Count'},\n",
    "    \n",
    "\n",
    "    \n",
    ")\n",
    "\n",
    "fig.show()"
   ],
   "id": "c60b83be0d37de4e",
   "outputs": [
    {
     "data": {
      "application/vnd.plotly.v1+json": {
       "data": [
        {
         "alignmentgroup": "True",
         "hovertemplate": "Q3=Female<br>Major=%{x}<br>Count=%{y}<extra></extra>",
         "legendgroup": "Female",
         "marker": {
          "color": "#636efa",
          "pattern": {
           "shape": ""
          }
         },
         "name": "Female",
         "offsetgroup": "Female",
         "orientation": "v",
         "showlegend": true,
         "textposition": "auto",
         "x": [
          "Public Administration",
          "Business Management",
          "Finance",
          "International Economic Relations",
          "Management in Tourism",
          "Accounting and Analysis",
          "Economics and Business",
          "Accounting",
          "Marketing",
          "Geography, Technologies and Entrepreneurship",
          "Ìåíèäæìúíò íà òóðèñòè÷åñêèÿ áèçíåñ"
         ],
         "xaxis": "x",
         "y": [
          2,
          6,
          21,
          11,
          6,
          1,
          10,
          24,
          26,
          1,
          1
         ],
         "yaxis": "y",
         "type": "bar"
        },
        {
         "alignmentgroup": "True",
         "hovertemplate": "Q3=Male<br>Major=%{x}<br>Count=%{y}<extra></extra>",
         "legendgroup": "Male",
         "marker": {
          "color": "#EF553B",
          "pattern": {
           "shape": ""
          }
         },
         "name": "Male",
         "offsetgroup": "Male",
         "orientation": "v",
         "showlegend": true,
         "textposition": "auto",
         "x": [
          "Accounting",
          "Economics and Business",
          "Public Administration",
          "Finance",
          "International Economic Relations",
          "Economics",
          "Marketing"
         ],
         "xaxis": "x",
         "y": [
          2,
          4,
          2,
          3,
          4,
          2,
          5
         ],
         "yaxis": "y",
         "type": "bar"
        }
       ],
       "layout": {
        "template": {
         "data": {
          "histogram2dcontour": [
           {
            "type": "histogram2dcontour",
            "colorbar": {
             "outlinewidth": 0,
             "ticks": ""
            },
            "colorscale": [
             [
              0.0,
              "#0d0887"
             ],
             [
              0.1111111111111111,
              "#46039f"
             ],
             [
              0.2222222222222222,
              "#7201a8"
             ],
             [
              0.3333333333333333,
              "#9c179e"
             ],
             [
              0.4444444444444444,
              "#bd3786"
             ],
             [
              0.5555555555555556,
              "#d8576b"
             ],
             [
              0.6666666666666666,
              "#ed7953"
             ],
             [
              0.7777777777777778,
              "#fb9f3a"
             ],
             [
              0.8888888888888888,
              "#fdca26"
             ],
             [
              1.0,
              "#f0f921"
             ]
            ]
           }
          ],
          "choropleth": [
           {
            "type": "choropleth",
            "colorbar": {
             "outlinewidth": 0,
             "ticks": ""
            }
           }
          ],
          "histogram2d": [
           {
            "type": "histogram2d",
            "colorbar": {
             "outlinewidth": 0,
             "ticks": ""
            },
            "colorscale": [
             [
              0.0,
              "#0d0887"
             ],
             [
              0.1111111111111111,
              "#46039f"
             ],
             [
              0.2222222222222222,
              "#7201a8"
             ],
             [
              0.3333333333333333,
              "#9c179e"
             ],
             [
              0.4444444444444444,
              "#bd3786"
             ],
             [
              0.5555555555555556,
              "#d8576b"
             ],
             [
              0.6666666666666666,
              "#ed7953"
             ],
             [
              0.7777777777777778,
              "#fb9f3a"
             ],
             [
              0.8888888888888888,
              "#fdca26"
             ],
             [
              1.0,
              "#f0f921"
             ]
            ]
           }
          ],
          "heatmap": [
           {
            "type": "heatmap",
            "colorbar": {
             "outlinewidth": 0,
             "ticks": ""
            },
            "colorscale": [
             [
              0.0,
              "#0d0887"
             ],
             [
              0.1111111111111111,
              "#46039f"
             ],
             [
              0.2222222222222222,
              "#7201a8"
             ],
             [
              0.3333333333333333,
              "#9c179e"
             ],
             [
              0.4444444444444444,
              "#bd3786"
             ],
             [
              0.5555555555555556,
              "#d8576b"
             ],
             [
              0.6666666666666666,
              "#ed7953"
             ],
             [
              0.7777777777777778,
              "#fb9f3a"
             ],
             [
              0.8888888888888888,
              "#fdca26"
             ],
             [
              1.0,
              "#f0f921"
             ]
            ]
           }
          ],
          "heatmapgl": [
           {
            "type": "heatmapgl",
            "colorbar": {
             "outlinewidth": 0,
             "ticks": ""
            },
            "colorscale": [
             [
              0.0,
              "#0d0887"
             ],
             [
              0.1111111111111111,
              "#46039f"
             ],
             [
              0.2222222222222222,
              "#7201a8"
             ],
             [
              0.3333333333333333,
              "#9c179e"
             ],
             [
              0.4444444444444444,
              "#bd3786"
             ],
             [
              0.5555555555555556,
              "#d8576b"
             ],
             [
              0.6666666666666666,
              "#ed7953"
             ],
             [
              0.7777777777777778,
              "#fb9f3a"
             ],
             [
              0.8888888888888888,
              "#fdca26"
             ],
             [
              1.0,
              "#f0f921"
             ]
            ]
           }
          ],
          "contourcarpet": [
           {
            "type": "contourcarpet",
            "colorbar": {
             "outlinewidth": 0,
             "ticks": ""
            }
           }
          ],
          "contour": [
           {
            "type": "contour",
            "colorbar": {
             "outlinewidth": 0,
             "ticks": ""
            },
            "colorscale": [
             [
              0.0,
              "#0d0887"
             ],
             [
              0.1111111111111111,
              "#46039f"
             ],
             [
              0.2222222222222222,
              "#7201a8"
             ],
             [
              0.3333333333333333,
              "#9c179e"
             ],
             [
              0.4444444444444444,
              "#bd3786"
             ],
             [
              0.5555555555555556,
              "#d8576b"
             ],
             [
              0.6666666666666666,
              "#ed7953"
             ],
             [
              0.7777777777777778,
              "#fb9f3a"
             ],
             [
              0.8888888888888888,
              "#fdca26"
             ],
             [
              1.0,
              "#f0f921"
             ]
            ]
           }
          ],
          "surface": [
           {
            "type": "surface",
            "colorbar": {
             "outlinewidth": 0,
             "ticks": ""
            },
            "colorscale": [
             [
              0.0,
              "#0d0887"
             ],
             [
              0.1111111111111111,
              "#46039f"
             ],
             [
              0.2222222222222222,
              "#7201a8"
             ],
             [
              0.3333333333333333,
              "#9c179e"
             ],
             [
              0.4444444444444444,
              "#bd3786"
             ],
             [
              0.5555555555555556,
              "#d8576b"
             ],
             [
              0.6666666666666666,
              "#ed7953"
             ],
             [
              0.7777777777777778,
              "#fb9f3a"
             ],
             [
              0.8888888888888888,
              "#fdca26"
             ],
             [
              1.0,
              "#f0f921"
             ]
            ]
           }
          ],
          "mesh3d": [
           {
            "type": "mesh3d",
            "colorbar": {
             "outlinewidth": 0,
             "ticks": ""
            }
           }
          ],
          "scatter": [
           {
            "marker": {
             "line": {
              "color": "#283442"
             }
            },
            "type": "scatter"
           }
          ],
          "parcoords": [
           {
            "type": "parcoords",
            "line": {
             "colorbar": {
              "outlinewidth": 0,
              "ticks": ""
             }
            }
           }
          ],
          "scatterpolargl": [
           {
            "type": "scatterpolargl",
            "marker": {
             "colorbar": {
              "outlinewidth": 0,
              "ticks": ""
             }
            }
           }
          ],
          "bar": [
           {
            "error_x": {
             "color": "#f2f5fa"
            },
            "error_y": {
             "color": "#f2f5fa"
            },
            "marker": {
             "line": {
              "color": "rgb(17,17,17)",
              "width": 0.5
             },
             "pattern": {
              "fillmode": "overlay",
              "size": 10,
              "solidity": 0.2
             }
            },
            "type": "bar"
           }
          ],
          "scattergeo": [
           {
            "type": "scattergeo",
            "marker": {
             "colorbar": {
              "outlinewidth": 0,
              "ticks": ""
             }
            }
           }
          ],
          "scatterpolar": [
           {
            "type": "scatterpolar",
            "marker": {
             "colorbar": {
              "outlinewidth": 0,
              "ticks": ""
             }
            }
           }
          ],
          "histogram": [
           {
            "marker": {
             "pattern": {
              "fillmode": "overlay",
              "size": 10,
              "solidity": 0.2
             }
            },
            "type": "histogram"
           }
          ],
          "scattergl": [
           {
            "marker": {
             "line": {
              "color": "#283442"
             }
            },
            "type": "scattergl"
           }
          ],
          "scatter3d": [
           {
            "type": "scatter3d",
            "line": {
             "colorbar": {
              "outlinewidth": 0,
              "ticks": ""
             }
            },
            "marker": {
             "colorbar": {
              "outlinewidth": 0,
              "ticks": ""
             }
            }
           }
          ],
          "scattermapbox": [
           {
            "type": "scattermapbox",
            "marker": {
             "colorbar": {
              "outlinewidth": 0,
              "ticks": ""
             }
            }
           }
          ],
          "scatterternary": [
           {
            "type": "scatterternary",
            "marker": {
             "colorbar": {
              "outlinewidth": 0,
              "ticks": ""
             }
            }
           }
          ],
          "scattercarpet": [
           {
            "type": "scattercarpet",
            "marker": {
             "colorbar": {
              "outlinewidth": 0,
              "ticks": ""
             }
            }
           }
          ],
          "carpet": [
           {
            "aaxis": {
             "endlinecolor": "#A2B1C6",
             "gridcolor": "#506784",
             "linecolor": "#506784",
             "minorgridcolor": "#506784",
             "startlinecolor": "#A2B1C6"
            },
            "baxis": {
             "endlinecolor": "#A2B1C6",
             "gridcolor": "#506784",
             "linecolor": "#506784",
             "minorgridcolor": "#506784",
             "startlinecolor": "#A2B1C6"
            },
            "type": "carpet"
           }
          ],
          "table": [
           {
            "cells": {
             "fill": {
              "color": "#506784"
             },
             "line": {
              "color": "rgb(17,17,17)"
             }
            },
            "header": {
             "fill": {
              "color": "#2a3f5f"
             },
             "line": {
              "color": "rgb(17,17,17)"
             }
            },
            "type": "table"
           }
          ],
          "barpolar": [
           {
            "marker": {
             "line": {
              "color": "rgb(17,17,17)",
              "width": 0.5
             },
             "pattern": {
              "fillmode": "overlay",
              "size": 10,
              "solidity": 0.2
             }
            },
            "type": "barpolar"
           }
          ],
          "pie": [
           {
            "automargin": true,
            "type": "pie"
           }
          ]
         },
         "layout": {
          "autotypenumbers": "strict",
          "colorway": [
           "#636efa",
           "#EF553B",
           "#00cc96",
           "#ab63fa",
           "#FFA15A",
           "#19d3f3",
           "#FF6692",
           "#B6E880",
           "#FF97FF",
           "#FECB52"
          ],
          "font": {
           "color": "#f2f5fa"
          },
          "hovermode": "closest",
          "hoverlabel": {
           "align": "left"
          },
          "paper_bgcolor": "rgb(17,17,17)",
          "plot_bgcolor": "rgb(17,17,17)",
          "polar": {
           "bgcolor": "rgb(17,17,17)",
           "angularaxis": {
            "gridcolor": "#506784",
            "linecolor": "#506784",
            "ticks": ""
           },
           "radialaxis": {
            "gridcolor": "#506784",
            "linecolor": "#506784",
            "ticks": ""
           }
          },
          "ternary": {
           "bgcolor": "rgb(17,17,17)",
           "aaxis": {
            "gridcolor": "#506784",
            "linecolor": "#506784",
            "ticks": ""
           },
           "baxis": {
            "gridcolor": "#506784",
            "linecolor": "#506784",
            "ticks": ""
           },
           "caxis": {
            "gridcolor": "#506784",
            "linecolor": "#506784",
            "ticks": ""
           }
          },
          "coloraxis": {
           "colorbar": {
            "outlinewidth": 0,
            "ticks": ""
           }
          },
          "colorscale": {
           "sequential": [
            [
             0.0,
             "#0d0887"
            ],
            [
             0.1111111111111111,
             "#46039f"
            ],
            [
             0.2222222222222222,
             "#7201a8"
            ],
            [
             0.3333333333333333,
             "#9c179e"
            ],
            [
             0.4444444444444444,
             "#bd3786"
            ],
            [
             0.5555555555555556,
             "#d8576b"
            ],
            [
             0.6666666666666666,
             "#ed7953"
            ],
            [
             0.7777777777777778,
             "#fb9f3a"
            ],
            [
             0.8888888888888888,
             "#fdca26"
            ],
            [
             1.0,
             "#f0f921"
            ]
           ],
           "sequentialminus": [
            [
             0.0,
             "#0d0887"
            ],
            [
             0.1111111111111111,
             "#46039f"
            ],
            [
             0.2222222222222222,
             "#7201a8"
            ],
            [
             0.3333333333333333,
             "#9c179e"
            ],
            [
             0.4444444444444444,
             "#bd3786"
            ],
            [
             0.5555555555555556,
             "#d8576b"
            ],
            [
             0.6666666666666666,
             "#ed7953"
            ],
            [
             0.7777777777777778,
             "#fb9f3a"
            ],
            [
             0.8888888888888888,
             "#fdca26"
            ],
            [
             1.0,
             "#f0f921"
            ]
           ],
           "diverging": [
            [
             0,
             "#8e0152"
            ],
            [
             0.1,
             "#c51b7d"
            ],
            [
             0.2,
             "#de77ae"
            ],
            [
             0.3,
             "#f1b6da"
            ],
            [
             0.4,
             "#fde0ef"
            ],
            [
             0.5,
             "#f7f7f7"
            ],
            [
             0.6,
             "#e6f5d0"
            ],
            [
             0.7,
             "#b8e186"
            ],
            [
             0.8,
             "#7fbc41"
            ],
            [
             0.9,
             "#4d9221"
            ],
            [
             1,
             "#276419"
            ]
           ]
          },
          "xaxis": {
           "gridcolor": "#283442",
           "linecolor": "#506784",
           "ticks": "",
           "title": {
            "standoff": 15
           },
           "zerolinecolor": "#283442",
           "automargin": true,
           "zerolinewidth": 2
          },
          "yaxis": {
           "gridcolor": "#283442",
           "linecolor": "#506784",
           "ticks": "",
           "title": {
            "standoff": 15
           },
           "zerolinecolor": "#283442",
           "automargin": true,
           "zerolinewidth": 2
          },
          "scene": {
           "xaxis": {
            "backgroundcolor": "rgb(17,17,17)",
            "gridcolor": "#506784",
            "linecolor": "#506784",
            "showbackground": true,
            "ticks": "",
            "zerolinecolor": "#C8D4E3",
            "gridwidth": 2
           },
           "yaxis": {
            "backgroundcolor": "rgb(17,17,17)",
            "gridcolor": "#506784",
            "linecolor": "#506784",
            "showbackground": true,
            "ticks": "",
            "zerolinecolor": "#C8D4E3",
            "gridwidth": 2
           },
           "zaxis": {
            "backgroundcolor": "rgb(17,17,17)",
            "gridcolor": "#506784",
            "linecolor": "#506784",
            "showbackground": true,
            "ticks": "",
            "zerolinecolor": "#C8D4E3",
            "gridwidth": 2
           }
          },
          "shapedefaults": {
           "line": {
            "color": "#f2f5fa"
           }
          },
          "annotationdefaults": {
           "arrowcolor": "#f2f5fa",
           "arrowhead": 0,
           "arrowwidth": 1
          },
          "geo": {
           "bgcolor": "rgb(17,17,17)",
           "landcolor": "rgb(17,17,17)",
           "subunitcolor": "#506784",
           "showland": true,
           "showlakes": true,
           "lakecolor": "rgb(17,17,17)"
          },
          "title": {
           "x": 0.05
          },
          "updatemenudefaults": {
           "bgcolor": "#506784",
           "borderwidth": 0
          },
          "sliderdefaults": {
           "bgcolor": "#C8D4E3",
           "borderwidth": 1,
           "bordercolor": "rgb(17,17,17)",
           "tickwidth": 0
          },
          "mapbox": {
           "style": "dark"
          }
         }
        },
        "xaxis": {
         "anchor": "y",
         "domain": [
          0.0,
          1.0
         ],
         "title": {
          "text": "Major"
         }
        },
        "yaxis": {
         "anchor": "x",
         "domain": [
          0.0,
          1.0
         ],
         "title": {
          "text": "Count"
         }
        },
        "legend": {
         "title": {
          "text": "Q3"
         },
         "tracegroupgap": 0
        },
        "title": {
         "text": "Major distribution by Gender"
        },
        "barmode": "relative"
       },
       "config": {
        "plotlyServerURL": "https://plot.ly"
       }
      },
      "text/html": [
       "<div>                            <div id=\"dd87c45f-b8e1-403d-82f5-9c0c464c8483\" class=\"plotly-graph-div\" style=\"height:525px; width:100%;\"></div>            <script type=\"text/javascript\">                require([\"plotly\"], function(Plotly) {                    window.PLOTLYENV=window.PLOTLYENV || {};                                    if (document.getElementById(\"dd87c45f-b8e1-403d-82f5-9c0c464c8483\")) {                    Plotly.newPlot(                        \"dd87c45f-b8e1-403d-82f5-9c0c464c8483\",                        [{\"alignmentgroup\":\"True\",\"hovertemplate\":\"Q3=Female\\u003cbr\\u003eMajor=%{x}\\u003cbr\\u003eCount=%{y}\\u003cextra\\u003e\\u003c\\u002fextra\\u003e\",\"legendgroup\":\"Female\",\"marker\":{\"color\":\"#636efa\",\"pattern\":{\"shape\":\"\"}},\"name\":\"Female\",\"offsetgroup\":\"Female\",\"orientation\":\"v\",\"showlegend\":true,\"textposition\":\"auto\",\"x\":[\"Public Administration\",\"Business Management\",\"Finance\",\"International Economic Relations\",\"Management in Tourism\",\"Accounting and Analysis\",\"Economics and Business\",\"Accounting\",\"Marketing\",\"Geography, Technologies and Entrepreneurship\",\"\\u00cc\\u00e5\\u00ed\\u00e8\\u00e4\\u00e6\\u00ec\\u00fa\\u00ed\\u00f2 \\u00ed\\u00e0 \\u00f2\\u00f3\\u00f0\\u00e8\\u00f1\\u00f2\\u00e8\\u00f7\\u00e5\\u00f1\\u00ea\\u00e8\\u00ff \\u00e1\\u00e8\\u00e7\\u00ed\\u00e5\\u00f1\"],\"xaxis\":\"x\",\"y\":[2,6,21,11,6,1,10,24,26,1,1],\"yaxis\":\"y\",\"type\":\"bar\"},{\"alignmentgroup\":\"True\",\"hovertemplate\":\"Q3=Male\\u003cbr\\u003eMajor=%{x}\\u003cbr\\u003eCount=%{y}\\u003cextra\\u003e\\u003c\\u002fextra\\u003e\",\"legendgroup\":\"Male\",\"marker\":{\"color\":\"#EF553B\",\"pattern\":{\"shape\":\"\"}},\"name\":\"Male\",\"offsetgroup\":\"Male\",\"orientation\":\"v\",\"showlegend\":true,\"textposition\":\"auto\",\"x\":[\"Accounting\",\"Economics and Business\",\"Public Administration\",\"Finance\",\"International Economic Relations\",\"Economics\",\"Marketing\"],\"xaxis\":\"x\",\"y\":[2,4,2,3,4,2,5],\"yaxis\":\"y\",\"type\":\"bar\"}],                        {\"template\":{\"data\":{\"histogram2dcontour\":[{\"type\":\"histogram2dcontour\",\"colorbar\":{\"outlinewidth\":0,\"ticks\":\"\"},\"colorscale\":[[0.0,\"#0d0887\"],[0.1111111111111111,\"#46039f\"],[0.2222222222222222,\"#7201a8\"],[0.3333333333333333,\"#9c179e\"],[0.4444444444444444,\"#bd3786\"],[0.5555555555555556,\"#d8576b\"],[0.6666666666666666,\"#ed7953\"],[0.7777777777777778,\"#fb9f3a\"],[0.8888888888888888,\"#fdca26\"],[1.0,\"#f0f921\"]]}],\"choropleth\":[{\"type\":\"choropleth\",\"colorbar\":{\"outlinewidth\":0,\"ticks\":\"\"}}],\"histogram2d\":[{\"type\":\"histogram2d\",\"colorbar\":{\"outlinewidth\":0,\"ticks\":\"\"},\"colorscale\":[[0.0,\"#0d0887\"],[0.1111111111111111,\"#46039f\"],[0.2222222222222222,\"#7201a8\"],[0.3333333333333333,\"#9c179e\"],[0.4444444444444444,\"#bd3786\"],[0.5555555555555556,\"#d8576b\"],[0.6666666666666666,\"#ed7953\"],[0.7777777777777778,\"#fb9f3a\"],[0.8888888888888888,\"#fdca26\"],[1.0,\"#f0f921\"]]}],\"heatmap\":[{\"type\":\"heatmap\",\"colorbar\":{\"outlinewidth\":0,\"ticks\":\"\"},\"colorscale\":[[0.0,\"#0d0887\"],[0.1111111111111111,\"#46039f\"],[0.2222222222222222,\"#7201a8\"],[0.3333333333333333,\"#9c179e\"],[0.4444444444444444,\"#bd3786\"],[0.5555555555555556,\"#d8576b\"],[0.6666666666666666,\"#ed7953\"],[0.7777777777777778,\"#fb9f3a\"],[0.8888888888888888,\"#fdca26\"],[1.0,\"#f0f921\"]]}],\"heatmapgl\":[{\"type\":\"heatmapgl\",\"colorbar\":{\"outlinewidth\":0,\"ticks\":\"\"},\"colorscale\":[[0.0,\"#0d0887\"],[0.1111111111111111,\"#46039f\"],[0.2222222222222222,\"#7201a8\"],[0.3333333333333333,\"#9c179e\"],[0.4444444444444444,\"#bd3786\"],[0.5555555555555556,\"#d8576b\"],[0.6666666666666666,\"#ed7953\"],[0.7777777777777778,\"#fb9f3a\"],[0.8888888888888888,\"#fdca26\"],[1.0,\"#f0f921\"]]}],\"contourcarpet\":[{\"type\":\"contourcarpet\",\"colorbar\":{\"outlinewidth\":0,\"ticks\":\"\"}}],\"contour\":[{\"type\":\"contour\",\"colorbar\":{\"outlinewidth\":0,\"ticks\":\"\"},\"colorscale\":[[0.0,\"#0d0887\"],[0.1111111111111111,\"#46039f\"],[0.2222222222222222,\"#7201a8\"],[0.3333333333333333,\"#9c179e\"],[0.4444444444444444,\"#bd3786\"],[0.5555555555555556,\"#d8576b\"],[0.6666666666666666,\"#ed7953\"],[0.7777777777777778,\"#fb9f3a\"],[0.8888888888888888,\"#fdca26\"],[1.0,\"#f0f921\"]]}],\"surface\":[{\"type\":\"surface\",\"colorbar\":{\"outlinewidth\":0,\"ticks\":\"\"},\"colorscale\":[[0.0,\"#0d0887\"],[0.1111111111111111,\"#46039f\"],[0.2222222222222222,\"#7201a8\"],[0.3333333333333333,\"#9c179e\"],[0.4444444444444444,\"#bd3786\"],[0.5555555555555556,\"#d8576b\"],[0.6666666666666666,\"#ed7953\"],[0.7777777777777778,\"#fb9f3a\"],[0.8888888888888888,\"#fdca26\"],[1.0,\"#f0f921\"]]}],\"mesh3d\":[{\"type\":\"mesh3d\",\"colorbar\":{\"outlinewidth\":0,\"ticks\":\"\"}}],\"scatter\":[{\"marker\":{\"line\":{\"color\":\"#283442\"}},\"type\":\"scatter\"}],\"parcoords\":[{\"type\":\"parcoords\",\"line\":{\"colorbar\":{\"outlinewidth\":0,\"ticks\":\"\"}}}],\"scatterpolargl\":[{\"type\":\"scatterpolargl\",\"marker\":{\"colorbar\":{\"outlinewidth\":0,\"ticks\":\"\"}}}],\"bar\":[{\"error_x\":{\"color\":\"#f2f5fa\"},\"error_y\":{\"color\":\"#f2f5fa\"},\"marker\":{\"line\":{\"color\":\"rgb(17,17,17)\",\"width\":0.5},\"pattern\":{\"fillmode\":\"overlay\",\"size\":10,\"solidity\":0.2}},\"type\":\"bar\"}],\"scattergeo\":[{\"type\":\"scattergeo\",\"marker\":{\"colorbar\":{\"outlinewidth\":0,\"ticks\":\"\"}}}],\"scatterpolar\":[{\"type\":\"scatterpolar\",\"marker\":{\"colorbar\":{\"outlinewidth\":0,\"ticks\":\"\"}}}],\"histogram\":[{\"marker\":{\"pattern\":{\"fillmode\":\"overlay\",\"size\":10,\"solidity\":0.2}},\"type\":\"histogram\"}],\"scattergl\":[{\"marker\":{\"line\":{\"color\":\"#283442\"}},\"type\":\"scattergl\"}],\"scatter3d\":[{\"type\":\"scatter3d\",\"line\":{\"colorbar\":{\"outlinewidth\":0,\"ticks\":\"\"}},\"marker\":{\"colorbar\":{\"outlinewidth\":0,\"ticks\":\"\"}}}],\"scattermapbox\":[{\"type\":\"scattermapbox\",\"marker\":{\"colorbar\":{\"outlinewidth\":0,\"ticks\":\"\"}}}],\"scatterternary\":[{\"type\":\"scatterternary\",\"marker\":{\"colorbar\":{\"outlinewidth\":0,\"ticks\":\"\"}}}],\"scattercarpet\":[{\"type\":\"scattercarpet\",\"marker\":{\"colorbar\":{\"outlinewidth\":0,\"ticks\":\"\"}}}],\"carpet\":[{\"aaxis\":{\"endlinecolor\":\"#A2B1C6\",\"gridcolor\":\"#506784\",\"linecolor\":\"#506784\",\"minorgridcolor\":\"#506784\",\"startlinecolor\":\"#A2B1C6\"},\"baxis\":{\"endlinecolor\":\"#A2B1C6\",\"gridcolor\":\"#506784\",\"linecolor\":\"#506784\",\"minorgridcolor\":\"#506784\",\"startlinecolor\":\"#A2B1C6\"},\"type\":\"carpet\"}],\"table\":[{\"cells\":{\"fill\":{\"color\":\"#506784\"},\"line\":{\"color\":\"rgb(17,17,17)\"}},\"header\":{\"fill\":{\"color\":\"#2a3f5f\"},\"line\":{\"color\":\"rgb(17,17,17)\"}},\"type\":\"table\"}],\"barpolar\":[{\"marker\":{\"line\":{\"color\":\"rgb(17,17,17)\",\"width\":0.5},\"pattern\":{\"fillmode\":\"overlay\",\"size\":10,\"solidity\":0.2}},\"type\":\"barpolar\"}],\"pie\":[{\"automargin\":true,\"type\":\"pie\"}]},\"layout\":{\"autotypenumbers\":\"strict\",\"colorway\":[\"#636efa\",\"#EF553B\",\"#00cc96\",\"#ab63fa\",\"#FFA15A\",\"#19d3f3\",\"#FF6692\",\"#B6E880\",\"#FF97FF\",\"#FECB52\"],\"font\":{\"color\":\"#f2f5fa\"},\"hovermode\":\"closest\",\"hoverlabel\":{\"align\":\"left\"},\"paper_bgcolor\":\"rgb(17,17,17)\",\"plot_bgcolor\":\"rgb(17,17,17)\",\"polar\":{\"bgcolor\":\"rgb(17,17,17)\",\"angularaxis\":{\"gridcolor\":\"#506784\",\"linecolor\":\"#506784\",\"ticks\":\"\"},\"radialaxis\":{\"gridcolor\":\"#506784\",\"linecolor\":\"#506784\",\"ticks\":\"\"}},\"ternary\":{\"bgcolor\":\"rgb(17,17,17)\",\"aaxis\":{\"gridcolor\":\"#506784\",\"linecolor\":\"#506784\",\"ticks\":\"\"},\"baxis\":{\"gridcolor\":\"#506784\",\"linecolor\":\"#506784\",\"ticks\":\"\"},\"caxis\":{\"gridcolor\":\"#506784\",\"linecolor\":\"#506784\",\"ticks\":\"\"}},\"coloraxis\":{\"colorbar\":{\"outlinewidth\":0,\"ticks\":\"\"}},\"colorscale\":{\"sequential\":[[0.0,\"#0d0887\"],[0.1111111111111111,\"#46039f\"],[0.2222222222222222,\"#7201a8\"],[0.3333333333333333,\"#9c179e\"],[0.4444444444444444,\"#bd3786\"],[0.5555555555555556,\"#d8576b\"],[0.6666666666666666,\"#ed7953\"],[0.7777777777777778,\"#fb9f3a\"],[0.8888888888888888,\"#fdca26\"],[1.0,\"#f0f921\"]],\"sequentialminus\":[[0.0,\"#0d0887\"],[0.1111111111111111,\"#46039f\"],[0.2222222222222222,\"#7201a8\"],[0.3333333333333333,\"#9c179e\"],[0.4444444444444444,\"#bd3786\"],[0.5555555555555556,\"#d8576b\"],[0.6666666666666666,\"#ed7953\"],[0.7777777777777778,\"#fb9f3a\"],[0.8888888888888888,\"#fdca26\"],[1.0,\"#f0f921\"]],\"diverging\":[[0,\"#8e0152\"],[0.1,\"#c51b7d\"],[0.2,\"#de77ae\"],[0.3,\"#f1b6da\"],[0.4,\"#fde0ef\"],[0.5,\"#f7f7f7\"],[0.6,\"#e6f5d0\"],[0.7,\"#b8e186\"],[0.8,\"#7fbc41\"],[0.9,\"#4d9221\"],[1,\"#276419\"]]},\"xaxis\":{\"gridcolor\":\"#283442\",\"linecolor\":\"#506784\",\"ticks\":\"\",\"title\":{\"standoff\":15},\"zerolinecolor\":\"#283442\",\"automargin\":true,\"zerolinewidth\":2},\"yaxis\":{\"gridcolor\":\"#283442\",\"linecolor\":\"#506784\",\"ticks\":\"\",\"title\":{\"standoff\":15},\"zerolinecolor\":\"#283442\",\"automargin\":true,\"zerolinewidth\":2},\"scene\":{\"xaxis\":{\"backgroundcolor\":\"rgb(17,17,17)\",\"gridcolor\":\"#506784\",\"linecolor\":\"#506784\",\"showbackground\":true,\"ticks\":\"\",\"zerolinecolor\":\"#C8D4E3\",\"gridwidth\":2},\"yaxis\":{\"backgroundcolor\":\"rgb(17,17,17)\",\"gridcolor\":\"#506784\",\"linecolor\":\"#506784\",\"showbackground\":true,\"ticks\":\"\",\"zerolinecolor\":\"#C8D4E3\",\"gridwidth\":2},\"zaxis\":{\"backgroundcolor\":\"rgb(17,17,17)\",\"gridcolor\":\"#506784\",\"linecolor\":\"#506784\",\"showbackground\":true,\"ticks\":\"\",\"zerolinecolor\":\"#C8D4E3\",\"gridwidth\":2}},\"shapedefaults\":{\"line\":{\"color\":\"#f2f5fa\"}},\"annotationdefaults\":{\"arrowcolor\":\"#f2f5fa\",\"arrowhead\":0,\"arrowwidth\":1},\"geo\":{\"bgcolor\":\"rgb(17,17,17)\",\"landcolor\":\"rgb(17,17,17)\",\"subunitcolor\":\"#506784\",\"showland\":true,\"showlakes\":true,\"lakecolor\":\"rgb(17,17,17)\"},\"title\":{\"x\":0.05},\"updatemenudefaults\":{\"bgcolor\":\"#506784\",\"borderwidth\":0},\"sliderdefaults\":{\"bgcolor\":\"#C8D4E3\",\"borderwidth\":1,\"bordercolor\":\"rgb(17,17,17)\",\"tickwidth\":0},\"mapbox\":{\"style\":\"dark\"}}},\"xaxis\":{\"anchor\":\"y\",\"domain\":[0.0,1.0],\"title\":{\"text\":\"Major\"}},\"yaxis\":{\"anchor\":\"x\",\"domain\":[0.0,1.0],\"title\":{\"text\":\"Count\"}},\"legend\":{\"title\":{\"text\":\"Q3\"},\"tracegroupgap\":0},\"title\":{\"text\":\"Major distribution by Gender\"},\"barmode\":\"relative\"},                        {\"responsive\": true}                    ).then(function(){\n",
       "                            \n",
       "var gd = document.getElementById('dd87c45f-b8e1-403d-82f5-9c0c464c8483');\n",
       "var x = new MutationObserver(function (mutations, observer) {{\n",
       "        var display = window.getComputedStyle(gd).display;\n",
       "        if (!display || display === 'none') {{\n",
       "            console.log([gd, 'removed!']);\n",
       "            Plotly.purge(gd);\n",
       "            observer.disconnect();\n",
       "        }}\n",
       "}});\n",
       "\n",
       "// Listen for the removal of the full notebook cells\n",
       "var notebookContainer = gd.closest('#notebook-container');\n",
       "if (notebookContainer) {{\n",
       "    x.observe(notebookContainer, {childList: true});\n",
       "}}\n",
       "\n",
       "// Listen for the clearing of the current output cell\n",
       "var outputEl = gd.closest('.output');\n",
       "if (outputEl) {{\n",
       "    x.observe(outputEl, {childList: true});\n",
       "}}\n",
       "\n",
       "                        })                };                });            </script>        </div>"
      ]
     },
     "metadata": {},
     "output_type": "display_data"
    }
   ],
   "execution_count": 59
  },
  {
   "metadata": {
    "ExecuteTime": {
     "end_time": "2024-09-17T18:44:42.931176Z",
     "start_time": "2024-09-17T18:44:42.926105Z"
    }
   },
   "cell_type": "code",
   "source": [
    "pl_data_Q5_1 = pl_data.with_columns(\n",
    "    pl.when(pl.col('Q5.1') == \"Strongly Disagree\").then(1)\n",
    "    .when(pl.col('Q5.1') == \"Disagree\").then(2)\n",
    "    .when(pl.col('Q5.1') == \"Neutral\" ).then(3)\n",
    "    .when(pl.col('Q5.1') == 'Agree').then(4)\n",
    "    .when(pl.col('Q5.1') == 'Strongly Agree').then(5)\n",
    "    .otherwise(None).alias('Q5.1_numeric')\n",
    ")\n",
    "\n",
    "pl_data.insert_column(6, pl_data_Q5_1['Q5.1_numeric'])"
   ],
   "id": "a0c491834614a24a",
   "outputs": [
    {
     "data": {
      "text/plain": [
       "3.2519083969465647"
      ]
     },
     "execution_count": 61,
     "metadata": {},
     "output_type": "execute_result"
    }
   ],
   "execution_count": 61
  },
  {
   "metadata": {
    "ExecuteTime": {
     "end_time": "2024-09-17T18:44:52.970547Z",
     "start_time": "2024-09-17T18:44:52.966485Z"
    }
   },
   "cell_type": "code",
   "source": "pl_data['Q5.1_numeric'].mean()",
   "id": "4f4ba52d539cc7ea",
   "outputs": [
    {
     "data": {
      "text/plain": [
       "3.2519083969465647"
      ]
     },
     "execution_count": 62,
     "metadata": {},
     "output_type": "execute_result"
    }
   ],
   "execution_count": 62
  },
  {
   "metadata": {
    "ExecuteTime": {
     "end_time": "2024-09-17T18:44:53.737068Z",
     "start_time": "2024-09-17T18:44:53.728347Z"
    }
   },
   "cell_type": "code",
   "source": [
    "columns_to_convert = ['Q5.1', 'Q5.2', 'Q5.3', 'Q5.4', 'Q5.5', 'Q5.6', 'Q6.1', 'Q6.2', 'Q6.3', 'Q6.4', 'Q6.5', 'Q6.6', 'Q6.7', 'Q6.8', 'Q7.1', 'Q7.2', 'Q7.3', 'Q7.4', 'Q8.1', 'Q8.2', 'Q8.3', 'Q8.4', 'Q8.5', 'Q9.1', 'Q9.2', 'Q9.3', 'Q9.4', 'Q9.5']\n",
    "\n",
    "def convert_to_numeric(column_name):\n",
    "    return (\n",
    "        pl.when(pl.col(column_name) == 'Strongly Disagree').then(1)\n",
    "        .when(pl.col(column_name) == 'Disagree').then(2)\n",
    "        .when(pl.col(column_name) == 'Neutral').then(3)\n",
    "        .when(pl.col(column_name) == 'Agree').then(4)\n",
    "        .when(pl.col(column_name) == 'Strongly Agree').then(5)\n",
    "        .otherwise(pl.col(column_name)).alias(f'{column_name}_numeric')\n",
    "    )\n",
    "\n",
    "pl_data = pl_data.with_columns([convert_to_numeric(col) for col in columns_to_convert])\n",
    "\n",
    "numeric_columns = [col for col in pl_data.columns if '_numeric' in col]\n",
    "\n",
    "pl_data = pl_data.with_columns([\n",
    "    pl.col(col).cast(pl.UInt8).alias(col) for col in numeric_columns\n",
    "])     "
   ],
   "id": "747588b30e9540da",
   "outputs": [],
   "execution_count": 63
  },
  {
   "metadata": {
    "ExecuteTime": {
     "end_time": "2024-09-17T18:44:54.334737Z",
     "start_time": "2024-09-17T18:44:54.326175Z"
    }
   },
   "cell_type": "code",
   "source": [
    "sorted_columns = sorted(pl_data.columns)\n",
    "\n",
    "pl_data.select(sorted_columns)"
   ],
   "id": "bff14b77a91aec0f",
   "outputs": [
    {
     "data": {
      "text/plain": [
       "shape: (131, 62)\n",
       "┌──────────┬────────────┬────────────┬────────┬───┬────────────┬──────────┬────────────┬───────────┐\n",
       "│ Q1       ┆ Q10        ┆ Q2         ┆ Q3     ┆ … ┆ Q9.4_numer ┆ Q9.5     ┆ Q9.5_numer ┆ Timestamp │\n",
       "│ ---      ┆ ---        ┆ ---        ┆ ---    ┆   ┆ ic         ┆ ---      ┆ ic         ┆ ---       │\n",
       "│ str      ┆ str        ┆ str        ┆ str    ┆   ┆ ---        ┆ str      ┆ ---        ┆ str       │\n",
       "│          ┆            ┆            ┆        ┆   ┆ u8         ┆          ┆ u8         ┆           │\n",
       "╞══════════╪════════════╪════════════╪════════╪═══╪════════════╪══════════╪════════════╪═══════════╡\n",
       "│ Master   ┆ No answer  ┆ Internatio ┆ Female ┆ … ┆ 4          ┆ Agree    ┆ 4          ┆ 5.14.2023 │\n",
       "│          ┆            ┆ nal        ┆        ┆   ┆            ┆          ┆            ┆ 21:22:19  │\n",
       "│          ┆            ┆ Economic   ┆        ┆   ┆            ┆          ┆            ┆           │\n",
       "│          ┆            ┆ Relatio…   ┆        ┆   ┆            ┆          ┆            ┆           │\n",
       "│ Bachelor ┆ No answer  ┆ Internatio ┆ Female ┆ … ┆ 2          ┆ Disagree ┆ 2          ┆ 5.15.2023 │\n",
       "│          ┆            ┆ nal        ┆        ┆   ┆            ┆          ┆            ┆ 8:45:52   │\n",
       "│          ┆            ┆ Economic   ┆        ┆   ┆            ┆          ┆            ┆           │\n",
       "│          ┆            ┆ Relatio…   ┆        ┆   ┆            ┆          ┆            ┆           │\n",
       "│ Bachelor ┆ No answer  ┆ Internatio ┆ Female ┆ … ┆ 2          ┆ Neutral  ┆ 3          ┆ 5.15.2023 │\n",
       "│          ┆            ┆ nal        ┆        ┆   ┆            ┆          ┆            ┆ 9:54:15   │\n",
       "│          ┆            ┆ Economic   ┆        ┆   ┆            ┆          ┆            ┆           │\n",
       "│          ┆            ┆ Relatio…   ┆        ┆   ┆            ┆          ┆            ┆           │\n",
       "│ Bachelor ┆ No answer  ┆ Internatio ┆ Female ┆ … ┆ 4          ┆ Agree    ┆ 4          ┆ 5.15.2023 │\n",
       "│          ┆            ┆ nal        ┆        ┆   ┆            ┆          ┆            ┆ 15:17:41  │\n",
       "│          ┆            ┆ Economic   ┆        ┆   ┆            ┆          ┆            ┆           │\n",
       "│          ┆            ┆ Relatio…   ┆        ┆   ┆            ┆          ┆            ┆           │\n",
       "│ Bachelor ┆ No answer  ┆ Internatio ┆ Female ┆ … ┆ 3          ┆ Neutral  ┆ 3          ┆ 5.15.2023 │\n",
       "│          ┆            ┆ nal        ┆        ┆   ┆            ┆          ┆            ┆ 15:19:02  │\n",
       "│          ┆            ┆ Economic   ┆        ┆   ┆            ┆          ┆            ┆           │\n",
       "│          ┆            ┆ Relatio…   ┆        ┆   ┆            ┆          ┆            ┆           │\n",
       "│ …        ┆ …          ┆ …          ┆ …      ┆ … ┆ …          ┆ …        ┆ …          ┆ …         │\n",
       "│ Bachelor ┆ ChtGPT     ┆ Internatio ┆ Female ┆ … ┆ 4          ┆ Agree    ┆ 4          ┆ 5.26.2023 │\n",
       "│          ┆ helps me a ┆ nal        ┆        ┆   ┆            ┆          ┆            ┆ 15:44:55  │\n",
       "│          ┆ lot in     ┆ Economic   ┆        ┆   ┆            ┆          ┆            ┆           │\n",
       "│          ┆ prepa…     ┆ Relatio…   ┆        ┆   ┆            ┆          ┆            ┆           │\n",
       "│ Bachelor ┆ No answer  ┆ Finance    ┆ Female ┆ … ┆ 4          ┆ Agree    ┆ 4          ┆ 5.26.2023 │\n",
       "│          ┆            ┆            ┆        ┆   ┆            ┆          ┆            ┆ 21:43:23  │\n",
       "│ Bachelor ┆ No answer  ┆ Marketing  ┆ Female ┆ … ┆ 4          ┆ Agree    ┆ 4          ┆ 5.27.2023 │\n",
       "│          ┆            ┆            ┆        ┆   ┆            ┆          ┆            ┆ 10:28:36  │\n",
       "│ Bachelor ┆ No answer  ┆ Public Adm ┆ Male   ┆ … ┆ 3          ┆ Neutral  ┆ 3          ┆ 5.28.2023 │\n",
       "│          ┆            ┆ inistratio ┆        ┆   ┆            ┆          ┆            ┆ 0:51:54   │\n",
       "│          ┆            ┆ n          ┆        ┆   ┆            ┆          ┆            ┆           │\n",
       "│ Bachelor ┆ I don't    ┆ Finance    ┆ Female ┆ … ┆ 3          ┆ Neutral  ┆ 3          ┆ 5.31.2023 │\n",
       "│          ┆ have any   ┆            ┆        ┆   ┆            ┆          ┆            ┆ 17:42:52  │\n",
       "└──────────┴────────────┴────────────┴────────┴───┴────────────┴──────────┴────────────┴───────────┘"
      ],
      "text/html": [
       "<div><style>\n",
       ".dataframe > thead > tr,\n",
       ".dataframe > tbody > tr {\n",
       "  text-align: right;\n",
       "  white-space: pre-wrap;\n",
       "}\n",
       "</style>\n",
       "<small>shape: (131, 62)</small><table border=\"1\" class=\"dataframe\"><thead><tr><th>Q1</th><th>Q10</th><th>Q2</th><th>Q3</th><th>Q4</th><th>Q5.1</th><th>Q5.1_numeric</th><th>Q5.2</th><th>Q5.2_numeric</th><th>Q5.3</th><th>Q5.3_numeric</th><th>Q5.4</th><th>Q5.4_numeric</th><th>Q5.5</th><th>Q5.5_numeric</th><th>Q5.6</th><th>Q5.6_numeric</th><th>Q6.1</th><th>Q6.1_numeric</th><th>Q6.2</th><th>Q6.2_numeric</th><th>Q6.3</th><th>Q6.3_numeric</th><th>Q6.4</th><th>Q6.4_numeric</th><th>Q6.5</th><th>Q6.5_numeric</th><th>Q6.6</th><th>Q6.6_numeric</th><th>Q6.7</th><th>Q6.7_numeric</th><th>Q6.8</th><th>Q6.8_numeric</th><th>Q7.1</th><th>Q7.1_numeric</th><th>Q7.2</th><th>Q7.2_numeric</th><th>Q7.3</th><th>Q7.3_numeric</th><th>Q7.4</th><th>Q7.4_numeric</th><th>Q8.1</th><th>Q8.1_numeric</th><th>Q8.2</th><th>Q8.2_numeric</th><th>Q8.3</th><th>Q8.3_numeric</th><th>Q8.4</th><th>Q8.4_numeric</th><th>Q8.5</th><th>Q8.5_numeric</th><th>Q9.1</th><th>Q9.1_numeric</th><th>Q9.2</th><th>Q9.2_numeric</th><th>Q9.3</th><th>Q9.3_numeric</th><th>Q9.4</th><th>Q9.4_numeric</th><th>Q9.5</th><th>Q9.5_numeric</th><th>Timestamp</th></tr><tr><td>str</td><td>str</td><td>str</td><td>str</td><td>str</td><td>str</td><td>u8</td><td>str</td><td>u8</td><td>str</td><td>u8</td><td>str</td><td>u8</td><td>str</td><td>u8</td><td>str</td><td>u8</td><td>str</td><td>u8</td><td>str</td><td>u8</td><td>str</td><td>u8</td><td>str</td><td>u8</td><td>str</td><td>u8</td><td>str</td><td>u8</td><td>str</td><td>u8</td><td>str</td><td>u8</td><td>str</td><td>u8</td><td>str</td><td>u8</td><td>str</td><td>u8</td><td>str</td><td>u8</td><td>str</td><td>u8</td><td>str</td><td>u8</td><td>str</td><td>u8</td><td>str</td><td>u8</td><td>str</td><td>u8</td><td>str</td><td>u8</td><td>str</td><td>u8</td><td>str</td><td>u8</td><td>str</td><td>u8</td><td>str</td><td>u8</td><td>str</td></tr></thead><tbody><tr><td>&quot;Master&quot;</td><td>&quot;No answer&quot;</td><td>&quot;International Economic Relatio…</td><td>&quot;Female&quot;</td><td>&quot;Often&quot;</td><td>&quot;Agree&quot;</td><td>4</td><td>&quot;Agree&quot;</td><td>4</td><td>&quot;Strongly Agree&quot;</td><td>5</td><td>&quot;Strongly Agree&quot;</td><td>5</td><td>&quot;Agree&quot;</td><td>4</td><td>&quot;Neutral&quot;</td><td>3</td><td>&quot;Agree&quot;</td><td>4</td><td>&quot;Strongly Agree&quot;</td><td>5</td><td>&quot;Neutral&quot;</td><td>3</td><td>&quot;Agree&quot;</td><td>4</td><td>&quot;Strongly Agree&quot;</td><td>5</td><td>&quot;Strongly Agree&quot;</td><td>5</td><td>&quot;Strongly Agree&quot;</td><td>5</td><td>&quot;Disagree&quot;</td><td>2</td><td>&quot;Neutral&quot;</td><td>3</td><td>&quot;Disagree&quot;</td><td>2</td><td>&quot;Agree&quot;</td><td>4</td><td>&quot;Strongly Agree&quot;</td><td>5</td><td>&quot;Agree&quot;</td><td>4</td><td>&quot;Strongly Agree&quot;</td><td>5</td><td>&quot;Strongly Agree&quot;</td><td>5</td><td>&quot;Agree&quot;</td><td>4</td><td>&quot;Strongly Agree&quot;</td><td>5</td><td>&quot;Agree&quot;</td><td>4</td><td>&quot;Strongly Agree&quot;</td><td>5</td><td>&quot;Strongly Agree&quot;</td><td>5</td><td>&quot;Agree&quot;</td><td>4</td><td>&quot;Agree&quot;</td><td>4</td><td>&quot;5.14.2023 21:22:19&quot;</td></tr><tr><td>&quot;Bachelor&quot;</td><td>&quot;No answer&quot;</td><td>&quot;International Economic Relatio…</td><td>&quot;Female&quot;</td><td>&quot;Sometimes&quot;</td><td>&quot;Disagree&quot;</td><td>2</td><td>&quot;Agree&quot;</td><td>4</td><td>&quot;Disagree&quot;</td><td>2</td><td>&quot;Strongly Disagree&quot;</td><td>1</td><td>&quot;Neutral&quot;</td><td>3</td><td>&quot;Agree&quot;</td><td>4</td><td>&quot;Strongly Agree&quot;</td><td>5</td><td>&quot;Neutral&quot;</td><td>3</td><td>&quot;Agree&quot;</td><td>4</td><td>&quot;Strongly Agree&quot;</td><td>5</td><td>&quot;Strongly Agree&quot;</td><td>5</td><td>&quot;Agree&quot;</td><td>4</td><td>&quot;Strongly Agree&quot;</td><td>5</td><td>&quot;Agree&quot;</td><td>4</td><td>&quot;Neutral&quot;</td><td>3</td><td>&quot;Neutral&quot;</td><td>3</td><td>&quot;Disagree&quot;</td><td>2</td><td>&quot;Strongly Disagree&quot;</td><td>1</td><td>&quot;Agree&quot;</td><td>4</td><td>&quot;Agree&quot;</td><td>4</td><td>&quot;Agree&quot;</td><td>4</td><td>&quot;Disagree&quot;</td><td>2</td><td>&quot;Neutral&quot;</td><td>3</td><td>&quot;Neutral&quot;</td><td>3</td><td>&quot;Agree&quot;</td><td>4</td><td>&quot;Neutral&quot;</td><td>3</td><td>&quot;Disagree&quot;</td><td>2</td><td>&quot;Disagree&quot;</td><td>2</td><td>&quot;5.15.2023 8:45:52&quot;</td></tr><tr><td>&quot;Bachelor&quot;</td><td>&quot;No answer&quot;</td><td>&quot;International Economic Relatio…</td><td>&quot;Female&quot;</td><td>&quot;Rarely&quot;</td><td>&quot;Neutral&quot;</td><td>3</td><td>&quot;Neutral&quot;</td><td>3</td><td>&quot;Neutral&quot;</td><td>3</td><td>&quot;Disagree&quot;</td><td>2</td><td>&quot;Neutral&quot;</td><td>3</td><td>&quot;Agree&quot;</td><td>4</td><td>&quot;Neutral&quot;</td><td>3</td><td>&quot;Neutral&quot;</td><td>3</td><td>&quot;Agree&quot;</td><td>4</td><td>&quot;Agree&quot;</td><td>4</td><td>&quot;Disagree&quot;</td><td>2</td><td>&quot;Agree&quot;</td><td>4</td><td>&quot;Agree&quot;</td><td>4</td><td>&quot;Agree&quot;</td><td>4</td><td>&quot;Disagree&quot;</td><td>2</td><td>&quot;Disagree&quot;</td><td>2</td><td>&quot;Disagree&quot;</td><td>2</td><td>&quot;Strongly Disagree&quot;</td><td>1</td><td>&quot;Agree&quot;</td><td>4</td><td>&quot;Agree&quot;</td><td>4</td><td>&quot;Agree&quot;</td><td>4</td><td>&quot;Neutral&quot;</td><td>3</td><td>&quot;Neutral&quot;</td><td>3</td><td>&quot;Neutral&quot;</td><td>3</td><td>&quot;Neutral&quot;</td><td>3</td><td>&quot;Disagree&quot;</td><td>2</td><td>&quot;Disagree&quot;</td><td>2</td><td>&quot;Neutral&quot;</td><td>3</td><td>&quot;5.15.2023 9:54:15&quot;</td></tr><tr><td>&quot;Bachelor&quot;</td><td>&quot;No answer&quot;</td><td>&quot;International Economic Relatio…</td><td>&quot;Female&quot;</td><td>&quot;Rarely&quot;</td><td>&quot;Agree&quot;</td><td>4</td><td>&quot;Agree&quot;</td><td>4</td><td>&quot;Agree&quot;</td><td>4</td><td>&quot;Disagree&quot;</td><td>2</td><td>&quot;Agree&quot;</td><td>4</td><td>&quot;Agree&quot;</td><td>4</td><td>&quot;Strongly Agree&quot;</td><td>5</td><td>&quot;Neutral&quot;</td><td>3</td><td>&quot;Agree&quot;</td><td>4</td><td>&quot;Strongly Agree&quot;</td><td>5</td><td>&quot;Neutral&quot;</td><td>3</td><td>&quot;Agree&quot;</td><td>4</td><td>&quot;Strongly Agree&quot;</td><td>5</td><td>&quot;Agree&quot;</td><td>4</td><td>&quot;Agree&quot;</td><td>4</td><td>&quot;Agree&quot;</td><td>4</td><td>&quot;Disagree&quot;</td><td>2</td><td>&quot;Agree&quot;</td><td>4</td><td>&quot;Agree&quot;</td><td>4</td><td>&quot;Agree&quot;</td><td>4</td><td>&quot;Agree&quot;</td><td>4</td><td>&quot;Agree&quot;</td><td>4</td><td>&quot;Agree&quot;</td><td>4</td><td>&quot;Agree&quot;</td><td>4</td><td>&quot;Agree&quot;</td><td>4</td><td>&quot;Neutral&quot;</td><td>3</td><td>&quot;Agree&quot;</td><td>4</td><td>&quot;Agree&quot;</td><td>4</td><td>&quot;5.15.2023 15:17:41&quot;</td></tr><tr><td>&quot;Bachelor&quot;</td><td>&quot;No answer&quot;</td><td>&quot;International Economic Relatio…</td><td>&quot;Female&quot;</td><td>&quot;Sometimes&quot;</td><td>&quot;Agree&quot;</td><td>4</td><td>&quot;Agree&quot;</td><td>4</td><td>&quot;Neutral&quot;</td><td>3</td><td>&quot;Disagree&quot;</td><td>2</td><td>&quot;Agree&quot;</td><td>4</td><td>&quot;Agree&quot;</td><td>4</td><td>&quot;Agree&quot;</td><td>4</td><td>&quot;Agree&quot;</td><td>4</td><td>&quot;Agree&quot;</td><td>4</td><td>&quot;Agree&quot;</td><td>4</td><td>&quot;Neutral&quot;</td><td>3</td><td>&quot;Neutral&quot;</td><td>3</td><td>&quot;Agree&quot;</td><td>4</td><td>&quot;Agree&quot;</td><td>4</td><td>&quot;Neutral&quot;</td><td>3</td><td>&quot;Disagree&quot;</td><td>2</td><td>&quot;Agree&quot;</td><td>4</td><td>&quot;Neutral&quot;</td><td>3</td><td>&quot;Neutral&quot;</td><td>3</td><td>&quot;Agree&quot;</td><td>4</td><td>&quot;Agree&quot;</td><td>4</td><td>&quot;Neutral&quot;</td><td>3</td><td>&quot;Neutral&quot;</td><td>3</td><td>&quot;Neutral&quot;</td><td>3</td><td>&quot;Neutral&quot;</td><td>3</td><td>&quot;Neutral&quot;</td><td>3</td><td>&quot;Neutral&quot;</td><td>3</td><td>&quot;Neutral&quot;</td><td>3</td><td>&quot;5.15.2023 15:19:02&quot;</td></tr><tr><td>&hellip;</td><td>&hellip;</td><td>&hellip;</td><td>&hellip;</td><td>&hellip;</td><td>&hellip;</td><td>&hellip;</td><td>&hellip;</td><td>&hellip;</td><td>&hellip;</td><td>&hellip;</td><td>&hellip;</td><td>&hellip;</td><td>&hellip;</td><td>&hellip;</td><td>&hellip;</td><td>&hellip;</td><td>&hellip;</td><td>&hellip;</td><td>&hellip;</td><td>&hellip;</td><td>&hellip;</td><td>&hellip;</td><td>&hellip;</td><td>&hellip;</td><td>&hellip;</td><td>&hellip;</td><td>&hellip;</td><td>&hellip;</td><td>&hellip;</td><td>&hellip;</td><td>&hellip;</td><td>&hellip;</td><td>&hellip;</td><td>&hellip;</td><td>&hellip;</td><td>&hellip;</td><td>&hellip;</td><td>&hellip;</td><td>&hellip;</td><td>&hellip;</td><td>&hellip;</td><td>&hellip;</td><td>&hellip;</td><td>&hellip;</td><td>&hellip;</td><td>&hellip;</td><td>&hellip;</td><td>&hellip;</td><td>&hellip;</td><td>&hellip;</td><td>&hellip;</td><td>&hellip;</td><td>&hellip;</td><td>&hellip;</td><td>&hellip;</td><td>&hellip;</td><td>&hellip;</td><td>&hellip;</td><td>&hellip;</td><td>&hellip;</td><td>&hellip;</td></tr><tr><td>&quot;Bachelor&quot;</td><td>&quot;ChtGPT helps me a lot in prepa…</td><td>&quot;International Economic Relatio…</td><td>&quot;Female&quot;</td><td>&quot;Often&quot;</td><td>&quot;Agree&quot;</td><td>4</td><td>&quot;Neutral&quot;</td><td>3</td><td>&quot;Agree&quot;</td><td>4</td><td>&quot;Agree&quot;</td><td>4</td><td>&quot;Agree&quot;</td><td>4</td><td>&quot;Agree&quot;</td><td>4</td><td>&quot;Agree&quot;</td><td>4</td><td>&quot;Agree&quot;</td><td>4</td><td>&quot;Agree&quot;</td><td>4</td><td>&quot;Agree&quot;</td><td>4</td><td>&quot;Agree&quot;</td><td>4</td><td>&quot;Agree&quot;</td><td>4</td><td>&quot;Disagree&quot;</td><td>2</td><td>&quot;Agree&quot;</td><td>4</td><td>&quot;Disagree&quot;</td><td>2</td><td>&quot;Neutral&quot;</td><td>3</td><td>&quot;Neutral&quot;</td><td>3</td><td>&quot;Agree&quot;</td><td>4</td><td>&quot;Agree&quot;</td><td>4</td><td>&quot;Agree&quot;</td><td>4</td><td>&quot;Agree&quot;</td><td>4</td><td>&quot;Disagree&quot;</td><td>2</td><td>&quot;Neutral&quot;</td><td>3</td><td>&quot;Neutral&quot;</td><td>3</td><td>&quot;Agree&quot;</td><td>4</td><td>&quot;Neutral&quot;</td><td>3</td><td>&quot;Agree&quot;</td><td>4</td><td>&quot;Agree&quot;</td><td>4</td><td>&quot;5.26.2023 15:44:55&quot;</td></tr><tr><td>&quot;Bachelor&quot;</td><td>&quot;No answer&quot;</td><td>&quot;Finance&quot;</td><td>&quot;Female&quot;</td><td>&quot;Never&quot;</td><td>&quot;Neutral&quot;</td><td>3</td><td>&quot;Neutral&quot;</td><td>3</td><td>&quot;Disagree&quot;</td><td>2</td><td>&quot;Disagree&quot;</td><td>2</td><td>&quot;Neutral&quot;</td><td>3</td><td>&quot;Disagree&quot;</td><td>2</td><td>&quot;Agree&quot;</td><td>4</td><td>&quot;Agree&quot;</td><td>4</td><td>&quot;Agree&quot;</td><td>4</td><td>&quot;Agree&quot;</td><td>4</td><td>&quot;Agree&quot;</td><td>4</td><td>&quot;Agree&quot;</td><td>4</td><td>&quot;Agree&quot;</td><td>4</td><td>&quot;Agree&quot;</td><td>4</td><td>&quot;Disagree&quot;</td><td>2</td><td>&quot;Disagree&quot;</td><td>2</td><td>&quot;Disagree&quot;</td><td>2</td><td>&quot;Disagree&quot;</td><td>2</td><td>&quot;Agree&quot;</td><td>4</td><td>&quot;Agree&quot;</td><td>4</td><td>&quot;Agree&quot;</td><td>4</td><td>&quot;Agree&quot;</td><td>4</td><td>&quot;Agree&quot;</td><td>4</td><td>&quot;Agree&quot;</td><td>4</td><td>&quot;Agree&quot;</td><td>4</td><td>&quot;Agree&quot;</td><td>4</td><td>&quot;Agree&quot;</td><td>4</td><td>&quot;Agree&quot;</td><td>4</td><td>&quot;5.26.2023 21:43:23&quot;</td></tr><tr><td>&quot;Bachelor&quot;</td><td>&quot;No answer&quot;</td><td>&quot;Marketing&quot;</td><td>&quot;Female&quot;</td><td>&quot;Very often&quot;</td><td>&quot;Agree&quot;</td><td>4</td><td>&quot;Agree&quot;</td><td>4</td><td>&quot;Neutral&quot;</td><td>3</td><td>&quot;Neutral&quot;</td><td>3</td><td>&quot;Neutral&quot;</td><td>3</td><td>&quot;Neutral&quot;</td><td>3</td><td>&quot;Strongly Agree&quot;</td><td>5</td><td>&quot;Strongly Agree&quot;</td><td>5</td><td>&quot;Strongly Agree&quot;</td><td>5</td><td>&quot;Strongly Agree&quot;</td><td>5</td><td>&quot;Agree&quot;</td><td>4</td><td>&quot;Strongly Agree&quot;</td><td>5</td><td>&quot;Strongly Agree&quot;</td><td>5</td><td>&quot;Strongly Agree&quot;</td><td>5</td><td>&quot;Disagree&quot;</td><td>2</td><td>&quot;Disagree&quot;</td><td>2</td><td>&quot;Disagree&quot;</td><td>2</td><td>&quot;Disagree&quot;</td><td>2</td><td>&quot;Strongly Agree&quot;</td><td>5</td><td>&quot;Strongly Agree&quot;</td><td>5</td><td>&quot;Strongly Agree&quot;</td><td>5</td><td>&quot;Agree&quot;</td><td>4</td><td>&quot;Agree&quot;</td><td>4</td><td>&quot;Disagree&quot;</td><td>2</td><td>&quot;Agree&quot;</td><td>4</td><td>&quot;Neutral&quot;</td><td>3</td><td>&quot;Agree&quot;</td><td>4</td><td>&quot;Agree&quot;</td><td>4</td><td>&quot;5.27.2023 10:28:36&quot;</td></tr><tr><td>&quot;Bachelor&quot;</td><td>&quot;No answer&quot;</td><td>&quot;Public Administration&quot;</td><td>&quot;Male&quot;</td><td>&quot;Often&quot;</td><td>&quot;Agree&quot;</td><td>4</td><td>&quot;Agree&quot;</td><td>4</td><td>&quot;Agree&quot;</td><td>4</td><td>&quot;Agree&quot;</td><td>4</td><td>&quot;Neutral&quot;</td><td>3</td><td>&quot;Neutral&quot;</td><td>3</td><td>&quot;Agree&quot;</td><td>4</td><td>&quot;Neutral&quot;</td><td>3</td><td>&quot;Agree&quot;</td><td>4</td><td>&quot;Strongly Agree&quot;</td><td>5</td><td>&quot;Agree&quot;</td><td>4</td><td>&quot;Neutral&quot;</td><td>3</td><td>&quot;Strongly Agree&quot;</td><td>5</td><td>&quot;Strongly Agree&quot;</td><td>5</td><td>&quot;Disagree&quot;</td><td>2</td><td>&quot;Strongly Agree&quot;</td><td>5</td><td>&quot;Neutral&quot;</td><td>3</td><td>&quot;Strongly Agree&quot;</td><td>5</td><td>&quot;Strongly Agree&quot;</td><td>5</td><td>&quot;Agree&quot;</td><td>4</td><td>&quot;Agree&quot;</td><td>4</td><td>&quot;Agree&quot;</td><td>4</td><td>&quot;Agree&quot;</td><td>4</td><td>&quot;Disagree&quot;</td><td>2</td><td>&quot;Neutral&quot;</td><td>3</td><td>&quot;Neutral&quot;</td><td>3</td><td>&quot;Neutral&quot;</td><td>3</td><td>&quot;Neutral&quot;</td><td>3</td><td>&quot;5.28.2023 0:51:54&quot;</td></tr><tr><td>&quot;Bachelor&quot;</td><td>&quot;I don&#x27;t have any&quot;</td><td>&quot;Finance&quot;</td><td>&quot;Female&quot;</td><td>&quot;Rarely&quot;</td><td>&quot;Neutral&quot;</td><td>3</td><td>&quot;Neutral&quot;</td><td>3</td><td>&quot;Neutral&quot;</td><td>3</td><td>&quot;Neutral&quot;</td><td>3</td><td>&quot;Neutral&quot;</td><td>3</td><td>&quot;Neutral&quot;</td><td>3</td><td>&quot;Neutral&quot;</td><td>3</td><td>&quot;Neutral&quot;</td><td>3</td><td>&quot;Neutral&quot;</td><td>3</td><td>&quot;Neutral&quot;</td><td>3</td><td>&quot;Neutral&quot;</td><td>3</td><td>&quot;Neutral&quot;</td><td>3</td><td>&quot;Neutral&quot;</td><td>3</td><td>&quot;Neutral&quot;</td><td>3</td><td>&quot;Neutral&quot;</td><td>3</td><td>&quot;Neutral&quot;</td><td>3</td><td>&quot;Neutral&quot;</td><td>3</td><td>&quot;Neutral&quot;</td><td>3</td><td>&quot;Neutral&quot;</td><td>3</td><td>&quot;Neutral&quot;</td><td>3</td><td>&quot;Neutral&quot;</td><td>3</td><td>&quot;Neutral&quot;</td><td>3</td><td>&quot;Neutral&quot;</td><td>3</td><td>&quot;Neutral&quot;</td><td>3</td><td>&quot;Neutral&quot;</td><td>3</td><td>&quot;Neutral&quot;</td><td>3</td><td>&quot;Neutral&quot;</td><td>3</td><td>&quot;Neutral&quot;</td><td>3</td><td>&quot;5.31.2023 17:42:52&quot;</td></tr></tbody></table></div>"
      ]
     },
     "execution_count": 64,
     "metadata": {},
     "output_type": "execute_result"
    }
   ],
   "execution_count": 64
  },
  {
   "metadata": {
    "ExecuteTime": {
     "end_time": "2024-09-17T18:44:55.495362Z",
     "start_time": "2024-09-17T18:44:55.488165Z"
    }
   },
   "cell_type": "code",
   "source": [
    "numeric_columns_data = pl_data.select(pl.col(pl.UInt8))\n",
    "\n",
    "numeric_columns_data.mean()"
   ],
   "id": "da4710f85907f34a",
   "outputs": [
    {
     "data": {
      "text/plain": [
       "shape: (1, 28)\n",
       "┌───────────┬───────────┬───────────┬───────────┬───┬───────────┬───────────┬───────────┬──────────┐\n",
       "│ Q5.1_nume ┆ Q5.2_nume ┆ Q5.3_nume ┆ Q5.4_nume ┆ … ┆ Q9.2_nume ┆ Q9.3_nume ┆ Q9.4_nume ┆ Q9.5_num │\n",
       "│ ric       ┆ ric       ┆ ric       ┆ ric       ┆   ┆ ric       ┆ ric       ┆ ric       ┆ eric     │\n",
       "│ ---       ┆ ---       ┆ ---       ┆ ---       ┆   ┆ ---       ┆ ---       ┆ ---       ┆ ---      │\n",
       "│ f64       ┆ f64       ┆ f64       ┆ f64       ┆   ┆ f64       ┆ f64       ┆ f64       ┆ f64      │\n",
       "╞═══════════╪═══════════╪═══════════╪═══════════╪═══╪═══════════╪═══════════╪═══════════╪══════════╡\n",
       "│ 3.251908  ┆ 3.40458   ┆ 3.320611  ┆ 2.465649  ┆ … ┆ 3.48855   ┆ 3.221374  ┆ 3.259542  ┆ 3.061069 │\n",
       "└───────────┴───────────┴───────────┴───────────┴───┴───────────┴───────────┴───────────┴──────────┘"
      ],
      "text/html": [
       "<div><style>\n",
       ".dataframe > thead > tr,\n",
       ".dataframe > tbody > tr {\n",
       "  text-align: right;\n",
       "  white-space: pre-wrap;\n",
       "}\n",
       "</style>\n",
       "<small>shape: (1, 28)</small><table border=\"1\" class=\"dataframe\"><thead><tr><th>Q5.1_numeric</th><th>Q5.2_numeric</th><th>Q5.3_numeric</th><th>Q5.4_numeric</th><th>Q5.5_numeric</th><th>Q5.6_numeric</th><th>Q6.1_numeric</th><th>Q6.2_numeric</th><th>Q6.3_numeric</th><th>Q6.4_numeric</th><th>Q6.5_numeric</th><th>Q6.6_numeric</th><th>Q6.7_numeric</th><th>Q6.8_numeric</th><th>Q7.1_numeric</th><th>Q7.2_numeric</th><th>Q7.3_numeric</th><th>Q7.4_numeric</th><th>Q8.1_numeric</th><th>Q8.2_numeric</th><th>Q8.3_numeric</th><th>Q8.4_numeric</th><th>Q8.5_numeric</th><th>Q9.1_numeric</th><th>Q9.2_numeric</th><th>Q9.3_numeric</th><th>Q9.4_numeric</th><th>Q9.5_numeric</th></tr><tr><td>f64</td><td>f64</td><td>f64</td><td>f64</td><td>f64</td><td>f64</td><td>f64</td><td>f64</td><td>f64</td><td>f64</td><td>f64</td><td>f64</td><td>f64</td><td>f64</td><td>f64</td><td>f64</td><td>f64</td><td>f64</td><td>f64</td><td>f64</td><td>f64</td><td>f64</td><td>f64</td><td>f64</td><td>f64</td><td>f64</td><td>f64</td><td>f64</td></tr></thead><tbody><tr><td>3.251908</td><td>3.40458</td><td>3.320611</td><td>2.465649</td><td>3.175573</td><td>3.366412</td><td>4.061069</td><td>3.793893</td><td>3.732824</td><td>4.381679</td><td>3.847328</td><td>3.862595</td><td>4.259542</td><td>3.977099</td><td>3.21374</td><td>3.282443</td><td>3.320611</td><td>3.19084</td><td>3.877863</td><td>3.931298</td><td>3.931298</td><td>3.274809</td><td>3.389313</td><td>3.412214</td><td>3.48855</td><td>3.221374</td><td>3.259542</td><td>3.061069</td></tr></tbody></table></div>"
      ]
     },
     "execution_count": 65,
     "metadata": {},
     "output_type": "execute_result"
    }
   ],
   "execution_count": 65
  },
  {
   "metadata": {
    "ExecuteTime": {
     "end_time": "2024-09-17T19:01:37.277103Z",
     "start_time": "2024-09-17T19:01:37.270969Z"
    }
   },
   "cell_type": "code",
   "source": [
    "result = (\n",
    "    pl_data.select('Q10')\n",
    "    .filter(pl.col('Q10') != 'No answer')\n",
    "    .with_columns(pl.col('Q10').str.split(' '))\n",
    "    .explode('Q10')\n",
    "    .group_by('Q10')\n",
    "    .agg(pl.count('Q10').alias('count'))\n",
    "    .sort('count', descending=True)\n",
    ")\n",
    "result"
   ],
   "id": "43ffee836c30681e",
   "outputs": [
    {
     "data": {
      "text/plain": [
       "shape: (605, 2)\n",
       "┌────────────┬───────┐\n",
       "│ Q10        ┆ count │\n",
       "│ ---        ┆ ---   │\n",
       "│ str        ┆ u32   │\n",
       "╞════════════╪═══════╡\n",
       "│ and        ┆ 64    │\n",
       "│ the        ┆ 64    │\n",
       "│ to         ┆ 51    │\n",
       "│ I          ┆ 47    │\n",
       "│ of         ┆ 46    │\n",
       "│ …          ┆ …     │\n",
       "│ future     ┆ 1     │\n",
       "│ comment    ┆ 1     │\n",
       "│ short      ┆ 1     │\n",
       "│ following: ┆ 1     │\n",
       "│ ChatGTP    ┆ 1     │\n",
       "└────────────┴───────┘"
      ],
      "text/html": [
       "<div><style>\n",
       ".dataframe > thead > tr,\n",
       ".dataframe > tbody > tr {\n",
       "  text-align: right;\n",
       "  white-space: pre-wrap;\n",
       "}\n",
       "</style>\n",
       "<small>shape: (605, 2)</small><table border=\"1\" class=\"dataframe\"><thead><tr><th>Q10</th><th>count</th></tr><tr><td>str</td><td>u32</td></tr></thead><tbody><tr><td>&quot;and&quot;</td><td>64</td></tr><tr><td>&quot;the&quot;</td><td>64</td></tr><tr><td>&quot;to&quot;</td><td>51</td></tr><tr><td>&quot;I&quot;</td><td>47</td></tr><tr><td>&quot;of&quot;</td><td>46</td></tr><tr><td>&hellip;</td><td>&hellip;</td></tr><tr><td>&quot;future&quot;</td><td>1</td></tr><tr><td>&quot;comment&quot;</td><td>1</td></tr><tr><td>&quot;short&quot;</td><td>1</td></tr><tr><td>&quot;following:&quot;</td><td>1</td></tr><tr><td>&quot;ChatGTP&quot;</td><td>1</td></tr></tbody></table></div>"
      ]
     },
     "execution_count": 88,
     "metadata": {},
     "output_type": "execute_result"
    }
   ],
   "execution_count": 88
  }
 ],
 "metadata": {
  "kernelspec": {
   "display_name": "Python 3",
   "language": "python",
   "name": "python3"
  },
  "language_info": {
   "codemirror_mode": {
    "name": "ipython",
    "version": 2
   },
   "file_extension": ".py",
   "mimetype": "text/x-python",
   "name": "python",
   "nbconvert_exporter": "python",
   "pygments_lexer": "ipython2",
   "version": "2.7.6"
  }
 },
 "nbformat": 4,
 "nbformat_minor": 5
}
