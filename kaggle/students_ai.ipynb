{
 "cells": [
  {
   "metadata": {},
   "cell_type": "markdown",
   "source": "## This is a deep inside how Gen AI technologies like ChatGPT are perceived by students",
   "id": "fef92824a430289a"
  },
  {
   "cell_type": "code",
   "id": "initial_id",
   "metadata": {
    "collapsed": true,
    "ExecuteTime": {
     "end_time": "2024-09-14T20:48:37.798144Z",
     "start_time": "2024-09-14T20:48:37.794469Z"
    }
   },
   "source": [
    "import polars as pl\n",
    "import pandas as pd\n",
    "import numpy as np\n",
    "import matplotlib.pyplot as plt\n",
    "import seaborn as sns\n",
    "import plotly.express as px"
   ],
   "outputs": [],
   "execution_count": 121
  },
  {
   "metadata": {
    "ExecuteTime": {
     "end_time": "2024-09-14T20:48:37.826572Z",
     "start_time": "2024-09-14T20:48:37.813943Z"
    }
   },
   "cell_type": "code",
   "source": "file_path = 'F:\\DataSpell\\Polars_library_learn\\data\\AI_Chatbots_Students_Attitude_Dataset_EN.csv'",
   "id": "77b90558f4b3d8d0",
   "outputs": [],
   "execution_count": 122
  },
  {
   "metadata": {
    "ExecuteTime": {
     "end_time": "2024-09-14T20:48:37.841944Z",
     "start_time": "2024-09-14T20:48:37.837090Z"
    }
   },
   "cell_type": "code",
   "source": "data = pd.read_csv(file_path, encoding='ISO-8859-1', on_bad_lines='skip', delimiter=';')",
   "id": "aca5efc1c6d129ae",
   "outputs": [],
   "execution_count": 123
  },
  {
   "metadata": {
    "ExecuteTime": {
     "end_time": "2024-09-14T20:48:37.899802Z",
     "start_time": "2024-09-14T20:48:37.888045Z"
    }
   },
   "cell_type": "code",
   "source": "data",
   "id": "18938d000aaf7564",
   "outputs": [
    {
     "data": {
      "text/plain": [
       "              Timestamp        Q1                                 Q2      Q3  \\\n",
       "0    5.14.2023 21:22:19    Master   International Economic Relations  Female   \n",
       "1     5.15.2023 8:45:52  Bachelor  International Economic Relations   Female   \n",
       "2     5.15.2023 9:54:15  Bachelor   International Economic Relations  Female   \n",
       "3    5.15.2023 15:17:41  Bachelor   International Economic Relations  Female   \n",
       "4    5.15.2023 15:19:02  Bachelor   International Economic Relations  Female   \n",
       "..                  ...       ...                                ...     ...   \n",
       "126  5.26.2023 15:44:55  Bachelor   International Economic Relations  Female   \n",
       "127  5.26.2023 21:43:23  Bachelor                           Finance   Female   \n",
       "128  5.27.2023 10:28:36  Bachelor                          Marketing  Female   \n",
       "129   5.28.2023 0:51:54  Bachelor              Public Administration    Male   \n",
       "130  5.31.2023 17:42:52  Bachelor                            Finance  Female   \n",
       "\n",
       "             Q4      Q5.1     Q5.2            Q5.3               Q5.4  \\\n",
       "0         Îften     Agree    Agree  Strongly Agree     Strongly Agree   \n",
       "1     Sometimes  Disagree    Agree        Disagree  Strongly Disagree   \n",
       "2        Rarely   Neutral  Neutral         Neutral           Disagree   \n",
       "3        Rarely     Agree    Agree           Agree           Disagree   \n",
       "4     Sometimes     Agree    Agree         Neutral           Disagree   \n",
       "..          ...       ...      ...             ...                ...   \n",
       "126       Îften     Agree  Neutral           Agree              Agree   \n",
       "127       Never   Neutral  Neutral        Disagree           Disagree   \n",
       "128  Very often     Agree    Agree         Neutral            Neutral   \n",
       "129       Îften     Agree    Agree           Agree              Agree   \n",
       "130      Rarely   Neutral  Neutral         Neutral            Neutral   \n",
       "\n",
       "        Q5.5  ...            Q8.2            Q8.3      Q8.4            Q8.5  \\\n",
       "0      Agree  ...  Strongly Agree  Strongly Agree     Agree  Strongly Agree   \n",
       "1    Neutral  ...           Agree           Agree  Disagree         Neutral   \n",
       "2    Neutral  ...           Agree           Agree   Neutral         Neutral   \n",
       "3      Agree  ...           Agree           Agree     Agree           Agree   \n",
       "4      Agree  ...           Agree           Agree   Neutral         Neutral   \n",
       "..       ...  ...             ...             ...       ...             ...   \n",
       "126    Agree  ...           Agree           Agree  Disagree         Neutral   \n",
       "127  Neutral  ...           Agree           Agree     Agree           Agree   \n",
       "128  Neutral  ...  Strongly Agree  Strongly Agree     Agree           Agree   \n",
       "129  Neutral  ...           Agree           Agree     Agree           Agree   \n",
       "130  Neutral  ...         Neutral         Neutral   Neutral         Neutral   \n",
       "\n",
       "         Q9.1            Q9.2            Q9.3      Q9.4      Q9.5  \\\n",
       "0       Agree  Strongly Agree  Strongly Agree     Agree     Agree   \n",
       "1     Neutral           Agree         Neutral  Disagree  Disagree   \n",
       "2     Neutral         Neutral        Disagree  Disagree   Neutral   \n",
       "3       Agree           Agree         Neutral     Agree     Agree   \n",
       "4     Neutral         Neutral         Neutral   Neutral   Neutral   \n",
       "..        ...             ...             ...       ...       ...   \n",
       "126   Neutral           Agree         Neutral     Agree     Agree   \n",
       "127     Agree           Agree           Agree     Agree     Agree   \n",
       "128  Disagree           Agree         Neutral     Agree     Agree   \n",
       "129  Disagree         Neutral         Neutral   Neutral   Neutral   \n",
       "130   Neutral         Neutral         Neutral   Neutral   Neutral   \n",
       "\n",
       "                                                   Q10  \n",
       "0                                                  NaN  \n",
       "1                                                  NaN  \n",
       "2                                                  NaN  \n",
       "3                                                  NaN  \n",
       "4                                                  NaN  \n",
       "..                                                 ...  \n",
       "126  ChtGPT helps me a lot in preparing for assignm...  \n",
       "127                                                NaN  \n",
       "128                                                NaN  \n",
       "129                                                NaN  \n",
       "130                                   I don't have any  \n",
       "\n",
       "[131 rows x 34 columns]"
      ],
      "text/html": [
       "<div>\n",
       "<style scoped>\n",
       "    .dataframe tbody tr th:only-of-type {\n",
       "        vertical-align: middle;\n",
       "    }\n",
       "\n",
       "    .dataframe tbody tr th {\n",
       "        vertical-align: top;\n",
       "    }\n",
       "\n",
       "    .dataframe thead th {\n",
       "        text-align: right;\n",
       "    }\n",
       "</style>\n",
       "<table border=\"1\" class=\"dataframe\">\n",
       "  <thead>\n",
       "    <tr style=\"text-align: right;\">\n",
       "      <th></th>\n",
       "      <th>Timestamp</th>\n",
       "      <th>Q1</th>\n",
       "      <th>Q2</th>\n",
       "      <th>Q3</th>\n",
       "      <th>Q4</th>\n",
       "      <th>Q5.1</th>\n",
       "      <th>Q5.2</th>\n",
       "      <th>Q5.3</th>\n",
       "      <th>Q5.4</th>\n",
       "      <th>Q5.5</th>\n",
       "      <th>...</th>\n",
       "      <th>Q8.2</th>\n",
       "      <th>Q8.3</th>\n",
       "      <th>Q8.4</th>\n",
       "      <th>Q8.5</th>\n",
       "      <th>Q9.1</th>\n",
       "      <th>Q9.2</th>\n",
       "      <th>Q9.3</th>\n",
       "      <th>Q9.4</th>\n",
       "      <th>Q9.5</th>\n",
       "      <th>Q10</th>\n",
       "    </tr>\n",
       "  </thead>\n",
       "  <tbody>\n",
       "    <tr>\n",
       "      <th>0</th>\n",
       "      <td>5.14.2023 21:22:19</td>\n",
       "      <td>Master</td>\n",
       "      <td>International Economic Relations</td>\n",
       "      <td>Female</td>\n",
       "      <td>Îften</td>\n",
       "      <td>Agree</td>\n",
       "      <td>Agree</td>\n",
       "      <td>Strongly Agree</td>\n",
       "      <td>Strongly Agree</td>\n",
       "      <td>Agree</td>\n",
       "      <td>...</td>\n",
       "      <td>Strongly Agree</td>\n",
       "      <td>Strongly Agree</td>\n",
       "      <td>Agree</td>\n",
       "      <td>Strongly Agree</td>\n",
       "      <td>Agree</td>\n",
       "      <td>Strongly Agree</td>\n",
       "      <td>Strongly Agree</td>\n",
       "      <td>Agree</td>\n",
       "      <td>Agree</td>\n",
       "      <td>NaN</td>\n",
       "    </tr>\n",
       "    <tr>\n",
       "      <th>1</th>\n",
       "      <td>5.15.2023 8:45:52</td>\n",
       "      <td>Bachelor</td>\n",
       "      <td>International Economic Relations</td>\n",
       "      <td>Female</td>\n",
       "      <td>Sometimes</td>\n",
       "      <td>Disagree</td>\n",
       "      <td>Agree</td>\n",
       "      <td>Disagree</td>\n",
       "      <td>Strongly Disagree</td>\n",
       "      <td>Neutral</td>\n",
       "      <td>...</td>\n",
       "      <td>Agree</td>\n",
       "      <td>Agree</td>\n",
       "      <td>Disagree</td>\n",
       "      <td>Neutral</td>\n",
       "      <td>Neutral</td>\n",
       "      <td>Agree</td>\n",
       "      <td>Neutral</td>\n",
       "      <td>Disagree</td>\n",
       "      <td>Disagree</td>\n",
       "      <td>NaN</td>\n",
       "    </tr>\n",
       "    <tr>\n",
       "      <th>2</th>\n",
       "      <td>5.15.2023 9:54:15</td>\n",
       "      <td>Bachelor</td>\n",
       "      <td>International Economic Relations</td>\n",
       "      <td>Female</td>\n",
       "      <td>Rarely</td>\n",
       "      <td>Neutral</td>\n",
       "      <td>Neutral</td>\n",
       "      <td>Neutral</td>\n",
       "      <td>Disagree</td>\n",
       "      <td>Neutral</td>\n",
       "      <td>...</td>\n",
       "      <td>Agree</td>\n",
       "      <td>Agree</td>\n",
       "      <td>Neutral</td>\n",
       "      <td>Neutral</td>\n",
       "      <td>Neutral</td>\n",
       "      <td>Neutral</td>\n",
       "      <td>Disagree</td>\n",
       "      <td>Disagree</td>\n",
       "      <td>Neutral</td>\n",
       "      <td>NaN</td>\n",
       "    </tr>\n",
       "    <tr>\n",
       "      <th>3</th>\n",
       "      <td>5.15.2023 15:17:41</td>\n",
       "      <td>Bachelor</td>\n",
       "      <td>International Economic Relations</td>\n",
       "      <td>Female</td>\n",
       "      <td>Rarely</td>\n",
       "      <td>Agree</td>\n",
       "      <td>Agree</td>\n",
       "      <td>Agree</td>\n",
       "      <td>Disagree</td>\n",
       "      <td>Agree</td>\n",
       "      <td>...</td>\n",
       "      <td>Agree</td>\n",
       "      <td>Agree</td>\n",
       "      <td>Agree</td>\n",
       "      <td>Agree</td>\n",
       "      <td>Agree</td>\n",
       "      <td>Agree</td>\n",
       "      <td>Neutral</td>\n",
       "      <td>Agree</td>\n",
       "      <td>Agree</td>\n",
       "      <td>NaN</td>\n",
       "    </tr>\n",
       "    <tr>\n",
       "      <th>4</th>\n",
       "      <td>5.15.2023 15:19:02</td>\n",
       "      <td>Bachelor</td>\n",
       "      <td>International Economic Relations</td>\n",
       "      <td>Female</td>\n",
       "      <td>Sometimes</td>\n",
       "      <td>Agree</td>\n",
       "      <td>Agree</td>\n",
       "      <td>Neutral</td>\n",
       "      <td>Disagree</td>\n",
       "      <td>Agree</td>\n",
       "      <td>...</td>\n",
       "      <td>Agree</td>\n",
       "      <td>Agree</td>\n",
       "      <td>Neutral</td>\n",
       "      <td>Neutral</td>\n",
       "      <td>Neutral</td>\n",
       "      <td>Neutral</td>\n",
       "      <td>Neutral</td>\n",
       "      <td>Neutral</td>\n",
       "      <td>Neutral</td>\n",
       "      <td>NaN</td>\n",
       "    </tr>\n",
       "    <tr>\n",
       "      <th>...</th>\n",
       "      <td>...</td>\n",
       "      <td>...</td>\n",
       "      <td>...</td>\n",
       "      <td>...</td>\n",
       "      <td>...</td>\n",
       "      <td>...</td>\n",
       "      <td>...</td>\n",
       "      <td>...</td>\n",
       "      <td>...</td>\n",
       "      <td>...</td>\n",
       "      <td>...</td>\n",
       "      <td>...</td>\n",
       "      <td>...</td>\n",
       "      <td>...</td>\n",
       "      <td>...</td>\n",
       "      <td>...</td>\n",
       "      <td>...</td>\n",
       "      <td>...</td>\n",
       "      <td>...</td>\n",
       "      <td>...</td>\n",
       "      <td>...</td>\n",
       "    </tr>\n",
       "    <tr>\n",
       "      <th>126</th>\n",
       "      <td>5.26.2023 15:44:55</td>\n",
       "      <td>Bachelor</td>\n",
       "      <td>International Economic Relations</td>\n",
       "      <td>Female</td>\n",
       "      <td>Îften</td>\n",
       "      <td>Agree</td>\n",
       "      <td>Neutral</td>\n",
       "      <td>Agree</td>\n",
       "      <td>Agree</td>\n",
       "      <td>Agree</td>\n",
       "      <td>...</td>\n",
       "      <td>Agree</td>\n",
       "      <td>Agree</td>\n",
       "      <td>Disagree</td>\n",
       "      <td>Neutral</td>\n",
       "      <td>Neutral</td>\n",
       "      <td>Agree</td>\n",
       "      <td>Neutral</td>\n",
       "      <td>Agree</td>\n",
       "      <td>Agree</td>\n",
       "      <td>ChtGPT helps me a lot in preparing for assignm...</td>\n",
       "    </tr>\n",
       "    <tr>\n",
       "      <th>127</th>\n",
       "      <td>5.26.2023 21:43:23</td>\n",
       "      <td>Bachelor</td>\n",
       "      <td>Finance</td>\n",
       "      <td>Female</td>\n",
       "      <td>Never</td>\n",
       "      <td>Neutral</td>\n",
       "      <td>Neutral</td>\n",
       "      <td>Disagree</td>\n",
       "      <td>Disagree</td>\n",
       "      <td>Neutral</td>\n",
       "      <td>...</td>\n",
       "      <td>Agree</td>\n",
       "      <td>Agree</td>\n",
       "      <td>Agree</td>\n",
       "      <td>Agree</td>\n",
       "      <td>Agree</td>\n",
       "      <td>Agree</td>\n",
       "      <td>Agree</td>\n",
       "      <td>Agree</td>\n",
       "      <td>Agree</td>\n",
       "      <td>NaN</td>\n",
       "    </tr>\n",
       "    <tr>\n",
       "      <th>128</th>\n",
       "      <td>5.27.2023 10:28:36</td>\n",
       "      <td>Bachelor</td>\n",
       "      <td>Marketing</td>\n",
       "      <td>Female</td>\n",
       "      <td>Very often</td>\n",
       "      <td>Agree</td>\n",
       "      <td>Agree</td>\n",
       "      <td>Neutral</td>\n",
       "      <td>Neutral</td>\n",
       "      <td>Neutral</td>\n",
       "      <td>...</td>\n",
       "      <td>Strongly Agree</td>\n",
       "      <td>Strongly Agree</td>\n",
       "      <td>Agree</td>\n",
       "      <td>Agree</td>\n",
       "      <td>Disagree</td>\n",
       "      <td>Agree</td>\n",
       "      <td>Neutral</td>\n",
       "      <td>Agree</td>\n",
       "      <td>Agree</td>\n",
       "      <td>NaN</td>\n",
       "    </tr>\n",
       "    <tr>\n",
       "      <th>129</th>\n",
       "      <td>5.28.2023 0:51:54</td>\n",
       "      <td>Bachelor</td>\n",
       "      <td>Public Administration</td>\n",
       "      <td>Male</td>\n",
       "      <td>Îften</td>\n",
       "      <td>Agree</td>\n",
       "      <td>Agree</td>\n",
       "      <td>Agree</td>\n",
       "      <td>Agree</td>\n",
       "      <td>Neutral</td>\n",
       "      <td>...</td>\n",
       "      <td>Agree</td>\n",
       "      <td>Agree</td>\n",
       "      <td>Agree</td>\n",
       "      <td>Agree</td>\n",
       "      <td>Disagree</td>\n",
       "      <td>Neutral</td>\n",
       "      <td>Neutral</td>\n",
       "      <td>Neutral</td>\n",
       "      <td>Neutral</td>\n",
       "      <td>NaN</td>\n",
       "    </tr>\n",
       "    <tr>\n",
       "      <th>130</th>\n",
       "      <td>5.31.2023 17:42:52</td>\n",
       "      <td>Bachelor</td>\n",
       "      <td>Finance</td>\n",
       "      <td>Female</td>\n",
       "      <td>Rarely</td>\n",
       "      <td>Neutral</td>\n",
       "      <td>Neutral</td>\n",
       "      <td>Neutral</td>\n",
       "      <td>Neutral</td>\n",
       "      <td>Neutral</td>\n",
       "      <td>...</td>\n",
       "      <td>Neutral</td>\n",
       "      <td>Neutral</td>\n",
       "      <td>Neutral</td>\n",
       "      <td>Neutral</td>\n",
       "      <td>Neutral</td>\n",
       "      <td>Neutral</td>\n",
       "      <td>Neutral</td>\n",
       "      <td>Neutral</td>\n",
       "      <td>Neutral</td>\n",
       "      <td>I don't have any</td>\n",
       "    </tr>\n",
       "  </tbody>\n",
       "</table>\n",
       "<p>131 rows × 34 columns</p>\n",
       "</div>"
      ]
     },
     "execution_count": 124,
     "metadata": {},
     "output_type": "execute_result"
    }
   ],
   "execution_count": 124
  },
  {
   "metadata": {
    "ExecuteTime": {
     "end_time": "2024-09-14T20:48:37.953701Z",
     "start_time": "2024-09-14T20:48:37.938712Z"
    }
   },
   "cell_type": "code",
   "source": [
    "# Convert to parquet\n",
    "data.to_parquet('F:\\DataSpell\\Polars_library_learn\\data\\AI_Chatbots_Students_Attitude_Dataset_EN.parquet')\n"
   ],
   "id": "dac443921078ba83",
   "outputs": [],
   "execution_count": 125
  },
  {
   "metadata": {
    "ExecuteTime": {
     "end_time": "2024-09-14T20:48:37.990933Z",
     "start_time": "2024-09-14T20:48:37.986771Z"
    }
   },
   "cell_type": "code",
   "source": "pl_data = pl.read_parquet('F:\\DataSpell\\Polars_library_learn\\data\\AI_Chatbots_Students_Attitude_Dataset_EN.parquet')",
   "id": "b1bf5bdc5e55392f",
   "outputs": [],
   "execution_count": 126
  },
  {
   "metadata": {
    "ExecuteTime": {
     "end_time": "2024-09-14T20:48:38.099437Z",
     "start_time": "2024-09-14T20:48:38.093124Z"
    }
   },
   "cell_type": "code",
   "source": "pl_data",
   "id": "abace0cf7674462b",
   "outputs": [
    {
     "data": {
      "text/plain": [
       "shape: (131, 34)\n",
       "┌─────────────┬──────────┬────────────┬────────┬───┬────────────┬──────────┬──────────┬────────────┐\n",
       "│ Timestamp   ┆ Q1       ┆ Q2         ┆ Q3     ┆ … ┆ Q9.3       ┆ Q9.4     ┆ Q9.5     ┆ Q10        │\n",
       "│ ---         ┆ ---      ┆ ---        ┆ ---    ┆   ┆ ---        ┆ ---      ┆ ---      ┆ ---        │\n",
       "│ str         ┆ str      ┆ str        ┆ str    ┆   ┆ str        ┆ str      ┆ str      ┆ str        │\n",
       "╞═════════════╪══════════╪════════════╪════════╪═══╪════════════╪══════════╪══════════╪════════════╡\n",
       "│ 5.14.2023   ┆ Master   ┆ Internatio ┆ Female ┆ … ┆ Strongly   ┆ Agree    ┆ Agree    ┆ null       │\n",
       "│ 21:22:19    ┆          ┆ nal        ┆        ┆   ┆ Agree      ┆          ┆          ┆            │\n",
       "│             ┆          ┆ Economic   ┆        ┆   ┆            ┆          ┆          ┆            │\n",
       "│             ┆          ┆ Re…        ┆        ┆   ┆            ┆          ┆          ┆            │\n",
       "│ 5.15.2023   ┆ Bachelor ┆ Internatio ┆ Female ┆ … ┆ Neutral    ┆ Disagree ┆ Disagree ┆ null       │\n",
       "│ 8:45:52     ┆          ┆ nal        ┆        ┆   ┆            ┆          ┆          ┆            │\n",
       "│             ┆          ┆ Economic   ┆        ┆   ┆            ┆          ┆          ┆            │\n",
       "│             ┆          ┆ Re…        ┆        ┆   ┆            ┆          ┆          ┆            │\n",
       "│ 5.15.2023   ┆ Bachelor ┆ Internatio ┆ Female ┆ … ┆ Disagree   ┆ Disagree ┆ Neutral  ┆ null       │\n",
       "│ 9:54:15     ┆          ┆ nal        ┆        ┆   ┆            ┆          ┆          ┆            │\n",
       "│             ┆          ┆ Economic   ┆        ┆   ┆            ┆          ┆          ┆            │\n",
       "│             ┆          ┆ Re…        ┆        ┆   ┆            ┆          ┆          ┆            │\n",
       "│ 5.15.2023   ┆ Bachelor ┆ Internatio ┆ Female ┆ … ┆ Neutral    ┆ Agree    ┆ Agree    ┆ null       │\n",
       "│ 15:17:41    ┆          ┆ nal        ┆        ┆   ┆            ┆          ┆          ┆            │\n",
       "│             ┆          ┆ Economic   ┆        ┆   ┆            ┆          ┆          ┆            │\n",
       "│             ┆          ┆ Re…        ┆        ┆   ┆            ┆          ┆          ┆            │\n",
       "│ 5.15.2023   ┆ Bachelor ┆ Internatio ┆ Female ┆ … ┆ Neutral    ┆ Neutral  ┆ Neutral  ┆ null       │\n",
       "│ 15:19:02    ┆          ┆ nal        ┆        ┆   ┆            ┆          ┆          ┆            │\n",
       "│             ┆          ┆ Economic   ┆        ┆   ┆            ┆          ┆          ┆            │\n",
       "│             ┆          ┆ Re…        ┆        ┆   ┆            ┆          ┆          ┆            │\n",
       "│ …           ┆ …        ┆ …          ┆ …      ┆ … ┆ …          ┆ …        ┆ …        ┆ …          │\n",
       "│ 5.26.2023   ┆ Bachelor ┆ Internatio ┆ Female ┆ … ┆ Neutral    ┆ Agree    ┆ Agree    ┆ ChtGPT     │\n",
       "│ 15:44:55    ┆          ┆ nal        ┆        ┆   ┆            ┆          ┆          ┆ helps me a │\n",
       "│             ┆          ┆ Economic   ┆        ┆   ┆            ┆          ┆          ┆ lot in …   │\n",
       "│             ┆          ┆ Re…        ┆        ┆   ┆            ┆          ┆          ┆            │\n",
       "│ 5.26.2023   ┆ Bachelor ┆ Finance    ┆ Female ┆ … ┆ Agree      ┆ Agree    ┆ Agree    ┆ null       │\n",
       "│ 21:43:23    ┆          ┆            ┆        ┆   ┆            ┆          ┆          ┆            │\n",
       "│ 5.27.2023   ┆ Bachelor ┆ Marketing  ┆ Female ┆ … ┆ Neutral    ┆ Agree    ┆ Agree    ┆ null       │\n",
       "│ 10:28:36    ┆          ┆            ┆        ┆   ┆            ┆          ┆          ┆            │\n",
       "│ 5.28.2023   ┆ Bachelor ┆ Public Adm ┆ Male   ┆ … ┆ Neutral    ┆ Neutral  ┆ Neutral  ┆ null       │\n",
       "│ 0:51:54     ┆          ┆ inistratio ┆        ┆   ┆            ┆          ┆          ┆            │\n",
       "│             ┆          ┆ n          ┆        ┆   ┆            ┆          ┆          ┆            │\n",
       "│ 5.31.2023   ┆ Bachelor ┆ Finance    ┆ Female ┆ … ┆ Neutral    ┆ Neutral  ┆ Neutral  ┆ I don't    │\n",
       "│ 17:42:52    ┆          ┆            ┆        ┆   ┆            ┆          ┆          ┆ have any   │\n",
       "└─────────────┴──────────┴────────────┴────────┴───┴────────────┴──────────┴──────────┴────────────┘"
      ],
      "text/html": [
       "<div><style>\n",
       ".dataframe > thead > tr,\n",
       ".dataframe > tbody > tr {\n",
       "  text-align: right;\n",
       "  white-space: pre-wrap;\n",
       "}\n",
       "</style>\n",
       "<small>shape: (131, 34)</small><table border=\"1\" class=\"dataframe\"><thead><tr><th>Timestamp</th><th>Q1</th><th>Q2</th><th>Q3</th><th>Q4</th><th>Q5.1</th><th>Q5.2</th><th>Q5.3</th><th>Q5.4</th><th>Q5.5</th><th>Q5.6</th><th>Q6.1</th><th>Q6.2</th><th>Q6.3</th><th>Q6.4</th><th>Q6.5</th><th>Q6.6</th><th>Q6.7</th><th>Q6.8</th><th>Q7.1</th><th>Q7.2</th><th>Q7.3</th><th>Q7.4</th><th>Q8.1</th><th>Q8.2</th><th>Q8.3</th><th>Q8.4</th><th>Q8.5</th><th>Q9.1</th><th>Q9.2</th><th>Q9.3</th><th>Q9.4</th><th>Q9.5</th><th>Q10</th></tr><tr><td>str</td><td>str</td><td>str</td><td>str</td><td>str</td><td>str</td><td>str</td><td>str</td><td>str</td><td>str</td><td>str</td><td>str</td><td>str</td><td>str</td><td>str</td><td>str</td><td>str</td><td>str</td><td>str</td><td>str</td><td>str</td><td>str</td><td>str</td><td>str</td><td>str</td><td>str</td><td>str</td><td>str</td><td>str</td><td>str</td><td>str</td><td>str</td><td>str</td><td>str</td></tr></thead><tbody><tr><td>&quot;5.14.2023 21:22:19&quot;</td><td>&quot;Master&quot;</td><td>&quot;International Economic Re…</td><td>&quot;Female&quot;</td><td>&quot;Îften&quot;</td><td>&quot;Agree&quot;</td><td>&quot;Agree&quot;</td><td>&quot;Strongly Agree&quot;</td><td>&quot;Strongly Agree&quot;</td><td>&quot;Agree&quot;</td><td>&quot;Neutral&quot;</td><td>&quot;Agree&quot;</td><td>&quot;Strongly Agree&quot;</td><td>&quot;Neutral&quot;</td><td>&quot;Agree&quot;</td><td>&quot;Strongly Agree&quot;</td><td>&quot;Strongly Agree&quot;</td><td>&quot;Strongly Agree&quot;</td><td>&quot;Disagree&quot;</td><td>&quot;Neutral&quot;</td><td>&quot;Disagree&quot;</td><td>&quot;Agree&quot;</td><td>&quot;Strongly Agree&quot;</td><td>&quot;Agree&quot;</td><td>&quot;Strongly Agree&quot;</td><td>&quot;Strongly Agree&quot;</td><td>&quot;Agree&quot;</td><td>&quot;Strongly Agree&quot;</td><td>&quot;Agree&quot;</td><td>&quot;Strongly Agree&quot;</td><td>&quot;Strongly Agree&quot;</td><td>&quot;Agree&quot;</td><td>&quot;Agree&quot;</td><td>null</td></tr><tr><td>&quot;5.15.2023 8:45:52&quot;</td><td>&quot;Bachelor&quot;</td><td>&quot;International Economic Re…</td><td>&quot;Female&quot;</td><td>&quot;Sometimes&quot;</td><td>&quot;Disagree&quot;</td><td>&quot;Agree&quot;</td><td>&quot;Disagree&quot;</td><td>&quot;Strongly Disagree&quot;</td><td>&quot;Neutral&quot;</td><td>&quot;Agree&quot;</td><td>&quot;Strongly Agree&quot;</td><td>&quot;Neutral&quot;</td><td>&quot;Agree&quot;</td><td>&quot;Strongly Agree&quot;</td><td>&quot;Strongly Agree&quot;</td><td>&quot;Agree&quot;</td><td>&quot;Strongly Agree&quot;</td><td>&quot;Agree&quot;</td><td>&quot;Neutral&quot;</td><td>&quot;Neutral&quot;</td><td>&quot;Disagree&quot;</td><td>&quot;Strongly Disagree&quot;</td><td>&quot;Agree&quot;</td><td>&quot;Agree&quot;</td><td>&quot;Agree&quot;</td><td>&quot;Disagree&quot;</td><td>&quot;Neutral&quot;</td><td>&quot;Neutral&quot;</td><td>&quot;Agree&quot;</td><td>&quot;Neutral&quot;</td><td>&quot;Disagree&quot;</td><td>&quot;Disagree&quot;</td><td>null</td></tr><tr><td>&quot;5.15.2023 9:54:15&quot;</td><td>&quot;Bachelor&quot;</td><td>&quot;International Economic Re…</td><td>&quot;Female&quot;</td><td>&quot;Rarely&quot;</td><td>&quot;Neutral&quot;</td><td>&quot;Neutral&quot;</td><td>&quot;Neutral&quot;</td><td>&quot;Disagree&quot;</td><td>&quot;Neutral&quot;</td><td>&quot;Agree&quot;</td><td>&quot;Neutral&quot;</td><td>&quot;Neutral&quot;</td><td>&quot;Agree&quot;</td><td>&quot;Agree&quot;</td><td>&quot;Disagree&quot;</td><td>&quot;Agree&quot;</td><td>&quot;Agree&quot;</td><td>&quot;Agree&quot;</td><td>&quot;Disagree&quot;</td><td>&quot;Disagree&quot;</td><td>&quot;Disagree&quot;</td><td>&quot;Strongly Disagree&quot;</td><td>&quot;Agree&quot;</td><td>&quot;Agree&quot;</td><td>&quot;Agree&quot;</td><td>&quot;Neutral&quot;</td><td>&quot;Neutral&quot;</td><td>&quot;Neutral&quot;</td><td>&quot;Neutral&quot;</td><td>&quot;Disagree&quot;</td><td>&quot;Disagree&quot;</td><td>&quot;Neutral&quot;</td><td>null</td></tr><tr><td>&quot;5.15.2023 15:17:41&quot;</td><td>&quot;Bachelor&quot;</td><td>&quot;International Economic Re…</td><td>&quot;Female&quot;</td><td>&quot;Rarely&quot;</td><td>&quot;Agree&quot;</td><td>&quot;Agree&quot;</td><td>&quot;Agree&quot;</td><td>&quot;Disagree&quot;</td><td>&quot;Agree&quot;</td><td>&quot;Agree&quot;</td><td>&quot;Strongly Agree&quot;</td><td>&quot;Neutral&quot;</td><td>&quot;Agree&quot;</td><td>&quot;Strongly Agree&quot;</td><td>&quot;Neutral&quot;</td><td>&quot;Agree&quot;</td><td>&quot;Strongly Agree&quot;</td><td>&quot;Agree&quot;</td><td>&quot;Agree&quot;</td><td>&quot;Agree&quot;</td><td>&quot;Disagree&quot;</td><td>&quot;Agree&quot;</td><td>&quot;Agree&quot;</td><td>&quot;Agree&quot;</td><td>&quot;Agree&quot;</td><td>&quot;Agree&quot;</td><td>&quot;Agree&quot;</td><td>&quot;Agree&quot;</td><td>&quot;Agree&quot;</td><td>&quot;Neutral&quot;</td><td>&quot;Agree&quot;</td><td>&quot;Agree&quot;</td><td>null</td></tr><tr><td>&quot;5.15.2023 15:19:02&quot;</td><td>&quot;Bachelor&quot;</td><td>&quot;International Economic Re…</td><td>&quot;Female&quot;</td><td>&quot;Sometimes&quot;</td><td>&quot;Agree&quot;</td><td>&quot;Agree&quot;</td><td>&quot;Neutral&quot;</td><td>&quot;Disagree&quot;</td><td>&quot;Agree&quot;</td><td>&quot;Agree&quot;</td><td>&quot;Agree&quot;</td><td>&quot;Agree&quot;</td><td>&quot;Agree&quot;</td><td>&quot;Agree&quot;</td><td>&quot;Neutral&quot;</td><td>&quot;Neutral&quot;</td><td>&quot;Agree&quot;</td><td>&quot;Agree&quot;</td><td>&quot;Neutral&quot;</td><td>&quot;Disagree&quot;</td><td>&quot;Agree&quot;</td><td>&quot;Neutral&quot;</td><td>&quot;Neutral&quot;</td><td>&quot;Agree&quot;</td><td>&quot;Agree&quot;</td><td>&quot;Neutral&quot;</td><td>&quot;Neutral&quot;</td><td>&quot;Neutral&quot;</td><td>&quot;Neutral&quot;</td><td>&quot;Neutral&quot;</td><td>&quot;Neutral&quot;</td><td>&quot;Neutral&quot;</td><td>null</td></tr><tr><td>&hellip;</td><td>&hellip;</td><td>&hellip;</td><td>&hellip;</td><td>&hellip;</td><td>&hellip;</td><td>&hellip;</td><td>&hellip;</td><td>&hellip;</td><td>&hellip;</td><td>&hellip;</td><td>&hellip;</td><td>&hellip;</td><td>&hellip;</td><td>&hellip;</td><td>&hellip;</td><td>&hellip;</td><td>&hellip;</td><td>&hellip;</td><td>&hellip;</td><td>&hellip;</td><td>&hellip;</td><td>&hellip;</td><td>&hellip;</td><td>&hellip;</td><td>&hellip;</td><td>&hellip;</td><td>&hellip;</td><td>&hellip;</td><td>&hellip;</td><td>&hellip;</td><td>&hellip;</td><td>&hellip;</td><td>&hellip;</td></tr><tr><td>&quot;5.26.2023 15:44:55&quot;</td><td>&quot;Bachelor&quot;</td><td>&quot;International Economic Re…</td><td>&quot;Female&quot;</td><td>&quot;Îften&quot;</td><td>&quot;Agree&quot;</td><td>&quot;Neutral&quot;</td><td>&quot;Agree&quot;</td><td>&quot;Agree&quot;</td><td>&quot;Agree&quot;</td><td>&quot;Agree&quot;</td><td>&quot;Agree&quot;</td><td>&quot;Agree&quot;</td><td>&quot;Agree&quot;</td><td>&quot;Agree&quot;</td><td>&quot;Agree&quot;</td><td>&quot;Agree&quot;</td><td>&quot;Disagree&quot;</td><td>&quot;Agree&quot;</td><td>&quot;Disagree&quot;</td><td>&quot;Neutral&quot;</td><td>&quot;Neutral&quot;</td><td>&quot;Agree&quot;</td><td>&quot;Agree&quot;</td><td>&quot;Agree&quot;</td><td>&quot;Agree&quot;</td><td>&quot;Disagree&quot;</td><td>&quot;Neutral&quot;</td><td>&quot;Neutral&quot;</td><td>&quot;Agree&quot;</td><td>&quot;Neutral&quot;</td><td>&quot;Agree&quot;</td><td>&quot;Agree&quot;</td><td>&quot;ChtGPT helps me a lot in …</td></tr><tr><td>&quot;5.26.2023 21:43:23&quot;</td><td>&quot;Bachelor&quot;</td><td>&quot;Finance &quot;</td><td>&quot;Female&quot;</td><td>&quot;Never&quot;</td><td>&quot;Neutral&quot;</td><td>&quot;Neutral&quot;</td><td>&quot;Disagree&quot;</td><td>&quot;Disagree&quot;</td><td>&quot;Neutral&quot;</td><td>&quot;Disagree&quot;</td><td>&quot;Agree&quot;</td><td>&quot;Agree&quot;</td><td>&quot;Agree&quot;</td><td>&quot;Agree&quot;</td><td>&quot;Agree&quot;</td><td>&quot;Agree&quot;</td><td>&quot;Agree&quot;</td><td>&quot;Agree&quot;</td><td>&quot;Disagree&quot;</td><td>&quot;Disagree&quot;</td><td>&quot;Disagree&quot;</td><td>&quot;Disagree&quot;</td><td>&quot;Agree&quot;</td><td>&quot;Agree&quot;</td><td>&quot;Agree&quot;</td><td>&quot;Agree&quot;</td><td>&quot;Agree&quot;</td><td>&quot;Agree&quot;</td><td>&quot;Agree&quot;</td><td>&quot;Agree&quot;</td><td>&quot;Agree&quot;</td><td>&quot;Agree&quot;</td><td>null</td></tr><tr><td>&quot;5.27.2023 10:28:36&quot;</td><td>&quot;Bachelor&quot;</td><td>&quot;Marketing&quot;</td><td>&quot;Female&quot;</td><td>&quot;Very often&quot;</td><td>&quot;Agree&quot;</td><td>&quot;Agree&quot;</td><td>&quot;Neutral&quot;</td><td>&quot;Neutral&quot;</td><td>&quot;Neutral&quot;</td><td>&quot;Neutral&quot;</td><td>&quot;Strongly Agree&quot;</td><td>&quot;Strongly Agree&quot;</td><td>&quot;Strongly Agree&quot;</td><td>&quot;Strongly Agree&quot;</td><td>&quot;Agree&quot;</td><td>&quot;Strongly Agree&quot;</td><td>&quot;Strongly Agree&quot;</td><td>&quot;Strongly Agree&quot;</td><td>&quot;Disagree&quot;</td><td>&quot;Disagree&quot;</td><td>&quot;Disagree&quot;</td><td>&quot;Disagree&quot;</td><td>&quot;Strongly Agree&quot;</td><td>&quot;Strongly Agree&quot;</td><td>&quot;Strongly Agree&quot;</td><td>&quot;Agree&quot;</td><td>&quot;Agree&quot;</td><td>&quot;Disagree&quot;</td><td>&quot;Agree&quot;</td><td>&quot;Neutral&quot;</td><td>&quot;Agree&quot;</td><td>&quot;Agree&quot;</td><td>null</td></tr><tr><td>&quot;5.28.2023 0:51:54&quot;</td><td>&quot;Bachelor&quot;</td><td>&quot;Public Administration&quot;</td><td>&quot;Male&quot;</td><td>&quot;Îften&quot;</td><td>&quot;Agree&quot;</td><td>&quot;Agree&quot;</td><td>&quot;Agree&quot;</td><td>&quot;Agree&quot;</td><td>&quot;Neutral&quot;</td><td>&quot;Neutral&quot;</td><td>&quot;Agree&quot;</td><td>&quot;Neutral&quot;</td><td>&quot;Agree&quot;</td><td>&quot;Strongly Agree&quot;</td><td>&quot;Agree&quot;</td><td>&quot;Neutral&quot;</td><td>&quot;Strongly Agree&quot;</td><td>&quot;Strongly Agree&quot;</td><td>&quot;Disagree&quot;</td><td>&quot;Strongly Agree&quot;</td><td>&quot;Neutral&quot;</td><td>&quot;Strongly Agree&quot;</td><td>&quot;Strongly Agree&quot;</td><td>&quot;Agree&quot;</td><td>&quot;Agree&quot;</td><td>&quot;Agree&quot;</td><td>&quot;Agree&quot;</td><td>&quot;Disagree&quot;</td><td>&quot;Neutral&quot;</td><td>&quot;Neutral&quot;</td><td>&quot;Neutral&quot;</td><td>&quot;Neutral&quot;</td><td>null</td></tr><tr><td>&quot;5.31.2023 17:42:52&quot;</td><td>&quot;Bachelor&quot;</td><td>&quot;Finance&quot;</td><td>&quot;Female&quot;</td><td>&quot;Rarely&quot;</td><td>&quot;Neutral&quot;</td><td>&quot;Neutral&quot;</td><td>&quot;Neutral&quot;</td><td>&quot;Neutral&quot;</td><td>&quot;Neutral&quot;</td><td>&quot;Neutral&quot;</td><td>&quot;Neutral&quot;</td><td>&quot;Neutral&quot;</td><td>&quot;Neutral&quot;</td><td>&quot;Neutral&quot;</td><td>&quot;Neutral&quot;</td><td>&quot;Neutral&quot;</td><td>&quot;Neutral&quot;</td><td>&quot;Neutral&quot;</td><td>&quot;Neutral&quot;</td><td>&quot;Neutral&quot;</td><td>&quot;Neutral&quot;</td><td>&quot;Neutral&quot;</td><td>&quot;Neutral&quot;</td><td>&quot;Neutral&quot;</td><td>&quot;Neutral&quot;</td><td>&quot;Neutral&quot;</td><td>&quot;Neutral&quot;</td><td>&quot;Neutral&quot;</td><td>&quot;Neutral&quot;</td><td>&quot;Neutral&quot;</td><td>&quot;Neutral&quot;</td><td>&quot;Neutral&quot;</td><td>&quot;I don&#x27;t have any&quot;</td></tr></tbody></table></div>"
      ]
     },
     "execution_count": 127,
     "metadata": {},
     "output_type": "execute_result"
    }
   ],
   "execution_count": 127
  },
  {
   "metadata": {
    "ExecuteTime": {
     "end_time": "2024-09-14T20:48:38.225970Z",
     "start_time": "2024-09-14T20:48:38.222463Z"
    }
   },
   "cell_type": "code",
   "source": [
    "# pl_data = pl_data.rename(\n",
    "#     {\n",
    "#       'Timestamp': 'Date',\n",
    "#       'Q1': 'What is your academic level?',\n",
    "#       'Q2': 'What is your major?',\n",
    "#       'Q3': 'What is your gender?',\n",
    "#       'Q4': 'Have you ever used generative AI technologies like ChatGPT?',\n",
    "#       'Q5.1': 'I understand generative AI technologies like ChatGPT have limitations in their ability to handle '\n",
    "#               'complex tasks.',\n",
    "#       'Q5.2': 'I understand generative AI technologies like ChatGPT can generate output that is factually inaccurate',\n",
    "#       'Q5.3': 'I understand generative AI technologies like ChatGPT can generate output that is out of context or '\n",
    "#               'inappropriate',\n",
    "#       'Q5.4': 'I understand generative AI technologies like ChatGPT can exhibit biases and unfairness in their output',\n",
    "#       'Q5.5': 'I understand generative AI technologies like ChatGPT may rely too heavily on statistics, which can '\n",
    "#               'limit their usefulness in certain contexts',\n",
    "#       'Q5.6': 'I understand generative AI technologies like ChatGPT have limited emotional intelligence and empathy, '\n",
    "#               'which can lead to output that is insensitive or inappropriate',\n",
    "#       'Q6.1': 'I envision integrating generative AI technologies like ChatGPT into my teaching and learning practices'\n",
    "#               ' in the future',\n",
    "#       'Q6.2': 'Students must learn how to use generative AI technologies well for their careers',\n",
    "#       'Q6.3': 'I believe generative AI technologies such as ChatGPT can improve my digital competence',\n",
    "#       'Q6.4': 'I believe generative AI technologies such as ChatGPT can help me save time',\n",
    "#       'Q6.5': 'I believe AI technologies such as ChatGPT can provide me with unique insights and perspectives that I '\n",
    "#               'may not have thought of myself',\n",
    "#       'Q6.6': 'I think AI technologies such as ChatGPT can provide me with personalized and immediate feedback and '\n",
    "#               'suggestions for my assignments',\n",
    "#       'Q6.7': 'I think AI technologies such as ChatGPT is a great tool as it is available 24/7',\n",
    "#       'Q6.8': 'I think AI technologies such as ChatGPT is a great tool for student support services due to anonymity',\n",
    "#       'Q7.1': 'Using generative AI technologies such as ChatGPT to complete assignments undermines the value of '\n",
    "#               'university education',\n",
    "#       'Q7.2': 'Generative AI technologies such as ChatGPT will limit my opportunities to interact with others and '\n",
    "#               'socialize while completing coursework',\n",
    "#       'Q7.3': 'Generative AI technologies such as ChatGPT will hinder my development of generic or transferable '\n",
    "#               'skills such as teamwork, problem-solving and leadership skills',\n",
    "#       'Q7.4': 'I can become over-reliant on generative AI technologies',\n",
    "#       'Q8.1': 'Personalized and immediate learning support',\n",
    "#       'Q8.2': 'Writing and brainstorming support',\n",
    "#       'Q8.3': 'Research and analysis support',\n",
    "#       'Q8.4': 'Visual and audio multi-media support',\n",
    "#       'Q8.5': 'Administrative support',\n",
    "#       'Q9.1': 'Accuracy and transparency',\n",
    "#       'Q9.2': 'Privacy and ethical issues',\n",
    "#       'Q9.3': 'Holistic competencies',\n",
    "#       'Q9.4': 'Career prospects',\n",
    "#       'Q9.5': 'Human values',\n",
    "#       'Q10': 'Has ChatGPT transformed your perception of artificial intelligence and intelligent chatbots? What '\n",
    "#              'advantages does it offer you as a student? Are there any disadvantages or limitations you have '\n",
    "#              'experienced'\n",
    "#      }\n",
    "# )"
   ],
   "id": "e01dca75d9e44c87",
   "outputs": [],
   "execution_count": 128
  },
  {
   "metadata": {
    "ExecuteTime": {
     "end_time": "2024-09-14T20:48:38.342931Z",
     "start_time": "2024-09-14T20:48:38.339652Z"
    }
   },
   "cell_type": "code",
   "source": "print(sns.palettes.SEABORN_PALETTES)",
   "id": "7fb45d589cdd8a68",
   "outputs": [
    {
     "name": "stdout",
     "output_type": "stream",
     "text": [
      "{'deep': ['#4C72B0', '#DD8452', '#55A868', '#C44E52', '#8172B3', '#937860', '#DA8BC3', '#8C8C8C', '#CCB974', '#64B5CD'], 'deep6': ['#4C72B0', '#55A868', '#C44E52', '#8172B3', '#CCB974', '#64B5CD'], 'muted': ['#4878D0', '#EE854A', '#6ACC64', '#D65F5F', '#956CB4', '#8C613C', '#DC7EC0', '#797979', '#D5BB67', '#82C6E2'], 'muted6': ['#4878D0', '#6ACC64', '#D65F5F', '#956CB4', '#D5BB67', '#82C6E2'], 'pastel': ['#A1C9F4', '#FFB482', '#8DE5A1', '#FF9F9B', '#D0BBFF', '#DEBB9B', '#FAB0E4', '#CFCFCF', '#FFFEA3', '#B9F2F0'], 'pastel6': ['#A1C9F4', '#8DE5A1', '#FF9F9B', '#D0BBFF', '#FFFEA3', '#B9F2F0'], 'bright': ['#023EFF', '#FF7C00', '#1AC938', '#E8000B', '#8B2BE2', '#9F4800', '#F14CC1', '#A3A3A3', '#FFC400', '#00D7FF'], 'bright6': ['#023EFF', '#1AC938', '#E8000B', '#8B2BE2', '#FFC400', '#00D7FF'], 'dark': ['#001C7F', '#B1400D', '#12711C', '#8C0800', '#591E71', '#592F0D', '#A23582', '#3C3C3C', '#B8850A', '#006374'], 'dark6': ['#001C7F', '#12711C', '#8C0800', '#591E71', '#B8850A', '#006374'], 'colorblind': ['#0173B2', '#DE8F05', '#029E73', '#D55E00', '#CC78BC', '#CA9161', '#FBAFE4', '#949494', '#ECE133', '#56B4E9'], 'colorblind6': ['#0173B2', '#029E73', '#D55E00', '#CC78BC', '#ECE133', '#56B4E9']}\n"
     ]
    }
   ],
   "execution_count": 129
  },
  {
   "metadata": {
    "ExecuteTime": {
     "end_time": "2024-09-14T20:48:38.625002Z",
     "start_time": "2024-09-14T20:48:38.525400Z"
    }
   },
   "cell_type": "code",
   "source": [
    "academic_level = pl_data['Q1'].value_counts()\n",
    "academic_level_pandas = academic_level.to_pandas()\n",
    "\n",
    "plt.figure(figsize=(9, 7))\n",
    "\n",
    "plt.pie(\n",
    "    academic_level_pandas['count'], \n",
    "    labels=academic_level_pandas['Q1'], \n",
    "    autopct='%1.1f%%',\n",
    "    colors=sns.color_palette('deep6'),\n",
    "    pctdistance=.8,\n",
    "    textprops={'fontsize': 12},\n",
    "    normalize=True,\n",
    ")\n",
    "\n",
    "legend_label = [\n",
    "    f'{academic_level_pandas[\"Q1\"][number]}: {academic_level_pandas[\"count\"][number]}'\n",
    "    for number in range(len(academic_level_pandas))\n",
    "]\n",
    "\n",
    "plt.title('What is your academic level?', fontsize=20)\n",
    "plt.legend(legend_label, loc='upper right', bbox_to_anchor=(1.5, 1), fontsize=13)"
   ],
   "id": "5b3a9ba619e1e48c",
   "outputs": [
    {
     "data": {
      "text/plain": [
       "<matplotlib.legend.Legend at 0x1cc07508ed0>"
      ]
     },
     "execution_count": 130,
     "metadata": {},
     "output_type": "execute_result"
    },
    {
     "data": {
      "text/plain": [
       "<Figure size 900x700 with 1 Axes>"
      ],
      "image/png": "[encoded data removed]"
     },
     "metadata": {},
     "output_type": "display_data"
    }
   ],
   "execution_count": 130
  },
  {
   "metadata": {
    "ExecuteTime": {
     "end_time": "2024-09-14T20:58:16.847793Z",
     "start_time": "2024-09-14T20:58:16.819768Z"
    }
   },
   "cell_type": "code",
   "source": [
    "q2_count = pl_data['Q2'].value_counts()\n",
    "\n",
    "q2_count = q2_count.with_columns(\n",
    "    pl.col('Q2').str.strip_chars_end(' ').str.strip_chars_start(' ')\n",
    ").group_by(\n",
    "    'Q2'\n",
    ").agg(\n",
    "    pl.col('count').sum().alias('count')\n",
    ").filter(\n",
    "    pl.col('Q2') != \"Ìåíèäæìúíò íà òóðèñòè÷åñêèÿ áèçíåñ\",\n",
    ").sort('Q2')\n",
    "\n",
    "\n",
    "fig = px.pie(\n",
    "    q2_count,\n",
    "    values='count',\n",
    "    names='Q2',\n",
    "    title='What is your major?',\n",
    "    hover_data=['count'],\n",
    "    labels={'count': 'Count'},\n",
    ")\n",
    "\n",
    "fig.update_traces(\n",
    "    textposition='inside',\n",
    "    textinfo='percent+label',\n",
    ")\n",
    "fig.update_layout(width=1000, height=900)\n",
    "\n",
    "fig.show()"
   ],
   "id": "bc29b58f001a1cbc",
   "outputs": [
    {
     "data": {
      "application/vnd.plotly.v1+json": {
       "data": [
        {
         "customdata": [
          [
           26
          ],
          [
           1
          ],
          [
           6
          ],
          [
           2
          ],
          [
           14
          ],
          [
           24
          ],
          [
           1
          ],
          [
           15
          ],
          [
           6
          ],
          [
           31
          ],
          [
           4
          ]
         ],
         "domain": {
          "x": [
           0.0,
           1.0
          ],
          "y": [
           0.0,
           1.0
          ]
         },
         "hovertemplate": "Q2=%{label}<br>Count=%{customdata[0]}<extra></extra>",
         "labels": [
          "Accounting",
          "Accounting and Analysis",
          "Business Management",
          "Economics",
          "Economics and Business",
          "Finance",
          "Geography, Technologies and Entrepreneurship",
          "International Economic Relations",
          "Management in Tourism",
          "Marketing",
          "Public Administration"
         ],
         "legendgroup": "",
         "name": "",
         "showlegend": true,
         "values": [
          26,
          1,
          6,
          2,
          14,
          24,
          1,
          15,
          6,
          31,
          4
         ],
         "type": "pie",
         "textinfo": "percent+label",
         "textposition": "inside"
        }
       ],
       "layout": {
        "template": {
         "data": {
          "histogram2dcontour": [
           {
            "type": "histogram2dcontour",
            "colorbar": {
             "outlinewidth": 0,
             "ticks": ""
            },
            "colorscale": [
             [
              0.0,
              "#0d0887"
             ],
             [
              0.1111111111111111,
              "#46039f"
             ],
             [
              0.2222222222222222,
              "#7201a8"
             ],
             [
              0.3333333333333333,
              "#9c179e"
             ],
             [
              0.4444444444444444,
              "#bd3786"
             ],
             [
              0.5555555555555556,
              "#d8576b"
             ],
             [
              0.6666666666666666,
              "#ed7953"
             ],
             [
              0.7777777777777778,
              "#fb9f3a"
             ],
             [
              0.8888888888888888,
              "#fdca26"
             ],
             [
              1.0,
              "#f0f921"
             ]
            ]
           }
          ],
          "choropleth": [
           {
            "type": "choropleth",
            "colorbar": {
             "outlinewidth": 0,
             "ticks": ""
            }
           }
          ],
          "histogram2d": [
           {
            "type": "histogram2d",
            "colorbar": {
             "outlinewidth": 0,
             "ticks": ""
            },
            "colorscale": [
             [
              0.0,
              "#0d0887"
             ],
             [
              0.1111111111111111,
              "#46039f"
             ],
             [
              0.2222222222222222,
              "#7201a8"
             ],
             [
              0.3333333333333333,
              "#9c179e"
             ],
             [
              0.4444444444444444,
              "#bd3786"
             ],
             [
              0.5555555555555556,
              "#d8576b"
             ],
             [
              0.6666666666666666,
              "#ed7953"
             ],
             [
              0.7777777777777778,
              "#fb9f3a"
             ],
             [
              0.8888888888888888,
              "#fdca26"
             ],
             [
              1.0,
              "#f0f921"
             ]
            ]
           }
          ],
          "heatmap": [
           {
            "type": "heatmap",
            "colorbar": {
             "outlinewidth": 0,
             "ticks": ""
            },
            "colorscale": [
             [
              0.0,
              "#0d0887"
             ],
             [
              0.1111111111111111,
              "#46039f"
             ],
             [
              0.2222222222222222,
              "#7201a8"
             ],
             [
              0.3333333333333333,
              "#9c179e"
             ],
             [
              0.4444444444444444,
              "#bd3786"
             ],
             [
              0.5555555555555556,
              "#d8576b"
             ],
             [
              0.6666666666666666,
              "#ed7953"
             ],
             [
              0.7777777777777778,
              "#fb9f3a"
             ],
             [
              0.8888888888888888,
              "#fdca26"
             ],
             [
              1.0,
              "#f0f921"
             ]
            ]
           }
          ],
          "heatmapgl": [
           {
            "type": "heatmapgl",
            "colorbar": {
             "outlinewidth": 0,
             "ticks": ""
            },
            "colorscale": [
             [
              0.0,
              "#0d0887"
             ],
             [
              0.1111111111111111,
              "#46039f"
             ],
             [
              0.2222222222222222,
              "#7201a8"
             ],
             [
              0.3333333333333333,
              "#9c179e"
             ],
             [
              0.4444444444444444,
              "#bd3786"
             ],
             [
              0.5555555555555556,
              "#d8576b"
             ],
             [
              0.6666666666666666,
              "#ed7953"
             ],
             [
              0.7777777777777778,
              "#fb9f3a"
             ],
             [
              0.8888888888888888,
              "#fdca26"
             ],
             [
              1.0,
              "#f0f921"
             ]
            ]
           }
          ],
          "contourcarpet": [
           {
            "type": "contourcarpet",
            "colorbar": {
             "outlinewidth": 0,
             "ticks": ""
            }
           }
          ],
          "contour": [
           {
            "type": "contour",
            "colorbar": {
             "outlinewidth": 0,
             "ticks": ""
            },
            "colorscale": [
             [
              0.0,
              "#0d0887"
             ],
             [
              0.1111111111111111,
              "#46039f"
             ],
             [
              0.2222222222222222,
              "#7201a8"
             ],
             [
              0.3333333333333333,
              "#9c179e"
             ],
             [
              0.4444444444444444,
              "#bd3786"
             ],
             [
              0.5555555555555556,
              "#d8576b"
             ],
             [
              0.6666666666666666,
              "#ed7953"
             ],
             [
              0.7777777777777778,
              "#fb9f3a"
             ],
             [
              0.8888888888888888,
              "#fdca26"
             ],
             [
              1.0,
              "#f0f921"
             ]
            ]
           }
          ],
          "surface": [
           {
            "type": "surface",
            "colorbar": {
             "outlinewidth": 0,
             "ticks": ""
            },
            "colorscale": [
             [
              0.0,
              "#0d0887"
             ],
             [
              0.1111111111111111,
              "#46039f"
             ],
             [
              0.2222222222222222,
              "#7201a8"
             ],
             [
              0.3333333333333333,
              "#9c179e"
             ],
             [
              0.4444444444444444,
              "#bd3786"
             ],
             [
              0.5555555555555556,
              "#d8576b"
             ],
             [
              0.6666666666666666,
              "#ed7953"
             ],
             [
              0.7777777777777778,
              "#fb9f3a"
             ],
             [
              0.8888888888888888,
              "#fdca26"
             ],
             [
              1.0,
              "#f0f921"
             ]
            ]
           }
          ],
          "mesh3d": [
           {
            "type": "mesh3d",
            "colorbar": {
             "outlinewidth": 0,
             "ticks": ""
            }
           }
          ],
          "scatter": [
           {
            "marker": {
             "line": {
              "color": "#283442"
             }
            },
            "type": "scatter"
           }
          ],
          "parcoords": [
           {
            "type": "parcoords",
            "line": {
             "colorbar": {
              "outlinewidth": 0,
              "ticks": ""
             }
            }
           }
          ],
          "scatterpolargl": [
           {
            "type": "scatterpolargl",
            "marker": {
             "colorbar": {
              "outlinewidth": 0,
              "ticks": ""
             }
            }
           }
          ],
          "bar": [
           {
            "error_x": {
             "color": "#f2f5fa"
            },
            "error_y": {
             "color": "#f2f5fa"
            },
            "marker": {
             "line": {
              "color": "rgb(17,17,17)",
              "width": 0.5
             },
             "pattern": {
              "fillmode": "overlay",
              "size": 10,
              "solidity": 0.2
             }
            },
            "type": "bar"
           }
          ],
          "scattergeo": [
           {
            "type": "scattergeo",
            "marker": {
             "colorbar": {
              "outlinewidth": 0,
              "ticks": ""
             }
            }
           }
          ],
          "scatterpolar": [
           {
            "type": "scatterpolar",
            "marker": {
             "colorbar": {
              "outlinewidth": 0,
              "ticks": ""
             }
            }
           }
          ],
          "histogram": [
           {
            "marker": {
             "pattern": {
              "fillmode": "overlay",
              "size": 10,
              "solidity": 0.2
             }
            },
            "type": "histogram"
           }
          ],
          "scattergl": [
           {
            "marker": {
             "line": {
              "color": "#283442"
             }
            },
            "type": "scattergl"
           }
          ],
          "scatter3d": [
           {
            "type": "scatter3d",
            "line": {
             "colorbar": {
              "outlinewidth": 0,
              "ticks": ""
             }
            },
            "marker": {
             "colorbar": {
              "outlinewidth": 0,
              "ticks": ""
             }
            }
           }
          ],
          "scattermapbox": [
           {
            "type": "scattermapbox",
            "marker": {
             "colorbar": {
              "outlinewidth": 0,
              "ticks": ""
             }
            }
           }
          ],
          "scatterternary": [
           {
            "type": "scatterternary",
            "marker": {
             "colorbar": {
              "outlinewidth": 0,
              "ticks": ""
             }
            }
           }
          ],
          "scattercarpet": [
           {
            "type": "scattercarpet",
            "marker": {
             "colorbar": {
              "outlinewidth": 0,
              "ticks": ""
             }
            }
           }
          ],
          "carpet": [
           {
            "aaxis": {
             "endlinecolor": "#A2B1C6",
             "gridcolor": "#506784",
             "linecolor": "#506784",
             "minorgridcolor": "#506784",
             "startlinecolor": "#A2B1C6"
            },
            "baxis": {
             "endlinecolor": "#A2B1C6",
             "gridcolor": "#506784",
             "linecolor": "#506784",
             "minorgridcolor": "#506784",
             "startlinecolor": "#A2B1C6"
            },
            "type": "carpet"
           }
          ],
          "table": [
           {
            "cells": {
             "fill": {
              "color": "#506784"
             },
             "line": {
              "color": "rgb(17,17,17)"
             }
            },
            "header": {
             "fill": {
              "color": "#2a3f5f"
             },
             "line": {
              "color": "rgb(17,17,17)"
             }
            },
            "type": "table"
           }
          ],
          "barpolar": [
           {
            "marker": {
             "line": {
              "color": "rgb(17,17,17)",
              "width": 0.5
             },
             "pattern": {
              "fillmode": "overlay",
              "size": 10,
              "solidity": 0.2
             }
            },
            "type": "barpolar"
           }
          ],
          "pie": [
           {
            "automargin": true,
            "type": "pie"
           }
          ]
         },
         "layout": {
          "autotypenumbers": "strict",
          "colorway": [
           "#636efa",
           "#EF553B",
           "#00cc96",
           "#ab63fa",
           "#FFA15A",
           "#19d3f3",
           "#FF6692",
           "#B6E880",
           "#FF97FF",
           "#FECB52"
          ],
          "font": {
           "color": "#f2f5fa"
          },
          "hovermode": "closest",
          "hoverlabel": {
           "align": "left"
          },
          "paper_bgcolor": "rgb(17,17,17)",
          "plot_bgcolor": "rgb(17,17,17)",
          "polar": {
           "bgcolor": "rgb(17,17,17)",
           "angularaxis": {
            "gridcolor": "#506784",
            "linecolor": "#506784",
            "ticks": ""
           },
           "radialaxis": {
            "gridcolor": "#506784",
            "linecolor": "#506784",
            "ticks": ""
           }
          },
          "ternary": {
           "bgcolor": "rgb(17,17,17)",
           "aaxis": {
            "gridcolor": "#506784",
            "linecolor": "#506784",
            "ticks": ""
           },
           "baxis": {
            "gridcolor": "#506784",
            "linecolor": "#506784",
            "ticks": ""
           },
           "caxis": {
            "gridcolor": "#506784",
            "linecolor": "#506784",
            "ticks": ""
           }
          },
          "coloraxis": {
           "colorbar": {
            "outlinewidth": 0,
            "ticks": ""
           }
          },
          "colorscale": {
           "sequential": [
            [
             0.0,
             "#0d0887"
            ],
            [
             0.1111111111111111,
             "#46039f"
            ],
            [
             0.2222222222222222,
             "#7201a8"
            ],
            [
             0.3333333333333333,
             "#9c179e"
            ],
            [
             0.4444444444444444,
             "#bd3786"
            ],
            [
             0.5555555555555556,
             "#d8576b"
            ],
            [
             0.6666666666666666,
             "#ed7953"
            ],
            [
             0.7777777777777778,
             "#fb9f3a"
            ],
            [
             0.8888888888888888,
             "#fdca26"
            ],
            [
             1.0,
             "#f0f921"
            ]
           ],
           "sequentialminus": [
            [
             0.0,
             "#0d0887"
            ],
            [
             0.1111111111111111,
             "#46039f"
            ],
            [
             0.2222222222222222,
             "#7201a8"
            ],
            [
             0.3333333333333333,
             "#9c179e"
            ],
            [
             0.4444444444444444,
             "#bd3786"
            ],
            [
             0.5555555555555556,
             "#d8576b"
            ],
            [
             0.6666666666666666,
             "#ed7953"
            ],
            [
             0.7777777777777778,
             "#fb9f3a"
            ],
            [
             0.8888888888888888,
             "#fdca26"
            ],
            [
             1.0,
             "#f0f921"
            ]
           ],
           "diverging": [
            [
             0,
             "#8e0152"
            ],
            [
             0.1,
             "#c51b7d"
            ],
            [
             0.2,
             "#de77ae"
            ],
            [
             0.3,
             "#f1b6da"
            ],
            [
             0.4,
             "#fde0ef"
            ],
            [
             0.5,
             "#f7f7f7"
            ],
            [
             0.6,
             "#e6f5d0"
            ],
            [
             0.7,
             "#b8e186"
            ],
            [
             0.8,
             "#7fbc41"
            ],
            [
             0.9,
             "#4d9221"
            ],
            [
             1,
             "#276419"
            ]
           ]
          },
          "xaxis": {
           "gridcolor": "#283442",
           "linecolor": "#506784",
           "ticks": "",
           "title": {
            "standoff": 15
           },
           "zerolinecolor": "#283442",
           "automargin": true,
           "zerolinewidth": 2
          },
          "yaxis": {
           "gridcolor": "#283442",
           "linecolor": "#506784",
           "ticks": "",
           "title": {
            "standoff": 15
           },
           "zerolinecolor": "#283442",
           "automargin": true,
           "zerolinewidth": 2
          },
          "scene": {
           "xaxis": {
            "backgroundcolor": "rgb(17,17,17)",
            "gridcolor": "#506784",
            "linecolor": "#506784",
            "showbackground": true,
            "ticks": "",
            "zerolinecolor": "#C8D4E3",
            "gridwidth": 2
           },
           "yaxis": {
            "backgroundcolor": "rgb(17,17,17)",
            "gridcolor": "#506784",
            "linecolor": "#506784",
            "showbackground": true,
            "ticks": "",
            "zerolinecolor": "#C8D4E3",
            "gridwidth": 2
           },
           "zaxis": {
            "backgroundcolor": "rgb(17,17,17)",
            "gridcolor": "#506784",
            "linecolor": "#506784",
            "showbackground": true,
            "ticks": "",
            "zerolinecolor": "#C8D4E3",
            "gridwidth": 2
           }
          },
          "shapedefaults": {
           "line": {
            "color": "#f2f5fa"
           }
          },
          "annotationdefaults": {
           "arrowcolor": "#f2f5fa",
           "arrowhead": 0,
           "arrowwidth": 1
          },
          "geo": {
           "bgcolor": "rgb(17,17,17)",
           "landcolor": "rgb(17,17,17)",
           "subunitcolor": "#506784",
           "showland": true,
           "showlakes": true,
           "lakecolor": "rgb(17,17,17)"
          },
          "title": {
           "x": 0.05
          },
          "updatemenudefaults": {
           "bgcolor": "#506784",
           "borderwidth": 0
          },
          "sliderdefaults": {
           "bgcolor": "#C8D4E3",
           "borderwidth": 1,
           "bordercolor": "rgb(17,17,17)",
           "tickwidth": 0
          },
          "mapbox": {
           "style": "dark"
          }
         }
        },
        "legend": {
         "tracegroupgap": 0
        },
        "title": {
         "text": "What is your major?"
        },
        "width": 1000,
        "height": 900
       },
       "config": {
        "plotlyServerURL": "https://plot.ly"
       }
      },
      "text/html": [
       "<div>                            <div id=\"f0f766ee-065b-4d11-8f5d-74ee15ec4726\" class=\"plotly-graph-div\" style=\"height:900px; width:1000px;\"></div>            <script type=\"text/javascript\">                require([\"plotly\"], function(Plotly) {                    window.PLOTLYENV=window.PLOTLYENV || {};                                    if (document.getElementById(\"f0f766ee-065b-4d11-8f5d-74ee15ec4726\")) {                    Plotly.newPlot(                        \"f0f766ee-065b-4d11-8f5d-74ee15ec4726\",                        [{\"customdata\":[[26],[1],[6],[2],[14],[24],[1],[15],[6],[31],[4]],\"domain\":{\"x\":[0.0,1.0],\"y\":[0.0,1.0]},\"hovertemplate\":\"Q2=%{label}\\u003cbr\\u003eCount=%{customdata[0]}\\u003cextra\\u003e\\u003c\\u002fextra\\u003e\",\"labels\":[\"Accounting\",\"Accounting and Analysis\",\"Business Management\",\"Economics\",\"Economics and Business\",\"Finance\",\"Geography, Technologies and Entrepreneurship\",\"International Economic Relations\",\"Management in Tourism\",\"Marketing\",\"Public Administration\"],\"legendgroup\":\"\",\"name\":\"\",\"showlegend\":true,\"values\":[26,1,6,2,14,24,1,15,6,31,4],\"type\":\"pie\",\"textinfo\":\"percent+label\",\"textposition\":\"inside\"}],                        {\"template\":{\"data\":{\"histogram2dcontour\":[{\"type\":\"histogram2dcontour\",\"colorbar\":{\"outlinewidth\":0,\"ticks\":\"\"},\"colorscale\":[[0.0,\"#0d0887\"],[0.1111111111111111,\"#46039f\"],[0.2222222222222222,\"#7201a8\"],[0.3333333333333333,\"#9c179e\"],[0.4444444444444444,\"#bd3786\"],[0.5555555555555556,\"#d8576b\"],[0.6666666666666666,\"#ed7953\"],[0.7777777777777778,\"#fb9f3a\"],[0.8888888888888888,\"#fdca26\"],[1.0,\"#f0f921\"]]}],\"choropleth\":[{\"type\":\"choropleth\",\"colorbar\":{\"outlinewidth\":0,\"ticks\":\"\"}}],\"histogram2d\":[{\"type\":\"histogram2d\",\"colorbar\":{\"outlinewidth\":0,\"ticks\":\"\"},\"colorscale\":[[0.0,\"#0d0887\"],[0.1111111111111111,\"#46039f\"],[0.2222222222222222,\"#7201a8\"],[0.3333333333333333,\"#9c179e\"],[0.4444444444444444,\"#bd3786\"],[0.5555555555555556,\"#d8576b\"],[0.6666666666666666,\"#ed7953\"],[0.7777777777777778,\"#fb9f3a\"],[0.8888888888888888,\"#fdca26\"],[1.0,\"#f0f921\"]]}],\"heatmap\":[{\"type\":\"heatmap\",\"colorbar\":{\"outlinewidth\":0,\"ticks\":\"\"},\"colorscale\":[[0.0,\"#0d0887\"],[0.1111111111111111,\"#46039f\"],[0.2222222222222222,\"#7201a8\"],[0.3333333333333333,\"#9c179e\"],[0.4444444444444444,\"#bd3786\"],[0.5555555555555556,\"#d8576b\"],[0.6666666666666666,\"#ed7953\"],[0.7777777777777778,\"#fb9f3a\"],[0.8888888888888888,\"#fdca26\"],[1.0,\"#f0f921\"]]}],\"heatmapgl\":[{\"type\":\"heatmapgl\",\"colorbar\":{\"outlinewidth\":0,\"ticks\":\"\"},\"colorscale\":[[0.0,\"#0d0887\"],[0.1111111111111111,\"#46039f\"],[0.2222222222222222,\"#7201a8\"],[0.3333333333333333,\"#9c179e\"],[0.4444444444444444,\"#bd3786\"],[0.5555555555555556,\"#d8576b\"],[0.6666666666666666,\"#ed7953\"],[0.7777777777777778,\"#fb9f3a\"],[0.8888888888888888,\"#fdca26\"],[1.0,\"#f0f921\"]]}],\"contourcarpet\":[{\"type\":\"contourcarpet\",\"colorbar\":{\"outlinewidth\":0,\"ticks\":\"\"}}],\"contour\":[{\"type\":\"contour\",\"colorbar\":{\"outlinewidth\":0,\"ticks\":\"\"},\"colorscale\":[[0.0,\"#0d0887\"],[0.1111111111111111,\"#46039f\"],[0.2222222222222222,\"#7201a8\"],[0.3333333333333333,\"#9c179e\"],[0.4444444444444444,\"#bd3786\"],[0.5555555555555556,\"#d8576b\"],[0.6666666666666666,\"#ed7953\"],[0.7777777777777778,\"#fb9f3a\"],[0.8888888888888888,\"#fdca26\"],[1.0,\"#f0f921\"]]}],\"surface\":[{\"type\":\"surface\",\"colorbar\":{\"outlinewidth\":0,\"ticks\":\"\"},\"colorscale\":[[0.0,\"#0d0887\"],[0.1111111111111111,\"#46039f\"],[0.2222222222222222,\"#7201a8\"],[0.3333333333333333,\"#9c179e\"],[0.4444444444444444,\"#bd3786\"],[0.5555555555555556,\"#d8576b\"],[0.6666666666666666,\"#ed7953\"],[0.7777777777777778,\"#fb9f3a\"],[0.8888888888888888,\"#fdca26\"],[1.0,\"#f0f921\"]]}],\"mesh3d\":[{\"type\":\"mesh3d\",\"colorbar\":{\"outlinewidth\":0,\"ticks\":\"\"}}],\"scatter\":[{\"marker\":{\"line\":{\"color\":\"#283442\"}},\"type\":\"scatter\"}],\"parcoords\":[{\"type\":\"parcoords\",\"line\":{\"colorbar\":{\"outlinewidth\":0,\"ticks\":\"\"}}}],\"scatterpolargl\":[{\"type\":\"scatterpolargl\",\"marker\":{\"colorbar\":{\"outlinewidth\":0,\"ticks\":\"\"}}}],\"bar\":[{\"error_x\":{\"color\":\"#f2f5fa\"},\"error_y\":{\"color\":\"#f2f5fa\"},\"marker\":{\"line\":{\"color\":\"rgb(17,17,17)\",\"width\":0.5},\"pattern\":{\"fillmode\":\"overlay\",\"size\":10,\"solidity\":0.2}},\"type\":\"bar\"}],\"scattergeo\":[{\"type\":\"scattergeo\",\"marker\":{\"colorbar\":{\"outlinewidth\":0,\"ticks\":\"\"}}}],\"scatterpolar\":[{\"type\":\"scatterpolar\",\"marker\":{\"colorbar\":{\"outlinewidth\":0,\"ticks\":\"\"}}}],\"histogram\":[{\"marker\":{\"pattern\":{\"fillmode\":\"overlay\",\"size\":10,\"solidity\":0.2}},\"type\":\"histogram\"}],\"scattergl\":[{\"marker\":{\"line\":{\"color\":\"#283442\"}},\"type\":\"scattergl\"}],\"scatter3d\":[{\"type\":\"scatter3d\",\"line\":{\"colorbar\":{\"outlinewidth\":0,\"ticks\":\"\"}},\"marker\":{\"colorbar\":{\"outlinewidth\":0,\"ticks\":\"\"}}}],\"scattermapbox\":[{\"type\":\"scattermapbox\",\"marker\":{\"colorbar\":{\"outlinewidth\":0,\"ticks\":\"\"}}}],\"scatterternary\":[{\"type\":\"scatterternary\",\"marker\":{\"colorbar\":{\"outlinewidth\":0,\"ticks\":\"\"}}}],\"scattercarpet\":[{\"type\":\"scattercarpet\",\"marker\":{\"colorbar\":{\"outlinewidth\":0,\"ticks\":\"\"}}}],\"carpet\":[{\"aaxis\":{\"endlinecolor\":\"#A2B1C6\",\"gridcolor\":\"#506784\",\"linecolor\":\"#506784\",\"minorgridcolor\":\"#506784\",\"startlinecolor\":\"#A2B1C6\"},\"baxis\":{\"endlinecolor\":\"#A2B1C6\",\"gridcolor\":\"#506784\",\"linecolor\":\"#506784\",\"minorgridcolor\":\"#506784\",\"startlinecolor\":\"#A2B1C6\"},\"type\":\"carpet\"}],\"table\":[{\"cells\":{\"fill\":{\"color\":\"#506784\"},\"line\":{\"color\":\"rgb(17,17,17)\"}},\"header\":{\"fill\":{\"color\":\"#2a3f5f\"},\"line\":{\"color\":\"rgb(17,17,17)\"}},\"type\":\"table\"}],\"barpolar\":[{\"marker\":{\"line\":{\"color\":\"rgb(17,17,17)\",\"width\":0.5},\"pattern\":{\"fillmode\":\"overlay\",\"size\":10,\"solidity\":0.2}},\"type\":\"barpolar\"}],\"pie\":[{\"automargin\":true,\"type\":\"pie\"}]},\"layout\":{\"autotypenumbers\":\"strict\",\"colorway\":[\"#636efa\",\"#EF553B\",\"#00cc96\",\"#ab63fa\",\"#FFA15A\",\"#19d3f3\",\"#FF6692\",\"#B6E880\",\"#FF97FF\",\"#FECB52\"],\"font\":{\"color\":\"#f2f5fa\"},\"hovermode\":\"closest\",\"hoverlabel\":{\"align\":\"left\"},\"paper_bgcolor\":\"rgb(17,17,17)\",\"plot_bgcolor\":\"rgb(17,17,17)\",\"polar\":{\"bgcolor\":\"rgb(17,17,17)\",\"angularaxis\":{\"gridcolor\":\"#506784\",\"linecolor\":\"#506784\",\"ticks\":\"\"},\"radialaxis\":{\"gridcolor\":\"#506784\",\"linecolor\":\"#506784\",\"ticks\":\"\"}},\"ternary\":{\"bgcolor\":\"rgb(17,17,17)\",\"aaxis\":{\"gridcolor\":\"#506784\",\"linecolor\":\"#506784\",\"ticks\":\"\"},\"baxis\":{\"gridcolor\":\"#506784\",\"linecolor\":\"#506784\",\"ticks\":\"\"},\"caxis\":{\"gridcolor\":\"#506784\",\"linecolor\":\"#506784\",\"ticks\":\"\"}},\"coloraxis\":{\"colorbar\":{\"outlinewidth\":0,\"ticks\":\"\"}},\"colorscale\":{\"sequential\":[[0.0,\"#0d0887\"],[0.1111111111111111,\"#46039f\"],[0.2222222222222222,\"#7201a8\"],[0.3333333333333333,\"#9c179e\"],[0.4444444444444444,\"#bd3786\"],[0.5555555555555556,\"#d8576b\"],[0.6666666666666666,\"#ed7953\"],[0.7777777777777778,\"#fb9f3a\"],[0.8888888888888888,\"#fdca26\"],[1.0,\"#f0f921\"]],\"sequentialminus\":[[0.0,\"#0d0887\"],[0.1111111111111111,\"#46039f\"],[0.2222222222222222,\"#7201a8\"],[0.3333333333333333,\"#9c179e\"],[0.4444444444444444,\"#bd3786\"],[0.5555555555555556,\"#d8576b\"],[0.6666666666666666,\"#ed7953\"],[0.7777777777777778,\"#fb9f3a\"],[0.8888888888888888,\"#fdca26\"],[1.0,\"#f0f921\"]],\"diverging\":[[0,\"#8e0152\"],[0.1,\"#c51b7d\"],[0.2,\"#de77ae\"],[0.3,\"#f1b6da\"],[0.4,\"#fde0ef\"],[0.5,\"#f7f7f7\"],[0.6,\"#e6f5d0\"],[0.7,\"#b8e186\"],[0.8,\"#7fbc41\"],[0.9,\"#4d9221\"],[1,\"#276419\"]]},\"xaxis\":{\"gridcolor\":\"#283442\",\"linecolor\":\"#506784\",\"ticks\":\"\",\"title\":{\"standoff\":15},\"zerolinecolor\":\"#283442\",\"automargin\":true,\"zerolinewidth\":2},\"yaxis\":{\"gridcolor\":\"#283442\",\"linecolor\":\"#506784\",\"ticks\":\"\",\"title\":{\"standoff\":15},\"zerolinecolor\":\"#283442\",\"automargin\":true,\"zerolinewidth\":2},\"scene\":{\"xaxis\":{\"backgroundcolor\":\"rgb(17,17,17)\",\"gridcolor\":\"#506784\",\"linecolor\":\"#506784\",\"showbackground\":true,\"ticks\":\"\",\"zerolinecolor\":\"#C8D4E3\",\"gridwidth\":2},\"yaxis\":{\"backgroundcolor\":\"rgb(17,17,17)\",\"gridcolor\":\"#506784\",\"linecolor\":\"#506784\",\"showbackground\":true,\"ticks\":\"\",\"zerolinecolor\":\"#C8D4E3\",\"gridwidth\":2},\"zaxis\":{\"backgroundcolor\":\"rgb(17,17,17)\",\"gridcolor\":\"#506784\",\"linecolor\":\"#506784\",\"showbackground\":true,\"ticks\":\"\",\"zerolinecolor\":\"#C8D4E3\",\"gridwidth\":2}},\"shapedefaults\":{\"line\":{\"color\":\"#f2f5fa\"}},\"annotationdefaults\":{\"arrowcolor\":\"#f2f5fa\",\"arrowhead\":0,\"arrowwidth\":1},\"geo\":{\"bgcolor\":\"rgb(17,17,17)\",\"landcolor\":\"rgb(17,17,17)\",\"subunitcolor\":\"#506784\",\"showland\":true,\"showlakes\":true,\"lakecolor\":\"rgb(17,17,17)\"},\"title\":{\"x\":0.05},\"updatemenudefaults\":{\"bgcolor\":\"#506784\",\"borderwidth\":0},\"sliderdefaults\":{\"bgcolor\":\"#C8D4E3\",\"borderwidth\":1,\"bordercolor\":\"rgb(17,17,17)\",\"tickwidth\":0},\"mapbox\":{\"style\":\"dark\"}}},\"legend\":{\"tracegroupgap\":0},\"title\":{\"text\":\"What is your major?\"},\"width\":1000,\"height\":900},                        {\"responsive\": true}                    ).then(function(){\n",
       "                            \n",
       "var gd = document.getElementById('f0f766ee-065b-4d11-8f5d-74ee15ec4726');\n",
       "var x = new MutationObserver(function (mutations, observer) {{\n",
       "        var display = window.getComputedStyle(gd).display;\n",
       "        if (!display || display === 'none') {{\n",
       "            console.log([gd, 'removed!']);\n",
       "            Plotly.purge(gd);\n",
       "            observer.disconnect();\n",
       "        }}\n",
       "}});\n",
       "\n",
       "// Listen for the removal of the full notebook cells\n",
       "var notebookContainer = gd.closest('#notebook-container');\n",
       "if (notebookContainer) {{\n",
       "    x.observe(notebookContainer, {childList: true});\n",
       "}}\n",
       "\n",
       "// Listen for the clearing of the current output cell\n",
       "var outputEl = gd.closest('.output');\n",
       "if (outputEl) {{\n",
       "    x.observe(outputEl, {childList: true});\n",
       "}}\n",
       "\n",
       "                        })                };                });            </script>        </div>"
      ]
     },
     "metadata": {},
     "output_type": "display_data"
    }
   ],
   "execution_count": 156
  },
  {
   "metadata": {
    "ExecuteTime": {
     "end_time": "2024-09-14T20:48:38.824410Z",
     "start_time": "2024-09-14T20:48:38.819422Z"
    }
   },
   "cell_type": "code",
   "source": [
    "q2_count.filter(\n",
    "    q2_count['Q2'] != \"Ìåíèäæìúíò íà òóðèñòè÷åñêèÿ áèçíåñ\",\n",
    ").sort('Q2')"
   ],
   "id": "f1e298a0d84e3c4e",
   "outputs": [
    {
     "data": {
      "text/plain": [
       "shape: (18, 2)\n",
       "┌─────────────────────────┬───────┐\n",
       "│ Q2                      ┆ count │\n",
       "│ ---                     ┆ ---   │\n",
       "│ str                     ┆ u32   │\n",
       "╞═════════════════════════╪═══════╡\n",
       "│ Accounting              ┆ 17    │\n",
       "│ Accounting              ┆ 9     │\n",
       "│ Accounting and Analysis ┆ 1     │\n",
       "│ Business Management     ┆ 5     │\n",
       "│ Business Management     ┆ 1     │\n",
       "│ …                       ┆ …     │\n",
       "│ Management in Tourism   ┆ 6     │\n",
       "│ Marketing               ┆ 28    │\n",
       "│ Marketing               ┆ 3     │\n",
       "│ Public Administration   ┆ 3     │\n",
       "│ Public Administration   ┆ 1     │\n",
       "└─────────────────────────┴───────┘"
      ],
      "text/html": [
       "<div><style>\n",
       ".dataframe > thead > tr,\n",
       ".dataframe > tbody > tr {\n",
       "  text-align: right;\n",
       "  white-space: pre-wrap;\n",
       "}\n",
       "</style>\n",
       "<small>shape: (18, 2)</small><table border=\"1\" class=\"dataframe\"><thead><tr><th>Q2</th><th>count</th></tr><tr><td>str</td><td>u32</td></tr></thead><tbody><tr><td>&quot;Accounting&quot;</td><td>17</td></tr><tr><td>&quot;Accounting &quot;</td><td>9</td></tr><tr><td>&quot;Accounting and Analysis&quot;</td><td>1</td></tr><tr><td>&quot;Business Management&quot;</td><td>5</td></tr><tr><td>&quot;Business Management &quot;</td><td>1</td></tr><tr><td>&hellip;</td><td>&hellip;</td></tr><tr><td>&quot;Management in Tourism&quot;</td><td>6</td></tr><tr><td>&quot;Marketing&quot;</td><td>28</td></tr><tr><td>&quot;Marketing &quot;</td><td>3</td></tr><tr><td>&quot;Public Administration&quot;</td><td>3</td></tr><tr><td>&quot;Public Administration &quot;</td><td>1</td></tr></tbody></table></div>"
      ]
     },
     "execution_count": 132,
     "metadata": {},
     "output_type": "execute_result"
    }
   ],
   "execution_count": 132
  },
  {
   "metadata": {},
   "cell_type": "code",
   "outputs": [],
   "execution_count": null,
   "source": "",
   "id": "7d8aa73774701f80"
  },
  {
   "metadata": {
    "ExecuteTime": {
     "end_time": "2024-09-14T20:57:52.276359Z",
     "start_time": "2024-09-14T20:57:52.257385Z"
    }
   },
   "cell_type": "code",
   "source": "",
   "id": "396625994bf2f7e7",
   "outputs": [
    {
     "data": {
      "text/plain": [
       "shape: (11, 2)\n",
       "┌────────────────────────────┬───────┐\n",
       "│ Q2                         ┆ count │\n",
       "│ ---                        ┆ ---   │\n",
       "│ str                        ┆ u32   │\n",
       "╞════════════════════════════╪═══════╡\n",
       "│ Accounting                 ┆ 26    │\n",
       "│ Accounting and Analysis    ┆ 1     │\n",
       "│ Business Management        ┆ 6     │\n",
       "│ Economics                  ┆ 2     │\n",
       "│ Economics and Business     ┆ 14    │\n",
       "│ …                          ┆ …     │\n",
       "│ Geography, Technologies a… ┆ 1     │\n",
       "│ International Economic Re… ┆ 15    │\n",
       "│ Management in Tourism      ┆ 6     │\n",
       "│ Marketing                  ┆ 31    │\n",
       "│ Public Administration      ┆ 4     │\n",
       "└────────────────────────────┴───────┘"
      ],
      "text/html": [
       "<div><style>\n",
       ".dataframe > thead > tr,\n",
       ".dataframe > tbody > tr {\n",
       "  text-align: right;\n",
       "  white-space: pre-wrap;\n",
       "}\n",
       "</style>\n",
       "<small>shape: (11, 2)</small><table border=\"1\" class=\"dataframe\"><thead><tr><th>Q2</th><th>count</th></tr><tr><td>str</td><td>u32</td></tr></thead><tbody><tr><td>&quot;Accounting&quot;</td><td>26</td></tr><tr><td>&quot;Accounting and Analysis&quot;</td><td>1</td></tr><tr><td>&quot;Business Management&quot;</td><td>6</td></tr><tr><td>&quot;Economics&quot;</td><td>2</td></tr><tr><td>&quot;Economics and Business&quot;</td><td>14</td></tr><tr><td>&hellip;</td><td>&hellip;</td></tr><tr><td>&quot;Geography, Technologies a…</td><td>1</td></tr><tr><td>&quot;International Economic Re…</td><td>15</td></tr><tr><td>&quot;Management in Tourism&quot;</td><td>6</td></tr><tr><td>&quot;Marketing&quot;</td><td>31</td></tr><tr><td>&quot;Public Administration&quot;</td><td>4</td></tr></tbody></table></div>"
      ]
     },
     "execution_count": 155,
     "metadata": {},
     "output_type": "execute_result"
    }
   ],
   "execution_count": 155
  }
 ],
 "metadata": {
  "kernelspec": {
   "display_name": "Python 3",
   "language": "python",
   "name": "python3"
  },
  "language_info": {
   "codemirror_mode": {
    "name": "ipython",
    "version": 2
   },
   "file_extension": ".py",
   "mimetype": "text/x-python",
   "name": "python",
   "nbconvert_exporter": "python",
   "pygments_lexer": "ipython2",
   "version": "2.7.6"
  }
 },
 "nbformat": 4,
 "nbformat_minor": 5
}
