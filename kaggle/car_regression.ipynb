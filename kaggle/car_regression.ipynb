{
 "cells": [
  {
   "cell_type": "code",
   "id": "initial_id",
   "metadata": {
    "collapsed": true,
    "ExecuteTime": {
     "end_time": "2025-08-03T17:00:38.216835Z",
     "start_time": "2025-08-03T17:00:37.700025Z"
    }
   },
   "source": [
    "import polars as pl\n",
    "import polars.selectors as cs\n",
    "\n",
    "import altair as alt\n",
    "import plotly.express as px\n",
    "import seaborn as sns\n",
    "import matplotlib.pyplot as plt\n",
    "\n",
    "import datetime as dt"
   ],
   "outputs": [],
   "execution_count": 2
  },
  {
   "metadata": {
    "ExecuteTime": {
     "end_time": "2025-08-03T17:00:38.230870Z",
     "start_time": "2025-08-03T17:00:38.227871Z"
    }
   },
   "cell_type": "code",
   "source": "df_path = r\"D:\\Datasets\\Car_Price_Prediction.csv\"",
   "id": "186e36c1b0fb0661",
   "outputs": [],
   "execution_count": 3
  },
  {
   "metadata": {
    "ExecuteTime": {
     "end_time": "2025-08-03T17:00:38.302960Z",
     "start_time": "2025-08-03T17:00:38.247979Z"
    }
   },
   "cell_type": "code",
   "source": "df = pl.read_csv(df_path)",
   "id": "e5331e32eb1a20f0",
   "outputs": [],
   "execution_count": 4
  },
  {
   "metadata": {
    "ExecuteTime": {
     "end_time": "2025-08-03T17:00:38.333712Z",
     "start_time": "2025-08-03T17:00:38.326201Z"
    }
   },
   "cell_type": "code",
   "source": "df.schema",
   "id": "2a93f24f766d6183",
   "outputs": [
    {
     "data": {
      "text/plain": [
       "Schema([('Make', String),\n",
       "        ('Model', String),\n",
       "        ('Year', Int64),\n",
       "        ('Engine Size', Float64),\n",
       "        ('Mileage', Int64),\n",
       "        ('Fuel Type', String),\n",
       "        ('Transmission', String),\n",
       "        ('Price', Float64)])"
      ]
     },
     "execution_count": 5,
     "metadata": {},
     "output_type": "execute_result"
    }
   ],
   "execution_count": 5
  },
  {
   "metadata": {
    "ExecuteTime": {
     "end_time": "2025-08-03T17:00:38.393715Z",
     "start_time": "2025-08-03T17:00:38.354249Z"
    }
   },
   "cell_type": "code",
   "source": [
    "df = df.with_columns(\n",
    "    pl.col('Year').cast(pl.UInt16),\n",
    "    pl.col('Engine Size').cast(pl.Float32),\n",
    "    pl.col('Mileage').cast(pl.UInt32),\n",
    ")"
   ],
   "id": "6e4a429afd93f86e",
   "outputs": [],
   "execution_count": 6
  },
  {
   "metadata": {
    "ExecuteTime": {
     "end_time": "2025-08-03T17:00:38.409798Z",
     "start_time": "2025-08-03T17:00:38.405796Z"
    }
   },
   "cell_type": "code",
   "source": "print(pl.__version__)",
   "id": "e469fd1e63a9434f",
   "outputs": [
    {
     "name": "stdout",
     "output_type": "stream",
     "text": [
      "1.31.0\n"
     ]
    }
   ],
   "execution_count": 7
  },
  {
   "metadata": {
    "ExecuteTime": {
     "end_time": "2025-08-03T17:00:38.450051Z",
     "start_time": "2025-08-03T17:00:38.420693Z"
    }
   },
   "cell_type": "code",
   "source": "df.describe()",
   "id": "da487bd248fd1af4",
   "outputs": [
    {
     "data": {
      "text/plain": [
       "shape: (9, 9)\n",
       "┌────────────┬────────┬─────────┬──────────┬───┬─────────────┬───────────┬────────────┬────────────┐\n",
       "│ statistic  ┆ Make   ┆ Model   ┆ Year     ┆ … ┆ Mileage     ┆ Fuel Type ┆ Transmissi ┆ Price      │\n",
       "│ ---        ┆ ---    ┆ ---     ┆ ---      ┆   ┆ ---         ┆ ---       ┆ on         ┆ ---        │\n",
       "│ str        ┆ str    ┆ str     ┆ f64      ┆   ┆ f64         ┆ str       ┆ ---        ┆ f64        │\n",
       "│            ┆        ┆         ┆          ┆   ┆             ┆           ┆ str        ┆            │\n",
       "╞════════════╪════════╪═════════╪══════════╪═══╪═════════════╪═══════════╪════════════╪════════════╡\n",
       "│ count      ┆ 1000   ┆ 1000    ┆ 1000.0   ┆ … ┆ 1000.0      ┆ 1000      ┆ 1000       ┆ 1000.0     │\n",
       "│ null_count ┆ 0      ┆ 0       ┆ 0.0      ┆ … ┆ 0.0         ┆ 0         ┆ 0          ┆ 0.0        │\n",
       "│ mean       ┆ null   ┆ null    ┆ 2010.688 ┆ … ┆ 97192.487   ┆ null      ┆ null       ┆ 25136.6155 │\n",
       "│            ┆        ┆         ┆          ┆   ┆             ┆           ┆            ┆ 3          │\n",
       "│ std        ┆ null   ┆ null    ┆ 6.288577 ┆ … ┆ 59447.31576 ┆ null      ┆ null       ┆ 5181.40136 │\n",
       "│            ┆        ┆         ┆          ┆   ┆             ┆           ┆            ┆ 8          │\n",
       "│ min        ┆ Audi   ┆ Model A ┆ 2000.0   ┆ … ┆ 56.0        ┆ Diesel    ┆ Automatic  ┆ 6704.95352 │\n",
       "│            ┆        ┆         ┆          ┆   ┆             ┆           ┆            ┆ 4          │\n",
       "│ 25%        ┆ null   ┆ null    ┆ 2005.0   ┆ … ┆ 44859.0     ┆ null      ┆ null       ┆ 21601.8046 │\n",
       "│            ┆        ┆         ┆          ┆   ┆             ┆           ┆            ┆ 2          │\n",
       "│ 50%        ┆ null   ┆ null    ┆ 2011.0   ┆ … ┆ 94605.0     ┆ null      ┆ null       ┆ 25190.3153 │\n",
       "│            ┆        ┆         ┆          ┆   ┆             ┆           ┆            ┆ 13         │\n",
       "│ 75%        ┆ null   ┆ null    ┆ 2016.0   ┆ … ┆ 148933.0    ┆ null      ┆ null       ┆ 28803.3680 │\n",
       "│            ┆        ┆         ┆          ┆   ┆             ┆           ┆            ┆ 94         │\n",
       "│ max        ┆ Toyota ┆ Model E ┆ 2021.0   ┆ … ┆ 199867.0    ┆ Petrol    ┆ Manual     ┆ 41780.5046 │\n",
       "│            ┆        ┆         ┆          ┆   ┆             ┆           ┆            ┆ 35         │\n",
       "└────────────┴────────┴─────────┴──────────┴───┴─────────────┴───────────┴────────────┴────────────┘"
      ],
      "text/html": [
       "<div><style>\n",
       ".dataframe > thead > tr,\n",
       ".dataframe > tbody > tr {\n",
       "  text-align: right;\n",
       "  white-space: pre-wrap;\n",
       "}\n",
       "</style>\n",
       "<small>shape: (9, 9)</small><table border=\"1\" class=\"dataframe\"><thead><tr><th>statistic</th><th>Make</th><th>Model</th><th>Year</th><th>Engine Size</th><th>Mileage</th><th>Fuel Type</th><th>Transmission</th><th>Price</th></tr><tr><td>str</td><td>str</td><td>str</td><td>f64</td><td>f64</td><td>f64</td><td>str</td><td>str</td><td>f64</td></tr></thead><tbody><tr><td>&quot;count&quot;</td><td>&quot;1000&quot;</td><td>&quot;1000&quot;</td><td>1000.0</td><td>1000.0</td><td>1000.0</td><td>&quot;1000&quot;</td><td>&quot;1000&quot;</td><td>1000.0</td></tr><tr><td>&quot;null_count&quot;</td><td>&quot;0&quot;</td><td>&quot;0&quot;</td><td>0.0</td><td>0.0</td><td>0.0</td><td>&quot;0&quot;</td><td>&quot;0&quot;</td><td>0.0</td></tr><tr><td>&quot;mean&quot;</td><td>null</td><td>null</td><td>2010.688</td><td>2.7983</td><td>97192.487</td><td>null</td><td>null</td><td>25136.61553</td></tr><tr><td>&quot;std&quot;</td><td>null</td><td>null</td><td>6.288577</td><td>1.024137</td><td>59447.31576</td><td>null</td><td>null</td><td>5181.401368</td></tr><tr><td>&quot;min&quot;</td><td>&quot;Audi&quot;</td><td>&quot;Model A&quot;</td><td>2000.0</td><td>1.0</td><td>56.0</td><td>&quot;Diesel&quot;</td><td>&quot;Automatic&quot;</td><td>6704.953524</td></tr><tr><td>&quot;25%&quot;</td><td>null</td><td>null</td><td>2005.0</td><td>1.9</td><td>44859.0</td><td>null</td><td>null</td><td>21601.80462</td></tr><tr><td>&quot;50%&quot;</td><td>null</td><td>null</td><td>2011.0</td><td>2.8</td><td>94605.0</td><td>null</td><td>null</td><td>25190.315313</td></tr><tr><td>&quot;75%&quot;</td><td>null</td><td>null</td><td>2016.0</td><td>3.7</td><td>148933.0</td><td>null</td><td>null</td><td>28803.368094</td></tr><tr><td>&quot;max&quot;</td><td>&quot;Toyota&quot;</td><td>&quot;Model E&quot;</td><td>2021.0</td><td>4.5</td><td>199867.0</td><td>&quot;Petrol&quot;</td><td>&quot;Manual&quot;</td><td>41780.504635</td></tr></tbody></table></div>"
      ]
     },
     "execution_count": 8,
     "metadata": {},
     "output_type": "execute_result"
    }
   ],
   "execution_count": 8
  },
  {
   "metadata": {
    "ExecuteTime": {
     "end_time": "2025-08-03T17:01:15.428591Z",
     "start_time": "2025-08-03T17:01:15.303880Z"
    }
   },
   "cell_type": "code",
   "source": [
    "data_dict = df.to_dict(as_series=False)\n",
    "\n",
    "x_values = df.select('Make').to_series().to_list()\n",
    "y_values = df.select('Model').to_series().to_list()\n",
    "\n",
    "plt.figure(figsize=(10, 6))\n",
    "\n",
    "plot_data = {'x': x_values, 'y': y_values}\n",
    "sns.histplot(data=plot_data, x='x')\n",
    "\n",
    "plt.legend()\n",
    "plt.hist(x_values, bins=30, alpha=0.7)\n",
    "plt.xlabel('Your X Label')\n",
    "plt.ylabel('Frequency')\n",
    "plt.title('Your Histogram Title')\n",
    "plt.show()\n"
   ],
   "id": "732764c60129483f",
   "outputs": [
    {
     "name": "stderr",
     "output_type": "stream",
     "text": [
      "C:\\Users\\Zygim\\AppData\\Local\\Temp\\ipykernel_2500\\717843389.py:11: UserWarning: No artists with labels found to put in legend.  Note that artists whose label start with an underscore are ignored when legend() is called with no argument.\n",
      "  plt.legend()\n"
     ]
    },
    {
     "data": {
      "text/plain": [
       "<Figure size 1000x600 with 1 Axes>"
      ],
      "image/png": "[encoded data removed]"
     },
     "metadata": {},
     "output_type": "display_data"
    }
   ],
   "execution_count": 11
  },
  {
   "metadata": {
    "ExecuteTime": {
     "end_time": "2025-08-03T17:00:38.744964Z",
     "start_time": "2025-08-03T17:00:38.742918Z"
    }
   },
   "cell_type": "code",
   "source": "",
   "id": "40cd80ec50db8060",
   "outputs": [],
   "execution_count": null
  }
 ],
 "metadata": {
  "kernelspec": {
   "display_name": "Python 3",
   "language": "python",
   "name": "python3"
  },
  "language_info": {
   "codemirror_mode": {
    "name": "ipython",
    "version": 2
   },
   "file_extension": ".py",
   "mimetype": "text/x-python",
   "name": "python",
   "nbconvert_exporter": "python",
   "pygments_lexer": "ipython2",
   "version": "2.7.6"
  }
 },
 "nbformat": 4,
 "nbformat_minor": 5
}
