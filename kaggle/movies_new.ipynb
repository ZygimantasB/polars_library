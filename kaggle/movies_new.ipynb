{
 "cells": [
  {
   "cell_type": "code",
   "id": "initial_id",
   "metadata": {
    "collapsed": true,
    "ExecuteTime": {
     "end_time": "2025-03-28T18:40:28.995990Z",
     "start_time": "2025-03-28T18:40:28.992855Z"
    }
   },
   "source": [
    "import polars as pl\n",
    "import altair as alt\n",
    "\n",
    "import datetime as dt\n",
    "import polars.selectors as cs"
   ],
   "outputs": [],
   "execution_count": 19
  },
  {
   "metadata": {
    "ExecuteTime": {
     "end_time": "2025-03-28T18:28:31.204777Z",
     "start_time": "2025-03-28T18:28:31.201014Z"
    }
   },
   "cell_type": "code",
   "source": [
    "df_movies_path = r\"F:\\Datasets\\CSV datasets\\movies\\movies.csv\"\n",
    "df_movies_reviews_path = r\"F:\\Datasets\\CSV datasets\\movies\\movies_reviews.csv\""
   ],
   "id": "175aeb564122c07e",
   "outputs": [],
   "execution_count": 2
  },
  {
   "metadata": {
    "ExecuteTime": {
     "end_time": "2025-03-28T18:28:32.121117Z",
     "start_time": "2025-03-28T18:28:31.210634Z"
    }
   },
   "cell_type": "code",
   "source": [
    "df_movies = pl.read_csv(df_movies_path)\n",
    "df_reviews = pl.read_csv(df_movies_reviews_path)"
   ],
   "id": "73706e2efa402fe6",
   "outputs": [],
   "execution_count": 3
  },
  {
   "metadata": {
    "ExecuteTime": {
     "end_time": "2025-03-28T18:28:33.013332Z",
     "start_time": "2025-03-28T18:28:32.372359Z"
    }
   },
   "cell_type": "code",
   "source": [
    "df_joined = df_movies.join(\n",
    "    df_reviews,\n",
    "    on=\"id\",\n",
    "    how=\"inner\",\n",
    "    suffix=\"_suffix\",\n",
    ")"
   ],
   "id": "1cb103381e9a0e8a",
   "outputs": [],
   "execution_count": 4
  },
  {
   "metadata": {
    "ExecuteTime": {
     "end_time": "2025-03-28T18:28:33.035569Z",
     "start_time": "2025-03-28T18:28:33.020166Z"
    }
   },
   "cell_type": "code",
   "source": [
    "drop_columns = [column for column in df_joined.columns if column.endswith(\"_suffix\")]\n",
    "\n",
    "df_joined = df_joined.select(cs.exclude(drop_columns))"
   ],
   "id": "48abf5a0e46fc033",
   "outputs": [],
   "execution_count": 5
  },
  {
   "metadata": {
    "ExecuteTime": {
     "end_time": "2025-03-28T18:28:33.108989Z",
     "start_time": "2025-03-28T18:28:33.048396Z"
    }
   },
   "cell_type": "code",
   "source": [
    "df_joined.filter(\n",
    "    pl.col('director').str.split(',').list.len() > 1\n",
    ")"
   ],
   "id": "4cb5a53a4c5bb5f",
   "outputs": [
    {
     "data": {
      "text/plain": [
       "shape: (59_710, 24)\n",
       "┌────────────┬────────────┬───────────┬────────┬───┬───────────┬───────────┬───────────┬───────────┐\n",
       "│ id         ┆ title      ┆ releaseDa ┆ rating ┆ … ┆ date      ┆ author    ┆ publicati ┆ review_ty │\n",
       "│ ---        ┆ ---        ┆ te        ┆ ---    ┆   ┆ ---       ┆ ---       ┆ onName    ┆ pe        │\n",
       "│ i64        ┆ str        ┆ ---       ┆ str    ┆   ┆ str       ┆ str       ┆ ---       ┆ ---       │\n",
       "│            ┆            ┆ str       ┆        ┆   ┆           ┆           ┆ str       ┆ str       │\n",
       "╞════════════╪════════════╪═══════════╪════════╪═══╪═══════════╪═══════════╪═══════════╪═══════════╡\n",
       "│ 2000547319 ┆ Singin' in ┆ 1952-04-1 ┆ Passed ┆ … ┆ 2018-02-1 ┆ back_in_1 ┆ null      ┆ user      │\n",
       "│            ┆ the Rain   ┆ 1         ┆        ┆   ┆ 8         ┆ 939       ┆           ┆           │\n",
       "│ 2000547319 ┆ Singin' in ┆ 1952-04-1 ┆ Passed ┆ … ┆ 2020-05-0 ┆ Dostoyevs ┆ null      ┆ user      │\n",
       "│            ┆ the Rain   ┆ 1         ┆        ┆   ┆ 5         ┆ ky3       ┆           ┆           │\n",
       "│ 2000547319 ┆ Singin' in ┆ 1952-04-1 ┆ Passed ┆ … ┆ 2020-12-2 ┆ Mglovesfu ┆ null      ┆ user      │\n",
       "│            ┆ the Rain   ┆ 1         ┆        ┆   ┆ 5         ┆ n         ┆           ┆           │\n",
       "│ 2000547319 ┆ Singin' in ┆ 1952-04-1 ┆ Passed ┆ … ┆ 2019-10-0 ┆ CodyZambo ┆ null      ┆ user      │\n",
       "│            ┆ the Rain   ┆ 1         ┆        ┆   ┆ 5         ┆ ni        ┆           ┆           │\n",
       "│ 2000547319 ┆ Singin' in ┆ 1952-04-1 ┆ Passed ┆ … ┆ 2019-08-2 ┆ TootsieWo ┆ null      ┆ user      │\n",
       "│            ┆ the Rain   ┆ 1         ┆        ┆   ┆ 9         ┆ otsy      ┆           ┆           │\n",
       "│ …          ┆ …          ┆ …         ┆ …      ┆ … ┆ …         ┆ …         ┆ …         ┆ …         │\n",
       "│ 2000549063 ┆ Death of a ┆ 2018-08-0 ┆ PG-13  ┆ … ┆ 2018-07-3 ┆ Vadim     ┆ The A.V.  ┆ critic    │\n",
       "│            ┆ Nation     ┆ 3         ┆        ┆   ┆ 0         ┆ Rizov     ┆ Club      ┆           │\n",
       "│ 2000549063 ┆ Death of a ┆ 2018-08-0 ┆ PG-13  ┆ … ┆ 2018-07-3 ┆ David     ┆ IndieWire ┆ critic    │\n",
       "│            ┆ Nation     ┆ 3         ┆        ┆   ┆ 0         ┆ Ehrlich   ┆           ┆           │\n",
       "│ 2000549063 ┆ Death of a ┆ 2018-08-0 ┆ PG-13  ┆ … ┆ 2018-07-3 ┆ Owen Glei ┆ Variety   ┆ critic    │\n",
       "│            ┆ Nation     ┆ 3         ┆        ┆   ┆ 1         ┆ berman    ┆           ┆           │\n",
       "│ 2000549063 ┆ Death of a ┆ 2018-08-0 ┆ PG-13  ┆ … ┆ 2018-08-0 ┆ Frank     ┆ The       ┆ critic    │\n",
       "│            ┆ Nation     ┆ 3         ┆        ┆   ┆ 1         ┆ Scheck    ┆ Hollywood ┆           │\n",
       "│            ┆            ┆           ┆        ┆   ┆           ┆           ┆ Reporter  ┆           │\n",
       "│ 2000549063 ┆ Death of a ┆ 2018-08-0 ┆ PG-13  ┆ … ┆ 2018-08-0 ┆ Peter Sob ┆ RogerEber ┆ critic    │\n",
       "│            ┆ Nation     ┆ 3         ┆        ┆   ┆ 2         ┆ czynski   ┆ t.com     ┆           │\n",
       "└────────────┴────────────┴───────────┴────────┴───┴───────────┴───────────┴───────────┴───────────┘"
      ],
      "text/html": [
       "<div><style>\n",
       ".dataframe > thead > tr,\n",
       ".dataframe > tbody > tr {\n",
       "  text-align: right;\n",
       "  white-space: pre-wrap;\n",
       "}\n",
       "</style>\n",
       "<small>shape: (59_710, 24)</small><table border=\"1\" class=\"dataframe\"><thead><tr><th>id</th><th>title</th><th>releaseDate</th><th>rating</th><th>genres</th><th>description</th><th>duration</th><th>tagline</th><th>metascore</th><th>metascore_count</th><th>metascore_sentiment</th><th>userscore</th><th>userscore_count</th><th>userscore_sentiment</th><th>production_companies</th><th>director</th><th>writer</th><th>top_cast</th><th>quote</th><th>score</th><th>date</th><th>author</th><th>publicationName</th><th>review_type</th></tr><tr><td>i64</td><td>str</td><td>str</td><td>str</td><td>str</td><td>str</td><td>i64</td><td>str</td><td>f64</td><td>i64</td><td>str</td><td>f64</td><td>f64</td><td>str</td><td>str</td><td>str</td><td>str</td><td>str</td><td>str</td><td>i64</td><td>str</td><td>str</td><td>str</td><td>str</td></tr></thead><tbody><tr><td>2000547319</td><td>&quot;Singin&#x27; in the Rain&quot;</td><td>&quot;1952-04-11&quot;</td><td>&quot;Passed&quot;</td><td>&quot;Comedy,Musical,Romance&quot;</td><td>&quot;A silent film production compa…</td><td>103</td><td>&quot;Singin&#x27; Swingin&#x27; Glorious Feel…</td><td>99.0</td><td>17</td><td>&quot;Universal acclaim&quot;</td><td>87.0</td><td>313.0</td><td>&quot;Universal acclaim&quot;</td><td>&quot;Loew&#x27;s,Metro-Goldwyn-Mayer (MG…</td><td>&quot;Stanley Donen,Gene Kelly&quot;</td><td>&quot;Betty Comden,Adolph Green&quot;</td><td>&quot;Gene Kelly,Donald O&#x27;Connor,Deb…</td><td>&quot;such a joyous and entertaining…</td><td>100</td><td>&quot;2018-02-18&quot;</td><td>&quot;back_in_1939&quot;</td><td>null</td><td>&quot;user&quot;</td></tr><tr><td>2000547319</td><td>&quot;Singin&#x27; in the Rain&quot;</td><td>&quot;1952-04-11&quot;</td><td>&quot;Passed&quot;</td><td>&quot;Comedy,Musical,Romance&quot;</td><td>&quot;A silent film production compa…</td><td>103</td><td>&quot;Singin&#x27; Swingin&#x27; Glorious Feel…</td><td>99.0</td><td>17</td><td>&quot;Universal acclaim&quot;</td><td>87.0</td><td>313.0</td><td>&quot;Universal acclaim&quot;</td><td>&quot;Loew&#x27;s,Metro-Goldwyn-Mayer (MG…</td><td>&quot;Stanley Donen,Gene Kelly&quot;</td><td>&quot;Betty Comden,Adolph Green&quot;</td><td>&quot;Gene Kelly,Donald O&#x27;Connor,Deb…</td><td>&quot;You will never find more joy a…</td><td>100</td><td>&quot;2020-05-05&quot;</td><td>&quot;Dostoyevsky3&quot;</td><td>null</td><td>&quot;user&quot;</td></tr><tr><td>2000547319</td><td>&quot;Singin&#x27; in the Rain&quot;</td><td>&quot;1952-04-11&quot;</td><td>&quot;Passed&quot;</td><td>&quot;Comedy,Musical,Romance&quot;</td><td>&quot;A silent film production compa…</td><td>103</td><td>&quot;Singin&#x27; Swingin&#x27; Glorious Feel…</td><td>99.0</td><td>17</td><td>&quot;Universal acclaim&quot;</td><td>87.0</td><td>313.0</td><td>&quot;Universal acclaim&quot;</td><td>&quot;Loew&#x27;s,Metro-Goldwyn-Mayer (MG…</td><td>&quot;Stanley Donen,Gene Kelly&quot;</td><td>&quot;Betty Comden,Adolph Green&quot;</td><td>&quot;Gene Kelly,Donald O&#x27;Connor,Deb…</td><td>&quot;Perhaps the best Golden Age of…</td><td>100</td><td>&quot;2020-12-25&quot;</td><td>&quot;Mglovesfun&quot;</td><td>null</td><td>&quot;user&quot;</td></tr><tr><td>2000547319</td><td>&quot;Singin&#x27; in the Rain&quot;</td><td>&quot;1952-04-11&quot;</td><td>&quot;Passed&quot;</td><td>&quot;Comedy,Musical,Romance&quot;</td><td>&quot;A silent film production compa…</td><td>103</td><td>&quot;Singin&#x27; Swingin&#x27; Glorious Feel…</td><td>99.0</td><td>17</td><td>&quot;Universal acclaim&quot;</td><td>87.0</td><td>313.0</td><td>&quot;Universal acclaim&quot;</td><td>&quot;Loew&#x27;s,Metro-Goldwyn-Mayer (MG…</td><td>&quot;Stanley Donen,Gene Kelly&quot;</td><td>&quot;Betty Comden,Adolph Green&quot;</td><td>&quot;Gene Kelly,Donald O&#x27;Connor,Deb…</td><td>&quot;Super entertaining classic. Ho…</td><td>100</td><td>&quot;2019-10-05&quot;</td><td>&quot;CodyZamboni&quot;</td><td>null</td><td>&quot;user&quot;</td></tr><tr><td>2000547319</td><td>&quot;Singin&#x27; in the Rain&quot;</td><td>&quot;1952-04-11&quot;</td><td>&quot;Passed&quot;</td><td>&quot;Comedy,Musical,Romance&quot;</td><td>&quot;A silent film production compa…</td><td>103</td><td>&quot;Singin&#x27; Swingin&#x27; Glorious Feel…</td><td>99.0</td><td>17</td><td>&quot;Universal acclaim&quot;</td><td>87.0</td><td>313.0</td><td>&quot;Universal acclaim&quot;</td><td>&quot;Loew&#x27;s,Metro-Goldwyn-Mayer (MG…</td><td>&quot;Stanley Donen,Gene Kelly&quot;</td><td>&quot;Betty Comden,Adolph Green&quot;</td><td>&quot;Gene Kelly,Donald O&#x27;Connor,Deb…</td><td>&quot;Glorious Performance **** far …</td><td>100</td><td>&quot;2019-08-29&quot;</td><td>&quot;TootsieWootsy&quot;</td><td>null</td><td>&quot;user&quot;</td></tr><tr><td>&hellip;</td><td>&hellip;</td><td>&hellip;</td><td>&hellip;</td><td>&hellip;</td><td>&hellip;</td><td>&hellip;</td><td>&hellip;</td><td>&hellip;</td><td>&hellip;</td><td>&hellip;</td><td>&hellip;</td><td>&hellip;</td><td>&hellip;</td><td>&hellip;</td><td>&hellip;</td><td>&hellip;</td><td>&hellip;</td><td>&hellip;</td><td>&hellip;</td><td>&hellip;</td><td>&hellip;</td><td>&hellip;</td><td>&hellip;</td></tr><tr><td>2000549063</td><td>&quot;Death of a Nation&quot;</td><td>&quot;2018-08-03&quot;</td><td>&quot;PG-13&quot;</td><td>&quot;Documentary,History&quot;</td><td>&quot;Not since 1860 have the Democr…</td><td>108</td><td>&quot;Can we save America a second t…</td><td>1.0</td><td>8</td><td>&quot;Overwhelming dislike&quot;</td><td>44.0</td><td>297.0</td><td>&quot;Mixed or average&quot;</td><td>&quot;D&#x27;Souza Media,Pure Flix / Qual…</td><td>&quot;Dinesh D&#x27;Souza,Bruce Schooley&quot;</td><td>&quot;Dinesh D&#x27;Souza,Bruce Schooley&quot;</td><td>&quot;Dinesh D&#x27;Souza,Victoria Chilap…</td><td>&quot;D’Souza fails, as ever, to mak…</td><td>0</td><td>&quot;2018-07-30&quot;</td><td>&quot;Vadim Rizov&quot;</td><td>&quot;The A.V. Club&quot;</td><td>&quot;critic&quot;</td></tr><tr><td>2000549063</td><td>&quot;Death of a Nation&quot;</td><td>&quot;2018-08-03&quot;</td><td>&quot;PG-13&quot;</td><td>&quot;Documentary,History&quot;</td><td>&quot;Not since 1860 have the Democr…</td><td>108</td><td>&quot;Can we save America a second t…</td><td>1.0</td><td>8</td><td>&quot;Overwhelming dislike&quot;</td><td>44.0</td><td>297.0</td><td>&quot;Mixed or average&quot;</td><td>&quot;D&#x27;Souza Media,Pure Flix / Qual…</td><td>&quot;Dinesh D&#x27;Souza,Bruce Schooley&quot;</td><td>&quot;Dinesh D&#x27;Souza,Bruce Schooley&quot;</td><td>&quot;Dinesh D&#x27;Souza,Victoria Chilap…</td><td>&quot;The meandering and insufferabl…</td><td>0</td><td>&quot;2018-07-30&quot;</td><td>&quot;David Ehrlich&quot;</td><td>&quot;IndieWire&quot;</td><td>&quot;critic&quot;</td></tr><tr><td>2000549063</td><td>&quot;Death of a Nation&quot;</td><td>&quot;2018-08-03&quot;</td><td>&quot;PG-13&quot;</td><td>&quot;Documentary,History&quot;</td><td>&quot;Not since 1860 have the Democr…</td><td>108</td><td>&quot;Can we save America a second t…</td><td>1.0</td><td>8</td><td>&quot;Overwhelming dislike&quot;</td><td>44.0</td><td>297.0</td><td>&quot;Mixed or average&quot;</td><td>&quot;D&#x27;Souza Media,Pure Flix / Qual…</td><td>&quot;Dinesh D&#x27;Souza,Bruce Schooley&quot;</td><td>&quot;Dinesh D&#x27;Souza,Bruce Schooley&quot;</td><td>&quot;Dinesh D&#x27;Souza,Victoria Chilap…</td><td>&quot;In Death of a Nation, Dinesh D…</td><td>0</td><td>&quot;2018-07-31&quot;</td><td>&quot;Owen Gleiberman&quot;</td><td>&quot;Variety&quot;</td><td>&quot;critic&quot;</td></tr><tr><td>2000549063</td><td>&quot;Death of a Nation&quot;</td><td>&quot;2018-08-03&quot;</td><td>&quot;PG-13&quot;</td><td>&quot;Documentary,History&quot;</td><td>&quot;Not since 1860 have the Democr…</td><td>108</td><td>&quot;Can we save America a second t…</td><td>1.0</td><td>8</td><td>&quot;Overwhelming dislike&quot;</td><td>44.0</td><td>297.0</td><td>&quot;Mixed or average&quot;</td><td>&quot;D&#x27;Souza Media,Pure Flix / Qual…</td><td>&quot;Dinesh D&#x27;Souza,Bruce Schooley&quot;</td><td>&quot;Dinesh D&#x27;Souza,Bruce Schooley&quot;</td><td>&quot;Dinesh D&#x27;Souza,Victoria Chilap…</td><td>&quot;For all of its incendiary argu…</td><td>0</td><td>&quot;2018-08-01&quot;</td><td>&quot;Frank Scheck&quot;</td><td>&quot;The Hollywood Reporter&quot;</td><td>&quot;critic&quot;</td></tr><tr><td>2000549063</td><td>&quot;Death of a Nation&quot;</td><td>&quot;2018-08-03&quot;</td><td>&quot;PG-13&quot;</td><td>&quot;Documentary,History&quot;</td><td>&quot;Not since 1860 have the Democr…</td><td>108</td><td>&quot;Can we save America a second t…</td><td>1.0</td><td>8</td><td>&quot;Overwhelming dislike&quot;</td><td>44.0</td><td>297.0</td><td>&quot;Mixed or average&quot;</td><td>&quot;D&#x27;Souza Media,Pure Flix / Qual…</td><td>&quot;Dinesh D&#x27;Souza,Bruce Schooley&quot;</td><td>&quot;Dinesh D&#x27;Souza,Bruce Schooley&quot;</td><td>&quot;Dinesh D&#x27;Souza,Victoria Chilap…</td><td>&quot;The only thing preventing me f…</td><td>0</td><td>&quot;2018-08-02&quot;</td><td>&quot;Peter Sobczynski&quot;</td><td>&quot;RogerEbert.com&quot;</td><td>&quot;critic&quot;</td></tr></tbody></table></div>"
      ]
     },
     "execution_count": 6,
     "metadata": {},
     "output_type": "execute_result"
    }
   ],
   "execution_count": 6
  },
  {
   "metadata": {
    "ExecuteTime": {
     "end_time": "2025-03-28T18:28:33.158279Z",
     "start_time": "2025-03-28T18:28:33.128004Z"
    }
   },
   "cell_type": "code",
   "source": [
    "df_joined = df_joined.with_columns(\n",
    "    pl.col('releaseDate').str.strptime(pl.Date, '%Y-%m-%d', strict=False),\n",
    "    (pl.col('duration') * 60 * 1000).cast(pl.Duration('ms')),\n",
    "    pl.col('metascore_count').cast(pl.UInt8),\n",
    "    pl.col('date').str.strptime(pl.Date, '%Y-%m-%d', strict=False),\n",
    ")"
   ],
   "id": "2e7d0f0bfebcbafc",
   "outputs": [],
   "execution_count": 7
  },
  {
   "metadata": {
    "ExecuteTime": {
     "end_time": "2025-03-28T18:28:33.515590Z",
     "start_time": "2025-03-28T18:28:33.183367Z"
    }
   },
   "cell_type": "code",
   "source": [
    "df_joined = df_joined.with_columns(\n",
    "    pl.col('genres').str.split(',').alias('genres')\n",
    ").explode('genres')"
   ],
   "id": "df46c8460b039500",
   "outputs": [],
   "execution_count": 8
  },
  {
   "metadata": {
    "ExecuteTime": {
     "end_time": "2025-03-28T18:28:33.944591Z",
     "start_time": "2025-03-28T18:28:33.543578Z"
    }
   },
   "cell_type": "code",
   "source": [
    "df_joined = df_joined.with_columns(\n",
    "    pl.col('director').str.split(',')\n",
    ").explode('director')"
   ],
   "id": "df8e3d372e82f2a7",
   "outputs": [],
   "execution_count": 9
  },
  {
   "metadata": {
    "ExecuteTime": {
     "end_time": "2025-03-28T18:28:34.119858Z",
     "start_time": "2025-03-28T18:28:34.041965Z"
    }
   },
   "cell_type": "code",
   "source": [
    "df_joined.group_by(\n",
    "    'director'\n",
    ").agg(\n",
    "    pl.sum('duration').alias('duration'),\n",
    ").sort(by='duration', descending=True)"
   ],
   "id": "1f86315c8a6aa11e",
   "outputs": [
    {
     "data": {
      "text/plain": [
       "shape: (8_582, 2)\n",
       "┌───────────────────┬───────────────┐\n",
       "│ director          ┆ duration      │\n",
       "│ ---               ┆ ---           │\n",
       "│ str               ┆ duration[ms]  │\n",
       "╞═══════════════════╪═══════════════╡\n",
       "│ Zack Snyder       ┆ 2977d 35m     │\n",
       "│ Christopher Nolan ┆ 2309d 19h 28m │\n",
       "│ Rian Johnson      ┆ 2224d 2h 17m  │\n",
       "│ J.J. Abrams       ┆ 1989d 19h 35m │\n",
       "│ Ridley Scott      ┆ 1455d 36m     │\n",
       "│ …                 ┆ …             │\n",
       "│ Yulie Cohen       ┆ 6h 46m        │\n",
       "│ Martin Doblmeier  ┆ 6h 12m        │\n",
       "│ Josh Pais         ┆ 1h 12m        │\n",
       "│ Martyn Atkins     ┆ 0ms           │\n",
       "│ Tom Kramer        ┆ 0ms           │\n",
       "└───────────────────┴───────────────┘"
      ],
      "text/html": [
       "<div><style>\n",
       ".dataframe > thead > tr,\n",
       ".dataframe > tbody > tr {\n",
       "  text-align: right;\n",
       "  white-space: pre-wrap;\n",
       "}\n",
       "</style>\n",
       "<small>shape: (8_582, 2)</small><table border=\"1\" class=\"dataframe\"><thead><tr><th>director</th><th>duration</th></tr><tr><td>str</td><td>duration[ms]</td></tr></thead><tbody><tr><td>&quot;Zack Snyder&quot;</td><td>2977d 35m</td></tr><tr><td>&quot;Christopher Nolan&quot;</td><td>2309d 19h 28m</td></tr><tr><td>&quot;Rian Johnson&quot;</td><td>2224d 2h 17m</td></tr><tr><td>&quot;J.J. Abrams&quot;</td><td>1989d 19h 35m</td></tr><tr><td>&quot;Ridley Scott&quot;</td><td>1455d 36m</td></tr><tr><td>&hellip;</td><td>&hellip;</td></tr><tr><td>&quot;Yulie Cohen&quot;</td><td>6h 46m</td></tr><tr><td>&quot;Martin Doblmeier&quot;</td><td>6h 12m</td></tr><tr><td>&quot;Josh Pais&quot;</td><td>1h 12m</td></tr><tr><td>&quot;Martyn Atkins&quot;</td><td>0ms</td></tr><tr><td>&quot;Tom Kramer&quot;</td><td>0ms</td></tr></tbody></table></div>"
      ]
     },
     "execution_count": 10,
     "metadata": {},
     "output_type": "execute_result"
    }
   ],
   "execution_count": 10
  },
  {
   "metadata": {
    "ExecuteTime": {
     "end_time": "2025-03-28T18:28:34.356226Z",
     "start_time": "2025-03-28T18:28:34.347676Z"
    }
   },
   "cell_type": "code",
   "source": "df_joined",
   "id": "442cbcaf248af7d0",
   "outputs": [
    {
     "data": {
      "text/plain": [
       "shape: (2_384_810, 24)\n",
       "┌────────────┬────────────┬───────────┬────────┬───┬───────────┬───────────┬───────────┬───────────┐\n",
       "│ id         ┆ title      ┆ releaseDa ┆ rating ┆ … ┆ date      ┆ author    ┆ publicati ┆ review_ty │\n",
       "│ ---        ┆ ---        ┆ te        ┆ ---    ┆   ┆ ---       ┆ ---       ┆ onName    ┆ pe        │\n",
       "│ i64        ┆ str        ┆ ---       ┆ str    ┆   ┆ date      ┆ str       ┆ ---       ┆ ---       │\n",
       "│            ┆            ┆ date      ┆        ┆   ┆           ┆           ┆ str       ┆ str       │\n",
       "╞════════════╪════════════╪═══════════╪════════╪═══╪═══════════╪═══════════╪═══════════╪═══════════╡\n",
       "│ 2000545497 ┆ Dekalog    ┆ 1996-03-2 ┆ TV-MA  ┆ … ┆ 2023-11-2 ┆ Siza      ┆ null      ┆ user      │\n",
       "│            ┆ (1988)     ┆ 2         ┆        ┆   ┆ 2         ┆           ┆           ┆           │\n",
       "│ 2000545497 ┆ Dekalog    ┆ 1996-03-2 ┆ TV-MA  ┆ … ┆ 2021-05-0 ┆ ItsMahdiy ┆ null      ┆ user      │\n",
       "│            ┆ (1988)     ┆ 2         ┆        ┆   ┆ 1         ┆ arr       ┆           ┆           │\n",
       "│ 2000545497 ┆ Dekalog    ┆ 1996-03-2 ┆ TV-MA  ┆ … ┆ 2019-12-0 ┆ Andremax  ┆ null      ┆ user      │\n",
       "│            ┆ (1988)     ┆ 2         ┆        ┆   ┆ 5         ┆           ┆           ┆           │\n",
       "│ 2000545497 ┆ Dekalog    ┆ 1996-03-2 ┆ TV-MA  ┆ … ┆ 2018-04-2 ┆ thelol    ┆ null      ┆ user      │\n",
       "│            ┆ (1988)     ┆ 2         ┆        ┆   ┆ 6         ┆           ┆           ┆           │\n",
       "│ 2000545497 ┆ Dekalog    ┆ 1996-03-2 ┆ TV-MA  ┆ … ┆ 2024-10-3 ┆ Daki1105  ┆ null      ┆ user      │\n",
       "│            ┆ (1988)     ┆ 2         ┆        ┆   ┆ 1         ┆           ┆           ┆           │\n",
       "│ …          ┆ …          ┆ …         ┆ …      ┆ … ┆ …         ┆ …         ┆ …         ┆ …         │\n",
       "│ 2000538594 ┆ Boogie     ┆ 2010-04-2 ┆ R      ┆ … ┆ 2010-10-2 ┆ gazpacho  ┆ null      ┆ user      │\n",
       "│            ┆ Woogie     ┆ 3         ┆        ┆   ┆ 5         ┆           ┆           ┆           │\n",
       "│ 2000538594 ┆ Boogie     ┆ 2010-04-2 ┆ R      ┆ … ┆ 2013-03-0 ┆ Taplinger ┆ null      ┆ user      │\n",
       "│            ┆ Woogie     ┆ 3         ┆        ┆   ┆ 2         ┆           ┆           ┆           │\n",
       "│ 2000538594 ┆ Boogie     ┆ 2010-04-2 ┆ R      ┆ … ┆ 2013-03-0 ┆ Taplinger ┆ null      ┆ user      │\n",
       "│            ┆ Woogie     ┆ 3         ┆        ┆   ┆ 2         ┆           ┆           ┆           │\n",
       "│ 2000538594 ┆ Boogie     ┆ 2010-04-2 ┆ R      ┆ … ┆ 2010-11-0 ┆ hollym333 ┆ null      ┆ user      │\n",
       "│            ┆ Woogie     ┆ 3         ┆        ┆   ┆ 7         ┆           ┆           ┆           │\n",
       "│ 2000538594 ┆ Boogie     ┆ 2010-04-2 ┆ R      ┆ … ┆ 2010-11-0 ┆ hollym333 ┆ null      ┆ user      │\n",
       "│            ┆ Woogie     ┆ 3         ┆        ┆   ┆ 7         ┆           ┆           ┆           │\n",
       "└────────────┴────────────┴───────────┴────────┴───┴───────────┴───────────┴───────────┴───────────┘"
      ],
      "text/html": [
       "<div><style>\n",
       ".dataframe > thead > tr,\n",
       ".dataframe > tbody > tr {\n",
       "  text-align: right;\n",
       "  white-space: pre-wrap;\n",
       "}\n",
       "</style>\n",
       "<small>shape: (2_384_810, 24)</small><table border=\"1\" class=\"dataframe\"><thead><tr><th>id</th><th>title</th><th>releaseDate</th><th>rating</th><th>genres</th><th>description</th><th>duration</th><th>tagline</th><th>metascore</th><th>metascore_count</th><th>metascore_sentiment</th><th>userscore</th><th>userscore_count</th><th>userscore_sentiment</th><th>production_companies</th><th>director</th><th>writer</th><th>top_cast</th><th>quote</th><th>score</th><th>date</th><th>author</th><th>publicationName</th><th>review_type</th></tr><tr><td>i64</td><td>str</td><td>date</td><td>str</td><td>str</td><td>str</td><td>duration[ms]</td><td>str</td><td>f64</td><td>u8</td><td>str</td><td>f64</td><td>f64</td><td>str</td><td>str</td><td>str</td><td>str</td><td>str</td><td>str</td><td>i64</td><td>date</td><td>str</td><td>str</td><td>str</td></tr></thead><tbody><tr><td>2000545497</td><td>&quot;Dekalog (1988)&quot;</td><td>1996-03-22</td><td>&quot;TV-MA&quot;</td><td>&quot;Drama&quot;</td><td>&quot;This masterwork by Krzysztof K…</td><td>9h 32m</td><td>null</td><td>100.0</td><td>13</td><td>&quot;Universal acclaim&quot;</td><td>78.0</td><td>162.0</td><td>&quot;Generally favorable&quot;</td><td>&quot;Telewizja Polska (TVP),Zespol …</td><td>&quot;Krzysztof Kieslowski&quot;</td><td>&quot;Krzysztof Kieslowski,Krzysztof…</td><td>&quot;Artur Barcis,Olgierd Lukaszewi…</td><td>&quot;What a bitter pill to swallow …</td><td>100</td><td>2023-11-22</td><td>&quot;Siza&quot;</td><td>null</td><td>&quot;user&quot;</td></tr><tr><td>2000545497</td><td>&quot;Dekalog (1988)&quot;</td><td>1996-03-22</td><td>&quot;TV-MA&quot;</td><td>&quot;Drama&quot;</td><td>&quot;This masterwork by Krzysztof K…</td><td>9h 32m</td><td>null</td><td>100.0</td><td>13</td><td>&quot;Universal acclaim&quot;</td><td>78.0</td><td>162.0</td><td>&quot;Generally favorable&quot;</td><td>&quot;Telewizja Polska (TVP),Zespol …</td><td>&quot;Krzysztof Kieslowski&quot;</td><td>&quot;Krzysztof Kieslowski,Krzysztof…</td><td>&quot;Artur Barcis,Olgierd Lukaszewi…</td><td>&quot;The best 10 hours you will spe…</td><td>100</td><td>2021-05-01</td><td>&quot;ItsMahdiyarr&quot;</td><td>null</td><td>&quot;user&quot;</td></tr><tr><td>2000545497</td><td>&quot;Dekalog (1988)&quot;</td><td>1996-03-22</td><td>&quot;TV-MA&quot;</td><td>&quot;Drama&quot;</td><td>&quot;This masterwork by Krzysztof K…</td><td>9h 32m</td><td>null</td><td>100.0</td><td>13</td><td>&quot;Universal acclaim&quot;</td><td>78.0</td><td>162.0</td><td>&quot;Generally favorable&quot;</td><td>&quot;Telewizja Polska (TVP),Zespol …</td><td>&quot;Krzysztof Kieslowski&quot;</td><td>&quot;Krzysztof Kieslowski,Krzysztof…</td><td>&quot;Artur Barcis,Olgierd Lukaszewi…</td><td>&quot;Touching and human, Dekalog is…</td><td>100</td><td>2019-12-05</td><td>&quot;Andremax&quot;</td><td>null</td><td>&quot;user&quot;</td></tr><tr><td>2000545497</td><td>&quot;Dekalog (1988)&quot;</td><td>1996-03-22</td><td>&quot;TV-MA&quot;</td><td>&quot;Drama&quot;</td><td>&quot;This masterwork by Krzysztof K…</td><td>9h 32m</td><td>null</td><td>100.0</td><td>13</td><td>&quot;Universal acclaim&quot;</td><td>78.0</td><td>162.0</td><td>&quot;Generally favorable&quot;</td><td>&quot;Telewizja Polska (TVP),Zespol …</td><td>&quot;Krzysztof Kieslowski&quot;</td><td>&quot;Krzysztof Kieslowski,Krzysztof…</td><td>&quot;Artur Barcis,Olgierd Lukaszewi…</td><td>&quot;Krzysztof Kieslowski&#x27;s &quot;The De…</td><td>100</td><td>2018-04-26</td><td>&quot;thelol&quot;</td><td>null</td><td>&quot;user&quot;</td></tr><tr><td>2000545497</td><td>&quot;Dekalog (1988)&quot;</td><td>1996-03-22</td><td>&quot;TV-MA&quot;</td><td>&quot;Drama&quot;</td><td>&quot;This masterwork by Krzysztof K…</td><td>9h 32m</td><td>null</td><td>100.0</td><td>13</td><td>&quot;Universal acclaim&quot;</td><td>78.0</td><td>162.0</td><td>&quot;Generally favorable&quot;</td><td>&quot;Telewizja Polska (TVP),Zespol …</td><td>&quot;Krzysztof Kieslowski&quot;</td><td>&quot;Krzysztof Kieslowski,Krzysztof…</td><td>&quot;Artur Barcis,Olgierd Lukaszewi…</td><td>&quot;For me it is simply breathtaki…</td><td>100</td><td>2024-10-31</td><td>&quot;Daki1105&quot;</td><td>null</td><td>&quot;user&quot;</td></tr><tr><td>&hellip;</td><td>&hellip;</td><td>&hellip;</td><td>&hellip;</td><td>&hellip;</td><td>&hellip;</td><td>&hellip;</td><td>&hellip;</td><td>&hellip;</td><td>&hellip;</td><td>&hellip;</td><td>&hellip;</td><td>&hellip;</td><td>&hellip;</td><td>&hellip;</td><td>&hellip;</td><td>&hellip;</td><td>&hellip;</td><td>&hellip;</td><td>&hellip;</td><td>&hellip;</td><td>&hellip;</td><td>&hellip;</td><td>&hellip;</td></tr><tr><td>2000538594</td><td>&quot;Boogie Woogie&quot;</td><td>2010-04-23</td><td>&quot;R&quot;</td><td>&quot;Drama&quot;</td><td>&quot;A comedy of manners set agains…</td><td>1h 34m</td><td>&quot;Seduction. Betrayal. Death. Th…</td><td>null</td><td>11</td><td>null</td><td>46.0</td><td>10.0</td><td>&quot;Mixed or average&quot;</td><td>&quot;The Works International,Consta…</td><td>&quot;Duncan Ward&quot;</td><td>&quot;Danny Moynihan&quot;</td><td>&quot;Gillian Anderson,Alan Cumming,…</td><td>&quot;A stinging satire of the conte…</td><td>50</td><td>2010-10-25</td><td>&quot;gazpacho&quot;</td><td>null</td><td>&quot;user&quot;</td></tr><tr><td>2000538594</td><td>&quot;Boogie Woogie&quot;</td><td>2010-04-23</td><td>&quot;R&quot;</td><td>&quot;Comedy&quot;</td><td>&quot;A comedy of manners set agains…</td><td>1h 34m</td><td>&quot;Seduction. Betrayal. Death. Th…</td><td>null</td><td>11</td><td>null</td><td>46.0</td><td>10.0</td><td>&quot;Mixed or average&quot;</td><td>&quot;The Works International,Consta…</td><td>&quot;Duncan Ward&quot;</td><td>&quot;Danny Moynihan&quot;</td><td>&quot;Gillian Anderson,Alan Cumming,…</td><td>&quot;If you&#x27;re looking for a reason…</td><td>30</td><td>2013-03-02</td><td>&quot;Taplinger&quot;</td><td>null</td><td>&quot;user&quot;</td></tr><tr><td>2000538594</td><td>&quot;Boogie Woogie&quot;</td><td>2010-04-23</td><td>&quot;R&quot;</td><td>&quot;Drama&quot;</td><td>&quot;A comedy of manners set agains…</td><td>1h 34m</td><td>&quot;Seduction. Betrayal. Death. Th…</td><td>null</td><td>11</td><td>null</td><td>46.0</td><td>10.0</td><td>&quot;Mixed or average&quot;</td><td>&quot;The Works International,Consta…</td><td>&quot;Duncan Ward&quot;</td><td>&quot;Danny Moynihan&quot;</td><td>&quot;Gillian Anderson,Alan Cumming,…</td><td>&quot;If you&#x27;re looking for a reason…</td><td>30</td><td>2013-03-02</td><td>&quot;Taplinger&quot;</td><td>null</td><td>&quot;user&quot;</td></tr><tr><td>2000538594</td><td>&quot;Boogie Woogie&quot;</td><td>2010-04-23</td><td>&quot;R&quot;</td><td>&quot;Comedy&quot;</td><td>&quot;A comedy of manners set agains…</td><td>1h 34m</td><td>&quot;Seduction. Betrayal. Death. Th…</td><td>null</td><td>11</td><td>null</td><td>46.0</td><td>10.0</td><td>&quot;Mixed or average&quot;</td><td>&quot;The Works International,Consta…</td><td>&quot;Duncan Ward&quot;</td><td>&quot;Danny Moynihan&quot;</td><td>&quot;Gillian Anderson,Alan Cumming,…</td><td>&quot;Pathetic, disgraceful. This is…</td><td>0</td><td>2010-11-07</td><td>&quot;hollym333&quot;</td><td>null</td><td>&quot;user&quot;</td></tr><tr><td>2000538594</td><td>&quot;Boogie Woogie&quot;</td><td>2010-04-23</td><td>&quot;R&quot;</td><td>&quot;Drama&quot;</td><td>&quot;A comedy of manners set agains…</td><td>1h 34m</td><td>&quot;Seduction. Betrayal. Death. Th…</td><td>null</td><td>11</td><td>null</td><td>46.0</td><td>10.0</td><td>&quot;Mixed or average&quot;</td><td>&quot;The Works International,Consta…</td><td>&quot;Duncan Ward&quot;</td><td>&quot;Danny Moynihan&quot;</td><td>&quot;Gillian Anderson,Alan Cumming,…</td><td>&quot;Pathetic, disgraceful. This is…</td><td>0</td><td>2010-11-07</td><td>&quot;hollym333&quot;</td><td>null</td><td>&quot;user&quot;</td></tr></tbody></table></div>"
      ]
     },
     "execution_count": 11,
     "metadata": {},
     "output_type": "execute_result"
    }
   ],
   "execution_count": 11
  },
  {
   "metadata": {
    "ExecuteTime": {
     "end_time": "2025-03-28T18:28:34.451198Z",
     "start_time": "2025-03-28T18:28:34.445398Z"
    }
   },
   "cell_type": "code",
   "source": "df_joined.collect_schema()",
   "id": "877f02f555a4570",
   "outputs": [
    {
     "data": {
      "text/plain": [
       "Schema([('id', Int64),\n",
       "        ('title', String),\n",
       "        ('releaseDate', Date),\n",
       "        ('rating', String),\n",
       "        ('genres', String),\n",
       "        ('description', String),\n",
       "        ('duration', Duration(time_unit='ms')),\n",
       "        ('tagline', String),\n",
       "        ('metascore', Float64),\n",
       "        ('metascore_count', UInt8),\n",
       "        ('metascore_sentiment', String),\n",
       "        ('userscore', Float64),\n",
       "        ('userscore_count', Float64),\n",
       "        ('userscore_sentiment', String),\n",
       "        ('production_companies', String),\n",
       "        ('director', String),\n",
       "        ('writer', String),\n",
       "        ('top_cast', String),\n",
       "        ('quote', String),\n",
       "        ('score', Int64),\n",
       "        ('date', Date),\n",
       "        ('author', String),\n",
       "        ('publicationName', String),\n",
       "        ('review_type', String)])"
      ]
     },
     "execution_count": 12,
     "metadata": {},
     "output_type": "execute_result"
    }
   ],
   "execution_count": 12
  },
  {
   "metadata": {
    "ExecuteTime": {
     "end_time": "2025-03-28T18:28:34.592897Z",
     "start_time": "2025-03-28T18:28:34.585474Z"
    }
   },
   "cell_type": "code",
   "source": "df_joined.head()",
   "id": "82384f6b374f8ea6",
   "outputs": [
    {
     "data": {
      "text/plain": [
       "shape: (5, 24)\n",
       "┌────────────┬────────────┬───────────┬────────┬───┬───────────┬───────────┬───────────┬───────────┐\n",
       "│ id         ┆ title      ┆ releaseDa ┆ rating ┆ … ┆ date      ┆ author    ┆ publicati ┆ review_ty │\n",
       "│ ---        ┆ ---        ┆ te        ┆ ---    ┆   ┆ ---       ┆ ---       ┆ onName    ┆ pe        │\n",
       "│ i64        ┆ str        ┆ ---       ┆ str    ┆   ┆ date      ┆ str       ┆ ---       ┆ ---       │\n",
       "│            ┆            ┆ date      ┆        ┆   ┆           ┆           ┆ str       ┆ str       │\n",
       "╞════════════╪════════════╪═══════════╪════════╪═══╪═══════════╪═══════════╪═══════════╪═══════════╡\n",
       "│ 2000545497 ┆ Dekalog    ┆ 1996-03-2 ┆ TV-MA  ┆ … ┆ 2023-11-2 ┆ Siza      ┆ null      ┆ user      │\n",
       "│            ┆ (1988)     ┆ 2         ┆        ┆   ┆ 2         ┆           ┆           ┆           │\n",
       "│ 2000545497 ┆ Dekalog    ┆ 1996-03-2 ┆ TV-MA  ┆ … ┆ 2021-05-0 ┆ ItsMahdiy ┆ null      ┆ user      │\n",
       "│            ┆ (1988)     ┆ 2         ┆        ┆   ┆ 1         ┆ arr       ┆           ┆           │\n",
       "│ 2000545497 ┆ Dekalog    ┆ 1996-03-2 ┆ TV-MA  ┆ … ┆ 2019-12-0 ┆ Andremax  ┆ null      ┆ user      │\n",
       "│            ┆ (1988)     ┆ 2         ┆        ┆   ┆ 5         ┆           ┆           ┆           │\n",
       "│ 2000545497 ┆ Dekalog    ┆ 1996-03-2 ┆ TV-MA  ┆ … ┆ 2018-04-2 ┆ thelol    ┆ null      ┆ user      │\n",
       "│            ┆ (1988)     ┆ 2         ┆        ┆   ┆ 6         ┆           ┆           ┆           │\n",
       "│ 2000545497 ┆ Dekalog    ┆ 1996-03-2 ┆ TV-MA  ┆ … ┆ 2024-10-3 ┆ Daki1105  ┆ null      ┆ user      │\n",
       "│            ┆ (1988)     ┆ 2         ┆        ┆   ┆ 1         ┆           ┆           ┆           │\n",
       "└────────────┴────────────┴───────────┴────────┴───┴───────────┴───────────┴───────────┴───────────┘"
      ],
      "text/html": [
       "<div><style>\n",
       ".dataframe > thead > tr,\n",
       ".dataframe > tbody > tr {\n",
       "  text-align: right;\n",
       "  white-space: pre-wrap;\n",
       "}\n",
       "</style>\n",
       "<small>shape: (5, 24)</small><table border=\"1\" class=\"dataframe\"><thead><tr><th>id</th><th>title</th><th>releaseDate</th><th>rating</th><th>genres</th><th>description</th><th>duration</th><th>tagline</th><th>metascore</th><th>metascore_count</th><th>metascore_sentiment</th><th>userscore</th><th>userscore_count</th><th>userscore_sentiment</th><th>production_companies</th><th>director</th><th>writer</th><th>top_cast</th><th>quote</th><th>score</th><th>date</th><th>author</th><th>publicationName</th><th>review_type</th></tr><tr><td>i64</td><td>str</td><td>date</td><td>str</td><td>str</td><td>str</td><td>duration[ms]</td><td>str</td><td>f64</td><td>u8</td><td>str</td><td>f64</td><td>f64</td><td>str</td><td>str</td><td>str</td><td>str</td><td>str</td><td>str</td><td>i64</td><td>date</td><td>str</td><td>str</td><td>str</td></tr></thead><tbody><tr><td>2000545497</td><td>&quot;Dekalog (1988)&quot;</td><td>1996-03-22</td><td>&quot;TV-MA&quot;</td><td>&quot;Drama&quot;</td><td>&quot;This masterwork by Krzysztof K…</td><td>9h 32m</td><td>null</td><td>100.0</td><td>13</td><td>&quot;Universal acclaim&quot;</td><td>78.0</td><td>162.0</td><td>&quot;Generally favorable&quot;</td><td>&quot;Telewizja Polska (TVP),Zespol …</td><td>&quot;Krzysztof Kieslowski&quot;</td><td>&quot;Krzysztof Kieslowski,Krzysztof…</td><td>&quot;Artur Barcis,Olgierd Lukaszewi…</td><td>&quot;What a bitter pill to swallow …</td><td>100</td><td>2023-11-22</td><td>&quot;Siza&quot;</td><td>null</td><td>&quot;user&quot;</td></tr><tr><td>2000545497</td><td>&quot;Dekalog (1988)&quot;</td><td>1996-03-22</td><td>&quot;TV-MA&quot;</td><td>&quot;Drama&quot;</td><td>&quot;This masterwork by Krzysztof K…</td><td>9h 32m</td><td>null</td><td>100.0</td><td>13</td><td>&quot;Universal acclaim&quot;</td><td>78.0</td><td>162.0</td><td>&quot;Generally favorable&quot;</td><td>&quot;Telewizja Polska (TVP),Zespol …</td><td>&quot;Krzysztof Kieslowski&quot;</td><td>&quot;Krzysztof Kieslowski,Krzysztof…</td><td>&quot;Artur Barcis,Olgierd Lukaszewi…</td><td>&quot;The best 10 hours you will spe…</td><td>100</td><td>2021-05-01</td><td>&quot;ItsMahdiyarr&quot;</td><td>null</td><td>&quot;user&quot;</td></tr><tr><td>2000545497</td><td>&quot;Dekalog (1988)&quot;</td><td>1996-03-22</td><td>&quot;TV-MA&quot;</td><td>&quot;Drama&quot;</td><td>&quot;This masterwork by Krzysztof K…</td><td>9h 32m</td><td>null</td><td>100.0</td><td>13</td><td>&quot;Universal acclaim&quot;</td><td>78.0</td><td>162.0</td><td>&quot;Generally favorable&quot;</td><td>&quot;Telewizja Polska (TVP),Zespol …</td><td>&quot;Krzysztof Kieslowski&quot;</td><td>&quot;Krzysztof Kieslowski,Krzysztof…</td><td>&quot;Artur Barcis,Olgierd Lukaszewi…</td><td>&quot;Touching and human, Dekalog is…</td><td>100</td><td>2019-12-05</td><td>&quot;Andremax&quot;</td><td>null</td><td>&quot;user&quot;</td></tr><tr><td>2000545497</td><td>&quot;Dekalog (1988)&quot;</td><td>1996-03-22</td><td>&quot;TV-MA&quot;</td><td>&quot;Drama&quot;</td><td>&quot;This masterwork by Krzysztof K…</td><td>9h 32m</td><td>null</td><td>100.0</td><td>13</td><td>&quot;Universal acclaim&quot;</td><td>78.0</td><td>162.0</td><td>&quot;Generally favorable&quot;</td><td>&quot;Telewizja Polska (TVP),Zespol …</td><td>&quot;Krzysztof Kieslowski&quot;</td><td>&quot;Krzysztof Kieslowski,Krzysztof…</td><td>&quot;Artur Barcis,Olgierd Lukaszewi…</td><td>&quot;Krzysztof Kieslowski&#x27;s &quot;The De…</td><td>100</td><td>2018-04-26</td><td>&quot;thelol&quot;</td><td>null</td><td>&quot;user&quot;</td></tr><tr><td>2000545497</td><td>&quot;Dekalog (1988)&quot;</td><td>1996-03-22</td><td>&quot;TV-MA&quot;</td><td>&quot;Drama&quot;</td><td>&quot;This masterwork by Krzysztof K…</td><td>9h 32m</td><td>null</td><td>100.0</td><td>13</td><td>&quot;Universal acclaim&quot;</td><td>78.0</td><td>162.0</td><td>&quot;Generally favorable&quot;</td><td>&quot;Telewizja Polska (TVP),Zespol …</td><td>&quot;Krzysztof Kieslowski&quot;</td><td>&quot;Krzysztof Kieslowski,Krzysztof…</td><td>&quot;Artur Barcis,Olgierd Lukaszewi…</td><td>&quot;For me it is simply breathtaki…</td><td>100</td><td>2024-10-31</td><td>&quot;Daki1105&quot;</td><td>null</td><td>&quot;user&quot;</td></tr></tbody></table></div>"
      ]
     },
     "execution_count": 13,
     "metadata": {},
     "output_type": "execute_result"
    }
   ],
   "execution_count": 13
  },
  {
   "metadata": {
    "ExecuteTime": {
     "end_time": "2025-03-28T18:28:34.766976Z",
     "start_time": "2025-03-28T18:28:34.719351Z"
    }
   },
   "cell_type": "code",
   "source": [
    "director_mean_metascore = df_joined.select(\n",
    "    'director', 'metascore'\n",
    ").group_by(\n",
    "    'director'\n",
    ").agg(\n",
    "    pl.mean('metascore').round(2).alias('metascore'),\n",
    "    pl.count('metascore').alias('num_reviews'),\n",
    ").filter(\n",
    "    pl.col('num_reviews') >= 3\n",
    ").sort(by='metascore', descending=True).head(10)\n",
    "director_mean_metascore"
   ],
   "id": "e38d8e2c5c4a99ae",
   "outputs": [
    {
     "data": {
      "text/plain": [
       "shape: (10, 3)\n",
       "┌─────────────────────┬───────────┬─────────────┐\n",
       "│ director            ┆ metascore ┆ num_reviews │\n",
       "│ ---                 ┆ ---       ┆ ---         │\n",
       "│ str                 ┆ f64       ┆ u32         │\n",
       "╞═════════════════════╪═══════════╪═════════════╡\n",
       "│ Jean Renoir         ┆ 99.0      ┆ 44          │\n",
       "│ D.W. Griffith       ┆ 99.0      ┆ 36          │\n",
       "│ Julien Duvivier     ┆ 98.0      ┆ 39          │\n",
       "│ Robert Bresson      ┆ 98.0      ┆ 32          │\n",
       "│ Carl Theodor Dreyer ┆ 98.0      ┆ 72          │\n",
       "│ Fritz Lang          ┆ 98.0      ┆ 80          │\n",
       "│ T. Hee              ┆ 97.96     ┆ 505         │\n",
       "│ Norman Ferguson     ┆ 97.41     ┆ 703         │\n",
       "│ Ben Sharpsteen      ┆ 97.01     ┆ 985         │\n",
       "│ Sergei Eisenstein   ┆ 97.0      ┆ 136         │\n",
       "└─────────────────────┴───────────┴─────────────┘"
      ],
      "text/html": [
       "<div><style>\n",
       ".dataframe > thead > tr,\n",
       ".dataframe > tbody > tr {\n",
       "  text-align: right;\n",
       "  white-space: pre-wrap;\n",
       "}\n",
       "</style>\n",
       "<small>shape: (10, 3)</small><table border=\"1\" class=\"dataframe\"><thead><tr><th>director</th><th>metascore</th><th>num_reviews</th></tr><tr><td>str</td><td>f64</td><td>u32</td></tr></thead><tbody><tr><td>&quot;Jean Renoir&quot;</td><td>99.0</td><td>44</td></tr><tr><td>&quot;D.W. Griffith&quot;</td><td>99.0</td><td>36</td></tr><tr><td>&quot;Julien Duvivier&quot;</td><td>98.0</td><td>39</td></tr><tr><td>&quot;Robert Bresson&quot;</td><td>98.0</td><td>32</td></tr><tr><td>&quot;Carl Theodor Dreyer&quot;</td><td>98.0</td><td>72</td></tr><tr><td>&quot;Fritz Lang&quot;</td><td>98.0</td><td>80</td></tr><tr><td>&quot;T. Hee&quot;</td><td>97.96</td><td>505</td></tr><tr><td>&quot;Norman Ferguson&quot;</td><td>97.41</td><td>703</td></tr><tr><td>&quot;Ben Sharpsteen&quot;</td><td>97.01</td><td>985</td></tr><tr><td>&quot;Sergei Eisenstein&quot;</td><td>97.0</td><td>136</td></tr></tbody></table></div>"
      ]
     },
     "execution_count": 14,
     "metadata": {},
     "output_type": "execute_result"
    }
   ],
   "execution_count": 14
  },
  {
   "metadata": {
    "ExecuteTime": {
     "end_time": "2025-03-28T18:28:35.125181Z",
     "start_time": "2025-03-28T18:28:35.074191Z"
    }
   },
   "cell_type": "code",
   "source": [
    "bar = alt.Chart(director_mean_metascore).mark_bar().encode(\n",
    "    x='director',\n",
    "    y='metascore',\n",
    "    color=alt.Color('metascore', scale=alt.Scale(scheme='blues')),\n",
    "    tooltip=['director', 'metascore', 'num_reviews']\n",
    ").properties(\n",
    "    width=alt.Step(55),\n",
    "    height=300,\n",
    "    title='Director Mean Metascore',\n",
    ").interactive()\n",
    "\n",
    "bar"
   ],
   "id": "ec4bc0748c4cc81",
   "outputs": [
    {
     "data": {
      "text/html": [
       "\n",
       "<style>\n",
       "  #altair-viz-ddce80a2e5a74ae191ef3324fcb47b2b.vega-embed {\n",
       "    width: 100%;\n",
       "    display: flex;\n",
       "  }\n",
       "\n",
       "  #altair-viz-ddce80a2e5a74ae191ef3324fcb47b2b.vega-embed details,\n",
       "  #altair-viz-ddce80a2e5a74ae191ef3324fcb47b2b.vega-embed details summary {\n",
       "    position: relative;\n",
       "  }\n",
       "</style>\n",
       "<div id=\"altair-viz-ddce80a2e5a74ae191ef3324fcb47b2b\"></div>\n",
       "<script type=\"text/javascript\">\n",
       "  var VEGA_DEBUG = (typeof VEGA_DEBUG == \"undefined\") ? {} : VEGA_DEBUG;\n",
       "  (function(spec, embedOpt){\n",
       "    let outputDiv = document.currentScript.previousElementSibling;\n",
       "    if (outputDiv.id !== \"altair-viz-ddce80a2e5a74ae191ef3324fcb47b2b\") {\n",
       "      outputDiv = document.getElementById(\"altair-viz-ddce80a2e5a74ae191ef3324fcb47b2b\");\n",
       "    }\n",
       "\n",
       "    const paths = {\n",
       "      \"vega\": \"https://cdn.jsdelivr.net/npm/vega@5?noext\",\n",
       "      \"vega-lib\": \"https://cdn.jsdelivr.net/npm/vega-lib?noext\",\n",
       "      \"vega-lite\": \"https://cdn.jsdelivr.net/npm/vega-lite@5.20.1?noext\",\n",
       "      \"vega-embed\": \"https://cdn.jsdelivr.net/npm/vega-embed@6?noext\",\n",
       "    };\n",
       "\n",
       "    function maybeLoadScript(lib, version) {\n",
       "      var key = `${lib.replace(\"-\", \"\")}_version`;\n",
       "      return (VEGA_DEBUG[key] == version) ?\n",
       "        Promise.resolve(paths[lib]) :\n",
       "        new Promise(function(resolve, reject) {\n",
       "          var s = document.createElement('script');\n",
       "          document.getElementsByTagName(\"head\")[0].appendChild(s);\n",
       "          s.async = true;\n",
       "          s.onload = () => {\n",
       "            VEGA_DEBUG[key] = version;\n",
       "            return resolve(paths[lib]);\n",
       "          };\n",
       "          s.onerror = () => reject(`Error loading script: ${paths[lib]}`);\n",
       "          s.src = paths[lib];\n",
       "        });\n",
       "    }\n",
       "\n",
       "    function showError(err) {\n",
       "      outputDiv.innerHTML = `<div class=\"error\" style=\"color:red;\">${err}</div>`;\n",
       "      throw err;\n",
       "    }\n",
       "\n",
       "    function displayChart(vegaEmbed) {\n",
       "      vegaEmbed(outputDiv, spec, embedOpt)\n",
       "        .catch(err => showError(`Javascript Error: ${err.message}<br>This usually means there's a typo in your chart specification. See the javascript console for the full traceback.`));\n",
       "    }\n",
       "\n",
       "    if(typeof define === \"function\" && define.amd) {\n",
       "      requirejs.config({paths});\n",
       "      let deps = [\"vega-embed\"];\n",
       "      require(deps, displayChart, err => showError(`Error loading script: ${err.message}`));\n",
       "    } else {\n",
       "      maybeLoadScript(\"vega\", \"5\")\n",
       "        .then(() => maybeLoadScript(\"vega-lite\", \"5.20.1\"))\n",
       "        .then(() => maybeLoadScript(\"vega-embed\", \"6\"))\n",
       "        .catch(showError)\n",
       "        .then(() => displayChart(vegaEmbed));\n",
       "    }\n",
       "  })({\"config\": {\"view\": {\"continuousWidth\": 300, \"continuousHeight\": 300}}, \"data\": {\"name\": \"data-a62023b28695f8da283610c644f25653\"}, \"mark\": {\"type\": \"bar\"}, \"encoding\": {\"color\": {\"field\": \"metascore\", \"scale\": {\"scheme\": \"blues\"}, \"type\": \"quantitative\"}, \"tooltip\": [{\"field\": \"director\", \"type\": \"nominal\"}, {\"field\": \"metascore\", \"type\": \"quantitative\"}, {\"field\": \"num_reviews\", \"type\": \"quantitative\"}], \"x\": {\"field\": \"director\", \"type\": \"nominal\"}, \"y\": {\"field\": \"metascore\", \"type\": \"quantitative\"}}, \"height\": 300, \"params\": [{\"name\": \"param_1\", \"select\": {\"type\": \"interval\", \"encodings\": [\"x\", \"y\"]}, \"bind\": \"scales\"}], \"title\": \"Director Mean Metascore\", \"width\": {\"step\": 55}, \"$schema\": \"https://vega.github.io/schema/vega-lite/v5.20.1.json\", \"datasets\": {\"data-a62023b28695f8da283610c644f25653\": [{\"director\": \"Jean Renoir\", \"metascore\": 99.0, \"num_reviews\": 44}, {\"director\": \"D.W. Griffith\", \"metascore\": 99.0, \"num_reviews\": 36}, {\"director\": \"Julien Duvivier\", \"metascore\": 98.0, \"num_reviews\": 39}, {\"director\": \"Robert Bresson\", \"metascore\": 98.0, \"num_reviews\": 32}, {\"director\": \"Carl Theodor Dreyer\", \"metascore\": 98.0, \"num_reviews\": 72}, {\"director\": \"Fritz Lang\", \"metascore\": 98.0, \"num_reviews\": 80}, {\"director\": \"T. Hee\", \"metascore\": 97.96, \"num_reviews\": 505}, {\"director\": \"Norman Ferguson\", \"metascore\": 97.41, \"num_reviews\": 703}, {\"director\": \"Ben Sharpsteen\", \"metascore\": 97.01, \"num_reviews\": 985}, {\"director\": \"Sergei Eisenstein\", \"metascore\": 97.0, \"num_reviews\": 136}]}}, {\"mode\": \"vega-lite\"});\n",
       "</script>"
      ],
      "text/plain": [
       "alt.Chart(...)"
      ]
     },
     "execution_count": 15,
     "metadata": {},
     "output_type": "execute_result"
    }
   ],
   "execution_count": 15
  },
  {
   "metadata": {
    "ExecuteTime": {
     "end_time": "2025-03-28T18:56:57.080771Z",
     "start_time": "2025-03-28T18:56:57.029537Z"
    }
   },
   "cell_type": "code",
   "source": [
    "top_10_genres = df_joined.group_by(\n",
    "    'genres'\n",
    ").agg(\n",
    "    pl.count('genres').alias('count')\n",
    ").sort(\n",
    "    'count', descending=True\n",
    ").head(10)\n",
    "\n",
    "line_chart = alt.Chart(\n",
    "    top_10_genres\n",
    ").mark_line(\n",
    "    point=True\n",
    ").encode(\n",
    "    x='genres',\n",
    "    y='count',\n",
    "    tooltip=['genres', alt.Tooltip('count', title='Count')]\n",
    ").properties(\n",
    "    width=800,\n",
    "    height=550,\n",
    "    title='Top 10 Genres',\n",
    ").interactive()\n",
    "\n",
    "\n",
    "line_chart"
   ],
   "id": "12fb9c18a01d39e7",
   "outputs": [
    {
     "data": {
      "text/html": [
       "\n",
       "<style>\n",
       "  #altair-viz-ebdb1f1183b240bdaff21cb9e4f07d6d.vega-embed {\n",
       "    width: 100%;\n",
       "    display: flex;\n",
       "  }\n",
       "\n",
       "  #altair-viz-ebdb1f1183b240bdaff21cb9e4f07d6d.vega-embed details,\n",
       "  #altair-viz-ebdb1f1183b240bdaff21cb9e4f07d6d.vega-embed details summary {\n",
       "    position: relative;\n",
       "  }\n",
       "</style>\n",
       "<div id=\"altair-viz-ebdb1f1183b240bdaff21cb9e4f07d6d\"></div>\n",
       "<script type=\"text/javascript\">\n",
       "  var VEGA_DEBUG = (typeof VEGA_DEBUG == \"undefined\") ? {} : VEGA_DEBUG;\n",
       "  (function(spec, embedOpt){\n",
       "    let outputDiv = document.currentScript.previousElementSibling;\n",
       "    if (outputDiv.id !== \"altair-viz-ebdb1f1183b240bdaff21cb9e4f07d6d\") {\n",
       "      outputDiv = document.getElementById(\"altair-viz-ebdb1f1183b240bdaff21cb9e4f07d6d\");\n",
       "    }\n",
       "\n",
       "    const paths = {\n",
       "      \"vega\": \"https://cdn.jsdelivr.net/npm/vega@5?noext\",\n",
       "      \"vega-lib\": \"https://cdn.jsdelivr.net/npm/vega-lib?noext\",\n",
       "      \"vega-lite\": \"https://cdn.jsdelivr.net/npm/vega-lite@5.20.1?noext\",\n",
       "      \"vega-embed\": \"https://cdn.jsdelivr.net/npm/vega-embed@6?noext\",\n",
       "    };\n",
       "\n",
       "    function maybeLoadScript(lib, version) {\n",
       "      var key = `${lib.replace(\"-\", \"\")}_version`;\n",
       "      return (VEGA_DEBUG[key] == version) ?\n",
       "        Promise.resolve(paths[lib]) :\n",
       "        new Promise(function(resolve, reject) {\n",
       "          var s = document.createElement('script');\n",
       "          document.getElementsByTagName(\"head\")[0].appendChild(s);\n",
       "          s.async = true;\n",
       "          s.onload = () => {\n",
       "            VEGA_DEBUG[key] = version;\n",
       "            return resolve(paths[lib]);\n",
       "          };\n",
       "          s.onerror = () => reject(`Error loading script: ${paths[lib]}`);\n",
       "          s.src = paths[lib];\n",
       "        });\n",
       "    }\n",
       "\n",
       "    function showError(err) {\n",
       "      outputDiv.innerHTML = `<div class=\"error\" style=\"color:red;\">${err}</div>`;\n",
       "      throw err;\n",
       "    }\n",
       "\n",
       "    function displayChart(vegaEmbed) {\n",
       "      vegaEmbed(outputDiv, spec, embedOpt)\n",
       "        .catch(err => showError(`Javascript Error: ${err.message}<br>This usually means there's a typo in your chart specification. See the javascript console for the full traceback.`));\n",
       "    }\n",
       "\n",
       "    if(typeof define === \"function\" && define.amd) {\n",
       "      requirejs.config({paths});\n",
       "      let deps = [\"vega-embed\"];\n",
       "      require(deps, displayChart, err => showError(`Error loading script: ${err.message}`));\n",
       "    } else {\n",
       "      maybeLoadScript(\"vega\", \"5\")\n",
       "        .then(() => maybeLoadScript(\"vega-lite\", \"5.20.1\"))\n",
       "        .then(() => maybeLoadScript(\"vega-embed\", \"6\"))\n",
       "        .catch(showError)\n",
       "        .then(() => displayChart(vegaEmbed));\n",
       "    }\n",
       "  })({\"config\": {\"view\": {\"continuousWidth\": 300, \"continuousHeight\": 300}}, \"data\": {\"name\": \"data-e136b01eb3027fe6ffd5d785f6270870\"}, \"mark\": {\"type\": \"line\", \"point\": true}, \"encoding\": {\"tooltip\": [{\"field\": \"genres\", \"type\": \"nominal\"}, {\"field\": \"count\", \"title\": \"Count\", \"type\": \"quantitative\"}], \"x\": {\"field\": \"genres\", \"type\": \"nominal\"}, \"y\": {\"field\": \"count\", \"type\": \"quantitative\"}}, \"height\": 550, \"params\": [{\"name\": \"param_4\", \"select\": {\"type\": \"interval\", \"encodings\": [\"x\", \"y\"]}, \"bind\": \"scales\"}], \"title\": \"Top 10 Genres\", \"width\": 800, \"$schema\": \"https://vega.github.io/schema/vega-lite/v5.20.1.json\", \"datasets\": {\"data-e136b01eb3027fe6ffd5d785f6270870\": [{\"genres\": \"Drama\", \"count\": 366356}, {\"genres\": \"Comedy\", \"count\": 239011}, {\"genres\": \"Action\", \"count\": 227509}, {\"genres\": \"Adventure\", \"count\": 224720}, {\"genres\": \"Thriller\", \"count\": 201132}, {\"genres\": \"Sci-Fi\", \"count\": 165344}, {\"genres\": \"Fantasy\", \"count\": 138530}, {\"genres\": \"Romance\", \"count\": 114488}, {\"genres\": \"Crime\", \"count\": 113126}, {\"genres\": \"Family\", \"count\": 91081}]}}, {\"mode\": \"vega-lite\"});\n",
       "</script>"
      ],
      "text/plain": [
       "alt.Chart(...)"
      ]
     },
     "execution_count": 42,
     "metadata": {},
     "output_type": "execute_result"
    }
   ],
   "execution_count": 42
  },
  {
   "metadata": {},
   "cell_type": "code",
   "outputs": [],
   "execution_count": null,
   "source": "",
   "id": "bfb32f5a0fba573f"
  }
 ],
 "metadata": {
  "kernelspec": {
   "display_name": "Python 3",
   "language": "python",
   "name": "python3"
  },
  "language_info": {
   "codemirror_mode": {
    "name": "ipython",
    "version": 2
   },
   "file_extension": ".py",
   "mimetype": "text/x-python",
   "name": "python",
   "nbconvert_exporter": "python",
   "pygments_lexer": "ipython2",
   "version": "2.7.6"
  }
 },
 "nbformat": 4,
 "nbformat_minor": 5
}
