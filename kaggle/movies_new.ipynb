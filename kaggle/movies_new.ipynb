{
 "cells": [
  {
   "cell_type": "code",
   "id": "initial_id",
   "metadata": {
    "collapsed": true,
    "ExecuteTime": {
     "end_time": "2025-03-26T19:12:01.764307Z",
     "start_time": "2025-03-26T19:12:01.662084Z"
    }
   },
   "source": [
    "import polars as pl\n",
    "\n",
    "import polars.selectors as cs"
   ],
   "outputs": [],
   "execution_count": 1
  },
  {
   "metadata": {
    "ExecuteTime": {
     "end_time": "2025-03-26T19:12:01.771540Z",
     "start_time": "2025-03-26T19:12:01.767961Z"
    }
   },
   "cell_type": "code",
   "source": [
    "df_movies_path = r\"F:\\Datasets\\CSV datasets\\movies\\movies.csv\"\n",
    "df_movies_reviews_path = r\"F:\\Datasets\\CSV datasets\\movies\\movies_reviews.csv\""
   ],
   "id": "175aeb564122c07e",
   "outputs": [],
   "execution_count": 2
  },
  {
   "metadata": {
    "ExecuteTime": {
     "end_time": "2025-03-26T19:12:02.094708Z",
     "start_time": "2025-03-26T19:12:01.925152Z"
    }
   },
   "cell_type": "code",
   "source": [
    "df_movies = pl.read_csv(df_movies_path)\n",
    "df_reviews = pl.read_csv(df_movies_reviews_path)"
   ],
   "id": "73706e2efa402fe6",
   "outputs": [],
   "execution_count": 3
  },
  {
   "metadata": {
    "ExecuteTime": {
     "end_time": "2025-03-26T19:12:02.259042Z",
     "start_time": "2025-03-26T19:12:02.101926Z"
    }
   },
   "cell_type": "code",
   "source": [
    "df_joined = df_movies.join(\n",
    "    df_reviews,\n",
    "    on=\"id\",\n",
    "    how=\"inner\",\n",
    "    suffix=\"_suffix\",\n",
    ")"
   ],
   "id": "1cb103381e9a0e8a",
   "outputs": [],
   "execution_count": 4
  },
  {
   "metadata": {
    "ExecuteTime": {
     "end_time": "2025-03-26T19:12:02.270713Z",
     "start_time": "2025-03-26T19:12:02.266972Z"
    }
   },
   "cell_type": "code",
   "source": [
    "drop_columns = [column for column in df_joined.columns if column.endswith(\"_suffix\")]\n",
    "\n",
    "df_joined = df_joined.select(cs.exclude(drop_columns))"
   ],
   "id": "48abf5a0e46fc033",
   "outputs": [],
   "execution_count": 5
  },
  {
   "metadata": {
    "ExecuteTime": {
     "end_time": "2025-03-26T19:12:02.296463Z",
     "start_time": "2025-03-26T19:12:02.278532Z"
    }
   },
   "cell_type": "code",
   "source": [
    "df_joined.filter(\n",
    "    pl.col('director').str.split(',').list.len() > 1\n",
    ")"
   ],
   "id": "4cb5a53a4c5bb5f",
   "outputs": [
    {
     "data": {
      "text/plain": [
       "shape: (59_710, 24)\n",
       "┌────────────┬────────────┬───────────┬────────┬───┬───────────┬───────────┬───────────┬───────────┐\n",
       "│ id         ┆ title      ┆ releaseDa ┆ rating ┆ … ┆ date      ┆ author    ┆ publicati ┆ review_ty │\n",
       "│ ---        ┆ ---        ┆ te        ┆ ---    ┆   ┆ ---       ┆ ---       ┆ onName    ┆ pe        │\n",
       "│ i64        ┆ str        ┆ ---       ┆ str    ┆   ┆ str       ┆ str       ┆ ---       ┆ ---       │\n",
       "│            ┆            ┆ str       ┆        ┆   ┆           ┆           ┆ str       ┆ str       │\n",
       "╞════════════╪════════════╪═══════════╪════════╪═══╪═══════════╪═══════════╪═══════════╪═══════════╡\n",
       "│ 2000547319 ┆ Singin' in ┆ 1952-04-1 ┆ Passed ┆ … ┆ 2018-02-1 ┆ back_in_1 ┆ null      ┆ user      │\n",
       "│            ┆ the Rain   ┆ 1         ┆        ┆   ┆ 8         ┆ 939       ┆           ┆           │\n",
       "│ 2000547319 ┆ Singin' in ┆ 1952-04-1 ┆ Passed ┆ … ┆ 2020-05-0 ┆ Dostoyevs ┆ null      ┆ user      │\n",
       "│            ┆ the Rain   ┆ 1         ┆        ┆   ┆ 5         ┆ ky3       ┆           ┆           │\n",
       "│ 2000547319 ┆ Singin' in ┆ 1952-04-1 ┆ Passed ┆ … ┆ 2020-12-2 ┆ Mglovesfu ┆ null      ┆ user      │\n",
       "│            ┆ the Rain   ┆ 1         ┆        ┆   ┆ 5         ┆ n         ┆           ┆           │\n",
       "│ 2000547319 ┆ Singin' in ┆ 1952-04-1 ┆ Passed ┆ … ┆ 2019-10-0 ┆ CodyZambo ┆ null      ┆ user      │\n",
       "│            ┆ the Rain   ┆ 1         ┆        ┆   ┆ 5         ┆ ni        ┆           ┆           │\n",
       "│ 2000547319 ┆ Singin' in ┆ 1952-04-1 ┆ Passed ┆ … ┆ 2019-08-2 ┆ TootsieWo ┆ null      ┆ user      │\n",
       "│            ┆ the Rain   ┆ 1         ┆        ┆   ┆ 9         ┆ otsy      ┆           ┆           │\n",
       "│ …          ┆ …          ┆ …         ┆ …      ┆ … ┆ …         ┆ …         ┆ …         ┆ …         │\n",
       "│ 2000549063 ┆ Death of a ┆ 2018-08-0 ┆ PG-13  ┆ … ┆ 2018-07-3 ┆ Vadim     ┆ The A.V.  ┆ critic    │\n",
       "│            ┆ Nation     ┆ 3         ┆        ┆   ┆ 0         ┆ Rizov     ┆ Club      ┆           │\n",
       "│ 2000549063 ┆ Death of a ┆ 2018-08-0 ┆ PG-13  ┆ … ┆ 2018-07-3 ┆ David     ┆ IndieWire ┆ critic    │\n",
       "│            ┆ Nation     ┆ 3         ┆        ┆   ┆ 0         ┆ Ehrlich   ┆           ┆           │\n",
       "│ 2000549063 ┆ Death of a ┆ 2018-08-0 ┆ PG-13  ┆ … ┆ 2018-07-3 ┆ Owen Glei ┆ Variety   ┆ critic    │\n",
       "│            ┆ Nation     ┆ 3         ┆        ┆   ┆ 1         ┆ berman    ┆           ┆           │\n",
       "│ 2000549063 ┆ Death of a ┆ 2018-08-0 ┆ PG-13  ┆ … ┆ 2018-08-0 ┆ Frank     ┆ The       ┆ critic    │\n",
       "│            ┆ Nation     ┆ 3         ┆        ┆   ┆ 1         ┆ Scheck    ┆ Hollywood ┆           │\n",
       "│            ┆            ┆           ┆        ┆   ┆           ┆           ┆ Reporter  ┆           │\n",
       "│ 2000549063 ┆ Death of a ┆ 2018-08-0 ┆ PG-13  ┆ … ┆ 2018-08-0 ┆ Peter Sob ┆ RogerEber ┆ critic    │\n",
       "│            ┆ Nation     ┆ 3         ┆        ┆   ┆ 2         ┆ czynski   ┆ t.com     ┆           │\n",
       "└────────────┴────────────┴───────────┴────────┴───┴───────────┴───────────┴───────────┴───────────┘"
      ],
      "text/html": [
       "<div><style>\n",
       ".dataframe > thead > tr,\n",
       ".dataframe > tbody > tr {\n",
       "  text-align: right;\n",
       "  white-space: pre-wrap;\n",
       "}\n",
       "</style>\n",
       "<small>shape: (59_710, 24)</small><table border=\"1\" class=\"dataframe\"><thead><tr><th>id</th><th>title</th><th>releaseDate</th><th>rating</th><th>genres</th><th>description</th><th>duration</th><th>tagline</th><th>metascore</th><th>metascore_count</th><th>metascore_sentiment</th><th>userscore</th><th>userscore_count</th><th>userscore_sentiment</th><th>production_companies</th><th>director</th><th>writer</th><th>top_cast</th><th>quote</th><th>score</th><th>date</th><th>author</th><th>publicationName</th><th>review_type</th></tr><tr><td>i64</td><td>str</td><td>str</td><td>str</td><td>str</td><td>str</td><td>i64</td><td>str</td><td>f64</td><td>i64</td><td>str</td><td>f64</td><td>f64</td><td>str</td><td>str</td><td>str</td><td>str</td><td>str</td><td>str</td><td>i64</td><td>str</td><td>str</td><td>str</td><td>str</td></tr></thead><tbody><tr><td>2000547319</td><td>&quot;Singin&#x27; in the Rain&quot;</td><td>&quot;1952-04-11&quot;</td><td>&quot;Passed&quot;</td><td>&quot;Comedy,Musical,Romance&quot;</td><td>&quot;A silent film production compa…</td><td>103</td><td>&quot;Singin&#x27; Swingin&#x27; Glorious Feel…</td><td>99.0</td><td>17</td><td>&quot;Universal acclaim&quot;</td><td>87.0</td><td>313.0</td><td>&quot;Universal acclaim&quot;</td><td>&quot;Loew&#x27;s,Metro-Goldwyn-Mayer (MG…</td><td>&quot;Stanley Donen,Gene Kelly&quot;</td><td>&quot;Betty Comden,Adolph Green&quot;</td><td>&quot;Gene Kelly,Donald O&#x27;Connor,Deb…</td><td>&quot;such a joyous and entertaining…</td><td>100</td><td>&quot;2018-02-18&quot;</td><td>&quot;back_in_1939&quot;</td><td>null</td><td>&quot;user&quot;</td></tr><tr><td>2000547319</td><td>&quot;Singin&#x27; in the Rain&quot;</td><td>&quot;1952-04-11&quot;</td><td>&quot;Passed&quot;</td><td>&quot;Comedy,Musical,Romance&quot;</td><td>&quot;A silent film production compa…</td><td>103</td><td>&quot;Singin&#x27; Swingin&#x27; Glorious Feel…</td><td>99.0</td><td>17</td><td>&quot;Universal acclaim&quot;</td><td>87.0</td><td>313.0</td><td>&quot;Universal acclaim&quot;</td><td>&quot;Loew&#x27;s,Metro-Goldwyn-Mayer (MG…</td><td>&quot;Stanley Donen,Gene Kelly&quot;</td><td>&quot;Betty Comden,Adolph Green&quot;</td><td>&quot;Gene Kelly,Donald O&#x27;Connor,Deb…</td><td>&quot;You will never find more joy a…</td><td>100</td><td>&quot;2020-05-05&quot;</td><td>&quot;Dostoyevsky3&quot;</td><td>null</td><td>&quot;user&quot;</td></tr><tr><td>2000547319</td><td>&quot;Singin&#x27; in the Rain&quot;</td><td>&quot;1952-04-11&quot;</td><td>&quot;Passed&quot;</td><td>&quot;Comedy,Musical,Romance&quot;</td><td>&quot;A silent film production compa…</td><td>103</td><td>&quot;Singin&#x27; Swingin&#x27; Glorious Feel…</td><td>99.0</td><td>17</td><td>&quot;Universal acclaim&quot;</td><td>87.0</td><td>313.0</td><td>&quot;Universal acclaim&quot;</td><td>&quot;Loew&#x27;s,Metro-Goldwyn-Mayer (MG…</td><td>&quot;Stanley Donen,Gene Kelly&quot;</td><td>&quot;Betty Comden,Adolph Green&quot;</td><td>&quot;Gene Kelly,Donald O&#x27;Connor,Deb…</td><td>&quot;Perhaps the best Golden Age of…</td><td>100</td><td>&quot;2020-12-25&quot;</td><td>&quot;Mglovesfun&quot;</td><td>null</td><td>&quot;user&quot;</td></tr><tr><td>2000547319</td><td>&quot;Singin&#x27; in the Rain&quot;</td><td>&quot;1952-04-11&quot;</td><td>&quot;Passed&quot;</td><td>&quot;Comedy,Musical,Romance&quot;</td><td>&quot;A silent film production compa…</td><td>103</td><td>&quot;Singin&#x27; Swingin&#x27; Glorious Feel…</td><td>99.0</td><td>17</td><td>&quot;Universal acclaim&quot;</td><td>87.0</td><td>313.0</td><td>&quot;Universal acclaim&quot;</td><td>&quot;Loew&#x27;s,Metro-Goldwyn-Mayer (MG…</td><td>&quot;Stanley Donen,Gene Kelly&quot;</td><td>&quot;Betty Comden,Adolph Green&quot;</td><td>&quot;Gene Kelly,Donald O&#x27;Connor,Deb…</td><td>&quot;Super entertaining classic. Ho…</td><td>100</td><td>&quot;2019-10-05&quot;</td><td>&quot;CodyZamboni&quot;</td><td>null</td><td>&quot;user&quot;</td></tr><tr><td>2000547319</td><td>&quot;Singin&#x27; in the Rain&quot;</td><td>&quot;1952-04-11&quot;</td><td>&quot;Passed&quot;</td><td>&quot;Comedy,Musical,Romance&quot;</td><td>&quot;A silent film production compa…</td><td>103</td><td>&quot;Singin&#x27; Swingin&#x27; Glorious Feel…</td><td>99.0</td><td>17</td><td>&quot;Universal acclaim&quot;</td><td>87.0</td><td>313.0</td><td>&quot;Universal acclaim&quot;</td><td>&quot;Loew&#x27;s,Metro-Goldwyn-Mayer (MG…</td><td>&quot;Stanley Donen,Gene Kelly&quot;</td><td>&quot;Betty Comden,Adolph Green&quot;</td><td>&quot;Gene Kelly,Donald O&#x27;Connor,Deb…</td><td>&quot;Glorious Performance **** far …</td><td>100</td><td>&quot;2019-08-29&quot;</td><td>&quot;TootsieWootsy&quot;</td><td>null</td><td>&quot;user&quot;</td></tr><tr><td>&hellip;</td><td>&hellip;</td><td>&hellip;</td><td>&hellip;</td><td>&hellip;</td><td>&hellip;</td><td>&hellip;</td><td>&hellip;</td><td>&hellip;</td><td>&hellip;</td><td>&hellip;</td><td>&hellip;</td><td>&hellip;</td><td>&hellip;</td><td>&hellip;</td><td>&hellip;</td><td>&hellip;</td><td>&hellip;</td><td>&hellip;</td><td>&hellip;</td><td>&hellip;</td><td>&hellip;</td><td>&hellip;</td><td>&hellip;</td></tr><tr><td>2000549063</td><td>&quot;Death of a Nation&quot;</td><td>&quot;2018-08-03&quot;</td><td>&quot;PG-13&quot;</td><td>&quot;Documentary,History&quot;</td><td>&quot;Not since 1860 have the Democr…</td><td>108</td><td>&quot;Can we save America a second t…</td><td>1.0</td><td>8</td><td>&quot;Overwhelming dislike&quot;</td><td>44.0</td><td>297.0</td><td>&quot;Mixed or average&quot;</td><td>&quot;D&#x27;Souza Media,Pure Flix / Qual…</td><td>&quot;Dinesh D&#x27;Souza,Bruce Schooley&quot;</td><td>&quot;Dinesh D&#x27;Souza,Bruce Schooley&quot;</td><td>&quot;Dinesh D&#x27;Souza,Victoria Chilap…</td><td>&quot;D’Souza fails, as ever, to mak…</td><td>0</td><td>&quot;2018-07-30&quot;</td><td>&quot;Vadim Rizov&quot;</td><td>&quot;The A.V. Club&quot;</td><td>&quot;critic&quot;</td></tr><tr><td>2000549063</td><td>&quot;Death of a Nation&quot;</td><td>&quot;2018-08-03&quot;</td><td>&quot;PG-13&quot;</td><td>&quot;Documentary,History&quot;</td><td>&quot;Not since 1860 have the Democr…</td><td>108</td><td>&quot;Can we save America a second t…</td><td>1.0</td><td>8</td><td>&quot;Overwhelming dislike&quot;</td><td>44.0</td><td>297.0</td><td>&quot;Mixed or average&quot;</td><td>&quot;D&#x27;Souza Media,Pure Flix / Qual…</td><td>&quot;Dinesh D&#x27;Souza,Bruce Schooley&quot;</td><td>&quot;Dinesh D&#x27;Souza,Bruce Schooley&quot;</td><td>&quot;Dinesh D&#x27;Souza,Victoria Chilap…</td><td>&quot;The meandering and insufferabl…</td><td>0</td><td>&quot;2018-07-30&quot;</td><td>&quot;David Ehrlich&quot;</td><td>&quot;IndieWire&quot;</td><td>&quot;critic&quot;</td></tr><tr><td>2000549063</td><td>&quot;Death of a Nation&quot;</td><td>&quot;2018-08-03&quot;</td><td>&quot;PG-13&quot;</td><td>&quot;Documentary,History&quot;</td><td>&quot;Not since 1860 have the Democr…</td><td>108</td><td>&quot;Can we save America a second t…</td><td>1.0</td><td>8</td><td>&quot;Overwhelming dislike&quot;</td><td>44.0</td><td>297.0</td><td>&quot;Mixed or average&quot;</td><td>&quot;D&#x27;Souza Media,Pure Flix / Qual…</td><td>&quot;Dinesh D&#x27;Souza,Bruce Schooley&quot;</td><td>&quot;Dinesh D&#x27;Souza,Bruce Schooley&quot;</td><td>&quot;Dinesh D&#x27;Souza,Victoria Chilap…</td><td>&quot;In Death of a Nation, Dinesh D…</td><td>0</td><td>&quot;2018-07-31&quot;</td><td>&quot;Owen Gleiberman&quot;</td><td>&quot;Variety&quot;</td><td>&quot;critic&quot;</td></tr><tr><td>2000549063</td><td>&quot;Death of a Nation&quot;</td><td>&quot;2018-08-03&quot;</td><td>&quot;PG-13&quot;</td><td>&quot;Documentary,History&quot;</td><td>&quot;Not since 1860 have the Democr…</td><td>108</td><td>&quot;Can we save America a second t…</td><td>1.0</td><td>8</td><td>&quot;Overwhelming dislike&quot;</td><td>44.0</td><td>297.0</td><td>&quot;Mixed or average&quot;</td><td>&quot;D&#x27;Souza Media,Pure Flix / Qual…</td><td>&quot;Dinesh D&#x27;Souza,Bruce Schooley&quot;</td><td>&quot;Dinesh D&#x27;Souza,Bruce Schooley&quot;</td><td>&quot;Dinesh D&#x27;Souza,Victoria Chilap…</td><td>&quot;For all of its incendiary argu…</td><td>0</td><td>&quot;2018-08-01&quot;</td><td>&quot;Frank Scheck&quot;</td><td>&quot;The Hollywood Reporter&quot;</td><td>&quot;critic&quot;</td></tr><tr><td>2000549063</td><td>&quot;Death of a Nation&quot;</td><td>&quot;2018-08-03&quot;</td><td>&quot;PG-13&quot;</td><td>&quot;Documentary,History&quot;</td><td>&quot;Not since 1860 have the Democr…</td><td>108</td><td>&quot;Can we save America a second t…</td><td>1.0</td><td>8</td><td>&quot;Overwhelming dislike&quot;</td><td>44.0</td><td>297.0</td><td>&quot;Mixed or average&quot;</td><td>&quot;D&#x27;Souza Media,Pure Flix / Qual…</td><td>&quot;Dinesh D&#x27;Souza,Bruce Schooley&quot;</td><td>&quot;Dinesh D&#x27;Souza,Bruce Schooley&quot;</td><td>&quot;Dinesh D&#x27;Souza,Victoria Chilap…</td><td>&quot;The only thing preventing me f…</td><td>0</td><td>&quot;2018-08-02&quot;</td><td>&quot;Peter Sobczynski&quot;</td><td>&quot;RogerEbert.com&quot;</td><td>&quot;critic&quot;</td></tr></tbody></table></div>"
      ]
     },
     "execution_count": 6,
     "metadata": {},
     "output_type": "execute_result"
    }
   ],
   "execution_count": 6
  },
  {
   "metadata": {
    "ExecuteTime": {
     "end_time": "2025-03-26T19:12:02.344673Z",
     "start_time": "2025-03-26T19:12:02.326170Z"
    }
   },
   "cell_type": "code",
   "source": [
    "df_joined = df_joined.with_columns(\n",
    "    pl.col('releaseDate').str.strptime(pl.Date, '%Y-%m-%d', strict=False),\n",
    "    (pl.col('duration') * 60 * 1000).cast(pl.Duration('ms')),\n",
    "    pl.col('metascore_count').cast(pl.UInt8),\n",
    "    pl.col('date').str.strptime(pl.Date, '%Y-%m-%d', strict=False),\n",
    ")"
   ],
   "id": "2e7d0f0bfebcbafc",
   "outputs": [],
   "execution_count": 7
  },
  {
   "metadata": {
    "ExecuteTime": {
     "end_time": "2025-03-26T19:12:02.498419Z",
     "start_time": "2025-03-26T19:12:02.379531Z"
    }
   },
   "cell_type": "code",
   "source": [
    "df_joined = df_joined.with_columns(\n",
    "    pl.col('genres').str.split(',').alias('genres')\n",
    ").explode('genres')"
   ],
   "id": "df46c8460b039500",
   "outputs": [],
   "execution_count": 8
  },
  {
   "metadata": {
    "ExecuteTime": {
     "end_time": "2025-03-26T19:13:00.950533Z",
     "start_time": "2025-03-26T19:13:00.769092Z"
    }
   },
   "cell_type": "code",
   "source": [
    "df_joined = df_joined.with_columns(\n",
    "    pl.col('director').str.split(',')\n",
    ").explode('director')"
   ],
   "id": "df8e3d372e82f2a7",
   "outputs": [],
   "execution_count": 13
  },
  {
   "metadata": {
    "ExecuteTime": {
     "end_time": "2025-03-26T19:13:02.050592Z",
     "start_time": "2025-03-26T19:13:02.043897Z"
    }
   },
   "cell_type": "code",
   "source": "df_joined",
   "id": "1f86315c8a6aa11e",
   "outputs": [
    {
     "data": {
      "text/plain": [
       "shape: (2_384_810, 24)\n",
       "┌────────────┬────────────┬───────────┬────────┬───┬───────────┬───────────┬───────────┬───────────┐\n",
       "│ id         ┆ title      ┆ releaseDa ┆ rating ┆ … ┆ date      ┆ author    ┆ publicati ┆ review_ty │\n",
       "│ ---        ┆ ---        ┆ te        ┆ ---    ┆   ┆ ---       ┆ ---       ┆ onName    ┆ pe        │\n",
       "│ i64        ┆ str        ┆ ---       ┆ str    ┆   ┆ date      ┆ str       ┆ ---       ┆ ---       │\n",
       "│            ┆            ┆ date      ┆        ┆   ┆           ┆           ┆ str       ┆ str       │\n",
       "╞════════════╪════════════╪═══════════╪════════╪═══╪═══════════╪═══════════╪═══════════╪═══════════╡\n",
       "│ 2000545497 ┆ Dekalog    ┆ 1996-03-2 ┆ TV-MA  ┆ … ┆ 2023-11-2 ┆ Siza      ┆ null      ┆ user      │\n",
       "│            ┆ (1988)     ┆ 2         ┆        ┆   ┆ 2         ┆           ┆           ┆           │\n",
       "│ 2000545497 ┆ Dekalog    ┆ 1996-03-2 ┆ TV-MA  ┆ … ┆ 2021-05-0 ┆ ItsMahdiy ┆ null      ┆ user      │\n",
       "│            ┆ (1988)     ┆ 2         ┆        ┆   ┆ 1         ┆ arr       ┆           ┆           │\n",
       "│ 2000545497 ┆ Dekalog    ┆ 1996-03-2 ┆ TV-MA  ┆ … ┆ 2019-12-0 ┆ Andremax  ┆ null      ┆ user      │\n",
       "│            ┆ (1988)     ┆ 2         ┆        ┆   ┆ 5         ┆           ┆           ┆           │\n",
       "│ 2000545497 ┆ Dekalog    ┆ 1996-03-2 ┆ TV-MA  ┆ … ┆ 2018-04-2 ┆ thelol    ┆ null      ┆ user      │\n",
       "│            ┆ (1988)     ┆ 2         ┆        ┆   ┆ 6         ┆           ┆           ┆           │\n",
       "│ 2000545497 ┆ Dekalog    ┆ 1996-03-2 ┆ TV-MA  ┆ … ┆ 2024-10-3 ┆ Daki1105  ┆ null      ┆ user      │\n",
       "│            ┆ (1988)     ┆ 2         ┆        ┆   ┆ 1         ┆           ┆           ┆           │\n",
       "│ …          ┆ …          ┆ …         ┆ …      ┆ … ┆ …         ┆ …         ┆ …         ┆ …         │\n",
       "│ 2000538594 ┆ Boogie     ┆ 2010-04-2 ┆ R      ┆ … ┆ 2010-10-2 ┆ gazpacho  ┆ null      ┆ user      │\n",
       "│            ┆ Woogie     ┆ 3         ┆        ┆   ┆ 5         ┆           ┆           ┆           │\n",
       "│ 2000538594 ┆ Boogie     ┆ 2010-04-2 ┆ R      ┆ … ┆ 2013-03-0 ┆ Taplinger ┆ null      ┆ user      │\n",
       "│            ┆ Woogie     ┆ 3         ┆        ┆   ┆ 2         ┆           ┆           ┆           │\n",
       "│ 2000538594 ┆ Boogie     ┆ 2010-04-2 ┆ R      ┆ … ┆ 2013-03-0 ┆ Taplinger ┆ null      ┆ user      │\n",
       "│            ┆ Woogie     ┆ 3         ┆        ┆   ┆ 2         ┆           ┆           ┆           │\n",
       "│ 2000538594 ┆ Boogie     ┆ 2010-04-2 ┆ R      ┆ … ┆ 2010-11-0 ┆ hollym333 ┆ null      ┆ user      │\n",
       "│            ┆ Woogie     ┆ 3         ┆        ┆   ┆ 7         ┆           ┆           ┆           │\n",
       "│ 2000538594 ┆ Boogie     ┆ 2010-04-2 ┆ R      ┆ … ┆ 2010-11-0 ┆ hollym333 ┆ null      ┆ user      │\n",
       "│            ┆ Woogie     ┆ 3         ┆        ┆   ┆ 7         ┆           ┆           ┆           │\n",
       "└────────────┴────────────┴───────────┴────────┴───┴───────────┴───────────┴───────────┴───────────┘"
      ],
      "text/html": [
       "<div><style>\n",
       ".dataframe > thead > tr,\n",
       ".dataframe > tbody > tr {\n",
       "  text-align: right;\n",
       "  white-space: pre-wrap;\n",
       "}\n",
       "</style>\n",
       "<small>shape: (2_384_810, 24)</small><table border=\"1\" class=\"dataframe\"><thead><tr><th>id</th><th>title</th><th>releaseDate</th><th>rating</th><th>genres</th><th>description</th><th>duration</th><th>tagline</th><th>metascore</th><th>metascore_count</th><th>metascore_sentiment</th><th>userscore</th><th>userscore_count</th><th>userscore_sentiment</th><th>production_companies</th><th>director</th><th>writer</th><th>top_cast</th><th>quote</th><th>score</th><th>date</th><th>author</th><th>publicationName</th><th>review_type</th></tr><tr><td>i64</td><td>str</td><td>date</td><td>str</td><td>str</td><td>str</td><td>duration[ms]</td><td>str</td><td>f64</td><td>u8</td><td>str</td><td>f64</td><td>f64</td><td>str</td><td>str</td><td>str</td><td>str</td><td>str</td><td>str</td><td>i64</td><td>date</td><td>str</td><td>str</td><td>str</td></tr></thead><tbody><tr><td>2000545497</td><td>&quot;Dekalog (1988)&quot;</td><td>1996-03-22</td><td>&quot;TV-MA&quot;</td><td>&quot;Drama&quot;</td><td>&quot;This masterwork by Krzysztof K…</td><td>9h 32m</td><td>null</td><td>100.0</td><td>13</td><td>&quot;Universal acclaim&quot;</td><td>78.0</td><td>162.0</td><td>&quot;Generally favorable&quot;</td><td>&quot;Telewizja Polska (TVP),Zespol …</td><td>&quot;Krzysztof Kieslowski&quot;</td><td>&quot;Krzysztof Kieslowski,Krzysztof…</td><td>&quot;Artur Barcis,Olgierd Lukaszewi…</td><td>&quot;What a bitter pill to swallow …</td><td>100</td><td>2023-11-22</td><td>&quot;Siza&quot;</td><td>null</td><td>&quot;user&quot;</td></tr><tr><td>2000545497</td><td>&quot;Dekalog (1988)&quot;</td><td>1996-03-22</td><td>&quot;TV-MA&quot;</td><td>&quot;Drama&quot;</td><td>&quot;This masterwork by Krzysztof K…</td><td>9h 32m</td><td>null</td><td>100.0</td><td>13</td><td>&quot;Universal acclaim&quot;</td><td>78.0</td><td>162.0</td><td>&quot;Generally favorable&quot;</td><td>&quot;Telewizja Polska (TVP),Zespol …</td><td>&quot;Krzysztof Kieslowski&quot;</td><td>&quot;Krzysztof Kieslowski,Krzysztof…</td><td>&quot;Artur Barcis,Olgierd Lukaszewi…</td><td>&quot;The best 10 hours you will spe…</td><td>100</td><td>2021-05-01</td><td>&quot;ItsMahdiyarr&quot;</td><td>null</td><td>&quot;user&quot;</td></tr><tr><td>2000545497</td><td>&quot;Dekalog (1988)&quot;</td><td>1996-03-22</td><td>&quot;TV-MA&quot;</td><td>&quot;Drama&quot;</td><td>&quot;This masterwork by Krzysztof K…</td><td>9h 32m</td><td>null</td><td>100.0</td><td>13</td><td>&quot;Universal acclaim&quot;</td><td>78.0</td><td>162.0</td><td>&quot;Generally favorable&quot;</td><td>&quot;Telewizja Polska (TVP),Zespol …</td><td>&quot;Krzysztof Kieslowski&quot;</td><td>&quot;Krzysztof Kieslowski,Krzysztof…</td><td>&quot;Artur Barcis,Olgierd Lukaszewi…</td><td>&quot;Touching and human, Dekalog is…</td><td>100</td><td>2019-12-05</td><td>&quot;Andremax&quot;</td><td>null</td><td>&quot;user&quot;</td></tr><tr><td>2000545497</td><td>&quot;Dekalog (1988)&quot;</td><td>1996-03-22</td><td>&quot;TV-MA&quot;</td><td>&quot;Drama&quot;</td><td>&quot;This masterwork by Krzysztof K…</td><td>9h 32m</td><td>null</td><td>100.0</td><td>13</td><td>&quot;Universal acclaim&quot;</td><td>78.0</td><td>162.0</td><td>&quot;Generally favorable&quot;</td><td>&quot;Telewizja Polska (TVP),Zespol …</td><td>&quot;Krzysztof Kieslowski&quot;</td><td>&quot;Krzysztof Kieslowski,Krzysztof…</td><td>&quot;Artur Barcis,Olgierd Lukaszewi…</td><td>&quot;Krzysztof Kieslowski&#x27;s &quot;The De…</td><td>100</td><td>2018-04-26</td><td>&quot;thelol&quot;</td><td>null</td><td>&quot;user&quot;</td></tr><tr><td>2000545497</td><td>&quot;Dekalog (1988)&quot;</td><td>1996-03-22</td><td>&quot;TV-MA&quot;</td><td>&quot;Drama&quot;</td><td>&quot;This masterwork by Krzysztof K…</td><td>9h 32m</td><td>null</td><td>100.0</td><td>13</td><td>&quot;Universal acclaim&quot;</td><td>78.0</td><td>162.0</td><td>&quot;Generally favorable&quot;</td><td>&quot;Telewizja Polska (TVP),Zespol …</td><td>&quot;Krzysztof Kieslowski&quot;</td><td>&quot;Krzysztof Kieslowski,Krzysztof…</td><td>&quot;Artur Barcis,Olgierd Lukaszewi…</td><td>&quot;For me it is simply breathtaki…</td><td>100</td><td>2024-10-31</td><td>&quot;Daki1105&quot;</td><td>null</td><td>&quot;user&quot;</td></tr><tr><td>&hellip;</td><td>&hellip;</td><td>&hellip;</td><td>&hellip;</td><td>&hellip;</td><td>&hellip;</td><td>&hellip;</td><td>&hellip;</td><td>&hellip;</td><td>&hellip;</td><td>&hellip;</td><td>&hellip;</td><td>&hellip;</td><td>&hellip;</td><td>&hellip;</td><td>&hellip;</td><td>&hellip;</td><td>&hellip;</td><td>&hellip;</td><td>&hellip;</td><td>&hellip;</td><td>&hellip;</td><td>&hellip;</td><td>&hellip;</td></tr><tr><td>2000538594</td><td>&quot;Boogie Woogie&quot;</td><td>2010-04-23</td><td>&quot;R&quot;</td><td>&quot;Drama&quot;</td><td>&quot;A comedy of manners set agains…</td><td>1h 34m</td><td>&quot;Seduction. Betrayal. Death. Th…</td><td>null</td><td>11</td><td>null</td><td>46.0</td><td>10.0</td><td>&quot;Mixed or average&quot;</td><td>&quot;The Works International,Consta…</td><td>&quot;Duncan Ward&quot;</td><td>&quot;Danny Moynihan&quot;</td><td>&quot;Gillian Anderson,Alan Cumming,…</td><td>&quot;A stinging satire of the conte…</td><td>50</td><td>2010-10-25</td><td>&quot;gazpacho&quot;</td><td>null</td><td>&quot;user&quot;</td></tr><tr><td>2000538594</td><td>&quot;Boogie Woogie&quot;</td><td>2010-04-23</td><td>&quot;R&quot;</td><td>&quot;Comedy&quot;</td><td>&quot;A comedy of manners set agains…</td><td>1h 34m</td><td>&quot;Seduction. Betrayal. Death. Th…</td><td>null</td><td>11</td><td>null</td><td>46.0</td><td>10.0</td><td>&quot;Mixed or average&quot;</td><td>&quot;The Works International,Consta…</td><td>&quot;Duncan Ward&quot;</td><td>&quot;Danny Moynihan&quot;</td><td>&quot;Gillian Anderson,Alan Cumming,…</td><td>&quot;If you&#x27;re looking for a reason…</td><td>30</td><td>2013-03-02</td><td>&quot;Taplinger&quot;</td><td>null</td><td>&quot;user&quot;</td></tr><tr><td>2000538594</td><td>&quot;Boogie Woogie&quot;</td><td>2010-04-23</td><td>&quot;R&quot;</td><td>&quot;Drama&quot;</td><td>&quot;A comedy of manners set agains…</td><td>1h 34m</td><td>&quot;Seduction. Betrayal. Death. Th…</td><td>null</td><td>11</td><td>null</td><td>46.0</td><td>10.0</td><td>&quot;Mixed or average&quot;</td><td>&quot;The Works International,Consta…</td><td>&quot;Duncan Ward&quot;</td><td>&quot;Danny Moynihan&quot;</td><td>&quot;Gillian Anderson,Alan Cumming,…</td><td>&quot;If you&#x27;re looking for a reason…</td><td>30</td><td>2013-03-02</td><td>&quot;Taplinger&quot;</td><td>null</td><td>&quot;user&quot;</td></tr><tr><td>2000538594</td><td>&quot;Boogie Woogie&quot;</td><td>2010-04-23</td><td>&quot;R&quot;</td><td>&quot;Comedy&quot;</td><td>&quot;A comedy of manners set agains…</td><td>1h 34m</td><td>&quot;Seduction. Betrayal. Death. Th…</td><td>null</td><td>11</td><td>null</td><td>46.0</td><td>10.0</td><td>&quot;Mixed or average&quot;</td><td>&quot;The Works International,Consta…</td><td>&quot;Duncan Ward&quot;</td><td>&quot;Danny Moynihan&quot;</td><td>&quot;Gillian Anderson,Alan Cumming,…</td><td>&quot;Pathetic, disgraceful. This is…</td><td>0</td><td>2010-11-07</td><td>&quot;hollym333&quot;</td><td>null</td><td>&quot;user&quot;</td></tr><tr><td>2000538594</td><td>&quot;Boogie Woogie&quot;</td><td>2010-04-23</td><td>&quot;R&quot;</td><td>&quot;Drama&quot;</td><td>&quot;A comedy of manners set agains…</td><td>1h 34m</td><td>&quot;Seduction. Betrayal. Death. Th…</td><td>null</td><td>11</td><td>null</td><td>46.0</td><td>10.0</td><td>&quot;Mixed or average&quot;</td><td>&quot;The Works International,Consta…</td><td>&quot;Duncan Ward&quot;</td><td>&quot;Danny Moynihan&quot;</td><td>&quot;Gillian Anderson,Alan Cumming,…</td><td>&quot;Pathetic, disgraceful. This is…</td><td>0</td><td>2010-11-07</td><td>&quot;hollym333&quot;</td><td>null</td><td>&quot;user&quot;</td></tr></tbody></table></div>"
      ]
     },
     "execution_count": 14,
     "metadata": {},
     "output_type": "execute_result"
    }
   ],
   "execution_count": 14
  }
 ],
 "metadata": {
  "kernelspec": {
   "display_name": "Python 3",
   "language": "python",
   "name": "python3"
  },
  "language_info": {
   "codemirror_mode": {
    "name": "ipython",
    "version": 2
   },
   "file_extension": ".py",
   "mimetype": "text/x-python",
   "name": "python",
   "nbconvert_exporter": "python",
   "pygments_lexer": "ipython2",
   "version": "2.7.6"
  }
 },
 "nbformat": 4,
 "nbformat_minor": 5
}
