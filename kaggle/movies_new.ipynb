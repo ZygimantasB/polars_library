{
 "cells": [
  {
   "cell_type": "code",
   "id": "initial_id",
   "metadata": {
    "collapsed": true,
    "ExecuteTime": {
     "end_time": "2025-03-25T18:49:17.708847Z",
     "start_time": "2025-03-25T18:49:17.290663Z"
    }
   },
   "source": [
    "import polars as pl\n",
    "\n",
    "import polars.selectors as cs"
   ],
   "outputs": [],
   "execution_count": 1
  },
  {
   "metadata": {
    "ExecuteTime": {
     "end_time": "2025-03-25T18:49:17.716828Z",
     "start_time": "2025-03-25T18:49:17.713588Z"
    }
   },
   "cell_type": "code",
   "source": [
    "df_movies_path = r\"F:\\Datasets\\CSV datasets\\movies\\movies.csv\"\n",
    "df_movies_reviews_path = r\"F:\\Datasets\\CSV datasets\\movies\\movies_reviews.csv\""
   ],
   "id": "175aeb564122c07e",
   "outputs": [],
   "execution_count": 2
  },
  {
   "metadata": {
    "ExecuteTime": {
     "end_time": "2025-03-25T18:49:18.082654Z",
     "start_time": "2025-03-25T18:49:17.902618Z"
    }
   },
   "cell_type": "code",
   "source": [
    "df_movies = pl.read_csv(df_movies_path)\n",
    "df_reviews = pl.read_csv(df_movies_reviews_path)"
   ],
   "id": "73706e2efa402fe6",
   "outputs": [],
   "execution_count": 3
  },
  {
   "metadata": {
    "ExecuteTime": {
     "end_time": "2025-03-25T19:30:36.151124Z",
     "start_time": "2025-03-25T19:30:35.942278Z"
    }
   },
   "cell_type": "code",
   "source": [
    "df_joined = df_movies.join(\n",
    "    df_reviews,\n",
    "    on=\"id\",\n",
    "    how=\"inner\",\n",
    "    suffix=\"_suffix\",\n",
    ")"
   ],
   "id": "1cb103381e9a0e8a",
   "outputs": [],
   "execution_count": 14
  },
  {
   "metadata": {
    "ExecuteTime": {
     "end_time": "2025-03-25T19:37:07.517950Z",
     "start_time": "2025-03-25T19:37:07.514400Z"
    }
   },
   "cell_type": "code",
   "source": [
    "drop_columns = [column for column in df_joined.columns if column.endswith(\"_suffix\")]\n",
    "\n",
    "df_joined = df_joined.select(cs.exclude(drop_columns))"
   ],
   "id": "48abf5a0e46fc033",
   "outputs": [],
   "execution_count": 26
  },
  {
   "metadata": {
    "ExecuteTime": {
     "end_time": "2025-03-25T19:53:48.485479Z",
     "start_time": "2025-03-25T19:53:48.478837Z"
    }
   },
   "cell_type": "code",
   "source": "df_joined",
   "id": "e06ec8575c821849",
   "outputs": [
    {
     "data": {
      "text/plain": [
       "shape: (667_536, 24)\n",
       "┌───────────┬───────────┬───────────┬───────────┬───┬───────────┬───────────┬───────────┬──────────┐\n",
       "│ id        ┆ title     ┆ releaseDa ┆ rating    ┆ … ┆ date      ┆ author    ┆ publicati ┆ review_t │\n",
       "│ ---       ┆ ---       ┆ te        ┆ ---       ┆   ┆ ---       ┆ ---       ┆ onName    ┆ ype      │\n",
       "│ i64       ┆ str       ┆ ---       ┆ str       ┆   ┆ str       ┆ str       ┆ ---       ┆ ---      │\n",
       "│           ┆           ┆ str       ┆           ┆   ┆           ┆           ┆ str       ┆ str      │\n",
       "╞═══════════╪═══════════╪═══════════╪═══════════╪═══╪═══════════╪═══════════╪═══════════╪══════════╡\n",
       "│ 200054549 ┆ Dekalog   ┆ 1996-03-2 ┆ TV-MA     ┆ … ┆ 2023-11-2 ┆ Siza      ┆ null      ┆ user     │\n",
       "│ 7         ┆ (1988)    ┆ 2         ┆           ┆   ┆ 2         ┆           ┆           ┆          │\n",
       "│ 200054549 ┆ Dekalog   ┆ 1996-03-2 ┆ TV-MA     ┆ … ┆ 2021-05-0 ┆ ItsMahdiy ┆ null      ┆ user     │\n",
       "│ 7         ┆ (1988)    ┆ 2         ┆           ┆   ┆ 1         ┆ arr       ┆           ┆          │\n",
       "│ 200054549 ┆ Dekalog   ┆ 1996-03-2 ┆ TV-MA     ┆ … ┆ 2019-12-0 ┆ Andremax  ┆ null      ┆ user     │\n",
       "│ 7         ┆ (1988)    ┆ 2         ┆           ┆   ┆ 5         ┆           ┆           ┆          │\n",
       "│ 200054549 ┆ Dekalog   ┆ 1996-03-2 ┆ TV-MA     ┆ … ┆ 2018-04-2 ┆ thelol    ┆ null      ┆ user     │\n",
       "│ 7         ┆ (1988)    ┆ 2         ┆           ┆   ┆ 6         ┆           ┆           ┆          │\n",
       "│ 200054549 ┆ Dekalog   ┆ 1996-03-2 ┆ TV-MA     ┆ … ┆ 2024-10-3 ┆ Daki1105  ┆ null      ┆ user     │\n",
       "│ 7         ┆ (1988)    ┆ 2         ┆           ┆   ┆ 1         ┆           ┆           ┆          │\n",
       "│ …         ┆ …         ┆ …         ┆ …         ┆ … ┆ …         ┆ …         ┆ …         ┆ …        │\n",
       "│ 200053889 ┆ Saint Mis ┆ 2010-12-1 ┆ Not Rated ┆ … ┆ 2010-12-1 ┆ David     ┆ Time Out  ┆ critic   │\n",
       "│ 0         ┆ behavin': ┆ 0         ┆           ┆   ┆ 0         ┆ Fear      ┆           ┆          │\n",
       "│           ┆ The Wavy  ┆           ┆           ┆   ┆           ┆           ┆           ┆          │\n",
       "│           ┆ Gr…       ┆           ┆           ┆   ┆           ┆           ┆           ┆          │\n",
       "│ 200053859 ┆ Boys to   ┆ 2001-04-2 ┆ null      ┆ … ┆ 2024-09-1 ┆ Grandecu  ┆ null      ┆ user     │\n",
       "│ 9         ┆ Men       ┆ 7         ┆           ┆   ┆ 9         ┆           ┆           ┆          │\n",
       "│ 200053859 ┆ Boogie    ┆ 2010-04-2 ┆ R         ┆ … ┆ 2010-10-2 ┆ gazpacho  ┆ null      ┆ user     │\n",
       "│ 4         ┆ Woogie    ┆ 3         ┆           ┆   ┆ 5         ┆           ┆           ┆          │\n",
       "│ 200053859 ┆ Boogie    ┆ 2010-04-2 ┆ R         ┆ … ┆ 2013-03-0 ┆ Taplinger ┆ null      ┆ user     │\n",
       "│ 4         ┆ Woogie    ┆ 3         ┆           ┆   ┆ 2         ┆           ┆           ┆          │\n",
       "│ 200053859 ┆ Boogie    ┆ 2010-04-2 ┆ R         ┆ … ┆ 2010-11-0 ┆ hollym333 ┆ null      ┆ user     │\n",
       "│ 4         ┆ Woogie    ┆ 3         ┆           ┆   ┆ 7         ┆           ┆           ┆          │\n",
       "└───────────┴───────────┴───────────┴───────────┴───┴───────────┴───────────┴───────────┴──────────┘"
      ],
      "text/html": [
       "<div><style>\n",
       ".dataframe > thead > tr,\n",
       ".dataframe > tbody > tr {\n",
       "  text-align: right;\n",
       "  white-space: pre-wrap;\n",
       "}\n",
       "</style>\n",
       "<small>shape: (667_536, 24)</small><table border=\"1\" class=\"dataframe\"><thead><tr><th>id</th><th>title</th><th>releaseDate</th><th>rating</th><th>genres</th><th>description</th><th>duration</th><th>tagline</th><th>metascore</th><th>metascore_count</th><th>metascore_sentiment</th><th>userscore</th><th>userscore_count</th><th>userscore_sentiment</th><th>production_companies</th><th>director</th><th>writer</th><th>top_cast</th><th>quote</th><th>score</th><th>date</th><th>author</th><th>publicationName</th><th>review_type</th></tr><tr><td>i64</td><td>str</td><td>str</td><td>str</td><td>str</td><td>str</td><td>i64</td><td>str</td><td>f64</td><td>i64</td><td>str</td><td>f64</td><td>f64</td><td>str</td><td>str</td><td>str</td><td>str</td><td>str</td><td>str</td><td>i64</td><td>str</td><td>str</td><td>str</td><td>str</td></tr></thead><tbody><tr><td>2000545497</td><td>&quot;Dekalog (1988)&quot;</td><td>&quot;1996-03-22&quot;</td><td>&quot;TV-MA&quot;</td><td>&quot;Drama&quot;</td><td>&quot;This masterwork by Krzysztof K…</td><td>572</td><td>null</td><td>100.0</td><td>13</td><td>&quot;Universal acclaim&quot;</td><td>78.0</td><td>162.0</td><td>&quot;Generally favorable&quot;</td><td>&quot;Telewizja Polska (TVP),Zespol …</td><td>&quot;Krzysztof Kieslowski&quot;</td><td>&quot;Krzysztof Kieslowski,Krzysztof…</td><td>&quot;Artur Barcis,Olgierd Lukaszewi…</td><td>&quot;What a bitter pill to swallow …</td><td>100</td><td>&quot;2023-11-22&quot;</td><td>&quot;Siza&quot;</td><td>null</td><td>&quot;user&quot;</td></tr><tr><td>2000545497</td><td>&quot;Dekalog (1988)&quot;</td><td>&quot;1996-03-22&quot;</td><td>&quot;TV-MA&quot;</td><td>&quot;Drama&quot;</td><td>&quot;This masterwork by Krzysztof K…</td><td>572</td><td>null</td><td>100.0</td><td>13</td><td>&quot;Universal acclaim&quot;</td><td>78.0</td><td>162.0</td><td>&quot;Generally favorable&quot;</td><td>&quot;Telewizja Polska (TVP),Zespol …</td><td>&quot;Krzysztof Kieslowski&quot;</td><td>&quot;Krzysztof Kieslowski,Krzysztof…</td><td>&quot;Artur Barcis,Olgierd Lukaszewi…</td><td>&quot;The best 10 hours you will spe…</td><td>100</td><td>&quot;2021-05-01&quot;</td><td>&quot;ItsMahdiyarr&quot;</td><td>null</td><td>&quot;user&quot;</td></tr><tr><td>2000545497</td><td>&quot;Dekalog (1988)&quot;</td><td>&quot;1996-03-22&quot;</td><td>&quot;TV-MA&quot;</td><td>&quot;Drama&quot;</td><td>&quot;This masterwork by Krzysztof K…</td><td>572</td><td>null</td><td>100.0</td><td>13</td><td>&quot;Universal acclaim&quot;</td><td>78.0</td><td>162.0</td><td>&quot;Generally favorable&quot;</td><td>&quot;Telewizja Polska (TVP),Zespol …</td><td>&quot;Krzysztof Kieslowski&quot;</td><td>&quot;Krzysztof Kieslowski,Krzysztof…</td><td>&quot;Artur Barcis,Olgierd Lukaszewi…</td><td>&quot;Touching and human, Dekalog is…</td><td>100</td><td>&quot;2019-12-05&quot;</td><td>&quot;Andremax&quot;</td><td>null</td><td>&quot;user&quot;</td></tr><tr><td>2000545497</td><td>&quot;Dekalog (1988)&quot;</td><td>&quot;1996-03-22&quot;</td><td>&quot;TV-MA&quot;</td><td>&quot;Drama&quot;</td><td>&quot;This masterwork by Krzysztof K…</td><td>572</td><td>null</td><td>100.0</td><td>13</td><td>&quot;Universal acclaim&quot;</td><td>78.0</td><td>162.0</td><td>&quot;Generally favorable&quot;</td><td>&quot;Telewizja Polska (TVP),Zespol …</td><td>&quot;Krzysztof Kieslowski&quot;</td><td>&quot;Krzysztof Kieslowski,Krzysztof…</td><td>&quot;Artur Barcis,Olgierd Lukaszewi…</td><td>&quot;Krzysztof Kieslowski&#x27;s &quot;The De…</td><td>100</td><td>&quot;2018-04-26&quot;</td><td>&quot;thelol&quot;</td><td>null</td><td>&quot;user&quot;</td></tr><tr><td>2000545497</td><td>&quot;Dekalog (1988)&quot;</td><td>&quot;1996-03-22&quot;</td><td>&quot;TV-MA&quot;</td><td>&quot;Drama&quot;</td><td>&quot;This masterwork by Krzysztof K…</td><td>572</td><td>null</td><td>100.0</td><td>13</td><td>&quot;Universal acclaim&quot;</td><td>78.0</td><td>162.0</td><td>&quot;Generally favorable&quot;</td><td>&quot;Telewizja Polska (TVP),Zespol …</td><td>&quot;Krzysztof Kieslowski&quot;</td><td>&quot;Krzysztof Kieslowski,Krzysztof…</td><td>&quot;Artur Barcis,Olgierd Lukaszewi…</td><td>&quot;For me it is simply breathtaki…</td><td>100</td><td>&quot;2024-10-31&quot;</td><td>&quot;Daki1105&quot;</td><td>null</td><td>&quot;user&quot;</td></tr><tr><td>&hellip;</td><td>&hellip;</td><td>&hellip;</td><td>&hellip;</td><td>&hellip;</td><td>&hellip;</td><td>&hellip;</td><td>&hellip;</td><td>&hellip;</td><td>&hellip;</td><td>&hellip;</td><td>&hellip;</td><td>&hellip;</td><td>&hellip;</td><td>&hellip;</td><td>&hellip;</td><td>&hellip;</td><td>&hellip;</td><td>&hellip;</td><td>&hellip;</td><td>&hellip;</td><td>&hellip;</td><td>&hellip;</td><td>&hellip;</td></tr><tr><td>2000538890</td><td>&quot;Saint Misbehavin&#x27;: The Wavy Gr…</td><td>&quot;2010-12-10&quot;</td><td>&quot;Not Rated&quot;</td><td>&quot;Documentary&quot;</td><td>&quot;Beginning with Woodstock ‘99, …</td><td>87</td><td>null</td><td>null</td><td>7</td><td>null</td><td>0.0</td><td>1.0</td><td>null</td><td>&quot;Argot Pictures&quot;</td><td>&quot;Michelle Esrick&quot;</td><td>null</td><td>&quot;Larry Brilliant,Wavy Gravy,Enz…</td><td>&quot;This Age-of-Aquarius relic&#x27;s d…</td><td>40</td><td>&quot;2010-12-10&quot;</td><td>&quot;David Fear&quot;</td><td>&quot;Time Out&quot;</td><td>&quot;critic&quot;</td></tr><tr><td>2000538599</td><td>&quot;Boys to Men&quot;</td><td>&quot;2001-04-27&quot;</td><td>null</td><td>&quot;Drama&quot;</td><td>&quot;Compilation of 4 short films f…</td><td>75</td><td>null</td><td>null</td><td>8</td><td>null</td><td>0.0</td><td>1.0</td><td>null</td><td>&quot;Jour de Fête Films&quot;</td><td>null</td><td>null</td><td>&quot;Ema Tuennerman,Brett Chukerman…</td><td>&quot;1.Você não fala sobre o Clube …</td><td>100</td><td>&quot;2024-09-19&quot;</td><td>&quot;Grandecu&quot;</td><td>null</td><td>&quot;user&quot;</td></tr><tr><td>2000538594</td><td>&quot;Boogie Woogie&quot;</td><td>&quot;2010-04-23&quot;</td><td>&quot;R&quot;</td><td>&quot;Comedy,Drama&quot;</td><td>&quot;A comedy of manners set agains…</td><td>94</td><td>&quot;Seduction. Betrayal. Death. Th…</td><td>null</td><td>11</td><td>null</td><td>46.0</td><td>10.0</td><td>&quot;Mixed or average&quot;</td><td>&quot;The Works International,Consta…</td><td>&quot;Duncan Ward&quot;</td><td>&quot;Danny Moynihan&quot;</td><td>&quot;Gillian Anderson,Alan Cumming,…</td><td>&quot;A stinging satire of the conte…</td><td>50</td><td>&quot;2010-10-25&quot;</td><td>&quot;gazpacho&quot;</td><td>null</td><td>&quot;user&quot;</td></tr><tr><td>2000538594</td><td>&quot;Boogie Woogie&quot;</td><td>&quot;2010-04-23&quot;</td><td>&quot;R&quot;</td><td>&quot;Comedy,Drama&quot;</td><td>&quot;A comedy of manners set agains…</td><td>94</td><td>&quot;Seduction. Betrayal. Death. Th…</td><td>null</td><td>11</td><td>null</td><td>46.0</td><td>10.0</td><td>&quot;Mixed or average&quot;</td><td>&quot;The Works International,Consta…</td><td>&quot;Duncan Ward&quot;</td><td>&quot;Danny Moynihan&quot;</td><td>&quot;Gillian Anderson,Alan Cumming,…</td><td>&quot;If you&#x27;re looking for a reason…</td><td>30</td><td>&quot;2013-03-02&quot;</td><td>&quot;Taplinger&quot;</td><td>null</td><td>&quot;user&quot;</td></tr><tr><td>2000538594</td><td>&quot;Boogie Woogie&quot;</td><td>&quot;2010-04-23&quot;</td><td>&quot;R&quot;</td><td>&quot;Comedy,Drama&quot;</td><td>&quot;A comedy of manners set agains…</td><td>94</td><td>&quot;Seduction. Betrayal. Death. Th…</td><td>null</td><td>11</td><td>null</td><td>46.0</td><td>10.0</td><td>&quot;Mixed or average&quot;</td><td>&quot;The Works International,Consta…</td><td>&quot;Duncan Ward&quot;</td><td>&quot;Danny Moynihan&quot;</td><td>&quot;Gillian Anderson,Alan Cumming,…</td><td>&quot;Pathetic, disgraceful. This is…</td><td>0</td><td>&quot;2010-11-07&quot;</td><td>&quot;hollym333&quot;</td><td>null</td><td>&quot;user&quot;</td></tr></tbody></table></div>"
      ]
     },
     "execution_count": 33,
     "metadata": {},
     "output_type": "execute_result"
    }
   ],
   "execution_count": 33
  }
 ],
 "metadata": {
  "kernelspec": {
   "display_name": "Python 3",
   "language": "python",
   "name": "python3"
  },
  "language_info": {
   "codemirror_mode": {
    "name": "ipython",
    "version": 2
   },
   "file_extension": ".py",
   "mimetype": "text/x-python",
   "name": "python",
   "nbconvert_exporter": "python",
   "pygments_lexer": "ipython2",
   "version": "2.7.6"
  }
 },
 "nbformat": 4,
 "nbformat_minor": 5
}
