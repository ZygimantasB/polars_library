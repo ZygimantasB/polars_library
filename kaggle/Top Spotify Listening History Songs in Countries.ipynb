{
 "cells": [
  {
   "cell_type": "code",
   "id": "initial_id",
   "metadata": {
    "collapsed": true,
    "ExecuteTime": {
     "end_time": "2025-08-03T17:10:27.174695Z",
     "start_time": "2025-08-03T17:10:26.802327Z"
    }
   },
   "source": [
    "import polars as pl\n",
    "import polars.selectors as cs\n",
    "\n",
    "import altair as alt\n",
    "import plotly.express as px\n",
    "import seaborn as sns\n",
    "import matplotlib.pyplot as plt\n",
    "\n",
    "import datetime as dt"
   ],
   "outputs": [],
   "execution_count": 1
  },
  {
   "metadata": {},
   "cell_type": "markdown",
   "source": "# Feature Enginiering",
   "id": "fb2643dfa5409ef6"
  },
  {
   "metadata": {
    "ExecuteTime": {
     "end_time": "2025-08-03T17:10:27.350498Z",
     "start_time": "2025-08-03T17:10:27.347814Z"
    }
   },
   "cell_type": "code",
   "source": [
    "spotify_history_path = r\"D:\\Datasets\\Data Preaparations\\spotify_history.csv\"\n",
    "spotify_data_dictionary_description_path = r\"D:\\Datasets\\Data Preaparations\\spotify_data_dictionary Description.csv\""
   ],
   "id": "a170eb59862908eb",
   "outputs": [],
   "execution_count": 2
  },
  {
   "metadata": {
    "ExecuteTime": {
     "end_time": "2025-08-03T17:10:27.384249Z",
     "start_time": "2025-08-03T17:10:27.364017Z"
    }
   },
   "cell_type": "code",
   "source": "spotify_history_df = pl.read_csv(spotify_history_path)",
   "id": "15a5c68622a0adcf",
   "outputs": [],
   "execution_count": 3
  },
  {
   "metadata": {
    "ExecuteTime": {
     "end_time": "2025-08-03T17:10:27.397800Z",
     "start_time": "2025-08-03T17:10:27.394128Z"
    }
   },
   "cell_type": "code",
   "source": "spotify_data_dictionary_description_df = pl.read_csv(spotify_data_dictionary_description_path)",
   "id": "2694d4c773d96980",
   "outputs": [],
   "execution_count": 4
  },
  {
   "metadata": {
    "ExecuteTime": {
     "end_time": "2025-08-03T17:11:15.462955Z",
     "start_time": "2025-08-03T17:11:15.453292Z"
    }
   },
   "cell_type": "code",
   "source": "spotify_history_df.describe()",
   "id": "be2b4a5d28acbf87",
   "outputs": [
    {
     "data": {
      "text/plain": [
       "shape: (9, 12)\n",
       "┌────────────┬────────────┬───────────┬──────────┬───┬───────────┬───────────┬──────────┬──────────┐\n",
       "│ statistic  ┆ spotify_tr ┆ ts        ┆ platform ┆ … ┆ reason_st ┆ reason_en ┆ shuffle  ┆ skipped  │\n",
       "│ ---        ┆ ack_uri    ┆ ---       ┆ ---      ┆   ┆ art       ┆ d         ┆ ---      ┆ ---      │\n",
       "│ str        ┆ ---        ┆ str       ┆ str      ┆   ┆ ---       ┆ ---       ┆ f64      ┆ f64      │\n",
       "│            ┆ str        ┆           ┆          ┆   ┆ str       ┆ str       ┆          ┆          │\n",
       "╞════════════╪════════════╪═══════════╪══════════╪═══╪═══════════╪═══════════╪══════════╪══════════╡\n",
       "│ count      ┆ 149860     ┆ 149860    ┆ 149860   ┆ … ┆ 149717    ┆ 149743    ┆ 149860.0 ┆ 149860.0 │\n",
       "│ null_count ┆ 0          ┆ 0         ┆ 0        ┆ … ┆ 143       ┆ 117       ┆ 0.0      ┆ 0.0      │\n",
       "│ mean       ┆ null       ┆ null      ┆ null     ┆ … ┆ null      ┆ null      ┆ 0.744582 ┆ 0.052509 │\n",
       "│ std        ┆ null       ┆ null      ┆ null     ┆ … ┆ null      ┆ null      ┆ null     ┆ null     │\n",
       "│ min        ┆ 003d3VbyJT ┆ 2013-07-0 ┆ android  ┆ … ┆ appload   ┆ appload   ┆ 0.0      ┆ 0.0      │\n",
       "│            ┆ ZiiOYT2W7f ┆ 8         ┆          ┆   ┆           ┆           ┆          ┆          │\n",
       "│            ┆ nQ         ┆ 02:44:34  ┆          ┆   ┆           ┆           ┆          ┆          │\n",
       "│ 25%        ┆ null       ┆ null      ┆ null     ┆ … ┆ null      ┆ null      ┆ null     ┆ null     │\n",
       "│ 50%        ┆ null       ┆ null      ┆ null     ┆ … ┆ null      ┆ null      ┆ null     ┆ null     │\n",
       "│ 75%        ┆ null       ┆ null      ┆ null     ┆ … ┆ null      ┆ null      ┆ null     ┆ null     │\n",
       "│ max        ┆ 7zwWMJUV62 ┆ 2024-12-1 ┆ windows  ┆ … ┆ unknown   ┆ unknown   ┆ 1.0      ┆ 1.0      │\n",
       "│            ┆ QNNLz15hrW ┆ 5         ┆          ┆   ┆           ┆           ┆          ┆          │\n",
       "│            ┆ Zl         ┆ 23:06:25  ┆          ┆   ┆           ┆           ┆          ┆          │\n",
       "└────────────┴────────────┴───────────┴──────────┴───┴───────────┴───────────┴──────────┴──────────┘"
      ],
      "text/html": [
       "<div><style>\n",
       ".dataframe > thead > tr,\n",
       ".dataframe > tbody > tr {\n",
       "  text-align: right;\n",
       "  white-space: pre-wrap;\n",
       "}\n",
       "</style>\n",
       "<small>shape: (9, 12)</small><table border=\"1\" class=\"dataframe\"><thead><tr><th>statistic</th><th>spotify_track_uri</th><th>ts</th><th>platform</th><th>ms_played</th><th>track_name</th><th>artist_name</th><th>album_name</th><th>reason_start</th><th>reason_end</th><th>shuffle</th><th>skipped</th></tr><tr><td>str</td><td>str</td><td>str</td><td>str</td><td>f64</td><td>str</td><td>str</td><td>str</td><td>str</td><td>str</td><td>f64</td><td>f64</td></tr></thead><tbody><tr><td>&quot;count&quot;</td><td>&quot;149860&quot;</td><td>&quot;149860&quot;</td><td>&quot;149860&quot;</td><td>149860.0</td><td>&quot;149860&quot;</td><td>&quot;149860&quot;</td><td>&quot;149860&quot;</td><td>&quot;149717&quot;</td><td>&quot;149743&quot;</td><td>149860.0</td><td>149860.0</td></tr><tr><td>&quot;null_count&quot;</td><td>&quot;0&quot;</td><td>&quot;0&quot;</td><td>&quot;0&quot;</td><td>0.0</td><td>&quot;0&quot;</td><td>&quot;0&quot;</td><td>&quot;0&quot;</td><td>&quot;143&quot;</td><td>&quot;117&quot;</td><td>0.0</td><td>0.0</td></tr><tr><td>&quot;mean&quot;</td><td>null</td><td>null</td><td>null</td><td>128316.635093</td><td>null</td><td>null</td><td>null</td><td>null</td><td>null</td><td>0.744582</td><td>0.052509</td></tr><tr><td>&quot;std&quot;</td><td>null</td><td>null</td><td>null</td><td>117840.060332</td><td>null</td><td>null</td><td>null</td><td>null</td><td>null</td><td>null</td><td>null</td></tr><tr><td>&quot;min&quot;</td><td>&quot;003d3VbyJTZiiOYT2W7fnQ&quot;</td><td>&quot;2013-07-08 02:44:34&quot;</td><td>&quot;android&quot;</td><td>0.0</td><td>&quot;!!!!!!!&quot;</td><td>&quot;&quot;Weird Al&quot; Yankovic&quot;</td><td>&quot;!!Going Places!!&quot;</td><td>&quot;appload&quot;</td><td>&quot;appload&quot;</td><td>0.0</td><td>0.0</td></tr><tr><td>&quot;25%&quot;</td><td>null</td><td>null</td><td>null</td><td>2795.0</td><td>null</td><td>null</td><td>null</td><td>null</td><td>null</td><td>null</td><td>null</td></tr><tr><td>&quot;50%&quot;</td><td>null</td><td>null</td><td>null</td><td>138840.0</td><td>null</td><td>null</td><td>null</td><td>null</td><td>null</td><td>null</td><td>null</td></tr><tr><td>&quot;75%&quot;</td><td>null</td><td>null</td><td>null</td><td>218502.0</td><td>null</td><td>null</td><td>null</td><td>null</td><td>null</td><td>null</td><td>null</td></tr><tr><td>&quot;max&quot;</td><td>&quot;7zwWMJUV62QNNLz15hrWZl&quot;</td><td>&quot;2024-12-15 23:06:25&quot;</td><td>&quot;windows&quot;</td><td>1.561125e6</td><td>&quot;🪐&quot;</td><td>&quot;落日飛車 Sunset Rollercoaster&quot;</td><td>&quot;母親&quot;</td><td>&quot;unknown&quot;</td><td>&quot;unknown&quot;</td><td>1.0</td><td>1.0</td></tr></tbody></table></div>"
      ]
     },
     "execution_count": 6,
     "metadata": {},
     "output_type": "execute_result"
    }
   ],
   "execution_count": 6
  },
  {
   "metadata": {
    "ExecuteTime": {
     "end_time": "2025-08-03T17:12:30.182639Z",
     "start_time": "2025-08-03T17:12:30.177629Z"
    }
   },
   "cell_type": "code",
   "source": "spotify_history_df.collect_schema()",
   "id": "b2082d51357e8bd7",
   "outputs": [
    {
     "data": {
      "text/plain": [
       "Schema([('spotify_track_uri', String),\n",
       "        ('ts', String),\n",
       "        ('platform', String),\n",
       "        ('ms_played', Int64),\n",
       "        ('track_name', String),\n",
       "        ('artist_name', String),\n",
       "        ('album_name', String),\n",
       "        ('reason_start', String),\n",
       "        ('reason_end', String),\n",
       "        ('shuffle', Boolean),\n",
       "        ('skipped', Boolean)])"
      ]
     },
     "execution_count": 8,
     "metadata": {},
     "output_type": "execute_result"
    }
   ],
   "execution_count": 8
  },
  {
   "metadata": {
    "ExecuteTime": {
     "end_time": "2025-08-03T17:13:12.208753Z",
     "start_time": "2025-08-03T17:13:12.204170Z"
    }
   },
   "cell_type": "code",
   "source": "spotify_history_df.estimated_size('mb')",
   "id": "5591e6a81a4a521a",
   "outputs": [
    {
     "data": {
      "text/plain": [
       "17.740535736083984"
      ]
     },
     "execution_count": 11,
     "metadata": {},
     "output_type": "execute_result"
    }
   ],
   "execution_count": 11
  },
  {
   "metadata": {
    "ExecuteTime": {
     "end_time": "2025-08-03T17:24:22.423924Z",
     "start_time": "2025-08-03T17:24:22.414411Z"
    }
   },
   "cell_type": "code",
   "source": [
    "spotify_history_df = spotify_history_df.with_columns(\n",
    "    pl.col('reason_start').fill_null('unknown'),\n",
    "    pl.col('reason_end').fill_null('unknown'),\n",
    "    pl.col('ms_played').cast(pl.UInt32),\n",
    "    pl.col('ts').str.strptime(pl.Datetime(), format='%Y-%m-%d %H:%M:%S')\n",
    ")"
   ],
   "id": "d6b287ed22d0cd30",
   "outputs": [],
   "execution_count": 19
  },
  {
   "metadata": {
    "ExecuteTime": {
     "end_time": "2025-08-03T17:24:42.723621Z",
     "start_time": "2025-08-03T17:24:42.719105Z"
    }
   },
   "cell_type": "code",
   "source": "spotify_data_dictionary_description_df.collect_schema()",
   "id": "34965cf41c6cda96",
   "outputs": [
    {
     "data": {
      "text/plain": [
       "Schema([('Field', String), ('Description', String)])"
      ]
     },
     "execution_count": 21,
     "metadata": {},
     "output_type": "execute_result"
    }
   ],
   "execution_count": 21
  },
  {
   "metadata": {
    "ExecuteTime": {
     "end_time": "2025-08-03T17:24:49.995326Z",
     "start_time": "2025-08-03T17:24:49.990030Z"
    }
   },
   "cell_type": "code",
   "source": "spotify_data_dictionary_description_df.describe()",
   "id": "95d94294a67eddf2",
   "outputs": [
    {
     "data": {
      "text/plain": [
       "shape: (9, 3)\n",
       "┌────────────┬────────────┬───────────────────────┐\n",
       "│ statistic  ┆ Field      ┆ Description           │\n",
       "│ ---        ┆ ---        ┆ ---                   │\n",
       "│ str        ┆ str        ┆ str                   │\n",
       "╞════════════╪════════════╪═══════════════════════╡\n",
       "│ count      ┆ 11         ┆ 11                    │\n",
       "│ null_count ┆ 0          ┆ 0                     │\n",
       "│ mean       ┆ null       ┆ null                  │\n",
       "│ std        ┆ null       ┆ null                  │\n",
       "│ min        ┆ album_name ┆ Name of the album     │\n",
       "│ 25%        ┆ null       ┆ null                  │\n",
       "│ 50%        ┆ null       ┆ null                  │\n",
       "│ 75%        ┆ null       ┆ null                  │\n",
       "│ max        ┆ ts         ┆ Why the track started │\n",
       "└────────────┴────────────┴───────────────────────┘"
      ],
      "text/html": [
       "<div><style>\n",
       ".dataframe > thead > tr,\n",
       ".dataframe > tbody > tr {\n",
       "  text-align: right;\n",
       "  white-space: pre-wrap;\n",
       "}\n",
       "</style>\n",
       "<small>shape: (9, 3)</small><table border=\"1\" class=\"dataframe\"><thead><tr><th>statistic</th><th>Field</th><th>Description</th></tr><tr><td>str</td><td>str</td><td>str</td></tr></thead><tbody><tr><td>&quot;count&quot;</td><td>&quot;11&quot;</td><td>&quot;11&quot;</td></tr><tr><td>&quot;null_count&quot;</td><td>&quot;0&quot;</td><td>&quot;0&quot;</td></tr><tr><td>&quot;mean&quot;</td><td>null</td><td>null</td></tr><tr><td>&quot;std&quot;</td><td>null</td><td>null</td></tr><tr><td>&quot;min&quot;</td><td>&quot;album_name&quot;</td><td>&quot;Name of the album&quot;</td></tr><tr><td>&quot;25%&quot;</td><td>null</td><td>null</td></tr><tr><td>&quot;50%&quot;</td><td>null</td><td>null</td></tr><tr><td>&quot;75%&quot;</td><td>null</td><td>null</td></tr><tr><td>&quot;max&quot;</td><td>&quot;ts&quot;</td><td>&quot;Why the track started&quot;</td></tr></tbody></table></div>"
      ]
     },
     "execution_count": 22,
     "metadata": {},
     "output_type": "execute_result"
    }
   ],
   "execution_count": 22
  },
  {
   "metadata": {
    "ExecuteTime": {
     "end_time": "2025-08-03T17:24:59.148288Z",
     "start_time": "2025-08-03T17:24:59.143289Z"
    }
   },
   "cell_type": "code",
   "source": "spotify_data_dictionary_description_df",
   "id": "e0f101460c8c915c",
   "outputs": [
    {
     "data": {
      "text/plain": [
       "shape: (11, 2)\n",
       "┌───────────────────┬─────────────────────────────────┐\n",
       "│ Field             ┆ Description                     │\n",
       "│ ---               ┆ ---                             │\n",
       "│ str               ┆ str                             │\n",
       "╞═══════════════════╪═════════════════════════════════╡\n",
       "│ spotify_track_uri ┆ Spotify URI that uniquely iden… │\n",
       "│ ts                ┆ Timestamp indicating when the … │\n",
       "│ platform          ┆ Platform used when streaming t… │\n",
       "│ ms_played         ┆ Number of milliseconds the str… │\n",
       "│ track_name        ┆ Name of the track               │\n",
       "│ …                 ┆ …                               │\n",
       "│ album_name        ┆ Name of the album               │\n",
       "│ reason_start      ┆ Why the track started           │\n",
       "│ reason_end        ┆ Why the track ended             │\n",
       "│ shuffle           ┆ TRUE or FALSE depending on if … │\n",
       "│ skipped           ┆ TRUE of FALSE depending on if … │\n",
       "└───────────────────┴─────────────────────────────────┘"
      ],
      "text/html": [
       "<div><style>\n",
       ".dataframe > thead > tr,\n",
       ".dataframe > tbody > tr {\n",
       "  text-align: right;\n",
       "  white-space: pre-wrap;\n",
       "}\n",
       "</style>\n",
       "<small>shape: (11, 2)</small><table border=\"1\" class=\"dataframe\"><thead><tr><th>Field</th><th>Description</th></tr><tr><td>str</td><td>str</td></tr></thead><tbody><tr><td>&quot;spotify_track_uri&quot;</td><td>&quot;Spotify URI that uniquely iden…</td></tr><tr><td>&quot;ts&quot;</td><td>&quot;Timestamp indicating when the …</td></tr><tr><td>&quot;platform&quot;</td><td>&quot;Platform used when streaming t…</td></tr><tr><td>&quot;ms_played&quot;</td><td>&quot;Number of milliseconds the str…</td></tr><tr><td>&quot;track_name&quot;</td><td>&quot;Name of the track&quot;</td></tr><tr><td>&hellip;</td><td>&hellip;</td></tr><tr><td>&quot;album_name&quot;</td><td>&quot;Name of the album&quot;</td></tr><tr><td>&quot;reason_start&quot;</td><td>&quot;Why the track started&quot;</td></tr><tr><td>&quot;reason_end&quot;</td><td>&quot;Why the track ended&quot;</td></tr><tr><td>&quot;shuffle&quot;</td><td>&quot;TRUE or FALSE depending on if …</td></tr><tr><td>&quot;skipped&quot;</td><td>&quot;TRUE of FALSE depending on if …</td></tr></tbody></table></div>"
      ]
     },
     "execution_count": 23,
     "metadata": {},
     "output_type": "execute_result"
    }
   ],
   "execution_count": 23
  },
  {
   "metadata": {
    "ExecuteTime": {
     "end_time": "2025-08-03T17:32:15.580064Z",
     "start_time": "2025-08-03T17:32:15.058415Z"
    }
   },
   "cell_type": "code",
   "source": [
    "spotify_history_df.write_parquet(\n",
    "    r'D:\\Datasets\\Data Werehouse\\Top Spotify Listening History Songs in Countries\\spotify_history.parquet',\n",
    "    compression='zstd',\n",
    "    compression_level=22,\n",
    ")"
   ],
   "id": "5628f1669200eac0",
   "outputs": [],
   "execution_count": 27
  },
  {
   "metadata": {
    "ExecuteTime": {
     "end_time": "2025-08-03T17:32:34.775949Z",
     "start_time": "2025-08-03T17:32:34.769573Z"
    }
   },
   "cell_type": "code",
   "source": [
    "spotify_data_dictionary_description_df.write_parquet(\n",
    "    r'D:\\Datasets\\Data Werehouse\\Top Spotify Listening History Songs in Countries\\spotify_data_dictionary_description'\n",
    "    r'.parquet',\n",
    "    compression='zstd',\n",
    "    compression_level=22,\n",
    ")"
   ],
   "id": "c30d27411e852dbd",
   "outputs": [],
   "execution_count": 28
  },
  {
   "metadata": {},
   "cell_type": "markdown",
   "source": "# Data analysis",
   "id": "2c278275c43a35ee"
  },
  {
   "metadata": {},
   "cell_type": "code",
   "outputs": [],
   "execution_count": null,
   "source": "",
   "id": "bec44b799385d185"
  }
 ],
 "metadata": {
  "kernelspec": {
   "display_name": "Python 3",
   "language": "python",
   "name": "python3"
  },
  "language_info": {
   "codemirror_mode": {
    "name": "ipython",
    "version": 2
   },
   "file_extension": ".py",
   "mimetype": "text/x-python",
   "name": "python",
   "nbconvert_exporter": "python",
   "pygments_lexer": "ipython2",
   "version": "2.7.6"
  }
 },
 "nbformat": 4,
 "nbformat_minor": 5
}
