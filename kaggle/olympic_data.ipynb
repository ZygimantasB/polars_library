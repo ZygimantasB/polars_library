{
 "cells": [
  {
   "cell_type": "code",
   "id": "initial_id",
   "metadata": {
    "collapsed": true
   },
   "source": [
    "from dis import show_code\n",
    "\n",
    "import polars as pl\n",
    "import polars.selectors as cs\n",
    "\n",
    "import altair as alt\n",
    "import plotly.express as px\n",
    "import seaborn as sns\n",
    "import matplotlib.pyplot as plt\n",
    "from seaborn import color_palette\n",
    "\n",
    "import hvplot.polars\n",
    "\n",
    "import datetime as dt"
   ],
   "outputs": [],
   "execution_count": null
  },
  {
   "metadata": {},
   "cell_type": "code",
   "source": "athlete_events_path = r\"F:\\Datasets\\CSV datasets\\Olympic_Athletes\\athlete_events.csv\"",
   "id": "2eb501c5ac157886",
   "outputs": [],
   "execution_count": null
  },
  {
   "metadata": {},
   "cell_type": "code",
   "source": "df = pl.read_csv(athlete_events_path, null_values=\"NA\")",
   "id": "cba9bf44e9b1e5ad",
   "outputs": [],
   "execution_count": null
  },
  {
   "metadata": {},
   "cell_type": "code",
   "source": "df",
   "id": "ea1833f829bcebf2",
   "outputs": [],
   "execution_count": null
  },
  {
   "metadata": {},
   "cell_type": "code",
   "source": "df.collect_schema()",
   "id": "39ebf996468ae325",
   "outputs": [],
   "execution_count": null
  },
  {
   "metadata": {},
   "cell_type": "code",
   "source": [
    "df = df.with_columns(\n",
    "    pl.col('ID').cast(pl.UInt32),\n",
    "    pl.col('Age').cast(pl.UInt16),\n",
    "    pl.col('Height').cast(pl.Float32),\n",
    "    pl.col('Weight').cast(pl.Float32),\n",
    "    pl.col('Year').cast(pl.UInt16),\n",
    ")"
   ],
   "id": "924eac117c96733f",
   "outputs": [],
   "execution_count": null
  },
  {
   "metadata": {},
   "cell_type": "code",
   "source": "df.collect_schema()",
   "id": "937c2d1c95be88",
   "outputs": [],
   "execution_count": null
  },
  {
   "metadata": {},
   "cell_type": "code",
   "source": "df.estimated_size('mb')",
   "id": "2401f41e1faa03bd",
   "outputs": [],
   "execution_count": null
  },
  {
   "metadata": {},
   "cell_type": "code",
   "source": [
    "df.group_by(\n",
    "    'Year'\n",
    ").len().sort(by='len', descending=True)"
   ],
   "id": "f535598901d7c489",
   "outputs": [],
   "execution_count": null
  },
  {
   "metadata": {},
   "cell_type": "code",
   "source": [
    "df.group_by(\n",
    "    'Name', 'Team'\n",
    ").len().sort(by='len', descending=True)"
   ],
   "id": "b834955542ee3e89",
   "outputs": [],
   "execution_count": null
  },
  {
   "metadata": {},
   "cell_type": "code",
   "source": [
    "count_genre = df.group_by(\n",
    "    pl.col('Sex')\n",
    ").len()"
   ],
   "id": "2b05f6d7860aa23b",
   "outputs": [],
   "execution_count": null
  },
  {
   "metadata": {},
   "cell_type": "code",
   "source": [
    "plt.figure(figsize=(8, 8))\n",
    "plt.pie(count_genre['len'], labels=count_genre['Sex'], autopct='%1.1f%%')\n",
    "plt.title('Distribution of Athletes by Gender')\n",
    "plt.legend()\n",
    "plt.show()\n"
   ],
   "id": "3b3065eaf4656216",
   "outputs": [],
   "execution_count": null
  },
  {
   "metadata": {},
   "cell_type": "code",
   "source": [
    "fig = px.pie(\n",
    "    data_frame=count_genre,\n",
    "    values='len',\n",
    "    names='Sex',\n",
    "    title='Distribution of Athletes by Gender',\n",
    "    labels={'len': 'Count', 'Sex': 'Gender'}\n",
    ")\n",
    "\n",
    "fig.update_layout(\n",
    "    width=700,\n",
    "    height=700\n",
    ")"
   ],
   "id": "4846365039bf560d",
   "outputs": [],
   "execution_count": null
  },
  {
   "metadata": {},
   "cell_type": "code",
   "source": [
    "alt.Chart(count_genre).mark_arc(innerRadius=0).encode(\n",
    "    theta='len',\n",
    "    color='Sex',\n",
    "    tooltip=['Sex', 'len'],\n",
    ").properties(\n",
    "    title='Distribution of Athletes by Gender',\n",
    "    width=400,\n",
    "    height=400\n",
    ").configure_view(\n",
    "    strokeWidth=0\n",
    ").encode(\n",
    "    theta='len:Q',\n",
    "    text=alt.Text('len:Q', format='.1%')\n",
    ").mark_arc(innerRadius=0, padAngle=0.03).encode(\n",
    "    theta=alt.Theta(field='len', type='quantitative', stack=True),\n",
    "    text=alt.Text(field='len', format='.1%')\n",
    ").mark_arc(innerRadius=0, stroke=\"#fff\", padAngle=0.03).encode(\n",
    "    text=alt.Text(field='len', format=',d')\n",
    ")\n"
   ],
   "id": "e11920b124b2f251",
   "outputs": [],
   "execution_count": null
  },
  {
   "metadata": {},
   "cell_type": "code",
   "source": [
    "age_mean = df.group_by(\n",
    "    'Sex'\n",
    ").agg(\n",
    "    pl.mean('Age').round(2).alias('mean_age'),\n",
    ")\n",
    "\n",
    "age_mean"
   ],
   "id": "6c92a6cada5bc181",
   "outputs": [],
   "execution_count": null
  },
  {
   "metadata": {},
   "cell_type": "code",
   "source": [
    "plt.figure(figsize=(8, 8))\n",
    "plt.pie(age_mean['mean_age'], labels=['Male', 'Female'],\n",
    "        autopct=lambda p: f'{(p / 100) * sum(age_mean[\"mean_age\"]):.2f}')\n",
    "plt.title('Distribution of Athletes by Gender (Mean Age)')\n",
    "plt.legend()\n",
    "plt.show()\n"
   ],
   "id": "1197b44412e3ecdb",
   "outputs": [],
   "execution_count": null
  },
  {
   "metadata": {},
   "cell_type": "code",
   "source": [
    "fig = px.bar(\n",
    "    data_frame=age_mean,\n",
    "    x='Sex',\n",
    "    y='mean_age',\n",
    "    color='Sex',\n",
    "    text='mean_age'\n",
    ").update_traces(\n",
    "    textposition='outside'\n",
    ").update_layout(\n",
    "    width=700,\n",
    "    height=700\n",
    ")\n",
    "\n",
    "fig.show()\n"
   ],
   "id": "9294d30c0a9b359c",
   "outputs": [],
   "execution_count": null
  },
  {
   "metadata": {},
   "cell_type": "code",
   "source": [
    "df.group_by(\n",
    "    'Sex',\n",
    ").agg(\n",
    "    pl.mean('Height').round(2).alias('mean_height'),\n",
    ")"
   ],
   "id": "f34177062aec8296",
   "outputs": [],
   "execution_count": null
  },
  {
   "metadata": {},
   "cell_type": "code",
   "source": [
    "df.group_by(\n",
    "    'Team'\n",
    ").len().sort(by='len', descending=True)"
   ],
   "id": "3cfedc7bed2f34e1",
   "outputs": [],
   "execution_count": null
  },
  {
   "metadata": {},
   "cell_type": "code",
   "source": [
    "df.group_by(\n",
    "    'Team', \"Sex\"\n",
    ").len().sort(by='len', descending=True)"
   ],
   "id": "7b81b75fac0808f5",
   "outputs": [],
   "execution_count": null
  },
  {
   "metadata": {},
   "cell_type": "code",
   "source": [
    "gold_medal = df.filter(\n",
    "    pl.col('Medal') == 'Gold'\n",
    ")\n",
    "\n",
    "top_10_gold_winners = gold_medal.group_by(\n",
    "    'Team'\n",
    ").len().sort(by='len', descending=True).head(10)\n",
    "\n",
    "top_10_gold_winners"
   ],
   "id": "3896d0f5543ea544",
   "outputs": [],
   "execution_count": null
  },
  {
   "metadata": {},
   "cell_type": "code",
   "source": [
    "plt.figure(figsize=(10, 8))\n",
    "\n",
    "legend_labels = [f\"{team}: {count}\" for team, count in zip(top_10_gold_winners['Team'], top_10_gold_winners['len'])]\n",
    "\n",
    "plt.pie(top_10_gold_winners['len'], labels=top_10_gold_winners['Team'], autopct='%1.1f%%')\n",
    "\n",
    "plt.legend(legend_labels, bbox_to_anchor=(1.05, 1), loc='upper left', borderaxespad=0.)\n",
    "plt.title('Top 10 Gold Medal Winners by Team')\n",
    "plt.show()"
   ],
   "id": "bee300361513bac5",
   "outputs": [],
   "execution_count": null
  },
  {
   "metadata": {},
   "cell_type": "code",
   "source": [
    "plt.figure(figsize=(10, 6), dpi=133)\n",
    "\n",
    "palette = color_palette(\"Set2\", len(top_10_gold_winners))\n",
    "colors = palette.as_hex()\n",
    "\n",
    "bars = plt.barh(top_10_gold_winners['Team'], top_10_gold_winners['len'], color=colors)\n",
    "legend_labels = [f'{row['Team']} ({row['len']})' for _, row in top_10_gold_winners.to_pandas().iterrows()]\n",
    "plt.legend(bars, legend_labels, bbox_to_anchor=(1.05, 1), loc='upper left', borderaxespad=0.)\n",
    "plt.title('Top 10 Gold Medal Winners by Team')\n",
    "plt.xlabel('Count')\n",
    "plt.ylabel('Team')\n",
    "plt.show()"
   ],
   "id": "8ed69cb8952d9de4",
   "outputs": [],
   "execution_count": null
  },
  {
   "metadata": {},
   "cell_type": "code",
   "source": [
    "top_10_silver_medal = df.filter(\n",
    "    pl.col('Medal') == 'Silver'\n",
    ").group_by(\n",
    "    'Team'\n",
    ").len().sort(by='len', descending=True).head(10)\n",
    "\n",
    "top_10_silver_medal"
   ],
   "id": "231e284843d32fdd",
   "outputs": [],
   "execution_count": null
  },
  {
   "metadata": {},
   "cell_type": "code",
   "source": [
    "fig = px.pie(\n",
    "    data_frame=top_10_silver_medal,\n",
    "    values='len',\n",
    "    names='Team',\n",
    "    title='Top 10 Silver Medal Winners by Team'\n",
    ")\n",
    "\n",
    "fig.update_layout(\n",
    "    width=700,\n",
    "    height=700\n",
    ")\n",
    "\n",
    "fig.show()"
   ],
   "id": "cd14a5b3983952a3",
   "outputs": [],
   "execution_count": null
  },
  {
   "metadata": {},
   "cell_type": "code",
   "source": [
    "fig = px.bar(\n",
    "    data_frame=top_10_silver_medal,\n",
    "    x='Team',\n",
    "    y='len',\n",
    "    color='Team',\n",
    "    text='len'\n",
    ")\n",
    "\n",
    "fig.update_layout(\n",
    "    width=900,\n",
    "    height=700\n",
    ")\n",
    "\n",
    "fig.show()"
   ],
   "id": "6ce6978c77e1b80e",
   "outputs": [],
   "execution_count": null
  },
  {
   "metadata": {},
   "cell_type": "code",
   "source": [
    "bronze_top_10_winners = df.filter(\n",
    "    pl.col('Medal') == 'Bronze'\n",
    ").group_by(\n",
    "    'Team'\n",
    ").len().sort(by='len', descending=True).head(10)\n",
    "\n",
    "bronze_top_10_winners"
   ],
   "id": "7b4ee60b7582ac8f",
   "outputs": [],
   "execution_count": null
  },
  {
   "metadata": {},
   "cell_type": "code",
   "source": [
    "alt.Chart(bronze_top_10_winners).mark_bar().encode(\n",
    "    x='Team',\n",
    "    y='len',\n",
    "    tooltip=['Team', 'len']\n",
    ").properties(\n",
    "    width=600,\n",
    "    height=600\n",
    ").interactive()\n"
   ],
   "id": "78d6aef31f80ba0",
   "outputs": [],
   "execution_count": null
  }
 ],
 "metadata": {
  "kernelspec": {
   "display_name": "Python 3",
   "language": "python",
   "name": "python3"
  },
  "language_info": {
   "codemirror_mode": {
    "name": "ipython",
    "version": 2
   },
   "file_extension": ".py",
   "mimetype": "text/x-python",
   "name": "python",
   "nbconvert_exporter": "python",
   "pygments_lexer": "ipython2",
   "version": "2.7.6"
  }
 },
 "nbformat": 4,
 "nbformat_minor": 5
}
