{
 "cells": [
  {
   "cell_type": "code",
   "id": "initial_id",
   "metadata": {
    "collapsed": true,
    "ExecuteTime": {
     "end_time": "2024-11-22T20:08:29.921554Z",
     "start_time": "2024-11-22T20:08:29.364192Z"
    }
   },
   "source": [
    "import pandas as pd\n",
    "import polars as pl\n",
    "import numpy as np\n",
    "import seaborn as sns\n",
    "import matplotlib.pyplot as plt\n",
    "import plotly.express as px"
   ],
   "outputs": [],
   "execution_count": 1
  },
  {
   "metadata": {
    "ExecuteTime": {
     "end_time": "2024-11-22T20:08:42.241533Z",
     "start_time": "2024-11-22T20:08:42.238461Z"
    }
   },
   "cell_type": "code",
   "source": "df_path = r\"C:\\Users\\Zygim\\Downloads\\archive (6)\\sp500_stocks.csv\"",
   "id": "13057a8b7a8b1d2f",
   "outputs": [],
   "execution_count": 2
  },
  {
   "metadata": {
    "ExecuteTime": {
     "end_time": "2024-11-22T20:11:32.926050Z",
     "start_time": "2024-11-22T20:11:32.923273Z"
    }
   },
   "cell_type": "code",
   "source": "df_companies_data = r\"C:\\Users\\Zygim\\Downloads\\archive (6)\\sp500_companies.csv\"",
   "id": "3a63414d83213aac",
   "outputs": [],
   "execution_count": 7
  },
  {
   "metadata": {
    "ExecuteTime": {
     "end_time": "2024-11-22T20:11:33.549787Z",
     "start_time": "2024-11-22T20:11:33.445175Z"
    }
   },
   "cell_type": "code",
   "source": "df = pl.read_csv(df_path, ignore_errors=True)",
   "id": "20f08fa278c8b52d",
   "outputs": [],
   "execution_count": 8
  },
  {
   "metadata": {
    "ExecuteTime": {
     "end_time": "2024-11-22T20:12:14.175234Z",
     "start_time": "2024-11-22T20:12:14.166760Z"
    }
   },
   "cell_type": "code",
   "source": "df_companies = pl.read_csv(df_companies_data)",
   "id": "85ab5f01238b30d6",
   "outputs": [],
   "execution_count": 10
  },
  {
   "metadata": {
    "ExecuteTime": {
     "end_time": "2024-11-22T20:16:34.654534Z",
     "start_time": "2024-11-22T20:16:34.517407Z"
    }
   },
   "cell_type": "code",
   "source": "combined_data = df.join(df_companies, how='inner', on='Symbol')",
   "id": "b4b68f657a25503",
   "outputs": [],
   "execution_count": 16
  },
  {
   "metadata": {
    "ExecuteTime": {
     "end_time": "2024-11-22T20:16:37.599361Z",
     "start_time": "2024-11-22T20:16:37.592951Z"
    }
   },
   "cell_type": "code",
   "source": "combined_data",
   "id": "837b2d5a535f7b59",
   "outputs": [
    {
     "data": {
      "text/plain": [
       "shape: (1_885_244, 23)\n",
       "┌────────────┬────────┬────────────┬────────────┬───┬───────────┬───────────┬───────────┬──────────┐\n",
       "│ Date       ┆ Symbol ┆ Adj Close  ┆ Close      ┆ … ┆ Country   ┆ Fulltimee ┆ Longbusin ┆ Weight   │\n",
       "│ ---        ┆ ---    ┆ ---        ┆ ---        ┆   ┆ ---       ┆ mployees  ┆ esssummar ┆ ---      │\n",
       "│ str        ┆ str    ┆ f64        ┆ f64        ┆   ┆ str       ┆ ---       ┆ y         ┆ f64      │\n",
       "│            ┆        ┆            ┆            ┆   ┆           ┆ i64       ┆ ---       ┆          │\n",
       "│            ┆        ┆            ┆            ┆   ┆           ┆           ┆ str       ┆          │\n",
       "╞════════════╪════════╪════════════╪════════════╪═══╪═══════════╪═══════════╪═══════════╪══════════╡\n",
       "│ 2010-01-04 ┆ MMM    ┆ 43.783867  ┆ 69.414719  ┆ … ┆ United    ┆ 85000     ┆ 3M        ┆ 0.001251 │\n",
       "│            ┆        ┆            ┆            ┆   ┆ States    ┆           ┆ Company   ┆          │\n",
       "│            ┆        ┆            ┆            ┆   ┆           ┆           ┆ provides  ┆          │\n",
       "│            ┆        ┆            ┆            ┆   ┆           ┆           ┆ diversifi ┆          │\n",
       "│            ┆        ┆            ┆            ┆   ┆           ┆           ┆ e…        ┆          │\n",
       "│ 2010-01-05 ┆ MMM    ┆ 43.509636  ┆ 68.979935  ┆ … ┆ United    ┆ 85000     ┆ 3M        ┆ 0.001251 │\n",
       "│            ┆        ┆            ┆            ┆   ┆ States    ┆           ┆ Company   ┆          │\n",
       "│            ┆        ┆            ┆            ┆   ┆           ┆           ┆ provides  ┆          │\n",
       "│            ┆        ┆            ┆            ┆   ┆           ┆           ┆ diversifi ┆          │\n",
       "│            ┆        ┆            ┆            ┆   ┆           ┆           ┆ e…        ┆          │\n",
       "│ 2010-01-06 ┆ MMM    ┆ 44.126671  ┆ 69.958191  ┆ … ┆ United    ┆ 85000     ┆ 3M        ┆ 0.001251 │\n",
       "│            ┆        ┆            ┆            ┆   ┆ States    ┆           ┆ Company   ┆          │\n",
       "│            ┆        ┆            ┆            ┆   ┆           ┆           ┆ provides  ┆          │\n",
       "│            ┆        ┆            ┆            ┆   ┆           ┆           ┆ diversifi ┆          │\n",
       "│            ┆        ┆            ┆            ┆   ┆           ┆           ┆ e…        ┆          │\n",
       "│ 2010-01-07 ┆ MMM    ┆ 44.158314  ┆ 70.008362  ┆ … ┆ United    ┆ 85000     ┆ 3M        ┆ 0.001251 │\n",
       "│            ┆        ┆            ┆            ┆   ┆ States    ┆           ┆ Company   ┆          │\n",
       "│            ┆        ┆            ┆            ┆   ┆           ┆           ┆ provides  ┆          │\n",
       "│            ┆        ┆            ┆            ┆   ┆           ┆           ┆ diversifi ┆          │\n",
       "│            ┆        ┆            ┆            ┆   ┆           ┆           ┆ e…        ┆          │\n",
       "│ 2010-01-08 ┆ MMM    ┆ 44.469467  ┆ 70.501671  ┆ … ┆ United    ┆ 85000     ┆ 3M        ┆ 0.001251 │\n",
       "│            ┆        ┆            ┆            ┆   ┆ States    ┆           ┆ Company   ┆          │\n",
       "│            ┆        ┆            ┆            ┆   ┆           ┆           ┆ provides  ┆          │\n",
       "│            ┆        ┆            ┆            ┆   ┆           ┆           ┆ diversifi ┆          │\n",
       "│            ┆        ┆            ┆            ┆   ┆           ┆           ┆ e…        ┆          │\n",
       "│ …          ┆ …      ┆ …          ┆ …          ┆ … ┆ …         ┆ …         ┆ …         ┆ …        │\n",
       "│ 2024-11-15 ┆ ZTS    ┆ 175.139999 ┆ 175.139999 ┆ … ┆ United    ┆ 14100     ┆ Zoetis    ┆ 0.001439 │\n",
       "│            ┆        ┆            ┆            ┆   ┆ States    ┆           ┆ Inc.      ┆          │\n",
       "│            ┆        ┆            ┆            ┆   ┆           ┆           ┆ engages   ┆          │\n",
       "│            ┆        ┆            ┆            ┆   ┆           ┆           ┆ in the    ┆          │\n",
       "│            ┆        ┆            ┆            ┆   ┆           ┆           ┆ dis…      ┆          │\n",
       "│ 2024-11-18 ┆ ZTS    ┆ 176.419998 ┆ 176.419998 ┆ … ┆ United    ┆ 14100     ┆ Zoetis    ┆ 0.001439 │\n",
       "│            ┆        ┆            ┆            ┆   ┆ States    ┆           ┆ Inc.      ┆          │\n",
       "│            ┆        ┆            ┆            ┆   ┆           ┆           ┆ engages   ┆          │\n",
       "│            ┆        ┆            ┆            ┆   ┆           ┆           ┆ in the    ┆          │\n",
       "│            ┆        ┆            ┆            ┆   ┆           ┆           ┆ dis…      ┆          │\n",
       "│ 2024-11-19 ┆ ZTS    ┆ 175.559998 ┆ 175.559998 ┆ … ┆ United    ┆ 14100     ┆ Zoetis    ┆ 0.001439 │\n",
       "│            ┆        ┆            ┆            ┆   ┆ States    ┆           ┆ Inc.      ┆          │\n",
       "│            ┆        ┆            ┆            ┆   ┆           ┆           ┆ engages   ┆          │\n",
       "│            ┆        ┆            ┆            ┆   ┆           ┆           ┆ in the    ┆          │\n",
       "│            ┆        ┆            ┆            ┆   ┆           ┆           ┆ dis…      ┆          │\n",
       "│ 2024-11-20 ┆ ZTS    ┆ 175.669998 ┆ 175.669998 ┆ … ┆ United    ┆ 14100     ┆ Zoetis    ┆ 0.001439 │\n",
       "│            ┆        ┆            ┆            ┆   ┆ States    ┆           ┆ Inc.      ┆          │\n",
       "│            ┆        ┆            ┆            ┆   ┆           ┆           ┆ engages   ┆          │\n",
       "│            ┆        ┆            ┆            ┆   ┆           ┆           ┆ in the    ┆          │\n",
       "│            ┆        ┆            ┆            ┆   ┆           ┆           ┆ dis…      ┆          │\n",
       "│ 2024-11-21 ┆ ZTS    ┆ 176.710007 ┆ 176.710007 ┆ … ┆ United    ┆ 14100     ┆ Zoetis    ┆ 0.001439 │\n",
       "│            ┆        ┆            ┆            ┆   ┆ States    ┆           ┆ Inc.      ┆          │\n",
       "│            ┆        ┆            ┆            ┆   ┆           ┆           ┆ engages   ┆          │\n",
       "│            ┆        ┆            ┆            ┆   ┆           ┆           ┆ in the    ┆          │\n",
       "│            ┆        ┆            ┆            ┆   ┆           ┆           ┆ dis…      ┆          │\n",
       "└────────────┴────────┴────────────┴────────────┴───┴───────────┴───────────┴───────────┴──────────┘"
      ],
      "text/html": [
       "<div><style>\n",
       ".dataframe > thead > tr,\n",
       ".dataframe > tbody > tr {\n",
       "  text-align: right;\n",
       "  white-space: pre-wrap;\n",
       "}\n",
       "</style>\n",
       "<small>shape: (1_885_244, 23)</small><table border=\"1\" class=\"dataframe\"><thead><tr><th>Date</th><th>Symbol</th><th>Adj Close</th><th>Close</th><th>High</th><th>Low</th><th>Open</th><th>Volume</th><th>Exchange</th><th>Shortname</th><th>Longname</th><th>Sector</th><th>Industry</th><th>Currentprice</th><th>Marketcap</th><th>Ebitda</th><th>Revenuegrowth</th><th>City</th><th>State</th><th>Country</th><th>Fulltimeemployees</th><th>Longbusinesssummary</th><th>Weight</th></tr><tr><td>str</td><td>str</td><td>f64</td><td>f64</td><td>f64</td><td>f64</td><td>f64</td><td>i64</td><td>str</td><td>str</td><td>str</td><td>str</td><td>str</td><td>f64</td><td>i64</td><td>i64</td><td>f64</td><td>str</td><td>str</td><td>str</td><td>i64</td><td>str</td><td>f64</td></tr></thead><tbody><tr><td>&quot;2010-01-04&quot;</td><td>&quot;MMM&quot;</td><td>43.783867</td><td>69.414719</td><td>69.774246</td><td>69.12207</td><td>69.473244</td><td>3640265</td><td>&quot;NYQ&quot;</td><td>&quot;3M Company&quot;</td><td>&quot;3M Company&quot;</td><td>&quot;Industrials&quot;</td><td>&quot;Conglomerates&quot;</td><td>127.32</td><td>69333245952</td><td>8117000192</td><td>0.004</td><td>&quot;Saint Paul&quot;</td><td>&quot;MN&quot;</td><td>&quot;United States&quot;</td><td>85000</td><td>&quot;3M Company provides diversifie…</td><td>0.001251</td></tr><tr><td>&quot;2010-01-05&quot;</td><td>&quot;MMM&quot;</td><td>43.509636</td><td>68.979935</td><td>69.590302</td><td>68.311035</td><td>69.230766</td><td>3405012</td><td>&quot;NYQ&quot;</td><td>&quot;3M Company&quot;</td><td>&quot;3M Company&quot;</td><td>&quot;Industrials&quot;</td><td>&quot;Conglomerates&quot;</td><td>127.32</td><td>69333245952</td><td>8117000192</td><td>0.004</td><td>&quot;Saint Paul&quot;</td><td>&quot;MN&quot;</td><td>&quot;United States&quot;</td><td>85000</td><td>&quot;3M Company provides diversifie…</td><td>0.001251</td></tr><tr><td>&quot;2010-01-06&quot;</td><td>&quot;MMM&quot;</td><td>44.126671</td><td>69.958191</td><td>70.735786</td><td>69.824417</td><td>70.133781</td><td>6301126</td><td>&quot;NYQ&quot;</td><td>&quot;3M Company&quot;</td><td>&quot;3M Company&quot;</td><td>&quot;Industrials&quot;</td><td>&quot;Conglomerates&quot;</td><td>127.32</td><td>69333245952</td><td>8117000192</td><td>0.004</td><td>&quot;Saint Paul&quot;</td><td>&quot;MN&quot;</td><td>&quot;United States&quot;</td><td>85000</td><td>&quot;3M Company provides diversifie…</td><td>0.001251</td></tr><tr><td>&quot;2010-01-07&quot;</td><td>&quot;MMM&quot;</td><td>44.158314</td><td>70.008362</td><td>70.033447</td><td>68.662209</td><td>69.66555</td><td>5346240</td><td>&quot;NYQ&quot;</td><td>&quot;3M Company&quot;</td><td>&quot;3M Company&quot;</td><td>&quot;Industrials&quot;</td><td>&quot;Conglomerates&quot;</td><td>127.32</td><td>69333245952</td><td>8117000192</td><td>0.004</td><td>&quot;Saint Paul&quot;</td><td>&quot;MN&quot;</td><td>&quot;United States&quot;</td><td>85000</td><td>&quot;3M Company provides diversifie…</td><td>0.001251</td></tr><tr><td>&quot;2010-01-08&quot;</td><td>&quot;MMM&quot;</td><td>44.469467</td><td>70.501671</td><td>70.501671</td><td>69.648827</td><td>69.974915</td><td>4073337</td><td>&quot;NYQ&quot;</td><td>&quot;3M Company&quot;</td><td>&quot;3M Company&quot;</td><td>&quot;Industrials&quot;</td><td>&quot;Conglomerates&quot;</td><td>127.32</td><td>69333245952</td><td>8117000192</td><td>0.004</td><td>&quot;Saint Paul&quot;</td><td>&quot;MN&quot;</td><td>&quot;United States&quot;</td><td>85000</td><td>&quot;3M Company provides diversifie…</td><td>0.001251</td></tr><tr><td>&hellip;</td><td>&hellip;</td><td>&hellip;</td><td>&hellip;</td><td>&hellip;</td><td>&hellip;</td><td>&hellip;</td><td>&hellip;</td><td>&hellip;</td><td>&hellip;</td><td>&hellip;</td><td>&hellip;</td><td>&hellip;</td><td>&hellip;</td><td>&hellip;</td><td>&hellip;</td><td>&hellip;</td><td>&hellip;</td><td>&hellip;</td><td>&hellip;</td><td>&hellip;</td><td>&hellip;</td><td>&hellip;</td></tr><tr><td>&quot;2024-11-15&quot;</td><td>&quot;ZTS&quot;</td><td>175.139999</td><td>175.139999</td><td>177.070007</td><td>170.75</td><td>173.0</td><td>null</td><td>&quot;NYQ&quot;</td><td>&quot;Zoetis Inc.&quot;</td><td>&quot;Zoetis Inc.&quot;</td><td>&quot;Healthcare&quot;</td><td>&quot;Drug Manufacturers - Specialty…</td><td>176.71</td><td>79725371392</td><td>3764000000</td><td>0.11</td><td>&quot;Parsippany&quot;</td><td>&quot;NJ&quot;</td><td>&quot;United States&quot;</td><td>14100</td><td>&quot;Zoetis Inc. engages in the dis…</td><td>0.001439</td></tr><tr><td>&quot;2024-11-18&quot;</td><td>&quot;ZTS&quot;</td><td>176.419998</td><td>176.419998</td><td>177.199997</td><td>173.660004</td><td>174.130005</td><td>null</td><td>&quot;NYQ&quot;</td><td>&quot;Zoetis Inc.&quot;</td><td>&quot;Zoetis Inc.&quot;</td><td>&quot;Healthcare&quot;</td><td>&quot;Drug Manufacturers - Specialty…</td><td>176.71</td><td>79725371392</td><td>3764000000</td><td>0.11</td><td>&quot;Parsippany&quot;</td><td>&quot;NJ&quot;</td><td>&quot;United States&quot;</td><td>14100</td><td>&quot;Zoetis Inc. engages in the dis…</td><td>0.001439</td></tr><tr><td>&quot;2024-11-19&quot;</td><td>&quot;ZTS&quot;</td><td>175.559998</td><td>175.559998</td><td>176.5</td><td>173.240005</td><td>174.880005</td><td>null</td><td>&quot;NYQ&quot;</td><td>&quot;Zoetis Inc.&quot;</td><td>&quot;Zoetis Inc.&quot;</td><td>&quot;Healthcare&quot;</td><td>&quot;Drug Manufacturers - Specialty…</td><td>176.71</td><td>79725371392</td><td>3764000000</td><td>0.11</td><td>&quot;Parsippany&quot;</td><td>&quot;NJ&quot;</td><td>&quot;United States&quot;</td><td>14100</td><td>&quot;Zoetis Inc. engages in the dis…</td><td>0.001439</td></tr><tr><td>&quot;2024-11-20&quot;</td><td>&quot;ZTS&quot;</td><td>175.669998</td><td>175.669998</td><td>177.410004</td><td>173.830002</td><td>176.419998</td><td>null</td><td>&quot;NYQ&quot;</td><td>&quot;Zoetis Inc.&quot;</td><td>&quot;Zoetis Inc.&quot;</td><td>&quot;Healthcare&quot;</td><td>&quot;Drug Manufacturers - Specialty…</td><td>176.71</td><td>79725371392</td><td>3764000000</td><td>0.11</td><td>&quot;Parsippany&quot;</td><td>&quot;NJ&quot;</td><td>&quot;United States&quot;</td><td>14100</td><td>&quot;Zoetis Inc. engages in the dis…</td><td>0.001439</td></tr><tr><td>&quot;2024-11-21&quot;</td><td>&quot;ZTS&quot;</td><td>176.710007</td><td>176.710007</td><td>177.660004</td><td>174.550003</td><td>175.699997</td><td>null</td><td>&quot;NYQ&quot;</td><td>&quot;Zoetis Inc.&quot;</td><td>&quot;Zoetis Inc.&quot;</td><td>&quot;Healthcare&quot;</td><td>&quot;Drug Manufacturers - Specialty…</td><td>176.71</td><td>79725371392</td><td>3764000000</td><td>0.11</td><td>&quot;Parsippany&quot;</td><td>&quot;NJ&quot;</td><td>&quot;United States&quot;</td><td>14100</td><td>&quot;Zoetis Inc. engages in the dis…</td><td>0.001439</td></tr></tbody></table></div>"
      ]
     },
     "execution_count": 17,
     "metadata": {},
     "output_type": "execute_result"
    }
   ],
   "execution_count": 17
  },
  {
   "metadata": {
    "ExecuteTime": {
     "end_time": "2024-11-22T20:19:36.390393Z",
     "start_time": "2024-11-22T20:19:36.386013Z"
    }
   },
   "cell_type": "code",
   "source": "combined_data.schema",
   "id": "33c440479bc643a",
   "outputs": [
    {
     "data": {
      "text/plain": [
       "Schema([('Date', String),\n",
       "        ('Symbol', String),\n",
       "        ('Adj Close', Float64),\n",
       "        ('Close', Float64),\n",
       "        ('High', Float64),\n",
       "        ('Low', Float64),\n",
       "        ('Open', Float64),\n",
       "        ('Volume', Int64),\n",
       "        ('Exchange', String),\n",
       "        ('Shortname', String),\n",
       "        ('Longname', String),\n",
       "        ('Sector', String),\n",
       "        ('Industry', String),\n",
       "        ('Currentprice', Float64),\n",
       "        ('Marketcap', Int64),\n",
       "        ('Ebitda', Int64),\n",
       "        ('Revenuegrowth', Float64),\n",
       "        ('City', String),\n",
       "        ('State', String),\n",
       "        ('Country', String),\n",
       "        ('Fulltimeemployees', Int64),\n",
       "        ('Longbusinesssummary', String),\n",
       "        ('Weight', Float64)])"
      ]
     },
     "execution_count": 19,
     "metadata": {},
     "output_type": "execute_result"
    }
   ],
   "execution_count": 19
  },
  {
   "metadata": {
    "ExecuteTime": {
     "end_time": "2024-11-22T20:25:36.308621Z",
     "start_time": "2024-11-22T20:25:36.274938Z"
    }
   },
   "cell_type": "code",
   "source": [
    "combined_data.group_by(\n",
    "    pl.col(['Sector', 'Longname'])\n",
    ").agg(\n",
    "    pl.sum('Marketcap').alias('SumMarketcap')\n",
    ").sort('SumMarketcap', descending=True)"
   ],
   "id": "83947e8b13acc1c3",
   "outputs": [
    {
     "data": {
      "text/plain": [
       "shape: (500, 3)\n",
       "┌────────────────────────┬────────────────────────────────┬───────────────────┐\n",
       "│ Sector                 ┆ Longname                       ┆ SumMarketcap      │\n",
       "│ ---                    ┆ ---                            ┆ ---               │\n",
       "│ str                    ┆ str                            ┆ i64               │\n",
       "╞════════════════════════╪════════════════════════════════╪═══════════════════╡\n",
       "│ Communication Services ┆ Alphabet Inc.                  ┆ 15449637580701696 │\n",
       "│ Technology             ┆ NVIDIA Corporation             ┆ 13484610578022400 │\n",
       "│ Technology             ┆ Apple Inc.                     ┆ 12946576131489792 │\n",
       "│ Technology             ┆ Microsoft Corporation          ┆ 11505006480982016 │\n",
       "│ Consumer Cyclical      ┆ Amazon.com, Inc.               ┆ 7818199785537536  │\n",
       "│ …                      ┆ …                              ┆ …                 │\n",
       "│ Consumer Cyclical      ┆ BorgWarner Inc.                ┆ 27672652896256    │\n",
       "│ Basic Materials        ┆ FMC Corporation                ┆ 27291751512064    │\n",
       "│ Healthcare             ┆ Walgreens Boots Alliance, Inc. ┆ 26896853116928    │\n",
       "│ Technology             ┆ Qorvo, Inc.                    ┆ 24045396785152    │\n",
       "│ Industrials            ┆ Amentum Holdings, Inc.         ┆ 22578543044608    │\n",
       "└────────────────────────┴────────────────────────────────┴───────────────────┘"
      ],
      "text/html": [
       "<div><style>\n",
       ".dataframe > thead > tr,\n",
       ".dataframe > tbody > tr {\n",
       "  text-align: right;\n",
       "  white-space: pre-wrap;\n",
       "}\n",
       "</style>\n",
       "<small>shape: (500, 3)</small><table border=\"1\" class=\"dataframe\"><thead><tr><th>Sector</th><th>Longname</th><th>SumMarketcap</th></tr><tr><td>str</td><td>str</td><td>i64</td></tr></thead><tbody><tr><td>&quot;Communication Services&quot;</td><td>&quot;Alphabet Inc.&quot;</td><td>15449637580701696</td></tr><tr><td>&quot;Technology&quot;</td><td>&quot;NVIDIA Corporation&quot;</td><td>13484610578022400</td></tr><tr><td>&quot;Technology&quot;</td><td>&quot;Apple Inc.&quot;</td><td>12946576131489792</td></tr><tr><td>&quot;Technology&quot;</td><td>&quot;Microsoft Corporation&quot;</td><td>11505006480982016</td></tr><tr><td>&quot;Consumer Cyclical&quot;</td><td>&quot;Amazon.com, Inc.&quot;</td><td>7818199785537536</td></tr><tr><td>&hellip;</td><td>&hellip;</td><td>&hellip;</td></tr><tr><td>&quot;Consumer Cyclical&quot;</td><td>&quot;BorgWarner Inc.&quot;</td><td>27672652896256</td></tr><tr><td>&quot;Basic Materials&quot;</td><td>&quot;FMC Corporation&quot;</td><td>27291751512064</td></tr><tr><td>&quot;Healthcare&quot;</td><td>&quot;Walgreens Boots Alliance, Inc.&quot;</td><td>26896853116928</td></tr><tr><td>&quot;Technology&quot;</td><td>&quot;Qorvo, Inc.&quot;</td><td>24045396785152</td></tr><tr><td>&quot;Industrials&quot;</td><td>&quot;Amentum Holdings, Inc.&quot;</td><td>22578543044608</td></tr></tbody></table></div>"
      ]
     },
     "execution_count": 27,
     "metadata": {},
     "output_type": "execute_result"
    }
   ],
   "execution_count": 27
  }
 ],
 "metadata": {
  "kernelspec": {
   "display_name": "Python 3",
   "language": "python",
   "name": "python3"
  },
  "language_info": {
   "codemirror_mode": {
    "name": "ipython",
    "version": 2
   },
   "file_extension": ".py",
   "mimetype": "text/x-python",
   "name": "python",
   "nbconvert_exporter": "python",
   "pygments_lexer": "ipython2",
   "version": "2.7.6"
  }
 },
 "nbformat": 4,
 "nbformat_minor": 5
}
