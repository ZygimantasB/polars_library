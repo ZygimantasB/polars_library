{
 "cells": [
  {
   "metadata": {},
   "cell_type": "markdown",
   "source": "# https://www.kaggle.com/datasets/marawanxmamdouh/email-thread-summary-dataset",
   "id": "39425e13b5728b01"
  },
  {
   "cell_type": "code",
   "id": "initial_id",
   "metadata": {
    "collapsed": true,
    "ExecuteTime": {
     "end_time": "2024-12-17T18:36:59.329845Z",
     "start_time": "2024-12-17T18:36:59.011237Z"
    }
   },
   "source": [
    "import polars as pl\n",
    "import numpy as np\n",
    "import matplotlib.pyplot as plt\n",
    "import seaborn as sns\n",
    "import plotly.express as px\n",
    "import datetime as dt"
   ],
   "outputs": [],
   "execution_count": 1
  },
  {
   "metadata": {
    "ExecuteTime": {
     "end_time": "2024-12-17T18:36:59.377211Z",
     "start_time": "2024-12-17T18:36:59.374338Z"
    }
   },
   "cell_type": "code",
   "source": "data_path = r\"C:\\Users\\Zygim\\Downloads\\archive (10)\\JSON\\email_thread_details.json\"",
   "id": "c7938fe173d8a212",
   "outputs": [],
   "execution_count": 2
  },
  {
   "metadata": {
    "ExecuteTime": {
     "end_time": "2024-12-17T18:36:59.598664Z",
     "start_time": "2024-12-17T18:36:59.488196Z"
    }
   },
   "cell_type": "code",
   "source": "df_lazy = pl.read_json(data_path).lazy()",
   "id": "b9fb35d044fec574",
   "outputs": [],
   "execution_count": 3
  },
  {
   "metadata": {
    "ExecuteTime": {
     "end_time": "2024-12-17T18:36:59.612445Z",
     "start_time": "2024-12-17T18:36:59.602180Z"
    }
   },
   "cell_type": "code",
   "source": "df = df_lazy.collect()",
   "id": "d7a6f447afd0ad86",
   "outputs": [],
   "execution_count": 4
  },
  {
   "metadata": {
    "ExecuteTime": {
     "end_time": "2024-12-17T18:36:59.644040Z",
     "start_time": "2024-12-17T18:36:59.624488Z"
    }
   },
   "cell_type": "code",
   "source": [
    "df.with_columns(\n",
    "    pl.col('timestamp').cast(pl.Datetime('ms')).alias('date')\n",
    ")"
   ],
   "id": "83d43dc7bcfa7a21",
   "outputs": [
    {
     "data": {
      "text/plain": [
       "shape: (21_684, 7)\n",
       "┌───────────┬──────────────┬──────────────┬──────────────┬─────────────┬─────────────┬─────────────┐\n",
       "│ thread_id ┆ subject      ┆ timestamp    ┆ from         ┆ to          ┆ body        ┆ date        │\n",
       "│ ---       ┆ ---          ┆ ---          ┆ ---          ┆ ---         ┆ ---         ┆ ---         │\n",
       "│ i64       ┆ str          ┆ i64          ┆ str          ┆ list[str]   ┆ str         ┆ datetime[ms │\n",
       "│           ┆              ┆              ┆              ┆             ┆             ┆ ]           │\n",
       "╞═══════════╪══════════════╪══════════════╪══════════════╪═════════════╪═════════════╪═════════════╡\n",
       "│ 1         ┆ FW: Master   ┆ 101230342200 ┆ Gossett,     ┆ [\"Giron\",   ┆             ┆ 2002-01-29  │\n",
       "│           ┆ Termination  ┆ 0            ┆ Jeffrey C.   ┆ \"Darron C.  ┆             ┆ 11:23:42    │\n",
       "│           ┆ Log          ┆              ┆ JGOSSET      ┆ Dgiron\", …  ┆ -----Origin ┆             │\n",
       "│           ┆              ┆              ┆              ┆             ┆ al Message- ┆             │\n",
       "│           ┆              ┆              ┆              ┆             ┆ ----        ┆             │\n",
       "│           ┆              ┆              ┆              ┆             ┆ …           ┆             │\n",
       "│ 1         ┆ FW: Master   ┆ 101248140000 ┆ Theriot, Kim ┆ [\"Murphy\",  ┆             ┆ 2002-01-31  │\n",
       "│           ┆ Termination  ┆ 0            ┆ S. KTHERIO   ┆ \"Melissa    ┆             ┆ 12:50:00    │\n",
       "│           ┆ Log          ┆              ┆              ┆ Mmurphy\", … ┆ -----Origin ┆             │\n",
       "│           ┆              ┆              ┆              ┆             ┆ al Message- ┆             │\n",
       "│           ┆              ┆              ┆              ┆             ┆ ----        ┆             │\n",
       "│           ┆              ┆              ┆              ┆             ┆ …           ┆             │\n",
       "│ 1         ┆ FW: Master   ┆ 101292141500 ┆ Theriot, Kim ┆ [\"Murphy\",  ┆ Note to     ┆ 2002-02-05  │\n",
       "│           ┆ Termination  ┆ 0            ┆ S. KTHERIO   ┆ \"Melissa    ┆ Stephanie   ┆ 15:03:35    │\n",
       "│           ┆ Log          ┆              ┆              ┆ Mmurphy\", … ┆ Panus....   ┆             │\n",
       "│           ┆              ┆              ┆              ┆             ┆             ┆             │\n",
       "│           ┆              ┆              ┆              ┆             ┆ S…          ┆             │\n",
       "│ 1         ┆ FW: Master   ┆ 101292158500 ┆ Theriot, Kim ┆ [\"Hall\",    ┆             ┆ 2002-02-05  │\n",
       "│           ┆ Termination  ┆ 0            ┆ S. KTHERIO   ┆ \"D. Todd    ┆             ┆ 15:06:25    │\n",
       "│           ┆ Log          ┆              ┆              ┆ Thall\", …   ┆ -----Origin ┆             │\n",
       "│           ┆              ┆              ┆              ┆ \"M…         ┆ al Message- ┆             │\n",
       "│           ┆              ┆              ┆              ┆             ┆ ----        ┆             │\n",
       "│           ┆              ┆              ┆              ┆             ┆ …           ┆             │\n",
       "│ 1         ┆ FW: Master   ┆ 102257043500 ┆ Kelly,       ┆ [\"Germany\", ┆             ┆ 2002-05-28  │\n",
       "│           ┆ Termination  ┆ 0            ┆ Katherine L. ┆ \"Chris      ┆             ┆ 07:20:35    │\n",
       "│           ┆ Log          ┆              ┆ KKELLY       ┆ Cgerman\"]   ┆ -----Origin ┆             │\n",
       "│           ┆              ┆              ┆              ┆             ┆ al Message- ┆             │\n",
       "│           ┆              ┆              ┆              ┆             ┆ ----        ┆             │\n",
       "│           ┆              ┆              ┆              ┆             ┆ …           ┆             │\n",
       "│ …         ┆ …            ┆ …            ┆ …            ┆ …           ┆ …           ┆ …           │\n",
       "│ 4166      ┆ vacation     ┆ 970659120000 ┆ Sara         ┆ [\"Gary      ┆ I will be   ┆ 2000-10-04  │\n",
       "│           ┆              ┆              ┆ Shackleton   ┆ Hickerson\", ┆ on vacation ┆ 11:32:00    │\n",
       "│           ┆              ┆              ┆              ┆ \"Sheila     ┆ from Oct…   ┆             │\n",
       "│           ┆              ┆              ┆              ┆ Glo…        ┆             ┆             │\n",
       "│ 4167      ┆ web file     ┆ 984956220000 ┆ Matt Smith   ┆ [\"Amanda    ┆ Amanda,     ┆ 2001-03-18  │\n",
       "│           ┆              ┆              ┆              ┆ Huble\"]     ┆             ┆ 22:57:00    │\n",
       "│           ┆              ┆              ┆              ┆             ┆ Can you put ┆             │\n",
       "│           ┆              ┆              ┆              ┆             ┆ this file…  ┆             │\n",
       "│ 4167      ┆ web file     ┆ 984976920000 ┆ Matt Smith   ┆ [\"Amanda    ┆ Amanda,     ┆ 2001-03-19  │\n",
       "│           ┆              ┆              ┆              ┆ Huble\"]     ┆             ┆ 04:42:00    │\n",
       "│           ┆              ┆              ┆              ┆             ┆ Please move ┆             │\n",
       "│           ┆              ┆              ┆              ┆             ┆ the file …  ┆             │\n",
       "│ 4167      ┆ web file     ┆ 984995820000 ┆ Matt Smith   ┆ [\"Amanda    ┆ Amanda,     ┆ 2001-03-19  │\n",
       "│           ┆              ┆              ┆              ┆ Huble       ┆             ┆ 09:57:00    │\n",
       "│           ┆              ┆              ┆              ┆ <Amanda     ┆ Can you put ┆             │\n",
       "│           ┆              ┆              ┆              ┆ Huble/N…    ┆ this file…  ┆             │\n",
       "│ 4167      ┆ web file     ┆ 985016520000 ┆ Matt Smith   ┆ [\"Amanda    ┆ Amanda,     ┆ 2001-03-19  │\n",
       "│           ┆              ┆              ┆              ┆ Huble       ┆             ┆ 15:42:00    │\n",
       "│           ┆              ┆              ┆              ┆ <Amanda     ┆ Please move ┆             │\n",
       "│           ┆              ┆              ┆              ┆ Huble/N…    ┆ the file …  ┆             │\n",
       "└───────────┴──────────────┴──────────────┴──────────────┴─────────────┴─────────────┴─────────────┘"
      ],
      "text/html": [
       "<div><style>\n",
       ".dataframe > thead > tr,\n",
       ".dataframe > tbody > tr {\n",
       "  text-align: right;\n",
       "  white-space: pre-wrap;\n",
       "}\n",
       "</style>\n",
       "<small>shape: (21_684, 7)</small><table border=\"1\" class=\"dataframe\"><thead><tr><th>thread_id</th><th>subject</th><th>timestamp</th><th>from</th><th>to</th><th>body</th><th>date</th></tr><tr><td>i64</td><td>str</td><td>i64</td><td>str</td><td>list[str]</td><td>str</td><td>datetime[ms]</td></tr></thead><tbody><tr><td>1</td><td>&quot;FW: Master Termination Log&quot;</td><td>1012303422000</td><td>&quot;Gossett, Jeffrey C. JGOSSET&quot;</td><td>[&quot;Giron&quot;, &quot;Darron C. Dgiron&quot;, … &quot;Phillip M. Plove&quot;]</td><td>&quot;\n",
       "\n",
       " -----Original Message-----\n",
       "…</td><td>2002-01-29 11:23:42</td></tr><tr><td>1</td><td>&quot;FW: Master Termination Log&quot;</td><td>1012481400000</td><td>&quot;Theriot, Kim S. KTHERIO&quot;</td><td>[&quot;Murphy&quot;, &quot;Melissa Mmurphy&quot;, … &quot;Larry Joe Jhunte2&quot;]</td><td>&quot;\n",
       "\n",
       " -----Original Message-----\n",
       "…</td><td>2002-01-31 12:50:00</td></tr><tr><td>1</td><td>&quot;FW: Master Termination Log&quot;</td><td>1012921415000</td><td>&quot;Theriot, Kim S. KTHERIO&quot;</td><td>[&quot;Murphy&quot;, &quot;Melissa Mmurphy&quot;, … &quot;Bryce Bbaxter&quot;]</td><td>&quot;Note to Stephanie Panus....\n",
       "\n",
       "S…</td><td>2002-02-05 15:03:35</td></tr><tr><td>1</td><td>&quot;FW: Master Termination Log&quot;</td><td>1012921585000</td><td>&quot;Theriot, Kim S. KTHERIO&quot;</td><td>[&quot;Hall&quot;, &quot;D. Todd Thall&quot;, … &quot;Melissa Mmurphy&quot;]</td><td>&quot;\n",
       "\n",
       " -----Original Message-----\n",
       "…</td><td>2002-02-05 15:06:25</td></tr><tr><td>1</td><td>&quot;FW: Master Termination Log&quot;</td><td>1022570435000</td><td>&quot;Kelly, Katherine L. KKELLY&quot;</td><td>[&quot;Germany&quot;, &quot;Chris Cgerman&quot;]</td><td>&quot;\n",
       "\n",
       " -----Original Message-----\n",
       "…</td><td>2002-05-28 07:20:35</td></tr><tr><td>&hellip;</td><td>&hellip;</td><td>&hellip;</td><td>&hellip;</td><td>&hellip;</td><td>&hellip;</td><td>&hellip;</td></tr><tr><td>4166</td><td>&quot;vacation&quot;</td><td>970659120000</td><td>&quot;Sara Shackleton&quot;</td><td>[&quot;Gary Hickerson&quot;, &quot;Sheila Glover&quot;, … &quot;Ellen Su&quot;]</td><td>&quot;I will be on vacation from Oct…</td><td>2000-10-04 11:32:00</td></tr><tr><td>4167</td><td>&quot;web file&quot;</td><td>984956220000</td><td>&quot;Matt Smith&quot;</td><td>[&quot;Amanda Huble&quot;]</td><td>&quot;Amanda,\n",
       "\n",
       "Can you put this file…</td><td>2001-03-18 22:57:00</td></tr><tr><td>4167</td><td>&quot;web file&quot;</td><td>984976920000</td><td>&quot;Matt Smith&quot;</td><td>[&quot;Amanda Huble&quot;]</td><td>&quot;Amanda,\n",
       "\n",
       "Please move the file …</td><td>2001-03-19 04:42:00</td></tr><tr><td>4167</td><td>&quot;web file&quot;</td><td>984995820000</td><td>&quot;Matt Smith&quot;</td><td>[&quot;Amanda Huble &lt;Amanda Huble/NA/Enron@Enron&quot;]</td><td>&quot;Amanda,\n",
       "\n",
       "Can you put this file…</td><td>2001-03-19 09:57:00</td></tr><tr><td>4167</td><td>&quot;web file&quot;</td><td>985016520000</td><td>&quot;Matt Smith&quot;</td><td>[&quot;Amanda Huble &lt;Amanda Huble/NA/Enron@Enron&quot;]</td><td>&quot;Amanda,\n",
       "\n",
       "Please move the file …</td><td>2001-03-19 15:42:00</td></tr></tbody></table></div>"
      ]
     },
     "execution_count": 5,
     "metadata": {},
     "output_type": "execute_result"
    }
   ],
   "execution_count": 5
  },
  {
   "metadata": {
    "ExecuteTime": {
     "end_time": "2024-12-17T18:36:59.683628Z",
     "start_time": "2024-12-17T18:36:59.679361Z"
    }
   },
   "cell_type": "code",
   "source": "df",
   "id": "a6e4a893afb013e3",
   "outputs": [
    {
     "data": {
      "text/plain": [
       "shape: (21_684, 6)\n",
       "┌───────────┬─────────────┬───────────────┬──────────────────┬──────────────────┬──────────────────┐\n",
       "│ thread_id ┆ subject     ┆ timestamp     ┆ from             ┆ to               ┆ body             │\n",
       "│ ---       ┆ ---         ┆ ---           ┆ ---              ┆ ---              ┆ ---              │\n",
       "│ i64       ┆ str         ┆ i64           ┆ str              ┆ list[str]        ┆ str              │\n",
       "╞═══════════╪═════════════╪═══════════════╪══════════════════╪══════════════════╪══════════════════╡\n",
       "│ 1         ┆ FW: Master  ┆ 1012303422000 ┆ Gossett, Jeffrey ┆ [\"Giron\",        ┆                  │\n",
       "│           ┆ Termination ┆               ┆ C. JGOSSET       ┆ \"Darron C.       ┆                  │\n",
       "│           ┆ Log         ┆               ┆                  ┆ Dgiron\", …       ┆ -----Original    │\n",
       "│           ┆             ┆               ┆                  ┆                  ┆ Message-----     │\n",
       "│           ┆             ┆               ┆                  ┆                  ┆ …                │\n",
       "│ 1         ┆ FW: Master  ┆ 1012481400000 ┆ Theriot, Kim S.  ┆ [\"Murphy\",       ┆                  │\n",
       "│           ┆ Termination ┆               ┆ KTHERIO          ┆ \"Melissa         ┆                  │\n",
       "│           ┆ Log         ┆               ┆                  ┆ Mmurphy\", …      ┆ -----Original    │\n",
       "│           ┆             ┆               ┆                  ┆                  ┆ Message-----     │\n",
       "│           ┆             ┆               ┆                  ┆                  ┆ …                │\n",
       "│ 1         ┆ FW: Master  ┆ 1012921415000 ┆ Theriot, Kim S.  ┆ [\"Murphy\",       ┆ Note to          │\n",
       "│           ┆ Termination ┆               ┆ KTHERIO          ┆ \"Melissa         ┆ Stephanie        │\n",
       "│           ┆ Log         ┆               ┆                  ┆ Mmurphy\", …      ┆ Panus....        │\n",
       "│           ┆             ┆               ┆                  ┆                  ┆                  │\n",
       "│           ┆             ┆               ┆                  ┆                  ┆ S…               │\n",
       "│ 1         ┆ FW: Master  ┆ 1012921585000 ┆ Theriot, Kim S.  ┆ [\"Hall\", \"D.     ┆                  │\n",
       "│           ┆ Termination ┆               ┆ KTHERIO          ┆ Todd Thall\", …   ┆                  │\n",
       "│           ┆ Log         ┆               ┆                  ┆ \"M…              ┆ -----Original    │\n",
       "│           ┆             ┆               ┆                  ┆                  ┆ Message-----     │\n",
       "│           ┆             ┆               ┆                  ┆                  ┆ …                │\n",
       "│ 1         ┆ FW: Master  ┆ 1022570435000 ┆ Kelly, Katherine ┆ [\"Germany\",      ┆                  │\n",
       "│           ┆ Termination ┆               ┆ L. KKELLY        ┆ \"Chris Cgerman\"] ┆                  │\n",
       "│           ┆ Log         ┆               ┆                  ┆                  ┆ -----Original    │\n",
       "│           ┆             ┆               ┆                  ┆                  ┆ Message-----     │\n",
       "│           ┆             ┆               ┆                  ┆                  ┆ …                │\n",
       "│ …         ┆ …           ┆ …             ┆ …                ┆ …                ┆ …                │\n",
       "│ 4166      ┆ vacation    ┆ 970659120000  ┆ Sara Shackleton  ┆ [\"Gary           ┆ I will be on     │\n",
       "│           ┆             ┆               ┆                  ┆ Hickerson\",      ┆ vacation from    │\n",
       "│           ┆             ┆               ┆                  ┆ \"Sheila Glo…     ┆ Oct…             │\n",
       "│ 4167      ┆ web file    ┆ 984956220000  ┆ Matt Smith       ┆ [\"Amanda Huble\"] ┆ Amanda,          │\n",
       "│           ┆             ┆               ┆                  ┆                  ┆                  │\n",
       "│           ┆             ┆               ┆                  ┆                  ┆ Can you put this │\n",
       "│           ┆             ┆               ┆                  ┆                  ┆ file…            │\n",
       "│ 4167      ┆ web file    ┆ 984976920000  ┆ Matt Smith       ┆ [\"Amanda Huble\"] ┆ Amanda,          │\n",
       "│           ┆             ┆               ┆                  ┆                  ┆                  │\n",
       "│           ┆             ┆               ┆                  ┆                  ┆ Please move the  │\n",
       "│           ┆             ┆               ┆                  ┆                  ┆ file …           │\n",
       "│ 4167      ┆ web file    ┆ 984995820000  ┆ Matt Smith       ┆ [\"Amanda Huble   ┆ Amanda,          │\n",
       "│           ┆             ┆               ┆                  ┆ <Amanda Huble/N… ┆                  │\n",
       "│           ┆             ┆               ┆                  ┆                  ┆ Can you put this │\n",
       "│           ┆             ┆               ┆                  ┆                  ┆ file…            │\n",
       "│ 4167      ┆ web file    ┆ 985016520000  ┆ Matt Smith       ┆ [\"Amanda Huble   ┆ Amanda,          │\n",
       "│           ┆             ┆               ┆                  ┆ <Amanda Huble/N… ┆                  │\n",
       "│           ┆             ┆               ┆                  ┆                  ┆ Please move the  │\n",
       "│           ┆             ┆               ┆                  ┆                  ┆ file …           │\n",
       "└───────────┴─────────────┴───────────────┴──────────────────┴──────────────────┴──────────────────┘"
      ],
      "text/html": [
       "<div><style>\n",
       ".dataframe > thead > tr,\n",
       ".dataframe > tbody > tr {\n",
       "  text-align: right;\n",
       "  white-space: pre-wrap;\n",
       "}\n",
       "</style>\n",
       "<small>shape: (21_684, 6)</small><table border=\"1\" class=\"dataframe\"><thead><tr><th>thread_id</th><th>subject</th><th>timestamp</th><th>from</th><th>to</th><th>body</th></tr><tr><td>i64</td><td>str</td><td>i64</td><td>str</td><td>list[str]</td><td>str</td></tr></thead><tbody><tr><td>1</td><td>&quot;FW: Master Termination Log&quot;</td><td>1012303422000</td><td>&quot;Gossett, Jeffrey C. JGOSSET&quot;</td><td>[&quot;Giron&quot;, &quot;Darron C. Dgiron&quot;, … &quot;Phillip M. Plove&quot;]</td><td>&quot;\n",
       "\n",
       " -----Original Message-----\n",
       "…</td></tr><tr><td>1</td><td>&quot;FW: Master Termination Log&quot;</td><td>1012481400000</td><td>&quot;Theriot, Kim S. KTHERIO&quot;</td><td>[&quot;Murphy&quot;, &quot;Melissa Mmurphy&quot;, … &quot;Larry Joe Jhunte2&quot;]</td><td>&quot;\n",
       "\n",
       " -----Original Message-----\n",
       "…</td></tr><tr><td>1</td><td>&quot;FW: Master Termination Log&quot;</td><td>1012921415000</td><td>&quot;Theriot, Kim S. KTHERIO&quot;</td><td>[&quot;Murphy&quot;, &quot;Melissa Mmurphy&quot;, … &quot;Bryce Bbaxter&quot;]</td><td>&quot;Note to Stephanie Panus....\n",
       "\n",
       "S…</td></tr><tr><td>1</td><td>&quot;FW: Master Termination Log&quot;</td><td>1012921585000</td><td>&quot;Theriot, Kim S. KTHERIO&quot;</td><td>[&quot;Hall&quot;, &quot;D. Todd Thall&quot;, … &quot;Melissa Mmurphy&quot;]</td><td>&quot;\n",
       "\n",
       " -----Original Message-----\n",
       "…</td></tr><tr><td>1</td><td>&quot;FW: Master Termination Log&quot;</td><td>1022570435000</td><td>&quot;Kelly, Katherine L. KKELLY&quot;</td><td>[&quot;Germany&quot;, &quot;Chris Cgerman&quot;]</td><td>&quot;\n",
       "\n",
       " -----Original Message-----\n",
       "…</td></tr><tr><td>&hellip;</td><td>&hellip;</td><td>&hellip;</td><td>&hellip;</td><td>&hellip;</td><td>&hellip;</td></tr><tr><td>4166</td><td>&quot;vacation&quot;</td><td>970659120000</td><td>&quot;Sara Shackleton&quot;</td><td>[&quot;Gary Hickerson&quot;, &quot;Sheila Glover&quot;, … &quot;Ellen Su&quot;]</td><td>&quot;I will be on vacation from Oct…</td></tr><tr><td>4167</td><td>&quot;web file&quot;</td><td>984956220000</td><td>&quot;Matt Smith&quot;</td><td>[&quot;Amanda Huble&quot;]</td><td>&quot;Amanda,\n",
       "\n",
       "Can you put this file…</td></tr><tr><td>4167</td><td>&quot;web file&quot;</td><td>984976920000</td><td>&quot;Matt Smith&quot;</td><td>[&quot;Amanda Huble&quot;]</td><td>&quot;Amanda,\n",
       "\n",
       "Please move the file …</td></tr><tr><td>4167</td><td>&quot;web file&quot;</td><td>984995820000</td><td>&quot;Matt Smith&quot;</td><td>[&quot;Amanda Huble &lt;Amanda Huble/NA/Enron@Enron&quot;]</td><td>&quot;Amanda,\n",
       "\n",
       "Can you put this file…</td></tr><tr><td>4167</td><td>&quot;web file&quot;</td><td>985016520000</td><td>&quot;Matt Smith&quot;</td><td>[&quot;Amanda Huble &lt;Amanda Huble/NA/Enron@Enron&quot;]</td><td>&quot;Amanda,\n",
       "\n",
       "Please move the file …</td></tr></tbody></table></div>"
      ]
     },
     "execution_count": 6,
     "metadata": {},
     "output_type": "execute_result"
    }
   ],
   "execution_count": 6
  }
 ],
 "metadata": {
  "kernelspec": {
   "display_name": "Python 3",
   "language": "python",
   "name": "python3"
  },
  "language_info": {
   "codemirror_mode": {
    "name": "ipython",
    "version": 2
   },
   "file_extension": ".py",
   "mimetype": "text/x-python",
   "name": "python",
   "nbconvert_exporter": "python",
   "pygments_lexer": "ipython2",
   "version": "2.7.6"
  }
 },
 "nbformat": 4,
 "nbformat_minor": 5
}
