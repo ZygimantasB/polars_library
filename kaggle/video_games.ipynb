{
 "cells": [
  {
   "cell_type": "code",
   "id": "initial_id",
   "metadata": {
    "collapsed": true,
    "ExecuteTime": {
     "end_time": "2024-12-26T21:29:30.657167Z",
     "start_time": "2024-12-26T21:29:30.653326Z"
    }
   },
   "source": [
    "import numpy as np\n",
    "import polars as pl\n",
    "import polars.selectors as cs\n",
    "import matplotlib.pyplot as plt\n",
    "import seaborn as sns\n",
    "import plotly.express as px\n",
    "import plotly.graph_objects as go\n",
    "import great_tables as tg\n",
    "import altair as alt\n",
    "import datetime as dt\n",
    "\n",
    "from matplotlib.pyplot import title"
   ],
   "outputs": [],
   "execution_count": 205
  },
  {
   "metadata": {
    "ExecuteTime": {
     "end_time": "2024-12-26T21:29:30.689995Z",
     "start_time": "2024-12-26T21:29:30.687704Z"
    }
   },
   "cell_type": "code",
   "source": "df_path = r\"F:\\Datasets\\video_games\\raw_and_processed_user_reviews_sentiment_scores.csv\"",
   "id": "779481f8716aec3d",
   "outputs": [],
   "execution_count": 206
  },
  {
   "metadata": {
    "ExecuteTime": {
     "end_time": "2024-12-26T21:29:30.705413Z",
     "start_time": "2024-12-26T21:29:30.702805Z"
    }
   },
   "cell_type": "code",
   "source": "df_lazy = pl.scan_csv(df_path)",
   "id": "9ace270fc97c2ad2",
   "outputs": [],
   "execution_count": 207
  },
  {
   "metadata": {
    "ExecuteTime": {
     "end_time": "2024-12-26T21:29:30.827582Z",
     "start_time": "2024-12-26T21:29:30.715722Z"
    }
   },
   "cell_type": "code",
   "source": "df = df_lazy.collect()",
   "id": "4dfb21e78035f512",
   "outputs": [],
   "execution_count": 208
  },
  {
   "metadata": {
    "ExecuteTime": {
     "end_time": "2024-12-26T21:29:30.867309Z",
     "start_time": "2024-12-26T21:29:30.863305Z"
    }
   },
   "cell_type": "code",
   "source": "df.null_count()",
   "id": "a2853b90080de235",
   "outputs": [
    {
     "data": {
      "text/plain": [
       "shape: (1, 13)\n",
       "┌───────────┬──────────┬───────────┬───────────┬───┬───────────┬───────────┬───────────┬───────────┐\n",
       "│ game_titl ┆ platform ┆ global_us ┆ user_scor ┆ … ┆ vader_sen ┆ textblob_ ┆ hf_sentim ┆ preproces │\n",
       "│ e         ┆ ---      ┆ er_score  ┆ e         ┆   ┆ timent    ┆ sentiment ┆ ent       ┆ sed_revie │\n",
       "│ ---       ┆ u32      ┆ ---       ┆ ---       ┆   ┆ ---       ┆ ---       ┆ ---       ┆ w         │\n",
       "│ u32       ┆          ┆ u32       ┆ u32       ┆   ┆ u32       ┆ u32       ┆ u32       ┆ ---       │\n",
       "│           ┆          ┆           ┆           ┆   ┆           ┆           ┆           ┆ u32       │\n",
       "╞═══════════╪══════════╪═══════════╪═══════════╪═══╪═══════════╪═══════════╪═══════════╪═══════════╡\n",
       "│ 0         ┆ 0        ┆ 0         ┆ 0         ┆ … ┆ 0         ┆ 0         ┆ 0         ┆ 71        │\n",
       "└───────────┴──────────┴───────────┴───────────┴───┴───────────┴───────────┴───────────┴───────────┘"
      ],
      "text/html": [
       "<div><style>\n",
       ".dataframe > thead > tr,\n",
       ".dataframe > tbody > tr {\n",
       "  text-align: right;\n",
       "  white-space: pre-wrap;\n",
       "}\n",
       "</style>\n",
       "<small>shape: (1, 13)</small><table border=\"1\" class=\"dataframe\"><thead><tr><th>game_title</th><th>platform</th><th>global_user_score</th><th>user_score</th><th>username</th><th>review_text</th><th>cleaned_review</th><th>language</th><th>translated_review</th><th>vader_sentiment</th><th>textblob_sentiment</th><th>hf_sentiment</th><th>preprocessed_review</th></tr><tr><td>u32</td><td>u32</td><td>u32</td><td>u32</td><td>u32</td><td>u32</td><td>u32</td><td>u32</td><td>u32</td><td>u32</td><td>u32</td><td>u32</td><td>u32</td></tr></thead><tbody><tr><td>0</td><td>0</td><td>0</td><td>0</td><td>0</td><td>0</td><td>0</td><td>0</td><td>0</td><td>0</td><td>0</td><td>0</td><td>71</td></tr></tbody></table></div>"
      ]
     },
     "execution_count": 209,
     "metadata": {},
     "output_type": "execute_result"
    }
   ],
   "execution_count": 209
  },
  {
   "metadata": {
    "ExecuteTime": {
     "end_time": "2024-12-26T21:29:30.917844Z",
     "start_time": "2024-12-26T21:29:30.909736Z"
    }
   },
   "cell_type": "code",
   "source": [
    "df = df.with_columns(\n",
    "    pl.col('preprocessed_review').fill_null('No review')\n",
    ")"
   ],
   "id": "bdf995351c32b198",
   "outputs": [],
   "execution_count": 210
  },
  {
   "metadata": {
    "ExecuteTime": {
     "end_time": "2024-12-26T21:29:31.008630Z",
     "start_time": "2024-12-26T21:29:31.004121Z"
    }
   },
   "cell_type": "code",
   "source": "df.null_count()",
   "id": "3c02735a6f6ea0ef",
   "outputs": [
    {
     "data": {
      "text/plain": [
       "shape: (1, 13)\n",
       "┌───────────┬──────────┬───────────┬───────────┬───┬───────────┬───────────┬───────────┬───────────┐\n",
       "│ game_titl ┆ platform ┆ global_us ┆ user_scor ┆ … ┆ vader_sen ┆ textblob_ ┆ hf_sentim ┆ preproces │\n",
       "│ e         ┆ ---      ┆ er_score  ┆ e         ┆   ┆ timent    ┆ sentiment ┆ ent       ┆ sed_revie │\n",
       "│ ---       ┆ u32      ┆ ---       ┆ ---       ┆   ┆ ---       ┆ ---       ┆ ---       ┆ w         │\n",
       "│ u32       ┆          ┆ u32       ┆ u32       ┆   ┆ u32       ┆ u32       ┆ u32       ┆ ---       │\n",
       "│           ┆          ┆           ┆           ┆   ┆           ┆           ┆           ┆ u32       │\n",
       "╞═══════════╪══════════╪═══════════╪═══════════╪═══╪═══════════╪═══════════╪═══════════╪═══════════╡\n",
       "│ 0         ┆ 0        ┆ 0         ┆ 0         ┆ … ┆ 0         ┆ 0         ┆ 0         ┆ 0         │\n",
       "└───────────┴──────────┴───────────┴───────────┴───┴───────────┴───────────┴───────────┴───────────┘"
      ],
      "text/html": [
       "<div><style>\n",
       ".dataframe > thead > tr,\n",
       ".dataframe > tbody > tr {\n",
       "  text-align: right;\n",
       "  white-space: pre-wrap;\n",
       "}\n",
       "</style>\n",
       "<small>shape: (1, 13)</small><table border=\"1\" class=\"dataframe\"><thead><tr><th>game_title</th><th>platform</th><th>global_user_score</th><th>user_score</th><th>username</th><th>review_text</th><th>cleaned_review</th><th>language</th><th>translated_review</th><th>vader_sentiment</th><th>textblob_sentiment</th><th>hf_sentiment</th><th>preprocessed_review</th></tr><tr><td>u32</td><td>u32</td><td>u32</td><td>u32</td><td>u32</td><td>u32</td><td>u32</td><td>u32</td><td>u32</td><td>u32</td><td>u32</td><td>u32</td><td>u32</td></tr></thead><tbody><tr><td>0</td><td>0</td><td>0</td><td>0</td><td>0</td><td>0</td><td>0</td><td>0</td><td>0</td><td>0</td><td>0</td><td>0</td><td>0</td></tr></tbody></table></div>"
      ]
     },
     "execution_count": 211,
     "metadata": {},
     "output_type": "execute_result"
    }
   ],
   "execution_count": 211
  },
  {
   "metadata": {
    "ExecuteTime": {
     "end_time": "2024-12-26T21:29:31.077648Z",
     "start_time": "2024-12-26T21:29:31.073898Z"
    }
   },
   "cell_type": "code",
   "source": "df.collect_schema()",
   "id": "e8820cd2ef298a29",
   "outputs": [
    {
     "data": {
      "text/plain": [
       "Schema([('game_title', String),\n",
       "        ('platform', String),\n",
       "        ('global_user_score', Float64),\n",
       "        ('user_score', Int64),\n",
       "        ('username', String),\n",
       "        ('review_text', String),\n",
       "        ('cleaned_review', String),\n",
       "        ('language', String),\n",
       "        ('translated_review', String),\n",
       "        ('vader_sentiment', Float64),\n",
       "        ('textblob_sentiment', Float64),\n",
       "        ('hf_sentiment', Float64),\n",
       "        ('preprocessed_review', String)])"
      ]
     },
     "execution_count": 212,
     "metadata": {},
     "output_type": "execute_result"
    }
   ],
   "execution_count": 212
  },
  {
   "metadata": {
    "ExecuteTime": {
     "end_time": "2024-12-26T21:29:31.164155Z",
     "start_time": "2024-12-26T21:29:31.158650Z"
    }
   },
   "cell_type": "code",
   "source": "df",
   "id": "f42ba95079c22b0a",
   "outputs": [
    {
     "data": {
      "text/plain": [
       "shape: (99_498, 13)\n",
       "┌───────────┬──────────┬───────────┬───────────┬───┬───────────┬───────────┬───────────┬───────────┐\n",
       "│ game_titl ┆ platform ┆ global_us ┆ user_scor ┆ … ┆ vader_sen ┆ textblob_ ┆ hf_sentim ┆ preproces │\n",
       "│ e         ┆ ---      ┆ er_score  ┆ e         ┆   ┆ timent    ┆ sentiment ┆ ent       ┆ sed_revie │\n",
       "│ ---       ┆ str      ┆ ---       ┆ ---       ┆   ┆ ---       ┆ ---       ┆ ---       ┆ w         │\n",
       "│ str       ┆          ┆ f64       ┆ i64       ┆   ┆ f64       ┆ f64       ┆ f64       ┆ ---       │\n",
       "│           ┆          ┆           ┆           ┆   ┆           ┆           ┆           ┆ str       │\n",
       "╞═══════════╪══════════╪═══════════╪═══════════╪═══╪═══════════╪═══════════╪═══════════╪═══════════╡\n",
       "│ mario     ┆ wii      ┆ 8.6       ┆ 10        ┆ … ┆ 0.9413    ┆ 0.383333  ┆ 0.845252  ┆ best      │\n",
       "│ kart wii  ┆          ┆           ┆           ┆   ┆           ┆           ┆           ┆ Mario     │\n",
       "│           ┆          ┆           ┆           ┆   ┆           ┆           ┆           ┆ Kart      │\n",
       "│           ┆          ┆           ┆           ┆   ┆           ┆           ┆           ┆ better    │\n",
       "│           ┆          ┆           ┆           ┆   ┆           ┆           ┆           ┆ fucking…  │\n",
       "│ mario     ┆ wii      ┆ 8.6       ┆ 9         ┆ … ┆ 0.9372    ┆ 0.1       ┆ 0.99804   ┆ arguably  │\n",
       "│ kart wii  ┆          ┆           ┆           ┆   ┆           ┆           ┆           ┆ best game │\n",
       "│           ┆          ┆           ┆           ┆   ┆           ┆           ┆           ┆ series    │\n",
       "│           ┆          ┆           ┆           ┆   ┆           ┆           ┆           ┆ comp…     │\n",
       "│ mario     ┆ wii      ┆ 8.6       ┆ 0         ┆ … ┆ -0.6124   ┆ -0.077381 ┆ -0.999683 ┆ mario     │\n",
       "│ kart wii  ┆          ┆           ┆           ┆   ┆           ┆           ┆           ┆ kart wii  │\n",
       "│           ┆          ┆           ┆           ┆   ┆           ┆           ┆           ┆ seriously │\n",
       "│           ┆          ┆           ┆           ┆   ┆           ┆           ┆           ┆ disas…    │\n",
       "│ mario     ┆ wii      ┆ 8.6       ┆ 10        ┆ … ┆ 0.7783    ┆ -0.076667 ┆ -0.98887  ┆ game one  │\n",
       "│ kart wii  ┆          ┆           ┆           ┆   ┆           ┆           ┆           ┆ time      │\n",
       "│           ┆          ┆           ┆           ┆   ┆           ┆           ┆           ┆ favorite  │\n",
       "│           ┆          ┆           ┆           ┆   ┆           ┆           ┆           ┆ classic…  │\n",
       "│ mario     ┆ wii      ┆ 8.6       ┆ 7         ┆ … ┆ 0.959     ┆ 0.302041  ┆ 0.99967   ┆ much fun  │\n",
       "│ kart wii  ┆          ┆           ┆           ┆   ┆           ┆           ┆           ┆ play      │\n",
       "│           ┆          ┆           ┆           ┆   ┆           ┆           ┆           ┆ played    │\n",
       "│           ┆          ┆           ┆           ┆   ┆           ┆           ┆           ┆ kid       │\n",
       "│           ┆          ┆           ┆           ┆   ┆           ┆           ┆           ┆ loved…    │\n",
       "│ …         ┆ …        ┆ …         ┆ …         ┆ … ┆ …         ┆ …         ┆ …         ┆ …         │\n",
       "│ broken    ┆ pc       ┆ 7.1       ┆ 3         ┆ … ┆ -0.5709   ┆ -0.018056 ┆ -0.999223 ┆ reasonabl │\n",
       "│ sword:    ┆          ┆           ┆           ┆   ┆           ┆           ┆           ┆ e story   │\n",
       "│ the       ┆          ┆           ┆           ┆   ┆           ┆           ┆           ┆ poor      │\n",
       "│ sleeping  ┆          ┆           ┆           ┆   ┆           ┆           ┆           ┆ control … │\n",
       "│ dra…      ┆          ┆           ┆           ┆   ┆           ┆           ┆           ┆           │\n",
       "│ broken    ┆ pc       ┆ 7.1       ┆ 10        ┆ … ┆ 0.9709    ┆ 0.385     ┆ 0.9997738 ┆ memorable │\n",
       "│ sword:    ┆          ┆           ┆           ┆   ┆           ┆           ┆           ┆ game      │\n",
       "│ the       ┆          ┆           ┆           ┆   ┆           ┆           ┆           ┆ beautiful │\n",
       "│ sleeping  ┆          ┆           ┆           ┆   ┆           ┆           ┆           ┆ graph…    │\n",
       "│ dra…      ┆          ┆           ┆           ┆   ┆           ┆           ┆           ┆           │\n",
       "│ broken    ┆ pc       ┆ 7.1       ┆ 10        ┆ … ┆ 0.9274    ┆ 0.283333  ┆ 0.999609  ┆ story     │\n",
       "│ sword:    ┆          ┆           ┆           ┆   ┆           ┆           ┆           ┆ voice     │\n",
       "│ the       ┆          ┆           ┆           ┆   ┆           ┆           ┆           ┆ acting    │\n",
       "│ sleeping  ┆          ┆           ┆           ┆   ┆           ┆           ┆           ┆ dialogue  │\n",
       "│ dra…      ┆          ┆           ┆           ┆   ┆           ┆           ┆           ┆ lo…       │\n",
       "│ broken    ┆ pc       ┆ 7.1       ┆ 0         ┆ … ┆ 0.6597    ┆ -0.230357 ┆ -0.937647 ┆ control   │\n",
       "│ sword:    ┆          ┆           ┆           ┆   ┆           ┆           ┆           ┆ game      │\n",
       "│ the       ┆          ┆           ┆           ┆   ┆           ┆           ┆           ┆ broken    │\n",
       "│ sleeping  ┆          ┆           ┆           ┆   ┆           ┆           ┆           ┆ make      │\n",
       "│ dra…      ┆          ┆           ┆           ┆   ┆           ┆           ┆           ┆ impos…    │\n",
       "│ broken    ┆ pc       ┆ 7.1       ┆ 3         ┆ … ┆ -0.5367   ┆ -0.106818 ┆ -0.998015 ┆ low       │\n",
       "│ sword:    ┆          ┆           ┆           ┆   ┆           ┆           ┆           ┆ rating    │\n",
       "│ the       ┆          ┆           ┆           ┆   ┆           ┆           ┆           ┆ extremely │\n",
       "│ sleeping  ┆          ┆           ┆           ┆   ┆           ┆           ┆           ┆ poor      │\n",
       "│ dra…      ┆          ┆           ┆           ┆   ┆           ┆           ┆           ┆ cont…     │\n",
       "└───────────┴──────────┴───────────┴───────────┴───┴───────────┴───────────┴───────────┴───────────┘"
      ],
      "text/html": [
       "<div><style>\n",
       ".dataframe > thead > tr,\n",
       ".dataframe > tbody > tr {\n",
       "  text-align: right;\n",
       "  white-space: pre-wrap;\n",
       "}\n",
       "</style>\n",
       "<small>shape: (99_498, 13)</small><table border=\"1\" class=\"dataframe\"><thead><tr><th>game_title</th><th>platform</th><th>global_user_score</th><th>user_score</th><th>username</th><th>review_text</th><th>cleaned_review</th><th>language</th><th>translated_review</th><th>vader_sentiment</th><th>textblob_sentiment</th><th>hf_sentiment</th><th>preprocessed_review</th></tr><tr><td>str</td><td>str</td><td>f64</td><td>i64</td><td>str</td><td>str</td><td>str</td><td>str</td><td>str</td><td>f64</td><td>f64</td><td>f64</td><td>str</td></tr></thead><tbody><tr><td>&quot;mario kart wii&quot;</td><td>&quot;wii&quot;</td><td>8.6</td><td>10</td><td>&quot;ShadowStorm6&quot;</td><td>&quot;Le meilleur Mario kart. Il est…</td><td>&quot;le meilleur mario kart il est …</td><td>&quot;fr&quot;</td><td>&quot;the best Mario Kart is better …</td><td>0.9413</td><td>0.383333</td><td>0.845252</td><td>&quot;best Mario Kart better fucking…</td></tr><tr><td>&quot;mario kart wii&quot;</td><td>&quot;wii&quot;</td><td>8.6</td><td>9</td><td>&quot;CooperTrooper79&quot;</td><td>&quot;Arguably the best game in the …</td><td>&quot;arguably the best game in the …</td><td>&quot;en&quot;</td><td>&quot;arguably the best game in the …</td><td>0.9372</td><td>0.1</td><td>0.99804</td><td>&quot;arguably best game series comp…</td></tr><tr><td>&quot;mario kart wii&quot;</td><td>&quot;wii&quot;</td><td>8.6</td><td>0</td><td>&quot;rockodiador&quot;</td><td>&quot;Mario Kart Wii? Seriously? Wha…</td><td>&quot;mario kart wii seriously what …</td><td>&quot;en&quot;</td><td>&quot;mario kart wii seriously what …</td><td>-0.6124</td><td>-0.077381</td><td>-0.999683</td><td>&quot;mario kart wii seriously disas…</td></tr><tr><td>&quot;mario kart wii&quot;</td><td>&quot;wii&quot;</td><td>8.6</td><td>10</td><td>&quot;williamgt45&quot;</td><td>&quot;This game is one of my all tim…</td><td>&quot;this game is one of my all tim…</td><td>&quot;en&quot;</td><td>&quot;this game is one of my all tim…</td><td>0.7783</td><td>-0.076667</td><td>-0.98887</td><td>&quot;game one time favorite classic…</td></tr><tr><td>&quot;mario kart wii&quot;</td><td>&quot;wii&quot;</td><td>8.6</td><td>7</td><td>&quot;WLS_Silver&quot;</td><td>&quot;So much fun to play. Played th…</td><td>&quot;so much fun to play played thi…</td><td>&quot;en&quot;</td><td>&quot;so much fun to play played thi…</td><td>0.959</td><td>0.302041</td><td>0.99967</td><td>&quot;much fun play played kid loved…</td></tr><tr><td>&hellip;</td><td>&hellip;</td><td>&hellip;</td><td>&hellip;</td><td>&hellip;</td><td>&hellip;</td><td>&hellip;</td><td>&hellip;</td><td>&hellip;</td><td>&hellip;</td><td>&hellip;</td><td>&hellip;</td><td>&hellip;</td></tr><tr><td>&quot;broken sword: the sleeping dra…</td><td>&quot;pc&quot;</td><td>7.1</td><td>3</td><td>&quot;theSplund&quot;</td><td>&quot;Reasonable story. Poor control…</td><td>&quot;reasonable story poor control …</td><td>&quot;en&quot;</td><td>&quot;reasonable story poor control …</td><td>-0.5709</td><td>-0.018056</td><td>-0.999223</td><td>&quot;reasonable story poor control …</td></tr><tr><td>&quot;broken sword: the sleeping dra…</td><td>&quot;pc&quot;</td><td>7.1</td><td>10</td><td>&quot;cumbach&quot;</td><td>&quot;It&#x27;s an memorable game, with b…</td><td>&quot;its an memorable game with bea…</td><td>&quot;en&quot;</td><td>&quot;its an memorable game with bea…</td><td>0.9709</td><td>0.385</td><td>0.9997738</td><td>&quot;memorable game beautiful graph…</td></tr><tr><td>&quot;broken sword: the sleeping dra…</td><td>&quot;pc&quot;</td><td>7.1</td><td>10</td><td>&quot;IamKing&quot;</td><td>&quot;The story, voice acting, dialo…</td><td>&quot;the story voice acting dialogu…</td><td>&quot;en&quot;</td><td>&quot;the story voice acting dialogu…</td><td>0.9274</td><td>0.283333</td><td>0.999609</td><td>&quot;story voice acting dialogue lo…</td></tr><tr><td>&quot;broken sword: the sleeping dra…</td><td>&quot;pc&quot;</td><td>7.1</td><td>0</td><td>&quot;DantheMan&quot;</td><td>&quot;The controls on the game are s…</td><td>&quot;the controls on the game are s…</td><td>&quot;en&quot;</td><td>&quot;the controls on the game are s…</td><td>0.6597</td><td>-0.230357</td><td>-0.937647</td><td>&quot;control game broken make impos…</td></tr><tr><td>&quot;broken sword: the sleeping dra…</td><td>&quot;pc&quot;</td><td>7.1</td><td>3</td><td>&quot;SpizyChicken&quot;</td><td>&quot;Low rating because of the EXTR…</td><td>&quot;low rating because of the extr…</td><td>&quot;en&quot;</td><td>&quot;low rating because of the extr…</td><td>-0.5367</td><td>-0.106818</td><td>-0.998015</td><td>&quot;low rating extremely poor cont…</td></tr></tbody></table></div>"
      ]
     },
     "execution_count": 213,
     "metadata": {},
     "output_type": "execute_result"
    }
   ],
   "execution_count": 213
  },
  {
   "metadata": {
    "ExecuteTime": {
     "end_time": "2024-12-26T21:29:31.351281Z",
     "start_time": "2024-12-26T21:29:31.307115Z"
    }
   },
   "cell_type": "code",
   "source": "df['preprocessed_review'].unique()",
   "id": "fb4528378ab1f871",
   "outputs": [
    {
     "data": {
      "text/plain": [
       "shape: (95_635,)\n",
       "Series: 'preprocessed_review' [str]\n",
       "[\n",
       "\t\"review negative aspect game co…\n",
       "\t\"game nothing ground breaking a…\n",
       "\t\"liked game car still plot love…\n",
       "\t\"subpar effort crystal dynamic …\n",
       "\t\"dead rising wrap original stor…\n",
       "\t…\n",
       "\t\"campaign give fresh twist trie…\n",
       "\t\"start quality good time manage…\n",
       "\t\"fun multiplayer game shoot foo…\n",
       "\t\"much better review make look e…\n",
       "\t\"played enjoyed two decade ago …\n",
       "]"
      ],
      "text/html": [
       "<div><style>\n",
       ".dataframe > thead > tr,\n",
       ".dataframe > tbody > tr {\n",
       "  text-align: right;\n",
       "  white-space: pre-wrap;\n",
       "}\n",
       "</style>\n",
       "<small>shape: (95_635,)</small><table border=\"1\" class=\"dataframe\"><thead><tr><th>preprocessed_review</th></tr><tr><td>str</td></tr></thead><tbody><tr><td>&quot;review negative aspect game co…</td></tr><tr><td>&quot;game nothing ground breaking a…</td></tr><tr><td>&quot;liked game car still plot love…</td></tr><tr><td>&quot;subpar effort crystal dynamic …</td></tr><tr><td>&quot;dead rising wrap original stor…</td></tr><tr><td>&hellip;</td></tr><tr><td>&quot;campaign give fresh twist trie…</td></tr><tr><td>&quot;start quality good time manage…</td></tr><tr><td>&quot;fun multiplayer game shoot foo…</td></tr><tr><td>&quot;much better review make look e…</td></tr><tr><td>&quot;played enjoyed two decade ago …</td></tr></tbody></table></div>"
      ]
     },
     "execution_count": 214,
     "metadata": {},
     "output_type": "execute_result"
    }
   ],
   "execution_count": 214
  },
  {
   "metadata": {
    "ExecuteTime": {
     "end_time": "2024-12-26T21:29:31.442277Z",
     "start_time": "2024-12-26T21:29:31.438557Z"
    }
   },
   "cell_type": "code",
   "source": "df.estimated_size('mb')",
   "id": "ddfc0886fba86837",
   "outputs": [
    {
     "data": {
      "text/plain": [
       "206.05440616607666"
      ]
     },
     "execution_count": 215,
     "metadata": {},
     "output_type": "execute_result"
    }
   ],
   "execution_count": 215
  },
  {
   "metadata": {
    "ExecuteTime": {
     "end_time": "2024-12-26T21:29:31.750400Z",
     "start_time": "2024-12-26T21:29:31.623710Z"
    }
   },
   "cell_type": "code",
   "source": [
    "df = df.with_columns(\n",
    "    pl.col('global_user_score').cast(pl.Float32),\n",
    "    pl.col('user_score').cast(pl.UInt8),\n",
    "    pl.col('cleaned_review').str.replace_all(r'\\s+', ' '),\n",
    "    pl.col('language').str.to_uppercase(),\n",
    "    pl.col('platform').str.to_uppercase(),\n",
    "    pl.col('translated_review').str.replace_all(r'\\s+', ' '),\n",
    "    pl.col('vader_sentiment').cast(pl.Float32),\n",
    "    pl.col('textblob_sentiment').cast(pl.Float32),\n",
    "    pl.col('hf_sentiment').cast(pl.Float32),\n",
    "    pl.col('preprocessed_review').str.replace_all(r'\\s+', ' '),\n",
    ")"
   ],
   "id": "1aa233ecb5e58545",
   "outputs": [],
   "execution_count": 216
  },
  {
   "metadata": {
    "ExecuteTime": {
     "end_time": "2024-12-26T21:29:33.338315Z",
     "start_time": "2024-12-26T21:29:31.842905Z"
    }
   },
   "cell_type": "code",
   "source": "df.write_parquet(r'F:\\Datasets\\video_games\\raw_and_processed_user_reviews_sentiment_scores.parquet')",
   "id": "17a5df184652055e",
   "outputs": [],
   "execution_count": 217
  },
  {
   "metadata": {
    "ExecuteTime": {
     "end_time": "2024-12-26T21:29:33.351856Z",
     "start_time": "2024-12-26T21:29:33.349012Z"
    }
   },
   "cell_type": "code",
   "source": "df_path = r\"F:\\Datasets\\video_games\\raw_and_processed_user_reviews_sentiment_scores.parquet\"",
   "id": "1d13f68186e275c2",
   "outputs": [],
   "execution_count": 218
  },
  {
   "metadata": {
    "ExecuteTime": {
     "end_time": "2024-12-26T21:29:33.372650Z",
     "start_time": "2024-12-26T21:29:33.361902Z"
    }
   },
   "cell_type": "code",
   "source": "df_lazy = pl.scan_parquet(df_path).lazy()",
   "id": "bd85ba78ab9e89ca",
   "outputs": [],
   "execution_count": 219
  },
  {
   "metadata": {
    "ExecuteTime": {
     "end_time": "2024-12-26T21:29:33.488357Z",
     "start_time": "2024-12-26T21:29:33.383150Z"
    }
   },
   "cell_type": "code",
   "source": "df = df_lazy.collect()",
   "id": "ea90e5eb4b18b8c9",
   "outputs": [],
   "execution_count": 220
  },
  {
   "metadata": {
    "ExecuteTime": {
     "end_time": "2024-12-26T21:29:33.502064Z",
     "start_time": "2024-12-26T21:29:33.498485Z"
    }
   },
   "cell_type": "code",
   "source": "df.estimated_size('mb')",
   "id": "56e71ca75dfed6ad",
   "outputs": [
    {
     "data": {
      "text/plain": [
       "197.93839359283447"
      ]
     },
     "execution_count": 221,
     "metadata": {},
     "output_type": "execute_result"
    }
   ],
   "execution_count": 221
  },
  {
   "metadata": {
    "ExecuteTime": {
     "end_time": "2024-12-26T21:29:33.516592Z",
     "start_time": "2024-12-26T21:29:33.512901Z"
    }
   },
   "cell_type": "code",
   "source": [
    "original_size_mb = 206.05440616607666\n",
    "reduced_size = df.estimated_size('mb')\n",
    "\n",
    "f'{original_size_mb - reduced_size} MB'"
   ],
   "id": "cabb23e64b7d8dfb",
   "outputs": [
    {
     "data": {
      "text/plain": [
       "'8.116012573242188 MB'"
      ]
     },
     "execution_count": 222,
     "metadata": {},
     "output_type": "execute_result"
    }
   ],
   "execution_count": 222
  },
  {
   "metadata": {
    "ExecuteTime": {
     "end_time": "2024-12-26T21:29:33.553639Z",
     "start_time": "2024-12-26T21:29:33.548137Z"
    }
   },
   "cell_type": "code",
   "source": "df",
   "id": "78aba4e0fe06c0a4",
   "outputs": [
    {
     "data": {
      "text/plain": [
       "shape: (99_498, 13)\n",
       "┌───────────┬──────────┬───────────┬───────────┬───┬───────────┬───────────┬───────────┬───────────┐\n",
       "│ game_titl ┆ platform ┆ global_us ┆ user_scor ┆ … ┆ vader_sen ┆ textblob_ ┆ hf_sentim ┆ preproces │\n",
       "│ e         ┆ ---      ┆ er_score  ┆ e         ┆   ┆ timent    ┆ sentiment ┆ ent       ┆ sed_revie │\n",
       "│ ---       ┆ str      ┆ ---       ┆ ---       ┆   ┆ ---       ┆ ---       ┆ ---       ┆ w         │\n",
       "│ str       ┆          ┆ f32       ┆ u8        ┆   ┆ f32       ┆ f32       ┆ f32       ┆ ---       │\n",
       "│           ┆          ┆           ┆           ┆   ┆           ┆           ┆           ┆ str       │\n",
       "╞═══════════╪══════════╪═══════════╪═══════════╪═══╪═══════════╪═══════════╪═══════════╪═══════════╡\n",
       "│ mario     ┆ WII      ┆ 8.6       ┆ 10        ┆ … ┆ 0.9413    ┆ 0.383333  ┆ 0.845252  ┆ best      │\n",
       "│ kart wii  ┆          ┆           ┆           ┆   ┆           ┆           ┆           ┆ Mario     │\n",
       "│           ┆          ┆           ┆           ┆   ┆           ┆           ┆           ┆ Kart      │\n",
       "│           ┆          ┆           ┆           ┆   ┆           ┆           ┆           ┆ better    │\n",
       "│           ┆          ┆           ┆           ┆   ┆           ┆           ┆           ┆ fucking…  │\n",
       "│ mario     ┆ WII      ┆ 8.6       ┆ 9         ┆ … ┆ 0.9372    ┆ 0.1       ┆ 0.99804   ┆ arguably  │\n",
       "│ kart wii  ┆          ┆           ┆           ┆   ┆           ┆           ┆           ┆ best game │\n",
       "│           ┆          ┆           ┆           ┆   ┆           ┆           ┆           ┆ series    │\n",
       "│           ┆          ┆           ┆           ┆   ┆           ┆           ┆           ┆ comp…     │\n",
       "│ mario     ┆ WII      ┆ 8.6       ┆ 0         ┆ … ┆ -0.6124   ┆ -0.077381 ┆ -0.999683 ┆ mario     │\n",
       "│ kart wii  ┆          ┆           ┆           ┆   ┆           ┆           ┆           ┆ kart wii  │\n",
       "│           ┆          ┆           ┆           ┆   ┆           ┆           ┆           ┆ seriously │\n",
       "│           ┆          ┆           ┆           ┆   ┆           ┆           ┆           ┆ disas…    │\n",
       "│ mario     ┆ WII      ┆ 8.6       ┆ 10        ┆ … ┆ 0.7783    ┆ -0.076667 ┆ -0.98887  ┆ game one  │\n",
       "│ kart wii  ┆          ┆           ┆           ┆   ┆           ┆           ┆           ┆ time      │\n",
       "│           ┆          ┆           ┆           ┆   ┆           ┆           ┆           ┆ favorite  │\n",
       "│           ┆          ┆           ┆           ┆   ┆           ┆           ┆           ┆ classic…  │\n",
       "│ mario     ┆ WII      ┆ 8.6       ┆ 7         ┆ … ┆ 0.959     ┆ 0.302041  ┆ 0.99967   ┆ much fun  │\n",
       "│ kart wii  ┆          ┆           ┆           ┆   ┆           ┆           ┆           ┆ play      │\n",
       "│           ┆          ┆           ┆           ┆   ┆           ┆           ┆           ┆ played    │\n",
       "│           ┆          ┆           ┆           ┆   ┆           ┆           ┆           ┆ kid       │\n",
       "│           ┆          ┆           ┆           ┆   ┆           ┆           ┆           ┆ loved…    │\n",
       "│ …         ┆ …        ┆ …         ┆ …         ┆ … ┆ …         ┆ …         ┆ …         ┆ …         │\n",
       "│ broken    ┆ PC       ┆ 7.1       ┆ 3         ┆ … ┆ -0.5709   ┆ -0.018056 ┆ -0.999223 ┆ reasonabl │\n",
       "│ sword:    ┆          ┆           ┆           ┆   ┆           ┆           ┆           ┆ e story   │\n",
       "│ the       ┆          ┆           ┆           ┆   ┆           ┆           ┆           ┆ poor      │\n",
       "│ sleeping  ┆          ┆           ┆           ┆   ┆           ┆           ┆           ┆ control … │\n",
       "│ dra…      ┆          ┆           ┆           ┆   ┆           ┆           ┆           ┆           │\n",
       "│ broken    ┆ PC       ┆ 7.1       ┆ 10        ┆ … ┆ 0.9709    ┆ 0.385     ┆ 0.999774  ┆ memorable │\n",
       "│ sword:    ┆          ┆           ┆           ┆   ┆           ┆           ┆           ┆ game      │\n",
       "│ the       ┆          ┆           ┆           ┆   ┆           ┆           ┆           ┆ beautiful │\n",
       "│ sleeping  ┆          ┆           ┆           ┆   ┆           ┆           ┆           ┆ graph…    │\n",
       "│ dra…      ┆          ┆           ┆           ┆   ┆           ┆           ┆           ┆           │\n",
       "│ broken    ┆ PC       ┆ 7.1       ┆ 10        ┆ … ┆ 0.9274    ┆ 0.283333  ┆ 0.999609  ┆ story     │\n",
       "│ sword:    ┆          ┆           ┆           ┆   ┆           ┆           ┆           ┆ voice     │\n",
       "│ the       ┆          ┆           ┆           ┆   ┆           ┆           ┆           ┆ acting    │\n",
       "│ sleeping  ┆          ┆           ┆           ┆   ┆           ┆           ┆           ┆ dialogue  │\n",
       "│ dra…      ┆          ┆           ┆           ┆   ┆           ┆           ┆           ┆ lo…       │\n",
       "│ broken    ┆ PC       ┆ 7.1       ┆ 0         ┆ … ┆ 0.6597    ┆ -0.230357 ┆ -0.937647 ┆ control   │\n",
       "│ sword:    ┆          ┆           ┆           ┆   ┆           ┆           ┆           ┆ game      │\n",
       "│ the       ┆          ┆           ┆           ┆   ┆           ┆           ┆           ┆ broken    │\n",
       "│ sleeping  ┆          ┆           ┆           ┆   ┆           ┆           ┆           ┆ make      │\n",
       "│ dra…      ┆          ┆           ┆           ┆   ┆           ┆           ┆           ┆ impos…    │\n",
       "│ broken    ┆ PC       ┆ 7.1       ┆ 3         ┆ … ┆ -0.5367   ┆ -0.106818 ┆ -0.998015 ┆ low       │\n",
       "│ sword:    ┆          ┆           ┆           ┆   ┆           ┆           ┆           ┆ rating    │\n",
       "│ the       ┆          ┆           ┆           ┆   ┆           ┆           ┆           ┆ extremely │\n",
       "│ sleeping  ┆          ┆           ┆           ┆   ┆           ┆           ┆           ┆ poor      │\n",
       "│ dra…      ┆          ┆           ┆           ┆   ┆           ┆           ┆           ┆ cont…     │\n",
       "└───────────┴──────────┴───────────┴───────────┴───┴───────────┴───────────┴───────────┴───────────┘"
      ],
      "text/html": [
       "<div><style>\n",
       ".dataframe > thead > tr,\n",
       ".dataframe > tbody > tr {\n",
       "  text-align: right;\n",
       "  white-space: pre-wrap;\n",
       "}\n",
       "</style>\n",
       "<small>shape: (99_498, 13)</small><table border=\"1\" class=\"dataframe\"><thead><tr><th>game_title</th><th>platform</th><th>global_user_score</th><th>user_score</th><th>username</th><th>review_text</th><th>cleaned_review</th><th>language</th><th>translated_review</th><th>vader_sentiment</th><th>textblob_sentiment</th><th>hf_sentiment</th><th>preprocessed_review</th></tr><tr><td>str</td><td>str</td><td>f32</td><td>u8</td><td>str</td><td>str</td><td>str</td><td>str</td><td>str</td><td>f32</td><td>f32</td><td>f32</td><td>str</td></tr></thead><tbody><tr><td>&quot;mario kart wii&quot;</td><td>&quot;WII&quot;</td><td>8.6</td><td>10</td><td>&quot;ShadowStorm6&quot;</td><td>&quot;Le meilleur Mario kart. Il est…</td><td>&quot;le meilleur mario kart il est …</td><td>&quot;FR&quot;</td><td>&quot;the best Mario Kart is better …</td><td>0.9413</td><td>0.383333</td><td>0.845252</td><td>&quot;best Mario Kart better fucking…</td></tr><tr><td>&quot;mario kart wii&quot;</td><td>&quot;WII&quot;</td><td>8.6</td><td>9</td><td>&quot;CooperTrooper79&quot;</td><td>&quot;Arguably the best game in the …</td><td>&quot;arguably the best game in the …</td><td>&quot;EN&quot;</td><td>&quot;arguably the best game in the …</td><td>0.9372</td><td>0.1</td><td>0.99804</td><td>&quot;arguably best game series comp…</td></tr><tr><td>&quot;mario kart wii&quot;</td><td>&quot;WII&quot;</td><td>8.6</td><td>0</td><td>&quot;rockodiador&quot;</td><td>&quot;Mario Kart Wii? Seriously? Wha…</td><td>&quot;mario kart wii seriously what …</td><td>&quot;EN&quot;</td><td>&quot;mario kart wii seriously what …</td><td>-0.6124</td><td>-0.077381</td><td>-0.999683</td><td>&quot;mario kart wii seriously disas…</td></tr><tr><td>&quot;mario kart wii&quot;</td><td>&quot;WII&quot;</td><td>8.6</td><td>10</td><td>&quot;williamgt45&quot;</td><td>&quot;This game is one of my all tim…</td><td>&quot;this game is one of my all tim…</td><td>&quot;EN&quot;</td><td>&quot;this game is one of my all tim…</td><td>0.7783</td><td>-0.076667</td><td>-0.98887</td><td>&quot;game one time favorite classic…</td></tr><tr><td>&quot;mario kart wii&quot;</td><td>&quot;WII&quot;</td><td>8.6</td><td>7</td><td>&quot;WLS_Silver&quot;</td><td>&quot;So much fun to play. Played th…</td><td>&quot;so much fun to play played thi…</td><td>&quot;EN&quot;</td><td>&quot;so much fun to play played thi…</td><td>0.959</td><td>0.302041</td><td>0.99967</td><td>&quot;much fun play played kid loved…</td></tr><tr><td>&hellip;</td><td>&hellip;</td><td>&hellip;</td><td>&hellip;</td><td>&hellip;</td><td>&hellip;</td><td>&hellip;</td><td>&hellip;</td><td>&hellip;</td><td>&hellip;</td><td>&hellip;</td><td>&hellip;</td><td>&hellip;</td></tr><tr><td>&quot;broken sword: the sleeping dra…</td><td>&quot;PC&quot;</td><td>7.1</td><td>3</td><td>&quot;theSplund&quot;</td><td>&quot;Reasonable story. Poor control…</td><td>&quot;reasonable story poor control …</td><td>&quot;EN&quot;</td><td>&quot;reasonable story poor control …</td><td>-0.5709</td><td>-0.018056</td><td>-0.999223</td><td>&quot;reasonable story poor control …</td></tr><tr><td>&quot;broken sword: the sleeping dra…</td><td>&quot;PC&quot;</td><td>7.1</td><td>10</td><td>&quot;cumbach&quot;</td><td>&quot;It&#x27;s an memorable game, with b…</td><td>&quot;its an memorable game with bea…</td><td>&quot;EN&quot;</td><td>&quot;its an memorable game with bea…</td><td>0.9709</td><td>0.385</td><td>0.999774</td><td>&quot;memorable game beautiful graph…</td></tr><tr><td>&quot;broken sword: the sleeping dra…</td><td>&quot;PC&quot;</td><td>7.1</td><td>10</td><td>&quot;IamKing&quot;</td><td>&quot;The story, voice acting, dialo…</td><td>&quot;the story voice acting dialogu…</td><td>&quot;EN&quot;</td><td>&quot;the story voice acting dialogu…</td><td>0.9274</td><td>0.283333</td><td>0.999609</td><td>&quot;story voice acting dialogue lo…</td></tr><tr><td>&quot;broken sword: the sleeping dra…</td><td>&quot;PC&quot;</td><td>7.1</td><td>0</td><td>&quot;DantheMan&quot;</td><td>&quot;The controls on the game are s…</td><td>&quot;the controls on the game are s…</td><td>&quot;EN&quot;</td><td>&quot;the controls on the game are s…</td><td>0.6597</td><td>-0.230357</td><td>-0.937647</td><td>&quot;control game broken make impos…</td></tr><tr><td>&quot;broken sword: the sleeping dra…</td><td>&quot;PC&quot;</td><td>7.1</td><td>3</td><td>&quot;SpizyChicken&quot;</td><td>&quot;Low rating because of the EXTR…</td><td>&quot;low rating because of the extr…</td><td>&quot;EN&quot;</td><td>&quot;low rating because of the extr…</td><td>-0.5367</td><td>-0.106818</td><td>-0.998015</td><td>&quot;low rating extremely poor cont…</td></tr></tbody></table></div>"
      ]
     },
     "execution_count": 223,
     "metadata": {},
     "output_type": "execute_result"
    }
   ],
   "execution_count": 223
  },
  {
   "metadata": {
    "ExecuteTime": {
     "end_time": "2024-12-26T21:29:33.602258Z",
     "start_time": "2024-12-26T21:29:33.595638Z"
    }
   },
   "cell_type": "code",
   "source": [
    "average_score = df.select(\n",
    "    ((pl.col('global_user_score') + pl.col('user_score')) / 2).alias('average_score')\n",
    ")\n",
    "\n",
    "df.insert_column(4, average_score['average_score'])"
   ],
   "id": "5f6120787eed92c7",
   "outputs": [
    {
     "data": {
      "text/plain": [
       "shape: (99_498, 14)\n",
       "┌───────────┬──────────┬───────────┬───────────┬───┬───────────┬───────────┬───────────┬───────────┐\n",
       "│ game_titl ┆ platform ┆ global_us ┆ user_scor ┆ … ┆ vader_sen ┆ textblob_ ┆ hf_sentim ┆ preproces │\n",
       "│ e         ┆ ---      ┆ er_score  ┆ e         ┆   ┆ timent    ┆ sentiment ┆ ent       ┆ sed_revie │\n",
       "│ ---       ┆ str      ┆ ---       ┆ ---       ┆   ┆ ---       ┆ ---       ┆ ---       ┆ w         │\n",
       "│ str       ┆          ┆ f32       ┆ u8        ┆   ┆ f32       ┆ f32       ┆ f32       ┆ ---       │\n",
       "│           ┆          ┆           ┆           ┆   ┆           ┆           ┆           ┆ str       │\n",
       "╞═══════════╪══════════╪═══════════╪═══════════╪═══╪═══════════╪═══════════╪═══════════╪═══════════╡\n",
       "│ mario     ┆ WII      ┆ 8.6       ┆ 10        ┆ … ┆ 0.9413    ┆ 0.383333  ┆ 0.845252  ┆ best      │\n",
       "│ kart wii  ┆          ┆           ┆           ┆   ┆           ┆           ┆           ┆ Mario     │\n",
       "│           ┆          ┆           ┆           ┆   ┆           ┆           ┆           ┆ Kart      │\n",
       "│           ┆          ┆           ┆           ┆   ┆           ┆           ┆           ┆ better    │\n",
       "│           ┆          ┆           ┆           ┆   ┆           ┆           ┆           ┆ fucking…  │\n",
       "│ mario     ┆ WII      ┆ 8.6       ┆ 9         ┆ … ┆ 0.9372    ┆ 0.1       ┆ 0.99804   ┆ arguably  │\n",
       "│ kart wii  ┆          ┆           ┆           ┆   ┆           ┆           ┆           ┆ best game │\n",
       "│           ┆          ┆           ┆           ┆   ┆           ┆           ┆           ┆ series    │\n",
       "│           ┆          ┆           ┆           ┆   ┆           ┆           ┆           ┆ comp…     │\n",
       "│ mario     ┆ WII      ┆ 8.6       ┆ 0         ┆ … ┆ -0.6124   ┆ -0.077381 ┆ -0.999683 ┆ mario     │\n",
       "│ kart wii  ┆          ┆           ┆           ┆   ┆           ┆           ┆           ┆ kart wii  │\n",
       "│           ┆          ┆           ┆           ┆   ┆           ┆           ┆           ┆ seriously │\n",
       "│           ┆          ┆           ┆           ┆   ┆           ┆           ┆           ┆ disas…    │\n",
       "│ mario     ┆ WII      ┆ 8.6       ┆ 10        ┆ … ┆ 0.7783    ┆ -0.076667 ┆ -0.98887  ┆ game one  │\n",
       "│ kart wii  ┆          ┆           ┆           ┆   ┆           ┆           ┆           ┆ time      │\n",
       "│           ┆          ┆           ┆           ┆   ┆           ┆           ┆           ┆ favorite  │\n",
       "│           ┆          ┆           ┆           ┆   ┆           ┆           ┆           ┆ classic…  │\n",
       "│ mario     ┆ WII      ┆ 8.6       ┆ 7         ┆ … ┆ 0.959     ┆ 0.302041  ┆ 0.99967   ┆ much fun  │\n",
       "│ kart wii  ┆          ┆           ┆           ┆   ┆           ┆           ┆           ┆ play      │\n",
       "│           ┆          ┆           ┆           ┆   ┆           ┆           ┆           ┆ played    │\n",
       "│           ┆          ┆           ┆           ┆   ┆           ┆           ┆           ┆ kid       │\n",
       "│           ┆          ┆           ┆           ┆   ┆           ┆           ┆           ┆ loved…    │\n",
       "│ …         ┆ …        ┆ …         ┆ …         ┆ … ┆ …         ┆ …         ┆ …         ┆ …         │\n",
       "│ broken    ┆ PC       ┆ 7.1       ┆ 3         ┆ … ┆ -0.5709   ┆ -0.018056 ┆ -0.999223 ┆ reasonabl │\n",
       "│ sword:    ┆          ┆           ┆           ┆   ┆           ┆           ┆           ┆ e story   │\n",
       "│ the       ┆          ┆           ┆           ┆   ┆           ┆           ┆           ┆ poor      │\n",
       "│ sleeping  ┆          ┆           ┆           ┆   ┆           ┆           ┆           ┆ control … │\n",
       "│ dra…      ┆          ┆           ┆           ┆   ┆           ┆           ┆           ┆           │\n",
       "│ broken    ┆ PC       ┆ 7.1       ┆ 10        ┆ … ┆ 0.9709    ┆ 0.385     ┆ 0.999774  ┆ memorable │\n",
       "│ sword:    ┆          ┆           ┆           ┆   ┆           ┆           ┆           ┆ game      │\n",
       "│ the       ┆          ┆           ┆           ┆   ┆           ┆           ┆           ┆ beautiful │\n",
       "│ sleeping  ┆          ┆           ┆           ┆   ┆           ┆           ┆           ┆ graph…    │\n",
       "│ dra…      ┆          ┆           ┆           ┆   ┆           ┆           ┆           ┆           │\n",
       "│ broken    ┆ PC       ┆ 7.1       ┆ 10        ┆ … ┆ 0.9274    ┆ 0.283333  ┆ 0.999609  ┆ story     │\n",
       "│ sword:    ┆          ┆           ┆           ┆   ┆           ┆           ┆           ┆ voice     │\n",
       "│ the       ┆          ┆           ┆           ┆   ┆           ┆           ┆           ┆ acting    │\n",
       "│ sleeping  ┆          ┆           ┆           ┆   ┆           ┆           ┆           ┆ dialogue  │\n",
       "│ dra…      ┆          ┆           ┆           ┆   ┆           ┆           ┆           ┆ lo…       │\n",
       "│ broken    ┆ PC       ┆ 7.1       ┆ 0         ┆ … ┆ 0.6597    ┆ -0.230357 ┆ -0.937647 ┆ control   │\n",
       "│ sword:    ┆          ┆           ┆           ┆   ┆           ┆           ┆           ┆ game      │\n",
       "│ the       ┆          ┆           ┆           ┆   ┆           ┆           ┆           ┆ broken    │\n",
       "│ sleeping  ┆          ┆           ┆           ┆   ┆           ┆           ┆           ┆ make      │\n",
       "│ dra…      ┆          ┆           ┆           ┆   ┆           ┆           ┆           ┆ impos…    │\n",
       "│ broken    ┆ PC       ┆ 7.1       ┆ 3         ┆ … ┆ -0.5367   ┆ -0.106818 ┆ -0.998015 ┆ low       │\n",
       "│ sword:    ┆          ┆           ┆           ┆   ┆           ┆           ┆           ┆ rating    │\n",
       "│ the       ┆          ┆           ┆           ┆   ┆           ┆           ┆           ┆ extremely │\n",
       "│ sleeping  ┆          ┆           ┆           ┆   ┆           ┆           ┆           ┆ poor      │\n",
       "│ dra…      ┆          ┆           ┆           ┆   ┆           ┆           ┆           ┆ cont…     │\n",
       "└───────────┴──────────┴───────────┴───────────┴───┴───────────┴───────────┴───────────┴───────────┘"
      ],
      "text/html": [
       "<div><style>\n",
       ".dataframe > thead > tr,\n",
       ".dataframe > tbody > tr {\n",
       "  text-align: right;\n",
       "  white-space: pre-wrap;\n",
       "}\n",
       "</style>\n",
       "<small>shape: (99_498, 14)</small><table border=\"1\" class=\"dataframe\"><thead><tr><th>game_title</th><th>platform</th><th>global_user_score</th><th>user_score</th><th>average_score</th><th>username</th><th>review_text</th><th>cleaned_review</th><th>language</th><th>translated_review</th><th>vader_sentiment</th><th>textblob_sentiment</th><th>hf_sentiment</th><th>preprocessed_review</th></tr><tr><td>str</td><td>str</td><td>f32</td><td>u8</td><td>f32</td><td>str</td><td>str</td><td>str</td><td>str</td><td>str</td><td>f32</td><td>f32</td><td>f32</td><td>str</td></tr></thead><tbody><tr><td>&quot;mario kart wii&quot;</td><td>&quot;WII&quot;</td><td>8.6</td><td>10</td><td>9.3</td><td>&quot;ShadowStorm6&quot;</td><td>&quot;Le meilleur Mario kart. Il est…</td><td>&quot;le meilleur mario kart il est …</td><td>&quot;FR&quot;</td><td>&quot;the best Mario Kart is better …</td><td>0.9413</td><td>0.383333</td><td>0.845252</td><td>&quot;best Mario Kart better fucking…</td></tr><tr><td>&quot;mario kart wii&quot;</td><td>&quot;WII&quot;</td><td>8.6</td><td>9</td><td>8.8</td><td>&quot;CooperTrooper79&quot;</td><td>&quot;Arguably the best game in the …</td><td>&quot;arguably the best game in the …</td><td>&quot;EN&quot;</td><td>&quot;arguably the best game in the …</td><td>0.9372</td><td>0.1</td><td>0.99804</td><td>&quot;arguably best game series comp…</td></tr><tr><td>&quot;mario kart wii&quot;</td><td>&quot;WII&quot;</td><td>8.6</td><td>0</td><td>4.3</td><td>&quot;rockodiador&quot;</td><td>&quot;Mario Kart Wii? Seriously? Wha…</td><td>&quot;mario kart wii seriously what …</td><td>&quot;EN&quot;</td><td>&quot;mario kart wii seriously what …</td><td>-0.6124</td><td>-0.077381</td><td>-0.999683</td><td>&quot;mario kart wii seriously disas…</td></tr><tr><td>&quot;mario kart wii&quot;</td><td>&quot;WII&quot;</td><td>8.6</td><td>10</td><td>9.3</td><td>&quot;williamgt45&quot;</td><td>&quot;This game is one of my all tim…</td><td>&quot;this game is one of my all tim…</td><td>&quot;EN&quot;</td><td>&quot;this game is one of my all tim…</td><td>0.7783</td><td>-0.076667</td><td>-0.98887</td><td>&quot;game one time favorite classic…</td></tr><tr><td>&quot;mario kart wii&quot;</td><td>&quot;WII&quot;</td><td>8.6</td><td>7</td><td>7.8</td><td>&quot;WLS_Silver&quot;</td><td>&quot;So much fun to play. Played th…</td><td>&quot;so much fun to play played thi…</td><td>&quot;EN&quot;</td><td>&quot;so much fun to play played thi…</td><td>0.959</td><td>0.302041</td><td>0.99967</td><td>&quot;much fun play played kid loved…</td></tr><tr><td>&hellip;</td><td>&hellip;</td><td>&hellip;</td><td>&hellip;</td><td>&hellip;</td><td>&hellip;</td><td>&hellip;</td><td>&hellip;</td><td>&hellip;</td><td>&hellip;</td><td>&hellip;</td><td>&hellip;</td><td>&hellip;</td><td>&hellip;</td></tr><tr><td>&quot;broken sword: the sleeping dra…</td><td>&quot;PC&quot;</td><td>7.1</td><td>3</td><td>5.05</td><td>&quot;theSplund&quot;</td><td>&quot;Reasonable story. Poor control…</td><td>&quot;reasonable story poor control …</td><td>&quot;EN&quot;</td><td>&quot;reasonable story poor control …</td><td>-0.5709</td><td>-0.018056</td><td>-0.999223</td><td>&quot;reasonable story poor control …</td></tr><tr><td>&quot;broken sword: the sleeping dra…</td><td>&quot;PC&quot;</td><td>7.1</td><td>10</td><td>8.55</td><td>&quot;cumbach&quot;</td><td>&quot;It&#x27;s an memorable game, with b…</td><td>&quot;its an memorable game with bea…</td><td>&quot;EN&quot;</td><td>&quot;its an memorable game with bea…</td><td>0.9709</td><td>0.385</td><td>0.999774</td><td>&quot;memorable game beautiful graph…</td></tr><tr><td>&quot;broken sword: the sleeping dra…</td><td>&quot;PC&quot;</td><td>7.1</td><td>10</td><td>8.55</td><td>&quot;IamKing&quot;</td><td>&quot;The story, voice acting, dialo…</td><td>&quot;the story voice acting dialogu…</td><td>&quot;EN&quot;</td><td>&quot;the story voice acting dialogu…</td><td>0.9274</td><td>0.283333</td><td>0.999609</td><td>&quot;story voice acting dialogue lo…</td></tr><tr><td>&quot;broken sword: the sleeping dra…</td><td>&quot;PC&quot;</td><td>7.1</td><td>0</td><td>3.55</td><td>&quot;DantheMan&quot;</td><td>&quot;The controls on the game are s…</td><td>&quot;the controls on the game are s…</td><td>&quot;EN&quot;</td><td>&quot;the controls on the game are s…</td><td>0.6597</td><td>-0.230357</td><td>-0.937647</td><td>&quot;control game broken make impos…</td></tr><tr><td>&quot;broken sword: the sleeping dra…</td><td>&quot;PC&quot;</td><td>7.1</td><td>3</td><td>5.05</td><td>&quot;SpizyChicken&quot;</td><td>&quot;Low rating because of the EXTR…</td><td>&quot;low rating because of the extr…</td><td>&quot;EN&quot;</td><td>&quot;low rating because of the extr…</td><td>-0.5367</td><td>-0.106818</td><td>-0.998015</td><td>&quot;low rating extremely poor cont…</td></tr></tbody></table></div>"
      ]
     },
     "execution_count": 224,
     "metadata": {},
     "output_type": "execute_result"
    }
   ],
   "execution_count": 224
  },
  {
   "metadata": {
    "ExecuteTime": {
     "end_time": "2024-12-26T21:29:33.682397Z",
     "start_time": "2024-12-26T21:29:33.675472Z"
    }
   },
   "cell_type": "code",
   "source": [
    "most_popular_platforms = df['platform'].value_counts(sort=True)\n",
    "most_popular_platforms"
   ],
   "id": "691cd93bbffae445",
   "outputs": [
    {
     "data": {
      "text/plain": [
       "shape: (22, 2)\n",
       "┌────────────────┬───────┐\n",
       "│ platform       ┆ count │\n",
       "│ ---            ┆ ---   │\n",
       "│ str            ┆ u32   │\n",
       "╞════════════════╪═══════╡\n",
       "│ PC             ┆ 25251 │\n",
       "│ XBOX-360       ┆ 15318 │\n",
       "│ PLAYSTATION-3  ┆ 15130 │\n",
       "│ PLAYSTATION-2  ┆ 7934  │\n",
       "│ PLAYSTATION-4  ┆ 7276  │\n",
       "│ …              ┆ …     │\n",
       "│ XBOX-SERIES-X  ┆ 325   │\n",
       "│ PLAYSTATION    ┆ 170   │\n",
       "│ DREAMCAST      ┆ 79    │\n",
       "│ NINTENDO-64    ┆ 63    │\n",
       "│ IOS-IPHONEIPAD ┆ 10    │\n",
       "└────────────────┴───────┘"
      ],
      "text/html": [
       "<div><style>\n",
       ".dataframe > thead > tr,\n",
       ".dataframe > tbody > tr {\n",
       "  text-align: right;\n",
       "  white-space: pre-wrap;\n",
       "}\n",
       "</style>\n",
       "<small>shape: (22, 2)</small><table border=\"1\" class=\"dataframe\"><thead><tr><th>platform</th><th>count</th></tr><tr><td>str</td><td>u32</td></tr></thead><tbody><tr><td>&quot;PC&quot;</td><td>25251</td></tr><tr><td>&quot;XBOX-360&quot;</td><td>15318</td></tr><tr><td>&quot;PLAYSTATION-3&quot;</td><td>15130</td></tr><tr><td>&quot;PLAYSTATION-2&quot;</td><td>7934</td></tr><tr><td>&quot;PLAYSTATION-4&quot;</td><td>7276</td></tr><tr><td>&hellip;</td><td>&hellip;</td></tr><tr><td>&quot;XBOX-SERIES-X&quot;</td><td>325</td></tr><tr><td>&quot;PLAYSTATION&quot;</td><td>170</td></tr><tr><td>&quot;DREAMCAST&quot;</td><td>79</td></tr><tr><td>&quot;NINTENDO-64&quot;</td><td>63</td></tr><tr><td>&quot;IOS-IPHONEIPAD&quot;</td><td>10</td></tr></tbody></table></div>"
      ]
     },
     "execution_count": 225,
     "metadata": {},
     "output_type": "execute_result"
    }
   ],
   "execution_count": 225
  },
  {
   "metadata": {
    "ExecuteTime": {
     "end_time": "2024-12-26T21:29:33.815261Z",
     "start_time": "2024-12-26T21:29:33.786627Z"
    }
   },
   "cell_type": "code",
   "source": [
    "fig = px.bar(\n",
    "    data_frame=most_popular_platforms,\n",
    "    x='platform',\n",
    "    y='count',\n",
    ").update_layout(\n",
    "    title='Most popular platforms',\n",
    "    width=1000,\n",
    "    height=800,\n",
    "    showlegend=True,  # Enable legend\n",
    ")\n",
    "\n",
    "fig.show()"
   ],
   "id": "b7b489f5c5fbc5c9",
   "outputs": [
    {
     "data": {
      "application/vnd.plotly.v1+json": {
       "data": [
        {
         "alignmentgroup": "True",
         "hovertemplate": "platform=%{x}<br>count=%{y}<extra></extra>",
         "legendgroup": "",
         "marker": {
          "color": "#636efa",
          "pattern": {
           "shape": ""
          }
         },
         "name": "",
         "offsetgroup": "",
         "orientation": "v",
         "showlegend": false,
         "textposition": "auto",
         "x": [
          "PC",
          "XBOX-360",
          "PLAYSTATION-3",
          "PLAYSTATION-2",
          "PLAYSTATION-4",
          "XBOX-ONE",
          "WII",
          "3DS",
          "DS",
          "GAMECUBE",
          "WII-U",
          "PLAYSTATION-VITA",
          "PSP",
          "XBOX",
          "NINTENDO-SWITCH",
          "GAME-BOY-ADVANCE",
          "PLAYSTATION-5",
          "XBOX-SERIES-X",
          "PLAYSTATION",
          "DREAMCAST",
          "NINTENDO-64",
          "IOS-IPHONEIPAD"
         ],
         "xaxis": "x",
         "y": [
          25251,
          15318,
          15130,
          7934,
          7276,
          4589,
          3843,
          3306,
          2953,
          2282,
          2199,
          2166,
          1964,
          1454,
          1371,
          1273,
          542,
          325,
          170,
          79,
          63,
          10
         ],
         "yaxis": "y",
         "type": "bar"
        }
       ],
       "layout": {
        "template": {
         "data": {
          "histogram2dcontour": [
           {
            "type": "histogram2dcontour",
            "colorbar": {
             "outlinewidth": 0,
             "ticks": ""
            },
            "colorscale": [
             [
              0.0,
              "#0d0887"
             ],
             [
              0.1111111111111111,
              "#46039f"
             ],
             [
              0.2222222222222222,
              "#7201a8"
             ],
             [
              0.3333333333333333,
              "#9c179e"
             ],
             [
              0.4444444444444444,
              "#bd3786"
             ],
             [
              0.5555555555555556,
              "#d8576b"
             ],
             [
              0.6666666666666666,
              "#ed7953"
             ],
             [
              0.7777777777777778,
              "#fb9f3a"
             ],
             [
              0.8888888888888888,
              "#fdca26"
             ],
             [
              1.0,
              "#f0f921"
             ]
            ]
           }
          ],
          "choropleth": [
           {
            "type": "choropleth",
            "colorbar": {
             "outlinewidth": 0,
             "ticks": ""
            }
           }
          ],
          "histogram2d": [
           {
            "type": "histogram2d",
            "colorbar": {
             "outlinewidth": 0,
             "ticks": ""
            },
            "colorscale": [
             [
              0.0,
              "#0d0887"
             ],
             [
              0.1111111111111111,
              "#46039f"
             ],
             [
              0.2222222222222222,
              "#7201a8"
             ],
             [
              0.3333333333333333,
              "#9c179e"
             ],
             [
              0.4444444444444444,
              "#bd3786"
             ],
             [
              0.5555555555555556,
              "#d8576b"
             ],
             [
              0.6666666666666666,
              "#ed7953"
             ],
             [
              0.7777777777777778,
              "#fb9f3a"
             ],
             [
              0.8888888888888888,
              "#fdca26"
             ],
             [
              1.0,
              "#f0f921"
             ]
            ]
           }
          ],
          "heatmap": [
           {
            "type": "heatmap",
            "colorbar": {
             "outlinewidth": 0,
             "ticks": ""
            },
            "colorscale": [
             [
              0.0,
              "#0d0887"
             ],
             [
              0.1111111111111111,
              "#46039f"
             ],
             [
              0.2222222222222222,
              "#7201a8"
             ],
             [
              0.3333333333333333,
              "#9c179e"
             ],
             [
              0.4444444444444444,
              "#bd3786"
             ],
             [
              0.5555555555555556,
              "#d8576b"
             ],
             [
              0.6666666666666666,
              "#ed7953"
             ],
             [
              0.7777777777777778,
              "#fb9f3a"
             ],
             [
              0.8888888888888888,
              "#fdca26"
             ],
             [
              1.0,
              "#f0f921"
             ]
            ]
           }
          ],
          "heatmapgl": [
           {
            "type": "heatmapgl",
            "colorbar": {
             "outlinewidth": 0,
             "ticks": ""
            },
            "colorscale": [
             [
              0.0,
              "#0d0887"
             ],
             [
              0.1111111111111111,
              "#46039f"
             ],
             [
              0.2222222222222222,
              "#7201a8"
             ],
             [
              0.3333333333333333,
              "#9c179e"
             ],
             [
              0.4444444444444444,
              "#bd3786"
             ],
             [
              0.5555555555555556,
              "#d8576b"
             ],
             [
              0.6666666666666666,
              "#ed7953"
             ],
             [
              0.7777777777777778,
              "#fb9f3a"
             ],
             [
              0.8888888888888888,
              "#fdca26"
             ],
             [
              1.0,
              "#f0f921"
             ]
            ]
           }
          ],
          "contourcarpet": [
           {
            "type": "contourcarpet",
            "colorbar": {
             "outlinewidth": 0,
             "ticks": ""
            }
           }
          ],
          "contour": [
           {
            "type": "contour",
            "colorbar": {
             "outlinewidth": 0,
             "ticks": ""
            },
            "colorscale": [
             [
              0.0,
              "#0d0887"
             ],
             [
              0.1111111111111111,
              "#46039f"
             ],
             [
              0.2222222222222222,
              "#7201a8"
             ],
             [
              0.3333333333333333,
              "#9c179e"
             ],
             [
              0.4444444444444444,
              "#bd3786"
             ],
             [
              0.5555555555555556,
              "#d8576b"
             ],
             [
              0.6666666666666666,
              "#ed7953"
             ],
             [
              0.7777777777777778,
              "#fb9f3a"
             ],
             [
              0.8888888888888888,
              "#fdca26"
             ],
             [
              1.0,
              "#f0f921"
             ]
            ]
           }
          ],
          "surface": [
           {
            "type": "surface",
            "colorbar": {
             "outlinewidth": 0,
             "ticks": ""
            },
            "colorscale": [
             [
              0.0,
              "#0d0887"
             ],
             [
              0.1111111111111111,
              "#46039f"
             ],
             [
              0.2222222222222222,
              "#7201a8"
             ],
             [
              0.3333333333333333,
              "#9c179e"
             ],
             [
              0.4444444444444444,
              "#bd3786"
             ],
             [
              0.5555555555555556,
              "#d8576b"
             ],
             [
              0.6666666666666666,
              "#ed7953"
             ],
             [
              0.7777777777777778,
              "#fb9f3a"
             ],
             [
              0.8888888888888888,
              "#fdca26"
             ],
             [
              1.0,
              "#f0f921"
             ]
            ]
           }
          ],
          "mesh3d": [
           {
            "type": "mesh3d",
            "colorbar": {
             "outlinewidth": 0,
             "ticks": ""
            }
           }
          ],
          "scatter": [
           {
            "marker": {
             "line": {
              "color": "#283442"
             }
            },
            "type": "scatter"
           }
          ],
          "parcoords": [
           {
            "type": "parcoords",
            "line": {
             "colorbar": {
              "outlinewidth": 0,
              "ticks": ""
             }
            }
           }
          ],
          "scatterpolargl": [
           {
            "type": "scatterpolargl",
            "marker": {
             "colorbar": {
              "outlinewidth": 0,
              "ticks": ""
             }
            }
           }
          ],
          "bar": [
           {
            "error_x": {
             "color": "#f2f5fa"
            },
            "error_y": {
             "color": "#f2f5fa"
            },
            "marker": {
             "line": {
              "color": "rgb(17,17,17)",
              "width": 0.5
             },
             "pattern": {
              "fillmode": "overlay",
              "size": 10,
              "solidity": 0.2
             }
            },
            "type": "bar"
           }
          ],
          "scattergeo": [
           {
            "type": "scattergeo",
            "marker": {
             "colorbar": {
              "outlinewidth": 0,
              "ticks": ""
             }
            }
           }
          ],
          "scatterpolar": [
           {
            "type": "scatterpolar",
            "marker": {
             "colorbar": {
              "outlinewidth": 0,
              "ticks": ""
             }
            }
           }
          ],
          "histogram": [
           {
            "marker": {
             "pattern": {
              "fillmode": "overlay",
              "size": 10,
              "solidity": 0.2
             }
            },
            "type": "histogram"
           }
          ],
          "scattergl": [
           {
            "marker": {
             "line": {
              "color": "#283442"
             }
            },
            "type": "scattergl"
           }
          ],
          "scatter3d": [
           {
            "type": "scatter3d",
            "line": {
             "colorbar": {
              "outlinewidth": 0,
              "ticks": ""
             }
            },
            "marker": {
             "colorbar": {
              "outlinewidth": 0,
              "ticks": ""
             }
            }
           }
          ],
          "scattermapbox": [
           {
            "type": "scattermapbox",
            "marker": {
             "colorbar": {
              "outlinewidth": 0,
              "ticks": ""
             }
            }
           }
          ],
          "scatterternary": [
           {
            "type": "scatterternary",
            "marker": {
             "colorbar": {
              "outlinewidth": 0,
              "ticks": ""
             }
            }
           }
          ],
          "scattercarpet": [
           {
            "type": "scattercarpet",
            "marker": {
             "colorbar": {
              "outlinewidth": 0,
              "ticks": ""
             }
            }
           }
          ],
          "carpet": [
           {
            "aaxis": {
             "endlinecolor": "#A2B1C6",
             "gridcolor": "#506784",
             "linecolor": "#506784",
             "minorgridcolor": "#506784",
             "startlinecolor": "#A2B1C6"
            },
            "baxis": {
             "endlinecolor": "#A2B1C6",
             "gridcolor": "#506784",
             "linecolor": "#506784",
             "minorgridcolor": "#506784",
             "startlinecolor": "#A2B1C6"
            },
            "type": "carpet"
           }
          ],
          "table": [
           {
            "cells": {
             "fill": {
              "color": "#506784"
             },
             "line": {
              "color": "rgb(17,17,17)"
             }
            },
            "header": {
             "fill": {
              "color": "#2a3f5f"
             },
             "line": {
              "color": "rgb(17,17,17)"
             }
            },
            "type": "table"
           }
          ],
          "barpolar": [
           {
            "marker": {
             "line": {
              "color": "rgb(17,17,17)",
              "width": 0.5
             },
             "pattern": {
              "fillmode": "overlay",
              "size": 10,
              "solidity": 0.2
             }
            },
            "type": "barpolar"
           }
          ],
          "pie": [
           {
            "automargin": true,
            "type": "pie"
           }
          ]
         },
         "layout": {
          "autotypenumbers": "strict",
          "colorway": [
           "#636efa",
           "#EF553B",
           "#00cc96",
           "#ab63fa",
           "#FFA15A",
           "#19d3f3",
           "#FF6692",
           "#B6E880",
           "#FF97FF",
           "#FECB52"
          ],
          "font": {
           "color": "#f2f5fa"
          },
          "hovermode": "closest",
          "hoverlabel": {
           "align": "left"
          },
          "paper_bgcolor": "rgb(17,17,17)",
          "plot_bgcolor": "rgb(17,17,17)",
          "polar": {
           "bgcolor": "rgb(17,17,17)",
           "angularaxis": {
            "gridcolor": "#506784",
            "linecolor": "#506784",
            "ticks": ""
           },
           "radialaxis": {
            "gridcolor": "#506784",
            "linecolor": "#506784",
            "ticks": ""
           }
          },
          "ternary": {
           "bgcolor": "rgb(17,17,17)",
           "aaxis": {
            "gridcolor": "#506784",
            "linecolor": "#506784",
            "ticks": ""
           },
           "baxis": {
            "gridcolor": "#506784",
            "linecolor": "#506784",
            "ticks": ""
           },
           "caxis": {
            "gridcolor": "#506784",
            "linecolor": "#506784",
            "ticks": ""
           }
          },
          "coloraxis": {
           "colorbar": {
            "outlinewidth": 0,
            "ticks": ""
           }
          },
          "colorscale": {
           "sequential": [
            [
             0.0,
             "#0d0887"
            ],
            [
             0.1111111111111111,
             "#46039f"
            ],
            [
             0.2222222222222222,
             "#7201a8"
            ],
            [
             0.3333333333333333,
             "#9c179e"
            ],
            [
             0.4444444444444444,
             "#bd3786"
            ],
            [
             0.5555555555555556,
             "#d8576b"
            ],
            [
             0.6666666666666666,
             "#ed7953"
            ],
            [
             0.7777777777777778,
             "#fb9f3a"
            ],
            [
             0.8888888888888888,
             "#fdca26"
            ],
            [
             1.0,
             "#f0f921"
            ]
           ],
           "sequentialminus": [
            [
             0.0,
             "#0d0887"
            ],
            [
             0.1111111111111111,
             "#46039f"
            ],
            [
             0.2222222222222222,
             "#7201a8"
            ],
            [
             0.3333333333333333,
             "#9c179e"
            ],
            [
             0.4444444444444444,
             "#bd3786"
            ],
            [
             0.5555555555555556,
             "#d8576b"
            ],
            [
             0.6666666666666666,
             "#ed7953"
            ],
            [
             0.7777777777777778,
             "#fb9f3a"
            ],
            [
             0.8888888888888888,
             "#fdca26"
            ],
            [
             1.0,
             "#f0f921"
            ]
           ],
           "diverging": [
            [
             0,
             "#8e0152"
            ],
            [
             0.1,
             "#c51b7d"
            ],
            [
             0.2,
             "#de77ae"
            ],
            [
             0.3,
             "#f1b6da"
            ],
            [
             0.4,
             "#fde0ef"
            ],
            [
             0.5,
             "#f7f7f7"
            ],
            [
             0.6,
             "#e6f5d0"
            ],
            [
             0.7,
             "#b8e186"
            ],
            [
             0.8,
             "#7fbc41"
            ],
            [
             0.9,
             "#4d9221"
            ],
            [
             1,
             "#276419"
            ]
           ]
          },
          "xaxis": {
           "gridcolor": "#283442",
           "linecolor": "#506784",
           "ticks": "",
           "title": {
            "standoff": 15
           },
           "zerolinecolor": "#283442",
           "automargin": true,
           "zerolinewidth": 2
          },
          "yaxis": {
           "gridcolor": "#283442",
           "linecolor": "#506784",
           "ticks": "",
           "title": {
            "standoff": 15
           },
           "zerolinecolor": "#283442",
           "automargin": true,
           "zerolinewidth": 2
          },
          "scene": {
           "xaxis": {
            "backgroundcolor": "rgb(17,17,17)",
            "gridcolor": "#506784",
            "linecolor": "#506784",
            "showbackground": true,
            "ticks": "",
            "zerolinecolor": "#C8D4E3",
            "gridwidth": 2
           },
           "yaxis": {
            "backgroundcolor": "rgb(17,17,17)",
            "gridcolor": "#506784",
            "linecolor": "#506784",
            "showbackground": true,
            "ticks": "",
            "zerolinecolor": "#C8D4E3",
            "gridwidth": 2
           },
           "zaxis": {
            "backgroundcolor": "rgb(17,17,17)",
            "gridcolor": "#506784",
            "linecolor": "#506784",
            "showbackground": true,
            "ticks": "",
            "zerolinecolor": "#C8D4E3",
            "gridwidth": 2
           }
          },
          "shapedefaults": {
           "line": {
            "color": "#f2f5fa"
           }
          },
          "annotationdefaults": {
           "arrowcolor": "#f2f5fa",
           "arrowhead": 0,
           "arrowwidth": 1
          },
          "geo": {
           "bgcolor": "rgb(17,17,17)",
           "landcolor": "rgb(17,17,17)",
           "subunitcolor": "#506784",
           "showland": true,
           "showlakes": true,
           "lakecolor": "rgb(17,17,17)"
          },
          "title": {
           "x": 0.05
          },
          "updatemenudefaults": {
           "bgcolor": "#506784",
           "borderwidth": 0
          },
          "sliderdefaults": {
           "bgcolor": "#C8D4E3",
           "borderwidth": 1,
           "bordercolor": "rgb(17,17,17)",
           "tickwidth": 0
          },
          "mapbox": {
           "style": "dark"
          }
         }
        },
        "xaxis": {
         "anchor": "y",
         "domain": [
          0.0,
          1.0
         ],
         "title": {
          "text": "platform"
         }
        },
        "yaxis": {
         "anchor": "x",
         "domain": [
          0.0,
          1.0
         ],
         "title": {
          "text": "count"
         }
        },
        "legend": {
         "tracegroupgap": 0
        },
        "margin": {
         "t": 60
        },
        "barmode": "relative",
        "title": {
         "text": "Most popular platforms"
        },
        "width": 1000,
        "height": 800,
        "showlegend": true
       },
       "config": {
        "plotlyServerURL": "https://plot.ly"
       }
      },
      "text/html": [
       "<div>                            <div id=\"ad3196df-70c6-414f-b3ed-0f44999309ce\" class=\"plotly-graph-div\" style=\"height:800px; width:1000px;\"></div>            <script type=\"text/javascript\">                require([\"plotly\"], function(Plotly) {                    window.PLOTLYENV=window.PLOTLYENV || {};                                    if (document.getElementById(\"ad3196df-70c6-414f-b3ed-0f44999309ce\")) {                    Plotly.newPlot(                        \"ad3196df-70c6-414f-b3ed-0f44999309ce\",                        [{\"alignmentgroup\":\"True\",\"hovertemplate\":\"platform=%{x}\\u003cbr\\u003ecount=%{y}\\u003cextra\\u003e\\u003c\\u002fextra\\u003e\",\"legendgroup\":\"\",\"marker\":{\"color\":\"#636efa\",\"pattern\":{\"shape\":\"\"}},\"name\":\"\",\"offsetgroup\":\"\",\"orientation\":\"v\",\"showlegend\":false,\"textposition\":\"auto\",\"x\":[\"PC\",\"XBOX-360\",\"PLAYSTATION-3\",\"PLAYSTATION-2\",\"PLAYSTATION-4\",\"XBOX-ONE\",\"WII\",\"3DS\",\"DS\",\"GAMECUBE\",\"WII-U\",\"PLAYSTATION-VITA\",\"PSP\",\"XBOX\",\"NINTENDO-SWITCH\",\"GAME-BOY-ADVANCE\",\"PLAYSTATION-5\",\"XBOX-SERIES-X\",\"PLAYSTATION\",\"DREAMCAST\",\"NINTENDO-64\",\"IOS-IPHONEIPAD\"],\"xaxis\":\"x\",\"y\":[25251,15318,15130,7934,7276,4589,3843,3306,2953,2282,2199,2166,1964,1454,1371,1273,542,325,170,79,63,10],\"yaxis\":\"y\",\"type\":\"bar\"}],                        {\"template\":{\"data\":{\"histogram2dcontour\":[{\"type\":\"histogram2dcontour\",\"colorbar\":{\"outlinewidth\":0,\"ticks\":\"\"},\"colorscale\":[[0.0,\"#0d0887\"],[0.1111111111111111,\"#46039f\"],[0.2222222222222222,\"#7201a8\"],[0.3333333333333333,\"#9c179e\"],[0.4444444444444444,\"#bd3786\"],[0.5555555555555556,\"#d8576b\"],[0.6666666666666666,\"#ed7953\"],[0.7777777777777778,\"#fb9f3a\"],[0.8888888888888888,\"#fdca26\"],[1.0,\"#f0f921\"]]}],\"choropleth\":[{\"type\":\"choropleth\",\"colorbar\":{\"outlinewidth\":0,\"ticks\":\"\"}}],\"histogram2d\":[{\"type\":\"histogram2d\",\"colorbar\":{\"outlinewidth\":0,\"ticks\":\"\"},\"colorscale\":[[0.0,\"#0d0887\"],[0.1111111111111111,\"#46039f\"],[0.2222222222222222,\"#7201a8\"],[0.3333333333333333,\"#9c179e\"],[0.4444444444444444,\"#bd3786\"],[0.5555555555555556,\"#d8576b\"],[0.6666666666666666,\"#ed7953\"],[0.7777777777777778,\"#fb9f3a\"],[0.8888888888888888,\"#fdca26\"],[1.0,\"#f0f921\"]]}],\"heatmap\":[{\"type\":\"heatmap\",\"colorbar\":{\"outlinewidth\":0,\"ticks\":\"\"},\"colorscale\":[[0.0,\"#0d0887\"],[0.1111111111111111,\"#46039f\"],[0.2222222222222222,\"#7201a8\"],[0.3333333333333333,\"#9c179e\"],[0.4444444444444444,\"#bd3786\"],[0.5555555555555556,\"#d8576b\"],[0.6666666666666666,\"#ed7953\"],[0.7777777777777778,\"#fb9f3a\"],[0.8888888888888888,\"#fdca26\"],[1.0,\"#f0f921\"]]}],\"heatmapgl\":[{\"type\":\"heatmapgl\",\"colorbar\":{\"outlinewidth\":0,\"ticks\":\"\"},\"colorscale\":[[0.0,\"#0d0887\"],[0.1111111111111111,\"#46039f\"],[0.2222222222222222,\"#7201a8\"],[0.3333333333333333,\"#9c179e\"],[0.4444444444444444,\"#bd3786\"],[0.5555555555555556,\"#d8576b\"],[0.6666666666666666,\"#ed7953\"],[0.7777777777777778,\"#fb9f3a\"],[0.8888888888888888,\"#fdca26\"],[1.0,\"#f0f921\"]]}],\"contourcarpet\":[{\"type\":\"contourcarpet\",\"colorbar\":{\"outlinewidth\":0,\"ticks\":\"\"}}],\"contour\":[{\"type\":\"contour\",\"colorbar\":{\"outlinewidth\":0,\"ticks\":\"\"},\"colorscale\":[[0.0,\"#0d0887\"],[0.1111111111111111,\"#46039f\"],[0.2222222222222222,\"#7201a8\"],[0.3333333333333333,\"#9c179e\"],[0.4444444444444444,\"#bd3786\"],[0.5555555555555556,\"#d8576b\"],[0.6666666666666666,\"#ed7953\"],[0.7777777777777778,\"#fb9f3a\"],[0.8888888888888888,\"#fdca26\"],[1.0,\"#f0f921\"]]}],\"surface\":[{\"type\":\"surface\",\"colorbar\":{\"outlinewidth\":0,\"ticks\":\"\"},\"colorscale\":[[0.0,\"#0d0887\"],[0.1111111111111111,\"#46039f\"],[0.2222222222222222,\"#7201a8\"],[0.3333333333333333,\"#9c179e\"],[0.4444444444444444,\"#bd3786\"],[0.5555555555555556,\"#d8576b\"],[0.6666666666666666,\"#ed7953\"],[0.7777777777777778,\"#fb9f3a\"],[0.8888888888888888,\"#fdca26\"],[1.0,\"#f0f921\"]]}],\"mesh3d\":[{\"type\":\"mesh3d\",\"colorbar\":{\"outlinewidth\":0,\"ticks\":\"\"}}],\"scatter\":[{\"marker\":{\"line\":{\"color\":\"#283442\"}},\"type\":\"scatter\"}],\"parcoords\":[{\"type\":\"parcoords\",\"line\":{\"colorbar\":{\"outlinewidth\":0,\"ticks\":\"\"}}}],\"scatterpolargl\":[{\"type\":\"scatterpolargl\",\"marker\":{\"colorbar\":{\"outlinewidth\":0,\"ticks\":\"\"}}}],\"bar\":[{\"error_x\":{\"color\":\"#f2f5fa\"},\"error_y\":{\"color\":\"#f2f5fa\"},\"marker\":{\"line\":{\"color\":\"rgb(17,17,17)\",\"width\":0.5},\"pattern\":{\"fillmode\":\"overlay\",\"size\":10,\"solidity\":0.2}},\"type\":\"bar\"}],\"scattergeo\":[{\"type\":\"scattergeo\",\"marker\":{\"colorbar\":{\"outlinewidth\":0,\"ticks\":\"\"}}}],\"scatterpolar\":[{\"type\":\"scatterpolar\",\"marker\":{\"colorbar\":{\"outlinewidth\":0,\"ticks\":\"\"}}}],\"histogram\":[{\"marker\":{\"pattern\":{\"fillmode\":\"overlay\",\"size\":10,\"solidity\":0.2}},\"type\":\"histogram\"}],\"scattergl\":[{\"marker\":{\"line\":{\"color\":\"#283442\"}},\"type\":\"scattergl\"}],\"scatter3d\":[{\"type\":\"scatter3d\",\"line\":{\"colorbar\":{\"outlinewidth\":0,\"ticks\":\"\"}},\"marker\":{\"colorbar\":{\"outlinewidth\":0,\"ticks\":\"\"}}}],\"scattermapbox\":[{\"type\":\"scattermapbox\",\"marker\":{\"colorbar\":{\"outlinewidth\":0,\"ticks\":\"\"}}}],\"scatterternary\":[{\"type\":\"scatterternary\",\"marker\":{\"colorbar\":{\"outlinewidth\":0,\"ticks\":\"\"}}}],\"scattercarpet\":[{\"type\":\"scattercarpet\",\"marker\":{\"colorbar\":{\"outlinewidth\":0,\"ticks\":\"\"}}}],\"carpet\":[{\"aaxis\":{\"endlinecolor\":\"#A2B1C6\",\"gridcolor\":\"#506784\",\"linecolor\":\"#506784\",\"minorgridcolor\":\"#506784\",\"startlinecolor\":\"#A2B1C6\"},\"baxis\":{\"endlinecolor\":\"#A2B1C6\",\"gridcolor\":\"#506784\",\"linecolor\":\"#506784\",\"minorgridcolor\":\"#506784\",\"startlinecolor\":\"#A2B1C6\"},\"type\":\"carpet\"}],\"table\":[{\"cells\":{\"fill\":{\"color\":\"#506784\"},\"line\":{\"color\":\"rgb(17,17,17)\"}},\"header\":{\"fill\":{\"color\":\"#2a3f5f\"},\"line\":{\"color\":\"rgb(17,17,17)\"}},\"type\":\"table\"}],\"barpolar\":[{\"marker\":{\"line\":{\"color\":\"rgb(17,17,17)\",\"width\":0.5},\"pattern\":{\"fillmode\":\"overlay\",\"size\":10,\"solidity\":0.2}},\"type\":\"barpolar\"}],\"pie\":[{\"automargin\":true,\"type\":\"pie\"}]},\"layout\":{\"autotypenumbers\":\"strict\",\"colorway\":[\"#636efa\",\"#EF553B\",\"#00cc96\",\"#ab63fa\",\"#FFA15A\",\"#19d3f3\",\"#FF6692\",\"#B6E880\",\"#FF97FF\",\"#FECB52\"],\"font\":{\"color\":\"#f2f5fa\"},\"hovermode\":\"closest\",\"hoverlabel\":{\"align\":\"left\"},\"paper_bgcolor\":\"rgb(17,17,17)\",\"plot_bgcolor\":\"rgb(17,17,17)\",\"polar\":{\"bgcolor\":\"rgb(17,17,17)\",\"angularaxis\":{\"gridcolor\":\"#506784\",\"linecolor\":\"#506784\",\"ticks\":\"\"},\"radialaxis\":{\"gridcolor\":\"#506784\",\"linecolor\":\"#506784\",\"ticks\":\"\"}},\"ternary\":{\"bgcolor\":\"rgb(17,17,17)\",\"aaxis\":{\"gridcolor\":\"#506784\",\"linecolor\":\"#506784\",\"ticks\":\"\"},\"baxis\":{\"gridcolor\":\"#506784\",\"linecolor\":\"#506784\",\"ticks\":\"\"},\"caxis\":{\"gridcolor\":\"#506784\",\"linecolor\":\"#506784\",\"ticks\":\"\"}},\"coloraxis\":{\"colorbar\":{\"outlinewidth\":0,\"ticks\":\"\"}},\"colorscale\":{\"sequential\":[[0.0,\"#0d0887\"],[0.1111111111111111,\"#46039f\"],[0.2222222222222222,\"#7201a8\"],[0.3333333333333333,\"#9c179e\"],[0.4444444444444444,\"#bd3786\"],[0.5555555555555556,\"#d8576b\"],[0.6666666666666666,\"#ed7953\"],[0.7777777777777778,\"#fb9f3a\"],[0.8888888888888888,\"#fdca26\"],[1.0,\"#f0f921\"]],\"sequentialminus\":[[0.0,\"#0d0887\"],[0.1111111111111111,\"#46039f\"],[0.2222222222222222,\"#7201a8\"],[0.3333333333333333,\"#9c179e\"],[0.4444444444444444,\"#bd3786\"],[0.5555555555555556,\"#d8576b\"],[0.6666666666666666,\"#ed7953\"],[0.7777777777777778,\"#fb9f3a\"],[0.8888888888888888,\"#fdca26\"],[1.0,\"#f0f921\"]],\"diverging\":[[0,\"#8e0152\"],[0.1,\"#c51b7d\"],[0.2,\"#de77ae\"],[0.3,\"#f1b6da\"],[0.4,\"#fde0ef\"],[0.5,\"#f7f7f7\"],[0.6,\"#e6f5d0\"],[0.7,\"#b8e186\"],[0.8,\"#7fbc41\"],[0.9,\"#4d9221\"],[1,\"#276419\"]]},\"xaxis\":{\"gridcolor\":\"#283442\",\"linecolor\":\"#506784\",\"ticks\":\"\",\"title\":{\"standoff\":15},\"zerolinecolor\":\"#283442\",\"automargin\":true,\"zerolinewidth\":2},\"yaxis\":{\"gridcolor\":\"#283442\",\"linecolor\":\"#506784\",\"ticks\":\"\",\"title\":{\"standoff\":15},\"zerolinecolor\":\"#283442\",\"automargin\":true,\"zerolinewidth\":2},\"scene\":{\"xaxis\":{\"backgroundcolor\":\"rgb(17,17,17)\",\"gridcolor\":\"#506784\",\"linecolor\":\"#506784\",\"showbackground\":true,\"ticks\":\"\",\"zerolinecolor\":\"#C8D4E3\",\"gridwidth\":2},\"yaxis\":{\"backgroundcolor\":\"rgb(17,17,17)\",\"gridcolor\":\"#506784\",\"linecolor\":\"#506784\",\"showbackground\":true,\"ticks\":\"\",\"zerolinecolor\":\"#C8D4E3\",\"gridwidth\":2},\"zaxis\":{\"backgroundcolor\":\"rgb(17,17,17)\",\"gridcolor\":\"#506784\",\"linecolor\":\"#506784\",\"showbackground\":true,\"ticks\":\"\",\"zerolinecolor\":\"#C8D4E3\",\"gridwidth\":2}},\"shapedefaults\":{\"line\":{\"color\":\"#f2f5fa\"}},\"annotationdefaults\":{\"arrowcolor\":\"#f2f5fa\",\"arrowhead\":0,\"arrowwidth\":1},\"geo\":{\"bgcolor\":\"rgb(17,17,17)\",\"landcolor\":\"rgb(17,17,17)\",\"subunitcolor\":\"#506784\",\"showland\":true,\"showlakes\":true,\"lakecolor\":\"rgb(17,17,17)\"},\"title\":{\"x\":0.05},\"updatemenudefaults\":{\"bgcolor\":\"#506784\",\"borderwidth\":0},\"sliderdefaults\":{\"bgcolor\":\"#C8D4E3\",\"borderwidth\":1,\"bordercolor\":\"rgb(17,17,17)\",\"tickwidth\":0},\"mapbox\":{\"style\":\"dark\"}}},\"xaxis\":{\"anchor\":\"y\",\"domain\":[0.0,1.0],\"title\":{\"text\":\"platform\"}},\"yaxis\":{\"anchor\":\"x\",\"domain\":[0.0,1.0],\"title\":{\"text\":\"count\"}},\"legend\":{\"tracegroupgap\":0},\"margin\":{\"t\":60},\"barmode\":\"relative\",\"title\":{\"text\":\"Most popular platforms\"},\"width\":1000,\"height\":800,\"showlegend\":true},                        {\"responsive\": true}                    ).then(function(){\n",
       "                            \n",
       "var gd = document.getElementById('ad3196df-70c6-414f-b3ed-0f44999309ce');\n",
       "var x = new MutationObserver(function (mutations, observer) {{\n",
       "        var display = window.getComputedStyle(gd).display;\n",
       "        if (!display || display === 'none') {{\n",
       "            console.log([gd, 'removed!']);\n",
       "            Plotly.purge(gd);\n",
       "            observer.disconnect();\n",
       "        }}\n",
       "}});\n",
       "\n",
       "// Listen for the removal of the full notebook cells\n",
       "var notebookContainer = gd.closest('#notebook-container');\n",
       "if (notebookContainer) {{\n",
       "    x.observe(notebookContainer, {childList: true});\n",
       "}}\n",
       "\n",
       "// Listen for the clearing of the current output cell\n",
       "var outputEl = gd.closest('.output');\n",
       "if (outputEl) {{\n",
       "    x.observe(outputEl, {childList: true});\n",
       "}}\n",
       "\n",
       "                        })                };                });            </script>        </div>"
      ]
     },
     "metadata": {},
     "output_type": "display_data"
    }
   ],
   "execution_count": 226
  },
  {
   "metadata": {
    "ExecuteTime": {
     "end_time": "2024-12-26T21:29:33.996506Z",
     "start_time": "2024-12-26T21:29:33.972207Z"
    }
   },
   "cell_type": "code",
   "source": [
    "fig = px.pie(\n",
    "    data_frame=most_popular_platforms,\n",
    "    names='platform',\n",
    "    values='count',\n",
    ").update_layout(\n",
    "    title='Most popular platforms',\n",
    "    width=1200,\n",
    "    height=750,\n",
    ")\n",
    "\n",
    "fig.show()"
   ],
   "id": "4e5263bfbe78b845",
   "outputs": [
    {
     "data": {
      "application/vnd.plotly.v1+json": {
       "data": [
        {
         "domain": {
          "x": [
           0.0,
           1.0
          ],
          "y": [
           0.0,
           1.0
          ]
         },
         "hovertemplate": "platform=%{label}<br>count=%{value}<extra></extra>",
         "labels": [
          "PC",
          "XBOX-360",
          "PLAYSTATION-3",
          "PLAYSTATION-2",
          "PLAYSTATION-4",
          "XBOX-ONE",
          "WII",
          "3DS",
          "DS",
          "GAMECUBE",
          "WII-U",
          "PLAYSTATION-VITA",
          "PSP",
          "XBOX",
          "NINTENDO-SWITCH",
          "GAME-BOY-ADVANCE",
          "PLAYSTATION-5",
          "XBOX-SERIES-X",
          "PLAYSTATION",
          "DREAMCAST",
          "NINTENDO-64",
          "IOS-IPHONEIPAD"
         ],
         "legendgroup": "",
         "name": "",
         "showlegend": true,
         "values": [
          25251,
          15318,
          15130,
          7934,
          7276,
          4589,
          3843,
          3306,
          2953,
          2282,
          2199,
          2166,
          1964,
          1454,
          1371,
          1273,
          542,
          325,
          170,
          79,
          63,
          10
         ],
         "type": "pie"
        }
       ],
       "layout": {
        "template": {
         "data": {
          "histogram2dcontour": [
           {
            "type": "histogram2dcontour",
            "colorbar": {
             "outlinewidth": 0,
             "ticks": ""
            },
            "colorscale": [
             [
              0.0,
              "#0d0887"
             ],
             [
              0.1111111111111111,
              "#46039f"
             ],
             [
              0.2222222222222222,
              "#7201a8"
             ],
             [
              0.3333333333333333,
              "#9c179e"
             ],
             [
              0.4444444444444444,
              "#bd3786"
             ],
             [
              0.5555555555555556,
              "#d8576b"
             ],
             [
              0.6666666666666666,
              "#ed7953"
             ],
             [
              0.7777777777777778,
              "#fb9f3a"
             ],
             [
              0.8888888888888888,
              "#fdca26"
             ],
             [
              1.0,
              "#f0f921"
             ]
            ]
           }
          ],
          "choropleth": [
           {
            "type": "choropleth",
            "colorbar": {
             "outlinewidth": 0,
             "ticks": ""
            }
           }
          ],
          "histogram2d": [
           {
            "type": "histogram2d",
            "colorbar": {
             "outlinewidth": 0,
             "ticks": ""
            },
            "colorscale": [
             [
              0.0,
              "#0d0887"
             ],
             [
              0.1111111111111111,
              "#46039f"
             ],
             [
              0.2222222222222222,
              "#7201a8"
             ],
             [
              0.3333333333333333,
              "#9c179e"
             ],
             [
              0.4444444444444444,
              "#bd3786"
             ],
             [
              0.5555555555555556,
              "#d8576b"
             ],
             [
              0.6666666666666666,
              "#ed7953"
             ],
             [
              0.7777777777777778,
              "#fb9f3a"
             ],
             [
              0.8888888888888888,
              "#fdca26"
             ],
             [
              1.0,
              "#f0f921"
             ]
            ]
           }
          ],
          "heatmap": [
           {
            "type": "heatmap",
            "colorbar": {
             "outlinewidth": 0,
             "ticks": ""
            },
            "colorscale": [
             [
              0.0,
              "#0d0887"
             ],
             [
              0.1111111111111111,
              "#46039f"
             ],
             [
              0.2222222222222222,
              "#7201a8"
             ],
             [
              0.3333333333333333,
              "#9c179e"
             ],
             [
              0.4444444444444444,
              "#bd3786"
             ],
             [
              0.5555555555555556,
              "#d8576b"
             ],
             [
              0.6666666666666666,
              "#ed7953"
             ],
             [
              0.7777777777777778,
              "#fb9f3a"
             ],
             [
              0.8888888888888888,
              "#fdca26"
             ],
             [
              1.0,
              "#f0f921"
             ]
            ]
           }
          ],
          "heatmapgl": [
           {
            "type": "heatmapgl",
            "colorbar": {
             "outlinewidth": 0,
             "ticks": ""
            },
            "colorscale": [
             [
              0.0,
              "#0d0887"
             ],
             [
              0.1111111111111111,
              "#46039f"
             ],
             [
              0.2222222222222222,
              "#7201a8"
             ],
             [
              0.3333333333333333,
              "#9c179e"
             ],
             [
              0.4444444444444444,
              "#bd3786"
             ],
             [
              0.5555555555555556,
              "#d8576b"
             ],
             [
              0.6666666666666666,
              "#ed7953"
             ],
             [
              0.7777777777777778,
              "#fb9f3a"
             ],
             [
              0.8888888888888888,
              "#fdca26"
             ],
             [
              1.0,
              "#f0f921"
             ]
            ]
           }
          ],
          "contourcarpet": [
           {
            "type": "contourcarpet",
            "colorbar": {
             "outlinewidth": 0,
             "ticks": ""
            }
           }
          ],
          "contour": [
           {
            "type": "contour",
            "colorbar": {
             "outlinewidth": 0,
             "ticks": ""
            },
            "colorscale": [
             [
              0.0,
              "#0d0887"
             ],
             [
              0.1111111111111111,
              "#46039f"
             ],
             [
              0.2222222222222222,
              "#7201a8"
             ],
             [
              0.3333333333333333,
              "#9c179e"
             ],
             [
              0.4444444444444444,
              "#bd3786"
             ],
             [
              0.5555555555555556,
              "#d8576b"
             ],
             [
              0.6666666666666666,
              "#ed7953"
             ],
             [
              0.7777777777777778,
              "#fb9f3a"
             ],
             [
              0.8888888888888888,
              "#fdca26"
             ],
             [
              1.0,
              "#f0f921"
             ]
            ]
           }
          ],
          "surface": [
           {
            "type": "surface",
            "colorbar": {
             "outlinewidth": 0,
             "ticks": ""
            },
            "colorscale": [
             [
              0.0,
              "#0d0887"
             ],
             [
              0.1111111111111111,
              "#46039f"
             ],
             [
              0.2222222222222222,
              "#7201a8"
             ],
             [
              0.3333333333333333,
              "#9c179e"
             ],
             [
              0.4444444444444444,
              "#bd3786"
             ],
             [
              0.5555555555555556,
              "#d8576b"
             ],
             [
              0.6666666666666666,
              "#ed7953"
             ],
             [
              0.7777777777777778,
              "#fb9f3a"
             ],
             [
              0.8888888888888888,
              "#fdca26"
             ],
             [
              1.0,
              "#f0f921"
             ]
            ]
           }
          ],
          "mesh3d": [
           {
            "type": "mesh3d",
            "colorbar": {
             "outlinewidth": 0,
             "ticks": ""
            }
           }
          ],
          "scatter": [
           {
            "marker": {
             "line": {
              "color": "#283442"
             }
            },
            "type": "scatter"
           }
          ],
          "parcoords": [
           {
            "type": "parcoords",
            "line": {
             "colorbar": {
              "outlinewidth": 0,
              "ticks": ""
             }
            }
           }
          ],
          "scatterpolargl": [
           {
            "type": "scatterpolargl",
            "marker": {
             "colorbar": {
              "outlinewidth": 0,
              "ticks": ""
             }
            }
           }
          ],
          "bar": [
           {
            "error_x": {
             "color": "#f2f5fa"
            },
            "error_y": {
             "color": "#f2f5fa"
            },
            "marker": {
             "line": {
              "color": "rgb(17,17,17)",
              "width": 0.5
             },
             "pattern": {
              "fillmode": "overlay",
              "size": 10,
              "solidity": 0.2
             }
            },
            "type": "bar"
           }
          ],
          "scattergeo": [
           {
            "type": "scattergeo",
            "marker": {
             "colorbar": {
              "outlinewidth": 0,
              "ticks": ""
             }
            }
           }
          ],
          "scatterpolar": [
           {
            "type": "scatterpolar",
            "marker": {
             "colorbar": {
              "outlinewidth": 0,
              "ticks": ""
             }
            }
           }
          ],
          "histogram": [
           {
            "marker": {
             "pattern": {
              "fillmode": "overlay",
              "size": 10,
              "solidity": 0.2
             }
            },
            "type": "histogram"
           }
          ],
          "scattergl": [
           {
            "marker": {
             "line": {
              "color": "#283442"
             }
            },
            "type": "scattergl"
           }
          ],
          "scatter3d": [
           {
            "type": "scatter3d",
            "line": {
             "colorbar": {
              "outlinewidth": 0,
              "ticks": ""
             }
            },
            "marker": {
             "colorbar": {
              "outlinewidth": 0,
              "ticks": ""
             }
            }
           }
          ],
          "scattermapbox": [
           {
            "type": "scattermapbox",
            "marker": {
             "colorbar": {
              "outlinewidth": 0,
              "ticks": ""
             }
            }
           }
          ],
          "scatterternary": [
           {
            "type": "scatterternary",
            "marker": {
             "colorbar": {
              "outlinewidth": 0,
              "ticks": ""
             }
            }
           }
          ],
          "scattercarpet": [
           {
            "type": "scattercarpet",
            "marker": {
             "colorbar": {
              "outlinewidth": 0,
              "ticks": ""
             }
            }
           }
          ],
          "carpet": [
           {
            "aaxis": {
             "endlinecolor": "#A2B1C6",
             "gridcolor": "#506784",
             "linecolor": "#506784",
             "minorgridcolor": "#506784",
             "startlinecolor": "#A2B1C6"
            },
            "baxis": {
             "endlinecolor": "#A2B1C6",
             "gridcolor": "#506784",
             "linecolor": "#506784",
             "minorgridcolor": "#506784",
             "startlinecolor": "#A2B1C6"
            },
            "type": "carpet"
           }
          ],
          "table": [
           {
            "cells": {
             "fill": {
              "color": "#506784"
             },
             "line": {
              "color": "rgb(17,17,17)"
             }
            },
            "header": {
             "fill": {
              "color": "#2a3f5f"
             },
             "line": {
              "color": "rgb(17,17,17)"
             }
            },
            "type": "table"
           }
          ],
          "barpolar": [
           {
            "marker": {
             "line": {
              "color": "rgb(17,17,17)",
              "width": 0.5
             },
             "pattern": {
              "fillmode": "overlay",
              "size": 10,
              "solidity": 0.2
             }
            },
            "type": "barpolar"
           }
          ],
          "pie": [
           {
            "automargin": true,
            "type": "pie"
           }
          ]
         },
         "layout": {
          "autotypenumbers": "strict",
          "colorway": [
           "#636efa",
           "#EF553B",
           "#00cc96",
           "#ab63fa",
           "#FFA15A",
           "#19d3f3",
           "#FF6692",
           "#B6E880",
           "#FF97FF",
           "#FECB52"
          ],
          "font": {
           "color": "#f2f5fa"
          },
          "hovermode": "closest",
          "hoverlabel": {
           "align": "left"
          },
          "paper_bgcolor": "rgb(17,17,17)",
          "plot_bgcolor": "rgb(17,17,17)",
          "polar": {
           "bgcolor": "rgb(17,17,17)",
           "angularaxis": {
            "gridcolor": "#506784",
            "linecolor": "#506784",
            "ticks": ""
           },
           "radialaxis": {
            "gridcolor": "#506784",
            "linecolor": "#506784",
            "ticks": ""
           }
          },
          "ternary": {
           "bgcolor": "rgb(17,17,17)",
           "aaxis": {
            "gridcolor": "#506784",
            "linecolor": "#506784",
            "ticks": ""
           },
           "baxis": {
            "gridcolor": "#506784",
            "linecolor": "#506784",
            "ticks": ""
           },
           "caxis": {
            "gridcolor": "#506784",
            "linecolor": "#506784",
            "ticks": ""
           }
          },
          "coloraxis": {
           "colorbar": {
            "outlinewidth": 0,
            "ticks": ""
           }
          },
          "colorscale": {
           "sequential": [
            [
             0.0,
             "#0d0887"
            ],
            [
             0.1111111111111111,
             "#46039f"
            ],
            [
             0.2222222222222222,
             "#7201a8"
            ],
            [
             0.3333333333333333,
             "#9c179e"
            ],
            [
             0.4444444444444444,
             "#bd3786"
            ],
            [
             0.5555555555555556,
             "#d8576b"
            ],
            [
             0.6666666666666666,
             "#ed7953"
            ],
            [
             0.7777777777777778,
             "#fb9f3a"
            ],
            [
             0.8888888888888888,
             "#fdca26"
            ],
            [
             1.0,
             "#f0f921"
            ]
           ],
           "sequentialminus": [
            [
             0.0,
             "#0d0887"
            ],
            [
             0.1111111111111111,
             "#46039f"
            ],
            [
             0.2222222222222222,
             "#7201a8"
            ],
            [
             0.3333333333333333,
             "#9c179e"
            ],
            [
             0.4444444444444444,
             "#bd3786"
            ],
            [
             0.5555555555555556,
             "#d8576b"
            ],
            [
             0.6666666666666666,
             "#ed7953"
            ],
            [
             0.7777777777777778,
             "#fb9f3a"
            ],
            [
             0.8888888888888888,
             "#fdca26"
            ],
            [
             1.0,
             "#f0f921"
            ]
           ],
           "diverging": [
            [
             0,
             "#8e0152"
            ],
            [
             0.1,
             "#c51b7d"
            ],
            [
             0.2,
             "#de77ae"
            ],
            [
             0.3,
             "#f1b6da"
            ],
            [
             0.4,
             "#fde0ef"
            ],
            [
             0.5,
             "#f7f7f7"
            ],
            [
             0.6,
             "#e6f5d0"
            ],
            [
             0.7,
             "#b8e186"
            ],
            [
             0.8,
             "#7fbc41"
            ],
            [
             0.9,
             "#4d9221"
            ],
            [
             1,
             "#276419"
            ]
           ]
          },
          "xaxis": {
           "gridcolor": "#283442",
           "linecolor": "#506784",
           "ticks": "",
           "title": {
            "standoff": 15
           },
           "zerolinecolor": "#283442",
           "automargin": true,
           "zerolinewidth": 2
          },
          "yaxis": {
           "gridcolor": "#283442",
           "linecolor": "#506784",
           "ticks": "",
           "title": {
            "standoff": 15
           },
           "zerolinecolor": "#283442",
           "automargin": true,
           "zerolinewidth": 2
          },
          "scene": {
           "xaxis": {
            "backgroundcolor": "rgb(17,17,17)",
            "gridcolor": "#506784",
            "linecolor": "#506784",
            "showbackground": true,
            "ticks": "",
            "zerolinecolor": "#C8D4E3",
            "gridwidth": 2
           },
           "yaxis": {
            "backgroundcolor": "rgb(17,17,17)",
            "gridcolor": "#506784",
            "linecolor": "#506784",
            "showbackground": true,
            "ticks": "",
            "zerolinecolor": "#C8D4E3",
            "gridwidth": 2
           },
           "zaxis": {
            "backgroundcolor": "rgb(17,17,17)",
            "gridcolor": "#506784",
            "linecolor": "#506784",
            "showbackground": true,
            "ticks": "",
            "zerolinecolor": "#C8D4E3",
            "gridwidth": 2
           }
          },
          "shapedefaults": {
           "line": {
            "color": "#f2f5fa"
           }
          },
          "annotationdefaults": {
           "arrowcolor": "#f2f5fa",
           "arrowhead": 0,
           "arrowwidth": 1
          },
          "geo": {
           "bgcolor": "rgb(17,17,17)",
           "landcolor": "rgb(17,17,17)",
           "subunitcolor": "#506784",
           "showland": true,
           "showlakes": true,
           "lakecolor": "rgb(17,17,17)"
          },
          "title": {
           "x": 0.05
          },
          "updatemenudefaults": {
           "bgcolor": "#506784",
           "borderwidth": 0
          },
          "sliderdefaults": {
           "bgcolor": "#C8D4E3",
           "borderwidth": 1,
           "bordercolor": "rgb(17,17,17)",
           "tickwidth": 0
          },
          "mapbox": {
           "style": "dark"
          }
         }
        },
        "legend": {
         "tracegroupgap": 0
        },
        "margin": {
         "t": 60
        },
        "title": {
         "text": "Most popular platforms"
        },
        "width": 1200,
        "height": 750
       },
       "config": {
        "plotlyServerURL": "https://plot.ly"
       }
      },
      "text/html": [
       "<div>                            <div id=\"32855eec-7495-48bf-bd74-2eeb9f76b138\" class=\"plotly-graph-div\" style=\"height:750px; width:1200px;\"></div>            <script type=\"text/javascript\">                require([\"plotly\"], function(Plotly) {                    window.PLOTLYENV=window.PLOTLYENV || {};                                    if (document.getElementById(\"32855eec-7495-48bf-bd74-2eeb9f76b138\")) {                    Plotly.newPlot(                        \"32855eec-7495-48bf-bd74-2eeb9f76b138\",                        [{\"domain\":{\"x\":[0.0,1.0],\"y\":[0.0,1.0]},\"hovertemplate\":\"platform=%{label}\\u003cbr\\u003ecount=%{value}\\u003cextra\\u003e\\u003c\\u002fextra\\u003e\",\"labels\":[\"PC\",\"XBOX-360\",\"PLAYSTATION-3\",\"PLAYSTATION-2\",\"PLAYSTATION-4\",\"XBOX-ONE\",\"WII\",\"3DS\",\"DS\",\"GAMECUBE\",\"WII-U\",\"PLAYSTATION-VITA\",\"PSP\",\"XBOX\",\"NINTENDO-SWITCH\",\"GAME-BOY-ADVANCE\",\"PLAYSTATION-5\",\"XBOX-SERIES-X\",\"PLAYSTATION\",\"DREAMCAST\",\"NINTENDO-64\",\"IOS-IPHONEIPAD\"],\"legendgroup\":\"\",\"name\":\"\",\"showlegend\":true,\"values\":[25251,15318,15130,7934,7276,4589,3843,3306,2953,2282,2199,2166,1964,1454,1371,1273,542,325,170,79,63,10],\"type\":\"pie\"}],                        {\"template\":{\"data\":{\"histogram2dcontour\":[{\"type\":\"histogram2dcontour\",\"colorbar\":{\"outlinewidth\":0,\"ticks\":\"\"},\"colorscale\":[[0.0,\"#0d0887\"],[0.1111111111111111,\"#46039f\"],[0.2222222222222222,\"#7201a8\"],[0.3333333333333333,\"#9c179e\"],[0.4444444444444444,\"#bd3786\"],[0.5555555555555556,\"#d8576b\"],[0.6666666666666666,\"#ed7953\"],[0.7777777777777778,\"#fb9f3a\"],[0.8888888888888888,\"#fdca26\"],[1.0,\"#f0f921\"]]}],\"choropleth\":[{\"type\":\"choropleth\",\"colorbar\":{\"outlinewidth\":0,\"ticks\":\"\"}}],\"histogram2d\":[{\"type\":\"histogram2d\",\"colorbar\":{\"outlinewidth\":0,\"ticks\":\"\"},\"colorscale\":[[0.0,\"#0d0887\"],[0.1111111111111111,\"#46039f\"],[0.2222222222222222,\"#7201a8\"],[0.3333333333333333,\"#9c179e\"],[0.4444444444444444,\"#bd3786\"],[0.5555555555555556,\"#d8576b\"],[0.6666666666666666,\"#ed7953\"],[0.7777777777777778,\"#fb9f3a\"],[0.8888888888888888,\"#fdca26\"],[1.0,\"#f0f921\"]]}],\"heatmap\":[{\"type\":\"heatmap\",\"colorbar\":{\"outlinewidth\":0,\"ticks\":\"\"},\"colorscale\":[[0.0,\"#0d0887\"],[0.1111111111111111,\"#46039f\"],[0.2222222222222222,\"#7201a8\"],[0.3333333333333333,\"#9c179e\"],[0.4444444444444444,\"#bd3786\"],[0.5555555555555556,\"#d8576b\"],[0.6666666666666666,\"#ed7953\"],[0.7777777777777778,\"#fb9f3a\"],[0.8888888888888888,\"#fdca26\"],[1.0,\"#f0f921\"]]}],\"heatmapgl\":[{\"type\":\"heatmapgl\",\"colorbar\":{\"outlinewidth\":0,\"ticks\":\"\"},\"colorscale\":[[0.0,\"#0d0887\"],[0.1111111111111111,\"#46039f\"],[0.2222222222222222,\"#7201a8\"],[0.3333333333333333,\"#9c179e\"],[0.4444444444444444,\"#bd3786\"],[0.5555555555555556,\"#d8576b\"],[0.6666666666666666,\"#ed7953\"],[0.7777777777777778,\"#fb9f3a\"],[0.8888888888888888,\"#fdca26\"],[1.0,\"#f0f921\"]]}],\"contourcarpet\":[{\"type\":\"contourcarpet\",\"colorbar\":{\"outlinewidth\":0,\"ticks\":\"\"}}],\"contour\":[{\"type\":\"contour\",\"colorbar\":{\"outlinewidth\":0,\"ticks\":\"\"},\"colorscale\":[[0.0,\"#0d0887\"],[0.1111111111111111,\"#46039f\"],[0.2222222222222222,\"#7201a8\"],[0.3333333333333333,\"#9c179e\"],[0.4444444444444444,\"#bd3786\"],[0.5555555555555556,\"#d8576b\"],[0.6666666666666666,\"#ed7953\"],[0.7777777777777778,\"#fb9f3a\"],[0.8888888888888888,\"#fdca26\"],[1.0,\"#f0f921\"]]}],\"surface\":[{\"type\":\"surface\",\"colorbar\":{\"outlinewidth\":0,\"ticks\":\"\"},\"colorscale\":[[0.0,\"#0d0887\"],[0.1111111111111111,\"#46039f\"],[0.2222222222222222,\"#7201a8\"],[0.3333333333333333,\"#9c179e\"],[0.4444444444444444,\"#bd3786\"],[0.5555555555555556,\"#d8576b\"],[0.6666666666666666,\"#ed7953\"],[0.7777777777777778,\"#fb9f3a\"],[0.8888888888888888,\"#fdca26\"],[1.0,\"#f0f921\"]]}],\"mesh3d\":[{\"type\":\"mesh3d\",\"colorbar\":{\"outlinewidth\":0,\"ticks\":\"\"}}],\"scatter\":[{\"marker\":{\"line\":{\"color\":\"#283442\"}},\"type\":\"scatter\"}],\"parcoords\":[{\"type\":\"parcoords\",\"line\":{\"colorbar\":{\"outlinewidth\":0,\"ticks\":\"\"}}}],\"scatterpolargl\":[{\"type\":\"scatterpolargl\",\"marker\":{\"colorbar\":{\"outlinewidth\":0,\"ticks\":\"\"}}}],\"bar\":[{\"error_x\":{\"color\":\"#f2f5fa\"},\"error_y\":{\"color\":\"#f2f5fa\"},\"marker\":{\"line\":{\"color\":\"rgb(17,17,17)\",\"width\":0.5},\"pattern\":{\"fillmode\":\"overlay\",\"size\":10,\"solidity\":0.2}},\"type\":\"bar\"}],\"scattergeo\":[{\"type\":\"scattergeo\",\"marker\":{\"colorbar\":{\"outlinewidth\":0,\"ticks\":\"\"}}}],\"scatterpolar\":[{\"type\":\"scatterpolar\",\"marker\":{\"colorbar\":{\"outlinewidth\":0,\"ticks\":\"\"}}}],\"histogram\":[{\"marker\":{\"pattern\":{\"fillmode\":\"overlay\",\"size\":10,\"solidity\":0.2}},\"type\":\"histogram\"}],\"scattergl\":[{\"marker\":{\"line\":{\"color\":\"#283442\"}},\"type\":\"scattergl\"}],\"scatter3d\":[{\"type\":\"scatter3d\",\"line\":{\"colorbar\":{\"outlinewidth\":0,\"ticks\":\"\"}},\"marker\":{\"colorbar\":{\"outlinewidth\":0,\"ticks\":\"\"}}}],\"scattermapbox\":[{\"type\":\"scattermapbox\",\"marker\":{\"colorbar\":{\"outlinewidth\":0,\"ticks\":\"\"}}}],\"scatterternary\":[{\"type\":\"scatterternary\",\"marker\":{\"colorbar\":{\"outlinewidth\":0,\"ticks\":\"\"}}}],\"scattercarpet\":[{\"type\":\"scattercarpet\",\"marker\":{\"colorbar\":{\"outlinewidth\":0,\"ticks\":\"\"}}}],\"carpet\":[{\"aaxis\":{\"endlinecolor\":\"#A2B1C6\",\"gridcolor\":\"#506784\",\"linecolor\":\"#506784\",\"minorgridcolor\":\"#506784\",\"startlinecolor\":\"#A2B1C6\"},\"baxis\":{\"endlinecolor\":\"#A2B1C6\",\"gridcolor\":\"#506784\",\"linecolor\":\"#506784\",\"minorgridcolor\":\"#506784\",\"startlinecolor\":\"#A2B1C6\"},\"type\":\"carpet\"}],\"table\":[{\"cells\":{\"fill\":{\"color\":\"#506784\"},\"line\":{\"color\":\"rgb(17,17,17)\"}},\"header\":{\"fill\":{\"color\":\"#2a3f5f\"},\"line\":{\"color\":\"rgb(17,17,17)\"}},\"type\":\"table\"}],\"barpolar\":[{\"marker\":{\"line\":{\"color\":\"rgb(17,17,17)\",\"width\":0.5},\"pattern\":{\"fillmode\":\"overlay\",\"size\":10,\"solidity\":0.2}},\"type\":\"barpolar\"}],\"pie\":[{\"automargin\":true,\"type\":\"pie\"}]},\"layout\":{\"autotypenumbers\":\"strict\",\"colorway\":[\"#636efa\",\"#EF553B\",\"#00cc96\",\"#ab63fa\",\"#FFA15A\",\"#19d3f3\",\"#FF6692\",\"#B6E880\",\"#FF97FF\",\"#FECB52\"],\"font\":{\"color\":\"#f2f5fa\"},\"hovermode\":\"closest\",\"hoverlabel\":{\"align\":\"left\"},\"paper_bgcolor\":\"rgb(17,17,17)\",\"plot_bgcolor\":\"rgb(17,17,17)\",\"polar\":{\"bgcolor\":\"rgb(17,17,17)\",\"angularaxis\":{\"gridcolor\":\"#506784\",\"linecolor\":\"#506784\",\"ticks\":\"\"},\"radialaxis\":{\"gridcolor\":\"#506784\",\"linecolor\":\"#506784\",\"ticks\":\"\"}},\"ternary\":{\"bgcolor\":\"rgb(17,17,17)\",\"aaxis\":{\"gridcolor\":\"#506784\",\"linecolor\":\"#506784\",\"ticks\":\"\"},\"baxis\":{\"gridcolor\":\"#506784\",\"linecolor\":\"#506784\",\"ticks\":\"\"},\"caxis\":{\"gridcolor\":\"#506784\",\"linecolor\":\"#506784\",\"ticks\":\"\"}},\"coloraxis\":{\"colorbar\":{\"outlinewidth\":0,\"ticks\":\"\"}},\"colorscale\":{\"sequential\":[[0.0,\"#0d0887\"],[0.1111111111111111,\"#46039f\"],[0.2222222222222222,\"#7201a8\"],[0.3333333333333333,\"#9c179e\"],[0.4444444444444444,\"#bd3786\"],[0.5555555555555556,\"#d8576b\"],[0.6666666666666666,\"#ed7953\"],[0.7777777777777778,\"#fb9f3a\"],[0.8888888888888888,\"#fdca26\"],[1.0,\"#f0f921\"]],\"sequentialminus\":[[0.0,\"#0d0887\"],[0.1111111111111111,\"#46039f\"],[0.2222222222222222,\"#7201a8\"],[0.3333333333333333,\"#9c179e\"],[0.4444444444444444,\"#bd3786\"],[0.5555555555555556,\"#d8576b\"],[0.6666666666666666,\"#ed7953\"],[0.7777777777777778,\"#fb9f3a\"],[0.8888888888888888,\"#fdca26\"],[1.0,\"#f0f921\"]],\"diverging\":[[0,\"#8e0152\"],[0.1,\"#c51b7d\"],[0.2,\"#de77ae\"],[0.3,\"#f1b6da\"],[0.4,\"#fde0ef\"],[0.5,\"#f7f7f7\"],[0.6,\"#e6f5d0\"],[0.7,\"#b8e186\"],[0.8,\"#7fbc41\"],[0.9,\"#4d9221\"],[1,\"#276419\"]]},\"xaxis\":{\"gridcolor\":\"#283442\",\"linecolor\":\"#506784\",\"ticks\":\"\",\"title\":{\"standoff\":15},\"zerolinecolor\":\"#283442\",\"automargin\":true,\"zerolinewidth\":2},\"yaxis\":{\"gridcolor\":\"#283442\",\"linecolor\":\"#506784\",\"ticks\":\"\",\"title\":{\"standoff\":15},\"zerolinecolor\":\"#283442\",\"automargin\":true,\"zerolinewidth\":2},\"scene\":{\"xaxis\":{\"backgroundcolor\":\"rgb(17,17,17)\",\"gridcolor\":\"#506784\",\"linecolor\":\"#506784\",\"showbackground\":true,\"ticks\":\"\",\"zerolinecolor\":\"#C8D4E3\",\"gridwidth\":2},\"yaxis\":{\"backgroundcolor\":\"rgb(17,17,17)\",\"gridcolor\":\"#506784\",\"linecolor\":\"#506784\",\"showbackground\":true,\"ticks\":\"\",\"zerolinecolor\":\"#C8D4E3\",\"gridwidth\":2},\"zaxis\":{\"backgroundcolor\":\"rgb(17,17,17)\",\"gridcolor\":\"#506784\",\"linecolor\":\"#506784\",\"showbackground\":true,\"ticks\":\"\",\"zerolinecolor\":\"#C8D4E3\",\"gridwidth\":2}},\"shapedefaults\":{\"line\":{\"color\":\"#f2f5fa\"}},\"annotationdefaults\":{\"arrowcolor\":\"#f2f5fa\",\"arrowhead\":0,\"arrowwidth\":1},\"geo\":{\"bgcolor\":\"rgb(17,17,17)\",\"landcolor\":\"rgb(17,17,17)\",\"subunitcolor\":\"#506784\",\"showland\":true,\"showlakes\":true,\"lakecolor\":\"rgb(17,17,17)\"},\"title\":{\"x\":0.05},\"updatemenudefaults\":{\"bgcolor\":\"#506784\",\"borderwidth\":0},\"sliderdefaults\":{\"bgcolor\":\"#C8D4E3\",\"borderwidth\":1,\"bordercolor\":\"rgb(17,17,17)\",\"tickwidth\":0},\"mapbox\":{\"style\":\"dark\"}}},\"legend\":{\"tracegroupgap\":0},\"margin\":{\"t\":60},\"title\":{\"text\":\"Most popular platforms\"},\"width\":1200,\"height\":750},                        {\"responsive\": true}                    ).then(function(){\n",
       "                            \n",
       "var gd = document.getElementById('32855eec-7495-48bf-bd74-2eeb9f76b138');\n",
       "var x = new MutationObserver(function (mutations, observer) {{\n",
       "        var display = window.getComputedStyle(gd).display;\n",
       "        if (!display || display === 'none') {{\n",
       "            console.log([gd, 'removed!']);\n",
       "            Plotly.purge(gd);\n",
       "            observer.disconnect();\n",
       "        }}\n",
       "}});\n",
       "\n",
       "// Listen for the removal of the full notebook cells\n",
       "var notebookContainer = gd.closest('#notebook-container');\n",
       "if (notebookContainer) {{\n",
       "    x.observe(notebookContainer, {childList: true});\n",
       "}}\n",
       "\n",
       "// Listen for the clearing of the current output cell\n",
       "var outputEl = gd.closest('.output');\n",
       "if (outputEl) {{\n",
       "    x.observe(outputEl, {childList: true});\n",
       "}}\n",
       "\n",
       "                        })                };                });            </script>        </div>"
      ]
     },
     "metadata": {},
     "output_type": "display_data"
    }
   ],
   "execution_count": 227
  },
  {
   "metadata": {
    "ExecuteTime": {
     "end_time": "2024-12-26T21:29:34.410287Z",
     "start_time": "2024-12-26T21:29:34.116728Z"
    }
   },
   "cell_type": "code",
   "source": [
    "from seaborn import color_palette\n",
    "\n",
    "plt.figure(figsize=(10, 6), dpi=133)\n",
    "\n",
    "palette = color_palette(\"husl\", len(most_popular_platforms))\n",
    "colors = palette.as_hex()\n",
    "\n",
    "bars = plt.barh(most_popular_platforms['platform'], most_popular_platforms['count'], color=colors)\n",
    "\n",
    "legend_labels = [f\"{row['platform']} ({row['count']})\" for _, row in most_popular_platforms.to_pandas().iterrows()]\n",
    "plt.legend(bars, legend_labels, loc=[1.05, 0], title='Platform (Count)')\n",
    "\n",
    "plt.title('Most popular platforms')\n",
    "plt.xlabel('Count')\n",
    "plt.ylabel('Platform')\n",
    "\n",
    "plt.show()"
   ],
   "id": "3b9c6c49efb89803",
   "outputs": [
    {
     "data": {
      "text/plain": [
       "<Figure size 1330x798 with 1 Axes>"
      ],
      "image/png": "[encoded data removed]"
     },
     "metadata": {},
     "output_type": "display_data"
    }
   ],
   "execution_count": 228
  },
  {
   "metadata": {
    "ExecuteTime": {
     "end_time": "2024-12-26T21:32:23.195502Z",
     "start_time": "2024-12-26T21:32:23.184323Z"
    }
   },
   "cell_type": "code",
   "source": [
    "data_list = most_popular_platforms.to_dicts()\n",
    "\n",
    "chart = (\n",
    "    alt.Chart(alt.InlineData(values=data_list))\n",
    "    .transform_calculate(\n",
    "        legend_label = 'datum.platform + \" (\" + toString(datum.count) + \")\"'\n",
    "    )\n",
    "    .mark_bar()\n",
    "    .encode(\n",
    "        y=alt.Y('platform:N', sort='-x', title='Platform'),\n",
    "        x=alt.X('count:Q', title='Count'),\n",
    "        color=alt.Color(\n",
    "            'legend_label:N',\n",
    "            legend=alt.Legend(title='Platform (Count)')\n",
    "        ),\n",
    "        tooltip=[\n",
    "            alt.Tooltip('platform:N', title='Platform'),\n",
    "            alt.Tooltip('count:Q', title='Count'),\n",
    "        ]\n",
    "    )\n",
    "    .properties(\n",
    "        title='Most Popular Platforms',\n",
    "        width=600,\n",
    "        height=400\n",
    "    )\n",
    ")\n",
    "\n",
    "chart.show()"
   ],
   "id": "80ee93f76be6f5f2",
   "outputs": [
    {
     "data": {
      "text/html": [
       "\n",
       "<style>\n",
       "  #altair-viz-e4332b7fe87b477d99e7e36080cd298a.vega-embed {\n",
       "    width: 100%;\n",
       "    display: flex;\n",
       "  }\n",
       "\n",
       "  #altair-viz-e4332b7fe87b477d99e7e36080cd298a.vega-embed details,\n",
       "  #altair-viz-e4332b7fe87b477d99e7e36080cd298a.vega-embed details summary {\n",
       "    position: relative;\n",
       "  }\n",
       "</style>\n",
       "<div id=\"altair-viz-e4332b7fe87b477d99e7e36080cd298a\"></div>\n",
       "<script type=\"text/javascript\">\n",
       "  var VEGA_DEBUG = (typeof VEGA_DEBUG == \"undefined\") ? {} : VEGA_DEBUG;\n",
       "  (function(spec, embedOpt){\n",
       "    let outputDiv = document.currentScript.previousElementSibling;\n",
       "    if (outputDiv.id !== \"altair-viz-e4332b7fe87b477d99e7e36080cd298a\") {\n",
       "      outputDiv = document.getElementById(\"altair-viz-e4332b7fe87b477d99e7e36080cd298a\");\n",
       "    }\n",
       "\n",
       "    const paths = {\n",
       "      \"vega\": \"https://cdn.jsdelivr.net/npm/vega@5?noext\",\n",
       "      \"vega-lib\": \"https://cdn.jsdelivr.net/npm/vega-lib?noext\",\n",
       "      \"vega-lite\": \"https://cdn.jsdelivr.net/npm/vega-lite@5.20.1?noext\",\n",
       "      \"vega-embed\": \"https://cdn.jsdelivr.net/npm/vega-embed@6?noext\",\n",
       "    };\n",
       "\n",
       "    function maybeLoadScript(lib, version) {\n",
       "      var key = `${lib.replace(\"-\", \"\")}_version`;\n",
       "      return (VEGA_DEBUG[key] == version) ?\n",
       "        Promise.resolve(paths[lib]) :\n",
       "        new Promise(function(resolve, reject) {\n",
       "          var s = document.createElement('script');\n",
       "          document.getElementsByTagName(\"head\")[0].appendChild(s);\n",
       "          s.async = true;\n",
       "          s.onload = () => {\n",
       "            VEGA_DEBUG[key] = version;\n",
       "            return resolve(paths[lib]);\n",
       "          };\n",
       "          s.onerror = () => reject(`Error loading script: ${paths[lib]}`);\n",
       "          s.src = paths[lib];\n",
       "        });\n",
       "    }\n",
       "\n",
       "    function showError(err) {\n",
       "      outputDiv.innerHTML = `<div class=\"error\" style=\"color:red;\">${err}</div>`;\n",
       "      throw err;\n",
       "    }\n",
       "\n",
       "    function displayChart(vegaEmbed) {\n",
       "      vegaEmbed(outputDiv, spec, embedOpt)\n",
       "        .catch(err => showError(`Javascript Error: ${err.message}<br>This usually means there's a typo in your chart specification. See the javascript console for the full traceback.`));\n",
       "    }\n",
       "\n",
       "    if(typeof define === \"function\" && define.amd) {\n",
       "      requirejs.config({paths});\n",
       "      let deps = [\"vega-embed\"];\n",
       "      require(deps, displayChart, err => showError(`Error loading script: ${err.message}`));\n",
       "    } else {\n",
       "      maybeLoadScript(\"vega\", \"5\")\n",
       "        .then(() => maybeLoadScript(\"vega-lite\", \"5.20.1\"))\n",
       "        .then(() => maybeLoadScript(\"vega-embed\", \"6\"))\n",
       "        .catch(showError)\n",
       "        .then(() => displayChart(vegaEmbed));\n",
       "    }\n",
       "  })({\"config\": {\"view\": {\"continuousWidth\": 300, \"continuousHeight\": 300}}, \"data\": {\"name\": \"data-d163c82598547eff3c9a6b793b4bcc2c\"}, \"mark\": {\"type\": \"bar\"}, \"encoding\": {\"color\": {\"field\": \"legend_label\", \"legend\": {\"title\": \"Platform (Count)\"}, \"type\": \"nominal\"}, \"tooltip\": [{\"field\": \"platform\", \"title\": \"Platform\", \"type\": \"nominal\"}, {\"field\": \"count\", \"title\": \"Count\", \"type\": \"quantitative\"}], \"x\": {\"field\": \"count\", \"title\": \"Count\", \"type\": \"quantitative\"}, \"y\": {\"field\": \"platform\", \"sort\": \"-x\", \"title\": \"Platform\", \"type\": \"nominal\"}}, \"height\": 400, \"title\": \"Most Popular Platforms\", \"transform\": [{\"calculate\": \"datum.platform + \\\" (\\\" + toString(datum.count) + \\\")\\\"\", \"as\": \"legend_label\"}], \"width\": 600, \"$schema\": \"https://vega.github.io/schema/vega-lite/v5.20.1.json\", \"datasets\": {\"data-d163c82598547eff3c9a6b793b4bcc2c\": [{\"platform\": \"PC\", \"count\": 25251}, {\"platform\": \"XBOX-360\", \"count\": 15318}, {\"platform\": \"PLAYSTATION-3\", \"count\": 15130}, {\"platform\": \"PLAYSTATION-2\", \"count\": 7934}, {\"platform\": \"PLAYSTATION-4\", \"count\": 7276}, {\"platform\": \"XBOX-ONE\", \"count\": 4589}, {\"platform\": \"WII\", \"count\": 3843}, {\"platform\": \"3DS\", \"count\": 3306}, {\"platform\": \"DS\", \"count\": 2953}, {\"platform\": \"GAMECUBE\", \"count\": 2282}, {\"platform\": \"WII-U\", \"count\": 2199}, {\"platform\": \"PLAYSTATION-VITA\", \"count\": 2166}, {\"platform\": \"PSP\", \"count\": 1964}, {\"platform\": \"XBOX\", \"count\": 1454}, {\"platform\": \"NINTENDO-SWITCH\", \"count\": 1371}, {\"platform\": \"GAME-BOY-ADVANCE\", \"count\": 1273}, {\"platform\": \"PLAYSTATION-5\", \"count\": 542}, {\"platform\": \"XBOX-SERIES-X\", \"count\": 325}, {\"platform\": \"PLAYSTATION\", \"count\": 170}, {\"platform\": \"DREAMCAST\", \"count\": 79}, {\"platform\": \"NINTENDO-64\", \"count\": 63}, {\"platform\": \"IOS-IPHONEIPAD\", \"count\": 10}]}}, {\"mode\": \"vega-lite\"});\n",
       "</script>"
      ],
      "text/plain": [
       "alt.Chart(...)"
      ]
     },
     "metadata": {},
     "output_type": "display_data"
    }
   ],
   "execution_count": 232
  },
  {
   "metadata": {
    "ExecuteTime": {
     "end_time": "2024-12-26T21:29:34.531614Z",
     "start_time": "2024-12-26T21:29:34.525962Z"
    }
   },
   "cell_type": "code",
   "source": "global_user_score_top_games",
   "id": "312348a387abe68",
   "outputs": [
    {
     "data": {
      "text/plain": [
       "shape: (71, 14)\n",
       "┌───────────┬───────────┬───────────┬───────────┬───┬───────────┬───────────┬───────────┬──────────┐\n",
       "│ game_titl ┆ platform  ┆ global_us ┆ user_scor ┆ … ┆ vader_sen ┆ textblob_ ┆ hf_sentim ┆ preproce │\n",
       "│ e         ┆ ---       ┆ er_score  ┆ e         ┆   ┆ timent    ┆ sentiment ┆ ent       ┆ ssed_rev │\n",
       "│ ---       ┆ str       ┆ ---       ┆ ---       ┆   ┆ ---       ┆ ---       ┆ ---       ┆ iew      │\n",
       "│ str       ┆           ┆ f32       ┆ u8        ┆   ┆ f32       ┆ f32       ┆ f32       ┆ ---      │\n",
       "│           ┆           ┆           ┆           ┆   ┆           ┆           ┆           ┆ str      │\n",
       "╞═══════════╪═══════════╪═══════════╪═══════════╪═══╪═══════════╪═══════════╪═══════════╪══════════╡\n",
       "│ madden    ┆ PLAYSTATI ┆ 10.0      ┆ 10        ┆ … ┆ 0.9337    ┆ 0.341667  ┆ 0.991731  ┆ real imp │\n",
       "│ nfl 10    ┆ ON-2      ┆           ┆           ┆   ┆           ┆           ┆           ┆ rovement │\n",
       "│           ┆           ┆           ┆           ┆   ┆           ┆           ┆           ┆ love     │\n",
       "│           ┆           ┆           ┆           ┆   ┆           ┆           ┆           ┆ madden   │\n",
       "│           ┆           ┆           ┆           ┆   ┆           ┆           ┆           ┆ g…       │\n",
       "│ winning   ┆ PSP       ┆ 10.0      ┆ 10        ┆ … ┆ 0.0       ┆ 0.0       ┆ 0.997698  ┆ work     │\n",
       "│ eleven:   ┆           ┆           ┆           ┆   ┆           ┆           ┆           ┆ work     │\n",
       "│ pro       ┆           ┆           ┆           ┆   ┆           ┆           ┆           ┆ work     │\n",
       "│ evolution ┆           ┆           ┆           ┆   ┆           ┆           ┆           ┆ work     │\n",
       "│ …         ┆           ┆           ┆           ┆   ┆           ┆           ┆           ┆ work     │\n",
       "│           ┆           ┆           ┆           ┆   ┆           ┆           ┆           ┆ work …   │\n",
       "│ high      ┆ PLAYSTATI ┆ 10.0      ┆ 10        ┆ … ┆ 0.9663    ┆ 0.31      ┆ 0.999804  ┆ far best │\n",
       "│ school    ┆ ON-2      ┆           ┆           ┆   ┆           ┆           ┆           ┆ comedy   │\n",
       "│ musical:  ┆           ┆           ┆           ┆   ┆           ┆           ┆           ┆ video    │\n",
       "│ sing it!  ┆           ┆           ┆           ┆   ┆           ┆           ┆           ┆ game     │\n",
       "│           ┆           ┆           ┆           ┆   ┆           ┆           ┆           ┆ his…     │\n",
       "│ nba 2k10  ┆ WII       ┆ 10.0      ┆ 10        ┆ … ┆ 0.9022    ┆ 0.158333  ┆ 0.973071  ┆ first    │\n",
       "│           ┆           ┆           ┆           ┆   ┆           ┆           ┆           ┆ nba k    │\n",
       "│           ┆           ┆           ┆           ┆   ┆           ┆           ┆           ┆ game     │\n",
       "│           ┆           ┆           ┆           ┆   ┆           ┆           ┆           ┆ ever     │\n",
       "│           ┆           ┆           ┆           ┆   ┆           ┆           ┆           ┆ played   │\n",
       "│           ┆           ┆           ┆           ┆   ┆           ┆           ┆           ┆ f…       │\n",
       "│ tiger     ┆ PLAYSTATI ┆ 10.0      ┆ 10        ┆ … ┆ 0.7184    ┆ -0.12     ┆ 0.999325  ┆ best     │\n",
       "│ woods pga ┆ ON-3      ┆           ┆           ┆   ┆           ┆           ┆           ┆ golf     │\n",
       "│ tour 07   ┆           ┆           ┆           ┆   ┆           ┆           ┆           ┆ game     │\n",
       "│           ┆           ┆           ┆           ┆   ┆           ┆           ┆           ┆ time ive │\n",
       "│           ┆           ┆           ┆           ┆   ┆           ┆           ┆           ┆ playin…  │\n",
       "│ …         ┆ …         ┆ …         ┆ …         ┆ … ┆ …         ┆ …         ┆ …         ┆ …        │\n",
       "│ data east ┆ WII       ┆ 10.0      ┆ 10        ┆ … ┆ 0.8176    ┆ 0.202381  ┆ 0.999792  ┆ best com │\n",
       "│ arcade    ┆           ┆           ┆           ┆   ┆           ┆           ┆           ┆ pilation │\n",
       "│ classics  ┆           ┆           ┆           ┆   ┆           ┆           ┆           ┆ wii hist │\n",
       "│           ┆           ┆           ┆           ┆   ┆           ┆           ┆           ┆ orica…   │\n",
       "│ world cha ┆ PLAYSTATI ┆ 10.0      ┆ 10        ┆ … ┆ -0.5267   ┆ 0.0       ┆ -0.986607 ┆ No No    │\n",
       "│ mpionship ┆ ON-2      ┆           ┆           ┆   ┆           ┆           ┆           ┆          │\n",
       "│ poker:    ┆           ┆           ┆           ┆   ┆           ┆           ┆           ┆          │\n",
       "│ delu…     ┆           ┆           ┆           ┆   ┆           ┆           ┆           ┆          │\n",
       "│ the       ┆ PLAYSTATI ┆ 10.0      ┆ 10        ┆ … ┆ 0.9055    ┆ 0.022309  ┆ 0.998781  ┆ game     │\n",
       "│ legend of ┆ ON-2      ┆           ┆           ┆   ┆           ┆           ┆           ┆ little   │\n",
       "│ alon d'ar ┆           ┆           ┆           ┆   ┆           ┆           ┆           ┆ slow     │\n",
       "│           ┆           ┆           ┆           ┆   ┆           ┆           ┆           ┆ story    │\n",
       "│           ┆           ┆           ┆           ┆   ┆           ┆           ┆           ┆ quite u… │\n",
       "│ grand     ┆ PLAYSTATI ┆ 10.0      ┆ 10        ┆ … ┆ 0.93      ┆ 0.178788  ┆ 0.999338  ┆ game god │\n",
       "│ prix      ┆ ON-2      ┆           ┆           ┆   ┆           ┆           ┆           ┆ good exc │\n",
       "│ challenge ┆           ┆           ┆           ┆   ┆           ┆           ┆           ┆ ellent   │\n",
       "│           ┆           ┆           ┆           ┆   ┆           ┆           ┆           ┆ gamepl…  │\n",
       "│ swingerz  ┆ GAMECUBE  ┆ 10.0      ┆ 10        ┆ … ┆ 0.9737    ┆ 0.207292  ┆ 0.999343  ┆ game     │\n",
       "│ golf      ┆           ┆           ┆           ┆   ┆           ┆           ┆           ┆ awesome  │\n",
       "│           ┆           ┆           ┆           ┆   ┆           ┆           ┆           ┆ played   │\n",
       "│           ┆           ┆           ┆           ┆   ┆           ┆           ┆           ┆ lot game │\n",
       "│           ┆           ┆           ┆           ┆   ┆           ┆           ┆           ┆ c…       │\n",
       "└───────────┴───────────┴───────────┴───────────┴───┴───────────┴───────────┴───────────┴──────────┘"
      ],
      "text/html": [
       "<div><style>\n",
       ".dataframe > thead > tr,\n",
       ".dataframe > tbody > tr {\n",
       "  text-align: right;\n",
       "  white-space: pre-wrap;\n",
       "}\n",
       "</style>\n",
       "<small>shape: (71, 14)</small><table border=\"1\" class=\"dataframe\"><thead><tr><th>game_title</th><th>platform</th><th>global_user_score</th><th>user_score</th><th>average_score</th><th>username</th><th>review_text</th><th>cleaned_review</th><th>language</th><th>translated_review</th><th>vader_sentiment</th><th>textblob_sentiment</th><th>hf_sentiment</th><th>preprocessed_review</th></tr><tr><td>str</td><td>str</td><td>f32</td><td>u8</td><td>f32</td><td>str</td><td>str</td><td>str</td><td>str</td><td>str</td><td>f32</td><td>f32</td><td>f32</td><td>str</td></tr></thead><tbody><tr><td>&quot;madden nfl 10&quot;</td><td>&quot;PLAYSTATION-2&quot;</td><td>10.0</td><td>10</td><td>10.0</td><td>&quot;Beats&quot;</td><td>&quot;no real improvements but i lov…</td><td>&quot;no real improvements but i lov…</td><td>&quot;EN&quot;</td><td>&quot;no real improvements but i lov…</td><td>0.9337</td><td>0.341667</td><td>0.991731</td><td>&quot;real improvement love madden g…</td></tr><tr><td>&quot;winning eleven: pro evolution …</td><td>&quot;PSP&quot;</td><td>10.0</td><td>10</td><td>10.0</td><td>&quot;ninjasaurio13&quot;</td><td>&quot;obra maetsra dwabdgweiabdlwbaG…</td><td>&quot;obra maetsra dwabdgweiabdlwbag…</td><td>&quot;CY&quot;</td><td>&quot;two-way work, two-way work, tw…</td><td>0.0</td><td>0.0</td><td>0.997698</td><td>&quot;work work work work work work …</td></tr><tr><td>&quot;high school musical: sing it!&quot;</td><td>&quot;PLAYSTATION-2&quot;</td><td>10.0</td><td>10</td><td>10.0</td><td>&quot;Wubble33&quot;</td><td>&quot;By far the best comedy in vide…</td><td>&quot;by far the best comedy in vide…</td><td>&quot;EN&quot;</td><td>&quot;by far the best comedy in vide…</td><td>0.9663</td><td>0.31</td><td>0.999804</td><td>&quot;far best comedy video game his…</td></tr><tr><td>&quot;nba 2k10&quot;</td><td>&quot;WII&quot;</td><td>10.0</td><td>10</td><td>10.0</td><td>&quot;MonsieurEames&quot;</td><td>&quot;This was the first NBA 2K game…</td><td>&quot;this was the first nba k game …</td><td>&quot;EN&quot;</td><td>&quot;this was the first nba k game …</td><td>0.9022</td><td>0.158333</td><td>0.973071</td><td>&quot;first nba k game ever played f…</td></tr><tr><td>&quot;tiger woods pga tour 07&quot;</td><td>&quot;PLAYSTATION-3&quot;</td><td>10.0</td><td>10</td><td>10.0</td><td>&quot;hensi&quot;</td><td>&quot;Best golf game of all times. I…</td><td>&quot;best golf game of all times iv…</td><td>&quot;EN&quot;</td><td>&quot;best golf game of all times iv…</td><td>0.7184</td><td>-0.12</td><td>0.999325</td><td>&quot;best golf game time ive playin…</td></tr><tr><td>&hellip;</td><td>&hellip;</td><td>&hellip;</td><td>&hellip;</td><td>&hellip;</td><td>&hellip;</td><td>&hellip;</td><td>&hellip;</td><td>&hellip;</td><td>&hellip;</td><td>&hellip;</td><td>&hellip;</td><td>&hellip;</td><td>&hellip;</td></tr><tr><td>&quot;data east arcade classics&quot;</td><td>&quot;WII&quot;</td><td>10.0</td><td>10</td><td>10.0</td><td>&quot;LORDTIKIDCANCER&quot;</td><td>&quot;the best compilation of the wi…</td><td>&quot;the best compilation of the wi…</td><td>&quot;EN&quot;</td><td>&quot;the best compilation of the wi…</td><td>0.8176</td><td>0.202381</td><td>0.999792</td><td>&quot;best compilation wii historica…</td></tr><tr><td>&quot;world championship poker: delu…</td><td>&quot;PLAYSTATION-2&quot;</td><td>10.0</td><td>10</td><td>10.0</td><td>&quot;Gamesoc&quot;</td><td>&quot;Huuuuuuuuuuuuuuuuuuuuuuuuuuuuu…</td><td>&quot;huuuuuuuuuuuuuuuuuuuuuuuuuuuuu…</td><td>&quot;SO&quot;</td><td>&quot;No, no, no, no. No, no, no, no…</td><td>-0.5267</td><td>0.0</td><td>-0.986607</td><td>&quot;No No&quot;</td></tr><tr><td>&quot;the legend of alon d&#x27;ar&quot;</td><td>&quot;PLAYSTATION-2&quot;</td><td>10.0</td><td>10</td><td>10.0</td><td>&quot;gman321&quot;</td><td>&quot;This game is a little slow, bu…</td><td>&quot;this game is a little slow but…</td><td>&quot;EN&quot;</td><td>&quot;this game is a little slow but…</td><td>0.9055</td><td>0.022309</td><td>0.998781</td><td>&quot;game little slow story quite u…</td></tr><tr><td>&quot;grand prix challenge&quot;</td><td>&quot;PLAYSTATION-2&quot;</td><td>10.0</td><td>10</td><td>10.0</td><td>&quot;FRG2000&quot;</td><td>&quot;This games is so GOD! GOOD: -E…</td><td>&quot;this games is so god good exce…</td><td>&quot;EN&quot;</td><td>&quot;this games is so god good exce…</td><td>0.93</td><td>0.178788</td><td>0.999338</td><td>&quot;game god good excellent gamepl…</td></tr><tr><td>&quot;swingerz golf&quot;</td><td>&quot;GAMECUBE&quot;</td><td>10.0</td><td>10</td><td>10.0</td><td>&quot;luigiisbest5&quot;</td><td>&quot;this game is awesome i have pl…</td><td>&quot;this game is awesome i have pl…</td><td>&quot;EN&quot;</td><td>&quot;this game is awesome i have pl…</td><td>0.9737</td><td>0.207292</td><td>0.999343</td><td>&quot;game awesome played lot game c…</td></tr></tbody></table></div>"
      ]
     },
     "execution_count": 230,
     "metadata": {},
     "output_type": "execute_result"
    }
   ],
   "execution_count": 230
  }
 ],
 "metadata": {
  "kernelspec": {
   "display_name": "Python 3",
   "language": "python",
   "name": "python3"
  },
  "language_info": {
   "codemirror_mode": {
    "name": "ipython",
    "version": 2
   },
   "file_extension": ".py",
   "mimetype": "text/x-python",
   "name": "python",
   "nbconvert_exporter": "python",
   "pygments_lexer": "ipython2",
   "version": "2.7.6"
  }
 },
 "nbformat": 4,
 "nbformat_minor": 5
}
