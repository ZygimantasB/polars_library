{
 "cells": [
  {
   "cell_type": "code",
   "id": "initial_id",
   "metadata": {
    "collapsed": true,
    "ExecuteTime": {
     "end_time": "2025-10-01T13:11:39.653284Z",
     "start_time": "2025-10-01T13:11:35.192516Z"
    }
   },
   "source": [
    "import polars as pl\n",
    "import polars.selectors as cs\n",
    "\n",
    "import altair as alt\n",
    "import plotly.express as px\n",
    "import seaborn as sns\n",
    "import matplotlib.pyplot as plt\n",
    "\n",
    "import datetime as dt"
   ],
   "outputs": [],
   "execution_count": 1
  },
  {
   "metadata": {
    "ExecuteTime": {
     "end_time": "2025-10-01T13:11:39.667366Z",
     "start_time": "2025-10-01T13:11:39.663300Z"
    }
   },
   "cell_type": "code",
   "source": "df_path = r\"C:\\Users\\_____\\Downloads\\archive (4)\\trending_searches_in_us.csv\"",
   "id": "4046f7352955f12a",
   "outputs": [],
   "execution_count": 2
  },
  {
   "metadata": {
    "ExecuteTime": {
     "end_time": "2025-10-01T13:11:55.631004Z",
     "start_time": "2025-10-01T13:11:55.623Z"
    }
   },
   "cell_type": "code",
   "source": "df = pl.read_csv(df_path)",
   "id": "eb697070e93726b",
   "outputs": [],
   "execution_count": 3
  },
  {
   "metadata": {
    "ExecuteTime": {
     "end_time": "2025-10-01T13:11:56.410723Z",
     "start_time": "2025-10-01T13:11:56.404263Z"
    }
   },
   "cell_type": "code",
   "source": "df",
   "id": "a72dbf5b1e2b42d8",
   "outputs": [
    {
     "data": {
      "text/plain": [
       "shape: (6_339, 8)\n",
       "┌────────────┬────────────┬────────────┬────────┬────────────┬────────────┬────────────┬───────────┐\n",
       "│ query      ┆ start_date ┆ end_date   ┆ active ┆ search_vol ┆ increase_p ┆ categories ┆ trend_bre │\n",
       "│ ---        ┆ ---        ┆ ---        ┆ ---    ┆ ume        ┆ ercentage  ┆ ---        ┆ akdown    │\n",
       "│ str        ┆ str        ┆ str        ┆ bool   ┆ ---        ┆ ---        ┆ str        ┆ ---       │\n",
       "│            ┆            ┆            ┆        ┆ i64        ┆ i64        ┆            ┆ str       │\n",
       "╞════════════╪════════════╪════════════╪════════╪════════════╪════════════╪════════════╪═══════════╡\n",
       "│ giancarlo  ┆ 2025-09-30 ┆ null       ┆ true   ┆ 2000       ┆ 700        ┆ Sports     ┆ null      │\n",
       "│ stanton    ┆ 23:00:00+0 ┆            ┆        ┆            ┆            ┆            ┆           │\n",
       "│            ┆ 0:00       ┆            ┆        ┆            ┆            ┆            ┆           │\n",
       "│ kidman     ┆ 2025-09-30 ┆ null       ┆ true   ┆ 10000      ┆ 75         ┆ Entertainm ┆ keith     │\n",
       "│ urban      ┆ 22:40:00+0 ┆            ┆        ┆            ┆            ┆ ent        ┆ urban net │\n",
       "│ divorce    ┆ 0:00       ┆            ┆        ┆            ┆            ┆            ┆ worth,    │\n",
       "│            ┆            ┆            ┆        ┆            ┆            ┆            ┆ keith u…  │\n",
       "│ jose       ┆ 2025-09-30 ┆ null       ┆ true   ┆ 500        ┆ 100        ┆ Sports     ┆ null      │\n",
       "│ caballero  ┆ 22:40:00+0 ┆            ┆        ┆            ┆            ┆            ┆           │\n",
       "│            ┆ 0:00       ┆            ┆        ┆            ┆            ┆            ┆           │\n",
       "│ what time  ┆ 2025-09-30 ┆ null       ┆ true   ┆ 500        ┆ 100        ┆ Entertainm ┆ null      │\n",
       "│ is dwts on ┆ 22:40:00+0 ┆            ┆        ┆            ┆            ┆ ent        ┆           │\n",
       "│            ┆ 0:00       ┆            ┆        ┆            ┆            ┆            ┆           │\n",
       "│ ops        ┆ 2025-09-30 ┆ null       ┆ true   ┆ 2000       ┆ 100        ┆ Sports     ┆ chaim     │\n",
       "│ baseball   ┆ 22:40:00+0 ┆            ┆        ┆            ┆            ┆            ┆ bloom     │\n",
       "│            ┆ 0:00       ┆            ┆        ┆            ┆            ┆            ┆           │\n",
       "│ …          ┆ …          ┆ …          ┆ …      ┆ …          ┆ …          ┆ …          ┆ …         │\n",
       "│ sydney mcl ┆ 2025-09-18 ┆ null       ┆ true   ┆ 20000      ┆ 300        ┆ Sports     ┆ sydney    │\n",
       "│ aughlin-le ┆ 13:20:00+0 ┆            ┆        ┆            ┆            ┆            ┆ mclaughli │\n",
       "│ vrone      ┆ 0:00       ┆            ┆        ┆            ┆            ┆            ┆ n,        │\n",
       "│            ┆            ┆            ┆        ┆            ┆            ┆            ┆ women's   │\n",
       "│            ┆            ┆            ┆        ┆            ┆            ┆            ┆ 400…      │\n",
       "│ constance  ┆ 2025-09-18 ┆ 2025-09-18 ┆ false  ┆ 2000       ┆ 100        ┆ Entertainm ┆ null      │\n",
       "│ wu         ┆ 13:10:00+0 ┆ 16:20:00+0 ┆        ┆            ┆            ┆ ent        ┆           │\n",
       "│            ┆ 0:00       ┆ 0:00       ┆        ┆            ┆            ┆            ┆           │\n",
       "│ eugene     ┆ 2025-09-18 ┆ 2025-09-18 ┆ false  ┆ 2000       ┆ 200        ┆ Entertainm ┆ null      │\n",
       "│ levy       ┆ 13:10:00+0 ┆ 16:40:00+0 ┆        ┆            ┆            ┆ ent        ┆           │\n",
       "│            ┆ 0:00       ┆ 0:00       ┆        ┆            ┆            ┆            ┆           │\n",
       "│ marco      ┆ 2025-09-18 ┆ 2025-09-19 ┆ false  ┆ 5000       ┆ 200        ┆ Politics   ┆ null      │\n",
       "│ rubio      ┆ 12:50:00+0 ┆ 03:20:00+0 ┆        ┆            ┆            ┆            ┆           │\n",
       "│            ┆ 0:00       ┆ 0:00       ┆        ┆            ┆            ┆            ┆           │\n",
       "│ bills      ┆ 2025-09-18 ┆ null       ┆ true   ┆ 1000000    ┆ 1000       ┆ Sports     ┆ miami     │\n",
       "│ dolphins   ┆ 12:50:00+0 ┆            ┆        ┆            ┆            ┆            ┆ dolphins  │\n",
       "│            ┆ 0:00       ┆            ┆        ┆            ┆            ┆            ┆ vs        │\n",
       "│            ┆            ┆            ┆        ┆            ┆            ┆            ┆ buffalo   │\n",
       "│            ┆            ┆            ┆        ┆            ┆            ┆            ┆ bill…     │\n",
       "└────────────┴────────────┴────────────┴────────┴────────────┴────────────┴────────────┴───────────┘"
      ],
      "text/html": [
       "<div><style>\n",
       ".dataframe > thead > tr,\n",
       ".dataframe > tbody > tr {\n",
       "  text-align: right;\n",
       "  white-space: pre-wrap;\n",
       "}\n",
       "</style>\n",
       "<small>shape: (6_339, 8)</small><table border=\"1\" class=\"dataframe\"><thead><tr><th>query</th><th>start_date</th><th>end_date</th><th>active</th><th>search_volume</th><th>increase_percentage</th><th>categories</th><th>trend_breakdown</th></tr><tr><td>str</td><td>str</td><td>str</td><td>bool</td><td>i64</td><td>i64</td><td>str</td><td>str</td></tr></thead><tbody><tr><td>&quot;giancarlo stanton&quot;</td><td>&quot;2025-09-30 23:00:00+00:00&quot;</td><td>null</td><td>true</td><td>2000</td><td>700</td><td>&quot;Sports&quot;</td><td>null</td></tr><tr><td>&quot;kidman urban divorce&quot;</td><td>&quot;2025-09-30 22:40:00+00:00&quot;</td><td>null</td><td>true</td><td>10000</td><td>75</td><td>&quot;Entertainment&quot;</td><td>&quot;keith urban net worth, keith u…</td></tr><tr><td>&quot;jose caballero&quot;</td><td>&quot;2025-09-30 22:40:00+00:00&quot;</td><td>null</td><td>true</td><td>500</td><td>100</td><td>&quot;Sports&quot;</td><td>null</td></tr><tr><td>&quot;what time is dwts on&quot;</td><td>&quot;2025-09-30 22:40:00+00:00&quot;</td><td>null</td><td>true</td><td>500</td><td>100</td><td>&quot;Entertainment&quot;</td><td>null</td></tr><tr><td>&quot;ops baseball&quot;</td><td>&quot;2025-09-30 22:40:00+00:00&quot;</td><td>null</td><td>true</td><td>2000</td><td>100</td><td>&quot;Sports&quot;</td><td>&quot;chaim bloom&quot;</td></tr><tr><td>&hellip;</td><td>&hellip;</td><td>&hellip;</td><td>&hellip;</td><td>&hellip;</td><td>&hellip;</td><td>&hellip;</td><td>&hellip;</td></tr><tr><td>&quot;sydney mclaughlin-levrone&quot;</td><td>&quot;2025-09-18 13:20:00+00:00&quot;</td><td>null</td><td>true</td><td>20000</td><td>300</td><td>&quot;Sports&quot;</td><td>&quot;sydney mclaughlin, women&#x27;s 400…</td></tr><tr><td>&quot;constance wu&quot;</td><td>&quot;2025-09-18 13:10:00+00:00&quot;</td><td>&quot;2025-09-18 16:20:00+00:00&quot;</td><td>false</td><td>2000</td><td>100</td><td>&quot;Entertainment&quot;</td><td>null</td></tr><tr><td>&quot;eugene levy&quot;</td><td>&quot;2025-09-18 13:10:00+00:00&quot;</td><td>&quot;2025-09-18 16:40:00+00:00&quot;</td><td>false</td><td>2000</td><td>200</td><td>&quot;Entertainment&quot;</td><td>null</td></tr><tr><td>&quot;marco rubio&quot;</td><td>&quot;2025-09-18 12:50:00+00:00&quot;</td><td>&quot;2025-09-19 03:20:00+00:00&quot;</td><td>false</td><td>5000</td><td>200</td><td>&quot;Politics&quot;</td><td>null</td></tr><tr><td>&quot;bills dolphins&quot;</td><td>&quot;2025-09-18 12:50:00+00:00&quot;</td><td>null</td><td>true</td><td>1000000</td><td>1000</td><td>&quot;Sports&quot;</td><td>&quot;miami dolphins vs buffalo bill…</td></tr></tbody></table></div>"
      ]
     },
     "execution_count": 4,
     "metadata": {},
     "output_type": "execute_result"
    }
   ],
   "execution_count": 4
  },
  {
   "metadata": {},
   "cell_type": "code",
   "outputs": [],
   "execution_count": null,
   "source": "",
   "id": "8e436bf498967e4b"
  }
 ],
 "metadata": {
  "kernelspec": {
   "display_name": "Python 3",
   "language": "python",
   "name": "python3"
  },
  "language_info": {
   "codemirror_mode": {
    "name": "ipython",
    "version": 2
   },
   "file_extension": ".py",
   "mimetype": "text/x-python",
   "name": "python",
   "nbconvert_exporter": "python",
   "pygments_lexer": "ipython2",
   "version": "2.7.6"
  }
 },
 "nbformat": 4,
 "nbformat_minor": 5
}
