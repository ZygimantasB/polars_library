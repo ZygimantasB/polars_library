{
 "cells": [
  {
   "cell_type": "code",
   "id": "initial_id",
   "metadata": {
    "collapsed": true,
    "ExecuteTime": {
     "end_time": "2024-12-26T19:15:11.885551Z",
     "start_time": "2024-12-26T19:15:11.882514Z"
    }
   },
   "source": [
    "import numpy as np\n",
    "import polars as pl\n",
    "import polars.selectors as cs\n",
    "import matplotlib.pyplot as plt\n",
    "import seaborn as sns\n",
    "import plotly.express as px\n",
    "import plotly.graph_objects as go\n",
    "import great_tables as tg\n",
    "import altair as alt\n",
    "import datetime as dt"
   ],
   "outputs": [],
   "execution_count": 15
  },
  {
   "metadata": {
    "ExecuteTime": {
     "end_time": "2024-12-26T19:12:25.844910Z",
     "start_time": "2024-12-26T19:12:25.842093Z"
    }
   },
   "cell_type": "code",
   "source": "df_investment_path = r\"C:\\Users\\Zygim\\Downloads\\archive (12)\\invesment_in_building_construction.csv\"",
   "id": "9020e81fc7f4e013",
   "outputs": [],
   "execution_count": 4
  },
  {
   "metadata": {
    "ExecuteTime": {
     "end_time": "2024-12-26T19:12:26.206318Z",
     "start_time": "2024-12-26T19:12:26.203424Z"
    }
   },
   "cell_type": "code",
   "source": "df_investment_lazy = pl.scan_csv(df_investment_path).lazy()",
   "id": "b7ccc70681557dee",
   "outputs": [],
   "execution_count": 5
  },
  {
   "metadata": {
    "ExecuteTime": {
     "end_time": "2024-12-26T19:12:32.805753Z",
     "start_time": "2024-12-26T19:12:32.077702Z"
    }
   },
   "cell_type": "code",
   "source": "df_investment = df_investment_lazy.collect()",
   "id": "a8b0a57667098963",
   "outputs": [],
   "execution_count": 6
  },
  {
   "metadata": {
    "ExecuteTime": {
     "end_time": "2024-12-26T19:12:34.835362Z",
     "start_time": "2024-12-26T19:12:34.827938Z"
    }
   },
   "cell_type": "code",
   "source": "df_investment",
   "id": "190f7f89d0734de",
   "outputs": [
    {
     "data": {
      "text/plain": [
       "shape: (4_173_840, 17)\n",
       "┌──────────┬─────────────┬─────────────┬─────────────┬───┬────────┬────────┬────────────┬──────────┐\n",
       "│ REF_DATE ┆ GEO         ┆ DGUID       ┆ Type of     ┆ … ┆ STATUS ┆ SYMBOL ┆ TERMINATED ┆ DECIMALS │\n",
       "│ ---      ┆ ---         ┆ ---         ┆ structure   ┆   ┆ ---    ┆ ---    ┆ ---        ┆ ---      │\n",
       "│ str      ┆ str         ┆ str         ┆ ---         ┆   ┆ str    ┆ str    ┆ str        ┆ i64      │\n",
       "│          ┆             ┆             ┆ str         ┆   ┆        ┆        ┆            ┆          │\n",
       "╞══════════╪═════════════╪═════════════╪═════════════╪═══╪════════╪════════╪════════════╪══════════╡\n",
       "│ 2017-01  ┆ Canada      ┆ 2021A000011 ┆ Total       ┆ … ┆        ┆        ┆            ┆ 0        │\n",
       "│          ┆             ┆ 124         ┆ residential ┆   ┆        ┆        ┆            ┆          │\n",
       "│          ┆             ┆             ┆ and         ┆   ┆        ┆        ┆            ┆          │\n",
       "│          ┆             ┆             ┆ non-resi…   ┆   ┆        ┆        ┆            ┆          │\n",
       "│ 2017-01  ┆ Canada      ┆ 2021A000011 ┆ Total       ┆ … ┆        ┆        ┆            ┆ 0        │\n",
       "│          ┆             ┆ 124         ┆ residential ┆   ┆        ┆        ┆            ┆          │\n",
       "│          ┆             ┆             ┆ and         ┆   ┆        ┆        ┆            ┆          │\n",
       "│          ┆             ┆             ┆ non-resi…   ┆   ┆        ┆        ┆            ┆          │\n",
       "│ 2017-01  ┆ Canada      ┆ 2021A000011 ┆ Total       ┆ … ┆        ┆        ┆            ┆ 0        │\n",
       "│          ┆             ┆ 124         ┆ residential ┆   ┆        ┆        ┆            ┆          │\n",
       "│          ┆             ┆             ┆ and         ┆   ┆        ┆        ┆            ┆          │\n",
       "│          ┆             ┆             ┆ non-resi…   ┆   ┆        ┆        ┆            ┆          │\n",
       "│ 2017-01  ┆ Canada      ┆ 2021A000011 ┆ Total       ┆ … ┆        ┆        ┆            ┆ 0        │\n",
       "│          ┆             ┆ 124         ┆ residential ┆   ┆        ┆        ┆            ┆          │\n",
       "│          ┆             ┆             ┆ and         ┆   ┆        ┆        ┆            ┆          │\n",
       "│          ┆             ┆             ┆ non-resi…   ┆   ┆        ┆        ┆            ┆          │\n",
       "│ 2017-01  ┆ Canada      ┆ 2021A000011 ┆ Total       ┆ … ┆        ┆        ┆            ┆ 0        │\n",
       "│          ┆             ┆ 124         ┆ residential ┆   ┆        ┆        ┆            ┆          │\n",
       "│          ┆             ┆             ┆ and         ┆   ┆        ┆        ┆            ┆          │\n",
       "│          ┆             ┆             ┆ non-resi…   ┆   ┆        ┆        ┆            ┆          │\n",
       "│ …        ┆ …           ┆ …           ┆ …           ┆ … ┆ …      ┆ …      ┆ …          ┆ …        │\n",
       "│ 2024-09  ┆ Chilliwack, ┆ 2021S050493 ┆ Minor, inst ┆ … ┆ ..     ┆        ┆            ┆ 0        │\n",
       "│          ┆ British     ┆ 0           ┆ itutional   ┆   ┆        ┆        ┆            ┆          │\n",
       "│          ┆ Columbia    ┆             ┆ and gover…  ┆   ┆        ┆        ┆            ┆          │\n",
       "│ 2024-09  ┆ Chilliwack, ┆ 2021S050493 ┆ Minor, inst ┆ … ┆ ..     ┆        ┆            ┆ 0        │\n",
       "│          ┆ British     ┆ 0           ┆ itutional   ┆   ┆        ┆        ┆            ┆          │\n",
       "│          ┆ Columbia    ┆             ┆ and gover…  ┆   ┆        ┆        ┆            ┆          │\n",
       "│ 2024-09  ┆ Chilliwack, ┆ 2021S050493 ┆ Minor, inst ┆ … ┆ ..     ┆        ┆            ┆ 0        │\n",
       "│          ┆ British     ┆ 0           ┆ itutional   ┆   ┆        ┆        ┆            ┆          │\n",
       "│          ┆ Columbia    ┆             ┆ and gover…  ┆   ┆        ┆        ┆            ┆          │\n",
       "│ 2024-09  ┆ Chilliwack, ┆ 2021S050493 ┆ Minor, inst ┆ … ┆ ..     ┆        ┆            ┆ 0        │\n",
       "│          ┆ British     ┆ 0           ┆ itutional   ┆   ┆        ┆        ┆            ┆          │\n",
       "│          ┆ Columbia    ┆             ┆ and gover…  ┆   ┆        ┆        ┆            ┆          │\n",
       "│ 2024-09  ┆ Chilliwack, ┆ 2021S050493 ┆ Minor, inst ┆ … ┆ ..     ┆        ┆            ┆ 0        │\n",
       "│          ┆ British     ┆ 0           ┆ itutional   ┆   ┆        ┆        ┆            ┆          │\n",
       "│          ┆ Columbia    ┆             ┆ and gover…  ┆   ┆        ┆        ┆            ┆          │\n",
       "└──────────┴─────────────┴─────────────┴─────────────┴───┴────────┴────────┴────────────┴──────────┘"
      ],
      "text/html": [
       "<div><style>\n",
       ".dataframe > thead > tr,\n",
       ".dataframe > tbody > tr {\n",
       "  text-align: right;\n",
       "  white-space: pre-wrap;\n",
       "}\n",
       "</style>\n",
       "<small>shape: (4_173_840, 17)</small><table border=\"1\" class=\"dataframe\"><thead><tr><th>REF_DATE</th><th>GEO</th><th>DGUID</th><th>Type of structure</th><th>Type of work</th><th>Investment Value</th><th>UOM</th><th>UOM_ID</th><th>SCALAR_FACTOR</th><th>SCALAR_ID</th><th>VECTOR</th><th>COORDINATE</th><th>VALUE</th><th>STATUS</th><th>SYMBOL</th><th>TERMINATED</th><th>DECIMALS</th></tr><tr><td>str</td><td>str</td><td>str</td><td>str</td><td>str</td><td>str</td><td>str</td><td>i64</td><td>str</td><td>i64</td><td>str</td><td>str</td><td>str</td><td>str</td><td>str</td><td>str</td><td>i64</td></tr></thead><tbody><tr><td>&quot;2017-01&quot;</td><td>&quot;Canada&quot;</td><td>&quot;2021A000011124&quot;</td><td>&quot;Total residential and non-resi…</td><td>&quot;Types of work, total&quot;</td><td>&quot;Unadjusted - current&quot;</td><td>&quot;Dollars&quot;</td><td>81</td><td>&quot;units&quot;</td><td>0</td><td>&quot;v1579154855&quot;</td><td>&quot;1.1.1.1&quot;</td><td>&quot;12770784729&quot;</td><td>&quot;&quot;</td><td>&quot;&quot;</td><td>&quot;&quot;</td><td>0</td></tr><tr><td>&quot;2017-01&quot;</td><td>&quot;Canada&quot;</td><td>&quot;2021A000011124&quot;</td><td>&quot;Total residential and non-resi…</td><td>&quot;Types of work, total&quot;</td><td>&quot;Unadjusted - constant&quot;</td><td>&quot;Dollars&quot;</td><td>81</td><td>&quot;units&quot;</td><td>0</td><td>&quot;v1579154856&quot;</td><td>&quot;1.1.1.2&quot;</td><td>&quot;12190291125&quot;</td><td>&quot;&quot;</td><td>&quot;&quot;</td><td>&quot;&quot;</td><td>0</td></tr><tr><td>&quot;2017-01&quot;</td><td>&quot;Canada&quot;</td><td>&quot;2021A000011124&quot;</td><td>&quot;Total residential and non-resi…</td><td>&quot;Types of work, total&quot;</td><td>&quot;Seasonally adjusted - current&quot;</td><td>&quot;Dollars&quot;</td><td>81</td><td>&quot;units&quot;</td><td>0</td><td>&quot;v1579154857&quot;</td><td>&quot;1.1.1.3&quot;</td><td>&quot;13750534038&quot;</td><td>&quot;&quot;</td><td>&quot;&quot;</td><td>&quot;&quot;</td><td>0</td></tr><tr><td>&quot;2017-01&quot;</td><td>&quot;Canada&quot;</td><td>&quot;2021A000011124&quot;</td><td>&quot;Total residential and non-resi…</td><td>&quot;Types of work, total&quot;</td><td>&quot;Seasonally adjusted - constant&quot;</td><td>&quot;Dollars&quot;</td><td>81</td><td>&quot;units&quot;</td><td>0</td><td>&quot;v1579154858&quot;</td><td>&quot;1.1.1.4&quot;</td><td>&quot;13131833260&quot;</td><td>&quot;&quot;</td><td>&quot;&quot;</td><td>&quot;&quot;</td><td>0</td></tr><tr><td>&quot;2017-01&quot;</td><td>&quot;Canada&quot;</td><td>&quot;2021A000011124&quot;</td><td>&quot;Total residential and non-resi…</td><td>&quot;New construction&quot;</td><td>&quot;Unadjusted - current&quot;</td><td>&quot;Dollars&quot;</td><td>81</td><td>&quot;units&quot;</td><td>0</td><td>&quot;v1579154859&quot;</td><td>&quot;1.1.2.1&quot;</td><td>&quot;6522886834&quot;</td><td>&quot;&quot;</td><td>&quot;&quot;</td><td>&quot;&quot;</td><td>0</td></tr><tr><td>&hellip;</td><td>&hellip;</td><td>&hellip;</td><td>&hellip;</td><td>&hellip;</td><td>&hellip;</td><td>&hellip;</td><td>&hellip;</td><td>&hellip;</td><td>&hellip;</td><td>&hellip;</td><td>&hellip;</td><td>&hellip;</td><td>&hellip;</td><td>&hellip;</td><td>&hellip;</td><td>&hellip;</td></tr><tr><td>&quot;2024-09&quot;</td><td>&quot;Chilliwack, British Columbia&quot;</td><td>&quot;2021S0504930&quot;</td><td>&quot;Minor, institutional and gover…</td><td>&quot;Conversions total&quot;</td><td>&quot;Seasonally adjusted - constant&quot;</td><td>&quot;Dollars&quot;</td><td>81</td><td>&quot;units&quot;</td><td>0</td><td>&quot;v1579199050&quot;</td><td>&quot;66.34.4.4&quot;</td><td>&quot;&quot;</td><td>&quot;..&quot;</td><td>&quot;&quot;</td><td>&quot;&quot;</td><td>0</td></tr><tr><td>&quot;2024-09&quot;</td><td>&quot;Chilliwack, British Columbia&quot;</td><td>&quot;2021S0504930&quot;</td><td>&quot;Minor, institutional and gover…</td><td>&quot;Other types of work&quot;</td><td>&quot;Unadjusted - current&quot;</td><td>&quot;Dollars&quot;</td><td>81</td><td>&quot;units&quot;</td><td>0</td><td>&quot;v1579199051&quot;</td><td>&quot;66.34.5.1&quot;</td><td>&quot;&quot;</td><td>&quot;..&quot;</td><td>&quot;&quot;</td><td>&quot;&quot;</td><td>0</td></tr><tr><td>&quot;2024-09&quot;</td><td>&quot;Chilliwack, British Columbia&quot;</td><td>&quot;2021S0504930&quot;</td><td>&quot;Minor, institutional and gover…</td><td>&quot;Other types of work&quot;</td><td>&quot;Unadjusted - constant&quot;</td><td>&quot;Dollars&quot;</td><td>81</td><td>&quot;units&quot;</td><td>0</td><td>&quot;v1579199052&quot;</td><td>&quot;66.34.5.2&quot;</td><td>&quot;&quot;</td><td>&quot;..&quot;</td><td>&quot;&quot;</td><td>&quot;&quot;</td><td>0</td></tr><tr><td>&quot;2024-09&quot;</td><td>&quot;Chilliwack, British Columbia&quot;</td><td>&quot;2021S0504930&quot;</td><td>&quot;Minor, institutional and gover…</td><td>&quot;Other types of work&quot;</td><td>&quot;Seasonally adjusted - current&quot;</td><td>&quot;Dollars&quot;</td><td>81</td><td>&quot;units&quot;</td><td>0</td><td>&quot;v1579199053&quot;</td><td>&quot;66.34.5.3&quot;</td><td>&quot;&quot;</td><td>&quot;..&quot;</td><td>&quot;&quot;</td><td>&quot;&quot;</td><td>0</td></tr><tr><td>&quot;2024-09&quot;</td><td>&quot;Chilliwack, British Columbia&quot;</td><td>&quot;2021S0504930&quot;</td><td>&quot;Minor, institutional and gover…</td><td>&quot;Other types of work&quot;</td><td>&quot;Seasonally adjusted - constant&quot;</td><td>&quot;Dollars&quot;</td><td>81</td><td>&quot;units&quot;</td><td>0</td><td>&quot;v1579199054&quot;</td><td>&quot;66.34.5.4&quot;</td><td>&quot;&quot;</td><td>&quot;..&quot;</td><td>&quot;&quot;</td><td>&quot;&quot;</td><td>0</td></tr></tbody></table></div>"
      ]
     },
     "execution_count": 7,
     "metadata": {},
     "output_type": "execute_result"
    }
   ],
   "execution_count": 7
  },
  {
   "metadata": {
    "ExecuteTime": {
     "end_time": "2024-12-26T19:13:22.157800Z",
     "start_time": "2024-12-26T19:13:22.153662Z"
    }
   },
   "cell_type": "code",
   "source": "df_investment.null_count()",
   "id": "5c77bf93cd69d0a9",
   "outputs": [
    {
     "data": {
      "text/plain": [
       "shape: (1, 17)\n",
       "┌──────────┬─────┬───────┬───────────────────┬───┬────────┬────────┬────────────┬──────────┐\n",
       "│ REF_DATE ┆ GEO ┆ DGUID ┆ Type of structure ┆ … ┆ STATUS ┆ SYMBOL ┆ TERMINATED ┆ DECIMALS │\n",
       "│ ---      ┆ --- ┆ ---   ┆ ---               ┆   ┆ ---    ┆ ---    ┆ ---        ┆ ---      │\n",
       "│ u32      ┆ u32 ┆ u32   ┆ u32               ┆   ┆ u32    ┆ u32    ┆ u32        ┆ u32      │\n",
       "╞══════════╪═════╪═══════╪═══════════════════╪═══╪════════╪════════╪════════════╪══════════╡\n",
       "│ 0        ┆ 0   ┆ 0     ┆ 0                 ┆ … ┆ 0      ┆ 0      ┆ 0          ┆ 0        │\n",
       "└──────────┴─────┴───────┴───────────────────┴───┴────────┴────────┴────────────┴──────────┘"
      ],
      "text/html": [
       "<div><style>\n",
       ".dataframe > thead > tr,\n",
       ".dataframe > tbody > tr {\n",
       "  text-align: right;\n",
       "  white-space: pre-wrap;\n",
       "}\n",
       "</style>\n",
       "<small>shape: (1, 17)</small><table border=\"1\" class=\"dataframe\"><thead><tr><th>REF_DATE</th><th>GEO</th><th>DGUID</th><th>Type of structure</th><th>Type of work</th><th>Investment Value</th><th>UOM</th><th>UOM_ID</th><th>SCALAR_FACTOR</th><th>SCALAR_ID</th><th>VECTOR</th><th>COORDINATE</th><th>VALUE</th><th>STATUS</th><th>SYMBOL</th><th>TERMINATED</th><th>DECIMALS</th></tr><tr><td>u32</td><td>u32</td><td>u32</td><td>u32</td><td>u32</td><td>u32</td><td>u32</td><td>u32</td><td>u32</td><td>u32</td><td>u32</td><td>u32</td><td>u32</td><td>u32</td><td>u32</td><td>u32</td><td>u32</td></tr></thead><tbody><tr><td>0</td><td>0</td><td>0</td><td>0</td><td>0</td><td>0</td><td>0</td><td>0</td><td>0</td><td>0</td><td>0</td><td>0</td><td>0</td><td>0</td><td>0</td><td>0</td><td>0</td></tr></tbody></table></div>"
      ]
     },
     "execution_count": 10,
     "metadata": {},
     "output_type": "execute_result"
    }
   ],
   "execution_count": 10
  },
  {
   "metadata": {
    "ExecuteTime": {
     "end_time": "2024-12-26T19:14:35.890241Z",
     "start_time": "2024-12-26T19:14:35.884982Z"
    }
   },
   "cell_type": "code",
   "source": "pl.DataFrame(df_investment.collect_schema())",
   "id": "541308983a0eda92",
   "outputs": [
    {
     "data": {
      "text/plain": [
       "shape: (1, 17)\n",
       "┌──────────┬────────┬────────┬───────────────────┬───┬────────┬────────┬────────────┬──────────┐\n",
       "│ REF_DATE ┆ GEO    ┆ DGUID  ┆ Type of structure ┆ … ┆ STATUS ┆ SYMBOL ┆ TERMINATED ┆ DECIMALS │\n",
       "│ ---      ┆ ---    ┆ ---    ┆ ---               ┆   ┆ ---    ┆ ---    ┆ ---        ┆ ---      │\n",
       "│ object   ┆ object ┆ object ┆ object            ┆   ┆ object ┆ object ┆ object     ┆ object   │\n",
       "╞══════════╪════════╪════════╪═══════════════════╪═══╪════════╪════════╪════════════╪══════════╡\n",
       "│ String   ┆ String ┆ String ┆ String            ┆ … ┆ String ┆ String ┆ String     ┆ Int64    │\n",
       "└──────────┴────────┴────────┴───────────────────┴───┴────────┴────────┴────────────┴──────────┘"
      ],
      "text/html": [
       "<div><style>\n",
       ".dataframe > thead > tr,\n",
       ".dataframe > tbody > tr {\n",
       "  text-align: right;\n",
       "  white-space: pre-wrap;\n",
       "}\n",
       "</style>\n",
       "<small>shape: (1, 17)</small><table border=\"1\" class=\"dataframe\"><thead><tr><th>REF_DATE</th><th>GEO</th><th>DGUID</th><th>Type of structure</th><th>Type of work</th><th>Investment Value</th><th>UOM</th><th>UOM_ID</th><th>SCALAR_FACTOR</th><th>SCALAR_ID</th><th>VECTOR</th><th>COORDINATE</th><th>VALUE</th><th>STATUS</th><th>SYMBOL</th><th>TERMINATED</th><th>DECIMALS</th></tr><tr><td>object</td><td>object</td><td>object</td><td>object</td><td>object</td><td>object</td><td>object</td><td>object</td><td>object</td><td>object</td><td>object</td><td>object</td><td>object</td><td>object</td><td>object</td><td>object</td><td>object</td></tr></thead><tbody><tr><td>String</td><td>String</td><td>String</td><td>String</td><td>String</td><td>String</td><td>String</td><td>Int64</td><td>String</td><td>Int64</td><td>String</td><td>String</td><td>String</td><td>String</td><td>String</td><td>String</td><td>Int64</td></tr></tbody></table></div>"
      ]
     },
     "execution_count": 13,
     "metadata": {},
     "output_type": "execute_result"
    }
   ],
   "execution_count": 13
  },
  {
   "metadata": {
    "ExecuteTime": {
     "end_time": "2024-12-26T19:26:07.126277Z",
     "start_time": "2024-12-26T19:26:07.113239Z"
    }
   },
   "cell_type": "code",
   "source": "df_investment['DECIMALS'].unique()",
   "id": "87bef4876ebbde99",
   "outputs": [
    {
     "data": {
      "text/plain": [
       "shape: (1,)\n",
       "Series: 'DECIMALS' [i64]\n",
       "[\n",
       "\t0\n",
       "]"
      ],
      "text/html": [
       "<div><style>\n",
       ".dataframe > thead > tr,\n",
       ".dataframe > tbody > tr {\n",
       "  text-align: right;\n",
       "  white-space: pre-wrap;\n",
       "}\n",
       "</style>\n",
       "<small>shape: (1,)</small><table border=\"1\" class=\"dataframe\"><thead><tr><th>DECIMALS</th></tr><tr><td>i64</td></tr></thead><tbody><tr><td>0</td></tr></tbody></table></div>"
      ]
     },
     "execution_count": 43,
     "metadata": {},
     "output_type": "execute_result"
    }
   ],
   "execution_count": 43
  },
  {
   "metadata": {
    "ExecuteTime": {
     "end_time": "2024-12-26T19:28:31.672935Z",
     "start_time": "2024-12-26T19:28:31.665642Z"
    }
   },
   "cell_type": "code",
   "source": [
    "df_investment = df_investment.with_columns(\n",
    "    pl.col('REF_DATE').str.strptime(pl.Date, '%Y-%m'),\n",
    "    pl.col('UOM_ID').cast(pl.UInt8),\n",
    "    pl.col('SCALAR_ID').cast(pl.UInt8),\n",
    ")"
   ],
   "id": "1903690942d2babd",
   "outputs": [],
   "execution_count": 44
  },
  {
   "metadata": {
    "ExecuteTime": {
     "end_time": "2024-12-26T19:28:35.417458Z",
     "start_time": "2024-12-26T19:28:35.413045Z"
    }
   },
   "cell_type": "code",
   "source": "df_investment.estimated_size('mb')",
   "id": "6ff0ad517faec037",
   "outputs": [
    {
     "data": {
      "text/plain": [
       "567.7397193908691"
      ]
     },
     "execution_count": 45,
     "metadata": {},
     "output_type": "execute_result"
    }
   ],
   "execution_count": 45
  },
  {
   "metadata": {
    "ExecuteTime": {
     "end_time": "2024-12-26T19:29:02.117361Z",
     "start_time": "2024-12-26T19:29:02.113999Z"
    }
   },
   "cell_type": "code",
   "source": [
    "df_investment = df_investment.drop(\n",
    "    ['STATUS', 'SYMBOL', 'TERMINATED', 'DECIMALS']\n",
    ")"
   ],
   "id": "b659aa0e1b039f3d",
   "outputs": [],
   "execution_count": 47
  },
  {
   "metadata": {
    "ExecuteTime": {
     "end_time": "2024-12-26T19:31:08.771266Z",
     "start_time": "2024-12-26T19:31:08.767291Z"
    }
   },
   "cell_type": "code",
   "source": [
    "original_size_mb = 635.4079475402832\n",
    "reduced_size_mb = df_investment.estimated_size('mb')\n",
    "\n",
    "f'{round(100 - (reduced_size_mb / original_size_mb * 100), 2)} MB reduced size'"
   ],
   "id": "75fb861915fe133",
   "outputs": [
    {
     "data": {
      "text/plain": [
       "'16.51 MB'"
      ]
     },
     "execution_count": 52,
     "metadata": {},
     "output_type": "execute_result"
    }
   ],
   "execution_count": 52
  },
  {
   "metadata": {
    "ExecuteTime": {
     "end_time": "2024-12-26T19:32:06.988010Z",
     "start_time": "2024-12-26T19:32:06.527995Z"
    }
   },
   "cell_type": "code",
   "source": "df_investment.write_parquet(r\"C:\\Users\\Zygim\\Downloads\\archive (12)\\invesment_in_building_construction.parquet\")",
   "id": "6b49aebcbd519a21",
   "outputs": [],
   "execution_count": 53
  },
  {
   "metadata": {
    "ExecuteTime": {
     "end_time": "2024-12-26T19:32:36.925065Z",
     "start_time": "2024-12-26T19:32:36.922752Z"
    }
   },
   "cell_type": "code",
   "source": "parquet_path = r\"C:\\Users\\Zygim\\Downloads\\archive (12)\\invesment_in_building_construction.parquet\"",
   "id": "ec9bc80c2acbb311",
   "outputs": [],
   "execution_count": 54
  },
  {
   "metadata": {
    "ExecuteTime": {
     "end_time": "2024-12-26T19:32:46.459802Z",
     "start_time": "2024-12-26T19:32:46.385034Z"
    }
   },
   "cell_type": "code",
   "source": "df_investment_parquet = pl.scan_parquet(parquet_path).collect()",
   "id": "d2f1c701222721c5",
   "outputs": [],
   "execution_count": 55
  },
  {
   "metadata": {
    "ExecuteTime": {
     "end_time": "2024-12-26T19:32:56.072952Z",
     "start_time": "2024-12-26T19:32:56.069561Z"
    }
   },
   "cell_type": "code",
   "source": "df_investment_parquet.estimated_size('mb')",
   "id": "bd14027a33a2e18c",
   "outputs": [
    {
     "data": {
      "text/plain": [
       "530.4753646850586"
      ]
     },
     "execution_count": 57,
     "metadata": {},
     "output_type": "execute_result"
    }
   ],
   "execution_count": 57
  },
  {
   "metadata": {
    "ExecuteTime": {
     "end_time": "2024-12-26T19:34:27.381197Z",
     "start_time": "2024-12-26T19:34:27.376044Z"
    }
   },
   "cell_type": "code",
   "source": "df_investment_parquet",
   "id": "bb57c35b9032c48b",
   "outputs": [
    {
     "data": {
      "text/plain": [
       "shape: (4_173_840, 13)\n",
       "┌───────────┬───────────┬───────────┬───────────┬───┬───────────┬───────────┬───────────┬──────────┐\n",
       "│ REF_DATE  ┆ GEO       ┆ DGUID     ┆ Type of   ┆ … ┆ SCALAR_ID ┆ VECTOR    ┆ COORDINAT ┆ VALUE    │\n",
       "│ ---       ┆ ---       ┆ ---       ┆ structure ┆   ┆ ---       ┆ ---       ┆ E         ┆ ---      │\n",
       "│ date      ┆ str       ┆ str       ┆ ---       ┆   ┆ u8        ┆ str       ┆ ---       ┆ str      │\n",
       "│           ┆           ┆           ┆ str       ┆   ┆           ┆           ┆ str       ┆          │\n",
       "╞═══════════╪═══════════╪═══════════╪═══════════╪═══╪═══════════╪═══════════╪═══════════╪══════════╡\n",
       "│ 2017-01-0 ┆ Canada    ┆ 2021A0000 ┆ Total res ┆ … ┆ 0         ┆ v15791548 ┆ 1.1.1.1   ┆ 12770784 │\n",
       "│ 1         ┆           ┆ 11124     ┆ idential  ┆   ┆           ┆ 55        ┆           ┆ 729      │\n",
       "│           ┆           ┆           ┆ and       ┆   ┆           ┆           ┆           ┆          │\n",
       "│           ┆           ┆           ┆ non-resi… ┆   ┆           ┆           ┆           ┆          │\n",
       "│ 2017-01-0 ┆ Canada    ┆ 2021A0000 ┆ Total res ┆ … ┆ 0         ┆ v15791548 ┆ 1.1.1.2   ┆ 12190291 │\n",
       "│ 1         ┆           ┆ 11124     ┆ idential  ┆   ┆           ┆ 56        ┆           ┆ 125      │\n",
       "│           ┆           ┆           ┆ and       ┆   ┆           ┆           ┆           ┆          │\n",
       "│           ┆           ┆           ┆ non-resi… ┆   ┆           ┆           ┆           ┆          │\n",
       "│ 2017-01-0 ┆ Canada    ┆ 2021A0000 ┆ Total res ┆ … ┆ 0         ┆ v15791548 ┆ 1.1.1.3   ┆ 13750534 │\n",
       "│ 1         ┆           ┆ 11124     ┆ idential  ┆   ┆           ┆ 57        ┆           ┆ 038      │\n",
       "│           ┆           ┆           ┆ and       ┆   ┆           ┆           ┆           ┆          │\n",
       "│           ┆           ┆           ┆ non-resi… ┆   ┆           ┆           ┆           ┆          │\n",
       "│ 2017-01-0 ┆ Canada    ┆ 2021A0000 ┆ Total res ┆ … ┆ 0         ┆ v15791548 ┆ 1.1.1.4   ┆ 13131833 │\n",
       "│ 1         ┆           ┆ 11124     ┆ idential  ┆   ┆           ┆ 58        ┆           ┆ 260      │\n",
       "│           ┆           ┆           ┆ and       ┆   ┆           ┆           ┆           ┆          │\n",
       "│           ┆           ┆           ┆ non-resi… ┆   ┆           ┆           ┆           ┆          │\n",
       "│ 2017-01-0 ┆ Canada    ┆ 2021A0000 ┆ Total res ┆ … ┆ 0         ┆ v15791548 ┆ 1.1.2.1   ┆ 65228868 │\n",
       "│ 1         ┆           ┆ 11124     ┆ idential  ┆   ┆           ┆ 59        ┆           ┆ 34       │\n",
       "│           ┆           ┆           ┆ and       ┆   ┆           ┆           ┆           ┆          │\n",
       "│           ┆           ┆           ┆ non-resi… ┆   ┆           ┆           ┆           ┆          │\n",
       "│ …         ┆ …         ┆ …         ┆ …         ┆ … ┆ …         ┆ …         ┆ …         ┆ …        │\n",
       "│ 2024-09-0 ┆ Chilliwac ┆ 2021S0504 ┆ Minor,    ┆ … ┆ 0         ┆ v15791990 ┆ 66.34.4.4 ┆          │\n",
       "│ 1         ┆ k,        ┆ 930       ┆ instituti ┆   ┆           ┆ 50        ┆           ┆          │\n",
       "│           ┆ British   ┆           ┆ onal and  ┆   ┆           ┆           ┆           ┆          │\n",
       "│           ┆ Columbia  ┆           ┆ gover…    ┆   ┆           ┆           ┆           ┆          │\n",
       "│ 2024-09-0 ┆ Chilliwac ┆ 2021S0504 ┆ Minor,    ┆ … ┆ 0         ┆ v15791990 ┆ 66.34.5.1 ┆          │\n",
       "│ 1         ┆ k,        ┆ 930       ┆ instituti ┆   ┆           ┆ 51        ┆           ┆          │\n",
       "│           ┆ British   ┆           ┆ onal and  ┆   ┆           ┆           ┆           ┆          │\n",
       "│           ┆ Columbia  ┆           ┆ gover…    ┆   ┆           ┆           ┆           ┆          │\n",
       "│ 2024-09-0 ┆ Chilliwac ┆ 2021S0504 ┆ Minor,    ┆ … ┆ 0         ┆ v15791990 ┆ 66.34.5.2 ┆          │\n",
       "│ 1         ┆ k,        ┆ 930       ┆ instituti ┆   ┆           ┆ 52        ┆           ┆          │\n",
       "│           ┆ British   ┆           ┆ onal and  ┆   ┆           ┆           ┆           ┆          │\n",
       "│           ┆ Columbia  ┆           ┆ gover…    ┆   ┆           ┆           ┆           ┆          │\n",
       "│ 2024-09-0 ┆ Chilliwac ┆ 2021S0504 ┆ Minor,    ┆ … ┆ 0         ┆ v15791990 ┆ 66.34.5.3 ┆          │\n",
       "│ 1         ┆ k,        ┆ 930       ┆ instituti ┆   ┆           ┆ 53        ┆           ┆          │\n",
       "│           ┆ British   ┆           ┆ onal and  ┆   ┆           ┆           ┆           ┆          │\n",
       "│           ┆ Columbia  ┆           ┆ gover…    ┆   ┆           ┆           ┆           ┆          │\n",
       "│ 2024-09-0 ┆ Chilliwac ┆ 2021S0504 ┆ Minor,    ┆ … ┆ 0         ┆ v15791990 ┆ 66.34.5.4 ┆          │\n",
       "│ 1         ┆ k,        ┆ 930       ┆ instituti ┆   ┆           ┆ 54        ┆           ┆          │\n",
       "│           ┆ British   ┆           ┆ onal and  ┆   ┆           ┆           ┆           ┆          │\n",
       "│           ┆ Columbia  ┆           ┆ gover…    ┆   ┆           ┆           ┆           ┆          │\n",
       "└───────────┴───────────┴───────────┴───────────┴───┴───────────┴───────────┴───────────┴──────────┘"
      ],
      "text/html": [
       "<div><style>\n",
       ".dataframe > thead > tr,\n",
       ".dataframe > tbody > tr {\n",
       "  text-align: right;\n",
       "  white-space: pre-wrap;\n",
       "}\n",
       "</style>\n",
       "<small>shape: (4_173_840, 13)</small><table border=\"1\" class=\"dataframe\"><thead><tr><th>REF_DATE</th><th>GEO</th><th>DGUID</th><th>Type of structure</th><th>Type of work</th><th>Investment Value</th><th>UOM</th><th>UOM_ID</th><th>SCALAR_FACTOR</th><th>SCALAR_ID</th><th>VECTOR</th><th>COORDINATE</th><th>VALUE</th></tr><tr><td>date</td><td>str</td><td>str</td><td>str</td><td>str</td><td>str</td><td>str</td><td>u8</td><td>str</td><td>u8</td><td>str</td><td>str</td><td>str</td></tr></thead><tbody><tr><td>2017-01-01</td><td>&quot;Canada&quot;</td><td>&quot;2021A000011124&quot;</td><td>&quot;Total residential and non-resi…</td><td>&quot;Types of work, total&quot;</td><td>&quot;Unadjusted - current&quot;</td><td>&quot;Dollars&quot;</td><td>81</td><td>&quot;units&quot;</td><td>0</td><td>&quot;v1579154855&quot;</td><td>&quot;1.1.1.1&quot;</td><td>&quot;12770784729&quot;</td></tr><tr><td>2017-01-01</td><td>&quot;Canada&quot;</td><td>&quot;2021A000011124&quot;</td><td>&quot;Total residential and non-resi…</td><td>&quot;Types of work, total&quot;</td><td>&quot;Unadjusted - constant&quot;</td><td>&quot;Dollars&quot;</td><td>81</td><td>&quot;units&quot;</td><td>0</td><td>&quot;v1579154856&quot;</td><td>&quot;1.1.1.2&quot;</td><td>&quot;12190291125&quot;</td></tr><tr><td>2017-01-01</td><td>&quot;Canada&quot;</td><td>&quot;2021A000011124&quot;</td><td>&quot;Total residential and non-resi…</td><td>&quot;Types of work, total&quot;</td><td>&quot;Seasonally adjusted - current&quot;</td><td>&quot;Dollars&quot;</td><td>81</td><td>&quot;units&quot;</td><td>0</td><td>&quot;v1579154857&quot;</td><td>&quot;1.1.1.3&quot;</td><td>&quot;13750534038&quot;</td></tr><tr><td>2017-01-01</td><td>&quot;Canada&quot;</td><td>&quot;2021A000011124&quot;</td><td>&quot;Total residential and non-resi…</td><td>&quot;Types of work, total&quot;</td><td>&quot;Seasonally adjusted - constant&quot;</td><td>&quot;Dollars&quot;</td><td>81</td><td>&quot;units&quot;</td><td>0</td><td>&quot;v1579154858&quot;</td><td>&quot;1.1.1.4&quot;</td><td>&quot;13131833260&quot;</td></tr><tr><td>2017-01-01</td><td>&quot;Canada&quot;</td><td>&quot;2021A000011124&quot;</td><td>&quot;Total residential and non-resi…</td><td>&quot;New construction&quot;</td><td>&quot;Unadjusted - current&quot;</td><td>&quot;Dollars&quot;</td><td>81</td><td>&quot;units&quot;</td><td>0</td><td>&quot;v1579154859&quot;</td><td>&quot;1.1.2.1&quot;</td><td>&quot;6522886834&quot;</td></tr><tr><td>&hellip;</td><td>&hellip;</td><td>&hellip;</td><td>&hellip;</td><td>&hellip;</td><td>&hellip;</td><td>&hellip;</td><td>&hellip;</td><td>&hellip;</td><td>&hellip;</td><td>&hellip;</td><td>&hellip;</td><td>&hellip;</td></tr><tr><td>2024-09-01</td><td>&quot;Chilliwack, British Columbia&quot;</td><td>&quot;2021S0504930&quot;</td><td>&quot;Minor, institutional and gover…</td><td>&quot;Conversions total&quot;</td><td>&quot;Seasonally adjusted - constant&quot;</td><td>&quot;Dollars&quot;</td><td>81</td><td>&quot;units&quot;</td><td>0</td><td>&quot;v1579199050&quot;</td><td>&quot;66.34.4.4&quot;</td><td>&quot;&quot;</td></tr><tr><td>2024-09-01</td><td>&quot;Chilliwack, British Columbia&quot;</td><td>&quot;2021S0504930&quot;</td><td>&quot;Minor, institutional and gover…</td><td>&quot;Other types of work&quot;</td><td>&quot;Unadjusted - current&quot;</td><td>&quot;Dollars&quot;</td><td>81</td><td>&quot;units&quot;</td><td>0</td><td>&quot;v1579199051&quot;</td><td>&quot;66.34.5.1&quot;</td><td>&quot;&quot;</td></tr><tr><td>2024-09-01</td><td>&quot;Chilliwack, British Columbia&quot;</td><td>&quot;2021S0504930&quot;</td><td>&quot;Minor, institutional and gover…</td><td>&quot;Other types of work&quot;</td><td>&quot;Unadjusted - constant&quot;</td><td>&quot;Dollars&quot;</td><td>81</td><td>&quot;units&quot;</td><td>0</td><td>&quot;v1579199052&quot;</td><td>&quot;66.34.5.2&quot;</td><td>&quot;&quot;</td></tr><tr><td>2024-09-01</td><td>&quot;Chilliwack, British Columbia&quot;</td><td>&quot;2021S0504930&quot;</td><td>&quot;Minor, institutional and gover…</td><td>&quot;Other types of work&quot;</td><td>&quot;Seasonally adjusted - current&quot;</td><td>&quot;Dollars&quot;</td><td>81</td><td>&quot;units&quot;</td><td>0</td><td>&quot;v1579199053&quot;</td><td>&quot;66.34.5.3&quot;</td><td>&quot;&quot;</td></tr><tr><td>2024-09-01</td><td>&quot;Chilliwack, British Columbia&quot;</td><td>&quot;2021S0504930&quot;</td><td>&quot;Minor, institutional and gover…</td><td>&quot;Other types of work&quot;</td><td>&quot;Seasonally adjusted - constant&quot;</td><td>&quot;Dollars&quot;</td><td>81</td><td>&quot;units&quot;</td><td>0</td><td>&quot;v1579199054&quot;</td><td>&quot;66.34.5.4&quot;</td><td>&quot;&quot;</td></tr></tbody></table></div>"
      ]
     },
     "execution_count": 61,
     "metadata": {},
     "output_type": "execute_result"
    }
   ],
   "execution_count": 61
  },
  {
   "metadata": {},
   "cell_type": "code",
   "outputs": [],
   "execution_count": null,
   "source": "",
   "id": "e9e9f7d96f6907cc"
  }
 ],
 "metadata": {
  "kernelspec": {
   "display_name": "Python 3",
   "language": "python",
   "name": "python3"
  },
  "language_info": {
   "codemirror_mode": {
    "name": "ipython",
    "version": 2
   },
   "file_extension": ".py",
   "mimetype": "text/x-python",
   "name": "python",
   "nbconvert_exporter": "python",
   "pygments_lexer": "ipython2",
   "version": "2.7.6"
  }
 },
 "nbformat": 4,
 "nbformat_minor": 5
}
