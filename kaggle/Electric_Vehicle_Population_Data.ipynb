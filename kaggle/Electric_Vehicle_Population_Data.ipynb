{
 "cells": [
  {
   "cell_type": "code",
   "id": "initial_id",
   "metadata": {
    "collapsed": true,
    "ExecuteTime": {
     "end_time": "2025-10-01T07:27:22.033915Z",
     "start_time": "2025-10-01T07:27:19.661005Z"
    }
   },
   "source": [
    "import numpy as np\n",
    "import polars as pl\n",
    "import polars.selectors as cs\n",
    "import matplotlib.pyplot as plt\n",
    "import seaborn as sns\n",
    "import plotly.express as px\n",
    "import plotly.graph_objects as go\n",
    "import great_tables as tg\n",
    "import altair as alt\n",
    "import datetime as dt"
   ],
   "outputs": [],
   "execution_count": 2
  },
  {
   "metadata": {
    "ExecuteTime": {
     "end_time": "2025-10-01T07:27:23.132194Z",
     "start_time": "2025-10-01T07:27:23.127814Z"
    }
   },
   "cell_type": "code",
   "source": "df_path = r\"C:\\Users\\Zygim\\Downloads\\archive (1)\\Electric_Vehicle_Population_Data (1).csv\"",
   "id": "ce01bc164b52770d",
   "outputs": [],
   "execution_count": 3
  },
  {
   "metadata": {
    "ExecuteTime": {
     "end_time": "2025-10-01T07:27:26.915937Z",
     "start_time": "2025-10-01T07:27:26.871819Z"
    }
   },
   "cell_type": "code",
   "source": "df = pl.read_csv(df_path)",
   "id": "a8d447486c7bbb2c",
   "outputs": [],
   "execution_count": 4
  },
  {
   "metadata": {
    "ExecuteTime": {
     "end_time": "2025-10-01T07:27:50.291162Z",
     "start_time": "2025-10-01T07:27:50.272773Z"
    }
   },
   "cell_type": "code",
   "source": "df.describe()",
   "id": "9ef82d53f5d5b965",
   "outputs": [
    {
     "data": {
      "text/plain": [
       "shape: (9, 18)\n",
       "┌────────────┬────────────┬────────┬──────────┬───┬────────────┬───────────┬───────────┬───────────┐\n",
       "│ statistic  ┆ VIN (1-10) ┆ County ┆ City     ┆ … ┆ DOL        ┆ Vehicle   ┆ Electric  ┆ 2020      │\n",
       "│ ---        ┆ ---        ┆ ---    ┆ ---      ┆   ┆ Vehicle ID ┆ Location  ┆ Utility   ┆ Census    │\n",
       "│ str        ┆ str        ┆ str    ┆ str      ┆   ┆ ---        ┆ ---       ┆ ---       ┆ Tract     │\n",
       "│            ┆            ┆        ┆          ┆   ┆ f64        ┆ str       ┆ str       ┆ ---       │\n",
       "│            ┆            ┆        ┆          ┆   ┆            ┆           ┆           ┆ f64       │\n",
       "╞════════════╪════════════╪════════╪══════════╪═══╪════════════╪═══════════╪═══════════╪═══════════╡\n",
       "│ count      ┆ 261698     ┆ 261688 ┆ 261688   ┆ … ┆ 261698.0   ┆ 261680    ┆ 261688    ┆ 261688.0  │\n",
       "│ null_count ┆ 0          ┆ 10     ┆ 10       ┆ … ┆ 0.0        ┆ 18        ┆ 10        ┆ 10.0      │\n",
       "│ mean       ┆ null       ┆ null   ┆ null     ┆ … ┆ 2.4126e8   ┆ null      ┆ null      ┆ 5.2973e10 │\n",
       "│ std        ┆ null       ┆ null   ┆ null     ┆ … ┆ 6.5743e7   ┆ null      ┆ null      ┆ 1.6288e9  │\n",
       "│ min        ┆ 1C4JJXN60P ┆ Ada    ┆ Aberdeen ┆ … ┆ 4385.0     ┆ POINT (-1 ┆ AVISTA    ┆ 1.0010e9  │\n",
       "│            ┆            ┆        ┆          ┆   ┆            ┆ 04.67094  ┆ CORP      ┆           │\n",
       "│            ┆            ┆        ┆          ┆   ┆            ┆ 38.91924) ┆           ┆           │\n",
       "│ 25%        ┆ null       ┆ null   ┆ null     ┆ … ┆ 2.15041732 ┆ null      ┆ null      ┆ 5.3033e10 │\n",
       "│            ┆            ┆        ┆          ┆   ┆ e8         ┆           ┆           ┆           │\n",
       "│ 50%        ┆ null       ┆ null   ┆ null     ┆ … ┆ 2.59458965 ┆ null      ┆ null      ┆ 5.3033e10 │\n",
       "│            ┆            ┆        ┆          ┆   ┆ e8         ┆           ┆           ┆           │\n",
       "│ 75%        ┆ null       ┆ null   ┆ null     ┆ … ┆ 2.74648132 ┆ null      ┆ null      ┆ 5.3053e10 │\n",
       "│            ┆            ┆        ┆          ┆   ┆ e8         ┆           ┆           ┆           │\n",
       "│ max        ┆ ZPBUD6ZL6S ┆ Yuba   ┆ Zillah   ┆ … ┆ 4.79114996 ┆ POINT     ┆ PUGET     ┆ 6.6011e10 │\n",
       "│            ┆            ┆        ┆          ┆   ┆ e8         ┆ (144.8446 ┆ SOUND     ┆           │\n",
       "│            ┆            ┆        ┆          ┆   ┆            ┆ 13.56562) ┆ ENERGY    ┆           │\n",
       "│            ┆            ┆        ┆          ┆   ┆            ┆           ┆ INC||PUD  ┆           │\n",
       "│            ┆            ┆        ┆          ┆   ┆            ┆           ┆ NO…       ┆           │\n",
       "└────────────┴────────────┴────────┴──────────┴───┴────────────┴───────────┴───────────┴───────────┘"
      ],
      "text/html": [
       "<div><style>\n",
       ".dataframe > thead > tr,\n",
       ".dataframe > tbody > tr {\n",
       "  text-align: right;\n",
       "  white-space: pre-wrap;\n",
       "}\n",
       "</style>\n",
       "<small>shape: (9, 18)</small><table border=\"1\" class=\"dataframe\"><thead><tr><th>statistic</th><th>VIN (1-10)</th><th>County</th><th>City</th><th>State</th><th>Postal Code</th><th>Model Year</th><th>Make</th><th>Model</th><th>Electric Vehicle Type</th><th>Clean Alternative Fuel Vehicle (CAFV) Eligibility</th><th>Electric Range</th><th>Base MSRP</th><th>Legislative District</th><th>DOL Vehicle ID</th><th>Vehicle Location</th><th>Electric Utility</th><th>2020 Census Tract</th></tr><tr><td>str</td><td>str</td><td>str</td><td>str</td><td>str</td><td>f64</td><td>f64</td><td>str</td><td>str</td><td>str</td><td>str</td><td>f64</td><td>f64</td><td>f64</td><td>f64</td><td>str</td><td>str</td><td>f64</td></tr></thead><tbody><tr><td>&quot;count&quot;</td><td>&quot;261698&quot;</td><td>&quot;261688&quot;</td><td>&quot;261688&quot;</td><td>&quot;261698&quot;</td><td>261688.0</td><td>261698.0</td><td>&quot;261698&quot;</td><td>&quot;261698&quot;</td><td>&quot;261698&quot;</td><td>&quot;261698&quot;</td><td>261695.0</td><td>261695.0</td><td>261070.0</td><td>261698.0</td><td>&quot;261680&quot;</td><td>&quot;261688&quot;</td><td>261688.0</td></tr><tr><td>&quot;null_count&quot;</td><td>&quot;0&quot;</td><td>&quot;10&quot;</td><td>&quot;10&quot;</td><td>&quot;0&quot;</td><td>10.0</td><td>0.0</td><td>&quot;0&quot;</td><td>&quot;0&quot;</td><td>&quot;0&quot;</td><td>&quot;0&quot;</td><td>3.0</td><td>3.0</td><td>628.0</td><td>0.0</td><td>&quot;18&quot;</td><td>&quot;10&quot;</td><td>10.0</td></tr><tr><td>&quot;mean&quot;</td><td>null</td><td>null</td><td>null</td><td>null</td><td>98176.150699</td><td>2021.772493</td><td>null</td><td>null</td><td>null</td><td>null</td><td>42.615071</td><td>695.503563</td><td>28.881955</td><td>2.4126e8</td><td>null</td><td>null</td><td>5.2973e10</td></tr><tr><td>&quot;std&quot;</td><td>null</td><td>null</td><td>null</td><td>null</td><td>2555.75341</td><td>3.034041</td><td>null</td><td>null</td><td>null</td><td>null</td><td>81.226054</td><td>6943.019653</td><td>14.889697</td><td>6.5743e7</td><td>null</td><td>null</td><td>1.6288e9</td></tr><tr><td>&quot;min&quot;</td><td>&quot;1C4JJXN60P&quot;</td><td>&quot;Ada&quot;</td><td>&quot;Aberdeen&quot;</td><td>&quot;AE&quot;</td><td>1469.0</td><td>2000.0</td><td>&quot;ACURA&quot;</td><td>&quot;330E&quot;</td><td>&quot;Battery Electric Vehicle (BEV)&quot;</td><td>&quot;Clean Alternative Fuel Vehicle…</td><td>0.0</td><td>0.0</td><td>1.0</td><td>4385.0</td><td>&quot;POINT (-104.67094 38.91924)&quot;</td><td>&quot;AVISTA CORP&quot;</td><td>1.0010e9</td></tr><tr><td>&quot;25%&quot;</td><td>null</td><td>null</td><td>null</td><td>null</td><td>98052.0</td><td>2020.0</td><td>null</td><td>null</td><td>null</td><td>null</td><td>0.0</td><td>0.0</td><td>17.0</td><td>2.15041732e8</td><td>null</td><td>null</td><td>5.3033e10</td></tr><tr><td>&quot;50%&quot;</td><td>null</td><td>null</td><td>null</td><td>null</td><td>98133.0</td><td>2023.0</td><td>null</td><td>null</td><td>null</td><td>null</td><td>0.0</td><td>0.0</td><td>32.0</td><td>2.59458965e8</td><td>null</td><td>null</td><td>5.3033e10</td></tr><tr><td>&quot;75%&quot;</td><td>null</td><td>null</td><td>null</td><td>null</td><td>98382.0</td><td>2024.0</td><td>null</td><td>null</td><td>null</td><td>null</td><td>35.0</td><td>0.0</td><td>42.0</td><td>2.74648132e8</td><td>null</td><td>null</td><td>5.3053e10</td></tr><tr><td>&quot;max&quot;</td><td>&quot;ZPBUD6ZL6S&quot;</td><td>&quot;Yuba&quot;</td><td>&quot;Zillah&quot;</td><td>&quot;WY&quot;</td><td>99577.0</td><td>2026.0</td><td>&quot;WHEEGO ELECTRIC CARS&quot;</td><td>&quot;ZEVO&quot;</td><td>&quot;Plug-in Hybrid Electric Vehicl…</td><td>&quot;Not eligible due to low batter…</td><td>337.0</td><td>845000.0</td><td>49.0</td><td>4.79114996e8</td><td>&quot;POINT (144.8446 13.56562)&quot;</td><td>&quot;PUGET SOUND ENERGY INC||PUD NO…</td><td>6.6011e10</td></tr></tbody></table></div>"
      ]
     },
     "execution_count": 6,
     "metadata": {},
     "output_type": "execute_result"
    }
   ],
   "execution_count": 6
  },
  {
   "metadata": {
    "ExecuteTime": {
     "end_time": "2025-10-01T07:29:31.601658Z",
     "start_time": "2025-10-01T07:29:31.594766Z"
    }
   },
   "cell_type": "code",
   "source": "df",
   "id": "3b90c574d3959812",
   "outputs": [
    {
     "data": {
      "text/plain": [
       "shape: (261_698, 17)\n",
       "┌────────────┬───────────┬────────────┬───────┬───┬────────────┬───────────┬───────────┬───────────┐\n",
       "│ VIN (1-10) ┆ County    ┆ City       ┆ State ┆ … ┆ DOL        ┆ Vehicle   ┆ Electric  ┆ 2020      │\n",
       "│ ---        ┆ ---       ┆ ---        ┆ ---   ┆   ┆ Vehicle ID ┆ Location  ┆ Utility   ┆ Census    │\n",
       "│ str        ┆ str       ┆ str        ┆ str   ┆   ┆ ---        ┆ ---       ┆ ---       ┆ Tract     │\n",
       "│            ┆           ┆            ┆       ┆   ┆ i64        ┆ str       ┆ str       ┆ ---       │\n",
       "│            ┆           ┆            ┆       ┆   ┆            ┆           ┆           ┆ i64       │\n",
       "╞════════════╪═══════════╪════════════╪═══════╪═══╪════════════╪═══════════╪═══════════╪═══════════╡\n",
       "│ JTDKN3DP2D ┆ Yakima    ┆ Yakima     ┆ WA    ┆ … ┆ 165252538  ┆ POINT (-1 ┆ PACIFICOR ┆ 530770012 │\n",
       "│            ┆           ┆            ┆       ┆   ┆            ┆ 20.51904  ┆ P         ┆ 01        │\n",
       "│            ┆           ┆            ┆       ┆   ┆            ┆ 46.59783) ┆           ┆           │\n",
       "│ 1FMCU0E1XS ┆ Kitsap    ┆ Port       ┆ WA    ┆ … ┆ 278572521  ┆ POINT (-1 ┆ PUGET     ┆ 530350922 │\n",
       "│            ┆           ┆ Orchard    ┆       ┆   ┆            ┆ 22.63847  ┆ SOUND     ┆ 00        │\n",
       "│            ┆           ┆            ┆       ┆   ┆            ┆ 47.54103) ┆ ENERGY    ┆           │\n",
       "│            ┆           ┆            ┆       ┆   ┆            ┆           ┆ INC       ┆           │\n",
       "│ JM3KKBHA9R ┆ Kitsap    ┆ Kingston   ┆ WA    ┆ … ┆ 275123642  ┆ POINT (-1 ┆ PUGET     ┆ 530350901 │\n",
       "│            ┆           ┆            ┆       ┆   ┆            ┆ 22.4977   ┆ SOUND     ┆ 02        │\n",
       "│            ┆           ┆            ┆       ┆   ┆            ┆ 47.79802) ┆ ENERGY    ┆           │\n",
       "│            ┆           ┆            ┆       ┆   ┆            ┆           ┆ INC       ┆           │\n",
       "│ 7SAYGDEE8P ┆ Thurston  ┆ Olympia    ┆ WA    ┆ … ┆ 249569323  ┆ POINT (-1 ┆ PUGET     ┆ 530670118 │\n",
       "│            ┆           ┆            ┆       ┆   ┆            ┆ 22.89165  ┆ SOUND     ┆ 21        │\n",
       "│            ┆           ┆            ┆       ┆   ┆            ┆ 47.03954) ┆ ENERGY    ┆           │\n",
       "│            ┆           ┆            ┆       ┆   ┆            ┆           ┆ INC       ┆           │\n",
       "│ 5YJ3E1EB5K ┆ Thurston  ┆ Rainier    ┆ WA    ┆ … ┆ 283135107  ┆ POINT (-1 ┆ PUGET     ┆ 530670125 │\n",
       "│            ┆           ┆            ┆       ┆   ┆            ┆ 22.68993  ┆ SOUND     ┆ 30        │\n",
       "│            ┆           ┆            ┆       ┆   ┆            ┆ 46.88897) ┆ ENERGY    ┆           │\n",
       "│            ┆           ┆            ┆       ┆   ┆            ┆           ┆ INC       ┆           │\n",
       "│ …          ┆ …         ┆ …          ┆ …     ┆ … ┆ …          ┆ …         ┆ …         ┆ …         │\n",
       "│ KNDC4DLC8P ┆ Clark     ┆ Vancouver  ┆ WA    ┆ … ┆ 234925078  ┆ POINT (-1 ┆ BONNEVILL ┆ 530110410 │\n",
       "│            ┆           ┆            ┆       ┆   ┆            ┆ 22.64443  ┆ E POWER   ┆ 10        │\n",
       "│            ┆           ┆            ┆       ┆   ┆            ┆ 45.67871) ┆ ADMINISTR ┆           │\n",
       "│            ┆           ┆            ┆       ┆   ┆            ┆           ┆ ATIO…     ┆           │\n",
       "│ 1GYKPNRL6S ┆ Snohomish ┆ Snohomish  ┆ WA    ┆ … ┆ 275487509  ┆ POINT (-1 ┆ PUGET     ┆ 530610521 │\n",
       "│            ┆           ┆            ┆       ┆   ┆            ┆ 22.1389   ┆ SOUND     ┆ 08        │\n",
       "│            ┆           ┆            ┆       ┆   ┆            ┆ 47.87115) ┆ ENERGY    ┆           │\n",
       "│            ┆           ┆            ┆       ┆   ┆            ┆           ┆ INC       ┆           │\n",
       "│ 1N4BZ0CP8G ┆ King      ┆ Seattle    ┆ WA    ┆ … ┆ 117655261  ┆ POINT (-1 ┆ CITY OF   ┆ 530330094 │\n",
       "│            ┆           ┆            ┆       ┆   ┆            ┆ 22.30866  ┆ SEATTLE - ┆ 00        │\n",
       "│            ┆           ┆            ┆       ┆   ┆            ┆ 47.57874) ┆ (WA)|CITY ┆           │\n",
       "│            ┆           ┆            ┆       ┆   ┆            ┆           ┆ OF…       ┆           │\n",
       "│ 7SAYGDEE8T ┆ King      ┆ Renton     ┆ WA    ┆ … ┆ 282644701  ┆ POINT (-1 ┆ PUGET     ┆ 530330293 │\n",
       "│            ┆           ┆            ┆       ┆   ┆            ┆ 22.20784  ┆ SOUND     ┆ 09        │\n",
       "│            ┆           ┆            ┆       ┆   ┆            ┆ 47.46004) ┆ ENERGY    ┆           │\n",
       "│            ┆           ┆            ┆       ┆   ┆            ┆           ┆ INC||CITY ┆           │\n",
       "│            ┆           ┆            ┆       ┆   ┆            ┆           ┆ O…        ┆           │\n",
       "│ 5YJ3E1EA4P ┆ King      ┆ Bothell    ┆ WA    ┆ … ┆ 256200906  ┆ POINT (-1 ┆ PUGET     ┆ 530330218 │\n",
       "│            ┆           ┆            ┆       ┆   ┆            ┆ 22.20563  ┆ SOUND     ┆ 02        │\n",
       "│            ┆           ┆            ┆       ┆   ┆            ┆ 47.76144) ┆ ENERGY    ┆           │\n",
       "│            ┆           ┆            ┆       ┆   ┆            ┆           ┆ INC||CITY ┆           │\n",
       "│            ┆           ┆            ┆       ┆   ┆            ┆           ┆ O…        ┆           │\n",
       "└────────────┴───────────┴────────────┴───────┴───┴────────────┴───────────┴───────────┴───────────┘"
      ],
      "text/html": [
       "<div><style>\n",
       ".dataframe > thead > tr,\n",
       ".dataframe > tbody > tr {\n",
       "  text-align: right;\n",
       "  white-space: pre-wrap;\n",
       "}\n",
       "</style>\n",
       "<small>shape: (261_698, 17)</small><table border=\"1\" class=\"dataframe\"><thead><tr><th>VIN (1-10)</th><th>County</th><th>City</th><th>State</th><th>Postal Code</th><th>Model Year</th><th>Make</th><th>Model</th><th>Electric Vehicle Type</th><th>Clean Alternative Fuel Vehicle (CAFV) Eligibility</th><th>Electric Range</th><th>Base MSRP</th><th>Legislative District</th><th>DOL Vehicle ID</th><th>Vehicle Location</th><th>Electric Utility</th><th>2020 Census Tract</th></tr><tr><td>str</td><td>str</td><td>str</td><td>str</td><td>i64</td><td>i64</td><td>str</td><td>str</td><td>str</td><td>str</td><td>i64</td><td>i64</td><td>i64</td><td>i64</td><td>str</td><td>str</td><td>i64</td></tr></thead><tbody><tr><td>&quot;JTDKN3DP2D&quot;</td><td>&quot;Yakima&quot;</td><td>&quot;Yakima&quot;</td><td>&quot;WA&quot;</td><td>98902</td><td>2013</td><td>&quot;TOYOTA&quot;</td><td>&quot;PRIUS&quot;</td><td>&quot;Plug-in Hybrid Electric Vehicl…</td><td>&quot;Not eligible due to low batter…</td><td>6</td><td>0</td><td>15</td><td>165252538</td><td>&quot;POINT (-120.51904 46.59783)&quot;</td><td>&quot;PACIFICORP&quot;</td><td>53077001201</td></tr><tr><td>&quot;1FMCU0E1XS&quot;</td><td>&quot;Kitsap&quot;</td><td>&quot;Port Orchard&quot;</td><td>&quot;WA&quot;</td><td>98366</td><td>2025</td><td>&quot;FORD&quot;</td><td>&quot;ESCAPE&quot;</td><td>&quot;Plug-in Hybrid Electric Vehicl…</td><td>&quot;Clean Alternative Fuel Vehicle…</td><td>37</td><td>0</td><td>26</td><td>278572521</td><td>&quot;POINT (-122.63847 47.54103)&quot;</td><td>&quot;PUGET SOUND ENERGY INC&quot;</td><td>53035092200</td></tr><tr><td>&quot;JM3KKBHA9R&quot;</td><td>&quot;Kitsap&quot;</td><td>&quot;Kingston&quot;</td><td>&quot;WA&quot;</td><td>98346</td><td>2024</td><td>&quot;MAZDA&quot;</td><td>&quot;CX-90&quot;</td><td>&quot;Plug-in Hybrid Electric Vehicl…</td><td>&quot;Not eligible due to low batter…</td><td>26</td><td>0</td><td>23</td><td>275123642</td><td>&quot;POINT (-122.4977 47.79802)&quot;</td><td>&quot;PUGET SOUND ENERGY INC&quot;</td><td>53035090102</td></tr><tr><td>&quot;7SAYGDEE8P&quot;</td><td>&quot;Thurston&quot;</td><td>&quot;Olympia&quot;</td><td>&quot;WA&quot;</td><td>98501</td><td>2023</td><td>&quot;TESLA&quot;</td><td>&quot;MODEL Y&quot;</td><td>&quot;Battery Electric Vehicle (BEV)&quot;</td><td>&quot;Eligibility unknown as battery…</td><td>0</td><td>0</td><td>35</td><td>249569323</td><td>&quot;POINT (-122.89165 47.03954)&quot;</td><td>&quot;PUGET SOUND ENERGY INC&quot;</td><td>53067011821</td></tr><tr><td>&quot;5YJ3E1EB5K&quot;</td><td>&quot;Thurston&quot;</td><td>&quot;Rainier&quot;</td><td>&quot;WA&quot;</td><td>98576</td><td>2019</td><td>&quot;TESLA&quot;</td><td>&quot;MODEL 3&quot;</td><td>&quot;Battery Electric Vehicle (BEV)&quot;</td><td>&quot;Clean Alternative Fuel Vehicle…</td><td>220</td><td>0</td><td>20</td><td>283135107</td><td>&quot;POINT (-122.68993 46.88897)&quot;</td><td>&quot;PUGET SOUND ENERGY INC&quot;</td><td>53067012530</td></tr><tr><td>&hellip;</td><td>&hellip;</td><td>&hellip;</td><td>&hellip;</td><td>&hellip;</td><td>&hellip;</td><td>&hellip;</td><td>&hellip;</td><td>&hellip;</td><td>&hellip;</td><td>&hellip;</td><td>&hellip;</td><td>&hellip;</td><td>&hellip;</td><td>&hellip;</td><td>&hellip;</td><td>&hellip;</td></tr><tr><td>&quot;KNDC4DLC8P&quot;</td><td>&quot;Clark&quot;</td><td>&quot;Vancouver&quot;</td><td>&quot;WA&quot;</td><td>98665</td><td>2023</td><td>&quot;KIA&quot;</td><td>&quot;EV6&quot;</td><td>&quot;Battery Electric Vehicle (BEV)&quot;</td><td>&quot;Eligibility unknown as battery…</td><td>0</td><td>0</td><td>49</td><td>234925078</td><td>&quot;POINT (-122.64443 45.67871)&quot;</td><td>&quot;BONNEVILLE POWER ADMINISTRATIO…</td><td>53011041010</td></tr><tr><td>&quot;1GYKPNRL6S&quot;</td><td>&quot;Snohomish&quot;</td><td>&quot;Snohomish&quot;</td><td>&quot;WA&quot;</td><td>98296</td><td>2025</td><td>&quot;CADILLAC&quot;</td><td>&quot;LYRIQ&quot;</td><td>&quot;Battery Electric Vehicle (BEV)&quot;</td><td>&quot;Eligibility unknown as battery…</td><td>0</td><td>0</td><td>1</td><td>275487509</td><td>&quot;POINT (-122.1389 47.87115)&quot;</td><td>&quot;PUGET SOUND ENERGY INC&quot;</td><td>53061052108</td></tr><tr><td>&quot;1N4BZ0CP8G&quot;</td><td>&quot;King&quot;</td><td>&quot;Seattle&quot;</td><td>&quot;WA&quot;</td><td>98144</td><td>2016</td><td>&quot;NISSAN&quot;</td><td>&quot;LEAF&quot;</td><td>&quot;Battery Electric Vehicle (BEV)&quot;</td><td>&quot;Clean Alternative Fuel Vehicle…</td><td>84</td><td>0</td><td>37</td><td>117655261</td><td>&quot;POINT (-122.30866 47.57874)&quot;</td><td>&quot;CITY OF SEATTLE - (WA)|CITY OF…</td><td>53033009400</td></tr><tr><td>&quot;7SAYGDEE8T&quot;</td><td>&quot;King&quot;</td><td>&quot;Renton&quot;</td><td>&quot;WA&quot;</td><td>98055</td><td>2026</td><td>&quot;TESLA&quot;</td><td>&quot;MODEL Y&quot;</td><td>&quot;Battery Electric Vehicle (BEV)&quot;</td><td>&quot;Eligibility unknown as battery…</td><td>0</td><td>0</td><td>33</td><td>282644701</td><td>&quot;POINT (-122.20784 47.46004)&quot;</td><td>&quot;PUGET SOUND ENERGY INC||CITY O…</td><td>53033029309</td></tr><tr><td>&quot;5YJ3E1EA4P&quot;</td><td>&quot;King&quot;</td><td>&quot;Bothell&quot;</td><td>&quot;WA&quot;</td><td>98011</td><td>2023</td><td>&quot;TESLA&quot;</td><td>&quot;MODEL 3&quot;</td><td>&quot;Battery Electric Vehicle (BEV)&quot;</td><td>&quot;Eligibility unknown as battery…</td><td>0</td><td>0</td><td>1</td><td>256200906</td><td>&quot;POINT (-122.20563 47.76144)&quot;</td><td>&quot;PUGET SOUND ENERGY INC||CITY O…</td><td>53033021802</td></tr></tbody></table></div>"
      ]
     },
     "execution_count": 11,
     "metadata": {},
     "output_type": "execute_result"
    }
   ],
   "execution_count": 11
  },
  {
   "metadata": {
    "ExecuteTime": {
     "end_time": "2025-10-01T07:34:45.102482Z",
     "start_time": "2025-10-01T07:34:45.084965Z"
    }
   },
   "cell_type": "code",
   "source": [
    "df = df.with_columns(\n",
    "    pl.col('Vehicle Location').str.extract(r'\\(([+-]?\\d+\\.\\d+)').cast(pl.Float64).alias('Longitude'),\n",
    "    pl.col('Vehicle Location').str.extract(r'(\\s\\d+.\\d+)').str.strip_chars().cast(pl.Float64).alias('Latitude'),\n",
    ")"
   ],
   "id": "8a7eddef42e28fbf",
   "outputs": [],
   "execution_count": 26
  },
  {
   "metadata": {
    "ExecuteTime": {
     "end_time": "2025-10-01T07:38:59.932766Z",
     "start_time": "2025-10-01T07:38:59.914849Z"
    }
   },
   "cell_type": "code",
   "source": [
    "df = df.select(\n",
    "    pl.all().shrink_dtype()\n",
    ")"
   ],
   "id": "a54a29d5ae3da5d1",
   "outputs": [
    {
     "name": "stderr",
     "output_type": "stream",
     "text": [
      "C:\\Users\\v034\\AppData\\Local\\Temp\\ipykernel_26228\\1652896502.py:2: DeprecationWarning: `Expr.shrink_dtype` is deprecated and is a no-op; use `Series.shrink_dtype` instead.\n",
      "  pl.all().shrink_dtype()\n"
     ]
    }
   ],
   "execution_count": 38
  },
  {
   "metadata": {
    "ExecuteTime": {
     "end_time": "2025-10-01T07:40:53.976596Z",
     "start_time": "2025-10-01T07:40:53.969644Z"
    }
   },
   "cell_type": "code",
   "source": "df",
   "id": "e9d8f5e916751299",
   "outputs": [
    {
     "data": {
      "text/plain": [
       "shape: (261_698, 19)\n",
       "┌────────────┬───────────┬────────────┬───────┬───┬────────────┬────────────┬───────────┬──────────┐\n",
       "│ VIN (1-10) ┆ County    ┆ City       ┆ State ┆ … ┆ Electric   ┆ 2020       ┆ Longitude ┆ Latitude │\n",
       "│ ---        ┆ ---       ┆ ---        ┆ ---   ┆   ┆ Utility    ┆ Census     ┆ ---       ┆ ---      │\n",
       "│ str        ┆ str       ┆ str        ┆ str   ┆   ┆ ---        ┆ Tract      ┆ f64       ┆ f64      │\n",
       "│            ┆           ┆            ┆       ┆   ┆ str        ┆ ---        ┆           ┆          │\n",
       "│            ┆           ┆            ┆       ┆   ┆            ┆ i64        ┆           ┆          │\n",
       "╞════════════╪═══════════╪════════════╪═══════╪═══╪════════════╪════════════╪═══════════╪══════════╡\n",
       "│ JTDKN3DP2D ┆ Yakima    ┆ Yakima     ┆ WA    ┆ … ┆ PACIFICORP ┆ 5307700120 ┆ -120.5190 ┆ 46.59783 │\n",
       "│            ┆           ┆            ┆       ┆   ┆            ┆ 1          ┆ 4         ┆          │\n",
       "│ 1FMCU0E1XS ┆ Kitsap    ┆ Port       ┆ WA    ┆ … ┆ PUGET      ┆ 5303509220 ┆ -122.6384 ┆ 47.54103 │\n",
       "│            ┆           ┆ Orchard    ┆       ┆   ┆ SOUND      ┆ 0          ┆ 7         ┆          │\n",
       "│            ┆           ┆            ┆       ┆   ┆ ENERGY INC ┆            ┆           ┆          │\n",
       "│ JM3KKBHA9R ┆ Kitsap    ┆ Kingston   ┆ WA    ┆ … ┆ PUGET      ┆ 5303509010 ┆ -122.4977 ┆ 47.79802 │\n",
       "│            ┆           ┆            ┆       ┆   ┆ SOUND      ┆ 2          ┆           ┆          │\n",
       "│            ┆           ┆            ┆       ┆   ┆ ENERGY INC ┆            ┆           ┆          │\n",
       "│ 7SAYGDEE8P ┆ Thurston  ┆ Olympia    ┆ WA    ┆ … ┆ PUGET      ┆ 5306701182 ┆ -122.8916 ┆ 47.03954 │\n",
       "│            ┆           ┆            ┆       ┆   ┆ SOUND      ┆ 1          ┆ 5         ┆          │\n",
       "│            ┆           ┆            ┆       ┆   ┆ ENERGY INC ┆            ┆           ┆          │\n",
       "│ 5YJ3E1EB5K ┆ Thurston  ┆ Rainier    ┆ WA    ┆ … ┆ PUGET      ┆ 5306701253 ┆ -122.6899 ┆ 46.88897 │\n",
       "│            ┆           ┆            ┆       ┆   ┆ SOUND      ┆ 0          ┆ 3         ┆          │\n",
       "│            ┆           ┆            ┆       ┆   ┆ ENERGY INC ┆            ┆           ┆          │\n",
       "│ …          ┆ …         ┆ …          ┆ …     ┆ … ┆ …          ┆ …          ┆ …         ┆ …        │\n",
       "│ KNDC4DLC8P ┆ Clark     ┆ Vancouver  ┆ WA    ┆ … ┆ BONNEVILLE ┆ 5301104101 ┆ -122.6444 ┆ 45.67871 │\n",
       "│            ┆           ┆            ┆       ┆   ┆ POWER ADMI ┆ 0          ┆ 3         ┆          │\n",
       "│            ┆           ┆            ┆       ┆   ┆ NISTRATIO… ┆            ┆           ┆          │\n",
       "│ 1GYKPNRL6S ┆ Snohomish ┆ Snohomish  ┆ WA    ┆ … ┆ PUGET      ┆ 5306105210 ┆ -122.1389 ┆ 47.87115 │\n",
       "│            ┆           ┆            ┆       ┆   ┆ SOUND      ┆ 8          ┆           ┆          │\n",
       "│            ┆           ┆            ┆       ┆   ┆ ENERGY INC ┆            ┆           ┆          │\n",
       "│ 1N4BZ0CP8G ┆ King      ┆ Seattle    ┆ WA    ┆ … ┆ CITY OF    ┆ 5303300940 ┆ -122.3086 ┆ 47.57874 │\n",
       "│            ┆           ┆            ┆       ┆   ┆ SEATTLE -  ┆ 0          ┆ 6         ┆          │\n",
       "│            ┆           ┆            ┆       ┆   ┆ (WA)|CITY  ┆            ┆           ┆          │\n",
       "│            ┆           ┆            ┆       ┆   ┆ OF…        ┆            ┆           ┆          │\n",
       "│ 7SAYGDEE8T ┆ King      ┆ Renton     ┆ WA    ┆ … ┆ PUGET      ┆ 5303302930 ┆ -122.2078 ┆ 47.46004 │\n",
       "│            ┆           ┆            ┆       ┆   ┆ SOUND      ┆ 9          ┆ 4         ┆          │\n",
       "│            ┆           ┆            ┆       ┆   ┆ ENERGY     ┆            ┆           ┆          │\n",
       "│            ┆           ┆            ┆       ┆   ┆ INC||CITY  ┆            ┆           ┆          │\n",
       "│            ┆           ┆            ┆       ┆   ┆ O…         ┆            ┆           ┆          │\n",
       "│ 5YJ3E1EA4P ┆ King      ┆ Bothell    ┆ WA    ┆ … ┆ PUGET      ┆ 5303302180 ┆ -122.2056 ┆ 47.76144 │\n",
       "│            ┆           ┆            ┆       ┆   ┆ SOUND      ┆ 2          ┆ 3         ┆          │\n",
       "│            ┆           ┆            ┆       ┆   ┆ ENERGY     ┆            ┆           ┆          │\n",
       "│            ┆           ┆            ┆       ┆   ┆ INC||CITY  ┆            ┆           ┆          │\n",
       "│            ┆           ┆            ┆       ┆   ┆ O…         ┆            ┆           ┆          │\n",
       "└────────────┴───────────┴────────────┴───────┴───┴────────────┴────────────┴───────────┴──────────┘"
      ],
      "text/html": [
       "<div><style>\n",
       ".dataframe > thead > tr,\n",
       ".dataframe > tbody > tr {\n",
       "  text-align: right;\n",
       "  white-space: pre-wrap;\n",
       "}\n",
       "</style>\n",
       "<small>shape: (261_698, 19)</small><table border=\"1\" class=\"dataframe\"><thead><tr><th>VIN (1-10)</th><th>County</th><th>City</th><th>State</th><th>Postal Code</th><th>Model Year</th><th>Make</th><th>Model</th><th>Electric Vehicle Type</th><th>Clean Alternative Fuel Vehicle (CAFV) Eligibility</th><th>Electric Range</th><th>Base MSRP</th><th>Legislative District</th><th>DOL Vehicle ID</th><th>Vehicle Location</th><th>Electric Utility</th><th>2020 Census Tract</th><th>Longitude</th><th>Latitude</th></tr><tr><td>str</td><td>str</td><td>str</td><td>str</td><td>i64</td><td>i64</td><td>str</td><td>str</td><td>str</td><td>str</td><td>i64</td><td>i64</td><td>i64</td><td>i64</td><td>str</td><td>str</td><td>i64</td><td>f64</td><td>f64</td></tr></thead><tbody><tr><td>&quot;JTDKN3DP2D&quot;</td><td>&quot;Yakima&quot;</td><td>&quot;Yakima&quot;</td><td>&quot;WA&quot;</td><td>98902</td><td>2013</td><td>&quot;TOYOTA&quot;</td><td>&quot;PRIUS&quot;</td><td>&quot;Plug-in Hybrid Electric Vehicl…</td><td>&quot;Not eligible due to low batter…</td><td>6</td><td>0</td><td>15</td><td>165252538</td><td>&quot;POINT (-120.51904 46.59783)&quot;</td><td>&quot;PACIFICORP&quot;</td><td>53077001201</td><td>-120.51904</td><td>46.59783</td></tr><tr><td>&quot;1FMCU0E1XS&quot;</td><td>&quot;Kitsap&quot;</td><td>&quot;Port Orchard&quot;</td><td>&quot;WA&quot;</td><td>98366</td><td>2025</td><td>&quot;FORD&quot;</td><td>&quot;ESCAPE&quot;</td><td>&quot;Plug-in Hybrid Electric Vehicl…</td><td>&quot;Clean Alternative Fuel Vehicle…</td><td>37</td><td>0</td><td>26</td><td>278572521</td><td>&quot;POINT (-122.63847 47.54103)&quot;</td><td>&quot;PUGET SOUND ENERGY INC&quot;</td><td>53035092200</td><td>-122.63847</td><td>47.54103</td></tr><tr><td>&quot;JM3KKBHA9R&quot;</td><td>&quot;Kitsap&quot;</td><td>&quot;Kingston&quot;</td><td>&quot;WA&quot;</td><td>98346</td><td>2024</td><td>&quot;MAZDA&quot;</td><td>&quot;CX-90&quot;</td><td>&quot;Plug-in Hybrid Electric Vehicl…</td><td>&quot;Not eligible due to low batter…</td><td>26</td><td>0</td><td>23</td><td>275123642</td><td>&quot;POINT (-122.4977 47.79802)&quot;</td><td>&quot;PUGET SOUND ENERGY INC&quot;</td><td>53035090102</td><td>-122.4977</td><td>47.79802</td></tr><tr><td>&quot;7SAYGDEE8P&quot;</td><td>&quot;Thurston&quot;</td><td>&quot;Olympia&quot;</td><td>&quot;WA&quot;</td><td>98501</td><td>2023</td><td>&quot;TESLA&quot;</td><td>&quot;MODEL Y&quot;</td><td>&quot;Battery Electric Vehicle (BEV)&quot;</td><td>&quot;Eligibility unknown as battery…</td><td>0</td><td>0</td><td>35</td><td>249569323</td><td>&quot;POINT (-122.89165 47.03954)&quot;</td><td>&quot;PUGET SOUND ENERGY INC&quot;</td><td>53067011821</td><td>-122.89165</td><td>47.03954</td></tr><tr><td>&quot;5YJ3E1EB5K&quot;</td><td>&quot;Thurston&quot;</td><td>&quot;Rainier&quot;</td><td>&quot;WA&quot;</td><td>98576</td><td>2019</td><td>&quot;TESLA&quot;</td><td>&quot;MODEL 3&quot;</td><td>&quot;Battery Electric Vehicle (BEV)&quot;</td><td>&quot;Clean Alternative Fuel Vehicle…</td><td>220</td><td>0</td><td>20</td><td>283135107</td><td>&quot;POINT (-122.68993 46.88897)&quot;</td><td>&quot;PUGET SOUND ENERGY INC&quot;</td><td>53067012530</td><td>-122.68993</td><td>46.88897</td></tr><tr><td>&hellip;</td><td>&hellip;</td><td>&hellip;</td><td>&hellip;</td><td>&hellip;</td><td>&hellip;</td><td>&hellip;</td><td>&hellip;</td><td>&hellip;</td><td>&hellip;</td><td>&hellip;</td><td>&hellip;</td><td>&hellip;</td><td>&hellip;</td><td>&hellip;</td><td>&hellip;</td><td>&hellip;</td><td>&hellip;</td><td>&hellip;</td></tr><tr><td>&quot;KNDC4DLC8P&quot;</td><td>&quot;Clark&quot;</td><td>&quot;Vancouver&quot;</td><td>&quot;WA&quot;</td><td>98665</td><td>2023</td><td>&quot;KIA&quot;</td><td>&quot;EV6&quot;</td><td>&quot;Battery Electric Vehicle (BEV)&quot;</td><td>&quot;Eligibility unknown as battery…</td><td>0</td><td>0</td><td>49</td><td>234925078</td><td>&quot;POINT (-122.64443 45.67871)&quot;</td><td>&quot;BONNEVILLE POWER ADMINISTRATIO…</td><td>53011041010</td><td>-122.64443</td><td>45.67871</td></tr><tr><td>&quot;1GYKPNRL6S&quot;</td><td>&quot;Snohomish&quot;</td><td>&quot;Snohomish&quot;</td><td>&quot;WA&quot;</td><td>98296</td><td>2025</td><td>&quot;CADILLAC&quot;</td><td>&quot;LYRIQ&quot;</td><td>&quot;Battery Electric Vehicle (BEV)&quot;</td><td>&quot;Eligibility unknown as battery…</td><td>0</td><td>0</td><td>1</td><td>275487509</td><td>&quot;POINT (-122.1389 47.87115)&quot;</td><td>&quot;PUGET SOUND ENERGY INC&quot;</td><td>53061052108</td><td>-122.1389</td><td>47.87115</td></tr><tr><td>&quot;1N4BZ0CP8G&quot;</td><td>&quot;King&quot;</td><td>&quot;Seattle&quot;</td><td>&quot;WA&quot;</td><td>98144</td><td>2016</td><td>&quot;NISSAN&quot;</td><td>&quot;LEAF&quot;</td><td>&quot;Battery Electric Vehicle (BEV)&quot;</td><td>&quot;Clean Alternative Fuel Vehicle…</td><td>84</td><td>0</td><td>37</td><td>117655261</td><td>&quot;POINT (-122.30866 47.57874)&quot;</td><td>&quot;CITY OF SEATTLE - (WA)|CITY OF…</td><td>53033009400</td><td>-122.30866</td><td>47.57874</td></tr><tr><td>&quot;7SAYGDEE8T&quot;</td><td>&quot;King&quot;</td><td>&quot;Renton&quot;</td><td>&quot;WA&quot;</td><td>98055</td><td>2026</td><td>&quot;TESLA&quot;</td><td>&quot;MODEL Y&quot;</td><td>&quot;Battery Electric Vehicle (BEV)&quot;</td><td>&quot;Eligibility unknown as battery…</td><td>0</td><td>0</td><td>33</td><td>282644701</td><td>&quot;POINT (-122.20784 47.46004)&quot;</td><td>&quot;PUGET SOUND ENERGY INC||CITY O…</td><td>53033029309</td><td>-122.20784</td><td>47.46004</td></tr><tr><td>&quot;5YJ3E1EA4P&quot;</td><td>&quot;King&quot;</td><td>&quot;Bothell&quot;</td><td>&quot;WA&quot;</td><td>98011</td><td>2023</td><td>&quot;TESLA&quot;</td><td>&quot;MODEL 3&quot;</td><td>&quot;Battery Electric Vehicle (BEV)&quot;</td><td>&quot;Eligibility unknown as battery…</td><td>0</td><td>0</td><td>1</td><td>256200906</td><td>&quot;POINT (-122.20563 47.76144)&quot;</td><td>&quot;PUGET SOUND ENERGY INC||CITY O…</td><td>53033021802</td><td>-122.20563</td><td>47.76144</td></tr></tbody></table></div>"
      ]
     },
     "execution_count": 46,
     "metadata": {},
     "output_type": "execute_result"
    }
   ],
   "execution_count": 46
  },
  {
   "metadata": {
    "ExecuteTime": {
     "end_time": "2025-10-01T07:43:40.378887Z",
     "start_time": "2025-10-01T07:43:40.362892Z"
    }
   },
   "cell_type": "code",
   "source": [
    "df.group_by(\n",
    "    'County'\n",
    ").agg(\n",
    "    pl.count('County').alias('County_Count')\n",
    ").sort(\n",
    "    'County_Count', descending=True\n",
    ")"
   ],
   "id": "f58e7560c6965e6a",
   "outputs": [
    {
     "data": {
      "text/plain": [
       "shape: (237, 2)\n",
       "┌───────────┬──────────────┐\n",
       "│ County    ┆ County_Count │\n",
       "│ ---       ┆ ---          │\n",
       "│ str       ┆ u32          │\n",
       "╞═══════════╪══════════════╡\n",
       "│ King      ┆ 130129       │\n",
       "│ Snohomish ┆ 32335        │\n",
       "│ Pierce    ┆ 21624        │\n",
       "│ Clark     ┆ 15925        │\n",
       "│ Thurston  ┆ 9506         │\n",
       "│ …         ┆ …            │\n",
       "│ Saginaw   ┆ 1            │\n",
       "│ Oldham    ┆ 1            │\n",
       "│ Davidson  ┆ 1            │\n",
       "│ La Plata  ┆ 1            │\n",
       "│ null      ┆ 0            │\n",
       "└───────────┴──────────────┘"
      ],
      "text/html": [
       "<div><style>\n",
       ".dataframe > thead > tr,\n",
       ".dataframe > tbody > tr {\n",
       "  text-align: right;\n",
       "  white-space: pre-wrap;\n",
       "}\n",
       "</style>\n",
       "<small>shape: (237, 2)</small><table border=\"1\" class=\"dataframe\"><thead><tr><th>County</th><th>County_Count</th></tr><tr><td>str</td><td>u32</td></tr></thead><tbody><tr><td>&quot;King&quot;</td><td>130129</td></tr><tr><td>&quot;Snohomish&quot;</td><td>32335</td></tr><tr><td>&quot;Pierce&quot;</td><td>21624</td></tr><tr><td>&quot;Clark&quot;</td><td>15925</td></tr><tr><td>&quot;Thurston&quot;</td><td>9506</td></tr><tr><td>&hellip;</td><td>&hellip;</td></tr><tr><td>&quot;Saginaw&quot;</td><td>1</td></tr><tr><td>&quot;Oldham&quot;</td><td>1</td></tr><tr><td>&quot;Davidson&quot;</td><td>1</td></tr><tr><td>&quot;La Plata&quot;</td><td>1</td></tr><tr><td>null</td><td>0</td></tr></tbody></table></div>"
      ]
     },
     "execution_count": 59,
     "metadata": {},
     "output_type": "execute_result"
    }
   ],
   "execution_count": 59
  },
  {
   "metadata": {
    "ExecuteTime": {
     "end_time": "2025-10-01T08:02:40.779241Z",
     "start_time": "2025-10-01T08:02:40.762016Z"
    }
   },
   "cell_type": "code",
   "source": [
    "df.group_by(\n",
    "    'City'\n",
    ").agg(\n",
    "    pl.count('City').alias('City_Count')\n",
    ").sort(\n",
    "    'City_Count', descending=True\n",
    ")"
   ],
   "id": "a8ddc68eb693c0d5",
   "outputs": [
    {
     "data": {
      "text/plain": [
       "shape: (855, 2)\n",
       "┌─────────────────────────┬────────────┐\n",
       "│ City                    ┆ City_Count │\n",
       "│ ---                     ┆ ---        │\n",
       "│ str                     ┆ u32        │\n",
       "╞═════════════════════════╪════════════╡\n",
       "│ Seattle                 ┆ 41125      │\n",
       "│ Bellevue                ┆ 12739      │\n",
       "│ Vancouver               ┆ 9665       │\n",
       "│ Redmond                 ┆ 8965       │\n",
       "│ Bothell                 ┆ 8651       │\n",
       "│ …                       ┆ …          │\n",
       "│ Oakdale                 ┆ 1          │\n",
       "│ Buffalo Grove           ┆ 1          │\n",
       "│ Fallon                  ┆ 1          │\n",
       "│ Aberdeen Proving Ground ┆ 1          │\n",
       "│ null                    ┆ 0          │\n",
       "└─────────────────────────┴────────────┘"
      ],
      "text/html": [
       "<div><style>\n",
       ".dataframe > thead > tr,\n",
       ".dataframe > tbody > tr {\n",
       "  text-align: right;\n",
       "  white-space: pre-wrap;\n",
       "}\n",
       "</style>\n",
       "<small>shape: (855, 2)</small><table border=\"1\" class=\"dataframe\"><thead><tr><th>City</th><th>City_Count</th></tr><tr><td>str</td><td>u32</td></tr></thead><tbody><tr><td>&quot;Seattle&quot;</td><td>41125</td></tr><tr><td>&quot;Bellevue&quot;</td><td>12739</td></tr><tr><td>&quot;Vancouver&quot;</td><td>9665</td></tr><tr><td>&quot;Redmond&quot;</td><td>8965</td></tr><tr><td>&quot;Bothell&quot;</td><td>8651</td></tr><tr><td>&hellip;</td><td>&hellip;</td></tr><tr><td>&quot;Oakdale&quot;</td><td>1</td></tr><tr><td>&quot;Buffalo Grove&quot;</td><td>1</td></tr><tr><td>&quot;Fallon&quot;</td><td>1</td></tr><tr><td>&quot;Aberdeen Proving Ground&quot;</td><td>1</td></tr><tr><td>null</td><td>0</td></tr></tbody></table></div>"
      ]
     },
     "execution_count": 60,
     "metadata": {},
     "output_type": "execute_result"
    }
   ],
   "execution_count": 60
  },
  {
   "metadata": {
    "ExecuteTime": {
     "end_time": "2025-10-01T08:11:00.721474Z",
     "start_time": "2025-10-01T08:11:00.715051Z"
    }
   },
   "cell_type": "code",
   "source": "df",
   "id": "6b5b32a0d9fc9a36",
   "outputs": [
    {
     "data": {
      "text/plain": [
       "shape: (261_698, 19)\n",
       "┌────────────┬───────────┬────────────┬───────┬───┬────────────┬────────────┬───────────┬──────────┐\n",
       "│ VIN (1-10) ┆ County    ┆ City       ┆ State ┆ … ┆ Electric   ┆ 2020       ┆ Longitude ┆ Latitude │\n",
       "│ ---        ┆ ---       ┆ ---        ┆ ---   ┆   ┆ Utility    ┆ Census     ┆ ---       ┆ ---      │\n",
       "│ str        ┆ str       ┆ str        ┆ str   ┆   ┆ ---        ┆ Tract      ┆ f64       ┆ f64      │\n",
       "│            ┆           ┆            ┆       ┆   ┆ str        ┆ ---        ┆           ┆          │\n",
       "│            ┆           ┆            ┆       ┆   ┆            ┆ i64        ┆           ┆          │\n",
       "╞════════════╪═══════════╪════════════╪═══════╪═══╪════════════╪════════════╪═══════════╪══════════╡\n",
       "│ JTDKN3DP2D ┆ Yakima    ┆ Yakima     ┆ WA    ┆ … ┆ PACIFICORP ┆ 5307700120 ┆ -120.5190 ┆ 46.59783 │\n",
       "│            ┆           ┆            ┆       ┆   ┆            ┆ 1          ┆ 4         ┆          │\n",
       "│ 1FMCU0E1XS ┆ Kitsap    ┆ Port       ┆ WA    ┆ … ┆ PUGET      ┆ 5303509220 ┆ -122.6384 ┆ 47.54103 │\n",
       "│            ┆           ┆ Orchard    ┆       ┆   ┆ SOUND      ┆ 0          ┆ 7         ┆          │\n",
       "│            ┆           ┆            ┆       ┆   ┆ ENERGY INC ┆            ┆           ┆          │\n",
       "│ JM3KKBHA9R ┆ Kitsap    ┆ Kingston   ┆ WA    ┆ … ┆ PUGET      ┆ 5303509010 ┆ -122.4977 ┆ 47.79802 │\n",
       "│            ┆           ┆            ┆       ┆   ┆ SOUND      ┆ 2          ┆           ┆          │\n",
       "│            ┆           ┆            ┆       ┆   ┆ ENERGY INC ┆            ┆           ┆          │\n",
       "│ 7SAYGDEE8P ┆ Thurston  ┆ Olympia    ┆ WA    ┆ … ┆ PUGET      ┆ 5306701182 ┆ -122.8916 ┆ 47.03954 │\n",
       "│            ┆           ┆            ┆       ┆   ┆ SOUND      ┆ 1          ┆ 5         ┆          │\n",
       "│            ┆           ┆            ┆       ┆   ┆ ENERGY INC ┆            ┆           ┆          │\n",
       "│ 5YJ3E1EB5K ┆ Thurston  ┆ Rainier    ┆ WA    ┆ … ┆ PUGET      ┆ 5306701253 ┆ -122.6899 ┆ 46.88897 │\n",
       "│            ┆           ┆            ┆       ┆   ┆ SOUND      ┆ 0          ┆ 3         ┆          │\n",
       "│            ┆           ┆            ┆       ┆   ┆ ENERGY INC ┆            ┆           ┆          │\n",
       "│ …          ┆ …         ┆ …          ┆ …     ┆ … ┆ …          ┆ …          ┆ …         ┆ …        │\n",
       "│ KNDC4DLC8P ┆ Clark     ┆ Vancouver  ┆ WA    ┆ … ┆ BONNEVILLE ┆ 5301104101 ┆ -122.6444 ┆ 45.67871 │\n",
       "│            ┆           ┆            ┆       ┆   ┆ POWER ADMI ┆ 0          ┆ 3         ┆          │\n",
       "│            ┆           ┆            ┆       ┆   ┆ NISTRATIO… ┆            ┆           ┆          │\n",
       "│ 1GYKPNRL6S ┆ Snohomish ┆ Snohomish  ┆ WA    ┆ … ┆ PUGET      ┆ 5306105210 ┆ -122.1389 ┆ 47.87115 │\n",
       "│            ┆           ┆            ┆       ┆   ┆ SOUND      ┆ 8          ┆           ┆          │\n",
       "│            ┆           ┆            ┆       ┆   ┆ ENERGY INC ┆            ┆           ┆          │\n",
       "│ 1N4BZ0CP8G ┆ King      ┆ Seattle    ┆ WA    ┆ … ┆ CITY OF    ┆ 5303300940 ┆ -122.3086 ┆ 47.57874 │\n",
       "│            ┆           ┆            ┆       ┆   ┆ SEATTLE -  ┆ 0          ┆ 6         ┆          │\n",
       "│            ┆           ┆            ┆       ┆   ┆ (WA)|CITY  ┆            ┆           ┆          │\n",
       "│            ┆           ┆            ┆       ┆   ┆ OF…        ┆            ┆           ┆          │\n",
       "│ 7SAYGDEE8T ┆ King      ┆ Renton     ┆ WA    ┆ … ┆ PUGET      ┆ 5303302930 ┆ -122.2078 ┆ 47.46004 │\n",
       "│            ┆           ┆            ┆       ┆   ┆ SOUND      ┆ 9          ┆ 4         ┆          │\n",
       "│            ┆           ┆            ┆       ┆   ┆ ENERGY     ┆            ┆           ┆          │\n",
       "│            ┆           ┆            ┆       ┆   ┆ INC||CITY  ┆            ┆           ┆          │\n",
       "│            ┆           ┆            ┆       ┆   ┆ O…         ┆            ┆           ┆          │\n",
       "│ 5YJ3E1EA4P ┆ King      ┆ Bothell    ┆ WA    ┆ … ┆ PUGET      ┆ 5303302180 ┆ -122.2056 ┆ 47.76144 │\n",
       "│            ┆           ┆            ┆       ┆   ┆ SOUND      ┆ 2          ┆ 3         ┆          │\n",
       "│            ┆           ┆            ┆       ┆   ┆ ENERGY     ┆            ┆           ┆          │\n",
       "│            ┆           ┆            ┆       ┆   ┆ INC||CITY  ┆            ┆           ┆          │\n",
       "│            ┆           ┆            ┆       ┆   ┆ O…         ┆            ┆           ┆          │\n",
       "└────────────┴───────────┴────────────┴───────┴───┴────────────┴────────────┴───────────┴──────────┘"
      ],
      "text/html": [
       "<div><style>\n",
       ".dataframe > thead > tr,\n",
       ".dataframe > tbody > tr {\n",
       "  text-align: right;\n",
       "  white-space: pre-wrap;\n",
       "}\n",
       "</style>\n",
       "<small>shape: (261_698, 19)</small><table border=\"1\" class=\"dataframe\"><thead><tr><th>VIN (1-10)</th><th>County</th><th>City</th><th>State</th><th>Postal Code</th><th>Model Year</th><th>Make</th><th>Model</th><th>Electric Vehicle Type</th><th>Clean Alternative Fuel Vehicle (CAFV) Eligibility</th><th>Electric Range</th><th>Base MSRP</th><th>Legislative District</th><th>DOL Vehicle ID</th><th>Vehicle Location</th><th>Electric Utility</th><th>2020 Census Tract</th><th>Longitude</th><th>Latitude</th></tr><tr><td>str</td><td>str</td><td>str</td><td>str</td><td>i64</td><td>i64</td><td>str</td><td>str</td><td>str</td><td>str</td><td>i64</td><td>i64</td><td>i64</td><td>i64</td><td>str</td><td>str</td><td>i64</td><td>f64</td><td>f64</td></tr></thead><tbody><tr><td>&quot;JTDKN3DP2D&quot;</td><td>&quot;Yakima&quot;</td><td>&quot;Yakima&quot;</td><td>&quot;WA&quot;</td><td>98902</td><td>2013</td><td>&quot;TOYOTA&quot;</td><td>&quot;PRIUS&quot;</td><td>&quot;Plug-in Hybrid Electric Vehicl…</td><td>&quot;Not eligible due to low batter…</td><td>6</td><td>0</td><td>15</td><td>165252538</td><td>&quot;POINT (-120.51904 46.59783)&quot;</td><td>&quot;PACIFICORP&quot;</td><td>53077001201</td><td>-120.51904</td><td>46.59783</td></tr><tr><td>&quot;1FMCU0E1XS&quot;</td><td>&quot;Kitsap&quot;</td><td>&quot;Port Orchard&quot;</td><td>&quot;WA&quot;</td><td>98366</td><td>2025</td><td>&quot;FORD&quot;</td><td>&quot;ESCAPE&quot;</td><td>&quot;Plug-in Hybrid Electric Vehicl…</td><td>&quot;Clean Alternative Fuel Vehicle…</td><td>37</td><td>0</td><td>26</td><td>278572521</td><td>&quot;POINT (-122.63847 47.54103)&quot;</td><td>&quot;PUGET SOUND ENERGY INC&quot;</td><td>53035092200</td><td>-122.63847</td><td>47.54103</td></tr><tr><td>&quot;JM3KKBHA9R&quot;</td><td>&quot;Kitsap&quot;</td><td>&quot;Kingston&quot;</td><td>&quot;WA&quot;</td><td>98346</td><td>2024</td><td>&quot;MAZDA&quot;</td><td>&quot;CX-90&quot;</td><td>&quot;Plug-in Hybrid Electric Vehicl…</td><td>&quot;Not eligible due to low batter…</td><td>26</td><td>0</td><td>23</td><td>275123642</td><td>&quot;POINT (-122.4977 47.79802)&quot;</td><td>&quot;PUGET SOUND ENERGY INC&quot;</td><td>53035090102</td><td>-122.4977</td><td>47.79802</td></tr><tr><td>&quot;7SAYGDEE8P&quot;</td><td>&quot;Thurston&quot;</td><td>&quot;Olympia&quot;</td><td>&quot;WA&quot;</td><td>98501</td><td>2023</td><td>&quot;TESLA&quot;</td><td>&quot;MODEL Y&quot;</td><td>&quot;Battery Electric Vehicle (BEV)&quot;</td><td>&quot;Eligibility unknown as battery…</td><td>0</td><td>0</td><td>35</td><td>249569323</td><td>&quot;POINT (-122.89165 47.03954)&quot;</td><td>&quot;PUGET SOUND ENERGY INC&quot;</td><td>53067011821</td><td>-122.89165</td><td>47.03954</td></tr><tr><td>&quot;5YJ3E1EB5K&quot;</td><td>&quot;Thurston&quot;</td><td>&quot;Rainier&quot;</td><td>&quot;WA&quot;</td><td>98576</td><td>2019</td><td>&quot;TESLA&quot;</td><td>&quot;MODEL 3&quot;</td><td>&quot;Battery Electric Vehicle (BEV)&quot;</td><td>&quot;Clean Alternative Fuel Vehicle…</td><td>220</td><td>0</td><td>20</td><td>283135107</td><td>&quot;POINT (-122.68993 46.88897)&quot;</td><td>&quot;PUGET SOUND ENERGY INC&quot;</td><td>53067012530</td><td>-122.68993</td><td>46.88897</td></tr><tr><td>&hellip;</td><td>&hellip;</td><td>&hellip;</td><td>&hellip;</td><td>&hellip;</td><td>&hellip;</td><td>&hellip;</td><td>&hellip;</td><td>&hellip;</td><td>&hellip;</td><td>&hellip;</td><td>&hellip;</td><td>&hellip;</td><td>&hellip;</td><td>&hellip;</td><td>&hellip;</td><td>&hellip;</td><td>&hellip;</td><td>&hellip;</td></tr><tr><td>&quot;KNDC4DLC8P&quot;</td><td>&quot;Clark&quot;</td><td>&quot;Vancouver&quot;</td><td>&quot;WA&quot;</td><td>98665</td><td>2023</td><td>&quot;KIA&quot;</td><td>&quot;EV6&quot;</td><td>&quot;Battery Electric Vehicle (BEV)&quot;</td><td>&quot;Eligibility unknown as battery…</td><td>0</td><td>0</td><td>49</td><td>234925078</td><td>&quot;POINT (-122.64443 45.67871)&quot;</td><td>&quot;BONNEVILLE POWER ADMINISTRATIO…</td><td>53011041010</td><td>-122.64443</td><td>45.67871</td></tr><tr><td>&quot;1GYKPNRL6S&quot;</td><td>&quot;Snohomish&quot;</td><td>&quot;Snohomish&quot;</td><td>&quot;WA&quot;</td><td>98296</td><td>2025</td><td>&quot;CADILLAC&quot;</td><td>&quot;LYRIQ&quot;</td><td>&quot;Battery Electric Vehicle (BEV)&quot;</td><td>&quot;Eligibility unknown as battery…</td><td>0</td><td>0</td><td>1</td><td>275487509</td><td>&quot;POINT (-122.1389 47.87115)&quot;</td><td>&quot;PUGET SOUND ENERGY INC&quot;</td><td>53061052108</td><td>-122.1389</td><td>47.87115</td></tr><tr><td>&quot;1N4BZ0CP8G&quot;</td><td>&quot;King&quot;</td><td>&quot;Seattle&quot;</td><td>&quot;WA&quot;</td><td>98144</td><td>2016</td><td>&quot;NISSAN&quot;</td><td>&quot;LEAF&quot;</td><td>&quot;Battery Electric Vehicle (BEV)&quot;</td><td>&quot;Clean Alternative Fuel Vehicle…</td><td>84</td><td>0</td><td>37</td><td>117655261</td><td>&quot;POINT (-122.30866 47.57874)&quot;</td><td>&quot;CITY OF SEATTLE - (WA)|CITY OF…</td><td>53033009400</td><td>-122.30866</td><td>47.57874</td></tr><tr><td>&quot;7SAYGDEE8T&quot;</td><td>&quot;King&quot;</td><td>&quot;Renton&quot;</td><td>&quot;WA&quot;</td><td>98055</td><td>2026</td><td>&quot;TESLA&quot;</td><td>&quot;MODEL Y&quot;</td><td>&quot;Battery Electric Vehicle (BEV)&quot;</td><td>&quot;Eligibility unknown as battery…</td><td>0</td><td>0</td><td>33</td><td>282644701</td><td>&quot;POINT (-122.20784 47.46004)&quot;</td><td>&quot;PUGET SOUND ENERGY INC||CITY O…</td><td>53033029309</td><td>-122.20784</td><td>47.46004</td></tr><tr><td>&quot;5YJ3E1EA4P&quot;</td><td>&quot;King&quot;</td><td>&quot;Bothell&quot;</td><td>&quot;WA&quot;</td><td>98011</td><td>2023</td><td>&quot;TESLA&quot;</td><td>&quot;MODEL 3&quot;</td><td>&quot;Battery Electric Vehicle (BEV)&quot;</td><td>&quot;Eligibility unknown as battery…</td><td>0</td><td>0</td><td>1</td><td>256200906</td><td>&quot;POINT (-122.20563 47.76144)&quot;</td><td>&quot;PUGET SOUND ENERGY INC||CITY O…</td><td>53033021802</td><td>-122.20563</td><td>47.76144</td></tr></tbody></table></div>"
      ]
     },
     "execution_count": 70,
     "metadata": {},
     "output_type": "execute_result"
    }
   ],
   "execution_count": 70
  }
 ],
 "metadata": {
  "kernelspec": {
   "display_name": "Python 3",
   "language": "python",
   "name": "python3"
  },
  "language_info": {
   "codemirror_mode": {
    "name": "ipython",
    "version": 2
   },
   "file_extension": ".py",
   "mimetype": "text/x-python",
   "name": "python",
   "nbconvert_exporter": "python",
   "pygments_lexer": "ipython2",
   "version": "2.7.6"
  }
 },
 "nbformat": 4,
 "nbformat_minor": 5
}
