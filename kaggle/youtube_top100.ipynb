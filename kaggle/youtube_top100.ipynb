{
 "cells": [
  {
   "cell_type": "code",
   "id": "initial_id",
   "metadata": {
    "collapsed": true,
    "ExecuteTime": {
     "end_time": "2025-09-30T19:11:53.352368Z",
     "start_time": "2025-09-30T19:11:52.822548Z"
    }
   },
   "source": [
    "import polars as pl\n",
    "import polars.selectors as cs\n",
    "\n",
    "import altair as alt\n",
    "import plotly.express as px\n",
    "import seaborn as sns\n",
    "import matplotlib.pyplot as plt\n",
    "import numpy as np"
   ],
   "outputs": [],
   "execution_count": 1
  },
  {
   "metadata": {
    "ExecuteTime": {
     "end_time": "2025-09-30T19:12:08.625856Z",
     "start_time": "2025-09-30T19:12:08.622854Z"
    }
   },
   "cell_type": "code",
   "source": "# df_path = r\"D:\\Datasets\\Data Preaparations\\youtube-top-100-songs-2025.csv\"",
   "id": "59fac03cc7391865",
   "outputs": [],
   "execution_count": 2
  },
  {
   "metadata": {
    "ExecuteTime": {
     "end_time": "2025-09-30T19:13:31.659039Z",
     "start_time": "2025-09-30T19:13:31.624905Z"
    }
   },
   "cell_type": "code",
   "source": "# df_csv = pl.read_csv(df_path)",
   "id": "39bdcca189a2c2e8",
   "outputs": [],
   "execution_count": 3
  },
  {
   "metadata": {
    "ExecuteTime": {
     "end_time": "2025-09-30T19:13:55.287737Z",
     "start_time": "2025-09-30T19:13:55.237681Z"
    }
   },
   "cell_type": "code",
   "source": "# df_csv.write_parquet(r'D:\\Datasets\\Data Werehouse\\youtube-top-100-songs-2025.parquet')",
   "id": "4da2405a01826244",
   "outputs": [],
   "execution_count": 4
  },
  {
   "metadata": {
    "ExecuteTime": {
     "end_time": "2025-09-30T19:14:31.049767Z",
     "start_time": "2025-09-30T19:14:31.007514Z"
    }
   },
   "cell_type": "code",
   "source": "df_parquet = pl.read_parquet(r'D:\\Datasets\\Data Werehouse\\youtube-top-100-songs-2025.parquet')",
   "id": "4ef6551be8347add",
   "outputs": [],
   "execution_count": 5
  },
  {
   "metadata": {
    "ExecuteTime": {
     "end_time": "2025-09-30T19:14:33.862790Z",
     "start_time": "2025-09-30T19:14:33.853392Z"
    }
   },
   "cell_type": "code",
   "source": "",
   "id": "6bd7180e014d4e64",
   "outputs": [
    {
     "data": {
      "text/plain": [
       "shape: (100, 13)\n",
       "┌───────────┬───────────┬───────────┬───────────┬───┬───────────┬───────────┬───────────┬──────────┐\n",
       "│ title     ┆ fulltitle ┆ descripti ┆ view_coun ┆ … ┆ thumbnail ┆ channel   ┆ channel_u ┆ channel_ │\n",
       "│ ---       ┆ ---       ┆ on        ┆ t         ┆   ┆ ---       ┆ ---       ┆ rl        ┆ follower │\n",
       "│ str       ┆ str       ┆ ---       ┆ ---       ┆   ┆ str       ┆ str       ┆ ---       ┆ _count   │\n",
       "│           ┆           ┆ str       ┆ i64       ┆   ┆           ┆           ┆ str       ┆ ---      │\n",
       "│           ┆           ┆           ┆           ┆   ┆           ┆           ┆           ┆ i64      │\n",
       "╞═══════════╪═══════════╪═══════════╪═══════════╪═══╪═══════════╪═══════════╪═══════════╪══════════╡\n",
       "│ ROSÉ &    ┆ ROSÉ &    ┆ ROSÉ &    ┆ 200901455 ┆ … ┆ https://i ┆ ROSÉ      ┆ https://w ┆ 19200000 │\n",
       "│ Bruno     ┆ Bruno     ┆ Bruno     ┆ 7         ┆   ┆ .ytimg.co ┆           ┆ ww.youtub ┆          │\n",
       "│ Mars -    ┆ Mars -    ┆ Mars -    ┆           ┆   ┆ m/vi_webp ┆           ┆ e.com/cha ┆          │\n",
       "│ APT.      ┆ APT.      ┆ APT.      ┆           ┆   ┆ /ek…      ┆           ┆ nne…      ┆          │\n",
       "│ (Off…     ┆ (Off…     ┆ Down…     ┆           ┆   ┆           ┆           ┆           ┆          │\n",
       "│ Lady      ┆ Lady      ┆ MAYHEM    ┆ 132483330 ┆ … ┆ https://i ┆ Lady Gaga ┆ https://w ┆ 29600000 │\n",
       "│ Gaga,     ┆ Gaga,     ┆ OUT NOW   ┆ 0         ┆   ┆ .ytimg.co ┆           ┆ ww.youtub ┆          │\n",
       "│ Bruno     ┆ Bruno     ┆ http://la ┆           ┆   ┆ m/vi/kPa7 ┆           ┆ e.com/cha ┆          │\n",
       "│ Mars -    ┆ Mars -    ┆ dygaga…   ┆           ┆   ┆ bsK…      ┆           ┆ nne…      ┆          │\n",
       "│ Die Wi…   ┆ Die Wi…   ┆           ┆           ┆   ┆           ┆           ┆           ┆          │\n",
       "│ Reneé     ┆ Reneé     ┆ Listen to ┆ 2536628   ┆ … ┆ https://i ┆ Reneé     ┆ https://w ┆ 408000   │\n",
       "│ Rapp -    ┆ Rapp -    ┆ “BITE     ┆           ┆   ┆ .ytimg.co ┆ Rapp      ┆ ww.youtub ┆          │\n",
       "│ Leave Me  ┆ Leave Me  ┆ ME”, the  ┆           ┆   ┆ m/vi/tiPW ┆           ┆ e.com/cha ┆          │\n",
       "│ Alone (O… ┆ Alone (O… ┆ new a…    ┆           ┆   ┆ zFL…      ┆           ┆ nne…      ┆          │\n",
       "│ Billie    ┆ Billie    ┆ Listen to ┆ 558329099 ┆ … ┆ https://i ┆ Billie    ┆ https://w ┆ 56800000 │\n",
       "│ Eilish -  ┆ Eilish -  ┆ HIT ME    ┆           ┆   ┆ .ytimg.co ┆ Eilish    ┆ ww.youtub ┆          │\n",
       "│ BIRDS OF  ┆ BIRDS OF  ┆ HARD AND  ┆           ┆   ┆ m/vi/V9PV ┆           ┆ e.com/cha ┆          │\n",
       "│ A FEA…    ┆ A FEA…    ┆ SOFT…     ┆           ┆   ┆ Rfj…      ┆           ┆ nne…      ┆          │\n",
       "│ Reneé     ┆ Reneé     ┆ Listen to ┆ 2113548   ┆ … ┆ https://i ┆ Reneé     ┆ https://w ┆ 408000   │\n",
       "│ Rapp -    ┆ Rapp -    ┆ “BITE     ┆           ┆   ┆ .ytimg.co ┆ Rapp      ┆ ww.youtub ┆          │\n",
       "│ Mad       ┆ Mad       ┆ ME”, the  ┆           ┆   ┆ m/vi/xkWQ ┆           ┆ e.com/cha ┆          │\n",
       "│ (Official ┆ (Official ┆ new a…    ┆           ┆   ┆ M3f…      ┆           ┆ nne…      ┆          │\n",
       "│ Mus…      ┆ Mus…      ┆           ┆           ┆   ┆           ┆           ┆           ┆          │\n",
       "│ …         ┆ …         ┆ …         ┆ …         ┆ … ┆ …         ┆ …         ┆ …         ┆ …        │\n",
       "│ Ariana    ┆ Ariana    ┆ The       ┆ 18245315  ┆ … ┆ https://i ┆ Ariana    ┆ https://w ┆ 56400000 │\n",
       "│ Grande -  ┆ Grande -  ┆ official  ┆           ┆   ┆ .ytimg.co ┆ Grande    ┆ ww.youtub ┆          │\n",
       "│ twilight  ┆ twilight  ┆ “twilight ┆           ┆   ┆ m/vi/x1XI ┆           ┆ e.com/cha ┆          │\n",
       "│ zone …    ┆ zone …    ┆ zone” o…  ┆           ┆   ┆ JM6…      ┆           ┆ nne…      ┆          │\n",
       "│ Gracie    ┆ Gracie    ┆ Listen to ┆ 31456772  ┆ … ┆ https://i ┆ Gracie    ┆ https://w ┆ 1770000  │\n",
       "│ Abrams -  ┆ Abrams -  ┆ the new   ┆           ┆   ┆ .ytimg.co ┆ Abrams    ┆ ww.youtub ┆          │\n",
       "│ I Love    ┆ I Love    ┆ album,    ┆           ┆   ┆ m/vi/uxjh ┆           ┆ e.com/cha ┆          │\n",
       "│ You, I’…  ┆ You, I’…  ┆ The S…    ┆           ┆   ┆ N_D…      ┆           ┆ nne…      ┆          │\n",
       "│ HoodTroph ┆ HoodTroph ┆ HoodTroph ┆ 66051     ┆ … ┆ https://i ┆ HoodTroph ┆ https://w ┆ 20300    │\n",
       "│ y Bino    ┆ y Bino    ┆ y Bino    ┆           ┆   ┆ .ytimg.co ┆ y Bino    ┆ ww.youtub ┆          │\n",
       "│ ft. FCG   ┆ ft. FCG   ┆ and FCG   ┆           ┆   ┆ m/vi_webp ┆           ┆ e.com/cha ┆          │\n",
       "│ Heem -…   ┆ Heem -…   ┆ Heem d…   ┆           ┆   ┆ /I-…      ┆           ┆ nne…      ┆          │\n",
       "│ Sean Paul ┆ Sean Paul ┆ Song      ┆ 16952860  ┆ … ┆ https://i ┆ Sean Paul ┆ https://w ┆ 5200000  │\n",
       "│ x INNA -  ┆ x INNA -  ┆ Title:    ┆           ┆   ┆ .ytimg.co ┆           ┆ ww.youtub ┆          │\n",
       "│ Let It    ┆ Let It    ┆ Sean Paul ┆           ┆   ┆ m/vi_webp ┆           ┆ e.com/cha ┆          │\n",
       "│ Talk…     ┆ Talk…     ┆ x INNA -… ┆           ┆   ┆ /nk…      ┆           ┆ nne…      ┆          │\n",
       "│ Selena    ┆ Selena    ┆ Listen to ┆ 16971256  ┆ … ┆ https://i ┆ Selena    ┆ https://w ┆ 35500000 │\n",
       "│ Gomez,    ┆ Gomez,    ┆ the new   ┆           ┆   ┆ .ytimg.co ┆ Gomez     ┆ ww.youtub ┆          │\n",
       "│ benny     ┆ benny     ┆ album 'I  ┆           ┆   ┆ m/vi/4LcN ┆           ┆ e.com/cha ┆          │\n",
       "│ blanco -  ┆ blanco -  ┆ Sai…      ┆           ┆   ┆ r0T…      ┆           ┆ nne…      ┆          │\n",
       "│ H…        ┆ H…        ┆           ┆           ┆   ┆           ┆           ┆           ┆          │\n",
       "└───────────┴───────────┴───────────┴───────────┴───┴───────────┴───────────┴───────────┴──────────┘"
      ],
      "text/html": [
       "<div><style>\n",
       ".dataframe > thead > tr,\n",
       ".dataframe > tbody > tr {\n",
       "  text-align: right;\n",
       "  white-space: pre-wrap;\n",
       "}\n",
       "</style>\n",
       "<small>shape: (100, 13)</small><table border=\"1\" class=\"dataframe\"><thead><tr><th>title</th><th>fulltitle</th><th>description</th><th>view_count</th><th>categories</th><th>tags</th><th>duration</th><th>duration_string</th><th>live_status</th><th>thumbnail</th><th>channel</th><th>channel_url</th><th>channel_follower_count</th></tr><tr><td>str</td><td>str</td><td>str</td><td>i64</td><td>str</td><td>str</td><td>i64</td><td>str</td><td>bool</td><td>str</td><td>str</td><td>str</td><td>i64</td></tr></thead><tbody><tr><td>&quot;ROSÉ &amp; Bruno Mars - APT. (Off…</td><td>&quot;ROSÉ &amp; Bruno Mars - APT. (Off…</td><td>&quot;ROSÉ &amp; Bruno Mars - APT.\n",
       "Down…</td><td>2009014557</td><td>&quot;Music&quot;</td><td>&quot;YG Entertainment;YG;와이지;K-pop;…</td><td>173</td><td>&quot;2:53&quot;</td><td>false</td><td>&quot;https://i.ytimg.com/vi_webp/ek…</td><td>&quot;ROSÉ&quot;</td><td>&quot;https://www.youtube.com/channe…</td><td>19200000</td></tr><tr><td>&quot;Lady Gaga, Bruno Mars - Die Wi…</td><td>&quot;Lady Gaga, Bruno Mars - Die Wi…</td><td>&quot;MAYHEM OUT NOW\n",
       "http://ladygaga…</td><td>1324833300</td><td>&quot;Music&quot;</td><td>&quot;Lady Gaga;Bruno Mars;Interscop…</td><td>252</td><td>&quot;4:12&quot;</td><td>false</td><td>&quot;https://i.ytimg.com/vi/kPa7bsK…</td><td>&quot;Lady Gaga&quot;</td><td>&quot;https://www.youtube.com/channe…</td><td>29600000</td></tr><tr><td>&quot;Reneé Rapp - Leave Me Alone (O…</td><td>&quot;Reneé Rapp - Leave Me Alone (O…</td><td>&quot;Listen to “BITE ME”, the new a…</td><td>2536628</td><td>&quot;Music&quot;</td><td>&quot;Reneé Rapp;Interscope Records;…</td><td>160</td><td>&quot;2:40&quot;</td><td>false</td><td>&quot;https://i.ytimg.com/vi/tiPWzFL…</td><td>&quot;Reneé Rapp&quot;</td><td>&quot;https://www.youtube.com/channe…</td><td>408000</td></tr><tr><td>&quot;Billie Eilish - BIRDS OF A FEA…</td><td>&quot;Billie Eilish - BIRDS OF A FEA…</td><td>&quot;Listen to HIT ME HARD AND SOFT…</td><td>558329099</td><td>&quot;Music&quot;</td><td>&quot;Billie Eilish;Darkroom/Intersc…</td><td>231</td><td>&quot;3:51&quot;</td><td>false</td><td>&quot;https://i.ytimg.com/vi/V9PVRfj…</td><td>&quot;Billie Eilish&quot;</td><td>&quot;https://www.youtube.com/channe…</td><td>56800000</td></tr><tr><td>&quot;Reneé Rapp - Mad (Official Mus…</td><td>&quot;Reneé Rapp - Mad (Official Mus…</td><td>&quot;Listen to “BITE ME”, the new a…</td><td>2113548</td><td>&quot;Music&quot;</td><td>&quot;Reneé Rapp;Interscope Records;…</td><td>180</td><td>&quot;3:00&quot;</td><td>false</td><td>&quot;https://i.ytimg.com/vi/xkWQM3f…</td><td>&quot;Reneé Rapp&quot;</td><td>&quot;https://www.youtube.com/channe…</td><td>408000</td></tr><tr><td>&hellip;</td><td>&hellip;</td><td>&hellip;</td><td>&hellip;</td><td>&hellip;</td><td>&hellip;</td><td>&hellip;</td><td>&hellip;</td><td>&hellip;</td><td>&hellip;</td><td>&hellip;</td><td>&hellip;</td><td>&hellip;</td></tr><tr><td>&quot;Ariana Grande - twilight zone …</td><td>&quot;Ariana Grande - twilight zone …</td><td>&quot;The official “twilight zone” o…</td><td>18245315</td><td>&quot;Music&quot;</td><td>&quot;Ariana Grande;Republic Records…</td><td>202</td><td>&quot;3:22&quot;</td><td>false</td><td>&quot;https://i.ytimg.com/vi/x1XIJM6…</td><td>&quot;Ariana Grande&quot;</td><td>&quot;https://www.youtube.com/channe…</td><td>56400000</td></tr><tr><td>&quot;Gracie Abrams - I Love You, I’…</td><td>&quot;Gracie Abrams - I Love You, I’…</td><td>&quot;Listen to the new album, The S…</td><td>31456772</td><td>&quot;Music&quot;</td><td>&quot;Gracie Abrams;Gracie Abrams, u…</td><td>234</td><td>&quot;3:54&quot;</td><td>false</td><td>&quot;https://i.ytimg.com/vi/uxjhN_D…</td><td>&quot;Gracie Abrams&quot;</td><td>&quot;https://www.youtube.com/channe…</td><td>1770000</td></tr><tr><td>&quot;HoodTrophy Bino ft. FCG Heem -…</td><td>&quot;HoodTrophy Bino ft. FCG Heem -…</td><td>&quot;HoodTrophy Bino and FCG Heem d…</td><td>66051</td><td>&quot;Music&quot;</td><td>&quot;&quot;</td><td>197</td><td>&quot;3:17&quot;</td><td>false</td><td>&quot;https://i.ytimg.com/vi_webp/I-…</td><td>&quot;HoodTrophy Bino&quot;</td><td>&quot;https://www.youtube.com/channe…</td><td>20300</td></tr><tr><td>&quot;Sean Paul x INNA - Let It Talk…</td><td>&quot;Sean Paul x INNA - Let It Talk…</td><td>&quot;Song Title: Sean Paul x INNA -…</td><td>16952860</td><td>&quot;Music&quot;</td><td>&quot;Sean Paul&quot;</td><td>155</td><td>&quot;2:35&quot;</td><td>false</td><td>&quot;https://i.ytimg.com/vi_webp/nk…</td><td>&quot;Sean Paul&quot;</td><td>&quot;https://www.youtube.com/channe…</td><td>5200000</td></tr><tr><td>&quot;Selena Gomez, benny blanco - H…</td><td>&quot;Selena Gomez, benny blanco - H…</td><td>&quot;Listen to the new album &#x27;I Sai…</td><td>16971256</td><td>&quot;Music&quot;</td><td>&quot;Selena Gomez;benny blanco;SMG …</td><td>161</td><td>&quot;2:41&quot;</td><td>false</td><td>&quot;https://i.ytimg.com/vi/4LcNr0T…</td><td>&quot;Selena Gomez&quot;</td><td>&quot;https://www.youtube.com/channe…</td><td>35500000</td></tr></tbody></table></div>"
      ]
     },
     "execution_count": 6,
     "metadata": {},
     "output_type": "execute_result"
    }
   ],
   "execution_count": 6
  }
 ],
 "metadata": {
  "kernelspec": {
   "display_name": "Python 3",
   "language": "python",
   "name": "python3"
  },
  "language_info": {
   "codemirror_mode": {
    "name": "ipython",
    "version": 2
   },
   "file_extension": ".py",
   "mimetype": "text/x-python",
   "name": "python",
   "nbconvert_exporter": "python",
   "pygments_lexer": "ipython2",
   "version": "2.7.6"
  }
 },
 "nbformat": 4,
 "nbformat_minor": 5
}
