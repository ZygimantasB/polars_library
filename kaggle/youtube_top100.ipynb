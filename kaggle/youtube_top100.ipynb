{
 "cells": [
  {
   "cell_type": "code",
   "id": "initial_id",
   "metadata": {
    "collapsed": true,
    "ExecuteTime": {
     "end_time": "2025-10-05T18:30:32.747607Z",
     "start_time": "2025-10-05T18:30:32.264273Z"
    }
   },
   "source": [
    "import polars as pl\n",
    "import polars.selectors as cs\n",
    "\n",
    "import altair as alt\n",
    "import plotly.express as px\n",
    "import seaborn as sns\n",
    "import matplotlib.pyplot as plt\n",
    "import numpy as np"
   ],
   "outputs": [],
   "execution_count": 1
  },
  {
   "metadata": {
    "ExecuteTime": {
     "end_time": "2025-09-30T19:12:08.625856Z",
     "start_time": "2025-09-30T19:12:08.622854Z"
    }
   },
   "cell_type": "code",
   "source": "# df_path = r\"D:\\Datasets\\Data Preaparations\\youtube-top-100-songs-2025.csv\"",
   "id": "59fac03cc7391865",
   "outputs": [],
   "execution_count": 2
  },
  {
   "metadata": {
    "ExecuteTime": {
     "end_time": "2025-09-30T19:13:31.659039Z",
     "start_time": "2025-09-30T19:13:31.624905Z"
    }
   },
   "cell_type": "code",
   "source": "# df_csv = pl.read_csv(df_path)",
   "id": "39bdcca189a2c2e8",
   "outputs": [],
   "execution_count": 3
  },
  {
   "metadata": {
    "ExecuteTime": {
     "end_time": "2025-09-30T19:13:55.287737Z",
     "start_time": "2025-09-30T19:13:55.237681Z"
    }
   },
   "cell_type": "code",
   "source": "# df_csv.write_parquet(r'D:\\Datasets\\Data Werehouse\\youtube-top-100-songs-2025.parquet')",
   "id": "4da2405a01826244",
   "outputs": [],
   "execution_count": 4
  },
  {
   "metadata": {
    "ExecuteTime": {
     "end_time": "2025-10-05T18:30:32.852803Z",
     "start_time": "2025-10-05T18:30:32.757326Z"
    }
   },
   "cell_type": "code",
   "source": "df_parquet = pl.read_parquet(r'D:\\Datasets\\Data Werehouse\\youtube-top-100-songs-2025.parquet')",
   "id": "4ef6551be8347add",
   "outputs": [],
   "execution_count": 2
  },
  {
   "metadata": {
    "ExecuteTime": {
     "end_time": "2025-10-05T18:30:33.116897Z",
     "start_time": "2025-10-05T18:30:33.083670Z"
    }
   },
   "cell_type": "code",
   "source": [
    "df_parquet = df_parquet.with_columns(\n",
    "    pl.col('title').str.split('-').list.get(0).str.strip_chars().alias('artist')\n",
    ")"
   ],
   "id": "6bd7180e014d4e64",
   "outputs": [],
   "execution_count": 3
  },
  {
   "metadata": {
    "ExecuteTime": {
     "end_time": "2025-10-05T18:30:33.243971Z",
     "start_time": "2025-10-05T18:30:33.146756Z"
    }
   },
   "cell_type": "code",
   "source": "df_parquet.describe()",
   "id": "e4d46da11d4b81a1",
   "outputs": [
    {
     "data": {
      "text/plain": [
       "shape: (9, 15)\n",
       "┌───────────┬───────────┬───────────┬───────────┬───┬───────────┬───────────┬───────────┬──────────┐\n",
       "│ statistic ┆ title     ┆ fulltitle ┆ descripti ┆ … ┆ channel   ┆ channel_u ┆ channel_f ┆ artist   │\n",
       "│ ---       ┆ ---       ┆ ---       ┆ on        ┆   ┆ ---       ┆ rl        ┆ ollower_c ┆ ---      │\n",
       "│ str       ┆ str       ┆ str       ┆ ---       ┆   ┆ str       ┆ ---       ┆ ount      ┆ str      │\n",
       "│           ┆           ┆           ┆ str       ┆   ┆           ┆ str       ┆ ---       ┆          │\n",
       "│           ┆           ┆           ┆           ┆   ┆           ┆           ┆ f64       ┆          │\n",
       "╞═══════════╪═══════════╪═══════════╪═══════════╪═══╪═══════════╪═══════════╪═══════════╪══════════╡\n",
       "│ count     ┆ 100       ┆ 100       ┆ 100       ┆ … ┆ 100       ┆ 100       ┆ 100.0     ┆ 100      │\n",
       "│ null_coun ┆ 0         ┆ 0         ┆ 0         ┆ … ┆ 0         ┆ 0         ┆ 0.0       ┆ 0        │\n",
       "│ t         ┆           ┆           ┆           ┆   ┆           ┆           ┆           ┆          │\n",
       "│ mean      ┆ null      ┆ null      ┆ null      ┆ … ┆ null      ┆ null      ┆ 1.6121e7  ┆ null     │\n",
       "│ std       ┆ null      ┆ null      ┆ null      ┆ … ┆ null      ┆ null      ┆ 1.9800e7  ┆ null     │\n",
       "│ min       ┆ Adam      ┆ Adam      ┆ #RAAHiiM  ┆ … ┆ Addison   ┆ https://w ┆ 1.0       ┆ Adam     │\n",
       "│           ┆ Port,     ┆ Port,     ┆ #BEAM     ┆   ┆ Rae       ┆ ww.youtub ┆           ┆ Port,    │\n",
       "│           ┆ Stryv -   ┆ Stryv -   ┆ #RNB      ┆   ┆           ┆ e.com/cha ┆           ┆ Stryv    │\n",
       "│           ┆ Move      ┆ Move      ┆ #REGGAE   ┆   ┆           ┆ nne…      ┆           ┆          │\n",
       "│           ┆ feat. …   ┆ feat. …   ┆ #A…       ┆   ┆           ┆           ┆           ┆          │\n",
       "│ 25%       ┆ null      ┆ null      ┆ null      ┆ … ┆ null      ┆ null      ┆ 616000.0  ┆ null     │\n",
       "│ 50%       ┆ null      ┆ null      ┆ null      ┆ … ┆ null      ┆ null      ┆ 6.32e6    ┆ null     │\n",
       "│ 75%       ┆ null      ┆ null      ┆ null      ┆ … ┆ null      ┆ null      ┆ 2.76e7    ┆ null     │\n",
       "│ max       ┆ yung kai  ┆ yung kai  ┆ “Anxiety” ┆ … ┆ yung kai  ┆ https://w ┆ 7.62e7    ┆ yung kai │\n",
       "│           ┆ - blue    ┆ - blue    ┆ Doechii   ┆   ┆           ┆ ww.youtub ┆           ┆          │\n",
       "│           ┆ (official ┆ (official ┆           ┆   ┆           ┆ e.com/cha ┆           ┆          │\n",
       "│           ┆ musi…     ┆ musi…     ┆ Directed  ┆   ┆           ┆ nne…      ┆           ┆          │\n",
       "│           ┆           ┆           ┆ by…       ┆   ┆           ┆           ┆           ┆          │\n",
       "└───────────┴───────────┴───────────┴───────────┴───┴───────────┴───────────┴───────────┴──────────┘"
      ],
      "text/html": [
       "<div><style>\n",
       ".dataframe > thead > tr,\n",
       ".dataframe > tbody > tr {\n",
       "  text-align: right;\n",
       "  white-space: pre-wrap;\n",
       "}\n",
       "</style>\n",
       "<small>shape: (9, 15)</small><table border=\"1\" class=\"dataframe\"><thead><tr><th>statistic</th><th>title</th><th>fulltitle</th><th>description</th><th>view_count</th><th>categories</th><th>tags</th><th>duration</th><th>duration_string</th><th>live_status</th><th>thumbnail</th><th>channel</th><th>channel_url</th><th>channel_follower_count</th><th>artist</th></tr><tr><td>str</td><td>str</td><td>str</td><td>str</td><td>f64</td><td>str</td><td>str</td><td>f64</td><td>str</td><td>f64</td><td>str</td><td>str</td><td>str</td><td>f64</td><td>str</td></tr></thead><tbody><tr><td>&quot;count&quot;</td><td>&quot;100&quot;</td><td>&quot;100&quot;</td><td>&quot;100&quot;</td><td>100.0</td><td>&quot;100&quot;</td><td>&quot;100&quot;</td><td>100.0</td><td>&quot;100&quot;</td><td>100.0</td><td>&quot;100&quot;</td><td>&quot;100&quot;</td><td>&quot;100&quot;</td><td>100.0</td><td>&quot;100&quot;</td></tr><tr><td>&quot;null_count&quot;</td><td>&quot;0&quot;</td><td>&quot;0&quot;</td><td>&quot;0&quot;</td><td>0.0</td><td>&quot;0&quot;</td><td>&quot;0&quot;</td><td>0.0</td><td>&quot;0&quot;</td><td>0.0</td><td>&quot;0&quot;</td><td>&quot;0&quot;</td><td>&quot;0&quot;</td><td>0.0</td><td>&quot;0&quot;</td></tr><tr><td>&quot;mean&quot;</td><td>null</td><td>null</td><td>null</td><td>1.0591e8</td><td>null</td><td>null</td><td>203.9</td><td>null</td><td>0.0</td><td>null</td><td>null</td><td>null</td><td>1.6121e7</td><td>null</td></tr><tr><td>&quot;std&quot;</td><td>null</td><td>null</td><td>null</td><td>2.4911e8</td><td>null</td><td>null</td><td>44.260592</td><td>null</td><td>null</td><td>null</td><td>null</td><td>null</td><td>1.9800e7</td><td>null</td></tr><tr><td>&quot;min&quot;</td><td>&quot;Adam Port, Stryv - Move feat. …</td><td>&quot;Adam Port, Stryv - Move feat. …</td><td>&quot;#RAAHiiM #BEAM #RNB #REGGAE #A…</td><td>1161.0</td><td>&quot;Music&quot;</td><td>&quot;&quot;</td><td>120.0</td><td>&quot;2:00&quot;</td><td>0.0</td><td>&quot;https://i.ytimg.com/vi/1RKqOmS…</td><td>&quot;Addison Rae&quot;</td><td>&quot;https://www.youtube.com/channe…</td><td>1.0</td><td>&quot;Adam Port, Stryv&quot;</td></tr><tr><td>&quot;25%&quot;</td><td>null</td><td>null</td><td>null</td><td>1.8620923e7</td><td>null</td><td>null</td><td>173.0</td><td>null</td><td>null</td><td>null</td><td>null</td><td>null</td><td>616000.0</td><td>null</td></tr><tr><td>&quot;50%&quot;</td><td>null</td><td>null</td><td>null</td><td>3.8500113e7</td><td>null</td><td>null</td><td>194.0</td><td>null</td><td>null</td><td>null</td><td>null</td><td>null</td><td>6.32e6</td><td>null</td></tr><tr><td>&quot;75%&quot;</td><td>null</td><td>null</td><td>null</td><td>1.10991682e8</td><td>null</td><td>null</td><td>231.0</td><td>null</td><td>null</td><td>null</td><td>null</td><td>null</td><td>2.76e7</td><td>null</td></tr><tr><td>&quot;max&quot;</td><td>&quot;yung kai - blue (official musi…</td><td>&quot;yung kai - blue (official musi…</td><td>&quot;“Anxiety” Doechii\n",
       "\n",
       "Directed by…</td><td>2.0090e9</td><td>&quot;People &amp; Blogs&quot;</td><td>&quot;yung kai;blue;tiktok viral;tik…</td><td>354.0</td><td>&quot;5:54&quot;</td><td>0.0</td><td>&quot;https://i.ytimg.com/vi_webp/x8…</td><td>&quot;yung kai&quot;</td><td>&quot;https://www.youtube.com/channe…</td><td>7.62e7</td><td>&quot;yung kai&quot;</td></tr></tbody></table></div>"
      ]
     },
     "execution_count": 4,
     "metadata": {},
     "output_type": "execute_result"
    }
   ],
   "execution_count": 4
  },
  {
   "metadata": {
    "ExecuteTime": {
     "end_time": "2025-09-30T19:22:53.474531Z",
     "start_time": "2025-09-30T19:22:53.465515Z"
    }
   },
   "cell_type": "code",
   "source": "df_parquet.null_count()",
   "id": "19e7323b8dab2cf9",
   "outputs": [
    {
     "data": {
      "text/plain": [
       "shape: (1, 14)\n",
       "┌───────┬───────────┬─────────────┬────────────┬───┬─────────┬─────────────┬──────────────┬────────┐\n",
       "│ title ┆ fulltitle ┆ description ┆ view_count ┆ … ┆ channel ┆ channel_url ┆ channel_foll ┆ artist │\n",
       "│ ---   ┆ ---       ┆ ---         ┆ ---        ┆   ┆ ---     ┆ ---         ┆ ower_count   ┆ ---    │\n",
       "│ u32   ┆ u32       ┆ u32         ┆ u32        ┆   ┆ u32     ┆ u32         ┆ ---          ┆ u32    │\n",
       "│       ┆           ┆             ┆            ┆   ┆         ┆             ┆ u32          ┆        │\n",
       "╞═══════╪═══════════╪═════════════╪════════════╪═══╪═════════╪═════════════╪══════════════╪════════╡\n",
       "│ 0     ┆ 0         ┆ 0           ┆ 0          ┆ … ┆ 0       ┆ 0           ┆ 0            ┆ 0      │\n",
       "└───────┴───────────┴─────────────┴────────────┴───┴─────────┴─────────────┴──────────────┴────────┘"
      ],
      "text/html": [
       "<div><style>\n",
       ".dataframe > thead > tr,\n",
       ".dataframe > tbody > tr {\n",
       "  text-align: right;\n",
       "  white-space: pre-wrap;\n",
       "}\n",
       "</style>\n",
       "<small>shape: (1, 14)</small><table border=\"1\" class=\"dataframe\"><thead><tr><th>title</th><th>fulltitle</th><th>description</th><th>view_count</th><th>categories</th><th>tags</th><th>duration</th><th>duration_string</th><th>live_status</th><th>thumbnail</th><th>channel</th><th>channel_url</th><th>channel_follower_count</th><th>artist</th></tr><tr><td>u32</td><td>u32</td><td>u32</td><td>u32</td><td>u32</td><td>u32</td><td>u32</td><td>u32</td><td>u32</td><td>u32</td><td>u32</td><td>u32</td><td>u32</td><td>u32</td></tr></thead><tbody><tr><td>0</td><td>0</td><td>0</td><td>0</td><td>0</td><td>0</td><td>0</td><td>0</td><td>0</td><td>0</td><td>0</td><td>0</td><td>0</td><td>0</td></tr></tbody></table></div>"
      ]
     },
     "execution_count": 14,
     "metadata": {},
     "output_type": "execute_result"
    }
   ],
   "execution_count": 14
  },
  {
   "metadata": {
    "ExecuteTime": {
     "end_time": "2025-09-30T19:23:18.662739Z",
     "start_time": "2025-09-30T19:23:18.657564Z"
    }
   },
   "cell_type": "code",
   "source": "df_parquet.collect_schema()",
   "id": "b4dabdb7cf1bc319",
   "outputs": [
    {
     "data": {
      "text/plain": [
       "Schema([('title', String),\n",
       "        ('fulltitle', String),\n",
       "        ('description', String),\n",
       "        ('view_count', Int64),\n",
       "        ('categories', String),\n",
       "        ('tags', String),\n",
       "        ('duration', Int64),\n",
       "        ('duration_string', String),\n",
       "        ('live_status', Boolean),\n",
       "        ('thumbnail', String),\n",
       "        ('channel', String),\n",
       "        ('channel_url', String),\n",
       "        ('channel_follower_count', Int64),\n",
       "        ('artist', String)])"
      ]
     },
     "execution_count": 17,
     "metadata": {},
     "output_type": "execute_result"
    }
   ],
   "execution_count": 17
  },
  {
   "metadata": {
    "ExecuteTime": {
     "end_time": "2025-09-30T19:32:59.653508Z",
     "start_time": "2025-09-30T19:32:59.649508Z"
    }
   },
   "cell_type": "code",
   "source": "df_parquet.estimated_size('mb')",
   "id": "1b7d8198b4a9a16d",
   "outputs": [
    {
     "data": {
      "text/plain": [
       "0.22051048278808594"
      ]
     },
     "execution_count": 19,
     "metadata": {},
     "output_type": "execute_result"
    }
   ],
   "execution_count": 19
  },
  {
   "metadata": {
    "ExecuteTime": {
     "end_time": "2025-09-30T19:36:45.828677Z",
     "start_time": "2025-09-30T19:36:45.824636Z"
    }
   },
   "cell_type": "code",
   "source": [
    "df_parquet = df_parquet.select(\n",
    "    pl.all().shrink_dtype()\n",
    ")"
   ],
   "id": "2d61507ce56e4271",
   "outputs": [],
   "execution_count": 27
  },
  {
   "metadata": {
    "ExecuteTime": {
     "end_time": "2025-09-30T19:40:38.307246Z",
     "start_time": "2025-09-30T19:40:38.303246Z"
    }
   },
   "cell_type": "code",
   "source": [
    "for number, column in enumerate(df_parquet.columns, start=1):\n",
    "    print(f\"{number}. {column}: {df_parquet[column].n_unique()} unique values\")"
   ],
   "id": "50091aa1620d744b",
   "outputs": [
    {
     "name": "stdout",
     "output_type": "stream",
     "text": [
      "1. title: 100 unique values\n",
      "2. fulltitle: 100 unique values\n",
      "3. description: 100 unique values\n",
      "4. view_count: 100 unique values\n",
      "5. categories: 2 unique values\n",
      "6. tags: 77 unique values\n",
      "7. duration: 69 unique values\n",
      "8. duration_string: 69 unique values\n",
      "9. live_status: 1 unique values\n",
      "10. thumbnail: 100 unique values\n",
      "11. channel: 65 unique values\n",
      "12. channel_url: 69 unique values\n",
      "13. channel_follower_count: 65 unique values\n",
      "14. artist: 73 unique values\n"
     ]
    }
   ],
   "execution_count": 38
  },
  {
   "metadata": {
    "ExecuteTime": {
     "end_time": "2025-10-05T18:31:10.097541Z",
     "start_time": "2025-10-05T18:31:10.092129Z"
    }
   },
   "cell_type": "code",
   "source": "df_parquet.head(5)",
   "id": "3386033f554a612c",
   "outputs": [
    {
     "data": {
      "text/plain": [
       "shape: (5, 14)\n",
       "┌───────────┬───────────┬───────────┬───────────┬───┬───────────┬───────────┬───────────┬──────────┐\n",
       "│ title     ┆ fulltitle ┆ descripti ┆ view_coun ┆ … ┆ channel   ┆ channel_u ┆ channel_f ┆ artist   │\n",
       "│ ---       ┆ ---       ┆ on        ┆ t         ┆   ┆ ---       ┆ rl        ┆ ollower_c ┆ ---      │\n",
       "│ str       ┆ str       ┆ ---       ┆ ---       ┆   ┆ str       ┆ ---       ┆ ount      ┆ str      │\n",
       "│           ┆           ┆ str       ┆ i64       ┆   ┆           ┆ str       ┆ ---       ┆          │\n",
       "│           ┆           ┆           ┆           ┆   ┆           ┆           ┆ i64       ┆          │\n",
       "╞═══════════╪═══════════╪═══════════╪═══════════╪═══╪═══════════╪═══════════╪═══════════╪══════════╡\n",
       "│ ROSÉ &    ┆ ROSÉ &    ┆ ROSÉ &    ┆ 200901455 ┆ … ┆ ROSÉ      ┆ https://w ┆ 19200000  ┆ ROSÉ &   │\n",
       "│ Bruno     ┆ Bruno     ┆ Bruno     ┆ 7         ┆   ┆           ┆ ww.youtub ┆           ┆ Bruno    │\n",
       "│ Mars -    ┆ Mars -    ┆ Mars -    ┆           ┆   ┆           ┆ e.com/cha ┆           ┆ Mars     │\n",
       "│ APT.      ┆ APT.      ┆ APT.      ┆           ┆   ┆           ┆ nne…      ┆           ┆          │\n",
       "│ (Off…     ┆ (Off…     ┆ Down…     ┆           ┆   ┆           ┆           ┆           ┆          │\n",
       "│ Lady      ┆ Lady      ┆ MAYHEM    ┆ 132483330 ┆ … ┆ Lady Gaga ┆ https://w ┆ 29600000  ┆ Lady     │\n",
       "│ Gaga,     ┆ Gaga,     ┆ OUT NOW   ┆ 0         ┆   ┆           ┆ ww.youtub ┆           ┆ Gaga,    │\n",
       "│ Bruno     ┆ Bruno     ┆ http://la ┆           ┆   ┆           ┆ e.com/cha ┆           ┆ Bruno    │\n",
       "│ Mars -    ┆ Mars -    ┆ dygaga…   ┆           ┆   ┆           ┆ nne…      ┆           ┆ Mars     │\n",
       "│ Die Wi…   ┆ Die Wi…   ┆           ┆           ┆   ┆           ┆           ┆           ┆          │\n",
       "│ Reneé     ┆ Reneé     ┆ Listen to ┆ 2536628   ┆ … ┆ Reneé     ┆ https://w ┆ 408000    ┆ Reneé    │\n",
       "│ Rapp -    ┆ Rapp -    ┆ “BITE     ┆           ┆   ┆ Rapp      ┆ ww.youtub ┆           ┆ Rapp     │\n",
       "│ Leave Me  ┆ Leave Me  ┆ ME”, the  ┆           ┆   ┆           ┆ e.com/cha ┆           ┆          │\n",
       "│ Alone (O… ┆ Alone (O… ┆ new a…    ┆           ┆   ┆           ┆ nne…      ┆           ┆          │\n",
       "│ Billie    ┆ Billie    ┆ Listen to ┆ 558329099 ┆ … ┆ Billie    ┆ https://w ┆ 56800000  ┆ Billie   │\n",
       "│ Eilish -  ┆ Eilish -  ┆ HIT ME    ┆           ┆   ┆ Eilish    ┆ ww.youtub ┆           ┆ Eilish   │\n",
       "│ BIRDS OF  ┆ BIRDS OF  ┆ HARD AND  ┆           ┆   ┆           ┆ e.com/cha ┆           ┆          │\n",
       "│ A FEA…    ┆ A FEA…    ┆ SOFT…     ┆           ┆   ┆           ┆ nne…      ┆           ┆          │\n",
       "│ Reneé     ┆ Reneé     ┆ Listen to ┆ 2113548   ┆ … ┆ Reneé     ┆ https://w ┆ 408000    ┆ Reneé    │\n",
       "│ Rapp -    ┆ Rapp -    ┆ “BITE     ┆           ┆   ┆ Rapp      ┆ ww.youtub ┆           ┆ Rapp     │\n",
       "│ Mad       ┆ Mad       ┆ ME”, the  ┆           ┆   ┆           ┆ e.com/cha ┆           ┆          │\n",
       "│ (Official ┆ (Official ┆ new a…    ┆           ┆   ┆           ┆ nne…      ┆           ┆          │\n",
       "│ Mus…      ┆ Mus…      ┆           ┆           ┆   ┆           ┆           ┆           ┆          │\n",
       "└───────────┴───────────┴───────────┴───────────┴───┴───────────┴───────────┴───────────┴──────────┘"
      ],
      "text/html": [
       "<div><style>\n",
       ".dataframe > thead > tr,\n",
       ".dataframe > tbody > tr {\n",
       "  text-align: right;\n",
       "  white-space: pre-wrap;\n",
       "}\n",
       "</style>\n",
       "<small>shape: (5, 14)</small><table border=\"1\" class=\"dataframe\"><thead><tr><th>title</th><th>fulltitle</th><th>description</th><th>view_count</th><th>categories</th><th>tags</th><th>duration</th><th>duration_string</th><th>live_status</th><th>thumbnail</th><th>channel</th><th>channel_url</th><th>channel_follower_count</th><th>artist</th></tr><tr><td>str</td><td>str</td><td>str</td><td>i64</td><td>str</td><td>str</td><td>i64</td><td>str</td><td>bool</td><td>str</td><td>str</td><td>str</td><td>i64</td><td>str</td></tr></thead><tbody><tr><td>&quot;ROSÉ &amp; Bruno Mars - APT. (Off…</td><td>&quot;ROSÉ &amp; Bruno Mars - APT. (Off…</td><td>&quot;ROSÉ &amp; Bruno Mars - APT.\n",
       "Down…</td><td>2009014557</td><td>&quot;Music&quot;</td><td>&quot;YG Entertainment;YG;와이지;K-pop;…</td><td>173</td><td>&quot;2:53&quot;</td><td>false</td><td>&quot;https://i.ytimg.com/vi_webp/ek…</td><td>&quot;ROSÉ&quot;</td><td>&quot;https://www.youtube.com/channe…</td><td>19200000</td><td>&quot;ROSÉ &amp; Bruno Mars&quot;</td></tr><tr><td>&quot;Lady Gaga, Bruno Mars - Die Wi…</td><td>&quot;Lady Gaga, Bruno Mars - Die Wi…</td><td>&quot;MAYHEM OUT NOW\n",
       "http://ladygaga…</td><td>1324833300</td><td>&quot;Music&quot;</td><td>&quot;Lady Gaga;Bruno Mars;Interscop…</td><td>252</td><td>&quot;4:12&quot;</td><td>false</td><td>&quot;https://i.ytimg.com/vi/kPa7bsK…</td><td>&quot;Lady Gaga&quot;</td><td>&quot;https://www.youtube.com/channe…</td><td>29600000</td><td>&quot;Lady Gaga, Bruno Mars&quot;</td></tr><tr><td>&quot;Reneé Rapp - Leave Me Alone (O…</td><td>&quot;Reneé Rapp - Leave Me Alone (O…</td><td>&quot;Listen to “BITE ME”, the new a…</td><td>2536628</td><td>&quot;Music&quot;</td><td>&quot;Reneé Rapp;Interscope Records;…</td><td>160</td><td>&quot;2:40&quot;</td><td>false</td><td>&quot;https://i.ytimg.com/vi/tiPWzFL…</td><td>&quot;Reneé Rapp&quot;</td><td>&quot;https://www.youtube.com/channe…</td><td>408000</td><td>&quot;Reneé Rapp&quot;</td></tr><tr><td>&quot;Billie Eilish - BIRDS OF A FEA…</td><td>&quot;Billie Eilish - BIRDS OF A FEA…</td><td>&quot;Listen to HIT ME HARD AND SOFT…</td><td>558329099</td><td>&quot;Music&quot;</td><td>&quot;Billie Eilish;Darkroom/Intersc…</td><td>231</td><td>&quot;3:51&quot;</td><td>false</td><td>&quot;https://i.ytimg.com/vi/V9PVRfj…</td><td>&quot;Billie Eilish&quot;</td><td>&quot;https://www.youtube.com/channe…</td><td>56800000</td><td>&quot;Billie Eilish&quot;</td></tr><tr><td>&quot;Reneé Rapp - Mad (Official Mus…</td><td>&quot;Reneé Rapp - Mad (Official Mus…</td><td>&quot;Listen to “BITE ME”, the new a…</td><td>2113548</td><td>&quot;Music&quot;</td><td>&quot;Reneé Rapp;Interscope Records;…</td><td>180</td><td>&quot;3:00&quot;</td><td>false</td><td>&quot;https://i.ytimg.com/vi/xkWQM3f…</td><td>&quot;Reneé Rapp&quot;</td><td>&quot;https://www.youtube.com/channe…</td><td>408000</td><td>&quot;Reneé Rapp&quot;</td></tr></tbody></table></div>"
      ]
     },
     "execution_count": 6,
     "metadata": {},
     "output_type": "execute_result"
    }
   ],
   "execution_count": 6
  },
  {
   "metadata": {},
   "cell_type": "code",
   "outputs": [],
   "execution_count": null,
   "source": "",
   "id": "9541b90cbcc82105"
  }
 ],
 "metadata": {
  "kernelspec": {
   "display_name": "Python 3",
   "language": "python",
   "name": "python3"
  },
  "language_info": {
   "codemirror_mode": {
    "name": "ipython",
    "version": 2
   },
   "file_extension": ".py",
   "mimetype": "text/x-python",
   "name": "python",
   "nbconvert_exporter": "python",
   "pygments_lexer": "ipython2",
   "version": "2.7.6"
  }
 },
 "nbformat": 4,
 "nbformat_minor": 5
}
