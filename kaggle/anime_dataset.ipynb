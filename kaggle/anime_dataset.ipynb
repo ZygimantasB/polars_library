{
 "cells": [
  {
   "cell_type": "code",
   "id": "initial_id",
   "metadata": {
    "collapsed": true
   },
   "source": [
    "import polars as pl\n",
    "import polars.selectors as cs\n",
    "\n",
    "import altair as alt\n",
    "import plotly.express as px\n",
    "import seaborn as sns\n",
    "import matplotlib.pyplot as plt\n",
    "\n",
    "import hvplot.polars\n",
    "\n",
    "import datetime as dt\n",
    "\n",
    "from matplotlib.figure import figaspect"
   ],
   "outputs": [],
   "execution_count": null
  },
  {
   "metadata": {},
   "cell_type": "code",
   "source": "anime_path = r\"F:\\Datasets\\CSV datasets\\Anime Dataset\\Anime.csv\"",
   "id": "5936530bfa8febf2",
   "outputs": [],
   "execution_count": null
  },
  {
   "metadata": {},
   "cell_type": "code",
   "source": "movie_rating_path = r\"F:\\Datasets\\CSV datasets\\Anime Dataset\\Movie_Rating.csv\"",
   "id": "6e3c7d31588a563e",
   "outputs": [],
   "execution_count": null
  },
  {
   "metadata": {},
   "cell_type": "code",
   "source": "anime_df = pl.read_csv(anime_path)",
   "id": "32e365b4146f7235",
   "outputs": [],
   "execution_count": null
  },
  {
   "metadata": {},
   "cell_type": "code",
   "source": "anime_df",
   "id": "d2c58ba207f4e0ff",
   "outputs": [],
   "execution_count": null
  },
  {
   "metadata": {},
   "cell_type": "code",
   "source": "movie_rating_df = pl.read_csv(movie_rating_path)",
   "id": "313cef4e007ba47b",
   "outputs": [],
   "execution_count": null
  },
  {
   "metadata": {},
   "cell_type": "code",
   "source": "movie_rating_df",
   "id": "44ef4e9eda14b65",
   "outputs": [],
   "execution_count": null
  },
  {
   "metadata": {},
   "cell_type": "code",
   "source": "combined_df = anime_df.join(movie_rating_df, on=\"anime_id\", how=\"left\")",
   "id": "c40d40e5396b9719",
   "outputs": [],
   "execution_count": null
  },
  {
   "metadata": {},
   "cell_type": "code",
   "source": "combined_df",
   "id": "a422fa5944c909ac",
   "outputs": [],
   "execution_count": null
  },
  {
   "metadata": {},
   "cell_type": "code",
   "source": "combined_df.collect_schema()",
   "id": "c5eb054c78987881",
   "outputs": [],
   "execution_count": null
  },
  {
   "metadata": {},
   "cell_type": "code",
   "source": [
    "combined_df = combined_df.with_columns(\n",
    "    pl.col('anime_id').cast(pl.UInt16),\n",
    "    pl.col('rating').cast(pl.Float32),\n",
    "    pl.col('members').cast(pl.UInt32),\n",
    "    pl.col('user_id').cast(pl.UInt32),\n",
    "    pl.col('rating_right').cast(pl.Int8),\n",
    ")"
   ],
   "id": "76b057bafbe9bf25",
   "outputs": [],
   "execution_count": null
  },
  {
   "metadata": {},
   "cell_type": "code",
   "source": [
    "combined_df = combined_df.with_columns(\n",
    "    pl.col('genre').str.split(',')\n",
    ").explode('genre')"
   ],
   "id": "9185604fa3d4e176",
   "outputs": [],
   "execution_count": null
  },
  {
   "metadata": {},
   "cell_type": "code",
   "source": [
    "combined_df = combined_df.with_columns(\n",
    "    pl.col('genre').str.strip_chars()\n",
    ")"
   ],
   "id": "22fa60040372cac5",
   "outputs": [],
   "execution_count": null
  },
  {
   "metadata": {},
   "cell_type": "code",
   "source": [
    "most_popular_genres = combined_df.select(\n",
    "    pl.col('genre')\n",
    ").group_by(\n",
    "    pl.col('genre')\n",
    ").len().sort(by='len', descending=True)"
   ],
   "id": "9e39c7aba8ecca23",
   "outputs": [],
   "execution_count": null
  },
  {
   "metadata": {},
   "cell_type": "code",
   "source": "most_popular_genres",
   "id": "f307e4462764eea1",
   "outputs": [],
   "execution_count": null
  },
  {
   "metadata": {},
   "cell_type": "code",
   "source": [
    "plt.figure(figsize=(10, 5), dpi=150)\n",
    "\n",
    "most_popular_genres_pd = most_popular_genres.to_pandas()\n",
    "\n",
    "sns.barplot(\n",
    "    data=most_popular_genres_pd,\n",
    "    x='genre',\n",
    "    y='len'\n",
    ")\n",
    "\n",
    "plt.xticks(rotation=45, ha='right')\n",
    "plt.tight_layout()\n",
    "plt.show()"
   ],
   "id": "93c695ad4cc27d31",
   "outputs": [],
   "execution_count": null
  },
  {
   "metadata": {},
   "cell_type": "code",
   "source": "combined_df",
   "id": "b504cf38ef3fd02f",
   "outputs": [],
   "execution_count": null
  },
  {
   "metadata": {},
   "cell_type": "code",
   "source": [
    "exact_duplicates = combined_df.group_by(\n",
    "    ['user_id', 'anime_id', 'genre']\n",
    ").len().filter(\n",
    "    pl.col('len') > 1\n",
    ")"
   ],
   "id": "7325040cf457557e",
   "outputs": [],
   "execution_count": null
  },
  {
   "metadata": {},
   "cell_type": "code",
   "source": "exact_duplicates",
   "id": "3084cd5ae7bb5c16",
   "outputs": [],
   "execution_count": null
  },
  {
   "metadata": {},
   "cell_type": "code",
   "source": [
    "user_anime_genre_counts = combined_df.group_by(\n",
    "    ['user_id', 'anime_id']\n",
    ").agg([\n",
    "    pl.col('genre').n_unique().alias('unique_genres'),\n",
    "    pl.col('genre').len().alias('total_genre_rows')\n",
    "])"
   ],
   "id": "b8ec6383323642cf",
   "outputs": [],
   "execution_count": null
  },
  {
   "metadata": {},
   "cell_type": "code",
   "source": "user_anime_genre_counts",
   "id": "ba4c35b4d3f0a8a3",
   "outputs": [],
   "execution_count": null
  },
  {
   "metadata": {},
   "cell_type": "code",
   "source": [
    "combined_df.group_by(\n",
    "    ['user_id', 'anime_id']\n",
    ").agg([\n",
    "    pl.col('rating_right').n_unique().alias('unique_ratings'),\n",
    "    pl.col('rating_right').min().alias('min_rating'),\n",
    "    pl.col('rating_right').max().alias('max_rating'),\n",
    "    pl.col('genre').len().alias('genre_count'),\n",
    "])"
   ],
   "id": "54b62267b139add3",
   "outputs": [],
   "execution_count": null
  },
  {
   "metadata": {},
   "cell_type": "code",
   "source": [
    "combined_df.select(\n",
    "    (pl.col(col).is_null().sum() / pl.len() * 100).alias(f\"{col}_null_percentage\")\n",
    "    for col in combined_df.columns\n",
    ")"
   ],
   "id": "ee6edfeaca883b9",
   "outputs": [],
   "execution_count": null
  },
  {
   "metadata": {},
   "cell_type": "code",
   "source": [
    "genre_analysis = combined_df.select(\n",
    "    'genre'\n",
    ").group_by(\n",
    "    'genre'\n",
    ").len().sort(\n",
    "    by='len', descending=True\n",
    ")\n",
    "\n",
    "genre_analysis"
   ],
   "id": "4872fd768d9edb7c",
   "outputs": [],
   "execution_count": null
  },
  {
   "metadata": {},
   "cell_type": "code",
   "source": [
    "genre_variations = combined_df.select(\n",
    "    'genre'\n",
    ").unique().sort(\n",
    "    'genre'\n",
    ")\n",
    "\n",
    "genre_variations.to_pandas()['genre'].tolist()"
   ],
   "id": "77c8c292faa36935",
   "outputs": [],
   "execution_count": null
  },
  {
   "metadata": {},
   "cell_type": "code",
   "source": [
    "combined_df.select(\n",
    "    pl.col('genre')\n",
    ").unique().to_series().to_list()"
   ],
   "id": "9da20a98449f10d5",
   "outputs": [],
   "execution_count": null
  },
  {
   "metadata": {},
   "cell_type": "code",
   "source": [
    "combined_df.select(\n",
    "    'genre'\n",
    ").to_dict(as_series=False)"
   ],
   "id": "ee54fa319545a652",
   "outputs": [],
   "execution_count": null
  },
  {
   "metadata": {},
   "cell_type": "code",
   "source": [
    "import re\n",
    "\n",
    "def normalize_genre_name(genre_name):\n",
    "    if genre_name is None:\n",
    "        return None\n",
    "\n",
    "    normalized = genre_name.lower().strip()\n",
    "\n",
    "    variations = {\n",
    "        'sci-fi': 's'\n",
    "    }\n"
   ],
   "id": "926e3cc0dd658537",
   "outputs": [],
   "execution_count": null
  },
  {
   "metadata": {},
   "cell_type": "code",
   "source": [
    "def create_genre_taxonomy():\n",
    "    genre_taxonomy = {\n",
    "        'Action': ['Action', 'Fighting', 'Martial Arts', 'Military', 'Police'],\n",
    "        'Adventure': ['Adventure', 'Space'],\n",
    "        'Comedy': ['Comedy', 'Parody', 'Gag Humor'],\n",
    "        'Drama': ['Drama', 'Melodrama'],\n",
    "        'Fantasy': ['Fantasy', 'Magic', 'Supernatural', 'Mythology'],\n",
    "        'Romance': ['Romance', 'Romantic Comedy', 'Harem', 'Reverse Harem'],\n",
    "        'Science Fiction': ['Science Fiction', 'Sci-Fi', 'Mecha', 'Cyberpunk'],\n",
    "        'Horror': ['Horror', 'Thriller', 'Suspense'],\n",
    "        'Mystery': ['Mystery', 'Detective', 'Psychological'],\n",
    "        'Slice of Life': ['Slice of Life', 'Iyashikei', 'School', 'Workplace'],\n",
    "        'Sports': ['Sports', 'Racing', 'Competition'],\n",
    "        'Demographic': ['Shonen', 'Shojo', 'Seinen', 'Josei', 'Kids'],\n",
    "        'Mature': ['Ecchi', 'Mature', 'Adult'],\n",
    "        'Historical': ['Historical', 'Samurai', 'Period Drama'],\n",
    "        'Music': ['Music', 'Idol', 'Band'],\n",
    "        'Game': ['Game', 'Video Game', 'Card Game'],\n",
    "        'Other': ['Experimental', 'Avant Garde', 'Art House']\n",
    "    }\n",
    "\n",
    "    return genre_taxonomy\n"
   ],
   "id": "a5244bcb3e378270",
   "outputs": [],
   "execution_count": null
  },
  {
   "metadata": {},
   "cell_type": "code",
   "source": [
    "combined_df.select([\n",
    "    'anime_id', 'name', 'rating', 'type', 'episodes', 'genre'\n",
    "]).describe()"
   ],
   "id": "ebabb807001af6eb",
   "outputs": [],
   "execution_count": null
  },
  {
   "metadata": {},
   "cell_type": "markdown",
   "source": [
    "# User Behavior Analytics\n",
    "## 4. User Engagement Segmentation:"
   ],
   "id": "522752c6eecc4e4e"
  },
  {
   "metadata": {},
   "cell_type": "code",
   "source": [
    "combined_df.group_by(\n",
    "    'user_id'\n",
    ").agg(\n",
    "    pl.col('anime_id').n_unique().alias('anime_count'),\n",
    "    pl.col('rating_right').alias('total_rating'),\n",
    "    pl.col('rating_right').mean().alias('avg_user_rating'),\n",
    "    pl.col('rating_right').std().alias('rating_variance'),\n",
    "    pl.col('rating_right').min().alias('min_rating'),\n",
    "    pl.col('rating_right').max().alias('max_rating'),\n",
    "    pl.col('genre').n_unique().alias('unique_genres'),\n",
    "    pl.col('genre').len().alias('total_genre_interections'),\n",
    "    pl.col('type').n_unique().alias('unique_types')\n",
    ")"
   ],
   "id": "f18123f2d2098e2d",
   "outputs": [],
   "execution_count": null
  },
  {
   "metadata": {},
   "cell_type": "markdown",
   "source": "# Rating Bias Detection:",
   "id": "1a3517b9d407d197"
  },
  {
   "metadata": {},
   "cell_type": "code",
   "source": [
    "combined_df.select(\n",
    "    pl.col('rating_right').mean().alias('global_avg_rating'),\n",
    ")"
   ],
   "id": "f46662704a295ebe",
   "outputs": [],
   "execution_count": null
  },
  {
   "metadata": {},
   "cell_type": "code",
   "source": [
    "combined_df.group_by(\n",
    "    pl.col('anime_id')\n",
    ").agg(\n",
    "    pl.col('rating_right').mean().alias('anime_avg_rating'),\n",
    ")"
   ],
   "id": "52ed9a3110da6be9",
   "outputs": [],
   "execution_count": null
  },
  {
   "metadata": {},
   "cell_type": "code",
   "source": [
    "combined_df.group_by(\n",
    "    'genre'\n",
    ").agg(\n",
    "    pl.col('rating_right').mean().alias('genre_avg_rating'),\n",
    ")"
   ],
   "id": "ef3965af898f9aa3",
   "outputs": [],
   "execution_count": null
  },
  {
   "metadata": {},
   "cell_type": "code",
   "source": [
    "user_journey_df = combined_df.filter(\n",
    "    pl.col('rating_right').is_not_null()\n",
    ").group_by('user_id').agg(\n",
    "    pl.col('rating_right').mean().alias('avg_user_rating'),\n",
    "    pl.col('rating_right').std().alias('rating_std_dev'),\n",
    "    pl.col('genre').n_unique().alias('unique_genres_count')\n",
    ")\n",
    "\n",
    "user_journey_df"
   ],
   "id": "e0b1a3b7bcf7b9bf",
   "outputs": [],
   "execution_count": null
  },
  {
   "metadata": {},
   "cell_type": "code",
   "source": [
    "genre_exploration_threshold = user_journey_df.select(\n",
    "    pl.col('unique_genres_count').mean()\n",
    ").item()\n",
    "\n",
    "genre_exploration_threshold\n"
   ],
   "id": "fdd8643d51feb48b",
   "outputs": [],
   "execution_count": null
  },
  {
   "metadata": {},
   "cell_type": "code",
   "source": [
    "user_journey_df = user_journey_df.with_columns(\n",
    "    pl.when(pl.col('unique_genres_count') > genre_exploration_threshold)\n",
    "    .then(pl.lit('Explorer'))\n",
    "    .otherwise(pl.lit('Specialist'))\n",
    "    .alias('user_type')\n",
    ")\n",
    "\n",
    "user_journey_df\n"
   ],
   "id": "12894f8ab3e024ac",
   "outputs": [],
   "execution_count": null
  },
  {
   "metadata": {},
   "cell_type": "code",
   "source": [
    "user_segment_analysis = user_journey_df.group_by(\n",
    "    'user_type'\n",
    ").agg(\n",
    "    pl.col('avg_user_rating').mean().alias('mean_of_average_ratings'),\n",
    "    pl.col('rating_std_dev').mean().alias('mean_of_rating_std_dev'),\n",
    "    pl.len().alias('user_count')\n",
    ")\n",
    "\n",
    "user_segment_analysis"
   ],
   "id": "62d457f335dd7a24",
   "outputs": [],
   "execution_count": null
  },
  {
   "metadata": {},
   "cell_type": "code",
   "source": [
    "fig = px.bar(\n",
    "    user_segment_analysis.to_pandas(),\n",
    "    x='user_type',\n",
    "    y=['mean_of_average_ratings', 'mean_of_rating_std_dev'],\n",
    "    barmode='group',\n",
    "    title='Rating Patterns: Genre Specialists vs. Explorers',\n",
    "    labels={'user_type': 'User Type', 'value': 'Rating Metric', 'variable': 'Metric'}\n",
    ")\n",
    "fig.show()"
   ],
   "id": "8663dbcd6a2eaef0",
   "outputs": [],
   "execution_count": null
  },
  {
   "metadata": {},
   "cell_type": "markdown",
   "source": "# Content Intelligence",
   "id": "31df12be68d1a298"
  },
  {
   "metadata": {},
   "cell_type": "code",
   "source": [
    "C = combined_df.select(\n",
    "    pl.col('rating_right').mean()\n",
    ").item()\n",
    "\n",
    "print(f\"Mean rating across all anime (C): {C:.2f}\")"
   ],
   "id": "7b543e7ba3957b2e",
   "outputs": [],
   "execution_count": null
  },
  {
   "metadata": {},
   "cell_type": "code",
   "source": [
    "anime_stats_df = combined_df.group_by(\n",
    "    ['anime_id', 'name']\n",
    ").agg(\n",
    "    pl.col('rating_right').count().alias('v'),\n",
    "    pl.col('rating_right').mean().alias('R'),\n",
    ").drop_nulls()\n",
    "\n",
    "anime_stats_df"
   ],
   "id": "7f20cc300052c0b5",
   "outputs": [],
   "execution_count": null
  },
  {
   "metadata": {},
   "cell_type": "code",
   "source": [
    "m =  anime_stats_df.select(pl.col('v').quantile(0.9, \"higher\")).item()\n",
    "print(f\"Minimum ratings required (m): {m}\")"
   ],
   "id": "f65d5e36d6305c7",
   "outputs": [],
   "execution_count": null
  },
  {
   "metadata": {},
   "cell_type": "code",
   "source": [
    "anime_popularity_df = anime_stats_df.with_columns(\n",
    "    popularity_score = ((pl.col('v') / (pl.col('v') + m)) * pl.col('R') + (m / (pl.col('v') + m)) * C)\n",
    ")\n",
    "\n",
    "anime_popularity_df"
   ],
   "id": "596ef2a3ea763df6",
   "outputs": [],
   "execution_count": null
  },
  {
   "metadata": {},
   "cell_type": "code",
   "source": [
    "top_10_popular_anime = anime_popularity_df.sort('popularity_score', descending=True).head(10)\n",
    "\n",
    "top_10_popular_anime"
   ],
   "id": "6076f648d0a6a673",
   "outputs": [],
   "execution_count": null
  },
  {
   "metadata": {},
   "cell_type": "code",
   "source": [
    "fig = px.bar(\n",
    "    top_10_popular_anime.to_pandas(),\n",
    "    x='name',\n",
    "    y='popularity_score',\n",
    "    title='Top 10 Most Popular Anime by Composite Score',\n",
    "    labels={'name': 'Anime', 'popularity_score': 'Popularity Score'},\n",
    "    color='popularity_score',\n",
    "    color_continuous_scale=px.colors.sequential.Viridis\n",
    ")\n",
    "fig.update_layout(xaxis_tickangle=-45)\n",
    "fig.show()"
   ],
   "id": "cff2151936c2466d",
   "outputs": [],
   "execution_count": null
  },
  {
   "metadata": {},
   "cell_type": "code",
   "source": [
    "anime_agg_df = combined_df.group_by(\n",
    "    ['anime_id', 'name', 'type', 'episodes']\n",
    ").agg(\n",
    "    pl.col('rating_right').mean().alias('avg_rating'),\n",
    ").drop_nulls()\n",
    "\n",
    "anime_agg_df"
   ],
   "id": "1ac0b23f2c11902d",
   "outputs": [],
   "execution_count": null
  },
  {
   "metadata": {},
   "cell_type": "code",
   "source": [
    "fig = px.scatter(\n",
    "    anime_agg_df.to_pandas(),\n",
    "    x='episodes',\n",
    "    y='avg_rating',\n",
    "    color='type',\n",
    "    log_x=True,\n",
    "    title='Episode Count vs. Average Rating by Type (Log Scale)',\n",
    "    labels={'episodes': 'Episodes (log scale)', 'avg_rating': 'Average Rating'},\n",
    "    hover_data=['name']\n",
    ")\n",
    "fig.show()"
   ],
   "id": "5d39fa795322e71b",
   "outputs": [],
   "execution_count": null
  },
  {
   "metadata": {},
   "cell_type": "code",
   "source": [
    "genre_df = combined_df.select(\n",
    "    pl.col(['anime_id', 'genre'])\n",
    ").unique()\n",
    "\n",
    "genre_df"
   ],
   "id": "3616f7f1857a8040",
   "outputs": [],
   "execution_count": null
  },
  {
   "metadata": {},
   "cell_type": "code",
   "source": [
    "episode_genre_df = anime_agg_df.join(genre_df, on='anime_id')\n",
    "episode_genre_df\n"
   ],
   "id": "83d1c65f57bf7677",
   "outputs": [],
   "execution_count": null
  },
  {
   "metadata": {},
   "cell_type": "code",
   "source": [
    "episode_genre_df.group_by(\n",
    "    'genre'\n",
    ").agg(\n",
    "    pl.col('avg_rating').mean().alias('avg_rating_per_genre'),\n",
    "    pl.len().alias('anime_count'),\n",
    ").sort('anime_count', descending=True)"
   ],
   "id": "aeded7bea04a805d",
   "outputs": [],
   "execution_count": null
  },
  {
   "metadata": {},
   "cell_type": "markdown",
   "source": "# Advanced Statistical Analysis",
   "id": "130ca3cbf433cfee"
  },
  {
   "metadata": {},
   "cell_type": "code",
   "source": "",
   "id": "6b393542ed0c0a6a",
   "outputs": [],
   "execution_count": null
  }
 ],
 "metadata": {
  "kernelspec": {
   "display_name": "Python 3",
   "language": "python",
   "name": "python3"
  },
  "language_info": {
   "codemirror_mode": {
    "name": "ipython",
    "version": 2
   },
   "file_extension": ".py",
   "mimetype": "text/x-python",
   "name": "python",
   "nbconvert_exporter": "python",
   "pygments_lexer": "ipython2",
   "version": "2.7.6"
  }
 },
 "nbformat": 4,
 "nbformat_minor": 5
}
