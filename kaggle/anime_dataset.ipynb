{
 "cells": [
  {
   "cell_type": "code",
   "id": "initial_id",
   "metadata": {
    "collapsed": true,
    "ExecuteTime": {
     "end_time": "2025-05-31T11:27:12.797355Z",
     "start_time": "2025-05-31T11:27:10.316692Z"
    }
   },
   "source": [
    "import polars as pl\n",
    "import polars.selectors as cs\n",
    "\n",
    "import altair as alt\n",
    "import plotly.express as px\n",
    "import seaborn as sns\n",
    "import matplotlib.pyplot as plt\n",
    "from seaborn import color_palette\n",
    "\n",
    "import hvplot.polars\n",
    "\n",
    "import datetime as dt"
   ],
   "outputs": [
    {
     "data": {
      "text/html": [
       "<script type=\"esms-options\">{\"shimMode\": true}</script><style>*[data-root-id],\n",
       "*[data-root-id] > * {\n",
       "  box-sizing: border-box;\n",
       "  font-family: var(--jp-ui-font-family);\n",
       "  font-size: var(--jp-ui-font-size1);\n",
       "  color: var(--vscode-editor-foreground, var(--jp-ui-font-color1));\n",
       "}\n",
       "\n",
       "/* Override VSCode background color */\n",
       ".cell-output-ipywidget-background:has(\n",
       "    > .cell-output-ipywidget-background > .lm-Widget > *[data-root-id]\n",
       "  ),\n",
       ".cell-output-ipywidget-background:has(> .lm-Widget > *[data-root-id]) {\n",
       "  background-color: transparent !important;\n",
       "}\n",
       "</style>"
      ]
     },
     "metadata": {},
     "output_type": "display_data"
    },
    {
     "data": {
      "application/javascript": "(function(root) {\n  function now() {\n    return new Date();\n  }\n\n  const force = true;\n  const py_version = '3.7.2'.replace('rc', '-rc.').replace('.dev', '-dev.');\n  const reloading = false;\n  const Bokeh = root.Bokeh;\n\n  // Set a timeout for this load but only if we are not already initializing\n  if (typeof (root._bokeh_timeout) === \"undefined\" || (force || !root._bokeh_is_initializing)) {\n    root._bokeh_timeout = Date.now() + 5000;\n    root._bokeh_failed_load = false;\n  }\n\n  function run_callbacks() {\n    try {\n      root._bokeh_onload_callbacks.forEach(function(callback) {\n        if (callback != null)\n          callback();\n      });\n    } finally {\n      delete root._bokeh_onload_callbacks;\n    }\n    console.debug(\"Bokeh: all callbacks have finished\");\n  }\n\n  function load_libs(css_urls, js_urls, js_modules, js_exports, callback) {\n    if (css_urls == null) css_urls = [];\n    if (js_urls == null) js_urls = [];\n    if (js_modules == null) js_modules = [];\n    if (js_exports == null) js_exports = {};\n\n    root._bokeh_onload_callbacks.push(callback);\n\n    if (root._bokeh_is_loading > 0) {\n      // Don't load bokeh if it is still initializing\n      console.debug(\"Bokeh: BokehJS is being loaded, scheduling callback at\", now());\n      return null;\n    } else if (js_urls.length === 0 && js_modules.length === 0 && Object.keys(js_exports).length === 0) {\n      // There is nothing to load\n      run_callbacks();\n      return null;\n    }\n\n    function on_load() {\n      root._bokeh_is_loading--;\n      if (root._bokeh_is_loading === 0) {\n        console.debug(\"Bokeh: all BokehJS libraries/stylesheets loaded\");\n        run_callbacks()\n      }\n    }\n    window._bokeh_on_load = on_load\n\n    function on_error(e) {\n      const src_el = e.srcElement\n      console.error(\"failed to load \" + (src_el.href || src_el.src));\n    }\n\n    const skip = [];\n    if (window.requirejs) {\n      window.requirejs.config({'packages': {}, 'paths': {}, 'shim': {}});\n      root._bokeh_is_loading = css_urls.length + 0;\n    } else {\n      root._bokeh_is_loading = css_urls.length + js_urls.length + js_modules.length + Object.keys(js_exports).length;\n    }\n\n    const existing_stylesheets = []\n    const links = document.getElementsByTagName('link')\n    for (let i = 0; i < links.length; i++) {\n      const link = links[i]\n      if (link.href != null) {\n        existing_stylesheets.push(link.href)\n      }\n    }\n    for (let i = 0; i < css_urls.length; i++) {\n      const url = css_urls[i];\n      const escaped = encodeURI(url)\n      if (existing_stylesheets.indexOf(escaped) !== -1) {\n        on_load()\n        continue;\n      }\n      const element = document.createElement(\"link\");\n      element.onload = on_load;\n      element.onerror = on_error;\n      element.rel = \"stylesheet\";\n      element.type = \"text/css\";\n      element.href = url;\n      console.debug(\"Bokeh: injecting link tag for BokehJS stylesheet: \", url);\n      document.body.appendChild(element);\n    }    var existing_scripts = []\n    const scripts = document.getElementsByTagName('script')\n    for (let i = 0; i < scripts.length; i++) {\n      var script = scripts[i]\n      if (script.src != null) {\n        existing_scripts.push(script.src)\n      }\n    }\n    for (let i = 0; i < js_urls.length; i++) {\n      const url = js_urls[i];\n      const escaped = encodeURI(url)\n      if (skip.indexOf(escaped) !== -1 || existing_scripts.indexOf(escaped) !== -1) {\n        if (!window.requirejs) {\n          on_load();\n        }\n        continue;\n      }\n      const element = document.createElement('script');\n      element.onload = on_load;\n      element.onerror = on_error;\n      element.async = false;\n      element.src = url;\n      console.debug(\"Bokeh: injecting script tag for BokehJS library: \", url);\n      document.head.appendChild(element);\n    }\n    for (let i = 0; i < js_modules.length; i++) {\n      const url = js_modules[i];\n      const escaped = encodeURI(url)\n      if (skip.indexOf(escaped) !== -1 || existing_scripts.indexOf(escaped) !== -1) {\n        if (!window.requirejs) {\n          on_load();\n        }\n        continue;\n      }\n      var element = document.createElement('script');\n      element.onload = on_load;\n      element.onerror = on_error;\n      element.async = false;\n      element.src = url;\n      element.type = \"module\";\n      console.debug(\"Bokeh: injecting script tag for BokehJS library: \", url);\n      document.head.appendChild(element);\n    }\n    for (const name in js_exports) {\n      const url = js_exports[name];\n      const escaped = encodeURI(url)\n      if (skip.indexOf(escaped) >= 0 || root[name] != null) {\n        if (!window.requirejs) {\n          on_load();\n        }\n        continue;\n      }\n      var element = document.createElement('script');\n      element.onerror = on_error;\n      element.async = false;\n      element.type = \"module\";\n      console.debug(\"Bokeh: injecting script tag for BokehJS library: \", url);\n      element.textContent = `\n      import ${name} from \"${url}\"\n      window.${name} = ${name}\n      window._bokeh_on_load()\n      `\n      document.head.appendChild(element);\n    }\n    if (!js_urls.length && !js_modules.length) {\n      on_load()\n    }\n  };\n\n  function inject_raw_css(css) {\n    const element = document.createElement(\"style\");\n    element.appendChild(document.createTextNode(css));\n    document.body.appendChild(element);\n  }\n\n  const js_urls = [\"https://cdn.holoviz.org/panel/1.6.3/dist/bundled/reactiveesm/es-module-shims@^1.10.0/dist/es-module-shims.min.js\", \"https://cdn.bokeh.org/bokeh/release/bokeh-3.7.2.min.js\", \"https://cdn.bokeh.org/bokeh/release/bokeh-gl-3.7.2.min.js\", \"https://cdn.bokeh.org/bokeh/release/bokeh-widgets-3.7.2.min.js\", \"https://cdn.bokeh.org/bokeh/release/bokeh-tables-3.7.2.min.js\", \"https://cdn.holoviz.org/panel/1.6.3/dist/panel.min.js\"];\n  const js_modules = [];\n  const js_exports = {};\n  const css_urls = [];\n  const inline_js = [    function(Bokeh) {\n      Bokeh.set_log_level(\"info\");\n    },\nfunction(Bokeh) {} // ensure no trailing comma for IE\n  ];\n\n  function run_inline_js() {\n    if ((root.Bokeh !== undefined) || (force === true)) {\n      for (let i = 0; i < inline_js.length; i++) {\n        try {\n          inline_js[i].call(root, root.Bokeh);\n        } catch(e) {\n          if (!reloading) {\n            throw e;\n          }\n        }\n      }\n      // Cache old bokeh versions\n      if (Bokeh != undefined && !reloading) {\n        var NewBokeh = root.Bokeh;\n        if (Bokeh.versions === undefined) {\n          Bokeh.versions = new Map();\n        }\n        if (NewBokeh.version !== Bokeh.version) {\n          Bokeh.versions.set(NewBokeh.version, NewBokeh)\n        }\n        root.Bokeh = Bokeh;\n      }\n    } else if (Date.now() < root._bokeh_timeout) {\n      setTimeout(run_inline_js, 100);\n    } else if (!root._bokeh_failed_load) {\n      console.log(\"Bokeh: BokehJS failed to load within specified timeout.\");\n      root._bokeh_failed_load = true;\n    }\n    root._bokeh_is_initializing = false\n  }\n\n  function load_or_wait() {\n    // Implement a backoff loop that tries to ensure we do not load multiple\n    // versions of Bokeh and its dependencies at the same time.\n    // In recent versions we use the root._bokeh_is_initializing flag\n    // to determine whether there is an ongoing attempt to initialize\n    // bokeh, however for backward compatibility we also try to ensure\n    // that we do not start loading a newer (Panel>=1.0 and Bokeh>3) version\n    // before older versions are fully initialized.\n    if (root._bokeh_is_initializing && Date.now() > root._bokeh_timeout) {\n      // If the timeout and bokeh was not successfully loaded we reset\n      // everything and try loading again\n      root._bokeh_timeout = Date.now() + 5000;\n      root._bokeh_is_initializing = false;\n      root._bokeh_onload_callbacks = undefined;\n      root._bokeh_is_loading = 0\n      console.log(\"Bokeh: BokehJS was loaded multiple times but one version failed to initialize.\");\n      load_or_wait();\n    } else if (root._bokeh_is_initializing || (typeof root._bokeh_is_initializing === \"undefined\" && root._bokeh_onload_callbacks !== undefined)) {\n      setTimeout(load_or_wait, 100);\n    } else {\n      root._bokeh_is_initializing = true\n      root._bokeh_onload_callbacks = []\n      const bokeh_loaded = root.Bokeh != null && (root.Bokeh.version === py_version || (root.Bokeh.versions !== undefined && root.Bokeh.versions.has(py_version)));\n      if (!reloading && !bokeh_loaded) {\n        if (root.Bokeh) {\n          root.Bokeh = undefined;\n        }\n        console.debug(\"Bokeh: BokehJS not loaded, scheduling load and callback at\", now());\n      }\n      load_libs(css_urls, js_urls, js_modules, js_exports, function() {\n        console.debug(\"Bokeh: BokehJS plotting callback run at\", now());\n        run_inline_js();\n      });\n    }\n  }\n  // Give older versions of the autoload script a head-start to ensure\n  // they initialize before we start loading newer version.\n  setTimeout(load_or_wait, 100)\n}(window));",
      "application/vnd.holoviews_load.v0+json": "(function(root) {\n  function now() {\n    return new Date();\n  }\n\n  const force = true;\n  const py_version = '3.7.2'.replace('rc', '-rc.').replace('.dev', '-dev.');\n  const reloading = false;\n  const Bokeh = root.Bokeh;\n\n  // Set a timeout for this load but only if we are not already initializing\n  if (typeof (root._bokeh_timeout) === \"undefined\" || (force || !root._bokeh_is_initializing)) {\n    root._bokeh_timeout = Date.now() + 5000;\n    root._bokeh_failed_load = false;\n  }\n\n  function run_callbacks() {\n    try {\n      root._bokeh_onload_callbacks.forEach(function(callback) {\n        if (callback != null)\n          callback();\n      });\n    } finally {\n      delete root._bokeh_onload_callbacks;\n    }\n    console.debug(\"Bokeh: all callbacks have finished\");\n  }\n\n  function load_libs(css_urls, js_urls, js_modules, js_exports, callback) {\n    if (css_urls == null) css_urls = [];\n    if (js_urls == null) js_urls = [];\n    if (js_modules == null) js_modules = [];\n    if (js_exports == null) js_exports = {};\n\n    root._bokeh_onload_callbacks.push(callback);\n\n    if (root._bokeh_is_loading > 0) {\n      // Don't load bokeh if it is still initializing\n      console.debug(\"Bokeh: BokehJS is being loaded, scheduling callback at\", now());\n      return null;\n    } else if (js_urls.length === 0 && js_modules.length === 0 && Object.keys(js_exports).length === 0) {\n      // There is nothing to load\n      run_callbacks();\n      return null;\n    }\n\n    function on_load() {\n      root._bokeh_is_loading--;\n      if (root._bokeh_is_loading === 0) {\n        console.debug(\"Bokeh: all BokehJS libraries/stylesheets loaded\");\n        run_callbacks()\n      }\n    }\n    window._bokeh_on_load = on_load\n\n    function on_error(e) {\n      const src_el = e.srcElement\n      console.error(\"failed to load \" + (src_el.href || src_el.src));\n    }\n\n    const skip = [];\n    if (window.requirejs) {\n      window.requirejs.config({'packages': {}, 'paths': {}, 'shim': {}});\n      root._bokeh_is_loading = css_urls.length + 0;\n    } else {\n      root._bokeh_is_loading = css_urls.length + js_urls.length + js_modules.length + Object.keys(js_exports).length;\n    }\n\n    const existing_stylesheets = []\n    const links = document.getElementsByTagName('link')\n    for (let i = 0; i < links.length; i++) {\n      const link = links[i]\n      if (link.href != null) {\n        existing_stylesheets.push(link.href)\n      }\n    }\n    for (let i = 0; i < css_urls.length; i++) {\n      const url = css_urls[i];\n      const escaped = encodeURI(url)\n      if (existing_stylesheets.indexOf(escaped) !== -1) {\n        on_load()\n        continue;\n      }\n      const element = document.createElement(\"link\");\n      element.onload = on_load;\n      element.onerror = on_error;\n      element.rel = \"stylesheet\";\n      element.type = \"text/css\";\n      element.href = url;\n      console.debug(\"Bokeh: injecting link tag for BokehJS stylesheet: \", url);\n      document.body.appendChild(element);\n    }    var existing_scripts = []\n    const scripts = document.getElementsByTagName('script')\n    for (let i = 0; i < scripts.length; i++) {\n      var script = scripts[i]\n      if (script.src != null) {\n        existing_scripts.push(script.src)\n      }\n    }\n    for (let i = 0; i < js_urls.length; i++) {\n      const url = js_urls[i];\n      const escaped = encodeURI(url)\n      if (skip.indexOf(escaped) !== -1 || existing_scripts.indexOf(escaped) !== -1) {\n        if (!window.requirejs) {\n          on_load();\n        }\n        continue;\n      }\n      const element = document.createElement('script');\n      element.onload = on_load;\n      element.onerror = on_error;\n      element.async = false;\n      element.src = url;\n      console.debug(\"Bokeh: injecting script tag for BokehJS library: \", url);\n      document.head.appendChild(element);\n    }\n    for (let i = 0; i < js_modules.length; i++) {\n      const url = js_modules[i];\n      const escaped = encodeURI(url)\n      if (skip.indexOf(escaped) !== -1 || existing_scripts.indexOf(escaped) !== -1) {\n        if (!window.requirejs) {\n          on_load();\n        }\n        continue;\n      }\n      var element = document.createElement('script');\n      element.onload = on_load;\n      element.onerror = on_error;\n      element.async = false;\n      element.src = url;\n      element.type = \"module\";\n      console.debug(\"Bokeh: injecting script tag for BokehJS library: \", url);\n      document.head.appendChild(element);\n    }\n    for (const name in js_exports) {\n      const url = js_exports[name];\n      const escaped = encodeURI(url)\n      if (skip.indexOf(escaped) >= 0 || root[name] != null) {\n        if (!window.requirejs) {\n          on_load();\n        }\n        continue;\n      }\n      var element = document.createElement('script');\n      element.onerror = on_error;\n      element.async = false;\n      element.type = \"module\";\n      console.debug(\"Bokeh: injecting script tag for BokehJS library: \", url);\n      element.textContent = `\n      import ${name} from \"${url}\"\n      window.${name} = ${name}\n      window._bokeh_on_load()\n      `\n      document.head.appendChild(element);\n    }\n    if (!js_urls.length && !js_modules.length) {\n      on_load()\n    }\n  };\n\n  function inject_raw_css(css) {\n    const element = document.createElement(\"style\");\n    element.appendChild(document.createTextNode(css));\n    document.body.appendChild(element);\n  }\n\n  const js_urls = [\"https://cdn.holoviz.org/panel/1.6.3/dist/bundled/reactiveesm/es-module-shims@^1.10.0/dist/es-module-shims.min.js\", \"https://cdn.bokeh.org/bokeh/release/bokeh-3.7.2.min.js\", \"https://cdn.bokeh.org/bokeh/release/bokeh-gl-3.7.2.min.js\", \"https://cdn.bokeh.org/bokeh/release/bokeh-widgets-3.7.2.min.js\", \"https://cdn.bokeh.org/bokeh/release/bokeh-tables-3.7.2.min.js\", \"https://cdn.holoviz.org/panel/1.6.3/dist/panel.min.js\"];\n  const js_modules = [];\n  const js_exports = {};\n  const css_urls = [];\n  const inline_js = [    function(Bokeh) {\n      Bokeh.set_log_level(\"info\");\n    },\nfunction(Bokeh) {} // ensure no trailing comma for IE\n  ];\n\n  function run_inline_js() {\n    if ((root.Bokeh !== undefined) || (force === true)) {\n      for (let i = 0; i < inline_js.length; i++) {\n        try {\n          inline_js[i].call(root, root.Bokeh);\n        } catch(e) {\n          if (!reloading) {\n            throw e;\n          }\n        }\n      }\n      // Cache old bokeh versions\n      if (Bokeh != undefined && !reloading) {\n        var NewBokeh = root.Bokeh;\n        if (Bokeh.versions === undefined) {\n          Bokeh.versions = new Map();\n        }\n        if (NewBokeh.version !== Bokeh.version) {\n          Bokeh.versions.set(NewBokeh.version, NewBokeh)\n        }\n        root.Bokeh = Bokeh;\n      }\n    } else if (Date.now() < root._bokeh_timeout) {\n      setTimeout(run_inline_js, 100);\n    } else if (!root._bokeh_failed_load) {\n      console.log(\"Bokeh: BokehJS failed to load within specified timeout.\");\n      root._bokeh_failed_load = true;\n    }\n    root._bokeh_is_initializing = false\n  }\n\n  function load_or_wait() {\n    // Implement a backoff loop that tries to ensure we do not load multiple\n    // versions of Bokeh and its dependencies at the same time.\n    // In recent versions we use the root._bokeh_is_initializing flag\n    // to determine whether there is an ongoing attempt to initialize\n    // bokeh, however for backward compatibility we also try to ensure\n    // that we do not start loading a newer (Panel>=1.0 and Bokeh>3) version\n    // before older versions are fully initialized.\n    if (root._bokeh_is_initializing && Date.now() > root._bokeh_timeout) {\n      // If the timeout and bokeh was not successfully loaded we reset\n      // everything and try loading again\n      root._bokeh_timeout = Date.now() + 5000;\n      root._bokeh_is_initializing = false;\n      root._bokeh_onload_callbacks = undefined;\n      root._bokeh_is_loading = 0\n      console.log(\"Bokeh: BokehJS was loaded multiple times but one version failed to initialize.\");\n      load_or_wait();\n    } else if (root._bokeh_is_initializing || (typeof root._bokeh_is_initializing === \"undefined\" && root._bokeh_onload_callbacks !== undefined)) {\n      setTimeout(load_or_wait, 100);\n    } else {\n      root._bokeh_is_initializing = true\n      root._bokeh_onload_callbacks = []\n      const bokeh_loaded = root.Bokeh != null && (root.Bokeh.version === py_version || (root.Bokeh.versions !== undefined && root.Bokeh.versions.has(py_version)));\n      if (!reloading && !bokeh_loaded) {\n        if (root.Bokeh) {\n          root.Bokeh = undefined;\n        }\n        console.debug(\"Bokeh: BokehJS not loaded, scheduling load and callback at\", now());\n      }\n      load_libs(css_urls, js_urls, js_modules, js_exports, function() {\n        console.debug(\"Bokeh: BokehJS plotting callback run at\", now());\n        run_inline_js();\n      });\n    }\n  }\n  // Give older versions of the autoload script a head-start to ensure\n  // they initialize before we start loading newer version.\n  setTimeout(load_or_wait, 100)\n}(window));"
     },
     "metadata": {},
     "output_type": "display_data"
    },
    {
     "data": {
      "application/vnd.holoviews_load.v0+json": "\nif ((window.PyViz === undefined) || (window.PyViz instanceof HTMLElement)) {\n  window.PyViz = {comms: {}, comm_status:{}, kernels:{}, receivers: {}, plot_index: []}\n}\n\n\n    function JupyterCommManager() {\n    }\n\n    JupyterCommManager.prototype.register_target = function(plot_id, comm_id, msg_handler) {\n      if (window.comm_manager || ((window.Jupyter !== undefined) && (Jupyter.notebook.kernel != null))) {\n        var comm_manager = window.comm_manager || Jupyter.notebook.kernel.comm_manager;\n        comm_manager.register_target(comm_id, function(comm) {\n          comm.on_msg(msg_handler);\n        });\n      } else if ((plot_id in window.PyViz.kernels) && (window.PyViz.kernels[plot_id])) {\n        window.PyViz.kernels[plot_id].registerCommTarget(comm_id, function(comm) {\n          comm.onMsg = msg_handler;\n        });\n      } else if (typeof google != 'undefined' && google.colab.kernel != null) {\n        google.colab.kernel.comms.registerTarget(comm_id, (comm) => {\n          var messages = comm.messages[Symbol.asyncIterator]();\n          function processIteratorResult(result) {\n            var message = result.value;\n            console.log(message)\n            var content = {data: message.data, comm_id};\n            var buffers = []\n            for (var buffer of message.buffers || []) {\n              buffers.push(new DataView(buffer))\n            }\n            var metadata = message.metadata || {};\n            var msg = {content, buffers, metadata}\n            msg_handler(msg);\n            return messages.next().then(processIteratorResult);\n          }\n          return messages.next().then(processIteratorResult);\n        })\n      }\n    }\n\n    JupyterCommManager.prototype.get_client_comm = function(plot_id, comm_id, msg_handler) {\n      if (comm_id in window.PyViz.comms) {\n        return window.PyViz.comms[comm_id];\n      } else if (window.comm_manager || ((window.Jupyter !== undefined) && (Jupyter.notebook.kernel != null))) {\n        var comm_manager = window.comm_manager || Jupyter.notebook.kernel.comm_manager;\n        var comm = comm_manager.new_comm(comm_id, {}, {}, {}, comm_id);\n        if (msg_handler) {\n          comm.on_msg(msg_handler);\n        }\n      } else if ((plot_id in window.PyViz.kernels) && (window.PyViz.kernels[plot_id])) {\n        var comm = window.PyViz.kernels[plot_id].connectToComm(comm_id);\n        comm.open();\n        if (msg_handler) {\n          comm.onMsg = msg_handler;\n        }\n      } else if (typeof google != 'undefined' && google.colab.kernel != null) {\n        var comm_promise = google.colab.kernel.comms.open(comm_id)\n        comm_promise.then((comm) => {\n          window.PyViz.comms[comm_id] = comm;\n          if (msg_handler) {\n            var messages = comm.messages[Symbol.asyncIterator]();\n            function processIteratorResult(result) {\n              var message = result.value;\n              var content = {data: message.data};\n              var metadata = message.metadata || {comm_id};\n              var msg = {content, metadata}\n              msg_handler(msg);\n              return messages.next().then(processIteratorResult);\n            }\n            return messages.next().then(processIteratorResult);\n          }\n        })\n        var sendClosure = (data, metadata, buffers, disposeOnDone) => {\n          return comm_promise.then((comm) => {\n            comm.send(data, metadata, buffers, disposeOnDone);\n          });\n        };\n        var comm = {\n          send: sendClosure\n        };\n      }\n      window.PyViz.comms[comm_id] = comm;\n      return comm;\n    }\n    window.PyViz.comm_manager = new JupyterCommManager();\n    \n\n\nvar JS_MIME_TYPE = 'application/javascript';\nvar HTML_MIME_TYPE = 'text/html';\nvar EXEC_MIME_TYPE = 'application/vnd.holoviews_exec.v0+json';\nvar CLASS_NAME = 'output';\n\n/**\n * Render data to the DOM node\n */\nfunction render(props, node) {\n  var div = document.createElement(\"div\");\n  var script = document.createElement(\"script\");\n  node.appendChild(div);\n  node.appendChild(script);\n}\n\n/**\n * Handle when a new output is added\n */\nfunction handle_add_output(event, handle) {\n  var output_area = handle.output_area;\n  var output = handle.output;\n  if ((output.data == undefined) || (!output.data.hasOwnProperty(EXEC_MIME_TYPE))) {\n    return\n  }\n  var id = output.metadata[EXEC_MIME_TYPE][\"id\"];\n  var toinsert = output_area.element.find(\".\" + CLASS_NAME.split(' ')[0]);\n  if (id !== undefined) {\n    var nchildren = toinsert.length;\n    var html_node = toinsert[nchildren-1].children[0];\n    html_node.innerHTML = output.data[HTML_MIME_TYPE];\n    var scripts = [];\n    var nodelist = html_node.querySelectorAll(\"script\");\n    for (var i in nodelist) {\n      if (nodelist.hasOwnProperty(i)) {\n        scripts.push(nodelist[i])\n      }\n    }\n\n    scripts.forEach( function (oldScript) {\n      var newScript = document.createElement(\"script\");\n      var attrs = [];\n      var nodemap = oldScript.attributes;\n      for (var j in nodemap) {\n        if (nodemap.hasOwnProperty(j)) {\n          attrs.push(nodemap[j])\n        }\n      }\n      attrs.forEach(function(attr) { newScript.setAttribute(attr.name, attr.value) });\n      newScript.appendChild(document.createTextNode(oldScript.innerHTML));\n      oldScript.parentNode.replaceChild(newScript, oldScript);\n    });\n    if (JS_MIME_TYPE in output.data) {\n      toinsert[nchildren-1].children[1].textContent = output.data[JS_MIME_TYPE];\n    }\n    output_area._hv_plot_id = id;\n    if ((window.Bokeh !== undefined) && (id in Bokeh.index)) {\n      window.PyViz.plot_index[id] = Bokeh.index[id];\n    } else {\n      window.PyViz.plot_index[id] = null;\n    }\n  } else if (output.metadata[EXEC_MIME_TYPE][\"server_id\"] !== undefined) {\n    var bk_div = document.createElement(\"div\");\n    bk_div.innerHTML = output.data[HTML_MIME_TYPE];\n    var script_attrs = bk_div.children[0].attributes;\n    for (var i = 0; i < script_attrs.length; i++) {\n      toinsert[toinsert.length - 1].childNodes[1].setAttribute(script_attrs[i].name, script_attrs[i].value);\n    }\n    // store reference to server id on output_area\n    output_area._bokeh_server_id = output.metadata[EXEC_MIME_TYPE][\"server_id\"];\n  }\n}\n\n/**\n * Handle when an output is cleared or removed\n */\nfunction handle_clear_output(event, handle) {\n  var id = handle.cell.output_area._hv_plot_id;\n  var server_id = handle.cell.output_area._bokeh_server_id;\n  if (((id === undefined) || !(id in PyViz.plot_index)) && (server_id !== undefined)) { return; }\n  var comm = window.PyViz.comm_manager.get_client_comm(\"hv-extension-comm\", \"hv-extension-comm\", function () {});\n  if (server_id !== null) {\n    comm.send({event_type: 'server_delete', 'id': server_id});\n    return;\n  } else if (comm !== null) {\n    comm.send({event_type: 'delete', 'id': id});\n  }\n  delete PyViz.plot_index[id];\n  if ((window.Bokeh !== undefined) & (id in window.Bokeh.index)) {\n    var doc = window.Bokeh.index[id].model.document\n    doc.clear();\n    const i = window.Bokeh.documents.indexOf(doc);\n    if (i > -1) {\n      window.Bokeh.documents.splice(i, 1);\n    }\n  }\n}\n\n/**\n * Handle kernel restart event\n */\nfunction handle_kernel_cleanup(event, handle) {\n  delete PyViz.comms[\"hv-extension-comm\"];\n  window.PyViz.plot_index = {}\n}\n\n/**\n * Handle update_display_data messages\n */\nfunction handle_update_output(event, handle) {\n  handle_clear_output(event, {cell: {output_area: handle.output_area}})\n  handle_add_output(event, handle)\n}\n\nfunction register_renderer(events, OutputArea) {\n  function append_mime(data, metadata, element) {\n    // create a DOM node to render to\n    var toinsert = this.create_output_subarea(\n    metadata,\n    CLASS_NAME,\n    EXEC_MIME_TYPE\n    );\n    this.keyboard_manager.register_events(toinsert);\n    // Render to node\n    var props = {data: data, metadata: metadata[EXEC_MIME_TYPE]};\n    render(props, toinsert[0]);\n    element.append(toinsert);\n    return toinsert\n  }\n\n  events.on('output_added.OutputArea', handle_add_output);\n  events.on('output_updated.OutputArea', handle_update_output);\n  events.on('clear_output.CodeCell', handle_clear_output);\n  events.on('delete.Cell', handle_clear_output);\n  events.on('kernel_ready.Kernel', handle_kernel_cleanup);\n\n  OutputArea.prototype.register_mime_type(EXEC_MIME_TYPE, append_mime, {\n    safe: true,\n    index: 0\n  });\n}\n\nif (window.Jupyter !== undefined) {\n  try {\n    var events = require('base/js/events');\n    var OutputArea = require('notebook/js/outputarea').OutputArea;\n    if (OutputArea.prototype.mime_types().indexOf(EXEC_MIME_TYPE) == -1) {\n      register_renderer(events, OutputArea);\n    }\n  } catch(err) {\n  }\n}\n",
      "application/javascript": "\nif ((window.PyViz === undefined) || (window.PyViz instanceof HTMLElement)) {\n  window.PyViz = {comms: {}, comm_status:{}, kernels:{}, receivers: {}, plot_index: []}\n}\n\n\n    function JupyterCommManager() {\n    }\n\n    JupyterCommManager.prototype.register_target = function(plot_id, comm_id, msg_handler) {\n      if (window.comm_manager || ((window.Jupyter !== undefined) && (Jupyter.notebook.kernel != null))) {\n        var comm_manager = window.comm_manager || Jupyter.notebook.kernel.comm_manager;\n        comm_manager.register_target(comm_id, function(comm) {\n          comm.on_msg(msg_handler);\n        });\n      } else if ((plot_id in window.PyViz.kernels) && (window.PyViz.kernels[plot_id])) {\n        window.PyViz.kernels[plot_id].registerCommTarget(comm_id, function(comm) {\n          comm.onMsg = msg_handler;\n        });\n      } else if (typeof google != 'undefined' && google.colab.kernel != null) {\n        google.colab.kernel.comms.registerTarget(comm_id, (comm) => {\n          var messages = comm.messages[Symbol.asyncIterator]();\n          function processIteratorResult(result) {\n            var message = result.value;\n            console.log(message)\n            var content = {data: message.data, comm_id};\n            var buffers = []\n            for (var buffer of message.buffers || []) {\n              buffers.push(new DataView(buffer))\n            }\n            var metadata = message.metadata || {};\n            var msg = {content, buffers, metadata}\n            msg_handler(msg);\n            return messages.next().then(processIteratorResult);\n          }\n          return messages.next().then(processIteratorResult);\n        })\n      }\n    }\n\n    JupyterCommManager.prototype.get_client_comm = function(plot_id, comm_id, msg_handler) {\n      if (comm_id in window.PyViz.comms) {\n        return window.PyViz.comms[comm_id];\n      } else if (window.comm_manager || ((window.Jupyter !== undefined) && (Jupyter.notebook.kernel != null))) {\n        var comm_manager = window.comm_manager || Jupyter.notebook.kernel.comm_manager;\n        var comm = comm_manager.new_comm(comm_id, {}, {}, {}, comm_id);\n        if (msg_handler) {\n          comm.on_msg(msg_handler);\n        }\n      } else if ((plot_id in window.PyViz.kernels) && (window.PyViz.kernels[plot_id])) {\n        var comm = window.PyViz.kernels[plot_id].connectToComm(comm_id);\n        comm.open();\n        if (msg_handler) {\n          comm.onMsg = msg_handler;\n        }\n      } else if (typeof google != 'undefined' && google.colab.kernel != null) {\n        var comm_promise = google.colab.kernel.comms.open(comm_id)\n        comm_promise.then((comm) => {\n          window.PyViz.comms[comm_id] = comm;\n          if (msg_handler) {\n            var messages = comm.messages[Symbol.asyncIterator]();\n            function processIteratorResult(result) {\n              var message = result.value;\n              var content = {data: message.data};\n              var metadata = message.metadata || {comm_id};\n              var msg = {content, metadata}\n              msg_handler(msg);\n              return messages.next().then(processIteratorResult);\n            }\n            return messages.next().then(processIteratorResult);\n          }\n        })\n        var sendClosure = (data, metadata, buffers, disposeOnDone) => {\n          return comm_promise.then((comm) => {\n            comm.send(data, metadata, buffers, disposeOnDone);\n          });\n        };\n        var comm = {\n          send: sendClosure\n        };\n      }\n      window.PyViz.comms[comm_id] = comm;\n      return comm;\n    }\n    window.PyViz.comm_manager = new JupyterCommManager();\n    \n\n\nvar JS_MIME_TYPE = 'application/javascript';\nvar HTML_MIME_TYPE = 'text/html';\nvar EXEC_MIME_TYPE = 'application/vnd.holoviews_exec.v0+json';\nvar CLASS_NAME = 'output';\n\n/**\n * Render data to the DOM node\n */\nfunction render(props, node) {\n  var div = document.createElement(\"div\");\n  var script = document.createElement(\"script\");\n  node.appendChild(div);\n  node.appendChild(script);\n}\n\n/**\n * Handle when a new output is added\n */\nfunction handle_add_output(event, handle) {\n  var output_area = handle.output_area;\n  var output = handle.output;\n  if ((output.data == undefined) || (!output.data.hasOwnProperty(EXEC_MIME_TYPE))) {\n    return\n  }\n  var id = output.metadata[EXEC_MIME_TYPE][\"id\"];\n  var toinsert = output_area.element.find(\".\" + CLASS_NAME.split(' ')[0]);\n  if (id !== undefined) {\n    var nchildren = toinsert.length;\n    var html_node = toinsert[nchildren-1].children[0];\n    html_node.innerHTML = output.data[HTML_MIME_TYPE];\n    var scripts = [];\n    var nodelist = html_node.querySelectorAll(\"script\");\n    for (var i in nodelist) {\n      if (nodelist.hasOwnProperty(i)) {\n        scripts.push(nodelist[i])\n      }\n    }\n\n    scripts.forEach( function (oldScript) {\n      var newScript = document.createElement(\"script\");\n      var attrs = [];\n      var nodemap = oldScript.attributes;\n      for (var j in nodemap) {\n        if (nodemap.hasOwnProperty(j)) {\n          attrs.push(nodemap[j])\n        }\n      }\n      attrs.forEach(function(attr) { newScript.setAttribute(attr.name, attr.value) });\n      newScript.appendChild(document.createTextNode(oldScript.innerHTML));\n      oldScript.parentNode.replaceChild(newScript, oldScript);\n    });\n    if (JS_MIME_TYPE in output.data) {\n      toinsert[nchildren-1].children[1].textContent = output.data[JS_MIME_TYPE];\n    }\n    output_area._hv_plot_id = id;\n    if ((window.Bokeh !== undefined) && (id in Bokeh.index)) {\n      window.PyViz.plot_index[id] = Bokeh.index[id];\n    } else {\n      window.PyViz.plot_index[id] = null;\n    }\n  } else if (output.metadata[EXEC_MIME_TYPE][\"server_id\"] !== undefined) {\n    var bk_div = document.createElement(\"div\");\n    bk_div.innerHTML = output.data[HTML_MIME_TYPE];\n    var script_attrs = bk_div.children[0].attributes;\n    for (var i = 0; i < script_attrs.length; i++) {\n      toinsert[toinsert.length - 1].childNodes[1].setAttribute(script_attrs[i].name, script_attrs[i].value);\n    }\n    // store reference to server id on output_area\n    output_area._bokeh_server_id = output.metadata[EXEC_MIME_TYPE][\"server_id\"];\n  }\n}\n\n/**\n * Handle when an output is cleared or removed\n */\nfunction handle_clear_output(event, handle) {\n  var id = handle.cell.output_area._hv_plot_id;\n  var server_id = handle.cell.output_area._bokeh_server_id;\n  if (((id === undefined) || !(id in PyViz.plot_index)) && (server_id !== undefined)) { return; }\n  var comm = window.PyViz.comm_manager.get_client_comm(\"hv-extension-comm\", \"hv-extension-comm\", function () {});\n  if (server_id !== null) {\n    comm.send({event_type: 'server_delete', 'id': server_id});\n    return;\n  } else if (comm !== null) {\n    comm.send({event_type: 'delete', 'id': id});\n  }\n  delete PyViz.plot_index[id];\n  if ((window.Bokeh !== undefined) & (id in window.Bokeh.index)) {\n    var doc = window.Bokeh.index[id].model.document\n    doc.clear();\n    const i = window.Bokeh.documents.indexOf(doc);\n    if (i > -1) {\n      window.Bokeh.documents.splice(i, 1);\n    }\n  }\n}\n\n/**\n * Handle kernel restart event\n */\nfunction handle_kernel_cleanup(event, handle) {\n  delete PyViz.comms[\"hv-extension-comm\"];\n  window.PyViz.plot_index = {}\n}\n\n/**\n * Handle update_display_data messages\n */\nfunction handle_update_output(event, handle) {\n  handle_clear_output(event, {cell: {output_area: handle.output_area}})\n  handle_add_output(event, handle)\n}\n\nfunction register_renderer(events, OutputArea) {\n  function append_mime(data, metadata, element) {\n    // create a DOM node to render to\n    var toinsert = this.create_output_subarea(\n    metadata,\n    CLASS_NAME,\n    EXEC_MIME_TYPE\n    );\n    this.keyboard_manager.register_events(toinsert);\n    // Render to node\n    var props = {data: data, metadata: metadata[EXEC_MIME_TYPE]};\n    render(props, toinsert[0]);\n    element.append(toinsert);\n    return toinsert\n  }\n\n  events.on('output_added.OutputArea', handle_add_output);\n  events.on('output_updated.OutputArea', handle_update_output);\n  events.on('clear_output.CodeCell', handle_clear_output);\n  events.on('delete.Cell', handle_clear_output);\n  events.on('kernel_ready.Kernel', handle_kernel_cleanup);\n\n  OutputArea.prototype.register_mime_type(EXEC_MIME_TYPE, append_mime, {\n    safe: true,\n    index: 0\n  });\n}\n\nif (window.Jupyter !== undefined) {\n  try {\n    var events = require('base/js/events');\n    var OutputArea = require('notebook/js/outputarea').OutputArea;\n    if (OutputArea.prototype.mime_types().indexOf(EXEC_MIME_TYPE) == -1) {\n      register_renderer(events, OutputArea);\n    }\n  } catch(err) {\n  }\n}\n"
     },
     "metadata": {},
     "output_type": "display_data"
    },
    {
     "data": {
      "text/html": [
       "<div id='10f85394-bb16-4114-83cc-b57ad9f30f72'>\n",
       "  <div id=\"c9c4baec-3666-4fdc-958e-5ec94c89cac2\" data-root-id=\"10f85394-bb16-4114-83cc-b57ad9f30f72\" style=\"display: contents;\"></div>\n",
       "</div>\n",
       "<script type=\"application/javascript\">(function(root) {\n",
       "  var docs_json = {\"d7dd0491-4d2e-4831-8125-f203d2681e93\":{\"version\":\"3.7.2\",\"title\":\"Bokeh Application\",\"roots\":[{\"type\":\"object\",\"name\":\"panel.models.browser.BrowserInfo\",\"id\":\"10f85394-bb16-4114-83cc-b57ad9f30f72\"},{\"type\":\"object\",\"name\":\"panel.models.comm_manager.CommManager\",\"id\":\"2bbb29f4-0e30-4d61-a919-5027c8410290\",\"attributes\":{\"plot_id\":\"10f85394-bb16-4114-83cc-b57ad9f30f72\",\"comm_id\":\"7454761925814bb48915660b7e3e3cf3\",\"client_comm_id\":\"2c3c7aa757c84791a2c491b4089a1c9b\"}}],\"defs\":[{\"type\":\"model\",\"name\":\"ReactiveHTML1\"},{\"type\":\"model\",\"name\":\"FlexBox1\",\"properties\":[{\"name\":\"align_content\",\"kind\":\"Any\",\"default\":\"flex-start\"},{\"name\":\"align_items\",\"kind\":\"Any\",\"default\":\"flex-start\"},{\"name\":\"flex_direction\",\"kind\":\"Any\",\"default\":\"row\"},{\"name\":\"flex_wrap\",\"kind\":\"Any\",\"default\":\"wrap\"},{\"name\":\"gap\",\"kind\":\"Any\",\"default\":\"\"},{\"name\":\"justify_content\",\"kind\":\"Any\",\"default\":\"flex-start\"}]},{\"type\":\"model\",\"name\":\"FloatPanel1\",\"properties\":[{\"name\":\"config\",\"kind\":\"Any\",\"default\":{\"type\":\"map\"}},{\"name\":\"contained\",\"kind\":\"Any\",\"default\":true},{\"name\":\"position\",\"kind\":\"Any\",\"default\":\"right-top\"},{\"name\":\"offsetx\",\"kind\":\"Any\",\"default\":null},{\"name\":\"offsety\",\"kind\":\"Any\",\"default\":null},{\"name\":\"theme\",\"kind\":\"Any\",\"default\":\"primary\"},{\"name\":\"status\",\"kind\":\"Any\",\"default\":\"normalized\"}]},{\"type\":\"model\",\"name\":\"GridStack1\",\"properties\":[{\"name\":\"ncols\",\"kind\":\"Any\",\"default\":null},{\"name\":\"nrows\",\"kind\":\"Any\",\"default\":null},{\"name\":\"allow_resize\",\"kind\":\"Any\",\"default\":true},{\"name\":\"allow_drag\",\"kind\":\"Any\",\"default\":true},{\"name\":\"state\",\"kind\":\"Any\",\"default\":[]}]},{\"type\":\"model\",\"name\":\"drag1\",\"properties\":[{\"name\":\"slider_width\",\"kind\":\"Any\",\"default\":5},{\"name\":\"slider_color\",\"kind\":\"Any\",\"default\":\"black\"},{\"name\":\"value\",\"kind\":\"Any\",\"default\":50}]},{\"type\":\"model\",\"name\":\"click1\",\"properties\":[{\"name\":\"terminal_output\",\"kind\":\"Any\",\"default\":\"\"},{\"name\":\"debug_name\",\"kind\":\"Any\",\"default\":\"\"},{\"name\":\"clears\",\"kind\":\"Any\",\"default\":0}]},{\"type\":\"model\",\"name\":\"FastWrapper1\",\"properties\":[{\"name\":\"object\",\"kind\":\"Any\",\"default\":null},{\"name\":\"style\",\"kind\":\"Any\",\"default\":null}]},{\"type\":\"model\",\"name\":\"NotificationArea1\",\"properties\":[{\"name\":\"js_events\",\"kind\":\"Any\",\"default\":{\"type\":\"map\"}},{\"name\":\"max_notifications\",\"kind\":\"Any\",\"default\":5},{\"name\":\"notifications\",\"kind\":\"Any\",\"default\":[]},{\"name\":\"position\",\"kind\":\"Any\",\"default\":\"bottom-right\"},{\"name\":\"_clear\",\"kind\":\"Any\",\"default\":0},{\"name\":\"types\",\"kind\":\"Any\",\"default\":[{\"type\":\"map\",\"entries\":[[\"type\",\"warning\"],[\"background\",\"#ffc107\"],[\"icon\",{\"type\":\"map\",\"entries\":[[\"className\",\"fas fa-exclamation-triangle\"],[\"tagName\",\"i\"],[\"color\",\"white\"]]}]]},{\"type\":\"map\",\"entries\":[[\"type\",\"info\"],[\"background\",\"#007bff\"],[\"icon\",{\"type\":\"map\",\"entries\":[[\"className\",\"fas fa-info-circle\"],[\"tagName\",\"i\"],[\"color\",\"white\"]]}]]}]}]},{\"type\":\"model\",\"name\":\"Notification\",\"properties\":[{\"name\":\"background\",\"kind\":\"Any\",\"default\":null},{\"name\":\"duration\",\"kind\":\"Any\",\"default\":3000},{\"name\":\"icon\",\"kind\":\"Any\",\"default\":null},{\"name\":\"message\",\"kind\":\"Any\",\"default\":\"\"},{\"name\":\"notification_type\",\"kind\":\"Any\",\"default\":null},{\"name\":\"_rendered\",\"kind\":\"Any\",\"default\":false},{\"name\":\"_destroyed\",\"kind\":\"Any\",\"default\":false}]},{\"type\":\"model\",\"name\":\"TemplateActions1\",\"properties\":[{\"name\":\"open_modal\",\"kind\":\"Any\",\"default\":0},{\"name\":\"close_modal\",\"kind\":\"Any\",\"default\":0}]},{\"type\":\"model\",\"name\":\"BootstrapTemplateActions1\",\"properties\":[{\"name\":\"open_modal\",\"kind\":\"Any\",\"default\":0},{\"name\":\"close_modal\",\"kind\":\"Any\",\"default\":0}]},{\"type\":\"model\",\"name\":\"TemplateEditor1\",\"properties\":[{\"name\":\"layout\",\"kind\":\"Any\",\"default\":[]}]},{\"type\":\"model\",\"name\":\"MaterialTemplateActions1\",\"properties\":[{\"name\":\"open_modal\",\"kind\":\"Any\",\"default\":0},{\"name\":\"close_modal\",\"kind\":\"Any\",\"default\":0}]},{\"type\":\"model\",\"name\":\"ReactiveESM1\",\"properties\":[{\"name\":\"esm_constants\",\"kind\":\"Any\",\"default\":{\"type\":\"map\"}}]},{\"type\":\"model\",\"name\":\"JSComponent1\",\"properties\":[{\"name\":\"esm_constants\",\"kind\":\"Any\",\"default\":{\"type\":\"map\"}}]},{\"type\":\"model\",\"name\":\"ReactComponent1\",\"properties\":[{\"name\":\"esm_constants\",\"kind\":\"Any\",\"default\":{\"type\":\"map\"}}]},{\"type\":\"model\",\"name\":\"AnyWidgetComponent1\",\"properties\":[{\"name\":\"esm_constants\",\"kind\":\"Any\",\"default\":{\"type\":\"map\"}}]},{\"type\":\"model\",\"name\":\"request_value1\",\"properties\":[{\"name\":\"fill\",\"kind\":\"Any\",\"default\":\"none\"},{\"name\":\"_synced\",\"kind\":\"Any\",\"default\":null},{\"name\":\"_request_sync\",\"kind\":\"Any\",\"default\":0}]}]}};\n",
       "  var render_items = [{\"docid\":\"d7dd0491-4d2e-4831-8125-f203d2681e93\",\"roots\":{\"10f85394-bb16-4114-83cc-b57ad9f30f72\":\"c9c4baec-3666-4fdc-958e-5ec94c89cac2\"},\"root_ids\":[\"10f85394-bb16-4114-83cc-b57ad9f30f72\"]}];\n",
       "  var docs = Object.values(docs_json)\n",
       "  if (!docs) {\n",
       "    return\n",
       "  }\n",
       "  const py_version = docs[0].version.replace('rc', '-rc.').replace('.dev', '-dev.')\n",
       "  async function embed_document(root) {\n",
       "    var Bokeh = get_bokeh(root)\n",
       "    await Bokeh.embed.embed_items_notebook(docs_json, render_items);\n",
       "    for (const render_item of render_items) {\n",
       "      for (const root_id of render_item.root_ids) {\n",
       "\tconst id_el = document.getElementById(root_id)\n",
       "\tif (id_el.children.length && id_el.children[0].hasAttribute('data-root-id')) {\n",
       "\t  const root_el = id_el.children[0]\n",
       "\t  root_el.id = root_el.id + '-rendered'\n",
       "\t  for (const child of root_el.children) {\n",
       "            // Ensure JupyterLab does not capture keyboard shortcuts\n",
       "            // see: https://jupyterlab.readthedocs.io/en/4.1.x/extension/notebook.html#keyboard-interaction-model\n",
       "\t    child.setAttribute('data-lm-suppress-shortcuts', 'true')\n",
       "\t  }\n",
       "\t}\n",
       "      }\n",
       "    }\n",
       "  }\n",
       "  function get_bokeh(root) {\n",
       "    if (root.Bokeh === undefined) {\n",
       "      return null\n",
       "    } else if (root.Bokeh.version !== py_version) {\n",
       "      if (root.Bokeh.versions === undefined || !root.Bokeh.versions.has(py_version)) {\n",
       "\treturn null\n",
       "      }\n",
       "      return root.Bokeh.versions.get(py_version);\n",
       "    } else if (root.Bokeh.version === py_version) {\n",
       "      return root.Bokeh\n",
       "    }\n",
       "    return null\n",
       "  }\n",
       "  function is_loaded(root) {\n",
       "    var Bokeh = get_bokeh(root)\n",
       "    return (Bokeh != null && Bokeh.Panel !== undefined)\n",
       "  }\n",
       "  if (is_loaded(root)) {\n",
       "    embed_document(root);\n",
       "  } else {\n",
       "    var attempts = 0;\n",
       "    var timer = setInterval(function(root) {\n",
       "      if (is_loaded(root)) {\n",
       "        clearInterval(timer);\n",
       "        embed_document(root);\n",
       "      } else if (document.readyState == \"complete\") {\n",
       "        attempts++;\n",
       "        if (attempts > 200) {\n",
       "          clearInterval(timer);\n",
       "\t  var Bokeh = get_bokeh(root)\n",
       "\t  if (Bokeh == null || Bokeh.Panel == null) {\n",
       "            console.warn(\"Panel: ERROR: Unable to run Panel code because Bokeh or Panel library is missing\");\n",
       "\t  } else {\n",
       "\t    console.warn(\"Panel: WARNING: Attempting to render but not all required libraries could be resolved.\")\n",
       "\t    embed_document(root)\n",
       "\t  }\n",
       "        }\n",
       "      }\n",
       "    }, 25, root)\n",
       "  }\n",
       "})(window);</script>"
      ],
      "application/vnd.holoviews_exec.v0+json": ""
     },
     "metadata": {
      "application/vnd.holoviews_exec.v0+json": {
       "id": "10f85394-bb16-4114-83cc-b57ad9f30f72"
      }
     },
     "output_type": "display_data"
    }
   ],
   "execution_count": 1
  },
  {
   "metadata": {
    "ExecuteTime": {
     "end_time": "2025-05-31T11:29:29.552553Z",
     "start_time": "2025-05-31T11:29:29.548380Z"
    }
   },
   "cell_type": "code",
   "source": "anime_path = r\"F:\\Datasets\\CSV datasets\\Anime Dataset\\Anime.csv\"",
   "id": "5936530bfa8febf2",
   "outputs": [],
   "execution_count": 2
  },
  {
   "metadata": {
    "ExecuteTime": {
     "end_time": "2025-05-31T11:29:44.896768Z",
     "start_time": "2025-05-31T11:29:44.892463Z"
    }
   },
   "cell_type": "code",
   "source": "movie_rating_path = r\"F:\\Datasets\\CSV datasets\\Anime Dataset\\Movie_Rating.csv\"",
   "id": "6e3c7d31588a563e",
   "outputs": [],
   "execution_count": 3
  },
  {
   "metadata": {
    "ExecuteTime": {
     "end_time": "2025-05-31T12:18:43.912532Z",
     "start_time": "2025-05-31T12:18:43.745430Z"
    }
   },
   "cell_type": "code",
   "source": "anime_df = pl.read_csv(anime_path)",
   "id": "32e365b4146f7235",
   "outputs": [],
   "execution_count": 4
  },
  {
   "metadata": {
    "ExecuteTime": {
     "end_time": "2025-05-31T12:18:46.107203Z",
     "start_time": "2025-05-31T12:18:46.099720Z"
    }
   },
   "cell_type": "code",
   "source": "anime_df",
   "id": "d2c58ba207f4e0ff",
   "outputs": [
    {
     "data": {
      "text/plain": [
       "shape: (12_294, 7)\n",
       "┌──────────┬────────────────────────────┬────────────────────┬───────┬──────────┬────────┬─────────┐\n",
       "│ anime_id ┆ name                       ┆ genre              ┆ type  ┆ episodes ┆ rating ┆ members │\n",
       "│ ---      ┆ ---                        ┆ ---                ┆ ---   ┆ ---      ┆ ---    ┆ ---     │\n",
       "│ i64      ┆ str                        ┆ str                ┆ str   ┆ str      ┆ f64    ┆ i64     │\n",
       "╞══════════╪════════════════════════════╪════════════════════╪═══════╪══════════╪════════╪═════════╡\n",
       "│ 32281    ┆ Kimi no Na wa.             ┆ Drama, Romance,    ┆ Movie ┆ 1        ┆ 9.37   ┆ 200630  │\n",
       "│          ┆                            ┆ School, Supern…    ┆       ┆          ┆        ┆         │\n",
       "│ 5114     ┆ Fullmetal Alchemist:       ┆ Action, Adventure, ┆ TV    ┆ 64       ┆ 9.26   ┆ 793665  │\n",
       "│          ┆ Brotherho…                 ┆ Drama, Fant…       ┆       ┆          ┆        ┆         │\n",
       "│ 28977    ┆ Gintama°                   ┆ Action, Comedy,    ┆ TV    ┆ 51       ┆ 9.25   ┆ 114262  │\n",
       "│          ┆                            ┆ Historical, Pa…    ┆       ┆          ┆        ┆         │\n",
       "│ 9253     ┆ Steins;Gate                ┆ Sci-Fi, Thriller   ┆ TV    ┆ 24       ┆ 9.17   ┆ 673572  │\n",
       "│ 9969     ┆ Gintama&#039;              ┆ Action, Comedy,    ┆ TV    ┆ 51       ┆ 9.16   ┆ 151266  │\n",
       "│          ┆                            ┆ Historical, Pa…    ┆       ┆          ┆        ┆         │\n",
       "│ …        ┆ …                          ┆ …                  ┆ …     ┆ …        ┆ …      ┆ …       │\n",
       "│ 9316     ┆ Toushindai My Lover:       ┆ Hentai             ┆ OVA   ┆ 1        ┆ 4.15   ┆ 211     │\n",
       "│          ┆ Minami ta…                 ┆                    ┆       ┆          ┆        ┆         │\n",
       "│ 5543     ┆ Under World                ┆ Hentai             ┆ OVA   ┆ 1        ┆ 4.28   ┆ 183     │\n",
       "│ 5621     ┆ Violence Gekiga David no   ┆ Hentai             ┆ OVA   ┆ 4        ┆ 4.88   ┆ 219     │\n",
       "│          ┆ Hoshi                      ┆                    ┆       ┆          ┆        ┆         │\n",
       "│ 6133     ┆ Violence Gekiga Shin David ┆ Hentai             ┆ OVA   ┆ 1        ┆ 4.98   ┆ 175     │\n",
       "│          ┆ no …                       ┆                    ┆       ┆          ┆        ┆         │\n",
       "│ 26081    ┆ Yasuji no Pornorama:       ┆ Hentai             ┆ Movie ┆ 1        ┆ 5.46   ┆ 142     │\n",
       "│          ┆ Yacchimae…                 ┆                    ┆       ┆          ┆        ┆         │\n",
       "└──────────┴────────────────────────────┴────────────────────┴───────┴──────────┴────────┴─────────┘"
      ],
      "text/html": [
       "<div><style>\n",
       ".dataframe > thead > tr,\n",
       ".dataframe > tbody > tr {\n",
       "  text-align: right;\n",
       "  white-space: pre-wrap;\n",
       "}\n",
       "</style>\n",
       "<small>shape: (12_294, 7)</small><table border=\"1\" class=\"dataframe\"><thead><tr><th>anime_id</th><th>name</th><th>genre</th><th>type</th><th>episodes</th><th>rating</th><th>members</th></tr><tr><td>i64</td><td>str</td><td>str</td><td>str</td><td>str</td><td>f64</td><td>i64</td></tr></thead><tbody><tr><td>32281</td><td>&quot;Kimi no Na wa.&quot;</td><td>&quot;Drama, Romance, School, Supern…</td><td>&quot;Movie&quot;</td><td>&quot;1&quot;</td><td>9.37</td><td>200630</td></tr><tr><td>5114</td><td>&quot;Fullmetal Alchemist: Brotherho…</td><td>&quot;Action, Adventure, Drama, Fant…</td><td>&quot;TV&quot;</td><td>&quot;64&quot;</td><td>9.26</td><td>793665</td></tr><tr><td>28977</td><td>&quot;Gintama°&quot;</td><td>&quot;Action, Comedy, Historical, Pa…</td><td>&quot;TV&quot;</td><td>&quot;51&quot;</td><td>9.25</td><td>114262</td></tr><tr><td>9253</td><td>&quot;Steins;Gate&quot;</td><td>&quot;Sci-Fi, Thriller&quot;</td><td>&quot;TV&quot;</td><td>&quot;24&quot;</td><td>9.17</td><td>673572</td></tr><tr><td>9969</td><td>&quot;Gintama&amp;#039;&quot;</td><td>&quot;Action, Comedy, Historical, Pa…</td><td>&quot;TV&quot;</td><td>&quot;51&quot;</td><td>9.16</td><td>151266</td></tr><tr><td>&hellip;</td><td>&hellip;</td><td>&hellip;</td><td>&hellip;</td><td>&hellip;</td><td>&hellip;</td><td>&hellip;</td></tr><tr><td>9316</td><td>&quot;Toushindai My Lover: Minami ta…</td><td>&quot;Hentai&quot;</td><td>&quot;OVA&quot;</td><td>&quot;1&quot;</td><td>4.15</td><td>211</td></tr><tr><td>5543</td><td>&quot;Under World&quot;</td><td>&quot;Hentai&quot;</td><td>&quot;OVA&quot;</td><td>&quot;1&quot;</td><td>4.28</td><td>183</td></tr><tr><td>5621</td><td>&quot;Violence Gekiga David no Hoshi&quot;</td><td>&quot;Hentai&quot;</td><td>&quot;OVA&quot;</td><td>&quot;4&quot;</td><td>4.88</td><td>219</td></tr><tr><td>6133</td><td>&quot;Violence Gekiga Shin David no …</td><td>&quot;Hentai&quot;</td><td>&quot;OVA&quot;</td><td>&quot;1&quot;</td><td>4.98</td><td>175</td></tr><tr><td>26081</td><td>&quot;Yasuji no Pornorama: Yacchimae…</td><td>&quot;Hentai&quot;</td><td>&quot;Movie&quot;</td><td>&quot;1&quot;</td><td>5.46</td><td>142</td></tr></tbody></table></div>"
      ]
     },
     "execution_count": 5,
     "metadata": {},
     "output_type": "execute_result"
    }
   ],
   "execution_count": 5
  },
  {
   "metadata": {
    "ExecuteTime": {
     "end_time": "2025-05-31T12:19:05.914781Z",
     "start_time": "2025-05-31T12:19:05.842398Z"
    }
   },
   "cell_type": "code",
   "source": "movie_rating_df = pl.read_csv(movie_rating_path)",
   "id": "313cef4e007ba47b",
   "outputs": [],
   "execution_count": 6
  },
  {
   "metadata": {
    "ExecuteTime": {
     "end_time": "2025-05-31T12:19:08.571214Z",
     "start_time": "2025-05-31T12:19:08.566600Z"
    }
   },
   "cell_type": "code",
   "source": "movie_rating_df",
   "id": "44ef4e9eda14b65",
   "outputs": [
    {
     "data": {
      "text/plain": [
       "shape: (7_813_737, 3)\n",
       "┌─────────┬──────────┬────────┐\n",
       "│ user_id ┆ anime_id ┆ rating │\n",
       "│ ---     ┆ ---      ┆ ---    │\n",
       "│ i64     ┆ i64      ┆ i64    │\n",
       "╞═════════╪══════════╪════════╡\n",
       "│ 1       ┆ 20       ┆ -1     │\n",
       "│ 1       ┆ 24       ┆ -1     │\n",
       "│ 1       ┆ 79       ┆ -1     │\n",
       "│ 1       ┆ 226      ┆ -1     │\n",
       "│ 1       ┆ 241      ┆ -1     │\n",
       "│ …       ┆ …        ┆ …      │\n",
       "│ 73515   ┆ 16512    ┆ 7      │\n",
       "│ 73515   ┆ 17187    ┆ 9      │\n",
       "│ 73515   ┆ 22145    ┆ 10     │\n",
       "│ 73516   ┆ 790      ┆ 9      │\n",
       "│ 73516   ┆ 8074     ┆ 9      │\n",
       "└─────────┴──────────┴────────┘"
      ],
      "text/html": [
       "<div><style>\n",
       ".dataframe > thead > tr,\n",
       ".dataframe > tbody > tr {\n",
       "  text-align: right;\n",
       "  white-space: pre-wrap;\n",
       "}\n",
       "</style>\n",
       "<small>shape: (7_813_737, 3)</small><table border=\"1\" class=\"dataframe\"><thead><tr><th>user_id</th><th>anime_id</th><th>rating</th></tr><tr><td>i64</td><td>i64</td><td>i64</td></tr></thead><tbody><tr><td>1</td><td>20</td><td>-1</td></tr><tr><td>1</td><td>24</td><td>-1</td></tr><tr><td>1</td><td>79</td><td>-1</td></tr><tr><td>1</td><td>226</td><td>-1</td></tr><tr><td>1</td><td>241</td><td>-1</td></tr><tr><td>&hellip;</td><td>&hellip;</td><td>&hellip;</td></tr><tr><td>73515</td><td>16512</td><td>7</td></tr><tr><td>73515</td><td>17187</td><td>9</td></tr><tr><td>73515</td><td>22145</td><td>10</td></tr><tr><td>73516</td><td>790</td><td>9</td></tr><tr><td>73516</td><td>8074</td><td>9</td></tr></tbody></table></div>"
      ]
     },
     "execution_count": 7,
     "metadata": {},
     "output_type": "execute_result"
    }
   ],
   "execution_count": 7
  },
  {
   "metadata": {
    "ExecuteTime": {
     "end_time": "2025-05-31T12:28:47.162577Z",
     "start_time": "2025-05-31T12:28:46.902841Z"
    }
   },
   "cell_type": "code",
   "source": "combined_df = anime_df.join(movie_rating_df, on=\"anime_id\", how=\"left\")",
   "id": "c40d40e5396b9719",
   "outputs": [],
   "execution_count": 9
  },
  {
   "metadata": {
    "ExecuteTime": {
     "end_time": "2025-05-31T12:29:01.359940Z",
     "start_time": "2025-05-31T12:29:01.353937Z"
    }
   },
   "cell_type": "code",
   "source": "combined_df",
   "id": "a422fa5944c909ac",
   "outputs": [
    {
     "data": {
      "text/plain": [
       "shape: (7_814_824, 9)\n",
       "┌──────────┬─────────────────┬──────────┬───────┬───┬────────┬─────────┬─────────┬──────────────┐\n",
       "│ anime_id ┆ name            ┆ genre    ┆ type  ┆ … ┆ rating ┆ members ┆ user_id ┆ rating_right │\n",
       "│ ---      ┆ ---             ┆ ---      ┆ ---   ┆   ┆ ---    ┆ ---     ┆ ---     ┆ ---          │\n",
       "│ i64      ┆ str             ┆ str      ┆ str   ┆   ┆ f64    ┆ i64     ┆ i64     ┆ i64          │\n",
       "╞══════════╪═════════════════╪══════════╪═══════╪═══╪════════╪═════════╪═════════╪══════════════╡\n",
       "│ 32281    ┆ Kimi no Na wa.  ┆ Drama,   ┆ Movie ┆ … ┆ 9.37   ┆ 200630  ┆ 99      ┆ 5            │\n",
       "│          ┆                 ┆ Romance, ┆       ┆   ┆        ┆         ┆         ┆              │\n",
       "│          ┆                 ┆ School,  ┆       ┆   ┆        ┆         ┆         ┆              │\n",
       "│          ┆                 ┆ Supern…  ┆       ┆   ┆        ┆         ┆         ┆              │\n",
       "│ 32281    ┆ Kimi no Na wa.  ┆ Drama,   ┆ Movie ┆ … ┆ 9.37   ┆ 200630  ┆ 152     ┆ 10           │\n",
       "│          ┆                 ┆ Romance, ┆       ┆   ┆        ┆         ┆         ┆              │\n",
       "│          ┆                 ┆ School,  ┆       ┆   ┆        ┆         ┆         ┆              │\n",
       "│          ┆                 ┆ Supern…  ┆       ┆   ┆        ┆         ┆         ┆              │\n",
       "│ 32281    ┆ Kimi no Na wa.  ┆ Drama,   ┆ Movie ┆ … ┆ 9.37   ┆ 200630  ┆ 244     ┆ 10           │\n",
       "│          ┆                 ┆ Romance, ┆       ┆   ┆        ┆         ┆         ┆              │\n",
       "│          ┆                 ┆ School,  ┆       ┆   ┆        ┆         ┆         ┆              │\n",
       "│          ┆                 ┆ Supern…  ┆       ┆   ┆        ┆         ┆         ┆              │\n",
       "│ 32281    ┆ Kimi no Na wa.  ┆ Drama,   ┆ Movie ┆ … ┆ 9.37   ┆ 200630  ┆ 271     ┆ 10           │\n",
       "│          ┆                 ┆ Romance, ┆       ┆   ┆        ┆         ┆         ┆              │\n",
       "│          ┆                 ┆ School,  ┆       ┆   ┆        ┆         ┆         ┆              │\n",
       "│          ┆                 ┆ Supern…  ┆       ┆   ┆        ┆         ┆         ┆              │\n",
       "│ 32281    ┆ Kimi no Na wa.  ┆ Drama,   ┆ Movie ┆ … ┆ 9.37   ┆ 200630  ┆ 278     ┆ -1           │\n",
       "│          ┆                 ┆ Romance, ┆       ┆   ┆        ┆         ┆         ┆              │\n",
       "│          ┆                 ┆ School,  ┆       ┆   ┆        ┆         ┆         ┆              │\n",
       "│          ┆                 ┆ Supern…  ┆       ┆   ┆        ┆         ┆         ┆              │\n",
       "│ …        ┆ …               ┆ …        ┆ …     ┆ … ┆ …      ┆ …       ┆ …       ┆ …            │\n",
       "│ 6133     ┆ Violence Gekiga ┆ Hentai   ┆ OVA   ┆ … ┆ 4.98   ┆ 175     ┆ 39532   ┆ -1           │\n",
       "│          ┆ Shin David no … ┆          ┆       ┆   ┆        ┆         ┆         ┆              │\n",
       "│ 6133     ┆ Violence Gekiga ┆ Hentai   ┆ OVA   ┆ … ┆ 4.98   ┆ 175     ┆ 48766   ┆ -1           │\n",
       "│          ┆ Shin David no … ┆          ┆       ┆   ┆        ┆         ┆         ┆              │\n",
       "│ 6133     ┆ Violence Gekiga ┆ Hentai   ┆ OVA   ┆ … ┆ 4.98   ┆ 175     ┆ 60365   ┆ 4            │\n",
       "│          ┆ Shin David no … ┆          ┆       ┆   ┆        ┆         ┆         ┆              │\n",
       "│ 26081    ┆ Yasuji no       ┆ Hentai   ┆ Movie ┆ … ┆ 5.46   ┆ 142     ┆ 27364   ┆ -1           │\n",
       "│          ┆ Pornorama:      ┆          ┆       ┆   ┆        ┆         ┆         ┆              │\n",
       "│          ┆ Yacchimae…      ┆          ┆       ┆   ┆        ┆         ┆         ┆              │\n",
       "│ 26081    ┆ Yasuji no       ┆ Hentai   ┆ Movie ┆ … ┆ 5.46   ┆ 142     ┆ 48766   ┆ -1           │\n",
       "│          ┆ Pornorama:      ┆          ┆       ┆   ┆        ┆         ┆         ┆              │\n",
       "│          ┆ Yacchimae…      ┆          ┆       ┆   ┆        ┆         ┆         ┆              │\n",
       "└──────────┴─────────────────┴──────────┴───────┴───┴────────┴─────────┴─────────┴──────────────┘"
      ],
      "text/html": [
       "<div><style>\n",
       ".dataframe > thead > tr,\n",
       ".dataframe > tbody > tr {\n",
       "  text-align: right;\n",
       "  white-space: pre-wrap;\n",
       "}\n",
       "</style>\n",
       "<small>shape: (7_814_824, 9)</small><table border=\"1\" class=\"dataframe\"><thead><tr><th>anime_id</th><th>name</th><th>genre</th><th>type</th><th>episodes</th><th>rating</th><th>members</th><th>user_id</th><th>rating_right</th></tr><tr><td>i64</td><td>str</td><td>str</td><td>str</td><td>str</td><td>f64</td><td>i64</td><td>i64</td><td>i64</td></tr></thead><tbody><tr><td>32281</td><td>&quot;Kimi no Na wa.&quot;</td><td>&quot;Drama, Romance, School, Supern…</td><td>&quot;Movie&quot;</td><td>&quot;1&quot;</td><td>9.37</td><td>200630</td><td>99</td><td>5</td></tr><tr><td>32281</td><td>&quot;Kimi no Na wa.&quot;</td><td>&quot;Drama, Romance, School, Supern…</td><td>&quot;Movie&quot;</td><td>&quot;1&quot;</td><td>9.37</td><td>200630</td><td>152</td><td>10</td></tr><tr><td>32281</td><td>&quot;Kimi no Na wa.&quot;</td><td>&quot;Drama, Romance, School, Supern…</td><td>&quot;Movie&quot;</td><td>&quot;1&quot;</td><td>9.37</td><td>200630</td><td>244</td><td>10</td></tr><tr><td>32281</td><td>&quot;Kimi no Na wa.&quot;</td><td>&quot;Drama, Romance, School, Supern…</td><td>&quot;Movie&quot;</td><td>&quot;1&quot;</td><td>9.37</td><td>200630</td><td>271</td><td>10</td></tr><tr><td>32281</td><td>&quot;Kimi no Na wa.&quot;</td><td>&quot;Drama, Romance, School, Supern…</td><td>&quot;Movie&quot;</td><td>&quot;1&quot;</td><td>9.37</td><td>200630</td><td>278</td><td>-1</td></tr><tr><td>&hellip;</td><td>&hellip;</td><td>&hellip;</td><td>&hellip;</td><td>&hellip;</td><td>&hellip;</td><td>&hellip;</td><td>&hellip;</td><td>&hellip;</td></tr><tr><td>6133</td><td>&quot;Violence Gekiga Shin David no …</td><td>&quot;Hentai&quot;</td><td>&quot;OVA&quot;</td><td>&quot;1&quot;</td><td>4.98</td><td>175</td><td>39532</td><td>-1</td></tr><tr><td>6133</td><td>&quot;Violence Gekiga Shin David no …</td><td>&quot;Hentai&quot;</td><td>&quot;OVA&quot;</td><td>&quot;1&quot;</td><td>4.98</td><td>175</td><td>48766</td><td>-1</td></tr><tr><td>6133</td><td>&quot;Violence Gekiga Shin David no …</td><td>&quot;Hentai&quot;</td><td>&quot;OVA&quot;</td><td>&quot;1&quot;</td><td>4.98</td><td>175</td><td>60365</td><td>4</td></tr><tr><td>26081</td><td>&quot;Yasuji no Pornorama: Yacchimae…</td><td>&quot;Hentai&quot;</td><td>&quot;Movie&quot;</td><td>&quot;1&quot;</td><td>5.46</td><td>142</td><td>27364</td><td>-1</td></tr><tr><td>26081</td><td>&quot;Yasuji no Pornorama: Yacchimae…</td><td>&quot;Hentai&quot;</td><td>&quot;Movie&quot;</td><td>&quot;1&quot;</td><td>5.46</td><td>142</td><td>48766</td><td>-1</td></tr></tbody></table></div>"
      ]
     },
     "execution_count": 13,
     "metadata": {},
     "output_type": "execute_result"
    }
   ],
   "execution_count": 13
  },
  {
   "metadata": {
    "ExecuteTime": {
     "end_time": "2025-05-31T12:51:07.412581Z",
     "start_time": "2025-05-31T12:51:07.407060Z"
    }
   },
   "cell_type": "code",
   "source": "combined_df.collect_schema()",
   "id": "c5eb054c78987881",
   "outputs": [
    {
     "data": {
      "text/plain": [
       "Schema([('anime_id', Int64),\n",
       "        ('name', String),\n",
       "        ('genre', String),\n",
       "        ('type', String),\n",
       "        ('episodes', String),\n",
       "        ('rating', Float64),\n",
       "        ('members', Int64),\n",
       "        ('user_id', Int64),\n",
       "        ('rating_right', Int64)])"
      ]
     },
     "execution_count": 32,
     "metadata": {},
     "output_type": "execute_result"
    }
   ],
   "execution_count": 32
  },
  {
   "metadata": {
    "ExecuteTime": {
     "end_time": "2025-05-31T12:52:38.696366Z",
     "start_time": "2025-05-31T12:52:38.663620Z"
    }
   },
   "cell_type": "code",
   "source": [
    "combined_df = combined_df.with_columns(\n",
    "    pl.col('anime_id').cast(pl.UInt16),\n",
    "    pl.col('rating').cast(pl.Float32),\n",
    "    pl.col('members').cast(pl.UInt32),\n",
    "    pl.col('user_id').cast(pl.UInt32),\n",
    "    pl.col('rating_right').cast(pl.Int8),\n",
    ")"
   ],
   "id": "76b057bafbe9bf25",
   "outputs": [],
   "execution_count": 42
  },
  {
   "metadata": {
    "ExecuteTime": {
     "end_time": "2025-05-31T13:00:40.752389Z",
     "start_time": "2025-05-31T13:00:38.890181Z"
    }
   },
   "cell_type": "code",
   "source": [
    "combined_df = combined_df.with_columns(\n",
    "    pl.col('genre').str.split(',')\n",
    ").explode('genre')"
   ],
   "id": "9185604fa3d4e176",
   "outputs": [],
   "execution_count": 54
  },
  {
   "metadata": {
    "ExecuteTime": {
     "end_time": "2025-05-31T13:00:53.369667Z",
     "start_time": "2025-05-31T13:00:52.874051Z"
    }
   },
   "cell_type": "code",
   "source": [
    "combined_df = combined_df.with_columns(\n",
    "    pl.col('genre').str.strip_chars()\n",
    ")"
   ],
   "id": "22fa60040372cac5",
   "outputs": [],
   "execution_count": 56
  },
  {
   "metadata": {
    "ExecuteTime": {
     "end_time": "2025-05-31T13:00:55.989354Z",
     "start_time": "2025-05-31T13:00:55.982954Z"
    }
   },
   "cell_type": "code",
   "source": "combined_df",
   "id": "9e39c7aba8ecca23",
   "outputs": [
    {
     "data": {
      "text/plain": [
       "shape: (34_875_100, 9)\n",
       "┌──────────┬────────────────┬──────────────┬───────┬───┬────────┬─────────┬─────────┬──────────────┐\n",
       "│ anime_id ┆ name           ┆ genre        ┆ type  ┆ … ┆ rating ┆ members ┆ user_id ┆ rating_right │\n",
       "│ ---      ┆ ---            ┆ ---          ┆ ---   ┆   ┆ ---    ┆ ---     ┆ ---     ┆ ---          │\n",
       "│ u16      ┆ str            ┆ str          ┆ str   ┆   ┆ f32    ┆ u32     ┆ u32     ┆ i8           │\n",
       "╞══════════╪════════════════╪══════════════╪═══════╪═══╪════════╪═════════╪═════════╪══════════════╡\n",
       "│ 32281    ┆ Kimi no Na wa. ┆ Drama        ┆ Movie ┆ … ┆ 9.37   ┆ 200630  ┆ 99      ┆ 5            │\n",
       "│ 32281    ┆ Kimi no Na wa. ┆ Romance      ┆ Movie ┆ … ┆ 9.37   ┆ 200630  ┆ 99      ┆ 5            │\n",
       "│ 32281    ┆ Kimi no Na wa. ┆ School       ┆ Movie ┆ … ┆ 9.37   ┆ 200630  ┆ 99      ┆ 5            │\n",
       "│ 32281    ┆ Kimi no Na wa. ┆ Supernatural ┆ Movie ┆ … ┆ 9.37   ┆ 200630  ┆ 99      ┆ 5            │\n",
       "│ 32281    ┆ Kimi no Na wa. ┆ Drama        ┆ Movie ┆ … ┆ 9.37   ┆ 200630  ┆ 152     ┆ 10           │\n",
       "│ …        ┆ …              ┆ …            ┆ …     ┆ … ┆ …      ┆ …       ┆ …       ┆ …            │\n",
       "│ 6133     ┆ Violence       ┆ Hentai       ┆ OVA   ┆ … ┆ 4.98   ┆ 175     ┆ 39532   ┆ -1           │\n",
       "│          ┆ Gekiga Shin    ┆              ┆       ┆   ┆        ┆         ┆         ┆              │\n",
       "│          ┆ David no …     ┆              ┆       ┆   ┆        ┆         ┆         ┆              │\n",
       "│ 6133     ┆ Violence       ┆ Hentai       ┆ OVA   ┆ … ┆ 4.98   ┆ 175     ┆ 48766   ┆ -1           │\n",
       "│          ┆ Gekiga Shin    ┆              ┆       ┆   ┆        ┆         ┆         ┆              │\n",
       "│          ┆ David no …     ┆              ┆       ┆   ┆        ┆         ┆         ┆              │\n",
       "│ 6133     ┆ Violence       ┆ Hentai       ┆ OVA   ┆ … ┆ 4.98   ┆ 175     ┆ 60365   ┆ 4            │\n",
       "│          ┆ Gekiga Shin    ┆              ┆       ┆   ┆        ┆         ┆         ┆              │\n",
       "│          ┆ David no …     ┆              ┆       ┆   ┆        ┆         ┆         ┆              │\n",
       "│ 26081    ┆ Yasuji no      ┆ Hentai       ┆ Movie ┆ … ┆ 5.46   ┆ 142     ┆ 27364   ┆ -1           │\n",
       "│          ┆ Pornorama:     ┆              ┆       ┆   ┆        ┆         ┆         ┆              │\n",
       "│          ┆ Yacchimae…     ┆              ┆       ┆   ┆        ┆         ┆         ┆              │\n",
       "│ 26081    ┆ Yasuji no      ┆ Hentai       ┆ Movie ┆ … ┆ 5.46   ┆ 142     ┆ 48766   ┆ -1           │\n",
       "│          ┆ Pornorama:     ┆              ┆       ┆   ┆        ┆         ┆         ┆              │\n",
       "│          ┆ Yacchimae…     ┆              ┆       ┆   ┆        ┆         ┆         ┆              │\n",
       "└──────────┴────────────────┴──────────────┴───────┴───┴────────┴─────────┴─────────┴──────────────┘"
      ],
      "text/html": [
       "<div><style>\n",
       ".dataframe > thead > tr,\n",
       ".dataframe > tbody > tr {\n",
       "  text-align: right;\n",
       "  white-space: pre-wrap;\n",
       "}\n",
       "</style>\n",
       "<small>shape: (34_875_100, 9)</small><table border=\"1\" class=\"dataframe\"><thead><tr><th>anime_id</th><th>name</th><th>genre</th><th>type</th><th>episodes</th><th>rating</th><th>members</th><th>user_id</th><th>rating_right</th></tr><tr><td>u16</td><td>str</td><td>str</td><td>str</td><td>str</td><td>f32</td><td>u32</td><td>u32</td><td>i8</td></tr></thead><tbody><tr><td>32281</td><td>&quot;Kimi no Na wa.&quot;</td><td>&quot;Drama&quot;</td><td>&quot;Movie&quot;</td><td>&quot;1&quot;</td><td>9.37</td><td>200630</td><td>99</td><td>5</td></tr><tr><td>32281</td><td>&quot;Kimi no Na wa.&quot;</td><td>&quot;Romance&quot;</td><td>&quot;Movie&quot;</td><td>&quot;1&quot;</td><td>9.37</td><td>200630</td><td>99</td><td>5</td></tr><tr><td>32281</td><td>&quot;Kimi no Na wa.&quot;</td><td>&quot;School&quot;</td><td>&quot;Movie&quot;</td><td>&quot;1&quot;</td><td>9.37</td><td>200630</td><td>99</td><td>5</td></tr><tr><td>32281</td><td>&quot;Kimi no Na wa.&quot;</td><td>&quot;Supernatural&quot;</td><td>&quot;Movie&quot;</td><td>&quot;1&quot;</td><td>9.37</td><td>200630</td><td>99</td><td>5</td></tr><tr><td>32281</td><td>&quot;Kimi no Na wa.&quot;</td><td>&quot;Drama&quot;</td><td>&quot;Movie&quot;</td><td>&quot;1&quot;</td><td>9.37</td><td>200630</td><td>152</td><td>10</td></tr><tr><td>&hellip;</td><td>&hellip;</td><td>&hellip;</td><td>&hellip;</td><td>&hellip;</td><td>&hellip;</td><td>&hellip;</td><td>&hellip;</td><td>&hellip;</td></tr><tr><td>6133</td><td>&quot;Violence Gekiga Shin David no …</td><td>&quot;Hentai&quot;</td><td>&quot;OVA&quot;</td><td>&quot;1&quot;</td><td>4.98</td><td>175</td><td>39532</td><td>-1</td></tr><tr><td>6133</td><td>&quot;Violence Gekiga Shin David no …</td><td>&quot;Hentai&quot;</td><td>&quot;OVA&quot;</td><td>&quot;1&quot;</td><td>4.98</td><td>175</td><td>48766</td><td>-1</td></tr><tr><td>6133</td><td>&quot;Violence Gekiga Shin David no …</td><td>&quot;Hentai&quot;</td><td>&quot;OVA&quot;</td><td>&quot;1&quot;</td><td>4.98</td><td>175</td><td>60365</td><td>4</td></tr><tr><td>26081</td><td>&quot;Yasuji no Pornorama: Yacchimae…</td><td>&quot;Hentai&quot;</td><td>&quot;Movie&quot;</td><td>&quot;1&quot;</td><td>5.46</td><td>142</td><td>27364</td><td>-1</td></tr><tr><td>26081</td><td>&quot;Yasuji no Pornorama: Yacchimae…</td><td>&quot;Hentai&quot;</td><td>&quot;Movie&quot;</td><td>&quot;1&quot;</td><td>5.46</td><td>142</td><td>48766</td><td>-1</td></tr></tbody></table></div>"
      ]
     },
     "execution_count": 57,
     "metadata": {},
     "output_type": "execute_result"
    }
   ],
   "execution_count": 57
  }
 ],
 "metadata": {
  "kernelspec": {
   "display_name": "Python 3",
   "language": "python",
   "name": "python3"
  },
  "language_info": {
   "codemirror_mode": {
    "name": "ipython",
    "version": 2
   },
   "file_extension": ".py",
   "mimetype": "text/x-python",
   "name": "python",
   "nbconvert_exporter": "python",
   "pygments_lexer": "ipython2",
   "version": "2.7.6"
  }
 },
 "nbformat": 4,
 "nbformat_minor": 5
}
