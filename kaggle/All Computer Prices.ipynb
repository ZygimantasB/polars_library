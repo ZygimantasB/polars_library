{
 "cells": [
  {
   "cell_type": "code",
   "id": "initial_id",
   "metadata": {
    "collapsed": true,
    "ExecuteTime": {
     "end_time": "2025-10-10T05:50:23.909291Z",
     "start_time": "2025-10-10T05:50:21.881490Z"
    }
   },
   "source": [
    "import polars as pl\n",
    "import polars.selectors as cs\n",
    "\n",
    "import altair as alt\n",
    "import plotly.express as px\n",
    "import seaborn as sns\n",
    "import matplotlib.pyplot as plt\n",
    "import numpy as np"
   ],
   "outputs": [],
   "execution_count": 1
  },
  {
   "metadata": {
    "ExecuteTime": {
     "end_time": "2025-10-10T05:50:50.653430Z",
     "start_time": "2025-10-10T05:50:50.651003Z"
    }
   },
   "cell_type": "code",
   "source": "df_path = r'/Users/zygimantas/Downloads/computer_prices_all.csv'",
   "id": "92163cc2d0b66a61",
   "outputs": [],
   "execution_count": 2
  },
  {
   "metadata": {
    "ExecuteTime": {
     "end_time": "2025-10-10T05:51:08.670922Z",
     "start_time": "2025-10-10T05:51:08.601520Z"
    }
   },
   "cell_type": "code",
   "source": "df = pl.read_csv(df_path)",
   "id": "2857c77b3f87b8b9",
   "outputs": [],
   "execution_count": 3
  },
  {
   "metadata": {
    "ExecuteTime": {
     "end_time": "2025-10-10T05:51:45.850225Z",
     "start_time": "2025-10-10T05:51:45.830551Z"
    }
   },
   "cell_type": "code",
   "source": "df.describe()",
   "id": "bd8ad2086fd6c9f8",
   "outputs": [
    {
     "data": {
      "text/plain": [
       "shape: (9, 34)\n",
       "┌────────────┬───────────┬─────────┬───────────┬───┬───────────┬───────────┬───────────┬───────────┐\n",
       "│ statistic  ┆ device_ty ┆ brand   ┆ model     ┆ … ┆ bluetooth ┆ weight_kg ┆ warranty_ ┆ price     │\n",
       "│ ---        ┆ pe        ┆ ---     ┆ ---       ┆   ┆ ---       ┆ ---       ┆ months    ┆ ---       │\n",
       "│ str        ┆ ---       ┆ str     ┆ str       ┆   ┆ f64       ┆ f64       ┆ ---       ┆ f64       │\n",
       "│            ┆ str       ┆         ┆           ┆   ┆           ┆           ┆ f64       ┆           │\n",
       "╞════════════╪═══════════╪═════════╪═══════════╪═══╪═══════════╪═══════════╪═══════════╪═══════════╡\n",
       "│ count      ┆ 100000    ┆ 100000  ┆ 100000    ┆ … ┆ 100000.0  ┆ 100000.0  ┆ 100000.0  ┆ 100000.0  │\n",
       "│ null_count ┆ 0         ┆ 0       ┆ 0         ┆ … ┆ 0.0       ┆ 0.0       ┆ 0.0       ┆ 0.0       │\n",
       "│ mean       ┆ null      ┆ null    ┆ null      ┆ … ┆ 5.084764  ┆ 4.2896992 ┆ 22.20036  ┆ 1928.7642 │\n",
       "│            ┆           ┆         ┆           ┆   ┆           ┆           ┆           ┆ 2         │\n",
       "│ std        ┆ null      ┆ null    ┆ null      ┆ … ┆ 0.245977  ┆ 3.814628  ┆ 10.2319   ┆ 580.49268 │\n",
       "│            ┆           ┆         ┆           ┆   ┆           ┆           ┆           ┆ 9         │\n",
       "│ min        ┆ Desktop   ┆ ASUS    ┆ ASUS Air  ┆ … ┆ 4.2       ┆ 0.92      ┆ 12.0      ┆ 372.99    │\n",
       "│            ┆           ┆         ┆ 030       ┆   ┆           ┆           ┆           ┆           │\n",
       "│ 25%        ┆ null      ┆ null    ┆ null      ┆ … ┆ 5.0       ┆ 1.5       ┆ 12.0      ┆ 1503.99   │\n",
       "│ 50%        ┆ null      ┆ null    ┆ null      ┆ … ┆ 5.1       ┆ 2.0       ┆ 24.0      ┆ 1863.99   │\n",
       "│ 75%        ┆ null      ┆ null    ┆ null      ┆ … ┆ 5.2       ┆ 7.0       ┆ 24.0      ┆ 2287.99   │\n",
       "│ max        ┆ Laptop    ┆ Samsung ┆ Samsung   ┆ … ┆ 5.3       ┆ 16.0      ┆ 48.0      ┆ 10984.99  │\n",
       "│            ┆           ┆         ┆ Zen ZX2   ┆   ┆           ┆           ┆           ┆           │\n",
       "└────────────┴───────────┴─────────┴───────────┴───┴───────────┴───────────┴───────────┴───────────┘"
      ],
      "text/html": [
       "<div><style>\n",
       ".dataframe > thead > tr,\n",
       ".dataframe > tbody > tr {\n",
       "  text-align: right;\n",
       "  white-space: pre-wrap;\n",
       "}\n",
       "</style>\n",
       "<small>shape: (9, 34)</small><table border=\"1\" class=\"dataframe\"><thead><tr><th>statistic</th><th>device_type</th><th>brand</th><th>model</th><th>release_year</th><th>os</th><th>form_factor</th><th>cpu_brand</th><th>cpu_model</th><th>cpu_tier</th><th>cpu_cores</th><th>cpu_threads</th><th>cpu_base_ghz</th><th>cpu_boost_ghz</th><th>gpu_brand</th><th>gpu_model</th><th>gpu_tier</th><th>vram_gb</th><th>ram_gb</th><th>storage_type</th><th>storage_gb</th><th>storage_drive_count</th><th>display_type</th><th>display_size_in</th><th>resolution</th><th>refresh_hz</th><th>battery_wh</th><th>charger_watts</th><th>psu_watts</th><th>wifi</th><th>bluetooth</th><th>weight_kg</th><th>warranty_months</th><th>price</th></tr><tr><td>str</td><td>str</td><td>str</td><td>str</td><td>f64</td><td>str</td><td>str</td><td>str</td><td>str</td><td>f64</td><td>f64</td><td>f64</td><td>f64</td><td>f64</td><td>str</td><td>str</td><td>f64</td><td>f64</td><td>f64</td><td>str</td><td>f64</td><td>f64</td><td>str</td><td>f64</td><td>str</td><td>f64</td><td>f64</td><td>f64</td><td>f64</td><td>str</td><td>f64</td><td>f64</td><td>f64</td><td>f64</td></tr></thead><tbody><tr><td>&quot;count&quot;</td><td>&quot;100000&quot;</td><td>&quot;100000&quot;</td><td>&quot;100000&quot;</td><td>100000.0</td><td>&quot;100000&quot;</td><td>&quot;100000&quot;</td><td>&quot;100000&quot;</td><td>&quot;100000&quot;</td><td>100000.0</td><td>100000.0</td><td>100000.0</td><td>100000.0</td><td>100000.0</td><td>&quot;100000&quot;</td><td>&quot;100000&quot;</td><td>100000.0</td><td>100000.0</td><td>100000.0</td><td>&quot;100000&quot;</td><td>100000.0</td><td>100000.0</td><td>&quot;100000&quot;</td><td>100000.0</td><td>&quot;100000&quot;</td><td>100000.0</td><td>100000.0</td><td>100000.0</td><td>100000.0</td><td>&quot;100000&quot;</td><td>100000.0</td><td>100000.0</td><td>100000.0</td><td>100000.0</td></tr><tr><td>&quot;null_count&quot;</td><td>&quot;0&quot;</td><td>&quot;0&quot;</td><td>&quot;0&quot;</td><td>0.0</td><td>&quot;0&quot;</td><td>&quot;0&quot;</td><td>&quot;0&quot;</td><td>&quot;0&quot;</td><td>0.0</td><td>0.0</td><td>0.0</td><td>0.0</td><td>0.0</td><td>&quot;0&quot;</td><td>&quot;0&quot;</td><td>0.0</td><td>0.0</td><td>0.0</td><td>&quot;0&quot;</td><td>0.0</td><td>0.0</td><td>&quot;0&quot;</td><td>0.0</td><td>&quot;0&quot;</td><td>0.0</td><td>0.0</td><td>0.0</td><td>0.0</td><td>&quot;0&quot;</td><td>0.0</td><td>0.0</td><td>0.0</td><td>0.0</td></tr><tr><td>&quot;mean&quot;</td><td>null</td><td>null</td><td>null</td><td>2022.32085</td><td>null</td><td>null</td><td>null</td><td>null</td><td>3.15349</td><td>10.51574</td><td>19.3727</td><td>2.591322</td><td>3.53131</td><td>null</td><td>null</td><td>2.99135</td><td>6.15218</td><td>39.7064</td><td>null</td><td>903.936</td><td>1.52498</td><td>null</td><td>20.126655</td><td>null</td><td>98.46486</td><td>41.81347</td><td>61.38345</td><td>272.5205</td><td>null</td><td>5.084764</td><td>4.2896992</td><td>22.20036</td><td>1928.76422</td></tr><tr><td>&quot;std&quot;</td><td>null</td><td>null</td><td>null</td><td>2.025761</td><td>null</td><td>null</td><td>null</td><td>null</td><td>1.373175</td><td>5.044092</td><td>9.718426</td><td>0.336435</td><td>0.350024</td><td>null</td><td>null</td><td>1.459643</td><td>3.964926</td><td>31.902684</td><td>null</td><td>774.243654</td><td>0.797284</td><td>null</td><td>6.709577</td><td>null</td><td>43.301652</td><td>35.868841</td><td>62.795034</td><td>354.686355</td><td>null</td><td>0.245977</td><td>3.814628</td><td>10.2319</td><td>580.492689</td></tr><tr><td>&quot;min&quot;</td><td>&quot;Desktop&quot;</td><td>&quot;ASUS&quot;</td><td>&quot;ASUS Air 030&quot;</td><td>2018.0</td><td>&quot;ChromeOS&quot;</td><td>&quot;2-in-1&quot;</td><td>&quot;AMD&quot;</td><td>&quot;AMD Ryzen 3 3102&quot;</td><td>1.0</td><td>4.0</td><td>4.0</td><td>2.0</td><td>2.8</td><td>&quot;AMD&quot;</td><td>&quot;Apple Integrated&quot;</td><td>1.0</td><td>0.0</td><td>8.0</td><td>&quot;HDD&quot;</td><td>256.0</td><td>1.0</td><td>&quot;IPS&quot;</td><td>13.3</td><td>&quot;1920x1080&quot;</td><td>60.0</td><td>0.0</td><td>0.0</td><td>0.0</td><td>&quot;Wi-Fi 5&quot;</td><td>4.2</td><td>0.92</td><td>12.0</td><td>372.99</td></tr><tr><td>&quot;25%&quot;</td><td>null</td><td>null</td><td>null</td><td>2021.0</td><td>null</td><td>null</td><td>null</td><td>null</td><td>2.0</td><td>6.0</td><td>12.0</td><td>2.4</td><td>3.3</td><td>null</td><td>null</td><td>2.0</td><td>4.0</td><td>16.0</td><td>null</td><td>512.0</td><td>1.0</td><td>null</td><td>14.0</td><td>null</td><td>60.0</td><td>0.0</td><td>0.0</td><td>0.0</td><td>null</td><td>5.0</td><td>1.5</td><td>12.0</td><td>1503.99</td></tr><tr><td>&quot;50%&quot;</td><td>null</td><td>null</td><td>null</td><td>2023.0</td><td>null</td><td>null</td><td>null</td><td>null</td><td>3.0</td><td>8.0</td><td>16.0</td><td>2.6</td><td>3.5</td><td>null</td><td>null</td><td>3.0</td><td>6.0</td><td>32.0</td><td>null</td><td>512.0</td><td>1.0</td><td>null</td><td>16.0</td><td>null</td><td>90.0</td><td>56.0</td><td>65.0</td><td>0.0</td><td>null</td><td>5.1</td><td>2.0</td><td>24.0</td><td>1863.99</td></tr><tr><td>&quot;75%&quot;</td><td>null</td><td>null</td><td>null</td><td>2024.0</td><td>null</td><td>null</td><td>null</td><td>null</td><td>4.0</td><td>14.0</td><td>24.0</td><td>2.8</td><td>3.8</td><td>null</td><td>null</td><td>4.0</td><td>8.0</td><td>64.0</td><td>null</td><td>1024.0</td><td>2.0</td><td>null</td><td>27.0</td><td>null</td><td>120.0</td><td>70.0</td><td>90.0</td><td>650.0</td><td>null</td><td>5.2</td><td>7.0</td><td>24.0</td><td>2287.99</td></tr><tr><td>&quot;max&quot;</td><td>&quot;Laptop&quot;</td><td>&quot;Samsung&quot;</td><td>&quot;Samsung Zen ZX2&quot;</td><td>2025.0</td><td>&quot;macOS&quot;</td><td>&quot;Workstation&quot;</td><td>&quot;Intel&quot;</td><td>&quot;Intel i9-14997&quot;</td><td>6.0</td><td>28.0</td><td>56.0</td><td>3.4</td><td>4.5</td><td>&quot;NVIDIA&quot;</td><td>&quot;RX 7000 90&quot;</td><td>6.0</td><td>16.0</td><td>144.0</td><td>&quot;SSD&quot;</td><td>4096.0</td><td>4.0</td><td>&quot;VA&quot;</td><td>34.0</td><td>&quot;3840x2160&quot;</td><td>240.0</td><td>99.0</td><td>240.0</td><td>1200.0</td><td>&quot;Wi-Fi 7&quot;</td><td>5.3</td><td>16.0</td><td>48.0</td><td>10984.99</td></tr></tbody></table></div>"
      ]
     },
     "execution_count": 5,
     "metadata": {},
     "output_type": "execute_result"
    }
   ],
   "execution_count": 5
  },
  {
   "metadata": {
    "ExecuteTime": {
     "end_time": "2025-10-10T06:56:49.660984Z",
     "start_time": "2025-10-10T06:56:49.647926Z"
    }
   },
   "cell_type": "code",
   "source": "df.collect_schema()",
   "id": "fcc315153c085c5c",
   "outputs": [
    {
     "data": {
      "text/plain": [
       "Schema([('device_type', String),\n",
       "        ('brand', String),\n",
       "        ('model', String),\n",
       "        ('release_year', Int64),\n",
       "        ('os', String),\n",
       "        ('form_factor', String),\n",
       "        ('cpu_brand', String),\n",
       "        ('cpu_model', String),\n",
       "        ('cpu_tier', Int64),\n",
       "        ('cpu_cores', Int64),\n",
       "        ('cpu_threads', Int64),\n",
       "        ('cpu_base_ghz', Float64),\n",
       "        ('cpu_boost_ghz', Float64),\n",
       "        ('gpu_brand', String),\n",
       "        ('gpu_model', String),\n",
       "        ('gpu_tier', Int64),\n",
       "        ('vram_gb', Int64),\n",
       "        ('ram_gb', Int64),\n",
       "        ('storage_type', String),\n",
       "        ('storage_gb', Int64),\n",
       "        ('storage_drive_count', Int64),\n",
       "        ('display_type', String),\n",
       "        ('display_size_in', Float64),\n",
       "        ('resolution', String),\n",
       "        ('refresh_hz', Int64),\n",
       "        ('battery_wh', Int64),\n",
       "        ('charger_watts', Int64),\n",
       "        ('psu_watts', Int64),\n",
       "        ('wifi', String),\n",
       "        ('bluetooth', Float64),\n",
       "        ('weight_kg', Float64),\n",
       "        ('warranty_months', Int64),\n",
       "        ('price', Float64)])"
      ]
     },
     "execution_count": 6,
     "metadata": {},
     "output_type": "execute_result"
    }
   ],
   "execution_count": 6
  },
  {
   "metadata": {
    "ExecuteTime": {
     "end_time": "2025-10-10T07:00:27.235582Z",
     "start_time": "2025-10-10T07:00:27.228630Z"
    }
   },
   "cell_type": "code",
   "source": [
    "df.select(\n",
    "    pl.col('brand')\n",
    ").group_by(\n",
    "    'brand'\n",
    ").len().sort(\n",
    "    by='len',\n",
    "    descending=True\n",
    ")"
   ],
   "id": "7e1a7064712fc1d4",
   "outputs": [
    {
     "data": {
      "text/plain": [
       "shape: (10, 2)\n",
       "┌──────────┬───────┐\n",
       "│ brand    ┆ len   │\n",
       "│ ---      ┆ ---   │\n",
       "│ str      ┆ u32   │\n",
       "╞══════════╪═══════╡\n",
       "│ Lenovo   ┆ 15992 │\n",
       "│ HP       ┆ 14114 │\n",
       "│ Dell     ┆ 14005 │\n",
       "│ Apple    ┆ 11915 │\n",
       "│ ASUS     ┆ 10159 │\n",
       "│ Acer     ┆ 9925  │\n",
       "│ Samsung  ┆ 8066  │\n",
       "│ MSI      ┆ 7891  │\n",
       "│ Gigabyte ┆ 4900  │\n",
       "│ Razer    ┆ 3033  │\n",
       "└──────────┴───────┘"
      ],
      "text/html": [
       "<div><style>\n",
       ".dataframe > thead > tr,\n",
       ".dataframe > tbody > tr {\n",
       "  text-align: right;\n",
       "  white-space: pre-wrap;\n",
       "}\n",
       "</style>\n",
       "<small>shape: (10, 2)</small><table border=\"1\" class=\"dataframe\"><thead><tr><th>brand</th><th>len</th></tr><tr><td>str</td><td>u32</td></tr></thead><tbody><tr><td>&quot;Lenovo&quot;</td><td>15992</td></tr><tr><td>&quot;HP&quot;</td><td>14114</td></tr><tr><td>&quot;Dell&quot;</td><td>14005</td></tr><tr><td>&quot;Apple&quot;</td><td>11915</td></tr><tr><td>&quot;ASUS&quot;</td><td>10159</td></tr><tr><td>&quot;Acer&quot;</td><td>9925</td></tr><tr><td>&quot;Samsung&quot;</td><td>8066</td></tr><tr><td>&quot;MSI&quot;</td><td>7891</td></tr><tr><td>&quot;Gigabyte&quot;</td><td>4900</td></tr><tr><td>&quot;Razer&quot;</td><td>3033</td></tr></tbody></table></div>"
      ]
     },
     "execution_count": 14,
     "metadata": {},
     "output_type": "execute_result"
    }
   ],
   "execution_count": 14
  },
  {
   "metadata": {},
   "cell_type": "code",
   "outputs": [],
   "execution_count": null,
   "source": "",
   "id": "aade2d09e6c30f64"
  },
  {
   "metadata": {},
   "cell_type": "code",
   "outputs": [],
   "execution_count": null,
   "source": "",
   "id": "df10334cbef4d30b"
  },
  {
   "metadata": {},
   "cell_type": "code",
   "outputs": [],
   "execution_count": null,
   "source": "",
   "id": "264a374b7d3f6724"
  },
  {
   "metadata": {},
   "cell_type": "code",
   "outputs": [],
   "execution_count": null,
   "source": "",
   "id": "ff06334eb5abee35"
  },
  {
   "metadata": {},
   "cell_type": "code",
   "outputs": [],
   "execution_count": null,
   "source": "",
   "id": "4c41b1f9333a8dc5"
  }
 ],
 "metadata": {
  "kernelspec": {
   "display_name": "Python 3",
   "language": "python",
   "name": "python3"
  },
  "language_info": {
   "codemirror_mode": {
    "name": "ipython",
    "version": 2
   },
   "file_extension": ".py",
   "mimetype": "text/x-python",
   "name": "python",
   "nbconvert_exporter": "python",
   "pygments_lexer": "ipython2",
   "version": "2.7.6"
  }
 },
 "nbformat": 4,
 "nbformat_minor": 5
}
