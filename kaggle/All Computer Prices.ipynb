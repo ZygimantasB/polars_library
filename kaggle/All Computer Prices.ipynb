{
 "cells": [
  {
   "cell_type": "code",
   "id": "initial_id",
   "metadata": {
    "collapsed": true
   },
   "source": [
    "from math import trunc\n",
    "from select import KQ_NOTE_WRITE\n",
    "\n",
    "import polars as pl\n",
    "import polars.selectors as cs\n",
    "\n",
    "import altair as alt\n",
    "import plotly.express as px\n",
    "import seaborn as sns\n",
    "import matplotlib.pyplot as plt\n",
    "import numpy as np\n",
    "from datetime import datetime"
   ],
   "outputs": [],
   "execution_count": null
  },
  {
   "metadata": {},
   "cell_type": "code",
   "source": "df_path = r'/Users/zygimantas/Downloads/computer_prices_all.csv'",
   "id": "92163cc2d0b66a61",
   "outputs": [],
   "execution_count": null
  },
  {
   "metadata": {},
   "cell_type": "code",
   "source": "df = pl.read_csv(df_path)",
   "id": "2857c77b3f87b8b9",
   "outputs": [],
   "execution_count": null
  },
  {
   "metadata": {},
   "cell_type": "code",
   "source": "df.describe()",
   "id": "bd8ad2086fd6c9f8",
   "outputs": [],
   "execution_count": null
  },
  {
   "metadata": {},
   "cell_type": "code",
   "source": "df.collect_schema()",
   "id": "fcc315153c085c5c",
   "outputs": [],
   "execution_count": null
  },
  {
   "metadata": {},
   "cell_type": "code",
   "source": [
    "df.select(\n",
    "    pl.col('brand')\n",
    ").group_by(\n",
    "    'brand'\n",
    ").len().sort(\n",
    "    by='len',\n",
    "    descending=True\n",
    ")"
   ],
   "id": "7e1a7064712fc1d4",
   "outputs": [],
   "execution_count": null
  },
  {
   "metadata": {},
   "cell_type": "code",
   "source": "df.head(5)",
   "id": "aade2d09e6c30f64",
   "outputs": [],
   "execution_count": null
  },
  {
   "metadata": {},
   "cell_type": "code",
   "source": [
    "df = df.with_columns(\n",
    "    pl.col('resolution').str.split('x').list.get(0).alias('resolution_width').cast(pl.Int16),\n",
    "    pl.col('resolution').str.split('x').list.get(1).alias('resolution_height').cast(pl.Int16)\n",
    ")"
   ],
   "id": "a6f3e1dc1c864075",
   "outputs": [],
   "execution_count": null
  },
  {
   "metadata": {},
   "cell_type": "code",
   "source": "",
   "id": "8011b14688b934d",
   "outputs": [],
   "execution_count": null
  },
  {
   "metadata": {},
   "cell_type": "code",
   "source": [
    "df = df.with_columns(\n",
    "    (datetime.now().year - pl.col('release_year')).alias('device_age')\n",
    ")"
   ],
   "id": "df10334cbef4d30b",
   "outputs": [],
   "execution_count": null
  },
  {
   "metadata": {},
   "cell_type": "code",
   "source": [
    "df = df.with_columns(\n",
    "    pl.when((pl.col('device_type') == 'Desktop') & (pl.col('battery_wh') == 0))\n",
    "    .then(pl.lit(None))\n",
    "    .otherwise(pl.col('battery_wh'))\n",
    "    .alias('battery_wh'),\n",
    "    pl.when((pl.col('device_type') == 'Laptop') & (pl.col('psu_watts') == 0))\n",
    "    .then(pl.lit(None))\n",
    "    .otherwise(pl.col('psu_watts'))\n",
    "    .alias('psu_watts')\n",
    ")"
   ],
   "id": "264a374b7d3f6724",
   "outputs": [],
   "execution_count": null
  },
  {
   "metadata": {},
   "cell_type": "code",
   "source": [
    "df = df.with_columns(\n",
    "    pl.col('cpu_model'),\n",
    "    pl.coalesce([\n",
    "        pl.col('cpu_model').str.extract(r'([A-Za-z]+\\s\\d+)'),\n",
    "        pl.col('cpu_model').str.extract(r'([\\w]\\d)')\n",
    "    ]).alias('cpu_series')\n",
    ")"
   ],
   "id": "ff06334eb5abee35",
   "outputs": [],
   "execution_count": null
  },
  {
   "metadata": {},
   "cell_type": "code",
   "source": "df",
   "id": "1f62f156ddaaec72",
   "outputs": [],
   "execution_count": null
  },
  {
   "metadata": {},
   "cell_type": "markdown",
   "source": [
    "The user wants to round the result of the division, not the `storage_gb` column before division. The `round()` method should be applied to the entire expression result.\n",
    "\n"
   ],
   "id": "6507645942bb63c4"
  },
  {
   "metadata": {},
   "cell_type": "code",
   "source": [
    "df = df.with_columns(\n",
    "    (pl.col('price') / pl.col('storage_gb')).round(2).alias('price_per_gb_storage')\n",
    ")\n"
   ],
   "id": "65df20f44c859a7c",
   "outputs": [],
   "execution_count": null
  },
  {
   "metadata": {},
   "cell_type": "code",
   "source": "df",
   "id": "8cd5d790f3778ea8",
   "outputs": [],
   "execution_count": null
  },
  {
   "metadata": {},
   "cell_type": "code",
   "source": "df.collect_schema()",
   "id": "5ca753031be4b71c",
   "outputs": [],
   "execution_count": null
  },
  {
   "metadata": {},
   "cell_type": "code",
   "source": [
    "df.select(\n",
    "    pl.col('price', 'device_type')\n",
    ").group_by(\n",
    "    pl.col('device_type')\n",
    ").agg(\n",
    "    pl.sum('price')\n",
    ")"
   ],
   "id": "921fd7d2545158b2",
   "outputs": [],
   "execution_count": null
  },
  {
   "metadata": {},
   "cell_type": "code",
   "source": [
    "plt.figure(figsize=(10, 6))\n",
    "sns.histplot(data=df.to_pandas(), x='price', bins=30, kde=True)\n",
    "plt.title('Distribution of Device Prices')\n",
    "plt.xlabel('Price ($)')\n",
    "plt.ylabel('Frequency')\n",
    "plt.show()\n",
    "\n",
    "price_mean = df.select(pl.col('price').mean()).item()\n",
    "price_median = df.select(pl.col('price').median()).item()\n",
    "\n",
    "print(f\"Mean Price: ${price_mean:.2f}\")\n",
    "print(f\"Median Price: ${price_median:.2f}\")\n",
    "print(\n",
    "    f\"\\nThe distribution is right-skewed because the mean (${price_mean:.2f}) is greater than the median (${price_median:.2f}).\")\n",
    "print(\n",
    "    \"This indicates that there are some expensive devices pulling the average up, with the tail extending to the right.\")\n"
   ],
   "id": "97714854a4a172ab",
   "outputs": [],
   "execution_count": null
  },
  {
   "metadata": {},
   "cell_type": "code",
   "source": [
    "plt.figure(figsize=(12, 8))\n",
    "sns.histplot(df.to_pandas(), x='price', bins=30, kde=True)\n",
    "plt.title('Distribution of Device Prices')\n",
    "plt.xlabel('Price ($)')\n",
    "plt.ylabel('Frequency')\n",
    "plt.show()\n",
    "\n",
    "price_mean = df.select(pl.col('price').mean()).item()\n",
    "price_median = df.select(pl.col('price').median()).item()\n",
    "\n",
    "print(f\"Mean Price: ${price_mean:.2f}\")\n",
    "print(f\"Median Price: ${price_median:.2f}\")\n",
    "print(\n",
    "    f\"\\nThe distribution is right-skewed because the mean (${price_mean:.2f}) is greater than the median (${price_median:.2f}).\")\n",
    "print(\n",
    "    \"This indicates that there are some expensive devices pulling the average up, with the tail extending to the right.\")"
   ],
   "id": "53016d3be972a291",
   "outputs": [],
   "execution_count": null
  },
  {
   "metadata": {},
   "cell_type": "code",
   "source": [
    "top_5_brand = df.select(\n",
    "    pl.col('brand')\n",
    ").group_by(\n",
    "    'brand'\n",
    ").len().sort(\n",
    "    by='len', descending=True\n",
    ").head(5)\n",
    "\n",
    "top_5_brand"
   ],
   "id": "ca8957f6a63d448d",
   "outputs": [],
   "execution_count": null
  },
  {
   "metadata": {},
   "cell_type": "code",
   "source": [
    "fig = px.bar(\n",
    "    top_5_brand,\n",
    "    x='brand',\n",
    "    y='len'\n",
    ")\n",
    "\n",
    "fig.update_layout(\n",
    "    title='Top 5 Brands by Number of Devices',\n",
    "    width=800,\n",
    "    height=600\n",
    ")\n",
    "\n",
    "fig"
   ],
   "id": "3667dd8b2ef23334",
   "outputs": [],
   "execution_count": null
  },
  {
   "metadata": {},
   "cell_type": "code",
   "source": [
    "os_counting = df.select(\n",
    "    pl.col('os')\n",
    ").group_by(\n",
    "    'os'\n",
    ").len().sort(\n",
    "    by='len', descending=True\n",
    ")\n",
    "os_counting"
   ],
   "id": "61e0b1210b40da57",
   "outputs": [],
   "execution_count": null
  },
  {
   "metadata": {},
   "cell_type": "code",
   "source": [
    "fig = px.bar(\n",
    "    data_frame=os_counting\n",
    ",\n",
    "    x='os',\n",
    "    y='len'\n",
    ")\n",
    "\n",
    "fig.update_layout(\n",
    "    width=800,\n",
    "    height=600,\n",
    ")\n",
    "\n",
    "fig.show()"
   ],
   "id": "4ae6e1ca83e6153c",
   "outputs": [],
   "execution_count": null
  },
  {
   "metadata": {},
   "cell_type": "code",
   "source": [
    "ram_price = df.select(\n",
    "    pl.col('ram_gb', 'price')\n",
    ")\n",
    "\n",
    "ram_price.corr()"
   ],
   "id": "ae9f8f5d393a8d34",
   "outputs": [],
   "execution_count": null
  },
  {
   "metadata": {},
   "cell_type": "code",
   "source": [
    "plt.figure(figsize=(12, 8))\n",
    "plt.scatter(\n",
    "    ram_price['ram_gb'],  # X-axis: RAM (GB)\n",
    "    ram_price['price'],  # Y-axis: Price ($)\n",
    "    c=ram_price['ram_gb'],\n",
    "    cmap='viridis',\n",
    "    alpha=0.8,\n",
    "    edgecolors='none'\n",
    ")\n",
    "plt.title('RAM (GB) vs Price ($)')\n",
    "plt.xlabel('RAM (GB)')\n",
    "plt.ylabel('Price ($)')\n",
    "plt.grid(False)\n",
    "\n",
    "plt.show()\n"
   ],
   "id": "ca3f87a2e2b4ade0",
   "outputs": [],
   "execution_count": null
  },
  {
   "metadata": {},
   "cell_type": "code",
   "source": [
    "df.select(\n",
    "    pl.col('device_type', 'price')\n",
    ").filter(\n",
    "    (pl.col('device_type') == 'Desktop') |\n",
    "    (pl.col('device_type') == 'Laptop')\n",
    ").group_by(\n",
    "    pl.col('device_type')\n",
    ").agg(\n",
    "    pl.mean('price').alias('price_mean'),\n",
    "    pl.median('price').alias('price_median'),\n",
    "    pl.sum('price').alias('price_sum'),\n",
    ")"
   ],
   "id": "8d506df605ea5f48",
   "outputs": [],
   "execution_count": null
  },
  {
   "metadata": {},
   "cell_type": "code",
   "source": [
    "cpu_tier_price = df.select(\n",
    "    pl.col('cpu_tier', 'price')\n",
    ").group_by(\n",
    "    'cpu_tier'\n",
    ").agg(\n",
    "    pl.mean('price').alias('price_mean'),\n",
    ")\n",
    "\n",
    "cpu_tier_price"
   ],
   "id": "83222293e1b6a068",
   "outputs": [],
   "execution_count": null
  },
  {
   "metadata": {},
   "cell_type": "code",
   "source": [
    "fig = px.bar(\n",
    "    data_frame=cpu_tier_price,\n",
    "    x='cpu_tier',\n",
    "    y='price_mean'\n",
    ")\n",
    "\n",
    "fig.update_layout(\n",
    "    width=800,\n",
    "    height=600,\n",
    ")\n",
    "\n",
    "fig.show()"
   ],
   "id": "31018813be89f818",
   "outputs": [],
   "execution_count": null
  },
  {
   "metadata": {},
   "cell_type": "code",
   "source": [
    "corr_between_cou_ghz_price = df.select(\n",
    "    pl.col('cpu_cores', 'cpu_boost_ghz', 'price')\n",
    ")"
   ],
   "id": "e7f7e03c1899a3f4",
   "outputs": [],
   "execution_count": null
  },
  {
   "metadata": {},
   "cell_type": "code",
   "source": [
    "fig = px.scatter(\n",
    "    data_frame=corr_between_cou_ghz_price,\n",
    "    x='cpu_cores',\n",
    "    y='cpu_boost_ghz',\n",
    ")\n",
    "\n",
    "fig.update_layout(\n",
    "    width=800,\n",
    "    height=600,\n",
    "    title='Correlation between CPU Cores',\n",
    ")\n",
    "\n",
    "fig.show()"
   ],
   "id": "9e42b86b80a36f5d",
   "outputs": [],
   "execution_count": null
  },
  {
   "metadata": {},
   "cell_type": "code",
   "source": [
    "fig = px.scatter(\n",
    "    data_frame=df.to_pandas(),\n",
    "    x='cpu_cores',\n",
    "    y='cpu_boost_ghz',\n",
    "    size='price',\n",
    "    color='price',\n",
    "    color_continuous_scale='Viridis',\n",
    "    title='Relationship between CPU Cores, CPU Boost GHz, and Price',\n",
    "    labels={\n",
    "        'cpu_cores': 'CPU Cores',\n",
    "        'cpu_boost_ghz': 'CPU Boost (GHz)',\n",
    "        'price': 'Price ($)'\n",
    "    },\n",
    "    hover_data=['price']\n",
    "\n",
    ")\n",
    "\n",
    "fig.update_layout(\n",
    "    width=1000,\n",
    "    height=700\n",
    ")\n",
    "\n",
    "fig.show()\n"
   ],
   "id": "4be1d0cddfff612",
   "outputs": [],
   "execution_count": null
  },
  {
   "metadata": {},
   "cell_type": "code",
   "source": [
    "fig = px.scatter(\n",
    "    data_frame=corr_between_cou_ghz_price.to_pandas(),\n",
    "    x='cpu_cores',\n",
    "    y='cpu_boost_ghz',\n",
    "    size='price',\n",
    "    color='price',\n",
    "    color_continuous_scale='Viridis',\n",
    "    title='Relationship between CPU Cores, CPU Boost GHz, and Price',\n",
    "    labels=[{\n",
    "        'cpu_cores': 'CPU Cores',\n",
    "        'cpu_boost_ghz': 'CPU Boost (GHz)',\n",
    "        'price': 'Price ($)'\n",
    "    }]\n",
    ")\n",
    "fig.update_layout(\n",
    "    width=1000,\n",
    "    height=700\n",
    ")\n",
    "\n",
    "\n",
    "fig.show()"
   ],
   "id": "ad48904054f77f6d",
   "outputs": [],
   "execution_count": null
  },
  {
   "metadata": {},
   "cell_type": "code",
   "source": [
    "df.select(\n",
    "    pl.col('storage_type', 'price_per_gb_storage')\n",
    ").group_by(\n",
    "    'storage_type'\n",
    ").agg(\n",
    "    pl.col('price_per_gb_storage').mean().alias('avg_price_per_gb'),\n",
    "    pl.col('price_per_gb_storage').median().alias('median_price_per_gb'),\n",
    "    pl.sum('price_per_gb_storage').alias('total_price_per_gb')\n",
    ")"
   ],
   "id": "f0a4113b08524381",
   "outputs": [],
   "execution_count": null
  },
  {
   "metadata": {},
   "cell_type": "code",
   "source": [
    "df.select(\n",
    "    pl.col('storage_type', 'price_per_gb_storage')\n",
    ").group_by(\n",
    "    'storage_type'\n",
    ").agg(\n",
    "    pl.col('price_per_gb_storage').mean().alias('avg_price_per_gb')\n",
    ").sort(\n",
    "    'avg_price_per_gb'\n",
    ")\n"
   ],
   "id": "eb79872b86ad11b7",
   "outputs": [],
   "execution_count": null
  },
  {
   "metadata": {},
   "cell_type": "code",
   "source": [
    "df.filter(\n",
    "    (pl.col('gpu_tier') >= 4) &\n",
    "    (pl.col('price').is_between(2000, 3000))\n",
    ").select(\n",
    "    pl.mean('ram_gb').alias('ram_gb_mean'),\n",
    "    pl.mean('vram_gb').alias('vram_gb_mean'),\n",
    "    pl.mean('cpu_cores').alias('cpu_cores_mean'),\n",
    "    pl.mean('price').alias('price_mean')\n",
    ")"
   ],
   "id": "24933658851f5ebe",
   "outputs": [],
   "execution_count": null
  },
  {
   "metadata": {},
   "cell_type": "code",
   "source": [
    "df.filter(\n",
    "    (pl.col('gpu_tier') >= 4) &\n",
    "    (pl.col('price').is_between(2000, 3000))\n",
    ").select(\n",
    "    pl.col('ram_gb').mean().alias('avg_ram_gb'),\n",
    "    pl.col('vram_gb').mean().alias('avg_vram_gb'),\n",
    "    pl.col('cpu_cores').mean().alias('avg_cpu_cores')\n",
    ")"
   ],
   "id": "30b6d9af2d66b6f4",
   "outputs": [],
   "execution_count": null
  },
  {
   "metadata": {},
   "cell_type": "code",
   "source": "df.collect_schema()",
   "id": "b04f9e62e2a62b99",
   "outputs": [],
   "execution_count": null
  },
  {
   "metadata": {},
   "cell_type": "code",
   "source": [
    "df.select(\n",
    "    pl.col('warranty_months', 'price')\n",
    ").group_by(\n",
    "    pl.col('warranty_months')\n",
    ").agg(\n",
    "    pl.col('price').mean().alias('avg_prices'),\n",
    "    pl.col('price').median().alias('median_prices'),\n",
    "    pl.count('warranty_months').alias('count')\n",
    ").sort(\n",
    "    by='warranty_months'\n",
    ")"
   ],
   "id": "3dcff779da9d48f3",
   "outputs": [],
   "execution_count": null
  },
  {
   "metadata": {},
   "cell_type": "code",
   "source": [
    "# Calculate correlation between warranty_months and price\n",
    "correlation = df.select(\n",
    "    pl.corr('warranty_months', 'price').alias('correlation')\n",
    ").item()\n",
    "\n",
    "print(f\"Correlation between warranty_months and price: {correlation:.4f}\")\n",
    "\n",
    "# Create a scatter plot to visualize the relationship\n",
    "fig = px.scatter(\n",
    "    data_frame=df.to_pandas(),\n",
    "    x='warranty_months',\n",
    "    y='price',\n",
    "    trendline='ols',\n",
    "    title='Warranty Months vs Price',\n",
    "    labels={\n",
    "        'warranty_months': 'Warranty (Months)',\n",
    "        'price': 'Price ($)'\n",
    "    },\n",
    "    opacity=0.6\n",
    ")\n",
    "\n",
    "fig.update_layout(\n",
    "    width=1000,\n",
    "    height=600\n",
    ")\n",
    "\n",
    "fig.show()\n",
    "\n",
    "# Interpret the results\n",
    "if correlation > 0.3:\n",
    "    print(f\"\\n✓ Hypothesis SUPPORTED: Strong positive correlation ({correlation:.4f})\")\n",
    "    print(\"Devices with longer warranties tend to be more expensive.\")\n",
    "elif correlation > 0.1:\n",
    "    print(f\"\\n~ Hypothesis PARTIALLY SUPPORTED: Weak positive correlation ({correlation:.4f})\")\n",
    "    print(\"There is a slight tendency for longer warranties to be associated with higher prices.\")\n",
    "elif correlation > -0.1:\n",
    "    print(f\"\\n✗ Hypothesis DISPROVED: No significant correlation ({correlation:.4f})\")\n",
    "    print(\"Warranty length has little to no relationship with price.\")\n",
    "else:\n",
    "    print(f\"\\n✗ Hypothesis DISPROVED: Negative correlation ({correlation:.4f})\")\n",
    "    print(\"Devices with longer warranties tend to be less expensive.\")\n",
    "\n"
   ],
   "id": "a6b5cee01d1119af",
   "outputs": [],
   "execution_count": null
  },
  {
   "metadata": {},
   "cell_type": "markdown",
   "source": [
    "## Summary of Task\n",
    "Identify price outliers within each device_type group using the IQR method and create visualizations to show these outliers. First create a box plot grouped by device_type, then programmatically identify specific models that exceed the upper outlier threshold (Q3 + 1.5*IQR).\n",
    "\n"
   ],
   "id": "f33ef0ce04e6c09b"
  },
  {
   "metadata": {},
   "cell_type": "code",
   "source": [
    "# Create box plot to visualize price outliers by device_type\n",
    "fig = px.box(\n",
    "    data_frame=df.to_pandas(),\n",
    "    x='device_type',\n",
    "    y='price',\n",
    "    title='Price Distribution by Device Type (with Outliers)',\n",
    "    labels={\n",
    "        'device_type': 'Device Type',\n",
    "        'price': 'Price ($)'\n",
    "    },\n",
    "    points='outliers'\n",
    ")\n",
    "\n",
    "fig.update_layout(\n",
    "    width=1000,\n",
    "    height=600\n",
    ")\n",
    "\n",
    "fig.show()\n",
    "\n",
    "# Identify outliers programmatically using IQR method\n",
    "outliers = df.group_by('device_type').agg([\n",
    "    pl.col('price').quantile(0.25).alias('Q1'),\n",
    "    pl.col('price').quantile(0.75).alias('Q3')\n",
    "]).with_columns(\n",
    "    (pl.col('Q3') - pl.col('Q1')).alias('IQR')\n",
    ").with_columns(\n",
    "    (pl.col('Q3') + 1.5 * pl.col('IQR')).alias('upper_limit')\n",
    ")\n",
    "\n",
    "# Join back to original dataframe and filter for outliers\n",
    "outlier_devices = df.join(\n",
    "    outliers,\n",
    "    on='device_type',\n",
    "    how='left'\n",
    ").filter(\n",
    "    pl.col('price') > pl.col('upper_limit')\n",
    ").select(\n",
    "    pl.col('device_type', 'brand', 'model', 'price', 'upper_limit')\n",
    ").sort(\n",
    "    by=['device_type', 'price'],\n",
    "    descending=[False, True]\n",
    ")\n",
    "\n",
    "print(f\"\\nTotal number of outliers found: {outlier_devices.height}\")\n",
    "print(\"\\nTop 10 most expensive outliers:\")\n",
    "outlier_devices.head(10)"
   ],
   "id": "d5dc81b823d2418f",
   "outputs": [],
   "execution_count": null
  },
  {
   "metadata": {},
   "cell_type": "code",
   "source": [
    "outliers = df.group_by('device_type').agg([\n",
    "    pl.col('price').quantile(0.25).alias('Q1'),\n",
    "    pl.col('price').quantile(0.75).alias('Q3')\n",
    "]).with_columns(\n",
    "    (pl.col('Q3') - pl.col('Q1')).alias('IQR')\n",
    ").with_columns(\n",
    "    (pl.col('Q3') + 1.5 * pl.col('IQR')).alias('upper_limit')\n",
    ")\n",
    "\n",
    "outliers"
   ],
   "id": "9e5270112ed2f419",
   "outputs": [],
   "execution_count": null
  },
  {
   "metadata": {},
   "cell_type": "code",
   "source": [
    "df.join(\n",
    "    outliers,\n",
    "    on='device_type',\n",
    "    how='left'\n",
    ").filter(\n",
    "    pl.col('price') > pl.col('upper_limit')\n",
    ").select(\n",
    "    pl.col('device_type', 'brand', 'model', 'price', 'upper_limit')\n",
    ").sort(\n",
    "    by=['device_type', 'price'],\n",
    "    descending=[False, True]\n",
    ")"
   ],
   "id": "2133ffd599d99835",
   "outputs": [],
   "execution_count": null
  },
  {
   "metadata": {
    "ExecuteTime": {
     "end_time": "2025-10-16T11:47:26.544512Z",
     "start_time": "2025-10-16T11:47:26.538073Z"
    }
   },
   "cell_type": "code",
   "source": "df.collect_schema()",
   "id": "f7511e9acfe21e34",
   "outputs": [
    {
     "data": {
      "text/plain": [
       "Schema([('device_type', String),\n",
       "        ('brand', String),\n",
       "        ('model', String),\n",
       "        ('release_year', Int64),\n",
       "        ('os', String),\n",
       "        ('form_factor', String),\n",
       "        ('cpu_brand', String),\n",
       "        ('cpu_model', String),\n",
       "        ('cpu_tier', Int64),\n",
       "        ('cpu_cores', Int64),\n",
       "        ('cpu_threads', Int64),\n",
       "        ('cpu_base_ghz', Float64),\n",
       "        ('cpu_boost_ghz', Float64),\n",
       "        ('gpu_brand', String),\n",
       "        ('gpu_model', String),\n",
       "        ('gpu_tier', Int64),\n",
       "        ('vram_gb', Int64),\n",
       "        ('ram_gb', Int64),\n",
       "        ('storage_type', String),\n",
       "        ('storage_gb', Int64),\n",
       "        ('storage_drive_count', Int64),\n",
       "        ('display_type', String),\n",
       "        ('display_size_in', Float64),\n",
       "        ('resolution', String),\n",
       "        ('refresh_hz', Int64),\n",
       "        ('battery_wh', Int64),\n",
       "        ('charger_watts', Int64),\n",
       "        ('psu_watts', Int64),\n",
       "        ('wifi', String),\n",
       "        ('bluetooth', Float64),\n",
       "        ('weight_kg', Float64),\n",
       "        ('warranty_months', Int64),\n",
       "        ('price', Float64),\n",
       "        ('resolution_width', Int16),\n",
       "        ('resolution_height', Int16),\n",
       "        ('device_age', Int64),\n",
       "        ('cpu_series', String),\n",
       "        ('price_per_gb_storage', Float64)])"
      ]
     },
     "execution_count": 76,
     "metadata": {},
     "output_type": "execute_result"
    }
   ],
   "execution_count": 76
  },
  {
   "metadata": {
    "ExecuteTime": {
     "end_time": "2025-10-16T11:49:33.224852Z",
     "start_time": "2025-10-16T11:49:33.212187Z"
    }
   },
   "cell_type": "code",
   "source": [
    "df.filter(\n",
    "    (pl.col('weight_kg') < 1.5) &\n",
    "    (pl.col('cpu_tier') >= 4) &\n",
    "    (pl.col('device_type') == 'Laptop')\n",
    ")"
   ],
   "id": "9e7079fbbe87467f",
   "outputs": [
    {
     "data": {
      "text/plain": [
       "shape: (9_137, 38)\n",
       "┌────────────┬────────┬────────────┬───────────┬───┬───────────┬───────────┬───────────┬───────────┐\n",
       "│ device_typ ┆ brand  ┆ model      ┆ release_y ┆ … ┆ resolutio ┆ device_ag ┆ cpu_serie ┆ price_per │\n",
       "│ e          ┆ ---    ┆ ---        ┆ ear       ┆   ┆ n_height  ┆ e         ┆ s         ┆ _gb_stora │\n",
       "│ ---        ┆ str    ┆ str        ┆ ---       ┆   ┆ ---       ┆ ---       ┆ ---       ┆ ge        │\n",
       "│ str        ┆        ┆            ┆ i64       ┆   ┆ i16       ┆ i64       ┆ str       ┆ ---       │\n",
       "│            ┆        ┆            ┆           ┆   ┆           ┆           ┆           ┆ f64       │\n",
       "╞════════════╪════════╪════════════╪═══════════╪═══╪═══════════╪═══════════╪═══════════╪═══════════╡\n",
       "│ Laptop     ┆ Dell   ┆ Dell       ┆ 2024      ┆ … ┆ 1600      ┆ 1         ┆ i9        ┆ 2.88      │\n",
       "│            ┆        ┆ Creator    ┆           ┆   ┆           ┆           ┆           ┆           │\n",
       "│            ┆        ┆ GIQ        ┆           ┆   ┆           ┆           ┆           ┆           │\n",
       "│ Laptop     ┆ Dell   ┆ Dell Nitro ┆ 2024      ┆ … ┆ 1600      ┆ 1         ┆ Ryzen 7   ┆ 2.06      │\n",
       "│            ┆        ┆ 614        ┆           ┆   ┆           ┆           ┆           ┆           │\n",
       "│ Laptop     ┆ Apple  ┆ Apple      ┆ 2023      ┆ … ┆ 1080      ┆ 2         ┆ M3        ┆ 3.34      │\n",
       "│            ┆        ┆ Blade 0BN  ┆           ┆   ┆           ┆           ┆           ┆           │\n",
       "│ Laptop     ┆ Dell   ┆ Dell Slim  ┆ 2024      ┆ … ┆ 1080      ┆ 1         ┆ i7        ┆ 2.5       │\n",
       "│            ┆        ┆ NHG        ┆           ┆   ┆           ┆           ┆           ┆           │\n",
       "│ Laptop     ┆ Apple  ┆ Apple      ┆ 2020      ┆ … ┆ 1080      ┆ 5         ┆ M2        ┆ 3.09      │\n",
       "│            ┆        ┆ Think YDD  ┆           ┆   ┆           ┆           ┆           ┆           │\n",
       "│ …          ┆ …      ┆ …          ┆ …         ┆ … ┆ …         ┆ …         ┆ …         ┆ …         │\n",
       "│ Laptop     ┆ MSI    ┆ MSI Air    ┆ 2020      ┆ … ┆ 1080      ┆ 5         ┆ i7        ┆ 1.7       │\n",
       "│            ┆        ┆ 2F0        ┆           ┆   ┆           ┆           ┆           ┆           │\n",
       "│ Laptop     ┆ Dell   ┆ Dell       ┆ 2024      ┆ … ┆ 2160      ┆ 1         ┆ Ryzen 7   ┆ 9.82      │\n",
       "│            ┆        ┆ Creator    ┆           ┆   ┆           ┆           ┆           ┆           │\n",
       "│            ┆        ┆ S3L        ┆           ┆   ┆           ┆           ┆           ┆           │\n",
       "│ Laptop     ┆ Apple  ┆ Apple Slim ┆ 2023      ┆ … ┆ 1080      ┆ 2         ┆ M1        ┆ 1.28      │\n",
       "│            ┆        ┆ C5Y        ┆           ┆   ┆           ┆           ┆           ┆           │\n",
       "│ Laptop     ┆ HP     ┆ HP Legion  ┆ 2021      ┆ … ┆ 1080      ┆ 4         ┆ i7        ┆ 4.68      │\n",
       "│            ┆        ┆ ZCB        ┆           ┆   ┆           ┆           ┆           ┆           │\n",
       "│ Laptop     ┆ Lenovo ┆ Lenovo Air ┆ 2025      ┆ … ┆ 1080      ┆ 0         ┆ i7        ┆ 1.98      │\n",
       "│            ┆        ┆ 9FB        ┆           ┆   ┆           ┆           ┆           ┆           │\n",
       "└────────────┴────────┴────────────┴───────────┴───┴───────────┴───────────┴───────────┴───────────┘"
      ],
      "text/html": [
       "<div><style>\n",
       ".dataframe > thead > tr,\n",
       ".dataframe > tbody > tr {\n",
       "  text-align: right;\n",
       "  white-space: pre-wrap;\n",
       "}\n",
       "</style>\n",
       "<small>shape: (9_137, 38)</small><table border=\"1\" class=\"dataframe\"><thead><tr><th>device_type</th><th>brand</th><th>model</th><th>release_year</th><th>os</th><th>form_factor</th><th>cpu_brand</th><th>cpu_model</th><th>cpu_tier</th><th>cpu_cores</th><th>cpu_threads</th><th>cpu_base_ghz</th><th>cpu_boost_ghz</th><th>gpu_brand</th><th>gpu_model</th><th>gpu_tier</th><th>vram_gb</th><th>ram_gb</th><th>storage_type</th><th>storage_gb</th><th>storage_drive_count</th><th>display_type</th><th>display_size_in</th><th>resolution</th><th>refresh_hz</th><th>battery_wh</th><th>charger_watts</th><th>psu_watts</th><th>wifi</th><th>bluetooth</th><th>weight_kg</th><th>warranty_months</th><th>price</th><th>resolution_width</th><th>resolution_height</th><th>device_age</th><th>cpu_series</th><th>price_per_gb_storage</th></tr><tr><td>str</td><td>str</td><td>str</td><td>i64</td><td>str</td><td>str</td><td>str</td><td>str</td><td>i64</td><td>i64</td><td>i64</td><td>f64</td><td>f64</td><td>str</td><td>str</td><td>i64</td><td>i64</td><td>i64</td><td>str</td><td>i64</td><td>i64</td><td>str</td><td>f64</td><td>str</td><td>i64</td><td>i64</td><td>i64</td><td>i64</td><td>str</td><td>f64</td><td>f64</td><td>i64</td><td>f64</td><td>i16</td><td>i16</td><td>i64</td><td>str</td><td>f64</td></tr></thead><tbody><tr><td>&quot;Laptop&quot;</td><td>&quot;Dell&quot;</td><td>&quot;Dell Creator GIQ&quot;</td><td>2024</td><td>&quot;Windows&quot;</td><td>&quot;Mainstream&quot;</td><td>&quot;Intel&quot;</td><td>&quot;Intel i9-14473&quot;</td><td>6</td><td>26</td><td>52</td><td>3.0</td><td>4.1</td><td>&quot;NVIDIA&quot;</td><td>&quot;RTX 40 90&quot;</td><td>6</td><td>16</td><td>128</td><td>&quot;SSD&quot;</td><td>1024</td><td>1</td><td>&quot;LED&quot;</td><td>14.0</td><td>&quot;2560x1600&quot;</td><td>60</td><td>80</td><td>240</td><td>null</td><td>&quot;Wi-Fi 5&quot;</td><td>5.0</td><td>1.17</td><td>48</td><td>2953.99</td><td>2560</td><td>1600</td><td>1</td><td>&quot;i9&quot;</td><td>2.88</td></tr><tr><td>&quot;Laptop&quot;</td><td>&quot;Dell&quot;</td><td>&quot;Dell Nitro 614&quot;</td><td>2024</td><td>&quot;Windows&quot;</td><td>&quot;Ultrabook&quot;</td><td>&quot;AMD&quot;</td><td>&quot;AMD Ryzen 7 5302&quot;</td><td>4</td><td>14</td><td>28</td><td>2.6</td><td>3.6</td><td>&quot;NVIDIA&quot;</td><td>&quot;RTX 30 70&quot;</td><td>3</td><td>8</td><td>32</td><td>&quot;SSD&quot;</td><td>1024</td><td>1</td><td>&quot;LED&quot;</td><td>15.6</td><td>&quot;2560x1600&quot;</td><td>60</td><td>70</td><td>180</td><td>null</td><td>&quot;Wi-Fi 6&quot;</td><td>5.1</td><td>1.1</td><td>24</td><td>2109.99</td><td>2560</td><td>1600</td><td>1</td><td>&quot;Ryzen 7&quot;</td><td>2.06</td></tr><tr><td>&quot;Laptop&quot;</td><td>&quot;Apple&quot;</td><td>&quot;Apple Blade 0BN&quot;</td><td>2023</td><td>&quot;Windows&quot;</td><td>&quot;Mainstream&quot;</td><td>&quot;Apple&quot;</td><td>&quot;Apple M3 Pro&quot;</td><td>5</td><td>18</td><td>18</td><td>2.8</td><td>3.6</td><td>&quot;Apple&quot;</td><td>&quot;Apple Integrated&quot;</td><td>6</td><td>6</td><td>96</td><td>&quot;NVMe&quot;</td><td>1024</td><td>1</td><td>&quot;QLED&quot;</td><td>14.0</td><td>&quot;1920x1080&quot;</td><td>60</td><td>60</td><td>45</td><td>null</td><td>&quot;Wi-Fi 6E&quot;</td><td>5.1</td><td>1.17</td><td>24</td><td>3421.99</td><td>1920</td><td>1080</td><td>2</td><td>&quot;M3&quot;</td><td>3.34</td></tr><tr><td>&quot;Laptop&quot;</td><td>&quot;Dell&quot;</td><td>&quot;Dell Slim NHG&quot;</td><td>2024</td><td>&quot;Windows&quot;</td><td>&quot;Mainstream&quot;</td><td>&quot;Intel&quot;</td><td>&quot;Intel i7-12360&quot;</td><td>5</td><td>18</td><td>36</td><td>2.8</td><td>3.7</td><td>&quot;AMD&quot;</td><td>&quot;RX 7000 80 XT&quot;</td><td>5</td><td>12</td><td>96</td><td>&quot;Hybrid&quot;</td><td>1024</td><td>1</td><td>&quot;OLED&quot;</td><td>17.3</td><td>&quot;1920x1080&quot;</td><td>90</td><td>70</td><td>120</td><td>null</td><td>&quot;Wi-Fi 6&quot;</td><td>5.0</td><td>1.44</td><td>24</td><td>2560.99</td><td>1920</td><td>1080</td><td>1</td><td>&quot;i7&quot;</td><td>2.5</td></tr><tr><td>&quot;Laptop&quot;</td><td>&quot;Apple&quot;</td><td>&quot;Apple Think YDD&quot;</td><td>2020</td><td>&quot;Windows&quot;</td><td>&quot;Gaming&quot;</td><td>&quot;Apple&quot;</td><td>&quot;Apple M2&quot;</td><td>5</td><td>16</td><td>16</td><td>2.8</td><td>3.7</td><td>&quot;Apple&quot;</td><td>&quot;Apple Integrated&quot;</td><td>5</td><td>2</td><td>96</td><td>&quot;NVMe&quot;</td><td>1024</td><td>1</td><td>&quot;OLED&quot;</td><td>14.0</td><td>&quot;1920x1080&quot;</td><td>120</td><td>70</td><td>90</td><td>null</td><td>&quot;Wi-Fi 6E&quot;</td><td>5.0</td><td>1.17</td><td>24</td><td>3163.99</td><td>1920</td><td>1080</td><td>5</td><td>&quot;M2&quot;</td><td>3.09</td></tr><tr><td>&hellip;</td><td>&hellip;</td><td>&hellip;</td><td>&hellip;</td><td>&hellip;</td><td>&hellip;</td><td>&hellip;</td><td>&hellip;</td><td>&hellip;</td><td>&hellip;</td><td>&hellip;</td><td>&hellip;</td><td>&hellip;</td><td>&hellip;</td><td>&hellip;</td><td>&hellip;</td><td>&hellip;</td><td>&hellip;</td><td>&hellip;</td><td>&hellip;</td><td>&hellip;</td><td>&hellip;</td><td>&hellip;</td><td>&hellip;</td><td>&hellip;</td><td>&hellip;</td><td>&hellip;</td><td>&hellip;</td><td>&hellip;</td><td>&hellip;</td><td>&hellip;</td><td>&hellip;</td><td>&hellip;</td><td>&hellip;</td><td>&hellip;</td><td>&hellip;</td><td>&hellip;</td><td>&hellip;</td></tr><tr><td>&quot;Laptop&quot;</td><td>&quot;MSI&quot;</td><td>&quot;MSI Air 2F0&quot;</td><td>2020</td><td>&quot;Windows&quot;</td><td>&quot;Mainstream&quot;</td><td>&quot;Intel&quot;</td><td>&quot;Intel i7-10761&quot;</td><td>4</td><td>14</td><td>28</td><td>2.6</td><td>3.7</td><td>&quot;NVIDIA&quot;</td><td>&quot;RTX 30 60&quot;</td><td>2</td><td>6</td><td>40</td><td>&quot;NVMe&quot;</td><td>1024</td><td>1</td><td>&quot;IPS&quot;</td><td>16.0</td><td>&quot;1920x1080&quot;</td><td>120</td><td>70</td><td>120</td><td>null</td><td>&quot;Wi-Fi 6E&quot;</td><td>5.0</td><td>1.33</td><td>12</td><td>1736.99</td><td>1920</td><td>1080</td><td>5</td><td>&quot;i7&quot;</td><td>1.7</td></tr><tr><td>&quot;Laptop&quot;</td><td>&quot;Dell&quot;</td><td>&quot;Dell Creator S3L&quot;</td><td>2024</td><td>&quot;Windows&quot;</td><td>&quot;Ultrabook&quot;</td><td>&quot;AMD&quot;</td><td>&quot;AMD Ryzen 7 4871&quot;</td><td>4</td><td>14</td><td>28</td><td>2.6</td><td>3.6</td><td>&quot;AMD&quot;</td><td>&quot;RX 6000 80&quot;</td><td>4</td><td>10</td><td>64</td><td>&quot;SSD&quot;</td><td>256</td><td>1</td><td>&quot;IPS&quot;</td><td>15.6</td><td>&quot;3840x2160&quot;</td><td>60</td><td>50</td><td>120</td><td>null</td><td>&quot;Wi-Fi 6&quot;</td><td>5.2</td><td>1.1</td><td>12</td><td>2513.99</td><td>3840</td><td>2160</td><td>1</td><td>&quot;Ryzen 7&quot;</td><td>9.82</td></tr><tr><td>&quot;Laptop&quot;</td><td>&quot;Apple&quot;</td><td>&quot;Apple Slim C5Y&quot;</td><td>2023</td><td>&quot;Windows&quot;</td><td>&quot;Gaming&quot;</td><td>&quot;Apple&quot;</td><td>&quot;Apple M1&quot;</td><td>4</td><td>12</td><td>12</td><td>2.6</td><td>3.5</td><td>&quot;Apple&quot;</td><td>&quot;Apple Integrated&quot;</td><td>5</td><td>6</td><td>64</td><td>&quot;NVMe&quot;</td><td>2048</td><td>1</td><td>&quot;LED&quot;</td><td>14.0</td><td>&quot;1920x1080&quot;</td><td>60</td><td>60</td><td>65</td><td>null</td><td>&quot;Wi-Fi 6E&quot;</td><td>5.3</td><td>0.97</td><td>24</td><td>2630.99</td><td>1920</td><td>1080</td><td>2</td><td>&quot;M1&quot;</td><td>1.28</td></tr><tr><td>&quot;Laptop&quot;</td><td>&quot;HP&quot;</td><td>&quot;HP Legion ZCB&quot;</td><td>2021</td><td>&quot;Windows&quot;</td><td>&quot;Mainstream&quot;</td><td>&quot;Intel&quot;</td><td>&quot;Intel i7-12249&quot;</td><td>5</td><td>18</td><td>36</td><td>2.8</td><td>3.9</td><td>&quot;NVIDIA&quot;</td><td>&quot;RTX 40 80&quot;</td><td>4</td><td>10</td><td>72</td><td>&quot;NVMe&quot;</td><td>512</td><td>1</td><td>&quot;LED&quot;</td><td>16.0</td><td>&quot;1920x1080&quot;</td><td>144</td><td>60</td><td>65</td><td>null</td><td>&quot;Wi-Fi 5&quot;</td><td>5.0</td><td>1.33</td><td>36</td><td>2397.99</td><td>1920</td><td>1080</td><td>4</td><td>&quot;i7&quot;</td><td>4.68</td></tr><tr><td>&quot;Laptop&quot;</td><td>&quot;Lenovo&quot;</td><td>&quot;Lenovo Air 9FB&quot;</td><td>2025</td><td>&quot;Windows&quot;</td><td>&quot;Mainstream&quot;</td><td>&quot;Intel&quot;</td><td>&quot;Intel i7-11670&quot;</td><td>4</td><td>12</td><td>24</td><td>2.6</td><td>3.7</td><td>&quot;Intel&quot;</td><td>&quot;Arc B580&quot;</td><td>3</td><td>0</td><td>32</td><td>&quot;SSD&quot;</td><td>1024</td><td>1</td><td>&quot;LED&quot;</td><td>17.3</td><td>&quot;1920x1080&quot;</td><td>240</td><td>80</td><td>180</td><td>null</td><td>&quot;Wi-Fi 6&quot;</td><td>4.2</td><td>1.24</td><td>36</td><td>2024.99</td><td>1920</td><td>1080</td><td>0</td><td>&quot;i7&quot;</td><td>1.98</td></tr></tbody></table></div>"
      ]
     },
     "execution_count": 80,
     "metadata": {},
     "output_type": "execute_result"
    }
   ],
   "execution_count": 80
  },
  {
   "metadata": {
    "ExecuteTime": {
     "end_time": "2025-10-17T07:04:27.754211Z",
     "start_time": "2025-10-17T07:04:27.687175Z"
    }
   },
   "cell_type": "code",
   "source": [
    "df.with_columns(\n",
    "    (pl.col('cpu_tier') * 0.5 + pl.col('gpu_tier') * 0.3 + (pl.col('ram_gb') / 32) * 0.2).alias('performance_score')\n",
    ")"
   ],
   "id": "3dfa38b1eb4f8a3e",
   "outputs": [
    {
     "data": {
      "text/plain": [
       "shape: (100_000, 39)\n",
       "┌───────────┬──────────┬───────────┬───────────┬───┬───────────┬───────────┬───────────┬───────────┐\n",
       "│ device_ty ┆ brand    ┆ model     ┆ release_y ┆ … ┆ device_ag ┆ cpu_serie ┆ price_per ┆ performan │\n",
       "│ pe        ┆ ---      ┆ ---       ┆ ear       ┆   ┆ e         ┆ s         ┆ _gb_stora ┆ ce_score  │\n",
       "│ ---       ┆ str      ┆ str       ┆ ---       ┆   ┆ ---       ┆ ---       ┆ ge        ┆ ---       │\n",
       "│ str       ┆          ┆           ┆ i64       ┆   ┆ i64       ┆ str       ┆ ---       ┆ f64       │\n",
       "│           ┆          ┆           ┆           ┆   ┆           ┆           ┆ f64       ┆           │\n",
       "╞═══════════╪══════════╪═══════════╪═══════════╪═══╪═══════════╪═══════════╪═══════════╪═══════════╡\n",
       "│ Desktop   ┆ Samsung  ┆ Samsung   ┆ 2022      ┆ … ┆ 3         ┆ i5        ┆ 1.35      ┆ 2.2       │\n",
       "│           ┆          ┆ Forge XDI ┆           ┆   ┆           ┆           ┆           ┆           │\n",
       "│ Laptop    ┆ Samsung  ┆ Samsung   ┆ 2022      ┆ … ┆ 3         ┆ i7        ┆ 4.44      ┆ 3.6       │\n",
       "│           ┆          ┆ Pro KM8   ┆           ┆   ┆           ┆           ┆           ┆           │\n",
       "│ Desktop   ┆ Lenovo   ┆ Lenovo    ┆ 2024      ┆ … ┆ 1         ┆ Ryzen 5   ┆ 3.67      ┆ 1.35      │\n",
       "│           ┆          ┆ Strix BIE ┆           ┆   ┆           ┆           ┆           ┆           │\n",
       "│ Desktop   ┆ Dell     ┆ Dell Cube ┆ 2024      ┆ … ┆ 1         ┆ Ryzen 5   ┆ 2.6       ┆ 1.7       │\n",
       "│           ┆          ┆ AXR       ┆           ┆   ┆           ┆           ┆           ┆           │\n",
       "│ Laptop    ┆ Gigabyte ┆ Gigabyte  ┆ 2024      ┆ … ┆ 1         ┆ Ryzen 7   ┆ 10.48     ┆ 4.6       │\n",
       "│           ┆          ┆ Pro IX1   ┆           ┆   ┆           ┆           ┆           ┆           │\n",
       "│ …         ┆ …        ┆ …         ┆ …         ┆ … ┆ …         ┆ …         ┆ …         ┆ …         │\n",
       "│ Laptop    ┆ ASUS     ┆ ASUS Pro  ┆ 2023      ┆ … ┆ 2         ┆ i7        ┆ 0.84      ┆ 3.1       │\n",
       "│           ┆          ┆ ZWL       ┆           ┆   ┆           ┆           ┆           ┆           │\n",
       "│ Laptop    ┆ Lenovo   ┆ Lenovo    ┆ 2018      ┆ … ┆ 7         ┆ Ryzen 5   ┆ 1.23      ┆ 1.35      │\n",
       "│           ┆          ┆ Stealth   ┆           ┆   ┆           ┆           ┆           ┆           │\n",
       "│           ┆          ┆ 014       ┆           ┆   ┆           ┆           ┆           ┆           │\n",
       "│ Laptop    ┆ ASUS     ┆ ASUS Zen  ┆ 2020      ┆ … ┆ 5         ┆ i5        ┆ 1.65      ┆ 1.7       │\n",
       "│           ┆          ┆ LKD       ┆           ┆   ┆           ┆           ┆           ┆           │\n",
       "│ Laptop    ┆ ASUS     ┆ ASUS      ┆ 2020      ┆ … ┆ 5         ┆ Ryzen 7   ┆ 8.46      ┆ 3.1       │\n",
       "│           ┆          ┆ Blade DH6 ┆           ┆   ┆           ┆           ┆           ┆           │\n",
       "│ Desktop   ┆ Acer     ┆ Acer      ┆ 2023      ┆ … ┆ 2         ┆ i9        ┆ 1.47      ┆ 5.6       │\n",
       "│           ┆          ┆ Think L7R ┆           ┆   ┆           ┆           ┆           ┆           │\n",
       "└───────────┴──────────┴───────────┴───────────┴───┴───────────┴───────────┴───────────┴───────────┘"
      ],
      "text/html": [
       "<div><style>\n",
       ".dataframe > thead > tr,\n",
       ".dataframe > tbody > tr {\n",
       "  text-align: right;\n",
       "  white-space: pre-wrap;\n",
       "}\n",
       "</style>\n",
       "<small>shape: (100_000, 39)</small><table border=\"1\" class=\"dataframe\"><thead><tr><th>device_type</th><th>brand</th><th>model</th><th>release_year</th><th>os</th><th>form_factor</th><th>cpu_brand</th><th>cpu_model</th><th>cpu_tier</th><th>cpu_cores</th><th>cpu_threads</th><th>cpu_base_ghz</th><th>cpu_boost_ghz</th><th>gpu_brand</th><th>gpu_model</th><th>gpu_tier</th><th>vram_gb</th><th>ram_gb</th><th>storage_type</th><th>storage_gb</th><th>storage_drive_count</th><th>display_type</th><th>display_size_in</th><th>resolution</th><th>refresh_hz</th><th>battery_wh</th><th>charger_watts</th><th>psu_watts</th><th>wifi</th><th>bluetooth</th><th>weight_kg</th><th>warranty_months</th><th>price</th><th>resolution_width</th><th>resolution_height</th><th>device_age</th><th>cpu_series</th><th>price_per_gb_storage</th><th>performance_score</th></tr><tr><td>str</td><td>str</td><td>str</td><td>i64</td><td>str</td><td>str</td><td>str</td><td>str</td><td>i64</td><td>i64</td><td>i64</td><td>f64</td><td>f64</td><td>str</td><td>str</td><td>i64</td><td>i64</td><td>i64</td><td>str</td><td>i64</td><td>i64</td><td>str</td><td>f64</td><td>str</td><td>i64</td><td>i64</td><td>i64</td><td>i64</td><td>str</td><td>f64</td><td>f64</td><td>i64</td><td>f64</td><td>i16</td><td>i16</td><td>i64</td><td>str</td><td>f64</td><td>f64</td></tr></thead><tbody><tr><td>&quot;Desktop&quot;</td><td>&quot;Samsung&quot;</td><td>&quot;Samsung Forge XDI&quot;</td><td>2022</td><td>&quot;Windows&quot;</td><td>&quot;ATX&quot;</td><td>&quot;Intel&quot;</td><td>&quot;Intel i5-11129&quot;</td><td>3</td><td>12</td><td>24</td><td>2.8</td><td>3.8</td><td>&quot;NVIDIA&quot;</td><td>&quot;RTX 40 60&quot;</td><td>2</td><td>6</td><td>16</td><td>&quot;NVMe&quot;</td><td>1024</td><td>1</td><td>&quot;LED&quot;</td><td>27.0</td><td>&quot;2560x1440&quot;</td><td>90</td><td>null</td><td>0</td><td>750</td><td>&quot;Wi-Fi 6&quot;</td><td>5.1</td><td>11.0</td><td>36</td><td>1383.99</td><td>2560</td><td>1440</td><td>3</td><td>&quot;i5&quot;</td><td>1.35</td><td>2.2</td></tr><tr><td>&quot;Laptop&quot;</td><td>&quot;Samsung&quot;</td><td>&quot;Samsung Pro KM8&quot;</td><td>2022</td><td>&quot;Windows&quot;</td><td>&quot;Mainstream&quot;</td><td>&quot;Intel&quot;</td><td>&quot;Intel i7-11114&quot;</td><td>4</td><td>12</td><td>24</td><td>2.6</td><td>3.6</td><td>&quot;NVIDIA&quot;</td><td>&quot;RTX 40 80&quot;</td><td>4</td><td>10</td><td>64</td><td>&quot;NVMe&quot;</td><td>512</td><td>1</td><td>&quot;OLED&quot;</td><td>16.0</td><td>&quot;1920x1080&quot;</td><td>90</td><td>56</td><td>120</td><td>null</td><td>&quot;Wi-Fi 6&quot;</td><td>5.3</td><td>2.03</td><td>12</td><td>2274.99</td><td>1920</td><td>1080</td><td>3</td><td>&quot;i7&quot;</td><td>4.44</td><td>3.6</td></tr><tr><td>&quot;Desktop&quot;</td><td>&quot;Lenovo&quot;</td><td>&quot;Lenovo Strix BIE&quot;</td><td>2024</td><td>&quot;macOS&quot;</td><td>&quot;SFF&quot;</td><td>&quot;AMD&quot;</td><td>&quot;AMD Ryzen 5 5168&quot;</td><td>2</td><td>8</td><td>16</td><td>2.6</td><td>3.6</td><td>&quot;NVIDIA&quot;</td><td>&quot;RTX 40 50&quot;</td><td>1</td><td>4</td><td>8</td><td>&quot;NVMe&quot;</td><td>512</td><td>2</td><td>&quot;LED&quot;</td><td>32.0</td><td>&quot;3440x1440&quot;</td><td>120</td><td>null</td><td>0</td><td>850</td><td>&quot;Wi-Fi 6&quot;</td><td>5.0</td><td>7.0</td><td>24</td><td>1879.99</td><td>3440</td><td>1440</td><td>1</td><td>&quot;Ryzen 5&quot;</td><td>3.67</td><td>1.35</td></tr><tr><td>&quot;Desktop&quot;</td><td>&quot;Dell&quot;</td><td>&quot;Dell Cube AXR&quot;</td><td>2024</td><td>&quot;Windows&quot;</td><td>&quot;ATX&quot;</td><td>&quot;AMD&quot;</td><td>&quot;AMD Ryzen 5 7550&quot;</td><td>2</td><td>6</td><td>12</td><td>2.6</td><td>3.6</td><td>&quot;AMD&quot;</td><td>&quot;RX 7000 60&quot;</td><td>2</td><td>6</td><td>16</td><td>&quot;HDD&quot;</td><td>512</td><td>2</td><td>&quot;IPS&quot;</td><td>27.0</td><td>&quot;3440x1440&quot;</td><td>120</td><td>null</td><td>0</td><td>650</td><td>&quot;Wi-Fi 6&quot;</td><td>5.2</td><td>6.0</td><td>36</td><td>1331.99</td><td>3440</td><td>1440</td><td>1</td><td>&quot;Ryzen 5&quot;</td><td>2.6</td><td>1.7</td></tr><tr><td>&quot;Laptop&quot;</td><td>&quot;Gigabyte&quot;</td><td>&quot;Gigabyte Pro IX1&quot;</td><td>2024</td><td>&quot;Linux&quot;</td><td>&quot;Gaming&quot;</td><td>&quot;AMD&quot;</td><td>&quot;AMD Ryzen 7 6230&quot;</td><td>5</td><td>16</td><td>32</td><td>2.8</td><td>3.9</td><td>&quot;NVIDIA&quot;</td><td>&quot;RTX 30 80 Ti&quot;</td><td>5</td><td>12</td><td>96</td><td>&quot;NVMe&quot;</td><td>256</td><td>1</td><td>&quot;Mini-LED&quot;</td><td>15.6</td><td>&quot;2560x1600&quot;</td><td>90</td><td>80</td><td>90</td><td>null</td><td>&quot;Wi-Fi 6&quot;</td><td>5.2</td><td>1.5</td><td>12</td><td>2681.99</td><td>2560</td><td>1600</td><td>1</td><td>&quot;Ryzen 7&quot;</td><td>10.48</td><td>4.6</td></tr><tr><td>&hellip;</td><td>&hellip;</td><td>&hellip;</td><td>&hellip;</td><td>&hellip;</td><td>&hellip;</td><td>&hellip;</td><td>&hellip;</td><td>&hellip;</td><td>&hellip;</td><td>&hellip;</td><td>&hellip;</td><td>&hellip;</td><td>&hellip;</td><td>&hellip;</td><td>&hellip;</td><td>&hellip;</td><td>&hellip;</td><td>&hellip;</td><td>&hellip;</td><td>&hellip;</td><td>&hellip;</td><td>&hellip;</td><td>&hellip;</td><td>&hellip;</td><td>&hellip;</td><td>&hellip;</td><td>&hellip;</td><td>&hellip;</td><td>&hellip;</td><td>&hellip;</td><td>&hellip;</td><td>&hellip;</td><td>&hellip;</td><td>&hellip;</td><td>&hellip;</td><td>&hellip;</td><td>&hellip;</td><td>&hellip;</td></tr><tr><td>&quot;Laptop&quot;</td><td>&quot;ASUS&quot;</td><td>&quot;ASUS Pro ZWL&quot;</td><td>2023</td><td>&quot;Windows&quot;</td><td>&quot;Mainstream&quot;</td><td>&quot;Intel&quot;</td><td>&quot;Intel i7-13721&quot;</td><td>4</td><td>12</td><td>24</td><td>2.6</td><td>3.7</td><td>&quot;AMD&quot;</td><td>&quot;RX 7000 70&quot;</td><td>3</td><td>8</td><td>32</td><td>&quot;HDD&quot;</td><td>2048</td><td>1</td><td>&quot;LED&quot;</td><td>14.0</td><td>&quot;1920x1080&quot;</td><td>144</td><td>90</td><td>180</td><td>null</td><td>&quot;Wi-Fi 6&quot;</td><td>5.1</td><td>1.87</td><td>24</td><td>1712.99</td><td>1920</td><td>1080</td><td>2</td><td>&quot;i7&quot;</td><td>0.84</td><td>3.1</td></tr><tr><td>&quot;Laptop&quot;</td><td>&quot;Lenovo&quot;</td><td>&quot;Lenovo Stealth 014&quot;</td><td>2018</td><td>&quot;Windows&quot;</td><td>&quot;Ultrabook&quot;</td><td>&quot;AMD&quot;</td><td>&quot;AMD Ryzen 5 5117&quot;</td><td>2</td><td>8</td><td>16</td><td>2.2</td><td>3.2</td><td>&quot;AMD&quot;</td><td>&quot;RX 6000 50&quot;</td><td>1</td><td>4</td><td>8</td><td>&quot;HDD&quot;</td><td>1024</td><td>1</td><td>&quot;LED&quot;</td><td>14.0</td><td>&quot;2560x1600&quot;</td><td>90</td><td>50</td><td>65</td><td>null</td><td>&quot;Wi-Fi 6&quot;</td><td>5.1</td><td>1.37</td><td>12</td><td>1258.99</td><td>2560</td><td>1600</td><td>7</td><td>&quot;Ryzen 5&quot;</td><td>1.23</td><td>1.35</td></tr><tr><td>&quot;Laptop&quot;</td><td>&quot;ASUS&quot;</td><td>&quot;ASUS Zen LKD&quot;</td><td>2020</td><td>&quot;Windows&quot;</td><td>&quot;Mainstream&quot;</td><td>&quot;Intel&quot;</td><td>&quot;Intel i5-12677&quot;</td><td>2</td><td>6</td><td>10</td><td>2.2</td><td>3.2</td><td>&quot;NVIDIA&quot;</td><td>&quot;RTX 20 60&quot;</td><td>2</td><td>6</td><td>16</td><td>&quot;NVMe&quot;</td><td>1024</td><td>1</td><td>&quot;OLED&quot;</td><td>14.0</td><td>&quot;2560x1600&quot;</td><td>120</td><td>99</td><td>180</td><td>null</td><td>&quot;Wi-Fi 6&quot;</td><td>4.2</td><td>1.17</td><td>12</td><td>1686.99</td><td>2560</td><td>1600</td><td>5</td><td>&quot;i5&quot;</td><td>1.65</td><td>1.7</td></tr><tr><td>&quot;Laptop&quot;</td><td>&quot;ASUS&quot;</td><td>&quot;ASUS Blade DH6&quot;</td><td>2020</td><td>&quot;Windows&quot;</td><td>&quot;Mainstream&quot;</td><td>&quot;AMD&quot;</td><td>&quot;AMD Ryzen 7 4590&quot;</td><td>4</td><td>12</td><td>24</td><td>2.6</td><td>3.5</td><td>&quot;NVIDIA&quot;</td><td>&quot;RTX 30 70&quot;</td><td>3</td><td>8</td><td>32</td><td>&quot;NVMe&quot;</td><td>256</td><td>1</td><td>&quot;OLED&quot;</td><td>15.6</td><td>&quot;2560x1600&quot;</td><td>120</td><td>60</td><td>90</td><td>null</td><td>&quot;Wi-Fi 6&quot;</td><td>5.3</td><td>1.7</td><td>24</td><td>2164.99</td><td>2560</td><td>1600</td><td>5</td><td>&quot;Ryzen 7&quot;</td><td>8.46</td><td>3.1</td></tr><tr><td>&quot;Desktop&quot;</td><td>&quot;Acer&quot;</td><td>&quot;Acer Think L7R&quot;</td><td>2023</td><td>&quot;Windows&quot;</td><td>&quot;SFF&quot;</td><td>&quot;Intel&quot;</td><td>&quot;Intel i9-14345&quot;</td><td>6</td><td>26</td><td>52</td><td>3.4</td><td>4.2</td><td>&quot;Intel&quot;</td><td>&quot;Arc A770 Limited&quot;</td><td>6</td><td>0</td><td>128</td><td>&quot;Hybrid&quot;</td><td>2048</td><td>2</td><td>&quot;IPS&quot;</td><td>27.0</td><td>&quot;1920x1080&quot;</td><td>144</td><td>null</td><td>0</td><td>750</td><td>&quot;Wi-Fi 6E&quot;</td><td>5.1</td><td>7.0</td><td>48</td><td>3005.99</td><td>1920</td><td>1080</td><td>2</td><td>&quot;i9&quot;</td><td>1.47</td><td>5.6</td></tr></tbody></table></div>"
      ]
     },
     "execution_count": 81,
     "metadata": {},
     "output_type": "execute_result"
    }
   ],
   "execution_count": 81
  },
  {
   "metadata": {},
   "cell_type": "code",
   "outputs": [],
   "execution_count": null,
   "source": "",
   "id": "2d4a69beb68ef120"
  }
 ],
 "metadata": {
  "kernelspec": {
   "display_name": "Python 3",
   "language": "python",
   "name": "python3"
  },
  "language_info": {
   "codemirror_mode": {
    "name": "ipython",
    "version": 2
   },
   "file_extension": ".py",
   "mimetype": "text/x-python",
   "name": "python",
   "nbconvert_exporter": "python",
   "pygments_lexer": "ipython2",
   "version": "2.7.6"
  }
 },
 "nbformat": 4,
 "nbformat_minor": 5
}
