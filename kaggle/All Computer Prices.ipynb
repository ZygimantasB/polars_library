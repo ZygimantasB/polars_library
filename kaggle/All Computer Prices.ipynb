{
 "cells": [
  {
   "cell_type": "code",
   "id": "initial_id",
   "metadata": {
    "collapsed": true,
    "ExecuteTime": {
     "end_time": "2025-10-10T08:11:02.150467Z",
     "start_time": "2025-10-10T08:11:00.815520Z"
    }
   },
   "source": [
    "from math import trunc\n",
    "\n",
    "import polars as pl\n",
    "import polars.selectors as cs\n",
    "\n",
    "import altair as alt\n",
    "import plotly.express as px\n",
    "import seaborn as sns\n",
    "import matplotlib.pyplot as plt\n",
    "import numpy as np\n",
    "from datetime import datetime"
   ],
   "outputs": [],
   "execution_count": 1
  },
  {
   "metadata": {
    "ExecuteTime": {
     "end_time": "2025-10-10T08:11:02.156233Z",
     "start_time": "2025-10-10T08:11:02.154408Z"
    }
   },
   "cell_type": "code",
   "source": "df_path = r'/Users/zygimantas/Downloads/computer_prices_all.csv'",
   "id": "92163cc2d0b66a61",
   "outputs": [],
   "execution_count": 2
  },
  {
   "metadata": {
    "ExecuteTime": {
     "end_time": "2025-10-10T08:11:02.226489Z",
     "start_time": "2025-10-10T08:11:02.166932Z"
    }
   },
   "cell_type": "code",
   "source": "df = pl.read_csv(df_path)",
   "id": "2857c77b3f87b8b9",
   "outputs": [],
   "execution_count": 3
  },
  {
   "metadata": {
    "ExecuteTime": {
     "end_time": "2025-10-10T08:11:02.255027Z",
     "start_time": "2025-10-10T08:11:02.232706Z"
    }
   },
   "cell_type": "code",
   "source": "df.describe()",
   "id": "bd8ad2086fd6c9f8",
   "outputs": [
    {
     "data": {
      "text/plain": [
       "shape: (9, 34)\n",
       "┌────────────┬───────────┬─────────┬───────────┬───┬───────────┬───────────┬───────────┬───────────┐\n",
       "│ statistic  ┆ device_ty ┆ brand   ┆ model     ┆ … ┆ bluetooth ┆ weight_kg ┆ warranty_ ┆ price     │\n",
       "│ ---        ┆ pe        ┆ ---     ┆ ---       ┆   ┆ ---       ┆ ---       ┆ months    ┆ ---       │\n",
       "│ str        ┆ ---       ┆ str     ┆ str       ┆   ┆ f64       ┆ f64       ┆ ---       ┆ f64       │\n",
       "│            ┆ str       ┆         ┆           ┆   ┆           ┆           ┆ f64       ┆           │\n",
       "╞════════════╪═══════════╪═════════╪═══════════╪═══╪═══════════╪═══════════╪═══════════╪═══════════╡\n",
       "│ count      ┆ 100000    ┆ 100000  ┆ 100000    ┆ … ┆ 100000.0  ┆ 100000.0  ┆ 100000.0  ┆ 100000.0  │\n",
       "│ null_count ┆ 0         ┆ 0       ┆ 0         ┆ … ┆ 0.0       ┆ 0.0       ┆ 0.0       ┆ 0.0       │\n",
       "│ mean       ┆ null      ┆ null    ┆ null      ┆ … ┆ 5.084764  ┆ 4.2896992 ┆ 22.20036  ┆ 1928.7642 │\n",
       "│            ┆           ┆         ┆           ┆   ┆           ┆           ┆           ┆ 2         │\n",
       "│ std        ┆ null      ┆ null    ┆ null      ┆ … ┆ 0.245977  ┆ 3.814628  ┆ 10.2319   ┆ 580.49268 │\n",
       "│            ┆           ┆         ┆           ┆   ┆           ┆           ┆           ┆ 9         │\n",
       "│ min        ┆ Desktop   ┆ ASUS    ┆ ASUS Air  ┆ … ┆ 4.2       ┆ 0.92      ┆ 12.0      ┆ 372.99    │\n",
       "│            ┆           ┆         ┆ 030       ┆   ┆           ┆           ┆           ┆           │\n",
       "│ 25%        ┆ null      ┆ null    ┆ null      ┆ … ┆ 5.0       ┆ 1.5       ┆ 12.0      ┆ 1503.99   │\n",
       "│ 50%        ┆ null      ┆ null    ┆ null      ┆ … ┆ 5.1       ┆ 2.0       ┆ 24.0      ┆ 1863.99   │\n",
       "│ 75%        ┆ null      ┆ null    ┆ null      ┆ … ┆ 5.2       ┆ 7.0       ┆ 24.0      ┆ 2287.99   │\n",
       "│ max        ┆ Laptop    ┆ Samsung ┆ Samsung   ┆ … ┆ 5.3       ┆ 16.0      ┆ 48.0      ┆ 10984.99  │\n",
       "│            ┆           ┆         ┆ Zen ZX2   ┆   ┆           ┆           ┆           ┆           │\n",
       "└────────────┴───────────┴─────────┴───────────┴───┴───────────┴───────────┴───────────┴───────────┘"
      ],
      "text/html": [
       "<div><style>\n",
       ".dataframe > thead > tr,\n",
       ".dataframe > tbody > tr {\n",
       "  text-align: right;\n",
       "  white-space: pre-wrap;\n",
       "}\n",
       "</style>\n",
       "<small>shape: (9, 34)</small><table border=\"1\" class=\"dataframe\"><thead><tr><th>statistic</th><th>device_type</th><th>brand</th><th>model</th><th>release_year</th><th>os</th><th>form_factor</th><th>cpu_brand</th><th>cpu_model</th><th>cpu_tier</th><th>cpu_cores</th><th>cpu_threads</th><th>cpu_base_ghz</th><th>cpu_boost_ghz</th><th>gpu_brand</th><th>gpu_model</th><th>gpu_tier</th><th>vram_gb</th><th>ram_gb</th><th>storage_type</th><th>storage_gb</th><th>storage_drive_count</th><th>display_type</th><th>display_size_in</th><th>resolution</th><th>refresh_hz</th><th>battery_wh</th><th>charger_watts</th><th>psu_watts</th><th>wifi</th><th>bluetooth</th><th>weight_kg</th><th>warranty_months</th><th>price</th></tr><tr><td>str</td><td>str</td><td>str</td><td>str</td><td>f64</td><td>str</td><td>str</td><td>str</td><td>str</td><td>f64</td><td>f64</td><td>f64</td><td>f64</td><td>f64</td><td>str</td><td>str</td><td>f64</td><td>f64</td><td>f64</td><td>str</td><td>f64</td><td>f64</td><td>str</td><td>f64</td><td>str</td><td>f64</td><td>f64</td><td>f64</td><td>f64</td><td>str</td><td>f64</td><td>f64</td><td>f64</td><td>f64</td></tr></thead><tbody><tr><td>&quot;count&quot;</td><td>&quot;100000&quot;</td><td>&quot;100000&quot;</td><td>&quot;100000&quot;</td><td>100000.0</td><td>&quot;100000&quot;</td><td>&quot;100000&quot;</td><td>&quot;100000&quot;</td><td>&quot;100000&quot;</td><td>100000.0</td><td>100000.0</td><td>100000.0</td><td>100000.0</td><td>100000.0</td><td>&quot;100000&quot;</td><td>&quot;100000&quot;</td><td>100000.0</td><td>100000.0</td><td>100000.0</td><td>&quot;100000&quot;</td><td>100000.0</td><td>100000.0</td><td>&quot;100000&quot;</td><td>100000.0</td><td>&quot;100000&quot;</td><td>100000.0</td><td>100000.0</td><td>100000.0</td><td>100000.0</td><td>&quot;100000&quot;</td><td>100000.0</td><td>100000.0</td><td>100000.0</td><td>100000.0</td></tr><tr><td>&quot;null_count&quot;</td><td>&quot;0&quot;</td><td>&quot;0&quot;</td><td>&quot;0&quot;</td><td>0.0</td><td>&quot;0&quot;</td><td>&quot;0&quot;</td><td>&quot;0&quot;</td><td>&quot;0&quot;</td><td>0.0</td><td>0.0</td><td>0.0</td><td>0.0</td><td>0.0</td><td>&quot;0&quot;</td><td>&quot;0&quot;</td><td>0.0</td><td>0.0</td><td>0.0</td><td>&quot;0&quot;</td><td>0.0</td><td>0.0</td><td>&quot;0&quot;</td><td>0.0</td><td>&quot;0&quot;</td><td>0.0</td><td>0.0</td><td>0.0</td><td>0.0</td><td>&quot;0&quot;</td><td>0.0</td><td>0.0</td><td>0.0</td><td>0.0</td></tr><tr><td>&quot;mean&quot;</td><td>null</td><td>null</td><td>null</td><td>2022.32085</td><td>null</td><td>null</td><td>null</td><td>null</td><td>3.15349</td><td>10.51574</td><td>19.3727</td><td>2.591322</td><td>3.53131</td><td>null</td><td>null</td><td>2.99135</td><td>6.15218</td><td>39.7064</td><td>null</td><td>903.936</td><td>1.52498</td><td>null</td><td>20.126655</td><td>null</td><td>98.46486</td><td>41.81347</td><td>61.38345</td><td>272.5205</td><td>null</td><td>5.084764</td><td>4.2896992</td><td>22.20036</td><td>1928.76422</td></tr><tr><td>&quot;std&quot;</td><td>null</td><td>null</td><td>null</td><td>2.025761</td><td>null</td><td>null</td><td>null</td><td>null</td><td>1.373175</td><td>5.044092</td><td>9.718426</td><td>0.336435</td><td>0.350024</td><td>null</td><td>null</td><td>1.459643</td><td>3.964926</td><td>31.902684</td><td>null</td><td>774.243654</td><td>0.797284</td><td>null</td><td>6.709577</td><td>null</td><td>43.301652</td><td>35.868841</td><td>62.795034</td><td>354.686355</td><td>null</td><td>0.245977</td><td>3.814628</td><td>10.2319</td><td>580.492689</td></tr><tr><td>&quot;min&quot;</td><td>&quot;Desktop&quot;</td><td>&quot;ASUS&quot;</td><td>&quot;ASUS Air 030&quot;</td><td>2018.0</td><td>&quot;ChromeOS&quot;</td><td>&quot;2-in-1&quot;</td><td>&quot;AMD&quot;</td><td>&quot;AMD Ryzen 3 3102&quot;</td><td>1.0</td><td>4.0</td><td>4.0</td><td>2.0</td><td>2.8</td><td>&quot;AMD&quot;</td><td>&quot;Apple Integrated&quot;</td><td>1.0</td><td>0.0</td><td>8.0</td><td>&quot;HDD&quot;</td><td>256.0</td><td>1.0</td><td>&quot;IPS&quot;</td><td>13.3</td><td>&quot;1920x1080&quot;</td><td>60.0</td><td>0.0</td><td>0.0</td><td>0.0</td><td>&quot;Wi-Fi 5&quot;</td><td>4.2</td><td>0.92</td><td>12.0</td><td>372.99</td></tr><tr><td>&quot;25%&quot;</td><td>null</td><td>null</td><td>null</td><td>2021.0</td><td>null</td><td>null</td><td>null</td><td>null</td><td>2.0</td><td>6.0</td><td>12.0</td><td>2.4</td><td>3.3</td><td>null</td><td>null</td><td>2.0</td><td>4.0</td><td>16.0</td><td>null</td><td>512.0</td><td>1.0</td><td>null</td><td>14.0</td><td>null</td><td>60.0</td><td>0.0</td><td>0.0</td><td>0.0</td><td>null</td><td>5.0</td><td>1.5</td><td>12.0</td><td>1503.99</td></tr><tr><td>&quot;50%&quot;</td><td>null</td><td>null</td><td>null</td><td>2023.0</td><td>null</td><td>null</td><td>null</td><td>null</td><td>3.0</td><td>8.0</td><td>16.0</td><td>2.6</td><td>3.5</td><td>null</td><td>null</td><td>3.0</td><td>6.0</td><td>32.0</td><td>null</td><td>512.0</td><td>1.0</td><td>null</td><td>16.0</td><td>null</td><td>90.0</td><td>56.0</td><td>65.0</td><td>0.0</td><td>null</td><td>5.1</td><td>2.0</td><td>24.0</td><td>1863.99</td></tr><tr><td>&quot;75%&quot;</td><td>null</td><td>null</td><td>null</td><td>2024.0</td><td>null</td><td>null</td><td>null</td><td>null</td><td>4.0</td><td>14.0</td><td>24.0</td><td>2.8</td><td>3.8</td><td>null</td><td>null</td><td>4.0</td><td>8.0</td><td>64.0</td><td>null</td><td>1024.0</td><td>2.0</td><td>null</td><td>27.0</td><td>null</td><td>120.0</td><td>70.0</td><td>90.0</td><td>650.0</td><td>null</td><td>5.2</td><td>7.0</td><td>24.0</td><td>2287.99</td></tr><tr><td>&quot;max&quot;</td><td>&quot;Laptop&quot;</td><td>&quot;Samsung&quot;</td><td>&quot;Samsung Zen ZX2&quot;</td><td>2025.0</td><td>&quot;macOS&quot;</td><td>&quot;Workstation&quot;</td><td>&quot;Intel&quot;</td><td>&quot;Intel i9-14997&quot;</td><td>6.0</td><td>28.0</td><td>56.0</td><td>3.4</td><td>4.5</td><td>&quot;NVIDIA&quot;</td><td>&quot;RX 7000 90&quot;</td><td>6.0</td><td>16.0</td><td>144.0</td><td>&quot;SSD&quot;</td><td>4096.0</td><td>4.0</td><td>&quot;VA&quot;</td><td>34.0</td><td>&quot;3840x2160&quot;</td><td>240.0</td><td>99.0</td><td>240.0</td><td>1200.0</td><td>&quot;Wi-Fi 7&quot;</td><td>5.3</td><td>16.0</td><td>48.0</td><td>10984.99</td></tr></tbody></table></div>"
      ]
     },
     "execution_count": 4,
     "metadata": {},
     "output_type": "execute_result"
    }
   ],
   "execution_count": 4
  },
  {
   "metadata": {
    "ExecuteTime": {
     "end_time": "2025-10-10T08:11:02.290411Z",
     "start_time": "2025-10-10T08:11:02.286989Z"
    }
   },
   "cell_type": "code",
   "source": "df.collect_schema()",
   "id": "fcc315153c085c5c",
   "outputs": [
    {
     "data": {
      "text/plain": [
       "Schema([('device_type', String),\n",
       "        ('brand', String),\n",
       "        ('model', String),\n",
       "        ('release_year', Int64),\n",
       "        ('os', String),\n",
       "        ('form_factor', String),\n",
       "        ('cpu_brand', String),\n",
       "        ('cpu_model', String),\n",
       "        ('cpu_tier', Int64),\n",
       "        ('cpu_cores', Int64),\n",
       "        ('cpu_threads', Int64),\n",
       "        ('cpu_base_ghz', Float64),\n",
       "        ('cpu_boost_ghz', Float64),\n",
       "        ('gpu_brand', String),\n",
       "        ('gpu_model', String),\n",
       "        ('gpu_tier', Int64),\n",
       "        ('vram_gb', Int64),\n",
       "        ('ram_gb', Int64),\n",
       "        ('storage_type', String),\n",
       "        ('storage_gb', Int64),\n",
       "        ('storage_drive_count', Int64),\n",
       "        ('display_type', String),\n",
       "        ('display_size_in', Float64),\n",
       "        ('resolution', String),\n",
       "        ('refresh_hz', Int64),\n",
       "        ('battery_wh', Int64),\n",
       "        ('charger_watts', Int64),\n",
       "        ('psu_watts', Int64),\n",
       "        ('wifi', String),\n",
       "        ('bluetooth', Float64),\n",
       "        ('weight_kg', Float64),\n",
       "        ('warranty_months', Int64),\n",
       "        ('price', Float64)])"
      ]
     },
     "execution_count": 5,
     "metadata": {},
     "output_type": "execute_result"
    }
   ],
   "execution_count": 5
  },
  {
   "metadata": {
    "ExecuteTime": {
     "end_time": "2025-10-10T08:11:02.345057Z",
     "start_time": "2025-10-10T08:11:02.338957Z"
    }
   },
   "cell_type": "code",
   "source": [
    "df.select(\n",
    "    pl.col('brand')\n",
    ").group_by(\n",
    "    'brand'\n",
    ").len().sort(\n",
    "    by='len',\n",
    "    descending=True\n",
    ")"
   ],
   "id": "7e1a7064712fc1d4",
   "outputs": [
    {
     "data": {
      "text/plain": [
       "shape: (10, 2)\n",
       "┌──────────┬───────┐\n",
       "│ brand    ┆ len   │\n",
       "│ ---      ┆ ---   │\n",
       "│ str      ┆ u32   │\n",
       "╞══════════╪═══════╡\n",
       "│ Lenovo   ┆ 15992 │\n",
       "│ HP       ┆ 14114 │\n",
       "│ Dell     ┆ 14005 │\n",
       "│ Apple    ┆ 11915 │\n",
       "│ ASUS     ┆ 10159 │\n",
       "│ Acer     ┆ 9925  │\n",
       "│ Samsung  ┆ 8066  │\n",
       "│ MSI      ┆ 7891  │\n",
       "│ Gigabyte ┆ 4900  │\n",
       "│ Razer    ┆ 3033  │\n",
       "└──────────┴───────┘"
      ],
      "text/html": [
       "<div><style>\n",
       ".dataframe > thead > tr,\n",
       ".dataframe > tbody > tr {\n",
       "  text-align: right;\n",
       "  white-space: pre-wrap;\n",
       "}\n",
       "</style>\n",
       "<small>shape: (10, 2)</small><table border=\"1\" class=\"dataframe\"><thead><tr><th>brand</th><th>len</th></tr><tr><td>str</td><td>u32</td></tr></thead><tbody><tr><td>&quot;Lenovo&quot;</td><td>15992</td></tr><tr><td>&quot;HP&quot;</td><td>14114</td></tr><tr><td>&quot;Dell&quot;</td><td>14005</td></tr><tr><td>&quot;Apple&quot;</td><td>11915</td></tr><tr><td>&quot;ASUS&quot;</td><td>10159</td></tr><tr><td>&quot;Acer&quot;</td><td>9925</td></tr><tr><td>&quot;Samsung&quot;</td><td>8066</td></tr><tr><td>&quot;MSI&quot;</td><td>7891</td></tr><tr><td>&quot;Gigabyte&quot;</td><td>4900</td></tr><tr><td>&quot;Razer&quot;</td><td>3033</td></tr></tbody></table></div>"
      ]
     },
     "execution_count": 6,
     "metadata": {},
     "output_type": "execute_result"
    }
   ],
   "execution_count": 6
  },
  {
   "metadata": {
    "ExecuteTime": {
     "end_time": "2025-10-10T08:11:02.456939Z",
     "start_time": "2025-10-10T08:11:02.452558Z"
    }
   },
   "cell_type": "code",
   "source": "df.head(5)",
   "id": "aade2d09e6c30f64",
   "outputs": [
    {
     "data": {
      "text/plain": [
       "shape: (5, 33)\n",
       "┌────────────┬──────────┬────────────┬───────────┬───┬───────────┬───────────┬───────────┬─────────┐\n",
       "│ device_typ ┆ brand    ┆ model      ┆ release_y ┆ … ┆ bluetooth ┆ weight_kg ┆ warranty_ ┆ price   │\n",
       "│ e          ┆ ---      ┆ ---        ┆ ear       ┆   ┆ ---       ┆ ---       ┆ months    ┆ ---     │\n",
       "│ ---        ┆ str      ┆ str        ┆ ---       ┆   ┆ f64       ┆ f64       ┆ ---       ┆ f64     │\n",
       "│ str        ┆          ┆            ┆ i64       ┆   ┆           ┆           ┆ i64       ┆         │\n",
       "╞════════════╪══════════╪════════════╪═══════════╪═══╪═══════════╪═══════════╪═══════════╪═════════╡\n",
       "│ Desktop    ┆ Samsung  ┆ Samsung    ┆ 2022      ┆ … ┆ 5.1       ┆ 11.0      ┆ 36        ┆ 1383.99 │\n",
       "│            ┆          ┆ Forge XDI  ┆           ┆   ┆           ┆           ┆           ┆         │\n",
       "│ Laptop     ┆ Samsung  ┆ Samsung    ┆ 2022      ┆ … ┆ 5.3       ┆ 2.03      ┆ 12        ┆ 2274.99 │\n",
       "│            ┆          ┆ Pro KM8    ┆           ┆   ┆           ┆           ┆           ┆         │\n",
       "│ Desktop    ┆ Lenovo   ┆ Lenovo     ┆ 2024      ┆ … ┆ 5.0       ┆ 7.0       ┆ 24        ┆ 1879.99 │\n",
       "│            ┆          ┆ Strix BIE  ┆           ┆   ┆           ┆           ┆           ┆         │\n",
       "│ Desktop    ┆ Dell     ┆ Dell Cube  ┆ 2024      ┆ … ┆ 5.2       ┆ 6.0       ┆ 36        ┆ 1331.99 │\n",
       "│            ┆          ┆ AXR        ┆           ┆   ┆           ┆           ┆           ┆         │\n",
       "│ Laptop     ┆ Gigabyte ┆ Gigabyte   ┆ 2024      ┆ … ┆ 5.2       ┆ 1.5       ┆ 12        ┆ 2681.99 │\n",
       "│            ┆          ┆ Pro IX1    ┆           ┆   ┆           ┆           ┆           ┆         │\n",
       "└────────────┴──────────┴────────────┴───────────┴───┴───────────┴───────────┴───────────┴─────────┘"
      ],
      "text/html": [
       "<div><style>\n",
       ".dataframe > thead > tr,\n",
       ".dataframe > tbody > tr {\n",
       "  text-align: right;\n",
       "  white-space: pre-wrap;\n",
       "}\n",
       "</style>\n",
       "<small>shape: (5, 33)</small><table border=\"1\" class=\"dataframe\"><thead><tr><th>device_type</th><th>brand</th><th>model</th><th>release_year</th><th>os</th><th>form_factor</th><th>cpu_brand</th><th>cpu_model</th><th>cpu_tier</th><th>cpu_cores</th><th>cpu_threads</th><th>cpu_base_ghz</th><th>cpu_boost_ghz</th><th>gpu_brand</th><th>gpu_model</th><th>gpu_tier</th><th>vram_gb</th><th>ram_gb</th><th>storage_type</th><th>storage_gb</th><th>storage_drive_count</th><th>display_type</th><th>display_size_in</th><th>resolution</th><th>refresh_hz</th><th>battery_wh</th><th>charger_watts</th><th>psu_watts</th><th>wifi</th><th>bluetooth</th><th>weight_kg</th><th>warranty_months</th><th>price</th></tr><tr><td>str</td><td>str</td><td>str</td><td>i64</td><td>str</td><td>str</td><td>str</td><td>str</td><td>i64</td><td>i64</td><td>i64</td><td>f64</td><td>f64</td><td>str</td><td>str</td><td>i64</td><td>i64</td><td>i64</td><td>str</td><td>i64</td><td>i64</td><td>str</td><td>f64</td><td>str</td><td>i64</td><td>i64</td><td>i64</td><td>i64</td><td>str</td><td>f64</td><td>f64</td><td>i64</td><td>f64</td></tr></thead><tbody><tr><td>&quot;Desktop&quot;</td><td>&quot;Samsung&quot;</td><td>&quot;Samsung Forge XDI&quot;</td><td>2022</td><td>&quot;Windows&quot;</td><td>&quot;ATX&quot;</td><td>&quot;Intel&quot;</td><td>&quot;Intel i5-11129&quot;</td><td>3</td><td>12</td><td>24</td><td>2.8</td><td>3.8</td><td>&quot;NVIDIA&quot;</td><td>&quot;RTX 40 60&quot;</td><td>2</td><td>6</td><td>16</td><td>&quot;NVMe&quot;</td><td>1024</td><td>1</td><td>&quot;LED&quot;</td><td>27.0</td><td>&quot;2560x1440&quot;</td><td>90</td><td>0</td><td>0</td><td>750</td><td>&quot;Wi-Fi 6&quot;</td><td>5.1</td><td>11.0</td><td>36</td><td>1383.99</td></tr><tr><td>&quot;Laptop&quot;</td><td>&quot;Samsung&quot;</td><td>&quot;Samsung Pro KM8&quot;</td><td>2022</td><td>&quot;Windows&quot;</td><td>&quot;Mainstream&quot;</td><td>&quot;Intel&quot;</td><td>&quot;Intel i7-11114&quot;</td><td>4</td><td>12</td><td>24</td><td>2.6</td><td>3.6</td><td>&quot;NVIDIA&quot;</td><td>&quot;RTX 40 80&quot;</td><td>4</td><td>10</td><td>64</td><td>&quot;NVMe&quot;</td><td>512</td><td>1</td><td>&quot;OLED&quot;</td><td>16.0</td><td>&quot;1920x1080&quot;</td><td>90</td><td>56</td><td>120</td><td>0</td><td>&quot;Wi-Fi 6&quot;</td><td>5.3</td><td>2.03</td><td>12</td><td>2274.99</td></tr><tr><td>&quot;Desktop&quot;</td><td>&quot;Lenovo&quot;</td><td>&quot;Lenovo Strix BIE&quot;</td><td>2024</td><td>&quot;macOS&quot;</td><td>&quot;SFF&quot;</td><td>&quot;AMD&quot;</td><td>&quot;AMD Ryzen 5 5168&quot;</td><td>2</td><td>8</td><td>16</td><td>2.6</td><td>3.6</td><td>&quot;NVIDIA&quot;</td><td>&quot;RTX 40 50&quot;</td><td>1</td><td>4</td><td>8</td><td>&quot;NVMe&quot;</td><td>512</td><td>2</td><td>&quot;LED&quot;</td><td>32.0</td><td>&quot;3440x1440&quot;</td><td>120</td><td>0</td><td>0</td><td>850</td><td>&quot;Wi-Fi 6&quot;</td><td>5.0</td><td>7.0</td><td>24</td><td>1879.99</td></tr><tr><td>&quot;Desktop&quot;</td><td>&quot;Dell&quot;</td><td>&quot;Dell Cube AXR&quot;</td><td>2024</td><td>&quot;Windows&quot;</td><td>&quot;ATX&quot;</td><td>&quot;AMD&quot;</td><td>&quot;AMD Ryzen 5 7550&quot;</td><td>2</td><td>6</td><td>12</td><td>2.6</td><td>3.6</td><td>&quot;AMD&quot;</td><td>&quot;RX 7000 60&quot;</td><td>2</td><td>6</td><td>16</td><td>&quot;HDD&quot;</td><td>512</td><td>2</td><td>&quot;IPS&quot;</td><td>27.0</td><td>&quot;3440x1440&quot;</td><td>120</td><td>0</td><td>0</td><td>650</td><td>&quot;Wi-Fi 6&quot;</td><td>5.2</td><td>6.0</td><td>36</td><td>1331.99</td></tr><tr><td>&quot;Laptop&quot;</td><td>&quot;Gigabyte&quot;</td><td>&quot;Gigabyte Pro IX1&quot;</td><td>2024</td><td>&quot;Linux&quot;</td><td>&quot;Gaming&quot;</td><td>&quot;AMD&quot;</td><td>&quot;AMD Ryzen 7 6230&quot;</td><td>5</td><td>16</td><td>32</td><td>2.8</td><td>3.9</td><td>&quot;NVIDIA&quot;</td><td>&quot;RTX 30 80 Ti&quot;</td><td>5</td><td>12</td><td>96</td><td>&quot;NVMe&quot;</td><td>256</td><td>1</td><td>&quot;Mini-LED&quot;</td><td>15.6</td><td>&quot;2560x1600&quot;</td><td>90</td><td>80</td><td>90</td><td>0</td><td>&quot;Wi-Fi 6&quot;</td><td>5.2</td><td>1.5</td><td>12</td><td>2681.99</td></tr></tbody></table></div>"
      ]
     },
     "execution_count": 7,
     "metadata": {},
     "output_type": "execute_result"
    }
   ],
   "execution_count": 7
  },
  {
   "metadata": {
    "ExecuteTime": {
     "end_time": "2025-10-10T08:11:02.605269Z",
     "start_time": "2025-10-10T08:11:02.596893Z"
    }
   },
   "cell_type": "code",
   "source": [
    "df = df.with_columns(\n",
    "    pl.col('resolution').str.split('x').list.get(0).alias('resolution_width').cast(pl.Int16),\n",
    "    pl.col('resolution').str.split('x').list.get(1).alias('resolution_height').cast(pl.Int16)\n",
    ")"
   ],
   "id": "a6f3e1dc1c864075",
   "outputs": [],
   "execution_count": 8
  },
  {
   "metadata": {
    "ExecuteTime": {
     "end_time": "2025-10-10T08:11:02.651931Z",
     "start_time": "2025-10-10T08:11:02.650199Z"
    }
   },
   "cell_type": "code",
   "source": "",
   "id": "8011b14688b934d",
   "outputs": [],
   "execution_count": null
  },
  {
   "metadata": {
    "ExecuteTime": {
     "end_time": "2025-10-10T08:11:02.705820Z",
     "start_time": "2025-10-10T08:11:02.701235Z"
    }
   },
   "cell_type": "code",
   "source": [
    "df = df.with_columns(\n",
    "    (datetime.now().year - pl.col('release_year')).alias('device_age')\n",
    ")"
   ],
   "id": "df10334cbef4d30b",
   "outputs": [],
   "execution_count": 9
  },
  {
   "metadata": {
    "ExecuteTime": {
     "end_time": "2025-10-10T08:11:02.718770Z",
     "start_time": "2025-10-10T08:11:02.713579Z"
    }
   },
   "cell_type": "code",
   "source": [
    "df = df.with_columns(\n",
    "    pl.when((pl.col('device_type') == 'Desktop') & (pl.col('battery_wh') == 0))\n",
    "    .then(pl.lit(None))\n",
    "    .otherwise(pl.col('battery_wh'))\n",
    "    .alias('battery_wh'),\n",
    "    pl.when((pl.col('device_type') == 'Laptop') & (pl.col('psu_watts') == 0))\n",
    "    .then(pl.lit(None))\n",
    "    .otherwise(pl.col('psu_watts'))\n",
    "    .alias('psu_watts')\n",
    ")"
   ],
   "id": "264a374b7d3f6724",
   "outputs": [],
   "execution_count": 10
  },
  {
   "metadata": {
    "ExecuteTime": {
     "end_time": "2025-10-10T08:11:02.732002Z",
     "start_time": "2025-10-10T08:11:02.721989Z"
    }
   },
   "cell_type": "code",
   "source": [
    "df = df.with_columns(\n",
    "    pl.col('cpu_model'),\n",
    "    pl.coalesce([\n",
    "        pl.col('cpu_model').str.extract(r'([A-Za-z]+\\s\\d+)'),\n",
    "        pl.col('cpu_model').str.extract(r'([\\w]\\d)')\n",
    "    ]).alias('cpu_series')\n",
    ")"
   ],
   "id": "ff06334eb5abee35",
   "outputs": [],
   "execution_count": 11
  },
  {
   "metadata": {
    "ExecuteTime": {
     "end_time": "2025-10-10T08:11:02.742789Z",
     "start_time": "2025-10-10T08:11:02.737238Z"
    }
   },
   "cell_type": "code",
   "source": "df",
   "id": "1f62f156ddaaec72",
   "outputs": [
    {
     "data": {
      "text/plain": [
       "shape: (100_000, 37)\n",
       "┌───────────┬──────────┬───────────┬───────────┬───┬───────────┬───────────┬───────────┬───────────┐\n",
       "│ device_ty ┆ brand    ┆ model     ┆ release_y ┆ … ┆ resolutio ┆ resolutio ┆ device_ag ┆ cpu_serie │\n",
       "│ pe        ┆ ---      ┆ ---       ┆ ear       ┆   ┆ n_width   ┆ n_height  ┆ e         ┆ s         │\n",
       "│ ---       ┆ str      ┆ str       ┆ ---       ┆   ┆ ---       ┆ ---       ┆ ---       ┆ ---       │\n",
       "│ str       ┆          ┆           ┆ i64       ┆   ┆ i16       ┆ i16       ┆ i64       ┆ str       │\n",
       "╞═══════════╪══════════╪═══════════╪═══════════╪═══╪═══════════╪═══════════╪═══════════╪═══════════╡\n",
       "│ Desktop   ┆ Samsung  ┆ Samsung   ┆ 2022      ┆ … ┆ 2560      ┆ 1440      ┆ 3         ┆ i5        │\n",
       "│           ┆          ┆ Forge XDI ┆           ┆   ┆           ┆           ┆           ┆           │\n",
       "│ Laptop    ┆ Samsung  ┆ Samsung   ┆ 2022      ┆ … ┆ 1920      ┆ 1080      ┆ 3         ┆ i7        │\n",
       "│           ┆          ┆ Pro KM8   ┆           ┆   ┆           ┆           ┆           ┆           │\n",
       "│ Desktop   ┆ Lenovo   ┆ Lenovo    ┆ 2024      ┆ … ┆ 3440      ┆ 1440      ┆ 1         ┆ Ryzen 5   │\n",
       "│           ┆          ┆ Strix BIE ┆           ┆   ┆           ┆           ┆           ┆           │\n",
       "│ Desktop   ┆ Dell     ┆ Dell Cube ┆ 2024      ┆ … ┆ 3440      ┆ 1440      ┆ 1         ┆ Ryzen 5   │\n",
       "│           ┆          ┆ AXR       ┆           ┆   ┆           ┆           ┆           ┆           │\n",
       "│ Laptop    ┆ Gigabyte ┆ Gigabyte  ┆ 2024      ┆ … ┆ 2560      ┆ 1600      ┆ 1         ┆ Ryzen 7   │\n",
       "│           ┆          ┆ Pro IX1   ┆           ┆   ┆           ┆           ┆           ┆           │\n",
       "│ …         ┆ …        ┆ …         ┆ …         ┆ … ┆ …         ┆ …         ┆ …         ┆ …         │\n",
       "│ Laptop    ┆ ASUS     ┆ ASUS Pro  ┆ 2023      ┆ … ┆ 1920      ┆ 1080      ┆ 2         ┆ i7        │\n",
       "│           ┆          ┆ ZWL       ┆           ┆   ┆           ┆           ┆           ┆           │\n",
       "│ Laptop    ┆ Lenovo   ┆ Lenovo    ┆ 2018      ┆ … ┆ 2560      ┆ 1600      ┆ 7         ┆ Ryzen 5   │\n",
       "│           ┆          ┆ Stealth   ┆           ┆   ┆           ┆           ┆           ┆           │\n",
       "│           ┆          ┆ 014       ┆           ┆   ┆           ┆           ┆           ┆           │\n",
       "│ Laptop    ┆ ASUS     ┆ ASUS Zen  ┆ 2020      ┆ … ┆ 2560      ┆ 1600      ┆ 5         ┆ i5        │\n",
       "│           ┆          ┆ LKD       ┆           ┆   ┆           ┆           ┆           ┆           │\n",
       "│ Laptop    ┆ ASUS     ┆ ASUS      ┆ 2020      ┆ … ┆ 2560      ┆ 1600      ┆ 5         ┆ Ryzen 7   │\n",
       "│           ┆          ┆ Blade DH6 ┆           ┆   ┆           ┆           ┆           ┆           │\n",
       "│ Desktop   ┆ Acer     ┆ Acer      ┆ 2023      ┆ … ┆ 1920      ┆ 1080      ┆ 2         ┆ i9        │\n",
       "│           ┆          ┆ Think L7R ┆           ┆   ┆           ┆           ┆           ┆           │\n",
       "└───────────┴──────────┴───────────┴───────────┴───┴───────────┴───────────┴───────────┴───────────┘"
      ],
      "text/html": [
       "<div><style>\n",
       ".dataframe > thead > tr,\n",
       ".dataframe > tbody > tr {\n",
       "  text-align: right;\n",
       "  white-space: pre-wrap;\n",
       "}\n",
       "</style>\n",
       "<small>shape: (100_000, 37)</small><table border=\"1\" class=\"dataframe\"><thead><tr><th>device_type</th><th>brand</th><th>model</th><th>release_year</th><th>os</th><th>form_factor</th><th>cpu_brand</th><th>cpu_model</th><th>cpu_tier</th><th>cpu_cores</th><th>cpu_threads</th><th>cpu_base_ghz</th><th>cpu_boost_ghz</th><th>gpu_brand</th><th>gpu_model</th><th>gpu_tier</th><th>vram_gb</th><th>ram_gb</th><th>storage_type</th><th>storage_gb</th><th>storage_drive_count</th><th>display_type</th><th>display_size_in</th><th>resolution</th><th>refresh_hz</th><th>battery_wh</th><th>charger_watts</th><th>psu_watts</th><th>wifi</th><th>bluetooth</th><th>weight_kg</th><th>warranty_months</th><th>price</th><th>resolution_width</th><th>resolution_height</th><th>device_age</th><th>cpu_series</th></tr><tr><td>str</td><td>str</td><td>str</td><td>i64</td><td>str</td><td>str</td><td>str</td><td>str</td><td>i64</td><td>i64</td><td>i64</td><td>f64</td><td>f64</td><td>str</td><td>str</td><td>i64</td><td>i64</td><td>i64</td><td>str</td><td>i64</td><td>i64</td><td>str</td><td>f64</td><td>str</td><td>i64</td><td>i64</td><td>i64</td><td>i64</td><td>str</td><td>f64</td><td>f64</td><td>i64</td><td>f64</td><td>i16</td><td>i16</td><td>i64</td><td>str</td></tr></thead><tbody><tr><td>&quot;Desktop&quot;</td><td>&quot;Samsung&quot;</td><td>&quot;Samsung Forge XDI&quot;</td><td>2022</td><td>&quot;Windows&quot;</td><td>&quot;ATX&quot;</td><td>&quot;Intel&quot;</td><td>&quot;Intel i5-11129&quot;</td><td>3</td><td>12</td><td>24</td><td>2.8</td><td>3.8</td><td>&quot;NVIDIA&quot;</td><td>&quot;RTX 40 60&quot;</td><td>2</td><td>6</td><td>16</td><td>&quot;NVMe&quot;</td><td>1024</td><td>1</td><td>&quot;LED&quot;</td><td>27.0</td><td>&quot;2560x1440&quot;</td><td>90</td><td>null</td><td>0</td><td>750</td><td>&quot;Wi-Fi 6&quot;</td><td>5.1</td><td>11.0</td><td>36</td><td>1383.99</td><td>2560</td><td>1440</td><td>3</td><td>&quot;i5&quot;</td></tr><tr><td>&quot;Laptop&quot;</td><td>&quot;Samsung&quot;</td><td>&quot;Samsung Pro KM8&quot;</td><td>2022</td><td>&quot;Windows&quot;</td><td>&quot;Mainstream&quot;</td><td>&quot;Intel&quot;</td><td>&quot;Intel i7-11114&quot;</td><td>4</td><td>12</td><td>24</td><td>2.6</td><td>3.6</td><td>&quot;NVIDIA&quot;</td><td>&quot;RTX 40 80&quot;</td><td>4</td><td>10</td><td>64</td><td>&quot;NVMe&quot;</td><td>512</td><td>1</td><td>&quot;OLED&quot;</td><td>16.0</td><td>&quot;1920x1080&quot;</td><td>90</td><td>56</td><td>120</td><td>null</td><td>&quot;Wi-Fi 6&quot;</td><td>5.3</td><td>2.03</td><td>12</td><td>2274.99</td><td>1920</td><td>1080</td><td>3</td><td>&quot;i7&quot;</td></tr><tr><td>&quot;Desktop&quot;</td><td>&quot;Lenovo&quot;</td><td>&quot;Lenovo Strix BIE&quot;</td><td>2024</td><td>&quot;macOS&quot;</td><td>&quot;SFF&quot;</td><td>&quot;AMD&quot;</td><td>&quot;AMD Ryzen 5 5168&quot;</td><td>2</td><td>8</td><td>16</td><td>2.6</td><td>3.6</td><td>&quot;NVIDIA&quot;</td><td>&quot;RTX 40 50&quot;</td><td>1</td><td>4</td><td>8</td><td>&quot;NVMe&quot;</td><td>512</td><td>2</td><td>&quot;LED&quot;</td><td>32.0</td><td>&quot;3440x1440&quot;</td><td>120</td><td>null</td><td>0</td><td>850</td><td>&quot;Wi-Fi 6&quot;</td><td>5.0</td><td>7.0</td><td>24</td><td>1879.99</td><td>3440</td><td>1440</td><td>1</td><td>&quot;Ryzen 5&quot;</td></tr><tr><td>&quot;Desktop&quot;</td><td>&quot;Dell&quot;</td><td>&quot;Dell Cube AXR&quot;</td><td>2024</td><td>&quot;Windows&quot;</td><td>&quot;ATX&quot;</td><td>&quot;AMD&quot;</td><td>&quot;AMD Ryzen 5 7550&quot;</td><td>2</td><td>6</td><td>12</td><td>2.6</td><td>3.6</td><td>&quot;AMD&quot;</td><td>&quot;RX 7000 60&quot;</td><td>2</td><td>6</td><td>16</td><td>&quot;HDD&quot;</td><td>512</td><td>2</td><td>&quot;IPS&quot;</td><td>27.0</td><td>&quot;3440x1440&quot;</td><td>120</td><td>null</td><td>0</td><td>650</td><td>&quot;Wi-Fi 6&quot;</td><td>5.2</td><td>6.0</td><td>36</td><td>1331.99</td><td>3440</td><td>1440</td><td>1</td><td>&quot;Ryzen 5&quot;</td></tr><tr><td>&quot;Laptop&quot;</td><td>&quot;Gigabyte&quot;</td><td>&quot;Gigabyte Pro IX1&quot;</td><td>2024</td><td>&quot;Linux&quot;</td><td>&quot;Gaming&quot;</td><td>&quot;AMD&quot;</td><td>&quot;AMD Ryzen 7 6230&quot;</td><td>5</td><td>16</td><td>32</td><td>2.8</td><td>3.9</td><td>&quot;NVIDIA&quot;</td><td>&quot;RTX 30 80 Ti&quot;</td><td>5</td><td>12</td><td>96</td><td>&quot;NVMe&quot;</td><td>256</td><td>1</td><td>&quot;Mini-LED&quot;</td><td>15.6</td><td>&quot;2560x1600&quot;</td><td>90</td><td>80</td><td>90</td><td>null</td><td>&quot;Wi-Fi 6&quot;</td><td>5.2</td><td>1.5</td><td>12</td><td>2681.99</td><td>2560</td><td>1600</td><td>1</td><td>&quot;Ryzen 7&quot;</td></tr><tr><td>&hellip;</td><td>&hellip;</td><td>&hellip;</td><td>&hellip;</td><td>&hellip;</td><td>&hellip;</td><td>&hellip;</td><td>&hellip;</td><td>&hellip;</td><td>&hellip;</td><td>&hellip;</td><td>&hellip;</td><td>&hellip;</td><td>&hellip;</td><td>&hellip;</td><td>&hellip;</td><td>&hellip;</td><td>&hellip;</td><td>&hellip;</td><td>&hellip;</td><td>&hellip;</td><td>&hellip;</td><td>&hellip;</td><td>&hellip;</td><td>&hellip;</td><td>&hellip;</td><td>&hellip;</td><td>&hellip;</td><td>&hellip;</td><td>&hellip;</td><td>&hellip;</td><td>&hellip;</td><td>&hellip;</td><td>&hellip;</td><td>&hellip;</td><td>&hellip;</td><td>&hellip;</td></tr><tr><td>&quot;Laptop&quot;</td><td>&quot;ASUS&quot;</td><td>&quot;ASUS Pro ZWL&quot;</td><td>2023</td><td>&quot;Windows&quot;</td><td>&quot;Mainstream&quot;</td><td>&quot;Intel&quot;</td><td>&quot;Intel i7-13721&quot;</td><td>4</td><td>12</td><td>24</td><td>2.6</td><td>3.7</td><td>&quot;AMD&quot;</td><td>&quot;RX 7000 70&quot;</td><td>3</td><td>8</td><td>32</td><td>&quot;HDD&quot;</td><td>2048</td><td>1</td><td>&quot;LED&quot;</td><td>14.0</td><td>&quot;1920x1080&quot;</td><td>144</td><td>90</td><td>180</td><td>null</td><td>&quot;Wi-Fi 6&quot;</td><td>5.1</td><td>1.87</td><td>24</td><td>1712.99</td><td>1920</td><td>1080</td><td>2</td><td>&quot;i7&quot;</td></tr><tr><td>&quot;Laptop&quot;</td><td>&quot;Lenovo&quot;</td><td>&quot;Lenovo Stealth 014&quot;</td><td>2018</td><td>&quot;Windows&quot;</td><td>&quot;Ultrabook&quot;</td><td>&quot;AMD&quot;</td><td>&quot;AMD Ryzen 5 5117&quot;</td><td>2</td><td>8</td><td>16</td><td>2.2</td><td>3.2</td><td>&quot;AMD&quot;</td><td>&quot;RX 6000 50&quot;</td><td>1</td><td>4</td><td>8</td><td>&quot;HDD&quot;</td><td>1024</td><td>1</td><td>&quot;LED&quot;</td><td>14.0</td><td>&quot;2560x1600&quot;</td><td>90</td><td>50</td><td>65</td><td>null</td><td>&quot;Wi-Fi 6&quot;</td><td>5.1</td><td>1.37</td><td>12</td><td>1258.99</td><td>2560</td><td>1600</td><td>7</td><td>&quot;Ryzen 5&quot;</td></tr><tr><td>&quot;Laptop&quot;</td><td>&quot;ASUS&quot;</td><td>&quot;ASUS Zen LKD&quot;</td><td>2020</td><td>&quot;Windows&quot;</td><td>&quot;Mainstream&quot;</td><td>&quot;Intel&quot;</td><td>&quot;Intel i5-12677&quot;</td><td>2</td><td>6</td><td>10</td><td>2.2</td><td>3.2</td><td>&quot;NVIDIA&quot;</td><td>&quot;RTX 20 60&quot;</td><td>2</td><td>6</td><td>16</td><td>&quot;NVMe&quot;</td><td>1024</td><td>1</td><td>&quot;OLED&quot;</td><td>14.0</td><td>&quot;2560x1600&quot;</td><td>120</td><td>99</td><td>180</td><td>null</td><td>&quot;Wi-Fi 6&quot;</td><td>4.2</td><td>1.17</td><td>12</td><td>1686.99</td><td>2560</td><td>1600</td><td>5</td><td>&quot;i5&quot;</td></tr><tr><td>&quot;Laptop&quot;</td><td>&quot;ASUS&quot;</td><td>&quot;ASUS Blade DH6&quot;</td><td>2020</td><td>&quot;Windows&quot;</td><td>&quot;Mainstream&quot;</td><td>&quot;AMD&quot;</td><td>&quot;AMD Ryzen 7 4590&quot;</td><td>4</td><td>12</td><td>24</td><td>2.6</td><td>3.5</td><td>&quot;NVIDIA&quot;</td><td>&quot;RTX 30 70&quot;</td><td>3</td><td>8</td><td>32</td><td>&quot;NVMe&quot;</td><td>256</td><td>1</td><td>&quot;OLED&quot;</td><td>15.6</td><td>&quot;2560x1600&quot;</td><td>120</td><td>60</td><td>90</td><td>null</td><td>&quot;Wi-Fi 6&quot;</td><td>5.3</td><td>1.7</td><td>24</td><td>2164.99</td><td>2560</td><td>1600</td><td>5</td><td>&quot;Ryzen 7&quot;</td></tr><tr><td>&quot;Desktop&quot;</td><td>&quot;Acer&quot;</td><td>&quot;Acer Think L7R&quot;</td><td>2023</td><td>&quot;Windows&quot;</td><td>&quot;SFF&quot;</td><td>&quot;Intel&quot;</td><td>&quot;Intel i9-14345&quot;</td><td>6</td><td>26</td><td>52</td><td>3.4</td><td>4.2</td><td>&quot;Intel&quot;</td><td>&quot;Arc A770 Limited&quot;</td><td>6</td><td>0</td><td>128</td><td>&quot;Hybrid&quot;</td><td>2048</td><td>2</td><td>&quot;IPS&quot;</td><td>27.0</td><td>&quot;1920x1080&quot;</td><td>144</td><td>null</td><td>0</td><td>750</td><td>&quot;Wi-Fi 6E&quot;</td><td>5.1</td><td>7.0</td><td>48</td><td>3005.99</td><td>1920</td><td>1080</td><td>2</td><td>&quot;i9&quot;</td></tr></tbody></table></div>"
      ]
     },
     "execution_count": 12,
     "metadata": {},
     "output_type": "execute_result"
    }
   ],
   "execution_count": 12
  },
  {
   "metadata": {},
   "cell_type": "markdown",
   "source": [
    "The user wants to round the result of the division, not the `storage_gb` column before division. The `round()` method should be applied to the entire expression result.\n",
    "\n"
   ],
   "id": "6507645942bb63c4"
  },
  {
   "metadata": {
    "ExecuteTime": {
     "end_time": "2025-10-10T08:13:01.907855Z",
     "start_time": "2025-10-10T08:13:01.902642Z"
    }
   },
   "cell_type": "code",
   "source": [
    "df = df.with_columns(\n",
    "    (pl.col('price') / pl.col('storage_gb')).round(2).alias('price_per_gb_storage')\n",
    ")\n"
   ],
   "id": "65df20f44c859a7c",
   "outputs": [],
   "execution_count": 20
  },
  {
   "metadata": {
    "ExecuteTime": {
     "end_time": "2025-10-10T08:13:03.158695Z",
     "start_time": "2025-10-10T08:13:03.151424Z"
    }
   },
   "cell_type": "code",
   "source": "df",
   "id": "8cd5d790f3778ea8",
   "outputs": [
    {
     "data": {
      "text/plain": [
       "shape: (100_000, 38)\n",
       "┌───────────┬──────────┬───────────┬───────────┬───┬───────────┬───────────┬───────────┬───────────┐\n",
       "│ device_ty ┆ brand    ┆ model     ┆ release_y ┆ … ┆ resolutio ┆ device_ag ┆ cpu_serie ┆ price_per │\n",
       "│ pe        ┆ ---      ┆ ---       ┆ ear       ┆   ┆ n_height  ┆ e         ┆ s         ┆ _gb_stora │\n",
       "│ ---       ┆ str      ┆ str       ┆ ---       ┆   ┆ ---       ┆ ---       ┆ ---       ┆ ge        │\n",
       "│ str       ┆          ┆           ┆ i64       ┆   ┆ i16       ┆ i64       ┆ str       ┆ ---       │\n",
       "│           ┆          ┆           ┆           ┆   ┆           ┆           ┆           ┆ f64       │\n",
       "╞═══════════╪══════════╪═══════════╪═══════════╪═══╪═══════════╪═══════════╪═══════════╪═══════════╡\n",
       "│ Desktop   ┆ Samsung  ┆ Samsung   ┆ 2022      ┆ … ┆ 1440      ┆ 3         ┆ i5        ┆ 1.35      │\n",
       "│           ┆          ┆ Forge XDI ┆           ┆   ┆           ┆           ┆           ┆           │\n",
       "│ Laptop    ┆ Samsung  ┆ Samsung   ┆ 2022      ┆ … ┆ 1080      ┆ 3         ┆ i7        ┆ 4.44      │\n",
       "│           ┆          ┆ Pro KM8   ┆           ┆   ┆           ┆           ┆           ┆           │\n",
       "│ Desktop   ┆ Lenovo   ┆ Lenovo    ┆ 2024      ┆ … ┆ 1440      ┆ 1         ┆ Ryzen 5   ┆ 3.67      │\n",
       "│           ┆          ┆ Strix BIE ┆           ┆   ┆           ┆           ┆           ┆           │\n",
       "│ Desktop   ┆ Dell     ┆ Dell Cube ┆ 2024      ┆ … ┆ 1440      ┆ 1         ┆ Ryzen 5   ┆ 2.6       │\n",
       "│           ┆          ┆ AXR       ┆           ┆   ┆           ┆           ┆           ┆           │\n",
       "│ Laptop    ┆ Gigabyte ┆ Gigabyte  ┆ 2024      ┆ … ┆ 1600      ┆ 1         ┆ Ryzen 7   ┆ 10.48     │\n",
       "│           ┆          ┆ Pro IX1   ┆           ┆   ┆           ┆           ┆           ┆           │\n",
       "│ …         ┆ …        ┆ …         ┆ …         ┆ … ┆ …         ┆ …         ┆ …         ┆ …         │\n",
       "│ Laptop    ┆ ASUS     ┆ ASUS Pro  ┆ 2023      ┆ … ┆ 1080      ┆ 2         ┆ i7        ┆ 0.84      │\n",
       "│           ┆          ┆ ZWL       ┆           ┆   ┆           ┆           ┆           ┆           │\n",
       "│ Laptop    ┆ Lenovo   ┆ Lenovo    ┆ 2018      ┆ … ┆ 1600      ┆ 7         ┆ Ryzen 5   ┆ 1.23      │\n",
       "│           ┆          ┆ Stealth   ┆           ┆   ┆           ┆           ┆           ┆           │\n",
       "│           ┆          ┆ 014       ┆           ┆   ┆           ┆           ┆           ┆           │\n",
       "│ Laptop    ┆ ASUS     ┆ ASUS Zen  ┆ 2020      ┆ … ┆ 1600      ┆ 5         ┆ i5        ┆ 1.65      │\n",
       "│           ┆          ┆ LKD       ┆           ┆   ┆           ┆           ┆           ┆           │\n",
       "│ Laptop    ┆ ASUS     ┆ ASUS      ┆ 2020      ┆ … ┆ 1600      ┆ 5         ┆ Ryzen 7   ┆ 8.46      │\n",
       "│           ┆          ┆ Blade DH6 ┆           ┆   ┆           ┆           ┆           ┆           │\n",
       "│ Desktop   ┆ Acer     ┆ Acer      ┆ 2023      ┆ … ┆ 1080      ┆ 2         ┆ i9        ┆ 1.47      │\n",
       "│           ┆          ┆ Think L7R ┆           ┆   ┆           ┆           ┆           ┆           │\n",
       "└───────────┴──────────┴───────────┴───────────┴───┴───────────┴───────────┴───────────┴───────────┘"
      ],
      "text/html": [
       "<div><style>\n",
       ".dataframe > thead > tr,\n",
       ".dataframe > tbody > tr {\n",
       "  text-align: right;\n",
       "  white-space: pre-wrap;\n",
       "}\n",
       "</style>\n",
       "<small>shape: (100_000, 38)</small><table border=\"1\" class=\"dataframe\"><thead><tr><th>device_type</th><th>brand</th><th>model</th><th>release_year</th><th>os</th><th>form_factor</th><th>cpu_brand</th><th>cpu_model</th><th>cpu_tier</th><th>cpu_cores</th><th>cpu_threads</th><th>cpu_base_ghz</th><th>cpu_boost_ghz</th><th>gpu_brand</th><th>gpu_model</th><th>gpu_tier</th><th>vram_gb</th><th>ram_gb</th><th>storage_type</th><th>storage_gb</th><th>storage_drive_count</th><th>display_type</th><th>display_size_in</th><th>resolution</th><th>refresh_hz</th><th>battery_wh</th><th>charger_watts</th><th>psu_watts</th><th>wifi</th><th>bluetooth</th><th>weight_kg</th><th>warranty_months</th><th>price</th><th>resolution_width</th><th>resolution_height</th><th>device_age</th><th>cpu_series</th><th>price_per_gb_storage</th></tr><tr><td>str</td><td>str</td><td>str</td><td>i64</td><td>str</td><td>str</td><td>str</td><td>str</td><td>i64</td><td>i64</td><td>i64</td><td>f64</td><td>f64</td><td>str</td><td>str</td><td>i64</td><td>i64</td><td>i64</td><td>str</td><td>i64</td><td>i64</td><td>str</td><td>f64</td><td>str</td><td>i64</td><td>i64</td><td>i64</td><td>i64</td><td>str</td><td>f64</td><td>f64</td><td>i64</td><td>f64</td><td>i16</td><td>i16</td><td>i64</td><td>str</td><td>f64</td></tr></thead><tbody><tr><td>&quot;Desktop&quot;</td><td>&quot;Samsung&quot;</td><td>&quot;Samsung Forge XDI&quot;</td><td>2022</td><td>&quot;Windows&quot;</td><td>&quot;ATX&quot;</td><td>&quot;Intel&quot;</td><td>&quot;Intel i5-11129&quot;</td><td>3</td><td>12</td><td>24</td><td>2.8</td><td>3.8</td><td>&quot;NVIDIA&quot;</td><td>&quot;RTX 40 60&quot;</td><td>2</td><td>6</td><td>16</td><td>&quot;NVMe&quot;</td><td>1024</td><td>1</td><td>&quot;LED&quot;</td><td>27.0</td><td>&quot;2560x1440&quot;</td><td>90</td><td>null</td><td>0</td><td>750</td><td>&quot;Wi-Fi 6&quot;</td><td>5.1</td><td>11.0</td><td>36</td><td>1383.99</td><td>2560</td><td>1440</td><td>3</td><td>&quot;i5&quot;</td><td>1.35</td></tr><tr><td>&quot;Laptop&quot;</td><td>&quot;Samsung&quot;</td><td>&quot;Samsung Pro KM8&quot;</td><td>2022</td><td>&quot;Windows&quot;</td><td>&quot;Mainstream&quot;</td><td>&quot;Intel&quot;</td><td>&quot;Intel i7-11114&quot;</td><td>4</td><td>12</td><td>24</td><td>2.6</td><td>3.6</td><td>&quot;NVIDIA&quot;</td><td>&quot;RTX 40 80&quot;</td><td>4</td><td>10</td><td>64</td><td>&quot;NVMe&quot;</td><td>512</td><td>1</td><td>&quot;OLED&quot;</td><td>16.0</td><td>&quot;1920x1080&quot;</td><td>90</td><td>56</td><td>120</td><td>null</td><td>&quot;Wi-Fi 6&quot;</td><td>5.3</td><td>2.03</td><td>12</td><td>2274.99</td><td>1920</td><td>1080</td><td>3</td><td>&quot;i7&quot;</td><td>4.44</td></tr><tr><td>&quot;Desktop&quot;</td><td>&quot;Lenovo&quot;</td><td>&quot;Lenovo Strix BIE&quot;</td><td>2024</td><td>&quot;macOS&quot;</td><td>&quot;SFF&quot;</td><td>&quot;AMD&quot;</td><td>&quot;AMD Ryzen 5 5168&quot;</td><td>2</td><td>8</td><td>16</td><td>2.6</td><td>3.6</td><td>&quot;NVIDIA&quot;</td><td>&quot;RTX 40 50&quot;</td><td>1</td><td>4</td><td>8</td><td>&quot;NVMe&quot;</td><td>512</td><td>2</td><td>&quot;LED&quot;</td><td>32.0</td><td>&quot;3440x1440&quot;</td><td>120</td><td>null</td><td>0</td><td>850</td><td>&quot;Wi-Fi 6&quot;</td><td>5.0</td><td>7.0</td><td>24</td><td>1879.99</td><td>3440</td><td>1440</td><td>1</td><td>&quot;Ryzen 5&quot;</td><td>3.67</td></tr><tr><td>&quot;Desktop&quot;</td><td>&quot;Dell&quot;</td><td>&quot;Dell Cube AXR&quot;</td><td>2024</td><td>&quot;Windows&quot;</td><td>&quot;ATX&quot;</td><td>&quot;AMD&quot;</td><td>&quot;AMD Ryzen 5 7550&quot;</td><td>2</td><td>6</td><td>12</td><td>2.6</td><td>3.6</td><td>&quot;AMD&quot;</td><td>&quot;RX 7000 60&quot;</td><td>2</td><td>6</td><td>16</td><td>&quot;HDD&quot;</td><td>512</td><td>2</td><td>&quot;IPS&quot;</td><td>27.0</td><td>&quot;3440x1440&quot;</td><td>120</td><td>null</td><td>0</td><td>650</td><td>&quot;Wi-Fi 6&quot;</td><td>5.2</td><td>6.0</td><td>36</td><td>1331.99</td><td>3440</td><td>1440</td><td>1</td><td>&quot;Ryzen 5&quot;</td><td>2.6</td></tr><tr><td>&quot;Laptop&quot;</td><td>&quot;Gigabyte&quot;</td><td>&quot;Gigabyte Pro IX1&quot;</td><td>2024</td><td>&quot;Linux&quot;</td><td>&quot;Gaming&quot;</td><td>&quot;AMD&quot;</td><td>&quot;AMD Ryzen 7 6230&quot;</td><td>5</td><td>16</td><td>32</td><td>2.8</td><td>3.9</td><td>&quot;NVIDIA&quot;</td><td>&quot;RTX 30 80 Ti&quot;</td><td>5</td><td>12</td><td>96</td><td>&quot;NVMe&quot;</td><td>256</td><td>1</td><td>&quot;Mini-LED&quot;</td><td>15.6</td><td>&quot;2560x1600&quot;</td><td>90</td><td>80</td><td>90</td><td>null</td><td>&quot;Wi-Fi 6&quot;</td><td>5.2</td><td>1.5</td><td>12</td><td>2681.99</td><td>2560</td><td>1600</td><td>1</td><td>&quot;Ryzen 7&quot;</td><td>10.48</td></tr><tr><td>&hellip;</td><td>&hellip;</td><td>&hellip;</td><td>&hellip;</td><td>&hellip;</td><td>&hellip;</td><td>&hellip;</td><td>&hellip;</td><td>&hellip;</td><td>&hellip;</td><td>&hellip;</td><td>&hellip;</td><td>&hellip;</td><td>&hellip;</td><td>&hellip;</td><td>&hellip;</td><td>&hellip;</td><td>&hellip;</td><td>&hellip;</td><td>&hellip;</td><td>&hellip;</td><td>&hellip;</td><td>&hellip;</td><td>&hellip;</td><td>&hellip;</td><td>&hellip;</td><td>&hellip;</td><td>&hellip;</td><td>&hellip;</td><td>&hellip;</td><td>&hellip;</td><td>&hellip;</td><td>&hellip;</td><td>&hellip;</td><td>&hellip;</td><td>&hellip;</td><td>&hellip;</td><td>&hellip;</td></tr><tr><td>&quot;Laptop&quot;</td><td>&quot;ASUS&quot;</td><td>&quot;ASUS Pro ZWL&quot;</td><td>2023</td><td>&quot;Windows&quot;</td><td>&quot;Mainstream&quot;</td><td>&quot;Intel&quot;</td><td>&quot;Intel i7-13721&quot;</td><td>4</td><td>12</td><td>24</td><td>2.6</td><td>3.7</td><td>&quot;AMD&quot;</td><td>&quot;RX 7000 70&quot;</td><td>3</td><td>8</td><td>32</td><td>&quot;HDD&quot;</td><td>2048</td><td>1</td><td>&quot;LED&quot;</td><td>14.0</td><td>&quot;1920x1080&quot;</td><td>144</td><td>90</td><td>180</td><td>null</td><td>&quot;Wi-Fi 6&quot;</td><td>5.1</td><td>1.87</td><td>24</td><td>1712.99</td><td>1920</td><td>1080</td><td>2</td><td>&quot;i7&quot;</td><td>0.84</td></tr><tr><td>&quot;Laptop&quot;</td><td>&quot;Lenovo&quot;</td><td>&quot;Lenovo Stealth 014&quot;</td><td>2018</td><td>&quot;Windows&quot;</td><td>&quot;Ultrabook&quot;</td><td>&quot;AMD&quot;</td><td>&quot;AMD Ryzen 5 5117&quot;</td><td>2</td><td>8</td><td>16</td><td>2.2</td><td>3.2</td><td>&quot;AMD&quot;</td><td>&quot;RX 6000 50&quot;</td><td>1</td><td>4</td><td>8</td><td>&quot;HDD&quot;</td><td>1024</td><td>1</td><td>&quot;LED&quot;</td><td>14.0</td><td>&quot;2560x1600&quot;</td><td>90</td><td>50</td><td>65</td><td>null</td><td>&quot;Wi-Fi 6&quot;</td><td>5.1</td><td>1.37</td><td>12</td><td>1258.99</td><td>2560</td><td>1600</td><td>7</td><td>&quot;Ryzen 5&quot;</td><td>1.23</td></tr><tr><td>&quot;Laptop&quot;</td><td>&quot;ASUS&quot;</td><td>&quot;ASUS Zen LKD&quot;</td><td>2020</td><td>&quot;Windows&quot;</td><td>&quot;Mainstream&quot;</td><td>&quot;Intel&quot;</td><td>&quot;Intel i5-12677&quot;</td><td>2</td><td>6</td><td>10</td><td>2.2</td><td>3.2</td><td>&quot;NVIDIA&quot;</td><td>&quot;RTX 20 60&quot;</td><td>2</td><td>6</td><td>16</td><td>&quot;NVMe&quot;</td><td>1024</td><td>1</td><td>&quot;OLED&quot;</td><td>14.0</td><td>&quot;2560x1600&quot;</td><td>120</td><td>99</td><td>180</td><td>null</td><td>&quot;Wi-Fi 6&quot;</td><td>4.2</td><td>1.17</td><td>12</td><td>1686.99</td><td>2560</td><td>1600</td><td>5</td><td>&quot;i5&quot;</td><td>1.65</td></tr><tr><td>&quot;Laptop&quot;</td><td>&quot;ASUS&quot;</td><td>&quot;ASUS Blade DH6&quot;</td><td>2020</td><td>&quot;Windows&quot;</td><td>&quot;Mainstream&quot;</td><td>&quot;AMD&quot;</td><td>&quot;AMD Ryzen 7 4590&quot;</td><td>4</td><td>12</td><td>24</td><td>2.6</td><td>3.5</td><td>&quot;NVIDIA&quot;</td><td>&quot;RTX 30 70&quot;</td><td>3</td><td>8</td><td>32</td><td>&quot;NVMe&quot;</td><td>256</td><td>1</td><td>&quot;OLED&quot;</td><td>15.6</td><td>&quot;2560x1600&quot;</td><td>120</td><td>60</td><td>90</td><td>null</td><td>&quot;Wi-Fi 6&quot;</td><td>5.3</td><td>1.7</td><td>24</td><td>2164.99</td><td>2560</td><td>1600</td><td>5</td><td>&quot;Ryzen 7&quot;</td><td>8.46</td></tr><tr><td>&quot;Desktop&quot;</td><td>&quot;Acer&quot;</td><td>&quot;Acer Think L7R&quot;</td><td>2023</td><td>&quot;Windows&quot;</td><td>&quot;SFF&quot;</td><td>&quot;Intel&quot;</td><td>&quot;Intel i9-14345&quot;</td><td>6</td><td>26</td><td>52</td><td>3.4</td><td>4.2</td><td>&quot;Intel&quot;</td><td>&quot;Arc A770 Limited&quot;</td><td>6</td><td>0</td><td>128</td><td>&quot;Hybrid&quot;</td><td>2048</td><td>2</td><td>&quot;IPS&quot;</td><td>27.0</td><td>&quot;1920x1080&quot;</td><td>144</td><td>null</td><td>0</td><td>750</td><td>&quot;Wi-Fi 6E&quot;</td><td>5.1</td><td>7.0</td><td>48</td><td>3005.99</td><td>1920</td><td>1080</td><td>2</td><td>&quot;i9&quot;</td><td>1.47</td></tr></tbody></table></div>"
      ]
     },
     "execution_count": 21,
     "metadata": {},
     "output_type": "execute_result"
    }
   ],
   "execution_count": 21
  },
  {
   "metadata": {
    "ExecuteTime": {
     "end_time": "2025-10-10T10:16:29.378812Z",
     "start_time": "2025-10-10T10:16:29.373900Z"
    }
   },
   "cell_type": "code",
   "source": "df.collect_schema()",
   "id": "5ca753031be4b71c",
   "outputs": [
    {
     "data": {
      "text/plain": [
       "Schema([('device_type', String),\n",
       "        ('brand', String),\n",
       "        ('model', String),\n",
       "        ('release_year', Int64),\n",
       "        ('os', String),\n",
       "        ('form_factor', String),\n",
       "        ('cpu_brand', String),\n",
       "        ('cpu_model', String),\n",
       "        ('cpu_tier', Int64),\n",
       "        ('cpu_cores', Int64),\n",
       "        ('cpu_threads', Int64),\n",
       "        ('cpu_base_ghz', Float64),\n",
       "        ('cpu_boost_ghz', Float64),\n",
       "        ('gpu_brand', String),\n",
       "        ('gpu_model', String),\n",
       "        ('gpu_tier', Int64),\n",
       "        ('vram_gb', Int64),\n",
       "        ('ram_gb', Int64),\n",
       "        ('storage_type', String),\n",
       "        ('storage_gb', Int64),\n",
       "        ('storage_drive_count', Int64),\n",
       "        ('display_type', String),\n",
       "        ('display_size_in', Float64),\n",
       "        ('resolution', String),\n",
       "        ('refresh_hz', Int64),\n",
       "        ('battery_wh', Int64),\n",
       "        ('charger_watts', Int64),\n",
       "        ('psu_watts', Int64),\n",
       "        ('wifi', String),\n",
       "        ('bluetooth', Float64),\n",
       "        ('weight_kg', Float64),\n",
       "        ('warranty_months', Int64),\n",
       "        ('price', Float64),\n",
       "        ('resolution_width', Int16),\n",
       "        ('resolution_height', Int16),\n",
       "        ('device_age', Int64),\n",
       "        ('cpu_series', String),\n",
       "        ('price_per_gb_storage', Float64)])"
      ]
     },
     "execution_count": 23,
     "metadata": {},
     "output_type": "execute_result"
    }
   ],
   "execution_count": 23
  },
  {
   "metadata": {
    "ExecuteTime": {
     "end_time": "2025-10-10T10:18:38.146263Z",
     "start_time": "2025-10-10T10:18:38.138674Z"
    }
   },
   "cell_type": "code",
   "source": [
    "df.select(\n",
    "    pl.col('price', 'device_type')\n",
    ").group_by(\n",
    "    pl.col('device_type')\n",
    ").agg(\n",
    "    pl.sum('price')\n",
    ")"
   ],
   "id": "921fd7d2545158b2",
   "outputs": [
    {
     "data": {
      "text/plain": [
       "shape: (2, 2)\n",
       "┌─────────────┬──────────┐\n",
       "│ device_type ┆ price    │\n",
       "│ ---         ┆ ---      │\n",
       "│ str         ┆ f64      │\n",
       "╞═════════════╪══════════╡\n",
       "│ Laptop      ┆ 1.1981e8 │\n",
       "│ Desktop     ┆ 7.3066e7 │\n",
       "└─────────────┴──────────┘"
      ],
      "text/html": [
       "<div><style>\n",
       ".dataframe > thead > tr,\n",
       ".dataframe > tbody > tr {\n",
       "  text-align: right;\n",
       "  white-space: pre-wrap;\n",
       "}\n",
       "</style>\n",
       "<small>shape: (2, 2)</small><table border=\"1\" class=\"dataframe\"><thead><tr><th>device_type</th><th>price</th></tr><tr><td>str</td><td>f64</td></tr></thead><tbody><tr><td>&quot;Laptop&quot;</td><td>1.1981e8</td></tr><tr><td>&quot;Desktop&quot;</td><td>7.3066e7</td></tr></tbody></table></div>"
      ]
     },
     "execution_count": 28,
     "metadata": {},
     "output_type": "execute_result"
    }
   ],
   "execution_count": 28
  },
  {
   "metadata": {
    "ExecuteTime": {
     "end_time": "2025-10-10T10:21:56.901200Z",
     "start_time": "2025-10-10T10:21:56.251331Z"
    }
   },
   "cell_type": "code",
   "source": [
    "plt.figure(figsize=(10, 6))\n",
    "sns.histplot(data=df.to_pandas(), x='price', bins=30, kde=True)\n",
    "plt.title('Distribution of Device Prices')\n",
    "plt.xlabel('Price ($)')\n",
    "plt.ylabel('Frequency')\n",
    "plt.show()\n",
    "\n",
    "price_mean = df.select(pl.col('price').mean()).item()\n",
    "price_median = df.select(pl.col('price').median()).item()\n",
    "\n",
    "print(f\"Mean Price: ${price_mean:.2f}\")\n",
    "print(f\"Median Price: ${price_median:.2f}\")\n",
    "print(\n",
    "    f\"\\nThe distribution is right-skewed because the mean (${price_mean:.2f}) is greater than the median (${price_median:.2f}).\")\n",
    "print(\n",
    "    \"This indicates that there are some expensive devices pulling the average up, with the tail extending to the right.\")\n"
   ],
   "id": "97714854a4a172ab",
   "outputs": [
    {
     "data": {
      "text/plain": [
       "<Figure size 1000x600 with 1 Axes>"
      ],
      "image/png": "[encoded data removed]"
     },
     "metadata": {},
     "output_type": "display_data",
     "jetTransient": {
      "display_id": null
     }
    },
    {
     "name": "stdout",
     "output_type": "stream",
     "text": [
      "Mean Price: $1928.76\n",
      "Median Price: $1863.99\n",
      "\n",
      "The distribution is right-skewed because the mean ($1928.76) is greater than the median ($1863.99).\n",
      "This indicates that there are some expensive devices pulling the average up, with the tail extending to the right.\n"
     ]
    }
   ],
   "execution_count": 30
  },
  {
   "metadata": {
    "ExecuteTime": {
     "end_time": "2025-10-10T10:35:09.113156Z",
     "start_time": "2025-10-10T10:35:08.901535Z"
    }
   },
   "cell_type": "code",
   "source": [
    "plt.figure(figsize=(12, 8))\n",
    "sns.histplot(df.to_pandas(), x='price', bins=30, kde=True)\n",
    "plt.title('Distribution of Device Prices')\n",
    "plt.xlabel('Price ($)')\n",
    "plt.ylabel('Frequency')\n",
    "plt.show()\n",
    "\n",
    "price_mean = df.select(pl.col('price').mean()).item()\n",
    "price_median = df.select(pl.col('price').median()).item()\n",
    "\n",
    "print(f\"Mean Price: ${price_mean:.2f}\")\n",
    "print(f\"Median Price: ${price_median:.2f}\")\n",
    "print(\n",
    "    f\"\\nThe distribution is right-skewed because the mean (${price_mean:.2f}) is greater than the median (${price_median:.2f}).\")\n",
    "print(\n",
    "    \"This indicates that there are some expensive devices pulling the average up, with the tail extending to the right.\")"
   ],
   "id": "53016d3be972a291",
   "outputs": [
    {
     "data": {
      "text/plain": [
       "<Figure size 1200x800 with 1 Axes>"
      ],
      "image/png": "[encoded data removed]"
     },
     "metadata": {},
     "output_type": "display_data",
     "jetTransient": {
      "display_id": null
     }
    },
    {
     "name": "stdout",
     "output_type": "stream",
     "text": [
      "Mean Price: $1928.76\n",
      "Median Price: $1863.99\n",
      "\n",
      "The distribution is right-skewed because the mean ($1928.76) is greater than the median ($1863.99).\n",
      "This indicates that there are some expensive devices pulling the average up, with the tail extending to the right.\n"
     ]
    }
   ],
   "execution_count": 41
  },
  {
   "metadata": {
    "ExecuteTime": {
     "end_time": "2025-10-10T10:38:16.514790Z",
     "start_time": "2025-10-10T10:38:16.508762Z"
    }
   },
   "cell_type": "code",
   "source": [
    "top_5_brand = df.select(\n",
    "    pl.col('brand')\n",
    ").group_by(\n",
    "    'brand'\n",
    ").len().sort(\n",
    "    by='len', descending=True\n",
    ").head(5)\n",
    "\n",
    "top_5_brand"
   ],
   "id": "ca8957f6a63d448d",
   "outputs": [
    {
     "data": {
      "text/plain": [
       "shape: (5, 2)\n",
       "┌────────┬───────┐\n",
       "│ brand  ┆ len   │\n",
       "│ ---    ┆ ---   │\n",
       "│ str    ┆ u32   │\n",
       "╞════════╪═══════╡\n",
       "│ Lenovo ┆ 15992 │\n",
       "│ HP     ┆ 14114 │\n",
       "│ Dell   ┆ 14005 │\n",
       "│ Apple  ┆ 11915 │\n",
       "│ ASUS   ┆ 10159 │\n",
       "└────────┴───────┘"
      ],
      "text/html": [
       "<div><style>\n",
       ".dataframe > thead > tr,\n",
       ".dataframe > tbody > tr {\n",
       "  text-align: right;\n",
       "  white-space: pre-wrap;\n",
       "}\n",
       "</style>\n",
       "<small>shape: (5, 2)</small><table border=\"1\" class=\"dataframe\"><thead><tr><th>brand</th><th>len</th></tr><tr><td>str</td><td>u32</td></tr></thead><tbody><tr><td>&quot;Lenovo&quot;</td><td>15992</td></tr><tr><td>&quot;HP&quot;</td><td>14114</td></tr><tr><td>&quot;Dell&quot;</td><td>14005</td></tr><tr><td>&quot;Apple&quot;</td><td>11915</td></tr><tr><td>&quot;ASUS&quot;</td><td>10159</td></tr></tbody></table></div>"
      ]
     },
     "execution_count": 46,
     "metadata": {},
     "output_type": "execute_result"
    }
   ],
   "execution_count": 46
  },
  {
   "metadata": {
    "ExecuteTime": {
     "end_time": "2025-10-10T10:40:38.904688Z",
     "start_time": "2025-10-10T10:40:38.864101Z"
    }
   },
   "cell_type": "code",
   "source": [
    "fig = px.bar(\n",
    "    top_5_brand,\n",
    "    x='brand',\n",
    "    y='len'\n",
    ")\n",
    "\n",
    "fig.update_layout(\n",
    "    title='Top 5 Brands by Number of Devices',\n",
    "    width=800,\n",
    "    height=600\n",
    ")\n",
    "\n",
    "fig"
   ],
   "id": "3667dd8b2ef23334",
   "outputs": [
    {
     "data": {
      "application/vnd.plotly.v1+json": {
       "data": [
        {
         "hovertemplate": "brand=%{x}<br>len=%{y}<extra></extra>",
         "legendgroup": "",
         "marker": {
          "color": "#636efa",
          "pattern": {
           "shape": ""
          }
         },
         "name": "",
         "orientation": "v",
         "showlegend": false,
         "textposition": "auto",
         "x": [
          "Lenovo",
          "HP",
          "Dell",
          "Apple",
          "ASUS"
         ],
         "xaxis": "x",
         "y": {
          "dtype": "u4",
          "bdata": "eD4AACI3AAC1NgAAiy4AAK8nAAA="
         },
         "yaxis": "y",
         "type": "bar"
        }
       ],
       "layout": {
        "template": {
         "data": {
          "histogram2dcontour": [
           {
            "type": "histogram2dcontour",
            "colorbar": {
             "outlinewidth": 0,
             "ticks": ""
            },
            "colorscale": [
             [
              0.0,
              "#0d0887"
             ],
             [
              0.1111111111111111,
              "#46039f"
             ],
             [
              0.2222222222222222,
              "#7201a8"
             ],
             [
              0.3333333333333333,
              "#9c179e"
             ],
             [
              0.4444444444444444,
              "#bd3786"
             ],
             [
              0.5555555555555556,
              "#d8576b"
             ],
             [
              0.6666666666666666,
              "#ed7953"
             ],
             [
              0.7777777777777778,
              "#fb9f3a"
             ],
             [
              0.8888888888888888,
              "#fdca26"
             ],
             [
              1.0,
              "#f0f921"
             ]
            ]
           }
          ],
          "choropleth": [
           {
            "type": "choropleth",
            "colorbar": {
             "outlinewidth": 0,
             "ticks": ""
            }
           }
          ],
          "histogram2d": [
           {
            "type": "histogram2d",
            "colorbar": {
             "outlinewidth": 0,
             "ticks": ""
            },
            "colorscale": [
             [
              0.0,
              "#0d0887"
             ],
             [
              0.1111111111111111,
              "#46039f"
             ],
             [
              0.2222222222222222,
              "#7201a8"
             ],
             [
              0.3333333333333333,
              "#9c179e"
             ],
             [
              0.4444444444444444,
              "#bd3786"
             ],
             [
              0.5555555555555556,
              "#d8576b"
             ],
             [
              0.6666666666666666,
              "#ed7953"
             ],
             [
              0.7777777777777778,
              "#fb9f3a"
             ],
             [
              0.8888888888888888,
              "#fdca26"
             ],
             [
              1.0,
              "#f0f921"
             ]
            ]
           }
          ],
          "heatmap": [
           {
            "type": "heatmap",
            "colorbar": {
             "outlinewidth": 0,
             "ticks": ""
            },
            "colorscale": [
             [
              0.0,
              "#0d0887"
             ],
             [
              0.1111111111111111,
              "#46039f"
             ],
             [
              0.2222222222222222,
              "#7201a8"
             ],
             [
              0.3333333333333333,
              "#9c179e"
             ],
             [
              0.4444444444444444,
              "#bd3786"
             ],
             [
              0.5555555555555556,
              "#d8576b"
             ],
             [
              0.6666666666666666,
              "#ed7953"
             ],
             [
              0.7777777777777778,
              "#fb9f3a"
             ],
             [
              0.8888888888888888,
              "#fdca26"
             ],
             [
              1.0,
              "#f0f921"
             ]
            ]
           }
          ],
          "contourcarpet": [
           {
            "type": "contourcarpet",
            "colorbar": {
             "outlinewidth": 0,
             "ticks": ""
            }
           }
          ],
          "contour": [
           {
            "type": "contour",
            "colorbar": {
             "outlinewidth": 0,
             "ticks": ""
            },
            "colorscale": [
             [
              0.0,
              "#0d0887"
             ],
             [
              0.1111111111111111,
              "#46039f"
             ],
             [
              0.2222222222222222,
              "#7201a8"
             ],
             [
              0.3333333333333333,
              "#9c179e"
             ],
             [
              0.4444444444444444,
              "#bd3786"
             ],
             [
              0.5555555555555556,
              "#d8576b"
             ],
             [
              0.6666666666666666,
              "#ed7953"
             ],
             [
              0.7777777777777778,
              "#fb9f3a"
             ],
             [
              0.8888888888888888,
              "#fdca26"
             ],
             [
              1.0,
              "#f0f921"
             ]
            ]
           }
          ],
          "surface": [
           {
            "type": "surface",
            "colorbar": {
             "outlinewidth": 0,
             "ticks": ""
            },
            "colorscale": [
             [
              0.0,
              "#0d0887"
             ],
             [
              0.1111111111111111,
              "#46039f"
             ],
             [
              0.2222222222222222,
              "#7201a8"
             ],
             [
              0.3333333333333333,
              "#9c179e"
             ],
             [
              0.4444444444444444,
              "#bd3786"
             ],
             [
              0.5555555555555556,
              "#d8576b"
             ],
             [
              0.6666666666666666,
              "#ed7953"
             ],
             [
              0.7777777777777778,
              "#fb9f3a"
             ],
             [
              0.8888888888888888,
              "#fdca26"
             ],
             [
              1.0,
              "#f0f921"
             ]
            ]
           }
          ],
          "mesh3d": [
           {
            "type": "mesh3d",
            "colorbar": {
             "outlinewidth": 0,
             "ticks": ""
            }
           }
          ],
          "scatter": [
           {
            "marker": {
             "line": {
              "color": "#283442"
             }
            },
            "type": "scatter"
           }
          ],
          "parcoords": [
           {
            "type": "parcoords",
            "line": {
             "colorbar": {
              "outlinewidth": 0,
              "ticks": ""
             }
            }
           }
          ],
          "scatterpolargl": [
           {
            "type": "scatterpolargl",
            "marker": {
             "colorbar": {
              "outlinewidth": 0,
              "ticks": ""
             }
            }
           }
          ],
          "bar": [
           {
            "error_x": {
             "color": "#f2f5fa"
            },
            "error_y": {
             "color": "#f2f5fa"
            },
            "marker": {
             "line": {
              "color": "rgb(17,17,17)",
              "width": 0.5
             },
             "pattern": {
              "fillmode": "overlay",
              "size": 10,
              "solidity": 0.2
             }
            },
            "type": "bar"
           }
          ],
          "scattergeo": [
           {
            "type": "scattergeo",
            "marker": {
             "colorbar": {
              "outlinewidth": 0,
              "ticks": ""
             }
            }
           }
          ],
          "scatterpolar": [
           {
            "type": "scatterpolar",
            "marker": {
             "colorbar": {
              "outlinewidth": 0,
              "ticks": ""
             }
            }
           }
          ],
          "histogram": [
           {
            "marker": {
             "pattern": {
              "fillmode": "overlay",
              "size": 10,
              "solidity": 0.2
             }
            },
            "type": "histogram"
           }
          ],
          "scattergl": [
           {
            "marker": {
             "line": {
              "color": "#283442"
             }
            },
            "type": "scattergl"
           }
          ],
          "scatter3d": [
           {
            "type": "scatter3d",
            "line": {
             "colorbar": {
              "outlinewidth": 0,
              "ticks": ""
             }
            },
            "marker": {
             "colorbar": {
              "outlinewidth": 0,
              "ticks": ""
             }
            }
           }
          ],
          "scattermap": [
           {
            "type": "scattermap",
            "marker": {
             "colorbar": {
              "outlinewidth": 0,
              "ticks": ""
             }
            }
           }
          ],
          "scattermapbox": [
           {
            "type": "scattermapbox",
            "marker": {
             "colorbar": {
              "outlinewidth": 0,
              "ticks": ""
             }
            }
           }
          ],
          "scatterternary": [
           {
            "type": "scatterternary",
            "marker": {
             "colorbar": {
              "outlinewidth": 0,
              "ticks": ""
             }
            }
           }
          ],
          "scattercarpet": [
           {
            "type": "scattercarpet",
            "marker": {
             "colorbar": {
              "outlinewidth": 0,
              "ticks": ""
             }
            }
           }
          ],
          "carpet": [
           {
            "aaxis": {
             "endlinecolor": "#A2B1C6",
             "gridcolor": "#506784",
             "linecolor": "#506784",
             "minorgridcolor": "#506784",
             "startlinecolor": "#A2B1C6"
            },
            "baxis": {
             "endlinecolor": "#A2B1C6",
             "gridcolor": "#506784",
             "linecolor": "#506784",
             "minorgridcolor": "#506784",
             "startlinecolor": "#A2B1C6"
            },
            "type": "carpet"
           }
          ],
          "table": [
           {
            "cells": {
             "fill": {
              "color": "#506784"
             },
             "line": {
              "color": "rgb(17,17,17)"
             }
            },
            "header": {
             "fill": {
              "color": "#2a3f5f"
             },
             "line": {
              "color": "rgb(17,17,17)"
             }
            },
            "type": "table"
           }
          ],
          "barpolar": [
           {
            "marker": {
             "line": {
              "color": "rgb(17,17,17)",
              "width": 0.5
             },
             "pattern": {
              "fillmode": "overlay",
              "size": 10,
              "solidity": 0.2
             }
            },
            "type": "barpolar"
           }
          ],
          "pie": [
           {
            "automargin": true,
            "type": "pie"
           }
          ]
         },
         "layout": {
          "autotypenumbers": "strict",
          "colorway": [
           "#636efa",
           "#EF553B",
           "#00cc96",
           "#ab63fa",
           "#FFA15A",
           "#19d3f3",
           "#FF6692",
           "#B6E880",
           "#FF97FF",
           "#FECB52"
          ],
          "font": {
           "color": "#f2f5fa"
          },
          "hovermode": "closest",
          "hoverlabel": {
           "align": "left"
          },
          "paper_bgcolor": "rgb(17,17,17)",
          "plot_bgcolor": "rgb(17,17,17)",
          "polar": {
           "bgcolor": "rgb(17,17,17)",
           "angularaxis": {
            "gridcolor": "#506784",
            "linecolor": "#506784",
            "ticks": ""
           },
           "radialaxis": {
            "gridcolor": "#506784",
            "linecolor": "#506784",
            "ticks": ""
           }
          },
          "ternary": {
           "bgcolor": "rgb(17,17,17)",
           "aaxis": {
            "gridcolor": "#506784",
            "linecolor": "#506784",
            "ticks": ""
           },
           "baxis": {
            "gridcolor": "#506784",
            "linecolor": "#506784",
            "ticks": ""
           },
           "caxis": {
            "gridcolor": "#506784",
            "linecolor": "#506784",
            "ticks": ""
           }
          },
          "coloraxis": {
           "colorbar": {
            "outlinewidth": 0,
            "ticks": ""
           }
          },
          "colorscale": {
           "sequential": [
            [
             0.0,
             "#0d0887"
            ],
            [
             0.1111111111111111,
             "#46039f"
            ],
            [
             0.2222222222222222,
             "#7201a8"
            ],
            [
             0.3333333333333333,
             "#9c179e"
            ],
            [
             0.4444444444444444,
             "#bd3786"
            ],
            [
             0.5555555555555556,
             "#d8576b"
            ],
            [
             0.6666666666666666,
             "#ed7953"
            ],
            [
             0.7777777777777778,
             "#fb9f3a"
            ],
            [
             0.8888888888888888,
             "#fdca26"
            ],
            [
             1.0,
             "#f0f921"
            ]
           ],
           "sequentialminus": [
            [
             0.0,
             "#0d0887"
            ],
            [
             0.1111111111111111,
             "#46039f"
            ],
            [
             0.2222222222222222,
             "#7201a8"
            ],
            [
             0.3333333333333333,
             "#9c179e"
            ],
            [
             0.4444444444444444,
             "#bd3786"
            ],
            [
             0.5555555555555556,
             "#d8576b"
            ],
            [
             0.6666666666666666,
             "#ed7953"
            ],
            [
             0.7777777777777778,
             "#fb9f3a"
            ],
            [
             0.8888888888888888,
             "#fdca26"
            ],
            [
             1.0,
             "#f0f921"
            ]
           ],
           "diverging": [
            [
             0,
             "#8e0152"
            ],
            [
             0.1,
             "#c51b7d"
            ],
            [
             0.2,
             "#de77ae"
            ],
            [
             0.3,
             "#f1b6da"
            ],
            [
             0.4,
             "#fde0ef"
            ],
            [
             0.5,
             "#f7f7f7"
            ],
            [
             0.6,
             "#e6f5d0"
            ],
            [
             0.7,
             "#b8e186"
            ],
            [
             0.8,
             "#7fbc41"
            ],
            [
             0.9,
             "#4d9221"
            ],
            [
             1,
             "#276419"
            ]
           ]
          },
          "xaxis": {
           "gridcolor": "#283442",
           "linecolor": "#506784",
           "ticks": "",
           "title": {
            "standoff": 15
           },
           "zerolinecolor": "#283442",
           "automargin": true,
           "zerolinewidth": 2
          },
          "yaxis": {
           "gridcolor": "#283442",
           "linecolor": "#506784",
           "ticks": "",
           "title": {
            "standoff": 15
           },
           "zerolinecolor": "#283442",
           "automargin": true,
           "zerolinewidth": 2
          },
          "scene": {
           "xaxis": {
            "backgroundcolor": "rgb(17,17,17)",
            "gridcolor": "#506784",
            "linecolor": "#506784",
            "showbackground": true,
            "ticks": "",
            "zerolinecolor": "#C8D4E3",
            "gridwidth": 2
           },
           "yaxis": {
            "backgroundcolor": "rgb(17,17,17)",
            "gridcolor": "#506784",
            "linecolor": "#506784",
            "showbackground": true,
            "ticks": "",
            "zerolinecolor": "#C8D4E3",
            "gridwidth": 2
           },
           "zaxis": {
            "backgroundcolor": "rgb(17,17,17)",
            "gridcolor": "#506784",
            "linecolor": "#506784",
            "showbackground": true,
            "ticks": "",
            "zerolinecolor": "#C8D4E3",
            "gridwidth": 2
           }
          },
          "shapedefaults": {
           "line": {
            "color": "#f2f5fa"
           }
          },
          "annotationdefaults": {
           "arrowcolor": "#f2f5fa",
           "arrowhead": 0,
           "arrowwidth": 1
          },
          "geo": {
           "bgcolor": "rgb(17,17,17)",
           "landcolor": "rgb(17,17,17)",
           "subunitcolor": "#506784",
           "showland": true,
           "showlakes": true,
           "lakecolor": "rgb(17,17,17)"
          },
          "title": {
           "x": 0.05
          },
          "updatemenudefaults": {
           "bgcolor": "#506784",
           "borderwidth": 0
          },
          "sliderdefaults": {
           "bgcolor": "#C8D4E3",
           "borderwidth": 1,
           "bordercolor": "rgb(17,17,17)",
           "tickwidth": 0
          },
          "mapbox": {
           "style": "dark"
          }
         }
        },
        "xaxis": {
         "anchor": "y",
         "domain": [
          0.0,
          1.0
         ],
         "title": {
          "text": "brand"
         }
        },
        "yaxis": {
         "anchor": "x",
         "domain": [
          0.0,
          1.0
         ],
         "title": {
          "text": "len"
         }
        },
        "legend": {
         "tracegroupgap": 0
        },
        "margin": {
         "t": 60
        },
        "barmode": "relative",
        "title": {
         "text": "Top 5 Brands by Number of Devices"
        },
        "width": 800,
        "height": 600
       },
       "config": {
        "plotlyServerURL": "https://plot.ly"
       }
      }
     },
     "metadata": {},
     "output_type": "display_data",
     "jetTransient": {
      "display_id": null
     }
    }
   ],
   "execution_count": 49
  },
  {
   "metadata": {
    "ExecuteTime": {
     "end_time": "2025-10-10T10:49:00.038639Z",
     "start_time": "2025-10-10T10:49:00.032751Z"
    }
   },
   "cell_type": "code",
   "source": [
    "os_counting = df.select(\n",
    "    pl.col('os')\n",
    ").group_by(\n",
    "    'os'\n",
    ").len().sort(\n",
    "    by='len', descending=True\n",
    ")\n",
    "\n",
    "os_counting"
   ],
   "id": "61e0b1210b40da57",
   "outputs": [
    {
     "data": {
      "text/plain": [
       "shape: (4, 2)\n",
       "┌──────────┬───────┐\n",
       "│ os       ┆ len   │\n",
       "│ ---      ┆ ---   │\n",
       "│ str      ┆ u32   │\n",
       "╞══════════╪═══════╡\n",
       "│ Windows  ┆ 71817 │\n",
       "│ macOS    ┆ 18207 │\n",
       "│ Linux    ┆ 6109  │\n",
       "│ ChromeOS ┆ 3867  │\n",
       "└──────────┴───────┘"
      ],
      "text/html": [
       "<div><style>\n",
       ".dataframe > thead > tr,\n",
       ".dataframe > tbody > tr {\n",
       "  text-align: right;\n",
       "  white-space: pre-wrap;\n",
       "}\n",
       "</style>\n",
       "<small>shape: (4, 2)</small><table border=\"1\" class=\"dataframe\"><thead><tr><th>os</th><th>len</th></tr><tr><td>str</td><td>u32</td></tr></thead><tbody><tr><td>&quot;Windows&quot;</td><td>71817</td></tr><tr><td>&quot;macOS&quot;</td><td>18207</td></tr><tr><td>&quot;Linux&quot;</td><td>6109</td></tr><tr><td>&quot;ChromeOS&quot;</td><td>3867</td></tr></tbody></table></div>"
      ]
     },
     "execution_count": 54,
     "metadata": {},
     "output_type": "execute_result"
    }
   ],
   "execution_count": 54
  },
  {
   "metadata": {},
   "cell_type": "code",
   "outputs": [],
   "execution_count": null,
   "source": "",
   "id": "4ae6e1ca83e6153c"
  }
 ],
 "metadata": {
  "kernelspec": {
   "display_name": "Python 3",
   "language": "python",
   "name": "python3"
  },
  "language_info": {
   "codemirror_mode": {
    "name": "ipython",
    "version": 2
   },
   "file_extension": ".py",
   "mimetype": "text/x-python",
   "name": "python",
   "nbconvert_exporter": "python",
   "pygments_lexer": "ipython2",
   "version": "2.7.6"
  }
 },
 "nbformat": 4,
 "nbformat_minor": 5
}
