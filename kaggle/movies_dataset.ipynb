{
 "cells": [
  {
   "cell_type": "code",
   "id": "initial_id",
   "metadata": {
    "collapsed": true,
    "ExecuteTime": {
     "end_time": "2024-12-31T21:30:32.054247Z",
     "start_time": "2024-12-31T21:30:31.250687Z"
    }
   },
   "source": [
    "import numpy as np\n",
    "import polars as pl\n",
    "import polars.selectors as cs\n",
    "import matplotlib.pyplot as plt\n",
    "import seaborn as sns\n",
    "import plotly.express as px\n",
    "import plotly.graph_objects as go\n",
    "import great_tables as tg\n",
    "import altair as alt\n",
    "import datetime as dt"
   ],
   "outputs": [],
   "execution_count": 1
  },
  {
   "metadata": {
    "ExecuteTime": {
     "end_time": "2024-12-31T21:30:32.061101Z",
     "start_time": "2024-12-31T21:30:32.057944Z"
    }
   },
   "cell_type": "code",
   "source": [
    "film_details_path = r\"F:\\Datasets\\movies_dataset\\FilmDetails.csv\"\n",
    "more_info_path = r\"F:\\Datasets\\movies_dataset\\MoreInfo.csv\"\n",
    "movies_path = r\"F:\\Datasets\\movies_dataset\\Movies.csv\"\n",
    "poster_path = r\"F:\\Datasets\\movies_dataset\\PosterPath.csv\""
   ],
   "id": "ed97d4fb64e8ae29",
   "outputs": [],
   "execution_count": 2
  },
  {
   "metadata": {
    "ExecuteTime": {
     "end_time": "2024-12-31T21:30:32.209458Z",
     "start_time": "2024-12-31T21:30:32.126860Z"
    }
   },
   "cell_type": "code",
   "source": [
    "film_details = pl.read_csv(film_details_path)\n",
    "more_info = pl.read_csv(more_info_path)\n",
    "movies = pl.read_csv(movies_path)\n",
    "poster = pl.read_csv(poster_path)"
   ],
   "id": "643cda0e2cef4ee5",
   "outputs": [],
   "execution_count": 3
  },
  {
   "metadata": {
    "ExecuteTime": {
     "end_time": "2024-12-31T21:30:32.223967Z",
     "start_time": "2024-12-31T21:30:32.217896Z"
    }
   },
   "cell_type": "code",
   "source": "more_info",
   "id": "487df51bf2ab728",
   "outputs": [
    {
     "data": {
      "text/plain": [
       "shape: (9_718, 5)\n",
       "┌──────┬───────────┬─────────────┬──────────────┬─────────┐\n",
       "│ id   ┆ runtime   ┆ budget      ┆ revenue      ┆ film_id │\n",
       "│ ---  ┆ ---       ┆ ---         ┆ ---          ┆ ---     │\n",
       "│ i64  ┆ str       ┆ str         ┆ str          ┆ i64     │\n",
       "╞══════╪═══════════╪═════════════╪══════════════╪═════════╡\n",
       "│ 1    ┆ 2h 22 min ┆ $25,000,000 ┆ $28,341,469  ┆ 1       │\n",
       "│ 2    ┆ 2h 55 min ┆ $6,000,000  ┆ $245,066,411 ┆ 2       │\n",
       "│ 3    ┆ 3h 22 min ┆ $13,000,000 ┆ $102,600,000 ┆ 3       │\n",
       "│ 4    ┆ 3h 15 min ┆ $22,000,000 ┆ $321,365,567 ┆ 4       │\n",
       "│ 5    ┆ 1h 37 min ┆ $397,751    ┆ $4,360,000   ┆ 5       │\n",
       "│ …    ┆ …         ┆ …           ┆ …            ┆ …       │\n",
       "│ 9714 ┆ 1h 38 min ┆ $20,000,000 ┆ $12,693,645  ┆ 9714    │\n",
       "│ 9715 ┆ 1h 27 min ┆ $25,000,000 ┆ $34,816,824  ┆ 9715    │\n",
       "│ 9716 ┆ 1h 30 min ┆ $12,000,000 ┆ $13,818,181  ┆ 9716    │\n",
       "│ 9717 ┆ 1h 25 min ┆ $30,000,000 ┆ $58,228,460  ┆ 9717    │\n",
       "│ 9718 ┆ 1h 33 min ┆ $10,000     ┆ null         ┆ 9718    │\n",
       "└──────┴───────────┴─────────────┴──────────────┴─────────┘"
      ],
      "text/html": [
       "<div><style>\n",
       ".dataframe > thead > tr,\n",
       ".dataframe > tbody > tr {\n",
       "  text-align: right;\n",
       "  white-space: pre-wrap;\n",
       "}\n",
       "</style>\n",
       "<small>shape: (9_718, 5)</small><table border=\"1\" class=\"dataframe\"><thead><tr><th>id</th><th>runtime</th><th>budget</th><th>revenue</th><th>film_id</th></tr><tr><td>i64</td><td>str</td><td>str</td><td>str</td><td>i64</td></tr></thead><tbody><tr><td>1</td><td>&quot;2h 22 min&quot;</td><td>&quot;$25,000,000&quot;</td><td>&quot;$28,341,469&quot;</td><td>1</td></tr><tr><td>2</td><td>&quot;2h 55 min&quot;</td><td>&quot;$6,000,000&quot;</td><td>&quot;$245,066,411&quot;</td><td>2</td></tr><tr><td>3</td><td>&quot;3h 22 min&quot;</td><td>&quot;$13,000,000&quot;</td><td>&quot;$102,600,000&quot;</td><td>3</td></tr><tr><td>4</td><td>&quot;3h 15 min&quot;</td><td>&quot;$22,000,000&quot;</td><td>&quot;$321,365,567&quot;</td><td>4</td></tr><tr><td>5</td><td>&quot;1h 37 min&quot;</td><td>&quot;$397,751&quot;</td><td>&quot;$4,360,000&quot;</td><td>5</td></tr><tr><td>&hellip;</td><td>&hellip;</td><td>&hellip;</td><td>&hellip;</td><td>&hellip;</td></tr><tr><td>9714</td><td>&quot;1h 38 min&quot;</td><td>&quot;$20,000,000&quot;</td><td>&quot;$12,693,645&quot;</td><td>9714</td></tr><tr><td>9715</td><td>&quot;1h 27 min&quot;</td><td>&quot;$25,000,000&quot;</td><td>&quot;$34,816,824&quot;</td><td>9715</td></tr><tr><td>9716</td><td>&quot;1h 30 min&quot;</td><td>&quot;$12,000,000&quot;</td><td>&quot;$13,818,181&quot;</td><td>9716</td></tr><tr><td>9717</td><td>&quot;1h 25 min&quot;</td><td>&quot;$30,000,000&quot;</td><td>&quot;$58,228,460&quot;</td><td>9717</td></tr><tr><td>9718</td><td>&quot;1h 33 min&quot;</td><td>&quot;$10,000&quot;</td><td>null</td><td>9718</td></tr></tbody></table></div>"
      ]
     },
     "execution_count": 4,
     "metadata": {},
     "output_type": "execute_result"
    }
   ],
   "execution_count": 4
  },
  {
   "metadata": {
    "ExecuteTime": {
     "end_time": "2024-12-31T21:30:32.257621Z",
     "start_time": "2024-12-31T21:30:32.252783Z"
    }
   },
   "cell_type": "code",
   "source": "movies",
   "id": "bf7eb95f4df1d640",
   "outputs": [
    {
     "data": {
      "text/plain": [
       "shape: (9_718, 9)\n",
       "┌──────┬────────────┬────────────┬──────────┬───┬────────────┬────────────┬────────────┬───────────┐\n",
       "│ id   ┆ title      ┆ genres     ┆ language ┆ … ┆ runtime_ho ┆ runtime_mi ┆ release_da ┆ vote_coun │\n",
       "│ ---  ┆ ---        ┆ ---        ┆ ---      ┆   ┆ ur         ┆ n          ┆ te         ┆ t         │\n",
       "│ i64  ┆ str        ┆ str        ┆ str      ┆   ┆ ---        ┆ ---        ┆ ---        ┆ ---       │\n",
       "│      ┆            ┆            ┆          ┆   ┆ i64        ┆ i64        ┆ str        ┆ i64       │\n",
       "╞══════╪════════════╪════════════╪══════════╪═══╪════════════╪════════════╪════════════╪═══════════╡\n",
       "│ 1    ┆ The        ┆ Drama,     ┆ en       ┆ … ┆ 2          ┆ 22         ┆ 1994-09-23 ┆ 27070     │\n",
       "│      ┆ Shawshank  ┆ Crime      ┆          ┆   ┆            ┆            ┆            ┆           │\n",
       "│      ┆ Redemption ┆            ┆          ┆   ┆            ┆            ┆            ┆           │\n",
       "│ 2    ┆ The        ┆ Drama,     ┆ en       ┆ … ┆ 2          ┆ 55         ┆ 1972-03-14 ┆ 20563     │\n",
       "│      ┆ Godfather  ┆ Crime      ┆          ┆   ┆            ┆            ┆            ┆           │\n",
       "│ 3    ┆ The        ┆ Drama,     ┆ en       ┆ … ┆ 3          ┆ 22         ┆ 1974-12-20 ┆ 12403     │\n",
       "│      ┆ Godfather  ┆ Crime      ┆          ┆   ┆            ┆            ┆            ┆           │\n",
       "│      ┆ Part II    ┆            ┆          ┆   ┆            ┆            ┆            ┆           │\n",
       "│ 4    ┆ Schindler' ┆ Drama,     ┆ en       ┆ … ┆ 3          ┆ 15         ┆ 1993-12-15 ┆ 15810     │\n",
       "│      ┆ s List     ┆ History,   ┆          ┆   ┆            ┆            ┆            ┆           │\n",
       "│      ┆            ┆ War        ┆          ┆   ┆            ┆            ┆            ┆           │\n",
       "│ 5    ┆ 12 Angry   ┆ Drama      ┆ en       ┆ … ┆ 1          ┆ 37         ┆ 1957-04-10 ┆ 8611      │\n",
       "│      ┆ Men        ┆            ┆          ┆   ┆            ┆            ┆            ┆           │\n",
       "│ …    ┆ …          ┆ …          ┆ …        ┆ … ┆ …          ┆ …          ┆ …          ┆ …         │\n",
       "│ 9714 ┆ Alone in   ┆ Action,    ┆ en       ┆ … ┆ 1          ┆ 38         ┆ 2005-01-28 ┆ 602       │\n",
       "│      ┆ the Dark   ┆ Fantasy,   ┆          ┆   ┆            ┆            ┆            ┆           │\n",
       "│      ┆            ┆ Horror     ┆          ┆   ┆            ┆            ┆            ┆           │\n",
       "│ 9715 ┆ Disaster   ┆ Comedy     ┆ en       ┆ … ┆ 1          ┆ 27         ┆ 2008-08-29 ┆ 1021      │\n",
       "│      ┆ Movie      ┆            ┆          ┆   ┆            ┆            ┆            ┆           │\n",
       "│ 9716 ┆ House of   ┆ Horror,    ┆ en       ┆ … ┆ 1          ┆ 30         ┆ 2003-04-11 ┆ 384       │\n",
       "│      ┆ the Dead   ┆ Action,    ┆          ┆   ┆            ┆            ┆            ┆           │\n",
       "│      ┆            ┆ Thriller   ┆          ┆   ┆            ┆            ┆            ┆           │\n",
       "│ 9717 ┆ Dragonball ┆ Action,    ┆ en       ┆ … ┆ 1          ┆ 25         ┆ 2009-03-12 ┆ 2028      │\n",
       "│      ┆ Evolution  ┆ Adventure, ┆          ┆   ┆            ┆            ┆            ┆           │\n",
       "│      ┆            ┆ Fantasy,   ┆          ┆   ┆            ┆            ┆            ┆           │\n",
       "│      ┆            ┆ Sc…        ┆          ┆   ┆            ┆            ┆            ┆           │\n",
       "│ 9718 ┆ Birdemic:  ┆ Romance,   ┆ en       ┆ … ┆ 1          ┆ 33         ┆ 2010-02-27 ┆ 334       │\n",
       "│      ┆ Shock and  ┆ Horror,    ┆          ┆   ┆            ┆            ┆            ┆           │\n",
       "│      ┆ Terror     ┆ Thriller   ┆          ┆   ┆            ┆            ┆            ┆           │\n",
       "└──────┴────────────┴────────────┴──────────┴───┴────────────┴────────────┴────────────┴───────────┘"
      ],
      "text/html": [
       "<div><style>\n",
       ".dataframe > thead > tr,\n",
       ".dataframe > tbody > tr {\n",
       "  text-align: right;\n",
       "  white-space: pre-wrap;\n",
       "}\n",
       "</style>\n",
       "<small>shape: (9_718, 9)</small><table border=\"1\" class=\"dataframe\"><thead><tr><th>id</th><th>title</th><th>genres</th><th>language</th><th>user_score</th><th>runtime_hour</th><th>runtime_min</th><th>release_date</th><th>vote_count</th></tr><tr><td>i64</td><td>str</td><td>str</td><td>str</td><td>f64</td><td>i64</td><td>i64</td><td>str</td><td>i64</td></tr></thead><tbody><tr><td>1</td><td>&quot;The Shawshank Redemption&quot;</td><td>&quot;Drama, Crime&quot;</td><td>&quot;en&quot;</td><td>8.7</td><td>2</td><td>22</td><td>&quot;1994-09-23&quot;</td><td>27070</td></tr><tr><td>2</td><td>&quot;The Godfather&quot;</td><td>&quot;Drama, Crime&quot;</td><td>&quot;en&quot;</td><td>8.7</td><td>2</td><td>55</td><td>&quot;1972-03-14&quot;</td><td>20563</td></tr><tr><td>3</td><td>&quot;The Godfather Part II&quot;</td><td>&quot;Drama, Crime&quot;</td><td>&quot;en&quot;</td><td>8.6</td><td>3</td><td>22</td><td>&quot;1974-12-20&quot;</td><td>12403</td></tr><tr><td>4</td><td>&quot;Schindler&#x27;s List&quot;</td><td>&quot;Drama, History, War&quot;</td><td>&quot;en&quot;</td><td>8.6</td><td>3</td><td>15</td><td>&quot;1993-12-15&quot;</td><td>15810</td></tr><tr><td>5</td><td>&quot;12 Angry Men&quot;</td><td>&quot;Drama&quot;</td><td>&quot;en&quot;</td><td>8.5</td><td>1</td><td>37</td><td>&quot;1957-04-10&quot;</td><td>8611</td></tr><tr><td>&hellip;</td><td>&hellip;</td><td>&hellip;</td><td>&hellip;</td><td>&hellip;</td><td>&hellip;</td><td>&hellip;</td><td>&hellip;</td><td>&hellip;</td></tr><tr><td>9714</td><td>&quot;Alone in the Dark&quot;</td><td>&quot;Action, Fantasy, Horror&quot;</td><td>&quot;en&quot;</td><td>3.3</td><td>1</td><td>38</td><td>&quot;2005-01-28&quot;</td><td>602</td></tr><tr><td>9715</td><td>&quot;Disaster Movie&quot;</td><td>&quot;Comedy&quot;</td><td>&quot;en&quot;</td><td>3.2</td><td>1</td><td>27</td><td>&quot;2008-08-29&quot;</td><td>1021</td></tr><tr><td>9716</td><td>&quot;House of the Dead&quot;</td><td>&quot;Horror, Action, Thriller&quot;</td><td>&quot;en&quot;</td><td>3.1</td><td>1</td><td>30</td><td>&quot;2003-04-11&quot;</td><td>384</td></tr><tr><td>9717</td><td>&quot;Dragonball Evolution&quot;</td><td>&quot;Action, Adventure, Fantasy, Sc…</td><td>&quot;en&quot;</td><td>2.9</td><td>1</td><td>25</td><td>&quot;2009-03-12&quot;</td><td>2028</td></tr><tr><td>9718</td><td>&quot;Birdemic: Shock and Terror&quot;</td><td>&quot;Romance, Horror, Thriller&quot;</td><td>&quot;en&quot;</td><td>2.2</td><td>1</td><td>33</td><td>&quot;2010-02-27&quot;</td><td>334</td></tr></tbody></table></div>"
      ]
     },
     "execution_count": 5,
     "metadata": {},
     "output_type": "execute_result"
    }
   ],
   "execution_count": 5
  },
  {
   "metadata": {
    "ExecuteTime": {
     "end_time": "2024-12-31T21:30:32.313680Z",
     "start_time": "2024-12-31T21:30:32.309872Z"
    }
   },
   "cell_type": "code",
   "source": "film_details",
   "id": "297b59c6acaffbee",
   "outputs": [
    {
     "data": {
      "text/plain": [
       "shape: (9_718, 5)\n",
       "┌──────┬──────────────────────┬─────────────────────────────────┬────────────┬─────────────┐\n",
       "│ id   ┆ director             ┆ top_billed                      ┆ budget_usd ┆ revenue_usd │\n",
       "│ ---  ┆ ---                  ┆ ---                             ┆ ---        ┆ ---         │\n",
       "│ i64  ┆ str                  ┆ str                             ┆ i64        ┆ i64         │\n",
       "╞══════╪══════════════════════╪═════════════════════════════════╪════════════╪═════════════╡\n",
       "│ 1    ┆ Frank Darabont       ┆ Tim Robbins, Morgan Freeman, B… ┆ 25000000   ┆ 28341469    │\n",
       "│ 2    ┆ Francis Ford Coppola ┆ Marlon Brando, Al Pacino, Jame… ┆ 6000000    ┆ 245066411   │\n",
       "│ 3    ┆ Francis Ford Coppola ┆ Al Pacino, Robert Duvall, Dian… ┆ 13000000   ┆ 102600000   │\n",
       "│ 4    ┆ Steven Spielberg     ┆ Liam Neeson, Ben Kingsley, Ral… ┆ 22000000   ┆ 321365567   │\n",
       "│ 5    ┆ Sidney Lumet         ┆ Martin Balsam, John Fiedler, L… ┆ 397751     ┆ 4360000     │\n",
       "│ …    ┆ …                    ┆ …                               ┆ …          ┆ …           │\n",
       "│ 9714 ┆ Uwe Boll             ┆ Christian Slater, Tara Reid, S… ┆ 20000000   ┆ 12693645    │\n",
       "│ 9715 ┆ Aaron Seltzer        ┆ Matt Lanter, Vanessa Lachey, G… ┆ 25000000   ┆ 34816824    │\n",
       "│ 9716 ┆ Uwe Boll             ┆ Jonathan Cherry, Tyron Leitso,… ┆ 12000000   ┆ 13818181    │\n",
       "│ 9717 ┆ James Wong           ┆ Justin Chatwin, Chow Yun-fat, … ┆ 30000000   ┆ 58228460    │\n",
       "│ 9718 ┆ James Nguyen         ┆ Alan Bagh, Whitney Moore, Jana… ┆ 10000      ┆ null        │\n",
       "└──────┴──────────────────────┴─────────────────────────────────┴────────────┴─────────────┘"
      ],
      "text/html": [
       "<div><style>\n",
       ".dataframe > thead > tr,\n",
       ".dataframe > tbody > tr {\n",
       "  text-align: right;\n",
       "  white-space: pre-wrap;\n",
       "}\n",
       "</style>\n",
       "<small>shape: (9_718, 5)</small><table border=\"1\" class=\"dataframe\"><thead><tr><th>id</th><th>director</th><th>top_billed</th><th>budget_usd</th><th>revenue_usd</th></tr><tr><td>i64</td><td>str</td><td>str</td><td>i64</td><td>i64</td></tr></thead><tbody><tr><td>1</td><td>&quot;Frank Darabont&quot;</td><td>&quot;Tim Robbins, Morgan Freeman, B…</td><td>25000000</td><td>28341469</td></tr><tr><td>2</td><td>&quot;Francis Ford Coppola&quot;</td><td>&quot;Marlon Brando, Al Pacino, Jame…</td><td>6000000</td><td>245066411</td></tr><tr><td>3</td><td>&quot;Francis Ford Coppola&quot;</td><td>&quot;Al Pacino, Robert Duvall, Dian…</td><td>13000000</td><td>102600000</td></tr><tr><td>4</td><td>&quot;Steven Spielberg&quot;</td><td>&quot;Liam Neeson, Ben Kingsley, Ral…</td><td>22000000</td><td>321365567</td></tr><tr><td>5</td><td>&quot;Sidney Lumet&quot;</td><td>&quot;Martin Balsam, John Fiedler, L…</td><td>397751</td><td>4360000</td></tr><tr><td>&hellip;</td><td>&hellip;</td><td>&hellip;</td><td>&hellip;</td><td>&hellip;</td></tr><tr><td>9714</td><td>&quot;Uwe Boll&quot;</td><td>&quot;Christian Slater, Tara Reid, S…</td><td>20000000</td><td>12693645</td></tr><tr><td>9715</td><td>&quot;Aaron Seltzer&quot;</td><td>&quot;Matt Lanter, Vanessa Lachey, G…</td><td>25000000</td><td>34816824</td></tr><tr><td>9716</td><td>&quot;Uwe Boll&quot;</td><td>&quot;Jonathan Cherry, Tyron Leitso,…</td><td>12000000</td><td>13818181</td></tr><tr><td>9717</td><td>&quot;James Wong&quot;</td><td>&quot;Justin Chatwin, Chow Yun-fat, …</td><td>30000000</td><td>58228460</td></tr><tr><td>9718</td><td>&quot;James Nguyen&quot;</td><td>&quot;Alan Bagh, Whitney Moore, Jana…</td><td>10000</td><td>null</td></tr></tbody></table></div>"
      ]
     },
     "execution_count": 6,
     "metadata": {},
     "output_type": "execute_result"
    }
   ],
   "execution_count": 6
  },
  {
   "metadata": {
    "ExecuteTime": {
     "end_time": "2024-12-31T21:30:32.437353Z",
     "start_time": "2024-12-31T21:30:32.433431Z"
    }
   },
   "cell_type": "code",
   "source": "poster",
   "id": "87fc89192a83b595",
   "outputs": [
    {
     "data": {
      "text/plain": [
       "shape: (9_718, 3)\n",
       "┌──────┬─────────────────────────────────┬─────────────────────────────────┐\n",
       "│ id   ┆ poster_path                     ┆ backdrop_path                   │\n",
       "│ ---  ┆ ---                             ┆ ---                             │\n",
       "│ i64  ┆ str                             ┆ str                             │\n",
       "╞══════╪═════════════════════════════════╪═════════════════════════════════╡\n",
       "│ 1    ┆ https://image.tmdb.org/t/p/w50… ┆ https://image.tmdb.org/t/p/w50… │\n",
       "│ 2    ┆ https://image.tmdb.org/t/p/w50… ┆ https://image.tmdb.org/t/p/w50… │\n",
       "│ 3    ┆ https://image.tmdb.org/t/p/w50… ┆ https://image.tmdb.org/t/p/w50… │\n",
       "│ 4    ┆ https://image.tmdb.org/t/p/w50… ┆ https://image.tmdb.org/t/p/w50… │\n",
       "│ 5    ┆ https://image.tmdb.org/t/p/w50… ┆ https://image.tmdb.org/t/p/w50… │\n",
       "│ …    ┆ …                               ┆ …                               │\n",
       "│ 9714 ┆ https://image.tmdb.org/t/p/w50… ┆ https://image.tmdb.org/t/p/w50… │\n",
       "│ 9715 ┆ https://image.tmdb.org/t/p/w50… ┆ https://image.tmdb.org/t/p/w50… │\n",
       "│ 9716 ┆ https://image.tmdb.org/t/p/w50… ┆ https://image.tmdb.org/t/p/w50… │\n",
       "│ 9717 ┆ https://image.tmdb.org/t/p/w50… ┆ https://image.tmdb.org/t/p/w50… │\n",
       "│ 9718 ┆ https://image.tmdb.org/t/p/w50… ┆ https://image.tmdb.org/t/p/w50… │\n",
       "└──────┴─────────────────────────────────┴─────────────────────────────────┘"
      ],
      "text/html": [
       "<div><style>\n",
       ".dataframe > thead > tr,\n",
       ".dataframe > tbody > tr {\n",
       "  text-align: right;\n",
       "  white-space: pre-wrap;\n",
       "}\n",
       "</style>\n",
       "<small>shape: (9_718, 3)</small><table border=\"1\" class=\"dataframe\"><thead><tr><th>id</th><th>poster_path</th><th>backdrop_path</th></tr><tr><td>i64</td><td>str</td><td>str</td></tr></thead><tbody><tr><td>1</td><td>&quot;https://image.tmdb.org/t/p/w50…</td><td>&quot;https://image.tmdb.org/t/p/w50…</td></tr><tr><td>2</td><td>&quot;https://image.tmdb.org/t/p/w50…</td><td>&quot;https://image.tmdb.org/t/p/w50…</td></tr><tr><td>3</td><td>&quot;https://image.tmdb.org/t/p/w50…</td><td>&quot;https://image.tmdb.org/t/p/w50…</td></tr><tr><td>4</td><td>&quot;https://image.tmdb.org/t/p/w50…</td><td>&quot;https://image.tmdb.org/t/p/w50…</td></tr><tr><td>5</td><td>&quot;https://image.tmdb.org/t/p/w50…</td><td>&quot;https://image.tmdb.org/t/p/w50…</td></tr><tr><td>&hellip;</td><td>&hellip;</td><td>&hellip;</td></tr><tr><td>9714</td><td>&quot;https://image.tmdb.org/t/p/w50…</td><td>&quot;https://image.tmdb.org/t/p/w50…</td></tr><tr><td>9715</td><td>&quot;https://image.tmdb.org/t/p/w50…</td><td>&quot;https://image.tmdb.org/t/p/w50…</td></tr><tr><td>9716</td><td>&quot;https://image.tmdb.org/t/p/w50…</td><td>&quot;https://image.tmdb.org/t/p/w50…</td></tr><tr><td>9717</td><td>&quot;https://image.tmdb.org/t/p/w50…</td><td>&quot;https://image.tmdb.org/t/p/w50…</td></tr><tr><td>9718</td><td>&quot;https://image.tmdb.org/t/p/w50…</td><td>&quot;https://image.tmdb.org/t/p/w50…</td></tr></tbody></table></div>"
      ]
     },
     "execution_count": 7,
     "metadata": {},
     "output_type": "execute_result"
    }
   ],
   "execution_count": 7
  },
  {
   "metadata": {
    "ExecuteTime": {
     "end_time": "2024-12-31T21:30:32.674683Z",
     "start_time": "2024-12-31T21:30:32.637694Z"
    }
   },
   "cell_type": "code",
   "source": [
    "combined_data = movies.join(\n",
    "    other=more_info,\n",
    "    right_on='film_id',\n",
    "    left_on='id'\n",
    ").join(\n",
    "    other=film_details,\n",
    "    on='id'\n",
    ").join(\n",
    "    other=poster,\n",
    "    on='id'\n",
    ")"
   ],
   "id": "94703299ed6b7f52",
   "outputs": [],
   "execution_count": 8
  },
  {
   "metadata": {
    "ExecuteTime": {
     "end_time": "2024-12-31T21:30:32.839412Z",
     "start_time": "2024-12-31T21:30:32.835809Z"
    }
   },
   "cell_type": "code",
   "source": "combined_data.estimated_size('mb')",
   "id": "c378717e582937a3",
   "outputs": [
    {
     "data": {
      "text/plain": [
       "3.246830940246582"
      ]
     },
     "execution_count": 9,
     "metadata": {},
     "output_type": "execute_result"
    }
   ],
   "execution_count": 9
  },
  {
   "metadata": {
    "ExecuteTime": {
     "end_time": "2024-12-31T21:30:32.917275Z",
     "start_time": "2024-12-31T21:30:32.912378Z"
    }
   },
   "cell_type": "code",
   "source": "combined_data = combined_data.drop(['id_right', 'id'])",
   "id": "76ce1ce53b9bab92",
   "outputs": [],
   "execution_count": 10
  },
  {
   "metadata": {
    "ExecuteTime": {
     "end_time": "2024-12-31T21:30:33.001195Z",
     "start_time": "2024-12-31T21:30:32.996679Z"
    }
   },
   "cell_type": "code",
   "source": "combined_data.null_count()",
   "id": "26be4018bf8f3434",
   "outputs": [
    {
     "data": {
      "text/plain": [
       "shape: (1, 17)\n",
       "┌───────┬────────┬──────────┬────────────┬───┬────────────┬─────────────┬─────────────┬────────────┐\n",
       "│ title ┆ genres ┆ language ┆ user_score ┆ … ┆ budget_usd ┆ revenue_usd ┆ poster_path ┆ backdrop_p │\n",
       "│ ---   ┆ ---    ┆ ---      ┆ ---        ┆   ┆ ---        ┆ ---         ┆ ---         ┆ ath        │\n",
       "│ u32   ┆ u32    ┆ u32      ┆ u32        ┆   ┆ u32        ┆ u32         ┆ u32         ┆ ---        │\n",
       "│       ┆        ┆          ┆            ┆   ┆            ┆             ┆             ┆ u32        │\n",
       "╞═══════╪════════╪══════════╪════════════╪═══╪════════════╪═════════════╪═════════════╪════════════╡\n",
       "│ 0     ┆ 0      ┆ 0        ┆ 0          ┆ … ┆ 2981       ┆ 2541        ┆ 0           ┆ 0          │\n",
       "└───────┴────────┴──────────┴────────────┴───┴────────────┴─────────────┴─────────────┴────────────┘"
      ],
      "text/html": [
       "<div><style>\n",
       ".dataframe > thead > tr,\n",
       ".dataframe > tbody > tr {\n",
       "  text-align: right;\n",
       "  white-space: pre-wrap;\n",
       "}\n",
       "</style>\n",
       "<small>shape: (1, 17)</small><table border=\"1\" class=\"dataframe\"><thead><tr><th>title</th><th>genres</th><th>language</th><th>user_score</th><th>runtime_hour</th><th>runtime_min</th><th>release_date</th><th>vote_count</th><th>runtime</th><th>budget</th><th>revenue</th><th>director</th><th>top_billed</th><th>budget_usd</th><th>revenue_usd</th><th>poster_path</th><th>backdrop_path</th></tr><tr><td>u32</td><td>u32</td><td>u32</td><td>u32</td><td>u32</td><td>u32</td><td>u32</td><td>u32</td><td>u32</td><td>u32</td><td>u32</td><td>u32</td><td>u32</td><td>u32</td><td>u32</td><td>u32</td><td>u32</td></tr></thead><tbody><tr><td>0</td><td>0</td><td>0</td><td>0</td><td>0</td><td>0</td><td>0</td><td>0</td><td>0</td><td>2982</td><td>2541</td><td>0</td><td>1</td><td>2981</td><td>2541</td><td>0</td><td>0</td></tr></tbody></table></div>"
      ]
     },
     "execution_count": 11,
     "metadata": {},
     "output_type": "execute_result"
    }
   ],
   "execution_count": 11
  },
  {
   "metadata": {
    "ExecuteTime": {
     "end_time": "2024-12-31T21:30:33.067684Z",
     "start_time": "2024-12-31T21:30:33.063491Z"
    }
   },
   "cell_type": "code",
   "source": "combined_data.collect_schema()",
   "id": "a6583817f5326d7",
   "outputs": [
    {
     "data": {
      "text/plain": [
       "Schema([('title', String),\n",
       "        ('genres', String),\n",
       "        ('language', String),\n",
       "        ('user_score', Float64),\n",
       "        ('runtime_hour', Int64),\n",
       "        ('runtime_min', Int64),\n",
       "        ('release_date', String),\n",
       "        ('vote_count', Int64),\n",
       "        ('runtime', String),\n",
       "        ('budget', String),\n",
       "        ('revenue', String),\n",
       "        ('director', String),\n",
       "        ('top_billed', String),\n",
       "        ('budget_usd', Int64),\n",
       "        ('revenue_usd', Int64),\n",
       "        ('poster_path', String),\n",
       "        ('backdrop_path', String)])"
      ]
     },
     "execution_count": 12,
     "metadata": {},
     "output_type": "execute_result"
    }
   ],
   "execution_count": 12
  },
  {
   "metadata": {
    "ExecuteTime": {
     "end_time": "2024-12-31T21:30:33.170430Z",
     "start_time": "2024-12-31T21:30:33.164281Z"
    }
   },
   "cell_type": "code",
   "source": "combined_data",
   "id": "a0298d08fd4c5a86",
   "outputs": [
    {
     "data": {
      "text/plain": [
       "shape: (9_718, 17)\n",
       "┌───────────┬───────────┬──────────┬───────────┬───┬───────────┬───────────┬───────────┬───────────┐\n",
       "│ title     ┆ genres    ┆ language ┆ user_scor ┆ … ┆ budget_us ┆ revenue_u ┆ poster_pa ┆ backdrop_ │\n",
       "│ ---       ┆ ---       ┆ ---      ┆ e         ┆   ┆ d         ┆ sd        ┆ th        ┆ path      │\n",
       "│ str       ┆ str       ┆ str      ┆ ---       ┆   ┆ ---       ┆ ---       ┆ ---       ┆ ---       │\n",
       "│           ┆           ┆          ┆ f64       ┆   ┆ i64       ┆ i64       ┆ str       ┆ str       │\n",
       "╞═══════════╪═══════════╪══════════╪═══════════╪═══╪═══════════╪═══════════╪═══════════╪═══════════╡\n",
       "│ The       ┆ Drama,    ┆ en       ┆ 8.7       ┆ … ┆ 25000000  ┆ 28341469  ┆ https://i ┆ https://i │\n",
       "│ Shawshank ┆ Crime     ┆          ┆           ┆   ┆           ┆           ┆ mage.tmdb ┆ mage.tmdb │\n",
       "│ Redemptio ┆           ┆          ┆           ┆   ┆           ┆           ┆ .org/t/p/ ┆ .org/t/p/ │\n",
       "│ n         ┆           ┆          ┆           ┆   ┆           ┆           ┆ w50…      ┆ w50…      │\n",
       "│ The       ┆ Drama,    ┆ en       ┆ 8.7       ┆ … ┆ 6000000   ┆ 245066411 ┆ https://i ┆ https://i │\n",
       "│ Godfather ┆ Crime     ┆          ┆           ┆   ┆           ┆           ┆ mage.tmdb ┆ mage.tmdb │\n",
       "│           ┆           ┆          ┆           ┆   ┆           ┆           ┆ .org/t/p/ ┆ .org/t/p/ │\n",
       "│           ┆           ┆          ┆           ┆   ┆           ┆           ┆ w50…      ┆ w50…      │\n",
       "│ The       ┆ Drama,    ┆ en       ┆ 8.6       ┆ … ┆ 13000000  ┆ 102600000 ┆ https://i ┆ https://i │\n",
       "│ Godfather ┆ Crime     ┆          ┆           ┆   ┆           ┆           ┆ mage.tmdb ┆ mage.tmdb │\n",
       "│ Part II   ┆           ┆          ┆           ┆   ┆           ┆           ┆ .org/t/p/ ┆ .org/t/p/ │\n",
       "│           ┆           ┆          ┆           ┆   ┆           ┆           ┆ w50…      ┆ w50…      │\n",
       "│ Schindler ┆ Drama,    ┆ en       ┆ 8.6       ┆ … ┆ 22000000  ┆ 321365567 ┆ https://i ┆ https://i │\n",
       "│ 's List   ┆ History,  ┆          ┆           ┆   ┆           ┆           ┆ mage.tmdb ┆ mage.tmdb │\n",
       "│           ┆ War       ┆          ┆           ┆   ┆           ┆           ┆ .org/t/p/ ┆ .org/t/p/ │\n",
       "│           ┆           ┆          ┆           ┆   ┆           ┆           ┆ w50…      ┆ w50…      │\n",
       "│ 12 Angry  ┆ Drama     ┆ en       ┆ 8.5       ┆ … ┆ 397751    ┆ 4360000   ┆ https://i ┆ https://i │\n",
       "│ Men       ┆           ┆          ┆           ┆   ┆           ┆           ┆ mage.tmdb ┆ mage.tmdb │\n",
       "│           ┆           ┆          ┆           ┆   ┆           ┆           ┆ .org/t/p/ ┆ .org/t/p/ │\n",
       "│           ┆           ┆          ┆           ┆   ┆           ┆           ┆ w50…      ┆ w50…      │\n",
       "│ …         ┆ …         ┆ …        ┆ …         ┆ … ┆ …         ┆ …         ┆ …         ┆ …         │\n",
       "│ Alone in  ┆ Action,   ┆ en       ┆ 3.3       ┆ … ┆ 20000000  ┆ 12693645  ┆ https://i ┆ https://i │\n",
       "│ the Dark  ┆ Fantasy,  ┆          ┆           ┆   ┆           ┆           ┆ mage.tmdb ┆ mage.tmdb │\n",
       "│           ┆ Horror    ┆          ┆           ┆   ┆           ┆           ┆ .org/t/p/ ┆ .org/t/p/ │\n",
       "│           ┆           ┆          ┆           ┆   ┆           ┆           ┆ w50…      ┆ w50…      │\n",
       "│ Disaster  ┆ Comedy    ┆ en       ┆ 3.2       ┆ … ┆ 25000000  ┆ 34816824  ┆ https://i ┆ https://i │\n",
       "│ Movie     ┆           ┆          ┆           ┆   ┆           ┆           ┆ mage.tmdb ┆ mage.tmdb │\n",
       "│           ┆           ┆          ┆           ┆   ┆           ┆           ┆ .org/t/p/ ┆ .org/t/p/ │\n",
       "│           ┆           ┆          ┆           ┆   ┆           ┆           ┆ w50…      ┆ w50…      │\n",
       "│ House of  ┆ Horror,   ┆ en       ┆ 3.1       ┆ … ┆ 12000000  ┆ 13818181  ┆ https://i ┆ https://i │\n",
       "│ the Dead  ┆ Action,   ┆          ┆           ┆   ┆           ┆           ┆ mage.tmdb ┆ mage.tmdb │\n",
       "│           ┆ Thriller  ┆          ┆           ┆   ┆           ┆           ┆ .org/t/p/ ┆ .org/t/p/ │\n",
       "│           ┆           ┆          ┆           ┆   ┆           ┆           ┆ w50…      ┆ w50…      │\n",
       "│ Dragonbal ┆ Action,   ┆ en       ┆ 2.9       ┆ … ┆ 30000000  ┆ 58228460  ┆ https://i ┆ https://i │\n",
       "│ l         ┆ Adventure ┆          ┆           ┆   ┆           ┆           ┆ mage.tmdb ┆ mage.tmdb │\n",
       "│ Evolution ┆ ,         ┆          ┆           ┆   ┆           ┆           ┆ .org/t/p/ ┆ .org/t/p/ │\n",
       "│           ┆ Fantasy,  ┆          ┆           ┆   ┆           ┆           ┆ w50…      ┆ w50…      │\n",
       "│           ┆ Sc…       ┆          ┆           ┆   ┆           ┆           ┆           ┆           │\n",
       "│ Birdemic: ┆ Romance,  ┆ en       ┆ 2.2       ┆ … ┆ 10000     ┆ null      ┆ https://i ┆ https://i │\n",
       "│ Shock and ┆ Horror,   ┆          ┆           ┆   ┆           ┆           ┆ mage.tmdb ┆ mage.tmdb │\n",
       "│ Terror    ┆ Thriller  ┆          ┆           ┆   ┆           ┆           ┆ .org/t/p/ ┆ .org/t/p/ │\n",
       "│           ┆           ┆          ┆           ┆   ┆           ┆           ┆ w50…      ┆ w50…      │\n",
       "└───────────┴───────────┴──────────┴───────────┴───┴───────────┴───────────┴───────────┴───────────┘"
      ],
      "text/html": [
       "<div><style>\n",
       ".dataframe > thead > tr,\n",
       ".dataframe > tbody > tr {\n",
       "  text-align: right;\n",
       "  white-space: pre-wrap;\n",
       "}\n",
       "</style>\n",
       "<small>shape: (9_718, 17)</small><table border=\"1\" class=\"dataframe\"><thead><tr><th>title</th><th>genres</th><th>language</th><th>user_score</th><th>runtime_hour</th><th>runtime_min</th><th>release_date</th><th>vote_count</th><th>runtime</th><th>budget</th><th>revenue</th><th>director</th><th>top_billed</th><th>budget_usd</th><th>revenue_usd</th><th>poster_path</th><th>backdrop_path</th></tr><tr><td>str</td><td>str</td><td>str</td><td>f64</td><td>i64</td><td>i64</td><td>str</td><td>i64</td><td>str</td><td>str</td><td>str</td><td>str</td><td>str</td><td>i64</td><td>i64</td><td>str</td><td>str</td></tr></thead><tbody><tr><td>&quot;The Shawshank Redemption&quot;</td><td>&quot;Drama, Crime&quot;</td><td>&quot;en&quot;</td><td>8.7</td><td>2</td><td>22</td><td>&quot;1994-09-23&quot;</td><td>27070</td><td>&quot;2h 22 min&quot;</td><td>&quot;$25,000,000&quot;</td><td>&quot;$28,341,469&quot;</td><td>&quot;Frank Darabont&quot;</td><td>&quot;Tim Robbins, Morgan Freeman, B…</td><td>25000000</td><td>28341469</td><td>&quot;https://image.tmdb.org/t/p/w50…</td><td>&quot;https://image.tmdb.org/t/p/w50…</td></tr><tr><td>&quot;The Godfather&quot;</td><td>&quot;Drama, Crime&quot;</td><td>&quot;en&quot;</td><td>8.7</td><td>2</td><td>55</td><td>&quot;1972-03-14&quot;</td><td>20563</td><td>&quot;2h 55 min&quot;</td><td>&quot;$6,000,000&quot;</td><td>&quot;$245,066,411&quot;</td><td>&quot;Francis Ford Coppola&quot;</td><td>&quot;Marlon Brando, Al Pacino, Jame…</td><td>6000000</td><td>245066411</td><td>&quot;https://image.tmdb.org/t/p/w50…</td><td>&quot;https://image.tmdb.org/t/p/w50…</td></tr><tr><td>&quot;The Godfather Part II&quot;</td><td>&quot;Drama, Crime&quot;</td><td>&quot;en&quot;</td><td>8.6</td><td>3</td><td>22</td><td>&quot;1974-12-20&quot;</td><td>12403</td><td>&quot;3h 22 min&quot;</td><td>&quot;$13,000,000&quot;</td><td>&quot;$102,600,000&quot;</td><td>&quot;Francis Ford Coppola&quot;</td><td>&quot;Al Pacino, Robert Duvall, Dian…</td><td>13000000</td><td>102600000</td><td>&quot;https://image.tmdb.org/t/p/w50…</td><td>&quot;https://image.tmdb.org/t/p/w50…</td></tr><tr><td>&quot;Schindler&#x27;s List&quot;</td><td>&quot;Drama, History, War&quot;</td><td>&quot;en&quot;</td><td>8.6</td><td>3</td><td>15</td><td>&quot;1993-12-15&quot;</td><td>15810</td><td>&quot;3h 15 min&quot;</td><td>&quot;$22,000,000&quot;</td><td>&quot;$321,365,567&quot;</td><td>&quot;Steven Spielberg&quot;</td><td>&quot;Liam Neeson, Ben Kingsley, Ral…</td><td>22000000</td><td>321365567</td><td>&quot;https://image.tmdb.org/t/p/w50…</td><td>&quot;https://image.tmdb.org/t/p/w50…</td></tr><tr><td>&quot;12 Angry Men&quot;</td><td>&quot;Drama&quot;</td><td>&quot;en&quot;</td><td>8.5</td><td>1</td><td>37</td><td>&quot;1957-04-10&quot;</td><td>8611</td><td>&quot;1h 37 min&quot;</td><td>&quot;$397,751&quot;</td><td>&quot;$4,360,000&quot;</td><td>&quot;Sidney Lumet&quot;</td><td>&quot;Martin Balsam, John Fiedler, L…</td><td>397751</td><td>4360000</td><td>&quot;https://image.tmdb.org/t/p/w50…</td><td>&quot;https://image.tmdb.org/t/p/w50…</td></tr><tr><td>&hellip;</td><td>&hellip;</td><td>&hellip;</td><td>&hellip;</td><td>&hellip;</td><td>&hellip;</td><td>&hellip;</td><td>&hellip;</td><td>&hellip;</td><td>&hellip;</td><td>&hellip;</td><td>&hellip;</td><td>&hellip;</td><td>&hellip;</td><td>&hellip;</td><td>&hellip;</td><td>&hellip;</td></tr><tr><td>&quot;Alone in the Dark&quot;</td><td>&quot;Action, Fantasy, Horror&quot;</td><td>&quot;en&quot;</td><td>3.3</td><td>1</td><td>38</td><td>&quot;2005-01-28&quot;</td><td>602</td><td>&quot;1h 38 min&quot;</td><td>&quot;$20,000,000&quot;</td><td>&quot;$12,693,645&quot;</td><td>&quot;Uwe Boll&quot;</td><td>&quot;Christian Slater, Tara Reid, S…</td><td>20000000</td><td>12693645</td><td>&quot;https://image.tmdb.org/t/p/w50…</td><td>&quot;https://image.tmdb.org/t/p/w50…</td></tr><tr><td>&quot;Disaster Movie&quot;</td><td>&quot;Comedy&quot;</td><td>&quot;en&quot;</td><td>3.2</td><td>1</td><td>27</td><td>&quot;2008-08-29&quot;</td><td>1021</td><td>&quot;1h 27 min&quot;</td><td>&quot;$25,000,000&quot;</td><td>&quot;$34,816,824&quot;</td><td>&quot;Aaron Seltzer&quot;</td><td>&quot;Matt Lanter, Vanessa Lachey, G…</td><td>25000000</td><td>34816824</td><td>&quot;https://image.tmdb.org/t/p/w50…</td><td>&quot;https://image.tmdb.org/t/p/w50…</td></tr><tr><td>&quot;House of the Dead&quot;</td><td>&quot;Horror, Action, Thriller&quot;</td><td>&quot;en&quot;</td><td>3.1</td><td>1</td><td>30</td><td>&quot;2003-04-11&quot;</td><td>384</td><td>&quot;1h 30 min&quot;</td><td>&quot;$12,000,000&quot;</td><td>&quot;$13,818,181&quot;</td><td>&quot;Uwe Boll&quot;</td><td>&quot;Jonathan Cherry, Tyron Leitso,…</td><td>12000000</td><td>13818181</td><td>&quot;https://image.tmdb.org/t/p/w50…</td><td>&quot;https://image.tmdb.org/t/p/w50…</td></tr><tr><td>&quot;Dragonball Evolution&quot;</td><td>&quot;Action, Adventure, Fantasy, Sc…</td><td>&quot;en&quot;</td><td>2.9</td><td>1</td><td>25</td><td>&quot;2009-03-12&quot;</td><td>2028</td><td>&quot;1h 25 min&quot;</td><td>&quot;$30,000,000&quot;</td><td>&quot;$58,228,460&quot;</td><td>&quot;James Wong&quot;</td><td>&quot;Justin Chatwin, Chow Yun-fat, …</td><td>30000000</td><td>58228460</td><td>&quot;https://image.tmdb.org/t/p/w50…</td><td>&quot;https://image.tmdb.org/t/p/w50…</td></tr><tr><td>&quot;Birdemic: Shock and Terror&quot;</td><td>&quot;Romance, Horror, Thriller&quot;</td><td>&quot;en&quot;</td><td>2.2</td><td>1</td><td>33</td><td>&quot;2010-02-27&quot;</td><td>334</td><td>&quot;1h 33 min&quot;</td><td>&quot;$10,000&quot;</td><td>null</td><td>&quot;James Nguyen&quot;</td><td>&quot;Alan Bagh, Whitney Moore, Jana…</td><td>10000</td><td>null</td><td>&quot;https://image.tmdb.org/t/p/w50…</td><td>&quot;https://image.tmdb.org/t/p/w50…</td></tr></tbody></table></div>"
      ]
     },
     "execution_count": 13,
     "metadata": {},
     "output_type": "execute_result"
    }
   ],
   "execution_count": 13
  },
  {
   "metadata": {
    "ExecuteTime": {
     "end_time": "2024-12-31T22:18:45.286646Z",
     "start_time": "2024-12-31T22:18:45.279614Z"
    }
   },
   "cell_type": "code",
   "source": [
    "combined_data = combined_data.with_columns(\n",
    "    pl.col('language').str.to_uppercase().cast(pl.Categorical),\n",
    "    pl.col('user_score').to_physical().cast(pl.Float32),\n",
    "    pl.col('runtime_hour').to_physical().cast(pl.UInt8),\n",
    "    pl.col('runtime_min').to_physical().cast(pl.UInt8),\n",
    "    pl.col('release_date').str.to_date(format='%Y-%m-%d'),\n",
    "    pl.col('vote_count').cast(pl.UInt16),\n",
    "    (pl.col('runtime').str.extract(r'(\\d+)h').cast(pl.Duration('ms')) * 60 * 60 * 1000 +\n",
    "    pl.col('runtime').str.extract(r'(\\d+) min').cast(pl.Duration('ms')) * 60 * 1000),\n",
    "    pl.col('budget').str.replace(r'\\$', '').str.replace_all(r'\\,', '').cast(pl.UInt32),\n",
    "    pl.col('revenue').str.replace(r'\\$', '').str.replace_all(r'\\,', '').cast(pl.UInt32),\n",
    ")"
   ],
   "id": "35bd9303d27b54c4",
   "outputs": [],
   "execution_count": 58
  },
  {
   "metadata": {
    "ExecuteTime": {
     "end_time": "2024-12-31T22:26:05.583606Z",
     "start_time": "2024-12-31T22:26:05.577293Z"
    }
   },
   "cell_type": "code",
   "source": "combined_data",
   "id": "4e0cbbdb9a730a84",
   "outputs": [
    {
     "data": {
      "text/plain": [
       "shape: (9_718, 17)\n",
       "┌───────────┬───────────┬──────────┬───────────┬───┬───────────┬───────────┬───────────┬───────────┐\n",
       "│ title     ┆ genres    ┆ language ┆ user_scor ┆ … ┆ budget_us ┆ revenue_u ┆ poster_pa ┆ backdrop_ │\n",
       "│ ---       ┆ ---       ┆ ---      ┆ e         ┆   ┆ d         ┆ sd        ┆ th        ┆ path      │\n",
       "│ str       ┆ str       ┆ cat      ┆ ---       ┆   ┆ ---       ┆ ---       ┆ ---       ┆ ---       │\n",
       "│           ┆           ┆          ┆ f32       ┆   ┆ i64       ┆ i64       ┆ str       ┆ str       │\n",
       "╞═══════════╪═══════════╪══════════╪═══════════╪═══╪═══════════╪═══════════╪═══════════╪═══════════╡\n",
       "│ The       ┆ Drama,    ┆ EN       ┆ 8.7       ┆ … ┆ 25000000  ┆ 28341469  ┆ https://i ┆ https://i │\n",
       "│ Shawshank ┆ Crime     ┆          ┆           ┆   ┆           ┆           ┆ mage.tmdb ┆ mage.tmdb │\n",
       "│ Redemptio ┆           ┆          ┆           ┆   ┆           ┆           ┆ .org/t/p/ ┆ .org/t/p/ │\n",
       "│ n         ┆           ┆          ┆           ┆   ┆           ┆           ┆ w50…      ┆ w50…      │\n",
       "│ The       ┆ Drama,    ┆ EN       ┆ 8.7       ┆ … ┆ 6000000   ┆ 245066411 ┆ https://i ┆ https://i │\n",
       "│ Godfather ┆ Crime     ┆          ┆           ┆   ┆           ┆           ┆ mage.tmdb ┆ mage.tmdb │\n",
       "│           ┆           ┆          ┆           ┆   ┆           ┆           ┆ .org/t/p/ ┆ .org/t/p/ │\n",
       "│           ┆           ┆          ┆           ┆   ┆           ┆           ┆ w50…      ┆ w50…      │\n",
       "│ The       ┆ Drama,    ┆ EN       ┆ 8.6       ┆ … ┆ 13000000  ┆ 102600000 ┆ https://i ┆ https://i │\n",
       "│ Godfather ┆ Crime     ┆          ┆           ┆   ┆           ┆           ┆ mage.tmdb ┆ mage.tmdb │\n",
       "│ Part II   ┆           ┆          ┆           ┆   ┆           ┆           ┆ .org/t/p/ ┆ .org/t/p/ │\n",
       "│           ┆           ┆          ┆           ┆   ┆           ┆           ┆ w50…      ┆ w50…      │\n",
       "│ Schindler ┆ Drama,    ┆ EN       ┆ 8.6       ┆ … ┆ 22000000  ┆ 321365567 ┆ https://i ┆ https://i │\n",
       "│ 's List   ┆ History,  ┆          ┆           ┆   ┆           ┆           ┆ mage.tmdb ┆ mage.tmdb │\n",
       "│           ┆ War       ┆          ┆           ┆   ┆           ┆           ┆ .org/t/p/ ┆ .org/t/p/ │\n",
       "│           ┆           ┆          ┆           ┆   ┆           ┆           ┆ w50…      ┆ w50…      │\n",
       "│ 12 Angry  ┆ Drama     ┆ EN       ┆ 8.5       ┆ … ┆ 397751    ┆ 4360000   ┆ https://i ┆ https://i │\n",
       "│ Men       ┆           ┆          ┆           ┆   ┆           ┆           ┆ mage.tmdb ┆ mage.tmdb │\n",
       "│           ┆           ┆          ┆           ┆   ┆           ┆           ┆ .org/t/p/ ┆ .org/t/p/ │\n",
       "│           ┆           ┆          ┆           ┆   ┆           ┆           ┆ w50…      ┆ w50…      │\n",
       "│ …         ┆ …         ┆ …        ┆ …         ┆ … ┆ …         ┆ …         ┆ …         ┆ …         │\n",
       "│ Alone in  ┆ Action,   ┆ EN       ┆ 3.3       ┆ … ┆ 20000000  ┆ 12693645  ┆ https://i ┆ https://i │\n",
       "│ the Dark  ┆ Fantasy,  ┆          ┆           ┆   ┆           ┆           ┆ mage.tmdb ┆ mage.tmdb │\n",
       "│           ┆ Horror    ┆          ┆           ┆   ┆           ┆           ┆ .org/t/p/ ┆ .org/t/p/ │\n",
       "│           ┆           ┆          ┆           ┆   ┆           ┆           ┆ w50…      ┆ w50…      │\n",
       "│ Disaster  ┆ Comedy    ┆ EN       ┆ 3.2       ┆ … ┆ 25000000  ┆ 34816824  ┆ https://i ┆ https://i │\n",
       "│ Movie     ┆           ┆          ┆           ┆   ┆           ┆           ┆ mage.tmdb ┆ mage.tmdb │\n",
       "│           ┆           ┆          ┆           ┆   ┆           ┆           ┆ .org/t/p/ ┆ .org/t/p/ │\n",
       "│           ┆           ┆          ┆           ┆   ┆           ┆           ┆ w50…      ┆ w50…      │\n",
       "│ House of  ┆ Horror,   ┆ EN       ┆ 3.1       ┆ … ┆ 12000000  ┆ 13818181  ┆ https://i ┆ https://i │\n",
       "│ the Dead  ┆ Action,   ┆          ┆           ┆   ┆           ┆           ┆ mage.tmdb ┆ mage.tmdb │\n",
       "│           ┆ Thriller  ┆          ┆           ┆   ┆           ┆           ┆ .org/t/p/ ┆ .org/t/p/ │\n",
       "│           ┆           ┆          ┆           ┆   ┆           ┆           ┆ w50…      ┆ w50…      │\n",
       "│ Dragonbal ┆ Action,   ┆ EN       ┆ 2.9       ┆ … ┆ 30000000  ┆ 58228460  ┆ https://i ┆ https://i │\n",
       "│ l         ┆ Adventure ┆          ┆           ┆   ┆           ┆           ┆ mage.tmdb ┆ mage.tmdb │\n",
       "│ Evolution ┆ ,         ┆          ┆           ┆   ┆           ┆           ┆ .org/t/p/ ┆ .org/t/p/ │\n",
       "│           ┆ Fantasy,  ┆          ┆           ┆   ┆           ┆           ┆ w50…      ┆ w50…      │\n",
       "│           ┆ Sc…       ┆          ┆           ┆   ┆           ┆           ┆           ┆           │\n",
       "│ Birdemic: ┆ Romance,  ┆ EN       ┆ 2.2       ┆ … ┆ 10000     ┆ null      ┆ https://i ┆ https://i │\n",
       "│ Shock and ┆ Horror,   ┆          ┆           ┆   ┆           ┆           ┆ mage.tmdb ┆ mage.tmdb │\n",
       "│ Terror    ┆ Thriller  ┆          ┆           ┆   ┆           ┆           ┆ .org/t/p/ ┆ .org/t/p/ │\n",
       "│           ┆           ┆          ┆           ┆   ┆           ┆           ┆ w50…      ┆ w50…      │\n",
       "└───────────┴───────────┴──────────┴───────────┴───┴───────────┴───────────┴───────────┴───────────┘"
      ],
      "text/html": [
       "<div><style>\n",
       ".dataframe > thead > tr,\n",
       ".dataframe > tbody > tr {\n",
       "  text-align: right;\n",
       "  white-space: pre-wrap;\n",
       "}\n",
       "</style>\n",
       "<small>shape: (9_718, 17)</small><table border=\"1\" class=\"dataframe\"><thead><tr><th>title</th><th>genres</th><th>language</th><th>user_score</th><th>runtime_hour</th><th>runtime_min</th><th>release_date</th><th>vote_count</th><th>runtime</th><th>budget</th><th>revenue</th><th>director</th><th>top_billed</th><th>budget_usd</th><th>revenue_usd</th><th>poster_path</th><th>backdrop_path</th></tr><tr><td>str</td><td>str</td><td>cat</td><td>f32</td><td>u8</td><td>u8</td><td>date</td><td>u16</td><td>duration[ms]</td><td>u32</td><td>u32</td><td>str</td><td>str</td><td>i64</td><td>i64</td><td>str</td><td>str</td></tr></thead><tbody><tr><td>&quot;The Shawshank Redemption&quot;</td><td>&quot;Drama, Crime&quot;</td><td>&quot;EN&quot;</td><td>8.7</td><td>2</td><td>22</td><td>1994-09-23</td><td>27070</td><td>2h 22m</td><td>25000000</td><td>28341469</td><td>&quot;Frank Darabont&quot;</td><td>&quot;Tim Robbins, Morgan Freeman, B…</td><td>25000000</td><td>28341469</td><td>&quot;https://image.tmdb.org/t/p/w50…</td><td>&quot;https://image.tmdb.org/t/p/w50…</td></tr><tr><td>&quot;The Godfather&quot;</td><td>&quot;Drama, Crime&quot;</td><td>&quot;EN&quot;</td><td>8.7</td><td>2</td><td>55</td><td>1972-03-14</td><td>20563</td><td>2h 55m</td><td>6000000</td><td>245066411</td><td>&quot;Francis Ford Coppola&quot;</td><td>&quot;Marlon Brando, Al Pacino, Jame…</td><td>6000000</td><td>245066411</td><td>&quot;https://image.tmdb.org/t/p/w50…</td><td>&quot;https://image.tmdb.org/t/p/w50…</td></tr><tr><td>&quot;The Godfather Part II&quot;</td><td>&quot;Drama, Crime&quot;</td><td>&quot;EN&quot;</td><td>8.6</td><td>3</td><td>22</td><td>1974-12-20</td><td>12403</td><td>3h 22m</td><td>13000000</td><td>102600000</td><td>&quot;Francis Ford Coppola&quot;</td><td>&quot;Al Pacino, Robert Duvall, Dian…</td><td>13000000</td><td>102600000</td><td>&quot;https://image.tmdb.org/t/p/w50…</td><td>&quot;https://image.tmdb.org/t/p/w50…</td></tr><tr><td>&quot;Schindler&#x27;s List&quot;</td><td>&quot;Drama, History, War&quot;</td><td>&quot;EN&quot;</td><td>8.6</td><td>3</td><td>15</td><td>1993-12-15</td><td>15810</td><td>3h 15m</td><td>22000000</td><td>321365567</td><td>&quot;Steven Spielberg&quot;</td><td>&quot;Liam Neeson, Ben Kingsley, Ral…</td><td>22000000</td><td>321365567</td><td>&quot;https://image.tmdb.org/t/p/w50…</td><td>&quot;https://image.tmdb.org/t/p/w50…</td></tr><tr><td>&quot;12 Angry Men&quot;</td><td>&quot;Drama&quot;</td><td>&quot;EN&quot;</td><td>8.5</td><td>1</td><td>37</td><td>1957-04-10</td><td>8611</td><td>1h 37m</td><td>397751</td><td>4360000</td><td>&quot;Sidney Lumet&quot;</td><td>&quot;Martin Balsam, John Fiedler, L…</td><td>397751</td><td>4360000</td><td>&quot;https://image.tmdb.org/t/p/w50…</td><td>&quot;https://image.tmdb.org/t/p/w50…</td></tr><tr><td>&hellip;</td><td>&hellip;</td><td>&hellip;</td><td>&hellip;</td><td>&hellip;</td><td>&hellip;</td><td>&hellip;</td><td>&hellip;</td><td>&hellip;</td><td>&hellip;</td><td>&hellip;</td><td>&hellip;</td><td>&hellip;</td><td>&hellip;</td><td>&hellip;</td><td>&hellip;</td><td>&hellip;</td></tr><tr><td>&quot;Alone in the Dark&quot;</td><td>&quot;Action, Fantasy, Horror&quot;</td><td>&quot;EN&quot;</td><td>3.3</td><td>1</td><td>38</td><td>2005-01-28</td><td>602</td><td>1h 38m</td><td>20000000</td><td>12693645</td><td>&quot;Uwe Boll&quot;</td><td>&quot;Christian Slater, Tara Reid, S…</td><td>20000000</td><td>12693645</td><td>&quot;https://image.tmdb.org/t/p/w50…</td><td>&quot;https://image.tmdb.org/t/p/w50…</td></tr><tr><td>&quot;Disaster Movie&quot;</td><td>&quot;Comedy&quot;</td><td>&quot;EN&quot;</td><td>3.2</td><td>1</td><td>27</td><td>2008-08-29</td><td>1021</td><td>1h 27m</td><td>25000000</td><td>34816824</td><td>&quot;Aaron Seltzer&quot;</td><td>&quot;Matt Lanter, Vanessa Lachey, G…</td><td>25000000</td><td>34816824</td><td>&quot;https://image.tmdb.org/t/p/w50…</td><td>&quot;https://image.tmdb.org/t/p/w50…</td></tr><tr><td>&quot;House of the Dead&quot;</td><td>&quot;Horror, Action, Thriller&quot;</td><td>&quot;EN&quot;</td><td>3.1</td><td>1</td><td>30</td><td>2003-04-11</td><td>384</td><td>1h 30m</td><td>12000000</td><td>13818181</td><td>&quot;Uwe Boll&quot;</td><td>&quot;Jonathan Cherry, Tyron Leitso,…</td><td>12000000</td><td>13818181</td><td>&quot;https://image.tmdb.org/t/p/w50…</td><td>&quot;https://image.tmdb.org/t/p/w50…</td></tr><tr><td>&quot;Dragonball Evolution&quot;</td><td>&quot;Action, Adventure, Fantasy, Sc…</td><td>&quot;EN&quot;</td><td>2.9</td><td>1</td><td>25</td><td>2009-03-12</td><td>2028</td><td>1h 25m</td><td>30000000</td><td>58228460</td><td>&quot;James Wong&quot;</td><td>&quot;Justin Chatwin, Chow Yun-fat, …</td><td>30000000</td><td>58228460</td><td>&quot;https://image.tmdb.org/t/p/w50…</td><td>&quot;https://image.tmdb.org/t/p/w50…</td></tr><tr><td>&quot;Birdemic: Shock and Terror&quot;</td><td>&quot;Romance, Horror, Thriller&quot;</td><td>&quot;EN&quot;</td><td>2.2</td><td>1</td><td>33</td><td>2010-02-27</td><td>334</td><td>1h 33m</td><td>10000</td><td>null</td><td>&quot;James Nguyen&quot;</td><td>&quot;Alan Bagh, Whitney Moore, Jana…</td><td>10000</td><td>null</td><td>&quot;https://image.tmdb.org/t/p/w50…</td><td>&quot;https://image.tmdb.org/t/p/w50…</td></tr></tbody></table></div>"
      ]
     },
     "execution_count": 60,
     "metadata": {},
     "output_type": "execute_result"
    }
   ],
   "execution_count": 60
  }
 ],
 "metadata": {
  "kernelspec": {
   "display_name": "Python 3",
   "language": "python",
   "name": "python3"
  },
  "language_info": {
   "codemirror_mode": {
    "name": "ipython",
    "version": 2
   },
   "file_extension": ".py",
   "mimetype": "text/x-python",
   "name": "python",
   "nbconvert_exporter": "python",
   "pygments_lexer": "ipython2",
   "version": "2.7.6"
  }
 },
 "nbformat": 4,
 "nbformat_minor": 5
}
