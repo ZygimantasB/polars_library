{
 "cells": [
  {
   "cell_type": "code",
   "id": "initial_id",
   "metadata": {
    "collapsed": true,
    "ExecuteTime": {
     "end_time": "2024-11-30T22:18:35.340220Z",
     "start_time": "2024-11-30T22:18:34.979120Z"
    }
   },
   "source": [
    "import polars as pl\n",
    "import geopandas as gpd\n",
    "import matplotlib.pyplot as plt\n",
    "from shapely.geometry import Point"
   ],
   "outputs": [],
   "execution_count": 17
  },
  {
   "metadata": {
    "ExecuteTime": {
     "end_time": "2024-11-30T22:12:34.707370Z",
     "start_time": "2024-11-30T22:12:34.703980Z"
    }
   },
   "cell_type": "code",
   "source": "data_path = r\"C:\\Users\\Zygim\\Downloads\\archive (8)\\CV_LatLon_21Jan_12Mar.csv\"",
   "id": "dd534cc3f7856cb8",
   "outputs": [],
   "execution_count": 2
  },
  {
   "metadata": {
    "ExecuteTime": {
     "end_time": "2024-11-30T22:12:50.470966Z",
     "start_time": "2024-11-30T22:12:50.467864Z"
    }
   },
   "cell_type": "code",
   "source": "df_lazy = pl.scan_csv(data_path).lazy()",
   "id": "5e9bb6aa96f915dc",
   "outputs": [],
   "execution_count": 3
  },
  {
   "metadata": {
    "ExecuteTime": {
     "end_time": "2024-11-30T22:13:05.420088Z",
     "start_time": "2024-11-30T22:13:05.403216Z"
    }
   },
   "cell_type": "code",
   "source": "df = df_lazy.collect()",
   "id": "93f5b8553b608b12",
   "outputs": [],
   "execution_count": 4
  },
  {
   "metadata": {
    "ExecuteTime": {
     "end_time": "2024-11-30T22:13:27.482371Z",
     "start_time": "2024-11-30T22:13:27.478053Z"
    }
   },
   "cell_type": "code",
   "source": "df.null_count()",
   "id": "7d0abf0e166e0abc",
   "outputs": [
    {
     "data": {
      "text/plain": [
       "shape: (1, 9)\n",
       "┌─────┬───────┬─────────┬─────┬───┬──────┬───────────┬───────────┬───────┐\n",
       "│     ┆ state ┆ country ┆ lat ┆ … ┆ date ┆ confirmed ┆ recovered ┆ death │\n",
       "│ --- ┆ ---   ┆ ---     ┆ --- ┆   ┆ ---  ┆ ---       ┆ ---       ┆ ---   │\n",
       "│ u32 ┆ u32   ┆ u32     ┆ u32 ┆   ┆ u32  ┆ u32       ┆ u32       ┆ u32   │\n",
       "╞═════╪═══════╪═════════╪═════╪═══╪══════╪═══════════╪═══════════╪═══════╡\n",
       "│ 0   ┆ 0     ┆ 0       ┆ 0   ┆ … ┆ 0    ┆ 0         ┆ 0         ┆ 0     │\n",
       "└─────┴───────┴─────────┴─────┴───┴──────┴───────────┴───────────┴───────┘"
      ],
      "text/html": [
       "<div><style>\n",
       ".dataframe > thead > tr,\n",
       ".dataframe > tbody > tr {\n",
       "  text-align: right;\n",
       "  white-space: pre-wrap;\n",
       "}\n",
       "</style>\n",
       "<small>shape: (1, 9)</small><table border=\"1\" class=\"dataframe\"><thead><tr><th></th><th>state</th><th>country</th><th>lat</th><th>lon</th><th>date</th><th>confirmed</th><th>recovered</th><th>death</th></tr><tr><td>u32</td><td>u32</td><td>u32</td><td>u32</td><td>u32</td><td>u32</td><td>u32</td><td>u32</td><td>u32</td></tr></thead><tbody><tr><td>0</td><td>0</td><td>0</td><td>0</td><td>0</td><td>0</td><td>0</td><td>0</td><td>0</td></tr></tbody></table></div>"
      ]
     },
     "execution_count": 6,
     "metadata": {},
     "output_type": "execute_result"
    }
   ],
   "execution_count": 6
  },
  {
   "metadata": {
    "ExecuteTime": {
     "end_time": "2024-11-30T22:13:31.064180Z",
     "start_time": "2024-11-30T22:13:31.058412Z"
    }
   },
   "cell_type": "code",
   "source": "df",
   "id": "5f5646b0b1984fc",
   "outputs": [
    {
     "data": {
      "text/plain": [
       "shape: (20_706, 9)\n",
       "┌───────┬────────────────┬───────────┬─────────┬───┬─────────┬───────────┬───────────┬───────┐\n",
       "│       ┆ state          ┆ country   ┆ lat     ┆ … ┆ date    ┆ confirmed ┆ recovered ┆ death │\n",
       "│ ---   ┆ ---            ┆ ---       ┆ ---     ┆   ┆ ---     ┆ ---       ┆ ---       ┆ ---   │\n",
       "│ i64   ┆ str            ┆ str       ┆ f64     ┆   ┆ str     ┆ i64       ┆ i64       ┆ i64   │\n",
       "╞═══════╪════════════════╪═══════════╪═════════╪═══╪═════════╪═══════════╪═══════════╪═══════╡\n",
       "│ 0     ┆ 0              ┆ Thailand  ┆ 15.0    ┆ … ┆ 1/22/20 ┆ 2         ┆ 0         ┆ 0     │\n",
       "│ 1     ┆ 0              ┆ Japan     ┆ 36.0    ┆ … ┆ 1/22/20 ┆ 2         ┆ 0         ┆ 0     │\n",
       "│ 2     ┆ 0              ┆ Singapore ┆ 1.2833  ┆ … ┆ 1/22/20 ┆ 0         ┆ 0         ┆ 0     │\n",
       "│ 3     ┆ 0              ┆ Nepal     ┆ 28.1667 ┆ … ┆ 1/22/20 ┆ 0         ┆ 0         ┆ 0     │\n",
       "│ 4     ┆ 0              ┆ Malaysia  ┆ 2.5     ┆ … ┆ 1/22/20 ┆ 0         ┆ 0         ┆ 0     │\n",
       "│ …     ┆ …              ┆ …         ┆ …       ┆ … ┆ …       ┆ …         ┆ …         ┆ …     │\n",
       "│ 20701 ┆ Oakland, MI    ┆ US        ┆ 42.5922 ┆ … ┆ 3/12/20 ┆ 0         ┆ 0         ┆ 0     │\n",
       "│ 20702 ┆ Wayne, MI      ┆ US        ┆ 42.2791 ┆ … ┆ 3/12/20 ┆ 0         ┆ 0         ┆ 0     │\n",
       "│ 20703 ┆ New Castle, DE ┆ US        ┆ 39.5393 ┆ … ┆ 3/12/20 ┆ 0         ┆ 0         ┆ 0     │\n",
       "│ 20704 ┆ 0              ┆ Cuba      ┆ 22.0    ┆ … ┆ 3/12/20 ┆ 3         ┆ 0         ┆ 0     │\n",
       "│ 20705 ┆ 0              ┆ Guyana    ┆ 5.0     ┆ … ┆ 3/12/20 ┆ 1         ┆ 0         ┆ 1     │\n",
       "└───────┴────────────────┴───────────┴─────────┴───┴─────────┴───────────┴───────────┴───────┘"
      ],
      "text/html": [
       "<div><style>\n",
       ".dataframe > thead > tr,\n",
       ".dataframe > tbody > tr {\n",
       "  text-align: right;\n",
       "  white-space: pre-wrap;\n",
       "}\n",
       "</style>\n",
       "<small>shape: (20_706, 9)</small><table border=\"1\" class=\"dataframe\"><thead><tr><th></th><th>state</th><th>country</th><th>lat</th><th>lon</th><th>date</th><th>confirmed</th><th>recovered</th><th>death</th></tr><tr><td>i64</td><td>str</td><td>str</td><td>f64</td><td>f64</td><td>str</td><td>i64</td><td>i64</td><td>i64</td></tr></thead><tbody><tr><td>0</td><td>&quot;0&quot;</td><td>&quot;Thailand&quot;</td><td>15.0</td><td>101.0</td><td>&quot;1/22/20&quot;</td><td>2</td><td>0</td><td>0</td></tr><tr><td>1</td><td>&quot;0&quot;</td><td>&quot;Japan&quot;</td><td>36.0</td><td>138.0</td><td>&quot;1/22/20&quot;</td><td>2</td><td>0</td><td>0</td></tr><tr><td>2</td><td>&quot;0&quot;</td><td>&quot;Singapore&quot;</td><td>1.2833</td><td>103.8333</td><td>&quot;1/22/20&quot;</td><td>0</td><td>0</td><td>0</td></tr><tr><td>3</td><td>&quot;0&quot;</td><td>&quot;Nepal&quot;</td><td>28.1667</td><td>84.25</td><td>&quot;1/22/20&quot;</td><td>0</td><td>0</td><td>0</td></tr><tr><td>4</td><td>&quot;0&quot;</td><td>&quot;Malaysia&quot;</td><td>2.5</td><td>112.5</td><td>&quot;1/22/20&quot;</td><td>0</td><td>0</td><td>0</td></tr><tr><td>&hellip;</td><td>&hellip;</td><td>&hellip;</td><td>&hellip;</td><td>&hellip;</td><td>&hellip;</td><td>&hellip;</td><td>&hellip;</td><td>&hellip;</td></tr><tr><td>20701</td><td>&quot;Oakland, MI&quot;</td><td>&quot;US&quot;</td><td>42.5922</td><td>-83.3362</td><td>&quot;3/12/20&quot;</td><td>0</td><td>0</td><td>0</td></tr><tr><td>20702</td><td>&quot;Wayne, MI&quot;</td><td>&quot;US&quot;</td><td>42.2791</td><td>-83.3362</td><td>&quot;3/12/20&quot;</td><td>0</td><td>0</td><td>0</td></tr><tr><td>20703</td><td>&quot;New Castle, DE&quot;</td><td>&quot;US&quot;</td><td>39.5393</td><td>-75.6674</td><td>&quot;3/12/20&quot;</td><td>0</td><td>0</td><td>0</td></tr><tr><td>20704</td><td>&quot;0&quot;</td><td>&quot;Cuba&quot;</td><td>22.0</td><td>-80.0</td><td>&quot;3/12/20&quot;</td><td>3</td><td>0</td><td>0</td></tr><tr><td>20705</td><td>&quot;0&quot;</td><td>&quot;Guyana&quot;</td><td>5.0</td><td>-58.75</td><td>&quot;3/12/20&quot;</td><td>1</td><td>0</td><td>1</td></tr></tbody></table></div>"
      ]
     },
     "execution_count": 7,
     "metadata": {},
     "output_type": "execute_result"
    }
   ],
   "execution_count": 7
  },
  {
   "metadata": {
    "ExecuteTime": {
     "end_time": "2024-11-30T22:25:08.044557Z",
     "start_time": "2024-11-30T22:25:08.012151Z"
    }
   },
   "cell_type": "code",
   "source": [
    "df = df.with_columns(\n",
    "    pl.col('date').str.strptime(pl.Date, format='%m/%d/%y').alias('date')\n",
    ")"
   ],
   "id": "c406cc0e72df705c",
   "outputs": [
    {
     "ename": "SchemaError",
     "evalue": "invalid series dtype: expected `String`, got `date`",
     "output_type": "error",
     "traceback": [
      "\u001B[1;31m---------------------------------------------------------------------------\u001B[0m",
      "\u001B[1;31mSchemaError\u001B[0m                               Traceback (most recent call last)",
      "Cell \u001B[1;32mIn[22], line 1\u001B[0m\n\u001B[1;32m----> 1\u001B[0m df \u001B[38;5;241m=\u001B[39m df\u001B[38;5;241m.\u001B[39mwith_columns(\n\u001B[0;32m      2\u001B[0m     pl\u001B[38;5;241m.\u001B[39mcol(\u001B[38;5;124m'\u001B[39m\u001B[38;5;124mdate\u001B[39m\u001B[38;5;124m'\u001B[39m)\u001B[38;5;241m.\u001B[39mstr\u001B[38;5;241m.\u001B[39mstrptime(pl\u001B[38;5;241m.\u001B[39mDate, \u001B[38;5;28mformat\u001B[39m\u001B[38;5;241m=\u001B[39m\u001B[38;5;124m'\u001B[39m\u001B[38;5;124m%\u001B[39m\u001B[38;5;124mm/\u001B[39m\u001B[38;5;132;01m%d\u001B[39;00m\u001B[38;5;124m/\u001B[39m\u001B[38;5;124m%\u001B[39m\u001B[38;5;124my\u001B[39m\u001B[38;5;124m'\u001B[39m)\u001B[38;5;241m.\u001B[39malias(\u001B[38;5;124m'\u001B[39m\u001B[38;5;124mdate\u001B[39m\u001B[38;5;124m'\u001B[39m)\n\u001B[0;32m      3\u001B[0m )\n",
      "File \u001B[1;32m~\\anaconda3\\envs\\Analytic\\Lib\\site-packages\\polars\\dataframe\\frame.py:9194\u001B[0m, in \u001B[0;36mDataFrame.with_columns\u001B[1;34m(self, *exprs, **named_exprs)\u001B[0m\n\u001B[0;32m   9048\u001B[0m \u001B[38;5;28;01mdef\u001B[39;00m \u001B[38;5;21mwith_columns\u001B[39m(\n\u001B[0;32m   9049\u001B[0m     \u001B[38;5;28mself\u001B[39m,\n\u001B[0;32m   9050\u001B[0m     \u001B[38;5;241m*\u001B[39mexprs: IntoExpr \u001B[38;5;241m|\u001B[39m Iterable[IntoExpr],\n\u001B[0;32m   9051\u001B[0m     \u001B[38;5;241m*\u001B[39m\u001B[38;5;241m*\u001B[39mnamed_exprs: IntoExpr,\n\u001B[0;32m   9052\u001B[0m ) \u001B[38;5;241m-\u001B[39m\u001B[38;5;241m>\u001B[39m DataFrame:\n\u001B[0;32m   9053\u001B[0m \u001B[38;5;250m    \u001B[39m\u001B[38;5;124;03m\"\"\"\u001B[39;00m\n\u001B[0;32m   9054\u001B[0m \u001B[38;5;124;03m    Add columns to this DataFrame.\u001B[39;00m\n\u001B[0;32m   9055\u001B[0m \n\u001B[1;32m   (...)\u001B[0m\n\u001B[0;32m   9192\u001B[0m \u001B[38;5;124;03m    └─────┴──────┴─────────────┘\u001B[39;00m\n\u001B[0;32m   9193\u001B[0m \u001B[38;5;124;03m    \"\"\"\u001B[39;00m\n\u001B[1;32m-> 9194\u001B[0m     \u001B[38;5;28;01mreturn\u001B[39;00m \u001B[38;5;28mself\u001B[39m\u001B[38;5;241m.\u001B[39mlazy()\u001B[38;5;241m.\u001B[39mwith_columns(\u001B[38;5;241m*\u001B[39mexprs, \u001B[38;5;241m*\u001B[39m\u001B[38;5;241m*\u001B[39mnamed_exprs)\u001B[38;5;241m.\u001B[39mcollect(_eager\u001B[38;5;241m=\u001B[39m\u001B[38;5;28;01mTrue\u001B[39;00m)\n",
      "File \u001B[1;32m~\\anaconda3\\envs\\Analytic\\Lib\\site-packages\\polars\\lazyframe\\frame.py:2055\u001B[0m, in \u001B[0;36mLazyFrame.collect\u001B[1;34m(self, type_coercion, predicate_pushdown, projection_pushdown, simplify_expression, slice_pushdown, comm_subplan_elim, comm_subexpr_elim, cluster_with_columns, collapse_joins, no_optimization, streaming, engine, background, _eager, **_kwargs)\u001B[0m\n\u001B[0;32m   2053\u001B[0m \u001B[38;5;66;03m# Only for testing purposes\u001B[39;00m\n\u001B[0;32m   2054\u001B[0m callback \u001B[38;5;241m=\u001B[39m _kwargs\u001B[38;5;241m.\u001B[39mget(\u001B[38;5;124m\"\u001B[39m\u001B[38;5;124mpost_opt_callback\u001B[39m\u001B[38;5;124m\"\u001B[39m, callback)\n\u001B[1;32m-> 2055\u001B[0m \u001B[38;5;28;01mreturn\u001B[39;00m wrap_df(ldf\u001B[38;5;241m.\u001B[39mcollect(callback))\n",
      "\u001B[1;31mSchemaError\u001B[0m: invalid series dtype: expected `String`, got `date`"
     ]
    }
   ],
   "execution_count": 22
  },
  {
   "metadata": {
    "ExecuteTime": {
     "end_time": "2024-11-30T22:25:14.299031Z",
     "start_time": "2024-11-30T22:25:14.283789Z"
    }
   },
   "cell_type": "code",
   "source": [
    "gdf = gpd.GeoDataFrame(\n",
    "    df, geometry=gpd.points_from_xy(df['lon'], df['lat'])\n",
    ")"
   ],
   "id": "4dcebf0219ba6ea4",
   "outputs": [],
   "execution_count": 24
  },
  {
   "metadata": {
    "ExecuteTime": {
     "end_time": "2024-11-30T22:25:14.762924Z",
     "start_time": "2024-11-30T22:25:14.736356Z"
    }
   },
   "cell_type": "code",
   "source": "world = gpd.read_file(gpd.datasets.get_path('naturalearth_lowres'))",
   "id": "9f0f37c490d42a48",
   "outputs": [
    {
     "name": "stderr",
     "output_type": "stream",
     "text": [
      "C:\\Users\\Zygim\\AppData\\Local\\Temp\\ipykernel_1228\\601121909.py:1: FutureWarning: The geopandas.dataset module is deprecated and will be removed in GeoPandas 1.0. You can get the original 'naturalearth_lowres' data from https://www.naturalearthdata.com/downloads/110m-cultural-vectors/.\n",
      "  world = gpd.read_file(gpd.datasets.get_path('naturalearth_lowres'))\n"
     ]
    },
    {
     "ename": "ImportError",
     "evalue": "The 'read_file' function requires the 'pyogrio' or 'fiona' package, but neither is installed or imports correctly.\nImporting fiona resulted in: DLL load failed while importing _env: The specified procedure could not be found.\nImporting pyogrio resulted in: No module named 'pyogrio'",
     "output_type": "error",
     "traceback": [
      "\u001B[1;31m---------------------------------------------------------------------------\u001B[0m",
      "\u001B[1;31mImportError\u001B[0m                               Traceback (most recent call last)",
      "Cell \u001B[1;32mIn[25], line 1\u001B[0m\n\u001B[1;32m----> 1\u001B[0m world \u001B[38;5;241m=\u001B[39m gpd\u001B[38;5;241m.\u001B[39mread_file(gpd\u001B[38;5;241m.\u001B[39mdatasets\u001B[38;5;241m.\u001B[39mget_path(\u001B[38;5;124m'\u001B[39m\u001B[38;5;124mnaturalearth_lowres\u001B[39m\u001B[38;5;124m'\u001B[39m))\n",
      "File \u001B[1;32m~\\anaconda3\\envs\\Analytic\\Lib\\site-packages\\geopandas\\io\\file.py:263\u001B[0m, in \u001B[0;36m_read_file\u001B[1;34m(filename, bbox, mask, rows, engine, **kwargs)\u001B[0m\n\u001B[0;32m    173\u001B[0m \u001B[38;5;28;01mdef\u001B[39;00m \u001B[38;5;21m_read_file\u001B[39m(filename, bbox\u001B[38;5;241m=\u001B[39m\u001B[38;5;28;01mNone\u001B[39;00m, mask\u001B[38;5;241m=\u001B[39m\u001B[38;5;28;01mNone\u001B[39;00m, rows\u001B[38;5;241m=\u001B[39m\u001B[38;5;28;01mNone\u001B[39;00m, engine\u001B[38;5;241m=\u001B[39m\u001B[38;5;28;01mNone\u001B[39;00m, \u001B[38;5;241m*\u001B[39m\u001B[38;5;241m*\u001B[39mkwargs):\n\u001B[0;32m    174\u001B[0m \u001B[38;5;250m    \u001B[39m\u001B[38;5;124;03m\"\"\"\u001B[39;00m\n\u001B[0;32m    175\u001B[0m \u001B[38;5;124;03m    Returns a GeoDataFrame from a file or URL.\u001B[39;00m\n\u001B[0;32m    176\u001B[0m \n\u001B[1;32m   (...)\u001B[0m\n\u001B[0;32m    261\u001B[0m \n\u001B[0;32m    262\u001B[0m \u001B[38;5;124;03m    \"\"\"\u001B[39;00m\n\u001B[1;32m--> 263\u001B[0m     engine \u001B[38;5;241m=\u001B[39m _check_engine(engine, \u001B[38;5;124m\"\u001B[39m\u001B[38;5;124m'\u001B[39m\u001B[38;5;124mread_file\u001B[39m\u001B[38;5;124m'\u001B[39m\u001B[38;5;124m function\u001B[39m\u001B[38;5;124m\"\u001B[39m)\n\u001B[0;32m    265\u001B[0m     filename \u001B[38;5;241m=\u001B[39m _expand_user(filename)\n\u001B[0;32m    267\u001B[0m     from_bytes \u001B[38;5;241m=\u001B[39m \u001B[38;5;28;01mFalse\u001B[39;00m\n",
      "File \u001B[1;32m~\\anaconda3\\envs\\Analytic\\Lib\\site-packages\\geopandas\\io\\file.py:122\u001B[0m, in \u001B[0;36m_check_engine\u001B[1;34m(engine, func)\u001B[0m\n\u001B[0;32m    120\u001B[0m     _check_pyogrio(func)\n\u001B[0;32m    121\u001B[0m \u001B[38;5;28;01melif\u001B[39;00m engine \u001B[38;5;129;01mis\u001B[39;00m \u001B[38;5;28;01mNone\u001B[39;00m:\n\u001B[1;32m--> 122\u001B[0m     \u001B[38;5;28;01mraise\u001B[39;00m \u001B[38;5;167;01mImportError\u001B[39;00m(\n\u001B[0;32m    123\u001B[0m         \u001B[38;5;124mf\u001B[39m\u001B[38;5;124m\"\u001B[39m\u001B[38;5;124mThe \u001B[39m\u001B[38;5;132;01m{\u001B[39;00mfunc\u001B[38;5;132;01m}\u001B[39;00m\u001B[38;5;124m requires the \u001B[39m\u001B[38;5;124m'\u001B[39m\u001B[38;5;124mpyogrio\u001B[39m\u001B[38;5;124m'\u001B[39m\u001B[38;5;124m or \u001B[39m\u001B[38;5;124m'\u001B[39m\u001B[38;5;124mfiona\u001B[39m\u001B[38;5;124m'\u001B[39m\u001B[38;5;124m package, \u001B[39m\u001B[38;5;124m\"\u001B[39m\n\u001B[0;32m    124\u001B[0m         \u001B[38;5;124m\"\u001B[39m\u001B[38;5;124mbut neither is installed or imports correctly.\u001B[39m\u001B[38;5;124m\"\u001B[39m\n\u001B[0;32m    125\u001B[0m         \u001B[38;5;124mf\u001B[39m\u001B[38;5;124m\"\u001B[39m\u001B[38;5;130;01m\\n\u001B[39;00m\u001B[38;5;124mImporting fiona resulted in: \u001B[39m\u001B[38;5;132;01m{\u001B[39;00mfiona_import_error\u001B[38;5;132;01m}\u001B[39;00m\u001B[38;5;124m\"\u001B[39m\n\u001B[0;32m    126\u001B[0m         \u001B[38;5;124mf\u001B[39m\u001B[38;5;124m\"\u001B[39m\u001B[38;5;130;01m\\n\u001B[39;00m\u001B[38;5;124mImporting pyogrio resulted in: \u001B[39m\u001B[38;5;132;01m{\u001B[39;00mpyogrio_import_error\u001B[38;5;132;01m}\u001B[39;00m\u001B[38;5;124m\"\u001B[39m\n\u001B[0;32m    127\u001B[0m     )\n\u001B[0;32m    129\u001B[0m \u001B[38;5;28;01mreturn\u001B[39;00m engine\n",
      "\u001B[1;31mImportError\u001B[0m: The 'read_file' function requires the 'pyogrio' or 'fiona' package, but neither is installed or imports correctly.\nImporting fiona resulted in: DLL load failed while importing _env: The specified procedure could not be found.\nImporting pyogrio resulted in: No module named 'pyogrio'"
     ]
    }
   ],
   "execution_count": 25
  },
  {
   "metadata": {},
   "cell_type": "code",
   "outputs": [],
   "execution_count": null,
   "source": "",
   "id": "87f0174a2aa7e5fd"
  }
 ],
 "metadata": {
  "kernelspec": {
   "display_name": "Python 3",
   "language": "python",
   "name": "python3"
  },
  "language_info": {
   "codemirror_mode": {
    "name": "ipython",
    "version": 2
   },
   "file_extension": ".py",
   "mimetype": "text/x-python",
   "name": "python",
   "nbconvert_exporter": "python",
   "pygments_lexer": "ipython2",
   "version": "2.7.6"
  }
 },
 "nbformat": 4,
 "nbformat_minor": 5
}
