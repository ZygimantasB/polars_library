{
 "cells": [
  {
   "cell_type": "code",
   "id": "initial_id",
   "metadata": {
    "collapsed": true,
    "ExecuteTime": {
     "end_time": "2025-10-02T10:20:23.327678Z",
     "start_time": "2025-10-02T10:20:20.192696Z"
    }
   },
   "source": [
    "import polars as pl\n",
    "import polars.selectors as cs\n",
    "\n",
    "import altair as alt\n",
    "import plotly.express as px\n",
    "import seaborn as sns\n",
    "import matplotlib.pyplot as plt\n",
    "\n",
    "import datetime as dt"
   ],
   "outputs": [],
   "execution_count": 1
  },
  {
   "metadata": {
    "ExecuteTime": {
     "end_time": "2025-10-02T10:20:23.340434Z",
     "start_time": "2025-10-02T10:20:23.336386Z"
    }
   },
   "cell_type": "code",
   "source": "df_path = r\"C:\\Users\\v034\\Downloads\\Human-AI Interaction.csv\"",
   "id": "63e2a4e6430bebc",
   "outputs": [],
   "execution_count": 2
  },
  {
   "metadata": {
    "ExecuteTime": {
     "end_time": "2025-10-02T10:20:23.389064Z",
     "start_time": "2025-10-02T10:20:23.344347Z"
    }
   },
   "cell_type": "code",
   "source": "df = pl.read_csv(df_path)",
   "id": "e91421a6db1e224",
   "outputs": [],
   "execution_count": 3
  },
  {
   "metadata": {
    "ExecuteTime": {
     "end_time": "2025-10-02T10:20:23.402600Z",
     "start_time": "2025-10-02T10:20:23.396589Z"
    }
   },
   "cell_type": "code",
   "source": "df.shape",
   "id": "8a54f53dab54b09",
   "outputs": [
    {
     "data": {
      "text/plain": [
       "(10100, 21)"
      ]
     },
     "execution_count": 4,
     "metadata": {},
     "output_type": "execute_result"
    }
   ],
   "execution_count": 4
  },
  {
   "metadata": {
    "ExecuteTime": {
     "end_time": "2025-10-02T10:20:23.419824Z",
     "start_time": "2025-10-02T10:20:23.413823Z"
    }
   },
   "cell_type": "code",
   "source": "df.collect_schema()",
   "id": "feed3128fb205c50",
   "outputs": [
    {
     "data": {
      "text/plain": [
       "Schema([('age', Float64),\n",
       "        ('education_level', String),\n",
       "        ('technical_experience', Float64),\n",
       "        ('cognitive_load', Float64),\n",
       "        ('prior_ai_exposure', String),\n",
       "        ('model_accuracy', Float64),\n",
       "        ('explainability_score', Float64),\n",
       "        ('bias_level', Float64),\n",
       "        ('decision_latency', Float64),\n",
       "        ('error_rate', Float64),\n",
       "        ('interaction_frequency', Float64),\n",
       "        ('ui_complexity', String),\n",
       "        ('feedback_quality', Float64),\n",
       "        ('trust_history', Float64),\n",
       "        ('override_frequency', Float64),\n",
       "        ('task_risk', String),\n",
       "        ('domain', String),\n",
       "        ('time_pressure', Float64),\n",
       "        ('cultural_factor', String),\n",
       "        ('regulatory_strictness', Float64),\n",
       "        ('latent_trust_score', Float64)])"
      ]
     },
     "execution_count": 5,
     "metadata": {},
     "output_type": "execute_result"
    }
   ],
   "execution_count": 5
  },
  {
   "metadata": {
    "ExecuteTime": {
     "end_time": "2025-10-02T10:20:23.442261Z",
     "start_time": "2025-10-02T10:20:23.432070Z"
    }
   },
   "cell_type": "code",
   "source": "df.null_count()",
   "id": "809f3deff7bcdad4",
   "outputs": [
    {
     "data": {
      "text/plain": [
       "shape: (1, 21)\n",
       "┌─────┬────────────┬────────────┬────────────┬───┬────────────┬────────────┬───────────┬───────────┐\n",
       "│ age ┆ education_ ┆ technical_ ┆ cognitive_ ┆ … ┆ time_press ┆ cultural_f ┆ regulator ┆ latent_tr │\n",
       "│ --- ┆ level      ┆ experience ┆ load       ┆   ┆ ure        ┆ actor      ┆ y_strictn ┆ ust_score │\n",
       "│ u32 ┆ ---        ┆ ---        ┆ ---        ┆   ┆ ---        ┆ ---        ┆ ess       ┆ ---       │\n",
       "│     ┆ u32        ┆ u32        ┆ u32        ┆   ┆ u32        ┆ u32        ┆ ---       ┆ u32       │\n",
       "│     ┆            ┆            ┆            ┆   ┆            ┆            ┆ u32       ┆           │\n",
       "╞═════╪════════════╪════════════╪════════════╪═══╪════════════╪════════════╪═══════════╪═══════════╡\n",
       "│ 203 ┆ 203        ┆ 201        ┆ 203        ┆ … ┆ 201        ┆ 204        ┆ 202       ┆ 201       │\n",
       "└─────┴────────────┴────────────┴────────────┴───┴────────────┴────────────┴───────────┴───────────┘"
      ],
      "text/html": [
       "<div><style>\n",
       ".dataframe > thead > tr,\n",
       ".dataframe > tbody > tr {\n",
       "  text-align: right;\n",
       "  white-space: pre-wrap;\n",
       "}\n",
       "</style>\n",
       "<small>shape: (1, 21)</small><table border=\"1\" class=\"dataframe\"><thead><tr><th>age</th><th>education_level</th><th>technical_experience</th><th>cognitive_load</th><th>prior_ai_exposure</th><th>model_accuracy</th><th>explainability_score</th><th>bias_level</th><th>decision_latency</th><th>error_rate</th><th>interaction_frequency</th><th>ui_complexity</th><th>feedback_quality</th><th>trust_history</th><th>override_frequency</th><th>task_risk</th><th>domain</th><th>time_pressure</th><th>cultural_factor</th><th>regulatory_strictness</th><th>latent_trust_score</th></tr><tr><td>u32</td><td>u32</td><td>u32</td><td>u32</td><td>u32</td><td>u32</td><td>u32</td><td>u32</td><td>u32</td><td>u32</td><td>u32</td><td>u32</td><td>u32</td><td>u32</td><td>u32</td><td>u32</td><td>u32</td><td>u32</td><td>u32</td><td>u32</td><td>u32</td></tr></thead><tbody><tr><td>203</td><td>203</td><td>201</td><td>203</td><td>201</td><td>203</td><td>202</td><td>201</td><td>202</td><td>203</td><td>202</td><td>201</td><td>200</td><td>206</td><td>203</td><td>200</td><td>203</td><td>201</td><td>204</td><td>202</td><td>201</td></tr></tbody></table></div>"
      ]
     },
     "execution_count": 6,
     "metadata": {},
     "output_type": "execute_result"
    }
   ],
   "execution_count": 6
  },
  {
   "metadata": {
    "ExecuteTime": {
     "end_time": "2025-10-02T10:20:23.534101Z",
     "start_time": "2025-10-02T10:20:23.491094Z"
    }
   },
   "cell_type": "code",
   "source": "df.describe()",
   "id": "97b84f93f16fd586",
   "outputs": [
    {
     "data": {
      "text/plain": [
       "shape: (9, 22)\n",
       "┌───────────┬───────────┬───────────┬───────────┬───┬───────────┬───────────┬───────────┬──────────┐\n",
       "│ statistic ┆ age       ┆ education ┆ technical ┆ … ┆ time_pres ┆ cultural_ ┆ regulator ┆ latent_t │\n",
       "│ ---       ┆ ---       ┆ _level    ┆ _experien ┆   ┆ sure      ┆ factor    ┆ y_strictn ┆ rust_sco │\n",
       "│ str       ┆ f64       ┆ ---       ┆ ce        ┆   ┆ ---       ┆ ---       ┆ ess       ┆ re       │\n",
       "│           ┆           ┆ str       ┆ ---       ┆   ┆ f64       ┆ str       ┆ ---       ┆ ---      │\n",
       "│           ┆           ┆           ┆ f64       ┆   ┆           ┆           ┆ f64       ┆ f64      │\n",
       "╞═══════════╪═══════════╪═══════════╪═══════════╪═══╪═══════════╪═══════════╪═══════════╪══════════╡\n",
       "│ count     ┆ 9897.0    ┆ 9897      ┆ 9899.0    ┆ … ┆ 9899.0    ┆ 9896      ┆ 9898.0    ┆ 9899.0   │\n",
       "│ null_coun ┆ 203.0     ┆ 203       ┆ 201.0     ┆ … ┆ 201.0     ┆ 204       ┆ 202.0     ┆ 201.0    │\n",
       "│ t         ┆           ┆           ┆           ┆   ┆           ┆           ┆           ┆          │\n",
       "│ mean      ┆ 41.099222 ┆ null      ┆ 10.047682 ┆ … ┆ 0.500935  ┆ null      ┆ 3.034451  ┆ 70.46091 │\n",
       "│           ┆           ┆           ┆           ┆   ┆           ┆           ┆           ┆ 6        │\n",
       "│ std       ┆ 13.467995 ┆ null      ┆ 6.039185  ┆ … ┆ 0.288079  ┆ null      ┆ 1.418823  ┆ 9.1123   │\n",
       "│ min       ┆ 18.0      ┆ Bachelor  ┆ 0.0       ┆ … ┆ 0.000173  ┆ African   ┆ 1.0       ┆ 38.37438 │\n",
       "│           ┆           ┆           ┆           ┆   ┆           ┆           ┆           ┆ 5        │\n",
       "│ 25%       ┆ 30.0      ┆ null      ┆ 5.0       ┆ … ┆ 0.252796  ┆ null      ┆ 2.0       ┆ 64.30326 │\n",
       "│           ┆           ┆           ┆           ┆   ┆           ┆           ┆           ┆ 3        │\n",
       "│ 50%       ┆ 41.0      ┆ null      ┆ 10.0      ┆ … ┆ 0.500596  ┆ null      ┆ 3.0       ┆ 70.48268 │\n",
       "│ 75%       ┆ 53.0      ┆ null      ┆ 15.0      ┆ … ┆ 0.747852  ┆ null      ┆ 4.0       ┆ 76.68553 │\n",
       "│           ┆           ┆           ┆           ┆   ┆           ┆           ┆           ┆ 4        │\n",
       "│ max       ┆ 64.0      ┆ PhD       ┆ 20.0      ┆ … ┆ 0.999666  ┆ Western   ┆ 5.0       ┆ 100.0    │\n",
       "└───────────┴───────────┴───────────┴───────────┴───┴───────────┴───────────┴───────────┴──────────┘"
      ],
      "text/html": [
       "<div><style>\n",
       ".dataframe > thead > tr,\n",
       ".dataframe > tbody > tr {\n",
       "  text-align: right;\n",
       "  white-space: pre-wrap;\n",
       "}\n",
       "</style>\n",
       "<small>shape: (9, 22)</small><table border=\"1\" class=\"dataframe\"><thead><tr><th>statistic</th><th>age</th><th>education_level</th><th>technical_experience</th><th>cognitive_load</th><th>prior_ai_exposure</th><th>model_accuracy</th><th>explainability_score</th><th>bias_level</th><th>decision_latency</th><th>error_rate</th><th>interaction_frequency</th><th>ui_complexity</th><th>feedback_quality</th><th>trust_history</th><th>override_frequency</th><th>task_risk</th><th>domain</th><th>time_pressure</th><th>cultural_factor</th><th>regulatory_strictness</th><th>latent_trust_score</th></tr><tr><td>str</td><td>f64</td><td>str</td><td>f64</td><td>f64</td><td>str</td><td>f64</td><td>f64</td><td>f64</td><td>f64</td><td>f64</td><td>f64</td><td>str</td><td>f64</td><td>f64</td><td>f64</td><td>str</td><td>str</td><td>f64</td><td>str</td><td>f64</td><td>f64</td></tr></thead><tbody><tr><td>&quot;count&quot;</td><td>9897.0</td><td>&quot;9897&quot;</td><td>9899.0</td><td>9897.0</td><td>&quot;9899&quot;</td><td>9897.0</td><td>9898.0</td><td>9899.0</td><td>9898.0</td><td>9897.0</td><td>9898.0</td><td>&quot;9899&quot;</td><td>9900.0</td><td>9894.0</td><td>9897.0</td><td>&quot;9900&quot;</td><td>&quot;9897&quot;</td><td>9899.0</td><td>&quot;9896&quot;</td><td>9898.0</td><td>9899.0</td></tr><tr><td>&quot;null_count&quot;</td><td>203.0</td><td>&quot;203&quot;</td><td>201.0</td><td>203.0</td><td>&quot;201&quot;</td><td>203.0</td><td>202.0</td><td>201.0</td><td>202.0</td><td>203.0</td><td>202.0</td><td>&quot;201&quot;</td><td>200.0</td><td>206.0</td><td>203.0</td><td>&quot;200&quot;</td><td>&quot;203&quot;</td><td>201.0</td><td>&quot;204&quot;</td><td>202.0</td><td>201.0</td></tr><tr><td>&quot;mean&quot;</td><td>41.099222</td><td>null</td><td>10.047682</td><td>0.494519</td><td>null</td><td>0.749498</td><td>0.501119</td><td>0.501651</td><td>2.564679</td><td>0.250435</td><td>24.997373</td><td>null</td><td>0.49863</td><td>0.497308</td><td>9.495302</td><td>null</td><td>null</td><td>0.500935</td><td>null</td><td>3.034451</td><td>70.460916</td></tr><tr><td>&quot;std&quot;</td><td>13.467995</td><td>null</td><td>6.039185</td><td>0.286416</td><td>null</td><td>0.144121</td><td>0.288099</td><td>0.286785</td><td>1.411404</td><td>0.145568</td><td>14.11496</td><td>null</td><td>0.289367</td><td>0.288015</td><td>5.799622</td><td>null</td><td>null</td><td>0.288079</td><td>null</td><td>1.418823</td><td>9.1123</td></tr><tr><td>&quot;min&quot;</td><td>18.0</td><td>&quot;Bachelor&quot;</td><td>0.0</td><td>0.000006</td><td>&quot;High&quot;</td><td>0.500052</td><td>0.000008</td><td>0.000151</td><td>0.100637</td><td>-0.050234</td><td>1.0</td><td>&quot;High&quot;</td><td>0.000243</td><td>0.000016</td><td>0.0</td><td>&quot;High&quot;</td><td>&quot;E-commerce&quot;</td><td>0.000173</td><td>&quot;African&quot;</td><td>1.0</td><td>38.374385</td></tr><tr><td>&quot;25%&quot;</td><td>30.0</td><td>null</td><td>5.0</td><td>0.245752</td><td>null</td><td>0.623962</td><td>0.255976</td><td>0.253441</td><td>1.330744</td><td>0.127036</td><td>13.0</td><td>null</td><td>0.24632</td><td>0.248567</td><td>4.0</td><td>null</td><td>null</td><td>0.252796</td><td>null</td><td>2.0</td><td>64.303263</td></tr><tr><td>&quot;50%&quot;</td><td>41.0</td><td>null</td><td>10.0</td><td>0.496153</td><td>null</td><td>0.75082</td><td>0.497947</td><td>0.502929</td><td>2.595882</td><td>0.250158</td><td>25.0</td><td>null</td><td>0.498147</td><td>0.494322</td><td>9.0</td><td>null</td><td>null</td><td>0.500596</td><td>null</td><td>3.0</td><td>70.48268</td></tr><tr><td>&quot;75%&quot;</td><td>53.0</td><td>null</td><td>15.0</td><td>0.736553</td><td>null</td><td>0.87417</td><td>0.753256</td><td>0.752527</td><td>3.786593</td><td>0.375987</td><td>37.0</td><td>null</td><td>0.750804</td><td>0.742107</td><td>15.0</td><td>null</td><td>null</td><td>0.747852</td><td>null</td><td>4.0</td><td>76.685534</td></tr><tr><td>&quot;max&quot;</td><td>64.0</td><td>&quot;PhD&quot;</td><td>20.0</td><td>0.999789</td><td>&quot;Medium&quot;</td><td>0.999978</td><td>0.99994</td><td>0.999875</td><td>4.999349</td><td>0.545363</td><td>49.0</td><td>&quot;Medium&quot;</td><td>0.999806</td><td>0.999936</td><td>19.0</td><td>&quot;Medium&quot;</td><td>&quot;Transportation&quot;</td><td>0.999666</td><td>&quot;Western&quot;</td><td>5.0</td><td>100.0</td></tr></tbody></table></div>"
      ]
     },
     "execution_count": 7,
     "metadata": {},
     "output_type": "execute_result"
    }
   ],
   "execution_count": 7
  },
  {
   "metadata": {
    "ExecuteTime": {
     "end_time": "2025-10-02T10:20:23.671447Z",
     "start_time": "2025-10-02T10:20:23.652448Z"
    }
   },
   "cell_type": "code",
   "source": [
    "df.filter(\n",
    "    pl.any_horizontal(pl.all().is_not_null())\n",
    ")"
   ],
   "id": "e33a6382c463b274",
   "outputs": [
    {
     "data": {
      "text/plain": [
       "shape: (10_100, 21)\n",
       "┌──────┬────────────┬────────────┬────────────┬───┬────────────┬───────────┬───────────┬───────────┐\n",
       "│ age  ┆ education_ ┆ technical_ ┆ cognitive_ ┆ … ┆ time_press ┆ cultural_ ┆ regulator ┆ latent_tr │\n",
       "│ ---  ┆ level      ┆ experience ┆ load       ┆   ┆ ure        ┆ factor    ┆ y_strictn ┆ ust_score │\n",
       "│ f64  ┆ ---        ┆ ---        ┆ ---        ┆   ┆ ---        ┆ ---       ┆ ess       ┆ ---       │\n",
       "│      ┆ str        ┆ f64        ┆ f64        ┆   ┆ f64        ┆ str       ┆ ---       ┆ f64       │\n",
       "│      ┆            ┆            ┆            ┆   ┆            ┆           ┆ f64       ┆           │\n",
       "╞══════╪════════════╪════════════╪════════════╪═══╪════════════╪═══════════╪═══════════╪═══════════╡\n",
       "│ 23.0 ┆ Bachelor   ┆ 10.0       ┆ 0.165784   ┆ … ┆ 0.296228   ┆ Asian     ┆ 1.0       ┆ 53.997197 │\n",
       "│ 57.0 ┆ Bachelor   ┆ 5.0        ┆ 0.795383   ┆ … ┆ 0.958935   ┆ Western   ┆ 5.0       ┆ 75.3906   │\n",
       "│ 22.0 ┆ Bachelor   ┆ 1.0        ┆ 0.985904   ┆ … ┆ 0.545855   ┆ African   ┆ 3.0       ┆ 76.728664 │\n",
       "│ 18.0 ┆ High       ┆ 9.0        ┆ 0.643739   ┆ … ┆ 0.897044   ┆ African   ┆ 5.0       ┆ 57.634055 │\n",
       "│      ┆ School     ┆            ┆            ┆   ┆            ┆           ┆           ┆           │\n",
       "│ 32.0 ┆ Bachelor   ┆ 9.0        ┆ 0.63922    ┆ … ┆ 0.353964   ┆ Asian     ┆ 4.0       ┆ 73.563222 │\n",
       "│ …    ┆ …          ┆ …          ┆ …          ┆ … ┆ …          ┆ …         ┆ …         ┆ …         │\n",
       "│ 25.0 ┆ Bachelor   ┆ 6.0        ┆ 0.827711   ┆ … ┆ 0.340628   ┆ African   ┆ 4.0       ┆ 59.18295  │\n",
       "│ 21.0 ┆ High       ┆ null       ┆ 0.351689   ┆ … ┆ 0.467766   ┆ African   ┆ null      ┆ 78.787523 │\n",
       "│      ┆ School     ┆            ┆            ┆   ┆            ┆           ┆           ┆           │\n",
       "│ 38.0 ┆ High       ┆ 4.0        ┆ 0.565928   ┆ … ┆ 0.411051   ┆ Middle    ┆ 4.0       ┆ 90.413516 │\n",
       "│      ┆ School     ┆            ┆            ┆   ┆            ┆ Eastern   ┆           ┆           │\n",
       "│ 52.0 ┆ High       ┆ 0.0        ┆ 0.282797   ┆ … ┆ 0.346971   ┆ Middle    ┆ 4.0       ┆ 61.356735 │\n",
       "│      ┆ School     ┆            ┆            ┆   ┆            ┆ Eastern   ┆           ┆           │\n",
       "│ 39.0 ┆ Bachelor   ┆ 15.0       ┆ 0.255116   ┆ … ┆ 0.093142   ┆ African   ┆ 4.0       ┆ 68.313387 │\n",
       "└──────┴────────────┴────────────┴────────────┴───┴────────────┴───────────┴───────────┴───────────┘"
      ],
      "text/html": [
       "<div><style>\n",
       ".dataframe > thead > tr,\n",
       ".dataframe > tbody > tr {\n",
       "  text-align: right;\n",
       "  white-space: pre-wrap;\n",
       "}\n",
       "</style>\n",
       "<small>shape: (10_100, 21)</small><table border=\"1\" class=\"dataframe\"><thead><tr><th>age</th><th>education_level</th><th>technical_experience</th><th>cognitive_load</th><th>prior_ai_exposure</th><th>model_accuracy</th><th>explainability_score</th><th>bias_level</th><th>decision_latency</th><th>error_rate</th><th>interaction_frequency</th><th>ui_complexity</th><th>feedback_quality</th><th>trust_history</th><th>override_frequency</th><th>task_risk</th><th>domain</th><th>time_pressure</th><th>cultural_factor</th><th>regulatory_strictness</th><th>latent_trust_score</th></tr><tr><td>f64</td><td>str</td><td>f64</td><td>f64</td><td>str</td><td>f64</td><td>f64</td><td>f64</td><td>f64</td><td>f64</td><td>f64</td><td>str</td><td>f64</td><td>f64</td><td>f64</td><td>str</td><td>str</td><td>f64</td><td>str</td><td>f64</td><td>f64</td></tr></thead><tbody><tr><td>23.0</td><td>&quot;Bachelor&quot;</td><td>10.0</td><td>0.165784</td><td>&quot;Low&quot;</td><td>0.751659</td><td>0.849591</td><td>0.997805</td><td>0.177149</td><td>0.24053</td><td>13.0</td><td>&quot;Medium&quot;</td><td>0.153828</td><td>0.098937</td><td>14.0</td><td>&quot;Medium&quot;</td><td>&quot;E-commerce&quot;</td><td>0.296228</td><td>&quot;Asian&quot;</td><td>1.0</td><td>53.997197</td></tr><tr><td>57.0</td><td>&quot;Bachelor&quot;</td><td>5.0</td><td>0.795383</td><td>&quot;High&quot;</td><td>0.942052</td><td>0.678777</td><td>0.608413</td><td>3.232353</td><td>0.06906</td><td>42.0</td><td>&quot;Medium&quot;</td><td>0.703003</td><td>0.945327</td><td>14.0</td><td>&quot;Low&quot;</td><td>&quot;Education&quot;</td><td>0.958935</td><td>&quot;Western&quot;</td><td>5.0</td><td>75.3906</td></tr><tr><td>22.0</td><td>&quot;Bachelor&quot;</td><td>1.0</td><td>0.985904</td><td>&quot;Medium&quot;</td><td>0.62635</td><td>0.741697</td><td>0.238885</td><td>4.591147</td><td>0.371519</td><td>28.0</td><td>&quot;Medium&quot;</td><td>0.949976</td><td>0.679748</td><td>15.0</td><td>&quot;Medium&quot;</td><td>&quot;Transportation&quot;</td><td>0.545855</td><td>&quot;African&quot;</td><td>3.0</td><td>76.728664</td></tr><tr><td>18.0</td><td>&quot;High School&quot;</td><td>9.0</td><td>0.643739</td><td>&quot;Low&quot;</td><td>0.517244</td><td>0.868427</td><td>0.866096</td><td>3.969884</td><td>0.48681</td><td>13.0</td><td>&quot;Medium&quot;</td><td>0.249026</td><td>0.293486</td><td>3.0</td><td>&quot;Low&quot;</td><td>&quot;Finance&quot;</td><td>0.897044</td><td>&quot;African&quot;</td><td>5.0</td><td>57.634055</td></tr><tr><td>32.0</td><td>&quot;Bachelor&quot;</td><td>9.0</td><td>0.63922</td><td>&quot;Medium&quot;</td><td>0.889796</td><td>0.627548</td><td>0.602626</td><td>3.695765</td><td>0.115761</td><td>28.0</td><td>&quot;Low&quot;</td><td>0.090495</td><td>0.148895</td><td>0.0</td><td>&quot;Low&quot;</td><td>&quot;E-commerce&quot;</td><td>0.353964</td><td>&quot;Asian&quot;</td><td>4.0</td><td>73.563222</td></tr><tr><td>&hellip;</td><td>&hellip;</td><td>&hellip;</td><td>&hellip;</td><td>&hellip;</td><td>&hellip;</td><td>&hellip;</td><td>&hellip;</td><td>&hellip;</td><td>&hellip;</td><td>&hellip;</td><td>&hellip;</td><td>&hellip;</td><td>&hellip;</td><td>&hellip;</td><td>&hellip;</td><td>&hellip;</td><td>&hellip;</td><td>&hellip;</td><td>&hellip;</td><td>&hellip;</td></tr><tr><td>25.0</td><td>&quot;Bachelor&quot;</td><td>6.0</td><td>0.827711</td><td>&quot;Medium&quot;</td><td>0.657997</td><td>0.03834</td><td>0.655103</td><td>0.9886</td><td>0.365934</td><td>42.0</td><td>&quot;Medium&quot;</td><td>0.109594</td><td>0.465648</td><td>0.0</td><td>&quot;Low&quot;</td><td>&quot;Education&quot;</td><td>0.340628</td><td>&quot;African&quot;</td><td>4.0</td><td>59.18295</td></tr><tr><td>21.0</td><td>&quot;High School&quot;</td><td>null</td><td>0.351689</td><td>null</td><td>0.565948</td><td>0.925395</td><td>0.944326</td><td>3.262004</td><td>0.425889</td><td>24.0</td><td>&quot;Low&quot;</td><td>0.970961</td><td>0.896502</td><td>null</td><td>&quot;Medium&quot;</td><td>&quot;Finance&quot;</td><td>0.467766</td><td>&quot;African&quot;</td><td>null</td><td>78.787523</td></tr><tr><td>38.0</td><td>&quot;High School&quot;</td><td>4.0</td><td>0.565928</td><td>&quot;Medium&quot;</td><td>0.919599</td><td>0.590821</td><td>0.039283</td><td>4.361366</td><td>0.09135</td><td>26.0</td><td>&quot;Medium&quot;</td><td>0.61082</td><td>0.967233</td><td>19.0</td><td>&quot;Low&quot;</td><td>&quot;Transportation&quot;</td><td>0.411051</td><td>&quot;Middle Eastern&quot;</td><td>4.0</td><td>90.413516</td></tr><tr><td>52.0</td><td>&quot;High School&quot;</td><td>0.0</td><td>0.282797</td><td>&quot;Low&quot;</td><td>0.53281</td><td>0.923106</td><td>0.719535</td><td>3.688612</td><td>0.495185</td><td>39.0</td><td>&quot;Low&quot;</td><td>0.26351</td><td>0.856289</td><td>17.0</td><td>&quot;Low&quot;</td><td>&quot;Finance&quot;</td><td>0.346971</td><td>&quot;Middle Eastern&quot;</td><td>4.0</td><td>61.356735</td></tr><tr><td>39.0</td><td>&quot;Bachelor&quot;</td><td>15.0</td><td>0.255116</td><td>&quot;Medium&quot;</td><td>0.509871</td><td>0.569617</td><td>0.696503</td><td>4.256861</td><td>0.473043</td><td>5.0</td><td>&quot;Medium&quot;</td><td>0.426869</td><td>0.670075</td><td>12.0</td><td>&quot;High&quot;</td><td>&quot;Education&quot;</td><td>0.093142</td><td>&quot;African&quot;</td><td>4.0</td><td>68.313387</td></tr></tbody></table></div>"
      ]
     },
     "execution_count": 8,
     "metadata": {},
     "output_type": "execute_result"
    }
   ],
   "execution_count": 8
  },
  {
   "metadata": {
    "ExecuteTime": {
     "end_time": "2025-10-02T10:20:23.790397Z",
     "start_time": "2025-10-02T10:20:23.772397Z"
    }
   },
   "cell_type": "code",
   "source": [
    "df.filter(\n",
    "    pl.col('regulatory_strictness').is_not_null()\n",
    ")"
   ],
   "id": "7d3a3a67100ff700",
   "outputs": [
    {
     "data": {
      "text/plain": [
       "shape: (9_898, 21)\n",
       "┌──────┬────────────┬────────────┬────────────┬───┬────────────┬───────────┬───────────┬───────────┐\n",
       "│ age  ┆ education_ ┆ technical_ ┆ cognitive_ ┆ … ┆ time_press ┆ cultural_ ┆ regulator ┆ latent_tr │\n",
       "│ ---  ┆ level      ┆ experience ┆ load       ┆   ┆ ure        ┆ factor    ┆ y_strictn ┆ ust_score │\n",
       "│ f64  ┆ ---        ┆ ---        ┆ ---        ┆   ┆ ---        ┆ ---       ┆ ess       ┆ ---       │\n",
       "│      ┆ str        ┆ f64        ┆ f64        ┆   ┆ f64        ┆ str       ┆ ---       ┆ f64       │\n",
       "│      ┆            ┆            ┆            ┆   ┆            ┆           ┆ f64       ┆           │\n",
       "╞══════╪════════════╪════════════╪════════════╪═══╪════════════╪═══════════╪═══════════╪═══════════╡\n",
       "│ 23.0 ┆ Bachelor   ┆ 10.0       ┆ 0.165784   ┆ … ┆ 0.296228   ┆ Asian     ┆ 1.0       ┆ 53.997197 │\n",
       "│ 57.0 ┆ Bachelor   ┆ 5.0        ┆ 0.795383   ┆ … ┆ 0.958935   ┆ Western   ┆ 5.0       ┆ 75.3906   │\n",
       "│ 22.0 ┆ Bachelor   ┆ 1.0        ┆ 0.985904   ┆ … ┆ 0.545855   ┆ African   ┆ 3.0       ┆ 76.728664 │\n",
       "│ 18.0 ┆ High       ┆ 9.0        ┆ 0.643739   ┆ … ┆ 0.897044   ┆ African   ┆ 5.0       ┆ 57.634055 │\n",
       "│      ┆ School     ┆            ┆            ┆   ┆            ┆           ┆           ┆           │\n",
       "│ 32.0 ┆ Bachelor   ┆ 9.0        ┆ 0.63922    ┆ … ┆ 0.353964   ┆ Asian     ┆ 4.0       ┆ 73.563222 │\n",
       "│ …    ┆ …          ┆ …          ┆ …          ┆ … ┆ …          ┆ …         ┆ …         ┆ …         │\n",
       "│ 37.0 ┆ High       ┆ 16.0       ┆ 0.934864   ┆ … ┆ 0.350553   ┆ Western   ┆ 4.0       ┆ 61.857318 │\n",
       "│      ┆ School     ┆            ┆            ┆   ┆            ┆           ┆           ┆           │\n",
       "│ 25.0 ┆ Bachelor   ┆ 6.0        ┆ 0.827711   ┆ … ┆ 0.340628   ┆ African   ┆ 4.0       ┆ 59.18295  │\n",
       "│ 38.0 ┆ High       ┆ 4.0        ┆ 0.565928   ┆ … ┆ 0.411051   ┆ Middle    ┆ 4.0       ┆ 90.413516 │\n",
       "│      ┆ School     ┆            ┆            ┆   ┆            ┆ Eastern   ┆           ┆           │\n",
       "│ 52.0 ┆ High       ┆ 0.0        ┆ 0.282797   ┆ … ┆ 0.346971   ┆ Middle    ┆ 4.0       ┆ 61.356735 │\n",
       "│      ┆ School     ┆            ┆            ┆   ┆            ┆ Eastern   ┆           ┆           │\n",
       "│ 39.0 ┆ Bachelor   ┆ 15.0       ┆ 0.255116   ┆ … ┆ 0.093142   ┆ African   ┆ 4.0       ┆ 68.313387 │\n",
       "└──────┴────────────┴────────────┴────────────┴───┴────────────┴───────────┴───────────┴───────────┘"
      ],
      "text/html": [
       "<div><style>\n",
       ".dataframe > thead > tr,\n",
       ".dataframe > tbody > tr {\n",
       "  text-align: right;\n",
       "  white-space: pre-wrap;\n",
       "}\n",
       "</style>\n",
       "<small>shape: (9_898, 21)</small><table border=\"1\" class=\"dataframe\"><thead><tr><th>age</th><th>education_level</th><th>technical_experience</th><th>cognitive_load</th><th>prior_ai_exposure</th><th>model_accuracy</th><th>explainability_score</th><th>bias_level</th><th>decision_latency</th><th>error_rate</th><th>interaction_frequency</th><th>ui_complexity</th><th>feedback_quality</th><th>trust_history</th><th>override_frequency</th><th>task_risk</th><th>domain</th><th>time_pressure</th><th>cultural_factor</th><th>regulatory_strictness</th><th>latent_trust_score</th></tr><tr><td>f64</td><td>str</td><td>f64</td><td>f64</td><td>str</td><td>f64</td><td>f64</td><td>f64</td><td>f64</td><td>f64</td><td>f64</td><td>str</td><td>f64</td><td>f64</td><td>f64</td><td>str</td><td>str</td><td>f64</td><td>str</td><td>f64</td><td>f64</td></tr></thead><tbody><tr><td>23.0</td><td>&quot;Bachelor&quot;</td><td>10.0</td><td>0.165784</td><td>&quot;Low&quot;</td><td>0.751659</td><td>0.849591</td><td>0.997805</td><td>0.177149</td><td>0.24053</td><td>13.0</td><td>&quot;Medium&quot;</td><td>0.153828</td><td>0.098937</td><td>14.0</td><td>&quot;Medium&quot;</td><td>&quot;E-commerce&quot;</td><td>0.296228</td><td>&quot;Asian&quot;</td><td>1.0</td><td>53.997197</td></tr><tr><td>57.0</td><td>&quot;Bachelor&quot;</td><td>5.0</td><td>0.795383</td><td>&quot;High&quot;</td><td>0.942052</td><td>0.678777</td><td>0.608413</td><td>3.232353</td><td>0.06906</td><td>42.0</td><td>&quot;Medium&quot;</td><td>0.703003</td><td>0.945327</td><td>14.0</td><td>&quot;Low&quot;</td><td>&quot;Education&quot;</td><td>0.958935</td><td>&quot;Western&quot;</td><td>5.0</td><td>75.3906</td></tr><tr><td>22.0</td><td>&quot;Bachelor&quot;</td><td>1.0</td><td>0.985904</td><td>&quot;Medium&quot;</td><td>0.62635</td><td>0.741697</td><td>0.238885</td><td>4.591147</td><td>0.371519</td><td>28.0</td><td>&quot;Medium&quot;</td><td>0.949976</td><td>0.679748</td><td>15.0</td><td>&quot;Medium&quot;</td><td>&quot;Transportation&quot;</td><td>0.545855</td><td>&quot;African&quot;</td><td>3.0</td><td>76.728664</td></tr><tr><td>18.0</td><td>&quot;High School&quot;</td><td>9.0</td><td>0.643739</td><td>&quot;Low&quot;</td><td>0.517244</td><td>0.868427</td><td>0.866096</td><td>3.969884</td><td>0.48681</td><td>13.0</td><td>&quot;Medium&quot;</td><td>0.249026</td><td>0.293486</td><td>3.0</td><td>&quot;Low&quot;</td><td>&quot;Finance&quot;</td><td>0.897044</td><td>&quot;African&quot;</td><td>5.0</td><td>57.634055</td></tr><tr><td>32.0</td><td>&quot;Bachelor&quot;</td><td>9.0</td><td>0.63922</td><td>&quot;Medium&quot;</td><td>0.889796</td><td>0.627548</td><td>0.602626</td><td>3.695765</td><td>0.115761</td><td>28.0</td><td>&quot;Low&quot;</td><td>0.090495</td><td>0.148895</td><td>0.0</td><td>&quot;Low&quot;</td><td>&quot;E-commerce&quot;</td><td>0.353964</td><td>&quot;Asian&quot;</td><td>4.0</td><td>73.563222</td></tr><tr><td>&hellip;</td><td>&hellip;</td><td>&hellip;</td><td>&hellip;</td><td>&hellip;</td><td>&hellip;</td><td>&hellip;</td><td>&hellip;</td><td>&hellip;</td><td>&hellip;</td><td>&hellip;</td><td>&hellip;</td><td>&hellip;</td><td>&hellip;</td><td>&hellip;</td><td>&hellip;</td><td>&hellip;</td><td>&hellip;</td><td>&hellip;</td><td>&hellip;</td><td>&hellip;</td></tr><tr><td>37.0</td><td>&quot;High School&quot;</td><td>16.0</td><td>0.934864</td><td>&quot;High&quot;</td><td>0.707881</td><td>0.040317</td><td>0.751572</td><td>2.199274</td><td>0.325252</td><td>18.0</td><td>&quot;Medium&quot;</td><td>0.735911</td><td>0.487444</td><td>15.0</td><td>null</td><td>&quot;Finance&quot;</td><td>0.350553</td><td>&quot;Western&quot;</td><td>4.0</td><td>61.857318</td></tr><tr><td>25.0</td><td>&quot;Bachelor&quot;</td><td>6.0</td><td>0.827711</td><td>&quot;Medium&quot;</td><td>0.657997</td><td>0.03834</td><td>0.655103</td><td>0.9886</td><td>0.365934</td><td>42.0</td><td>&quot;Medium&quot;</td><td>0.109594</td><td>0.465648</td><td>0.0</td><td>&quot;Low&quot;</td><td>&quot;Education&quot;</td><td>0.340628</td><td>&quot;African&quot;</td><td>4.0</td><td>59.18295</td></tr><tr><td>38.0</td><td>&quot;High School&quot;</td><td>4.0</td><td>0.565928</td><td>&quot;Medium&quot;</td><td>0.919599</td><td>0.590821</td><td>0.039283</td><td>4.361366</td><td>0.09135</td><td>26.0</td><td>&quot;Medium&quot;</td><td>0.61082</td><td>0.967233</td><td>19.0</td><td>&quot;Low&quot;</td><td>&quot;Transportation&quot;</td><td>0.411051</td><td>&quot;Middle Eastern&quot;</td><td>4.0</td><td>90.413516</td></tr><tr><td>52.0</td><td>&quot;High School&quot;</td><td>0.0</td><td>0.282797</td><td>&quot;Low&quot;</td><td>0.53281</td><td>0.923106</td><td>0.719535</td><td>3.688612</td><td>0.495185</td><td>39.0</td><td>&quot;Low&quot;</td><td>0.26351</td><td>0.856289</td><td>17.0</td><td>&quot;Low&quot;</td><td>&quot;Finance&quot;</td><td>0.346971</td><td>&quot;Middle Eastern&quot;</td><td>4.0</td><td>61.356735</td></tr><tr><td>39.0</td><td>&quot;Bachelor&quot;</td><td>15.0</td><td>0.255116</td><td>&quot;Medium&quot;</td><td>0.509871</td><td>0.569617</td><td>0.696503</td><td>4.256861</td><td>0.473043</td><td>5.0</td><td>&quot;Medium&quot;</td><td>0.426869</td><td>0.670075</td><td>12.0</td><td>&quot;High&quot;</td><td>&quot;Education&quot;</td><td>0.093142</td><td>&quot;African&quot;</td><td>4.0</td><td>68.313387</td></tr></tbody></table></div>"
      ]
     },
     "execution_count": 9,
     "metadata": {},
     "output_type": "execute_result"
    }
   ],
   "execution_count": 9
  },
  {
   "metadata": {
    "ExecuteTime": {
     "end_time": "2025-10-02T10:22:16.903289Z",
     "start_time": "2025-10-02T10:22:16.898175Z"
    }
   },
   "cell_type": "code",
   "source": [
    "df.select(\n",
    "    pl.col('prior_ai_exposure').unique()\n",
    ")"
   ],
   "id": "cd85ae92c544435",
   "outputs": [
    {
     "data": {
      "text/plain": [
       "shape: (4, 1)\n",
       "┌───────────────────┐\n",
       "│ prior_ai_exposure │\n",
       "│ ---               │\n",
       "│ str               │\n",
       "╞═══════════════════╡\n",
       "│ null              │\n",
       "│ High              │\n",
       "│ Low               │\n",
       "│ Medium            │\n",
       "└───────────────────┘"
      ],
      "text/html": [
       "<div><style>\n",
       ".dataframe > thead > tr,\n",
       ".dataframe > tbody > tr {\n",
       "  text-align: right;\n",
       "  white-space: pre-wrap;\n",
       "}\n",
       "</style>\n",
       "<small>shape: (4, 1)</small><table border=\"1\" class=\"dataframe\"><thead><tr><th>prior_ai_exposure</th></tr><tr><td>str</td></tr></thead><tbody><tr><td>null</td></tr><tr><td>&quot;High&quot;</td></tr><tr><td>&quot;Low&quot;</td></tr><tr><td>&quot;Medium&quot;</td></tr></tbody></table></div>"
      ]
     },
     "execution_count": 12,
     "metadata": {},
     "output_type": "execute_result"
    }
   ],
   "execution_count": 12
  },
  {
   "metadata": {},
   "cell_type": "code",
   "outputs": [],
   "execution_count": null,
   "source": "",
   "id": "d8cff24a85bd68f9"
  }
 ],
 "metadata": {
  "kernelspec": {
   "display_name": "Python 3",
   "language": "python",
   "name": "python3"
  },
  "language_info": {
   "codemirror_mode": {
    "name": "ipython",
    "version": 2
   },
   "file_extension": ".py",
   "mimetype": "text/x-python",
   "name": "python",
   "nbconvert_exporter": "python",
   "pygments_lexer": "ipython2",
   "version": "2.7.6"
  }
 },
 "nbformat": 4,
 "nbformat_minor": 5
}
