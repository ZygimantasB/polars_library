{
 "cells": [
  {
   "cell_type": "code",
   "id": "initial_id",
   "metadata": {
    "collapsed": true,
    "ExecuteTime": {
     "end_time": "2025-02-23T12:09:43.278405Z",
     "start_time": "2025-02-23T12:09:40.773720Z"
    }
   },
   "source": [
    "import polars as pl\n",
    "import seaborn as sns\n",
    "import matplotlib.pyplot as plt\n",
    "import plotly.express as px\n",
    "import hvplot.polars\n",
    "import altair as alt"
   ],
   "outputs": [
    {
     "data": {
      "text/html": [
       "<script type=\"esms-options\">{\"shimMode\": true}</script><style>*[data-root-id],\n",
       "*[data-root-id] > * {\n",
       "  box-sizing: border-box;\n",
       "  font-family: var(--jp-ui-font-family);\n",
       "  font-size: var(--jp-ui-font-size1);\n",
       "  color: var(--vscode-editor-foreground, var(--jp-ui-font-color1));\n",
       "}\n",
       "\n",
       "/* Override VSCode background color */\n",
       ".cell-output-ipywidget-background:has(\n",
       "    > .cell-output-ipywidget-background > .lm-Widget > *[data-root-id]\n",
       "  ),\n",
       ".cell-output-ipywidget-background:has(> .lm-Widget > *[data-root-id]) {\n",
       "  background-color: transparent !important;\n",
       "}\n",
       "</style>"
      ]
     },
     "metadata": {},
     "output_type": "display_data"
    },
    {
     "data": {
      "application/javascript": "(function(root) {\n  function now() {\n    return new Date();\n  }\n\n  const force = true;\n  const py_version = '3.6.2'.replace('rc', '-rc.').replace('.dev', '-dev.');\n  const reloading = false;\n  const Bokeh = root.Bokeh;\n\n  // Set a timeout for this load but only if we are not already initializing\n  if (typeof (root._bokeh_timeout) === \"undefined\" || (force || !root._bokeh_is_initializing)) {\n    root._bokeh_timeout = Date.now() + 5000;\n    root._bokeh_failed_load = false;\n  }\n\n  function run_callbacks() {\n    try {\n      root._bokeh_onload_callbacks.forEach(function(callback) {\n        if (callback != null)\n          callback();\n      });\n    } finally {\n      delete root._bokeh_onload_callbacks;\n    }\n    console.debug(\"Bokeh: all callbacks have finished\");\n  }\n\n  function load_libs(css_urls, js_urls, js_modules, js_exports, callback) {\n    if (css_urls == null) css_urls = [];\n    if (js_urls == null) js_urls = [];\n    if (js_modules == null) js_modules = [];\n    if (js_exports == null) js_exports = {};\n\n    root._bokeh_onload_callbacks.push(callback);\n\n    if (root._bokeh_is_loading > 0) {\n      // Don't load bokeh if it is still initializing\n      console.debug(\"Bokeh: BokehJS is being loaded, scheduling callback at\", now());\n      return null;\n    } else if (js_urls.length === 0 && js_modules.length === 0 && Object.keys(js_exports).length === 0) {\n      // There is nothing to load\n      run_callbacks();\n      return null;\n    }\n\n    function on_load() {\n      root._bokeh_is_loading--;\n      if (root._bokeh_is_loading === 0) {\n        console.debug(\"Bokeh: all BokehJS libraries/stylesheets loaded\");\n        run_callbacks()\n      }\n    }\n    window._bokeh_on_load = on_load\n\n    function on_error(e) {\n      const src_el = e.srcElement\n      console.error(\"failed to load \" + (src_el.href || src_el.src));\n    }\n\n    const skip = [];\n    if (window.requirejs) {\n      window.requirejs.config({'packages': {}, 'paths': {}, 'shim': {}});\n      root._bokeh_is_loading = css_urls.length + 0;\n    } else {\n      root._bokeh_is_loading = css_urls.length + js_urls.length + js_modules.length + Object.keys(js_exports).length;\n    }\n\n    const existing_stylesheets = []\n    const links = document.getElementsByTagName('link')\n    for (let i = 0; i < links.length; i++) {\n      const link = links[i]\n      if (link.href != null) {\n        existing_stylesheets.push(link.href)\n      }\n    }\n    for (let i = 0; i < css_urls.length; i++) {\n      const url = css_urls[i];\n      const escaped = encodeURI(url)\n      if (existing_stylesheets.indexOf(escaped) !== -1) {\n        on_load()\n        continue;\n      }\n      const element = document.createElement(\"link\");\n      element.onload = on_load;\n      element.onerror = on_error;\n      element.rel = \"stylesheet\";\n      element.type = \"text/css\";\n      element.href = url;\n      console.debug(\"Bokeh: injecting link tag for BokehJS stylesheet: \", url);\n      document.body.appendChild(element);\n    }    var existing_scripts = []\n    const scripts = document.getElementsByTagName('script')\n    for (let i = 0; i < scripts.length; i++) {\n      var script = scripts[i]\n      if (script.src != null) {\n        existing_scripts.push(script.src)\n      }\n    }\n    for (let i = 0; i < js_urls.length; i++) {\n      const url = js_urls[i];\n      const escaped = encodeURI(url)\n      if (skip.indexOf(escaped) !== -1 || existing_scripts.indexOf(escaped) !== -1) {\n        if (!window.requirejs) {\n          on_load();\n        }\n        continue;\n      }\n      const element = document.createElement('script');\n      element.onload = on_load;\n      element.onerror = on_error;\n      element.async = false;\n      element.src = url;\n      console.debug(\"Bokeh: injecting script tag for BokehJS library: \", url);\n      document.head.appendChild(element);\n    }\n    for (let i = 0; i < js_modules.length; i++) {\n      const url = js_modules[i];\n      const escaped = encodeURI(url)\n      if (skip.indexOf(escaped) !== -1 || existing_scripts.indexOf(escaped) !== -1) {\n        if (!window.requirejs) {\n          on_load();\n        }\n        continue;\n      }\n      var element = document.createElement('script');\n      element.onload = on_load;\n      element.onerror = on_error;\n      element.async = false;\n      element.src = url;\n      element.type = \"module\";\n      console.debug(\"Bokeh: injecting script tag for BokehJS library: \", url);\n      document.head.appendChild(element);\n    }\n    for (const name in js_exports) {\n      const url = js_exports[name];\n      const escaped = encodeURI(url)\n      if (skip.indexOf(escaped) >= 0 || root[name] != null) {\n        if (!window.requirejs) {\n          on_load();\n        }\n        continue;\n      }\n      var element = document.createElement('script');\n      element.onerror = on_error;\n      element.async = false;\n      element.type = \"module\";\n      console.debug(\"Bokeh: injecting script tag for BokehJS library: \", url);\n      element.textContent = `\n      import ${name} from \"${url}\"\n      window.${name} = ${name}\n      window._bokeh_on_load()\n      `\n      document.head.appendChild(element);\n    }\n    if (!js_urls.length && !js_modules.length) {\n      on_load()\n    }\n  };\n\n  function inject_raw_css(css) {\n    const element = document.createElement(\"style\");\n    element.appendChild(document.createTextNode(css));\n    document.body.appendChild(element);\n  }\n\n  const js_urls = [\"https://cdn.holoviz.org/panel/1.6.0/dist/bundled/reactiveesm/es-module-shims@^1.10.0/dist/es-module-shims.min.js\", \"https://cdn.bokeh.org/bokeh/release/bokeh-3.6.2.min.js\", \"https://cdn.bokeh.org/bokeh/release/bokeh-gl-3.6.2.min.js\", \"https://cdn.bokeh.org/bokeh/release/bokeh-widgets-3.6.2.min.js\", \"https://cdn.bokeh.org/bokeh/release/bokeh-tables-3.6.2.min.js\", \"https://cdn.holoviz.org/panel/1.6.0/dist/panel.min.js\"];\n  const js_modules = [];\n  const js_exports = {};\n  const css_urls = [];\n  const inline_js = [    function(Bokeh) {\n      Bokeh.set_log_level(\"info\");\n    },\nfunction(Bokeh) {} // ensure no trailing comma for IE\n  ];\n\n  function run_inline_js() {\n    if ((root.Bokeh !== undefined) || (force === true)) {\n      for (let i = 0; i < inline_js.length; i++) {\n        try {\n          inline_js[i].call(root, root.Bokeh);\n        } catch(e) {\n          if (!reloading) {\n            throw e;\n          }\n        }\n      }\n      // Cache old bokeh versions\n      if (Bokeh != undefined && !reloading) {\n        var NewBokeh = root.Bokeh;\n        if (Bokeh.versions === undefined) {\n          Bokeh.versions = new Map();\n        }\n        if (NewBokeh.version !== Bokeh.version) {\n          Bokeh.versions.set(NewBokeh.version, NewBokeh)\n        }\n        root.Bokeh = Bokeh;\n      }\n    } else if (Date.now() < root._bokeh_timeout) {\n      setTimeout(run_inline_js, 100);\n    } else if (!root._bokeh_failed_load) {\n      console.log(\"Bokeh: BokehJS failed to load within specified timeout.\");\n      root._bokeh_failed_load = true;\n    }\n    root._bokeh_is_initializing = false\n  }\n\n  function load_or_wait() {\n    // Implement a backoff loop that tries to ensure we do not load multiple\n    // versions of Bokeh and its dependencies at the same time.\n    // In recent versions we use the root._bokeh_is_initializing flag\n    // to determine whether there is an ongoing attempt to initialize\n    // bokeh, however for backward compatibility we also try to ensure\n    // that we do not start loading a newer (Panel>=1.0 and Bokeh>3) version\n    // before older versions are fully initialized.\n    if (root._bokeh_is_initializing && Date.now() > root._bokeh_timeout) {\n      // If the timeout and bokeh was not successfully loaded we reset\n      // everything and try loading again\n      root._bokeh_timeout = Date.now() + 5000;\n      root._bokeh_is_initializing = false;\n      root._bokeh_onload_callbacks = undefined;\n      root._bokeh_is_loading = 0\n      console.log(\"Bokeh: BokehJS was loaded multiple times but one version failed to initialize.\");\n      load_or_wait();\n    } else if (root._bokeh_is_initializing || (typeof root._bokeh_is_initializing === \"undefined\" && root._bokeh_onload_callbacks !== undefined)) {\n      setTimeout(load_or_wait, 100);\n    } else {\n      root._bokeh_is_initializing = true\n      root._bokeh_onload_callbacks = []\n      const bokeh_loaded = root.Bokeh != null && (root.Bokeh.version === py_version || (root.Bokeh.versions !== undefined && root.Bokeh.versions.has(py_version)));\n      if (!reloading && !bokeh_loaded) {\n        if (root.Bokeh) {\n          root.Bokeh = undefined;\n        }\n        console.debug(\"Bokeh: BokehJS not loaded, scheduling load and callback at\", now());\n      }\n      load_libs(css_urls, js_urls, js_modules, js_exports, function() {\n        console.debug(\"Bokeh: BokehJS plotting callback run at\", now());\n        run_inline_js();\n      });\n    }\n  }\n  // Give older versions of the autoload script a head-start to ensure\n  // they initialize before we start loading newer version.\n  setTimeout(load_or_wait, 100)\n}(window));",
      "application/vnd.holoviews_load.v0+json": "(function(root) {\n  function now() {\n    return new Date();\n  }\n\n  const force = true;\n  const py_version = '3.6.2'.replace('rc', '-rc.').replace('.dev', '-dev.');\n  const reloading = false;\n  const Bokeh = root.Bokeh;\n\n  // Set a timeout for this load but only if we are not already initializing\n  if (typeof (root._bokeh_timeout) === \"undefined\" || (force || !root._bokeh_is_initializing)) {\n    root._bokeh_timeout = Date.now() + 5000;\n    root._bokeh_failed_load = false;\n  }\n\n  function run_callbacks() {\n    try {\n      root._bokeh_onload_callbacks.forEach(function(callback) {\n        if (callback != null)\n          callback();\n      });\n    } finally {\n      delete root._bokeh_onload_callbacks;\n    }\n    console.debug(\"Bokeh: all callbacks have finished\");\n  }\n\n  function load_libs(css_urls, js_urls, js_modules, js_exports, callback) {\n    if (css_urls == null) css_urls = [];\n    if (js_urls == null) js_urls = [];\n    if (js_modules == null) js_modules = [];\n    if (js_exports == null) js_exports = {};\n\n    root._bokeh_onload_callbacks.push(callback);\n\n    if (root._bokeh_is_loading > 0) {\n      // Don't load bokeh if it is still initializing\n      console.debug(\"Bokeh: BokehJS is being loaded, scheduling callback at\", now());\n      return null;\n    } else if (js_urls.length === 0 && js_modules.length === 0 && Object.keys(js_exports).length === 0) {\n      // There is nothing to load\n      run_callbacks();\n      return null;\n    }\n\n    function on_load() {\n      root._bokeh_is_loading--;\n      if (root._bokeh_is_loading === 0) {\n        console.debug(\"Bokeh: all BokehJS libraries/stylesheets loaded\");\n        run_callbacks()\n      }\n    }\n    window._bokeh_on_load = on_load\n\n    function on_error(e) {\n      const src_el = e.srcElement\n      console.error(\"failed to load \" + (src_el.href || src_el.src));\n    }\n\n    const skip = [];\n    if (window.requirejs) {\n      window.requirejs.config({'packages': {}, 'paths': {}, 'shim': {}});\n      root._bokeh_is_loading = css_urls.length + 0;\n    } else {\n      root._bokeh_is_loading = css_urls.length + js_urls.length + js_modules.length + Object.keys(js_exports).length;\n    }\n\n    const existing_stylesheets = []\n    const links = document.getElementsByTagName('link')\n    for (let i = 0; i < links.length; i++) {\n      const link = links[i]\n      if (link.href != null) {\n        existing_stylesheets.push(link.href)\n      }\n    }\n    for (let i = 0; i < css_urls.length; i++) {\n      const url = css_urls[i];\n      const escaped = encodeURI(url)\n      if (existing_stylesheets.indexOf(escaped) !== -1) {\n        on_load()\n        continue;\n      }\n      const element = document.createElement(\"link\");\n      element.onload = on_load;\n      element.onerror = on_error;\n      element.rel = \"stylesheet\";\n      element.type = \"text/css\";\n      element.href = url;\n      console.debug(\"Bokeh: injecting link tag for BokehJS stylesheet: \", url);\n      document.body.appendChild(element);\n    }    var existing_scripts = []\n    const scripts = document.getElementsByTagName('script')\n    for (let i = 0; i < scripts.length; i++) {\n      var script = scripts[i]\n      if (script.src != null) {\n        existing_scripts.push(script.src)\n      }\n    }\n    for (let i = 0; i < js_urls.length; i++) {\n      const url = js_urls[i];\n      const escaped = encodeURI(url)\n      if (skip.indexOf(escaped) !== -1 || existing_scripts.indexOf(escaped) !== -1) {\n        if (!window.requirejs) {\n          on_load();\n        }\n        continue;\n      }\n      const element = document.createElement('script');\n      element.onload = on_load;\n      element.onerror = on_error;\n      element.async = false;\n      element.src = url;\n      console.debug(\"Bokeh: injecting script tag for BokehJS library: \", url);\n      document.head.appendChild(element);\n    }\n    for (let i = 0; i < js_modules.length; i++) {\n      const url = js_modules[i];\n      const escaped = encodeURI(url)\n      if (skip.indexOf(escaped) !== -1 || existing_scripts.indexOf(escaped) !== -1) {\n        if (!window.requirejs) {\n          on_load();\n        }\n        continue;\n      }\n      var element = document.createElement('script');\n      element.onload = on_load;\n      element.onerror = on_error;\n      element.async = false;\n      element.src = url;\n      element.type = \"module\";\n      console.debug(\"Bokeh: injecting script tag for BokehJS library: \", url);\n      document.head.appendChild(element);\n    }\n    for (const name in js_exports) {\n      const url = js_exports[name];\n      const escaped = encodeURI(url)\n      if (skip.indexOf(escaped) >= 0 || root[name] != null) {\n        if (!window.requirejs) {\n          on_load();\n        }\n        continue;\n      }\n      var element = document.createElement('script');\n      element.onerror = on_error;\n      element.async = false;\n      element.type = \"module\";\n      console.debug(\"Bokeh: injecting script tag for BokehJS library: \", url);\n      element.textContent = `\n      import ${name} from \"${url}\"\n      window.${name} = ${name}\n      window._bokeh_on_load()\n      `\n      document.head.appendChild(element);\n    }\n    if (!js_urls.length && !js_modules.length) {\n      on_load()\n    }\n  };\n\n  function inject_raw_css(css) {\n    const element = document.createElement(\"style\");\n    element.appendChild(document.createTextNode(css));\n    document.body.appendChild(element);\n  }\n\n  const js_urls = [\"https://cdn.holoviz.org/panel/1.6.0/dist/bundled/reactiveesm/es-module-shims@^1.10.0/dist/es-module-shims.min.js\", \"https://cdn.bokeh.org/bokeh/release/bokeh-3.6.2.min.js\", \"https://cdn.bokeh.org/bokeh/release/bokeh-gl-3.6.2.min.js\", \"https://cdn.bokeh.org/bokeh/release/bokeh-widgets-3.6.2.min.js\", \"https://cdn.bokeh.org/bokeh/release/bokeh-tables-3.6.2.min.js\", \"https://cdn.holoviz.org/panel/1.6.0/dist/panel.min.js\"];\n  const js_modules = [];\n  const js_exports = {};\n  const css_urls = [];\n  const inline_js = [    function(Bokeh) {\n      Bokeh.set_log_level(\"info\");\n    },\nfunction(Bokeh) {} // ensure no trailing comma for IE\n  ];\n\n  function run_inline_js() {\n    if ((root.Bokeh !== undefined) || (force === true)) {\n      for (let i = 0; i < inline_js.length; i++) {\n        try {\n          inline_js[i].call(root, root.Bokeh);\n        } catch(e) {\n          if (!reloading) {\n            throw e;\n          }\n        }\n      }\n      // Cache old bokeh versions\n      if (Bokeh != undefined && !reloading) {\n        var NewBokeh = root.Bokeh;\n        if (Bokeh.versions === undefined) {\n          Bokeh.versions = new Map();\n        }\n        if (NewBokeh.version !== Bokeh.version) {\n          Bokeh.versions.set(NewBokeh.version, NewBokeh)\n        }\n        root.Bokeh = Bokeh;\n      }\n    } else if (Date.now() < root._bokeh_timeout) {\n      setTimeout(run_inline_js, 100);\n    } else if (!root._bokeh_failed_load) {\n      console.log(\"Bokeh: BokehJS failed to load within specified timeout.\");\n      root._bokeh_failed_load = true;\n    }\n    root._bokeh_is_initializing = false\n  }\n\n  function load_or_wait() {\n    // Implement a backoff loop that tries to ensure we do not load multiple\n    // versions of Bokeh and its dependencies at the same time.\n    // In recent versions we use the root._bokeh_is_initializing flag\n    // to determine whether there is an ongoing attempt to initialize\n    // bokeh, however for backward compatibility we also try to ensure\n    // that we do not start loading a newer (Panel>=1.0 and Bokeh>3) version\n    // before older versions are fully initialized.\n    if (root._bokeh_is_initializing && Date.now() > root._bokeh_timeout) {\n      // If the timeout and bokeh was not successfully loaded we reset\n      // everything and try loading again\n      root._bokeh_timeout = Date.now() + 5000;\n      root._bokeh_is_initializing = false;\n      root._bokeh_onload_callbacks = undefined;\n      root._bokeh_is_loading = 0\n      console.log(\"Bokeh: BokehJS was loaded multiple times but one version failed to initialize.\");\n      load_or_wait();\n    } else if (root._bokeh_is_initializing || (typeof root._bokeh_is_initializing === \"undefined\" && root._bokeh_onload_callbacks !== undefined)) {\n      setTimeout(load_or_wait, 100);\n    } else {\n      root._bokeh_is_initializing = true\n      root._bokeh_onload_callbacks = []\n      const bokeh_loaded = root.Bokeh != null && (root.Bokeh.version === py_version || (root.Bokeh.versions !== undefined && root.Bokeh.versions.has(py_version)));\n      if (!reloading && !bokeh_loaded) {\n        if (root.Bokeh) {\n          root.Bokeh = undefined;\n        }\n        console.debug(\"Bokeh: BokehJS not loaded, scheduling load and callback at\", now());\n      }\n      load_libs(css_urls, js_urls, js_modules, js_exports, function() {\n        console.debug(\"Bokeh: BokehJS plotting callback run at\", now());\n        run_inline_js();\n      });\n    }\n  }\n  // Give older versions of the autoload script a head-start to ensure\n  // they initialize before we start loading newer version.\n  setTimeout(load_or_wait, 100)\n}(window));"
     },
     "metadata": {},
     "output_type": "display_data"
    },
    {
     "data": {
      "application/vnd.holoviews_load.v0+json": "\nif ((window.PyViz === undefined) || (window.PyViz instanceof HTMLElement)) {\n  window.PyViz = {comms: {}, comm_status:{}, kernels:{}, receivers: {}, plot_index: []}\n}\n\n\n    function JupyterCommManager() {\n    }\n\n    JupyterCommManager.prototype.register_target = function(plot_id, comm_id, msg_handler) {\n      if (window.comm_manager || ((window.Jupyter !== undefined) && (Jupyter.notebook.kernel != null))) {\n        var comm_manager = window.comm_manager || Jupyter.notebook.kernel.comm_manager;\n        comm_manager.register_target(comm_id, function(comm) {\n          comm.on_msg(msg_handler);\n        });\n      } else if ((plot_id in window.PyViz.kernels) && (window.PyViz.kernels[plot_id])) {\n        window.PyViz.kernels[plot_id].registerCommTarget(comm_id, function(comm) {\n          comm.onMsg = msg_handler;\n        });\n      } else if (typeof google != 'undefined' && google.colab.kernel != null) {\n        google.colab.kernel.comms.registerTarget(comm_id, (comm) => {\n          var messages = comm.messages[Symbol.asyncIterator]();\n          function processIteratorResult(result) {\n            var message = result.value;\n            console.log(message)\n            var content = {data: message.data, comm_id};\n            var buffers = []\n            for (var buffer of message.buffers || []) {\n              buffers.push(new DataView(buffer))\n            }\n            var metadata = message.metadata || {};\n            var msg = {content, buffers, metadata}\n            msg_handler(msg);\n            return messages.next().then(processIteratorResult);\n          }\n          return messages.next().then(processIteratorResult);\n        })\n      }\n    }\n\n    JupyterCommManager.prototype.get_client_comm = function(plot_id, comm_id, msg_handler) {\n      if (comm_id in window.PyViz.comms) {\n        return window.PyViz.comms[comm_id];\n      } else if (window.comm_manager || ((window.Jupyter !== undefined) && (Jupyter.notebook.kernel != null))) {\n        var comm_manager = window.comm_manager || Jupyter.notebook.kernel.comm_manager;\n        var comm = comm_manager.new_comm(comm_id, {}, {}, {}, comm_id);\n        if (msg_handler) {\n          comm.on_msg(msg_handler);\n        }\n      } else if ((plot_id in window.PyViz.kernels) && (window.PyViz.kernels[plot_id])) {\n        var comm = window.PyViz.kernels[plot_id].connectToComm(comm_id);\n        comm.open();\n        if (msg_handler) {\n          comm.onMsg = msg_handler;\n        }\n      } else if (typeof google != 'undefined' && google.colab.kernel != null) {\n        var comm_promise = google.colab.kernel.comms.open(comm_id)\n        comm_promise.then((comm) => {\n          window.PyViz.comms[comm_id] = comm;\n          if (msg_handler) {\n            var messages = comm.messages[Symbol.asyncIterator]();\n            function processIteratorResult(result) {\n              var message = result.value;\n              var content = {data: message.data};\n              var metadata = message.metadata || {comm_id};\n              var msg = {content, metadata}\n              msg_handler(msg);\n              return messages.next().then(processIteratorResult);\n            }\n            return messages.next().then(processIteratorResult);\n          }\n        }) \n        var sendClosure = (data, metadata, buffers, disposeOnDone) => {\n          return comm_promise.then((comm) => {\n            comm.send(data, metadata, buffers, disposeOnDone);\n          });\n        };\n        var comm = {\n          send: sendClosure\n        };\n      }\n      window.PyViz.comms[comm_id] = comm;\n      return comm;\n    }\n    window.PyViz.comm_manager = new JupyterCommManager();\n    \n\n\nvar JS_MIME_TYPE = 'application/javascript';\nvar HTML_MIME_TYPE = 'text/html';\nvar EXEC_MIME_TYPE = 'application/vnd.holoviews_exec.v0+json';\nvar CLASS_NAME = 'output';\n\n/**\n * Render data to the DOM node\n */\nfunction render(props, node) {\n  var div = document.createElement(\"div\");\n  var script = document.createElement(\"script\");\n  node.appendChild(div);\n  node.appendChild(script);\n}\n\n/**\n * Handle when a new output is added\n */\nfunction handle_add_output(event, handle) {\n  var output_area = handle.output_area;\n  var output = handle.output;\n  if ((output.data == undefined) || (!output.data.hasOwnProperty(EXEC_MIME_TYPE))) {\n    return\n  }\n  var id = output.metadata[EXEC_MIME_TYPE][\"id\"];\n  var toinsert = output_area.element.find(\".\" + CLASS_NAME.split(' ')[0]);\n  if (id !== undefined) {\n    var nchildren = toinsert.length;\n    var html_node = toinsert[nchildren-1].children[0];\n    html_node.innerHTML = output.data[HTML_MIME_TYPE];\n    var scripts = [];\n    var nodelist = html_node.querySelectorAll(\"script\");\n    for (var i in nodelist) {\n      if (nodelist.hasOwnProperty(i)) {\n        scripts.push(nodelist[i])\n      }\n    }\n\n    scripts.forEach( function (oldScript) {\n      var newScript = document.createElement(\"script\");\n      var attrs = [];\n      var nodemap = oldScript.attributes;\n      for (var j in nodemap) {\n        if (nodemap.hasOwnProperty(j)) {\n          attrs.push(nodemap[j])\n        }\n      }\n      attrs.forEach(function(attr) { newScript.setAttribute(attr.name, attr.value) });\n      newScript.appendChild(document.createTextNode(oldScript.innerHTML));\n      oldScript.parentNode.replaceChild(newScript, oldScript);\n    });\n    if (JS_MIME_TYPE in output.data) {\n      toinsert[nchildren-1].children[1].textContent = output.data[JS_MIME_TYPE];\n    }\n    output_area._hv_plot_id = id;\n    if ((window.Bokeh !== undefined) && (id in Bokeh.index)) {\n      window.PyViz.plot_index[id] = Bokeh.index[id];\n    } else {\n      window.PyViz.plot_index[id] = null;\n    }\n  } else if (output.metadata[EXEC_MIME_TYPE][\"server_id\"] !== undefined) {\n    var bk_div = document.createElement(\"div\");\n    bk_div.innerHTML = output.data[HTML_MIME_TYPE];\n    var script_attrs = bk_div.children[0].attributes;\n    for (var i = 0; i < script_attrs.length; i++) {\n      toinsert[toinsert.length - 1].childNodes[1].setAttribute(script_attrs[i].name, script_attrs[i].value);\n    }\n    // store reference to server id on output_area\n    output_area._bokeh_server_id = output.metadata[EXEC_MIME_TYPE][\"server_id\"];\n  }\n}\n\n/**\n * Handle when an output is cleared or removed\n */\nfunction handle_clear_output(event, handle) {\n  var id = handle.cell.output_area._hv_plot_id;\n  var server_id = handle.cell.output_area._bokeh_server_id;\n  if (((id === undefined) || !(id in PyViz.plot_index)) && (server_id !== undefined)) { return; }\n  var comm = window.PyViz.comm_manager.get_client_comm(\"hv-extension-comm\", \"hv-extension-comm\", function () {});\n  if (server_id !== null) {\n    comm.send({event_type: 'server_delete', 'id': server_id});\n    return;\n  } else if (comm !== null) {\n    comm.send({event_type: 'delete', 'id': id});\n  }\n  delete PyViz.plot_index[id];\n  if ((window.Bokeh !== undefined) & (id in window.Bokeh.index)) {\n    var doc = window.Bokeh.index[id].model.document\n    doc.clear();\n    const i = window.Bokeh.documents.indexOf(doc);\n    if (i > -1) {\n      window.Bokeh.documents.splice(i, 1);\n    }\n  }\n}\n\n/**\n * Handle kernel restart event\n */\nfunction handle_kernel_cleanup(event, handle) {\n  delete PyViz.comms[\"hv-extension-comm\"];\n  window.PyViz.plot_index = {}\n}\n\n/**\n * Handle update_display_data messages\n */\nfunction handle_update_output(event, handle) {\n  handle_clear_output(event, {cell: {output_area: handle.output_area}})\n  handle_add_output(event, handle)\n}\n\nfunction register_renderer(events, OutputArea) {\n  function append_mime(data, metadata, element) {\n    // create a DOM node to render to\n    var toinsert = this.create_output_subarea(\n    metadata,\n    CLASS_NAME,\n    EXEC_MIME_TYPE\n    );\n    this.keyboard_manager.register_events(toinsert);\n    // Render to node\n    var props = {data: data, metadata: metadata[EXEC_MIME_TYPE]};\n    render(props, toinsert[0]);\n    element.append(toinsert);\n    return toinsert\n  }\n\n  events.on('output_added.OutputArea', handle_add_output);\n  events.on('output_updated.OutputArea', handle_update_output);\n  events.on('clear_output.CodeCell', handle_clear_output);\n  events.on('delete.Cell', handle_clear_output);\n  events.on('kernel_ready.Kernel', handle_kernel_cleanup);\n\n  OutputArea.prototype.register_mime_type(EXEC_MIME_TYPE, append_mime, {\n    safe: true,\n    index: 0\n  });\n}\n\nif (window.Jupyter !== undefined) {\n  try {\n    var events = require('base/js/events');\n    var OutputArea = require('notebook/js/outputarea').OutputArea;\n    if (OutputArea.prototype.mime_types().indexOf(EXEC_MIME_TYPE) == -1) {\n      register_renderer(events, OutputArea);\n    }\n  } catch(err) {\n  }\n}\n",
      "application/javascript": "\nif ((window.PyViz === undefined) || (window.PyViz instanceof HTMLElement)) {\n  window.PyViz = {comms: {}, comm_status:{}, kernels:{}, receivers: {}, plot_index: []}\n}\n\n\n    function JupyterCommManager() {\n    }\n\n    JupyterCommManager.prototype.register_target = function(plot_id, comm_id, msg_handler) {\n      if (window.comm_manager || ((window.Jupyter !== undefined) && (Jupyter.notebook.kernel != null))) {\n        var comm_manager = window.comm_manager || Jupyter.notebook.kernel.comm_manager;\n        comm_manager.register_target(comm_id, function(comm) {\n          comm.on_msg(msg_handler);\n        });\n      } else if ((plot_id in window.PyViz.kernels) && (window.PyViz.kernels[plot_id])) {\n        window.PyViz.kernels[plot_id].registerCommTarget(comm_id, function(comm) {\n          comm.onMsg = msg_handler;\n        });\n      } else if (typeof google != 'undefined' && google.colab.kernel != null) {\n        google.colab.kernel.comms.registerTarget(comm_id, (comm) => {\n          var messages = comm.messages[Symbol.asyncIterator]();\n          function processIteratorResult(result) {\n            var message = result.value;\n            console.log(message)\n            var content = {data: message.data, comm_id};\n            var buffers = []\n            for (var buffer of message.buffers || []) {\n              buffers.push(new DataView(buffer))\n            }\n            var metadata = message.metadata || {};\n            var msg = {content, buffers, metadata}\n            msg_handler(msg);\n            return messages.next().then(processIteratorResult);\n          }\n          return messages.next().then(processIteratorResult);\n        })\n      }\n    }\n\n    JupyterCommManager.prototype.get_client_comm = function(plot_id, comm_id, msg_handler) {\n      if (comm_id in window.PyViz.comms) {\n        return window.PyViz.comms[comm_id];\n      } else if (window.comm_manager || ((window.Jupyter !== undefined) && (Jupyter.notebook.kernel != null))) {\n        var comm_manager = window.comm_manager || Jupyter.notebook.kernel.comm_manager;\n        var comm = comm_manager.new_comm(comm_id, {}, {}, {}, comm_id);\n        if (msg_handler) {\n          comm.on_msg(msg_handler);\n        }\n      } else if ((plot_id in window.PyViz.kernels) && (window.PyViz.kernels[plot_id])) {\n        var comm = window.PyViz.kernels[plot_id].connectToComm(comm_id);\n        comm.open();\n        if (msg_handler) {\n          comm.onMsg = msg_handler;\n        }\n      } else if (typeof google != 'undefined' && google.colab.kernel != null) {\n        var comm_promise = google.colab.kernel.comms.open(comm_id)\n        comm_promise.then((comm) => {\n          window.PyViz.comms[comm_id] = comm;\n          if (msg_handler) {\n            var messages = comm.messages[Symbol.asyncIterator]();\n            function processIteratorResult(result) {\n              var message = result.value;\n              var content = {data: message.data};\n              var metadata = message.metadata || {comm_id};\n              var msg = {content, metadata}\n              msg_handler(msg);\n              return messages.next().then(processIteratorResult);\n            }\n            return messages.next().then(processIteratorResult);\n          }\n        }) \n        var sendClosure = (data, metadata, buffers, disposeOnDone) => {\n          return comm_promise.then((comm) => {\n            comm.send(data, metadata, buffers, disposeOnDone);\n          });\n        };\n        var comm = {\n          send: sendClosure\n        };\n      }\n      window.PyViz.comms[comm_id] = comm;\n      return comm;\n    }\n    window.PyViz.comm_manager = new JupyterCommManager();\n    \n\n\nvar JS_MIME_TYPE = 'application/javascript';\nvar HTML_MIME_TYPE = 'text/html';\nvar EXEC_MIME_TYPE = 'application/vnd.holoviews_exec.v0+json';\nvar CLASS_NAME = 'output';\n\n/**\n * Render data to the DOM node\n */\nfunction render(props, node) {\n  var div = document.createElement(\"div\");\n  var script = document.createElement(\"script\");\n  node.appendChild(div);\n  node.appendChild(script);\n}\n\n/**\n * Handle when a new output is added\n */\nfunction handle_add_output(event, handle) {\n  var output_area = handle.output_area;\n  var output = handle.output;\n  if ((output.data == undefined) || (!output.data.hasOwnProperty(EXEC_MIME_TYPE))) {\n    return\n  }\n  var id = output.metadata[EXEC_MIME_TYPE][\"id\"];\n  var toinsert = output_area.element.find(\".\" + CLASS_NAME.split(' ')[0]);\n  if (id !== undefined) {\n    var nchildren = toinsert.length;\n    var html_node = toinsert[nchildren-1].children[0];\n    html_node.innerHTML = output.data[HTML_MIME_TYPE];\n    var scripts = [];\n    var nodelist = html_node.querySelectorAll(\"script\");\n    for (var i in nodelist) {\n      if (nodelist.hasOwnProperty(i)) {\n        scripts.push(nodelist[i])\n      }\n    }\n\n    scripts.forEach( function (oldScript) {\n      var newScript = document.createElement(\"script\");\n      var attrs = [];\n      var nodemap = oldScript.attributes;\n      for (var j in nodemap) {\n        if (nodemap.hasOwnProperty(j)) {\n          attrs.push(nodemap[j])\n        }\n      }\n      attrs.forEach(function(attr) { newScript.setAttribute(attr.name, attr.value) });\n      newScript.appendChild(document.createTextNode(oldScript.innerHTML));\n      oldScript.parentNode.replaceChild(newScript, oldScript);\n    });\n    if (JS_MIME_TYPE in output.data) {\n      toinsert[nchildren-1].children[1].textContent = output.data[JS_MIME_TYPE];\n    }\n    output_area._hv_plot_id = id;\n    if ((window.Bokeh !== undefined) && (id in Bokeh.index)) {\n      window.PyViz.plot_index[id] = Bokeh.index[id];\n    } else {\n      window.PyViz.plot_index[id] = null;\n    }\n  } else if (output.metadata[EXEC_MIME_TYPE][\"server_id\"] !== undefined) {\n    var bk_div = document.createElement(\"div\");\n    bk_div.innerHTML = output.data[HTML_MIME_TYPE];\n    var script_attrs = bk_div.children[0].attributes;\n    for (var i = 0; i < script_attrs.length; i++) {\n      toinsert[toinsert.length - 1].childNodes[1].setAttribute(script_attrs[i].name, script_attrs[i].value);\n    }\n    // store reference to server id on output_area\n    output_area._bokeh_server_id = output.metadata[EXEC_MIME_TYPE][\"server_id\"];\n  }\n}\n\n/**\n * Handle when an output is cleared or removed\n */\nfunction handle_clear_output(event, handle) {\n  var id = handle.cell.output_area._hv_plot_id;\n  var server_id = handle.cell.output_area._bokeh_server_id;\n  if (((id === undefined) || !(id in PyViz.plot_index)) && (server_id !== undefined)) { return; }\n  var comm = window.PyViz.comm_manager.get_client_comm(\"hv-extension-comm\", \"hv-extension-comm\", function () {});\n  if (server_id !== null) {\n    comm.send({event_type: 'server_delete', 'id': server_id});\n    return;\n  } else if (comm !== null) {\n    comm.send({event_type: 'delete', 'id': id});\n  }\n  delete PyViz.plot_index[id];\n  if ((window.Bokeh !== undefined) & (id in window.Bokeh.index)) {\n    var doc = window.Bokeh.index[id].model.document\n    doc.clear();\n    const i = window.Bokeh.documents.indexOf(doc);\n    if (i > -1) {\n      window.Bokeh.documents.splice(i, 1);\n    }\n  }\n}\n\n/**\n * Handle kernel restart event\n */\nfunction handle_kernel_cleanup(event, handle) {\n  delete PyViz.comms[\"hv-extension-comm\"];\n  window.PyViz.plot_index = {}\n}\n\n/**\n * Handle update_display_data messages\n */\nfunction handle_update_output(event, handle) {\n  handle_clear_output(event, {cell: {output_area: handle.output_area}})\n  handle_add_output(event, handle)\n}\n\nfunction register_renderer(events, OutputArea) {\n  function append_mime(data, metadata, element) {\n    // create a DOM node to render to\n    var toinsert = this.create_output_subarea(\n    metadata,\n    CLASS_NAME,\n    EXEC_MIME_TYPE\n    );\n    this.keyboard_manager.register_events(toinsert);\n    // Render to node\n    var props = {data: data, metadata: metadata[EXEC_MIME_TYPE]};\n    render(props, toinsert[0]);\n    element.append(toinsert);\n    return toinsert\n  }\n\n  events.on('output_added.OutputArea', handle_add_output);\n  events.on('output_updated.OutputArea', handle_update_output);\n  events.on('clear_output.CodeCell', handle_clear_output);\n  events.on('delete.Cell', handle_clear_output);\n  events.on('kernel_ready.Kernel', handle_kernel_cleanup);\n\n  OutputArea.prototype.register_mime_type(EXEC_MIME_TYPE, append_mime, {\n    safe: true,\n    index: 0\n  });\n}\n\nif (window.Jupyter !== undefined) {\n  try {\n    var events = require('base/js/events');\n    var OutputArea = require('notebook/js/outputarea').OutputArea;\n    if (OutputArea.prototype.mime_types().indexOf(EXEC_MIME_TYPE) == -1) {\n      register_renderer(events, OutputArea);\n    }\n  } catch(err) {\n  }\n}\n"
     },
     "metadata": {},
     "output_type": "display_data"
    },
    {
     "data": {
      "text/html": [
       "<div id='e08501df-67b6-4ea0-9d17-9dadcca45963'>\n",
       "  <div id=\"a2bb94e1-1c7d-425c-b66d-1ed2d5bafa4f\" data-root-id=\"e08501df-67b6-4ea0-9d17-9dadcca45963\" style=\"display: contents;\"></div>\n",
       "</div>\n",
       "<script type=\"application/javascript\">(function(root) {\n",
       "  var docs_json = {\"8aef5444-dd60-464c-a7f6-e73c67162e2d\":{\"version\":\"3.6.2\",\"title\":\"Bokeh Application\",\"roots\":[{\"type\":\"object\",\"name\":\"panel.models.browser.BrowserInfo\",\"id\":\"e08501df-67b6-4ea0-9d17-9dadcca45963\"},{\"type\":\"object\",\"name\":\"panel.models.comm_manager.CommManager\",\"id\":\"c71b7646-1e65-4cb6-99e0-26271030d726\",\"attributes\":{\"plot_id\":\"e08501df-67b6-4ea0-9d17-9dadcca45963\",\"comm_id\":\"cb3e2aca5d1244f6a8e5b7e170ebe6d1\",\"client_comm_id\":\"232adcaa80f54a53aa927a840b3e5442\"}}],\"defs\":[{\"type\":\"model\",\"name\":\"ReactiveHTML1\"},{\"type\":\"model\",\"name\":\"FlexBox1\",\"properties\":[{\"name\":\"align_content\",\"kind\":\"Any\",\"default\":\"flex-start\"},{\"name\":\"align_items\",\"kind\":\"Any\",\"default\":\"flex-start\"},{\"name\":\"flex_direction\",\"kind\":\"Any\",\"default\":\"row\"},{\"name\":\"flex_wrap\",\"kind\":\"Any\",\"default\":\"wrap\"},{\"name\":\"gap\",\"kind\":\"Any\",\"default\":\"\"},{\"name\":\"justify_content\",\"kind\":\"Any\",\"default\":\"flex-start\"}]},{\"type\":\"model\",\"name\":\"FloatPanel1\",\"properties\":[{\"name\":\"config\",\"kind\":\"Any\",\"default\":{\"type\":\"map\"}},{\"name\":\"contained\",\"kind\":\"Any\",\"default\":true},{\"name\":\"position\",\"kind\":\"Any\",\"default\":\"right-top\"},{\"name\":\"offsetx\",\"kind\":\"Any\",\"default\":null},{\"name\":\"offsety\",\"kind\":\"Any\",\"default\":null},{\"name\":\"theme\",\"kind\":\"Any\",\"default\":\"primary\"},{\"name\":\"status\",\"kind\":\"Any\",\"default\":\"normalized\"}]},{\"type\":\"model\",\"name\":\"GridStack1\",\"properties\":[{\"name\":\"mode\",\"kind\":\"Any\",\"default\":\"warn\"},{\"name\":\"ncols\",\"kind\":\"Any\",\"default\":null},{\"name\":\"nrows\",\"kind\":\"Any\",\"default\":null},{\"name\":\"allow_resize\",\"kind\":\"Any\",\"default\":true},{\"name\":\"allow_drag\",\"kind\":\"Any\",\"default\":true},{\"name\":\"state\",\"kind\":\"Any\",\"default\":[]}]},{\"type\":\"model\",\"name\":\"drag1\",\"properties\":[{\"name\":\"slider_width\",\"kind\":\"Any\",\"default\":5},{\"name\":\"slider_color\",\"kind\":\"Any\",\"default\":\"black\"},{\"name\":\"value\",\"kind\":\"Any\",\"default\":50}]},{\"type\":\"model\",\"name\":\"click1\",\"properties\":[{\"name\":\"terminal_output\",\"kind\":\"Any\",\"default\":\"\"},{\"name\":\"debug_name\",\"kind\":\"Any\",\"default\":\"\"},{\"name\":\"clears\",\"kind\":\"Any\",\"default\":0}]},{\"type\":\"model\",\"name\":\"FastWrapper1\",\"properties\":[{\"name\":\"object\",\"kind\":\"Any\",\"default\":null},{\"name\":\"style\",\"kind\":\"Any\",\"default\":null}]},{\"type\":\"model\",\"name\":\"NotificationAreaBase1\",\"properties\":[{\"name\":\"js_events\",\"kind\":\"Any\",\"default\":{\"type\":\"map\"}},{\"name\":\"position\",\"kind\":\"Any\",\"default\":\"bottom-right\"},{\"name\":\"_clear\",\"kind\":\"Any\",\"default\":0}]},{\"type\":\"model\",\"name\":\"NotificationArea1\",\"properties\":[{\"name\":\"js_events\",\"kind\":\"Any\",\"default\":{\"type\":\"map\"}},{\"name\":\"notifications\",\"kind\":\"Any\",\"default\":[]},{\"name\":\"position\",\"kind\":\"Any\",\"default\":\"bottom-right\"},{\"name\":\"_clear\",\"kind\":\"Any\",\"default\":0},{\"name\":\"types\",\"kind\":\"Any\",\"default\":[{\"type\":\"map\",\"entries\":[[\"type\",\"warning\"],[\"background\",\"#ffc107\"],[\"icon\",{\"type\":\"map\",\"entries\":[[\"className\",\"fas fa-exclamation-triangle\"],[\"tagName\",\"i\"],[\"color\",\"white\"]]}]]},{\"type\":\"map\",\"entries\":[[\"type\",\"info\"],[\"background\",\"#007bff\"],[\"icon\",{\"type\":\"map\",\"entries\":[[\"className\",\"fas fa-info-circle\"],[\"tagName\",\"i\"],[\"color\",\"white\"]]}]]}]}]},{\"type\":\"model\",\"name\":\"Notification\",\"properties\":[{\"name\":\"background\",\"kind\":\"Any\",\"default\":null},{\"name\":\"duration\",\"kind\":\"Any\",\"default\":3000},{\"name\":\"icon\",\"kind\":\"Any\",\"default\":null},{\"name\":\"message\",\"kind\":\"Any\",\"default\":\"\"},{\"name\":\"notification_type\",\"kind\":\"Any\",\"default\":null},{\"name\":\"_rendered\",\"kind\":\"Any\",\"default\":false},{\"name\":\"_destroyed\",\"kind\":\"Any\",\"default\":false}]},{\"type\":\"model\",\"name\":\"TemplateActions1\",\"properties\":[{\"name\":\"open_modal\",\"kind\":\"Any\",\"default\":0},{\"name\":\"close_modal\",\"kind\":\"Any\",\"default\":0}]},{\"type\":\"model\",\"name\":\"BootstrapTemplateActions1\",\"properties\":[{\"name\":\"open_modal\",\"kind\":\"Any\",\"default\":0},{\"name\":\"close_modal\",\"kind\":\"Any\",\"default\":0}]},{\"type\":\"model\",\"name\":\"TemplateEditor1\",\"properties\":[{\"name\":\"layout\",\"kind\":\"Any\",\"default\":[]}]},{\"type\":\"model\",\"name\":\"MaterialTemplateActions1\",\"properties\":[{\"name\":\"open_modal\",\"kind\":\"Any\",\"default\":0},{\"name\":\"close_modal\",\"kind\":\"Any\",\"default\":0}]},{\"type\":\"model\",\"name\":\"ReactiveESM1\",\"properties\":[{\"name\":\"esm_constants\",\"kind\":\"Any\",\"default\":{\"type\":\"map\"}}]},{\"type\":\"model\",\"name\":\"JSComponent1\",\"properties\":[{\"name\":\"esm_constants\",\"kind\":\"Any\",\"default\":{\"type\":\"map\"}}]},{\"type\":\"model\",\"name\":\"ReactComponent1\",\"properties\":[{\"name\":\"esm_constants\",\"kind\":\"Any\",\"default\":{\"type\":\"map\"}}]},{\"type\":\"model\",\"name\":\"AnyWidgetComponent1\",\"properties\":[{\"name\":\"esm_constants\",\"kind\":\"Any\",\"default\":{\"type\":\"map\"}}]},{\"type\":\"model\",\"name\":\"request_value1\",\"properties\":[{\"name\":\"fill\",\"kind\":\"Any\",\"default\":\"none\"},{\"name\":\"_synced\",\"kind\":\"Any\",\"default\":null},{\"name\":\"_request_sync\",\"kind\":\"Any\",\"default\":0}]}]}};\n",
       "  var render_items = [{\"docid\":\"8aef5444-dd60-464c-a7f6-e73c67162e2d\",\"roots\":{\"e08501df-67b6-4ea0-9d17-9dadcca45963\":\"a2bb94e1-1c7d-425c-b66d-1ed2d5bafa4f\"},\"root_ids\":[\"e08501df-67b6-4ea0-9d17-9dadcca45963\"]}];\n",
       "  var docs = Object.values(docs_json)\n",
       "  if (!docs) {\n",
       "    return\n",
       "  }\n",
       "  const py_version = docs[0].version.replace('rc', '-rc.').replace('.dev', '-dev.')\n",
       "  async function embed_document(root) {\n",
       "    var Bokeh = get_bokeh(root)\n",
       "    await Bokeh.embed.embed_items_notebook(docs_json, render_items);\n",
       "    for (const render_item of render_items) {\n",
       "      for (const root_id of render_item.root_ids) {\n",
       "\tconst id_el = document.getElementById(root_id)\n",
       "\tif (id_el.children.length && id_el.children[0].hasAttribute('data-root-id')) {\n",
       "\t  const root_el = id_el.children[0]\n",
       "\t  root_el.id = root_el.id + '-rendered'\n",
       "\t  for (const child of root_el.children) {\n",
       "            // Ensure JupyterLab does not capture keyboard shortcuts\n",
       "            // see: https://jupyterlab.readthedocs.io/en/4.1.x/extension/notebook.html#keyboard-interaction-model\n",
       "\t    child.setAttribute('data-lm-suppress-shortcuts', 'true')\n",
       "\t  }\n",
       "\t}\n",
       "      }\n",
       "    }\n",
       "  }\n",
       "  function get_bokeh(root) {\n",
       "    if (root.Bokeh === undefined) {\n",
       "      return null\n",
       "    } else if (root.Bokeh.version !== py_version) {\n",
       "      if (root.Bokeh.versions === undefined || !root.Bokeh.versions.has(py_version)) {\n",
       "\treturn null\n",
       "      }\n",
       "      return root.Bokeh.versions.get(py_version);\n",
       "    } else if (root.Bokeh.version === py_version) {\n",
       "      return root.Bokeh\n",
       "    }\n",
       "    return null\n",
       "  }\n",
       "  function is_loaded(root) {\n",
       "    var Bokeh = get_bokeh(root)\n",
       "    return (Bokeh != null && Bokeh.Panel !== undefined)\n",
       "  }\n",
       "  if (is_loaded(root)) {\n",
       "    embed_document(root);\n",
       "  } else {\n",
       "    var attempts = 0;\n",
       "    var timer = setInterval(function(root) {\n",
       "      if (is_loaded(root)) {\n",
       "        clearInterval(timer);\n",
       "        embed_document(root);\n",
       "      } else if (document.readyState == \"complete\") {\n",
       "        attempts++;\n",
       "        if (attempts > 200) {\n",
       "          clearInterval(timer);\n",
       "\t  var Bokeh = get_bokeh(root)\n",
       "\t  if (Bokeh == null || Bokeh.Panel == null) {\n",
       "            console.warn(\"Panel: ERROR: Unable to run Panel code because Bokeh or Panel library is missing\");\n",
       "\t  } else {\n",
       "\t    console.warn(\"Panel: WARNING: Attempting to render but not all required libraries could be resolved.\")\n",
       "\t    embed_document(root)\n",
       "\t  }\n",
       "        }\n",
       "      }\n",
       "    }, 25, root)\n",
       "  }\n",
       "})(window);</script>"
      ],
      "application/vnd.holoviews_exec.v0+json": ""
     },
     "metadata": {
      "application/vnd.holoviews_exec.v0+json": {
       "id": "e08501df-67b6-4ea0-9d17-9dadcca45963"
      }
     },
     "output_type": "display_data"
    }
   ],
   "execution_count": 1
  },
  {
   "metadata": {
    "ExecuteTime": {
     "end_time": "2025-02-23T12:09:43.290641Z",
     "start_time": "2025-02-23T12:09:43.287645Z"
    }
   },
   "cell_type": "code",
   "source": "df_path = r\"F:\\Datasets\\CSV datasets\\laptop_prices.csv\"",
   "id": "c418838e417680a0",
   "outputs": [],
   "execution_count": 2
  },
  {
   "metadata": {
    "ExecuteTime": {
     "end_time": "2025-02-23T12:09:43.321742Z",
     "start_time": "2025-02-23T12:09:43.294231Z"
    }
   },
   "cell_type": "code",
   "source": "df = pl.read_csv(df_path, has_header=True, try_parse_dates=True)",
   "id": "50f1b8357f6fae7c",
   "outputs": [],
   "execution_count": 3
  },
  {
   "metadata": {
    "ExecuteTime": {
     "end_time": "2025-02-23T12:09:43.595499Z",
     "start_time": "2025-02-23T12:09:43.588570Z"
    }
   },
   "cell_type": "code",
   "source": "df",
   "id": "be1a757eedc4bf0e",
   "outputs": [
    {
     "data": {
      "text/plain": [
       "shape: (11_768, 11)\n",
       "┌─────────┬─────────────┬──────────┬───────────┬───┬─────────┬────────┬───────────┬───────────┐\n",
       "│ Brand   ┆ Processor   ┆ RAM (GB) ┆ Storage   ┆ … ┆ Battery ┆ Weight ┆ Operating ┆ Price ($) │\n",
       "│ ---     ┆ ---         ┆ ---      ┆ ---       ┆   ┆ Life    ┆ (kg)   ┆ System    ┆ ---       │\n",
       "│ str     ┆ str         ┆ i64      ┆ str       ┆   ┆ (hours) ┆ ---    ┆ ---       ┆ f64       │\n",
       "│         ┆             ┆          ┆           ┆   ┆ ---     ┆ f64    ┆ str       ┆           │\n",
       "│         ┆             ┆          ┆           ┆   ┆ f64     ┆        ┆           ┆           │\n",
       "╞═════════╪═════════════╪══════════╪═══════════╪═══╪═════════╪════════╪═══════════╪═══════════╡\n",
       "│ Apple   ┆ AMD Ryzen 3 ┆ 64       ┆ 512GB SSD ┆ … ┆ 8.9     ┆ 1.42   ┆ FreeDOS   ┆ 3997.07   │\n",
       "│ Razer   ┆ AMD Ryzen 7 ┆ 4        ┆ 1TB SSD   ┆ … ┆ 9.4     ┆ 2.57   ┆ Linux     ┆ 1355.78   │\n",
       "│ Asus    ┆ Intel i5    ┆ 32       ┆ 2TB SSD   ┆ … ┆ 8.5     ┆ 1.74   ┆ FreeDOS   ┆ 2673.07   │\n",
       "│ Lenovo  ┆ Intel i5    ┆ 4        ┆ 256GB SSD ┆ … ┆ 10.5    ┆ 3.1    ┆ Windows   ┆ 751.17    │\n",
       "│ Razer   ┆ Intel i3    ┆ 4        ┆ 256GB SSD ┆ … ┆ 5.7     ┆ 3.38   ┆ Linux     ┆ 2059.83   │\n",
       "│ …       ┆ …           ┆ …        ┆ …         ┆ … ┆ …       ┆ …      ┆ …         ┆ …         │\n",
       "│ Acer    ┆ Intel i3    ┆ 4        ┆ 2TB SSD   ┆ … ┆ 11.5    ┆ 1.58   ┆ macOS     ┆ 704.82    │\n",
       "│ Asus    ┆ Intel i3    ┆ 4        ┆ 2TB SSD   ┆ … ┆ 9.5     ┆ 2.14   ┆ Linux     ┆ 775.59    │\n",
       "│ Razer   ┆ AMD Ryzen 9 ┆ 4        ┆ 2TB SSD   ┆ … ┆ 8.2     ┆ 2.05   ┆ Linux     ┆ 2789.46   │\n",
       "│ Samsung ┆ AMD Ryzen 7 ┆ 16       ┆ 512GB SSD ┆ … ┆ 7.5     ┆ 1.48   ┆ macOS     ┆ 1067.13   │\n",
       "│ Samsung ┆ Intel i7    ┆ 8        ┆ 256GB SSD ┆ … ┆ 6.4     ┆ 2.45   ┆ FreeDOS   ┆ 1579.55   │\n",
       "└─────────┴─────────────┴──────────┴───────────┴───┴─────────┴────────┴───────────┴───────────┘"
      ],
      "text/html": [
       "<div><style>\n",
       ".dataframe > thead > tr,\n",
       ".dataframe > tbody > tr {\n",
       "  text-align: right;\n",
       "  white-space: pre-wrap;\n",
       "}\n",
       "</style>\n",
       "<small>shape: (11_768, 11)</small><table border=\"1\" class=\"dataframe\"><thead><tr><th>Brand</th><th>Processor</th><th>RAM (GB)</th><th>Storage</th><th>GPU</th><th>Screen Size (inch)</th><th>Resolution</th><th>Battery Life (hours)</th><th>Weight (kg)</th><th>Operating System</th><th>Price ($)</th></tr><tr><td>str</td><td>str</td><td>i64</td><td>str</td><td>str</td><td>f64</td><td>str</td><td>f64</td><td>f64</td><td>str</td><td>f64</td></tr></thead><tbody><tr><td>&quot;Apple&quot;</td><td>&quot;AMD Ryzen 3&quot;</td><td>64</td><td>&quot;512GB SSD&quot;</td><td>&quot;Nvidia GTX 1650&quot;</td><td>17.3</td><td>&quot;2560x1440&quot;</td><td>8.9</td><td>1.42</td><td>&quot;FreeDOS&quot;</td><td>3997.07</td></tr><tr><td>&quot;Razer&quot;</td><td>&quot;AMD Ryzen 7&quot;</td><td>4</td><td>&quot;1TB SSD&quot;</td><td>&quot;Nvidia RTX 3080&quot;</td><td>14.0</td><td>&quot;1366x768&quot;</td><td>9.4</td><td>2.57</td><td>&quot;Linux&quot;</td><td>1355.78</td></tr><tr><td>&quot;Asus&quot;</td><td>&quot;Intel i5&quot;</td><td>32</td><td>&quot;2TB SSD&quot;</td><td>&quot;Nvidia RTX 3060&quot;</td><td>13.3</td><td>&quot;3840x2160&quot;</td><td>8.5</td><td>1.74</td><td>&quot;FreeDOS&quot;</td><td>2673.07</td></tr><tr><td>&quot;Lenovo&quot;</td><td>&quot;Intel i5&quot;</td><td>4</td><td>&quot;256GB SSD&quot;</td><td>&quot;Nvidia RTX 3080&quot;</td><td>13.3</td><td>&quot;1366x768&quot;</td><td>10.5</td><td>3.1</td><td>&quot;Windows&quot;</td><td>751.17</td></tr><tr><td>&quot;Razer&quot;</td><td>&quot;Intel i3&quot;</td><td>4</td><td>&quot;256GB SSD&quot;</td><td>&quot;AMD Radeon RX 6600&quot;</td><td>16.0</td><td>&quot;3840x2160&quot;</td><td>5.7</td><td>3.38</td><td>&quot;Linux&quot;</td><td>2059.83</td></tr><tr><td>&hellip;</td><td>&hellip;</td><td>&hellip;</td><td>&hellip;</td><td>&hellip;</td><td>&hellip;</td><td>&hellip;</td><td>&hellip;</td><td>&hellip;</td><td>&hellip;</td><td>&hellip;</td></tr><tr><td>&quot;Acer&quot;</td><td>&quot;Intel i3&quot;</td><td>4</td><td>&quot;2TB SSD&quot;</td><td>&quot;Nvidia RTX 2060&quot;</td><td>17.3</td><td>&quot;1366x768&quot;</td><td>11.5</td><td>1.58</td><td>&quot;macOS&quot;</td><td>704.82</td></tr><tr><td>&quot;Asus&quot;</td><td>&quot;Intel i3&quot;</td><td>4</td><td>&quot;2TB SSD&quot;</td><td>&quot;AMD Radeon RX 6800&quot;</td><td>16.0</td><td>&quot;1366x768&quot;</td><td>9.5</td><td>2.14</td><td>&quot;Linux&quot;</td><td>775.59</td></tr><tr><td>&quot;Razer&quot;</td><td>&quot;AMD Ryzen 9&quot;</td><td>4</td><td>&quot;2TB SSD&quot;</td><td>&quot;AMD Radeon RX 6600&quot;</td><td>15.6</td><td>&quot;2560x1440&quot;</td><td>8.2</td><td>2.05</td><td>&quot;Linux&quot;</td><td>2789.46</td></tr><tr><td>&quot;Samsung&quot;</td><td>&quot;AMD Ryzen 7&quot;</td><td>16</td><td>&quot;512GB SSD&quot;</td><td>&quot;Integrated&quot;</td><td>13.3</td><td>&quot;1920x1080&quot;</td><td>7.5</td><td>1.48</td><td>&quot;macOS&quot;</td><td>1067.13</td></tr><tr><td>&quot;Samsung&quot;</td><td>&quot;Intel i7&quot;</td><td>8</td><td>&quot;256GB SSD&quot;</td><td>&quot;Nvidia RTX 3080&quot;</td><td>17.3</td><td>&quot;2560x1440&quot;</td><td>6.4</td><td>2.45</td><td>&quot;FreeDOS&quot;</td><td>1579.55</td></tr></tbody></table></div>"
      ]
     },
     "execution_count": 4,
     "metadata": {},
     "output_type": "execute_result"
    }
   ],
   "execution_count": 4
  },
  {
   "metadata": {
    "ExecuteTime": {
     "end_time": "2025-02-23T12:09:43.656521Z",
     "start_time": "2025-02-23T12:09:43.648989Z"
    }
   },
   "cell_type": "code",
   "source": [
    "df = df.with_columns(\n",
    "    pl.col('Processor').str.contains('AMD').alias('AMD CPU'),\n",
    "    pl.col('Processor').str.contains('Intel').alias('Intel CPU')\n",
    ")"
   ],
   "id": "f5a4e1702892c42",
   "outputs": [],
   "execution_count": 5
  },
  {
   "metadata": {
    "ExecuteTime": {
     "end_time": "2025-02-23T12:09:43.790894Z",
     "start_time": "2025-02-23T12:09:43.779375Z"
    }
   },
   "cell_type": "code",
   "source": [
    "amd_cpu_price = df.filter(\n",
    "    pl.col('AMD CPU') == True\n",
    ").select(\n",
    "    pl.col('Price ($)')\n",
    ").mean()\n",
    "amd_cpu_price"
   ],
   "id": "ed487ad3aae04403",
   "outputs": [
    {
     "data": {
      "text/plain": [
       "shape: (1, 1)\n",
       "┌─────────────┐\n",
       "│ Price ($)   │\n",
       "│ ---         │\n",
       "│ f64         │\n",
       "╞═════════════╡\n",
       "│ 2184.162107 │\n",
       "└─────────────┘"
      ],
      "text/html": [
       "<div><style>\n",
       ".dataframe > thead > tr,\n",
       ".dataframe > tbody > tr {\n",
       "  text-align: right;\n",
       "  white-space: pre-wrap;\n",
       "}\n",
       "</style>\n",
       "<small>shape: (1, 1)</small><table border=\"1\" class=\"dataframe\"><thead><tr><th>Price ($)</th></tr><tr><td>f64</td></tr></thead><tbody><tr><td>2184.162107</td></tr></tbody></table></div>"
      ]
     },
     "execution_count": 6,
     "metadata": {},
     "output_type": "execute_result"
    }
   ],
   "execution_count": 6
  },
  {
   "metadata": {
    "ExecuteTime": {
     "end_time": "2025-02-23T12:09:43.979811Z",
     "start_time": "2025-02-23T12:09:43.971798Z"
    }
   },
   "cell_type": "code",
   "source": [
    "intel_cpu_price = df.filter(\n",
    "    pl.col('AMD CPU') == False\n",
    ").select(\n",
    "    pl.col('Price ($)')\n",
    ").mean()"
   ],
   "id": "58f5909bb8c7acd",
   "outputs": [],
   "execution_count": 7
  },
  {
   "metadata": {
    "ExecuteTime": {
     "end_time": "2025-02-23T12:09:44.220009Z",
     "start_time": "2025-02-23T12:09:44.122836Z"
    }
   },
   "cell_type": "code",
   "source": [
    "cpu_prices = {\n",
    "    'CPU Type': ['AMD', 'Intel'],\n",
    "    'Average Price': [amd_cpu_price['Price ($)'][0], intel_cpu_price['Price ($)'][0]]\n",
    "}\n",
    "\n",
    "plot_df = pl.DataFrame(cpu_prices)\n",
    "\n",
    "plot = plot_df.hvplot.bar(\n",
    "    x='CPU Type',\n",
    "    y='Average Price',\n",
    "    title='Average Laptop Prices: AMD vs Intel',\n",
    "    ylabel='Price ($)',\n",
    "    color=['#ED1C24', '#0071C5']\n",
    ")\n",
    "\n",
    "plot"
   ],
   "id": "9e97014143027a15",
   "outputs": [
    {
     "data": {},
     "metadata": {},
     "output_type": "display_data"
    },
    {
     "data": {
      "text/html": [
       "<div id='99e7ef62-0d10-48fd-abc0-fe60d0034675'>\n",
       "  <div id=\"f3fd0b49-c385-4184-9c06-308274e6ebb3\" data-root-id=\"99e7ef62-0d10-48fd-abc0-fe60d0034675\" style=\"display: contents;\"></div>\n",
       "</div>\n",
       "<script type=\"application/javascript\">(function(root) {\n",
       "  var docs_json = {\"a1b7f1a3-bb01-4a9e-8a72-be20d70df532\":{\"version\":\"3.6.2\",\"title\":\"Bokeh Application\",\"roots\":[{\"type\":\"object\",\"name\":\"Row\",\"id\":\"99e7ef62-0d10-48fd-abc0-fe60d0034675\",\"attributes\":{\"name\":\"Row00280\",\"tags\":[\"embedded\"],\"stylesheets\":[\"\\n:host(.pn-loading):before, .pn-loading:before {\\n  background-color: #c3c3c3;\\n  mask-size: auto calc(min(50%, 400px));\\n  -webkit-mask-size: auto calc(min(50%, 400px));\\n}\",{\"type\":\"object\",\"name\":\"ImportedStyleSheet\",\"id\":\"69b233ce-2e01-48ea-9993-7b4136b17cf7\",\"attributes\":{\"url\":\"https://cdn.holoviz.org/panel/1.6.0/dist/css/loading.css\"}},{\"type\":\"object\",\"name\":\"ImportedStyleSheet\",\"id\":\"2c809e29-fe88-4fae-9c11-45e1a105564f\",\"attributes\":{\"url\":\"https://cdn.holoviz.org/panel/1.6.0/dist/css/listpanel.css\"}},{\"type\":\"object\",\"name\":\"ImportedStyleSheet\",\"id\":\"ab050ffd-e4a4-4332-8b6d-769e403f4f37\",\"attributes\":{\"url\":\"https://cdn.holoviz.org/panel/1.6.0/dist/bundled/theme/default.css\"}},{\"type\":\"object\",\"name\":\"ImportedStyleSheet\",\"id\":\"b0029da3-4962-49dd-b783-5d175d4f3b5f\",\"attributes\":{\"url\":\"https://cdn.holoviz.org/panel/1.6.0/dist/bundled/theme/native.css\"}}],\"min_width\":700,\"margin\":0,\"sizing_mode\":\"stretch_width\",\"align\":\"start\",\"children\":[{\"type\":\"object\",\"name\":\"Spacer\",\"id\":\"1d3808ab-dfeb-4a26-b1a1-47a024a198d2\",\"attributes\":{\"name\":\"HSpacer00284\",\"stylesheets\":[\"\\n:host(.pn-loading):before, .pn-loading:before {\\n  background-color: #c3c3c3;\\n  mask-size: auto calc(min(50%, 400px));\\n  -webkit-mask-size: auto calc(min(50%, 400px));\\n}\",{\"id\":\"69b233ce-2e01-48ea-9993-7b4136b17cf7\"},{\"id\":\"ab050ffd-e4a4-4332-8b6d-769e403f4f37\"},{\"id\":\"b0029da3-4962-49dd-b783-5d175d4f3b5f\"}],\"margin\":0,\"sizing_mode\":\"stretch_width\",\"align\":\"start\"}},{\"type\":\"object\",\"name\":\"Figure\",\"id\":\"d4243f50-c8fd-49be-bf4a-f44d5d67da2b\",\"attributes\":{\"width\":700,\"height\":300,\"margin\":[5,10],\"sizing_mode\":\"fixed\",\"align\":\"start\",\"x_range\":{\"type\":\"object\",\"name\":\"FactorRange\",\"id\":\"0bab2a04-b565-400d-8e3c-f77d92933e47\",\"attributes\":{\"name\":\"CPU Type\",\"tags\":[[[\"CPU Type\",null]],[]],\"factors\":[\"AMD\",\"Intel\"]}},\"y_range\":{\"type\":\"object\",\"name\":\"Range1d\",\"id\":\"10ab7dc2-65c6-414b-a920-e62b25116aed\",\"attributes\":{\"name\":\"Average Price\",\"tags\":[[[\"Average Price\",null]],{\"type\":\"map\",\"entries\":[[\"invert_yaxis\",false],[\"autorange\",false]]}],\"end\":2184.2786228808654,\"reset_start\":0.0,\"reset_end\":2184.2786228808654}},\"x_scale\":{\"type\":\"object\",\"name\":\"CategoricalScale\",\"id\":\"f5b6577c-8f7e-42db-aea1-81977f6987e2\"},\"y_scale\":{\"type\":\"object\",\"name\":\"LinearScale\",\"id\":\"29a70bdf-1629-405a-ac9a-65024a125bee\"},\"title\":{\"type\":\"object\",\"name\":\"Title\",\"id\":\"7e4f9507-5688-438b-949f-c0978c71718a\",\"attributes\":{\"text\":\"Average Laptop Prices: AMD vs Intel\",\"text_color\":\"black\",\"text_font_size\":\"12pt\"}},\"renderers\":[{\"type\":\"object\",\"name\":\"GlyphRenderer\",\"id\":\"f813a716-5d53-4c35-9370-a92e03b9736d\",\"attributes\":{\"data_source\":{\"type\":\"object\",\"name\":\"ColumnDataSource\",\"id\":\"bab3f133-dc9e-4779-957a-86c6d2db9b40\",\"attributes\":{\"selected\":{\"type\":\"object\",\"name\":\"Selection\",\"id\":\"b8e38888-dfd0-4c12-849c-512aee4b34af\",\"attributes\":{\"indices\":[],\"line_indices\":[]}},\"selection_policy\":{\"type\":\"object\",\"name\":\"UnionRenderers\",\"id\":\"242b8d55-2146-4ddb-a3e8-3cf1299c3dea\"},\"data\":{\"type\":\"map\",\"entries\":[[\"CPU_Type\",[\"AMD\",\"Intel\"]],[\"Average_Price\",{\"type\":\"ndarray\",\"array\":{\"type\":\"bytes\",\"data\":\"eu21/1IQoUCLGzxw/g2hQA==\"},\"shape\":[2],\"dtype\":\"float64\",\"order\":\"little\"}]]}}},\"view\":{\"type\":\"object\",\"name\":\"CDSView\",\"id\":\"02ac7e37-d7cc-4217-90b8-a28d417afb92\",\"attributes\":{\"filter\":{\"type\":\"object\",\"name\":\"AllIndices\",\"id\":\"479b726a-14d9-4329-9750-4abe8c56b137\"}}},\"glyph\":{\"type\":\"object\",\"name\":\"VBar\",\"id\":\"89e94d10-6c08-487a-9310-1cc6e08fec0c\",\"attributes\":{\"tags\":[\"apply_ranges\"],\"x\":{\"type\":\"field\",\"field\":\"CPU_Type\"},\"width\":{\"type\":\"value\",\"value\":0.8},\"top\":{\"type\":\"field\",\"field\":\"Average_Price\"},\"fill_color\":{\"type\":\"value\",\"value\":\"#ED1C24\"},\"hatch_color\":{\"type\":\"value\",\"value\":\"#ED1C24\"}}},\"selection_glyph\":{\"type\":\"object\",\"name\":\"VBar\",\"id\":\"1156e6c2-1d31-44c0-b490-a1f0f8bf47b8\",\"attributes\":{\"tags\":[\"apply_ranges\"],\"x\":{\"type\":\"field\",\"field\":\"CPU_Type\"},\"width\":{\"type\":\"value\",\"value\":0.8},\"bottom\":{\"type\":\"value\",\"value\":0},\"top\":{\"type\":\"field\",\"field\":\"Average_Price\"},\"line_color\":{\"type\":\"value\",\"value\":\"black\"},\"line_alpha\":{\"type\":\"value\",\"value\":1.0},\"line_width\":{\"type\":\"value\",\"value\":1},\"line_join\":{\"type\":\"value\",\"value\":\"bevel\"},\"line_cap\":{\"type\":\"value\",\"value\":\"butt\"},\"line_dash\":{\"type\":\"value\",\"value\":[]},\"line_dash_offset\":{\"type\":\"value\",\"value\":0},\"fill_color\":{\"type\":\"value\",\"value\":\"#ED1C24\"},\"fill_alpha\":{\"type\":\"value\",\"value\":1.0},\"hatch_color\":{\"type\":\"value\",\"value\":\"#ED1C24\"},\"hatch_alpha\":{\"type\":\"value\",\"value\":1.0},\"hatch_scale\":{\"type\":\"value\",\"value\":12.0},\"hatch_pattern\":{\"type\":\"value\",\"value\":null},\"hatch_weight\":{\"type\":\"value\",\"value\":1.0}}},\"nonselection_glyph\":{\"type\":\"object\",\"name\":\"VBar\",\"id\":\"29e68ccd-4bc6-43ef-b2b0-1743e84b2413\",\"attributes\":{\"tags\":[\"apply_ranges\"],\"x\":{\"type\":\"field\",\"field\":\"CPU_Type\"},\"width\":{\"type\":\"value\",\"value\":0.8},\"top\":{\"type\":\"field\",\"field\":\"Average_Price\"},\"line_alpha\":{\"type\":\"value\",\"value\":0.1},\"fill_color\":{\"type\":\"value\",\"value\":\"#ED1C24\"},\"fill_alpha\":{\"type\":\"value\",\"value\":0.1},\"hatch_color\":{\"type\":\"value\",\"value\":\"#ED1C24\"},\"hatch_alpha\":{\"type\":\"value\",\"value\":0.1}}},\"muted_glyph\":{\"type\":\"object\",\"name\":\"VBar\",\"id\":\"3a5427fe-3a45-4780-ba71-ffd975e79d02\",\"attributes\":{\"tags\":[\"apply_ranges\"],\"x\":{\"type\":\"field\",\"field\":\"CPU_Type\"},\"width\":{\"type\":\"value\",\"value\":0.8},\"top\":{\"type\":\"field\",\"field\":\"Average_Price\"},\"line_alpha\":{\"type\":\"value\",\"value\":0.2},\"fill_color\":{\"type\":\"value\",\"value\":\"#ED1C24\"},\"fill_alpha\":{\"type\":\"value\",\"value\":0.2},\"hatch_color\":{\"type\":\"value\",\"value\":\"#ED1C24\"},\"hatch_alpha\":{\"type\":\"value\",\"value\":0.2}}}}}],\"toolbar\":{\"type\":\"object\",\"name\":\"Toolbar\",\"id\":\"84f5baca-06ef-4419-9349-82d36dc2ebd4\",\"attributes\":{\"tools\":[{\"type\":\"object\",\"name\":\"WheelZoomTool\",\"id\":\"bab5b3f5-8ed3-45c9-a9e8-d907711e459b\",\"attributes\":{\"tags\":[\"hv_created\"],\"renderers\":\"auto\",\"zoom_together\":\"none\"}},{\"type\":\"object\",\"name\":\"HoverTool\",\"id\":\"392b3d0c-a48a-4e68-84a7-17f27706b341\",\"attributes\":{\"tags\":[\"hv_created\"],\"renderers\":[{\"id\":\"f813a716-5d53-4c35-9370-a92e03b9736d\"}],\"tooltips\":[[\"CPU Type\",\"@{CPU_Type}\"],[\"Average Price\",\"@{Average_Price}\"]]}},{\"type\":\"object\",\"name\":\"SaveTool\",\"id\":\"81f31e14-faa0-4b18-b9f8-e8b5309a3e84\"},{\"type\":\"object\",\"name\":\"PanTool\",\"id\":\"65ae8c66-577d-487d-bab3-4b0ee8209324\"},{\"type\":\"object\",\"name\":\"BoxZoomTool\",\"id\":\"70929cf3-7244-4021-8218-c8e8729b4a8c\",\"attributes\":{\"overlay\":{\"type\":\"object\",\"name\":\"BoxAnnotation\",\"id\":\"d1e49ccf-5d0b-4158-ad43-f0db93d3edfd\",\"attributes\":{\"syncable\":false,\"line_color\":\"black\",\"line_alpha\":1.0,\"line_width\":2,\"line_dash\":[4,4],\"fill_color\":\"lightgrey\",\"fill_alpha\":0.5,\"level\":\"overlay\",\"visible\":false,\"left\":{\"type\":\"number\",\"value\":\"nan\"},\"right\":{\"type\":\"number\",\"value\":\"nan\"},\"top\":{\"type\":\"number\",\"value\":\"nan\"},\"bottom\":{\"type\":\"number\",\"value\":\"nan\"},\"left_units\":\"canvas\",\"right_units\":\"canvas\",\"top_units\":\"canvas\",\"bottom_units\":\"canvas\",\"handles\":{\"type\":\"object\",\"name\":\"BoxInteractionHandles\",\"id\":\"1f66eebb-ff29-4b6b-b8cc-b8a710cdb491\",\"attributes\":{\"all\":{\"type\":\"object\",\"name\":\"AreaVisuals\",\"id\":\"8fd3a070-31dd-4dda-8684-60b171d0c40f\",\"attributes\":{\"fill_color\":\"white\",\"hover_fill_color\":\"lightgray\"}}}}}}}},{\"type\":\"object\",\"name\":\"ResetTool\",\"id\":\"d7ee6ec5-22be-4e8f-a8d7-93e27b8f6dfe\"}],\"active_drag\":{\"id\":\"65ae8c66-577d-487d-bab3-4b0ee8209324\"},\"active_scroll\":{\"id\":\"bab5b3f5-8ed3-45c9-a9e8-d907711e459b\"}}},\"left\":[{\"type\":\"object\",\"name\":\"LinearAxis\",\"id\":\"a543c6f0-8c64-4551-a663-4d19cf0dbc0c\",\"attributes\":{\"ticker\":{\"type\":\"object\",\"name\":\"BasicTicker\",\"id\":\"a07567db-0a10-40b1-b8ef-78b4c86f02b8\",\"attributes\":{\"mantissas\":[1,2,5]}},\"formatter\":{\"type\":\"object\",\"name\":\"BasicTickFormatter\",\"id\":\"b3290bc9-c6f7-4a77-b750-a2d0c0eec094\"},\"axis_label\":\"Price ($)\",\"major_label_policy\":{\"type\":\"object\",\"name\":\"AllLabels\",\"id\":\"c6512422-83be-464b-9d22-c867b0a82e87\"}}}],\"below\":[{\"type\":\"object\",\"name\":\"CategoricalAxis\",\"id\":\"44cb7aad-3d05-4336-bb44-05086a4976ae\",\"attributes\":{\"ticker\":{\"type\":\"object\",\"name\":\"CategoricalTicker\",\"id\":\"00f1dc79-5570-4e6f-aa8a-67799956e3fb\"},\"formatter\":{\"type\":\"object\",\"name\":\"CategoricalTickFormatter\",\"id\":\"0b34fc7b-4adb-4ec4-96b0-ff5e5cdb8be6\"},\"axis_label\":\"CPU Type\",\"major_label_policy\":{\"type\":\"object\",\"name\":\"AllLabels\",\"id\":\"97a1b3a4-6ab0-4c67-afd6-1b171ae4b84b\"}}}],\"center\":[{\"type\":\"object\",\"name\":\"Grid\",\"id\":\"7bb4a596-6bb9-4853-a77b-e915121ca166\",\"attributes\":{\"axis\":{\"id\":\"44cb7aad-3d05-4336-bb44-05086a4976ae\"},\"grid_line_color\":null}},{\"type\":\"object\",\"name\":\"Grid\",\"id\":\"932b8e3f-3b7b-4ea2-aa39-9f6064b7fb47\",\"attributes\":{\"dimension\":1,\"axis\":{\"id\":\"a543c6f0-8c64-4551-a663-4d19cf0dbc0c\"},\"grid_line_color\":null}}],\"min_border_top\":10,\"min_border_bottom\":10,\"min_border_left\":10,\"min_border_right\":10,\"output_backend\":\"webgl\"}},{\"type\":\"object\",\"name\":\"Spacer\",\"id\":\"2c741fc7-82db-4bec-8466-c94843714491\",\"attributes\":{\"name\":\"HSpacer00285\",\"stylesheets\":[\"\\n:host(.pn-loading):before, .pn-loading:before {\\n  background-color: #c3c3c3;\\n  mask-size: auto calc(min(50%, 400px));\\n  -webkit-mask-size: auto calc(min(50%, 400px));\\n}\",{\"id\":\"69b233ce-2e01-48ea-9993-7b4136b17cf7\"},{\"id\":\"ab050ffd-e4a4-4332-8b6d-769e403f4f37\"},{\"id\":\"b0029da3-4962-49dd-b783-5d175d4f3b5f\"}],\"margin\":0,\"sizing_mode\":\"stretch_width\",\"align\":\"start\"}}]}}],\"defs\":[{\"type\":\"model\",\"name\":\"ReactiveHTML1\"},{\"type\":\"model\",\"name\":\"FlexBox1\",\"properties\":[{\"name\":\"align_content\",\"kind\":\"Any\",\"default\":\"flex-start\"},{\"name\":\"align_items\",\"kind\":\"Any\",\"default\":\"flex-start\"},{\"name\":\"flex_direction\",\"kind\":\"Any\",\"default\":\"row\"},{\"name\":\"flex_wrap\",\"kind\":\"Any\",\"default\":\"wrap\"},{\"name\":\"gap\",\"kind\":\"Any\",\"default\":\"\"},{\"name\":\"justify_content\",\"kind\":\"Any\",\"default\":\"flex-start\"}]},{\"type\":\"model\",\"name\":\"FloatPanel1\",\"properties\":[{\"name\":\"config\",\"kind\":\"Any\",\"default\":{\"type\":\"map\"}},{\"name\":\"contained\",\"kind\":\"Any\",\"default\":true},{\"name\":\"position\",\"kind\":\"Any\",\"default\":\"right-top\"},{\"name\":\"offsetx\",\"kind\":\"Any\",\"default\":null},{\"name\":\"offsety\",\"kind\":\"Any\",\"default\":null},{\"name\":\"theme\",\"kind\":\"Any\",\"default\":\"primary\"},{\"name\":\"status\",\"kind\":\"Any\",\"default\":\"normalized\"}]},{\"type\":\"model\",\"name\":\"GridStack1\",\"properties\":[{\"name\":\"mode\",\"kind\":\"Any\",\"default\":\"warn\"},{\"name\":\"ncols\",\"kind\":\"Any\",\"default\":null},{\"name\":\"nrows\",\"kind\":\"Any\",\"default\":null},{\"name\":\"allow_resize\",\"kind\":\"Any\",\"default\":true},{\"name\":\"allow_drag\",\"kind\":\"Any\",\"default\":true},{\"name\":\"state\",\"kind\":\"Any\",\"default\":[]}]},{\"type\":\"model\",\"name\":\"drag1\",\"properties\":[{\"name\":\"slider_width\",\"kind\":\"Any\",\"default\":5},{\"name\":\"slider_color\",\"kind\":\"Any\",\"default\":\"black\"},{\"name\":\"value\",\"kind\":\"Any\",\"default\":50}]},{\"type\":\"model\",\"name\":\"click1\",\"properties\":[{\"name\":\"terminal_output\",\"kind\":\"Any\",\"default\":\"\"},{\"name\":\"debug_name\",\"kind\":\"Any\",\"default\":\"\"},{\"name\":\"clears\",\"kind\":\"Any\",\"default\":0}]},{\"type\":\"model\",\"name\":\"FastWrapper1\",\"properties\":[{\"name\":\"object\",\"kind\":\"Any\",\"default\":null},{\"name\":\"style\",\"kind\":\"Any\",\"default\":null}]},{\"type\":\"model\",\"name\":\"NotificationAreaBase1\",\"properties\":[{\"name\":\"js_events\",\"kind\":\"Any\",\"default\":{\"type\":\"map\"}},{\"name\":\"position\",\"kind\":\"Any\",\"default\":\"bottom-right\"},{\"name\":\"_clear\",\"kind\":\"Any\",\"default\":0}]},{\"type\":\"model\",\"name\":\"NotificationArea1\",\"properties\":[{\"name\":\"js_events\",\"kind\":\"Any\",\"default\":{\"type\":\"map\"}},{\"name\":\"notifications\",\"kind\":\"Any\",\"default\":[]},{\"name\":\"position\",\"kind\":\"Any\",\"default\":\"bottom-right\"},{\"name\":\"_clear\",\"kind\":\"Any\",\"default\":0},{\"name\":\"types\",\"kind\":\"Any\",\"default\":[{\"type\":\"map\",\"entries\":[[\"type\",\"warning\"],[\"background\",\"#ffc107\"],[\"icon\",{\"type\":\"map\",\"entries\":[[\"className\",\"fas fa-exclamation-triangle\"],[\"tagName\",\"i\"],[\"color\",\"white\"]]}]]},{\"type\":\"map\",\"entries\":[[\"type\",\"info\"],[\"background\",\"#007bff\"],[\"icon\",{\"type\":\"map\",\"entries\":[[\"className\",\"fas fa-info-circle\"],[\"tagName\",\"i\"],[\"color\",\"white\"]]}]]}]}]},{\"type\":\"model\",\"name\":\"Notification\",\"properties\":[{\"name\":\"background\",\"kind\":\"Any\",\"default\":null},{\"name\":\"duration\",\"kind\":\"Any\",\"default\":3000},{\"name\":\"icon\",\"kind\":\"Any\",\"default\":null},{\"name\":\"message\",\"kind\":\"Any\",\"default\":\"\"},{\"name\":\"notification_type\",\"kind\":\"Any\",\"default\":null},{\"name\":\"_rendered\",\"kind\":\"Any\",\"default\":false},{\"name\":\"_destroyed\",\"kind\":\"Any\",\"default\":false}]},{\"type\":\"model\",\"name\":\"TemplateActions1\",\"properties\":[{\"name\":\"open_modal\",\"kind\":\"Any\",\"default\":0},{\"name\":\"close_modal\",\"kind\":\"Any\",\"default\":0}]},{\"type\":\"model\",\"name\":\"BootstrapTemplateActions1\",\"properties\":[{\"name\":\"open_modal\",\"kind\":\"Any\",\"default\":0},{\"name\":\"close_modal\",\"kind\":\"Any\",\"default\":0}]},{\"type\":\"model\",\"name\":\"TemplateEditor1\",\"properties\":[{\"name\":\"layout\",\"kind\":\"Any\",\"default\":[]}]},{\"type\":\"model\",\"name\":\"MaterialTemplateActions1\",\"properties\":[{\"name\":\"open_modal\",\"kind\":\"Any\",\"default\":0},{\"name\":\"close_modal\",\"kind\":\"Any\",\"default\":0}]},{\"type\":\"model\",\"name\":\"ReactiveESM1\",\"properties\":[{\"name\":\"esm_constants\",\"kind\":\"Any\",\"default\":{\"type\":\"map\"}}]},{\"type\":\"model\",\"name\":\"JSComponent1\",\"properties\":[{\"name\":\"esm_constants\",\"kind\":\"Any\",\"default\":{\"type\":\"map\"}}]},{\"type\":\"model\",\"name\":\"ReactComponent1\",\"properties\":[{\"name\":\"esm_constants\",\"kind\":\"Any\",\"default\":{\"type\":\"map\"}}]},{\"type\":\"model\",\"name\":\"AnyWidgetComponent1\",\"properties\":[{\"name\":\"esm_constants\",\"kind\":\"Any\",\"default\":{\"type\":\"map\"}}]},{\"type\":\"model\",\"name\":\"request_value1\",\"properties\":[{\"name\":\"fill\",\"kind\":\"Any\",\"default\":\"none\"},{\"name\":\"_synced\",\"kind\":\"Any\",\"default\":null},{\"name\":\"_request_sync\",\"kind\":\"Any\",\"default\":0}]}]}};\n",
       "  var render_items = [{\"docid\":\"a1b7f1a3-bb01-4a9e-8a72-be20d70df532\",\"roots\":{\"99e7ef62-0d10-48fd-abc0-fe60d0034675\":\"f3fd0b49-c385-4184-9c06-308274e6ebb3\"},\"root_ids\":[\"99e7ef62-0d10-48fd-abc0-fe60d0034675\"]}];\n",
       "  var docs = Object.values(docs_json)\n",
       "  if (!docs) {\n",
       "    return\n",
       "  }\n",
       "  const py_version = docs[0].version.replace('rc', '-rc.').replace('.dev', '-dev.')\n",
       "  async function embed_document(root) {\n",
       "    var Bokeh = get_bokeh(root)\n",
       "    await Bokeh.embed.embed_items_notebook(docs_json, render_items);\n",
       "    for (const render_item of render_items) {\n",
       "      for (const root_id of render_item.root_ids) {\n",
       "\tconst id_el = document.getElementById(root_id)\n",
       "\tif (id_el.children.length && id_el.children[0].hasAttribute('data-root-id')) {\n",
       "\t  const root_el = id_el.children[0]\n",
       "\t  root_el.id = root_el.id + '-rendered'\n",
       "\t  for (const child of root_el.children) {\n",
       "            // Ensure JupyterLab does not capture keyboard shortcuts\n",
       "            // see: https://jupyterlab.readthedocs.io/en/4.1.x/extension/notebook.html#keyboard-interaction-model\n",
       "\t    child.setAttribute('data-lm-suppress-shortcuts', 'true')\n",
       "\t  }\n",
       "\t}\n",
       "      }\n",
       "    }\n",
       "  }\n",
       "  function get_bokeh(root) {\n",
       "    if (root.Bokeh === undefined) {\n",
       "      return null\n",
       "    } else if (root.Bokeh.version !== py_version) {\n",
       "      if (root.Bokeh.versions === undefined || !root.Bokeh.versions.has(py_version)) {\n",
       "\treturn null\n",
       "      }\n",
       "      return root.Bokeh.versions.get(py_version);\n",
       "    } else if (root.Bokeh.version === py_version) {\n",
       "      return root.Bokeh\n",
       "    }\n",
       "    return null\n",
       "  }\n",
       "  function is_loaded(root) {\n",
       "    var Bokeh = get_bokeh(root)\n",
       "    return (Bokeh != null && Bokeh.Panel !== undefined)\n",
       "  }\n",
       "  if (is_loaded(root)) {\n",
       "    embed_document(root);\n",
       "  } else {\n",
       "    var attempts = 0;\n",
       "    var timer = setInterval(function(root) {\n",
       "      if (is_loaded(root)) {\n",
       "        clearInterval(timer);\n",
       "        embed_document(root);\n",
       "      } else if (document.readyState == \"complete\") {\n",
       "        attempts++;\n",
       "        if (attempts > 200) {\n",
       "          clearInterval(timer);\n",
       "\t  var Bokeh = get_bokeh(root)\n",
       "\t  if (Bokeh == null || Bokeh.Panel == null) {\n",
       "            console.warn(\"Panel: ERROR: Unable to run Panel code because Bokeh or Panel library is missing\");\n",
       "\t  } else {\n",
       "\t    console.warn(\"Panel: WARNING: Attempting to render but not all required libraries could be resolved.\")\n",
       "\t    embed_document(root)\n",
       "\t  }\n",
       "        }\n",
       "      }\n",
       "    }, 25, root)\n",
       "  }\n",
       "})(window);</script>"
      ],
      "application/vnd.holoviews_exec.v0+json": "",
      "text/plain": [
       ":Bars   [CPU Type]   (Average Price)"
      ]
     },
     "execution_count": 8,
     "metadata": {
      "application/vnd.holoviews_exec.v0+json": {
       "id": "99e7ef62-0d10-48fd-abc0-fe60d0034675"
      }
     },
     "output_type": "execute_result"
    }
   ],
   "execution_count": 8
  },
  {
   "metadata": {
    "ExecuteTime": {
     "end_time": "2025-02-23T12:15:11.244819Z",
     "start_time": "2025-02-23T12:15:11.186355Z"
    }
   },
   "cell_type": "code",
   "source": "df.with_columns(pl.col('Price ($)').map_elements(lambda x: x * 2, return_dtype=pl.Float64).alias('Double Price'))",
   "id": "64a5cf54a5e561d9",
   "outputs": [
    {
     "data": {
      "text/plain": [
       "shape: (11_768, 14)\n",
       "┌─────────┬─────────────┬──────────┬───────────┬───┬───────────┬─────────┬───────────┬─────────┐\n",
       "│ Brand   ┆ Processor   ┆ RAM (GB) ┆ Storage   ┆ … ┆ Price ($) ┆ AMD CPU ┆ Intel CPU ┆ Double  │\n",
       "│ ---     ┆ ---         ┆ ---      ┆ ---       ┆   ┆ ---       ┆ ---     ┆ ---       ┆ Price   │\n",
       "│ str     ┆ str         ┆ i64      ┆ str       ┆   ┆ f64       ┆ bool    ┆ bool      ┆ ---     │\n",
       "│         ┆             ┆          ┆           ┆   ┆           ┆         ┆           ┆ f64     │\n",
       "╞═════════╪═════════════╪══════════╪═══════════╪═══╪═══════════╪═════════╪═══════════╪═════════╡\n",
       "│ Apple   ┆ AMD Ryzen 3 ┆ 64       ┆ 512GB SSD ┆ … ┆ 3997.07   ┆ true    ┆ false     ┆ 7994.14 │\n",
       "│ Razer   ┆ AMD Ryzen 7 ┆ 4        ┆ 1TB SSD   ┆ … ┆ 1355.78   ┆ true    ┆ false     ┆ 2711.56 │\n",
       "│ Asus    ┆ Intel i5    ┆ 32       ┆ 2TB SSD   ┆ … ┆ 2673.07   ┆ false   ┆ true      ┆ 5346.14 │\n",
       "│ Lenovo  ┆ Intel i5    ┆ 4        ┆ 256GB SSD ┆ … ┆ 751.17    ┆ false   ┆ true      ┆ 1502.34 │\n",
       "│ Razer   ┆ Intel i3    ┆ 4        ┆ 256GB SSD ┆ … ┆ 2059.83   ┆ false   ┆ true      ┆ 4119.66 │\n",
       "│ …       ┆ …           ┆ …        ┆ …         ┆ … ┆ …         ┆ …       ┆ …         ┆ …       │\n",
       "│ Acer    ┆ Intel i3    ┆ 4        ┆ 2TB SSD   ┆ … ┆ 704.82    ┆ false   ┆ true      ┆ 1409.64 │\n",
       "│ Asus    ┆ Intel i3    ┆ 4        ┆ 2TB SSD   ┆ … ┆ 775.59    ┆ false   ┆ true      ┆ 1551.18 │\n",
       "│ Razer   ┆ AMD Ryzen 9 ┆ 4        ┆ 2TB SSD   ┆ … ┆ 2789.46   ┆ true    ┆ false     ┆ 5578.92 │\n",
       "│ Samsung ┆ AMD Ryzen 7 ┆ 16       ┆ 512GB SSD ┆ … ┆ 1067.13   ┆ true    ┆ false     ┆ 2134.26 │\n",
       "│ Samsung ┆ Intel i7    ┆ 8        ┆ 256GB SSD ┆ … ┆ 1579.55   ┆ false   ┆ true      ┆ 3159.1  │\n",
       "└─────────┴─────────────┴──────────┴───────────┴───┴───────────┴─────────┴───────────┴─────────┘"
      ],
      "text/html": [
       "<div><style>\n",
       ".dataframe > thead > tr,\n",
       ".dataframe > tbody > tr {\n",
       "  text-align: right;\n",
       "  white-space: pre-wrap;\n",
       "}\n",
       "</style>\n",
       "<small>shape: (11_768, 14)</small><table border=\"1\" class=\"dataframe\"><thead><tr><th>Brand</th><th>Processor</th><th>RAM (GB)</th><th>Storage</th><th>GPU</th><th>Screen Size (inch)</th><th>Resolution</th><th>Battery Life (hours)</th><th>Weight (kg)</th><th>Operating System</th><th>Price ($)</th><th>AMD CPU</th><th>Intel CPU</th><th>Double Price</th></tr><tr><td>str</td><td>str</td><td>i64</td><td>str</td><td>str</td><td>f64</td><td>str</td><td>f64</td><td>f64</td><td>str</td><td>f64</td><td>bool</td><td>bool</td><td>f64</td></tr></thead><tbody><tr><td>&quot;Apple&quot;</td><td>&quot;AMD Ryzen 3&quot;</td><td>64</td><td>&quot;512GB SSD&quot;</td><td>&quot;Nvidia GTX 1650&quot;</td><td>17.3</td><td>&quot;2560x1440&quot;</td><td>8.9</td><td>1.42</td><td>&quot;FreeDOS&quot;</td><td>3997.07</td><td>true</td><td>false</td><td>7994.14</td></tr><tr><td>&quot;Razer&quot;</td><td>&quot;AMD Ryzen 7&quot;</td><td>4</td><td>&quot;1TB SSD&quot;</td><td>&quot;Nvidia RTX 3080&quot;</td><td>14.0</td><td>&quot;1366x768&quot;</td><td>9.4</td><td>2.57</td><td>&quot;Linux&quot;</td><td>1355.78</td><td>true</td><td>false</td><td>2711.56</td></tr><tr><td>&quot;Asus&quot;</td><td>&quot;Intel i5&quot;</td><td>32</td><td>&quot;2TB SSD&quot;</td><td>&quot;Nvidia RTX 3060&quot;</td><td>13.3</td><td>&quot;3840x2160&quot;</td><td>8.5</td><td>1.74</td><td>&quot;FreeDOS&quot;</td><td>2673.07</td><td>false</td><td>true</td><td>5346.14</td></tr><tr><td>&quot;Lenovo&quot;</td><td>&quot;Intel i5&quot;</td><td>4</td><td>&quot;256GB SSD&quot;</td><td>&quot;Nvidia RTX 3080&quot;</td><td>13.3</td><td>&quot;1366x768&quot;</td><td>10.5</td><td>3.1</td><td>&quot;Windows&quot;</td><td>751.17</td><td>false</td><td>true</td><td>1502.34</td></tr><tr><td>&quot;Razer&quot;</td><td>&quot;Intel i3&quot;</td><td>4</td><td>&quot;256GB SSD&quot;</td><td>&quot;AMD Radeon RX 6600&quot;</td><td>16.0</td><td>&quot;3840x2160&quot;</td><td>5.7</td><td>3.38</td><td>&quot;Linux&quot;</td><td>2059.83</td><td>false</td><td>true</td><td>4119.66</td></tr><tr><td>&hellip;</td><td>&hellip;</td><td>&hellip;</td><td>&hellip;</td><td>&hellip;</td><td>&hellip;</td><td>&hellip;</td><td>&hellip;</td><td>&hellip;</td><td>&hellip;</td><td>&hellip;</td><td>&hellip;</td><td>&hellip;</td><td>&hellip;</td></tr><tr><td>&quot;Acer&quot;</td><td>&quot;Intel i3&quot;</td><td>4</td><td>&quot;2TB SSD&quot;</td><td>&quot;Nvidia RTX 2060&quot;</td><td>17.3</td><td>&quot;1366x768&quot;</td><td>11.5</td><td>1.58</td><td>&quot;macOS&quot;</td><td>704.82</td><td>false</td><td>true</td><td>1409.64</td></tr><tr><td>&quot;Asus&quot;</td><td>&quot;Intel i3&quot;</td><td>4</td><td>&quot;2TB SSD&quot;</td><td>&quot;AMD Radeon RX 6800&quot;</td><td>16.0</td><td>&quot;1366x768&quot;</td><td>9.5</td><td>2.14</td><td>&quot;Linux&quot;</td><td>775.59</td><td>false</td><td>true</td><td>1551.18</td></tr><tr><td>&quot;Razer&quot;</td><td>&quot;AMD Ryzen 9&quot;</td><td>4</td><td>&quot;2TB SSD&quot;</td><td>&quot;AMD Radeon RX 6600&quot;</td><td>15.6</td><td>&quot;2560x1440&quot;</td><td>8.2</td><td>2.05</td><td>&quot;Linux&quot;</td><td>2789.46</td><td>true</td><td>false</td><td>5578.92</td></tr><tr><td>&quot;Samsung&quot;</td><td>&quot;AMD Ryzen 7&quot;</td><td>16</td><td>&quot;512GB SSD&quot;</td><td>&quot;Integrated&quot;</td><td>13.3</td><td>&quot;1920x1080&quot;</td><td>7.5</td><td>1.48</td><td>&quot;macOS&quot;</td><td>1067.13</td><td>true</td><td>false</td><td>2134.26</td></tr><tr><td>&quot;Samsung&quot;</td><td>&quot;Intel i7&quot;</td><td>8</td><td>&quot;256GB SSD&quot;</td><td>&quot;Nvidia RTX 3080&quot;</td><td>17.3</td><td>&quot;2560x1440&quot;</td><td>6.4</td><td>2.45</td><td>&quot;FreeDOS&quot;</td><td>1579.55</td><td>false</td><td>true</td><td>3159.1</td></tr></tbody></table></div>"
      ]
     },
     "execution_count": 18,
     "metadata": {},
     "output_type": "execute_result"
    }
   ],
   "execution_count": 18
  },
  {
   "metadata": {
    "ExecuteTime": {
     "end_time": "2025-02-23T13:23:54.177566Z",
     "start_time": "2025-02-23T13:23:54.171455Z"
    }
   },
   "cell_type": "code",
   "source": [
    "df.pivot(\n",
    "    index='Brand',\n",
    "    on='Storage',\n",
    "    values='Price ($)',\n",
    "    aggregate_function='mean'\n",
    ")"
   ],
   "id": "22f9cb0bcb3f55fe",
   "outputs": [
    {
     "data": {
      "text/plain": [
       "shape: (10, 6)\n",
       "┌───────────┬─────────────┬─────────────┬─────────────┬─────────────┬─────────────┐\n",
       "│ Brand     ┆ 512GB SSD   ┆ 1TB SSD     ┆ 2TB SSD     ┆ 256GB SSD   ┆ 1TB HDD     │\n",
       "│ ---       ┆ ---         ┆ ---         ┆ ---         ┆ ---         ┆ ---         │\n",
       "│ str       ┆ f64         ┆ f64         ┆ f64         ┆ f64         ┆ f64         │\n",
       "╞═══════════╪═════════════╪═════════════╪═════════════╪═════════════╪═════════════╡\n",
       "│ Apple     ┆ 3095.289403 ┆ 2937.319955 ┆ 2920.519228 ┆ 3025.939919 ┆ 2609.298914 │\n",
       "│ Razer     ┆ 2648.8576   ┆ 2851.597091 ┆ 2792.696413 ┆ 2808.24448  ┆ 2337.868551 │\n",
       "│ Asus      ┆ 1994.06396  ┆ 1959.418465 ┆ 1955.284249 ┆ 1910.389766 ┆ 1815.225417 │\n",
       "│ Lenovo    ┆ 2016.879461 ┆ 2039.072304 ┆ 2018.83893  ┆ 2191.726284 ┆ 1630.188053 │\n",
       "│ Acer      ┆ 1945.202753 ┆ 1955.700766 ┆ 1964.069614 ┆ 1978.603054 ┆ 1717.818839 │\n",
       "│ Dell      ┆ 2011.450667 ┆ 2058.401532 ┆ 1982.006387 ┆ 2113.511443 ┆ 1688.006776 │\n",
       "│ Microsoft ┆ 2009.473061 ┆ 1956.780043 ┆ 2045.612591 ┆ 2234.29214  ┆ 1607.897864 │\n",
       "│ HP        ┆ 2042.168139 ┆ 2060.061941 ┆ 1978.85129  ┆ 1911.91898  ┆ 1702.365612 │\n",
       "│ Samsung   ┆ 1945.826535 ┆ 2152.040345 ┆ 2019.810448 ┆ 1968.066604 ┆ 1690.45693  │\n",
       "│ MSI       ┆ 2531.501061 ┆ 2915.158465 ┆ 2423.943017 ┆ 2554.885604 ┆ 2158.742222 │\n",
       "└───────────┴─────────────┴─────────────┴─────────────┴─────────────┴─────────────┘"
      ],
      "text/html": [
       "<div><style>\n",
       ".dataframe > thead > tr,\n",
       ".dataframe > tbody > tr {\n",
       "  text-align: right;\n",
       "  white-space: pre-wrap;\n",
       "}\n",
       "</style>\n",
       "<small>shape: (10, 6)</small><table border=\"1\" class=\"dataframe\"><thead><tr><th>Brand</th><th>512GB SSD</th><th>1TB SSD</th><th>2TB SSD</th><th>256GB SSD</th><th>1TB HDD</th></tr><tr><td>str</td><td>f64</td><td>f64</td><td>f64</td><td>f64</td><td>f64</td></tr></thead><tbody><tr><td>&quot;Apple&quot;</td><td>3095.289403</td><td>2937.319955</td><td>2920.519228</td><td>3025.939919</td><td>2609.298914</td></tr><tr><td>&quot;Razer&quot;</td><td>2648.8576</td><td>2851.597091</td><td>2792.696413</td><td>2808.24448</td><td>2337.868551</td></tr><tr><td>&quot;Asus&quot;</td><td>1994.06396</td><td>1959.418465</td><td>1955.284249</td><td>1910.389766</td><td>1815.225417</td></tr><tr><td>&quot;Lenovo&quot;</td><td>2016.879461</td><td>2039.072304</td><td>2018.83893</td><td>2191.726284</td><td>1630.188053</td></tr><tr><td>&quot;Acer&quot;</td><td>1945.202753</td><td>1955.700766</td><td>1964.069614</td><td>1978.603054</td><td>1717.818839</td></tr><tr><td>&quot;Dell&quot;</td><td>2011.450667</td><td>2058.401532</td><td>1982.006387</td><td>2113.511443</td><td>1688.006776</td></tr><tr><td>&quot;Microsoft&quot;</td><td>2009.473061</td><td>1956.780043</td><td>2045.612591</td><td>2234.29214</td><td>1607.897864</td></tr><tr><td>&quot;HP&quot;</td><td>2042.168139</td><td>2060.061941</td><td>1978.85129</td><td>1911.91898</td><td>1702.365612</td></tr><tr><td>&quot;Samsung&quot;</td><td>1945.826535</td><td>2152.040345</td><td>2019.810448</td><td>1968.066604</td><td>1690.45693</td></tr><tr><td>&quot;MSI&quot;</td><td>2531.501061</td><td>2915.158465</td><td>2423.943017</td><td>2554.885604</td><td>2158.742222</td></tr></tbody></table></div>"
      ]
     },
     "execution_count": 40,
     "metadata": {},
     "output_type": "execute_result"
    }
   ],
   "execution_count": 40
  },
  {
   "metadata": {
    "ExecuteTime": {
     "end_time": "2025-02-23T13:25:31.218811Z",
     "start_time": "2025-02-23T13:25:31.212041Z"
    }
   },
   "cell_type": "code",
   "source": "df.select(pl.col('Processor').str.len_chars())",
   "id": "f87126d46b11e62",
   "outputs": [
    {
     "data": {
      "text/plain": [
       "shape: (11_768, 1)\n",
       "┌───────────┐\n",
       "│ Processor │\n",
       "│ ---       │\n",
       "│ u32       │\n",
       "╞═══════════╡\n",
       "│ 11        │\n",
       "│ 11        │\n",
       "│ 8         │\n",
       "│ 8         │\n",
       "│ 8         │\n",
       "│ …         │\n",
       "│ 8         │\n",
       "│ 8         │\n",
       "│ 11        │\n",
       "│ 11        │\n",
       "│ 8         │\n",
       "└───────────┘"
      ],
      "text/html": [
       "<div><style>\n",
       ".dataframe > thead > tr,\n",
       ".dataframe > tbody > tr {\n",
       "  text-align: right;\n",
       "  white-space: pre-wrap;\n",
       "}\n",
       "</style>\n",
       "<small>shape: (11_768, 1)</small><table border=\"1\" class=\"dataframe\"><thead><tr><th>Processor</th></tr><tr><td>u32</td></tr></thead><tbody><tr><td>11</td></tr><tr><td>11</td></tr><tr><td>8</td></tr><tr><td>8</td></tr><tr><td>8</td></tr><tr><td>&hellip;</td></tr><tr><td>8</td></tr><tr><td>8</td></tr><tr><td>11</td></tr><tr><td>11</td></tr><tr><td>8</td></tr></tbody></table></div>"
      ]
     },
     "execution_count": 44,
     "metadata": {},
     "output_type": "execute_result"
    }
   ],
   "execution_count": 44
  },
  {
   "metadata": {
    "ExecuteTime": {
     "end_time": "2025-02-23T13:28:46.691363Z",
     "start_time": "2025-02-23T13:28:46.684330Z"
    }
   },
   "cell_type": "code",
   "source": "df.with_columns(pl.col('Price ($)').cum_max().over('Processor'))",
   "id": "60a75ddd9abdf220",
   "outputs": [
    {
     "data": {
      "text/plain": [
       "shape: (11_768, 13)\n",
       "┌─────────┬─────────────┬──────────┬───────────┬───┬─────────────┬───────────┬─────────┬───────────┐\n",
       "│ Brand   ┆ Processor   ┆ RAM (GB) ┆ Storage   ┆ … ┆ Operating   ┆ Price ($) ┆ AMD CPU ┆ Intel CPU │\n",
       "│ ---     ┆ ---         ┆ ---      ┆ ---       ┆   ┆ System      ┆ ---       ┆ ---     ┆ ---       │\n",
       "│ str     ┆ str         ┆ i64      ┆ str       ┆   ┆ ---         ┆ f64       ┆ bool    ┆ bool      │\n",
       "│         ┆             ┆          ┆           ┆   ┆ str         ┆           ┆         ┆           │\n",
       "╞═════════╪═════════════╪══════════╪═══════════╪═══╪═════════════╪═══════════╪═════════╪═══════════╡\n",
       "│ Apple   ┆ AMD Ryzen 3 ┆ 64       ┆ 512GB SSD ┆ … ┆ FreeDOS     ┆ 3997.07   ┆ true    ┆ false     │\n",
       "│ Razer   ┆ AMD Ryzen 7 ┆ 4        ┆ 1TB SSD   ┆ … ┆ Linux       ┆ 1355.78   ┆ true    ┆ false     │\n",
       "│ Asus    ┆ Intel i5    ┆ 32       ┆ 2TB SSD   ┆ … ┆ FreeDOS     ┆ 2673.07   ┆ false   ┆ true      │\n",
       "│ Lenovo  ┆ Intel i5    ┆ 4        ┆ 256GB SSD ┆ … ┆ Windows     ┆ 2673.07   ┆ false   ┆ true      │\n",
       "│ Razer   ┆ Intel i3    ┆ 4        ┆ 256GB SSD ┆ … ┆ Linux       ┆ 2059.83   ┆ false   ┆ true      │\n",
       "│ …       ┆ …           ┆ …        ┆ …         ┆ … ┆ …           ┆ …         ┆ …       ┆ …         │\n",
       "│ Acer    ┆ Intel i3    ┆ 4        ┆ 2TB SSD   ┆ … ┆ macOS       ┆ 5543.63   ┆ false   ┆ true      │\n",
       "│ Asus    ┆ Intel i3    ┆ 4        ┆ 2TB SSD   ┆ … ┆ Linux       ┆ 5543.63   ┆ false   ┆ true      │\n",
       "│ Razer   ┆ AMD Ryzen 9 ┆ 4        ┆ 2TB SSD   ┆ … ┆ Linux       ┆ 10807.88  ┆ true    ┆ false     │\n",
       "│ Samsung ┆ AMD Ryzen 7 ┆ 16       ┆ 512GB SSD ┆ … ┆ macOS       ┆ 8176.3    ┆ true    ┆ false     │\n",
       "│ Samsung ┆ Intel i7    ┆ 8        ┆ 256GB SSD ┆ … ┆ FreeDOS     ┆ 8169.16   ┆ false   ┆ true      │\n",
       "└─────────┴─────────────┴──────────┴───────────┴───┴─────────────┴───────────┴─────────┴───────────┘"
      ],
      "text/html": [
       "<div><style>\n",
       ".dataframe > thead > tr,\n",
       ".dataframe > tbody > tr {\n",
       "  text-align: right;\n",
       "  white-space: pre-wrap;\n",
       "}\n",
       "</style>\n",
       "<small>shape: (11_768, 13)</small><table border=\"1\" class=\"dataframe\"><thead><tr><th>Brand</th><th>Processor</th><th>RAM (GB)</th><th>Storage</th><th>GPU</th><th>Screen Size (inch)</th><th>Resolution</th><th>Battery Life (hours)</th><th>Weight (kg)</th><th>Operating System</th><th>Price ($)</th><th>AMD CPU</th><th>Intel CPU</th></tr><tr><td>str</td><td>str</td><td>i64</td><td>str</td><td>str</td><td>f64</td><td>str</td><td>f64</td><td>f64</td><td>str</td><td>f64</td><td>bool</td><td>bool</td></tr></thead><tbody><tr><td>&quot;Apple&quot;</td><td>&quot;AMD Ryzen 3&quot;</td><td>64</td><td>&quot;512GB SSD&quot;</td><td>&quot;Nvidia GTX 1650&quot;</td><td>17.3</td><td>&quot;2560x1440&quot;</td><td>8.9</td><td>1.42</td><td>&quot;FreeDOS&quot;</td><td>3997.07</td><td>true</td><td>false</td></tr><tr><td>&quot;Razer&quot;</td><td>&quot;AMD Ryzen 7&quot;</td><td>4</td><td>&quot;1TB SSD&quot;</td><td>&quot;Nvidia RTX 3080&quot;</td><td>14.0</td><td>&quot;1366x768&quot;</td><td>9.4</td><td>2.57</td><td>&quot;Linux&quot;</td><td>1355.78</td><td>true</td><td>false</td></tr><tr><td>&quot;Asus&quot;</td><td>&quot;Intel i5&quot;</td><td>32</td><td>&quot;2TB SSD&quot;</td><td>&quot;Nvidia RTX 3060&quot;</td><td>13.3</td><td>&quot;3840x2160&quot;</td><td>8.5</td><td>1.74</td><td>&quot;FreeDOS&quot;</td><td>2673.07</td><td>false</td><td>true</td></tr><tr><td>&quot;Lenovo&quot;</td><td>&quot;Intel i5&quot;</td><td>4</td><td>&quot;256GB SSD&quot;</td><td>&quot;Nvidia RTX 3080&quot;</td><td>13.3</td><td>&quot;1366x768&quot;</td><td>10.5</td><td>3.1</td><td>&quot;Windows&quot;</td><td>2673.07</td><td>false</td><td>true</td></tr><tr><td>&quot;Razer&quot;</td><td>&quot;Intel i3&quot;</td><td>4</td><td>&quot;256GB SSD&quot;</td><td>&quot;AMD Radeon RX 6600&quot;</td><td>16.0</td><td>&quot;3840x2160&quot;</td><td>5.7</td><td>3.38</td><td>&quot;Linux&quot;</td><td>2059.83</td><td>false</td><td>true</td></tr><tr><td>&hellip;</td><td>&hellip;</td><td>&hellip;</td><td>&hellip;</td><td>&hellip;</td><td>&hellip;</td><td>&hellip;</td><td>&hellip;</td><td>&hellip;</td><td>&hellip;</td><td>&hellip;</td><td>&hellip;</td><td>&hellip;</td></tr><tr><td>&quot;Acer&quot;</td><td>&quot;Intel i3&quot;</td><td>4</td><td>&quot;2TB SSD&quot;</td><td>&quot;Nvidia RTX 2060&quot;</td><td>17.3</td><td>&quot;1366x768&quot;</td><td>11.5</td><td>1.58</td><td>&quot;macOS&quot;</td><td>5543.63</td><td>false</td><td>true</td></tr><tr><td>&quot;Asus&quot;</td><td>&quot;Intel i3&quot;</td><td>4</td><td>&quot;2TB SSD&quot;</td><td>&quot;AMD Radeon RX 6800&quot;</td><td>16.0</td><td>&quot;1366x768&quot;</td><td>9.5</td><td>2.14</td><td>&quot;Linux&quot;</td><td>5543.63</td><td>false</td><td>true</td></tr><tr><td>&quot;Razer&quot;</td><td>&quot;AMD Ryzen 9&quot;</td><td>4</td><td>&quot;2TB SSD&quot;</td><td>&quot;AMD Radeon RX 6600&quot;</td><td>15.6</td><td>&quot;2560x1440&quot;</td><td>8.2</td><td>2.05</td><td>&quot;Linux&quot;</td><td>10807.88</td><td>true</td><td>false</td></tr><tr><td>&quot;Samsung&quot;</td><td>&quot;AMD Ryzen 7&quot;</td><td>16</td><td>&quot;512GB SSD&quot;</td><td>&quot;Integrated&quot;</td><td>13.3</td><td>&quot;1920x1080&quot;</td><td>7.5</td><td>1.48</td><td>&quot;macOS&quot;</td><td>8176.3</td><td>true</td><td>false</td></tr><tr><td>&quot;Samsung&quot;</td><td>&quot;Intel i7&quot;</td><td>8</td><td>&quot;256GB SSD&quot;</td><td>&quot;Nvidia RTX 3080&quot;</td><td>17.3</td><td>&quot;2560x1440&quot;</td><td>6.4</td><td>2.45</td><td>&quot;FreeDOS&quot;</td><td>8169.16</td><td>false</td><td>true</td></tr></tbody></table></div>"
      ]
     },
     "execution_count": 51,
     "metadata": {},
     "output_type": "execute_result"
    }
   ],
   "execution_count": 51
  },
  {
   "metadata": {
    "ExecuteTime": {
     "end_time": "2025-02-23T13:30:43.729158Z",
     "start_time": "2025-02-23T13:30:43.722674Z"
    }
   },
   "cell_type": "code",
   "source": "df.with_columns(pl.col('Price ($)').rolling_mean(window_size=3).over('GPU'))",
   "id": "d4f79992b4cbba81",
   "outputs": [
    {
     "data": {
      "text/plain": [
       "shape: (11_768, 13)\n",
       "┌─────────┬─────────────┬──────────┬───────────┬───┬────────────┬────────────┬─────────┬───────────┐\n",
       "│ Brand   ┆ Processor   ┆ RAM (GB) ┆ Storage   ┆ … ┆ Operating  ┆ Price ($)  ┆ AMD CPU ┆ Intel CPU │\n",
       "│ ---     ┆ ---         ┆ ---      ┆ ---       ┆   ┆ System     ┆ ---        ┆ ---     ┆ ---       │\n",
       "│ str     ┆ str         ┆ i64      ┆ str       ┆   ┆ ---        ┆ f64        ┆ bool    ┆ bool      │\n",
       "│         ┆             ┆          ┆           ┆   ┆ str        ┆            ┆         ┆           │\n",
       "╞═════════╪═════════════╪══════════╪═══════════╪═══╪════════════╪════════════╪═════════╪═══════════╡\n",
       "│ Apple   ┆ AMD Ryzen 3 ┆ 64       ┆ 512GB SSD ┆ … ┆ FreeDOS    ┆ null       ┆ true    ┆ false     │\n",
       "│ Razer   ┆ AMD Ryzen 7 ┆ 4        ┆ 1TB SSD   ┆ … ┆ Linux      ┆ null       ┆ true    ┆ false     │\n",
       "│ Asus    ┆ Intel i5    ┆ 32       ┆ 2TB SSD   ┆ … ┆ FreeDOS    ┆ null       ┆ false   ┆ true      │\n",
       "│ Lenovo  ┆ Intel i5    ┆ 4        ┆ 256GB SSD ┆ … ┆ Windows    ┆ null       ┆ false   ┆ true      │\n",
       "│ Razer   ┆ Intel i3    ┆ 4        ┆ 256GB SSD ┆ … ┆ Linux      ┆ null       ┆ false   ┆ true      │\n",
       "│ …       ┆ …           ┆ …        ┆ …         ┆ … ┆ …          ┆ …          ┆ …       ┆ …         │\n",
       "│ Acer    ┆ Intel i3    ┆ 4        ┆ 2TB SSD   ┆ … ┆ macOS      ┆ 1173.64333 ┆ false   ┆ true      │\n",
       "│         ┆             ┆          ┆           ┆   ┆            ┆ 3          ┆         ┆           │\n",
       "│ Asus    ┆ Intel i3    ┆ 4        ┆ 2TB SSD   ┆ … ┆ Linux      ┆ 1181.69333 ┆ false   ┆ true      │\n",
       "│         ┆             ┆          ┆           ┆   ┆            ┆ 3          ┆         ┆           │\n",
       "│ Razer   ┆ AMD Ryzen 9 ┆ 4        ┆ 2TB SSD   ┆ … ┆ Linux      ┆ 2725.71    ┆ true    ┆ false     │\n",
       "│ Samsung ┆ AMD Ryzen 7 ┆ 16       ┆ 512GB SSD ┆ … ┆ macOS      ┆ 1873.86333 ┆ true    ┆ false     │\n",
       "│         ┆             ┆          ┆           ┆   ┆            ┆ 3          ┆         ┆           │\n",
       "│ Samsung ┆ Intel i7    ┆ 8        ┆ 256GB SSD ┆ … ┆ FreeDOS    ┆ 2028.81    ┆ false   ┆ true      │\n",
       "└─────────┴─────────────┴──────────┴───────────┴───┴────────────┴────────────┴─────────┴───────────┘"
      ],
      "text/html": [
       "<div><style>\n",
       ".dataframe > thead > tr,\n",
       ".dataframe > tbody > tr {\n",
       "  text-align: right;\n",
       "  white-space: pre-wrap;\n",
       "}\n",
       "</style>\n",
       "<small>shape: (11_768, 13)</small><table border=\"1\" class=\"dataframe\"><thead><tr><th>Brand</th><th>Processor</th><th>RAM (GB)</th><th>Storage</th><th>GPU</th><th>Screen Size (inch)</th><th>Resolution</th><th>Battery Life (hours)</th><th>Weight (kg)</th><th>Operating System</th><th>Price ($)</th><th>AMD CPU</th><th>Intel CPU</th></tr><tr><td>str</td><td>str</td><td>i64</td><td>str</td><td>str</td><td>f64</td><td>str</td><td>f64</td><td>f64</td><td>str</td><td>f64</td><td>bool</td><td>bool</td></tr></thead><tbody><tr><td>&quot;Apple&quot;</td><td>&quot;AMD Ryzen 3&quot;</td><td>64</td><td>&quot;512GB SSD&quot;</td><td>&quot;Nvidia GTX 1650&quot;</td><td>17.3</td><td>&quot;2560x1440&quot;</td><td>8.9</td><td>1.42</td><td>&quot;FreeDOS&quot;</td><td>null</td><td>true</td><td>false</td></tr><tr><td>&quot;Razer&quot;</td><td>&quot;AMD Ryzen 7&quot;</td><td>4</td><td>&quot;1TB SSD&quot;</td><td>&quot;Nvidia RTX 3080&quot;</td><td>14.0</td><td>&quot;1366x768&quot;</td><td>9.4</td><td>2.57</td><td>&quot;Linux&quot;</td><td>null</td><td>true</td><td>false</td></tr><tr><td>&quot;Asus&quot;</td><td>&quot;Intel i5&quot;</td><td>32</td><td>&quot;2TB SSD&quot;</td><td>&quot;Nvidia RTX 3060&quot;</td><td>13.3</td><td>&quot;3840x2160&quot;</td><td>8.5</td><td>1.74</td><td>&quot;FreeDOS&quot;</td><td>null</td><td>false</td><td>true</td></tr><tr><td>&quot;Lenovo&quot;</td><td>&quot;Intel i5&quot;</td><td>4</td><td>&quot;256GB SSD&quot;</td><td>&quot;Nvidia RTX 3080&quot;</td><td>13.3</td><td>&quot;1366x768&quot;</td><td>10.5</td><td>3.1</td><td>&quot;Windows&quot;</td><td>null</td><td>false</td><td>true</td></tr><tr><td>&quot;Razer&quot;</td><td>&quot;Intel i3&quot;</td><td>4</td><td>&quot;256GB SSD&quot;</td><td>&quot;AMD Radeon RX 6600&quot;</td><td>16.0</td><td>&quot;3840x2160&quot;</td><td>5.7</td><td>3.38</td><td>&quot;Linux&quot;</td><td>null</td><td>false</td><td>true</td></tr><tr><td>&hellip;</td><td>&hellip;</td><td>&hellip;</td><td>&hellip;</td><td>&hellip;</td><td>&hellip;</td><td>&hellip;</td><td>&hellip;</td><td>&hellip;</td><td>&hellip;</td><td>&hellip;</td><td>&hellip;</td><td>&hellip;</td></tr><tr><td>&quot;Acer&quot;</td><td>&quot;Intel i3&quot;</td><td>4</td><td>&quot;2TB SSD&quot;</td><td>&quot;Nvidia RTX 2060&quot;</td><td>17.3</td><td>&quot;1366x768&quot;</td><td>11.5</td><td>1.58</td><td>&quot;macOS&quot;</td><td>1173.643333</td><td>false</td><td>true</td></tr><tr><td>&quot;Asus&quot;</td><td>&quot;Intel i3&quot;</td><td>4</td><td>&quot;2TB SSD&quot;</td><td>&quot;AMD Radeon RX 6800&quot;</td><td>16.0</td><td>&quot;1366x768&quot;</td><td>9.5</td><td>2.14</td><td>&quot;Linux&quot;</td><td>1181.693333</td><td>false</td><td>true</td></tr><tr><td>&quot;Razer&quot;</td><td>&quot;AMD Ryzen 9&quot;</td><td>4</td><td>&quot;2TB SSD&quot;</td><td>&quot;AMD Radeon RX 6600&quot;</td><td>15.6</td><td>&quot;2560x1440&quot;</td><td>8.2</td><td>2.05</td><td>&quot;Linux&quot;</td><td>2725.71</td><td>true</td><td>false</td></tr><tr><td>&quot;Samsung&quot;</td><td>&quot;AMD Ryzen 7&quot;</td><td>16</td><td>&quot;512GB SSD&quot;</td><td>&quot;Integrated&quot;</td><td>13.3</td><td>&quot;1920x1080&quot;</td><td>7.5</td><td>1.48</td><td>&quot;macOS&quot;</td><td>1873.863333</td><td>true</td><td>false</td></tr><tr><td>&quot;Samsung&quot;</td><td>&quot;Intel i7&quot;</td><td>8</td><td>&quot;256GB SSD&quot;</td><td>&quot;Nvidia RTX 3080&quot;</td><td>17.3</td><td>&quot;2560x1440&quot;</td><td>6.4</td><td>2.45</td><td>&quot;FreeDOS&quot;</td><td>2028.81</td><td>false</td><td>true</td></tr></tbody></table></div>"
      ]
     },
     "execution_count": 61,
     "metadata": {},
     "output_type": "execute_result"
    }
   ],
   "execution_count": 61
  },
  {
   "metadata": {
    "ExecuteTime": {
     "end_time": "2025-02-23T13:31:14.693799Z",
     "start_time": "2025-02-23T13:31:14.687626Z"
    }
   },
   "cell_type": "code",
   "source": "df.vstack(df)",
   "id": "8e76b9a42739cc32",
   "outputs": [
    {
     "data": {
      "text/plain": [
       "shape: (23_536, 13)\n",
       "┌─────────┬─────────────┬──────────┬───────────┬───┬─────────────┬───────────┬─────────┬───────────┐\n",
       "│ Brand   ┆ Processor   ┆ RAM (GB) ┆ Storage   ┆ … ┆ Operating   ┆ Price ($) ┆ AMD CPU ┆ Intel CPU │\n",
       "│ ---     ┆ ---         ┆ ---      ┆ ---       ┆   ┆ System      ┆ ---       ┆ ---     ┆ ---       │\n",
       "│ str     ┆ str         ┆ i64      ┆ str       ┆   ┆ ---         ┆ f64       ┆ bool    ┆ bool      │\n",
       "│         ┆             ┆          ┆           ┆   ┆ str         ┆           ┆         ┆           │\n",
       "╞═════════╪═════════════╪══════════╪═══════════╪═══╪═════════════╪═══════════╪═════════╪═══════════╡\n",
       "│ Apple   ┆ AMD Ryzen 3 ┆ 64       ┆ 512GB SSD ┆ … ┆ FreeDOS     ┆ 3997.07   ┆ true    ┆ false     │\n",
       "│ Razer   ┆ AMD Ryzen 7 ┆ 4        ┆ 1TB SSD   ┆ … ┆ Linux       ┆ 1355.78   ┆ true    ┆ false     │\n",
       "│ Asus    ┆ Intel i5    ┆ 32       ┆ 2TB SSD   ┆ … ┆ FreeDOS     ┆ 2673.07   ┆ false   ┆ true      │\n",
       "│ Lenovo  ┆ Intel i5    ┆ 4        ┆ 256GB SSD ┆ … ┆ Windows     ┆ 751.17    ┆ false   ┆ true      │\n",
       "│ Razer   ┆ Intel i3    ┆ 4        ┆ 256GB SSD ┆ … ┆ Linux       ┆ 2059.83   ┆ false   ┆ true      │\n",
       "│ …       ┆ …           ┆ …        ┆ …         ┆ … ┆ …           ┆ …         ┆ …       ┆ …         │\n",
       "│ Acer    ┆ Intel i3    ┆ 4        ┆ 2TB SSD   ┆ … ┆ macOS       ┆ 704.82    ┆ false   ┆ true      │\n",
       "│ Asus    ┆ Intel i3    ┆ 4        ┆ 2TB SSD   ┆ … ┆ Linux       ┆ 775.59    ┆ false   ┆ true      │\n",
       "│ Razer   ┆ AMD Ryzen 9 ┆ 4        ┆ 2TB SSD   ┆ … ┆ Linux       ┆ 2789.46   ┆ true    ┆ false     │\n",
       "│ Samsung ┆ AMD Ryzen 7 ┆ 16       ┆ 512GB SSD ┆ … ┆ macOS       ┆ 1067.13   ┆ true    ┆ false     │\n",
       "│ Samsung ┆ Intel i7    ┆ 8        ┆ 256GB SSD ┆ … ┆ FreeDOS     ┆ 1579.55   ┆ false   ┆ true      │\n",
       "└─────────┴─────────────┴──────────┴───────────┴───┴─────────────┴───────────┴─────────┴───────────┘"
      ],
      "text/html": [
       "<div><style>\n",
       ".dataframe > thead > tr,\n",
       ".dataframe > tbody > tr {\n",
       "  text-align: right;\n",
       "  white-space: pre-wrap;\n",
       "}\n",
       "</style>\n",
       "<small>shape: (23_536, 13)</small><table border=\"1\" class=\"dataframe\"><thead><tr><th>Brand</th><th>Processor</th><th>RAM (GB)</th><th>Storage</th><th>GPU</th><th>Screen Size (inch)</th><th>Resolution</th><th>Battery Life (hours)</th><th>Weight (kg)</th><th>Operating System</th><th>Price ($)</th><th>AMD CPU</th><th>Intel CPU</th></tr><tr><td>str</td><td>str</td><td>i64</td><td>str</td><td>str</td><td>f64</td><td>str</td><td>f64</td><td>f64</td><td>str</td><td>f64</td><td>bool</td><td>bool</td></tr></thead><tbody><tr><td>&quot;Apple&quot;</td><td>&quot;AMD Ryzen 3&quot;</td><td>64</td><td>&quot;512GB SSD&quot;</td><td>&quot;Nvidia GTX 1650&quot;</td><td>17.3</td><td>&quot;2560x1440&quot;</td><td>8.9</td><td>1.42</td><td>&quot;FreeDOS&quot;</td><td>3997.07</td><td>true</td><td>false</td></tr><tr><td>&quot;Razer&quot;</td><td>&quot;AMD Ryzen 7&quot;</td><td>4</td><td>&quot;1TB SSD&quot;</td><td>&quot;Nvidia RTX 3080&quot;</td><td>14.0</td><td>&quot;1366x768&quot;</td><td>9.4</td><td>2.57</td><td>&quot;Linux&quot;</td><td>1355.78</td><td>true</td><td>false</td></tr><tr><td>&quot;Asus&quot;</td><td>&quot;Intel i5&quot;</td><td>32</td><td>&quot;2TB SSD&quot;</td><td>&quot;Nvidia RTX 3060&quot;</td><td>13.3</td><td>&quot;3840x2160&quot;</td><td>8.5</td><td>1.74</td><td>&quot;FreeDOS&quot;</td><td>2673.07</td><td>false</td><td>true</td></tr><tr><td>&quot;Lenovo&quot;</td><td>&quot;Intel i5&quot;</td><td>4</td><td>&quot;256GB SSD&quot;</td><td>&quot;Nvidia RTX 3080&quot;</td><td>13.3</td><td>&quot;1366x768&quot;</td><td>10.5</td><td>3.1</td><td>&quot;Windows&quot;</td><td>751.17</td><td>false</td><td>true</td></tr><tr><td>&quot;Razer&quot;</td><td>&quot;Intel i3&quot;</td><td>4</td><td>&quot;256GB SSD&quot;</td><td>&quot;AMD Radeon RX 6600&quot;</td><td>16.0</td><td>&quot;3840x2160&quot;</td><td>5.7</td><td>3.38</td><td>&quot;Linux&quot;</td><td>2059.83</td><td>false</td><td>true</td></tr><tr><td>&hellip;</td><td>&hellip;</td><td>&hellip;</td><td>&hellip;</td><td>&hellip;</td><td>&hellip;</td><td>&hellip;</td><td>&hellip;</td><td>&hellip;</td><td>&hellip;</td><td>&hellip;</td><td>&hellip;</td><td>&hellip;</td></tr><tr><td>&quot;Acer&quot;</td><td>&quot;Intel i3&quot;</td><td>4</td><td>&quot;2TB SSD&quot;</td><td>&quot;Nvidia RTX 2060&quot;</td><td>17.3</td><td>&quot;1366x768&quot;</td><td>11.5</td><td>1.58</td><td>&quot;macOS&quot;</td><td>704.82</td><td>false</td><td>true</td></tr><tr><td>&quot;Asus&quot;</td><td>&quot;Intel i3&quot;</td><td>4</td><td>&quot;2TB SSD&quot;</td><td>&quot;AMD Radeon RX 6800&quot;</td><td>16.0</td><td>&quot;1366x768&quot;</td><td>9.5</td><td>2.14</td><td>&quot;Linux&quot;</td><td>775.59</td><td>false</td><td>true</td></tr><tr><td>&quot;Razer&quot;</td><td>&quot;AMD Ryzen 9&quot;</td><td>4</td><td>&quot;2TB SSD&quot;</td><td>&quot;AMD Radeon RX 6600&quot;</td><td>15.6</td><td>&quot;2560x1440&quot;</td><td>8.2</td><td>2.05</td><td>&quot;Linux&quot;</td><td>2789.46</td><td>true</td><td>false</td></tr><tr><td>&quot;Samsung&quot;</td><td>&quot;AMD Ryzen 7&quot;</td><td>16</td><td>&quot;512GB SSD&quot;</td><td>&quot;Integrated&quot;</td><td>13.3</td><td>&quot;1920x1080&quot;</td><td>7.5</td><td>1.48</td><td>&quot;macOS&quot;</td><td>1067.13</td><td>true</td><td>false</td></tr><tr><td>&quot;Samsung&quot;</td><td>&quot;Intel i7&quot;</td><td>8</td><td>&quot;256GB SSD&quot;</td><td>&quot;Nvidia RTX 3080&quot;</td><td>17.3</td><td>&quot;2560x1440&quot;</td><td>6.4</td><td>2.45</td><td>&quot;FreeDOS&quot;</td><td>1579.55</td><td>false</td><td>true</td></tr></tbody></table></div>"
      ]
     },
     "execution_count": 62,
     "metadata": {},
     "output_type": "execute_result"
    }
   ],
   "execution_count": 62
  },
  {
   "metadata": {
    "ExecuteTime": {
     "end_time": "2025-02-23T13:34:59.946241Z",
     "start_time": "2025-02-23T13:34:59.938861Z"
    }
   },
   "cell_type": "code",
   "source": [
    "df_sorted = df.sort('Storage')\n",
    "df_sorted.group_by('Storage').agg(pl.col('Brand').count().alias('Brand_Count'))\n"
   ],
   "id": "da77879b26673911",
   "outputs": [
    {
     "data": {
      "text/plain": [
       "shape: (5, 2)\n",
       "┌───────────┬─────────────┐\n",
       "│ Storage   ┆ Brand_Count │\n",
       "│ ---       ┆ ---         │\n",
       "│ str       ┆ u32         │\n",
       "╞═══════════╪═════════════╡\n",
       "│ 1TB HDD   ┆ 2302        │\n",
       "│ 256GB SSD ┆ 2318        │\n",
       "│ 1TB SSD   ┆ 2313        │\n",
       "│ 2TB SSD   ┆ 2415        │\n",
       "│ 512GB SSD ┆ 2420        │\n",
       "└───────────┴─────────────┘"
      ],
      "text/html": [
       "<div><style>\n",
       ".dataframe > thead > tr,\n",
       ".dataframe > tbody > tr {\n",
       "  text-align: right;\n",
       "  white-space: pre-wrap;\n",
       "}\n",
       "</style>\n",
       "<small>shape: (5, 2)</small><table border=\"1\" class=\"dataframe\"><thead><tr><th>Storage</th><th>Brand_Count</th></tr><tr><td>str</td><td>u32</td></tr></thead><tbody><tr><td>&quot;1TB HDD&quot;</td><td>2302</td></tr><tr><td>&quot;256GB SSD&quot;</td><td>2318</td></tr><tr><td>&quot;1TB SSD&quot;</td><td>2313</td></tr><tr><td>&quot;2TB SSD&quot;</td><td>2415</td></tr><tr><td>&quot;512GB SSD&quot;</td><td>2420</td></tr></tbody></table></div>"
      ]
     },
     "execution_count": 72,
     "metadata": {},
     "output_type": "execute_result"
    }
   ],
   "execution_count": 72
  }
 ],
 "metadata": {
  "kernelspec": {
   "display_name": "Python 3",
   "language": "python",
   "name": "python3"
  },
  "language_info": {
   "codemirror_mode": {
    "name": "ipython",
    "version": 2
   },
   "file_extension": ".py",
   "mimetype": "text/x-python",
   "name": "python",
   "nbconvert_exporter": "python",
   "pygments_lexer": "ipython2",
   "version": "2.7.6"
  }
 },
 "nbformat": 4,
 "nbformat_minor": 5
}
