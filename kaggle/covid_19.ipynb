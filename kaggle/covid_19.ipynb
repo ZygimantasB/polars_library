{
 "cells": [
  {
   "cell_type": "code",
   "id": "initial_id",
   "metadata": {
    "collapsed": true,
    "ExecuteTime": {
     "end_time": "2024-09-14T19:30:52.933708Z",
     "start_time": "2024-09-14T19:30:52.561791Z"
    }
   },
   "source": "import polars as pl",
   "outputs": [],
   "execution_count": 1
  },
  {
   "metadata": {
    "ExecuteTime": {
     "end_time": "2024-09-14T19:30:52.941971Z",
     "start_time": "2024-09-14T19:30:52.938731Z"
    }
   },
   "cell_type": "code",
   "source": "df_path = r\"C:\\Users\\Zygim\\Downloads\\archive\\cord_19_embeddings\\cord_19_embeddings_2022-06-02.csv\"",
   "id": "17252ee88df72210",
   "outputs": [],
   "execution_count": 2
  },
  {
   "metadata": {
    "ExecuteTime": {
     "end_time": "2024-09-14T19:30:53.009923Z",
     "start_time": "2024-09-14T19:30:53.004966Z"
    }
   },
   "cell_type": "code",
   "source": "df = pl.scan_csv(df_path)",
   "id": "8d40d3f2c5de616a",
   "outputs": [],
   "execution_count": 3
  },
  {
   "metadata": {
    "ExecuteTime": {
     "end_time": "2024-09-14T19:31:06.144535Z",
     "start_time": "2024-09-14T19:30:53.017738Z"
    }
   },
   "cell_type": "code",
   "source": "df = df.collect(gpu=True)",
   "id": "40ddf66a531347d1",
   "outputs": [],
   "execution_count": 4
  },
  {
   "metadata": {
    "ExecuteTime": {
     "end_time": "2024-09-14T19:31:10.884418Z",
     "start_time": "2024-09-14T19:31:06.669335Z"
    }
   },
   "cell_type": "code",
   "source": [
    "import nest_asyncio\n",
    "import asyncio\n",
    "import polars as pl\n",
    "\n",
    "nest_asyncio.apply()\n",
    "\n",
    "df_path = r\"C:\\Users\\Zygim\\Downloads\\archive\\cord_19_embeddings\\cord_19_embeddings_2022-06-02.csv\"\n",
    "df = pl.scan_csv(df_path)\n",
    "df = df.collect(gpu=True)\n",
    "\n",
    "lf = pl.LazyFrame(\n",
    "    {\n",
    "        \"a\": [\"a\", \"b\", \"a\", \"b\", \"b\", \"c\"],\n",
    "        \"b\": [1, 2, 3, 4, 5, 6],\n",
    "        \"c\": [6, 5, 4, 3, 2, 1],\n",
    "    }\n",
    ")\n",
    "\n",
    "async def main():\n",
    "    return await (\n",
    "        lf.group_by(\"a\", maintain_order=True)\n",
    "        .agg(pl.all().sum())\n",
    "        .collect_async()\n",
    "    )\n",
    "\n",
    "asyncio.run(main())"
   ],
   "id": "d648c52f66f7eb0",
   "outputs": [
    {
     "data": {
      "text/plain": [
       "shape: (3, 3)\n",
       "┌─────┬─────┬─────┐\n",
       "│ a   ┆ b   ┆ c   │\n",
       "│ --- ┆ --- ┆ --- │\n",
       "│ str ┆ i64 ┆ i64 │\n",
       "╞═════╪═════╪═════╡\n",
       "│ a   ┆ 4   ┆ 10  │\n",
       "│ b   ┆ 11  ┆ 10  │\n",
       "│ c   ┆ 6   ┆ 1   │\n",
       "└─────┴─────┴─────┘"
      ],
      "text/html": [
       "<div><style>\n",
       ".dataframe > thead > tr,\n",
       ".dataframe > tbody > tr {\n",
       "  text-align: right;\n",
       "  white-space: pre-wrap;\n",
       "}\n",
       "</style>\n",
       "<small>shape: (3, 3)</small><table border=\"1\" class=\"dataframe\"><thead><tr><th>a</th><th>b</th><th>c</th></tr><tr><td>str</td><td>i64</td><td>i64</td></tr></thead><tbody><tr><td>&quot;a&quot;</td><td>4</td><td>10</td></tr><tr><td>&quot;b&quot;</td><td>11</td><td>10</td></tr><tr><td>&quot;c&quot;</td><td>6</td><td>1</td></tr></tbody></table></div>"
      ]
     },
     "execution_count": 5,
     "metadata": {},
     "output_type": "execute_result"
    }
   ],
   "execution_count": 5
  },
  {
   "metadata": {
    "ExecuteTime": {
     "end_time": "2024-09-14T19:31:11.396522Z",
     "start_time": "2024-09-14T19:31:10.893423Z"
    }
   },
   "cell_type": "code",
   "source": [
    "lf.group_by(\"a\").agg(pl.all().sum()).collect(\n",
    "    engine=pl.GPUEngine(device=1)\n",
    ")"
   ],
   "id": "cab1fc416b427bdc",
   "outputs": [
    {
     "ename": "AttributeError",
     "evalue": "module 'polars' has no attribute 'GPUEngine'",
     "output_type": "error",
     "traceback": [
      "\u001B[1;31m---------------------------------------------------------------------------\u001B[0m",
      "\u001B[1;31mAttributeError\u001B[0m                            Traceback (most recent call last)",
      "Cell \u001B[1;32mIn[6], line 2\u001B[0m\n\u001B[0;32m      1\u001B[0m lf\u001B[38;5;241m.\u001B[39mgroup_by(\u001B[38;5;124m\"\u001B[39m\u001B[38;5;124ma\u001B[39m\u001B[38;5;124m\"\u001B[39m)\u001B[38;5;241m.\u001B[39magg(pl\u001B[38;5;241m.\u001B[39mall()\u001B[38;5;241m.\u001B[39msum())\u001B[38;5;241m.\u001B[39mcollect(\n\u001B[1;32m----> 2\u001B[0m     engine\u001B[38;5;241m=\u001B[39mpl\u001B[38;5;241m.\u001B[39mGPUEngine(device\u001B[38;5;241m=\u001B[39m\u001B[38;5;241m1\u001B[39m)\n\u001B[0;32m      3\u001B[0m )\n",
      "File \u001B[1;32m~\\anaconda3\\Lib\\site-packages\\polars\\__init__.py:412\u001B[0m, in \u001B[0;36m__getattr__\u001B[1;34m(name)\u001B[0m\n\u001B[0;32m    409\u001B[0m     \u001B[38;5;28;01mreturn\u001B[39;00m \u001B[38;5;28mgetattr\u001B[39m(dtgroup, name)\n\u001B[0;32m    411\u001B[0m msg \u001B[38;5;241m=\u001B[39m \u001B[38;5;124mf\u001B[39m\u001B[38;5;124m\"\u001B[39m\u001B[38;5;124mmodule \u001B[39m\u001B[38;5;132;01m{\u001B[39;00m\u001B[38;5;18m__name__\u001B[39m\u001B[38;5;132;01m!r}\u001B[39;00m\u001B[38;5;124m has no attribute \u001B[39m\u001B[38;5;132;01m{\u001B[39;00mname\u001B[38;5;132;01m!r}\u001B[39;00m\u001B[38;5;124m\"\u001B[39m\n\u001B[1;32m--> 412\u001B[0m \u001B[38;5;28;01mraise\u001B[39;00m \u001B[38;5;167;01mAttributeError\u001B[39;00m(msg)\n",
      "\u001B[1;31mAttributeError\u001B[0m: module 'polars' has no attribute 'GPUEngine'"
     ]
    }
   ],
   "execution_count": 6
  },
  {
   "metadata": {
    "ExecuteTime": {
     "end_time": "2024-09-14T19:31:11.408976300Z",
     "start_time": "2024-09-05T19:43:06.023491Z"
    }
   },
   "cell_type": "code",
   "source": [
    "\n",
    "lf = pl.LazyFrame(\n",
    "    {\n",
    "        \"a\": [\"a\", \"b\", \"a\", \"b\", \"b\", \"c\"],\n",
    "        \"b\": [1, 2, 3, 4, 5, 6],\n",
    "        \"c\": [6, 5, 4, 3, 2, 1],\n",
    "    }\n",
    ")\n",
    "lf.group_by(\"a\").agg(pl.all().sum()).collect()  "
   ],
   "id": "f5bcdc414b6eb5b7",
   "outputs": [
    {
     "data": {
      "text/plain": [
       "shape: (3, 3)\n",
       "┌─────┬─────┬─────┐\n",
       "│ a   ┆ b   ┆ c   │\n",
       "│ --- ┆ --- ┆ --- │\n",
       "│ str ┆ i64 ┆ i64 │\n",
       "╞═════╪═════╪═════╡\n",
       "│ b   ┆ 11  ┆ 10  │\n",
       "│ c   ┆ 6   ┆ 1   │\n",
       "│ a   ┆ 4   ┆ 10  │\n",
       "└─────┴─────┴─────┘"
      ],
      "text/html": [
       "<div><style>\n",
       ".dataframe > thead > tr,\n",
       ".dataframe > tbody > tr {\n",
       "  text-align: right;\n",
       "  white-space: pre-wrap;\n",
       "}\n",
       "</style>\n",
       "<small>shape: (3, 3)</small><table border=\"1\" class=\"dataframe\"><thead><tr><th>a</th><th>b</th><th>c</th></tr><tr><td>str</td><td>i64</td><td>i64</td></tr></thead><tbody><tr><td>&quot;b&quot;</td><td>11</td><td>10</td></tr><tr><td>&quot;c&quot;</td><td>6</td><td>1</td></tr><tr><td>&quot;a&quot;</td><td>4</td><td>10</td></tr></tbody></table></div>"
      ]
     },
     "execution_count": 3,
     "metadata": {},
     "output_type": "execute_result"
    }
   ],
   "execution_count": 3
  },
  {
   "metadata": {
    "ExecuteTime": {
     "end_time": "2024-09-14T19:31:11.411975200Z",
     "start_time": "2024-09-05T19:45:03.458072Z"
    }
   },
   "cell_type": "code",
   "source": [
    "lf.group_by(\"a\").agg(pl.all().sum()).collect(\n",
    "    streaming=True\n",
    ")  "
   ],
   "id": "2acaf564667210bb",
   "outputs": [
    {
     "data": {
      "text/plain": [
       "shape: (3, 3)\n",
       "┌─────┬─────┬─────┐\n",
       "│ a   ┆ b   ┆ c   │\n",
       "│ --- ┆ --- ┆ --- │\n",
       "│ str ┆ i64 ┆ i64 │\n",
       "╞═════╪═════╪═════╡\n",
       "│ a   ┆ 4   ┆ 10  │\n",
       "│ b   ┆ 11  ┆ 10  │\n",
       "│ c   ┆ 6   ┆ 1   │\n",
       "└─────┴─────┴─────┘"
      ],
      "text/html": [
       "<div><style>\n",
       ".dataframe > thead > tr,\n",
       ".dataframe > tbody > tr {\n",
       "  text-align: right;\n",
       "  white-space: pre-wrap;\n",
       "}\n",
       "</style>\n",
       "<small>shape: (3, 3)</small><table border=\"1\" class=\"dataframe\"><thead><tr><th>a</th><th>b</th><th>c</th></tr><tr><td>str</td><td>i64</td><td>i64</td></tr></thead><tbody><tr><td>&quot;a&quot;</td><td>4</td><td>10</td></tr><tr><td>&quot;b&quot;</td><td>11</td><td>10</td></tr><tr><td>&quot;c&quot;</td><td>6</td><td>1</td></tr></tbody></table></div>"
      ]
     },
     "execution_count": 13,
     "metadata": {},
     "output_type": "execute_result"
    }
   ],
   "execution_count": 13
  },
  {
   "metadata": {
    "ExecuteTime": {
     "end_time": "2024-09-14T19:31:11.411975200Z",
     "start_time": "2024-09-05T19:47:18.562440Z"
    }
   },
   "cell_type": "code",
   "source": [
    "import polars.selectors as cs\n",
    "df.to_jax(\n",
    "    return_type=\"dict\",\n",
    "    features=cs.float(),\n",
    "    label=pl.col(\"lbl\").cast(pl.UInt8),\n",
    ")"
   ],
   "id": "d1a856f5da558c80",
   "outputs": [
    {
     "ename": "ModuleNotFoundError",
     "evalue": "required package 'jax' not found.\nPlease see `https://jax.readthedocs.io/en/latest/installation.html` for specific installation recommendations for the Jax package",
     "output_type": "error",
     "traceback": [
      "\u001B[1;31m---------------------------------------------------------------------------\u001B[0m",
      "\u001B[1;31mModuleNotFoundError\u001B[0m                       Traceback (most recent call last)",
      "Cell \u001B[1;32mIn[19], line 2\u001B[0m\n\u001B[0;32m      1\u001B[0m \u001B[38;5;28;01mimport\u001B[39;00m \u001B[38;5;21;01mpolars\u001B[39;00m\u001B[38;5;21;01m.\u001B[39;00m\u001B[38;5;21;01mselectors\u001B[39;00m \u001B[38;5;28;01mas\u001B[39;00m \u001B[38;5;21;01mcs\u001B[39;00m\n\u001B[1;32m----> 2\u001B[0m df\u001B[38;5;241m.\u001B[39mto_jax(\n\u001B[0;32m      3\u001B[0m     return_type\u001B[38;5;241m=\u001B[39m\u001B[38;5;124m\"\u001B[39m\u001B[38;5;124mdict\u001B[39m\u001B[38;5;124m\"\u001B[39m,\n\u001B[0;32m      4\u001B[0m     features\u001B[38;5;241m=\u001B[39mcs\u001B[38;5;241m.\u001B[39mfloat(),\n\u001B[0;32m      5\u001B[0m     label\u001B[38;5;241m=\u001B[39mpl\u001B[38;5;241m.\u001B[39mcol(\u001B[38;5;124m\"\u001B[39m\u001B[38;5;124mlbl\u001B[39m\u001B[38;5;124m\"\u001B[39m)\u001B[38;5;241m.\u001B[39mcast(pl\u001B[38;5;241m.\u001B[39mUInt8),\n\u001B[0;32m      6\u001B[0m )\n",
      "File \u001B[1;32m~\\anaconda3\\Lib\\site-packages\\polars\\_utils\\unstable.py:58\u001B[0m, in \u001B[0;36munstable.<locals>.decorate.<locals>.wrapper\u001B[1;34m(*args, **kwargs)\u001B[0m\n\u001B[0;32m     55\u001B[0m \u001B[38;5;129m@wraps\u001B[39m(function)\n\u001B[0;32m     56\u001B[0m \u001B[38;5;28;01mdef\u001B[39;00m \u001B[38;5;21mwrapper\u001B[39m(\u001B[38;5;241m*\u001B[39margs: P\u001B[38;5;241m.\u001B[39margs, \u001B[38;5;241m*\u001B[39m\u001B[38;5;241m*\u001B[39mkwargs: P\u001B[38;5;241m.\u001B[39mkwargs) \u001B[38;5;241m-\u001B[39m\u001B[38;5;241m>\u001B[39m T:\n\u001B[0;32m     57\u001B[0m     issue_unstable_warning(\u001B[38;5;124mf\u001B[39m\u001B[38;5;124m\"\u001B[39m\u001B[38;5;124m`\u001B[39m\u001B[38;5;132;01m{\u001B[39;00mfunction\u001B[38;5;241m.\u001B[39m\u001B[38;5;18m__name__\u001B[39m\u001B[38;5;132;01m}\u001B[39;00m\u001B[38;5;124m` is considered unstable.\u001B[39m\u001B[38;5;124m\"\u001B[39m)\n\u001B[1;32m---> 58\u001B[0m     \u001B[38;5;28;01mreturn\u001B[39;00m function(\u001B[38;5;241m*\u001B[39margs, \u001B[38;5;241m*\u001B[39m\u001B[38;5;241m*\u001B[39mkwargs)\n",
      "File \u001B[1;32m~\\anaconda3\\Lib\\site-packages\\polars\\dataframe\\frame.py:1856\u001B[0m, in \u001B[0;36mDataFrame.to_jax\u001B[1;34m(self, return_type, device, label, features, dtype, order)\u001B[0m\n\u001B[0;32m   1853\u001B[0m     msg \u001B[38;5;241m=\u001B[39m \u001B[38;5;124m\"\u001B[39m\u001B[38;5;124m`label` is required if setting `features` when `return_type=\u001B[39m\u001B[38;5;124m'\u001B[39m\u001B[38;5;124mdict\u001B[39m\u001B[38;5;124m'\u001B[39m\u001B[38;5;124m\"\u001B[39m\n\u001B[0;32m   1854\u001B[0m     \u001B[38;5;28;01mraise\u001B[39;00m \u001B[38;5;167;01mValueError\u001B[39;00m(msg)\n\u001B[1;32m-> 1856\u001B[0m jx \u001B[38;5;241m=\u001B[39m import_optional(\n\u001B[0;32m   1857\u001B[0m     \u001B[38;5;124m\"\u001B[39m\u001B[38;5;124mjax\u001B[39m\u001B[38;5;124m\"\u001B[39m,\n\u001B[0;32m   1858\u001B[0m     install_message\u001B[38;5;241m=\u001B[39m\u001B[38;5;124m\"\u001B[39m\u001B[38;5;124mPlease see `https://jax.readthedocs.io/en/latest/installation.html` \u001B[39m\u001B[38;5;124m\"\u001B[39m\n\u001B[0;32m   1859\u001B[0m     \u001B[38;5;124m\"\u001B[39m\u001B[38;5;124mfor specific installation recommendations for the Jax package\u001B[39m\u001B[38;5;124m\"\u001B[39m,\n\u001B[0;32m   1860\u001B[0m )\n\u001B[0;32m   1861\u001B[0m enabled_double_precision \u001B[38;5;241m=\u001B[39m jx\u001B[38;5;241m.\u001B[39mconfig\u001B[38;5;241m.\u001B[39mjax_enable_x64 \u001B[38;5;129;01mor\u001B[39;00m \u001B[38;5;28mbool\u001B[39m(\n\u001B[0;32m   1862\u001B[0m     \u001B[38;5;28mint\u001B[39m(os\u001B[38;5;241m.\u001B[39menviron\u001B[38;5;241m.\u001B[39mget(\u001B[38;5;124m\"\u001B[39m\u001B[38;5;124mJAX_ENABLE_X64\u001B[39m\u001B[38;5;124m\"\u001B[39m, \u001B[38;5;124m\"\u001B[39m\u001B[38;5;124m0\u001B[39m\u001B[38;5;124m\"\u001B[39m))\n\u001B[0;32m   1863\u001B[0m )\n\u001B[0;32m   1864\u001B[0m \u001B[38;5;28;01mif\u001B[39;00m dtype:\n",
      "File \u001B[1;32m~\\anaconda3\\Lib\\site-packages\\polars\\dependencies.py:280\u001B[0m, in \u001B[0;36mimport_optional\u001B[1;34m(module_name, err_prefix, err_suffix, min_version, min_err_prefix, install_message)\u001B[0m\n\u001B[0;32m    275\u001B[0m     suffix \u001B[38;5;241m=\u001B[39m \u001B[38;5;124mf\u001B[39m\u001B[38;5;124m\"\u001B[39m\u001B[38;5;124m \u001B[39m\u001B[38;5;132;01m{\u001B[39;00merr_suffix\u001B[38;5;241m.\u001B[39mstrip(\u001B[38;5;124m'\u001B[39m\u001B[38;5;124m \u001B[39m\u001B[38;5;124m'\u001B[39m)\u001B[38;5;132;01m}\u001B[39;00m\u001B[38;5;124m\"\u001B[39m \u001B[38;5;28;01mif\u001B[39;00m err_suffix \u001B[38;5;28;01melse\u001B[39;00m \u001B[38;5;124m\"\u001B[39m\u001B[38;5;124m\"\u001B[39m\n\u001B[0;32m    276\u001B[0m     err_message \u001B[38;5;241m=\u001B[39m \u001B[38;5;124mf\u001B[39m\u001B[38;5;124m\"\u001B[39m\u001B[38;5;132;01m{\u001B[39;00mprefix\u001B[38;5;132;01m}\u001B[39;00m\u001B[38;5;124m'\u001B[39m\u001B[38;5;132;01m{\u001B[39;00mmodule_name\u001B[38;5;132;01m}\u001B[39;00m\u001B[38;5;124m'\u001B[39m\u001B[38;5;132;01m{\u001B[39;00msuffix\u001B[38;5;132;01m}\u001B[39;00m\u001B[38;5;124m.\u001B[39m\u001B[38;5;130;01m\\n\u001B[39;00m\u001B[38;5;124m\"\u001B[39m \u001B[38;5;241m+\u001B[39m (\n\u001B[0;32m    277\u001B[0m         install_message\n\u001B[0;32m    278\u001B[0m         \u001B[38;5;129;01mor\u001B[39;00m \u001B[38;5;124mf\u001B[39m\u001B[38;5;124m\"\u001B[39m\u001B[38;5;124mPlease install using the command `pip install \u001B[39m\u001B[38;5;132;01m{\u001B[39;00mmodule_root\u001B[38;5;132;01m}\u001B[39;00m\u001B[38;5;124m`.\u001B[39m\u001B[38;5;124m\"\u001B[39m\n\u001B[0;32m    279\u001B[0m     )\n\u001B[1;32m--> 280\u001B[0m     \u001B[38;5;28;01mraise\u001B[39;00m \u001B[38;5;167;01mModuleNotFoundError\u001B[39;00m(err_message) \u001B[38;5;28;01mfrom\u001B[39;00m \u001B[38;5;28;01mNone\u001B[39;00m\n\u001B[0;32m    282\u001B[0m \u001B[38;5;28;01mif\u001B[39;00m min_version:\n\u001B[0;32m    283\u001B[0m     min_version \u001B[38;5;241m=\u001B[39m parse_version(min_version)\n",
      "\u001B[1;31mModuleNotFoundError\u001B[0m: required package 'jax' not found.\nPlease see `https://jax.readthedocs.io/en/latest/installation.html` for specific installation recommendations for the Jax package"
     ]
    }
   ],
   "execution_count": 19
  },
  {
   "metadata": {
    "ExecuteTime": {
     "end_time": "2024-09-14T19:31:11.411975200Z",
     "start_time": "2024-09-05T19:47:37.283418Z"
    }
   },
   "cell_type": "code",
   "source": [
    "a = df.to_jax(device=\"gpu\")\n",
    "a.device()  "
   ],
   "id": "24241c2f79cc8b00",
   "outputs": [
    {
     "ename": "ModuleNotFoundError",
     "evalue": "required package 'jax' not found.\nPlease see `https://jax.readthedocs.io/en/latest/installation.html` for specific installation recommendations for the Jax package",
     "output_type": "error",
     "traceback": [
      "\u001B[1;31m---------------------------------------------------------------------------\u001B[0m",
      "\u001B[1;31mModuleNotFoundError\u001B[0m                       Traceback (most recent call last)",
      "Cell \u001B[1;32mIn[20], line 1\u001B[0m\n\u001B[1;32m----> 1\u001B[0m a \u001B[38;5;241m=\u001B[39m df\u001B[38;5;241m.\u001B[39mto_jax(device\u001B[38;5;241m=\u001B[39m\u001B[38;5;124m\"\u001B[39m\u001B[38;5;124mgpu\u001B[39m\u001B[38;5;124m\"\u001B[39m)\n\u001B[0;32m      2\u001B[0m a\u001B[38;5;241m.\u001B[39mdevice()\n",
      "File \u001B[1;32m~\\anaconda3\\Lib\\site-packages\\polars\\_utils\\unstable.py:58\u001B[0m, in \u001B[0;36munstable.<locals>.decorate.<locals>.wrapper\u001B[1;34m(*args, **kwargs)\u001B[0m\n\u001B[0;32m     55\u001B[0m \u001B[38;5;129m@wraps\u001B[39m(function)\n\u001B[0;32m     56\u001B[0m \u001B[38;5;28;01mdef\u001B[39;00m \u001B[38;5;21mwrapper\u001B[39m(\u001B[38;5;241m*\u001B[39margs: P\u001B[38;5;241m.\u001B[39margs, \u001B[38;5;241m*\u001B[39m\u001B[38;5;241m*\u001B[39mkwargs: P\u001B[38;5;241m.\u001B[39mkwargs) \u001B[38;5;241m-\u001B[39m\u001B[38;5;241m>\u001B[39m T:\n\u001B[0;32m     57\u001B[0m     issue_unstable_warning(\u001B[38;5;124mf\u001B[39m\u001B[38;5;124m\"\u001B[39m\u001B[38;5;124m`\u001B[39m\u001B[38;5;132;01m{\u001B[39;00mfunction\u001B[38;5;241m.\u001B[39m\u001B[38;5;18m__name__\u001B[39m\u001B[38;5;132;01m}\u001B[39;00m\u001B[38;5;124m` is considered unstable.\u001B[39m\u001B[38;5;124m\"\u001B[39m)\n\u001B[1;32m---> 58\u001B[0m     \u001B[38;5;28;01mreturn\u001B[39;00m function(\u001B[38;5;241m*\u001B[39margs, \u001B[38;5;241m*\u001B[39m\u001B[38;5;241m*\u001B[39mkwargs)\n",
      "File \u001B[1;32m~\\anaconda3\\Lib\\site-packages\\polars\\dataframe\\frame.py:1856\u001B[0m, in \u001B[0;36mDataFrame.to_jax\u001B[1;34m(self, return_type, device, label, features, dtype, order)\u001B[0m\n\u001B[0;32m   1853\u001B[0m     msg \u001B[38;5;241m=\u001B[39m \u001B[38;5;124m\"\u001B[39m\u001B[38;5;124m`label` is required if setting `features` when `return_type=\u001B[39m\u001B[38;5;124m'\u001B[39m\u001B[38;5;124mdict\u001B[39m\u001B[38;5;124m'\u001B[39m\u001B[38;5;124m\"\u001B[39m\n\u001B[0;32m   1854\u001B[0m     \u001B[38;5;28;01mraise\u001B[39;00m \u001B[38;5;167;01mValueError\u001B[39;00m(msg)\n\u001B[1;32m-> 1856\u001B[0m jx \u001B[38;5;241m=\u001B[39m import_optional(\n\u001B[0;32m   1857\u001B[0m     \u001B[38;5;124m\"\u001B[39m\u001B[38;5;124mjax\u001B[39m\u001B[38;5;124m\"\u001B[39m,\n\u001B[0;32m   1858\u001B[0m     install_message\u001B[38;5;241m=\u001B[39m\u001B[38;5;124m\"\u001B[39m\u001B[38;5;124mPlease see `https://jax.readthedocs.io/en/latest/installation.html` \u001B[39m\u001B[38;5;124m\"\u001B[39m\n\u001B[0;32m   1859\u001B[0m     \u001B[38;5;124m\"\u001B[39m\u001B[38;5;124mfor specific installation recommendations for the Jax package\u001B[39m\u001B[38;5;124m\"\u001B[39m,\n\u001B[0;32m   1860\u001B[0m )\n\u001B[0;32m   1861\u001B[0m enabled_double_precision \u001B[38;5;241m=\u001B[39m jx\u001B[38;5;241m.\u001B[39mconfig\u001B[38;5;241m.\u001B[39mjax_enable_x64 \u001B[38;5;129;01mor\u001B[39;00m \u001B[38;5;28mbool\u001B[39m(\n\u001B[0;32m   1862\u001B[0m     \u001B[38;5;28mint\u001B[39m(os\u001B[38;5;241m.\u001B[39menviron\u001B[38;5;241m.\u001B[39mget(\u001B[38;5;124m\"\u001B[39m\u001B[38;5;124mJAX_ENABLE_X64\u001B[39m\u001B[38;5;124m\"\u001B[39m, \u001B[38;5;124m\"\u001B[39m\u001B[38;5;124m0\u001B[39m\u001B[38;5;124m\"\u001B[39m))\n\u001B[0;32m   1863\u001B[0m )\n\u001B[0;32m   1864\u001B[0m \u001B[38;5;28;01mif\u001B[39;00m dtype:\n",
      "File \u001B[1;32m~\\anaconda3\\Lib\\site-packages\\polars\\dependencies.py:280\u001B[0m, in \u001B[0;36mimport_optional\u001B[1;34m(module_name, err_prefix, err_suffix, min_version, min_err_prefix, install_message)\u001B[0m\n\u001B[0;32m    275\u001B[0m     suffix \u001B[38;5;241m=\u001B[39m \u001B[38;5;124mf\u001B[39m\u001B[38;5;124m\"\u001B[39m\u001B[38;5;124m \u001B[39m\u001B[38;5;132;01m{\u001B[39;00merr_suffix\u001B[38;5;241m.\u001B[39mstrip(\u001B[38;5;124m'\u001B[39m\u001B[38;5;124m \u001B[39m\u001B[38;5;124m'\u001B[39m)\u001B[38;5;132;01m}\u001B[39;00m\u001B[38;5;124m\"\u001B[39m \u001B[38;5;28;01mif\u001B[39;00m err_suffix \u001B[38;5;28;01melse\u001B[39;00m \u001B[38;5;124m\"\u001B[39m\u001B[38;5;124m\"\u001B[39m\n\u001B[0;32m    276\u001B[0m     err_message \u001B[38;5;241m=\u001B[39m \u001B[38;5;124mf\u001B[39m\u001B[38;5;124m\"\u001B[39m\u001B[38;5;132;01m{\u001B[39;00mprefix\u001B[38;5;132;01m}\u001B[39;00m\u001B[38;5;124m'\u001B[39m\u001B[38;5;132;01m{\u001B[39;00mmodule_name\u001B[38;5;132;01m}\u001B[39;00m\u001B[38;5;124m'\u001B[39m\u001B[38;5;132;01m{\u001B[39;00msuffix\u001B[38;5;132;01m}\u001B[39;00m\u001B[38;5;124m.\u001B[39m\u001B[38;5;130;01m\\n\u001B[39;00m\u001B[38;5;124m\"\u001B[39m \u001B[38;5;241m+\u001B[39m (\n\u001B[0;32m    277\u001B[0m         install_message\n\u001B[0;32m    278\u001B[0m         \u001B[38;5;129;01mor\u001B[39;00m \u001B[38;5;124mf\u001B[39m\u001B[38;5;124m\"\u001B[39m\u001B[38;5;124mPlease install using the command `pip install \u001B[39m\u001B[38;5;132;01m{\u001B[39;00mmodule_root\u001B[38;5;132;01m}\u001B[39;00m\u001B[38;5;124m`.\u001B[39m\u001B[38;5;124m\"\u001B[39m\n\u001B[0;32m    279\u001B[0m     )\n\u001B[1;32m--> 280\u001B[0m     \u001B[38;5;28;01mraise\u001B[39;00m \u001B[38;5;167;01mModuleNotFoundError\u001B[39;00m(err_message) \u001B[38;5;28;01mfrom\u001B[39;00m \u001B[38;5;28;01mNone\u001B[39;00m\n\u001B[0;32m    282\u001B[0m \u001B[38;5;28;01mif\u001B[39;00m min_version:\n\u001B[0;32m    283\u001B[0m     min_version \u001B[38;5;241m=\u001B[39m parse_version(min_version)\n",
      "\u001B[1;31mModuleNotFoundError\u001B[0m: required package 'jax' not found.\nPlease see `https://jax.readthedocs.io/en/latest/installation.html` for specific installation recommendations for the Jax package"
     ]
    }
   ],
   "execution_count": 20
  },
  {
   "metadata": {},
   "cell_type": "code",
   "outputs": [],
   "execution_count": null,
   "source": "",
   "id": "939b947a8a73de9c"
  }
 ],
 "metadata": {
  "kernelspec": {
   "display_name": "Python 3",
   "language": "python",
   "name": "python3"
  },
  "language_info": {
   "codemirror_mode": {
    "name": "ipython",
    "version": 2
   },
   "file_extension": ".py",
   "mimetype": "text/x-python",
   "name": "python",
   "nbconvert_exporter": "python",
   "pygments_lexer": "ipython2",
   "version": "2.7.6"
  }
 },
 "nbformat": 4,
 "nbformat_minor": 5
}
