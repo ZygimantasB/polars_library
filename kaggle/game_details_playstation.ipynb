{
 "cells": [
  {
   "cell_type": "code",
   "id": "initial_id",
   "metadata": {
    "collapsed": true,
    "ExecuteTime": {
     "end_time": "2025-10-01T09:55:27.378557Z",
     "start_time": "2025-10-01T09:55:25.189711Z"
    }
   },
   "source": [
    "import numpy as np\n",
    "import polars as pl\n",
    "import polars.selectors as cs\n",
    "import matplotlib.pyplot as plt\n",
    "import seaborn as sns\n",
    "import plotly.express as px\n",
    "import plotly.graph_objects as go\n",
    "import great_tables as tg\n",
    "import altair as alt\n",
    "import datetime as dt"
   ],
   "outputs": [],
   "execution_count": 1
  },
  {
   "metadata": {
    "ExecuteTime": {
     "end_time": "2025-10-01T09:55:27.385880Z",
     "start_time": "2025-10-01T09:55:27.382683Z"
    }
   },
   "cell_type": "code",
   "source": "df_path = r\"C:\\Users\\v034\\Downloads\\archive (2)\\game_details.csv\"",
   "id": "a11f43f710d60f15",
   "outputs": [],
   "execution_count": 2
  },
  {
   "metadata": {
    "ExecuteTime": {
     "end_time": "2025-10-01T09:55:27.397054Z",
     "start_time": "2025-10-01T09:55:27.388964Z"
    }
   },
   "cell_type": "code",
   "source": "df = pl.read_csv(df_path)",
   "id": "6a635434003d6d4b",
   "outputs": [],
   "execution_count": 3
  },
  {
   "metadata": {
    "ExecuteTime": {
     "end_time": "2025-10-01T09:55:27.409078Z",
     "start_time": "2025-10-01T09:55:27.402058Z"
    }
   },
   "cell_type": "code",
   "source": "df",
   "id": "753b4f4e2f8a07e0",
   "outputs": [
    {
     "data": {
      "text/plain": [
       "shape: (3_526, 12)\n",
       "┌───────────┬───────────┬───────────┬───────────┬───┬───────────┬───────────┬───────────┬──────────┐\n",
       "│ game_name ┆ highest_p ┆ release_d ┆ genre     ┆ … ┆ metacriti ┆ metacriti ┆ playstati ┆ playstat │\n",
       "│ ---       ┆ rice      ┆ ate       ┆ ---       ┆   ┆ c_user_sc ┆ c_user_ra ┆ on_score  ┆ ion_rati │\n",
       "│ str       ┆ ---       ┆ ---       ┆ str       ┆   ┆ ore       ┆ ting_coun ┆ ---       ┆ ng_count │\n",
       "│           ┆ str       ┆ str       ┆           ┆   ┆ ---       ┆ t         ┆ str       ┆ ---      │\n",
       "│           ┆           ┆           ┆           ┆   ┆ f64       ┆ ---       ┆           ┆ f64      │\n",
       "│           ┆           ┆           ┆           ┆   ┆           ┆ f64       ┆           ┆          │\n",
       "╞═══════════╪═══════════╪═══════════╪═══════════╪═══╪═══════════╪═══════════╪═══════════╪══════════╡\n",
       "│ Grand     ┆ €24.99    ┆ Feb 15,   ┆ Action /  ┆ … ┆ 8.3       ┆ 5541.0    ┆ 4.32      ┆ 48904.0  │\n",
       "│ Theft     ┆           ┆ 2012      ┆ Shooter / ┆   ┆           ┆           ┆           ┆          │\n",
       "│ Auto IV   ┆           ┆           ┆ Racing    ┆   ┆           ┆           ┆           ┆          │\n",
       "│ Red Dead  ┆ €59.99    ┆ Oct 26,   ┆ Action /  ┆ … ┆ 8.9       ┆ 31932.0   ┆ 4.74      ┆ 379257.0 │\n",
       "│ Redemptio ┆           ┆ 2018      ┆ Adventure ┆   ┆           ┆           ┆           ┆          │\n",
       "│ n 2       ┆           ┆           ┆ / Unique  ┆   ┆           ┆           ┆           ┆          │\n",
       "│ Red Dead  ┆ €69.99    ┆ Oct 29,   ┆ Action /  ┆ … ┆ 8.9       ┆ 31932.0   ┆ 4.74      ┆ 379346.0 │\n",
       "│ Online    ┆           ┆ 2018      ┆ Adventure ┆   ┆           ┆           ┆           ┆          │\n",
       "│ Grand     ┆ €9.99     ┆ Oct 4,    ┆ --        ┆ … ┆ 8.0       ┆ 2079.0    ┆ 4.59      ┆ 1437.0   │\n",
       "│ Theft     ┆           ┆ 2012      ┆           ┆   ┆           ┆           ┆           ┆          │\n",
       "│ Auto 3    ┆           ┆           ┆           ┆   ┆           ┆           ┆           ┆          │\n",
       "│ Grand     ┆ €69.99    ┆ Sep 17,   ┆ Action /  ┆ … ┆ 8.5       ┆ 14322.0   ┆ 4.65      ┆ 40895.0  │\n",
       "│ Theft     ┆           ┆ 2013      ┆ Adventure ┆   ┆           ┆           ┆           ┆          │\n",
       "│ Auto V    ┆           ┆           ┆           ┆   ┆           ┆           ┆           ┆          │\n",
       "│ …         ┆ …         ┆ …         ┆ …         ┆ … ┆ …         ┆ …         ┆ …         ┆ …        │\n",
       "│ SENRAN    ┆ €39.99    ┆ Jan 18,   ┆ Action    ┆ … ┆ 5.6       ┆ 65.0      ┆ 4.69      ┆ 2485.0   │\n",
       "│ KAGURA    ┆           ┆ 2019      ┆           ┆   ┆           ┆           ┆           ┆          │\n",
       "│ Burst     ┆           ┆           ┆           ┆   ┆           ┆           ┆           ┆          │\n",
       "│ Re:Newal  ┆           ┆           ┆           ┆   ┆           ┆           ┆           ┆          │\n",
       "│ Smash Hit ┆ €29.99    ┆ Oct 5,    ┆ Arcade /  ┆ … ┆ null      ┆ null      ┆ 4.29      ┆ 7.0      │\n",
       "│ Plunder   ┆           ┆ 2018      ┆ Unique /  ┆   ┆           ┆           ┆           ┆          │\n",
       "│           ┆           ┆           ┆ Family    ┆   ┆           ┆           ┆           ┆          │\n",
       "│ FOX n     ┆ €19.99    ┆ May 17,   ┆ Action /  ┆ … ┆ null      ┆ null      ┆ 4.22      ┆ 50.0     │\n",
       "│ FORESTS   ┆           ┆ 2018      ┆ Role      ┆   ┆           ┆           ┆           ┆          │\n",
       "│           ┆           ┆           ┆ playing   ┆   ┆           ┆           ┆           ┆          │\n",
       "│           ┆           ┆           ┆ games / … ┆   ┆           ┆           ┆           ┆          │\n",
       "│ DYNASTY   ┆ €69.99    ┆ Mar 13,   ┆ Action    ┆ … ┆ null      ┆ null      ┆ 3.49      ┆ 12177.0  │\n",
       "│ WARRIORS  ┆           ┆ 2018      ┆           ┆   ┆           ┆           ┆           ┆          │\n",
       "│ 9         ┆           ┆           ┆           ┆   ┆           ┆           ┆           ┆          │\n",
       "│ Vostok    ┆ €14.99    ┆ Sep 22,   ┆ Action /  ┆ … ┆ null      ┆ null      ┆ 5         ┆ 1.0      │\n",
       "│ Inc.      ┆           ┆ 2017      ┆ Arcade /  ┆   ┆           ┆           ┆           ┆          │\n",
       "│           ┆           ┆           ┆ Casual    ┆   ┆           ┆           ┆           ┆          │\n",
       "└───────────┴───────────┴───────────┴───────────┴───┴───────────┴───────────┴───────────┴──────────┘"
      ],
      "text/html": [
       "<div><style>\n",
       ".dataframe > thead > tr,\n",
       ".dataframe > tbody > tr {\n",
       "  text-align: right;\n",
       "  white-space: pre-wrap;\n",
       "}\n",
       "</style>\n",
       "<small>shape: (3_526, 12)</small><table border=\"1\" class=\"dataframe\"><thead><tr><th>game_name</th><th>highest_price</th><th>release_date</th><th>genre</th><th>publisher</th><th>platform</th><th>metacritic_score</th><th>metacritic_rating_count</th><th>metacritic_user_score</th><th>metacritic_user_rating_count</th><th>playstation_score</th><th>playstation_rating_count</th></tr><tr><td>str</td><td>str</td><td>str</td><td>str</td><td>str</td><td>str</td><td>f64</td><td>f64</td><td>f64</td><td>f64</td><td>str</td><td>f64</td></tr></thead><tbody><tr><td>&quot;Grand Theft Auto IV&quot;</td><td>&quot;€24.99&quot;</td><td>&quot;Feb 15, 2012&quot;</td><td>&quot;Action / Shooter / Racing&quot;</td><td>&quot;Rockstar&quot;</td><td>&quot;PS3&quot;</td><td>98.0</td><td>86.0</td><td>8.3</td><td>5541.0</td><td>&quot;4.32&quot;</td><td>48904.0</td></tr><tr><td>&quot;Red Dead Redemption 2&quot;</td><td>&quot;€59.99&quot;</td><td>&quot;Oct 26, 2018&quot;</td><td>&quot;Action / Adventure / Unique&quot;</td><td>&quot;Rockstar Games&quot;</td><td>&quot;PS4&quot;</td><td>97.0</td><td>99.0</td><td>8.9</td><td>31932.0</td><td>&quot;4.74&quot;</td><td>379257.0</td></tr><tr><td>&quot;Red Dead Online&quot;</td><td>&quot;€69.99&quot;</td><td>&quot;Oct 29, 2018&quot;</td><td>&quot;Action / Adventure&quot;</td><td>&quot;Rockstar Games&quot;</td><td>&quot;PS4&quot;</td><td>97.0</td><td>99.0</td><td>8.9</td><td>31932.0</td><td>&quot;4.74&quot;</td><td>379346.0</td></tr><tr><td>&quot;Grand Theft Auto 3&quot;</td><td>&quot;€9.99&quot;</td><td>&quot;Oct 4, 2012&quot;</td><td>&quot;--&quot;</td><td>&quot;Rockstar Games&quot;</td><td>&quot;PS3&quot;</td><td>97.0</td><td>56.0</td><td>8.0</td><td>2079.0</td><td>&quot;4.59&quot;</td><td>1437.0</td></tr><tr><td>&quot;Grand Theft Auto V&quot;</td><td>&quot;€69.99&quot;</td><td>&quot;Sep 17, 2013&quot;</td><td>&quot;Action / Adventure&quot;</td><td>&quot;Rockstar Games&quot;</td><td>&quot;PS3&quot;</td><td>97.0</td><td>66.0</td><td>8.5</td><td>14322.0</td><td>&quot;4.65&quot;</td><td>40895.0</td></tr><tr><td>&hellip;</td><td>&hellip;</td><td>&hellip;</td><td>&hellip;</td><td>&hellip;</td><td>&hellip;</td><td>&hellip;</td><td>&hellip;</td><td>&hellip;</td><td>&hellip;</td><td>&hellip;</td><td>&hellip;</td></tr><tr><td>&quot;SENRAN KAGURA Burst Re:Newal&quot;</td><td>&quot;€39.99&quot;</td><td>&quot;Jan 18, 2019&quot;</td><td>&quot;Action&quot;</td><td>&quot;Marvelous Europe Limited&quot;</td><td>&quot;PS4&quot;</td><td>65.0</td><td>19.0</td><td>5.6</td><td>65.0</td><td>&quot;4.69&quot;</td><td>2485.0</td></tr><tr><td>&quot;Smash Hit Plunder&quot;</td><td>&quot;€29.99&quot;</td><td>&quot;Oct 5, 2018&quot;</td><td>&quot;Arcade / Unique / Family&quot;</td><td>&quot;TRIANGULAR PIXELS LTD&quot;</td><td>&quot;PS4&quot;</td><td>null</td><td>null</td><td>null</td><td>null</td><td>&quot;4.29&quot;</td><td>7.0</td></tr><tr><td>&quot;FOX n FORESTS&quot;</td><td>&quot;€19.99&quot;</td><td>&quot;May 17, 2018&quot;</td><td>&quot;Action / Role playing games / …</td><td>&quot;ASTRAGON ENTERTAINMENT GMBH&quot;</td><td>&quot;PS4&quot;</td><td>null</td><td>null</td><td>null</td><td>null</td><td>&quot;4.22&quot;</td><td>50.0</td></tr><tr><td>&quot;DYNASTY WARRIORS 9&quot;</td><td>&quot;€69.99&quot;</td><td>&quot;Mar 13, 2018&quot;</td><td>&quot;Action&quot;</td><td>&quot;Koei Tecmo Europe Ltd&quot;</td><td>&quot;PS4&quot;</td><td>null</td><td>null</td><td>null</td><td>null</td><td>&quot;3.49&quot;</td><td>12177.0</td></tr><tr><td>&quot;Vostok Inc.&quot;</td><td>&quot;€14.99&quot;</td><td>&quot;Sep 22, 2017&quot;</td><td>&quot;Action / Arcade / Casual&quot;</td><td>&quot;Badland Publishing&quot;</td><td>&quot;PS Vita&quot;</td><td>null</td><td>null</td><td>null</td><td>null</td><td>&quot;5&quot;</td><td>1.0</td></tr></tbody></table></div>"
      ]
     },
     "execution_count": 4,
     "metadata": {},
     "output_type": "execute_result"
    }
   ],
   "execution_count": 4
  },
  {
   "metadata": {
    "ExecuteTime": {
     "end_time": "2025-10-01T09:55:27.445404Z",
     "start_time": "2025-10-01T09:55:27.437404Z"
    }
   },
   "cell_type": "code",
   "source": "df.insert_column(2, pl.lit('€').alias('Currency'))",
   "id": "55e21864156325eb",
   "outputs": [
    {
     "data": {
      "text/plain": [
       "shape: (3_526, 13)\n",
       "┌───────────┬───────────┬──────────┬───────────┬───┬───────────┬───────────┬───────────┬───────────┐\n",
       "│ game_name ┆ highest_p ┆ Currency ┆ release_d ┆ … ┆ metacriti ┆ metacriti ┆ playstati ┆ playstati │\n",
       "│ ---       ┆ rice      ┆ ---      ┆ ate       ┆   ┆ c_user_sc ┆ c_user_ra ┆ on_score  ┆ on_rating │\n",
       "│ str       ┆ ---       ┆ str      ┆ ---       ┆   ┆ ore       ┆ ting_coun ┆ ---       ┆ _count    │\n",
       "│           ┆ str       ┆          ┆ str       ┆   ┆ ---       ┆ t         ┆ str       ┆ ---       │\n",
       "│           ┆           ┆          ┆           ┆   ┆ f64       ┆ ---       ┆           ┆ f64       │\n",
       "│           ┆           ┆          ┆           ┆   ┆           ┆ f64       ┆           ┆           │\n",
       "╞═══════════╪═══════════╪══════════╪═══════════╪═══╪═══════════╪═══════════╪═══════════╪═══════════╡\n",
       "│ Grand     ┆ €24.99    ┆ €        ┆ Feb 15,   ┆ … ┆ 8.3       ┆ 5541.0    ┆ 4.32      ┆ 48904.0   │\n",
       "│ Theft     ┆           ┆          ┆ 2012      ┆   ┆           ┆           ┆           ┆           │\n",
       "│ Auto IV   ┆           ┆          ┆           ┆   ┆           ┆           ┆           ┆           │\n",
       "│ Red Dead  ┆ €59.99    ┆ €        ┆ Oct 26,   ┆ … ┆ 8.9       ┆ 31932.0   ┆ 4.74      ┆ 379257.0  │\n",
       "│ Redemptio ┆           ┆          ┆ 2018      ┆   ┆           ┆           ┆           ┆           │\n",
       "│ n 2       ┆           ┆          ┆           ┆   ┆           ┆           ┆           ┆           │\n",
       "│ Red Dead  ┆ €69.99    ┆ €        ┆ Oct 29,   ┆ … ┆ 8.9       ┆ 31932.0   ┆ 4.74      ┆ 379346.0  │\n",
       "│ Online    ┆           ┆          ┆ 2018      ┆   ┆           ┆           ┆           ┆           │\n",
       "│ Grand     ┆ €9.99     ┆ €        ┆ Oct 4,    ┆ … ┆ 8.0       ┆ 2079.0    ┆ 4.59      ┆ 1437.0    │\n",
       "│ Theft     ┆           ┆          ┆ 2012      ┆   ┆           ┆           ┆           ┆           │\n",
       "│ Auto 3    ┆           ┆          ┆           ┆   ┆           ┆           ┆           ┆           │\n",
       "│ Grand     ┆ €69.99    ┆ €        ┆ Sep 17,   ┆ … ┆ 8.5       ┆ 14322.0   ┆ 4.65      ┆ 40895.0   │\n",
       "│ Theft     ┆           ┆          ┆ 2013      ┆   ┆           ┆           ┆           ┆           │\n",
       "│ Auto V    ┆           ┆          ┆           ┆   ┆           ┆           ┆           ┆           │\n",
       "│ …         ┆ …         ┆ …        ┆ …         ┆ … ┆ …         ┆ …         ┆ …         ┆ …         │\n",
       "│ SENRAN    ┆ €39.99    ┆ €        ┆ Jan 18,   ┆ … ┆ 5.6       ┆ 65.0      ┆ 4.69      ┆ 2485.0    │\n",
       "│ KAGURA    ┆           ┆          ┆ 2019      ┆   ┆           ┆           ┆           ┆           │\n",
       "│ Burst     ┆           ┆          ┆           ┆   ┆           ┆           ┆           ┆           │\n",
       "│ Re:Newal  ┆           ┆          ┆           ┆   ┆           ┆           ┆           ┆           │\n",
       "│ Smash Hit ┆ €29.99    ┆ €        ┆ Oct 5,    ┆ … ┆ null      ┆ null      ┆ 4.29      ┆ 7.0       │\n",
       "│ Plunder   ┆           ┆          ┆ 2018      ┆   ┆           ┆           ┆           ┆           │\n",
       "│ FOX n     ┆ €19.99    ┆ €        ┆ May 17,   ┆ … ┆ null      ┆ null      ┆ 4.22      ┆ 50.0      │\n",
       "│ FORESTS   ┆           ┆          ┆ 2018      ┆   ┆           ┆           ┆           ┆           │\n",
       "│ DYNASTY   ┆ €69.99    ┆ €        ┆ Mar 13,   ┆ … ┆ null      ┆ null      ┆ 3.49      ┆ 12177.0   │\n",
       "│ WARRIORS  ┆           ┆          ┆ 2018      ┆   ┆           ┆           ┆           ┆           │\n",
       "│ 9         ┆           ┆          ┆           ┆   ┆           ┆           ┆           ┆           │\n",
       "│ Vostok    ┆ €14.99    ┆ €        ┆ Sep 22,   ┆ … ┆ null      ┆ null      ┆ 5         ┆ 1.0       │\n",
       "│ Inc.      ┆           ┆          ┆ 2017      ┆   ┆           ┆           ┆           ┆           │\n",
       "└───────────┴───────────┴──────────┴───────────┴───┴───────────┴───────────┴───────────┴───────────┘"
      ],
      "text/html": [
       "<div><style>\n",
       ".dataframe > thead > tr,\n",
       ".dataframe > tbody > tr {\n",
       "  text-align: right;\n",
       "  white-space: pre-wrap;\n",
       "}\n",
       "</style>\n",
       "<small>shape: (3_526, 13)</small><table border=\"1\" class=\"dataframe\"><thead><tr><th>game_name</th><th>highest_price</th><th>Currency</th><th>release_date</th><th>genre</th><th>publisher</th><th>platform</th><th>metacritic_score</th><th>metacritic_rating_count</th><th>metacritic_user_score</th><th>metacritic_user_rating_count</th><th>playstation_score</th><th>playstation_rating_count</th></tr><tr><td>str</td><td>str</td><td>str</td><td>str</td><td>str</td><td>str</td><td>str</td><td>f64</td><td>f64</td><td>f64</td><td>f64</td><td>str</td><td>f64</td></tr></thead><tbody><tr><td>&quot;Grand Theft Auto IV&quot;</td><td>&quot;€24.99&quot;</td><td>&quot;€&quot;</td><td>&quot;Feb 15, 2012&quot;</td><td>&quot;Action / Shooter / Racing&quot;</td><td>&quot;Rockstar&quot;</td><td>&quot;PS3&quot;</td><td>98.0</td><td>86.0</td><td>8.3</td><td>5541.0</td><td>&quot;4.32&quot;</td><td>48904.0</td></tr><tr><td>&quot;Red Dead Redemption 2&quot;</td><td>&quot;€59.99&quot;</td><td>&quot;€&quot;</td><td>&quot;Oct 26, 2018&quot;</td><td>&quot;Action / Adventure / Unique&quot;</td><td>&quot;Rockstar Games&quot;</td><td>&quot;PS4&quot;</td><td>97.0</td><td>99.0</td><td>8.9</td><td>31932.0</td><td>&quot;4.74&quot;</td><td>379257.0</td></tr><tr><td>&quot;Red Dead Online&quot;</td><td>&quot;€69.99&quot;</td><td>&quot;€&quot;</td><td>&quot;Oct 29, 2018&quot;</td><td>&quot;Action / Adventure&quot;</td><td>&quot;Rockstar Games&quot;</td><td>&quot;PS4&quot;</td><td>97.0</td><td>99.0</td><td>8.9</td><td>31932.0</td><td>&quot;4.74&quot;</td><td>379346.0</td></tr><tr><td>&quot;Grand Theft Auto 3&quot;</td><td>&quot;€9.99&quot;</td><td>&quot;€&quot;</td><td>&quot;Oct 4, 2012&quot;</td><td>&quot;--&quot;</td><td>&quot;Rockstar Games&quot;</td><td>&quot;PS3&quot;</td><td>97.0</td><td>56.0</td><td>8.0</td><td>2079.0</td><td>&quot;4.59&quot;</td><td>1437.0</td></tr><tr><td>&quot;Grand Theft Auto V&quot;</td><td>&quot;€69.99&quot;</td><td>&quot;€&quot;</td><td>&quot;Sep 17, 2013&quot;</td><td>&quot;Action / Adventure&quot;</td><td>&quot;Rockstar Games&quot;</td><td>&quot;PS3&quot;</td><td>97.0</td><td>66.0</td><td>8.5</td><td>14322.0</td><td>&quot;4.65&quot;</td><td>40895.0</td></tr><tr><td>&hellip;</td><td>&hellip;</td><td>&hellip;</td><td>&hellip;</td><td>&hellip;</td><td>&hellip;</td><td>&hellip;</td><td>&hellip;</td><td>&hellip;</td><td>&hellip;</td><td>&hellip;</td><td>&hellip;</td><td>&hellip;</td></tr><tr><td>&quot;SENRAN KAGURA Burst Re:Newal&quot;</td><td>&quot;€39.99&quot;</td><td>&quot;€&quot;</td><td>&quot;Jan 18, 2019&quot;</td><td>&quot;Action&quot;</td><td>&quot;Marvelous Europe Limited&quot;</td><td>&quot;PS4&quot;</td><td>65.0</td><td>19.0</td><td>5.6</td><td>65.0</td><td>&quot;4.69&quot;</td><td>2485.0</td></tr><tr><td>&quot;Smash Hit Plunder&quot;</td><td>&quot;€29.99&quot;</td><td>&quot;€&quot;</td><td>&quot;Oct 5, 2018&quot;</td><td>&quot;Arcade / Unique / Family&quot;</td><td>&quot;TRIANGULAR PIXELS LTD&quot;</td><td>&quot;PS4&quot;</td><td>null</td><td>null</td><td>null</td><td>null</td><td>&quot;4.29&quot;</td><td>7.0</td></tr><tr><td>&quot;FOX n FORESTS&quot;</td><td>&quot;€19.99&quot;</td><td>&quot;€&quot;</td><td>&quot;May 17, 2018&quot;</td><td>&quot;Action / Role playing games / …</td><td>&quot;ASTRAGON ENTERTAINMENT GMBH&quot;</td><td>&quot;PS4&quot;</td><td>null</td><td>null</td><td>null</td><td>null</td><td>&quot;4.22&quot;</td><td>50.0</td></tr><tr><td>&quot;DYNASTY WARRIORS 9&quot;</td><td>&quot;€69.99&quot;</td><td>&quot;€&quot;</td><td>&quot;Mar 13, 2018&quot;</td><td>&quot;Action&quot;</td><td>&quot;Koei Tecmo Europe Ltd&quot;</td><td>&quot;PS4&quot;</td><td>null</td><td>null</td><td>null</td><td>null</td><td>&quot;3.49&quot;</td><td>12177.0</td></tr><tr><td>&quot;Vostok Inc.&quot;</td><td>&quot;€14.99&quot;</td><td>&quot;€&quot;</td><td>&quot;Sep 22, 2017&quot;</td><td>&quot;Action / Arcade / Casual&quot;</td><td>&quot;Badland Publishing&quot;</td><td>&quot;PS Vita&quot;</td><td>null</td><td>null</td><td>null</td><td>null</td><td>&quot;5&quot;</td><td>1.0</td></tr></tbody></table></div>"
      ]
     },
     "execution_count": 5,
     "metadata": {},
     "output_type": "execute_result"
    }
   ],
   "execution_count": 5
  },
  {
   "metadata": {
    "ExecuteTime": {
     "end_time": "2025-10-01T09:55:27.572692Z",
     "start_time": "2025-10-01T09:55:27.564704Z"
    }
   },
   "cell_type": "code",
   "source": [
    "df = df.with_columns(\n",
    "    pl.col('release_date').str.strptime(pl.Date(), format='%b %d, %Y', strict=False).alias('release_date'),\n",
    "    pl.col('highest_price').str.replace('€', ''),\n",
    ")"
   ],
   "id": "ed4d292f0313b9b",
   "outputs": [],
   "execution_count": 6
  },
  {
   "metadata": {
    "ExecuteTime": {
     "end_time": "2025-10-01T09:55:27.653053Z",
     "start_time": "2025-10-01T09:55:27.647527Z"
    }
   },
   "cell_type": "code",
   "source": [
    "df = df.with_columns(\n",
    "    pl.col('highest_price').str.replace('FREE', '0').str.replace(',', '')\n",
    ")"
   ],
   "id": "bb833024a05a7536",
   "outputs": [],
   "execution_count": 7
  },
  {
   "metadata": {
    "ExecuteTime": {
     "end_time": "2025-10-01T09:55:27.678070Z",
     "start_time": "2025-10-01T09:55:27.672065Z"
    }
   },
   "cell_type": "code",
   "source": [
    "df = df.with_columns(\n",
    "    pl.col('playstation_score').str.replace('--', '0')\n",
    ")"
   ],
   "id": "b8f54d0661092950",
   "outputs": [],
   "execution_count": 8
  },
  {
   "metadata": {
    "ExecuteTime": {
     "end_time": "2025-10-01T09:57:58.379081Z",
     "start_time": "2025-10-01T09:57:58.372845Z"
    }
   },
   "cell_type": "code",
   "source": [
    "df = df.with_columns(\n",
    "    pl.col('playstation_score').str.replace(',', '').cast(pl.Float64).alias('playstation_score'),\n",
    ")"
   ],
   "id": "776cef88c707cfc7",
   "outputs": [],
   "execution_count": 14
  },
  {
   "metadata": {
    "ExecuteTime": {
     "end_time": "2025-10-01T09:58:42.304985Z",
     "start_time": "2025-10-01T09:58:42.297570Z"
    }
   },
   "cell_type": "code",
   "source": "df",
   "id": "c60f6d501955a724",
   "outputs": [
    {
     "data": {
      "text/plain": [
       "shape: (3_526, 13)\n",
       "┌───────────┬───────────┬──────────┬───────────┬───┬───────────┬───────────┬───────────┬───────────┐\n",
       "│ game_name ┆ highest_p ┆ Currency ┆ release_d ┆ … ┆ metacriti ┆ metacriti ┆ playstati ┆ playstati │\n",
       "│ ---       ┆ rice      ┆ ---      ┆ ate       ┆   ┆ c_user_sc ┆ c_user_ra ┆ on_score  ┆ on_rating │\n",
       "│ str       ┆ ---       ┆ str      ┆ ---       ┆   ┆ ore       ┆ ting_coun ┆ ---       ┆ _count    │\n",
       "│           ┆ str       ┆          ┆ date      ┆   ┆ ---       ┆ t         ┆ f64       ┆ ---       │\n",
       "│           ┆           ┆          ┆           ┆   ┆ f64       ┆ ---       ┆           ┆ f64       │\n",
       "│           ┆           ┆          ┆           ┆   ┆           ┆ f64       ┆           ┆           │\n",
       "╞═══════════╪═══════════╪══════════╪═══════════╪═══╪═══════════╪═══════════╪═══════════╪═══════════╡\n",
       "│ Grand     ┆ 24.99     ┆ €        ┆ 2012-02-1 ┆ … ┆ 8.3       ┆ 5541.0    ┆ 4.32      ┆ 48904.0   │\n",
       "│ Theft     ┆           ┆          ┆ 5         ┆   ┆           ┆           ┆           ┆           │\n",
       "│ Auto IV   ┆           ┆          ┆           ┆   ┆           ┆           ┆           ┆           │\n",
       "│ Red Dead  ┆ 59.99     ┆ €        ┆ 2018-10-2 ┆ … ┆ 8.9       ┆ 31932.0   ┆ 4.74      ┆ 379257.0  │\n",
       "│ Redemptio ┆           ┆          ┆ 6         ┆   ┆           ┆           ┆           ┆           │\n",
       "│ n 2       ┆           ┆          ┆           ┆   ┆           ┆           ┆           ┆           │\n",
       "│ Red Dead  ┆ 69.99     ┆ €        ┆ 2018-10-2 ┆ … ┆ 8.9       ┆ 31932.0   ┆ 4.74      ┆ 379346.0  │\n",
       "│ Online    ┆           ┆          ┆ 9         ┆   ┆           ┆           ┆           ┆           │\n",
       "│ Grand     ┆ 9.99      ┆ €        ┆ 2012-10-0 ┆ … ┆ 8.0       ┆ 2079.0    ┆ 4.59      ┆ 1437.0    │\n",
       "│ Theft     ┆           ┆          ┆ 4         ┆   ┆           ┆           ┆           ┆           │\n",
       "│ Auto 3    ┆           ┆          ┆           ┆   ┆           ┆           ┆           ┆           │\n",
       "│ Grand     ┆ 69.99     ┆ €        ┆ 2013-09-1 ┆ … ┆ 8.5       ┆ 14322.0   ┆ 4.65      ┆ 40895.0   │\n",
       "│ Theft     ┆           ┆          ┆ 7         ┆   ┆           ┆           ┆           ┆           │\n",
       "│ Auto V    ┆           ┆          ┆           ┆   ┆           ┆           ┆           ┆           │\n",
       "│ …         ┆ …         ┆ …        ┆ …         ┆ … ┆ …         ┆ …         ┆ …         ┆ …         │\n",
       "│ SENRAN    ┆ 39.99     ┆ €        ┆ 2019-01-1 ┆ … ┆ 5.6       ┆ 65.0      ┆ 4.69      ┆ 2485.0    │\n",
       "│ KAGURA    ┆           ┆          ┆ 8         ┆   ┆           ┆           ┆           ┆           │\n",
       "│ Burst     ┆           ┆          ┆           ┆   ┆           ┆           ┆           ┆           │\n",
       "│ Re:Newal  ┆           ┆          ┆           ┆   ┆           ┆           ┆           ┆           │\n",
       "│ Smash Hit ┆ 29.99     ┆ €        ┆ 2018-10-0 ┆ … ┆ null      ┆ null      ┆ 4.29      ┆ 7.0       │\n",
       "│ Plunder   ┆           ┆          ┆ 5         ┆   ┆           ┆           ┆           ┆           │\n",
       "│ FOX n     ┆ 19.99     ┆ €        ┆ 2018-05-1 ┆ … ┆ null      ┆ null      ┆ 4.22      ┆ 50.0      │\n",
       "│ FORESTS   ┆           ┆          ┆ 7         ┆   ┆           ┆           ┆           ┆           │\n",
       "│ DYNASTY   ┆ 69.99     ┆ €        ┆ 2018-03-1 ┆ … ┆ null      ┆ null      ┆ 3.49      ┆ 12177.0   │\n",
       "│ WARRIORS  ┆           ┆          ┆ 3         ┆   ┆           ┆           ┆           ┆           │\n",
       "│ 9         ┆           ┆          ┆           ┆   ┆           ┆           ┆           ┆           │\n",
       "│ Vostok    ┆ 14.99     ┆ €        ┆ 2017-09-2 ┆ … ┆ null      ┆ null      ┆ 5.0       ┆ 1.0       │\n",
       "│ Inc.      ┆           ┆          ┆ 2         ┆   ┆           ┆           ┆           ┆           │\n",
       "└───────────┴───────────┴──────────┴───────────┴───┴───────────┴───────────┴───────────┴───────────┘"
      ],
      "text/html": [
       "<div><style>\n",
       ".dataframe > thead > tr,\n",
       ".dataframe > tbody > tr {\n",
       "  text-align: right;\n",
       "  white-space: pre-wrap;\n",
       "}\n",
       "</style>\n",
       "<small>shape: (3_526, 13)</small><table border=\"1\" class=\"dataframe\"><thead><tr><th>game_name</th><th>highest_price</th><th>Currency</th><th>release_date</th><th>genre</th><th>publisher</th><th>platform</th><th>metacritic_score</th><th>metacritic_rating_count</th><th>metacritic_user_score</th><th>metacritic_user_rating_count</th><th>playstation_score</th><th>playstation_rating_count</th></tr><tr><td>str</td><td>str</td><td>str</td><td>date</td><td>str</td><td>str</td><td>str</td><td>f64</td><td>f64</td><td>f64</td><td>f64</td><td>f64</td><td>f64</td></tr></thead><tbody><tr><td>&quot;Grand Theft Auto IV&quot;</td><td>&quot;24.99&quot;</td><td>&quot;€&quot;</td><td>2012-02-15</td><td>&quot;Action / Shooter / Racing&quot;</td><td>&quot;Rockstar&quot;</td><td>&quot;PS3&quot;</td><td>98.0</td><td>86.0</td><td>8.3</td><td>5541.0</td><td>4.32</td><td>48904.0</td></tr><tr><td>&quot;Red Dead Redemption 2&quot;</td><td>&quot;59.99&quot;</td><td>&quot;€&quot;</td><td>2018-10-26</td><td>&quot;Action / Adventure / Unique&quot;</td><td>&quot;Rockstar Games&quot;</td><td>&quot;PS4&quot;</td><td>97.0</td><td>99.0</td><td>8.9</td><td>31932.0</td><td>4.74</td><td>379257.0</td></tr><tr><td>&quot;Red Dead Online&quot;</td><td>&quot;69.99&quot;</td><td>&quot;€&quot;</td><td>2018-10-29</td><td>&quot;Action / Adventure&quot;</td><td>&quot;Rockstar Games&quot;</td><td>&quot;PS4&quot;</td><td>97.0</td><td>99.0</td><td>8.9</td><td>31932.0</td><td>4.74</td><td>379346.0</td></tr><tr><td>&quot;Grand Theft Auto 3&quot;</td><td>&quot;9.99&quot;</td><td>&quot;€&quot;</td><td>2012-10-04</td><td>&quot;--&quot;</td><td>&quot;Rockstar Games&quot;</td><td>&quot;PS3&quot;</td><td>97.0</td><td>56.0</td><td>8.0</td><td>2079.0</td><td>4.59</td><td>1437.0</td></tr><tr><td>&quot;Grand Theft Auto V&quot;</td><td>&quot;69.99&quot;</td><td>&quot;€&quot;</td><td>2013-09-17</td><td>&quot;Action / Adventure&quot;</td><td>&quot;Rockstar Games&quot;</td><td>&quot;PS3&quot;</td><td>97.0</td><td>66.0</td><td>8.5</td><td>14322.0</td><td>4.65</td><td>40895.0</td></tr><tr><td>&hellip;</td><td>&hellip;</td><td>&hellip;</td><td>&hellip;</td><td>&hellip;</td><td>&hellip;</td><td>&hellip;</td><td>&hellip;</td><td>&hellip;</td><td>&hellip;</td><td>&hellip;</td><td>&hellip;</td><td>&hellip;</td></tr><tr><td>&quot;SENRAN KAGURA Burst Re:Newal&quot;</td><td>&quot;39.99&quot;</td><td>&quot;€&quot;</td><td>2019-01-18</td><td>&quot;Action&quot;</td><td>&quot;Marvelous Europe Limited&quot;</td><td>&quot;PS4&quot;</td><td>65.0</td><td>19.0</td><td>5.6</td><td>65.0</td><td>4.69</td><td>2485.0</td></tr><tr><td>&quot;Smash Hit Plunder&quot;</td><td>&quot;29.99&quot;</td><td>&quot;€&quot;</td><td>2018-10-05</td><td>&quot;Arcade / Unique / Family&quot;</td><td>&quot;TRIANGULAR PIXELS LTD&quot;</td><td>&quot;PS4&quot;</td><td>null</td><td>null</td><td>null</td><td>null</td><td>4.29</td><td>7.0</td></tr><tr><td>&quot;FOX n FORESTS&quot;</td><td>&quot;19.99&quot;</td><td>&quot;€&quot;</td><td>2018-05-17</td><td>&quot;Action / Role playing games / …</td><td>&quot;ASTRAGON ENTERTAINMENT GMBH&quot;</td><td>&quot;PS4&quot;</td><td>null</td><td>null</td><td>null</td><td>null</td><td>4.22</td><td>50.0</td></tr><tr><td>&quot;DYNASTY WARRIORS 9&quot;</td><td>&quot;69.99&quot;</td><td>&quot;€&quot;</td><td>2018-03-13</td><td>&quot;Action&quot;</td><td>&quot;Koei Tecmo Europe Ltd&quot;</td><td>&quot;PS4&quot;</td><td>null</td><td>null</td><td>null</td><td>null</td><td>3.49</td><td>12177.0</td></tr><tr><td>&quot;Vostok Inc.&quot;</td><td>&quot;14.99&quot;</td><td>&quot;€&quot;</td><td>2017-09-22</td><td>&quot;Action / Arcade / Casual&quot;</td><td>&quot;Badland Publishing&quot;</td><td>&quot;PS Vita&quot;</td><td>null</td><td>null</td><td>null</td><td>null</td><td>5.0</td><td>1.0</td></tr></tbody></table></div>"
      ]
     },
     "execution_count": 15,
     "metadata": {},
     "output_type": "execute_result"
    }
   ],
   "execution_count": 15
  }
 ],
 "metadata": {
  "kernelspec": {
   "display_name": "Python 3",
   "language": "python",
   "name": "python3"
  },
  "language_info": {
   "codemirror_mode": {
    "name": "ipython",
    "version": 2
   },
   "file_extension": ".py",
   "mimetype": "text/x-python",
   "name": "python",
   "nbconvert_exporter": "python",
   "pygments_lexer": "ipython2",
   "version": "2.7.6"
  }
 },
 "nbformat": 4,
 "nbformat_minor": 5
}
